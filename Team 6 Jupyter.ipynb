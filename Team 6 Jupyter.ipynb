{
 "cells": [
  {
   "cell_type": "markdown",
   "metadata": {},
   "source": [
    "# Import a Dataset Into Jupyter"
   ]
  },
  {
   "cell_type": "markdown",
   "metadata": {},
   "source": [
    "## importing libraries…"
   ]
  },
  {
   "cell_type": "code",
   "execution_count": 10,
   "metadata": {},
   "outputs": [],
   "source": [
    "# Importing libraries\n",
    "import pandas as pd\n",
    "import numpy as np\n",
    "\n",
    "\n",
    "import matplotlib\n",
    "\n",
    "# plotly packages\n",
    "import cufflinks as cf\n",
    "import plotly\n",
    "import plotly.offline as py\n",
    "import plotly.graph_objs as go\n",
    "from plotly.offline import iplot"
   ]
  },
  {
   "cell_type": "markdown",
   "metadata": {},
   "source": [
    "## Specify URL\n",
    "\n",
    "can set limit in the url\n",
    "eg: url = 'https://data.cityofchicago.org/resource/sxs8-h27x.json?time=2019-02-26T04:20:51.000'"
   ]
  },
  {
   "cell_type": "markdown",
   "metadata": {},
   "source": [
    "can use Socrata Query Language: https://data.cityofchicago.org/resource/sxs8-h27x.json?$where=time between '2020-01-10T12:00:00' and '2021-01-10T14:00:00'\n",
    "\n",
    "HTML URL Encoding:\n",
    "| Character | From Windows-1252 | From UTF-8 |\n",
    "| --- | --- | --- |\n",
    "| space | %20 | %20 |\n",
    "| ' | %27 | %27 |\n",
    "\n",
    "url = 'https://data.cityofchicago.org/resource/sxs8-h27x.json?$where=time%20between%20%272020-01-10T12:00:00%27%20and%20%272021-01-10T14:00:00%27'"
   ]
  },
  {
   "cell_type": "code",
   "execution_count": 11,
   "metadata": {},
   "outputs": [],
   "source": [
    "url = 'https://data.cityofchicago.org/resource/sxs8-h27x.json?$where=time%20between%20%272019-02-26T00:00:00%27%20and%20%272019-02-27T00:00:00%27&segment_id=158'"
   ]
  },
  {
   "cell_type": "markdown",
   "metadata": {},
   "source": [
    "## Convert to pandas DataFrame"
   ]
  },
  {
   "cell_type": "code",
   "execution_count": 12,
   "metadata": {},
   "outputs": [],
   "source": [
    "# Convert to pandas DataFrame\n",
    "results_df = pd.read_json(url)"
   ]
  },
  {
   "cell_type": "markdown",
   "metadata": {},
   "source": [
    "view the top and bottom rows of the frame"
   ]
  },
  {
   "cell_type": "code",
   "execution_count": 13,
   "metadata": {},
   "outputs": [
    {
     "data": {
      "text/plain": [
       "Index(['time', 'segment_id', 'speed', 'street', 'direction', 'from_street',\n",
       "       'to_street', 'length', 'street_heading', 'bus_count', 'message_count',\n",
       "       'hour', 'day_of_week', 'month', 'record_id', 'start_latitude',\n",
       "       'start_longitude', 'end_latitude', 'end_longitude', 'start_location',\n",
       "       'end_location'],\n",
       "      dtype='object')"
      ]
     },
     "execution_count": 13,
     "metadata": {},
     "output_type": "execute_result"
    }
   ],
   "source": [
    "results_df.columns"
   ]
  },
  {
   "cell_type": "code",
   "execution_count": 14,
   "metadata": {},
   "outputs": [
    {
     "data": {
      "text/plain": [
       "(136, 21)"
      ]
     },
     "execution_count": 14,
     "metadata": {},
     "output_type": "execute_result"
    }
   ],
   "source": [
    "results_df.shape"
   ]
  },
  {
   "cell_type": "code",
   "execution_count": 15,
   "metadata": {},
   "outputs": [
    {
     "data": {
      "text/html": [
       "<div>\n",
       "<style scoped>\n",
       "    .dataframe tbody tr th:only-of-type {\n",
       "        vertical-align: middle;\n",
       "    }\n",
       "\n",
       "    .dataframe tbody tr th {\n",
       "        vertical-align: top;\n",
       "    }\n",
       "\n",
       "    .dataframe thead th {\n",
       "        text-align: right;\n",
       "    }\n",
       "</style>\n",
       "<table border=\"1\" class=\"dataframe\">\n",
       "  <thead>\n",
       "    <tr style=\"text-align: right;\">\n",
       "      <th></th>\n",
       "      <th>time</th>\n",
       "      <th>segment_id</th>\n",
       "      <th>speed</th>\n",
       "      <th>street</th>\n",
       "      <th>direction</th>\n",
       "      <th>from_street</th>\n",
       "      <th>to_street</th>\n",
       "      <th>length</th>\n",
       "      <th>street_heading</th>\n",
       "      <th>bus_count</th>\n",
       "      <th>...</th>\n",
       "      <th>hour</th>\n",
       "      <th>day_of_week</th>\n",
       "      <th>month</th>\n",
       "      <th>record_id</th>\n",
       "      <th>start_latitude</th>\n",
       "      <th>start_longitude</th>\n",
       "      <th>end_latitude</th>\n",
       "      <th>end_longitude</th>\n",
       "      <th>start_location</th>\n",
       "      <th>end_location</th>\n",
       "    </tr>\n",
       "  </thead>\n",
       "  <tbody>\n",
       "    <tr>\n",
       "      <th>0</th>\n",
       "      <td>2019-02-26T00:01:05.000</td>\n",
       "      <td>158</td>\n",
       "      <td>29</td>\n",
       "      <td>Ashland</td>\n",
       "      <td>SB</td>\n",
       "      <td>Fullerton</td>\n",
       "      <td>Elston</td>\n",
       "      <td>0.45</td>\n",
       "      <td>N</td>\n",
       "      <td>1</td>\n",
       "      <td>...</td>\n",
       "      <td>0</td>\n",
       "      <td>3</td>\n",
       "      <td>2</td>\n",
       "      <td>0158-201902260601</td>\n",
       "      <td>41.925153</td>\n",
       "      <td>-87.66833</td>\n",
       "      <td>41.918548</td>\n",
       "      <td>-87.668277</td>\n",
       "      <td>{'type': 'Point', 'coordinates': [-87.66832953...</td>\n",
       "      <td>{'type': 'Point', 'coordinates': [-87.66827667...</td>\n",
       "    </tr>\n",
       "    <tr>\n",
       "      <th>1</th>\n",
       "      <td>2019-02-26T00:10:17.000</td>\n",
       "      <td>158</td>\n",
       "      <td>-1</td>\n",
       "      <td>Ashland</td>\n",
       "      <td>SB</td>\n",
       "      <td>Fullerton</td>\n",
       "      <td>Elston</td>\n",
       "      <td>0.45</td>\n",
       "      <td>N</td>\n",
       "      <td>0</td>\n",
       "      <td>...</td>\n",
       "      <td>0</td>\n",
       "      <td>3</td>\n",
       "      <td>2</td>\n",
       "      <td>0158-201902260610</td>\n",
       "      <td>41.925153</td>\n",
       "      <td>-87.66833</td>\n",
       "      <td>41.918548</td>\n",
       "      <td>-87.668277</td>\n",
       "      <td>{'type': 'Point', 'coordinates': [-87.66832953...</td>\n",
       "      <td>{'type': 'Point', 'coordinates': [-87.66827667...</td>\n",
       "    </tr>\n",
       "    <tr>\n",
       "      <th>2</th>\n",
       "      <td>2019-02-26T00:20:37.000</td>\n",
       "      <td>158</td>\n",
       "      <td>33</td>\n",
       "      <td>Ashland</td>\n",
       "      <td>SB</td>\n",
       "      <td>Fullerton</td>\n",
       "      <td>Elston</td>\n",
       "      <td>0.45</td>\n",
       "      <td>N</td>\n",
       "      <td>1</td>\n",
       "      <td>...</td>\n",
       "      <td>0</td>\n",
       "      <td>3</td>\n",
       "      <td>2</td>\n",
       "      <td>0158-201902260620</td>\n",
       "      <td>41.925153</td>\n",
       "      <td>-87.66833</td>\n",
       "      <td>41.918548</td>\n",
       "      <td>-87.668277</td>\n",
       "      <td>{'type': 'Point', 'coordinates': [-87.66832953...</td>\n",
       "      <td>{'type': 'Point', 'coordinates': [-87.66827667...</td>\n",
       "    </tr>\n",
       "    <tr>\n",
       "      <th>3</th>\n",
       "      <td>2019-02-26T00:30:52.000</td>\n",
       "      <td>158</td>\n",
       "      <td>24</td>\n",
       "      <td>Ashland</td>\n",
       "      <td>SB</td>\n",
       "      <td>Fullerton</td>\n",
       "      <td>Elston</td>\n",
       "      <td>0.45</td>\n",
       "      <td>N</td>\n",
       "      <td>1</td>\n",
       "      <td>...</td>\n",
       "      <td>0</td>\n",
       "      <td>3</td>\n",
       "      <td>2</td>\n",
       "      <td>0158-201902260630</td>\n",
       "      <td>41.925153</td>\n",
       "      <td>-87.66833</td>\n",
       "      <td>41.918548</td>\n",
       "      <td>-87.668277</td>\n",
       "      <td>{'type': 'Point', 'coordinates': [-87.66832953...</td>\n",
       "      <td>{'type': 'Point', 'coordinates': [-87.66827667...</td>\n",
       "    </tr>\n",
       "    <tr>\n",
       "      <th>4</th>\n",
       "      <td>2019-02-26T00:40:03.000</td>\n",
       "      <td>158</td>\n",
       "      <td>32</td>\n",
       "      <td>Ashland</td>\n",
       "      <td>SB</td>\n",
       "      <td>Fullerton</td>\n",
       "      <td>Elston</td>\n",
       "      <td>0.45</td>\n",
       "      <td>N</td>\n",
       "      <td>1</td>\n",
       "      <td>...</td>\n",
       "      <td>0</td>\n",
       "      <td>3</td>\n",
       "      <td>2</td>\n",
       "      <td>0158-201902260640</td>\n",
       "      <td>41.925153</td>\n",
       "      <td>-87.66833</td>\n",
       "      <td>41.918548</td>\n",
       "      <td>-87.668277</td>\n",
       "      <td>{'type': 'Point', 'coordinates': [-87.66832953...</td>\n",
       "      <td>{'type': 'Point', 'coordinates': [-87.66827667...</td>\n",
       "    </tr>\n",
       "  </tbody>\n",
       "</table>\n",
       "<p>5 rows × 21 columns</p>\n",
       "</div>"
      ],
      "text/plain": [
       "                      time  segment_id  speed   street direction from_street  \\\n",
       "0  2019-02-26T00:01:05.000         158     29  Ashland        SB   Fullerton   \n",
       "1  2019-02-26T00:10:17.000         158     -1  Ashland        SB   Fullerton   \n",
       "2  2019-02-26T00:20:37.000         158     33  Ashland        SB   Fullerton   \n",
       "3  2019-02-26T00:30:52.000         158     24  Ashland        SB   Fullerton   \n",
       "4  2019-02-26T00:40:03.000         158     32  Ashland        SB   Fullerton   \n",
       "\n",
       "  to_street  length street_heading  bus_count  ...  hour  day_of_week  month  \\\n",
       "0    Elston    0.45              N          1  ...     0            3      2   \n",
       "1    Elston    0.45              N          0  ...     0            3      2   \n",
       "2    Elston    0.45              N          1  ...     0            3      2   \n",
       "3    Elston    0.45              N          1  ...     0            3      2   \n",
       "4    Elston    0.45              N          1  ...     0            3      2   \n",
       "\n",
       "           record_id start_latitude  start_longitude  end_latitude  \\\n",
       "0  0158-201902260601      41.925153        -87.66833     41.918548   \n",
       "1  0158-201902260610      41.925153        -87.66833     41.918548   \n",
       "2  0158-201902260620      41.925153        -87.66833     41.918548   \n",
       "3  0158-201902260630      41.925153        -87.66833     41.918548   \n",
       "4  0158-201902260640      41.925153        -87.66833     41.918548   \n",
       "\n",
       "   end_longitude                                     start_location  \\\n",
       "0     -87.668277  {'type': 'Point', 'coordinates': [-87.66832953...   \n",
       "1     -87.668277  {'type': 'Point', 'coordinates': [-87.66832953...   \n",
       "2     -87.668277  {'type': 'Point', 'coordinates': [-87.66832953...   \n",
       "3     -87.668277  {'type': 'Point', 'coordinates': [-87.66832953...   \n",
       "4     -87.668277  {'type': 'Point', 'coordinates': [-87.66832953...   \n",
       "\n",
       "                                        end_location  \n",
       "0  {'type': 'Point', 'coordinates': [-87.66827667...  \n",
       "1  {'type': 'Point', 'coordinates': [-87.66827667...  \n",
       "2  {'type': 'Point', 'coordinates': [-87.66827667...  \n",
       "3  {'type': 'Point', 'coordinates': [-87.66827667...  \n",
       "4  {'type': 'Point', 'coordinates': [-87.66827667...  \n",
       "\n",
       "[5 rows x 21 columns]"
      ]
     },
     "execution_count": 15,
     "metadata": {},
     "output_type": "execute_result"
    }
   ],
   "source": [
    "results_df.head()"
   ]
  },
  {
   "cell_type": "code",
   "execution_count": 16,
   "metadata": {},
   "outputs": [
    {
     "data": {
      "text/html": [
       "<div>\n",
       "<style scoped>\n",
       "    .dataframe tbody tr th:only-of-type {\n",
       "        vertical-align: middle;\n",
       "    }\n",
       "\n",
       "    .dataframe tbody tr th {\n",
       "        vertical-align: top;\n",
       "    }\n",
       "\n",
       "    .dataframe thead th {\n",
       "        text-align: right;\n",
       "    }\n",
       "</style>\n",
       "<table border=\"1\" class=\"dataframe\">\n",
       "  <thead>\n",
       "    <tr style=\"text-align: right;\">\n",
       "      <th></th>\n",
       "      <th>time</th>\n",
       "      <th>segment_id</th>\n",
       "      <th>speed</th>\n",
       "      <th>street</th>\n",
       "      <th>direction</th>\n",
       "      <th>from_street</th>\n",
       "      <th>to_street</th>\n",
       "      <th>length</th>\n",
       "      <th>street_heading</th>\n",
       "      <th>bus_count</th>\n",
       "      <th>...</th>\n",
       "      <th>hour</th>\n",
       "      <th>day_of_week</th>\n",
       "      <th>month</th>\n",
       "      <th>record_id</th>\n",
       "      <th>start_latitude</th>\n",
       "      <th>start_longitude</th>\n",
       "      <th>end_latitude</th>\n",
       "      <th>end_longitude</th>\n",
       "      <th>start_location</th>\n",
       "      <th>end_location</th>\n",
       "    </tr>\n",
       "  </thead>\n",
       "  <tbody>\n",
       "    <tr>\n",
       "      <th>131</th>\n",
       "      <td>2019-02-26T23:01:06.000</td>\n",
       "      <td>158</td>\n",
       "      <td>-1</td>\n",
       "      <td>Ashland</td>\n",
       "      <td>SB</td>\n",
       "      <td>Fullerton</td>\n",
       "      <td>Elston</td>\n",
       "      <td>0.45</td>\n",
       "      <td>N</td>\n",
       "      <td>0</td>\n",
       "      <td>...</td>\n",
       "      <td>23</td>\n",
       "      <td>3</td>\n",
       "      <td>2</td>\n",
       "      <td>0158-201902270501</td>\n",
       "      <td>41.925153</td>\n",
       "      <td>-87.66833</td>\n",
       "      <td>41.918548</td>\n",
       "      <td>-87.668277</td>\n",
       "      <td>{'type': 'Point', 'coordinates': [-87.66832953...</td>\n",
       "      <td>{'type': 'Point', 'coordinates': [-87.66827667...</td>\n",
       "    </tr>\n",
       "    <tr>\n",
       "      <th>132</th>\n",
       "      <td>2019-02-26T23:10:39.000</td>\n",
       "      <td>158</td>\n",
       "      <td>31</td>\n",
       "      <td>Ashland</td>\n",
       "      <td>SB</td>\n",
       "      <td>Fullerton</td>\n",
       "      <td>Elston</td>\n",
       "      <td>0.45</td>\n",
       "      <td>N</td>\n",
       "      <td>1</td>\n",
       "      <td>...</td>\n",
       "      <td>23</td>\n",
       "      <td>3</td>\n",
       "      <td>2</td>\n",
       "      <td>0158-201902270510</td>\n",
       "      <td>41.925153</td>\n",
       "      <td>-87.66833</td>\n",
       "      <td>41.918548</td>\n",
       "      <td>-87.668277</td>\n",
       "      <td>{'type': 'Point', 'coordinates': [-87.66832953...</td>\n",
       "      <td>{'type': 'Point', 'coordinates': [-87.66827667...</td>\n",
       "    </tr>\n",
       "    <tr>\n",
       "      <th>133</th>\n",
       "      <td>2019-02-26T23:20:35.000</td>\n",
       "      <td>158</td>\n",
       "      <td>-1</td>\n",
       "      <td>Ashland</td>\n",
       "      <td>SB</td>\n",
       "      <td>Fullerton</td>\n",
       "      <td>Elston</td>\n",
       "      <td>0.45</td>\n",
       "      <td>N</td>\n",
       "      <td>0</td>\n",
       "      <td>...</td>\n",
       "      <td>23</td>\n",
       "      <td>3</td>\n",
       "      <td>2</td>\n",
       "      <td>0158-201902270520</td>\n",
       "      <td>41.925153</td>\n",
       "      <td>-87.66833</td>\n",
       "      <td>41.918548</td>\n",
       "      <td>-87.668277</td>\n",
       "      <td>{'type': 'Point', 'coordinates': [-87.66832953...</td>\n",
       "      <td>{'type': 'Point', 'coordinates': [-87.66827667...</td>\n",
       "    </tr>\n",
       "    <tr>\n",
       "      <th>134</th>\n",
       "      <td>2019-02-26T23:30:51.000</td>\n",
       "      <td>158</td>\n",
       "      <td>23</td>\n",
       "      <td>Ashland</td>\n",
       "      <td>SB</td>\n",
       "      <td>Fullerton</td>\n",
       "      <td>Elston</td>\n",
       "      <td>0.45</td>\n",
       "      <td>N</td>\n",
       "      <td>1</td>\n",
       "      <td>...</td>\n",
       "      <td>23</td>\n",
       "      <td>3</td>\n",
       "      <td>2</td>\n",
       "      <td>0158-201902270530</td>\n",
       "      <td>41.925153</td>\n",
       "      <td>-87.66833</td>\n",
       "      <td>41.918548</td>\n",
       "      <td>-87.668277</td>\n",
       "      <td>{'type': 'Point', 'coordinates': [-87.66832953...</td>\n",
       "      <td>{'type': 'Point', 'coordinates': [-87.66827667...</td>\n",
       "    </tr>\n",
       "    <tr>\n",
       "      <th>135</th>\n",
       "      <td>2019-02-26T23:40:07.000</td>\n",
       "      <td>158</td>\n",
       "      <td>24</td>\n",
       "      <td>Ashland</td>\n",
       "      <td>SB</td>\n",
       "      <td>Fullerton</td>\n",
       "      <td>Elston</td>\n",
       "      <td>0.45</td>\n",
       "      <td>N</td>\n",
       "      <td>1</td>\n",
       "      <td>...</td>\n",
       "      <td>23</td>\n",
       "      <td>3</td>\n",
       "      <td>2</td>\n",
       "      <td>0158-201902270540</td>\n",
       "      <td>41.925153</td>\n",
       "      <td>-87.66833</td>\n",
       "      <td>41.918548</td>\n",
       "      <td>-87.668277</td>\n",
       "      <td>{'type': 'Point', 'coordinates': [-87.66832953...</td>\n",
       "      <td>{'type': 'Point', 'coordinates': [-87.66827667...</td>\n",
       "    </tr>\n",
       "  </tbody>\n",
       "</table>\n",
       "<p>5 rows × 21 columns</p>\n",
       "</div>"
      ],
      "text/plain": [
       "                        time  segment_id  speed   street direction  \\\n",
       "131  2019-02-26T23:01:06.000         158     -1  Ashland        SB   \n",
       "132  2019-02-26T23:10:39.000         158     31  Ashland        SB   \n",
       "133  2019-02-26T23:20:35.000         158     -1  Ashland        SB   \n",
       "134  2019-02-26T23:30:51.000         158     23  Ashland        SB   \n",
       "135  2019-02-26T23:40:07.000         158     24  Ashland        SB   \n",
       "\n",
       "    from_street to_street  length street_heading  bus_count  ...  hour  \\\n",
       "131   Fullerton    Elston    0.45              N          0  ...    23   \n",
       "132   Fullerton    Elston    0.45              N          1  ...    23   \n",
       "133   Fullerton    Elston    0.45              N          0  ...    23   \n",
       "134   Fullerton    Elston    0.45              N          1  ...    23   \n",
       "135   Fullerton    Elston    0.45              N          1  ...    23   \n",
       "\n",
       "     day_of_week  month          record_id start_latitude  start_longitude  \\\n",
       "131            3      2  0158-201902270501      41.925153        -87.66833   \n",
       "132            3      2  0158-201902270510      41.925153        -87.66833   \n",
       "133            3      2  0158-201902270520      41.925153        -87.66833   \n",
       "134            3      2  0158-201902270530      41.925153        -87.66833   \n",
       "135            3      2  0158-201902270540      41.925153        -87.66833   \n",
       "\n",
       "     end_latitude  end_longitude  \\\n",
       "131     41.918548     -87.668277   \n",
       "132     41.918548     -87.668277   \n",
       "133     41.918548     -87.668277   \n",
       "134     41.918548     -87.668277   \n",
       "135     41.918548     -87.668277   \n",
       "\n",
       "                                        start_location  \\\n",
       "131  {'type': 'Point', 'coordinates': [-87.66832953...   \n",
       "132  {'type': 'Point', 'coordinates': [-87.66832953...   \n",
       "133  {'type': 'Point', 'coordinates': [-87.66832953...   \n",
       "134  {'type': 'Point', 'coordinates': [-87.66832953...   \n",
       "135  {'type': 'Point', 'coordinates': [-87.66832953...   \n",
       "\n",
       "                                          end_location  \n",
       "131  {'type': 'Point', 'coordinates': [-87.66827667...  \n",
       "132  {'type': 'Point', 'coordinates': [-87.66827667...  \n",
       "133  {'type': 'Point', 'coordinates': [-87.66827667...  \n",
       "134  {'type': 'Point', 'coordinates': [-87.66827667...  \n",
       "135  {'type': 'Point', 'coordinates': [-87.66827667...  \n",
       "\n",
       "[5 rows x 21 columns]"
      ]
     },
     "execution_count": 16,
     "metadata": {},
     "output_type": "execute_result"
    }
   ],
   "source": [
    "results_df.tail()"
   ]
  },
  {
   "cell_type": "markdown",
   "metadata": {},
   "source": [
    "## Plot estimated traffic speed over time"
   ]
  },
  {
   "cell_type": "markdown",
   "metadata": {},
   "source": [
    "transform the time column into an actual date object"
   ]
  },
  {
   "cell_type": "code",
   "execution_count": 17,
   "metadata": {},
   "outputs": [],
   "source": [
    "results_df.time = pd.to_datetime(results_df.time)"
   ]
  },
  {
   "cell_type": "code",
   "execution_count": 18,
   "metadata": {},
   "outputs": [
    {
     "data": {
      "application/vnd.plotly.v1+json": {
       "config": {
        "plotlyServerURL": "https://plot.ly"
       },
       "data": [
        {
         "mode": "markers",
         "type": "scatter",
         "x": [
          "2019-02-26T00:01:05",
          "2019-02-26T00:10:17",
          "2019-02-26T00:20:37",
          "2019-02-26T00:30:52",
          "2019-02-26T00:40:03",
          "2019-02-26T00:50:18",
          "2019-02-26T01:01:05",
          "2019-02-26T01:10:16",
          "2019-02-26T01:20:55",
          "2019-02-26T01:30:54",
          "2019-02-26T01:40:04",
          "2019-02-26T01:50:19",
          "2019-02-26T02:01:06",
          "2019-02-26T02:10:16",
          "2019-02-26T02:20:52",
          "2019-02-26T02:31:08",
          "2019-02-26T02:40:06",
          "2019-02-26T02:50:20",
          "2019-02-26T03:01:12",
          "2019-02-26T03:10:27",
          "2019-02-26T03:20:41",
          "2019-02-26T03:30:58",
          "2019-02-26T03:40:06",
          "2019-02-26T03:50:25",
          "2019-02-26T04:01:24",
          "2019-02-26T04:10:19",
          "2019-02-26T04:20:42",
          "2019-02-26T04:31:05",
          "2019-02-26T04:40:29",
          "2019-02-26T04:50:21",
          "2019-02-26T05:01:18",
          "2019-02-26T05:10:22",
          "2019-02-26T05:20:44",
          "2019-02-26T05:30:57",
          "2019-02-26T05:40:14",
          "2019-02-26T05:50:23",
          "2019-02-26T06:01:15",
          "2019-02-26T06:10:24",
          "2019-02-26T06:20:53",
          "2019-02-26T06:30:54",
          "2019-02-26T06:40:14",
          "2019-02-26T06:50:31",
          "2019-02-26T07:01:11",
          "2019-02-26T07:10:33",
          "2019-02-26T07:20:53",
          "2019-02-26T07:30:55",
          "2019-02-26T07:40:19",
          "2019-02-26T07:50:23",
          "2019-02-26T08:01:09",
          "2019-02-26T08:10:29",
          "2019-02-26T08:20:45",
          "2019-02-26T08:30:56",
          "2019-02-26T08:40:12",
          "2019-02-26T08:50:24",
          "2019-02-26T09:01:16",
          "2019-02-26T09:10:23",
          "2019-02-26T09:20:46",
          "2019-02-26T09:30:53",
          "2019-02-26T09:40:09",
          "2019-02-26T09:50:24",
          "2019-02-26T10:01:11",
          "2019-02-26T10:10:20",
          "2019-02-26T10:20:40",
          "2019-02-26T10:30:54",
          "2019-02-26T10:40:08",
          "2019-02-26T10:50:21",
          "2019-02-26T11:01:07",
          "2019-02-26T11:10:22",
          "2019-02-26T11:20:43",
          "2019-02-26T11:30:53",
          "2019-02-26T11:40:07",
          "2019-02-26T11:50:20",
          "2019-02-26T12:01:12",
          "2019-02-26T12:10:21",
          "2019-02-26T12:20:41",
          "2019-02-26T12:30:52",
          "2019-02-26T12:40:09",
          "2019-02-26T12:50:19",
          "2019-02-26T13:01:09",
          "2019-02-26T13:10:21",
          "2019-02-26T13:20:48",
          "2019-02-26T13:30:51",
          "2019-02-26T13:40:08",
          "2019-02-26T13:50:18",
          "2019-02-26T14:01:08",
          "2019-02-26T14:10:24",
          "2019-02-26T14:20:42",
          "2019-02-26T14:30:57",
          "2019-02-26T14:50:22",
          "2019-02-26T15:01:10",
          "2019-02-26T15:10:25",
          "2019-02-26T15:20:51",
          "2019-02-26T15:30:59",
          "2019-02-26T15:40:10",
          "2019-02-26T15:50:27",
          "2019-02-26T16:01:19",
          "2019-02-26T16:10:24",
          "2019-02-26T16:20:46",
          "2019-02-26T16:30:56",
          "2019-02-26T16:40:15",
          "2019-02-26T16:50:24",
          "2019-02-26T17:01:13",
          "2019-02-26T17:10:23",
          "2019-02-26T17:20:46",
          "2019-02-26T17:30:55",
          "2019-02-26T17:40:11",
          "2019-02-26T17:50:28",
          "2019-02-26T18:01:11",
          "2019-02-26T18:10:21",
          "2019-02-26T18:20:42",
          "2019-02-26T18:30:57",
          "2019-02-26T18:50:24",
          "2019-02-26T19:01:19",
          "2019-02-26T19:10:22",
          "2019-02-26T19:20:48",
          "2019-02-26T19:30:54",
          "2019-02-26T19:40:05",
          "2019-02-26T19:50:20",
          "2019-02-26T20:01:06",
          "2019-02-26T20:10:21",
          "2019-02-26T20:20:38",
          "2019-02-26T20:30:51",
          "2019-02-26T20:50:18",
          "2019-02-26T21:01:09",
          "2019-02-26T21:10:22",
          "2019-02-26T21:30:51",
          "2019-02-26T21:50:21",
          "2019-02-26T22:01:08",
          "2019-02-26T22:10:19",
          "2019-02-26T22:30:53",
          "2019-02-26T22:50:19",
          "2019-02-26T23:01:06",
          "2019-02-26T23:10:39",
          "2019-02-26T23:20:35",
          "2019-02-26T23:30:51",
          "2019-02-26T23:40:07"
         ],
         "y": [
          29,
          -1,
          33,
          24,
          32,
          33,
          -1,
          26,
          24,
          23,
          23,
          24,
          -1,
          -1,
          -1,
          -1,
          -1,
          -1,
          -1,
          -1,
          -1,
          -1,
          -1,
          -1,
          -1,
          -1,
          -1,
          26,
          -1,
          20,
          27,
          27,
          23,
          29,
          25,
          30,
          19,
          19,
          24,
          21,
          27,
          24,
          20,
          26,
          20,
          31,
          20,
          27,
          24,
          27,
          27,
          20,
          23,
          24,
          -1,
          27,
          12,
          25,
          29,
          29,
          23,
          17,
          24,
          18,
          21,
          25,
          24,
          20,
          24,
          21,
          23,
          29,
          22,
          25,
          27,
          20,
          20,
          23,
          26,
          18,
          18,
          21,
          -1,
          23,
          -1,
          18,
          16,
          19,
          24,
          26,
          20,
          17,
          26,
          19,
          25,
          29,
          18,
          27,
          24,
          26,
          24,
          19,
          28,
          27,
          20,
          18,
          16,
          20,
          24,
          20,
          22,
          23,
          18,
          27,
          31,
          22,
          23,
          25,
          25,
          20,
          34,
          20,
          -1,
          20,
          24,
          22,
          18,
          20,
          -1,
          26,
          19,
          -1,
          31,
          -1,
          23,
          24
         ]
        }
       ],
       "layout": {
        "template": {
         "data": {
          "bar": [
           {
            "error_x": {
             "color": "#2a3f5f"
            },
            "error_y": {
             "color": "#2a3f5f"
            },
            "marker": {
             "line": {
              "color": "#E5ECF6",
              "width": 0.5
             },
             "pattern": {
              "fillmode": "overlay",
              "size": 10,
              "solidity": 0.2
             }
            },
            "type": "bar"
           }
          ],
          "barpolar": [
           {
            "marker": {
             "line": {
              "color": "#E5ECF6",
              "width": 0.5
             },
             "pattern": {
              "fillmode": "overlay",
              "size": 10,
              "solidity": 0.2
             }
            },
            "type": "barpolar"
           }
          ],
          "carpet": [
           {
            "aaxis": {
             "endlinecolor": "#2a3f5f",
             "gridcolor": "white",
             "linecolor": "white",
             "minorgridcolor": "white",
             "startlinecolor": "#2a3f5f"
            },
            "baxis": {
             "endlinecolor": "#2a3f5f",
             "gridcolor": "white",
             "linecolor": "white",
             "minorgridcolor": "white",
             "startlinecolor": "#2a3f5f"
            },
            "type": "carpet"
           }
          ],
          "choropleth": [
           {
            "colorbar": {
             "outlinewidth": 0,
             "ticks": ""
            },
            "type": "choropleth"
           }
          ],
          "contour": [
           {
            "colorbar": {
             "outlinewidth": 0,
             "ticks": ""
            },
            "colorscale": [
             [
              0,
              "#0d0887"
             ],
             [
              0.1111111111111111,
              "#46039f"
             ],
             [
              0.2222222222222222,
              "#7201a8"
             ],
             [
              0.3333333333333333,
              "#9c179e"
             ],
             [
              0.4444444444444444,
              "#bd3786"
             ],
             [
              0.5555555555555556,
              "#d8576b"
             ],
             [
              0.6666666666666666,
              "#ed7953"
             ],
             [
              0.7777777777777778,
              "#fb9f3a"
             ],
             [
              0.8888888888888888,
              "#fdca26"
             ],
             [
              1,
              "#f0f921"
             ]
            ],
            "type": "contour"
           }
          ],
          "contourcarpet": [
           {
            "colorbar": {
             "outlinewidth": 0,
             "ticks": ""
            },
            "type": "contourcarpet"
           }
          ],
          "heatmap": [
           {
            "colorbar": {
             "outlinewidth": 0,
             "ticks": ""
            },
            "colorscale": [
             [
              0,
              "#0d0887"
             ],
             [
              0.1111111111111111,
              "#46039f"
             ],
             [
              0.2222222222222222,
              "#7201a8"
             ],
             [
              0.3333333333333333,
              "#9c179e"
             ],
             [
              0.4444444444444444,
              "#bd3786"
             ],
             [
              0.5555555555555556,
              "#d8576b"
             ],
             [
              0.6666666666666666,
              "#ed7953"
             ],
             [
              0.7777777777777778,
              "#fb9f3a"
             ],
             [
              0.8888888888888888,
              "#fdca26"
             ],
             [
              1,
              "#f0f921"
             ]
            ],
            "type": "heatmap"
           }
          ],
          "heatmapgl": [
           {
            "colorbar": {
             "outlinewidth": 0,
             "ticks": ""
            },
            "colorscale": [
             [
              0,
              "#0d0887"
             ],
             [
              0.1111111111111111,
              "#46039f"
             ],
             [
              0.2222222222222222,
              "#7201a8"
             ],
             [
              0.3333333333333333,
              "#9c179e"
             ],
             [
              0.4444444444444444,
              "#bd3786"
             ],
             [
              0.5555555555555556,
              "#d8576b"
             ],
             [
              0.6666666666666666,
              "#ed7953"
             ],
             [
              0.7777777777777778,
              "#fb9f3a"
             ],
             [
              0.8888888888888888,
              "#fdca26"
             ],
             [
              1,
              "#f0f921"
             ]
            ],
            "type": "heatmapgl"
           }
          ],
          "histogram": [
           {
            "marker": {
             "pattern": {
              "fillmode": "overlay",
              "size": 10,
              "solidity": 0.2
             }
            },
            "type": "histogram"
           }
          ],
          "histogram2d": [
           {
            "colorbar": {
             "outlinewidth": 0,
             "ticks": ""
            },
            "colorscale": [
             [
              0,
              "#0d0887"
             ],
             [
              0.1111111111111111,
              "#46039f"
             ],
             [
              0.2222222222222222,
              "#7201a8"
             ],
             [
              0.3333333333333333,
              "#9c179e"
             ],
             [
              0.4444444444444444,
              "#bd3786"
             ],
             [
              0.5555555555555556,
              "#d8576b"
             ],
             [
              0.6666666666666666,
              "#ed7953"
             ],
             [
              0.7777777777777778,
              "#fb9f3a"
             ],
             [
              0.8888888888888888,
              "#fdca26"
             ],
             [
              1,
              "#f0f921"
             ]
            ],
            "type": "histogram2d"
           }
          ],
          "histogram2dcontour": [
           {
            "colorbar": {
             "outlinewidth": 0,
             "ticks": ""
            },
            "colorscale": [
             [
              0,
              "#0d0887"
             ],
             [
              0.1111111111111111,
              "#46039f"
             ],
             [
              0.2222222222222222,
              "#7201a8"
             ],
             [
              0.3333333333333333,
              "#9c179e"
             ],
             [
              0.4444444444444444,
              "#bd3786"
             ],
             [
              0.5555555555555556,
              "#d8576b"
             ],
             [
              0.6666666666666666,
              "#ed7953"
             ],
             [
              0.7777777777777778,
              "#fb9f3a"
             ],
             [
              0.8888888888888888,
              "#fdca26"
             ],
             [
              1,
              "#f0f921"
             ]
            ],
            "type": "histogram2dcontour"
           }
          ],
          "mesh3d": [
           {
            "colorbar": {
             "outlinewidth": 0,
             "ticks": ""
            },
            "type": "mesh3d"
           }
          ],
          "parcoords": [
           {
            "line": {
             "colorbar": {
              "outlinewidth": 0,
              "ticks": ""
             }
            },
            "type": "parcoords"
           }
          ],
          "pie": [
           {
            "automargin": true,
            "type": "pie"
           }
          ],
          "scatter": [
           {
            "fillpattern": {
             "fillmode": "overlay",
             "size": 10,
             "solidity": 0.2
            },
            "type": "scatter"
           }
          ],
          "scatter3d": [
           {
            "line": {
             "colorbar": {
              "outlinewidth": 0,
              "ticks": ""
             }
            },
            "marker": {
             "colorbar": {
              "outlinewidth": 0,
              "ticks": ""
             }
            },
            "type": "scatter3d"
           }
          ],
          "scattercarpet": [
           {
            "marker": {
             "colorbar": {
              "outlinewidth": 0,
              "ticks": ""
             }
            },
            "type": "scattercarpet"
           }
          ],
          "scattergeo": [
           {
            "marker": {
             "colorbar": {
              "outlinewidth": 0,
              "ticks": ""
             }
            },
            "type": "scattergeo"
           }
          ],
          "scattergl": [
           {
            "marker": {
             "colorbar": {
              "outlinewidth": 0,
              "ticks": ""
             }
            },
            "type": "scattergl"
           }
          ],
          "scattermapbox": [
           {
            "marker": {
             "colorbar": {
              "outlinewidth": 0,
              "ticks": ""
             }
            },
            "type": "scattermapbox"
           }
          ],
          "scatterpolar": [
           {
            "marker": {
             "colorbar": {
              "outlinewidth": 0,
              "ticks": ""
             }
            },
            "type": "scatterpolar"
           }
          ],
          "scatterpolargl": [
           {
            "marker": {
             "colorbar": {
              "outlinewidth": 0,
              "ticks": ""
             }
            },
            "type": "scatterpolargl"
           }
          ],
          "scatterternary": [
           {
            "marker": {
             "colorbar": {
              "outlinewidth": 0,
              "ticks": ""
             }
            },
            "type": "scatterternary"
           }
          ],
          "surface": [
           {
            "colorbar": {
             "outlinewidth": 0,
             "ticks": ""
            },
            "colorscale": [
             [
              0,
              "#0d0887"
             ],
             [
              0.1111111111111111,
              "#46039f"
             ],
             [
              0.2222222222222222,
              "#7201a8"
             ],
             [
              0.3333333333333333,
              "#9c179e"
             ],
             [
              0.4444444444444444,
              "#bd3786"
             ],
             [
              0.5555555555555556,
              "#d8576b"
             ],
             [
              0.6666666666666666,
              "#ed7953"
             ],
             [
              0.7777777777777778,
              "#fb9f3a"
             ],
             [
              0.8888888888888888,
              "#fdca26"
             ],
             [
              1,
              "#f0f921"
             ]
            ],
            "type": "surface"
           }
          ],
          "table": [
           {
            "cells": {
             "fill": {
              "color": "#EBF0F8"
             },
             "line": {
              "color": "white"
             }
            },
            "header": {
             "fill": {
              "color": "#C8D4E3"
             },
             "line": {
              "color": "white"
             }
            },
            "type": "table"
           }
          ]
         },
         "layout": {
          "annotationdefaults": {
           "arrowcolor": "#2a3f5f",
           "arrowhead": 0,
           "arrowwidth": 1
          },
          "autotypenumbers": "strict",
          "coloraxis": {
           "colorbar": {
            "outlinewidth": 0,
            "ticks": ""
           }
          },
          "colorscale": {
           "diverging": [
            [
             0,
             "#8e0152"
            ],
            [
             0.1,
             "#c51b7d"
            ],
            [
             0.2,
             "#de77ae"
            ],
            [
             0.3,
             "#f1b6da"
            ],
            [
             0.4,
             "#fde0ef"
            ],
            [
             0.5,
             "#f7f7f7"
            ],
            [
             0.6,
             "#e6f5d0"
            ],
            [
             0.7,
             "#b8e186"
            ],
            [
             0.8,
             "#7fbc41"
            ],
            [
             0.9,
             "#4d9221"
            ],
            [
             1,
             "#276419"
            ]
           ],
           "sequential": [
            [
             0,
             "#0d0887"
            ],
            [
             0.1111111111111111,
             "#46039f"
            ],
            [
             0.2222222222222222,
             "#7201a8"
            ],
            [
             0.3333333333333333,
             "#9c179e"
            ],
            [
             0.4444444444444444,
             "#bd3786"
            ],
            [
             0.5555555555555556,
             "#d8576b"
            ],
            [
             0.6666666666666666,
             "#ed7953"
            ],
            [
             0.7777777777777778,
             "#fb9f3a"
            ],
            [
             0.8888888888888888,
             "#fdca26"
            ],
            [
             1,
             "#f0f921"
            ]
           ],
           "sequentialminus": [
            [
             0,
             "#0d0887"
            ],
            [
             0.1111111111111111,
             "#46039f"
            ],
            [
             0.2222222222222222,
             "#7201a8"
            ],
            [
             0.3333333333333333,
             "#9c179e"
            ],
            [
             0.4444444444444444,
             "#bd3786"
            ],
            [
             0.5555555555555556,
             "#d8576b"
            ],
            [
             0.6666666666666666,
             "#ed7953"
            ],
            [
             0.7777777777777778,
             "#fb9f3a"
            ],
            [
             0.8888888888888888,
             "#fdca26"
            ],
            [
             1,
             "#f0f921"
            ]
           ]
          },
          "colorway": [
           "#636efa",
           "#EF553B",
           "#00cc96",
           "#ab63fa",
           "#FFA15A",
           "#19d3f3",
           "#FF6692",
           "#B6E880",
           "#FF97FF",
           "#FECB52"
          ],
          "font": {
           "color": "#2a3f5f"
          },
          "geo": {
           "bgcolor": "white",
           "lakecolor": "white",
           "landcolor": "#E5ECF6",
           "showlakes": true,
           "showland": true,
           "subunitcolor": "white"
          },
          "hoverlabel": {
           "align": "left"
          },
          "hovermode": "closest",
          "mapbox": {
           "style": "light"
          },
          "paper_bgcolor": "white",
          "plot_bgcolor": "#E5ECF6",
          "polar": {
           "angularaxis": {
            "gridcolor": "white",
            "linecolor": "white",
            "ticks": ""
           },
           "bgcolor": "#E5ECF6",
           "radialaxis": {
            "gridcolor": "white",
            "linecolor": "white",
            "ticks": ""
           }
          },
          "scene": {
           "xaxis": {
            "backgroundcolor": "#E5ECF6",
            "gridcolor": "white",
            "gridwidth": 2,
            "linecolor": "white",
            "showbackground": true,
            "ticks": "",
            "zerolinecolor": "white"
           },
           "yaxis": {
            "backgroundcolor": "#E5ECF6",
            "gridcolor": "white",
            "gridwidth": 2,
            "linecolor": "white",
            "showbackground": true,
            "ticks": "",
            "zerolinecolor": "white"
           },
           "zaxis": {
            "backgroundcolor": "#E5ECF6",
            "gridcolor": "white",
            "gridwidth": 2,
            "linecolor": "white",
            "showbackground": true,
            "ticks": "",
            "zerolinecolor": "white"
           }
          },
          "shapedefaults": {
           "line": {
            "color": "#2a3f5f"
           }
          },
          "ternary": {
           "aaxis": {
            "gridcolor": "white",
            "linecolor": "white",
            "ticks": ""
           },
           "baxis": {
            "gridcolor": "white",
            "linecolor": "white",
            "ticks": ""
           },
           "bgcolor": "#E5ECF6",
           "caxis": {
            "gridcolor": "white",
            "linecolor": "white",
            "ticks": ""
           }
          },
          "title": {
           "x": 0.05
          },
          "xaxis": {
           "automargin": true,
           "gridcolor": "white",
           "linecolor": "white",
           "ticks": "",
           "title": {
            "standoff": 15
           },
           "zerolinecolor": "white",
           "zerolinewidth": 2
          },
          "yaxis": {
           "automargin": true,
           "gridcolor": "white",
           "linecolor": "white",
           "ticks": "",
           "title": {
            "standoff": 15
           },
           "zerolinecolor": "white",
           "zerolinewidth": 2
          }
         }
        },
        "title": {
         "text": "Ashland 2019/02/26 estimated speed"
        },
        "xaxis": {
         "title": {
          "text": "time"
         }
        },
        "yaxis": {
         "title": {
          "text": "estimated speed"
         }
        }
       }
      }
     },
     "metadata": {},
     "output_type": "display_data"
    }
   ],
   "source": [
    "fig = go.Figure(data=go.Scatter(x=results_df.time , y=results_df.speed, mode='markers'), layout = go.Layout(title='Ashland 2019/02/26 estimated speed', xaxis_title=\"time\",yaxis_title=\"estimated speed\"))\n",
    "fig.show()"
   ]
  }
 ],
 "metadata": {
  "kernelspec": {
   "display_name": "Python 3.7.4 64-bit",
   "language": "python",
   "name": "python3"
  },
  "language_info": {
   "codemirror_mode": {
    "name": "ipython",
    "version": 3
   },
   "file_extension": ".py",
   "mimetype": "text/x-python",
   "name": "python",
   "nbconvert_exporter": "python",
   "pygments_lexer": "ipython3",
   "version": "3.7.4"
  },
  "vscode": {
   "interpreter": {
    "hash": "5109d816b82be14675a6b11f8e0f0d2e80f029176ed3710d54e125caa8520dfd"
   }
  }
 },
 "nbformat": 4,
 "nbformat_minor": 2
}
