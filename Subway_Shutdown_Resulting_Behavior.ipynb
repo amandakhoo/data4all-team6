{
 "cells": [
  {
   "cell_type": "code",
   "execution_count": 3,
   "metadata": {},
   "outputs": [],
   "source": [
    "import math\n",
    "import pandas as pd\n",
    "import numpy as np\n",
    "import matplotlib.pyplot as plt\n",
    "import seaborn as sns"
   ]
  },
  {
   "cell_type": "code",
   "execution_count": 4,
   "metadata": {},
   "outputs": [
    {
     "name": "stdout",
     "output_type": "stream",
     "text": [
      "/Users/madea/Desktop/DS4A/data/merged_RRI_SRI_data.csv\n"
     ]
    }
   ],
   "source": [
    "#Get data from file\n",
    "cwd = \"/Users/madea/Desktop/DS4A/data/\"\n",
    "filename = \"merged_RRI_SRI_data.csv\"\n",
    "filepath = cwd + filename\n",
    "print(filepath)"
   ]
  },
  {
   "cell_type": "code",
   "execution_count": 5,
   "metadata": {},
   "outputs": [],
   "source": [
    "SRI_RRI_df = pd.read_csv(filepath)\n",
    "SRI_RRI_df = SRI_RRI_df[SRI_RRI_df.notna()]"
   ]
  },
  {
   "cell_type": "code",
   "execution_count": 6,
   "metadata": {},
   "outputs": [
    {
     "name": "stdout",
     "output_type": "stream",
     "text": [
      "Number of Features: 1191\n",
      "Number of Samples:  1091\n",
      "         date  segment_1307_max_SRI  segment_873_max_SRI  segment_863_max_SRI  \\\n",
      "0  2018-03-08              3.718594             3.457253             4.562368   \n",
      "1  2018-03-09              4.522901             3.488016             2.997927   \n",
      "2  2018-03-10              6.107322             1.234070             3.085771   \n",
      "3  2018-03-11              3.873077             1.261212             6.840369   \n",
      "4  2018-03-12              5.228657             3.413127             4.470042   \n",
      "\n",
      "   segment_1061_max_SRI  segment_235_max_SRI  segment_225_max_SRI  \\\n",
      "0              0.044862             2.945760             4.199607   \n",
      "1              0.044862             2.187291             5.328785   \n",
      "2              0.044862             2.719971             5.989625   \n",
      "3              0.044862             3.189822             5.489281   \n",
      "4              0.044862             3.863130             4.415463   \n",
      "\n",
      "   segment_460_max_SRI  segment_518_max_SRI  segment_470_max_SRI  ...  \\\n",
      "0             3.028331             3.724648             4.429002  ...   \n",
      "1             3.858570             3.859563             5.073305  ...   \n",
      "2             1.741679             3.162777             4.063662  ...   \n",
      "3             1.741679             4.638495             6.471925  ...   \n",
      "4             4.612428             4.991392             4.664407  ...   \n",
      "\n",
      "   station_40840_max_RRI  station_40850_max_RRI  station_40610_max_RRI  \\\n",
      "0               0.940419               1.093750               0.635217   \n",
      "1               1.289443               2.337111               0.554911   \n",
      "2               3.112223               3.834196               3.938322   \n",
      "3               4.748849               4.101958               4.668180   \n",
      "4               1.214632               0.721219               0.674600   \n",
      "\n",
      "   station_40600_max_RRI  station_41690_max_RRI  station_41680_max_RRI  \\\n",
      "0               0.460772               1.056587               0.156348   \n",
      "1               0.626054               0.820090               1.126202   \n",
      "2               3.936778               1.876850               3.942463   \n",
      "3               4.061820               2.394439               4.565925   \n",
      "4               0.515856               1.015444               0.551766   \n",
      "\n",
      "   station_40280_max_RRI  station_40290_max_RRI  station_41200_max_RRI  \\\n",
      "0               1.037322               1.469957               1.257610   \n",
      "1               0.606894               1.308201               0.732345   \n",
      "2               3.082432               2.434927               1.473967   \n",
      "3               3.578462               3.591185               3.080530   \n",
      "4               1.174367               1.354263               0.579096   \n",
      "\n",
      "   station_41210_max_RRI  \n",
      "0               0.466765  \n",
      "1               0.975567  \n",
      "2               3.281961  \n",
      "3               4.589329  \n",
      "4               0.477413  \n",
      "\n",
      "[5 rows x 1191 columns]\n"
     ]
    }
   ],
   "source": [
    "print(\"Number of Features:\", len(SRI_RRI_df.columns))\n",
    "print(\"Number of Samples: \", len(SRI_RRI_df.index))\n",
    "print(SRI_RRI_df.head(5))"
   ]
  },
  {
   "cell_type": "markdown",
   "metadata": {},
   "source": [
    "Considering each segment of the road and station of the subway as the feature. Sample points are respectively SRI and RRI for given day, date in time."
   ]
  },
  {
   "cell_type": "code",
   "execution_count": 30,
   "metadata": {},
   "outputs": [
    {
     "name": "stdout",
     "output_type": "stream",
     "text": [
      "Index(['date', 'segment_1307_max_SRI', 'segment_873_max_SRI',\n",
      "       'segment_863_max_SRI', 'segment_1061_max_SRI', 'segment_235_max_SRI',\n",
      "       'segment_225_max_SRI', 'segment_460_max_SRI', 'segment_518_max_SRI',\n",
      "       'segment_470_max_SRI',\n",
      "       ...\n",
      "       'station_40840_max_RRI', 'station_40850_max_RRI',\n",
      "       'station_40610_max_RRI', 'station_40600_max_RRI',\n",
      "       'station_41690_max_RRI', 'station_41680_max_RRI',\n",
      "       'station_40280_max_RRI', 'station_40290_max_RRI',\n",
      "       'station_41200_max_RRI', 'station_41210_max_RRI'],\n",
      "      dtype='object', length=1191)\n",
      "[[ 3.71859434  3.45725327  4.56236783 ...  1.46995743  1.25760969\n",
      "   0.46676522]\n",
      " [ 4.52290077  3.4880156   2.99792708 ...  1.30820061  0.73234454\n",
      "   0.97556654]\n",
      " [ 6.10732158  1.23406956  3.08577103 ...  2.43492688  1.47396656\n",
      "   3.28196059]\n",
      " ...\n",
      " [ 5.00027527  1.26121192  3.07582245 ... -1.14913715 -1.13862284\n",
      "  -1.94974363]\n",
      " [ 5.1207392   1.3205983   1.99847392 ...  2.28822288  1.41131448\n",
      "   2.69400324]\n",
      " [ 3.48198141  1.71525511  1.77454611 ...  2.6883569   1.86503962\n",
      "   3.39012931]]\n"
     ]
    }
   ],
   "source": [
    "from sklearn.preprocessing import StandardScaler\n",
    "from sklearn.decomposition import PCA\n",
    "\n",
    "copy_df = SRI_RRI_df.copy(deep=True)\n",
    "copy_df = copy_df.fillna(0)\n",
    "\n",
    "# train_percent = 0.7\n",
    "# total_num_samples = len(copy_df.index)\n",
    "# train_samples = math.ceil(train_percent * total_num_samples)\n",
    "\n",
    "# train_df = copy_df[0:train_samples].copy(deep=True)\n",
    "\n",
    "features = copy_df.columns[copy_df.columns != 'date']\n",
    "\n",
    "# train_df = train_df.dropna()\n",
    "x = copy_df.loc[:, features].values\n",
    "y = copy_df.loc[:,['date']].values\n",
    "\n",
    "print(copy_df.columns)\n",
    "print(x)\n",
    "\n",
    "X = StandardScaler().fit_transform(x)\n"
   ]
  },
  {
   "cell_type": "code",
   "execution_count": 41,
   "metadata": {},
   "outputs": [
    {
     "name": "stdout",
     "output_type": "stream",
     "text": [
      "PCA Explained Variance Ratio: [0.11049072 0.08191194]\n",
      "PCA Singular Values: [378.26889848 325.69519219]\n"
     ]
    }
   ],
   "source": [
    "num_components = 2\n",
    "pca = PCA(n_components = num_components)\n",
    "principalComponents = pca.fit_transform(X)\n",
    "\n",
    "\n",
    "print(\"PCA Explained Variance Ratio:\", pca.explained_variance_ratio_)\n",
    "print(\"PCA Singular Values:\", pca.singular_values_)"
   ]
  },
  {
   "cell_type": "code",
   "execution_count": 53,
   "metadata": {},
   "outputs": [
    {
     "name": "stdout",
     "output_type": "stream",
     "text": [
      "        pc1        pc2        date\n",
      "0 -9.296984  -3.748080  2018-03-08\n",
      "1 -7.589957  -4.760699  2018-03-09\n",
      "2  3.523980 -13.698625  2018-03-10\n",
      "3  5.665600 -21.936094  2018-03-11\n",
      "4 -9.002845  -3.056505  2018-03-12\n"
     ]
    }
   ],
   "source": [
    "PCA_df = pd.DataFrame(data = principalComponents,\n",
    "                      columns = ['pc1', 'pc2'])\n",
    "PCA_df['date'] = y\n",
    "print(PCA_df.head(5))"
   ]
  },
  {
   "cell_type": "markdown",
   "metadata": {},
   "source": [
    "## Using Plotly vs. Seaborn"
   ]
  },
  {
   "cell_type": "markdown",
   "metadata": {},
   "source": [
    "Plotly is an interactive map. Can hover over each point to get information on pc1, pc2, and date values."
   ]
  },
  {
   "cell_type": "code",
   "execution_count": 63,
   "metadata": {},
   "outputs": [
    {
     "data": {
      "application/vnd.plotly.v1+json": {
       "config": {
        "plotlyServerURL": "https://plot.ly"
       },
       "data": [
        {
         "hovertemplate": "date=2018-03-08<br>pc1=%{x}<br>pc2=%{y}<extra></extra>",
         "legendgroup": "2018-03-08",
         "marker": {
          "color": "#636efa",
          "symbol": "circle"
         },
         "mode": "markers",
         "name": "2018-03-08",
         "showlegend": true,
         "type": "scattergl",
         "x": [
          -9.296983984390952
         ],
         "xaxis": "x",
         "y": [
          -3.748079812835085
         ],
         "yaxis": "y"
        },
        {
         "hovertemplate": "date=2018-03-09<br>pc1=%{x}<br>pc2=%{y}<extra></extra>",
         "legendgroup": "2018-03-09",
         "marker": {
          "color": "#EF553B",
          "symbol": "circle"
         },
         "mode": "markers",
         "name": "2018-03-09",
         "showlegend": true,
         "type": "scattergl",
         "x": [
          -7.589957212477195
         ],
         "xaxis": "x",
         "y": [
          -4.760699431713608
         ],
         "yaxis": "y"
        },
        {
         "hovertemplate": "date=2018-03-10<br>pc1=%{x}<br>pc2=%{y}<extra></extra>",
         "legendgroup": "2018-03-10",
         "marker": {
          "color": "#00cc96",
          "symbol": "circle"
         },
         "mode": "markers",
         "name": "2018-03-10",
         "showlegend": true,
         "type": "scattergl",
         "x": [
          3.523980172676382
         ],
         "xaxis": "x",
         "y": [
          -13.69862530626849
         ],
         "yaxis": "y"
        },
        {
         "hovertemplate": "date=2018-03-11<br>pc1=%{x}<br>pc2=%{y}<extra></extra>",
         "legendgroup": "2018-03-11",
         "marker": {
          "color": "#ab63fa",
          "symbol": "circle"
         },
         "mode": "markers",
         "name": "2018-03-11",
         "showlegend": true,
         "type": "scattergl",
         "x": [
          5.665600242485226
         ],
         "xaxis": "x",
         "y": [
          -21.93609421105378
         ],
         "yaxis": "y"
        },
        {
         "hovertemplate": "date=2018-03-12<br>pc1=%{x}<br>pc2=%{y}<extra></extra>",
         "legendgroup": "2018-03-12",
         "marker": {
          "color": "#FFA15A",
          "symbol": "circle"
         },
         "mode": "markers",
         "name": "2018-03-12",
         "showlegend": true,
         "type": "scattergl",
         "x": [
          -9.00284521307426
         ],
         "xaxis": "x",
         "y": [
          -3.056504684409159
         ],
         "yaxis": "y"
        },
        {
         "hovertemplate": "date=2018-03-13<br>pc1=%{x}<br>pc2=%{y}<extra></extra>",
         "legendgroup": "2018-03-13",
         "marker": {
          "color": "#19d3f3",
          "symbol": "circle"
         },
         "mode": "markers",
         "name": "2018-03-13",
         "showlegend": true,
         "type": "scattergl",
         "x": [
          -8.166343242777376
         ],
         "xaxis": "x",
         "y": [
          -5.156900539534067
         ],
         "yaxis": "y"
        },
        {
         "hovertemplate": "date=2018-03-14<br>pc1=%{x}<br>pc2=%{y}<extra></extra>",
         "legendgroup": "2018-03-14",
         "marker": {
          "color": "#FF6692",
          "symbol": "circle"
         },
         "mode": "markers",
         "name": "2018-03-14",
         "showlegend": true,
         "type": "scattergl",
         "x": [
          -8.482579071378774
         ],
         "xaxis": "x",
         "y": [
          -7.1858458760579005
         ],
         "yaxis": "y"
        },
        {
         "hovertemplate": "date=2018-03-15<br>pc1=%{x}<br>pc2=%{y}<extra></extra>",
         "legendgroup": "2018-03-15",
         "marker": {
          "color": "#B6E880",
          "symbol": "circle"
         },
         "mode": "markers",
         "name": "2018-03-15",
         "showlegend": true,
         "type": "scattergl",
         "x": [
          -6.914633943473517
         ],
         "xaxis": "x",
         "y": [
          -4.234052389881642
         ],
         "yaxis": "y"
        },
        {
         "hovertemplate": "date=2018-03-16<br>pc1=%{x}<br>pc2=%{y}<extra></extra>",
         "legendgroup": "2018-03-16",
         "marker": {
          "color": "#FF97FF",
          "symbol": "circle"
         },
         "mode": "markers",
         "name": "2018-03-16",
         "showlegend": true,
         "type": "scattergl",
         "x": [
          -7.196086165296461
         ],
         "xaxis": "x",
         "y": [
          -9.11997745981744
         ],
         "yaxis": "y"
        },
        {
         "hovertemplate": "date=2018-03-17<br>pc1=%{x}<br>pc2=%{y}<extra></extra>",
         "legendgroup": "2018-03-17",
         "marker": {
          "color": "#FECB52",
          "symbol": "circle"
         },
         "mode": "markers",
         "name": "2018-03-17",
         "showlegend": true,
         "type": "scattergl",
         "x": [
          -10.241145976190337
         ],
         "xaxis": "x",
         "y": [
          -5.787368110302622
         ],
         "yaxis": "y"
        },
        {
         "hovertemplate": "date=2018-03-18<br>pc1=%{x}<br>pc2=%{y}<extra></extra>",
         "legendgroup": "2018-03-18",
         "marker": {
          "color": "#636efa",
          "symbol": "circle"
         },
         "mode": "markers",
         "name": "2018-03-18",
         "showlegend": true,
         "type": "scattergl",
         "x": [
          9.863531813081947
         ],
         "xaxis": "x",
         "y": [
          -13.179073741448093
         ],
         "yaxis": "y"
        },
        {
         "hovertemplate": "date=2018-03-19<br>pc1=%{x}<br>pc2=%{y}<extra></extra>",
         "legendgroup": "2018-03-19",
         "marker": {
          "color": "#EF553B",
          "symbol": "circle"
         },
         "mode": "markers",
         "name": "2018-03-19",
         "showlegend": true,
         "type": "scattergl",
         "x": [
          -8.32060121585375
         ],
         "xaxis": "x",
         "y": [
          -7.83069920239945
         ],
         "yaxis": "y"
        },
        {
         "hovertemplate": "date=2018-03-20<br>pc1=%{x}<br>pc2=%{y}<extra></extra>",
         "legendgroup": "2018-03-20",
         "marker": {
          "color": "#00cc96",
          "symbol": "circle"
         },
         "mode": "markers",
         "name": "2018-03-20",
         "showlegend": true,
         "type": "scattergl",
         "x": [
          -4.14890800144286
         ],
         "xaxis": "x",
         "y": [
          -7.6902213480180865
         ],
         "yaxis": "y"
        },
        {
         "hovertemplate": "date=2018-03-21<br>pc1=%{x}<br>pc2=%{y}<extra></extra>",
         "legendgroup": "2018-03-21",
         "marker": {
          "color": "#ab63fa",
          "symbol": "circle"
         },
         "mode": "markers",
         "name": "2018-03-21",
         "showlegend": true,
         "type": "scattergl",
         "x": [
          -8.301810657564845
         ],
         "xaxis": "x",
         "y": [
          -4.911540173638163
         ],
         "yaxis": "y"
        },
        {
         "hovertemplate": "date=2018-03-22<br>pc1=%{x}<br>pc2=%{y}<extra></extra>",
         "legendgroup": "2018-03-22",
         "marker": {
          "color": "#FFA15A",
          "symbol": "circle"
         },
         "mode": "markers",
         "name": "2018-03-22",
         "showlegend": true,
         "type": "scattergl",
         "x": [
          -12.28277745928106
         ],
         "xaxis": "x",
         "y": [
          -9.686023321830119
         ],
         "yaxis": "y"
        },
        {
         "hovertemplate": "date=2018-03-23<br>pc1=%{x}<br>pc2=%{y}<extra></extra>",
         "legendgroup": "2018-03-23",
         "marker": {
          "color": "#19d3f3",
          "symbol": "circle"
         },
         "mode": "markers",
         "name": "2018-03-23",
         "showlegend": true,
         "type": "scattergl",
         "x": [
          -7.251066608009387
         ],
         "xaxis": "x",
         "y": [
          -3.610416371555932
         ],
         "yaxis": "y"
        },
        {
         "hovertemplate": "date=2018-03-24<br>pc1=%{x}<br>pc2=%{y}<extra></extra>",
         "legendgroup": "2018-03-24",
         "marker": {
          "color": "#FF6692",
          "symbol": "circle"
         },
         "mode": "markers",
         "name": "2018-03-24",
         "showlegend": true,
         "type": "scattergl",
         "x": [
          0.40695207520332405
         ],
         "xaxis": "x",
         "y": [
          -15.174086719625866
         ],
         "yaxis": "y"
        },
        {
         "hovertemplate": "date=2018-03-25<br>pc1=%{x}<br>pc2=%{y}<extra></extra>",
         "legendgroup": "2018-03-25",
         "marker": {
          "color": "#B6E880",
          "symbol": "circle"
         },
         "mode": "markers",
         "name": "2018-03-25",
         "showlegend": true,
         "type": "scattergl",
         "x": [
          6.567725328165809
         ],
         "xaxis": "x",
         "y": [
          -8.777777229614388
         ],
         "yaxis": "y"
        },
        {
         "hovertemplate": "date=2018-03-26<br>pc1=%{x}<br>pc2=%{y}<extra></extra>",
         "legendgroup": "2018-03-26",
         "marker": {
          "color": "#FF97FF",
          "symbol": "circle"
         },
         "mode": "markers",
         "name": "2018-03-26",
         "showlegend": true,
         "type": "scattergl",
         "x": [
          -3.3623284860101665
         ],
         "xaxis": "x",
         "y": [
          -0.5127646394058086
         ],
         "yaxis": "y"
        },
        {
         "hovertemplate": "date=2018-03-27<br>pc1=%{x}<br>pc2=%{y}<extra></extra>",
         "legendgroup": "2018-03-27",
         "marker": {
          "color": "#FECB52",
          "symbol": "circle"
         },
         "mode": "markers",
         "name": "2018-03-27",
         "showlegend": true,
         "type": "scattergl",
         "x": [
          -7.204678365453582
         ],
         "xaxis": "x",
         "y": [
          -6.327073988143227
         ],
         "yaxis": "y"
        },
        {
         "hovertemplate": "date=2018-03-28<br>pc1=%{x}<br>pc2=%{y}<extra></extra>",
         "legendgroup": "2018-03-28",
         "marker": {
          "color": "#636efa",
          "symbol": "circle"
         },
         "mode": "markers",
         "name": "2018-03-28",
         "showlegend": true,
         "type": "scattergl",
         "x": [
          -5.608587500190285
         ],
         "xaxis": "x",
         "y": [
          1.029627735765641
         ],
         "yaxis": "y"
        },
        {
         "hovertemplate": "date=2018-03-29<br>pc1=%{x}<br>pc2=%{y}<extra></extra>",
         "legendgroup": "2018-03-29",
         "marker": {
          "color": "#EF553B",
          "symbol": "circle"
         },
         "mode": "markers",
         "name": "2018-03-29",
         "showlegend": true,
         "type": "scattergl",
         "x": [
          -6.723693897617581
         ],
         "xaxis": "x",
         "y": [
          -3.503516999438474
         ],
         "yaxis": "y"
        },
        {
         "hovertemplate": "date=2018-03-30<br>pc1=%{x}<br>pc2=%{y}<extra></extra>",
         "legendgroup": "2018-03-30",
         "marker": {
          "color": "#00cc96",
          "symbol": "circle"
         },
         "mode": "markers",
         "name": "2018-03-30",
         "showlegend": true,
         "type": "scattergl",
         "x": [
          0.6218362197929331
         ],
         "xaxis": "x",
         "y": [
          -5.863832425388466
         ],
         "yaxis": "y"
        },
        {
         "hovertemplate": "date=2018-03-31<br>pc1=%{x}<br>pc2=%{y}<extra></extra>",
         "legendgroup": "2018-03-31",
         "marker": {
          "color": "#ab63fa",
          "symbol": "circle"
         },
         "mode": "markers",
         "name": "2018-03-31",
         "showlegend": true,
         "type": "scattergl",
         "x": [
          5.477382000027388
         ],
         "xaxis": "x",
         "y": [
          -8.704435084135266
         ],
         "yaxis": "y"
        },
        {
         "hovertemplate": "date=2018-04-01<br>pc1=%{x}<br>pc2=%{y}<extra></extra>",
         "legendgroup": "2018-04-01",
         "marker": {
          "color": "#FFA15A",
          "symbol": "circle"
         },
         "mode": "markers",
         "name": "2018-04-01",
         "showlegend": true,
         "type": "scattergl",
         "x": [
          7.22695404759753
         ],
         "xaxis": "x",
         "y": [
          -17.906956849664375
         ],
         "yaxis": "y"
        },
        {
         "hovertemplate": "date=2018-04-02<br>pc1=%{x}<br>pc2=%{y}<extra></extra>",
         "legendgroup": "2018-04-02",
         "marker": {
          "color": "#19d3f3",
          "symbol": "circle"
         },
         "mode": "markers",
         "name": "2018-04-02",
         "showlegend": true,
         "type": "scattergl",
         "x": [
          -8.16556637103876
         ],
         "xaxis": "x",
         "y": [
          0.03831531586679342
         ],
         "yaxis": "y"
        },
        {
         "hovertemplate": "date=2018-04-03<br>pc1=%{x}<br>pc2=%{y}<extra></extra>",
         "legendgroup": "2018-04-03",
         "marker": {
          "color": "#FF6692",
          "symbol": "circle"
         },
         "mode": "markers",
         "name": "2018-04-03",
         "showlegend": true,
         "type": "scattergl",
         "x": [
          -8.761575071118605
         ],
         "xaxis": "x",
         "y": [
          -4.204481965159544
         ],
         "yaxis": "y"
        },
        {
         "hovertemplate": "date=2018-04-04<br>pc1=%{x}<br>pc2=%{y}<extra></extra>",
         "legendgroup": "2018-04-04",
         "marker": {
          "color": "#B6E880",
          "symbol": "circle"
         },
         "mode": "markers",
         "name": "2018-04-04",
         "showlegend": true,
         "type": "scattergl",
         "x": [
          -9.05310095322796
         ],
         "xaxis": "x",
         "y": [
          -2.785024571765481
         ],
         "yaxis": "y"
        },
        {
         "hovertemplate": "date=2018-04-05<br>pc1=%{x}<br>pc2=%{y}<extra></extra>",
         "legendgroup": "2018-04-05",
         "marker": {
          "color": "#FF97FF",
          "symbol": "circle"
         },
         "mode": "markers",
         "name": "2018-04-05",
         "showlegend": true,
         "type": "scattergl",
         "x": [
          -8.484250417005793
         ],
         "xaxis": "x",
         "y": [
          -0.47855483236479757
         ],
         "yaxis": "y"
        },
        {
         "hovertemplate": "date=2018-04-06<br>pc1=%{x}<br>pc2=%{y}<extra></extra>",
         "legendgroup": "2018-04-06",
         "marker": {
          "color": "#FECB52",
          "symbol": "circle"
         },
         "mode": "markers",
         "name": "2018-04-06",
         "showlegend": true,
         "type": "scattergl",
         "x": [
          -10.85358460499481
         ],
         "xaxis": "x",
         "y": [
          -9.314140477468815
         ],
         "yaxis": "y"
        },
        {
         "hovertemplate": "date=2018-04-07<br>pc1=%{x}<br>pc2=%{y}<extra></extra>",
         "legendgroup": "2018-04-07",
         "marker": {
          "color": "#636efa",
          "symbol": "circle"
         },
         "mode": "markers",
         "name": "2018-04-07",
         "showlegend": true,
         "type": "scattergl",
         "x": [
          4.6162347826748755
         ],
         "xaxis": "x",
         "y": [
          -10.07599046174035
         ],
         "yaxis": "y"
        },
        {
         "hovertemplate": "date=2018-04-08<br>pc1=%{x}<br>pc2=%{y}<extra></extra>",
         "legendgroup": "2018-04-08",
         "marker": {
          "color": "#EF553B",
          "symbol": "circle"
         },
         "mode": "markers",
         "name": "2018-04-08",
         "showlegend": true,
         "type": "scattergl",
         "x": [
          11.29477897438325
         ],
         "xaxis": "x",
         "y": [
          -12.961574577161146
         ],
         "yaxis": "y"
        },
        {
         "hovertemplate": "date=2018-04-09<br>pc1=%{x}<br>pc2=%{y}<extra></extra>",
         "legendgroup": "2018-04-09",
         "marker": {
          "color": "#00cc96",
          "symbol": "circle"
         },
         "mode": "markers",
         "name": "2018-04-09",
         "showlegend": true,
         "type": "scattergl",
         "x": [
          -9.384882616326424
         ],
         "xaxis": "x",
         "y": [
          -8.064162538239165
         ],
         "yaxis": "y"
        },
        {
         "hovertemplate": "date=2018-04-10<br>pc1=%{x}<br>pc2=%{y}<extra></extra>",
         "legendgroup": "2018-04-10",
         "marker": {
          "color": "#ab63fa",
          "symbol": "circle"
         },
         "mode": "markers",
         "name": "2018-04-10",
         "showlegend": true,
         "type": "scattergl",
         "x": [
          -7.712119668913045
         ],
         "xaxis": "x",
         "y": [
          -3.51001434911328
         ],
         "yaxis": "y"
        },
        {
         "hovertemplate": "date=2018-04-11<br>pc1=%{x}<br>pc2=%{y}<extra></extra>",
         "legendgroup": "2018-04-11",
         "marker": {
          "color": "#FFA15A",
          "symbol": "circle"
         },
         "mode": "markers",
         "name": "2018-04-11",
         "showlegend": true,
         "type": "scattergl",
         "x": [
          -13.71541139810779
         ],
         "xaxis": "x",
         "y": [
          -4.567568856329883
         ],
         "yaxis": "y"
        },
        {
         "hovertemplate": "date=2018-04-12<br>pc1=%{x}<br>pc2=%{y}<extra></extra>",
         "legendgroup": "2018-04-12",
         "marker": {
          "color": "#19d3f3",
          "symbol": "circle"
         },
         "mode": "markers",
         "name": "2018-04-12",
         "showlegend": true,
         "type": "scattergl",
         "x": [
          -12.724990864433604
         ],
         "xaxis": "x",
         "y": [
          -1.4716606692264713
         ],
         "yaxis": "y"
        },
        {
         "hovertemplate": "date=2018-04-13<br>pc1=%{x}<br>pc2=%{y}<extra></extra>",
         "legendgroup": "2018-04-13",
         "marker": {
          "color": "#FF6692",
          "symbol": "circle"
         },
         "mode": "markers",
         "name": "2018-04-13",
         "showlegend": true,
         "type": "scattergl",
         "x": [
          -3.1952338205780255
         ],
         "xaxis": "x",
         "y": [
          -2.440173525822397
         ],
         "yaxis": "y"
        },
        {
         "hovertemplate": "date=2018-04-14<br>pc1=%{x}<br>pc2=%{y}<extra></extra>",
         "legendgroup": "2018-04-14",
         "marker": {
          "color": "#B6E880",
          "symbol": "circle"
         },
         "mode": "markers",
         "name": "2018-04-14",
         "showlegend": true,
         "type": "scattergl",
         "x": [
          8.85849048596672
         ],
         "xaxis": "x",
         "y": [
          -12.10630363771273
         ],
         "yaxis": "y"
        },
        {
         "hovertemplate": "date=2018-04-15<br>pc1=%{x}<br>pc2=%{y}<extra></extra>",
         "legendgroup": "2018-04-15",
         "marker": {
          "color": "#FF97FF",
          "symbol": "circle"
         },
         "mode": "markers",
         "name": "2018-04-15",
         "showlegend": true,
         "type": "scattergl",
         "x": [
          40.6791993636479
         ],
         "xaxis": "x",
         "y": [
          32.796860388228396
         ],
         "yaxis": "y"
        },
        {
         "hovertemplate": "date=2018-04-16<br>pc1=%{x}<br>pc2=%{y}<extra></extra>",
         "legendgroup": "2018-04-16",
         "marker": {
          "color": "#FECB52",
          "symbol": "circle"
         },
         "mode": "markers",
         "name": "2018-04-16",
         "showlegend": true,
         "type": "scattergl",
         "x": [
          0.614270836839524
         ],
         "xaxis": "x",
         "y": [
          12.211550144931856
         ],
         "yaxis": "y"
        },
        {
         "hovertemplate": "date=2018-04-17<br>pc1=%{x}<br>pc2=%{y}<extra></extra>",
         "legendgroup": "2018-04-17",
         "marker": {
          "color": "#636efa",
          "symbol": "circle"
         },
         "mode": "markers",
         "name": "2018-04-17",
         "showlegend": true,
         "type": "scattergl",
         "x": [
          -13.318302137577104
         ],
         "xaxis": "x",
         "y": [
          -6.207480805487629
         ],
         "yaxis": "y"
        },
        {
         "hovertemplate": "date=2018-04-18<br>pc1=%{x}<br>pc2=%{y}<extra></extra>",
         "legendgroup": "2018-04-18",
         "marker": {
          "color": "#EF553B",
          "symbol": "circle"
         },
         "mode": "markers",
         "name": "2018-04-18",
         "showlegend": true,
         "type": "scattergl",
         "x": [
          -5.366142037704682
         ],
         "xaxis": "x",
         "y": [
          -1.1245029358344867
         ],
         "yaxis": "y"
        },
        {
         "hovertemplate": "date=2018-04-19<br>pc1=%{x}<br>pc2=%{y}<extra></extra>",
         "legendgroup": "2018-04-19",
         "marker": {
          "color": "#00cc96",
          "symbol": "circle"
         },
         "mode": "markers",
         "name": "2018-04-19",
         "showlegend": true,
         "type": "scattergl",
         "x": [
          -8.686496240593453
         ],
         "xaxis": "x",
         "y": [
          -4.400481876852246
         ],
         "yaxis": "y"
        },
        {
         "hovertemplate": "date=2018-04-20<br>pc1=%{x}<br>pc2=%{y}<extra></extra>",
         "legendgroup": "2018-04-20",
         "marker": {
          "color": "#ab63fa",
          "symbol": "circle"
         },
         "mode": "markers",
         "name": "2018-04-20",
         "showlegend": true,
         "type": "scattergl",
         "x": [
          -13.163221220914902
         ],
         "xaxis": "x",
         "y": [
          -10.019240230030764
         ],
         "yaxis": "y"
        },
        {
         "hovertemplate": "date=2018-04-21<br>pc1=%{x}<br>pc2=%{y}<extra></extra>",
         "legendgroup": "2018-04-21",
         "marker": {
          "color": "#FFA15A",
          "symbol": "circle"
         },
         "mode": "markers",
         "name": "2018-04-21",
         "showlegend": true,
         "type": "scattergl",
         "x": [
          2.2908678737118207
         ],
         "xaxis": "x",
         "y": [
          -18.00403373235024
         ],
         "yaxis": "y"
        },
        {
         "hovertemplate": "date=2018-04-22<br>pc1=%{x}<br>pc2=%{y}<extra></extra>",
         "legendgroup": "2018-04-22",
         "marker": {
          "color": "#19d3f3",
          "symbol": "circle"
         },
         "mode": "markers",
         "name": "2018-04-22",
         "showlegend": true,
         "type": "scattergl",
         "x": [
          10.157395271250003
         ],
         "xaxis": "x",
         "y": [
          -11.697679787410937
         ],
         "yaxis": "y"
        },
        {
         "hovertemplate": "date=2018-04-23<br>pc1=%{x}<br>pc2=%{y}<extra></extra>",
         "legendgroup": "2018-04-23",
         "marker": {
          "color": "#FF6692",
          "symbol": "circle"
         },
         "mode": "markers",
         "name": "2018-04-23",
         "showlegend": true,
         "type": "scattergl",
         "x": [
          -10.990280269930315
         ],
         "xaxis": "x",
         "y": [
          -8.696566707953679
         ],
         "yaxis": "y"
        },
        {
         "hovertemplate": "date=2018-04-24<br>pc1=%{x}<br>pc2=%{y}<extra></extra>",
         "legendgroup": "2018-04-24",
         "marker": {
          "color": "#B6E880",
          "symbol": "circle"
         },
         "mode": "markers",
         "name": "2018-04-24",
         "showlegend": true,
         "type": "scattergl",
         "x": [
          -7.598147676031832
         ],
         "xaxis": "x",
         "y": [
          -3.118661251419167
         ],
         "yaxis": "y"
        },
        {
         "hovertemplate": "date=2018-04-25<br>pc1=%{x}<br>pc2=%{y}<extra></extra>",
         "legendgroup": "2018-04-25",
         "marker": {
          "color": "#FF97FF",
          "symbol": "circle"
         },
         "mode": "markers",
         "name": "2018-04-25",
         "showlegend": true,
         "type": "scattergl",
         "x": [
          -9.94237499668744
         ],
         "xaxis": "x",
         "y": [
          -6.270442356341484
         ],
         "yaxis": "y"
        },
        {
         "hovertemplate": "date=2018-04-26<br>pc1=%{x}<br>pc2=%{y}<extra></extra>",
         "legendgroup": "2018-04-26",
         "marker": {
          "color": "#FECB52",
          "symbol": "circle"
         },
         "mode": "markers",
         "name": "2018-04-26",
         "showlegend": true,
         "type": "scattergl",
         "x": [
          -11.261791335862084
         ],
         "xaxis": "x",
         "y": [
          -4.355379019695765
         ],
         "yaxis": "y"
        },
        {
         "hovertemplate": "date=2018-04-27<br>pc1=%{x}<br>pc2=%{y}<extra></extra>",
         "legendgroup": "2018-04-27",
         "marker": {
          "color": "#636efa",
          "symbol": "circle"
         },
         "mode": "markers",
         "name": "2018-04-27",
         "showlegend": true,
         "type": "scattergl",
         "x": [
          -9.24027333817614
         ],
         "xaxis": "x",
         "y": [
          -6.615090276697314
         ],
         "yaxis": "y"
        },
        {
         "hovertemplate": "date=2018-04-28<br>pc1=%{x}<br>pc2=%{y}<extra></extra>",
         "legendgroup": "2018-04-28",
         "marker": {
          "color": "#EF553B",
          "symbol": "circle"
         },
         "mode": "markers",
         "name": "2018-04-28",
         "showlegend": true,
         "type": "scattergl",
         "x": [
          -1.5376616348220045
         ],
         "xaxis": "x",
         "y": [
          -23.457740926119136
         ],
         "yaxis": "y"
        },
        {
         "hovertemplate": "date=2018-04-29<br>pc1=%{x}<br>pc2=%{y}<extra></extra>",
         "legendgroup": "2018-04-29",
         "marker": {
          "color": "#00cc96",
          "symbol": "circle"
         },
         "mode": "markers",
         "name": "2018-04-29",
         "showlegend": true,
         "type": "scattergl",
         "x": [
          10.488774795253907
         ],
         "xaxis": "x",
         "y": [
          -11.981532527439091
         ],
         "yaxis": "y"
        },
        {
         "hovertemplate": "date=2018-04-30<br>pc1=%{x}<br>pc2=%{y}<extra></extra>",
         "legendgroup": "2018-04-30",
         "marker": {
          "color": "#ab63fa",
          "symbol": "circle"
         },
         "mode": "markers",
         "name": "2018-04-30",
         "showlegend": true,
         "type": "scattergl",
         "x": [
          -12.773096157448713
         ],
         "xaxis": "x",
         "y": [
          -7.3394160910293476
         ],
         "yaxis": "y"
        },
        {
         "hovertemplate": "date=2018-05-01<br>pc1=%{x}<br>pc2=%{y}<extra></extra>",
         "legendgroup": "2018-05-01",
         "marker": {
          "color": "#FFA15A",
          "symbol": "circle"
         },
         "mode": "markers",
         "name": "2018-05-01",
         "showlegend": true,
         "type": "scattergl",
         "x": [
          -12.115946207419888
         ],
         "xaxis": "x",
         "y": [
          -4.737774827107428
         ],
         "yaxis": "y"
        },
        {
         "hovertemplate": "date=2018-05-02<br>pc1=%{x}<br>pc2=%{y}<extra></extra>",
         "legendgroup": "2018-05-02",
         "marker": {
          "color": "#19d3f3",
          "symbol": "circle"
         },
         "mode": "markers",
         "name": "2018-05-02",
         "showlegend": true,
         "type": "scattergl",
         "x": [
          -7.72181154916411
         ],
         "xaxis": "x",
         "y": [
          -5.934094002348672
         ],
         "yaxis": "y"
        },
        {
         "hovertemplate": "date=2018-05-03<br>pc1=%{x}<br>pc2=%{y}<extra></extra>",
         "legendgroup": "2018-05-03",
         "marker": {
          "color": "#FF6692",
          "symbol": "circle"
         },
         "mode": "markers",
         "name": "2018-05-03",
         "showlegend": true,
         "type": "scattergl",
         "x": [
          -9.812320540161583
         ],
         "xaxis": "x",
         "y": [
          -10.575985917539953
         ],
         "yaxis": "y"
        },
        {
         "hovertemplate": "date=2018-05-04<br>pc1=%{x}<br>pc2=%{y}<extra></extra>",
         "legendgroup": "2018-05-04",
         "marker": {
          "color": "#B6E880",
          "symbol": "circle"
         },
         "mode": "markers",
         "name": "2018-05-04",
         "showlegend": true,
         "type": "scattergl",
         "x": [
          -8.520889587785108
         ],
         "xaxis": "x",
         "y": [
          -6.458787776157245
         ],
         "yaxis": "y"
        },
        {
         "hovertemplate": "date=2018-05-05<br>pc1=%{x}<br>pc2=%{y}<extra></extra>",
         "legendgroup": "2018-05-05",
         "marker": {
          "color": "#FF97FF",
          "symbol": "circle"
         },
         "mode": "markers",
         "name": "2018-05-05",
         "showlegend": true,
         "type": "scattergl",
         "x": [
          -2.137003087722207
         ],
         "xaxis": "x",
         "y": [
          -17.73457106069574
         ],
         "yaxis": "y"
        },
        {
         "hovertemplate": "date=2018-05-06<br>pc1=%{x}<br>pc2=%{y}<extra></extra>",
         "legendgroup": "2018-05-06",
         "marker": {
          "color": "#FECB52",
          "symbol": "circle"
         },
         "mode": "markers",
         "name": "2018-05-06",
         "showlegend": true,
         "type": "scattergl",
         "x": [
          11.601708388566262
         ],
         "xaxis": "x",
         "y": [
          -12.69733617405793
         ],
         "yaxis": "y"
        },
        {
         "hovertemplate": "date=2018-05-07<br>pc1=%{x}<br>pc2=%{y}<extra></extra>",
         "legendgroup": "2018-05-07",
         "marker": {
          "color": "#636efa",
          "symbol": "circle"
         },
         "mode": "markers",
         "name": "2018-05-07",
         "showlegend": true,
         "type": "scattergl",
         "x": [
          -10.462741329020568
         ],
         "xaxis": "x",
         "y": [
          -4.97613425951297
         ],
         "yaxis": "y"
        },
        {
         "hovertemplate": "date=2018-05-08<br>pc1=%{x}<br>pc2=%{y}<extra></extra>",
         "legendgroup": "2018-05-08",
         "marker": {
          "color": "#EF553B",
          "symbol": "circle"
         },
         "mode": "markers",
         "name": "2018-05-08",
         "showlegend": true,
         "type": "scattergl",
         "x": [
          -16.03172312026824
         ],
         "xaxis": "x",
         "y": [
          -12.606723438395145
         ],
         "yaxis": "y"
        },
        {
         "hovertemplate": "date=2018-05-09<br>pc1=%{x}<br>pc2=%{y}<extra></extra>",
         "legendgroup": "2018-05-09",
         "marker": {
          "color": "#00cc96",
          "symbol": "circle"
         },
         "mode": "markers",
         "name": "2018-05-09",
         "showlegend": true,
         "type": "scattergl",
         "x": [
          -10.977464363684355
         ],
         "xaxis": "x",
         "y": [
          -8.12543395467841
         ],
         "yaxis": "y"
        },
        {
         "hovertemplate": "date=2018-05-10<br>pc1=%{x}<br>pc2=%{y}<extra></extra>",
         "legendgroup": "2018-05-10",
         "marker": {
          "color": "#ab63fa",
          "symbol": "circle"
         },
         "mode": "markers",
         "name": "2018-05-10",
         "showlegend": true,
         "type": "scattergl",
         "x": [
          -10.722575323421756
         ],
         "xaxis": "x",
         "y": [
          -4.654109840033393
         ],
         "yaxis": "y"
        },
        {
         "hovertemplate": "date=2018-05-11<br>pc1=%{x}<br>pc2=%{y}<extra></extra>",
         "legendgroup": "2018-05-11",
         "marker": {
          "color": "#FFA15A",
          "symbol": "circle"
         },
         "mode": "markers",
         "name": "2018-05-11",
         "showlegend": true,
         "type": "scattergl",
         "x": [
          -12.684037656618512
         ],
         "xaxis": "x",
         "y": [
          -10.600113016248999
         ],
         "yaxis": "y"
        },
        {
         "hovertemplate": "date=2018-05-12<br>pc1=%{x}<br>pc2=%{y}<extra></extra>",
         "legendgroup": "2018-05-12",
         "marker": {
          "color": "#19d3f3",
          "symbol": "circle"
         },
         "mode": "markers",
         "name": "2018-05-12",
         "showlegend": true,
         "type": "scattergl",
         "x": [
          6.772933360108363
         ],
         "xaxis": "x",
         "y": [
          -12.498427207781992
         ],
         "yaxis": "y"
        },
        {
         "hovertemplate": "date=2018-05-13<br>pc1=%{x}<br>pc2=%{y}<extra></extra>",
         "legendgroup": "2018-05-13",
         "marker": {
          "color": "#FF6692",
          "symbol": "circle"
         },
         "mode": "markers",
         "name": "2018-05-13",
         "showlegend": true,
         "type": "scattergl",
         "x": [
          5.792622100777271
         ],
         "xaxis": "x",
         "y": [
          -18.54669334533246
         ],
         "yaxis": "y"
        },
        {
         "hovertemplate": "date=2018-05-14<br>pc1=%{x}<br>pc2=%{y}<extra></extra>",
         "legendgroup": "2018-05-14",
         "marker": {
          "color": "#B6E880",
          "symbol": "circle"
         },
         "mode": "markers",
         "name": "2018-05-14",
         "showlegend": true,
         "type": "scattergl",
         "x": [
          -6.626561527954386
         ],
         "xaxis": "x",
         "y": [
          -6.976095199047345
         ],
         "yaxis": "y"
        },
        {
         "hovertemplate": "date=2018-05-15<br>pc1=%{x}<br>pc2=%{y}<extra></extra>",
         "legendgroup": "2018-05-15",
         "marker": {
          "color": "#FF97FF",
          "symbol": "circle"
         },
         "mode": "markers",
         "name": "2018-05-15",
         "showlegend": true,
         "type": "scattergl",
         "x": [
          -8.942478439425997
         ],
         "xaxis": "x",
         "y": [
          -4.648792598429478
         ],
         "yaxis": "y"
        },
        {
         "hovertemplate": "date=2018-05-16<br>pc1=%{x}<br>pc2=%{y}<extra></extra>",
         "legendgroup": "2018-05-16",
         "marker": {
          "color": "#FECB52",
          "symbol": "circle"
         },
         "mode": "markers",
         "name": "2018-05-16",
         "showlegend": true,
         "type": "scattergl",
         "x": [
          -15.557190117684408
         ],
         "xaxis": "x",
         "y": [
          -13.935001865678615
         ],
         "yaxis": "y"
        },
        {
         "hovertemplate": "date=2018-05-17<br>pc1=%{x}<br>pc2=%{y}<extra></extra>",
         "legendgroup": "2018-05-17",
         "marker": {
          "color": "#636efa",
          "symbol": "circle"
         },
         "mode": "markers",
         "name": "2018-05-17",
         "showlegend": true,
         "type": "scattergl",
         "x": [
          -10.404483882163648
         ],
         "xaxis": "x",
         "y": [
          -3.530960018168483
         ],
         "yaxis": "y"
        },
        {
         "hovertemplate": "date=2018-05-18<br>pc1=%{x}<br>pc2=%{y}<extra></extra>",
         "legendgroup": "2018-05-18",
         "marker": {
          "color": "#EF553B",
          "symbol": "circle"
         },
         "mode": "markers",
         "name": "2018-05-18",
         "showlegend": true,
         "type": "scattergl",
         "x": [
          -11.649929124075271
         ],
         "xaxis": "x",
         "y": [
          -8.90769146495808
         ],
         "yaxis": "y"
        },
        {
         "hovertemplate": "date=2018-05-19<br>pc1=%{x}<br>pc2=%{y}<extra></extra>",
         "legendgroup": "2018-05-19",
         "marker": {
          "color": "#00cc96",
          "symbol": "circle"
         },
         "mode": "markers",
         "name": "2018-05-19",
         "showlegend": true,
         "type": "scattergl",
         "x": [
          3.524009695179663
         ],
         "xaxis": "x",
         "y": [
          -11.535909909440916
         ],
         "yaxis": "y"
        },
        {
         "hovertemplate": "date=2018-05-20<br>pc1=%{x}<br>pc2=%{y}<extra></extra>",
         "legendgroup": "2018-05-20",
         "marker": {
          "color": "#ab63fa",
          "symbol": "circle"
         },
         "mode": "markers",
         "name": "2018-05-20",
         "showlegend": true,
         "type": "scattergl",
         "x": [
          24.381615637214306
         ],
         "xaxis": "x",
         "y": [
          7.817048855126376
         ],
         "yaxis": "y"
        },
        {
         "hovertemplate": "date=2018-05-21<br>pc1=%{x}<br>pc2=%{y}<extra></extra>",
         "legendgroup": "2018-05-21",
         "marker": {
          "color": "#FFA15A",
          "symbol": "circle"
         },
         "mode": "markers",
         "name": "2018-05-21",
         "showlegend": true,
         "type": "scattergl",
         "x": [
          -0.056499540291944164
         ],
         "xaxis": "x",
         "y": [
          -1.0991634154032965
         ],
         "yaxis": "y"
        },
        {
         "hovertemplate": "date=2018-05-22<br>pc1=%{x}<br>pc2=%{y}<extra></extra>",
         "legendgroup": "2018-05-22",
         "marker": {
          "color": "#19d3f3",
          "symbol": "circle"
         },
         "mode": "markers",
         "name": "2018-05-22",
         "showlegend": true,
         "type": "scattergl",
         "x": [
          -9.040892806299869
         ],
         "xaxis": "x",
         "y": [
          -1.5049781291719087
         ],
         "yaxis": "y"
        },
        {
         "hovertemplate": "date=2018-05-23<br>pc1=%{x}<br>pc2=%{y}<extra></extra>",
         "legendgroup": "2018-05-23",
         "marker": {
          "color": "#FF6692",
          "symbol": "circle"
         },
         "mode": "markers",
         "name": "2018-05-23",
         "showlegend": true,
         "type": "scattergl",
         "x": [
          -17.185764369304064
         ],
         "xaxis": "x",
         "y": [
          -12.776889600090923
         ],
         "yaxis": "y"
        },
        {
         "hovertemplate": "date=2018-05-24<br>pc1=%{x}<br>pc2=%{y}<extra></extra>",
         "legendgroup": "2018-05-24",
         "marker": {
          "color": "#B6E880",
          "symbol": "circle"
         },
         "mode": "markers",
         "name": "2018-05-24",
         "showlegend": true,
         "type": "scattergl",
         "x": [
          -10.13483148019978
         ],
         "xaxis": "x",
         "y": [
          -6.268744866792355
         ],
         "yaxis": "y"
        },
        {
         "hovertemplate": "date=2018-05-25<br>pc1=%{x}<br>pc2=%{y}<extra></extra>",
         "legendgroup": "2018-05-25",
         "marker": {
          "color": "#FF97FF",
          "symbol": "circle"
         },
         "mode": "markers",
         "name": "2018-05-25",
         "showlegend": true,
         "type": "scattergl",
         "x": [
          -18.611248287057876
         ],
         "xaxis": "x",
         "y": [
          -12.328178030090204
         ],
         "yaxis": "y"
        },
        {
         "hovertemplate": "date=2018-05-26<br>pc1=%{x}<br>pc2=%{y}<extra></extra>",
         "legendgroup": "2018-05-26",
         "marker": {
          "color": "#FECB52",
          "symbol": "circle"
         },
         "mode": "markers",
         "name": "2018-05-26",
         "showlegend": true,
         "type": "scattergl",
         "x": [
          -7.241452099449908
         ],
         "xaxis": "x",
         "y": [
          -8.967313867995292
         ],
         "yaxis": "y"
        },
        {
         "hovertemplate": "date=2018-05-27<br>pc1=%{x}<br>pc2=%{y}<extra></extra>",
         "legendgroup": "2018-05-27",
         "marker": {
          "color": "#636efa",
          "symbol": "circle"
         },
         "mode": "markers",
         "name": "2018-05-27",
         "showlegend": true,
         "type": "scattergl",
         "x": [
          -4.586104053040269
         ],
         "xaxis": "x",
         "y": [
          -9.81350971499229
         ],
         "yaxis": "y"
        },
        {
         "hovertemplate": "date=2018-05-28<br>pc1=%{x}<br>pc2=%{y}<extra></extra>",
         "legendgroup": "2018-05-28",
         "marker": {
          "color": "#EF553B",
          "symbol": "circle"
         },
         "mode": "markers",
         "name": "2018-05-28",
         "showlegend": true,
         "type": "scattergl",
         "x": [
          31.301860861474616
         ],
         "xaxis": "x",
         "y": [
          -30.323165448848616
         ],
         "yaxis": "y"
        },
        {
         "hovertemplate": "date=2018-05-29<br>pc1=%{x}<br>pc2=%{y}<extra></extra>",
         "legendgroup": "2018-05-29",
         "marker": {
          "color": "#00cc96",
          "symbol": "circle"
         },
         "mode": "markers",
         "name": "2018-05-29",
         "showlegend": true,
         "type": "scattergl",
         "x": [
          -12.362791309903795
         ],
         "xaxis": "x",
         "y": [
          -6.904336311307718
         ],
         "yaxis": "y"
        },
        {
         "hovertemplate": "date=2018-05-30<br>pc1=%{x}<br>pc2=%{y}<extra></extra>",
         "legendgroup": "2018-05-30",
         "marker": {
          "color": "#ab63fa",
          "symbol": "circle"
         },
         "mode": "markers",
         "name": "2018-05-30",
         "showlegend": true,
         "type": "scattergl",
         "x": [
          -11.443158519150437
         ],
         "xaxis": "x",
         "y": [
          -3.317856238364286
         ],
         "yaxis": "y"
        },
        {
         "hovertemplate": "date=2018-05-31<br>pc1=%{x}<br>pc2=%{y}<extra></extra>",
         "legendgroup": "2018-05-31",
         "marker": {
          "color": "#FFA15A",
          "symbol": "circle"
         },
         "mode": "markers",
         "name": "2018-05-31",
         "showlegend": true,
         "type": "scattergl",
         "x": [
          -19.545721047526506
         ],
         "xaxis": "x",
         "y": [
          -6.85704805314924
         ],
         "yaxis": "y"
        },
        {
         "hovertemplate": "date=2018-06-01<br>pc1=%{x}<br>pc2=%{y}<extra></extra>",
         "legendgroup": "2018-06-01",
         "marker": {
          "color": "#19d3f3",
          "symbol": "circle"
         },
         "mode": "markers",
         "name": "2018-06-01",
         "showlegend": true,
         "type": "scattergl",
         "x": [
          -16.470460429479527
         ],
         "xaxis": "x",
         "y": [
          -9.4864728258971
         ],
         "yaxis": "y"
        },
        {
         "hovertemplate": "date=2018-06-02<br>pc1=%{x}<br>pc2=%{y}<extra></extra>",
         "legendgroup": "2018-06-02",
         "marker": {
          "color": "#FF6692",
          "symbol": "circle"
         },
         "mode": "markers",
         "name": "2018-06-02",
         "showlegend": true,
         "type": "scattergl",
         "x": [
          3.7431654466319655
         ],
         "xaxis": "x",
         "y": [
          -12.71464648295207
         ],
         "yaxis": "y"
        },
        {
         "hovertemplate": "date=2018-06-03<br>pc1=%{x}<br>pc2=%{y}<extra></extra>",
         "legendgroup": "2018-06-03",
         "marker": {
          "color": "#B6E880",
          "symbol": "circle"
         },
         "mode": "markers",
         "name": "2018-06-03",
         "showlegend": true,
         "type": "scattergl",
         "x": [
          1.7128055636343709
         ],
         "xaxis": "x",
         "y": [
          -23.51632548068117
         ],
         "yaxis": "y"
        },
        {
         "hovertemplate": "date=2018-06-04<br>pc1=%{x}<br>pc2=%{y}<extra></extra>",
         "legendgroup": "2018-06-04",
         "marker": {
          "color": "#FF97FF",
          "symbol": "circle"
         },
         "mode": "markers",
         "name": "2018-06-04",
         "showlegend": true,
         "type": "scattergl",
         "x": [
          -9.768154274120583
         ],
         "xaxis": "x",
         "y": [
          -8.373803476330316
         ],
         "yaxis": "y"
        },
        {
         "hovertemplate": "date=2018-06-05<br>pc1=%{x}<br>pc2=%{y}<extra></extra>",
         "legendgroup": "2018-06-05",
         "marker": {
          "color": "#FECB52",
          "symbol": "circle"
         },
         "mode": "markers",
         "name": "2018-06-05",
         "showlegend": true,
         "type": "scattergl",
         "x": [
          -11.584468160565345
         ],
         "xaxis": "x",
         "y": [
          -9.503316568737734
         ],
         "yaxis": "y"
        },
        {
         "hovertemplate": "date=2018-06-06<br>pc1=%{x}<br>pc2=%{y}<extra></extra>",
         "legendgroup": "2018-06-06",
         "marker": {
          "color": "#636efa",
          "symbol": "circle"
         },
         "mode": "markers",
         "name": "2018-06-06",
         "showlegend": true,
         "type": "scattergl",
         "x": [
          -10.940760688403609
         ],
         "xaxis": "x",
         "y": [
          -8.505316163040433
         ],
         "yaxis": "y"
        },
        {
         "hovertemplate": "date=2018-06-07<br>pc1=%{x}<br>pc2=%{y}<extra></extra>",
         "legendgroup": "2018-06-07",
         "marker": {
          "color": "#EF553B",
          "symbol": "circle"
         },
         "mode": "markers",
         "name": "2018-06-07",
         "showlegend": true,
         "type": "scattergl",
         "x": [
          -11.592187359647875
         ],
         "xaxis": "x",
         "y": [
          -5.818513925076498
         ],
         "yaxis": "y"
        },
        {
         "hovertemplate": "date=2018-06-08<br>pc1=%{x}<br>pc2=%{y}<extra></extra>",
         "legendgroup": "2018-06-08",
         "marker": {
          "color": "#00cc96",
          "symbol": "circle"
         },
         "mode": "markers",
         "name": "2018-06-08",
         "showlegend": true,
         "type": "scattergl",
         "x": [
          -12.391501856362286
         ],
         "xaxis": "x",
         "y": [
          -12.285418620795916
         ],
         "yaxis": "y"
        },
        {
         "hovertemplate": "date=2018-06-09<br>pc1=%{x}<br>pc2=%{y}<extra></extra>",
         "legendgroup": "2018-06-09",
         "marker": {
          "color": "#ab63fa",
          "symbol": "circle"
         },
         "mode": "markers",
         "name": "2018-06-09",
         "showlegend": true,
         "type": "scattergl",
         "x": [
          1.7404679009751494
         ],
         "xaxis": "x",
         "y": [
          -10.043367311714373
         ],
         "yaxis": "y"
        },
        {
         "hovertemplate": "date=2018-06-10<br>pc1=%{x}<br>pc2=%{y}<extra></extra>",
         "legendgroup": "2018-06-10",
         "marker": {
          "color": "#FFA15A",
          "symbol": "circle"
         },
         "mode": "markers",
         "name": "2018-06-10",
         "showlegend": true,
         "type": "scattergl",
         "x": [
          8.856159300435946
         ],
         "xaxis": "x",
         "y": [
          -14.35229709928284
         ],
         "yaxis": "y"
        },
        {
         "hovertemplate": "date=2018-06-11<br>pc1=%{x}<br>pc2=%{y}<extra></extra>",
         "legendgroup": "2018-06-11",
         "marker": {
          "color": "#19d3f3",
          "symbol": "circle"
         },
         "mode": "markers",
         "name": "2018-06-11",
         "showlegend": true,
         "type": "scattergl",
         "x": [
          -9.7191793207566
         ],
         "xaxis": "x",
         "y": [
          -8.607914282893832
         ],
         "yaxis": "y"
        },
        {
         "hovertemplate": "date=2018-06-12<br>pc1=%{x}<br>pc2=%{y}<extra></extra>",
         "legendgroup": "2018-06-12",
         "marker": {
          "color": "#FF6692",
          "symbol": "circle"
         },
         "mode": "markers",
         "name": "2018-06-12",
         "showlegend": true,
         "type": "scattergl",
         "x": [
          -9.45597316975335
         ],
         "xaxis": "x",
         "y": [
          -8.014026062712194
         ],
         "yaxis": "y"
        },
        {
         "hovertemplate": "date=2018-06-13<br>pc1=%{x}<br>pc2=%{y}<extra></extra>",
         "legendgroup": "2018-06-13",
         "marker": {
          "color": "#B6E880",
          "symbol": "circle"
         },
         "mode": "markers",
         "name": "2018-06-13",
         "showlegend": true,
         "type": "scattergl",
         "x": [
          -12.443955509973106
         ],
         "xaxis": "x",
         "y": [
          -7.718802655302454
         ],
         "yaxis": "y"
        },
        {
         "hovertemplate": "date=2018-06-14<br>pc1=%{x}<br>pc2=%{y}<extra></extra>",
         "legendgroup": "2018-06-14",
         "marker": {
          "color": "#FF97FF",
          "symbol": "circle"
         },
         "mode": "markers",
         "name": "2018-06-14",
         "showlegend": true,
         "type": "scattergl",
         "x": [
          -13.828923565680913
         ],
         "xaxis": "x",
         "y": [
          -13.376658474250808
         ],
         "yaxis": "y"
        },
        {
         "hovertemplate": "date=2018-06-15<br>pc1=%{x}<br>pc2=%{y}<extra></extra>",
         "legendgroup": "2018-06-15",
         "marker": {
          "color": "#FECB52",
          "symbol": "circle"
         },
         "mode": "markers",
         "name": "2018-06-15",
         "showlegend": true,
         "type": "scattergl",
         "x": [
          -8.652860368346415
         ],
         "xaxis": "x",
         "y": [
          -7.998802161360418
         ],
         "yaxis": "y"
        },
        {
         "hovertemplate": "date=2018-06-16<br>pc1=%{x}<br>pc2=%{y}<extra></extra>",
         "legendgroup": "2018-06-16",
         "marker": {
          "color": "#636efa",
          "symbol": "circle"
         },
         "mode": "markers",
         "name": "2018-06-16",
         "showlegend": true,
         "type": "scattergl",
         "x": [
          -7.536014244353332
         ],
         "xaxis": "x",
         "y": [
          -27.478916405362746
         ],
         "yaxis": "y"
        },
        {
         "hovertemplate": "date=2018-06-17<br>pc1=%{x}<br>pc2=%{y}<extra></extra>",
         "legendgroup": "2018-06-17",
         "marker": {
          "color": "#EF553B",
          "symbol": "circle"
         },
         "mode": "markers",
         "name": "2018-06-17",
         "showlegend": true,
         "type": "scattergl",
         "x": [
          3.5171453089516618
         ],
         "xaxis": "x",
         "y": [
          -19.69179569396319
         ],
         "yaxis": "y"
        },
        {
         "hovertemplate": "date=2018-06-18<br>pc1=%{x}<br>pc2=%{y}<extra></extra>",
         "legendgroup": "2018-06-18",
         "marker": {
          "color": "#00cc96",
          "symbol": "circle"
         },
         "mode": "markers",
         "name": "2018-06-18",
         "showlegend": true,
         "type": "scattergl",
         "x": [
          -8.715007839347749
         ],
         "xaxis": "x",
         "y": [
          -4.774262621452669
         ],
         "yaxis": "y"
        },
        {
         "hovertemplate": "date=2018-06-19<br>pc1=%{x}<br>pc2=%{y}<extra></extra>",
         "legendgroup": "2018-06-19",
         "marker": {
          "color": "#ab63fa",
          "symbol": "circle"
         },
         "mode": "markers",
         "name": "2018-06-19",
         "showlegend": true,
         "type": "scattergl",
         "x": [
          -14.388504709250924
         ],
         "xaxis": "x",
         "y": [
          -8.848059249478446
         ],
         "yaxis": "y"
        },
        {
         "hovertemplate": "date=2018-06-20<br>pc1=%{x}<br>pc2=%{y}<extra></extra>",
         "legendgroup": "2018-06-20",
         "marker": {
          "color": "#FFA15A",
          "symbol": "circle"
         },
         "mode": "markers",
         "name": "2018-06-20",
         "showlegend": true,
         "type": "scattergl",
         "x": [
          -9.803990595504663
         ],
         "xaxis": "x",
         "y": [
          -3.1577010321513503
         ],
         "yaxis": "y"
        },
        {
         "hovertemplate": "date=2018-06-21<br>pc1=%{x}<br>pc2=%{y}<extra></extra>",
         "legendgroup": "2018-06-21",
         "marker": {
          "color": "#19d3f3",
          "symbol": "circle"
         },
         "mode": "markers",
         "name": "2018-06-21",
         "showlegend": true,
         "type": "scattergl",
         "x": [
          0.3822860714225551
         ],
         "xaxis": "x",
         "y": [
          -11.284530400735612
         ],
         "yaxis": "y"
        },
        {
         "hovertemplate": "date=2018-06-22<br>pc1=%{x}<br>pc2=%{y}<extra></extra>",
         "legendgroup": "2018-06-22",
         "marker": {
          "color": "#FF6692",
          "symbol": "circle"
         },
         "mode": "markers",
         "name": "2018-06-22",
         "showlegend": true,
         "type": "scattergl",
         "x": [
          -3.506395535891818
         ],
         "xaxis": "x",
         "y": [
          -14.317601986619742
         ],
         "yaxis": "y"
        },
        {
         "hovertemplate": "date=2018-06-23<br>pc1=%{x}<br>pc2=%{y}<extra></extra>",
         "legendgroup": "2018-06-23",
         "marker": {
          "color": "#B6E880",
          "symbol": "circle"
         },
         "mode": "markers",
         "name": "2018-06-23",
         "showlegend": true,
         "type": "scattergl",
         "x": [
          -0.4811082952519689
         ],
         "xaxis": "x",
         "y": [
          -11.089368299002507
         ],
         "yaxis": "y"
        },
        {
         "hovertemplate": "date=2018-06-24<br>pc1=%{x}<br>pc2=%{y}<extra></extra>",
         "legendgroup": "2018-06-24",
         "marker": {
          "color": "#FF97FF",
          "symbol": "circle"
         },
         "mode": "markers",
         "name": "2018-06-24",
         "showlegend": true,
         "type": "scattergl",
         "x": [
          -11.86928933665215
         ],
         "xaxis": "x",
         "y": [
          -4.774007054091832
         ],
         "yaxis": "y"
        },
        {
         "hovertemplate": "date=2018-06-25<br>pc1=%{x}<br>pc2=%{y}<extra></extra>",
         "legendgroup": "2018-06-25",
         "marker": {
          "color": "#FECB52",
          "symbol": "circle"
         },
         "mode": "markers",
         "name": "2018-06-25",
         "showlegend": true,
         "type": "scattergl",
         "x": [
          -6.668206264272696
         ],
         "xaxis": "x",
         "y": [
          -7.543259190737692
         ],
         "yaxis": "y"
        },
        {
         "hovertemplate": "date=2018-06-26<br>pc1=%{x}<br>pc2=%{y}<extra></extra>",
         "legendgroup": "2018-06-26",
         "marker": {
          "color": "#636efa",
          "symbol": "circle"
         },
         "mode": "markers",
         "name": "2018-06-26",
         "showlegend": true,
         "type": "scattergl",
         "x": [
          -2.3645980240296844
         ],
         "xaxis": "x",
         "y": [
          -8.942381864054923
         ],
         "yaxis": "y"
        },
        {
         "hovertemplate": "date=2018-06-27<br>pc1=%{x}<br>pc2=%{y}<extra></extra>",
         "legendgroup": "2018-06-27",
         "marker": {
          "color": "#EF553B",
          "symbol": "circle"
         },
         "mode": "markers",
         "name": "2018-06-27",
         "showlegend": true,
         "type": "scattergl",
         "x": [
          -4.2267616716345255
         ],
         "xaxis": "x",
         "y": [
          -5.238115729012534
         ],
         "yaxis": "y"
        },
        {
         "hovertemplate": "date=2018-06-28<br>pc1=%{x}<br>pc2=%{y}<extra></extra>",
         "legendgroup": "2018-06-28",
         "marker": {
          "color": "#00cc96",
          "symbol": "circle"
         },
         "mode": "markers",
         "name": "2018-06-28",
         "showlegend": true,
         "type": "scattergl",
         "x": [
          -15.108061873932671
         ],
         "xaxis": "x",
         "y": [
          -13.052857232098994
         ],
         "yaxis": "y"
        },
        {
         "hovertemplate": "date=2018-06-29<br>pc1=%{x}<br>pc2=%{y}<extra></extra>",
         "legendgroup": "2018-06-29",
         "marker": {
          "color": "#ab63fa",
          "symbol": "circle"
         },
         "mode": "markers",
         "name": "2018-06-29",
         "showlegend": true,
         "type": "scattergl",
         "x": [
          -10.774330287370413
         ],
         "xaxis": "x",
         "y": [
          -8.406853247942257
         ],
         "yaxis": "y"
        },
        {
         "hovertemplate": "date=2018-06-30<br>pc1=%{x}<br>pc2=%{y}<extra></extra>",
         "legendgroup": "2018-06-30",
         "marker": {
          "color": "#FFA15A",
          "symbol": "circle"
         },
         "mode": "markers",
         "name": "2018-06-30",
         "showlegend": true,
         "type": "scattergl",
         "x": [
          0.11725007052979693
         ],
         "xaxis": "x",
         "y": [
          -10.359307218922766
         ],
         "yaxis": "y"
        },
        {
         "hovertemplate": "date=2018-07-01<br>pc1=%{x}<br>pc2=%{y}<extra></extra>",
         "legendgroup": "2018-07-01",
         "marker": {
          "color": "#19d3f3",
          "symbol": "circle"
         },
         "mode": "markers",
         "name": "2018-07-01",
         "showlegend": true,
         "type": "scattergl",
         "x": [
          -4.370594925046833
         ],
         "xaxis": "x",
         "y": [
          -18.806569512286792
         ],
         "yaxis": "y"
        },
        {
         "hovertemplate": "date=2018-07-02<br>pc1=%{x}<br>pc2=%{y}<extra></extra>",
         "legendgroup": "2018-07-02",
         "marker": {
          "color": "#FF6692",
          "symbol": "circle"
         },
         "mode": "markers",
         "name": "2018-07-02",
         "showlegend": true,
         "type": "scattergl",
         "x": [
          -13.345586192153455
         ],
         "xaxis": "x",
         "y": [
          -1.0559192140921039
         ],
         "yaxis": "y"
        },
        {
         "hovertemplate": "date=2018-07-03<br>pc1=%{x}<br>pc2=%{y}<extra></extra>",
         "legendgroup": "2018-07-03",
         "marker": {
          "color": "#B6E880",
          "symbol": "circle"
         },
         "mode": "markers",
         "name": "2018-07-03",
         "showlegend": true,
         "type": "scattergl",
         "x": [
          -17.183140146398298
         ],
         "xaxis": "x",
         "y": [
          -5.530459869558627
         ],
         "yaxis": "y"
        },
        {
         "hovertemplate": "date=2018-07-04<br>pc1=%{x}<br>pc2=%{y}<extra></extra>",
         "legendgroup": "2018-07-04",
         "marker": {
          "color": "#FF97FF",
          "symbol": "circle"
         },
         "mode": "markers",
         "name": "2018-07-04",
         "showlegend": true,
         "type": "scattergl",
         "x": [
          22.180425396878693
         ],
         "xaxis": "x",
         "y": [
          -33.64563554929835
         ],
         "yaxis": "y"
        },
        {
         "hovertemplate": "date=2018-07-05<br>pc1=%{x}<br>pc2=%{y}<extra></extra>",
         "legendgroup": "2018-07-05",
         "marker": {
          "color": "#FECB52",
          "symbol": "circle"
         },
         "mode": "markers",
         "name": "2018-07-05",
         "showlegend": true,
         "type": "scattergl",
         "x": [
          -4.610182487429775
         ],
         "xaxis": "x",
         "y": [
          -10.893413004594084
         ],
         "yaxis": "y"
        },
        {
         "hovertemplate": "date=2018-07-06<br>pc1=%{x}<br>pc2=%{y}<extra></extra>",
         "legendgroup": "2018-07-06",
         "marker": {
          "color": "#636efa",
          "symbol": "circle"
         },
         "mode": "markers",
         "name": "2018-07-06",
         "showlegend": true,
         "type": "scattergl",
         "x": [
          -16.549726569991186
         ],
         "xaxis": "x",
         "y": [
          -8.546995792425598
         ],
         "yaxis": "y"
        },
        {
         "hovertemplate": "date=2018-07-07<br>pc1=%{x}<br>pc2=%{y}<extra></extra>",
         "legendgroup": "2018-07-07",
         "marker": {
          "color": "#EF553B",
          "symbol": "circle"
         },
         "mode": "markers",
         "name": "2018-07-07",
         "showlegend": true,
         "type": "scattergl",
         "x": [
          -6.305721985483829
         ],
         "xaxis": "x",
         "y": [
          -6.0714733905856635
         ],
         "yaxis": "y"
        },
        {
         "hovertemplate": "date=2018-07-08<br>pc1=%{x}<br>pc2=%{y}<extra></extra>",
         "legendgroup": "2018-07-08",
         "marker": {
          "color": "#00cc96",
          "symbol": "circle"
         },
         "mode": "markers",
         "name": "2018-07-08",
         "showlegend": true,
         "type": "scattergl",
         "x": [
          4.034057291051304
         ],
         "xaxis": "x",
         "y": [
          -10.602918517944365
         ],
         "yaxis": "y"
        },
        {
         "hovertemplate": "date=2018-07-09<br>pc1=%{x}<br>pc2=%{y}<extra></extra>",
         "legendgroup": "2018-07-09",
         "marker": {
          "color": "#ab63fa",
          "symbol": "circle"
         },
         "mode": "markers",
         "name": "2018-07-09",
         "showlegend": true,
         "type": "scattergl",
         "x": [
          -9.508910859794028
         ],
         "xaxis": "x",
         "y": [
          -9.300753996380422
         ],
         "yaxis": "y"
        },
        {
         "hovertemplate": "date=2018-07-10<br>pc1=%{x}<br>pc2=%{y}<extra></extra>",
         "legendgroup": "2018-07-10",
         "marker": {
          "color": "#FFA15A",
          "symbol": "circle"
         },
         "mode": "markers",
         "name": "2018-07-10",
         "showlegend": true,
         "type": "scattergl",
         "x": [
          -7.185729543606408
         ],
         "xaxis": "x",
         "y": [
          -7.082012273828716
         ],
         "yaxis": "y"
        },
        {
         "hovertemplate": "date=2018-07-11<br>pc1=%{x}<br>pc2=%{y}<extra></extra>",
         "legendgroup": "2018-07-11",
         "marker": {
          "color": "#19d3f3",
          "symbol": "circle"
         },
         "mode": "markers",
         "name": "2018-07-11",
         "showlegend": true,
         "type": "scattergl",
         "x": [
          -8.521913748916852
         ],
         "xaxis": "x",
         "y": [
          -4.950610586585811
         ],
         "yaxis": "y"
        },
        {
         "hovertemplate": "date=2018-07-12<br>pc1=%{x}<br>pc2=%{y}<extra></extra>",
         "legendgroup": "2018-07-12",
         "marker": {
          "color": "#FF6692",
          "symbol": "circle"
         },
         "mode": "markers",
         "name": "2018-07-12",
         "showlegend": true,
         "type": "scattergl",
         "x": [
          -13.560258361164923
         ],
         "xaxis": "x",
         "y": [
          -13.961287993758242
         ],
         "yaxis": "y"
        },
        {
         "hovertemplate": "date=2018-07-13<br>pc1=%{x}<br>pc2=%{y}<extra></extra>",
         "legendgroup": "2018-07-13",
         "marker": {
          "color": "#B6E880",
          "symbol": "circle"
         },
         "mode": "markers",
         "name": "2018-07-13",
         "showlegend": true,
         "type": "scattergl",
         "x": [
          -10.196201977135313
         ],
         "xaxis": "x",
         "y": [
          -4.227930221730104
         ],
         "yaxis": "y"
        },
        {
         "hovertemplate": "date=2018-07-14<br>pc1=%{x}<br>pc2=%{y}<extra></extra>",
         "legendgroup": "2018-07-14",
         "marker": {
          "color": "#FF97FF",
          "symbol": "circle"
         },
         "mode": "markers",
         "name": "2018-07-14",
         "showlegend": true,
         "type": "scattergl",
         "x": [
          -0.397150392283423
         ],
         "xaxis": "x",
         "y": [
          -16.997812019652415
         ],
         "yaxis": "y"
        },
        {
         "hovertemplate": "date=2018-07-15<br>pc1=%{x}<br>pc2=%{y}<extra></extra>",
         "legendgroup": "2018-07-15",
         "marker": {
          "color": "#FECB52",
          "symbol": "circle"
         },
         "mode": "markers",
         "name": "2018-07-15",
         "showlegend": true,
         "type": "scattergl",
         "x": [
          1.7846726116423794
         ],
         "xaxis": "x",
         "y": [
          -14.170791746122116
         ],
         "yaxis": "y"
        },
        {
         "hovertemplate": "date=2018-07-16<br>pc1=%{x}<br>pc2=%{y}<extra></extra>",
         "legendgroup": "2018-07-16",
         "marker": {
          "color": "#636efa",
          "symbol": "circle"
         },
         "mode": "markers",
         "name": "2018-07-16",
         "showlegend": true,
         "type": "scattergl",
         "x": [
          -5.687690141283073
         ],
         "xaxis": "x",
         "y": [
          -8.55701464093962
         ],
         "yaxis": "y"
        },
        {
         "hovertemplate": "date=2018-07-17<br>pc1=%{x}<br>pc2=%{y}<extra></extra>",
         "legendgroup": "2018-07-17",
         "marker": {
          "color": "#EF553B",
          "symbol": "circle"
         },
         "mode": "markers",
         "name": "2018-07-17",
         "showlegend": true,
         "type": "scattergl",
         "x": [
          -8.364117044228284
         ],
         "xaxis": "x",
         "y": [
          -9.56579013193768
         ],
         "yaxis": "y"
        },
        {
         "hovertemplate": "date=2018-07-18<br>pc1=%{x}<br>pc2=%{y}<extra></extra>",
         "legendgroup": "2018-07-18",
         "marker": {
          "color": "#00cc96",
          "symbol": "circle"
         },
         "mode": "markers",
         "name": "2018-07-18",
         "showlegend": true,
         "type": "scattergl",
         "x": [
          -7.190179896076305
         ],
         "xaxis": "x",
         "y": [
          -5.362553105293315
         ],
         "yaxis": "y"
        },
        {
         "hovertemplate": "date=2018-07-19<br>pc1=%{x}<br>pc2=%{y}<extra></extra>",
         "legendgroup": "2018-07-19",
         "marker": {
          "color": "#ab63fa",
          "symbol": "circle"
         },
         "mode": "markers",
         "name": "2018-07-19",
         "showlegend": true,
         "type": "scattergl",
         "x": [
          -10.174614391359336
         ],
         "xaxis": "x",
         "y": [
          -5.320866071039143
         ],
         "yaxis": "y"
        },
        {
         "hovertemplate": "date=2018-07-20<br>pc1=%{x}<br>pc2=%{y}<extra></extra>",
         "legendgroup": "2018-07-20",
         "marker": {
          "color": "#FFA15A",
          "symbol": "circle"
         },
         "mode": "markers",
         "name": "2018-07-20",
         "showlegend": true,
         "type": "scattergl",
         "x": [
          -10.466422304131587
         ],
         "xaxis": "x",
         "y": [
          -11.003879727905739
         ],
         "yaxis": "y"
        },
        {
         "hovertemplate": "date=2018-07-21<br>pc1=%{x}<br>pc2=%{y}<extra></extra>",
         "legendgroup": "2018-07-21",
         "marker": {
          "color": "#19d3f3",
          "symbol": "circle"
         },
         "mode": "markers",
         "name": "2018-07-21",
         "showlegend": true,
         "type": "scattergl",
         "x": [
          -0.4621571648662867
         ],
         "xaxis": "x",
         "y": [
          -13.890338538348638
         ],
         "yaxis": "y"
        },
        {
         "hovertemplate": "date=2018-07-22<br>pc1=%{x}<br>pc2=%{y}<extra></extra>",
         "legendgroup": "2018-07-22",
         "marker": {
          "color": "#FF6692",
          "symbol": "circle"
         },
         "mode": "markers",
         "name": "2018-07-22",
         "showlegend": true,
         "type": "scattergl",
         "x": [
          6.994625895674163
         ],
         "xaxis": "x",
         "y": [
          -14.025942640648232
         ],
         "yaxis": "y"
        },
        {
         "hovertemplate": "date=2018-07-23<br>pc1=%{x}<br>pc2=%{y}<extra></extra>",
         "legendgroup": "2018-07-23",
         "marker": {
          "color": "#B6E880",
          "symbol": "circle"
         },
         "mode": "markers",
         "name": "2018-07-23",
         "showlegend": true,
         "type": "scattergl",
         "x": [
          -13.847728129034596
         ],
         "xaxis": "x",
         "y": [
          -13.4545565735984
         ],
         "yaxis": "y"
        },
        {
         "hovertemplate": "date=2018-07-24<br>pc1=%{x}<br>pc2=%{y}<extra></extra>",
         "legendgroup": "2018-07-24",
         "marker": {
          "color": "#FF97FF",
          "symbol": "circle"
         },
         "mode": "markers",
         "name": "2018-07-24",
         "showlegend": true,
         "type": "scattergl",
         "x": [
          -7.578920242342036
         ],
         "xaxis": "x",
         "y": [
          -4.56716261180043
         ],
         "yaxis": "y"
        },
        {
         "hovertemplate": "date=2018-07-25<br>pc1=%{x}<br>pc2=%{y}<extra></extra>",
         "legendgroup": "2018-07-25",
         "marker": {
          "color": "#FECB52",
          "symbol": "circle"
         },
         "mode": "markers",
         "name": "2018-07-25",
         "showlegend": true,
         "type": "scattergl",
         "x": [
          -10.055246367457931
         ],
         "xaxis": "x",
         "y": [
          -9.04911058582279
         ],
         "yaxis": "y"
        },
        {
         "hovertemplate": "date=2018-07-26<br>pc1=%{x}<br>pc2=%{y}<extra></extra>",
         "legendgroup": "2018-07-26",
         "marker": {
          "color": "#636efa",
          "symbol": "circle"
         },
         "mode": "markers",
         "name": "2018-07-26",
         "showlegend": true,
         "type": "scattergl",
         "x": [
          -10.065320889650868
         ],
         "xaxis": "x",
         "y": [
          -6.660164003093449
         ],
         "yaxis": "y"
        },
        {
         "hovertemplate": "date=2018-07-27<br>pc1=%{x}<br>pc2=%{y}<extra></extra>",
         "legendgroup": "2018-07-27",
         "marker": {
          "color": "#EF553B",
          "symbol": "circle"
         },
         "mode": "markers",
         "name": "2018-07-27",
         "showlegend": true,
         "type": "scattergl",
         "x": [
          -7.060302074791233
         ],
         "xaxis": "x",
         "y": [
          -6.8753622360175815
         ],
         "yaxis": "y"
        },
        {
         "hovertemplate": "date=2018-07-28<br>pc1=%{x}<br>pc2=%{y}<extra></extra>",
         "legendgroup": "2018-07-28",
         "marker": {
          "color": "#00cc96",
          "symbol": "circle"
         },
         "mode": "markers",
         "name": "2018-07-28",
         "showlegend": true,
         "type": "scattergl",
         "x": [
          -3.6890699466469994
         ],
         "xaxis": "x",
         "y": [
          -18.702021378652272
         ],
         "yaxis": "y"
        },
        {
         "hovertemplate": "date=2018-07-29<br>pc1=%{x}<br>pc2=%{y}<extra></extra>",
         "legendgroup": "2018-07-29",
         "marker": {
          "color": "#ab63fa",
          "symbol": "circle"
         },
         "mode": "markers",
         "name": "2018-07-29",
         "showlegend": true,
         "type": "scattergl",
         "x": [
          -1.2143303606604123
         ],
         "xaxis": "x",
         "y": [
          -24.615842754452668
         ],
         "yaxis": "y"
        },
        {
         "hovertemplate": "date=2018-07-30<br>pc1=%{x}<br>pc2=%{y}<extra></extra>",
         "legendgroup": "2018-07-30",
         "marker": {
          "color": "#FFA15A",
          "symbol": "circle"
         },
         "mode": "markers",
         "name": "2018-07-30",
         "showlegend": true,
         "type": "scattergl",
         "x": [
          -4.782591344710554
         ],
         "xaxis": "x",
         "y": [
          -4.558162417399748
         ],
         "yaxis": "y"
        },
        {
         "hovertemplate": "date=2018-07-31<br>pc1=%{x}<br>pc2=%{y}<extra></extra>",
         "legendgroup": "2018-07-31",
         "marker": {
          "color": "#19d3f3",
          "symbol": "circle"
         },
         "mode": "markers",
         "name": "2018-07-31",
         "showlegend": true,
         "type": "scattergl",
         "x": [
          -4.608793591204553
         ],
         "xaxis": "x",
         "y": [
          -12.5467790301736
         ],
         "yaxis": "y"
        },
        {
         "hovertemplate": "date=2018-08-01<br>pc1=%{x}<br>pc2=%{y}<extra></extra>",
         "legendgroup": "2018-08-01",
         "marker": {
          "color": "#FF6692",
          "symbol": "circle"
         },
         "mode": "markers",
         "name": "2018-08-01",
         "showlegend": true,
         "type": "scattergl",
         "x": [
          -6.806052793100222
         ],
         "xaxis": "x",
         "y": [
          -9.669067891127275
         ],
         "yaxis": "y"
        },
        {
         "hovertemplate": "date=2018-08-02<br>pc1=%{x}<br>pc2=%{y}<extra></extra>",
         "legendgroup": "2018-08-02",
         "marker": {
          "color": "#B6E880",
          "symbol": "circle"
         },
         "mode": "markers",
         "name": "2018-08-02",
         "showlegend": true,
         "type": "scattergl",
         "x": [
          -15.721519057833428
         ],
         "xaxis": "x",
         "y": [
          -6.2180949519438915
         ],
         "yaxis": "y"
        },
        {
         "hovertemplate": "date=2018-08-03<br>pc1=%{x}<br>pc2=%{y}<extra></extra>",
         "legendgroup": "2018-08-03",
         "marker": {
          "color": "#FF97FF",
          "symbol": "circle"
         },
         "mode": "markers",
         "name": "2018-08-03",
         "showlegend": true,
         "type": "scattergl",
         "x": [
          -17.33421225749439
         ],
         "xaxis": "x",
         "y": [
          -11.121026145351939
         ],
         "yaxis": "y"
        },
        {
         "hovertemplate": "date=2018-08-04<br>pc1=%{x}<br>pc2=%{y}<extra></extra>",
         "legendgroup": "2018-08-04",
         "marker": {
          "color": "#FECB52",
          "symbol": "circle"
         },
         "mode": "markers",
         "name": "2018-08-04",
         "showlegend": true,
         "type": "scattergl",
         "x": [
          -2.0980233212527013
         ],
         "xaxis": "x",
         "y": [
          -9.460418432007009
         ],
         "yaxis": "y"
        },
        {
         "hovertemplate": "date=2018-08-05<br>pc1=%{x}<br>pc2=%{y}<extra></extra>",
         "legendgroup": "2018-08-05",
         "marker": {
          "color": "#636efa",
          "symbol": "circle"
         },
         "mode": "markers",
         "name": "2018-08-05",
         "showlegend": true,
         "type": "scattergl",
         "x": [
          -1.5157383220625573
         ],
         "xaxis": "x",
         "y": [
          -16.64286181008905
         ],
         "yaxis": "y"
        },
        {
         "hovertemplate": "date=2018-08-06<br>pc1=%{x}<br>pc2=%{y}<extra></extra>",
         "legendgroup": "2018-08-06",
         "marker": {
          "color": "#EF553B",
          "symbol": "circle"
         },
         "mode": "markers",
         "name": "2018-08-06",
         "showlegend": true,
         "type": "scattergl",
         "x": [
          -1.228740974782338
         ],
         "xaxis": "x",
         "y": [
          -6.511166810049888
         ],
         "yaxis": "y"
        },
        {
         "hovertemplate": "date=2018-08-07<br>pc1=%{x}<br>pc2=%{y}<extra></extra>",
         "legendgroup": "2018-08-07",
         "marker": {
          "color": "#00cc96",
          "symbol": "circle"
         },
         "mode": "markers",
         "name": "2018-08-07",
         "showlegend": true,
         "type": "scattergl",
         "x": [
          -2.515019555700847
         ],
         "xaxis": "x",
         "y": [
          -8.569266482370645
         ],
         "yaxis": "y"
        },
        {
         "hovertemplate": "date=2018-08-08<br>pc1=%{x}<br>pc2=%{y}<extra></extra>",
         "legendgroup": "2018-08-08",
         "marker": {
          "color": "#ab63fa",
          "symbol": "circle"
         },
         "mode": "markers",
         "name": "2018-08-08",
         "showlegend": true,
         "type": "scattergl",
         "x": [
          -7.570074197346341
         ],
         "xaxis": "x",
         "y": [
          -9.952248831864079
         ],
         "yaxis": "y"
        },
        {
         "hovertemplate": "date=2018-08-09<br>pc1=%{x}<br>pc2=%{y}<extra></extra>",
         "legendgroup": "2018-08-09",
         "marker": {
          "color": "#FFA15A",
          "symbol": "circle"
         },
         "mode": "markers",
         "name": "2018-08-09",
         "showlegend": true,
         "type": "scattergl",
         "x": [
          -5.800008506542577
         ],
         "xaxis": "x",
         "y": [
          -6.254250468031179
         ],
         "yaxis": "y"
        },
        {
         "hovertemplate": "date=2018-08-10<br>pc1=%{x}<br>pc2=%{y}<extra></extra>",
         "legendgroup": "2018-08-10",
         "marker": {
          "color": "#19d3f3",
          "symbol": "circle"
         },
         "mode": "markers",
         "name": "2018-08-10",
         "showlegend": true,
         "type": "scattergl",
         "x": [
          -10.668045101377395
         ],
         "xaxis": "x",
         "y": [
          -7.485868378904124
         ],
         "yaxis": "y"
        },
        {
         "hovertemplate": "date=2018-08-11<br>pc1=%{x}<br>pc2=%{y}<extra></extra>",
         "legendgroup": "2018-08-11",
         "marker": {
          "color": "#FF6692",
          "symbol": "circle"
         },
         "mode": "markers",
         "name": "2018-08-11",
         "showlegend": true,
         "type": "scattergl",
         "x": [
          1.870512444608253
         ],
         "xaxis": "x",
         "y": [
          0.6070058880083954
         ],
         "yaxis": "y"
        },
        {
         "hovertemplate": "date=2018-08-12<br>pc1=%{x}<br>pc2=%{y}<extra></extra>",
         "legendgroup": "2018-08-12",
         "marker": {
          "color": "#B6E880",
          "symbol": "circle"
         },
         "mode": "markers",
         "name": "2018-08-12",
         "showlegend": true,
         "type": "scattergl",
         "x": [
          33.1297757228975
         ],
         "xaxis": "x",
         "y": [
          37.86197447118108
         ],
         "yaxis": "y"
        },
        {
         "hovertemplate": "date=2018-08-13<br>pc1=%{x}<br>pc2=%{y}<extra></extra>",
         "legendgroup": "2018-08-13",
         "marker": {
          "color": "#FF97FF",
          "symbol": "circle"
         },
         "mode": "markers",
         "name": "2018-08-13",
         "showlegend": true,
         "type": "scattergl",
         "x": [
          24.154819378949686
         ],
         "xaxis": "x",
         "y": [
          38.551228009481655
         ],
         "yaxis": "y"
        },
        {
         "hovertemplate": "date=2018-08-14<br>pc1=%{x}<br>pc2=%{y}<extra></extra>",
         "legendgroup": "2018-08-14",
         "marker": {
          "color": "#FECB52",
          "symbol": "circle"
         },
         "mode": "markers",
         "name": "2018-08-14",
         "showlegend": true,
         "type": "scattergl",
         "x": [
          -1.494954414653051
         ],
         "xaxis": "x",
         "y": [
          3.147887526610565
         ],
         "yaxis": "y"
        },
        {
         "hovertemplate": "date=2018-08-15<br>pc1=%{x}<br>pc2=%{y}<extra></extra>",
         "legendgroup": "2018-08-15",
         "marker": {
          "color": "#636efa",
          "symbol": "circle"
         },
         "mode": "markers",
         "name": "2018-08-15",
         "showlegend": true,
         "type": "scattergl",
         "x": [
          -10.055417770945576
         ],
         "xaxis": "x",
         "y": [
          -13.180300786774216
         ],
         "yaxis": "y"
        },
        {
         "hovertemplate": "date=2018-08-16<br>pc1=%{x}<br>pc2=%{y}<extra></extra>",
         "legendgroup": "2018-08-16",
         "marker": {
          "color": "#EF553B",
          "symbol": "circle"
         },
         "mode": "markers",
         "name": "2018-08-16",
         "showlegend": true,
         "type": "scattergl",
         "x": [
          -5.841891015737024
         ],
         "xaxis": "x",
         "y": [
          -6.518706755224644
         ],
         "yaxis": "y"
        },
        {
         "hovertemplate": "date=2018-08-17<br>pc1=%{x}<br>pc2=%{y}<extra></extra>",
         "legendgroup": "2018-08-17",
         "marker": {
          "color": "#00cc96",
          "symbol": "circle"
         },
         "mode": "markers",
         "name": "2018-08-17",
         "showlegend": true,
         "type": "scattergl",
         "x": [
          -7.695634098433212
         ],
         "xaxis": "x",
         "y": [
          -11.414607892383795
         ],
         "yaxis": "y"
        },
        {
         "hovertemplate": "date=2018-08-18<br>pc1=%{x}<br>pc2=%{y}<extra></extra>",
         "legendgroup": "2018-08-18",
         "marker": {
          "color": "#ab63fa",
          "symbol": "circle"
         },
         "mode": "markers",
         "name": "2018-08-18",
         "showlegend": true,
         "type": "scattergl",
         "x": [
          -9.368731074208853
         ],
         "xaxis": "x",
         "y": [
          -17.6795019026518
         ],
         "yaxis": "y"
        },
        {
         "hovertemplate": "date=2018-08-19<br>pc1=%{x}<br>pc2=%{y}<extra></extra>",
         "legendgroup": "2018-08-19",
         "marker": {
          "color": "#FFA15A",
          "symbol": "circle"
         },
         "mode": "markers",
         "name": "2018-08-19",
         "showlegend": true,
         "type": "scattergl",
         "x": [
          0.6307668689369231
         ],
         "xaxis": "x",
         "y": [
          -11.873774446239542
         ],
         "yaxis": "y"
        },
        {
         "hovertemplate": "date=2018-08-20<br>pc1=%{x}<br>pc2=%{y}<extra></extra>",
         "legendgroup": "2018-08-20",
         "marker": {
          "color": "#19d3f3",
          "symbol": "circle"
         },
         "mode": "markers",
         "name": "2018-08-20",
         "showlegend": true,
         "type": "scattergl",
         "x": [
          -7.742925898191706
         ],
         "xaxis": "x",
         "y": [
          -13.307249169618835
         ],
         "yaxis": "y"
        },
        {
         "hovertemplate": "date=2018-08-21<br>pc1=%{x}<br>pc2=%{y}<extra></extra>",
         "legendgroup": "2018-08-21",
         "marker": {
          "color": "#FF6692",
          "symbol": "circle"
         },
         "mode": "markers",
         "name": "2018-08-21",
         "showlegend": true,
         "type": "scattergl",
         "x": [
          -6.5302490072611095
         ],
         "xaxis": "x",
         "y": [
          -10.309220314684934
         ],
         "yaxis": "y"
        },
        {
         "hovertemplate": "date=2018-08-22<br>pc1=%{x}<br>pc2=%{y}<extra></extra>",
         "legendgroup": "2018-08-22",
         "marker": {
          "color": "#B6E880",
          "symbol": "circle"
         },
         "mode": "markers",
         "name": "2018-08-22",
         "showlegend": true,
         "type": "scattergl",
         "x": [
          -6.864531784993773
         ],
         "xaxis": "x",
         "y": [
          -4.720840636062782
         ],
         "yaxis": "y"
        },
        {
         "hovertemplate": "date=2018-08-23<br>pc1=%{x}<br>pc2=%{y}<extra></extra>",
         "legendgroup": "2018-08-23",
         "marker": {
          "color": "#FF97FF",
          "symbol": "circle"
         },
         "mode": "markers",
         "name": "2018-08-23",
         "showlegend": true,
         "type": "scattergl",
         "x": [
          -12.8481781958267
         ],
         "xaxis": "x",
         "y": [
          -7.733263356306916
         ],
         "yaxis": "y"
        },
        {
         "hovertemplate": "date=2018-08-24<br>pc1=%{x}<br>pc2=%{y}<extra></extra>",
         "legendgroup": "2018-08-24",
         "marker": {
          "color": "#FECB52",
          "symbol": "circle"
         },
         "mode": "markers",
         "name": "2018-08-24",
         "showlegend": true,
         "type": "scattergl",
         "x": [
          -3.584127392087338
         ],
         "xaxis": "x",
         "y": [
          -6.910145503708055
         ],
         "yaxis": "y"
        },
        {
         "hovertemplate": "date=2018-08-25<br>pc1=%{x}<br>pc2=%{y}<extra></extra>",
         "legendgroup": "2018-08-25",
         "marker": {
          "color": "#636efa",
          "symbol": "circle"
         },
         "mode": "markers",
         "name": "2018-08-25",
         "showlegend": true,
         "type": "scattergl",
         "x": [
          -0.9259151668198183
         ],
         "xaxis": "x",
         "y": [
          -15.075675979508881
         ],
         "yaxis": "y"
        },
        {
         "hovertemplate": "date=2018-08-26<br>pc1=%{x}<br>pc2=%{y}<extra></extra>",
         "legendgroup": "2018-08-26",
         "marker": {
          "color": "#EF553B",
          "symbol": "circle"
         },
         "mode": "markers",
         "name": "2018-08-26",
         "showlegend": true,
         "type": "scattergl",
         "x": [
          2.898463516814285
         ],
         "xaxis": "x",
         "y": [
          -17.296066252388542
         ],
         "yaxis": "y"
        },
        {
         "hovertemplate": "date=2018-08-27<br>pc1=%{x}<br>pc2=%{y}<extra></extra>",
         "legendgroup": "2018-08-27",
         "marker": {
          "color": "#00cc96",
          "symbol": "circle"
         },
         "mode": "markers",
         "name": "2018-08-27",
         "showlegend": true,
         "type": "scattergl",
         "x": [
          -11.233475243174226
         ],
         "xaxis": "x",
         "y": [
          -5.723844630837043
         ],
         "yaxis": "y"
        },
        {
         "hovertemplate": "date=2018-08-28<br>pc1=%{x}<br>pc2=%{y}<extra></extra>",
         "legendgroup": "2018-08-28",
         "marker": {
          "color": "#ab63fa",
          "symbol": "circle"
         },
         "mode": "markers",
         "name": "2018-08-28",
         "showlegend": true,
         "type": "scattergl",
         "x": [
          -12.140296796137413
         ],
         "xaxis": "x",
         "y": [
          -11.711161575741208
         ],
         "yaxis": "y"
        },
        {
         "hovertemplate": "date=2018-08-29<br>pc1=%{x}<br>pc2=%{y}<extra></extra>",
         "legendgroup": "2018-08-29",
         "marker": {
          "color": "#FFA15A",
          "symbol": "circle"
         },
         "mode": "markers",
         "name": "2018-08-29",
         "showlegend": true,
         "type": "scattergl",
         "x": [
          -9.845369092475707
         ],
         "xaxis": "x",
         "y": [
          -5.2601631806630635
         ],
         "yaxis": "y"
        },
        {
         "hovertemplate": "date=2018-08-30<br>pc1=%{x}<br>pc2=%{y}<extra></extra>",
         "legendgroup": "2018-08-30",
         "marker": {
          "color": "#19d3f3",
          "symbol": "circle"
         },
         "mode": "markers",
         "name": "2018-08-30",
         "showlegend": true,
         "type": "scattergl",
         "x": [
          -11.768826412329055
         ],
         "xaxis": "x",
         "y": [
          -5.942589360409792
         ],
         "yaxis": "y"
        },
        {
         "hovertemplate": "date=2018-08-31<br>pc1=%{x}<br>pc2=%{y}<extra></extra>",
         "legendgroup": "2018-08-31",
         "marker": {
          "color": "#FF6692",
          "symbol": "circle"
         },
         "mode": "markers",
         "name": "2018-08-31",
         "showlegend": true,
         "type": "scattergl",
         "x": [
          -19.970695990790503
         ],
         "xaxis": "x",
         "y": [
          -11.856306449727471
         ],
         "yaxis": "y"
        },
        {
         "hovertemplate": "date=2018-09-01<br>pc1=%{x}<br>pc2=%{y}<extra></extra>",
         "legendgroup": "2018-09-01",
         "marker": {
          "color": "#B6E880",
          "symbol": "circle"
         },
         "mode": "markers",
         "name": "2018-09-01",
         "showlegend": true,
         "type": "scattergl",
         "x": [
          -0.5048636195024294
         ],
         "xaxis": "x",
         "y": [
          -10.760093279066334
         ],
         "yaxis": "y"
        },
        {
         "hovertemplate": "date=2018-09-02<br>pc1=%{x}<br>pc2=%{y}<extra></extra>",
         "legendgroup": "2018-09-02",
         "marker": {
          "color": "#FF97FF",
          "symbol": "circle"
         },
         "mode": "markers",
         "name": "2018-09-02",
         "showlegend": true,
         "type": "scattergl",
         "x": [
          -5.9733404781271915
         ],
         "xaxis": "x",
         "y": [
          -13.832125458901437
         ],
         "yaxis": "y"
        },
        {
         "hovertemplate": "date=2018-09-03<br>pc1=%{x}<br>pc2=%{y}<extra></extra>",
         "legendgroup": "2018-09-03",
         "marker": {
          "color": "#FECB52",
          "symbol": "circle"
         },
         "mode": "markers",
         "name": "2018-09-03",
         "showlegend": true,
         "type": "scattergl",
         "x": [
          36.83120272220079
         ],
         "xaxis": "x",
         "y": [
          -31.44210654238507
         ],
         "yaxis": "y"
        },
        {
         "hovertemplate": "date=2018-09-04<br>pc1=%{x}<br>pc2=%{y}<extra></extra>",
         "legendgroup": "2018-09-04",
         "marker": {
          "color": "#636efa",
          "symbol": "circle"
         },
         "mode": "markers",
         "name": "2018-09-04",
         "showlegend": true,
         "type": "scattergl",
         "x": [
          -15.932973838263392
         ],
         "xaxis": "x",
         "y": [
          -3.183773597991435
         ],
         "yaxis": "y"
        },
        {
         "hovertemplate": "date=2018-09-05<br>pc1=%{x}<br>pc2=%{y}<extra></extra>",
         "legendgroup": "2018-09-05",
         "marker": {
          "color": "#EF553B",
          "symbol": "circle"
         },
         "mode": "markers",
         "name": "2018-09-05",
         "showlegend": true,
         "type": "scattergl",
         "x": [
          -21.171073648763524
         ],
         "xaxis": "x",
         "y": [
          -5.491686691785001
         ],
         "yaxis": "y"
        },
        {
         "hovertemplate": "date=2018-09-06<br>pc1=%{x}<br>pc2=%{y}<extra></extra>",
         "legendgroup": "2018-09-06",
         "marker": {
          "color": "#00cc96",
          "symbol": "circle"
         },
         "mode": "markers",
         "name": "2018-09-06",
         "showlegend": true,
         "type": "scattergl",
         "x": [
          -19.940610728953512
         ],
         "xaxis": "x",
         "y": [
          -3.6202708791892997
         ],
         "yaxis": "y"
        },
        {
         "hovertemplate": "date=2018-09-07<br>pc1=%{x}<br>pc2=%{y}<extra></extra>",
         "legendgroup": "2018-09-07",
         "marker": {
          "color": "#ab63fa",
          "symbol": "circle"
         },
         "mode": "markers",
         "name": "2018-09-07",
         "showlegend": true,
         "type": "scattergl",
         "x": [
          -13.969737503758399
         ],
         "xaxis": "x",
         "y": [
          -9.056631955718169
         ],
         "yaxis": "y"
        },
        {
         "hovertemplate": "date=2018-09-08<br>pc1=%{x}<br>pc2=%{y}<extra></extra>",
         "legendgroup": "2018-09-08",
         "marker": {
          "color": "#FFA15A",
          "symbol": "circle"
         },
         "mode": "markers",
         "name": "2018-09-08",
         "showlegend": true,
         "type": "scattergl",
         "x": [
          5.503469166416745
         ],
         "xaxis": "x",
         "y": [
          -14.102745529966475
         ],
         "yaxis": "y"
        },
        {
         "hovertemplate": "date=2018-09-09<br>pc1=%{x}<br>pc2=%{y}<extra></extra>",
         "legendgroup": "2018-09-09",
         "marker": {
          "color": "#19d3f3",
          "symbol": "circle"
         },
         "mode": "markers",
         "name": "2018-09-09",
         "showlegend": true,
         "type": "scattergl",
         "x": [
          13.346948755541526
         ],
         "xaxis": "x",
         "y": [
          -15.276367976244252
         ],
         "yaxis": "y"
        },
        {
         "hovertemplate": "date=2018-09-10<br>pc1=%{x}<br>pc2=%{y}<extra></extra>",
         "legendgroup": "2018-09-10",
         "marker": {
          "color": "#FF6692",
          "symbol": "circle"
         },
         "mode": "markers",
         "name": "2018-09-10",
         "showlegend": true,
         "type": "scattergl",
         "x": [
          -13.438613205543179
         ],
         "xaxis": "x",
         "y": [
          -8.085835899359264
         ],
         "yaxis": "y"
        },
        {
         "hovertemplate": "date=2018-09-11<br>pc1=%{x}<br>pc2=%{y}<extra></extra>",
         "legendgroup": "2018-09-11",
         "marker": {
          "color": "#B6E880",
          "symbol": "circle"
         },
         "mode": "markers",
         "name": "2018-09-11",
         "showlegend": true,
         "type": "scattergl",
         "x": [
          -13.993577495459762
         ],
         "xaxis": "x",
         "y": [
          -10.118652913856131
         ],
         "yaxis": "y"
        },
        {
         "hovertemplate": "date=2018-09-12<br>pc1=%{x}<br>pc2=%{y}<extra></extra>",
         "legendgroup": "2018-09-12",
         "marker": {
          "color": "#FF97FF",
          "symbol": "circle"
         },
         "mode": "markers",
         "name": "2018-09-12",
         "showlegend": true,
         "type": "scattergl",
         "x": [
          -15.477264798239217
         ],
         "xaxis": "x",
         "y": [
          -9.946447188763706
         ],
         "yaxis": "y"
        },
        {
         "hovertemplate": "date=2018-09-13<br>pc1=%{x}<br>pc2=%{y}<extra></extra>",
         "legendgroup": "2018-09-13",
         "marker": {
          "color": "#FECB52",
          "symbol": "circle"
         },
         "mode": "markers",
         "name": "2018-09-13",
         "showlegend": true,
         "type": "scattergl",
         "x": [
          -14.960334335609833
         ],
         "xaxis": "x",
         "y": [
          -13.13115162977548
         ],
         "yaxis": "y"
        },
        {
         "hovertemplate": "date=2018-09-14<br>pc1=%{x}<br>pc2=%{y}<extra></extra>",
         "legendgroup": "2018-09-14",
         "marker": {
          "color": "#636efa",
          "symbol": "circle"
         },
         "mode": "markers",
         "name": "2018-09-14",
         "showlegend": true,
         "type": "scattergl",
         "x": [
          -14.228291981603027
         ],
         "xaxis": "x",
         "y": [
          -8.218550863454427
         ],
         "yaxis": "y"
        },
        {
         "hovertemplate": "date=2018-09-15<br>pc1=%{x}<br>pc2=%{y}<extra></extra>",
         "legendgroup": "2018-09-15",
         "marker": {
          "color": "#EF553B",
          "symbol": "circle"
         },
         "mode": "markers",
         "name": "2018-09-15",
         "showlegend": true,
         "type": "scattergl",
         "x": [
          3.6199936739626906
         ],
         "xaxis": "x",
         "y": [
          -13.622470935021992
         ],
         "yaxis": "y"
        },
        {
         "hovertemplate": "date=2018-09-16<br>pc1=%{x}<br>pc2=%{y}<extra></extra>",
         "legendgroup": "2018-09-16",
         "marker": {
          "color": "#00cc96",
          "symbol": "circle"
         },
         "mode": "markers",
         "name": "2018-09-16",
         "showlegend": true,
         "type": "scattergl",
         "x": [
          4.528746038296376
         ],
         "xaxis": "x",
         "y": [
          -24.977945305480286
         ],
         "yaxis": "y"
        },
        {
         "hovertemplate": "date=2018-09-17<br>pc1=%{x}<br>pc2=%{y}<extra></extra>",
         "legendgroup": "2018-09-17",
         "marker": {
          "color": "#ab63fa",
          "symbol": "circle"
         },
         "mode": "markers",
         "name": "2018-09-17",
         "showlegend": true,
         "type": "scattergl",
         "x": [
          -14.098096396340878
         ],
         "xaxis": "x",
         "y": [
          -9.372960729077251
         ],
         "yaxis": "y"
        },
        {
         "hovertemplate": "date=2018-09-18<br>pc1=%{x}<br>pc2=%{y}<extra></extra>",
         "legendgroup": "2018-09-18",
         "marker": {
          "color": "#FFA15A",
          "symbol": "circle"
         },
         "mode": "markers",
         "name": "2018-09-18",
         "showlegend": true,
         "type": "scattergl",
         "x": [
          -11.20169423594444
         ],
         "xaxis": "x",
         "y": [
          -9.833407356706477
         ],
         "yaxis": "y"
        },
        {
         "hovertemplate": "date=2018-09-19<br>pc1=%{x}<br>pc2=%{y}<extra></extra>",
         "legendgroup": "2018-09-19",
         "marker": {
          "color": "#19d3f3",
          "symbol": "circle"
         },
         "mode": "markers",
         "name": "2018-09-19",
         "showlegend": true,
         "type": "scattergl",
         "x": [
          -8.44970936050708
         ],
         "xaxis": "x",
         "y": [
          -6.639471517767302
         ],
         "yaxis": "y"
        },
        {
         "hovertemplate": "date=2018-09-20<br>pc1=%{x}<br>pc2=%{y}<extra></extra>",
         "legendgroup": "2018-09-20",
         "marker": {
          "color": "#FF6692",
          "symbol": "circle"
         },
         "mode": "markers",
         "name": "2018-09-20",
         "showlegend": true,
         "type": "scattergl",
         "x": [
          -13.141852958867807
         ],
         "xaxis": "x",
         "y": [
          -7.054224112275689
         ],
         "yaxis": "y"
        },
        {
         "hovertemplate": "date=2018-09-21<br>pc1=%{x}<br>pc2=%{y}<extra></extra>",
         "legendgroup": "2018-09-21",
         "marker": {
          "color": "#B6E880",
          "symbol": "circle"
         },
         "mode": "markers",
         "name": "2018-09-21",
         "showlegend": true,
         "type": "scattergl",
         "x": [
          -18.02095690638645
         ],
         "xaxis": "x",
         "y": [
          -15.70911526161597
         ],
         "yaxis": "y"
        },
        {
         "hovertemplate": "date=2018-09-22<br>pc1=%{x}<br>pc2=%{y}<extra></extra>",
         "legendgroup": "2018-09-22",
         "marker": {
          "color": "#FF97FF",
          "symbol": "circle"
         },
         "mode": "markers",
         "name": "2018-09-22",
         "showlegend": true,
         "type": "scattergl",
         "x": [
          -0.8884357037387468
         ],
         "xaxis": "x",
         "y": [
          -27.162001444264547
         ],
         "yaxis": "y"
        },
        {
         "hovertemplate": "date=2018-09-23<br>pc1=%{x}<br>pc2=%{y}<extra></extra>",
         "legendgroup": "2018-09-23",
         "marker": {
          "color": "#FECB52",
          "symbol": "circle"
         },
         "mode": "markers",
         "name": "2018-09-23",
         "showlegend": true,
         "type": "scattergl",
         "x": [
          11.770610063774805
         ],
         "xaxis": "x",
         "y": [
          -21.16432486709598
         ],
         "yaxis": "y"
        },
        {
         "hovertemplate": "date=2018-09-24<br>pc1=%{x}<br>pc2=%{y}<extra></extra>",
         "legendgroup": "2018-09-24",
         "marker": {
          "color": "#636efa",
          "symbol": "circle"
         },
         "mode": "markers",
         "name": "2018-09-24",
         "showlegend": true,
         "type": "scattergl",
         "x": [
          -12.444364572725181
         ],
         "xaxis": "x",
         "y": [
          -5.072447838838935
         ],
         "yaxis": "y"
        },
        {
         "hovertemplate": "date=2018-09-25<br>pc1=%{x}<br>pc2=%{y}<extra></extra>",
         "legendgroup": "2018-09-25",
         "marker": {
          "color": "#EF553B",
          "symbol": "circle"
         },
         "mode": "markers",
         "name": "2018-09-25",
         "showlegend": true,
         "type": "scattergl",
         "x": [
          -11.408452534093858
         ],
         "xaxis": "x",
         "y": [
          -7.98636429464836
         ],
         "yaxis": "y"
        },
        {
         "hovertemplate": "date=2018-09-26<br>pc1=%{x}<br>pc2=%{y}<extra></extra>",
         "legendgroup": "2018-09-26",
         "marker": {
          "color": "#00cc96",
          "symbol": "circle"
         },
         "mode": "markers",
         "name": "2018-09-26",
         "showlegend": true,
         "type": "scattergl",
         "x": [
          -12.551528878100818
         ],
         "xaxis": "x",
         "y": [
          -5.093567158364251
         ],
         "yaxis": "y"
        },
        {
         "hovertemplate": "date=2018-09-27<br>pc1=%{x}<br>pc2=%{y}<extra></extra>",
         "legendgroup": "2018-09-27",
         "marker": {
          "color": "#ab63fa",
          "symbol": "circle"
         },
         "mode": "markers",
         "name": "2018-09-27",
         "showlegend": true,
         "type": "scattergl",
         "x": [
          -18.328289669555744
         ],
         "xaxis": "x",
         "y": [
          -13.512738133361722
         ],
         "yaxis": "y"
        },
        {
         "hovertemplate": "date=2018-09-28<br>pc1=%{x}<br>pc2=%{y}<extra></extra>",
         "legendgroup": "2018-09-28",
         "marker": {
          "color": "#FFA15A",
          "symbol": "circle"
         },
         "mode": "markers",
         "name": "2018-09-28",
         "showlegend": true,
         "type": "scattergl",
         "x": [
          -12.580553640137254
         ],
         "xaxis": "x",
         "y": [
          -12.475083806905559
         ],
         "yaxis": "y"
        },
        {
         "hovertemplate": "date=2018-09-29<br>pc1=%{x}<br>pc2=%{y}<extra></extra>",
         "legendgroup": "2018-09-29",
         "marker": {
          "color": "#19d3f3",
          "symbol": "circle"
         },
         "mode": "markers",
         "name": "2018-09-29",
         "showlegend": true,
         "type": "scattergl",
         "x": [
          5.04466392075353
         ],
         "xaxis": "x",
         "y": [
          -14.253753810428258
         ],
         "yaxis": "y"
        },
        {
         "hovertemplate": "date=2018-09-30<br>pc1=%{x}<br>pc2=%{y}<extra></extra>",
         "legendgroup": "2018-09-30",
         "marker": {
          "color": "#FF6692",
          "symbol": "circle"
         },
         "mode": "markers",
         "name": "2018-09-30",
         "showlegend": true,
         "type": "scattergl",
         "x": [
          12.888225782214747
         ],
         "xaxis": "x",
         "y": [
          -17.279723680031314
         ],
         "yaxis": "y"
        },
        {
         "hovertemplate": "date=2018-10-01<br>pc1=%{x}<br>pc2=%{y}<extra></extra>",
         "legendgroup": "2018-10-01",
         "marker": {
          "color": "#B6E880",
          "symbol": "circle"
         },
         "mode": "markers",
         "name": "2018-10-01",
         "showlegend": true,
         "type": "scattergl",
         "x": [
          -11.574852863055604
         ],
         "xaxis": "x",
         "y": [
          -3.670267634475611
         ],
         "yaxis": "y"
        },
        {
         "hovertemplate": "date=2018-10-02<br>pc1=%{x}<br>pc2=%{y}<extra></extra>",
         "legendgroup": "2018-10-02",
         "marker": {
          "color": "#FF97FF",
          "symbol": "circle"
         },
         "mode": "markers",
         "name": "2018-10-02",
         "showlegend": true,
         "type": "scattergl",
         "x": [
          -12.316788259995556
         ],
         "xaxis": "x",
         "y": [
          -6.898242075109251
         ],
         "yaxis": "y"
        },
        {
         "hovertemplate": "date=2018-10-03<br>pc1=%{x}<br>pc2=%{y}<extra></extra>",
         "legendgroup": "2018-10-03",
         "marker": {
          "color": "#FECB52",
          "symbol": "circle"
         },
         "mode": "markers",
         "name": "2018-10-03",
         "showlegend": true,
         "type": "scattergl",
         "x": [
          -12.807015606114707
         ],
         "xaxis": "x",
         "y": [
          -4.831569591892354
         ],
         "yaxis": "y"
        },
        {
         "hovertemplate": "date=2018-10-04<br>pc1=%{x}<br>pc2=%{y}<extra></extra>",
         "legendgroup": "2018-10-04",
         "marker": {
          "color": "#636efa",
          "symbol": "circle"
         },
         "mode": "markers",
         "name": "2018-10-04",
         "showlegend": true,
         "type": "scattergl",
         "x": [
          -12.26379445366048
         ],
         "xaxis": "x",
         "y": [
          -7.013656976572304
         ],
         "yaxis": "y"
        },
        {
         "hovertemplate": "date=2018-10-05<br>pc1=%{x}<br>pc2=%{y}<extra></extra>",
         "legendgroup": "2018-10-05",
         "marker": {
          "color": "#EF553B",
          "symbol": "circle"
         },
         "mode": "markers",
         "name": "2018-10-05",
         "showlegend": true,
         "type": "scattergl",
         "x": [
          -7.951527336625387
         ],
         "xaxis": "x",
         "y": [
          -10.560721766758737
         ],
         "yaxis": "y"
        },
        {
         "hovertemplate": "date=2018-10-06<br>pc1=%{x}<br>pc2=%{y}<extra></extra>",
         "legendgroup": "2018-10-06",
         "marker": {
          "color": "#00cc96",
          "symbol": "circle"
         },
         "mode": "markers",
         "name": "2018-10-06",
         "showlegend": true,
         "type": "scattergl",
         "x": [
          9.056961313225104
         ],
         "xaxis": "x",
         "y": [
          -12.17086380893169
         ],
         "yaxis": "y"
        },
        {
         "hovertemplate": "date=2018-10-07<br>pc1=%{x}<br>pc2=%{y}<extra></extra>",
         "legendgroup": "2018-10-07",
         "marker": {
          "color": "#ab63fa",
          "symbol": "circle"
         },
         "mode": "markers",
         "name": "2018-10-07",
         "showlegend": true,
         "type": "scattergl",
         "x": [
          -3.4468491167763435
         ],
         "xaxis": "x",
         "y": [
          -13.321294530102707
         ],
         "yaxis": "y"
        },
        {
         "hovertemplate": "date=2018-10-08<br>pc1=%{x}<br>pc2=%{y}<extra></extra>",
         "legendgroup": "2018-10-08",
         "marker": {
          "color": "#FFA15A",
          "symbol": "circle"
         },
         "mode": "markers",
         "name": "2018-10-08",
         "showlegend": true,
         "type": "scattergl",
         "x": [
          1.5417167818868165
         ],
         "xaxis": "x",
         "y": [
          -7.1871633804858925
         ],
         "yaxis": "y"
        },
        {
         "hovertemplate": "date=2018-10-09<br>pc1=%{x}<br>pc2=%{y}<extra></extra>",
         "legendgroup": "2018-10-09",
         "marker": {
          "color": "#19d3f3",
          "symbol": "circle"
         },
         "mode": "markers",
         "name": "2018-10-09",
         "showlegend": true,
         "type": "scattergl",
         "x": [
          -11.612959749924647
         ],
         "xaxis": "x",
         "y": [
          -5.38777912992533
         ],
         "yaxis": "y"
        },
        {
         "hovertemplate": "date=2018-10-10<br>pc1=%{x}<br>pc2=%{y}<extra></extra>",
         "legendgroup": "2018-10-10",
         "marker": {
          "color": "#FF6692",
          "symbol": "circle"
         },
         "mode": "markers",
         "name": "2018-10-10",
         "showlegend": true,
         "type": "scattergl",
         "x": [
          -9.554312615018084
         ],
         "xaxis": "x",
         "y": [
          -8.04036981790286
         ],
         "yaxis": "y"
        },
        {
         "hovertemplate": "date=2018-10-11<br>pc1=%{x}<br>pc2=%{y}<extra></extra>",
         "legendgroup": "2018-10-11",
         "marker": {
          "color": "#B6E880",
          "symbol": "circle"
         },
         "mode": "markers",
         "name": "2018-10-11",
         "showlegend": true,
         "type": "scattergl",
         "x": [
          -12.31928196239474
         ],
         "xaxis": "x",
         "y": [
          -2.011279952410584
         ],
         "yaxis": "y"
        },
        {
         "hovertemplate": "date=2018-10-12<br>pc1=%{x}<br>pc2=%{y}<extra></extra>",
         "legendgroup": "2018-10-12",
         "marker": {
          "color": "#FF97FF",
          "symbol": "circle"
         },
         "mode": "markers",
         "name": "2018-10-12",
         "showlegend": true,
         "type": "scattergl",
         "x": [
          -8.152321338503508
         ],
         "xaxis": "x",
         "y": [
          -6.2061905846836884
         ],
         "yaxis": "y"
        },
        {
         "hovertemplate": "date=2018-10-13<br>pc1=%{x}<br>pc2=%{y}<extra></extra>",
         "legendgroup": "2018-10-13",
         "marker": {
          "color": "#FECB52",
          "symbol": "circle"
         },
         "mode": "markers",
         "name": "2018-10-13",
         "showlegend": true,
         "type": "scattergl",
         "x": [
          0.11144237262205646
         ],
         "xaxis": "x",
         "y": [
          -22.211512469033355
         ],
         "yaxis": "y"
        },
        {
         "hovertemplate": "date=2018-10-14<br>pc1=%{x}<br>pc2=%{y}<extra></extra>",
         "legendgroup": "2018-10-14",
         "marker": {
          "color": "#636efa",
          "symbol": "circle"
         },
         "mode": "markers",
         "name": "2018-10-14",
         "showlegend": true,
         "type": "scattergl",
         "x": [
          14.264969678116515
         ],
         "xaxis": "x",
         "y": [
          -15.306015857903736
         ],
         "yaxis": "y"
        },
        {
         "hovertemplate": "date=2018-10-15<br>pc1=%{x}<br>pc2=%{y}<extra></extra>",
         "legendgroup": "2018-10-15",
         "marker": {
          "color": "#EF553B",
          "symbol": "circle"
         },
         "mode": "markers",
         "name": "2018-10-15",
         "showlegend": true,
         "type": "scattergl",
         "x": [
          -12.157653261703256
         ],
         "xaxis": "x",
         "y": [
          -5.90806708401625
         ],
         "yaxis": "y"
        },
        {
         "hovertemplate": "date=2018-10-16<br>pc1=%{x}<br>pc2=%{y}<extra></extra>",
         "legendgroup": "2018-10-16",
         "marker": {
          "color": "#00cc96",
          "symbol": "circle"
         },
         "mode": "markers",
         "name": "2018-10-16",
         "showlegend": true,
         "type": "scattergl",
         "x": [
          -10.629505850341213
         ],
         "xaxis": "x",
         "y": [
          -4.984491216158603
         ],
         "yaxis": "y"
        },
        {
         "hovertemplate": "date=2018-10-17<br>pc1=%{x}<br>pc2=%{y}<extra></extra>",
         "legendgroup": "2018-10-17",
         "marker": {
          "color": "#ab63fa",
          "symbol": "circle"
         },
         "mode": "markers",
         "name": "2018-10-17",
         "showlegend": true,
         "type": "scattergl",
         "x": [
          -11.815515868808674
         ],
         "xaxis": "x",
         "y": [
          -4.417929067312063
         ],
         "yaxis": "y"
        },
        {
         "hovertemplate": "date=2018-10-18<br>pc1=%{x}<br>pc2=%{y}<extra></extra>",
         "legendgroup": "2018-10-18",
         "marker": {
          "color": "#FFA15A",
          "symbol": "circle"
         },
         "mode": "markers",
         "name": "2018-10-18",
         "showlegend": true,
         "type": "scattergl",
         "x": [
          -16.699019541887786
         ],
         "xaxis": "x",
         "y": [
          -12.306132945672385
         ],
         "yaxis": "y"
        },
        {
         "hovertemplate": "date=2018-10-19<br>pc1=%{x}<br>pc2=%{y}<extra></extra>",
         "legendgroup": "2018-10-19",
         "marker": {
          "color": "#19d3f3",
          "symbol": "circle"
         },
         "mode": "markers",
         "name": "2018-10-19",
         "showlegend": true,
         "type": "scattergl",
         "x": [
          -7.949430877891345
         ],
         "xaxis": "x",
         "y": [
          -5.479265586471865
         ],
         "yaxis": "y"
        },
        {
         "hovertemplate": "date=2018-10-20<br>pc1=%{x}<br>pc2=%{y}<extra></extra>",
         "legendgroup": "2018-10-20",
         "marker": {
          "color": "#FF6692",
          "symbol": "circle"
         },
         "mode": "markers",
         "name": "2018-10-20",
         "showlegend": true,
         "type": "scattergl",
         "x": [
          8.191233329580646
         ],
         "xaxis": "x",
         "y": [
          -13.288044591571744
         ],
         "yaxis": "y"
        },
        {
         "hovertemplate": "date=2018-10-21<br>pc1=%{x}<br>pc2=%{y}<extra></extra>",
         "legendgroup": "2018-10-21",
         "marker": {
          "color": "#B6E880",
          "symbol": "circle"
         },
         "mode": "markers",
         "name": "2018-10-21",
         "showlegend": true,
         "type": "scattergl",
         "x": [
          11.242965346999647
         ],
         "xaxis": "x",
         "y": [
          -18.13242927114564
         ],
         "yaxis": "y"
        },
        {
         "hovertemplate": "date=2018-10-22<br>pc1=%{x}<br>pc2=%{y}<extra></extra>",
         "legendgroup": "2018-10-22",
         "marker": {
          "color": "#FF97FF",
          "symbol": "circle"
         },
         "mode": "markers",
         "name": "2018-10-22",
         "showlegend": true,
         "type": "scattergl",
         "x": [
          -9.214442362054868
         ],
         "xaxis": "x",
         "y": [
          -0.45934119298595066
         ],
         "yaxis": "y"
        },
        {
         "hovertemplate": "date=2018-10-23<br>pc1=%{x}<br>pc2=%{y}<extra></extra>",
         "legendgroup": "2018-10-23",
         "marker": {
          "color": "#FECB52",
          "symbol": "circle"
         },
         "mode": "markers",
         "name": "2018-10-23",
         "showlegend": true,
         "type": "scattergl",
         "x": [
          -9.872290427371084
         ],
         "xaxis": "x",
         "y": [
          -3.832549833088672
         ],
         "yaxis": "y"
        },
        {
         "hovertemplate": "date=2018-10-24<br>pc1=%{x}<br>pc2=%{y}<extra></extra>",
         "legendgroup": "2018-10-24",
         "marker": {
          "color": "#636efa",
          "symbol": "circle"
         },
         "mode": "markers",
         "name": "2018-10-24",
         "showlegend": true,
         "type": "scattergl",
         "x": [
          -8.242619456993742
         ],
         "xaxis": "x",
         "y": [
          -0.8901069107068762
         ],
         "yaxis": "y"
        },
        {
         "hovertemplate": "date=2018-10-25<br>pc1=%{x}<br>pc2=%{y}<extra></extra>",
         "legendgroup": "2018-10-25",
         "marker": {
          "color": "#EF553B",
          "symbol": "circle"
         },
         "mode": "markers",
         "name": "2018-10-25",
         "showlegend": true,
         "type": "scattergl",
         "x": [
          -8.42192872623435
         ],
         "xaxis": "x",
         "y": [
          0.890019656650548
         ],
         "yaxis": "y"
        },
        {
         "hovertemplate": "date=2018-10-26<br>pc1=%{x}<br>pc2=%{y}<extra></extra>",
         "legendgroup": "2018-10-26",
         "marker": {
          "color": "#00cc96",
          "symbol": "circle"
         },
         "mode": "markers",
         "name": "2018-10-26",
         "showlegend": true,
         "type": "scattergl",
         "x": [
          -9.004753854602702
         ],
         "xaxis": "x",
         "y": [
          -4.149648804660611
         ],
         "yaxis": "y"
        },
        {
         "hovertemplate": "date=2018-10-27<br>pc1=%{x}<br>pc2=%{y}<extra></extra>",
         "legendgroup": "2018-10-27",
         "marker": {
          "color": "#ab63fa",
          "symbol": "circle"
         },
         "mode": "markers",
         "name": "2018-10-27",
         "showlegend": true,
         "type": "scattergl",
         "x": [
          9.274378687598777
         ],
         "xaxis": "x",
         "y": [
          -10.270747217628912
         ],
         "yaxis": "y"
        },
        {
         "hovertemplate": "date=2018-10-28<br>pc1=%{x}<br>pc2=%{y}<extra></extra>",
         "legendgroup": "2018-10-28",
         "marker": {
          "color": "#FFA15A",
          "symbol": "circle"
         },
         "mode": "markers",
         "name": "2018-10-28",
         "showlegend": true,
         "type": "scattergl",
         "x": [
          17.0376533019378
         ],
         "xaxis": "x",
         "y": [
          -10.528289715832333
         ],
         "yaxis": "y"
        },
        {
         "hovertemplate": "date=2018-10-29<br>pc1=%{x}<br>pc2=%{y}<extra></extra>",
         "legendgroup": "2018-10-29",
         "marker": {
          "color": "#19d3f3",
          "symbol": "circle"
         },
         "mode": "markers",
         "name": "2018-10-29",
         "showlegend": true,
         "type": "scattergl",
         "x": [
          -10.674763958206121
         ],
         "xaxis": "x",
         "y": [
          -2.317578604611523
         ],
         "yaxis": "y"
        },
        {
         "hovertemplate": "date=2018-10-30<br>pc1=%{x}<br>pc2=%{y}<extra></extra>",
         "legendgroup": "2018-10-30",
         "marker": {
          "color": "#FF6692",
          "symbol": "circle"
         },
         "mode": "markers",
         "name": "2018-10-30",
         "showlegend": true,
         "type": "scattergl",
         "x": [
          -7.50581633059591
         ],
         "xaxis": "x",
         "y": [
          0.5325373309743927
         ],
         "yaxis": "y"
        },
        {
         "hovertemplate": "date=2018-10-31<br>pc1=%{x}<br>pc2=%{y}<extra></extra>",
         "legendgroup": "2018-10-31",
         "marker": {
          "color": "#B6E880",
          "symbol": "circle"
         },
         "mode": "markers",
         "name": "2018-10-31",
         "showlegend": true,
         "type": "scattergl",
         "x": [
          -9.57866849382375
         ],
         "xaxis": "x",
         "y": [
          -4.197564440500283
         ],
         "yaxis": "y"
        },
        {
         "hovertemplate": "date=2018-11-01<br>pc1=%{x}<br>pc2=%{y}<extra></extra>",
         "legendgroup": "2018-11-01",
         "marker": {
          "color": "#FF97FF",
          "symbol": "circle"
         },
         "mode": "markers",
         "name": "2018-11-01",
         "showlegend": true,
         "type": "scattergl",
         "x": [
          -8.112487734281094
         ],
         "xaxis": "x",
         "y": [
          2.858732047380628
         ],
         "yaxis": "y"
        },
        {
         "hovertemplate": "date=2018-11-02<br>pc1=%{x}<br>pc2=%{y}<extra></extra>",
         "legendgroup": "2018-11-02",
         "marker": {
          "color": "#FECB52",
          "symbol": "circle"
         },
         "mode": "markers",
         "name": "2018-11-02",
         "showlegend": true,
         "type": "scattergl",
         "x": [
          -1.4890353129879135
         ],
         "xaxis": "x",
         "y": [
          2.633723594980981
         ],
         "yaxis": "y"
        },
        {
         "hovertemplate": "date=2018-11-03<br>pc1=%{x}<br>pc2=%{y}<extra></extra>",
         "legendgroup": "2018-11-03",
         "marker": {
          "color": "#636efa",
          "symbol": "circle"
         },
         "mode": "markers",
         "name": "2018-11-03",
         "showlegend": true,
         "type": "scattergl",
         "x": [
          4.910317014139688
         ],
         "xaxis": "x",
         "y": [
          -11.446726293620529
         ],
         "yaxis": "y"
        },
        {
         "hovertemplate": "date=2018-11-04<br>pc1=%{x}<br>pc2=%{y}<extra></extra>",
         "legendgroup": "2018-11-04",
         "marker": {
          "color": "#EF553B",
          "symbol": "circle"
         },
         "mode": "markers",
         "name": "2018-11-04",
         "showlegend": true,
         "type": "scattergl",
         "x": [
          18.461407239578588
         ],
         "xaxis": "x",
         "y": [
          -8.936329964848712
         ],
         "yaxis": "y"
        },
        {
         "hovertemplate": "date=2018-11-05<br>pc1=%{x}<br>pc2=%{y}<extra></extra>",
         "legendgroup": "2018-11-05",
         "marker": {
          "color": "#00cc96",
          "symbol": "circle"
         },
         "mode": "markers",
         "name": "2018-11-05",
         "showlegend": true,
         "type": "scattergl",
         "x": [
          -9.352440593898214
         ],
         "xaxis": "x",
         "y": [
          3.0899168393428407
         ],
         "yaxis": "y"
        },
        {
         "hovertemplate": "date=2018-11-06<br>pc1=%{x}<br>pc2=%{y}<extra></extra>",
         "legendgroup": "2018-11-06",
         "marker": {
          "color": "#ab63fa",
          "symbol": "circle"
         },
         "mode": "markers",
         "name": "2018-11-06",
         "showlegend": true,
         "type": "scattergl",
         "x": [
          -3.1331666475072173
         ],
         "xaxis": "x",
         "y": [
          3.6737899360702264
         ],
         "yaxis": "y"
        },
        {
         "hovertemplate": "date=2018-11-07<br>pc1=%{x}<br>pc2=%{y}<extra></extra>",
         "legendgroup": "2018-11-07",
         "marker": {
          "color": "#FFA15A",
          "symbol": "circle"
         },
         "mode": "markers",
         "name": "2018-11-07",
         "showlegend": true,
         "type": "scattergl",
         "x": [
          -5.136324098954262
         ],
         "xaxis": "x",
         "y": [
          6.658989624475926
         ],
         "yaxis": "y"
        },
        {
         "hovertemplate": "date=2018-11-08<br>pc1=%{x}<br>pc2=%{y}<extra></extra>",
         "legendgroup": "2018-11-08",
         "marker": {
          "color": "#19d3f3",
          "symbol": "circle"
         },
         "mode": "markers",
         "name": "2018-11-08",
         "showlegend": true,
         "type": "scattergl",
         "x": [
          -7.1583095796776774
         ],
         "xaxis": "x",
         "y": [
          5.876537630997343
         ],
         "yaxis": "y"
        },
        {
         "hovertemplate": "date=2018-11-09<br>pc1=%{x}<br>pc2=%{y}<extra></extra>",
         "legendgroup": "2018-11-09",
         "marker": {
          "color": "#FF6692",
          "symbol": "circle"
         },
         "mode": "markers",
         "name": "2018-11-09",
         "showlegend": true,
         "type": "scattergl",
         "x": [
          -3.585011254453147
         ],
         "xaxis": "x",
         "y": [
          6.801846764115219
         ],
         "yaxis": "y"
        },
        {
         "hovertemplate": "date=2018-11-10<br>pc1=%{x}<br>pc2=%{y}<extra></extra>",
         "legendgroup": "2018-11-10",
         "marker": {
          "color": "#B6E880",
          "symbol": "circle"
         },
         "mode": "markers",
         "name": "2018-11-10",
         "showlegend": true,
         "type": "scattergl",
         "x": [
          15.078152497901351
         ],
         "xaxis": "x",
         "y": [
          -3.3577472319575237
         ],
         "yaxis": "y"
        },
        {
         "hovertemplate": "date=2018-11-11<br>pc1=%{x}<br>pc2=%{y}<extra></extra>",
         "legendgroup": "2018-11-11",
         "marker": {
          "color": "#FF97FF",
          "symbol": "circle"
         },
         "mode": "markers",
         "name": "2018-11-11",
         "showlegend": true,
         "type": "scattergl",
         "x": [
          13.775429739622657
         ],
         "xaxis": "x",
         "y": [
          -8.263731186705828
         ],
         "yaxis": "y"
        },
        {
         "hovertemplate": "date=2018-11-12<br>pc1=%{x}<br>pc2=%{y}<extra></extra>",
         "legendgroup": "2018-11-12",
         "marker": {
          "color": "#FECB52",
          "symbol": "circle"
         },
         "mode": "markers",
         "name": "2018-11-12",
         "showlegend": true,
         "type": "scattergl",
         "x": [
          5.694604032044078
         ],
         "xaxis": "x",
         "y": [
          1.5242039621255399
         ],
         "yaxis": "y"
        },
        {
         "hovertemplate": "date=2018-11-13<br>pc1=%{x}<br>pc2=%{y}<extra></extra>",
         "legendgroup": "2018-11-13",
         "marker": {
          "color": "#636efa",
          "symbol": "circle"
         },
         "mode": "markers",
         "name": "2018-11-13",
         "showlegend": true,
         "type": "scattergl",
         "x": [
          -5.846420870013443
         ],
         "xaxis": "x",
         "y": [
          6.540868215647115
         ],
         "yaxis": "y"
        },
        {
         "hovertemplate": "date=2018-11-14<br>pc1=%{x}<br>pc2=%{y}<extra></extra>",
         "legendgroup": "2018-11-14",
         "marker": {
          "color": "#EF553B",
          "symbol": "circle"
         },
         "mode": "markers",
         "name": "2018-11-14",
         "showlegend": true,
         "type": "scattergl",
         "x": [
          -8.101640802186996
         ],
         "xaxis": "x",
         "y": [
          1.729358615381164
         ],
         "yaxis": "y"
        },
        {
         "hovertemplate": "date=2018-11-15<br>pc1=%{x}<br>pc2=%{y}<extra></extra>",
         "legendgroup": "2018-11-15",
         "marker": {
          "color": "#00cc96",
          "symbol": "circle"
         },
         "mode": "markers",
         "name": "2018-11-15",
         "showlegend": true,
         "type": "scattergl",
         "x": [
          -3.9538010178410015
         ],
         "xaxis": "x",
         "y": [
          5.146784946562757
         ],
         "yaxis": "y"
        },
        {
         "hovertemplate": "date=2018-11-16<br>pc1=%{x}<br>pc2=%{y}<extra></extra>",
         "legendgroup": "2018-11-16",
         "marker": {
          "color": "#ab63fa",
          "symbol": "circle"
         },
         "mode": "markers",
         "name": "2018-11-16",
         "showlegend": true,
         "type": "scattergl",
         "x": [
          -6.866643003897833
         ],
         "xaxis": "x",
         "y": [
          3.129631645229609
         ],
         "yaxis": "y"
        },
        {
         "hovertemplate": "date=2018-11-17<br>pc1=%{x}<br>pc2=%{y}<extra></extra>",
         "legendgroup": "2018-11-17",
         "marker": {
          "color": "#FFA15A",
          "symbol": "circle"
         },
         "mode": "markers",
         "name": "2018-11-17",
         "showlegend": true,
         "type": "scattergl",
         "x": [
          12.915641444992392
         ],
         "xaxis": "x",
         "y": [
          3.539232760698298
         ],
         "yaxis": "y"
        },
        {
         "hovertemplate": "date=2018-11-18<br>pc1=%{x}<br>pc2=%{y}<extra></extra>",
         "legendgroup": "2018-11-18",
         "marker": {
          "color": "#19d3f3",
          "symbol": "circle"
         },
         "mode": "markers",
         "name": "2018-11-18",
         "showlegend": true,
         "type": "scattergl",
         "x": [
          34.49286387296798
         ],
         "xaxis": "x",
         "y": [
          30.398118982059827
         ],
         "yaxis": "y"
        },
        {
         "hovertemplate": "date=2018-11-19<br>pc1=%{x}<br>pc2=%{y}<extra></extra>",
         "legendgroup": "2018-11-19",
         "marker": {
          "color": "#FF6692",
          "symbol": "circle"
         },
         "mode": "markers",
         "name": "2018-11-19",
         "showlegend": true,
         "type": "scattergl",
         "x": [
          -10.317655185535912
         ],
         "xaxis": "x",
         "y": [
          20.50978924082982
         ],
         "yaxis": "y"
        },
        {
         "hovertemplate": "date=2018-11-20<br>pc1=%{x}<br>pc2=%{y}<extra></extra>",
         "legendgroup": "2018-11-20",
         "marker": {
          "color": "#B6E880",
          "symbol": "circle"
         },
         "mode": "markers",
         "name": "2018-11-20",
         "showlegend": true,
         "type": "scattergl",
         "x": [
          -18.84171299173749
         ],
         "xaxis": "x",
         "y": [
          14.863143853991126
         ],
         "yaxis": "y"
        },
        {
         "hovertemplate": "date=2018-11-21<br>pc1=%{x}<br>pc2=%{y}<extra></extra>",
         "legendgroup": "2018-11-21",
         "marker": {
          "color": "#FF97FF",
          "symbol": "circle"
         },
         "mode": "markers",
         "name": "2018-11-21",
         "showlegend": true,
         "type": "scattergl",
         "x": [
          -6.542526872274758
         ],
         "xaxis": "x",
         "y": [
          4.292000237557751
         ],
         "yaxis": "y"
        },
        {
         "hovertemplate": "date=2018-11-22<br>pc1=%{x}<br>pc2=%{y}<extra></extra>",
         "legendgroup": "2018-11-22",
         "marker": {
          "color": "#FECB52",
          "symbol": "circle"
         },
         "mode": "markers",
         "name": "2018-11-22",
         "showlegend": true,
         "type": "scattergl",
         "x": [
          41.57423630369826
         ],
         "xaxis": "x",
         "y": [
          -23.186609906146323
         ],
         "yaxis": "y"
        },
        {
         "hovertemplate": "date=2018-11-23<br>pc1=%{x}<br>pc2=%{y}<extra></extra>",
         "legendgroup": "2018-11-23",
         "marker": {
          "color": "#636efa",
          "symbol": "circle"
         },
         "mode": "markers",
         "name": "2018-11-23",
         "showlegend": true,
         "type": "scattergl",
         "x": [
          16.874382640611486
         ],
         "xaxis": "x",
         "y": [
          -6.077618401860201
         ],
         "yaxis": "y"
        },
        {
         "hovertemplate": "date=2018-11-24<br>pc1=%{x}<br>pc2=%{y}<extra></extra>",
         "legendgroup": "2018-11-24",
         "marker": {
          "color": "#EF553B",
          "symbol": "circle"
         },
         "mode": "markers",
         "name": "2018-11-24",
         "showlegend": true,
         "type": "scattergl",
         "x": [
          -3.30571919583323
         ],
         "xaxis": "x",
         "y": [
          2.65584387708622
         ],
         "yaxis": "y"
        },
        {
         "hovertemplate": "date=2018-11-25<br>pc1=%{x}<br>pc2=%{y}<extra></extra>",
         "legendgroup": "2018-11-25",
         "marker": {
          "color": "#00cc96",
          "symbol": "circle"
         },
         "mode": "markers",
         "name": "2018-11-25",
         "showlegend": true,
         "type": "scattergl",
         "x": [
          3.7782101094667477
         ],
         "xaxis": "x",
         "y": [
          1.894418194692915
         ],
         "yaxis": "y"
        },
        {
         "hovertemplate": "date=2018-11-26<br>pc1=%{x}<br>pc2=%{y}<extra></extra>",
         "legendgroup": "2018-11-26",
         "marker": {
          "color": "#ab63fa",
          "symbol": "circle"
         },
         "mode": "markers",
         "name": "2018-11-26",
         "showlegend": true,
         "type": "scattergl",
         "x": [
          -8.407580803404315
         ],
         "xaxis": "x",
         "y": [
          -1.8609338016297567
         ],
         "yaxis": "y"
        },
        {
         "hovertemplate": "date=2018-11-27<br>pc1=%{x}<br>pc2=%{y}<extra></extra>",
         "legendgroup": "2018-11-27",
         "marker": {
          "color": "#FFA15A",
          "symbol": "circle"
         },
         "mode": "markers",
         "name": "2018-11-27",
         "showlegend": true,
         "type": "scattergl",
         "x": [
          -4.124368308722822
         ],
         "xaxis": "x",
         "y": [
          7.317678874036554
         ],
         "yaxis": "y"
        },
        {
         "hovertemplate": "date=2018-11-28<br>pc1=%{x}<br>pc2=%{y}<extra></extra>",
         "legendgroup": "2018-11-28",
         "marker": {
          "color": "#19d3f3",
          "symbol": "circle"
         },
         "mode": "markers",
         "name": "2018-11-28",
         "showlegend": true,
         "type": "scattergl",
         "x": [
          -9.170927506795815
         ],
         "xaxis": "x",
         "y": [
          1.258662650472155
         ],
         "yaxis": "y"
        },
        {
         "hovertemplate": "date=2018-11-29<br>pc1=%{x}<br>pc2=%{y}<extra></extra>",
         "legendgroup": "2018-11-29",
         "marker": {
          "color": "#FF6692",
          "symbol": "circle"
         },
         "mode": "markers",
         "name": "2018-11-29",
         "showlegend": true,
         "type": "scattergl",
         "x": [
          -6.192455626626526
         ],
         "xaxis": "x",
         "y": [
          8.550043578431296
         ],
         "yaxis": "y"
        },
        {
         "hovertemplate": "date=2018-11-30<br>pc1=%{x}<br>pc2=%{y}<extra></extra>",
         "legendgroup": "2018-11-30",
         "marker": {
          "color": "#B6E880",
          "symbol": "circle"
         },
         "mode": "markers",
         "name": "2018-11-30",
         "showlegend": true,
         "type": "scattergl",
         "x": [
          -5.961505106338649
         ],
         "xaxis": "x",
         "y": [
          7.037759615668498
         ],
         "yaxis": "y"
        },
        {
         "hovertemplate": "date=2018-12-01<br>pc1=%{x}<br>pc2=%{y}<extra></extra>",
         "legendgroup": "2018-12-01",
         "marker": {
          "color": "#FF97FF",
          "symbol": "circle"
         },
         "mode": "markers",
         "name": "2018-12-01",
         "showlegend": true,
         "type": "scattergl",
         "x": [
          16.527522918292384
         ],
         "xaxis": "x",
         "y": [
          -5.472838623478678
         ],
         "yaxis": "y"
        },
        {
         "hovertemplate": "date=2018-12-02<br>pc1=%{x}<br>pc2=%{y}<extra></extra>",
         "legendgroup": "2018-12-02",
         "marker": {
          "color": "#FECB52",
          "symbol": "circle"
         },
         "mode": "markers",
         "name": "2018-12-02",
         "showlegend": true,
         "type": "scattergl",
         "x": [
          17.022442568945547
         ],
         "xaxis": "x",
         "y": [
          -5.441353059673725
         ],
         "yaxis": "y"
        },
        {
         "hovertemplate": "date=2018-12-03<br>pc1=%{x}<br>pc2=%{y}<extra></extra>",
         "legendgroup": "2018-12-03",
         "marker": {
          "color": "#636efa",
          "symbol": "circle"
         },
         "mode": "markers",
         "name": "2018-12-03",
         "showlegend": true,
         "type": "scattergl",
         "x": [
          -5.260772353778535
         ],
         "xaxis": "x",
         "y": [
          8.262822783223577
         ],
         "yaxis": "y"
        },
        {
         "hovertemplate": "date=2018-12-04<br>pc1=%{x}<br>pc2=%{y}<extra></extra>",
         "legendgroup": "2018-12-04",
         "marker": {
          "color": "#EF553B",
          "symbol": "circle"
         },
         "mode": "markers",
         "name": "2018-12-04",
         "showlegend": true,
         "type": "scattergl",
         "x": [
          -4.452534096690795
         ],
         "xaxis": "x",
         "y": [
          5.766862108396646
         ],
         "yaxis": "y"
        },
        {
         "hovertemplate": "date=2018-12-05<br>pc1=%{x}<br>pc2=%{y}<extra></extra>",
         "legendgroup": "2018-12-05",
         "marker": {
          "color": "#00cc96",
          "symbol": "circle"
         },
         "mode": "markers",
         "name": "2018-12-05",
         "showlegend": true,
         "type": "scattergl",
         "x": [
          -3.308944068367031
         ],
         "xaxis": "x",
         "y": [
          4.055408896202651
         ],
         "yaxis": "y"
        },
        {
         "hovertemplate": "date=2018-12-06<br>pc1=%{x}<br>pc2=%{y}<extra></extra>",
         "legendgroup": "2018-12-06",
         "marker": {
          "color": "#ab63fa",
          "symbol": "circle"
         },
         "mode": "markers",
         "name": "2018-12-06",
         "showlegend": true,
         "type": "scattergl",
         "x": [
          -5.162148944083317
         ],
         "xaxis": "x",
         "y": [
          5.074037976241974
         ],
         "yaxis": "y"
        },
        {
         "hovertemplate": "date=2018-12-07<br>pc1=%{x}<br>pc2=%{y}<extra></extra>",
         "legendgroup": "2018-12-07",
         "marker": {
          "color": "#FFA15A",
          "symbol": "circle"
         },
         "mode": "markers",
         "name": "2018-12-07",
         "showlegend": true,
         "type": "scattergl",
         "x": [
          -10.068871327441967
         ],
         "xaxis": "x",
         "y": [
          -7.0710650169144165
         ],
         "yaxis": "y"
        },
        {
         "hovertemplate": "date=2018-12-08<br>pc1=%{x}<br>pc2=%{y}<extra></extra>",
         "legendgroup": "2018-12-08",
         "marker": {
          "color": "#19d3f3",
          "symbol": "circle"
         },
         "mode": "markers",
         "name": "2018-12-08",
         "showlegend": true,
         "type": "scattergl",
         "x": [
          12.465819750219437
         ],
         "xaxis": "x",
         "y": [
          -1.2118240518931351
         ],
         "yaxis": "y"
        },
        {
         "hovertemplate": "date=2018-12-09<br>pc1=%{x}<br>pc2=%{y}<extra></extra>",
         "legendgroup": "2018-12-09",
         "marker": {
          "color": "#FF6692",
          "symbol": "circle"
         },
         "mode": "markers",
         "name": "2018-12-09",
         "showlegend": true,
         "type": "scattergl",
         "x": [
          13.980596820904495
         ],
         "xaxis": "x",
         "y": [
          -8.4753423683437
         ],
         "yaxis": "y"
        },
        {
         "hovertemplate": "date=2018-12-10<br>pc1=%{x}<br>pc2=%{y}<extra></extra>",
         "legendgroup": "2018-12-10",
         "marker": {
          "color": "#B6E880",
          "symbol": "circle"
         },
         "mode": "markers",
         "name": "2018-12-10",
         "showlegend": true,
         "type": "scattergl",
         "x": [
          -2.8284905233452697
         ],
         "xaxis": "x",
         "y": [
          6.89305304556748
         ],
         "yaxis": "y"
        },
        {
         "hovertemplate": "date=2018-12-11<br>pc1=%{x}<br>pc2=%{y}<extra></extra>",
         "legendgroup": "2018-12-11",
         "marker": {
          "color": "#FF97FF",
          "symbol": "circle"
         },
         "mode": "markers",
         "name": "2018-12-11",
         "showlegend": true,
         "type": "scattergl",
         "x": [
          -1.1694572663743765
         ],
         "xaxis": "x",
         "y": [
          7.435254830221587
         ],
         "yaxis": "y"
        },
        {
         "hovertemplate": "date=2018-12-12<br>pc1=%{x}<br>pc2=%{y}<extra></extra>",
         "legendgroup": "2018-12-12",
         "marker": {
          "color": "#FECB52",
          "symbol": "circle"
         },
         "mode": "markers",
         "name": "2018-12-12",
         "showlegend": true,
         "type": "scattergl",
         "x": [
          -4.331868454447167
         ],
         "xaxis": "x",
         "y": [
          3.1937284150484677
         ],
         "yaxis": "y"
        },
        {
         "hovertemplate": "date=2018-12-13<br>pc1=%{x}<br>pc2=%{y}<extra></extra>",
         "legendgroup": "2018-12-13",
         "marker": {
          "color": "#636efa",
          "symbol": "circle"
         },
         "mode": "markers",
         "name": "2018-12-13",
         "showlegend": true,
         "type": "scattergl",
         "x": [
          -2.271846128702448
         ],
         "xaxis": "x",
         "y": [
          7.270975884485327
         ],
         "yaxis": "y"
        },
        {
         "hovertemplate": "date=2018-12-14<br>pc1=%{x}<br>pc2=%{y}<extra></extra>",
         "legendgroup": "2018-12-14",
         "marker": {
          "color": "#EF553B",
          "symbol": "circle"
         },
         "mode": "markers",
         "name": "2018-12-14",
         "showlegend": true,
         "type": "scattergl",
         "x": [
          -1.6426849300120185
         ],
         "xaxis": "x",
         "y": [
          8.201231121414509
         ],
         "yaxis": "y"
        },
        {
         "hovertemplate": "date=2018-12-15<br>pc1=%{x}<br>pc2=%{y}<extra></extra>",
         "legendgroup": "2018-12-15",
         "marker": {
          "color": "#00cc96",
          "symbol": "circle"
         },
         "mode": "markers",
         "name": "2018-12-15",
         "showlegend": true,
         "type": "scattergl",
         "x": [
          4.114228604270015
         ],
         "xaxis": "x",
         "y": [
          -6.93852172612977
         ],
         "yaxis": "y"
        },
        {
         "hovertemplate": "date=2018-12-16<br>pc1=%{x}<br>pc2=%{y}<extra></extra>",
         "legendgroup": "2018-12-16",
         "marker": {
          "color": "#ab63fa",
          "symbol": "circle"
         },
         "mode": "markers",
         "name": "2018-12-16",
         "showlegend": true,
         "type": "scattergl",
         "x": [
          10.40805238552502
         ],
         "xaxis": "x",
         "y": [
          -7.452736890778493
         ],
         "yaxis": "y"
        },
        {
         "hovertemplate": "date=2018-12-17<br>pc1=%{x}<br>pc2=%{y}<extra></extra>",
         "legendgroup": "2018-12-17",
         "marker": {
          "color": "#FFA15A",
          "symbol": "circle"
         },
         "mode": "markers",
         "name": "2018-12-17",
         "showlegend": true,
         "type": "scattergl",
         "x": [
          -2.075377351345065
         ],
         "xaxis": "x",
         "y": [
          3.580392953805127
         ],
         "yaxis": "y"
        },
        {
         "hovertemplate": "date=2018-12-18<br>pc1=%{x}<br>pc2=%{y}<extra></extra>",
         "legendgroup": "2018-12-18",
         "marker": {
          "color": "#19d3f3",
          "symbol": "circle"
         },
         "mode": "markers",
         "name": "2018-12-18",
         "showlegend": true,
         "type": "scattergl",
         "x": [
          -2.5658666627184226
         ],
         "xaxis": "x",
         "y": [
          5.716493849848784
         ],
         "yaxis": "y"
        },
        {
         "hovertemplate": "date=2018-12-19<br>pc1=%{x}<br>pc2=%{y}<extra></extra>",
         "legendgroup": "2018-12-19",
         "marker": {
          "color": "#FF6692",
          "symbol": "circle"
         },
         "mode": "markers",
         "name": "2018-12-19",
         "showlegend": true,
         "type": "scattergl",
         "x": [
          -1.8425873860821025
         ],
         "xaxis": "x",
         "y": [
          9.707407559984006
         ],
         "yaxis": "y"
        },
        {
         "hovertemplate": "date=2018-12-20<br>pc1=%{x}<br>pc2=%{y}<extra></extra>",
         "legendgroup": "2018-12-20",
         "marker": {
          "color": "#B6E880",
          "symbol": "circle"
         },
         "mode": "markers",
         "name": "2018-12-20",
         "showlegend": true,
         "type": "scattergl",
         "x": [
          -3.6962290437316736
         ],
         "xaxis": "x",
         "y": [
          3.6881711873379137
         ],
         "yaxis": "y"
        },
        {
         "hovertemplate": "date=2018-12-21<br>pc1=%{x}<br>pc2=%{y}<extra></extra>",
         "legendgroup": "2018-12-21",
         "marker": {
          "color": "#FF97FF",
          "symbol": "circle"
         },
         "mode": "markers",
         "name": "2018-12-21",
         "showlegend": true,
         "type": "scattergl",
         "x": [
          -2.4153140120178476
         ],
         "xaxis": "x",
         "y": [
          9.194353985154466
         ],
         "yaxis": "y"
        },
        {
         "hovertemplate": "date=2018-12-22<br>pc1=%{x}<br>pc2=%{y}<extra></extra>",
         "legendgroup": "2018-12-22",
         "marker": {
          "color": "#FECB52",
          "symbol": "circle"
         },
         "mode": "markers",
         "name": "2018-12-22",
         "showlegend": true,
         "type": "scattergl",
         "x": [
          -7.789131918606763
         ],
         "xaxis": "x",
         "y": [
          -0.9464205894770749
         ],
         "yaxis": "y"
        },
        {
         "hovertemplate": "date=2018-12-23<br>pc1=%{x}<br>pc2=%{y}<extra></extra>",
         "legendgroup": "2018-12-23",
         "marker": {
          "color": "#636efa",
          "symbol": "circle"
         },
         "mode": "markers",
         "name": "2018-12-23",
         "showlegend": true,
         "type": "scattergl",
         "x": [
          -8.002951841846212
         ],
         "xaxis": "x",
         "y": [
          7.0889801523851474
         ],
         "yaxis": "y"
        },
        {
         "hovertemplate": "date=2018-12-24<br>pc1=%{x}<br>pc2=%{y}<extra></extra>",
         "legendgroup": "2018-12-24",
         "marker": {
          "color": "#EF553B",
          "symbol": "circle"
         },
         "mode": "markers",
         "name": "2018-12-24",
         "showlegend": true,
         "type": "scattergl",
         "x": [
          15.728016072123221
         ],
         "xaxis": "x",
         "y": [
          -3.0703838927329548
         ],
         "yaxis": "y"
        },
        {
         "hovertemplate": "date=2018-12-25<br>pc1=%{x}<br>pc2=%{y}<extra></extra>",
         "legendgroup": "2018-12-25",
         "marker": {
          "color": "#00cc96",
          "symbol": "circle"
         },
         "mode": "markers",
         "name": "2018-12-25",
         "showlegend": true,
         "type": "scattergl",
         "x": [
          34.930711531333735
         ],
         "xaxis": "x",
         "y": [
          -19.442613566703727
         ],
         "yaxis": "y"
        },
        {
         "hovertemplate": "date=2018-12-26<br>pc1=%{x}<br>pc2=%{y}<extra></extra>",
         "legendgroup": "2018-12-26",
         "marker": {
          "color": "#ab63fa",
          "symbol": "circle"
         },
         "mode": "markers",
         "name": "2018-12-26",
         "showlegend": true,
         "type": "scattergl",
         "x": [
          1.2916404664700143
         ],
         "xaxis": "x",
         "y": [
          2.353838854357729
         ],
         "yaxis": "y"
        },
        {
         "hovertemplate": "date=2018-12-27<br>pc1=%{x}<br>pc2=%{y}<extra></extra>",
         "legendgroup": "2018-12-27",
         "marker": {
          "color": "#FFA15A",
          "symbol": "circle"
         },
         "mode": "markers",
         "name": "2018-12-27",
         "showlegend": true,
         "type": "scattergl",
         "x": [
          0.05464323867378834
         ],
         "xaxis": "x",
         "y": [
          9.587550308345516
         ],
         "yaxis": "y"
        },
        {
         "hovertemplate": "date=2018-12-28<br>pc1=%{x}<br>pc2=%{y}<extra></extra>",
         "legendgroup": "2018-12-28",
         "marker": {
          "color": "#19d3f3",
          "symbol": "circle"
         },
         "mode": "markers",
         "name": "2018-12-28",
         "showlegend": true,
         "type": "scattergl",
         "x": [
          -4.738689023714141
         ],
         "xaxis": "x",
         "y": [
          10.62779336198279
         ],
         "yaxis": "y"
        },
        {
         "hovertemplate": "date=2018-12-29<br>pc1=%{x}<br>pc2=%{y}<extra></extra>",
         "legendgroup": "2018-12-29",
         "marker": {
          "color": "#FF6692",
          "symbol": "circle"
         },
         "mode": "markers",
         "name": "2018-12-29",
         "showlegend": true,
         "type": "scattergl",
         "x": [
          -10.690297016268403
         ],
         "xaxis": "x",
         "y": [
          2.353020668200755
         ],
         "yaxis": "y"
        },
        {
         "hovertemplate": "date=2018-12-30<br>pc1=%{x}<br>pc2=%{y}<extra></extra>",
         "legendgroup": "2018-12-30",
         "marker": {
          "color": "#B6E880",
          "symbol": "circle"
         },
         "mode": "markers",
         "name": "2018-12-30",
         "showlegend": true,
         "type": "scattergl",
         "x": [
          -5.549095076351066
         ],
         "xaxis": "x",
         "y": [
          13.488348013140811
         ],
         "yaxis": "y"
        },
        {
         "hovertemplate": "date=2018-12-31<br>pc1=%{x}<br>pc2=%{y}<extra></extra>",
         "legendgroup": "2018-12-31",
         "marker": {
          "color": "#FF97FF",
          "symbol": "circle"
         },
         "mode": "markers",
         "name": "2018-12-31",
         "showlegend": true,
         "type": "scattergl",
         "x": [
          9.332532637461766
         ],
         "xaxis": "x",
         "y": [
          0.7676860270294562
         ],
         "yaxis": "y"
        },
        {
         "hovertemplate": "date=2019-01-01<br>pc1=%{x}<br>pc2=%{y}<extra></extra>",
         "legendgroup": "2019-01-01",
         "marker": {
          "color": "#FECB52",
          "symbol": "circle"
         },
         "mode": "markers",
         "name": "2019-01-01",
         "showlegend": true,
         "type": "scattergl",
         "x": [
          31.71944606434317
         ],
         "xaxis": "x",
         "y": [
          -18.88768868848856
         ],
         "yaxis": "y"
        },
        {
         "hovertemplate": "date=2019-01-02<br>pc1=%{x}<br>pc2=%{y}<extra></extra>",
         "legendgroup": "2019-01-02",
         "marker": {
          "color": "#636efa",
          "symbol": "circle"
         },
         "mode": "markers",
         "name": "2019-01-02",
         "showlegend": true,
         "type": "scattergl",
         "x": [
          -0.2390950334449473
         ],
         "xaxis": "x",
         "y": [
          9.233082992266677
         ],
         "yaxis": "y"
        },
        {
         "hovertemplate": "date=2019-01-03<br>pc1=%{x}<br>pc2=%{y}<extra></extra>",
         "legendgroup": "2019-01-03",
         "marker": {
          "color": "#EF553B",
          "symbol": "circle"
         },
         "mode": "markers",
         "name": "2019-01-03",
         "showlegend": true,
         "type": "scattergl",
         "x": [
          -10.528275715375951
         ],
         "xaxis": "x",
         "y": [
          7.837262526634008
         ],
         "yaxis": "y"
        },
        {
         "hovertemplate": "date=2019-01-04<br>pc1=%{x}<br>pc2=%{y}<extra></extra>",
         "legendgroup": "2019-01-04",
         "marker": {
          "color": "#00cc96",
          "symbol": "circle"
         },
         "mode": "markers",
         "name": "2019-01-04",
         "showlegend": true,
         "type": "scattergl",
         "x": [
          -4.186110940765391
         ],
         "xaxis": "x",
         "y": [
          11.985701048938484
         ],
         "yaxis": "y"
        },
        {
         "hovertemplate": "date=2019-01-05<br>pc1=%{x}<br>pc2=%{y}<extra></extra>",
         "legendgroup": "2019-01-05",
         "marker": {
          "color": "#ab63fa",
          "symbol": "circle"
         },
         "mode": "markers",
         "name": "2019-01-05",
         "showlegend": true,
         "type": "scattergl",
         "x": [
          6.574610311963123
         ],
         "xaxis": "x",
         "y": [
          -0.29304355595038517
         ],
         "yaxis": "y"
        },
        {
         "hovertemplate": "date=2019-01-06<br>pc1=%{x}<br>pc2=%{y}<extra></extra>",
         "legendgroup": "2019-01-06",
         "marker": {
          "color": "#FFA15A",
          "symbol": "circle"
         },
         "mode": "markers",
         "name": "2019-01-06",
         "showlegend": true,
         "type": "scattergl",
         "x": [
          10.034442517355473
         ],
         "xaxis": "x",
         "y": [
          -3.851139863403837
         ],
         "yaxis": "y"
        },
        {
         "hovertemplate": "date=2019-01-07<br>pc1=%{x}<br>pc2=%{y}<extra></extra>",
         "legendgroup": "2019-01-07",
         "marker": {
          "color": "#19d3f3",
          "symbol": "circle"
         },
         "mode": "markers",
         "name": "2019-01-07",
         "showlegend": true,
         "type": "scattergl",
         "x": [
          -2.5644800130121697
         ],
         "xaxis": "x",
         "y": [
          8.477126188696282
         ],
         "yaxis": "y"
        },
        {
         "hovertemplate": "date=2019-01-08<br>pc1=%{x}<br>pc2=%{y}<extra></extra>",
         "legendgroup": "2019-01-08",
         "marker": {
          "color": "#FF6692",
          "symbol": "circle"
         },
         "mode": "markers",
         "name": "2019-01-08",
         "showlegend": true,
         "type": "scattergl",
         "x": [
          -1.3135170307994033
         ],
         "xaxis": "x",
         "y": [
          10.414903952862273
         ],
         "yaxis": "y"
        },
        {
         "hovertemplate": "date=2019-01-09<br>pc1=%{x}<br>pc2=%{y}<extra></extra>",
         "legendgroup": "2019-01-09",
         "marker": {
          "color": "#B6E880",
          "symbol": "circle"
         },
         "mode": "markers",
         "name": "2019-01-09",
         "showlegend": true,
         "type": "scattergl",
         "x": [
          -1.6893380331344534
         ],
         "xaxis": "x",
         "y": [
          5.757000571496755
         ],
         "yaxis": "y"
        },
        {
         "hovertemplate": "date=2019-01-10<br>pc1=%{x}<br>pc2=%{y}<extra></extra>",
         "legendgroup": "2019-01-10",
         "marker": {
          "color": "#FF97FF",
          "symbol": "circle"
         },
         "mode": "markers",
         "name": "2019-01-10",
         "showlegend": true,
         "type": "scattergl",
         "x": [
          -1.2785998508281835
         ],
         "xaxis": "x",
         "y": [
          6.732120982304155
         ],
         "yaxis": "y"
        },
        {
         "hovertemplate": "date=2019-01-11<br>pc1=%{x}<br>pc2=%{y}<extra></extra>",
         "legendgroup": "2019-01-11",
         "marker": {
          "color": "#FECB52",
          "symbol": "circle"
         },
         "mode": "markers",
         "name": "2019-01-11",
         "showlegend": true,
         "type": "scattergl",
         "x": [
          0.43727339435709134
         ],
         "xaxis": "x",
         "y": [
          9.352818685464527
         ],
         "yaxis": "y"
        },
        {
         "hovertemplate": "date=2019-01-12<br>pc1=%{x}<br>pc2=%{y}<extra></extra>",
         "legendgroup": "2019-01-12",
         "marker": {
          "color": "#636efa",
          "symbol": "circle"
         },
         "mode": "markers",
         "name": "2019-01-12",
         "showlegend": true,
         "type": "scattergl",
         "x": [
          36.55766605663894
         ],
         "xaxis": "x",
         "y": [
          32.96743267324959
         ],
         "yaxis": "y"
        },
        {
         "hovertemplate": "date=2019-01-13<br>pc1=%{x}<br>pc2=%{y}<extra></extra>",
         "legendgroup": "2019-01-13",
         "marker": {
          "color": "#EF553B",
          "symbol": "circle"
         },
         "mode": "markers",
         "name": "2019-01-13",
         "showlegend": true,
         "type": "scattergl",
         "x": [
          39.065346941329395
         ],
         "xaxis": "x",
         "y": [
          34.17432349991007
         ],
         "yaxis": "y"
        },
        {
         "hovertemplate": "date=2019-01-14<br>pc1=%{x}<br>pc2=%{y}<extra></extra>",
         "legendgroup": "2019-01-14",
         "marker": {
          "color": "#00cc96",
          "symbol": "circle"
         },
         "mode": "markers",
         "name": "2019-01-14",
         "showlegend": true,
         "type": "scattergl",
         "x": [
          3.813974189961203
         ],
         "xaxis": "x",
         "y": [
          21.5553924730399
         ],
         "yaxis": "y"
        },
        {
         "hovertemplate": "date=2019-01-15<br>pc1=%{x}<br>pc2=%{y}<extra></extra>",
         "legendgroup": "2019-01-15",
         "marker": {
          "color": "#ab63fa",
          "symbol": "circle"
         },
         "mode": "markers",
         "name": "2019-01-15",
         "showlegend": true,
         "type": "scattergl",
         "x": [
          0.2224214390646386
         ],
         "xaxis": "x",
         "y": [
          10.887907872924506
         ],
         "yaxis": "y"
        },
        {
         "hovertemplate": "date=2019-01-16<br>pc1=%{x}<br>pc2=%{y}<extra></extra>",
         "legendgroup": "2019-01-16",
         "marker": {
          "color": "#FFA15A",
          "symbol": "circle"
         },
         "mode": "markers",
         "name": "2019-01-16",
         "showlegend": true,
         "type": "scattergl",
         "x": [
          -4.57175222077109
         ],
         "xaxis": "x",
         "y": [
          8.233450654062267
         ],
         "yaxis": "y"
        },
        {
         "hovertemplate": "date=2019-01-17<br>pc1=%{x}<br>pc2=%{y}<extra></extra>",
         "legendgroup": "2019-01-17",
         "marker": {
          "color": "#19d3f3",
          "symbol": "circle"
         },
         "mode": "markers",
         "name": "2019-01-17",
         "showlegend": true,
         "type": "scattergl",
         "x": [
          -4.349150826286942
         ],
         "xaxis": "x",
         "y": [
          10.273942882108722
         ],
         "yaxis": "y"
        },
        {
         "hovertemplate": "date=2019-01-18<br>pc1=%{x}<br>pc2=%{y}<extra></extra>",
         "legendgroup": "2019-01-18",
         "marker": {
          "color": "#FF6692",
          "symbol": "circle"
         },
         "mode": "markers",
         "name": "2019-01-18",
         "showlegend": true,
         "type": "scattergl",
         "x": [
          -6.868045758199113
         ],
         "xaxis": "x",
         "y": [
          10.434779340980972
         ],
         "yaxis": "y"
        },
        {
         "hovertemplate": "date=2019-01-19<br>pc1=%{x}<br>pc2=%{y}<extra></extra>",
         "legendgroup": "2019-01-19",
         "marker": {
          "color": "#B6E880",
          "symbol": "circle"
         },
         "mode": "markers",
         "name": "2019-01-19",
         "showlegend": true,
         "type": "scattergl",
         "x": [
          4.40877119333407
         ],
         "xaxis": "x",
         "y": [
          -15.674264413667435
         ],
         "yaxis": "y"
        },
        {
         "hovertemplate": "date=2019-01-20<br>pc1=%{x}<br>pc2=%{y}<extra></extra>",
         "legendgroup": "2019-01-20",
         "marker": {
          "color": "#FF97FF",
          "symbol": "circle"
         },
         "mode": "markers",
         "name": "2019-01-20",
         "showlegend": true,
         "type": "scattergl",
         "x": [
          14.763204423546261
         ],
         "xaxis": "x",
         "y": [
          0.7194187864067018
         ],
         "yaxis": "y"
        },
        {
         "hovertemplate": "date=2019-01-21<br>pc1=%{x}<br>pc2=%{y}<extra></extra>",
         "legendgroup": "2019-01-21",
         "marker": {
          "color": "#FECB52",
          "symbol": "circle"
         },
         "mode": "markers",
         "name": "2019-01-21",
         "showlegend": true,
         "type": "scattergl",
         "x": [
          23.07231678193315
         ],
         "xaxis": "x",
         "y": [
          -9.81444163651165
         ],
         "yaxis": "y"
        },
        {
         "hovertemplate": "date=2019-01-22<br>pc1=%{x}<br>pc2=%{y}<extra></extra>",
         "legendgroup": "2019-01-22",
         "marker": {
          "color": "#636efa",
          "symbol": "circle"
         },
         "mode": "markers",
         "name": "2019-01-22",
         "showlegend": true,
         "type": "scattergl",
         "x": [
          -8.792723260293704
         ],
         "xaxis": "x",
         "y": [
          13.84458904649124
         ],
         "yaxis": "y"
        },
        {
         "hovertemplate": "date=2019-01-23<br>pc1=%{x}<br>pc2=%{y}<extra></extra>",
         "legendgroup": "2019-01-23",
         "marker": {
          "color": "#EF553B",
          "symbol": "circle"
         },
         "mode": "markers",
         "name": "2019-01-23",
         "showlegend": true,
         "type": "scattergl",
         "x": [
          -8.261637379649517
         ],
         "xaxis": "x",
         "y": [
          16.696482640460683
         ],
         "yaxis": "y"
        },
        {
         "hovertemplate": "date=2019-01-24<br>pc1=%{x}<br>pc2=%{y}<extra></extra>",
         "legendgroup": "2019-01-24",
         "marker": {
          "color": "#00cc96",
          "symbol": "circle"
         },
         "mode": "markers",
         "name": "2019-01-24",
         "showlegend": true,
         "type": "scattergl",
         "x": [
          -11.604769633816352
         ],
         "xaxis": "x",
         "y": [
          8.419571973057991
         ],
         "yaxis": "y"
        },
        {
         "hovertemplate": "date=2019-01-25<br>pc1=%{x}<br>pc2=%{y}<extra></extra>",
         "legendgroup": "2019-01-25",
         "marker": {
          "color": "#ab63fa",
          "symbol": "circle"
         },
         "mode": "markers",
         "name": "2019-01-25",
         "showlegend": true,
         "type": "scattergl",
         "x": [
          -2.83375967583661
         ],
         "xaxis": "x",
         "y": [
          -17.206409882011254
         ],
         "yaxis": "y"
        },
        {
         "hovertemplate": "date=2019-01-26<br>pc1=%{x}<br>pc2=%{y}<extra></extra>",
         "legendgroup": "2019-01-26",
         "marker": {
          "color": "#FFA15A",
          "symbol": "circle"
         },
         "mode": "markers",
         "name": "2019-01-26",
         "showlegend": true,
         "type": "scattergl",
         "x": [
          7.749735248761787
         ],
         "xaxis": "x",
         "y": [
          -11.475377033258782
         ],
         "yaxis": "y"
        },
        {
         "hovertemplate": "date=2019-01-27<br>pc1=%{x}<br>pc2=%{y}<extra></extra>",
         "legendgroup": "2019-01-27",
         "marker": {
          "color": "#19d3f3",
          "symbol": "circle"
         },
         "mode": "markers",
         "name": "2019-01-27",
         "showlegend": true,
         "type": "scattergl",
         "x": [
          5.171312748746234
         ],
         "xaxis": "x",
         "y": [
          6.76485969995811
         ],
         "yaxis": "y"
        },
        {
         "hovertemplate": "date=2019-01-28<br>pc1=%{x}<br>pc2=%{y}<extra></extra>",
         "legendgroup": "2019-01-28",
         "marker": {
          "color": "#FF6692",
          "symbol": "circle"
         },
         "mode": "markers",
         "name": "2019-01-28",
         "showlegend": true,
         "type": "scattergl",
         "x": [
          -48.925435393753695
         ],
         "xaxis": "x",
         "y": [
          -16.063866704327
         ],
         "yaxis": "y"
        },
        {
         "hovertemplate": "date=2019-01-29<br>pc1=%{x}<br>pc2=%{y}<extra></extra>",
         "legendgroup": "2019-01-29",
         "marker": {
          "color": "#B6E880",
          "symbol": "circle"
         },
         "mode": "markers",
         "name": "2019-01-29",
         "showlegend": true,
         "type": "scattergl",
         "x": [
          -9.987939982491644
         ],
         "xaxis": "x",
         "y": [
          9.80529067219147
         ],
         "yaxis": "y"
        },
        {
         "hovertemplate": "date=2019-01-30<br>pc1=%{x}<br>pc2=%{y}<extra></extra>",
         "legendgroup": "2019-01-30",
         "marker": {
          "color": "#FF97FF",
          "symbol": "circle"
         },
         "mode": "markers",
         "name": "2019-01-30",
         "showlegend": true,
         "type": "scattergl",
         "x": [
          44.41555756729839
         ],
         "xaxis": "x",
         "y": [
          -26.052117774166483
         ],
         "yaxis": "y"
        },
        {
         "hovertemplate": "date=2019-01-31<br>pc1=%{x}<br>pc2=%{y}<extra></extra>",
         "legendgroup": "2019-01-31",
         "marker": {
          "color": "#FECB52",
          "symbol": "circle"
         },
         "mode": "markers",
         "name": "2019-01-31",
         "showlegend": true,
         "type": "scattergl",
         "x": [
          23.715092460120722
         ],
         "xaxis": "x",
         "y": [
          -24.252048681383126
         ],
         "yaxis": "y"
        },
        {
         "hovertemplate": "date=2019-02-01<br>pc1=%{x}<br>pc2=%{y}<extra></extra>",
         "legendgroup": "2019-02-01",
         "marker": {
          "color": "#636efa",
          "symbol": "circle"
         },
         "mode": "markers",
         "name": "2019-02-01",
         "showlegend": true,
         "type": "scattergl",
         "x": [
          -17.827918911123934
         ],
         "xaxis": "x",
         "y": [
          11.94201388703139
         ],
         "yaxis": "y"
        },
        {
         "hovertemplate": "date=2019-02-02<br>pc1=%{x}<br>pc2=%{y}<extra></extra>",
         "legendgroup": "2019-02-02",
         "marker": {
          "color": "#EF553B",
          "symbol": "circle"
         },
         "mode": "markers",
         "name": "2019-02-02",
         "showlegend": true,
         "type": "scattergl",
         "x": [
          -3.9487877044130735
         ],
         "xaxis": "x",
         "y": [
          10.085928085914436
         ],
         "yaxis": "y"
        },
        {
         "hovertemplate": "date=2019-02-03<br>pc1=%{x}<br>pc2=%{y}<extra></extra>",
         "legendgroup": "2019-02-03",
         "marker": {
          "color": "#00cc96",
          "symbol": "circle"
         },
         "mode": "markers",
         "name": "2019-02-03",
         "showlegend": true,
         "type": "scattergl",
         "x": [
          9.376006506553814
         ],
         "xaxis": "x",
         "y": [
          2.1741013231516773
         ],
         "yaxis": "y"
        },
        {
         "hovertemplate": "date=2019-02-04<br>pc1=%{x}<br>pc2=%{y}<extra></extra>",
         "legendgroup": "2019-02-04",
         "marker": {
          "color": "#ab63fa",
          "symbol": "circle"
         },
         "mode": "markers",
         "name": "2019-02-04",
         "showlegend": true,
         "type": "scattergl",
         "x": [
          -8.69271748237707
         ],
         "xaxis": "x",
         "y": [
          6.43805135652845
         ],
         "yaxis": "y"
        },
        {
         "hovertemplate": "date=2019-02-05<br>pc1=%{x}<br>pc2=%{y}<extra></extra>",
         "legendgroup": "2019-02-05",
         "marker": {
          "color": "#FFA15A",
          "symbol": "circle"
         },
         "mode": "markers",
         "name": "2019-02-05",
         "showlegend": true,
         "type": "scattergl",
         "x": [
          -4.915395425040545
         ],
         "xaxis": "x",
         "y": [
          7.048578420224247
         ],
         "yaxis": "y"
        },
        {
         "hovertemplate": "date=2019-02-06<br>pc1=%{x}<br>pc2=%{y}<extra></extra>",
         "legendgroup": "2019-02-06",
         "marker": {
          "color": "#19d3f3",
          "symbol": "circle"
         },
         "mode": "markers",
         "name": "2019-02-06",
         "showlegend": true,
         "type": "scattergl",
         "x": [
          -1.9956523746652464
         ],
         "xaxis": "x",
         "y": [
          10.955623977899675
         ],
         "yaxis": "y"
        },
        {
         "hovertemplate": "date=2019-02-07<br>pc1=%{x}<br>pc2=%{y}<extra></extra>",
         "legendgroup": "2019-02-07",
         "marker": {
          "color": "#FF6692",
          "symbol": "circle"
         },
         "mode": "markers",
         "name": "2019-02-07",
         "showlegend": true,
         "type": "scattergl",
         "x": [
          -7.546223342327471
         ],
         "xaxis": "x",
         "y": [
          3.145358256495808
         ],
         "yaxis": "y"
        },
        {
         "hovertemplate": "date=2019-02-08<br>pc1=%{x}<br>pc2=%{y}<extra></extra>",
         "legendgroup": "2019-02-08",
         "marker": {
          "color": "#B6E880",
          "symbol": "circle"
         },
         "mode": "markers",
         "name": "2019-02-08",
         "showlegend": true,
         "type": "scattergl",
         "x": [
          4.890332565530453
         ],
         "xaxis": "x",
         "y": [
          5.0362271767196285
         ],
         "yaxis": "y"
        },
        {
         "hovertemplate": "date=2019-02-09<br>pc1=%{x}<br>pc2=%{y}<extra></extra>",
         "legendgroup": "2019-02-09",
         "marker": {
          "color": "#FF97FF",
          "symbol": "circle"
         },
         "mode": "markers",
         "name": "2019-02-09",
         "showlegend": true,
         "type": "scattergl",
         "x": [
          10.978109110047901
         ],
         "xaxis": "x",
         "y": [
          -5.85497737012222
         ],
         "yaxis": "y"
        },
        {
         "hovertemplate": "date=2019-02-10<br>pc1=%{x}<br>pc2=%{y}<extra></extra>",
         "legendgroup": "2019-02-10",
         "marker": {
          "color": "#FECB52",
          "symbol": "circle"
         },
         "mode": "markers",
         "name": "2019-02-10",
         "showlegend": true,
         "type": "scattergl",
         "x": [
          13.183429264854084
         ],
         "xaxis": "x",
         "y": [
          -8.612940431542766
         ],
         "yaxis": "y"
        },
        {
         "hovertemplate": "date=2019-02-11<br>pc1=%{x}<br>pc2=%{y}<extra></extra>",
         "legendgroup": "2019-02-11",
         "marker": {
          "color": "#636efa",
          "symbol": "circle"
         },
         "mode": "markers",
         "name": "2019-02-11",
         "showlegend": true,
         "type": "scattergl",
         "x": [
          -4.427039761103141
         ],
         "xaxis": "x",
         "y": [
          11.17608845493681
         ],
         "yaxis": "y"
        },
        {
         "hovertemplate": "date=2019-02-12<br>pc1=%{x}<br>pc2=%{y}<extra></extra>",
         "legendgroup": "2019-02-12",
         "marker": {
          "color": "#EF553B",
          "symbol": "circle"
         },
         "mode": "markers",
         "name": "2019-02-12",
         "showlegend": true,
         "type": "scattergl",
         "x": [
          -2.7202585143966678
         ],
         "xaxis": "x",
         "y": [
          0.4397980010007794
         ],
         "yaxis": "y"
        },
        {
         "hovertemplate": "date=2019-02-13<br>pc1=%{x}<br>pc2=%{y}<extra></extra>",
         "legendgroup": "2019-02-13",
         "marker": {
          "color": "#00cc96",
          "symbol": "circle"
         },
         "mode": "markers",
         "name": "2019-02-13",
         "showlegend": true,
         "type": "scattergl",
         "x": [
          -4.364617410415299
         ],
         "xaxis": "x",
         "y": [
          7.640384495845688
         ],
         "yaxis": "y"
        },
        {
         "hovertemplate": "date=2019-02-14<br>pc1=%{x}<br>pc2=%{y}<extra></extra>",
         "legendgroup": "2019-02-14",
         "marker": {
          "color": "#ab63fa",
          "symbol": "circle"
         },
         "mode": "markers",
         "name": "2019-02-14",
         "showlegend": true,
         "type": "scattergl",
         "x": [
          -5.376681407746003
         ],
         "xaxis": "x",
         "y": [
          10.013932424913243
         ],
         "yaxis": "y"
        },
        {
         "hovertemplate": "date=2019-02-15<br>pc1=%{x}<br>pc2=%{y}<extra></extra>",
         "legendgroup": "2019-02-15",
         "marker": {
          "color": "#FFA15A",
          "symbol": "circle"
         },
         "mode": "markers",
         "name": "2019-02-15",
         "showlegend": true,
         "type": "scattergl",
         "x": [
          -2.7300523973071074
         ],
         "xaxis": "x",
         "y": [
          6.714981186617499
         ],
         "yaxis": "y"
        },
        {
         "hovertemplate": "date=2019-02-16<br>pc1=%{x}<br>pc2=%{y}<extra></extra>",
         "legendgroup": "2019-02-16",
         "marker": {
          "color": "#19d3f3",
          "symbol": "circle"
         },
         "mode": "markers",
         "name": "2019-02-16",
         "showlegend": true,
         "type": "scattergl",
         "x": [
          8.538151826105274
         ],
         "xaxis": "x",
         "y": [
          -2.7246324796724686
         ],
         "yaxis": "y"
        },
        {
         "hovertemplate": "date=2019-02-17<br>pc1=%{x}<br>pc2=%{y}<extra></extra>",
         "legendgroup": "2019-02-17",
         "marker": {
          "color": "#FF6692",
          "symbol": "circle"
         },
         "mode": "markers",
         "name": "2019-02-17",
         "showlegend": true,
         "type": "scattergl",
         "x": [
          13.103650441011414
         ],
         "xaxis": "x",
         "y": [
          -3.327490749311833
         ],
         "yaxis": "y"
        },
        {
         "hovertemplate": "date=2019-02-18<br>pc1=%{x}<br>pc2=%{y}<extra></extra>",
         "legendgroup": "2019-02-18",
         "marker": {
          "color": "#B6E880",
          "symbol": "circle"
         },
         "mode": "markers",
         "name": "2019-02-18",
         "showlegend": true,
         "type": "scattergl",
         "x": [
          12.63494684551126
         ],
         "xaxis": "x",
         "y": [
          -6.011667677199975
         ],
         "yaxis": "y"
        },
        {
         "hovertemplate": "date=2019-02-19<br>pc1=%{x}<br>pc2=%{y}<extra></extra>",
         "legendgroup": "2019-02-19",
         "marker": {
          "color": "#FF97FF",
          "symbol": "circle"
         },
         "mode": "markers",
         "name": "2019-02-19",
         "showlegend": true,
         "type": "scattergl",
         "x": [
          -6.298485111473449
         ],
         "xaxis": "x",
         "y": [
          8.532665511711627
         ],
         "yaxis": "y"
        },
        {
         "hovertemplate": "date=2019-02-20<br>pc1=%{x}<br>pc2=%{y}<extra></extra>",
         "legendgroup": "2019-02-20",
         "marker": {
          "color": "#FECB52",
          "symbol": "circle"
         },
         "mode": "markers",
         "name": "2019-02-20",
         "showlegend": true,
         "type": "scattergl",
         "x": [
          -4.366876030336233
         ],
         "xaxis": "x",
         "y": [
          11.297005883203505
         ],
         "yaxis": "y"
        },
        {
         "hovertemplate": "date=2019-02-21<br>pc1=%{x}<br>pc2=%{y}<extra></extra>",
         "legendgroup": "2019-02-21",
         "marker": {
          "color": "#636efa",
          "symbol": "circle"
         },
         "mode": "markers",
         "name": "2019-02-21",
         "showlegend": true,
         "type": "scattergl",
         "x": [
          -6.141680200613411
         ],
         "xaxis": "x",
         "y": [
          10.452496539603896
         ],
         "yaxis": "y"
        },
        {
         "hovertemplate": "date=2019-02-22<br>pc1=%{x}<br>pc2=%{y}<extra></extra>",
         "legendgroup": "2019-02-22",
         "marker": {
          "color": "#EF553B",
          "symbol": "circle"
         },
         "mode": "markers",
         "name": "2019-02-22",
         "showlegend": true,
         "type": "scattergl",
         "x": [
          -3.4233812755841933
         ],
         "xaxis": "x",
         "y": [
          6.531748794977546
         ],
         "yaxis": "y"
        },
        {
         "hovertemplate": "date=2019-02-23<br>pc1=%{x}<br>pc2=%{y}<extra></extra>",
         "legendgroup": "2019-02-23",
         "marker": {
          "color": "#00cc96",
          "symbol": "circle"
         },
         "mode": "markers",
         "name": "2019-02-23",
         "showlegend": true,
         "type": "scattergl",
         "x": [
          13.446058538782367
         ],
         "xaxis": "x",
         "y": [
          -4.87819799008251
         ],
         "yaxis": "y"
        },
        {
         "hovertemplate": "date=2019-02-24<br>pc1=%{x}<br>pc2=%{y}<extra></extra>",
         "legendgroup": "2019-02-24",
         "marker": {
          "color": "#ab63fa",
          "symbol": "circle"
         },
         "mode": "markers",
         "name": "2019-02-24",
         "showlegend": true,
         "type": "scattergl",
         "x": [
          15.212134226145858
         ],
         "xaxis": "x",
         "y": [
          -7.428330637426982
         ],
         "yaxis": "y"
        },
        {
         "hovertemplate": "date=2019-02-25<br>pc1=%{x}<br>pc2=%{y}<extra></extra>",
         "legendgroup": "2019-02-25",
         "marker": {
          "color": "#FFA15A",
          "symbol": "circle"
         },
         "mode": "markers",
         "name": "2019-02-25",
         "showlegend": true,
         "type": "scattergl",
         "x": [
          -3.0026298548947916
         ],
         "xaxis": "x",
         "y": [
          7.593735747337475
         ],
         "yaxis": "y"
        },
        {
         "hovertemplate": "date=2019-02-26<br>pc1=%{x}<br>pc2=%{y}<extra></extra>",
         "legendgroup": "2019-02-26",
         "marker": {
          "color": "#19d3f3",
          "symbol": "circle"
         },
         "mode": "markers",
         "name": "2019-02-26",
         "showlegend": true,
         "type": "scattergl",
         "x": [
          -1.5815402583314369
         ],
         "xaxis": "x",
         "y": [
          6.50561157848294
         ],
         "yaxis": "y"
        },
        {
         "hovertemplate": "date=2019-02-27<br>pc1=%{x}<br>pc2=%{y}<extra></extra>",
         "legendgroup": "2019-02-27",
         "marker": {
          "color": "#FF6692",
          "symbol": "circle"
         },
         "mode": "markers",
         "name": "2019-02-27",
         "showlegend": true,
         "type": "scattergl",
         "x": [
          -3.0017717359889735
         ],
         "xaxis": "x",
         "y": [
          7.986983785166664
         ],
         "yaxis": "y"
        },
        {
         "hovertemplate": "date=2019-02-28<br>pc1=%{x}<br>pc2=%{y}<extra></extra>",
         "legendgroup": "2019-02-28",
         "marker": {
          "color": "#B6E880",
          "symbol": "circle"
         },
         "mode": "markers",
         "name": "2019-02-28",
         "showlegend": true,
         "type": "scattergl",
         "x": [
          -2.4181794942605324
         ],
         "xaxis": "x",
         "y": [
          7.585157196455683
         ],
         "yaxis": "y"
        },
        {
         "hovertemplate": "date=2019-03-01<br>pc1=%{x}<br>pc2=%{y}<extra></extra>",
         "legendgroup": "2019-03-01",
         "marker": {
          "color": "#FF97FF",
          "symbol": "circle"
         },
         "mode": "markers",
         "name": "2019-03-01",
         "showlegend": true,
         "type": "scattergl",
         "x": [
          -3.3972162635458476
         ],
         "xaxis": "x",
         "y": [
          6.289807413365914
         ],
         "yaxis": "y"
        },
        {
         "hovertemplate": "date=2019-03-02<br>pc1=%{x}<br>pc2=%{y}<extra></extra>",
         "legendgroup": "2019-03-02",
         "marker": {
          "color": "#FECB52",
          "symbol": "circle"
         },
         "mode": "markers",
         "name": "2019-03-02",
         "showlegend": true,
         "type": "scattergl",
         "x": [
          10.709536068749122
         ],
         "xaxis": "x",
         "y": [
          -1.6104849575508913
         ],
         "yaxis": "y"
        },
        {
         "hovertemplate": "date=2019-03-03<br>pc1=%{x}<br>pc2=%{y}<extra></extra>",
         "legendgroup": "2019-03-03",
         "marker": {
          "color": "#636efa",
          "symbol": "circle"
         },
         "mode": "markers",
         "name": "2019-03-03",
         "showlegend": true,
         "type": "scattergl",
         "x": [
          15.585556395457136
         ],
         "xaxis": "x",
         "y": [
          -1.6212571539259952
         ],
         "yaxis": "y"
        },
        {
         "hovertemplate": "date=2019-03-04<br>pc1=%{x}<br>pc2=%{y}<extra></extra>",
         "legendgroup": "2019-03-04",
         "marker": {
          "color": "#EF553B",
          "symbol": "circle"
         },
         "mode": "markers",
         "name": "2019-03-04",
         "showlegend": true,
         "type": "scattergl",
         "x": [
          1.6710617934441276
         ],
         "xaxis": "x",
         "y": [
          3.606898493884646
         ],
         "yaxis": "y"
        },
        {
         "hovertemplate": "date=2019-03-05<br>pc1=%{x}<br>pc2=%{y}<extra></extra>",
         "legendgroup": "2019-03-05",
         "marker": {
          "color": "#00cc96",
          "symbol": "circle"
         },
         "mode": "markers",
         "name": "2019-03-05",
         "showlegend": true,
         "type": "scattergl",
         "x": [
          -0.5752257269535475
         ],
         "xaxis": "x",
         "y": [
          7.2854020624652565
         ],
         "yaxis": "y"
        },
        {
         "hovertemplate": "date=2019-03-06<br>pc1=%{x}<br>pc2=%{y}<extra></extra>",
         "legendgroup": "2019-03-06",
         "marker": {
          "color": "#ab63fa",
          "symbol": "circle"
         },
         "mode": "markers",
         "name": "2019-03-06",
         "showlegend": true,
         "type": "scattergl",
         "x": [
          -4.590329528083069
         ],
         "xaxis": "x",
         "y": [
          7.0017096602196185
         ],
         "yaxis": "y"
        },
        {
         "hovertemplate": "date=2019-03-07<br>pc1=%{x}<br>pc2=%{y}<extra></extra>",
         "legendgroup": "2019-03-07",
         "marker": {
          "color": "#FFA15A",
          "symbol": "circle"
         },
         "mode": "markers",
         "name": "2019-03-07",
         "showlegend": true,
         "type": "scattergl",
         "x": [
          -4.930782796474897
         ],
         "xaxis": "x",
         "y": [
          7.236416236320809
         ],
         "yaxis": "y"
        },
        {
         "hovertemplate": "date=2019-03-08<br>pc1=%{x}<br>pc2=%{y}<extra></extra>",
         "legendgroup": "2019-03-08",
         "marker": {
          "color": "#19d3f3",
          "symbol": "circle"
         },
         "mode": "markers",
         "name": "2019-03-08",
         "showlegend": true,
         "type": "scattergl",
         "x": [
          -1.4116624135754576
         ],
         "xaxis": "x",
         "y": [
          6.471927938222077
         ],
         "yaxis": "y"
        },
        {
         "hovertemplate": "date=2019-03-09<br>pc1=%{x}<br>pc2=%{y}<extra></extra>",
         "legendgroup": "2019-03-09",
         "marker": {
          "color": "#FF6692",
          "symbol": "circle"
         },
         "mode": "markers",
         "name": "2019-03-09",
         "showlegend": true,
         "type": "scattergl",
         "x": [
          16.14741786434226
         ],
         "xaxis": "x",
         "y": [
          -1.1784946204509392
         ],
         "yaxis": "y"
        },
        {
         "hovertemplate": "date=2019-03-10<br>pc1=%{x}<br>pc2=%{y}<extra></extra>",
         "legendgroup": "2019-03-10",
         "marker": {
          "color": "#B6E880",
          "symbol": "circle"
         },
         "mode": "markers",
         "name": "2019-03-10",
         "showlegend": true,
         "type": "scattergl",
         "x": [
          15.75517351943821
         ],
         "xaxis": "x",
         "y": [
          -5.728744144473319
         ],
         "yaxis": "y"
        },
        {
         "hovertemplate": "date=2019-03-11<br>pc1=%{x}<br>pc2=%{y}<extra></extra>",
         "legendgroup": "2019-03-11",
         "marker": {
          "color": "#FF97FF",
          "symbol": "circle"
         },
         "mode": "markers",
         "name": "2019-03-11",
         "showlegend": true,
         "type": "scattergl",
         "x": [
          -2.872005267488463
         ],
         "xaxis": "x",
         "y": [
          10.431424368017982
         ],
         "yaxis": "y"
        },
        {
         "hovertemplate": "date=2019-03-12<br>pc1=%{x}<br>pc2=%{y}<extra></extra>",
         "legendgroup": "2019-03-12",
         "marker": {
          "color": "#FECB52",
          "symbol": "circle"
         },
         "mode": "markers",
         "name": "2019-03-12",
         "showlegend": true,
         "type": "scattergl",
         "x": [
          -2.750656996016181
         ],
         "xaxis": "x",
         "y": [
          9.98829616452641
         ],
         "yaxis": "y"
        },
        {
         "hovertemplate": "date=2019-03-13<br>pc1=%{x}<br>pc2=%{y}<extra></extra>",
         "legendgroup": "2019-03-13",
         "marker": {
          "color": "#636efa",
          "symbol": "circle"
         },
         "mode": "markers",
         "name": "2019-03-13",
         "showlegend": true,
         "type": "scattergl",
         "x": [
          -1.0245757795097712
         ],
         "xaxis": "x",
         "y": [
          6.2973943090696975
         ],
         "yaxis": "y"
        },
        {
         "hovertemplate": "date=2019-03-14<br>pc1=%{x}<br>pc2=%{y}<extra></extra>",
         "legendgroup": "2019-03-14",
         "marker": {
          "color": "#EF553B",
          "symbol": "circle"
         },
         "mode": "markers",
         "name": "2019-03-14",
         "showlegend": true,
         "type": "scattergl",
         "x": [
          0.9857663299326193
         ],
         "xaxis": "x",
         "y": [
          6.605227229286077
         ],
         "yaxis": "y"
        },
        {
         "hovertemplate": "date=2019-03-15<br>pc1=%{x}<br>pc2=%{y}<extra></extra>",
         "legendgroup": "2019-03-15",
         "marker": {
          "color": "#00cc96",
          "symbol": "circle"
         },
         "mode": "markers",
         "name": "2019-03-15",
         "showlegend": true,
         "type": "scattergl",
         "x": [
          2.39633070037714
         ],
         "xaxis": "x",
         "y": [
          6.2791973166033594
         ],
         "yaxis": "y"
        },
        {
         "hovertemplate": "date=2019-03-16<br>pc1=%{x}<br>pc2=%{y}<extra></extra>",
         "legendgroup": "2019-03-16",
         "marker": {
          "color": "#ab63fa",
          "symbol": "circle"
         },
         "mode": "markers",
         "name": "2019-03-16",
         "showlegend": true,
         "type": "scattergl",
         "x": [
          -9.236213565827402
         ],
         "xaxis": "x",
         "y": [
          -6.271824558875005
         ],
         "yaxis": "y"
        },
        {
         "hovertemplate": "date=2019-03-17<br>pc1=%{x}<br>pc2=%{y}<extra></extra>",
         "legendgroup": "2019-03-17",
         "marker": {
          "color": "#FFA15A",
          "symbol": "circle"
         },
         "mode": "markers",
         "name": "2019-03-17",
         "showlegend": true,
         "type": "scattergl",
         "x": [
          13.401758683365722
         ],
         "xaxis": "x",
         "y": [
          -8.461609314731847
         ],
         "yaxis": "y"
        },
        {
         "hovertemplate": "date=2019-03-18<br>pc1=%{x}<br>pc2=%{y}<extra></extra>",
         "legendgroup": "2019-03-18",
         "marker": {
          "color": "#19d3f3",
          "symbol": "circle"
         },
         "mode": "markers",
         "name": "2019-03-18",
         "showlegend": true,
         "type": "scattergl",
         "x": [
          -1.4917433262387947
         ],
         "xaxis": "x",
         "y": [
          6.69657623063858
         ],
         "yaxis": "y"
        },
        {
         "hovertemplate": "date=2019-03-19<br>pc1=%{x}<br>pc2=%{y}<extra></extra>",
         "legendgroup": "2019-03-19",
         "marker": {
          "color": "#FF6692",
          "symbol": "circle"
         },
         "mode": "markers",
         "name": "2019-03-19",
         "showlegend": true,
         "type": "scattergl",
         "x": [
          0.2143809553422001
         ],
         "xaxis": "x",
         "y": [
          7.02391914703785
         ],
         "yaxis": "y"
        },
        {
         "hovertemplate": "date=2019-03-20<br>pc1=%{x}<br>pc2=%{y}<extra></extra>",
         "legendgroup": "2019-03-20",
         "marker": {
          "color": "#B6E880",
          "symbol": "circle"
         },
         "mode": "markers",
         "name": "2019-03-20",
         "showlegend": true,
         "type": "scattergl",
         "x": [
          -0.09167091656485392
         ],
         "xaxis": "x",
         "y": [
          7.176278687760363
         ],
         "yaxis": "y"
        },
        {
         "hovertemplate": "date=2019-03-21<br>pc1=%{x}<br>pc2=%{y}<extra></extra>",
         "legendgroup": "2019-03-21",
         "marker": {
          "color": "#FF97FF",
          "symbol": "circle"
         },
         "mode": "markers",
         "name": "2019-03-21",
         "showlegend": true,
         "type": "scattergl",
         "x": [
          -1.9049554748517235
         ],
         "xaxis": "x",
         "y": [
          7.0864766069005904
         ],
         "yaxis": "y"
        },
        {
         "hovertemplate": "date=2019-03-22<br>pc1=%{x}<br>pc2=%{y}<extra></extra>",
         "legendgroup": "2019-03-22",
         "marker": {
          "color": "#FECB52",
          "symbol": "circle"
         },
         "mode": "markers",
         "name": "2019-03-22",
         "showlegend": true,
         "type": "scattergl",
         "x": [
          -6.556751251432952
         ],
         "xaxis": "x",
         "y": [
          -3.084931545407785
         ],
         "yaxis": "y"
        },
        {
         "hovertemplate": "date=2019-03-23<br>pc1=%{x}<br>pc2=%{y}<extra></extra>",
         "legendgroup": "2019-03-23",
         "marker": {
          "color": "#636efa",
          "symbol": "circle"
         },
         "mode": "markers",
         "name": "2019-03-23",
         "showlegend": true,
         "type": "scattergl",
         "x": [
          8.677110334794376
         ],
         "xaxis": "x",
         "y": [
          -0.7882366715828488
         ],
         "yaxis": "y"
        },
        {
         "hovertemplate": "date=2019-03-24<br>pc1=%{x}<br>pc2=%{y}<extra></extra>",
         "legendgroup": "2019-03-24",
         "marker": {
          "color": "#EF553B",
          "symbol": "circle"
         },
         "mode": "markers",
         "name": "2019-03-24",
         "showlegend": true,
         "type": "scattergl",
         "x": [
          12.71293756411114
         ],
         "xaxis": "x",
         "y": [
          -5.3801100091848095
         ],
         "yaxis": "y"
        },
        {
         "hovertemplate": "date=2019-03-25<br>pc1=%{x}<br>pc2=%{y}<extra></extra>",
         "legendgroup": "2019-03-25",
         "marker": {
          "color": "#00cc96",
          "symbol": "circle"
         },
         "mode": "markers",
         "name": "2019-03-25",
         "showlegend": true,
         "type": "scattergl",
         "x": [
          -0.3443773712428763
         ],
         "xaxis": "x",
         "y": [
          7.891050989904056
         ],
         "yaxis": "y"
        },
        {
         "hovertemplate": "date=2019-03-26<br>pc1=%{x}<br>pc2=%{y}<extra></extra>",
         "legendgroup": "2019-03-26",
         "marker": {
          "color": "#ab63fa",
          "symbol": "circle"
         },
         "mode": "markers",
         "name": "2019-03-26",
         "showlegend": true,
         "type": "scattergl",
         "x": [
          -0.08700229707874227
         ],
         "xaxis": "x",
         "y": [
          7.074567516765634
         ],
         "yaxis": "y"
        },
        {
         "hovertemplate": "date=2019-03-27<br>pc1=%{x}<br>pc2=%{y}<extra></extra>",
         "legendgroup": "2019-03-27",
         "marker": {
          "color": "#FFA15A",
          "symbol": "circle"
         },
         "mode": "markers",
         "name": "2019-03-27",
         "showlegend": true,
         "type": "scattergl",
         "x": [
          -4.208554677387035
         ],
         "xaxis": "x",
         "y": [
          4.923024640156376
         ],
         "yaxis": "y"
        },
        {
         "hovertemplate": "date=2019-03-28<br>pc1=%{x}<br>pc2=%{y}<extra></extra>",
         "legendgroup": "2019-03-28",
         "marker": {
          "color": "#19d3f3",
          "symbol": "circle"
         },
         "mode": "markers",
         "name": "2019-03-28",
         "showlegend": true,
         "type": "scattergl",
         "x": [
          2.9448389742042282
         ],
         "xaxis": "x",
         "y": [
          14.199203045199889
         ],
         "yaxis": "y"
        },
        {
         "hovertemplate": "date=2019-03-29<br>pc1=%{x}<br>pc2=%{y}<extra></extra>",
         "legendgroup": "2019-03-29",
         "marker": {
          "color": "#FF6692",
          "symbol": "circle"
         },
         "mode": "markers",
         "name": "2019-03-29",
         "showlegend": true,
         "type": "scattergl",
         "x": [
          7.211231900514517
         ],
         "xaxis": "x",
         "y": [
          15.44518546952647
         ],
         "yaxis": "y"
        },
        {
         "hovertemplate": "date=2019-03-30<br>pc1=%{x}<br>pc2=%{y}<extra></extra>",
         "legendgroup": "2019-03-30",
         "marker": {
          "color": "#B6E880",
          "symbol": "circle"
         },
         "mode": "markers",
         "name": "2019-03-30",
         "showlegend": true,
         "type": "scattergl",
         "x": [
          12.518393523088761
         ],
         "xaxis": "x",
         "y": [
          -3.2867142692269224
         ],
         "yaxis": "y"
        },
        {
         "hovertemplate": "date=2019-03-31<br>pc1=%{x}<br>pc2=%{y}<extra></extra>",
         "legendgroup": "2019-03-31",
         "marker": {
          "color": "#FF97FF",
          "symbol": "circle"
         },
         "mode": "markers",
         "name": "2019-03-31",
         "showlegend": true,
         "type": "scattergl",
         "x": [
          11.840907625636833
         ],
         "xaxis": "x",
         "y": [
          -8.943580071854162
         ],
         "yaxis": "y"
        },
        {
         "hovertemplate": "date=2019-04-01<br>pc1=%{x}<br>pc2=%{y}<extra></extra>",
         "legendgroup": "2019-04-01",
         "marker": {
          "color": "#FECB52",
          "symbol": "circle"
         },
         "mode": "markers",
         "name": "2019-04-01",
         "showlegend": true,
         "type": "scattergl",
         "x": [
          -4.639977994779098
         ],
         "xaxis": "x",
         "y": [
          8.625939418000865
         ],
         "yaxis": "y"
        },
        {
         "hovertemplate": "date=2019-04-02<br>pc1=%{x}<br>pc2=%{y}<extra></extra>",
         "legendgroup": "2019-04-02",
         "marker": {
          "color": "#636efa",
          "symbol": "circle"
         },
         "mode": "markers",
         "name": "2019-04-02",
         "showlegend": true,
         "type": "scattergl",
         "x": [
          -2.7355796169017506
         ],
         "xaxis": "x",
         "y": [
          6.0887123463974
         ],
         "yaxis": "y"
        },
        {
         "hovertemplate": "date=2019-04-03<br>pc1=%{x}<br>pc2=%{y}<extra></extra>",
         "legendgroup": "2019-04-03",
         "marker": {
          "color": "#EF553B",
          "symbol": "circle"
         },
         "mode": "markers",
         "name": "2019-04-03",
         "showlegend": true,
         "type": "scattergl",
         "x": [
          -4.73025528243739
         ],
         "xaxis": "x",
         "y": [
          6.557905653746653
         ],
         "yaxis": "y"
        },
        {
         "hovertemplate": "date=2019-04-04<br>pc1=%{x}<br>pc2=%{y}<extra></extra>",
         "legendgroup": "2019-04-04",
         "marker": {
          "color": "#00cc96",
          "symbol": "circle"
         },
         "mode": "markers",
         "name": "2019-04-04",
         "showlegend": true,
         "type": "scattergl",
         "x": [
          -2.569173361929833
         ],
         "xaxis": "x",
         "y": [
          5.355005006677922
         ],
         "yaxis": "y"
        },
        {
         "hovertemplate": "date=2019-04-05<br>pc1=%{x}<br>pc2=%{y}<extra></extra>",
         "legendgroup": "2019-04-05",
         "marker": {
          "color": "#ab63fa",
          "symbol": "circle"
         },
         "mode": "markers",
         "name": "2019-04-05",
         "showlegend": true,
         "type": "scattergl",
         "x": [
          0.4898273270186792
         ],
         "xaxis": "x",
         "y": [
          2.347207181739027
         ],
         "yaxis": "y"
        },
        {
         "hovertemplate": "date=2019-04-06<br>pc1=%{x}<br>pc2=%{y}<extra></extra>",
         "legendgroup": "2019-04-06",
         "marker": {
          "color": "#FFA15A",
          "symbol": "circle"
         },
         "mode": "markers",
         "name": "2019-04-06",
         "showlegend": true,
         "type": "scattergl",
         "x": [
          8.8977443502564
         ],
         "xaxis": "x",
         "y": [
          -1.3896304825320898
         ],
         "yaxis": "y"
        },
        {
         "hovertemplate": "date=2019-04-07<br>pc1=%{x}<br>pc2=%{y}<extra></extra>",
         "legendgroup": "2019-04-07",
         "marker": {
          "color": "#19d3f3",
          "symbol": "circle"
         },
         "mode": "markers",
         "name": "2019-04-07",
         "showlegend": true,
         "type": "scattergl",
         "x": [
          16.60571685850398
         ],
         "xaxis": "x",
         "y": [
          -2.8973672830918313
         ],
         "yaxis": "y"
        },
        {
         "hovertemplate": "date=2019-04-08<br>pc1=%{x}<br>pc2=%{y}<extra></extra>",
         "legendgroup": "2019-04-08",
         "marker": {
          "color": "#FF6692",
          "symbol": "circle"
         },
         "mode": "markers",
         "name": "2019-04-08",
         "showlegend": true,
         "type": "scattergl",
         "x": [
          -5.814379254589609
         ],
         "xaxis": "x",
         "y": [
          11.580627983160912
         ],
         "yaxis": "y"
        },
        {
         "hovertemplate": "date=2019-04-09<br>pc1=%{x}<br>pc2=%{y}<extra></extra>",
         "legendgroup": "2019-04-09",
         "marker": {
          "color": "#B6E880",
          "symbol": "circle"
         },
         "mode": "markers",
         "name": "2019-04-09",
         "showlegend": true,
         "type": "scattergl",
         "x": [
          -4.791427711657489
         ],
         "xaxis": "x",
         "y": [
          2.951661469998631
         ],
         "yaxis": "y"
        },
        {
         "hovertemplate": "date=2019-04-10<br>pc1=%{x}<br>pc2=%{y}<extra></extra>",
         "legendgroup": "2019-04-10",
         "marker": {
          "color": "#FF97FF",
          "symbol": "circle"
         },
         "mode": "markers",
         "name": "2019-04-10",
         "showlegend": true,
         "type": "scattergl",
         "x": [
          1.2815587417733503
         ],
         "xaxis": "x",
         "y": [
          6.633337068920179
         ],
         "yaxis": "y"
        },
        {
         "hovertemplate": "date=2019-04-11<br>pc1=%{x}<br>pc2=%{y}<extra></extra>",
         "legendgroup": "2019-04-11",
         "marker": {
          "color": "#FECB52",
          "symbol": "circle"
         },
         "mode": "markers",
         "name": "2019-04-11",
         "showlegend": true,
         "type": "scattergl",
         "x": [
          -2.798757614677065
         ],
         "xaxis": "x",
         "y": [
          4.693046837006768
         ],
         "yaxis": "y"
        },
        {
         "hovertemplate": "date=2019-04-12<br>pc1=%{x}<br>pc2=%{y}<extra></extra>",
         "legendgroup": "2019-04-12",
         "marker": {
          "color": "#636efa",
          "symbol": "circle"
         },
         "mode": "markers",
         "name": "2019-04-12",
         "showlegend": true,
         "type": "scattergl",
         "x": [
          -3.5131132523784916
         ],
         "xaxis": "x",
         "y": [
          6.883165735394323
         ],
         "yaxis": "y"
        },
        {
         "hovertemplate": "date=2019-04-13<br>pc1=%{x}<br>pc2=%{y}<extra></extra>",
         "legendgroup": "2019-04-13",
         "marker": {
          "color": "#EF553B",
          "symbol": "circle"
         },
         "mode": "markers",
         "name": "2019-04-13",
         "showlegend": true,
         "type": "scattergl",
         "x": [
          7.690513311349342
         ],
         "xaxis": "x",
         "y": [
          3.144557989379097
         ],
         "yaxis": "y"
        },
        {
         "hovertemplate": "date=2019-04-14<br>pc1=%{x}<br>pc2=%{y}<extra></extra>",
         "legendgroup": "2019-04-14",
         "marker": {
          "color": "#00cc96",
          "symbol": "circle"
         },
         "mode": "markers",
         "name": "2019-04-14",
         "showlegend": true,
         "type": "scattergl",
         "x": [
          18.728925628896494
         ],
         "xaxis": "x",
         "y": [
          -9.79023976969518
         ],
         "yaxis": "y"
        },
        {
         "hovertemplate": "date=2019-04-15<br>pc1=%{x}<br>pc2=%{y}<extra></extra>",
         "legendgroup": "2019-04-15",
         "marker": {
          "color": "#ab63fa",
          "symbol": "circle"
         },
         "mode": "markers",
         "name": "2019-04-15",
         "showlegend": true,
         "type": "scattergl",
         "x": [
          -3.3386603439389977
         ],
         "xaxis": "x",
         "y": [
          5.124135623548546
         ],
         "yaxis": "y"
        },
        {
         "hovertemplate": "date=2019-04-16<br>pc1=%{x}<br>pc2=%{y}<extra></extra>",
         "legendgroup": "2019-04-16",
         "marker": {
          "color": "#FFA15A",
          "symbol": "circle"
         },
         "mode": "markers",
         "name": "2019-04-16",
         "showlegend": true,
         "type": "scattergl",
         "x": [
          -2.2331875421263203
         ],
         "xaxis": "x",
         "y": [
          9.197856725659133
         ],
         "yaxis": "y"
        },
        {
         "hovertemplate": "date=2019-04-17<br>pc1=%{x}<br>pc2=%{y}<extra></extra>",
         "legendgroup": "2019-04-17",
         "marker": {
          "color": "#19d3f3",
          "symbol": "circle"
         },
         "mode": "markers",
         "name": "2019-04-17",
         "showlegend": true,
         "type": "scattergl",
         "x": [
          -2.3466535738664827
         ],
         "xaxis": "x",
         "y": [
          9.268783963342162
         ],
         "yaxis": "y"
        },
        {
         "hovertemplate": "date=2019-04-18<br>pc1=%{x}<br>pc2=%{y}<extra></extra>",
         "legendgroup": "2019-04-18",
         "marker": {
          "color": "#FF6692",
          "symbol": "circle"
         },
         "mode": "markers",
         "name": "2019-04-18",
         "showlegend": true,
         "type": "scattergl",
         "x": [
          2.338716141826761
         ],
         "xaxis": "x",
         "y": [
          5.9497938582181105
         ],
         "yaxis": "y"
        },
        {
         "hovertemplate": "date=2019-04-19<br>pc1=%{x}<br>pc2=%{y}<extra></extra>",
         "legendgroup": "2019-04-19",
         "marker": {
          "color": "#B6E880",
          "symbol": "circle"
         },
         "mode": "markers",
         "name": "2019-04-19",
         "showlegend": true,
         "type": "scattergl",
         "x": [
          4.700899089046785
         ],
         "xaxis": "x",
         "y": [
          -1.6046782815963627
         ],
         "yaxis": "y"
        },
        {
         "hovertemplate": "date=2019-04-20<br>pc1=%{x}<br>pc2=%{y}<extra></extra>",
         "legendgroup": "2019-04-20",
         "marker": {
          "color": "#FF97FF",
          "symbol": "circle"
         },
         "mode": "markers",
         "name": "2019-04-20",
         "showlegend": true,
         "type": "scattergl",
         "x": [
          7.434391999758319
         ],
         "xaxis": "x",
         "y": [
          -2.5785735866783117
         ],
         "yaxis": "y"
        },
        {
         "hovertemplate": "date=2019-04-21<br>pc1=%{x}<br>pc2=%{y}<extra></extra>",
         "legendgroup": "2019-04-21",
         "marker": {
          "color": "#FECB52",
          "symbol": "circle"
         },
         "mode": "markers",
         "name": "2019-04-21",
         "showlegend": true,
         "type": "scattergl",
         "x": [
          12.848478735984042
         ],
         "xaxis": "x",
         "y": [
          -1.295680159700531
         ],
         "yaxis": "y"
        },
        {
         "hovertemplate": "date=2019-04-22<br>pc1=%{x}<br>pc2=%{y}<extra></extra>",
         "legendgroup": "2019-04-22",
         "marker": {
          "color": "#636efa",
          "symbol": "circle"
         },
         "mode": "markers",
         "name": "2019-04-22",
         "showlegend": true,
         "type": "scattergl",
         "x": [
          -4.674969310163443
         ],
         "xaxis": "x",
         "y": [
          4.148112586118525
         ],
         "yaxis": "y"
        },
        {
         "hovertemplate": "date=2019-04-23<br>pc1=%{x}<br>pc2=%{y}<extra></extra>",
         "legendgroup": "2019-04-23",
         "marker": {
          "color": "#EF553B",
          "symbol": "circle"
         },
         "mode": "markers",
         "name": "2019-04-23",
         "showlegend": true,
         "type": "scattergl",
         "x": [
          -1.2233537742573182
         ],
         "xaxis": "x",
         "y": [
          8.464931837657055
         ],
         "yaxis": "y"
        },
        {
         "hovertemplate": "date=2019-04-24<br>pc1=%{x}<br>pc2=%{y}<extra></extra>",
         "legendgroup": "2019-04-24",
         "marker": {
          "color": "#00cc96",
          "symbol": "circle"
         },
         "mode": "markers",
         "name": "2019-04-24",
         "showlegend": true,
         "type": "scattergl",
         "x": [
          -3.5191116970598126
         ],
         "xaxis": "x",
         "y": [
          10.34996271354551
         ],
         "yaxis": "y"
        },
        {
         "hovertemplate": "date=2019-04-25<br>pc1=%{x}<br>pc2=%{y}<extra></extra>",
         "legendgroup": "2019-04-25",
         "marker": {
          "color": "#ab63fa",
          "symbol": "circle"
         },
         "mode": "markers",
         "name": "2019-04-25",
         "showlegend": true,
         "type": "scattergl",
         "x": [
          -7.691853459081364
         ],
         "xaxis": "x",
         "y": [
          5.892885273453622
         ],
         "yaxis": "y"
        },
        {
         "hovertemplate": "date=2019-04-26<br>pc1=%{x}<br>pc2=%{y}<extra></extra>",
         "legendgroup": "2019-04-26",
         "marker": {
          "color": "#FFA15A",
          "symbol": "circle"
         },
         "mode": "markers",
         "name": "2019-04-26",
         "showlegend": true,
         "type": "scattergl",
         "x": [
          -3.878884363901618
         ],
         "xaxis": "x",
         "y": [
          6.565065621219262
         ],
         "yaxis": "y"
        },
        {
         "hovertemplate": "date=2019-04-27<br>pc1=%{x}<br>pc2=%{y}<extra></extra>",
         "legendgroup": "2019-04-27",
         "marker": {
          "color": "#19d3f3",
          "symbol": "circle"
         },
         "mode": "markers",
         "name": "2019-04-27",
         "showlegend": true,
         "type": "scattergl",
         "x": [
          18.916466084598635
         ],
         "xaxis": "x",
         "y": [
          -3.840651217833963
         ],
         "yaxis": "y"
        },
        {
         "hovertemplate": "date=2019-04-28<br>pc1=%{x}<br>pc2=%{y}<extra></extra>",
         "legendgroup": "2019-04-28",
         "marker": {
          "color": "#FF6692",
          "symbol": "circle"
         },
         "mode": "markers",
         "name": "2019-04-28",
         "showlegend": true,
         "type": "scattergl",
         "x": [
          13.456794429323566
         ],
         "xaxis": "x",
         "y": [
          -1.6005339804340586
         ],
         "yaxis": "y"
        },
        {
         "hovertemplate": "date=2019-04-29<br>pc1=%{x}<br>pc2=%{y}<extra></extra>",
         "legendgroup": "2019-04-29",
         "marker": {
          "color": "#B6E880",
          "symbol": "circle"
         },
         "mode": "markers",
         "name": "2019-04-29",
         "showlegend": true,
         "type": "scattergl",
         "x": [
          -2.8238007565859955
         ],
         "xaxis": "x",
         "y": [
          2.5009388767309586
         ],
         "yaxis": "y"
        },
        {
         "hovertemplate": "date=2019-04-30<br>pc1=%{x}<br>pc2=%{y}<extra></extra>",
         "legendgroup": "2019-04-30",
         "marker": {
          "color": "#FF97FF",
          "symbol": "circle"
         },
         "mode": "markers",
         "name": "2019-04-30",
         "showlegend": true,
         "type": "scattergl",
         "x": [
          0.07516180472649917
         ],
         "xaxis": "x",
         "y": [
          6.111924424821089
         ],
         "yaxis": "y"
        },
        {
         "hovertemplate": "date=2019-05-01<br>pc1=%{x}<br>pc2=%{y}<extra></extra>",
         "legendgroup": "2019-05-01",
         "marker": {
          "color": "#FECB52",
          "symbol": "circle"
         },
         "mode": "markers",
         "name": "2019-05-01",
         "showlegend": true,
         "type": "scattergl",
         "x": [
          -4.253533974726114
         ],
         "xaxis": "x",
         "y": [
          5.1565595644385755
         ],
         "yaxis": "y"
        },
        {
         "hovertemplate": "date=2019-05-02<br>pc1=%{x}<br>pc2=%{y}<extra></extra>",
         "legendgroup": "2019-05-02",
         "marker": {
          "color": "#636efa",
          "symbol": "circle"
         },
         "mode": "markers",
         "name": "2019-05-02",
         "showlegend": true,
         "type": "scattergl",
         "x": [
          -1.4940471359498102
         ],
         "xaxis": "x",
         "y": [
          4.916820750537782
         ],
         "yaxis": "y"
        },
        {
         "hovertemplate": "date=2019-05-03<br>pc1=%{x}<br>pc2=%{y}<extra></extra>",
         "legendgroup": "2019-05-03",
         "marker": {
          "color": "#EF553B",
          "symbol": "circle"
         },
         "mode": "markers",
         "name": "2019-05-03",
         "showlegend": true,
         "type": "scattergl",
         "x": [
          -4.124672376721929
         ],
         "xaxis": "x",
         "y": [
          6.0276967099732985
         ],
         "yaxis": "y"
        },
        {
         "hovertemplate": "date=2019-05-04<br>pc1=%{x}<br>pc2=%{y}<extra></extra>",
         "legendgroup": "2019-05-04",
         "marker": {
          "color": "#00cc96",
          "symbol": "circle"
         },
         "mode": "markers",
         "name": "2019-05-04",
         "showlegend": true,
         "type": "scattergl",
         "x": [
          6.0846930671979536
         ],
         "xaxis": "x",
         "y": [
          -4.617791627212347
         ],
         "yaxis": "y"
        },
        {
         "hovertemplate": "date=2019-05-05<br>pc1=%{x}<br>pc2=%{y}<extra></extra>",
         "legendgroup": "2019-05-05",
         "marker": {
          "color": "#ab63fa",
          "symbol": "circle"
         },
         "mode": "markers",
         "name": "2019-05-05",
         "showlegend": true,
         "type": "scattergl",
         "x": [
          6.643071149432468
         ],
         "xaxis": "x",
         "y": [
          -11.639939349757997
         ],
         "yaxis": "y"
        },
        {
         "hovertemplate": "date=2019-05-06<br>pc1=%{x}<br>pc2=%{y}<extra></extra>",
         "legendgroup": "2019-05-06",
         "marker": {
          "color": "#FFA15A",
          "symbol": "circle"
         },
         "mode": "markers",
         "name": "2019-05-06",
         "showlegend": true,
         "type": "scattergl",
         "x": [
          -1.204082493088287
         ],
         "xaxis": "x",
         "y": [
          8.335648215947993
         ],
         "yaxis": "y"
        },
        {
         "hovertemplate": "date=2019-05-07<br>pc1=%{x}<br>pc2=%{y}<extra></extra>",
         "legendgroup": "2019-05-07",
         "marker": {
          "color": "#19d3f3",
          "symbol": "circle"
         },
         "mode": "markers",
         "name": "2019-05-07",
         "showlegend": true,
         "type": "scattergl",
         "x": [
          -1.1837953554559064
         ],
         "xaxis": "x",
         "y": [
          3.2193654804714953
         ],
         "yaxis": "y"
        },
        {
         "hovertemplate": "date=2019-05-08<br>pc1=%{x}<br>pc2=%{y}<extra></extra>",
         "legendgroup": "2019-05-08",
         "marker": {
          "color": "#FF6692",
          "symbol": "circle"
         },
         "mode": "markers",
         "name": "2019-05-08",
         "showlegend": true,
         "type": "scattergl",
         "x": [
          -0.2891146623062882
         ],
         "xaxis": "x",
         "y": [
          10.70418634380217
         ],
         "yaxis": "y"
        },
        {
         "hovertemplate": "date=2019-05-09<br>pc1=%{x}<br>pc2=%{y}<extra></extra>",
         "legendgroup": "2019-05-09",
         "marker": {
          "color": "#B6E880",
          "symbol": "circle"
         },
         "mode": "markers",
         "name": "2019-05-09",
         "showlegend": true,
         "type": "scattergl",
         "x": [
          -2.5571884877560134
         ],
         "xaxis": "x",
         "y": [
          7.558352105404416
         ],
         "yaxis": "y"
        },
        {
         "hovertemplate": "date=2019-05-10<br>pc1=%{x}<br>pc2=%{y}<extra></extra>",
         "legendgroup": "2019-05-10",
         "marker": {
          "color": "#FF97FF",
          "symbol": "circle"
         },
         "mode": "markers",
         "name": "2019-05-10",
         "showlegend": true,
         "type": "scattergl",
         "x": [
          -5.4705207137087335
         ],
         "xaxis": "x",
         "y": [
          3.791874115182456
         ],
         "yaxis": "y"
        },
        {
         "hovertemplate": "date=2019-05-11<br>pc1=%{x}<br>pc2=%{y}<extra></extra>",
         "legendgroup": "2019-05-11",
         "marker": {
          "color": "#FECB52",
          "symbol": "circle"
         },
         "mode": "markers",
         "name": "2019-05-11",
         "showlegend": true,
         "type": "scattergl",
         "x": [
          10.410770554200157
         ],
         "xaxis": "x",
         "y": [
          -3.5975475725404125
         ],
         "yaxis": "y"
        },
        {
         "hovertemplate": "date=2019-05-12<br>pc1=%{x}<br>pc2=%{y}<extra></extra>",
         "legendgroup": "2019-05-12",
         "marker": {
          "color": "#636efa",
          "symbol": "circle"
         },
         "mode": "markers",
         "name": "2019-05-12",
         "showlegend": true,
         "type": "scattergl",
         "x": [
          13.273397183811632
         ],
         "xaxis": "x",
         "y": [
          -8.811826348866973
         ],
         "yaxis": "y"
        },
        {
         "hovertemplate": "date=2019-05-13<br>pc1=%{x}<br>pc2=%{y}<extra></extra>",
         "legendgroup": "2019-05-13",
         "marker": {
          "color": "#EF553B",
          "symbol": "circle"
         },
         "mode": "markers",
         "name": "2019-05-13",
         "showlegend": true,
         "type": "scattergl",
         "x": [
          -1.415113433242854
         ],
         "xaxis": "x",
         "y": [
          8.683234507407386
         ],
         "yaxis": "y"
        },
        {
         "hovertemplate": "date=2019-05-14<br>pc1=%{x}<br>pc2=%{y}<extra></extra>",
         "legendgroup": "2019-05-14",
         "marker": {
          "color": "#00cc96",
          "symbol": "circle"
         },
         "mode": "markers",
         "name": "2019-05-14",
         "showlegend": true,
         "type": "scattergl",
         "x": [
          -1.8070445435411857
         ],
         "xaxis": "x",
         "y": [
          8.053112028016209
         ],
         "yaxis": "y"
        },
        {
         "hovertemplate": "date=2019-05-15<br>pc1=%{x}<br>pc2=%{y}<extra></extra>",
         "legendgroup": "2019-05-15",
         "marker": {
          "color": "#ab63fa",
          "symbol": "circle"
         },
         "mode": "markers",
         "name": "2019-05-15",
         "showlegend": true,
         "type": "scattergl",
         "x": [
          -5.101000206794249
         ],
         "xaxis": "x",
         "y": [
          5.211097587247638
         ],
         "yaxis": "y"
        },
        {
         "hovertemplate": "date=2019-05-16<br>pc1=%{x}<br>pc2=%{y}<extra></extra>",
         "legendgroup": "2019-05-16",
         "marker": {
          "color": "#FFA15A",
          "symbol": "circle"
         },
         "mode": "markers",
         "name": "2019-05-16",
         "showlegend": true,
         "type": "scattergl",
         "x": [
          -0.3257619272948167
         ],
         "xaxis": "x",
         "y": [
          6.64239032810977
         ],
         "yaxis": "y"
        },
        {
         "hovertemplate": "date=2019-05-17<br>pc1=%{x}<br>pc2=%{y}<extra></extra>",
         "legendgroup": "2019-05-17",
         "marker": {
          "color": "#19d3f3",
          "symbol": "circle"
         },
         "mode": "markers",
         "name": "2019-05-17",
         "showlegend": true,
         "type": "scattergl",
         "x": [
          -2.8718226355526233
         ],
         "xaxis": "x",
         "y": [
          -1.8360345861017406
         ],
         "yaxis": "y"
        },
        {
         "hovertemplate": "date=2019-05-18<br>pc1=%{x}<br>pc2=%{y}<extra></extra>",
         "legendgroup": "2019-05-18",
         "marker": {
          "color": "#FF6692",
          "symbol": "circle"
         },
         "mode": "markers",
         "name": "2019-05-18",
         "showlegend": true,
         "type": "scattergl",
         "x": [
          9.667921820290337
         ],
         "xaxis": "x",
         "y": [
          -2.8007212535890607
         ],
         "yaxis": "y"
        },
        {
         "hovertemplate": "date=2019-05-19<br>pc1=%{x}<br>pc2=%{y}<extra></extra>",
         "legendgroup": "2019-05-19",
         "marker": {
          "color": "#B6E880",
          "symbol": "circle"
         },
         "mode": "markers",
         "name": "2019-05-19",
         "showlegend": true,
         "type": "scattergl",
         "x": [
          14.048751602699504
         ],
         "xaxis": "x",
         "y": [
          -3.021007184890128
         ],
         "yaxis": "y"
        },
        {
         "hovertemplate": "date=2019-05-20<br>pc1=%{x}<br>pc2=%{y}<extra></extra>",
         "legendgroup": "2019-05-20",
         "marker": {
          "color": "#FF97FF",
          "symbol": "circle"
         },
         "mode": "markers",
         "name": "2019-05-20",
         "showlegend": true,
         "type": "scattergl",
         "x": [
          -6.705127968388392
         ],
         "xaxis": "x",
         "y": [
          2.5514223402200065
         ],
         "yaxis": "y"
        },
        {
         "hovertemplate": "date=2019-05-21<br>pc1=%{x}<br>pc2=%{y}<extra></extra>",
         "legendgroup": "2019-05-21",
         "marker": {
          "color": "#FECB52",
          "symbol": "circle"
         },
         "mode": "markers",
         "name": "2019-05-21",
         "showlegend": true,
         "type": "scattergl",
         "x": [
          0.94946271704336
         ],
         "xaxis": "x",
         "y": [
          7.904079653918182
         ],
         "yaxis": "y"
        },
        {
         "hovertemplate": "date=2019-05-22<br>pc1=%{x}<br>pc2=%{y}<extra></extra>",
         "legendgroup": "2019-05-22",
         "marker": {
          "color": "#636efa",
          "symbol": "circle"
         },
         "mode": "markers",
         "name": "2019-05-22",
         "showlegend": true,
         "type": "scattergl",
         "x": [
          -4.4452753109049805
         ],
         "xaxis": "x",
         "y": [
          7.908036266570048
         ],
         "yaxis": "y"
        },
        {
         "hovertemplate": "date=2019-05-23<br>pc1=%{x}<br>pc2=%{y}<extra></extra>",
         "legendgroup": "2019-05-23",
         "marker": {
          "color": "#EF553B",
          "symbol": "circle"
         },
         "mode": "markers",
         "name": "2019-05-23",
         "showlegend": true,
         "type": "scattergl",
         "x": [
          -9.023202873996562
         ],
         "xaxis": "x",
         "y": [
          0.5651412124801208
         ],
         "yaxis": "y"
        },
        {
         "hovertemplate": "date=2019-05-24<br>pc1=%{x}<br>pc2=%{y}<extra></extra>",
         "legendgroup": "2019-05-24",
         "marker": {
          "color": "#00cc96",
          "symbol": "circle"
         },
         "mode": "markers",
         "name": "2019-05-24",
         "showlegend": true,
         "type": "scattergl",
         "x": [
          -4.526256882517192
         ],
         "xaxis": "x",
         "y": [
          7.07752230934329
         ],
         "yaxis": "y"
        },
        {
         "hovertemplate": "date=2019-05-25<br>pc1=%{x}<br>pc2=%{y}<extra></extra>",
         "legendgroup": "2019-05-25",
         "marker": {
          "color": "#ab63fa",
          "symbol": "circle"
         },
         "mode": "markers",
         "name": "2019-05-25",
         "showlegend": true,
         "type": "scattergl",
         "x": [
          -0.3528143034652635
         ],
         "xaxis": "x",
         "y": [
          1.6897977878272081
         ],
         "yaxis": "y"
        },
        {
         "hovertemplate": "date=2019-05-26<br>pc1=%{x}<br>pc2=%{y}<extra></extra>",
         "legendgroup": "2019-05-26",
         "marker": {
          "color": "#FFA15A",
          "symbol": "circle"
         },
         "mode": "markers",
         "name": "2019-05-26",
         "showlegend": true,
         "type": "scattergl",
         "x": [
          4.069981770014627
         ],
         "xaxis": "x",
         "y": [
          3.00848391963783
         ],
         "yaxis": "y"
        },
        {
         "hovertemplate": "date=2019-05-27<br>pc1=%{x}<br>pc2=%{y}<extra></extra>",
         "legendgroup": "2019-05-27",
         "marker": {
          "color": "#19d3f3",
          "symbol": "circle"
         },
         "mode": "markers",
         "name": "2019-05-27",
         "showlegend": true,
         "type": "scattergl",
         "x": [
          41.3495346275375
         ],
         "xaxis": "x",
         "y": [
          -21.216151940728608
         ],
         "yaxis": "y"
        },
        {
         "hovertemplate": "date=2019-05-28<br>pc1=%{x}<br>pc2=%{y}<extra></extra>",
         "legendgroup": "2019-05-28",
         "marker": {
          "color": "#FF6692",
          "symbol": "circle"
         },
         "mode": "markers",
         "name": "2019-05-28",
         "showlegend": true,
         "type": "scattergl",
         "x": [
          -9.585673883090363
         ],
         "xaxis": "x",
         "y": [
          -0.02037250255747077
         ],
         "yaxis": "y"
        },
        {
         "hovertemplate": "date=2019-05-29<br>pc1=%{x}<br>pc2=%{y}<extra></extra>",
         "legendgroup": "2019-05-29",
         "marker": {
          "color": "#B6E880",
          "symbol": "circle"
         },
         "mode": "markers",
         "name": "2019-05-29",
         "showlegend": true,
         "type": "scattergl",
         "x": [
          -6.561617892016219
         ],
         "xaxis": "x",
         "y": [
          12.916028675940138
         ],
         "yaxis": "y"
        },
        {
         "hovertemplate": "date=2019-05-30<br>pc1=%{x}<br>pc2=%{y}<extra></extra>",
         "legendgroup": "2019-05-30",
         "marker": {
          "color": "#FF97FF",
          "symbol": "circle"
         },
         "mode": "markers",
         "name": "2019-05-30",
         "showlegend": true,
         "type": "scattergl",
         "x": [
          -12.74747612316466
         ],
         "xaxis": "x",
         "y": [
          7.7383992140744775
         ],
         "yaxis": "y"
        },
        {
         "hovertemplate": "date=2019-05-31<br>pc1=%{x}<br>pc2=%{y}<extra></extra>",
         "legendgroup": "2019-05-31",
         "marker": {
          "color": "#FECB52",
          "symbol": "circle"
         },
         "mode": "markers",
         "name": "2019-05-31",
         "showlegend": true,
         "type": "scattergl",
         "x": [
          -5.883585918081758
         ],
         "xaxis": "x",
         "y": [
          6.403692036453337
         ],
         "yaxis": "y"
        },
        {
         "hovertemplate": "date=2019-06-01<br>pc1=%{x}<br>pc2=%{y}<extra></extra>",
         "legendgroup": "2019-06-01",
         "marker": {
          "color": "#636efa",
          "symbol": "circle"
         },
         "mode": "markers",
         "name": "2019-06-01",
         "showlegend": true,
         "type": "scattergl",
         "x": [
          12.810772060379907
         ],
         "xaxis": "x",
         "y": [
          -3.8097028728041304
         ],
         "yaxis": "y"
        },
        {
         "hovertemplate": "date=2019-06-02<br>pc1=%{x}<br>pc2=%{y}<extra></extra>",
         "legendgroup": "2019-06-02",
         "marker": {
          "color": "#EF553B",
          "symbol": "circle"
         },
         "mode": "markers",
         "name": "2019-06-02",
         "showlegend": true,
         "type": "scattergl",
         "x": [
          8.973580929971154
         ],
         "xaxis": "x",
         "y": [
          -10.377618049242255
         ],
         "yaxis": "y"
        },
        {
         "hovertemplate": "date=2019-06-03<br>pc1=%{x}<br>pc2=%{y}<extra></extra>",
         "legendgroup": "2019-06-03",
         "marker": {
          "color": "#00cc96",
          "symbol": "circle"
         },
         "mode": "markers",
         "name": "2019-06-03",
         "showlegend": true,
         "type": "scattergl",
         "x": [
          -5.936396676354774
         ],
         "xaxis": "x",
         "y": [
          3.4456466479808823
         ],
         "yaxis": "y"
        },
        {
         "hovertemplate": "date=2019-06-04<br>pc1=%{x}<br>pc2=%{y}<extra></extra>",
         "legendgroup": "2019-06-04",
         "marker": {
          "color": "#ab63fa",
          "symbol": "circle"
         },
         "mode": "markers",
         "name": "2019-06-04",
         "showlegend": true,
         "type": "scattergl",
         "x": [
          0.007208787533756374
         ],
         "xaxis": "x",
         "y": [
          8.455841278211787
         ],
         "yaxis": "y"
        },
        {
         "hovertemplate": "date=2019-06-05<br>pc1=%{x}<br>pc2=%{y}<extra></extra>",
         "legendgroup": "2019-06-05",
         "marker": {
          "color": "#FFA15A",
          "symbol": "circle"
         },
         "mode": "markers",
         "name": "2019-06-05",
         "showlegend": true,
         "type": "scattergl",
         "x": [
          -4.925319497085312
         ],
         "xaxis": "x",
         "y": [
          2.9245028696120117
         ],
         "yaxis": "y"
        },
        {
         "hovertemplate": "date=2019-06-06<br>pc1=%{x}<br>pc2=%{y}<extra></extra>",
         "legendgroup": "2019-06-06",
         "marker": {
          "color": "#19d3f3",
          "symbol": "circle"
         },
         "mode": "markers",
         "name": "2019-06-06",
         "showlegend": true,
         "type": "scattergl",
         "x": [
          -2.4929804293863467
         ],
         "xaxis": "x",
         "y": [
          3.8848480561704926
         ],
         "yaxis": "y"
        },
        {
         "hovertemplate": "date=2019-06-07<br>pc1=%{x}<br>pc2=%{y}<extra></extra>",
         "legendgroup": "2019-06-07",
         "marker": {
          "color": "#FF6692",
          "symbol": "circle"
         },
         "mode": "markers",
         "name": "2019-06-07",
         "showlegend": true,
         "type": "scattergl",
         "x": [
          -2.7964455853187022
         ],
         "xaxis": "x",
         "y": [
          5.015368772433405
         ],
         "yaxis": "y"
        },
        {
         "hovertemplate": "date=2019-06-08<br>pc1=%{x}<br>pc2=%{y}<extra></extra>",
         "legendgroup": "2019-06-08",
         "marker": {
          "color": "#B6E880",
          "symbol": "circle"
         },
         "mode": "markers",
         "name": "2019-06-08",
         "showlegend": true,
         "type": "scattergl",
         "x": [
          2.9619392105797333
         ],
         "xaxis": "x",
         "y": [
          -6.099407692465243
         ],
         "yaxis": "y"
        },
        {
         "hovertemplate": "date=2019-06-09<br>pc1=%{x}<br>pc2=%{y}<extra></extra>",
         "legendgroup": "2019-06-09",
         "marker": {
          "color": "#FF97FF",
          "symbol": "circle"
         },
         "mode": "markers",
         "name": "2019-06-09",
         "showlegend": true,
         "type": "scattergl",
         "x": [
          13.484129165993943
         ],
         "xaxis": "x",
         "y": [
          -3.8214427733335357
         ],
         "yaxis": "y"
        },
        {
         "hovertemplate": "date=2019-06-10<br>pc1=%{x}<br>pc2=%{y}<extra></extra>",
         "legendgroup": "2019-06-10",
         "marker": {
          "color": "#FECB52",
          "symbol": "circle"
         },
         "mode": "markers",
         "name": "2019-06-10",
         "showlegend": true,
         "type": "scattergl",
         "x": [
          -2.097868001654688
         ],
         "xaxis": "x",
         "y": [
          5.696615060217144
         ],
         "yaxis": "y"
        },
        {
         "hovertemplate": "date=2019-06-11<br>pc1=%{x}<br>pc2=%{y}<extra></extra>",
         "legendgroup": "2019-06-11",
         "marker": {
          "color": "#636efa",
          "symbol": "circle"
         },
         "mode": "markers",
         "name": "2019-06-11",
         "showlegend": true,
         "type": "scattergl",
         "x": [
          -4.141957753233207
         ],
         "xaxis": "x",
         "y": [
          1.3159948017901082
         ],
         "yaxis": "y"
        },
        {
         "hovertemplate": "date=2019-06-12<br>pc1=%{x}<br>pc2=%{y}<extra></extra>",
         "legendgroup": "2019-06-12",
         "marker": {
          "color": "#EF553B",
          "symbol": "circle"
         },
         "mode": "markers",
         "name": "2019-06-12",
         "showlegend": true,
         "type": "scattergl",
         "x": [
          1.3055411121234735
         ],
         "xaxis": "x",
         "y": [
          5.822078027889283
         ],
         "yaxis": "y"
        },
        {
         "hovertemplate": "date=2019-06-13<br>pc1=%{x}<br>pc2=%{y}<extra></extra>",
         "legendgroup": "2019-06-13",
         "marker": {
          "color": "#00cc96",
          "symbol": "circle"
         },
         "mode": "markers",
         "name": "2019-06-13",
         "showlegend": true,
         "type": "scattergl",
         "x": [
          -4.106391787554186
         ],
         "xaxis": "x",
         "y": [
          4.463086804065852
         ],
         "yaxis": "y"
        },
        {
         "hovertemplate": "date=2019-06-14<br>pc1=%{x}<br>pc2=%{y}<extra></extra>",
         "legendgroup": "2019-06-14",
         "marker": {
          "color": "#ab63fa",
          "symbol": "circle"
         },
         "mode": "markers",
         "name": "2019-06-14",
         "showlegend": true,
         "type": "scattergl",
         "x": [
          -8.415141480910854
         ],
         "xaxis": "x",
         "y": [
          1.3300350441509998
         ],
         "yaxis": "y"
        },
        {
         "hovertemplate": "date=2019-06-15<br>pc1=%{x}<br>pc2=%{y}<extra></extra>",
         "legendgroup": "2019-06-15",
         "marker": {
          "color": "#FFA15A",
          "symbol": "circle"
         },
         "mode": "markers",
         "name": "2019-06-15",
         "showlegend": true,
         "type": "scattergl",
         "x": [
          3.3075777199118326
         ],
         "xaxis": "x",
         "y": [
          -13.700216955643645
         ],
         "yaxis": "y"
        },
        {
         "hovertemplate": "date=2019-06-16<br>pc1=%{x}<br>pc2=%{y}<extra></extra>",
         "legendgroup": "2019-06-16",
         "marker": {
          "color": "#19d3f3",
          "symbol": "circle"
         },
         "mode": "markers",
         "name": "2019-06-16",
         "showlegend": true,
         "type": "scattergl",
         "x": [
          10.47571515885309
         ],
         "xaxis": "x",
         "y": [
          -7.689172269404167
         ],
         "yaxis": "y"
        },
        {
         "hovertemplate": "date=2019-06-17<br>pc1=%{x}<br>pc2=%{y}<extra></extra>",
         "legendgroup": "2019-06-17",
         "marker": {
          "color": "#FF6692",
          "symbol": "circle"
         },
         "mode": "markers",
         "name": "2019-06-17",
         "showlegend": true,
         "type": "scattergl",
         "x": [
          0.4401925105441728
         ],
         "xaxis": "x",
         "y": [
          5.675178615314295
         ],
         "yaxis": "y"
        },
        {
         "hovertemplate": "date=2019-06-18<br>pc1=%{x}<br>pc2=%{y}<extra></extra>",
         "legendgroup": "2019-06-18",
         "marker": {
          "color": "#B6E880",
          "symbol": "circle"
         },
         "mode": "markers",
         "name": "2019-06-18",
         "showlegend": true,
         "type": "scattergl",
         "x": [
          -2.563483605923122
         ],
         "xaxis": "x",
         "y": [
          8.053730973088467
         ],
         "yaxis": "y"
        },
        {
         "hovertemplate": "date=2019-06-19<br>pc1=%{x}<br>pc2=%{y}<extra></extra>",
         "legendgroup": "2019-06-19",
         "marker": {
          "color": "#FF97FF",
          "symbol": "circle"
         },
         "mode": "markers",
         "name": "2019-06-19",
         "showlegend": true,
         "type": "scattergl",
         "x": [
          -1.5887097409673392
         ],
         "xaxis": "x",
         "y": [
          3.2315963935186165
         ],
         "yaxis": "y"
        },
        {
         "hovertemplate": "date=2019-06-20<br>pc1=%{x}<br>pc2=%{y}<extra></extra>",
         "legendgroup": "2019-06-20",
         "marker": {
          "color": "#FECB52",
          "symbol": "circle"
         },
         "mode": "markers",
         "name": "2019-06-20",
         "showlegend": true,
         "type": "scattergl",
         "x": [
          -1.1785141764885296
         ],
         "xaxis": "x",
         "y": [
          7.426686481722181
         ],
         "yaxis": "y"
        },
        {
         "hovertemplate": "date=2019-06-21<br>pc1=%{x}<br>pc2=%{y}<extra></extra>",
         "legendgroup": "2019-06-21",
         "marker": {
          "color": "#636efa",
          "symbol": "circle"
         },
         "mode": "markers",
         "name": "2019-06-21",
         "showlegend": true,
         "type": "scattergl",
         "x": [
          -0.837103434781355
         ],
         "xaxis": "x",
         "y": [
          7.833379142531713
         ],
         "yaxis": "y"
        },
        {
         "hovertemplate": "date=2019-06-22<br>pc1=%{x}<br>pc2=%{y}<extra></extra>",
         "legendgroup": "2019-06-22",
         "marker": {
          "color": "#EF553B",
          "symbol": "circle"
         },
         "mode": "markers",
         "name": "2019-06-22",
         "showlegend": true,
         "type": "scattergl",
         "x": [
          3.1970755237598643
         ],
         "xaxis": "x",
         "y": [
          -3.719691217392118
         ],
         "yaxis": "y"
        },
        {
         "hovertemplate": "date=2019-06-23<br>pc1=%{x}<br>pc2=%{y}<extra></extra>",
         "legendgroup": "2019-06-23",
         "marker": {
          "color": "#00cc96",
          "symbol": "circle"
         },
         "mode": "markers",
         "name": "2019-06-23",
         "showlegend": true,
         "type": "scattergl",
         "x": [
          13.33375668228805
         ],
         "xaxis": "x",
         "y": [
          -5.7964752384765195
         ],
         "yaxis": "y"
        },
        {
         "hovertemplate": "date=2019-06-24<br>pc1=%{x}<br>pc2=%{y}<extra></extra>",
         "legendgroup": "2019-06-24",
         "marker": {
          "color": "#ab63fa",
          "symbol": "circle"
         },
         "mode": "markers",
         "name": "2019-06-24",
         "showlegend": true,
         "type": "scattergl",
         "x": [
          1.7116209053391986
         ],
         "xaxis": "x",
         "y": [
          5.102256938136885
         ],
         "yaxis": "y"
        },
        {
         "hovertemplate": "date=2019-06-25<br>pc1=%{x}<br>pc2=%{y}<extra></extra>",
         "legendgroup": "2019-06-25",
         "marker": {
          "color": "#FFA15A",
          "symbol": "circle"
         },
         "mode": "markers",
         "name": "2019-06-25",
         "showlegend": true,
         "type": "scattergl",
         "x": [
          -7.2676729568647
         ],
         "xaxis": "x",
         "y": [
          -0.2595363699773174
         ],
         "yaxis": "y"
        },
        {
         "hovertemplate": "date=2019-06-26<br>pc1=%{x}<br>pc2=%{y}<extra></extra>",
         "legendgroup": "2019-06-26",
         "marker": {
          "color": "#19d3f3",
          "symbol": "circle"
         },
         "mode": "markers",
         "name": "2019-06-26",
         "showlegend": true,
         "type": "scattergl",
         "x": [
          -5.938588971783705
         ],
         "xaxis": "x",
         "y": [
          1.6254947634038979
         ],
         "yaxis": "y"
        },
        {
         "hovertemplate": "date=2019-06-27<br>pc1=%{x}<br>pc2=%{y}<extra></extra>",
         "legendgroup": "2019-06-27",
         "marker": {
          "color": "#FF6692",
          "symbol": "circle"
         },
         "mode": "markers",
         "name": "2019-06-27",
         "showlegend": true,
         "type": "scattergl",
         "x": [
          -2.1457148375488315
         ],
         "xaxis": "x",
         "y": [
          1.1774873271388095
         ],
         "yaxis": "y"
        },
        {
         "hovertemplate": "date=2019-06-28<br>pc1=%{x}<br>pc2=%{y}<extra></extra>",
         "legendgroup": "2019-06-28",
         "marker": {
          "color": "#B6E880",
          "symbol": "circle"
         },
         "mode": "markers",
         "name": "2019-06-28",
         "showlegend": true,
         "type": "scattergl",
         "x": [
          -1.0907844538773777
         ],
         "xaxis": "x",
         "y": [
          -4.406955668534524
         ],
         "yaxis": "y"
        },
        {
         "hovertemplate": "date=2019-06-29<br>pc1=%{x}<br>pc2=%{y}<extra></extra>",
         "legendgroup": "2019-06-29",
         "marker": {
          "color": "#FF97FF",
          "symbol": "circle"
         },
         "mode": "markers",
         "name": "2019-06-29",
         "showlegend": true,
         "type": "scattergl",
         "x": [
          7.427465669487303
         ],
         "xaxis": "x",
         "y": [
          -2.981101112954342
         ],
         "yaxis": "y"
        },
        {
         "hovertemplate": "date=2019-06-30<br>pc1=%{x}<br>pc2=%{y}<extra></extra>",
         "legendgroup": "2019-06-30",
         "marker": {
          "color": "#FECB52",
          "symbol": "circle"
         },
         "mode": "markers",
         "name": "2019-06-30",
         "showlegend": true,
         "type": "scattergl",
         "x": [
          -3.576544084789537
         ],
         "xaxis": "x",
         "y": [
          1.347076142864227
         ],
         "yaxis": "y"
        },
        {
         "hovertemplate": "date=2019-07-01<br>pc1=%{x}<br>pc2=%{y}<extra></extra>",
         "legendgroup": "2019-07-01",
         "marker": {
          "color": "#636efa",
          "symbol": "circle"
         },
         "mode": "markers",
         "name": "2019-07-01",
         "showlegend": true,
         "type": "scattergl",
         "x": [
          -12.269173763550109
         ],
         "xaxis": "x",
         "y": [
          -1.037509090532091
         ],
         "yaxis": "y"
        },
        {
         "hovertemplate": "date=2019-07-02<br>pc1=%{x}<br>pc2=%{y}<extra></extra>",
         "legendgroup": "2019-07-02",
         "marker": {
          "color": "#EF553B",
          "symbol": "circle"
         },
         "mode": "markers",
         "name": "2019-07-02",
         "showlegend": true,
         "type": "scattergl",
         "x": [
          -7.497183420624043
         ],
         "xaxis": "x",
         "y": [
          5.820104905643944
         ],
         "yaxis": "y"
        },
        {
         "hovertemplate": "date=2019-07-03<br>pc1=%{x}<br>pc2=%{y}<extra></extra>",
         "legendgroup": "2019-07-03",
         "marker": {
          "color": "#00cc96",
          "symbol": "circle"
         },
         "mode": "markers",
         "name": "2019-07-03",
         "showlegend": true,
         "type": "scattergl",
         "x": [
          -10.180480928015998
         ],
         "xaxis": "x",
         "y": [
          4.502972387421976
         ],
         "yaxis": "y"
        },
        {
         "hovertemplate": "date=2019-07-04<br>pc1=%{x}<br>pc2=%{y}<extra></extra>",
         "legendgroup": "2019-07-04",
         "marker": {
          "color": "#ab63fa",
          "symbol": "circle"
         },
         "mode": "markers",
         "name": "2019-07-04",
         "showlegend": true,
         "type": "scattergl",
         "x": [
          26.654731552690826
         ],
         "xaxis": "x",
         "y": [
          -21.62114518640851
         ],
         "yaxis": "y"
        },
        {
         "hovertemplate": "date=2019-07-05<br>pc1=%{x}<br>pc2=%{y}<extra></extra>",
         "legendgroup": "2019-07-05",
         "marker": {
          "color": "#FFA15A",
          "symbol": "circle"
         },
         "mode": "markers",
         "name": "2019-07-05",
         "showlegend": true,
         "type": "scattergl",
         "x": [
          11.236602252759221
         ],
         "xaxis": "x",
         "y": [
          -4.7322052025943435
         ],
         "yaxis": "y"
        },
        {
         "hovertemplate": "date=2019-07-06<br>pc1=%{x}<br>pc2=%{y}<extra></extra>",
         "legendgroup": "2019-07-06",
         "marker": {
          "color": "#19d3f3",
          "symbol": "circle"
         },
         "mode": "markers",
         "name": "2019-07-06",
         "showlegend": true,
         "type": "scattergl",
         "x": [
          1.710654407772212
         ],
         "xaxis": "x",
         "y": [
          3.510867081227824
         ],
         "yaxis": "y"
        },
        {
         "hovertemplate": "date=2019-07-07<br>pc1=%{x}<br>pc2=%{y}<extra></extra>",
         "legendgroup": "2019-07-07",
         "marker": {
          "color": "#FF6692",
          "symbol": "circle"
         },
         "mode": "markers",
         "name": "2019-07-07",
         "showlegend": true,
         "type": "scattergl",
         "x": [
          -0.7771373191391835
         ],
         "xaxis": "x",
         "y": [
          -0.48507417848931716
         ],
         "yaxis": "y"
        },
        {
         "hovertemplate": "date=2019-07-08<br>pc1=%{x}<br>pc2=%{y}<extra></extra>",
         "legendgroup": "2019-07-08",
         "marker": {
          "color": "#B6E880",
          "symbol": "circle"
         },
         "mode": "markers",
         "name": "2019-07-08",
         "showlegend": true,
         "type": "scattergl",
         "x": [
          -4.490612206452483
         ],
         "xaxis": "x",
         "y": [
          7.011036566562001
         ],
         "yaxis": "y"
        },
        {
         "hovertemplate": "date=2019-07-09<br>pc1=%{x}<br>pc2=%{y}<extra></extra>",
         "legendgroup": "2019-07-09",
         "marker": {
          "color": "#FF97FF",
          "symbol": "circle"
         },
         "mode": "markers",
         "name": "2019-07-09",
         "showlegend": true,
         "type": "scattergl",
         "x": [
          -3.217433229452112
         ],
         "xaxis": "x",
         "y": [
          1.6522610303685945
         ],
         "yaxis": "y"
        },
        {
         "hovertemplate": "date=2019-07-10<br>pc1=%{x}<br>pc2=%{y}<extra></extra>",
         "legendgroup": "2019-07-10",
         "marker": {
          "color": "#FECB52",
          "symbol": "circle"
         },
         "mode": "markers",
         "name": "2019-07-10",
         "showlegend": true,
         "type": "scattergl",
         "x": [
          -1.6879408721342573
         ],
         "xaxis": "x",
         "y": [
          1.7500713585054686
         ],
         "yaxis": "y"
        },
        {
         "hovertemplate": "date=2019-07-11<br>pc1=%{x}<br>pc2=%{y}<extra></extra>",
         "legendgroup": "2019-07-11",
         "marker": {
          "color": "#636efa",
          "symbol": "circle"
         },
         "mode": "markers",
         "name": "2019-07-11",
         "showlegend": true,
         "type": "scattergl",
         "x": [
          -4.325573686337591
         ],
         "xaxis": "x",
         "y": [
          4.5687265511570345
         ],
         "yaxis": "y"
        },
        {
         "hovertemplate": "date=2019-07-12<br>pc1=%{x}<br>pc2=%{y}<extra></extra>",
         "legendgroup": "2019-07-12",
         "marker": {
          "color": "#EF553B",
          "symbol": "circle"
         },
         "mode": "markers",
         "name": "2019-07-12",
         "showlegend": true,
         "type": "scattergl",
         "x": [
          -12.490341890106304
         ],
         "xaxis": "x",
         "y": [
          -8.20205719748518
         ],
         "yaxis": "y"
        },
        {
         "hovertemplate": "date=2019-07-13<br>pc1=%{x}<br>pc2=%{y}<extra></extra>",
         "legendgroup": "2019-07-13",
         "marker": {
          "color": "#00cc96",
          "symbol": "circle"
         },
         "mode": "markers",
         "name": "2019-07-13",
         "showlegend": true,
         "type": "scattergl",
         "x": [
          5.231441183332779
         ],
         "xaxis": "x",
         "y": [
          -1.5192148579495686
         ],
         "yaxis": "y"
        },
        {
         "hovertemplate": "date=2019-07-14<br>pc1=%{x}<br>pc2=%{y}<extra></extra>",
         "legendgroup": "2019-07-14",
         "marker": {
          "color": "#ab63fa",
          "symbol": "circle"
         },
         "mode": "markers",
         "name": "2019-07-14",
         "showlegend": true,
         "type": "scattergl",
         "x": [
          9.741764448444776
         ],
         "xaxis": "x",
         "y": [
          -4.346577417415797
         ],
         "yaxis": "y"
        },
        {
         "hovertemplate": "date=2019-07-15<br>pc1=%{x}<br>pc2=%{y}<extra></extra>",
         "legendgroup": "2019-07-15",
         "marker": {
          "color": "#FFA15A",
          "symbol": "circle"
         },
         "mode": "markers",
         "name": "2019-07-15",
         "showlegend": true,
         "type": "scattergl",
         "x": [
          -2.586529561887369
         ],
         "xaxis": "x",
         "y": [
          4.009091467195087
         ],
         "yaxis": "y"
        },
        {
         "hovertemplate": "date=2019-07-16<br>pc1=%{x}<br>pc2=%{y}<extra></extra>",
         "legendgroup": "2019-07-16",
         "marker": {
          "color": "#19d3f3",
          "symbol": "circle"
         },
         "mode": "markers",
         "name": "2019-07-16",
         "showlegend": true,
         "type": "scattergl",
         "x": [
          -1.2945117495864544
         ],
         "xaxis": "x",
         "y": [
          5.0387476576151915
         ],
         "yaxis": "y"
        },
        {
         "hovertemplate": "date=2019-07-17<br>pc1=%{x}<br>pc2=%{y}<extra></extra>",
         "legendgroup": "2019-07-17",
         "marker": {
          "color": "#FF6692",
          "symbol": "circle"
         },
         "mode": "markers",
         "name": "2019-07-17",
         "showlegend": true,
         "type": "scattergl",
         "x": [
          -4.437947314457824
         ],
         "xaxis": "x",
         "y": [
          4.544760180466102
         ],
         "yaxis": "y"
        },
        {
         "hovertemplate": "date=2019-07-18<br>pc1=%{x}<br>pc2=%{y}<extra></extra>",
         "legendgroup": "2019-07-18",
         "marker": {
          "color": "#B6E880",
          "symbol": "circle"
         },
         "mode": "markers",
         "name": "2019-07-18",
         "showlegend": true,
         "type": "scattergl",
         "x": [
          -3.2649939600650026
         ],
         "xaxis": "x",
         "y": [
          -4.973898924839177
         ],
         "yaxis": "y"
        },
        {
         "hovertemplate": "date=2019-07-19<br>pc1=%{x}<br>pc2=%{y}<extra></extra>",
         "legendgroup": "2019-07-19",
         "marker": {
          "color": "#FF97FF",
          "symbol": "circle"
         },
         "mode": "markers",
         "name": "2019-07-19",
         "showlegend": true,
         "type": "scattergl",
         "x": [
          -2.5318271644826535
         ],
         "xaxis": "x",
         "y": [
          -0.694915537260479
         ],
         "yaxis": "y"
        },
        {
         "hovertemplate": "date=2019-07-20<br>pc1=%{x}<br>pc2=%{y}<extra></extra>",
         "legendgroup": "2019-07-20",
         "marker": {
          "color": "#FECB52",
          "symbol": "circle"
         },
         "mode": "markers",
         "name": "2019-07-20",
         "showlegend": true,
         "type": "scattergl",
         "x": [
          7.755253131862623
         ],
         "xaxis": "x",
         "y": [
          -3.5481737658435155
         ],
         "yaxis": "y"
        },
        {
         "hovertemplate": "date=2019-07-21<br>pc1=%{x}<br>pc2=%{y}<extra></extra>",
         "legendgroup": "2019-07-21",
         "marker": {
          "color": "#636efa",
          "symbol": "circle"
         },
         "mode": "markers",
         "name": "2019-07-21",
         "showlegend": true,
         "type": "scattergl",
         "x": [
          7.852784409393167
         ],
         "xaxis": "x",
         "y": [
          -7.236888625470209
         ],
         "yaxis": "y"
        },
        {
         "hovertemplate": "date=2019-07-22<br>pc1=%{x}<br>pc2=%{y}<extra></extra>",
         "legendgroup": "2019-07-22",
         "marker": {
          "color": "#EF553B",
          "symbol": "circle"
         },
         "mode": "markers",
         "name": "2019-07-22",
         "showlegend": true,
         "type": "scattergl",
         "x": [
          -3.515143032996574
         ],
         "xaxis": "x",
         "y": [
          5.9257144400766695
         ],
         "yaxis": "y"
        },
        {
         "hovertemplate": "date=2019-07-23<br>pc1=%{x}<br>pc2=%{y}<extra></extra>",
         "legendgroup": "2019-07-23",
         "marker": {
          "color": "#00cc96",
          "symbol": "circle"
         },
         "mode": "markers",
         "name": "2019-07-23",
         "showlegend": true,
         "type": "scattergl",
         "x": [
          -1.5959949693924915
         ],
         "xaxis": "x",
         "y": [
          4.847766888418071
         ],
         "yaxis": "y"
        },
        {
         "hovertemplate": "date=2019-07-24<br>pc1=%{x}<br>pc2=%{y}<extra></extra>",
         "legendgroup": "2019-07-24",
         "marker": {
          "color": "#ab63fa",
          "symbol": "circle"
         },
         "mode": "markers",
         "name": "2019-07-24",
         "showlegend": true,
         "type": "scattergl",
         "x": [
          -2.975114833935521
         ],
         "xaxis": "x",
         "y": [
          4.130425731017798
         ],
         "yaxis": "y"
        },
        {
         "hovertemplate": "date=2019-07-25<br>pc1=%{x}<br>pc2=%{y}<extra></extra>",
         "legendgroup": "2019-07-25",
         "marker": {
          "color": "#FFA15A",
          "symbol": "circle"
         },
         "mode": "markers",
         "name": "2019-07-25",
         "showlegend": true,
         "type": "scattergl",
         "x": [
          -4.753771222415555
         ],
         "xaxis": "x",
         "y": [
          3.1688318086422527
         ],
         "yaxis": "y"
        },
        {
         "hovertemplate": "date=2019-07-26<br>pc1=%{x}<br>pc2=%{y}<extra></extra>",
         "legendgroup": "2019-07-26",
         "marker": {
          "color": "#19d3f3",
          "symbol": "circle"
         },
         "mode": "markers",
         "name": "2019-07-26",
         "showlegend": true,
         "type": "scattergl",
         "x": [
          -1.2666029777919354
         ],
         "xaxis": "x",
         "y": [
          3.5623649747942543
         ],
         "yaxis": "y"
        },
        {
         "hovertemplate": "date=2019-07-27<br>pc1=%{x}<br>pc2=%{y}<extra></extra>",
         "legendgroup": "2019-07-27",
         "marker": {
          "color": "#FF6692",
          "symbol": "circle"
         },
         "mode": "markers",
         "name": "2019-07-27",
         "showlegend": true,
         "type": "scattergl",
         "x": [
          6.180543364426362
         ],
         "xaxis": "x",
         "y": [
          -3.697035421830721
         ],
         "yaxis": "y"
        },
        {
         "hovertemplate": "date=2019-07-28<br>pc1=%{x}<br>pc2=%{y}<extra></extra>",
         "legendgroup": "2019-07-28",
         "marker": {
          "color": "#B6E880",
          "symbol": "circle"
         },
         "mode": "markers",
         "name": "2019-07-28",
         "showlegend": true,
         "type": "scattergl",
         "x": [
          11.185111804645986
         ],
         "xaxis": "x",
         "y": [
          -4.216745232428077
         ],
         "yaxis": "y"
        },
        {
         "hovertemplate": "date=2019-07-29<br>pc1=%{x}<br>pc2=%{y}<extra></extra>",
         "legendgroup": "2019-07-29",
         "marker": {
          "color": "#FF97FF",
          "symbol": "circle"
         },
         "mode": "markers",
         "name": "2019-07-29",
         "showlegend": true,
         "type": "scattergl",
         "x": [
          2.330547761997849
         ],
         "xaxis": "x",
         "y": [
          2.25295210289699
         ],
         "yaxis": "y"
        },
        {
         "hovertemplate": "date=2019-07-30<br>pc1=%{x}<br>pc2=%{y}<extra></extra>",
         "legendgroup": "2019-07-30",
         "marker": {
          "color": "#FECB52",
          "symbol": "circle"
         },
         "mode": "markers",
         "name": "2019-07-30",
         "showlegend": true,
         "type": "scattergl",
         "x": [
          -4.337459315543118
         ],
         "xaxis": "x",
         "y": [
          -3.7463949577848945
         ],
         "yaxis": "y"
        },
        {
         "hovertemplate": "date=2019-07-31<br>pc1=%{x}<br>pc2=%{y}<extra></extra>",
         "legendgroup": "2019-07-31",
         "marker": {
          "color": "#636efa",
          "symbol": "circle"
         },
         "mode": "markers",
         "name": "2019-07-31",
         "showlegend": true,
         "type": "scattergl",
         "x": [
          -1.59449548863279
         ],
         "xaxis": "x",
         "y": [
          1.802262038632951
         ],
         "yaxis": "y"
        },
        {
         "hovertemplate": "date=2019-08-01<br>pc1=%{x}<br>pc2=%{y}<extra></extra>",
         "legendgroup": "2019-08-01",
         "marker": {
          "color": "#EF553B",
          "symbol": "circle"
         },
         "mode": "markers",
         "name": "2019-08-01",
         "showlegend": true,
         "type": "scattergl",
         "x": [
          -4.917885065053652
         ],
         "xaxis": "x",
         "y": [
          5.726854930657969
         ],
         "yaxis": "y"
        },
        {
         "hovertemplate": "date=2019-08-02<br>pc1=%{x}<br>pc2=%{y}<extra></extra>",
         "legendgroup": "2019-08-02",
         "marker": {
          "color": "#00cc96",
          "symbol": "circle"
         },
         "mode": "markers",
         "name": "2019-08-02",
         "showlegend": true,
         "type": "scattergl",
         "x": [
          -5.938110726974314
         ],
         "xaxis": "x",
         "y": [
          3.4108539417530537
         ],
         "yaxis": "y"
        },
        {
         "hovertemplate": "date=2019-08-03<br>pc1=%{x}<br>pc2=%{y}<extra></extra>",
         "legendgroup": "2019-08-03",
         "marker": {
          "color": "#ab63fa",
          "symbol": "circle"
         },
         "mode": "markers",
         "name": "2019-08-03",
         "showlegend": true,
         "type": "scattergl",
         "x": [
          2.4145519076871844
         ],
         "xaxis": "x",
         "y": [
          -1.813043869890181
         ],
         "yaxis": "y"
        },
        {
         "hovertemplate": "date=2019-08-04<br>pc1=%{x}<br>pc2=%{y}<extra></extra>",
         "legendgroup": "2019-08-04",
         "marker": {
          "color": "#FFA15A",
          "symbol": "circle"
         },
         "mode": "markers",
         "name": "2019-08-04",
         "showlegend": true,
         "type": "scattergl",
         "x": [
          7.097818866166308
         ],
         "xaxis": "x",
         "y": [
          -1.4415303015531788
         ],
         "yaxis": "y"
        },
        {
         "hovertemplate": "date=2019-08-05<br>pc1=%{x}<br>pc2=%{y}<extra></extra>",
         "legendgroup": "2019-08-05",
         "marker": {
          "color": "#19d3f3",
          "symbol": "circle"
         },
         "mode": "markers",
         "name": "2019-08-05",
         "showlegend": true,
         "type": "scattergl",
         "x": [
          -3.255174901639027
         ],
         "xaxis": "x",
         "y": [
          -3.5186428576956033
         ],
         "yaxis": "y"
        },
        {
         "hovertemplate": "date=2019-08-06<br>pc1=%{x}<br>pc2=%{y}<extra></extra>",
         "legendgroup": "2019-08-06",
         "marker": {
          "color": "#FF6692",
          "symbol": "circle"
         },
         "mode": "markers",
         "name": "2019-08-06",
         "showlegend": true,
         "type": "scattergl",
         "x": [
          1.2225209993396953
         ],
         "xaxis": "x",
         "y": [
          2.5416001985919703
         ],
         "yaxis": "y"
        },
        {
         "hovertemplate": "date=2019-08-07<br>pc1=%{x}<br>pc2=%{y}<extra></extra>",
         "legendgroup": "2019-08-07",
         "marker": {
          "color": "#B6E880",
          "symbol": "circle"
         },
         "mode": "markers",
         "name": "2019-08-07",
         "showlegend": true,
         "type": "scattergl",
         "x": [
          -4.9336024465198856
         ],
         "xaxis": "x",
         "y": [
          -2.392242875510538
         ],
         "yaxis": "y"
        },
        {
         "hovertemplate": "date=2019-08-08<br>pc1=%{x}<br>pc2=%{y}<extra></extra>",
         "legendgroup": "2019-08-08",
         "marker": {
          "color": "#FF97FF",
          "symbol": "circle"
         },
         "mode": "markers",
         "name": "2019-08-08",
         "showlegend": true,
         "type": "scattergl",
         "x": [
          -5.119237913871361
         ],
         "xaxis": "x",
         "y": [
          -1.248413981622456
         ],
         "yaxis": "y"
        },
        {
         "hovertemplate": "date=2019-08-09<br>pc1=%{x}<br>pc2=%{y}<extra></extra>",
         "legendgroup": "2019-08-09",
         "marker": {
          "color": "#FECB52",
          "symbol": "circle"
         },
         "mode": "markers",
         "name": "2019-08-09",
         "showlegend": true,
         "type": "scattergl",
         "x": [
          -3.8487299946162405
         ],
         "xaxis": "x",
         "y": [
          -1.1445090929388295
         ],
         "yaxis": "y"
        },
        {
         "hovertemplate": "date=2019-08-10<br>pc1=%{x}<br>pc2=%{y}<extra></extra>",
         "legendgroup": "2019-08-10",
         "marker": {
          "color": "#636efa",
          "symbol": "circle"
         },
         "mode": "markers",
         "name": "2019-08-10",
         "showlegend": true,
         "type": "scattergl",
         "x": [
          0.5359135439330013
         ],
         "xaxis": "x",
         "y": [
          -5.787128346381882
         ],
         "yaxis": "y"
        },
        {
         "hovertemplate": "date=2019-08-11<br>pc1=%{x}<br>pc2=%{y}<extra></extra>",
         "legendgroup": "2019-08-11",
         "marker": {
          "color": "#EF553B",
          "symbol": "circle"
         },
         "mode": "markers",
         "name": "2019-08-11",
         "showlegend": true,
         "type": "scattergl",
         "x": [
          10.092102250024796
         ],
         "xaxis": "x",
         "y": [
          -2.36991434790348
         ],
         "yaxis": "y"
        },
        {
         "hovertemplate": "date=2019-08-12<br>pc1=%{x}<br>pc2=%{y}<extra></extra>",
         "legendgroup": "2019-08-12",
         "marker": {
          "color": "#00cc96",
          "symbol": "circle"
         },
         "mode": "markers",
         "name": "2019-08-12",
         "showlegend": true,
         "type": "scattergl",
         "x": [
          0.020101654345151466
         ],
         "xaxis": "x",
         "y": [
          1.013983444317916
         ],
         "yaxis": "y"
        },
        {
         "hovertemplate": "date=2019-08-13<br>pc1=%{x}<br>pc2=%{y}<extra></extra>",
         "legendgroup": "2019-08-13",
         "marker": {
          "color": "#ab63fa",
          "symbol": "circle"
         },
         "mode": "markers",
         "name": "2019-08-13",
         "showlegend": true,
         "type": "scattergl",
         "x": [
          -1.0324662752981353
         ],
         "xaxis": "x",
         "y": [
          2.826479317205513
         ],
         "yaxis": "y"
        },
        {
         "hovertemplate": "date=2019-08-14<br>pc1=%{x}<br>pc2=%{y}<extra></extra>",
         "legendgroup": "2019-08-14",
         "marker": {
          "color": "#FFA15A",
          "symbol": "circle"
         },
         "mode": "markers",
         "name": "2019-08-14",
         "showlegend": true,
         "type": "scattergl",
         "x": [
          -1.6965089041622496
         ],
         "xaxis": "x",
         "y": [
          3.8936823025497196
         ],
         "yaxis": "y"
        },
        {
         "hovertemplate": "date=2019-08-15<br>pc1=%{x}<br>pc2=%{y}<extra></extra>",
         "legendgroup": "2019-08-15",
         "marker": {
          "color": "#19d3f3",
          "symbol": "circle"
         },
         "mode": "markers",
         "name": "2019-08-15",
         "showlegend": true,
         "type": "scattergl",
         "x": [
          -1.3821283530018014
         ],
         "xaxis": "x",
         "y": [
          6.436990998426654
         ],
         "yaxis": "y"
        },
        {
         "hovertemplate": "date=2019-08-16<br>pc1=%{x}<br>pc2=%{y}<extra></extra>",
         "legendgroup": "2019-08-16",
         "marker": {
          "color": "#FF6692",
          "symbol": "circle"
         },
         "mode": "markers",
         "name": "2019-08-16",
         "showlegend": true,
         "type": "scattergl",
         "x": [
          -11.43978753395782
         ],
         "xaxis": "x",
         "y": [
          -14.120297126396435
         ],
         "yaxis": "y"
        },
        {
         "hovertemplate": "date=2019-08-17<br>pc1=%{x}<br>pc2=%{y}<extra></extra>",
         "legendgroup": "2019-08-17",
         "marker": {
          "color": "#B6E880",
          "symbol": "circle"
         },
         "mode": "markers",
         "name": "2019-08-17",
         "showlegend": true,
         "type": "scattergl",
         "x": [
          1.499633422788378
         ],
         "xaxis": "x",
         "y": [
          -8.209503477977778
         ],
         "yaxis": "y"
        },
        {
         "hovertemplate": "date=2019-08-18<br>pc1=%{x}<br>pc2=%{y}<extra></extra>",
         "legendgroup": "2019-08-18",
         "marker": {
          "color": "#FF97FF",
          "symbol": "circle"
         },
         "mode": "markers",
         "name": "2019-08-18",
         "showlegend": true,
         "type": "scattergl",
         "x": [
          10.731825392904806
         ],
         "xaxis": "x",
         "y": [
          -3.7831254488496264
         ],
         "yaxis": "y"
        },
        {
         "hovertemplate": "date=2019-08-19<br>pc1=%{x}<br>pc2=%{y}<extra></extra>",
         "legendgroup": "2019-08-19",
         "marker": {
          "color": "#FECB52",
          "symbol": "circle"
         },
         "mode": "markers",
         "name": "2019-08-19",
         "showlegend": true,
         "type": "scattergl",
         "x": [
          -1.6749105054129863
         ],
         "xaxis": "x",
         "y": [
          4.29931798399278
         ],
         "yaxis": "y"
        },
        {
         "hovertemplate": "date=2019-08-20<br>pc1=%{x}<br>pc2=%{y}<extra></extra>",
         "legendgroup": "2019-08-20",
         "marker": {
          "color": "#636efa",
          "symbol": "circle"
         },
         "mode": "markers",
         "name": "2019-08-20",
         "showlegend": true,
         "type": "scattergl",
         "x": [
          1.162719122709204
         ],
         "xaxis": "x",
         "y": [
          2.4147682438425435
         ],
         "yaxis": "y"
        },
        {
         "hovertemplate": "date=2019-08-21<br>pc1=%{x}<br>pc2=%{y}<extra></extra>",
         "legendgroup": "2019-08-21",
         "marker": {
          "color": "#EF553B",
          "symbol": "circle"
         },
         "mode": "markers",
         "name": "2019-08-21",
         "showlegend": true,
         "type": "scattergl",
         "x": [
          -2.332106285814448
         ],
         "xaxis": "x",
         "y": [
          5.131515314303884
         ],
         "yaxis": "y"
        },
        {
         "hovertemplate": "date=2019-08-22<br>pc1=%{x}<br>pc2=%{y}<extra></extra>",
         "legendgroup": "2019-08-22",
         "marker": {
          "color": "#00cc96",
          "symbol": "circle"
         },
         "mode": "markers",
         "name": "2019-08-22",
         "showlegend": true,
         "type": "scattergl",
         "x": [
          -6.389880871420623
         ],
         "xaxis": "x",
         "y": [
          1.415812878485358
         ],
         "yaxis": "y"
        },
        {
         "hovertemplate": "date=2019-08-23<br>pc1=%{x}<br>pc2=%{y}<extra></extra>",
         "legendgroup": "2019-08-23",
         "marker": {
          "color": "#ab63fa",
          "symbol": "circle"
         },
         "mode": "markers",
         "name": "2019-08-23",
         "showlegend": true,
         "type": "scattergl",
         "x": [
          -9.481821707404011
         ],
         "xaxis": "x",
         "y": [
          -6.243584868095763
         ],
         "yaxis": "y"
        },
        {
         "hovertemplate": "date=2019-08-24<br>pc1=%{x}<br>pc2=%{y}<extra></extra>",
         "legendgroup": "2019-08-24",
         "marker": {
          "color": "#FFA15A",
          "symbol": "circle"
         },
         "mode": "markers",
         "name": "2019-08-24",
         "showlegend": true,
         "type": "scattergl",
         "x": [
          5.698663701462437
         ],
         "xaxis": "x",
         "y": [
          -5.00588377336548
         ],
         "yaxis": "y"
        },
        {
         "hovertemplate": "date=2019-08-25<br>pc1=%{x}<br>pc2=%{y}<extra></extra>",
         "legendgroup": "2019-08-25",
         "marker": {
          "color": "#19d3f3",
          "symbol": "circle"
         },
         "mode": "markers",
         "name": "2019-08-25",
         "showlegend": true,
         "type": "scattergl",
         "x": [
          12.175445041606935
         ],
         "xaxis": "x",
         "y": [
          -2.4919681924770387
         ],
         "yaxis": "y"
        },
        {
         "hovertemplate": "date=2019-08-26<br>pc1=%{x}<br>pc2=%{y}<extra></extra>",
         "legendgroup": "2019-08-26",
         "marker": {
          "color": "#FF6692",
          "symbol": "circle"
         },
         "mode": "markers",
         "name": "2019-08-26",
         "showlegend": true,
         "type": "scattergl",
         "x": [
          0.346607881293371
         ],
         "xaxis": "x",
         "y": [
          3.092130879726564
         ],
         "yaxis": "y"
        },
        {
         "hovertemplate": "date=2019-08-27<br>pc1=%{x}<br>pc2=%{y}<extra></extra>",
         "legendgroup": "2019-08-27",
         "marker": {
          "color": "#B6E880",
          "symbol": "circle"
         },
         "mode": "markers",
         "name": "2019-08-27",
         "showlegend": true,
         "type": "scattergl",
         "x": [
          -7.404958885858026
         ],
         "xaxis": "x",
         "y": [
          -1.0579489823154518
         ],
         "yaxis": "y"
        },
        {
         "hovertemplate": "date=2019-08-28<br>pc1=%{x}<br>pc2=%{y}<extra></extra>",
         "legendgroup": "2019-08-28",
         "marker": {
          "color": "#FF97FF",
          "symbol": "circle"
         },
         "mode": "markers",
         "name": "2019-08-28",
         "showlegend": true,
         "type": "scattergl",
         "x": [
          -2.1346186509341423
         ],
         "xaxis": "x",
         "y": [
          6.654510845771174
         ],
         "yaxis": "y"
        },
        {
         "hovertemplate": "date=2019-08-29<br>pc1=%{x}<br>pc2=%{y}<extra></extra>",
         "legendgroup": "2019-08-29",
         "marker": {
          "color": "#FECB52",
          "symbol": "circle"
         },
         "mode": "markers",
         "name": "2019-08-29",
         "showlegend": true,
         "type": "scattergl",
         "x": [
          -8.440249369346002
         ],
         "xaxis": "x",
         "y": [
          -3.8937413890921957
         ],
         "yaxis": "y"
        },
        {
         "hovertemplate": "date=2019-08-30<br>pc1=%{x}<br>pc2=%{y}<extra></extra>",
         "legendgroup": "2019-08-30",
         "marker": {
          "color": "#636efa",
          "symbol": "circle"
         },
         "mode": "markers",
         "name": "2019-08-30",
         "showlegend": true,
         "type": "scattergl",
         "x": [
          -9.599439079438262
         ],
         "xaxis": "x",
         "y": [
          2.1533180644888272
         ],
         "yaxis": "y"
        },
        {
         "hovertemplate": "date=2019-08-31<br>pc1=%{x}<br>pc2=%{y}<extra></extra>",
         "legendgroup": "2019-08-31",
         "marker": {
          "color": "#EF553B",
          "symbol": "circle"
         },
         "mode": "markers",
         "name": "2019-08-31",
         "showlegend": true,
         "type": "scattergl",
         "x": [
          -0.4042737096415681
         ],
         "xaxis": "x",
         "y": [
          -3.134952546466804
         ],
         "yaxis": "y"
        },
        {
         "hovertemplate": "date=2019-09-01<br>pc1=%{x}<br>pc2=%{y}<extra></extra>",
         "legendgroup": "2019-09-01",
         "marker": {
          "color": "#00cc96",
          "symbol": "circle"
         },
         "mode": "markers",
         "name": "2019-09-01",
         "showlegend": true,
         "type": "scattergl",
         "x": [
          1.6097917950526082
         ],
         "xaxis": "x",
         "y": [
          -3.2126293810332123
         ],
         "yaxis": "y"
        },
        {
         "hovertemplate": "date=2019-09-02<br>pc1=%{x}<br>pc2=%{y}<extra></extra>",
         "legendgroup": "2019-09-02",
         "marker": {
          "color": "#ab63fa",
          "symbol": "circle"
         },
         "mode": "markers",
         "name": "2019-09-02",
         "showlegend": true,
         "type": "scattergl",
         "x": [
          39.17885827602392
         ],
         "xaxis": "x",
         "y": [
          -18.034598514038713
         ],
         "yaxis": "y"
        },
        {
         "hovertemplate": "date=2019-09-03<br>pc1=%{x}<br>pc2=%{y}<extra></extra>",
         "legendgroup": "2019-09-03",
         "marker": {
          "color": "#FFA15A",
          "symbol": "circle"
         },
         "mode": "markers",
         "name": "2019-09-03",
         "showlegend": true,
         "type": "scattergl",
         "x": [
          -9.074368487078122
         ],
         "xaxis": "x",
         "y": [
          2.7708649738418707
         ],
         "yaxis": "y"
        },
        {
         "hovertemplate": "date=2019-09-04<br>pc1=%{x}<br>pc2=%{y}<extra></extra>",
         "legendgroup": "2019-09-04",
         "marker": {
          "color": "#19d3f3",
          "symbol": "circle"
         },
         "mode": "markers",
         "name": "2019-09-04",
         "showlegend": true,
         "type": "scattergl",
         "x": [
          -13.386050268453333
         ],
         "xaxis": "x",
         "y": [
          5.943384091394579
         ],
         "yaxis": "y"
        },
        {
         "hovertemplate": "date=2019-09-05<br>pc1=%{x}<br>pc2=%{y}<extra></extra>",
         "legendgroup": "2019-09-05",
         "marker": {
          "color": "#FF6692",
          "symbol": "circle"
         },
         "mode": "markers",
         "name": "2019-09-05",
         "showlegend": true,
         "type": "scattergl",
         "x": [
          -15.714892562666776
         ],
         "xaxis": "x",
         "y": [
          9.502321225109974
         ],
         "yaxis": "y"
        },
        {
         "hovertemplate": "date=2019-09-06<br>pc1=%{x}<br>pc2=%{y}<extra></extra>",
         "legendgroup": "2019-09-06",
         "marker": {
          "color": "#B6E880",
          "symbol": "circle"
         },
         "mode": "markers",
         "name": "2019-09-06",
         "showlegend": true,
         "type": "scattergl",
         "x": [
          -3.3786785753444564
         ],
         "xaxis": "x",
         "y": [
          2.488079778076551
         ],
         "yaxis": "y"
        },
        {
         "hovertemplate": "date=2019-09-07<br>pc1=%{x}<br>pc2=%{y}<extra></extra>",
         "legendgroup": "2019-09-07",
         "marker": {
          "color": "#FF97FF",
          "symbol": "circle"
         },
         "mode": "markers",
         "name": "2019-09-07",
         "showlegend": true,
         "type": "scattergl",
         "x": [
          11.572138675400794
         ],
         "xaxis": "x",
         "y": [
          -4.832791953813658
         ],
         "yaxis": "y"
        },
        {
         "hovertemplate": "date=2019-09-08<br>pc1=%{x}<br>pc2=%{y}<extra></extra>",
         "legendgroup": "2019-09-08",
         "marker": {
          "color": "#FECB52",
          "symbol": "circle"
         },
         "mode": "markers",
         "name": "2019-09-08",
         "showlegend": true,
         "type": "scattergl",
         "x": [
          17.19445246234218
         ],
         "xaxis": "x",
         "y": [
          -5.8454380368834045
         ],
         "yaxis": "y"
        },
        {
         "hovertemplate": "date=2019-09-09<br>pc1=%{x}<br>pc2=%{y}<extra></extra>",
         "legendgroup": "2019-09-09",
         "marker": {
          "color": "#636efa",
          "symbol": "circle"
         },
         "mode": "markers",
         "name": "2019-09-09",
         "showlegend": true,
         "type": "scattergl",
         "x": [
          -3.590117159859052
         ],
         "xaxis": "x",
         "y": [
          6.220123611659027
         ],
         "yaxis": "y"
        },
        {
         "hovertemplate": "date=2019-09-10<br>pc1=%{x}<br>pc2=%{y}<extra></extra>",
         "legendgroup": "2019-09-10",
         "marker": {
          "color": "#EF553B",
          "symbol": "circle"
         },
         "mode": "markers",
         "name": "2019-09-10",
         "showlegend": true,
         "type": "scattergl",
         "x": [
          -10.913166231195472
         ],
         "xaxis": "x",
         "y": [
          -6.066676918565143
         ],
         "yaxis": "y"
        },
        {
         "hovertemplate": "date=2019-09-11<br>pc1=%{x}<br>pc2=%{y}<extra></extra>",
         "legendgroup": "2019-09-11",
         "marker": {
          "color": "#00cc96",
          "symbol": "circle"
         },
         "mode": "markers",
         "name": "2019-09-11",
         "showlegend": true,
         "type": "scattergl",
         "x": [
          -1.8558405165992131
         ],
         "xaxis": "x",
         "y": [
          5.866104680703186
         ],
         "yaxis": "y"
        },
        {
         "hovertemplate": "date=2019-09-12<br>pc1=%{x}<br>pc2=%{y}<extra></extra>",
         "legendgroup": "2019-09-12",
         "marker": {
          "color": "#ab63fa",
          "symbol": "circle"
         },
         "mode": "markers",
         "name": "2019-09-12",
         "showlegend": true,
         "type": "scattergl",
         "x": [
          -5.050312025272606
         ],
         "xaxis": "x",
         "y": [
          1.1370662868404835
         ],
         "yaxis": "y"
        },
        {
         "hovertemplate": "date=2019-09-13<br>pc1=%{x}<br>pc2=%{y}<extra></extra>",
         "legendgroup": "2019-09-13",
         "marker": {
          "color": "#FFA15A",
          "symbol": "circle"
         },
         "mode": "markers",
         "name": "2019-09-13",
         "showlegend": true,
         "type": "scattergl",
         "x": [
          -7.457015303574298
         ],
         "xaxis": "x",
         "y": [
          0.5227522851960089
         ],
         "yaxis": "y"
        },
        {
         "hovertemplate": "date=2019-09-14<br>pc1=%{x}<br>pc2=%{y}<extra></extra>",
         "legendgroup": "2019-09-14",
         "marker": {
          "color": "#19d3f3",
          "symbol": "circle"
         },
         "mode": "markers",
         "name": "2019-09-14",
         "showlegend": true,
         "type": "scattergl",
         "x": [
          7.451733553696746
         ],
         "xaxis": "x",
         "y": [
          -2.6097458439837657
         ],
         "yaxis": "y"
        },
        {
         "hovertemplate": "date=2019-09-15<br>pc1=%{x}<br>pc2=%{y}<extra></extra>",
         "legendgroup": "2019-09-15",
         "marker": {
          "color": "#FF6692",
          "symbol": "circle"
         },
         "mode": "markers",
         "name": "2019-09-15",
         "showlegend": true,
         "type": "scattergl",
         "x": [
          14.686388554419791
         ],
         "xaxis": "x",
         "y": [
          -7.209769924809123
         ],
         "yaxis": "y"
        },
        {
         "hovertemplate": "date=2019-09-16<br>pc1=%{x}<br>pc2=%{y}<extra></extra>",
         "legendgroup": "2019-09-16",
         "marker": {
          "color": "#B6E880",
          "symbol": "circle"
         },
         "mode": "markers",
         "name": "2019-09-16",
         "showlegend": true,
         "type": "scattergl",
         "x": [
          -6.882402525151067
         ],
         "xaxis": "x",
         "y": [
          -0.2998854694908645
         ],
         "yaxis": "y"
        },
        {
         "hovertemplate": "date=2019-09-17<br>pc1=%{x}<br>pc2=%{y}<extra></extra>",
         "legendgroup": "2019-09-17",
         "marker": {
          "color": "#FF97FF",
          "symbol": "circle"
         },
         "mode": "markers",
         "name": "2019-09-17",
         "showlegend": true,
         "type": "scattergl",
         "x": [
          -3.35085626096519
         ],
         "xaxis": "x",
         "y": [
          3.026172506419252
         ],
         "yaxis": "y"
        },
        {
         "hovertemplate": "date=2019-09-18<br>pc1=%{x}<br>pc2=%{y}<extra></extra>",
         "legendgroup": "2019-09-18",
         "marker": {
          "color": "#FECB52",
          "symbol": "circle"
         },
         "mode": "markers",
         "name": "2019-09-18",
         "showlegend": true,
         "type": "scattergl",
         "x": [
          -9.201420319425452
         ],
         "xaxis": "x",
         "y": [
          -2.2380419520134107
         ],
         "yaxis": "y"
        },
        {
         "hovertemplate": "date=2019-09-19<br>pc1=%{x}<br>pc2=%{y}<extra></extra>",
         "legendgroup": "2019-09-19",
         "marker": {
          "color": "#636efa",
          "symbol": "circle"
         },
         "mode": "markers",
         "name": "2019-09-19",
         "showlegend": true,
         "type": "scattergl",
         "x": [
          -13.197043793468696
         ],
         "xaxis": "x",
         "y": [
          -5.967806873785422
         ],
         "yaxis": "y"
        },
        {
         "hovertemplate": "date=2019-09-20<br>pc1=%{x}<br>pc2=%{y}<extra></extra>",
         "legendgroup": "2019-09-20",
         "marker": {
          "color": "#EF553B",
          "symbol": "circle"
         },
         "mode": "markers",
         "name": "2019-09-20",
         "showlegend": true,
         "type": "scattergl",
         "x": [
          -5.879751271201592
         ],
         "xaxis": "x",
         "y": [
          4.638502133643994
         ],
         "yaxis": "y"
        },
        {
         "hovertemplate": "date=2019-09-21<br>pc1=%{x}<br>pc2=%{y}<extra></extra>",
         "legendgroup": "2019-09-21",
         "marker": {
          "color": "#00cc96",
          "symbol": "circle"
         },
         "mode": "markers",
         "name": "2019-09-21",
         "showlegend": true,
         "type": "scattergl",
         "x": [
          14.384031628270323
         ],
         "xaxis": "x",
         "y": [
          -2.4213529927517485
         ],
         "yaxis": "y"
        },
        {
         "hovertemplate": "date=2019-09-22<br>pc1=%{x}<br>pc2=%{y}<extra></extra>",
         "legendgroup": "2019-09-22",
         "marker": {
          "color": "#ab63fa",
          "symbol": "circle"
         },
         "mode": "markers",
         "name": "2019-09-22",
         "showlegend": true,
         "type": "scattergl",
         "x": [
          17.330842709009385
         ],
         "xaxis": "x",
         "y": [
          -13.961364178951513
         ],
         "yaxis": "y"
        },
        {
         "hovertemplate": "date=2019-09-23<br>pc1=%{x}<br>pc2=%{y}<extra></extra>",
         "legendgroup": "2019-09-23",
         "marker": {
          "color": "#FFA15A",
          "symbol": "circle"
         },
         "mode": "markers",
         "name": "2019-09-23",
         "showlegend": true,
         "type": "scattergl",
         "x": [
          -5.667479867476348
         ],
         "xaxis": "x",
         "y": [
          7.028057175317577
         ],
         "yaxis": "y"
        },
        {
         "hovertemplate": "date=2019-09-24<br>pc1=%{x}<br>pc2=%{y}<extra></extra>",
         "legendgroup": "2019-09-24",
         "marker": {
          "color": "#19d3f3",
          "symbol": "circle"
         },
         "mode": "markers",
         "name": "2019-09-24",
         "showlegend": true,
         "type": "scattergl",
         "x": [
          -12.70099321778991
         ],
         "xaxis": "x",
         "y": [
          -5.933364180173745
         ],
         "yaxis": "y"
        },
        {
         "hovertemplate": "date=2019-09-25<br>pc1=%{x}<br>pc2=%{y}<extra></extra>",
         "legendgroup": "2019-09-25",
         "marker": {
          "color": "#FF6692",
          "symbol": "circle"
         },
         "mode": "markers",
         "name": "2019-09-25",
         "showlegend": true,
         "type": "scattergl",
         "x": [
          -6.177628145008736
         ],
         "xaxis": "x",
         "y": [
          7.258587815860273
         ],
         "yaxis": "y"
        },
        {
         "hovertemplate": "date=2019-09-26<br>pc1=%{x}<br>pc2=%{y}<extra></extra>",
         "legendgroup": "2019-09-26",
         "marker": {
          "color": "#B6E880",
          "symbol": "circle"
         },
         "mode": "markers",
         "name": "2019-09-26",
         "showlegend": true,
         "type": "scattergl",
         "x": [
          -7.293279420804148
         ],
         "xaxis": "x",
         "y": [
          6.524838202931983
         ],
         "yaxis": "y"
        },
        {
         "hovertemplate": "date=2019-09-27<br>pc1=%{x}<br>pc2=%{y}<extra></extra>",
         "legendgroup": "2019-09-27",
         "marker": {
          "color": "#FF97FF",
          "symbol": "circle"
         },
         "mode": "markers",
         "name": "2019-09-27",
         "showlegend": true,
         "type": "scattergl",
         "x": [
          1.206385637847346
         ],
         "xaxis": "x",
         "y": [
          -1.078690634566393
         ],
         "yaxis": "y"
        },
        {
         "hovertemplate": "date=2019-09-28<br>pc1=%{x}<br>pc2=%{y}<extra></extra>",
         "legendgroup": "2019-09-28",
         "marker": {
          "color": "#FECB52",
          "symbol": "circle"
         },
         "mode": "markers",
         "name": "2019-09-28",
         "showlegend": true,
         "type": "scattergl",
         "x": [
          16.20343901558695
         ],
         "xaxis": "x",
         "y": [
          -0.8099321994876763
         ],
         "yaxis": "y"
        },
        {
         "hovertemplate": "date=2019-09-29<br>pc1=%{x}<br>pc2=%{y}<extra></extra>",
         "legendgroup": "2019-09-29",
         "marker": {
          "color": "#636efa",
          "symbol": "circle"
         },
         "mode": "markers",
         "name": "2019-09-29",
         "showlegend": true,
         "type": "scattergl",
         "x": [
          15.079546975896761
         ],
         "xaxis": "x",
         "y": [
          -10.302156081870514
         ],
         "yaxis": "y"
        },
        {
         "hovertemplate": "date=2019-09-30<br>pc1=%{x}<br>pc2=%{y}<extra></extra>",
         "legendgroup": "2019-09-30",
         "marker": {
          "color": "#EF553B",
          "symbol": "circle"
         },
         "mode": "markers",
         "name": "2019-09-30",
         "showlegend": true,
         "type": "scattergl",
         "x": [
          -8.350565412811259
         ],
         "xaxis": "x",
         "y": [
          3.1091084832281917
         ],
         "yaxis": "y"
        },
        {
         "hovertemplate": "date=2019-10-01<br>pc1=%{x}<br>pc2=%{y}<extra></extra>",
         "legendgroup": "2019-10-01",
         "marker": {
          "color": "#00cc96",
          "symbol": "circle"
         },
         "mode": "markers",
         "name": "2019-10-01",
         "showlegend": true,
         "type": "scattergl",
         "x": [
          -5.811475037563266
         ],
         "xaxis": "x",
         "y": [
          7.078142947892131
         ],
         "yaxis": "y"
        },
        {
         "hovertemplate": "date=2019-10-02<br>pc1=%{x}<br>pc2=%{y}<extra></extra>",
         "legendgroup": "2019-10-02",
         "marker": {
          "color": "#ab63fa",
          "symbol": "circle"
         },
         "mode": "markers",
         "name": "2019-10-02",
         "showlegend": true,
         "type": "scattergl",
         "x": [
          -6.1561048547358705
         ],
         "xaxis": "x",
         "y": [
          3.1610104318993297
         ],
         "yaxis": "y"
        },
        {
         "hovertemplate": "date=2019-10-03<br>pc1=%{x}<br>pc2=%{y}<extra></extra>",
         "legendgroup": "2019-10-03",
         "marker": {
          "color": "#FFA15A",
          "symbol": "circle"
         },
         "mode": "markers",
         "name": "2019-10-03",
         "showlegend": true,
         "type": "scattergl",
         "x": [
          -11.30938616132905
         ],
         "xaxis": "x",
         "y": [
          -3.1653452442002337
         ],
         "yaxis": "y"
        },
        {
         "hovertemplate": "date=2019-10-04<br>pc1=%{x}<br>pc2=%{y}<extra></extra>",
         "legendgroup": "2019-10-04",
         "marker": {
          "color": "#19d3f3",
          "symbol": "circle"
         },
         "mode": "markers",
         "name": "2019-10-04",
         "showlegend": true,
         "type": "scattergl",
         "x": [
          -3.345930387644084
         ],
         "xaxis": "x",
         "y": [
          2.25899803466167
         ],
         "yaxis": "y"
        },
        {
         "hovertemplate": "date=2019-10-05<br>pc1=%{x}<br>pc2=%{y}<extra></extra>",
         "legendgroup": "2019-10-05",
         "marker": {
          "color": "#FF6692",
          "symbol": "circle"
         },
         "mode": "markers",
         "name": "2019-10-05",
         "showlegend": true,
         "type": "scattergl",
         "x": [
          14.86717660307521
         ],
         "xaxis": "x",
         "y": [
          -5.224570691785661
         ],
         "yaxis": "y"
        },
        {
         "hovertemplate": "date=2019-10-06<br>pc1=%{x}<br>pc2=%{y}<extra></extra>",
         "legendgroup": "2019-10-06",
         "marker": {
          "color": "#B6E880",
          "symbol": "circle"
         },
         "mode": "markers",
         "name": "2019-10-06",
         "showlegend": true,
         "type": "scattergl",
         "x": [
          16.94014020184752
         ],
         "xaxis": "x",
         "y": [
          -4.854581006368037
         ],
         "yaxis": "y"
        },
        {
         "hovertemplate": "date=2019-10-07<br>pc1=%{x}<br>pc2=%{y}<extra></extra>",
         "legendgroup": "2019-10-07",
         "marker": {
          "color": "#FF97FF",
          "symbol": "circle"
         },
         "mode": "markers",
         "name": "2019-10-07",
         "showlegend": true,
         "type": "scattergl",
         "x": [
          -4.1647800163031805
         ],
         "xaxis": "x",
         "y": [
          8.028625915236153
         ],
         "yaxis": "y"
        },
        {
         "hovertemplate": "date=2019-10-08<br>pc1=%{x}<br>pc2=%{y}<extra></extra>",
         "legendgroup": "2019-10-08",
         "marker": {
          "color": "#FECB52",
          "symbol": "circle"
         },
         "mode": "markers",
         "name": "2019-10-08",
         "showlegend": true,
         "type": "scattergl",
         "x": [
          -3.043181424000415
         ],
         "xaxis": "x",
         "y": [
          8.360467437531724
         ],
         "yaxis": "y"
        },
        {
         "hovertemplate": "date=2019-10-09<br>pc1=%{x}<br>pc2=%{y}<extra></extra>",
         "legendgroup": "2019-10-09",
         "marker": {
          "color": "#636efa",
          "symbol": "circle"
         },
         "mode": "markers",
         "name": "2019-10-09",
         "showlegend": true,
         "type": "scattergl",
         "x": [
          -2.0052399542421755
         ],
         "xaxis": "x",
         "y": [
          7.007494970610599
         ],
         "yaxis": "y"
        },
        {
         "hovertemplate": "date=2019-10-10<br>pc1=%{x}<br>pc2=%{y}<extra></extra>",
         "legendgroup": "2019-10-10",
         "marker": {
          "color": "#EF553B",
          "symbol": "circle"
         },
         "mode": "markers",
         "name": "2019-10-10",
         "showlegend": true,
         "type": "scattergl",
         "x": [
          -6.874972844382093
         ],
         "xaxis": "x",
         "y": [
          0.16626182290974506
         ],
         "yaxis": "y"
        },
        {
         "hovertemplate": "date=2019-10-11<br>pc1=%{x}<br>pc2=%{y}<extra></extra>",
         "legendgroup": "2019-10-11",
         "marker": {
          "color": "#00cc96",
          "symbol": "circle"
         },
         "mode": "markers",
         "name": "2019-10-11",
         "showlegend": true,
         "type": "scattergl",
         "x": [
          0.4273694441985303
         ],
         "xaxis": "x",
         "y": [
          4.152033461938964
         ],
         "yaxis": "y"
        },
        {
         "hovertemplate": "date=2019-10-12<br>pc1=%{x}<br>pc2=%{y}<extra></extra>",
         "legendgroup": "2019-10-12",
         "marker": {
          "color": "#ab63fa",
          "symbol": "circle"
         },
         "mode": "markers",
         "name": "2019-10-12",
         "showlegend": true,
         "type": "scattergl",
         "x": [
          16.12105703087159
         ],
         "xaxis": "x",
         "y": [
          6.100976939597431
         ],
         "yaxis": "y"
        },
        {
         "hovertemplate": "date=2019-10-13<br>pc1=%{x}<br>pc2=%{y}<extra></extra>",
         "legendgroup": "2019-10-13",
         "marker": {
          "color": "#FFA15A",
          "symbol": "circle"
         },
         "mode": "markers",
         "name": "2019-10-13",
         "showlegend": true,
         "type": "scattergl",
         "x": [
          20.832405558585958
         ],
         "xaxis": "x",
         "y": [
          32.15487619186472
         ],
         "yaxis": "y"
        },
        {
         "hovertemplate": "date=2019-10-14<br>pc1=%{x}<br>pc2=%{y}<extra></extra>",
         "legendgroup": "2019-10-14",
         "marker": {
          "color": "#19d3f3",
          "symbol": "circle"
         },
         "mode": "markers",
         "name": "2019-10-14",
         "showlegend": true,
         "type": "scattergl",
         "x": [
          14.78560094141603
         ],
         "xaxis": "x",
         "y": [
          12.864321063096723
         ],
         "yaxis": "y"
        },
        {
         "hovertemplate": "date=2019-10-15<br>pc1=%{x}<br>pc2=%{y}<extra></extra>",
         "legendgroup": "2019-10-15",
         "marker": {
          "color": "#FF6692",
          "symbol": "circle"
         },
         "mode": "markers",
         "name": "2019-10-15",
         "showlegend": true,
         "type": "scattergl",
         "x": [
          -4.605907412219031
         ],
         "xaxis": "x",
         "y": [
          2.8948136066629986
         ],
         "yaxis": "y"
        },
        {
         "hovertemplate": "date=2019-10-16<br>pc1=%{x}<br>pc2=%{y}<extra></extra>",
         "legendgroup": "2019-10-16",
         "marker": {
          "color": "#B6E880",
          "symbol": "circle"
         },
         "mode": "markers",
         "name": "2019-10-16",
         "showlegend": true,
         "type": "scattergl",
         "x": [
          -2.0147503089517795
         ],
         "xaxis": "x",
         "y": [
          6.826125589232575
         ],
         "yaxis": "y"
        },
        {
         "hovertemplate": "date=2019-10-17<br>pc1=%{x}<br>pc2=%{y}<extra></extra>",
         "legendgroup": "2019-10-17",
         "marker": {
          "color": "#FF97FF",
          "symbol": "circle"
         },
         "mode": "markers",
         "name": "2019-10-17",
         "showlegend": true,
         "type": "scattergl",
         "x": [
          -3.8230852253605976
         ],
         "xaxis": "x",
         "y": [
          6.285874598512825
         ],
         "yaxis": "y"
        },
        {
         "hovertemplate": "date=2019-10-18<br>pc1=%{x}<br>pc2=%{y}<extra></extra>",
         "legendgroup": "2019-10-18",
         "marker": {
          "color": "#FECB52",
          "symbol": "circle"
         },
         "mode": "markers",
         "name": "2019-10-18",
         "showlegend": true,
         "type": "scattergl",
         "x": [
          -2.5516239866105934
         ],
         "xaxis": "x",
         "y": [
          4.638995863207581
         ],
         "yaxis": "y"
        },
        {
         "hovertemplate": "date=2019-10-19<br>pc1=%{x}<br>pc2=%{y}<extra></extra>",
         "legendgroup": "2019-10-19",
         "marker": {
          "color": "#636efa",
          "symbol": "circle"
         },
         "mode": "markers",
         "name": "2019-10-19",
         "showlegend": true,
         "type": "scattergl",
         "x": [
          -0.4519748241357805
         ],
         "xaxis": "x",
         "y": [
          -16.397768465345187
         ],
         "yaxis": "y"
        },
        {
         "hovertemplate": "date=2019-10-20<br>pc1=%{x}<br>pc2=%{y}<extra></extra>",
         "legendgroup": "2019-10-20",
         "marker": {
          "color": "#EF553B",
          "symbol": "circle"
         },
         "mode": "markers",
         "name": "2019-10-20",
         "showlegend": true,
         "type": "scattergl",
         "x": [
          27.108921488513765
         ],
         "xaxis": "x",
         "y": [
          15.060636725952293
         ],
         "yaxis": "y"
        },
        {
         "hovertemplate": "date=2019-10-21<br>pc1=%{x}<br>pc2=%{y}<extra></extra>",
         "legendgroup": "2019-10-21",
         "marker": {
          "color": "#00cc96",
          "symbol": "circle"
         },
         "mode": "markers",
         "name": "2019-10-21",
         "showlegend": true,
         "type": "scattergl",
         "x": [
          -2.006447588166491
         ],
         "xaxis": "x",
         "y": [
          3.354862989741125
         ],
         "yaxis": "y"
        },
        {
         "hovertemplate": "date=2019-10-22<br>pc1=%{x}<br>pc2=%{y}<extra></extra>",
         "legendgroup": "2019-10-22",
         "marker": {
          "color": "#ab63fa",
          "symbol": "circle"
         },
         "mode": "markers",
         "name": "2019-10-22",
         "showlegend": true,
         "type": "scattergl",
         "x": [
          -1.0142534304440927
         ],
         "xaxis": "x",
         "y": [
          4.170733596188265
         ],
         "yaxis": "y"
        },
        {
         "hovertemplate": "date=2019-10-23<br>pc1=%{x}<br>pc2=%{y}<extra></extra>",
         "legendgroup": "2019-10-23",
         "marker": {
          "color": "#FFA15A",
          "symbol": "circle"
         },
         "mode": "markers",
         "name": "2019-10-23",
         "showlegend": true,
         "type": "scattergl",
         "x": [
          -7.02276492221417
         ],
         "xaxis": "x",
         "y": [
          7.374813861971851
         ],
         "yaxis": "y"
        },
        {
         "hovertemplate": "date=2019-10-24<br>pc1=%{x}<br>pc2=%{y}<extra></extra>",
         "legendgroup": "2019-10-24",
         "marker": {
          "color": "#19d3f3",
          "symbol": "circle"
         },
         "mode": "markers",
         "name": "2019-10-24",
         "showlegend": true,
         "type": "scattergl",
         "x": [
          -8.746634185861593
         ],
         "xaxis": "x",
         "y": [
          -1.0576525011337108
         ],
         "yaxis": "y"
        },
        {
         "hovertemplate": "date=2019-10-25<br>pc1=%{x}<br>pc2=%{y}<extra></extra>",
         "legendgroup": "2019-10-25",
         "marker": {
          "color": "#FF6692",
          "symbol": "circle"
         },
         "mode": "markers",
         "name": "2019-10-25",
         "showlegend": true,
         "type": "scattergl",
         "x": [
          -2.76319969037816
         ],
         "xaxis": "x",
         "y": [
          1.9844583878413624
         ],
         "yaxis": "y"
        },
        {
         "hovertemplate": "date=2019-10-26<br>pc1=%{x}<br>pc2=%{y}<extra></extra>",
         "legendgroup": "2019-10-26",
         "marker": {
          "color": "#B6E880",
          "symbol": "circle"
         },
         "mode": "markers",
         "name": "2019-10-26",
         "showlegend": true,
         "type": "scattergl",
         "x": [
          15.629572302538877
         ],
         "xaxis": "x",
         "y": [
          -7.480069688260436
         ],
         "yaxis": "y"
        },
        {
         "hovertemplate": "date=2019-10-27<br>pc1=%{x}<br>pc2=%{y}<extra></extra>",
         "legendgroup": "2019-10-27",
         "marker": {
          "color": "#FF97FF",
          "symbol": "circle"
         },
         "mode": "markers",
         "name": "2019-10-27",
         "showlegend": true,
         "type": "scattergl",
         "x": [
          11.16034477102816
         ],
         "xaxis": "x",
         "y": [
          -4.385944520484534
         ],
         "yaxis": "y"
        },
        {
         "hovertemplate": "date=2019-10-28<br>pc1=%{x}<br>pc2=%{y}<extra></extra>",
         "legendgroup": "2019-10-28",
         "marker": {
          "color": "#FECB52",
          "symbol": "circle"
         },
         "mode": "markers",
         "name": "2019-10-28",
         "showlegend": true,
         "type": "scattergl",
         "x": [
          -6.960013887174942
         ],
         "xaxis": "x",
         "y": [
          6.572454742097802
         ],
         "yaxis": "y"
        },
        {
         "hovertemplate": "date=2019-10-29<br>pc1=%{x}<br>pc2=%{y}<extra></extra>",
         "legendgroup": "2019-10-29",
         "marker": {
          "color": "#636efa",
          "symbol": "circle"
         },
         "mode": "markers",
         "name": "2019-10-29",
         "showlegend": true,
         "type": "scattergl",
         "x": [
          -3.987812554193101
         ],
         "xaxis": "x",
         "y": [
          8.472438849875
         ],
         "yaxis": "y"
        },
        {
         "hovertemplate": "date=2019-10-30<br>pc1=%{x}<br>pc2=%{y}<extra></extra>",
         "legendgroup": "2019-10-30",
         "marker": {
          "color": "#EF553B",
          "symbol": "circle"
         },
         "mode": "markers",
         "name": "2019-10-30",
         "showlegend": true,
         "type": "scattergl",
         "x": [
          -0.17791973024273428
         ],
         "xaxis": "x",
         "y": [
          6.117567224769984
         ],
         "yaxis": "y"
        },
        {
         "hovertemplate": "date=2019-10-31<br>pc1=%{x}<br>pc2=%{y}<extra></extra>",
         "legendgroup": "2019-10-31",
         "marker": {
          "color": "#00cc96",
          "symbol": "circle"
         },
         "mode": "markers",
         "name": "2019-10-31",
         "showlegend": true,
         "type": "scattergl",
         "x": [
          -0.8125522720644691
         ],
         "xaxis": "x",
         "y": [
          -2.1756928262657422
         ],
         "yaxis": "y"
        },
        {
         "hovertemplate": "date=2019-11-01<br>pc1=%{x}<br>pc2=%{y}<extra></extra>",
         "legendgroup": "2019-11-01",
         "marker": {
          "color": "#ab63fa",
          "symbol": "circle"
         },
         "mode": "markers",
         "name": "2019-11-01",
         "showlegend": true,
         "type": "scattergl",
         "x": [
          -3.623496417650981
         ],
         "xaxis": "x",
         "y": [
          3.7049753027570853
         ],
         "yaxis": "y"
        },
        {
         "hovertemplate": "date=2019-11-02<br>pc1=%{x}<br>pc2=%{y}<extra></extra>",
         "legendgroup": "2019-11-02",
         "marker": {
          "color": "#FFA15A",
          "symbol": "circle"
         },
         "mode": "markers",
         "name": "2019-11-02",
         "showlegend": true,
         "type": "scattergl",
         "x": [
          11.594177884044552
         ],
         "xaxis": "x",
         "y": [
          -3.366450036485578
         ],
         "yaxis": "y"
        },
        {
         "hovertemplate": "date=2019-11-03<br>pc1=%{x}<br>pc2=%{y}<extra></extra>",
         "legendgroup": "2019-11-03",
         "marker": {
          "color": "#19d3f3",
          "symbol": "circle"
         },
         "mode": "markers",
         "name": "2019-11-03",
         "showlegend": true,
         "type": "scattergl",
         "x": [
          13.045387765516544
         ],
         "xaxis": "x",
         "y": [
          -5.841001643658785
         ],
         "yaxis": "y"
        },
        {
         "hovertemplate": "date=2019-11-04<br>pc1=%{x}<br>pc2=%{y}<extra></extra>",
         "legendgroup": "2019-11-04",
         "marker": {
          "color": "#FF6692",
          "symbol": "circle"
         },
         "mode": "markers",
         "name": "2019-11-04",
         "showlegend": true,
         "type": "scattergl",
         "x": [
          -7.628350800280827
         ],
         "xaxis": "x",
         "y": [
          5.249387013698974
         ],
         "yaxis": "y"
        },
        {
         "hovertemplate": "date=2019-11-05<br>pc1=%{x}<br>pc2=%{y}<extra></extra>",
         "legendgroup": "2019-11-05",
         "marker": {
          "color": "#B6E880",
          "symbol": "circle"
         },
         "mode": "markers",
         "name": "2019-11-05",
         "showlegend": true,
         "type": "scattergl",
         "x": [
          -6.021813014438556
         ],
         "xaxis": "x",
         "y": [
          5.851574545209709
         ],
         "yaxis": "y"
        },
        {
         "hovertemplate": "date=2019-11-06<br>pc1=%{x}<br>pc2=%{y}<extra></extra>",
         "legendgroup": "2019-11-06",
         "marker": {
          "color": "#FF97FF",
          "symbol": "circle"
         },
         "mode": "markers",
         "name": "2019-11-06",
         "showlegend": true,
         "type": "scattergl",
         "x": [
          -7.288027330078682
         ],
         "xaxis": "x",
         "y": [
          3.3977924596082154
         ],
         "yaxis": "y"
        },
        {
         "hovertemplate": "date=2019-11-07<br>pc1=%{x}<br>pc2=%{y}<extra></extra>",
         "legendgroup": "2019-11-07",
         "marker": {
          "color": "#FECB52",
          "symbol": "circle"
         },
         "mode": "markers",
         "name": "2019-11-07",
         "showlegend": true,
         "type": "scattergl",
         "x": [
          -5.656392032671607
         ],
         "xaxis": "x",
         "y": [
          4.533199924584145
         ],
         "yaxis": "y"
        },
        {
         "hovertemplate": "date=2019-11-08<br>pc1=%{x}<br>pc2=%{y}<extra></extra>",
         "legendgroup": "2019-11-08",
         "marker": {
          "color": "#636efa",
          "symbol": "circle"
         },
         "mode": "markers",
         "name": "2019-11-08",
         "showlegend": true,
         "type": "scattergl",
         "x": [
          -1.289056836133994
         ],
         "xaxis": "x",
         "y": [
          2.7256460002935956
         ],
         "yaxis": "y"
        },
        {
         "hovertemplate": "date=2019-11-09<br>pc1=%{x}<br>pc2=%{y}<extra></extra>",
         "legendgroup": "2019-11-09",
         "marker": {
          "color": "#EF553B",
          "symbol": "circle"
         },
         "mode": "markers",
         "name": "2019-11-09",
         "showlegend": true,
         "type": "scattergl",
         "x": [
          8.946841906402733
         ],
         "xaxis": "x",
         "y": [
          -3.4926093614548464
         ],
         "yaxis": "y"
        },
        {
         "hovertemplate": "date=2019-11-10<br>pc1=%{x}<br>pc2=%{y}<extra></extra>",
         "legendgroup": "2019-11-10",
         "marker": {
          "color": "#00cc96",
          "symbol": "circle"
         },
         "mode": "markers",
         "name": "2019-11-10",
         "showlegend": true,
         "type": "scattergl",
         "x": [
          14.769831195749443
         ],
         "xaxis": "x",
         "y": [
          1.316558385751296
         ],
         "yaxis": "y"
        },
        {
         "hovertemplate": "date=2019-11-11<br>pc1=%{x}<br>pc2=%{y}<extra></extra>",
         "legendgroup": "2019-11-11",
         "marker": {
          "color": "#ab63fa",
          "symbol": "circle"
         },
         "mode": "markers",
         "name": "2019-11-11",
         "showlegend": true,
         "type": "scattergl",
         "x": [
          31.40244450464912
         ],
         "xaxis": "x",
         "y": [
          35.74512980680666
         ],
         "yaxis": "y"
        },
        {
         "hovertemplate": "date=2019-11-12<br>pc1=%{x}<br>pc2=%{y}<extra></extra>",
         "legendgroup": "2019-11-12",
         "marker": {
          "color": "#FFA15A",
          "symbol": "circle"
         },
         "mode": "markers",
         "name": "2019-11-12",
         "showlegend": true,
         "type": "scattergl",
         "x": [
          -1.5140480608136182
         ],
         "xaxis": "x",
         "y": [
          7.465157507274546
         ],
         "yaxis": "y"
        },
        {
         "hovertemplate": "date=2019-11-13<br>pc1=%{x}<br>pc2=%{y}<extra></extra>",
         "legendgroup": "2019-11-13",
         "marker": {
          "color": "#19d3f3",
          "symbol": "circle"
         },
         "mode": "markers",
         "name": "2019-11-13",
         "showlegend": true,
         "type": "scattergl",
         "x": [
          -4.0497529140132995
         ],
         "xaxis": "x",
         "y": [
          6.1747100981087595
         ],
         "yaxis": "y"
        },
        {
         "hovertemplate": "date=2019-11-14<br>pc1=%{x}<br>pc2=%{y}<extra></extra>",
         "legendgroup": "2019-11-14",
         "marker": {
          "color": "#FF6692",
          "symbol": "circle"
         },
         "mode": "markers",
         "name": "2019-11-14",
         "showlegend": true,
         "type": "scattergl",
         "x": [
          -7.521227237573806
         ],
         "xaxis": "x",
         "y": [
          4.002725084497509
         ],
         "yaxis": "y"
        },
        {
         "hovertemplate": "date=2019-11-15<br>pc1=%{x}<br>pc2=%{y}<extra></extra>",
         "legendgroup": "2019-11-15",
         "marker": {
          "color": "#B6E880",
          "symbol": "circle"
         },
         "mode": "markers",
         "name": "2019-11-15",
         "showlegend": true,
         "type": "scattergl",
         "x": [
          -5.129872703243789
         ],
         "xaxis": "x",
         "y": [
          3.7124800755346476
         ],
         "yaxis": "y"
        },
        {
         "hovertemplate": "date=2019-11-16<br>pc1=%{x}<br>pc2=%{y}<extra></extra>",
         "legendgroup": "2019-11-16",
         "marker": {
          "color": "#FF97FF",
          "symbol": "circle"
         },
         "mode": "markers",
         "name": "2019-11-16",
         "showlegend": true,
         "type": "scattergl",
         "x": [
          5.597146045992345
         ],
         "xaxis": "x",
         "y": [
          -11.603975911324135
         ],
         "yaxis": "y"
        },
        {
         "hovertemplate": "date=2019-11-17<br>pc1=%{x}<br>pc2=%{y}<extra></extra>",
         "legendgroup": "2019-11-17",
         "marker": {
          "color": "#FECB52",
          "symbol": "circle"
         },
         "mode": "markers",
         "name": "2019-11-17",
         "showlegend": true,
         "type": "scattergl",
         "x": [
          19.26776825033555
         ],
         "xaxis": "x",
         "y": [
          -2.4436229140587122
         ],
         "yaxis": "y"
        },
        {
         "hovertemplate": "date=2019-11-18<br>pc1=%{x}<br>pc2=%{y}<extra></extra>",
         "legendgroup": "2019-11-18",
         "marker": {
          "color": "#636efa",
          "symbol": "circle"
         },
         "mode": "markers",
         "name": "2019-11-18",
         "showlegend": true,
         "type": "scattergl",
         "x": [
          -3.694571506867871
         ],
         "xaxis": "x",
         "y": [
          8.193847394452272
         ],
         "yaxis": "y"
        },
        {
         "hovertemplate": "date=2019-11-19<br>pc1=%{x}<br>pc2=%{y}<extra></extra>",
         "legendgroup": "2019-11-19",
         "marker": {
          "color": "#EF553B",
          "symbol": "circle"
         },
         "mode": "markers",
         "name": "2019-11-19",
         "showlegend": true,
         "type": "scattergl",
         "x": [
          -11.227938907520334
         ],
         "xaxis": "x",
         "y": [
          -6.5782907773123185
         ],
         "yaxis": "y"
        },
        {
         "hovertemplate": "date=2019-11-20<br>pc1=%{x}<br>pc2=%{y}<extra></extra>",
         "legendgroup": "2019-11-20",
         "marker": {
          "color": "#00cc96",
          "symbol": "circle"
         },
         "mode": "markers",
         "name": "2019-11-20",
         "showlegend": true,
         "type": "scattergl",
         "x": [
          -2.9571803228961873
         ],
         "xaxis": "x",
         "y": [
          7.044997548640998
         ],
         "yaxis": "y"
        },
        {
         "hovertemplate": "date=2019-11-21<br>pc1=%{x}<br>pc2=%{y}<extra></extra>",
         "legendgroup": "2019-11-21",
         "marker": {
          "color": "#ab63fa",
          "symbol": "circle"
         },
         "mode": "markers",
         "name": "2019-11-21",
         "showlegend": true,
         "type": "scattergl",
         "x": [
          -6.347048709410622
         ],
         "xaxis": "x",
         "y": [
          -1.020670720590619
         ],
         "yaxis": "y"
        },
        {
         "hovertemplate": "date=2019-11-22<br>pc1=%{x}<br>pc2=%{y}<extra></extra>",
         "legendgroup": "2019-11-22",
         "marker": {
          "color": "#FFA15A",
          "symbol": "circle"
         },
         "mode": "markers",
         "name": "2019-11-22",
         "showlegend": true,
         "type": "scattergl",
         "x": [
          -8.031664638744683
         ],
         "xaxis": "x",
         "y": [
          3.1291887473566975
         ],
         "yaxis": "y"
        },
        {
         "hovertemplate": "date=2019-11-23<br>pc1=%{x}<br>pc2=%{y}<extra></extra>",
         "legendgroup": "2019-11-23",
         "marker": {
          "color": "#19d3f3",
          "symbol": "circle"
         },
         "mode": "markers",
         "name": "2019-11-23",
         "showlegend": true,
         "type": "scattergl",
         "x": [
          5.470086498530763
         ],
         "xaxis": "x",
         "y": [
          -8.273942942413113
         ],
         "yaxis": "y"
        },
        {
         "hovertemplate": "date=2019-11-24<br>pc1=%{x}<br>pc2=%{y}<extra></extra>",
         "legendgroup": "2019-11-24",
         "marker": {
          "color": "#FF6692",
          "symbol": "circle"
         },
         "mode": "markers",
         "name": "2019-11-24",
         "showlegend": true,
         "type": "scattergl",
         "x": [
          12.100257771335109
         ],
         "xaxis": "x",
         "y": [
          -6.303120618487083
         ],
         "yaxis": "y"
        },
        {
         "hovertemplate": "date=2019-11-25<br>pc1=%{x}<br>pc2=%{y}<extra></extra>",
         "legendgroup": "2019-11-25",
         "marker": {
          "color": "#B6E880",
          "symbol": "circle"
         },
         "mode": "markers",
         "name": "2019-11-25",
         "showlegend": true,
         "type": "scattergl",
         "x": [
          -17.33476475166076
         ],
         "xaxis": "x",
         "y": [
          10.152690216517708
         ],
         "yaxis": "y"
        },
        {
         "hovertemplate": "date=2019-11-26<br>pc1=%{x}<br>pc2=%{y}<extra></extra>",
         "legendgroup": "2019-11-26",
         "marker": {
          "color": "#FF97FF",
          "symbol": "circle"
         },
         "mode": "markers",
         "name": "2019-11-26",
         "showlegend": true,
         "type": "scattergl",
         "x": [
          -19.56883909406768
         ],
         "xaxis": "x",
         "y": [
          9.721573327530317
         ],
         "yaxis": "y"
        },
        {
         "hovertemplate": "date=2019-11-27<br>pc1=%{x}<br>pc2=%{y}<extra></extra>",
         "legendgroup": "2019-11-27",
         "marker": {
          "color": "#FECB52",
          "symbol": "circle"
         },
         "mode": "markers",
         "name": "2019-11-27",
         "showlegend": true,
         "type": "scattergl",
         "x": [
          -5.886399533478494
         ],
         "xaxis": "x",
         "y": [
          5.531396001443682
         ],
         "yaxis": "y"
        },
        {
         "hovertemplate": "date=2019-11-28<br>pc1=%{x}<br>pc2=%{y}<extra></extra>",
         "legendgroup": "2019-11-28",
         "marker": {
          "color": "#636efa",
          "symbol": "circle"
         },
         "mode": "markers",
         "name": "2019-11-28",
         "showlegend": true,
         "type": "scattergl",
         "x": [
          42.306509988386665
         ],
         "xaxis": "x",
         "y": [
          -19.595976107511554
         ],
         "yaxis": "y"
        },
        {
         "hovertemplate": "date=2019-11-29<br>pc1=%{x}<br>pc2=%{y}<extra></extra>",
         "legendgroup": "2019-11-29",
         "marker": {
          "color": "#EF553B",
          "symbol": "circle"
         },
         "mode": "markers",
         "name": "2019-11-29",
         "showlegend": true,
         "type": "scattergl",
         "x": [
          15.880582101466604
         ],
         "xaxis": "x",
         "y": [
          -10.80301450782967
         ],
         "yaxis": "y"
        },
        {
         "hovertemplate": "date=2019-11-30<br>pc1=%{x}<br>pc2=%{y}<extra></extra>",
         "legendgroup": "2019-11-30",
         "marker": {
          "color": "#00cc96",
          "symbol": "circle"
         },
         "mode": "markers",
         "name": "2019-11-30",
         "showlegend": true,
         "type": "scattergl",
         "x": [
          1.9961755151814375
         ],
         "xaxis": "x",
         "y": [
          2.7399503066488684
         ],
         "yaxis": "y"
        },
        {
         "hovertemplate": "date=2019-12-01<br>pc1=%{x}<br>pc2=%{y}<extra></extra>",
         "legendgroup": "2019-12-01",
         "marker": {
          "color": "#ab63fa",
          "symbol": "circle"
         },
         "mode": "markers",
         "name": "2019-12-01",
         "showlegend": true,
         "type": "scattergl",
         "x": [
          3.8996771840314617
         ],
         "xaxis": "x",
         "y": [
          6.385620622798367
         ],
         "yaxis": "y"
        },
        {
         "hovertemplate": "date=2019-12-02<br>pc1=%{x}<br>pc2=%{y}<extra></extra>",
         "legendgroup": "2019-12-02",
         "marker": {
          "color": "#FFA15A",
          "symbol": "circle"
         },
         "mode": "markers",
         "name": "2019-12-02",
         "showlegend": true,
         "type": "scattergl",
         "x": [
          -10.127181017357568
         ],
         "xaxis": "x",
         "y": [
          9.751757048721034
         ],
         "yaxis": "y"
        },
        {
         "hovertemplate": "date=2019-12-03<br>pc1=%{x}<br>pc2=%{y}<extra></extra>",
         "legendgroup": "2019-12-03",
         "marker": {
          "color": "#19d3f3",
          "symbol": "circle"
         },
         "mode": "markers",
         "name": "2019-12-03",
         "showlegend": true,
         "type": "scattergl",
         "x": [
          -8.113225794132747
         ],
         "xaxis": "x",
         "y": [
          1.1194780746255584
         ],
         "yaxis": "y"
        },
        {
         "hovertemplate": "date=2019-12-04<br>pc1=%{x}<br>pc2=%{y}<extra></extra>",
         "legendgroup": "2019-12-04",
         "marker": {
          "color": "#FF6692",
          "symbol": "circle"
         },
         "mode": "markers",
         "name": "2019-12-04",
         "showlegend": true,
         "type": "scattergl",
         "x": [
          -4.291256348216269
         ],
         "xaxis": "x",
         "y": [
          5.567127536173735
         ],
         "yaxis": "y"
        },
        {
         "hovertemplate": "date=2019-12-05<br>pc1=%{x}<br>pc2=%{y}<extra></extra>",
         "legendgroup": "2019-12-05",
         "marker": {
          "color": "#B6E880",
          "symbol": "circle"
         },
         "mode": "markers",
         "name": "2019-12-05",
         "showlegend": true,
         "type": "scattergl",
         "x": [
          -7.43329195960594
         ],
         "xaxis": "x",
         "y": [
          2.874278400845571
         ],
         "yaxis": "y"
        },
        {
         "hovertemplate": "date=2019-12-06<br>pc1=%{x}<br>pc2=%{y}<extra></extra>",
         "legendgroup": "2019-12-06",
         "marker": {
          "color": "#FF97FF",
          "symbol": "circle"
         },
         "mode": "markers",
         "name": "2019-12-06",
         "showlegend": true,
         "type": "scattergl",
         "x": [
          -4.3652236932058806
         ],
         "xaxis": "x",
         "y": [
          2.247907759655209
         ],
         "yaxis": "y"
        },
        {
         "hovertemplate": "date=2019-12-07<br>pc1=%{x}<br>pc2=%{y}<extra></extra>",
         "legendgroup": "2019-12-07",
         "marker": {
          "color": "#FECB52",
          "symbol": "circle"
         },
         "mode": "markers",
         "name": "2019-12-07",
         "showlegend": true,
         "type": "scattergl",
         "x": [
          4.71461214064147
         ],
         "xaxis": "x",
         "y": [
          -10.17739761938143
         ],
         "yaxis": "y"
        },
        {
         "hovertemplate": "date=2019-12-08<br>pc1=%{x}<br>pc2=%{y}<extra></extra>",
         "legendgroup": "2019-12-08",
         "marker": {
          "color": "#636efa",
          "symbol": "circle"
         },
         "mode": "markers",
         "name": "2019-12-08",
         "showlegend": true,
         "type": "scattergl",
         "x": [
          16.856387444053873
         ],
         "xaxis": "x",
         "y": [
          -0.4046586610499644
         ],
         "yaxis": "y"
        },
        {
         "hovertemplate": "date=2019-12-09<br>pc1=%{x}<br>pc2=%{y}<extra></extra>",
         "legendgroup": "2019-12-09",
         "marker": {
          "color": "#EF553B",
          "symbol": "circle"
         },
         "mode": "markers",
         "name": "2019-12-09",
         "showlegend": true,
         "type": "scattergl",
         "x": [
          -6.9010682818088025
         ],
         "xaxis": "x",
         "y": [
          1.6502299755919536
         ],
         "yaxis": "y"
        },
        {
         "hovertemplate": "date=2019-12-10<br>pc1=%{x}<br>pc2=%{y}<extra></extra>",
         "legendgroup": "2019-12-10",
         "marker": {
          "color": "#00cc96",
          "symbol": "circle"
         },
         "mode": "markers",
         "name": "2019-12-10",
         "showlegend": true,
         "type": "scattergl",
         "x": [
          -0.5952236704896472
         ],
         "xaxis": "x",
         "y": [
          5.454145884836229
         ],
         "yaxis": "y"
        },
        {
         "hovertemplate": "date=2019-12-11<br>pc1=%{x}<br>pc2=%{y}<extra></extra>",
         "legendgroup": "2019-12-11",
         "marker": {
          "color": "#ab63fa",
          "symbol": "circle"
         },
         "mode": "markers",
         "name": "2019-12-11",
         "showlegend": true,
         "type": "scattergl",
         "x": [
          -6.791634779284955
         ],
         "xaxis": "x",
         "y": [
          -4.884170053839721
         ],
         "yaxis": "y"
        },
        {
         "hovertemplate": "date=2019-12-12<br>pc1=%{x}<br>pc2=%{y}<extra></extra>",
         "legendgroup": "2019-12-12",
         "marker": {
          "color": "#FFA15A",
          "symbol": "circle"
         },
         "mode": "markers",
         "name": "2019-12-12",
         "showlegend": true,
         "type": "scattergl",
         "x": [
          -4.921528138919628
         ],
         "xaxis": "x",
         "y": [
          5.131929176644701
         ],
         "yaxis": "y"
        },
        {
         "hovertemplate": "date=2019-12-13<br>pc1=%{x}<br>pc2=%{y}<extra></extra>",
         "legendgroup": "2019-12-13",
         "marker": {
          "color": "#19d3f3",
          "symbol": "circle"
         },
         "mode": "markers",
         "name": "2019-12-13",
         "showlegend": true,
         "type": "scattergl",
         "x": [
          21.306650687008712
         ],
         "xaxis": "x",
         "y": [
          46.26166653020912
         ],
         "yaxis": "y"
        },
        {
         "hovertemplate": "date=2019-12-14<br>pc1=%{x}<br>pc2=%{y}<extra></extra>",
         "legendgroup": "2019-12-14",
         "marker": {
          "color": "#FF6692",
          "symbol": "circle"
         },
         "mode": "markers",
         "name": "2019-12-14",
         "showlegend": true,
         "type": "scattergl",
         "x": [
          34.46387760718329
         ],
         "xaxis": "x",
         "y": [
          37.04079328389905
         ],
         "yaxis": "y"
        },
        {
         "hovertemplate": "date=2019-12-15<br>pc1=%{x}<br>pc2=%{y}<extra></extra>",
         "legendgroup": "2019-12-15",
         "marker": {
          "color": "#B6E880",
          "symbol": "circle"
         },
         "mode": "markers",
         "name": "2019-12-15",
         "showlegend": true,
         "type": "scattergl",
         "x": [
          38.01635865759455
         ],
         "xaxis": "x",
         "y": [
          34.83330262027632
         ],
         "yaxis": "y"
        },
        {
         "hovertemplate": "date=2019-12-16<br>pc1=%{x}<br>pc2=%{y}<extra></extra>",
         "legendgroup": "2019-12-16",
         "marker": {
          "color": "#FF97FF",
          "symbol": "circle"
         },
         "mode": "markers",
         "name": "2019-12-16",
         "showlegend": true,
         "type": "scattergl",
         "x": [
          11.645376221911109
         ],
         "xaxis": "x",
         "y": [
          27.839164009675684
         ],
         "yaxis": "y"
        },
        {
         "hovertemplate": "date=2019-12-17<br>pc1=%{x}<br>pc2=%{y}<extra></extra>",
         "legendgroup": "2019-12-17",
         "marker": {
          "color": "#FECB52",
          "symbol": "circle"
         },
         "mode": "markers",
         "name": "2019-12-17",
         "showlegend": true,
         "type": "scattergl",
         "x": [
          17.64516543406649
         ],
         "xaxis": "x",
         "y": [
          37.99786983016178
         ],
         "yaxis": "y"
        },
        {
         "hovertemplate": "date=2019-12-18<br>pc1=%{x}<br>pc2=%{y}<extra></extra>",
         "legendgroup": "2019-12-18",
         "marker": {
          "color": "#636efa",
          "symbol": "circle"
         },
         "mode": "markers",
         "name": "2019-12-18",
         "showlegend": true,
         "type": "scattergl",
         "x": [
          24.575282944411107
         ],
         "xaxis": "x",
         "y": [
          43.17356497628777
         ],
         "yaxis": "y"
        },
        {
         "hovertemplate": "date=2019-12-19<br>pc1=%{x}<br>pc2=%{y}<extra></extra>",
         "legendgroup": "2019-12-19",
         "marker": {
          "color": "#EF553B",
          "symbol": "circle"
         },
         "mode": "markers",
         "name": "2019-12-19",
         "showlegend": true,
         "type": "scattergl",
         "x": [
          24.444270776881446
         ],
         "xaxis": "x",
         "y": [
          43.254512377299974
         ],
         "yaxis": "y"
        },
        {
         "hovertemplate": "date=2019-12-20<br>pc1=%{x}<br>pc2=%{y}<extra></extra>",
         "legendgroup": "2019-12-20",
         "marker": {
          "color": "#00cc96",
          "symbol": "circle"
         },
         "mode": "markers",
         "name": "2019-12-20",
         "showlegend": true,
         "type": "scattergl",
         "x": [
          4.861275751808686
         ],
         "xaxis": "x",
         "y": [
          14.856594726460795
         ],
         "yaxis": "y"
        },
        {
         "hovertemplate": "date=2019-12-21<br>pc1=%{x}<br>pc2=%{y}<extra></extra>",
         "legendgroup": "2019-12-21",
         "marker": {
          "color": "#ab63fa",
          "symbol": "circle"
         },
         "mode": "markers",
         "name": "2019-12-21",
         "showlegend": true,
         "type": "scattergl",
         "x": [
          -0.38181095693563694
         ],
         "xaxis": "x",
         "y": [
          1.2379492888125017
         ],
         "yaxis": "y"
        },
        {
         "hovertemplate": "date=2019-12-22<br>pc1=%{x}<br>pc2=%{y}<extra></extra>",
         "legendgroup": "2019-12-22",
         "marker": {
          "color": "#FFA15A",
          "symbol": "circle"
         },
         "mode": "markers",
         "name": "2019-12-22",
         "showlegend": true,
         "type": "scattergl",
         "x": [
          -7.35407404989505
         ],
         "xaxis": "x",
         "y": [
          7.473153741266472
         ],
         "yaxis": "y"
        },
        {
         "hovertemplate": "date=2019-12-23<br>pc1=%{x}<br>pc2=%{y}<extra></extra>",
         "legendgroup": "2019-12-23",
         "marker": {
          "color": "#19d3f3",
          "symbol": "circle"
         },
         "mode": "markers",
         "name": "2019-12-23",
         "showlegend": true,
         "type": "scattergl",
         "x": [
          -6.88313260854498
         ],
         "xaxis": "x",
         "y": [
          10.52480228373163
         ],
         "yaxis": "y"
        },
        {
         "hovertemplate": "date=2019-12-24<br>pc1=%{x}<br>pc2=%{y}<extra></extra>",
         "legendgroup": "2019-12-24",
         "marker": {
          "color": "#FF6692",
          "symbol": "circle"
         },
         "mode": "markers",
         "name": "2019-12-24",
         "showlegend": true,
         "type": "scattergl",
         "x": [
          17.94892385247537
         ],
         "xaxis": "x",
         "y": [
          3.483113512147708
         ],
         "yaxis": "y"
        },
        {
         "hovertemplate": "date=2019-12-25<br>pc1=%{x}<br>pc2=%{y}<extra></extra>",
         "legendgroup": "2019-12-25",
         "marker": {
          "color": "#B6E880",
          "symbol": "circle"
         },
         "mode": "markers",
         "name": "2019-12-25",
         "showlegend": true,
         "type": "scattergl",
         "x": [
          53.815255847316976
         ],
         "xaxis": "x",
         "y": [
          12.671004852124181
         ],
         "yaxis": "y"
        },
        {
         "hovertemplate": "date=2019-12-26<br>pc1=%{x}<br>pc2=%{y}<extra></extra>",
         "legendgroup": "2019-12-26",
         "marker": {
          "color": "#FF97FF",
          "symbol": "circle"
         },
         "mode": "markers",
         "name": "2019-12-26",
         "showlegend": true,
         "type": "scattergl",
         "x": [
          14.46460061832156
         ],
         "xaxis": "x",
         "y": [
          20.301920533593773
         ],
         "yaxis": "y"
        },
        {
         "hovertemplate": "date=2019-12-27<br>pc1=%{x}<br>pc2=%{y}<extra></extra>",
         "legendgroup": "2019-12-27",
         "marker": {
          "color": "#FECB52",
          "symbol": "circle"
         },
         "mode": "markers",
         "name": "2019-12-27",
         "showlegend": true,
         "type": "scattergl",
         "x": [
          -2.0722962261234654
         ],
         "xaxis": "x",
         "y": [
          6.907338233263738
         ],
         "yaxis": "y"
        },
        {
         "hovertemplate": "date=2019-12-28<br>pc1=%{x}<br>pc2=%{y}<extra></extra>",
         "legendgroup": "2019-12-28",
         "marker": {
          "color": "#636efa",
          "symbol": "circle"
         },
         "mode": "markers",
         "name": "2019-12-28",
         "showlegend": true,
         "type": "scattergl",
         "x": [
          -6.401422149638659
         ],
         "xaxis": "x",
         "y": [
          12.050229870017063
         ],
         "yaxis": "y"
        },
        {
         "hovertemplate": "date=2019-12-29<br>pc1=%{x}<br>pc2=%{y}<extra></extra>",
         "legendgroup": "2019-12-29",
         "marker": {
          "color": "#EF553B",
          "symbol": "circle"
         },
         "mode": "markers",
         "name": "2019-12-29",
         "showlegend": true,
         "type": "scattergl",
         "x": [
          -8.678370674451966
         ],
         "xaxis": "x",
         "y": [
          10.15486309693677
         ],
         "yaxis": "y"
        },
        {
         "hovertemplate": "date=2019-12-30<br>pc1=%{x}<br>pc2=%{y}<extra></extra>",
         "legendgroup": "2019-12-30",
         "marker": {
          "color": "#00cc96",
          "symbol": "circle"
         },
         "mode": "markers",
         "name": "2019-12-30",
         "showlegend": true,
         "type": "scattergl",
         "x": [
          -1.504949769657427
         ],
         "xaxis": "x",
         "y": [
          7.411583723813594
         ],
         "yaxis": "y"
        },
        {
         "hovertemplate": "date=2019-12-31<br>pc1=%{x}<br>pc2=%{y}<extra></extra>",
         "legendgroup": "2019-12-31",
         "marker": {
          "color": "#ab63fa",
          "symbol": "circle"
         },
         "mode": "markers",
         "name": "2019-12-31",
         "showlegend": true,
         "type": "scattergl",
         "x": [
          8.495440526889906
         ],
         "xaxis": "x",
         "y": [
          1.5553024632423489
         ],
         "yaxis": "y"
        },
        {
         "hovertemplate": "date=2020-01-01<br>pc1=%{x}<br>pc2=%{y}<extra></extra>",
         "legendgroup": "2020-01-01",
         "marker": {
          "color": "#FFA15A",
          "symbol": "circle"
         },
         "mode": "markers",
         "name": "2020-01-01",
         "showlegend": true,
         "type": "scattergl",
         "x": [
          29.60905314444494
         ],
         "xaxis": "x",
         "y": [
          -14.627338711983
         ],
         "yaxis": "y"
        },
        {
         "hovertemplate": "date=2020-01-02<br>pc1=%{x}<br>pc2=%{y}<extra></extra>",
         "legendgroup": "2020-01-02",
         "marker": {
          "color": "#19d3f3",
          "symbol": "circle"
         },
         "mode": "markers",
         "name": "2020-01-02",
         "showlegend": true,
         "type": "scattergl",
         "x": [
          -2.779919449556994
         ],
         "xaxis": "x",
         "y": [
          12.206227443722995
         ],
         "yaxis": "y"
        },
        {
         "hovertemplate": "date=2020-01-03<br>pc1=%{x}<br>pc2=%{y}<extra></extra>",
         "legendgroup": "2020-01-03",
         "marker": {
          "color": "#FF6692",
          "symbol": "circle"
         },
         "mode": "markers",
         "name": "2020-01-03",
         "showlegend": true,
         "type": "scattergl",
         "x": [
          -4.713964936641024
         ],
         "xaxis": "x",
         "y": [
          9.619417959434688
         ],
         "yaxis": "y"
        },
        {
         "hovertemplate": "date=2020-01-04<br>pc1=%{x}<br>pc2=%{y}<extra></extra>",
         "legendgroup": "2020-01-04",
         "marker": {
          "color": "#B6E880",
          "symbol": "circle"
         },
         "mode": "markers",
         "name": "2020-01-04",
         "showlegend": true,
         "type": "scattergl",
         "x": [
          5.45437295025494
         ],
         "xaxis": "x",
         "y": [
          5.892491344760438
         ],
         "yaxis": "y"
        },
        {
         "hovertemplate": "date=2020-01-05<br>pc1=%{x}<br>pc2=%{y}<extra></extra>",
         "legendgroup": "2020-01-05",
         "marker": {
          "color": "#FF97FF",
          "symbol": "circle"
         },
         "mode": "markers",
         "name": "2020-01-05",
         "showlegend": true,
         "type": "scattergl",
         "x": [
          10.260758817510451
         ],
         "xaxis": "x",
         "y": [
          -0.5478238789791139
         ],
         "yaxis": "y"
        },
        {
         "hovertemplate": "date=2020-01-06<br>pc1=%{x}<br>pc2=%{y}<extra></extra>",
         "legendgroup": "2020-01-06",
         "marker": {
          "color": "#FECB52",
          "symbol": "circle"
         },
         "mode": "markers",
         "name": "2020-01-06",
         "showlegend": true,
         "type": "scattergl",
         "x": [
          -4.336854093461178
         ],
         "xaxis": "x",
         "y": [
          9.324918901116904
         ],
         "yaxis": "y"
        },
        {
         "hovertemplate": "date=2020-01-07<br>pc1=%{x}<br>pc2=%{y}<extra></extra>",
         "legendgroup": "2020-01-07",
         "marker": {
          "color": "#636efa",
          "symbol": "circle"
         },
         "mode": "markers",
         "name": "2020-01-07",
         "showlegend": true,
         "type": "scattergl",
         "x": [
          -2.990819725246882
         ],
         "xaxis": "x",
         "y": [
          6.065914291262531
         ],
         "yaxis": "y"
        },
        {
         "hovertemplate": "date=2020-01-08<br>pc1=%{x}<br>pc2=%{y}<extra></extra>",
         "legendgroup": "2020-01-08",
         "marker": {
          "color": "#EF553B",
          "symbol": "circle"
         },
         "mode": "markers",
         "name": "2020-01-08",
         "showlegend": true,
         "type": "scattergl",
         "x": [
          0.8666528035003884
         ],
         "xaxis": "x",
         "y": [
          9.21374495056627
         ],
         "yaxis": "y"
        },
        {
         "hovertemplate": "date=2020-01-09<br>pc1=%{x}<br>pc2=%{y}<extra></extra>",
         "legendgroup": "2020-01-09",
         "marker": {
          "color": "#00cc96",
          "symbol": "circle"
         },
         "mode": "markers",
         "name": "2020-01-09",
         "showlegend": true,
         "type": "scattergl",
         "x": [
          -2.305476499899908
         ],
         "xaxis": "x",
         "y": [
          7.644113337246615
         ],
         "yaxis": "y"
        },
        {
         "hovertemplate": "date=2020-01-10<br>pc1=%{x}<br>pc2=%{y}<extra></extra>",
         "legendgroup": "2020-01-10",
         "marker": {
          "color": "#ab63fa",
          "symbol": "circle"
         },
         "mode": "markers",
         "name": "2020-01-10",
         "showlegend": true,
         "type": "scattergl",
         "x": [
          2.4620953063438122
         ],
         "xaxis": "x",
         "y": [
          11.656679690795134
         ],
         "yaxis": "y"
        },
        {
         "hovertemplate": "date=2020-01-11<br>pc1=%{x}<br>pc2=%{y}<extra></extra>",
         "legendgroup": "2020-01-11",
         "marker": {
          "color": "#FFA15A",
          "symbol": "circle"
         },
         "mode": "markers",
         "name": "2020-01-11",
         "showlegend": true,
         "type": "scattergl",
         "x": [
          18.647037247966868
         ],
         "xaxis": "x",
         "y": [
          -2.494925239673312
         ],
         "yaxis": "y"
        },
        {
         "hovertemplate": "date=2020-01-12<br>pc1=%{x}<br>pc2=%{y}<extra></extra>",
         "legendgroup": "2020-01-12",
         "marker": {
          "color": "#19d3f3",
          "symbol": "circle"
         },
         "mode": "markers",
         "name": "2020-01-12",
         "showlegend": true,
         "type": "scattergl",
         "x": [
          14.132868109256712
         ],
         "xaxis": "x",
         "y": [
          -4.92756737612572
         ],
         "yaxis": "y"
        },
        {
         "hovertemplate": "date=2020-01-13<br>pc1=%{x}<br>pc2=%{y}<extra></extra>",
         "legendgroup": "2020-01-13",
         "marker": {
          "color": "#FF6692",
          "symbol": "circle"
         },
         "mode": "markers",
         "name": "2020-01-13",
         "showlegend": true,
         "type": "scattergl",
         "x": [
          -4.174366535368927
         ],
         "xaxis": "x",
         "y": [
          11.828021365981602
         ],
         "yaxis": "y"
        },
        {
         "hovertemplate": "date=2020-01-14<br>pc1=%{x}<br>pc2=%{y}<extra></extra>",
         "legendgroup": "2020-01-14",
         "marker": {
          "color": "#B6E880",
          "symbol": "circle"
         },
         "mode": "markers",
         "name": "2020-01-14",
         "showlegend": true,
         "type": "scattergl",
         "x": [
          -5.374839516851611
         ],
         "xaxis": "x",
         "y": [
          6.755761829741833
         ],
         "yaxis": "y"
        },
        {
         "hovertemplate": "date=2020-01-15<br>pc1=%{x}<br>pc2=%{y}<extra></extra>",
         "legendgroup": "2020-01-15",
         "marker": {
          "color": "#FF97FF",
          "symbol": "circle"
         },
         "mode": "markers",
         "name": "2020-01-15",
         "showlegend": true,
         "type": "scattergl",
         "x": [
          -2.232992719835351
         ],
         "xaxis": "x",
         "y": [
          10.757904449732578
         ],
         "yaxis": "y"
        },
        {
         "hovertemplate": "date=2020-01-16<br>pc1=%{x}<br>pc2=%{y}<extra></extra>",
         "legendgroup": "2020-01-16",
         "marker": {
          "color": "#FECB52",
          "symbol": "circle"
         },
         "mode": "markers",
         "name": "2020-01-16",
         "showlegend": true,
         "type": "scattergl",
         "x": [
          -3.3605809165686438
         ],
         "xaxis": "x",
         "y": [
          6.452042762450591
         ],
         "yaxis": "y"
        },
        {
         "hovertemplate": "date=2020-01-17<br>pc1=%{x}<br>pc2=%{y}<extra></extra>",
         "legendgroup": "2020-01-17",
         "marker": {
          "color": "#636efa",
          "symbol": "circle"
         },
         "mode": "markers",
         "name": "2020-01-17",
         "showlegend": true,
         "type": "scattergl",
         "x": [
          -21.809431256865246
         ],
         "xaxis": "x",
         "y": [
          -17.979616995724637
         ],
         "yaxis": "y"
        },
        {
         "hovertemplate": "date=2020-01-18<br>pc1=%{x}<br>pc2=%{y}<extra></extra>",
         "legendgroup": "2020-01-18",
         "marker": {
          "color": "#EF553B",
          "symbol": "circle"
         },
         "mode": "markers",
         "name": "2020-01-18",
         "showlegend": true,
         "type": "scattergl",
         "x": [
          9.763585097250441
         ],
         "xaxis": "x",
         "y": [
          -2.3053406478280425
         ],
         "yaxis": "y"
        },
        {
         "hovertemplate": "date=2020-01-19<br>pc1=%{x}<br>pc2=%{y}<extra></extra>",
         "legendgroup": "2020-01-19",
         "marker": {
          "color": "#00cc96",
          "symbol": "circle"
         },
         "mode": "markers",
         "name": "2020-01-19",
         "showlegend": true,
         "type": "scattergl",
         "x": [
          15.176928408486955
         ],
         "xaxis": "x",
         "y": [
          0.2399811387605746
         ],
         "yaxis": "y"
        },
        {
         "hovertemplate": "date=2020-01-20<br>pc1=%{x}<br>pc2=%{y}<extra></extra>",
         "legendgroup": "2020-01-20",
         "marker": {
          "color": "#ab63fa",
          "symbol": "circle"
         },
         "mode": "markers",
         "name": "2020-01-20",
         "showlegend": true,
         "type": "scattergl",
         "x": [
          21.797968200296943
         ],
         "xaxis": "x",
         "y": [
          -7.631508690523912
         ],
         "yaxis": "y"
        },
        {
         "hovertemplate": "date=2020-01-21<br>pc1=%{x}<br>pc2=%{y}<extra></extra>",
         "legendgroup": "2020-01-21",
         "marker": {
          "color": "#FFA15A",
          "symbol": "circle"
         },
         "mode": "markers",
         "name": "2020-01-21",
         "showlegend": true,
         "type": "scattergl",
         "x": [
          -8.666336091965055
         ],
         "xaxis": "x",
         "y": [
          8.59176455529777
         ],
         "yaxis": "y"
        },
        {
         "hovertemplate": "date=2020-01-22<br>pc1=%{x}<br>pc2=%{y}<extra></extra>",
         "legendgroup": "2020-01-22",
         "marker": {
          "color": "#19d3f3",
          "symbol": "circle"
         },
         "mode": "markers",
         "name": "2020-01-22",
         "showlegend": true,
         "type": "scattergl",
         "x": [
          -6.267984783703153
         ],
         "xaxis": "x",
         "y": [
          13.227391127117057
         ],
         "yaxis": "y"
        },
        {
         "hovertemplate": "date=2020-01-23<br>pc1=%{x}<br>pc2=%{y}<extra></extra>",
         "legendgroup": "2020-01-23",
         "marker": {
          "color": "#FF6692",
          "symbol": "circle"
         },
         "mode": "markers",
         "name": "2020-01-23",
         "showlegend": true,
         "type": "scattergl",
         "x": [
          -7.107775463087154
         ],
         "xaxis": "x",
         "y": [
          10.571953082672902
         ],
         "yaxis": "y"
        },
        {
         "hovertemplate": "date=2020-01-24<br>pc1=%{x}<br>pc2=%{y}<extra></extra>",
         "legendgroup": "2020-01-24",
         "marker": {
          "color": "#B6E880",
          "symbol": "circle"
         },
         "mode": "markers",
         "name": "2020-01-24",
         "showlegend": true,
         "type": "scattergl",
         "x": [
          2.014025349481774
         ],
         "xaxis": "x",
         "y": [
          8.987955912597638
         ],
         "yaxis": "y"
        },
        {
         "hovertemplate": "date=2020-01-25<br>pc1=%{x}<br>pc2=%{y}<extra></extra>",
         "legendgroup": "2020-01-25",
         "marker": {
          "color": "#FF97FF",
          "symbol": "circle"
         },
         "mode": "markers",
         "name": "2020-01-25",
         "showlegend": true,
         "type": "scattergl",
         "x": [
          11.853049157909362
         ],
         "xaxis": "x",
         "y": [
          -8.917779145824234
         ],
         "yaxis": "y"
        },
        {
         "hovertemplate": "date=2020-01-26<br>pc1=%{x}<br>pc2=%{y}<extra></extra>",
         "legendgroup": "2020-01-26",
         "marker": {
          "color": "#FECB52",
          "symbol": "circle"
         },
         "mode": "markers",
         "name": "2020-01-26",
         "showlegend": true,
         "type": "scattergl",
         "x": [
          18.045493059316378
         ],
         "xaxis": "x",
         "y": [
          0.09525969682040743
         ],
         "yaxis": "y"
        },
        {
         "hovertemplate": "date=2020-01-27<br>pc1=%{x}<br>pc2=%{y}<extra></extra>",
         "legendgroup": "2020-01-27",
         "marker": {
          "color": "#636efa",
          "symbol": "circle"
         },
         "mode": "markers",
         "name": "2020-01-27",
         "showlegend": true,
         "type": "scattergl",
         "x": [
          -5.912200390860318
         ],
         "xaxis": "x",
         "y": [
          7.533894473479358
         ],
         "yaxis": "y"
        },
        {
         "hovertemplate": "date=2020-01-28<br>pc1=%{x}<br>pc2=%{y}<extra></extra>",
         "legendgroup": "2020-01-28",
         "marker": {
          "color": "#EF553B",
          "symbol": "circle"
         },
         "mode": "markers",
         "name": "2020-01-28",
         "showlegend": true,
         "type": "scattergl",
         "x": [
          -1.1260734113767965
         ],
         "xaxis": "x",
         "y": [
          11.232663600076364
         ],
         "yaxis": "y"
        },
        {
         "hovertemplate": "date=2020-01-29<br>pc1=%{x}<br>pc2=%{y}<extra></extra>",
         "legendgroup": "2020-01-29",
         "marker": {
          "color": "#00cc96",
          "symbol": "circle"
         },
         "mode": "markers",
         "name": "2020-01-29",
         "showlegend": true,
         "type": "scattergl",
         "x": [
          -2.636616341147717
         ],
         "xaxis": "x",
         "y": [
          7.438744427178828
         ],
         "yaxis": "y"
        },
        {
         "hovertemplate": "date=2020-01-30<br>pc1=%{x}<br>pc2=%{y}<extra></extra>",
         "legendgroup": "2020-01-30",
         "marker": {
          "color": "#ab63fa",
          "symbol": "circle"
         },
         "mode": "markers",
         "name": "2020-01-30",
         "showlegend": true,
         "type": "scattergl",
         "x": [
          -1.4001038647074737
         ],
         "xaxis": "x",
         "y": [
          10.679068156422275
         ],
         "yaxis": "y"
        },
        {
         "hovertemplate": "date=2020-01-31<br>pc1=%{x}<br>pc2=%{y}<extra></extra>",
         "legendgroup": "2020-01-31",
         "marker": {
          "color": "#FFA15A",
          "symbol": "circle"
         },
         "mode": "markers",
         "name": "2020-01-31",
         "showlegend": true,
         "type": "scattergl",
         "x": [
          2.9162504725763716
         ],
         "xaxis": "x",
         "y": [
          6.174432778440624
         ],
         "yaxis": "y"
        },
        {
         "hovertemplate": "date=2020-02-01<br>pc1=%{x}<br>pc2=%{y}<extra></extra>",
         "legendgroup": "2020-02-01",
         "marker": {
          "color": "#19d3f3",
          "symbol": "circle"
         },
         "mode": "markers",
         "name": "2020-02-01",
         "showlegend": true,
         "type": "scattergl",
         "x": [
          14.794198255862689
         ],
         "xaxis": "x",
         "y": [
          -1.2759491643623981
         ],
         "yaxis": "y"
        },
        {
         "hovertemplate": "date=2020-02-02<br>pc1=%{x}<br>pc2=%{y}<extra></extra>",
         "legendgroup": "2020-02-02",
         "marker": {
          "color": "#FF6692",
          "symbol": "circle"
         },
         "mode": "markers",
         "name": "2020-02-02",
         "showlegend": true,
         "type": "scattergl",
         "x": [
          15.202695252693827
         ],
         "xaxis": "x",
         "y": [
          -0.3557160507080296
         ],
         "yaxis": "y"
        },
        {
         "hovertemplate": "date=2020-02-03<br>pc1=%{x}<br>pc2=%{y}<extra></extra>",
         "legendgroup": "2020-02-03",
         "marker": {
          "color": "#B6E880",
          "symbol": "circle"
         },
         "mode": "markers",
         "name": "2020-02-03",
         "showlegend": true,
         "type": "scattergl",
         "x": [
          -6.635582072955284
         ],
         "xaxis": "x",
         "y": [
          5.461562962764578
         ],
         "yaxis": "y"
        },
        {
         "hovertemplate": "date=2020-02-04<br>pc1=%{x}<br>pc2=%{y}<extra></extra>",
         "legendgroup": "2020-02-04",
         "marker": {
          "color": "#FF97FF",
          "symbol": "circle"
         },
         "mode": "markers",
         "name": "2020-02-04",
         "showlegend": true,
         "type": "scattergl",
         "x": [
          -0.8804242645845758
         ],
         "xaxis": "x",
         "y": [
          9.78243080736387
         ],
         "yaxis": "y"
        },
        {
         "hovertemplate": "date=2020-02-05<br>pc1=%{x}<br>pc2=%{y}<extra></extra>",
         "legendgroup": "2020-02-05",
         "marker": {
          "color": "#FECB52",
          "symbol": "circle"
         },
         "mode": "markers",
         "name": "2020-02-05",
         "showlegend": true,
         "type": "scattergl",
         "x": [
          -4.037926601809075
         ],
         "xaxis": "x",
         "y": [
          4.637127376462341
         ],
         "yaxis": "y"
        },
        {
         "hovertemplate": "date=2020-02-06<br>pc1=%{x}<br>pc2=%{y}<extra></extra>",
         "legendgroup": "2020-02-06",
         "marker": {
          "color": "#636efa",
          "symbol": "circle"
         },
         "mode": "markers",
         "name": "2020-02-06",
         "showlegend": true,
         "type": "scattergl",
         "x": [
          -1.182287369602118
         ],
         "xaxis": "x",
         "y": [
          8.194928560891572
         ],
         "yaxis": "y"
        },
        {
         "hovertemplate": "date=2020-02-07<br>pc1=%{x}<br>pc2=%{y}<extra></extra>",
         "legendgroup": "2020-02-07",
         "marker": {
          "color": "#EF553B",
          "symbol": "circle"
         },
         "mode": "markers",
         "name": "2020-02-07",
         "showlegend": true,
         "type": "scattergl",
         "x": [
          -0.41105729799761737
         ],
         "xaxis": "x",
         "y": [
          6.5178447761041385
         ],
         "yaxis": "y"
        },
        {
         "hovertemplate": "date=2020-02-08<br>pc1=%{x}<br>pc2=%{y}<extra></extra>",
         "legendgroup": "2020-02-08",
         "marker": {
          "color": "#00cc96",
          "symbol": "circle"
         },
         "mode": "markers",
         "name": "2020-02-08",
         "showlegend": true,
         "type": "scattergl",
         "x": [
          13.531525062341947
         ],
         "xaxis": "x",
         "y": [
          -4.153719938761227
         ],
         "yaxis": "y"
        },
        {
         "hovertemplate": "date=2020-02-09<br>pc1=%{x}<br>pc2=%{y}<extra></extra>",
         "legendgroup": "2020-02-09",
         "marker": {
          "color": "#ab63fa",
          "symbol": "circle"
         },
         "mode": "markers",
         "name": "2020-02-09",
         "showlegend": true,
         "type": "scattergl",
         "x": [
          14.302100439011756
         ],
         "xaxis": "x",
         "y": [
          -9.62563102023303
         ],
         "yaxis": "y"
        },
        {
         "hovertemplate": "date=2020-02-10<br>pc1=%{x}<br>pc2=%{y}<extra></extra>",
         "legendgroup": "2020-02-10",
         "marker": {
          "color": "#FFA15A",
          "symbol": "circle"
         },
         "mode": "markers",
         "name": "2020-02-10",
         "showlegend": true,
         "type": "scattergl",
         "x": [
          -4.38131820341098
         ],
         "xaxis": "x",
         "y": [
          10.782440861576298
         ],
         "yaxis": "y"
        },
        {
         "hovertemplate": "date=2020-02-11<br>pc1=%{x}<br>pc2=%{y}<extra></extra>",
         "legendgroup": "2020-02-11",
         "marker": {
          "color": "#19d3f3",
          "symbol": "circle"
         },
         "mode": "markers",
         "name": "2020-02-11",
         "showlegend": true,
         "type": "scattergl",
         "x": [
          -4.1284433427506455
         ],
         "xaxis": "x",
         "y": [
          11.051822230118152
         ],
         "yaxis": "y"
        },
        {
         "hovertemplate": "date=2020-02-12<br>pc1=%{x}<br>pc2=%{y}<extra></extra>",
         "legendgroup": "2020-02-12",
         "marker": {
          "color": "#FF6692",
          "symbol": "circle"
         },
         "mode": "markers",
         "name": "2020-02-12",
         "showlegend": true,
         "type": "scattergl",
         "x": [
          -3.636260064603451
         ],
         "xaxis": "x",
         "y": [
          6.821066737497122
         ],
         "yaxis": "y"
        },
        {
         "hovertemplate": "date=2020-02-13<br>pc1=%{x}<br>pc2=%{y}<extra></extra>",
         "legendgroup": "2020-02-13",
         "marker": {
          "color": "#B6E880",
          "symbol": "circle"
         },
         "mode": "markers",
         "name": "2020-02-13",
         "showlegend": true,
         "type": "scattergl",
         "x": [
          -0.006414572662665613
         ],
         "xaxis": "x",
         "y": [
          7.0493959928395
         ],
         "yaxis": "y"
        },
        {
         "hovertemplate": "date=2020-02-14<br>pc1=%{x}<br>pc2=%{y}<extra></extra>",
         "legendgroup": "2020-02-14",
         "marker": {
          "color": "#FF97FF",
          "symbol": "circle"
         },
         "mode": "markers",
         "name": "2020-02-14",
         "showlegend": true,
         "type": "scattergl",
         "x": [
          0.6862120247982805
         ],
         "xaxis": "x",
         "y": [
          1.610931202068239
         ],
         "yaxis": "y"
        },
        {
         "hovertemplate": "date=2020-02-15<br>pc1=%{x}<br>pc2=%{y}<extra></extra>",
         "legendgroup": "2020-02-15",
         "marker": {
          "color": "#FECB52",
          "symbol": "circle"
         },
         "mode": "markers",
         "name": "2020-02-15",
         "showlegend": true,
         "type": "scattergl",
         "x": [
          9.658823109928335
         ],
         "xaxis": "x",
         "y": [
          -1.7414849990923305
         ],
         "yaxis": "y"
        },
        {
         "hovertemplate": "date=2020-02-16<br>pc1=%{x}<br>pc2=%{y}<extra></extra>",
         "legendgroup": "2020-02-16",
         "marker": {
          "color": "#636efa",
          "symbol": "circle"
         },
         "mode": "markers",
         "name": "2020-02-16",
         "showlegend": true,
         "type": "scattergl",
         "x": [
          6.04929737514397
         ],
         "xaxis": "x",
         "y": [
          -4.035736133242977
         ],
         "yaxis": "y"
        },
        {
         "hovertemplate": "date=2020-02-17<br>pc1=%{x}<br>pc2=%{y}<extra></extra>",
         "legendgroup": "2020-02-17",
         "marker": {
          "color": "#EF553B",
          "symbol": "circle"
         },
         "mode": "markers",
         "name": "2020-02-17",
         "showlegend": true,
         "type": "scattergl",
         "x": [
          15.09840801690315
         ],
         "xaxis": "x",
         "y": [
          -0.3501644148683197
         ],
         "yaxis": "y"
        },
        {
         "hovertemplate": "date=2020-02-18<br>pc1=%{x}<br>pc2=%{y}<extra></extra>",
         "legendgroup": "2020-02-18",
         "marker": {
          "color": "#00cc96",
          "symbol": "circle"
         },
         "mode": "markers",
         "name": "2020-02-18",
         "showlegend": true,
         "type": "scattergl",
         "x": [
          -6.065357320164301
         ],
         "xaxis": "x",
         "y": [
          9.628925717853965
         ],
         "yaxis": "y"
        },
        {
         "hovertemplate": "date=2020-02-19<br>pc1=%{x}<br>pc2=%{y}<extra></extra>",
         "legendgroup": "2020-02-19",
         "marker": {
          "color": "#ab63fa",
          "symbol": "circle"
         },
         "mode": "markers",
         "name": "2020-02-19",
         "showlegend": true,
         "type": "scattergl",
         "x": [
          -4.376397781599739
         ],
         "xaxis": "x",
         "y": [
          9.757763010793047
         ],
         "yaxis": "y"
        },
        {
         "hovertemplate": "date=2020-02-20<br>pc1=%{x}<br>pc2=%{y}<extra></extra>",
         "legendgroup": "2020-02-20",
         "marker": {
          "color": "#FFA15A",
          "symbol": "circle"
         },
         "mode": "markers",
         "name": "2020-02-20",
         "showlegend": true,
         "type": "scattergl",
         "x": [
          -3.046672870435895
         ],
         "xaxis": "x",
         "y": [
          8.890864144356238
         ],
         "yaxis": "y"
        },
        {
         "hovertemplate": "date=2020-02-21<br>pc1=%{x}<br>pc2=%{y}<extra></extra>",
         "legendgroup": "2020-02-21",
         "marker": {
          "color": "#19d3f3",
          "symbol": "circle"
         },
         "mode": "markers",
         "name": "2020-02-21",
         "showlegend": true,
         "type": "scattergl",
         "x": [
          -0.8705309567968821
         ],
         "xaxis": "x",
         "y": [
          2.643951044116762
         ],
         "yaxis": "y"
        },
        {
         "hovertemplate": "date=2020-02-22<br>pc1=%{x}<br>pc2=%{y}<extra></extra>",
         "legendgroup": "2020-02-22",
         "marker": {
          "color": "#FF6692",
          "symbol": "circle"
         },
         "mode": "markers",
         "name": "2020-02-22",
         "showlegend": true,
         "type": "scattergl",
         "x": [
          10.572515685437901
         ],
         "xaxis": "x",
         "y": [
          -4.444100836672128
         ],
         "yaxis": "y"
        },
        {
         "hovertemplate": "date=2020-02-23<br>pc1=%{x}<br>pc2=%{y}<extra></extra>",
         "legendgroup": "2020-02-23",
         "marker": {
          "color": "#B6E880",
          "symbol": "circle"
         },
         "mode": "markers",
         "name": "2020-02-23",
         "showlegend": true,
         "type": "scattergl",
         "x": [
          9.938830186693725
         ],
         "xaxis": "x",
         "y": [
          -6.878934188113597
         ],
         "yaxis": "y"
        },
        {
         "hovertemplate": "date=2020-02-24<br>pc1=%{x}<br>pc2=%{y}<extra></extra>",
         "legendgroup": "2020-02-24",
         "marker": {
          "color": "#FF97FF",
          "symbol": "circle"
         },
         "mode": "markers",
         "name": "2020-02-24",
         "showlegend": true,
         "type": "scattergl",
         "x": [
          -3.0502703079498943
         ],
         "xaxis": "x",
         "y": [
          10.128713952040316
         ],
         "yaxis": "y"
        },
        {
         "hovertemplate": "date=2020-02-25<br>pc1=%{x}<br>pc2=%{y}<extra></extra>",
         "legendgroup": "2020-02-25",
         "marker": {
          "color": "#FECB52",
          "symbol": "circle"
         },
         "mode": "markers",
         "name": "2020-02-25",
         "showlegend": true,
         "type": "scattergl",
         "x": [
          -2.0534412470153853
         ],
         "xaxis": "x",
         "y": [
          6.011734876542104
         ],
         "yaxis": "y"
        },
        {
         "hovertemplate": "date=2020-02-26<br>pc1=%{x}<br>pc2=%{y}<extra></extra>",
         "legendgroup": "2020-02-26",
         "marker": {
          "color": "#636efa",
          "symbol": "circle"
         },
         "mode": "markers",
         "name": "2020-02-26",
         "showlegend": true,
         "type": "scattergl",
         "x": [
          0.8532670043295636
         ],
         "xaxis": "x",
         "y": [
          7.95884218684275
         ],
         "yaxis": "y"
        },
        {
         "hovertemplate": "date=2020-02-27<br>pc1=%{x}<br>pc2=%{y}<extra></extra>",
         "legendgroup": "2020-02-27",
         "marker": {
          "color": "#EF553B",
          "symbol": "circle"
         },
         "mode": "markers",
         "name": "2020-02-27",
         "showlegend": true,
         "type": "scattergl",
         "x": [
          -1.6015218419539108
         ],
         "xaxis": "x",
         "y": [
          6.56930016063283
         ],
         "yaxis": "y"
        },
        {
         "hovertemplate": "date=2020-02-28<br>pc1=%{x}<br>pc2=%{y}<extra></extra>",
         "legendgroup": "2020-02-28",
         "marker": {
          "color": "#00cc96",
          "symbol": "circle"
         },
         "mode": "markers",
         "name": "2020-02-28",
         "showlegend": true,
         "type": "scattergl",
         "x": [
          0.992320654755009
         ],
         "xaxis": "x",
         "y": [
          6.709370346713064
         ],
         "yaxis": "y"
        },
        {
         "hovertemplate": "date=2020-02-29<br>pc1=%{x}<br>pc2=%{y}<extra></extra>",
         "legendgroup": "2020-02-29",
         "marker": {
          "color": "#ab63fa",
          "symbol": "circle"
         },
         "mode": "markers",
         "name": "2020-02-29",
         "showlegend": true,
         "type": "scattergl",
         "x": [
          10.186275137507497
         ],
         "xaxis": "x",
         "y": [
          -5.378689574464676
         ],
         "yaxis": "y"
        },
        {
         "hovertemplate": "date=2020-03-01<br>pc1=%{x}<br>pc2=%{y}<extra></extra>",
         "legendgroup": "2020-03-01",
         "marker": {
          "color": "#FFA15A",
          "symbol": "circle"
         },
         "mode": "markers",
         "name": "2020-03-01",
         "showlegend": true,
         "type": "scattergl",
         "x": [
          11.955242585825951
         ],
         "xaxis": "x",
         "y": [
          -2.5340062408277615
         ],
         "yaxis": "y"
        },
        {
         "hovertemplate": "date=2020-03-02<br>pc1=%{x}<br>pc2=%{y}<extra></extra>",
         "legendgroup": "2020-03-02",
         "marker": {
          "color": "#19d3f3",
          "symbol": "circle"
         },
         "mode": "markers",
         "name": "2020-03-02",
         "showlegend": true,
         "type": "scattergl",
         "x": [
          -3.6866263167747544
         ],
         "xaxis": "x",
         "y": [
          4.477911830619065
         ],
         "yaxis": "y"
        },
        {
         "hovertemplate": "date=2020-03-03<br>pc1=%{x}<br>pc2=%{y}<extra></extra>",
         "legendgroup": "2020-03-03",
         "marker": {
          "color": "#FF6692",
          "symbol": "circle"
         },
         "mode": "markers",
         "name": "2020-03-03",
         "showlegend": true,
         "type": "scattergl",
         "x": [
          -2.7495089821582424
         ],
         "xaxis": "x",
         "y": [
          8.488492038581429
         ],
         "yaxis": "y"
        },
        {
         "hovertemplate": "date=2020-03-04<br>pc1=%{x}<br>pc2=%{y}<extra></extra>",
         "legendgroup": "2020-03-04",
         "marker": {
          "color": "#B6E880",
          "symbol": "circle"
         },
         "mode": "markers",
         "name": "2020-03-04",
         "showlegend": true,
         "type": "scattergl",
         "x": [
          -1.2029213623700838
         ],
         "xaxis": "x",
         "y": [
          8.695626339495977
         ],
         "yaxis": "y"
        },
        {
         "hovertemplate": "date=2020-03-05<br>pc1=%{x}<br>pc2=%{y}<extra></extra>",
         "legendgroup": "2020-03-05",
         "marker": {
          "color": "#FF97FF",
          "symbol": "circle"
         },
         "mode": "markers",
         "name": "2020-03-05",
         "showlegend": true,
         "type": "scattergl",
         "x": [
          -3.5490498930306766
         ],
         "xaxis": "x",
         "y": [
          3.4340464339444705
         ],
         "yaxis": "y"
        },
        {
         "hovertemplate": "date=2020-03-06<br>pc1=%{x}<br>pc2=%{y}<extra></extra>",
         "legendgroup": "2020-03-06",
         "marker": {
          "color": "#FECB52",
          "symbol": "circle"
         },
         "mode": "markers",
         "name": "2020-03-06",
         "showlegend": true,
         "type": "scattergl",
         "x": [
          3.4282657380976116
         ],
         "xaxis": "x",
         "y": [
          6.796936395617564
         ],
         "yaxis": "y"
        },
        {
         "hovertemplate": "date=2020-03-07<br>pc1=%{x}<br>pc2=%{y}<extra></extra>",
         "legendgroup": "2020-03-07",
         "marker": {
          "color": "#636efa",
          "symbol": "circle"
         },
         "mode": "markers",
         "name": "2020-03-07",
         "showlegend": true,
         "type": "scattergl",
         "x": [
          7.293319310176826
         ],
         "xaxis": "x",
         "y": [
          -3.8360663040541803
         ],
         "yaxis": "y"
        },
        {
         "hovertemplate": "date=2020-03-08<br>pc1=%{x}<br>pc2=%{y}<extra></extra>",
         "legendgroup": "2020-03-08",
         "marker": {
          "color": "#EF553B",
          "symbol": "circle"
         },
         "mode": "markers",
         "name": "2020-03-08",
         "showlegend": true,
         "type": "scattergl",
         "x": [
          6.4067077051590084
         ],
         "xaxis": "x",
         "y": [
          -10.188552761626303
         ],
         "yaxis": "y"
        },
        {
         "hovertemplate": "date=2020-03-09<br>pc1=%{x}<br>pc2=%{y}<extra></extra>",
         "legendgroup": "2020-03-09",
         "marker": {
          "color": "#00cc96",
          "symbol": "circle"
         },
         "mode": "markers",
         "name": "2020-03-09",
         "showlegend": true,
         "type": "scattergl",
         "x": [
          -1.2593896887352811
         ],
         "xaxis": "x",
         "y": [
          8.334593447808336
         ],
         "yaxis": "y"
        },
        {
         "hovertemplate": "date=2020-03-10<br>pc1=%{x}<br>pc2=%{y}<extra></extra>",
         "legendgroup": "2020-03-10",
         "marker": {
          "color": "#ab63fa",
          "symbol": "circle"
         },
         "mode": "markers",
         "name": "2020-03-10",
         "showlegend": true,
         "type": "scattergl",
         "x": [
          -4.071079499523676
         ],
         "xaxis": "x",
         "y": [
          9.266779929563437
         ],
         "yaxis": "y"
        },
        {
         "hovertemplate": "date=2020-03-11<br>pc1=%{x}<br>pc2=%{y}<extra></extra>",
         "legendgroup": "2020-03-11",
         "marker": {
          "color": "#FFA15A",
          "symbol": "circle"
         },
         "mode": "markers",
         "name": "2020-03-11",
         "showlegend": true,
         "type": "scattergl",
         "x": [
          -3.144078153738975
         ],
         "xaxis": "x",
         "y": [
          11.545785854864796
         ],
         "yaxis": "y"
        },
        {
         "hovertemplate": "date=2020-03-12<br>pc1=%{x}<br>pc2=%{y}<extra></extra>",
         "legendgroup": "2020-03-12",
         "marker": {
          "color": "#19d3f3",
          "symbol": "circle"
         },
         "mode": "markers",
         "name": "2020-03-12",
         "showlegend": true,
         "type": "scattergl",
         "x": [
          0.8953556760779708
         ],
         "xaxis": "x",
         "y": [
          9.339054862342637
         ],
         "yaxis": "y"
        },
        {
         "hovertemplate": "date=2020-03-13<br>pc1=%{x}<br>pc2=%{y}<extra></extra>",
         "legendgroup": "2020-03-13",
         "marker": {
          "color": "#FF6692",
          "symbol": "circle"
         },
         "mode": "markers",
         "name": "2020-03-13",
         "showlegend": true,
         "type": "scattergl",
         "x": [
          4.466752639104088
         ],
         "xaxis": "x",
         "y": [
          4.556383060379464
         ],
         "yaxis": "y"
        },
        {
         "hovertemplate": "date=2020-03-14<br>pc1=%{x}<br>pc2=%{y}<extra></extra>",
         "legendgroup": "2020-03-14",
         "marker": {
          "color": "#B6E880",
          "symbol": "circle"
         },
         "mode": "markers",
         "name": "2020-03-14",
         "showlegend": true,
         "type": "scattergl",
         "x": [
          4.837572562673292
         ],
         "xaxis": "x",
         "y": [
          4.9140058011013705
         ],
         "yaxis": "y"
        },
        {
         "hovertemplate": "date=2020-03-15<br>pc1=%{x}<br>pc2=%{y}<extra></extra>",
         "legendgroup": "2020-03-15",
         "marker": {
          "color": "#FF97FF",
          "symbol": "circle"
         },
         "mode": "markers",
         "name": "2020-03-15",
         "showlegend": true,
         "type": "scattergl",
         "x": [
          -3.3858233493375516
         ],
         "xaxis": "x",
         "y": [
          8.955530130239731
         ],
         "yaxis": "y"
        },
        {
         "hovertemplate": "date=2020-03-16<br>pc1=%{x}<br>pc2=%{y}<extra></extra>",
         "legendgroup": "2020-03-16",
         "marker": {
          "color": "#FECB52",
          "symbol": "circle"
         },
         "mode": "markers",
         "name": "2020-03-16",
         "showlegend": true,
         "type": "scattergl",
         "x": [
          3.5192937117187575
         ],
         "xaxis": "x",
         "y": [
          5.0531201542664945
         ],
         "yaxis": "y"
        },
        {
         "hovertemplate": "date=2020-03-17<br>pc1=%{x}<br>pc2=%{y}<extra></extra>",
         "legendgroup": "2020-03-17",
         "marker": {
          "color": "#636efa",
          "symbol": "circle"
         },
         "mode": "markers",
         "name": "2020-03-17",
         "showlegend": true,
         "type": "scattergl",
         "x": [
          6.099078874258314
         ],
         "xaxis": "x",
         "y": [
          -4.0332759437539325
         ],
         "yaxis": "y"
        },
        {
         "hovertemplate": "date=2020-03-18<br>pc1=%{x}<br>pc2=%{y}<extra></extra>",
         "legendgroup": "2020-03-18",
         "marker": {
          "color": "#EF553B",
          "symbol": "circle"
         },
         "mode": "markers",
         "name": "2020-03-18",
         "showlegend": true,
         "type": "scattergl",
         "x": [
          10.852770595600402
         ],
         "xaxis": "x",
         "y": [
          -1.5208429054731156
         ],
         "yaxis": "y"
        },
        {
         "hovertemplate": "date=2020-03-19<br>pc1=%{x}<br>pc2=%{y}<extra></extra>",
         "legendgroup": "2020-03-19",
         "marker": {
          "color": "#00cc96",
          "symbol": "circle"
         },
         "mode": "markers",
         "name": "2020-03-19",
         "showlegend": true,
         "type": "scattergl",
         "x": [
          9.944283111565703
         ],
         "xaxis": "x",
         "y": [
          -4.200440517282968
         ],
         "yaxis": "y"
        },
        {
         "hovertemplate": "date=2020-03-20<br>pc1=%{x}<br>pc2=%{y}<extra></extra>",
         "legendgroup": "2020-03-20",
         "marker": {
          "color": "#ab63fa",
          "symbol": "circle"
         },
         "mode": "markers",
         "name": "2020-03-20",
         "showlegend": true,
         "type": "scattergl",
         "x": [
          8.860352440723089
         ],
         "xaxis": "x",
         "y": [
          0.32124176715660213
         ],
         "yaxis": "y"
        },
        {
         "hovertemplate": "date=2020-03-21<br>pc1=%{x}<br>pc2=%{y}<extra></extra>",
         "legendgroup": "2020-03-21",
         "marker": {
          "color": "#FFA15A",
          "symbol": "circle"
         },
         "mode": "markers",
         "name": "2020-03-21",
         "showlegend": true,
         "type": "scattergl",
         "x": [
          -16.518306079075806
         ],
         "xaxis": "x",
         "y": [
          -1.9507216467597492
         ],
         "yaxis": "y"
        },
        {
         "hovertemplate": "date=2020-03-22<br>pc1=%{x}<br>pc2=%{y}<extra></extra>",
         "legendgroup": "2020-03-22",
         "marker": {
          "color": "#19d3f3",
          "symbol": "circle"
         },
         "mode": "markers",
         "name": "2020-03-22",
         "showlegend": true,
         "type": "scattergl",
         "x": [
          -17.557769258389794
         ],
         "xaxis": "x",
         "y": [
          9.261785384936893
         ],
         "yaxis": "y"
        },
        {
         "hovertemplate": "date=2020-03-23<br>pc1=%{x}<br>pc2=%{y}<extra></extra>",
         "legendgroup": "2020-03-23",
         "marker": {
          "color": "#FF6692",
          "symbol": "circle"
         },
         "mode": "markers",
         "name": "2020-03-23",
         "showlegend": true,
         "type": "scattergl",
         "x": [
          2.1879956043557325
         ],
         "xaxis": "x",
         "y": [
          -7.429588998657489
         ],
         "yaxis": "y"
        },
        {
         "hovertemplate": "date=2020-03-24<br>pc1=%{x}<br>pc2=%{y}<extra></extra>",
         "legendgroup": "2020-03-24",
         "marker": {
          "color": "#B6E880",
          "symbol": "circle"
         },
         "mode": "markers",
         "name": "2020-03-24",
         "showlegend": true,
         "type": "scattergl",
         "x": [
          7.994376586032005
         ],
         "xaxis": "x",
         "y": [
          -3.957137132509489
         ],
         "yaxis": "y"
        },
        {
         "hovertemplate": "date=2020-03-25<br>pc1=%{x}<br>pc2=%{y}<extra></extra>",
         "legendgroup": "2020-03-25",
         "marker": {
          "color": "#FF97FF",
          "symbol": "circle"
         },
         "mode": "markers",
         "name": "2020-03-25",
         "showlegend": true,
         "type": "scattergl",
         "x": [
          6.277134754324598
         ],
         "xaxis": "x",
         "y": [
          -5.565521710580253
         ],
         "yaxis": "y"
        },
        {
         "hovertemplate": "date=2020-03-26<br>pc1=%{x}<br>pc2=%{y}<extra></extra>",
         "legendgroup": "2020-03-26",
         "marker": {
          "color": "#FECB52",
          "symbol": "circle"
         },
         "mode": "markers",
         "name": "2020-03-26",
         "showlegend": true,
         "type": "scattergl",
         "x": [
          9.550191173748601
         ],
         "xaxis": "x",
         "y": [
          -3.137490958226148
         ],
         "yaxis": "y"
        },
        {
         "hovertemplate": "date=2020-03-27<br>pc1=%{x}<br>pc2=%{y}<extra></extra>",
         "legendgroup": "2020-03-27",
         "marker": {
          "color": "#636efa",
          "symbol": "circle"
         },
         "mode": "markers",
         "name": "2020-03-27",
         "showlegend": true,
         "type": "scattergl",
         "x": [
          6.543584217742125
         ],
         "xaxis": "x",
         "y": [
          -5.064473969938364
         ],
         "yaxis": "y"
        },
        {
         "hovertemplate": "date=2020-03-28<br>pc1=%{x}<br>pc2=%{y}<extra></extra>",
         "legendgroup": "2020-03-28",
         "marker": {
          "color": "#EF553B",
          "symbol": "circle"
         },
         "mode": "markers",
         "name": "2020-03-28",
         "showlegend": true,
         "type": "scattergl",
         "x": [
          -12.937547114604076
         ],
         "xaxis": "x",
         "y": [
          7.105884555171136
         ],
         "yaxis": "y"
        },
        {
         "hovertemplate": "date=2020-03-29<br>pc1=%{x}<br>pc2=%{y}<extra></extra>",
         "legendgroup": "2020-03-29",
         "marker": {
          "color": "#00cc96",
          "symbol": "circle"
         },
         "mode": "markers",
         "name": "2020-03-29",
         "showlegend": true,
         "type": "scattergl",
         "x": [
          -23.006464019826566
         ],
         "xaxis": "x",
         "y": [
          6.827965538845592
         ],
         "yaxis": "y"
        },
        {
         "hovertemplate": "date=2020-03-30<br>pc1=%{x}<br>pc2=%{y}<extra></extra>",
         "legendgroup": "2020-03-30",
         "marker": {
          "color": "#ab63fa",
          "symbol": "circle"
         },
         "mode": "markers",
         "name": "2020-03-30",
         "showlegend": true,
         "type": "scattergl",
         "x": [
          4.200836262069943
         ],
         "xaxis": "x",
         "y": [
          -2.2427715453328503
         ],
         "yaxis": "y"
        },
        {
         "hovertemplate": "date=2020-03-31<br>pc1=%{x}<br>pc2=%{y}<extra></extra>",
         "legendgroup": "2020-03-31",
         "marker": {
          "color": "#FFA15A",
          "symbol": "circle"
         },
         "mode": "markers",
         "name": "2020-03-31",
         "showlegend": true,
         "type": "scattergl",
         "x": [
          6.280471668482529
         ],
         "xaxis": "x",
         "y": [
          -8.56188485942748
         ],
         "yaxis": "y"
        },
        {
         "hovertemplate": "date=2020-04-01<br>pc1=%{x}<br>pc2=%{y}<extra></extra>",
         "legendgroup": "2020-04-01",
         "marker": {
          "color": "#19d3f3",
          "symbol": "circle"
         },
         "mode": "markers",
         "name": "2020-04-01",
         "showlegend": true,
         "type": "scattergl",
         "x": [
          7.316133429218819
         ],
         "xaxis": "x",
         "y": [
          -4.130007108649781
         ],
         "yaxis": "y"
        },
        {
         "hovertemplate": "date=2020-04-02<br>pc1=%{x}<br>pc2=%{y}<extra></extra>",
         "legendgroup": "2020-04-02",
         "marker": {
          "color": "#FF6692",
          "symbol": "circle"
         },
         "mode": "markers",
         "name": "2020-04-02",
         "showlegend": true,
         "type": "scattergl",
         "x": [
          8.134111510478041
         ],
         "xaxis": "x",
         "y": [
          -4.911435418029358
         ],
         "yaxis": "y"
        },
        {
         "hovertemplate": "date=2020-04-03<br>pc1=%{x}<br>pc2=%{y}<extra></extra>",
         "legendgroup": "2020-04-03",
         "marker": {
          "color": "#B6E880",
          "symbol": "circle"
         },
         "mode": "markers",
         "name": "2020-04-03",
         "showlegend": true,
         "type": "scattergl",
         "x": [
          1.9435231382886804
         ],
         "xaxis": "x",
         "y": [
          -10.697650126314072
         ],
         "yaxis": "y"
        },
        {
         "hovertemplate": "date=2020-04-04<br>pc1=%{x}<br>pc2=%{y}<extra></extra>",
         "legendgroup": "2020-04-04",
         "marker": {
          "color": "#FF97FF",
          "symbol": "circle"
         },
         "mode": "markers",
         "name": "2020-04-04",
         "showlegend": true,
         "type": "scattergl",
         "x": [
          -17.03731737673051
         ],
         "xaxis": "x",
         "y": [
          1.3754876189531748
         ],
         "yaxis": "y"
        },
        {
         "hovertemplate": "date=2020-04-05<br>pc1=%{x}<br>pc2=%{y}<extra></extra>",
         "legendgroup": "2020-04-05",
         "marker": {
          "color": "#FECB52",
          "symbol": "circle"
         },
         "mode": "markers",
         "name": "2020-04-05",
         "showlegend": true,
         "type": "scattergl",
         "x": [
          -23.178055960714538
         ],
         "xaxis": "x",
         "y": [
          7.177470837567422
         ],
         "yaxis": "y"
        },
        {
         "hovertemplate": "date=2020-04-06<br>pc1=%{x}<br>pc2=%{y}<extra></extra>",
         "legendgroup": "2020-04-06",
         "marker": {
          "color": "#636efa",
          "symbol": "circle"
         },
         "mode": "markers",
         "name": "2020-04-06",
         "showlegend": true,
         "type": "scattergl",
         "x": [
          1.604507182016987
         ],
         "xaxis": "x",
         "y": [
          -7.061674217346293
         ],
         "yaxis": "y"
        },
        {
         "hovertemplate": "date=2020-04-07<br>pc1=%{x}<br>pc2=%{y}<extra></extra>",
         "legendgroup": "2020-04-07",
         "marker": {
          "color": "#EF553B",
          "symbol": "circle"
         },
         "mode": "markers",
         "name": "2020-04-07",
         "showlegend": true,
         "type": "scattergl",
         "x": [
          4.079659281891292
         ],
         "xaxis": "x",
         "y": [
          -9.95612241020551
         ],
         "yaxis": "y"
        },
        {
         "hovertemplate": "date=2020-04-08<br>pc1=%{x}<br>pc2=%{y}<extra></extra>",
         "legendgroup": "2020-04-08",
         "marker": {
          "color": "#00cc96",
          "symbol": "circle"
         },
         "mode": "markers",
         "name": "2020-04-08",
         "showlegend": true,
         "type": "scattergl",
         "x": [
          6.843896024423902
         ],
         "xaxis": "x",
         "y": [
          -6.6991798869428045
         ],
         "yaxis": "y"
        },
        {
         "hovertemplate": "date=2020-04-09<br>pc1=%{x}<br>pc2=%{y}<extra></extra>",
         "legendgroup": "2020-04-09",
         "marker": {
          "color": "#ab63fa",
          "symbol": "circle"
         },
         "mode": "markers",
         "name": "2020-04-09",
         "showlegend": true,
         "type": "scattergl",
         "x": [
          8.51151790105505
         ],
         "xaxis": "x",
         "y": [
          -4.7828463520075335
         ],
         "yaxis": "y"
        },
        {
         "hovertemplate": "date=2020-04-10<br>pc1=%{x}<br>pc2=%{y}<extra></extra>",
         "legendgroup": "2020-04-10",
         "marker": {
          "color": "#FFA15A",
          "symbol": "circle"
         },
         "mode": "markers",
         "name": "2020-04-10",
         "showlegend": true,
         "type": "scattergl",
         "x": [
          7.117738358481902
         ],
         "xaxis": "x",
         "y": [
          -5.138896052676625
         ],
         "yaxis": "y"
        },
        {
         "hovertemplate": "date=2020-04-11<br>pc1=%{x}<br>pc2=%{y}<extra></extra>",
         "legendgroup": "2020-04-11",
         "marker": {
          "color": "#19d3f3",
          "symbol": "circle"
         },
         "mode": "markers",
         "name": "2020-04-11",
         "showlegend": true,
         "type": "scattergl",
         "x": [
          -17.047650001030643
         ],
         "xaxis": "x",
         "y": [
          3.058171557986808
         ],
         "yaxis": "y"
        },
        {
         "hovertemplate": "date=2020-04-12<br>pc1=%{x}<br>pc2=%{y}<extra></extra>",
         "legendgroup": "2020-04-12",
         "marker": {
          "color": "#FF6692",
          "symbol": "circle"
         },
         "mode": "markers",
         "name": "2020-04-12",
         "showlegend": true,
         "type": "scattergl",
         "x": [
          -20.653376236455095
         ],
         "xaxis": "x",
         "y": [
          12.439317216864806
         ],
         "yaxis": "y"
        },
        {
         "hovertemplate": "date=2020-04-13<br>pc1=%{x}<br>pc2=%{y}<extra></extra>",
         "legendgroup": "2020-04-13",
         "marker": {
          "color": "#B6E880",
          "symbol": "circle"
         },
         "mode": "markers",
         "name": "2020-04-13",
         "showlegend": true,
         "type": "scattergl",
         "x": [
          2.820951101463661
         ],
         "xaxis": "x",
         "y": [
          -5.716691398472852
         ],
         "yaxis": "y"
        },
        {
         "hovertemplate": "date=2020-04-14<br>pc1=%{x}<br>pc2=%{y}<extra></extra>",
         "legendgroup": "2020-04-14",
         "marker": {
          "color": "#FF97FF",
          "symbol": "circle"
         },
         "mode": "markers",
         "name": "2020-04-14",
         "showlegend": true,
         "type": "scattergl",
         "x": [
          7.593916049475253
         ],
         "xaxis": "x",
         "y": [
          -5.949893473119015
         ],
         "yaxis": "y"
        },
        {
         "hovertemplate": "date=2020-04-15<br>pc1=%{x}<br>pc2=%{y}<extra></extra>",
         "legendgroup": "2020-04-15",
         "marker": {
          "color": "#FECB52",
          "symbol": "circle"
         },
         "mode": "markers",
         "name": "2020-04-15",
         "showlegend": true,
         "type": "scattergl",
         "x": [
          5.404249424733065
         ],
         "xaxis": "x",
         "y": [
          -10.238128793455404
         ],
         "yaxis": "y"
        },
        {
         "hovertemplate": "date=2020-04-16<br>pc1=%{x}<br>pc2=%{y}<extra></extra>",
         "legendgroup": "2020-04-16",
         "marker": {
          "color": "#636efa",
          "symbol": "circle"
         },
         "mode": "markers",
         "name": "2020-04-16",
         "showlegend": true,
         "type": "scattergl",
         "x": [
          7.064551985911155
         ],
         "xaxis": "x",
         "y": [
          -6.68534666604701
         ],
         "yaxis": "y"
        },
        {
         "hovertemplate": "date=2020-04-17<br>pc1=%{x}<br>pc2=%{y}<extra></extra>",
         "legendgroup": "2020-04-17",
         "marker": {
          "color": "#EF553B",
          "symbol": "circle"
         },
         "mode": "markers",
         "name": "2020-04-17",
         "showlegend": true,
         "type": "scattergl",
         "x": [
          5.932362347659907
         ],
         "xaxis": "x",
         "y": [
          -8.304602009997161
         ],
         "yaxis": "y"
        },
        {
         "hovertemplate": "date=2020-04-18<br>pc1=%{x}<br>pc2=%{y}<extra></extra>",
         "legendgroup": "2020-04-18",
         "marker": {
          "color": "#00cc96",
          "symbol": "circle"
         },
         "mode": "markers",
         "name": "2020-04-18",
         "showlegend": true,
         "type": "scattergl",
         "x": [
          -19.49665115453762
         ],
         "xaxis": "x",
         "y": [
          -0.5440014882080508
         ],
         "yaxis": "y"
        },
        {
         "hovertemplate": "date=2020-04-19<br>pc1=%{x}<br>pc2=%{y}<extra></extra>",
         "legendgroup": "2020-04-19",
         "marker": {
          "color": "#ab63fa",
          "symbol": "circle"
         },
         "mode": "markers",
         "name": "2020-04-19",
         "showlegend": true,
         "type": "scattergl",
         "x": [
          -19.859140461948442
         ],
         "xaxis": "x",
         "y": [
          15.374486196172136
         ],
         "yaxis": "y"
        },
        {
         "hovertemplate": "date=2020-04-20<br>pc1=%{x}<br>pc2=%{y}<extra></extra>",
         "legendgroup": "2020-04-20",
         "marker": {
          "color": "#FFA15A",
          "symbol": "circle"
         },
         "mode": "markers",
         "name": "2020-04-20",
         "showlegend": true,
         "type": "scattergl",
         "x": [
          0.387433986089127
         ],
         "xaxis": "x",
         "y": [
          -8.29097043943683
         ],
         "yaxis": "y"
        },
        {
         "hovertemplate": "date=2020-04-21<br>pc1=%{x}<br>pc2=%{y}<extra></extra>",
         "legendgroup": "2020-04-21",
         "marker": {
          "color": "#19d3f3",
          "symbol": "circle"
         },
         "mode": "markers",
         "name": "2020-04-21",
         "showlegend": true,
         "type": "scattergl",
         "x": [
          8.387685095569609
         ],
         "xaxis": "x",
         "y": [
          -4.85068448764951
         ],
         "yaxis": "y"
        },
        {
         "hovertemplate": "date=2020-04-22<br>pc1=%{x}<br>pc2=%{y}<extra></extra>",
         "legendgroup": "2020-04-22",
         "marker": {
          "color": "#FF6692",
          "symbol": "circle"
         },
         "mode": "markers",
         "name": "2020-04-22",
         "showlegend": true,
         "type": "scattergl",
         "x": [
          6.178416635660234
         ],
         "xaxis": "x",
         "y": [
          -8.449588239984813
         ],
         "yaxis": "y"
        },
        {
         "hovertemplate": "date=2020-04-23<br>pc1=%{x}<br>pc2=%{y}<extra></extra>",
         "legendgroup": "2020-04-23",
         "marker": {
          "color": "#B6E880",
          "symbol": "circle"
         },
         "mode": "markers",
         "name": "2020-04-23",
         "showlegend": true,
         "type": "scattergl",
         "x": [
          9.731620661126469
         ],
         "xaxis": "x",
         "y": [
          -3.1011176667141362
         ],
         "yaxis": "y"
        },
        {
         "hovertemplate": "date=2020-04-24<br>pc1=%{x}<br>pc2=%{y}<extra></extra>",
         "legendgroup": "2020-04-24",
         "marker": {
          "color": "#FF97FF",
          "symbol": "circle"
         },
         "mode": "markers",
         "name": "2020-04-24",
         "showlegend": true,
         "type": "scattergl",
         "x": [
          5.753409006896856
         ],
         "xaxis": "x",
         "y": [
          -7.406891582628136
         ],
         "yaxis": "y"
        },
        {
         "hovertemplate": "date=2020-04-25<br>pc1=%{x}<br>pc2=%{y}<extra></extra>",
         "legendgroup": "2020-04-25",
         "marker": {
          "color": "#FECB52",
          "symbol": "circle"
         },
         "mode": "markers",
         "name": "2020-04-25",
         "showlegend": true,
         "type": "scattergl",
         "x": [
          -12.509786135704802
         ],
         "xaxis": "x",
         "y": [
          9.06909311744901
         ],
         "yaxis": "y"
        },
        {
         "hovertemplate": "date=2020-04-26<br>pc1=%{x}<br>pc2=%{y}<extra></extra>",
         "legendgroup": "2020-04-26",
         "marker": {
          "color": "#636efa",
          "symbol": "circle"
         },
         "mode": "markers",
         "name": "2020-04-26",
         "showlegend": true,
         "type": "scattergl",
         "x": [
          -21.581017006002966
         ],
         "xaxis": "x",
         "y": [
          12.220107056789386
         ],
         "yaxis": "y"
        },
        {
         "hovertemplate": "date=2020-04-27<br>pc1=%{x}<br>pc2=%{y}<extra></extra>",
         "legendgroup": "2020-04-27",
         "marker": {
          "color": "#EF553B",
          "symbol": "circle"
         },
         "mode": "markers",
         "name": "2020-04-27",
         "showlegend": true,
         "type": "scattergl",
         "x": [
          4.029499515241211
         ],
         "xaxis": "x",
         "y": [
          -2.541065250077004
         ],
         "yaxis": "y"
        },
        {
         "hovertemplate": "date=2020-04-28<br>pc1=%{x}<br>pc2=%{y}<extra></extra>",
         "legendgroup": "2020-04-28",
         "marker": {
          "color": "#00cc96",
          "symbol": "circle"
         },
         "mode": "markers",
         "name": "2020-04-28",
         "showlegend": true,
         "type": "scattergl",
         "x": [
          9.590900160618292
         ],
         "xaxis": "x",
         "y": [
          -2.4595331172203987
         ],
         "yaxis": "y"
        },
        {
         "hovertemplate": "date=2020-04-29<br>pc1=%{x}<br>pc2=%{y}<extra></extra>",
         "legendgroup": "2020-04-29",
         "marker": {
          "color": "#ab63fa",
          "symbol": "circle"
         },
         "mode": "markers",
         "name": "2020-04-29",
         "showlegend": true,
         "type": "scattergl",
         "x": [
          11.124694464986224
         ],
         "xaxis": "x",
         "y": [
          -2.2723451427692574
         ],
         "yaxis": "y"
        },
        {
         "hovertemplate": "date=2020-04-30<br>pc1=%{x}<br>pc2=%{y}<extra></extra>",
         "legendgroup": "2020-04-30",
         "marker": {
          "color": "#FFA15A",
          "symbol": "circle"
         },
         "mode": "markers",
         "name": "2020-04-30",
         "showlegend": true,
         "type": "scattergl",
         "x": [
          9.470968353799389
         ],
         "xaxis": "x",
         "y": [
          -3.6297771292786094
         ],
         "yaxis": "y"
        },
        {
         "hovertemplate": "date=2020-05-01<br>pc1=%{x}<br>pc2=%{y}<extra></extra>",
         "legendgroup": "2020-05-01",
         "marker": {
          "color": "#19d3f3",
          "symbol": "circle"
         },
         "mode": "markers",
         "name": "2020-05-01",
         "showlegend": true,
         "type": "scattergl",
         "x": [
          4.97863007415458
         ],
         "xaxis": "x",
         "y": [
          -5.680449458212105
         ],
         "yaxis": "y"
        },
        {
         "hovertemplate": "date=2020-05-02<br>pc1=%{x}<br>pc2=%{y}<extra></extra>",
         "legendgroup": "2020-05-02",
         "marker": {
          "color": "#FF6692",
          "symbol": "circle"
         },
         "mode": "markers",
         "name": "2020-05-02",
         "showlegend": true,
         "type": "scattergl",
         "x": [
          -16.262875426192213
         ],
         "xaxis": "x",
         "y": [
          5.053866131024548
         ],
         "yaxis": "y"
        },
        {
         "hovertemplate": "date=2020-05-03<br>pc1=%{x}<br>pc2=%{y}<extra></extra>",
         "legendgroup": "2020-05-03",
         "marker": {
          "color": "#B6E880",
          "symbol": "circle"
         },
         "mode": "markers",
         "name": "2020-05-03",
         "showlegend": true,
         "type": "scattergl",
         "x": [
          -22.41550046331293
         ],
         "xaxis": "x",
         "y": [
          10.031639918625206
         ],
         "yaxis": "y"
        },
        {
         "hovertemplate": "date=2020-05-04<br>pc1=%{x}<br>pc2=%{y}<extra></extra>",
         "legendgroup": "2020-05-04",
         "marker": {
          "color": "#FF97FF",
          "symbol": "circle"
         },
         "mode": "markers",
         "name": "2020-05-04",
         "showlegend": true,
         "type": "scattergl",
         "x": [
          5.502169486026666
         ],
         "xaxis": "x",
         "y": [
          -1.3606338411423702
         ],
         "yaxis": "y"
        },
        {
         "hovertemplate": "date=2020-05-05<br>pc1=%{x}<br>pc2=%{y}<extra></extra>",
         "legendgroup": "2020-05-05",
         "marker": {
          "color": "#FECB52",
          "symbol": "circle"
         },
         "mode": "markers",
         "name": "2020-05-05",
         "showlegend": true,
         "type": "scattergl",
         "x": [
          8.683639048606949
         ],
         "xaxis": "x",
         "y": [
          -5.2703627047187265
         ],
         "yaxis": "y"
        },
        {
         "hovertemplate": "date=2020-05-06<br>pc1=%{x}<br>pc2=%{y}<extra></extra>",
         "legendgroup": "2020-05-06",
         "marker": {
          "color": "#636efa",
          "symbol": "circle"
         },
         "mode": "markers",
         "name": "2020-05-06",
         "showlegend": true,
         "type": "scattergl",
         "x": [
          9.00524348309457
         ],
         "xaxis": "x",
         "y": [
          -2.662648802280421
         ],
         "yaxis": "y"
        },
        {
         "hovertemplate": "date=2020-05-07<br>pc1=%{x}<br>pc2=%{y}<extra></extra>",
         "legendgroup": "2020-05-07",
         "marker": {
          "color": "#EF553B",
          "symbol": "circle"
         },
         "mode": "markers",
         "name": "2020-05-07",
         "showlegend": true,
         "type": "scattergl",
         "x": [
          5.41937313369586
         ],
         "xaxis": "x",
         "y": [
          -8.23496188782421
         ],
         "yaxis": "y"
        },
        {
         "hovertemplate": "date=2020-05-08<br>pc1=%{x}<br>pc2=%{y}<extra></extra>",
         "legendgroup": "2020-05-08",
         "marker": {
          "color": "#00cc96",
          "symbol": "circle"
         },
         "mode": "markers",
         "name": "2020-05-08",
         "showlegend": true,
         "type": "scattergl",
         "x": [
          9.090264090629066
         ],
         "xaxis": "x",
         "y": [
          -1.8913865860905241
         ],
         "yaxis": "y"
        },
        {
         "hovertemplate": "date=2020-05-09<br>pc1=%{x}<br>pc2=%{y}<extra></extra>",
         "legendgroup": "2020-05-09",
         "marker": {
          "color": "#ab63fa",
          "symbol": "circle"
         },
         "mode": "markers",
         "name": "2020-05-09",
         "showlegend": true,
         "type": "scattergl",
         "x": [
          -16.115892772228534
         ],
         "xaxis": "x",
         "y": [
          5.423178382460432
         ],
         "yaxis": "y"
        },
        {
         "hovertemplate": "date=2020-05-10<br>pc1=%{x}<br>pc2=%{y}<extra></extra>",
         "legendgroup": "2020-05-10",
         "marker": {
          "color": "#FFA15A",
          "symbol": "circle"
         },
         "mode": "markers",
         "name": "2020-05-10",
         "showlegend": true,
         "type": "scattergl",
         "x": [
          -19.64660331427695
         ],
         "xaxis": "x",
         "y": [
          13.2651260927218
         ],
         "yaxis": "y"
        },
        {
         "hovertemplate": "date=2020-05-11<br>pc1=%{x}<br>pc2=%{y}<extra></extra>",
         "legendgroup": "2020-05-11",
         "marker": {
          "color": "#19d3f3",
          "symbol": "circle"
         },
         "mode": "markers",
         "name": "2020-05-11",
         "showlegend": true,
         "type": "scattergl",
         "x": [
          2.8751131589656853
         ],
         "xaxis": "x",
         "y": [
          -5.432051515544821
         ],
         "yaxis": "y"
        },
        {
         "hovertemplate": "date=2020-05-12<br>pc1=%{x}<br>pc2=%{y}<extra></extra>",
         "legendgroup": "2020-05-12",
         "marker": {
          "color": "#FF6692",
          "symbol": "circle"
         },
         "mode": "markers",
         "name": "2020-05-12",
         "showlegend": true,
         "type": "scattergl",
         "x": [
          8.447800876900681
         ],
         "xaxis": "x",
         "y": [
          -3.944306779933724
         ],
         "yaxis": "y"
        },
        {
         "hovertemplate": "date=2020-05-13<br>pc1=%{x}<br>pc2=%{y}<extra></extra>",
         "legendgroup": "2020-05-13",
         "marker": {
          "color": "#B6E880",
          "symbol": "circle"
         },
         "mode": "markers",
         "name": "2020-05-13",
         "showlegend": true,
         "type": "scattergl",
         "x": [
          6.1403746150685405
         ],
         "xaxis": "x",
         "y": [
          -6.481994418143757
         ],
         "yaxis": "y"
        },
        {
         "hovertemplate": "date=2020-05-14<br>pc1=%{x}<br>pc2=%{y}<extra></extra>",
         "legendgroup": "2020-05-14",
         "marker": {
          "color": "#FF97FF",
          "symbol": "circle"
         },
         "mode": "markers",
         "name": "2020-05-14",
         "showlegend": true,
         "type": "scattergl",
         "x": [
          9.77156514273482
         ],
         "xaxis": "x",
         "y": [
          -4.422605889095783
         ],
         "yaxis": "y"
        },
        {
         "hovertemplate": "date=2020-05-15<br>pc1=%{x}<br>pc2=%{y}<extra></extra>",
         "legendgroup": "2020-05-15",
         "marker": {
          "color": "#FECB52",
          "symbol": "circle"
         },
         "mode": "markers",
         "name": "2020-05-15",
         "showlegend": true,
         "type": "scattergl",
         "x": [
          5.182343105195971
         ],
         "xaxis": "x",
         "y": [
          -8.104076223161501
         ],
         "yaxis": "y"
        },
        {
         "hovertemplate": "date=2020-05-16<br>pc1=%{x}<br>pc2=%{y}<extra></extra>",
         "legendgroup": "2020-05-16",
         "marker": {
          "color": "#636efa",
          "symbol": "circle"
         },
         "mode": "markers",
         "name": "2020-05-16",
         "showlegend": true,
         "type": "scattergl",
         "x": [
          -14.938749653483647
         ],
         "xaxis": "x",
         "y": [
          7.639984905061303
         ],
         "yaxis": "y"
        },
        {
         "hovertemplate": "date=2020-05-17<br>pc1=%{x}<br>pc2=%{y}<extra></extra>",
         "legendgroup": "2020-05-17",
         "marker": {
          "color": "#EF553B",
          "symbol": "circle"
         },
         "mode": "markers",
         "name": "2020-05-17",
         "showlegend": true,
         "type": "scattergl",
         "x": [
          -23.890111150373762
         ],
         "xaxis": "x",
         "y": [
          5.649787160738225
         ],
         "yaxis": "y"
        },
        {
         "hovertemplate": "date=2020-05-18<br>pc1=%{x}<br>pc2=%{y}<extra></extra>",
         "legendgroup": "2020-05-18",
         "marker": {
          "color": "#00cc96",
          "symbol": "circle"
         },
         "mode": "markers",
         "name": "2020-05-18",
         "showlegend": true,
         "type": "scattergl",
         "x": [
          4.976292459093821
         ],
         "xaxis": "x",
         "y": [
          -0.8648681681424281
         ],
         "yaxis": "y"
        },
        {
         "hovertemplate": "date=2020-05-19<br>pc1=%{x}<br>pc2=%{y}<extra></extra>",
         "legendgroup": "2020-05-19",
         "marker": {
          "color": "#ab63fa",
          "symbol": "circle"
         },
         "mode": "markers",
         "name": "2020-05-19",
         "showlegend": true,
         "type": "scattergl",
         "x": [
          9.813700622755979
         ],
         "xaxis": "x",
         "y": [
          -3.705489336394655
         ],
         "yaxis": "y"
        },
        {
         "hovertemplate": "date=2020-05-20<br>pc1=%{x}<br>pc2=%{y}<extra></extra>",
         "legendgroup": "2020-05-20",
         "marker": {
          "color": "#FFA15A",
          "symbol": "circle"
         },
         "mode": "markers",
         "name": "2020-05-20",
         "showlegend": true,
         "type": "scattergl",
         "x": [
          5.92461541082428
         ],
         "xaxis": "x",
         "y": [
          -6.845731472641876
         ],
         "yaxis": "y"
        },
        {
         "hovertemplate": "date=2020-05-21<br>pc1=%{x}<br>pc2=%{y}<extra></extra>",
         "legendgroup": "2020-05-21",
         "marker": {
          "color": "#19d3f3",
          "symbol": "circle"
         },
         "mode": "markers",
         "name": "2020-05-21",
         "showlegend": true,
         "type": "scattergl",
         "x": [
          9.003628896827715
         ],
         "xaxis": "x",
         "y": [
          -3.3736005936066933
         ],
         "yaxis": "y"
        },
        {
         "hovertemplate": "date=2020-05-22<br>pc1=%{x}<br>pc2=%{y}<extra></extra>",
         "legendgroup": "2020-05-22",
         "marker": {
          "color": "#FF6692",
          "symbol": "circle"
         },
         "mode": "markers",
         "name": "2020-05-22",
         "showlegend": true,
         "type": "scattergl",
         "x": [
          6.161794154141724
         ],
         "xaxis": "x",
         "y": [
          -4.567415776946856
         ],
         "yaxis": "y"
        },
        {
         "hovertemplate": "date=2020-05-23<br>pc1=%{x}<br>pc2=%{y}<extra></extra>",
         "legendgroup": "2020-05-23",
         "marker": {
          "color": "#B6E880",
          "symbol": "circle"
         },
         "mode": "markers",
         "name": "2020-05-23",
         "showlegend": true,
         "type": "scattergl",
         "x": [
          -13.759614121666848
         ],
         "xaxis": "x",
         "y": [
          8.507039450481134
         ],
         "yaxis": "y"
        },
        {
         "hovertemplate": "date=2020-05-24<br>pc1=%{x}<br>pc2=%{y}<extra></extra>",
         "legendgroup": "2020-05-24",
         "marker": {
          "color": "#FF97FF",
          "symbol": "circle"
         },
         "mode": "markers",
         "name": "2020-05-24",
         "showlegend": true,
         "type": "scattergl",
         "x": [
          -20.893509850905915
         ],
         "xaxis": "x",
         "y": [
          14.77877864565895
         ],
         "yaxis": "y"
        },
        {
         "hovertemplate": "date=2020-05-25<br>pc1=%{x}<br>pc2=%{y}<extra></extra>",
         "legendgroup": "2020-05-25",
         "marker": {
          "color": "#FECB52",
          "symbol": "circle"
         },
         "mode": "markers",
         "name": "2020-05-25",
         "showlegend": true,
         "type": "scattergl",
         "x": [
          34.390766099312295
         ],
         "xaxis": "x",
         "y": [
          36.52649854542754
         ],
         "yaxis": "y"
        },
        {
         "hovertemplate": "date=2020-05-26<br>pc1=%{x}<br>pc2=%{y}<extra></extra>",
         "legendgroup": "2020-05-26",
         "marker": {
          "color": "#636efa",
          "symbol": "circle"
         },
         "mode": "markers",
         "name": "2020-05-26",
         "showlegend": true,
         "type": "scattergl",
         "x": [
          34.09213406718245
         ],
         "xaxis": "x",
         "y": [
          37.26018719553919
         ],
         "yaxis": "y"
        },
        {
         "hovertemplate": "date=2020-05-27<br>pc1=%{x}<br>pc2=%{y}<extra></extra>",
         "legendgroup": "2020-05-27",
         "marker": {
          "color": "#EF553B",
          "symbol": "circle"
         },
         "mode": "markers",
         "name": "2020-05-27",
         "showlegend": true,
         "type": "scattergl",
         "x": [
          34.05500675301942
         ],
         "xaxis": "x",
         "y": [
          37.28472445883502
         ],
         "yaxis": "y"
        },
        {
         "hovertemplate": "date=2020-05-28<br>pc1=%{x}<br>pc2=%{y}<extra></extra>",
         "legendgroup": "2020-05-28",
         "marker": {
          "color": "#00cc96",
          "symbol": "circle"
         },
         "mode": "markers",
         "name": "2020-05-28",
         "showlegend": true,
         "type": "scattergl",
         "x": [
          33.649278537419804
         ],
         "xaxis": "x",
         "y": [
          37.535986068936204
         ],
         "yaxis": "y"
        },
        {
         "hovertemplate": "date=2020-05-29<br>pc1=%{x}<br>pc2=%{y}<extra></extra>",
         "legendgroup": "2020-05-29",
         "marker": {
          "color": "#ab63fa",
          "symbol": "circle"
         },
         "mode": "markers",
         "name": "2020-05-29",
         "showlegend": true,
         "type": "scattergl",
         "x": [
          12.76204430497078
         ],
         "xaxis": "x",
         "y": [
          9.607893148718446
         ],
         "yaxis": "y"
        },
        {
         "hovertemplate": "date=2020-05-30<br>pc1=%{x}<br>pc2=%{y}<extra></extra>",
         "legendgroup": "2020-05-30",
         "marker": {
          "color": "#FFA15A",
          "symbol": "circle"
         },
         "mode": "markers",
         "name": "2020-05-30",
         "showlegend": true,
         "type": "scattergl",
         "x": [
          -20.912309061727626
         ],
         "xaxis": "x",
         "y": [
          7.008915182292797
         ],
         "yaxis": "y"
        },
        {
         "hovertemplate": "date=2020-05-31<br>pc1=%{x}<br>pc2=%{y}<extra></extra>",
         "legendgroup": "2020-05-31",
         "marker": {
          "color": "#19d3f3",
          "symbol": "circle"
         },
         "mode": "markers",
         "name": "2020-05-31",
         "showlegend": true,
         "type": "scattergl",
         "x": [
          -23.765179674238496
         ],
         "xaxis": "x",
         "y": [
          5.833699164888801
         ],
         "yaxis": "y"
        },
        {
         "hovertemplate": "date=2020-06-01<br>pc1=%{x}<br>pc2=%{y}<extra></extra>",
         "legendgroup": "2020-06-01",
         "marker": {
          "color": "#FF6692",
          "symbol": "circle"
         },
         "mode": "markers",
         "name": "2020-06-01",
         "showlegend": true,
         "type": "scattergl",
         "x": [
          7.485111926692396
         ],
         "xaxis": "x",
         "y": [
          -8.694480745293813
         ],
         "yaxis": "y"
        },
        {
         "hovertemplate": "date=2020-06-02<br>pc1=%{x}<br>pc2=%{y}<extra></extra>",
         "legendgroup": "2020-06-02",
         "marker": {
          "color": "#B6E880",
          "symbol": "circle"
         },
         "mode": "markers",
         "name": "2020-06-02",
         "showlegend": true,
         "type": "scattergl",
         "x": [
          8.447224484168988
         ],
         "xaxis": "x",
         "y": [
          -15.517496484780754
         ],
         "yaxis": "y"
        },
        {
         "hovertemplate": "date=2020-06-03<br>pc1=%{x}<br>pc2=%{y}<extra></extra>",
         "legendgroup": "2020-06-03",
         "marker": {
          "color": "#FF97FF",
          "symbol": "circle"
         },
         "mode": "markers",
         "name": "2020-06-03",
         "showlegend": true,
         "type": "scattergl",
         "x": [
          -0.2623680619929633
         ],
         "xaxis": "x",
         "y": [
          -17.788338775307594
         ],
         "yaxis": "y"
        },
        {
         "hovertemplate": "date=2020-06-04<br>pc1=%{x}<br>pc2=%{y}<extra></extra>",
         "legendgroup": "2020-06-04",
         "marker": {
          "color": "#FECB52",
          "symbol": "circle"
         },
         "mode": "markers",
         "name": "2020-06-04",
         "showlegend": true,
         "type": "scattergl",
         "x": [
          5.646897017928713
         ],
         "xaxis": "x",
         "y": [
          -4.684484424339144
         ],
         "yaxis": "y"
        },
        {
         "hovertemplate": "date=2020-06-05<br>pc1=%{x}<br>pc2=%{y}<extra></extra>",
         "legendgroup": "2020-06-05",
         "marker": {
          "color": "#636efa",
          "symbol": "circle"
         },
         "mode": "markers",
         "name": "2020-06-05",
         "showlegend": true,
         "type": "scattergl",
         "x": [
          3.3033375968090763
         ],
         "xaxis": "x",
         "y": [
          -8.57924288925635
         ],
         "yaxis": "y"
        },
        {
         "hovertemplate": "date=2020-06-06<br>pc1=%{x}<br>pc2=%{y}<extra></extra>",
         "legendgroup": "2020-06-06",
         "marker": {
          "color": "#EF553B",
          "symbol": "circle"
         },
         "mode": "markers",
         "name": "2020-06-06",
         "showlegend": true,
         "type": "scattergl",
         "x": [
          -22.94786058359634
         ],
         "xaxis": "x",
         "y": [
          -3.428087927081551
         ],
         "yaxis": "y"
        },
        {
         "hovertemplate": "date=2020-06-07<br>pc1=%{x}<br>pc2=%{y}<extra></extra>",
         "legendgroup": "2020-06-07",
         "marker": {
          "color": "#00cc96",
          "symbol": "circle"
         },
         "mode": "markers",
         "name": "2020-06-07",
         "showlegend": true,
         "type": "scattergl",
         "x": [
          -24.605970157676772
         ],
         "xaxis": "x",
         "y": [
          6.019038819800386
         ],
         "yaxis": "y"
        },
        {
         "hovertemplate": "date=2020-06-08<br>pc1=%{x}<br>pc2=%{y}<extra></extra>",
         "legendgroup": "2020-06-08",
         "marker": {
          "color": "#ab63fa",
          "symbol": "circle"
         },
         "mode": "markers",
         "name": "2020-06-08",
         "showlegend": true,
         "type": "scattergl",
         "x": [
          0.93453460138225
         ],
         "xaxis": "x",
         "y": [
          -6.86562312096585
         ],
         "yaxis": "y"
        },
        {
         "hovertemplate": "date=2020-06-09<br>pc1=%{x}<br>pc2=%{y}<extra></extra>",
         "legendgroup": "2020-06-09",
         "marker": {
          "color": "#FFA15A",
          "symbol": "circle"
         },
         "mode": "markers",
         "name": "2020-06-09",
         "showlegend": true,
         "type": "scattergl",
         "x": [
          7.115864007431154
         ],
         "xaxis": "x",
         "y": [
          -7.395370877198734
         ],
         "yaxis": "y"
        },
        {
         "hovertemplate": "date=2020-06-10<br>pc1=%{x}<br>pc2=%{y}<extra></extra>",
         "legendgroup": "2020-06-10",
         "marker": {
          "color": "#19d3f3",
          "symbol": "circle"
         },
         "mode": "markers",
         "name": "2020-06-10",
         "showlegend": true,
         "type": "scattergl",
         "x": [
          9.483021593137114
         ],
         "xaxis": "x",
         "y": [
          -3.0640737168729357
         ],
         "yaxis": "y"
        },
        {
         "hovertemplate": "date=2020-06-11<br>pc1=%{x}<br>pc2=%{y}<extra></extra>",
         "legendgroup": "2020-06-11",
         "marker": {
          "color": "#FF6692",
          "symbol": "circle"
         },
         "mode": "markers",
         "name": "2020-06-11",
         "showlegend": true,
         "type": "scattergl",
         "x": [
          9.509922320137397
         ],
         "xaxis": "x",
         "y": [
          -0.628317292825346
         ],
         "yaxis": "y"
        },
        {
         "hovertemplate": "date=2020-06-12<br>pc1=%{x}<br>pc2=%{y}<extra></extra>",
         "legendgroup": "2020-06-12",
         "marker": {
          "color": "#B6E880",
          "symbol": "circle"
         },
         "mode": "markers",
         "name": "2020-06-12",
         "showlegend": true,
         "type": "scattergl",
         "x": [
          5.694456692467462
         ],
         "xaxis": "x",
         "y": [
          -5.183068228547028
         ],
         "yaxis": "y"
        },
        {
         "hovertemplate": "date=2020-06-13<br>pc1=%{x}<br>pc2=%{y}<extra></extra>",
         "legendgroup": "2020-06-13",
         "marker": {
          "color": "#FF97FF",
          "symbol": "circle"
         },
         "mode": "markers",
         "name": "2020-06-13",
         "showlegend": true,
         "type": "scattergl",
         "x": [
          -12.709689566618923
         ],
         "xaxis": "x",
         "y": [
          9.610993253983453
         ],
         "yaxis": "y"
        },
        {
         "hovertemplate": "date=2020-06-14<br>pc1=%{x}<br>pc2=%{y}<extra></extra>",
         "legendgroup": "2020-06-14",
         "marker": {
          "color": "#FECB52",
          "symbol": "circle"
         },
         "mode": "markers",
         "name": "2020-06-14",
         "showlegend": true,
         "type": "scattergl",
         "x": [
          -22.375461794477918
         ],
         "xaxis": "x",
         "y": [
          7.236094803616894
         ],
         "yaxis": "y"
        },
        {
         "hovertemplate": "date=2020-06-15<br>pc1=%{x}<br>pc2=%{y}<extra></extra>",
         "legendgroup": "2020-06-15",
         "marker": {
          "color": "#636efa",
          "symbol": "circle"
         },
         "mode": "markers",
         "name": "2020-06-15",
         "showlegend": true,
         "type": "scattergl",
         "x": [
          4.986999687475874
         ],
         "xaxis": "x",
         "y": [
          -1.2026432472678075
         ],
         "yaxis": "y"
        },
        {
         "hovertemplate": "date=2020-06-16<br>pc1=%{x}<br>pc2=%{y}<extra></extra>",
         "legendgroup": "2020-06-16",
         "marker": {
          "color": "#EF553B",
          "symbol": "circle"
         },
         "mode": "markers",
         "name": "2020-06-16",
         "showlegend": true,
         "type": "scattergl",
         "x": [
          10.519821923601858
         ],
         "xaxis": "x",
         "y": [
          -1.164720974625868
         ],
         "yaxis": "y"
        },
        {
         "hovertemplate": "date=2020-06-17<br>pc1=%{x}<br>pc2=%{y}<extra></extra>",
         "legendgroup": "2020-06-17",
         "marker": {
          "color": "#00cc96",
          "symbol": "circle"
         },
         "mode": "markers",
         "name": "2020-06-17",
         "showlegend": true,
         "type": "scattergl",
         "x": [
          8.03502989674752
         ],
         "xaxis": "x",
         "y": [
          -3.4066771130481395
         ],
         "yaxis": "y"
        },
        {
         "hovertemplate": "date=2020-06-18<br>pc1=%{x}<br>pc2=%{y}<extra></extra>",
         "legendgroup": "2020-06-18",
         "marker": {
          "color": "#ab63fa",
          "symbol": "circle"
         },
         "mode": "markers",
         "name": "2020-06-18",
         "showlegend": true,
         "type": "scattergl",
         "x": [
          10.721727561826894
         ],
         "xaxis": "x",
         "y": [
          0.724501807473212
         ],
         "yaxis": "y"
        },
        {
         "hovertemplate": "date=2020-06-19<br>pc1=%{x}<br>pc2=%{y}<extra></extra>",
         "legendgroup": "2020-06-19",
         "marker": {
          "color": "#FFA15A",
          "symbol": "circle"
         },
         "mode": "markers",
         "name": "2020-06-19",
         "showlegend": true,
         "type": "scattergl",
         "x": [
          7.820187760858117
         ],
         "xaxis": "x",
         "y": [
          -2.2163701860531972
         ],
         "yaxis": "y"
        },
        {
         "hovertemplate": "date=2020-06-20<br>pc1=%{x}<br>pc2=%{y}<extra></extra>",
         "legendgroup": "2020-06-20",
         "marker": {
          "color": "#19d3f3",
          "symbol": "circle"
         },
         "mode": "markers",
         "name": "2020-06-20",
         "showlegend": true,
         "type": "scattergl",
         "x": [
          -15.923163393228027
         ],
         "xaxis": "x",
         "y": [
          0.7302091909440775
         ],
         "yaxis": "y"
        },
        {
         "hovertemplate": "date=2020-06-21<br>pc1=%{x}<br>pc2=%{y}<extra></extra>",
         "legendgroup": "2020-06-21",
         "marker": {
          "color": "#FF6692",
          "symbol": "circle"
         },
         "mode": "markers",
         "name": "2020-06-21",
         "showlegend": true,
         "type": "scattergl",
         "x": [
          -18.583805722384113
         ],
         "xaxis": "x",
         "y": [
          12.746982889286235
         ],
         "yaxis": "y"
        },
        {
         "hovertemplate": "date=2020-06-22<br>pc1=%{x}<br>pc2=%{y}<extra></extra>",
         "legendgroup": "2020-06-22",
         "marker": {
          "color": "#B6E880",
          "symbol": "circle"
         },
         "mode": "markers",
         "name": "2020-06-22",
         "showlegend": true,
         "type": "scattergl",
         "x": [
          6.891693489514434
         ],
         "xaxis": "x",
         "y": [
          -0.28936584701788665
         ],
         "yaxis": "y"
        },
        {
         "hovertemplate": "date=2020-06-23<br>pc1=%{x}<br>pc2=%{y}<extra></extra>",
         "legendgroup": "2020-06-23",
         "marker": {
          "color": "#FF97FF",
          "symbol": "circle"
         },
         "mode": "markers",
         "name": "2020-06-23",
         "showlegend": true,
         "type": "scattergl",
         "x": [
          8.142803142212777
         ],
         "xaxis": "x",
         "y": [
          -2.410903176510646
         ],
         "yaxis": "y"
        },
        {
         "hovertemplate": "date=2020-06-24<br>pc1=%{x}<br>pc2=%{y}<extra></extra>",
         "legendgroup": "2020-06-24",
         "marker": {
          "color": "#FECB52",
          "symbol": "circle"
         },
         "mode": "markers",
         "name": "2020-06-24",
         "showlegend": true,
         "type": "scattergl",
         "x": [
          9.542884137381778
         ],
         "xaxis": "x",
         "y": [
          0.16852355724660198
         ],
         "yaxis": "y"
        },
        {
         "hovertemplate": "date=2020-06-25<br>pc1=%{x}<br>pc2=%{y}<extra></extra>",
         "legendgroup": "2020-06-25",
         "marker": {
          "color": "#636efa",
          "symbol": "circle"
         },
         "mode": "markers",
         "name": "2020-06-25",
         "showlegend": true,
         "type": "scattergl",
         "x": [
          8.85682162517375
         ],
         "xaxis": "x",
         "y": [
          -0.7576717629110288
         ],
         "yaxis": "y"
        },
        {
         "hovertemplate": "date=2020-06-26<br>pc1=%{x}<br>pc2=%{y}<extra></extra>",
         "legendgroup": "2020-06-26",
         "marker": {
          "color": "#EF553B",
          "symbol": "circle"
         },
         "mode": "markers",
         "name": "2020-06-26",
         "showlegend": true,
         "type": "scattergl",
         "x": [
          9.668473459868268
         ],
         "xaxis": "x",
         "y": [
          -1.685358777431654
         ],
         "yaxis": "y"
        },
        {
         "hovertemplate": "date=2020-06-27<br>pc1=%{x}<br>pc2=%{y}<extra></extra>",
         "legendgroup": "2020-06-27",
         "marker": {
          "color": "#00cc96",
          "symbol": "circle"
         },
         "mode": "markers",
         "name": "2020-06-27",
         "showlegend": true,
         "type": "scattergl",
         "x": [
          -12.187455643122101
         ],
         "xaxis": "x",
         "y": [
          10.743908770756606
         ],
         "yaxis": "y"
        },
        {
         "hovertemplate": "date=2020-06-28<br>pc1=%{x}<br>pc2=%{y}<extra></extra>",
         "legendgroup": "2020-06-28",
         "marker": {
          "color": "#ab63fa",
          "symbol": "circle"
         },
         "mode": "markers",
         "name": "2020-06-28",
         "showlegend": true,
         "type": "scattergl",
         "x": [
          -16.912059095680434
         ],
         "xaxis": "x",
         "y": [
          14.85818498601746
         ],
         "yaxis": "y"
        },
        {
         "hovertemplate": "date=2020-06-29<br>pc1=%{x}<br>pc2=%{y}<extra></extra>",
         "legendgroup": "2020-06-29",
         "marker": {
          "color": "#FFA15A",
          "symbol": "circle"
         },
         "mode": "markers",
         "name": "2020-06-29",
         "showlegend": true,
         "type": "scattergl",
         "x": [
          7.717342175454574
         ],
         "xaxis": "x",
         "y": [
          2.1071751837326627
         ],
         "yaxis": "y"
        },
        {
         "hovertemplate": "date=2020-06-30<br>pc1=%{x}<br>pc2=%{y}<extra></extra>",
         "legendgroup": "2020-06-30",
         "marker": {
          "color": "#19d3f3",
          "symbol": "circle"
         },
         "mode": "markers",
         "name": "2020-06-30",
         "showlegend": true,
         "type": "scattergl",
         "x": [
          8.523697659876243
         ],
         "xaxis": "x",
         "y": [
          -2.689310173970803
         ],
         "yaxis": "y"
        },
        {
         "hovertemplate": "date=2020-07-01<br>pc1=%{x}<br>pc2=%{y}<extra></extra>",
         "legendgroup": "2020-07-01",
         "marker": {
          "color": "#FF6692",
          "symbol": "circle"
         },
         "mode": "markers",
         "name": "2020-07-01",
         "showlegend": true,
         "type": "scattergl",
         "x": [
          6.0600027067529565
         ],
         "xaxis": "x",
         "y": [
          -3.3097147615967755
         ],
         "yaxis": "y"
        },
        {
         "hovertemplate": "date=2020-07-02<br>pc1=%{x}<br>pc2=%{y}<extra></extra>",
         "legendgroup": "2020-07-02",
         "marker": {
          "color": "#B6E880",
          "symbol": "circle"
         },
         "mode": "markers",
         "name": "2020-07-02",
         "showlegend": true,
         "type": "scattergl",
         "x": [
          -1.839790864522072
         ],
         "xaxis": "x",
         "y": [
          -17.257292489376592
         ],
         "yaxis": "y"
        },
        {
         "hovertemplate": "date=2020-07-03<br>pc1=%{x}<br>pc2=%{y}<extra></extra>",
         "legendgroup": "2020-07-03",
         "marker": {
          "color": "#FF97FF",
          "symbol": "circle"
         },
         "mode": "markers",
         "name": "2020-07-03",
         "showlegend": true,
         "type": "scattergl",
         "x": [
          9.565504029170357
         ],
         "xaxis": "x",
         "y": [
          -4.601400708501946
         ],
         "yaxis": "y"
        },
        {
         "hovertemplate": "date=2020-07-04<br>pc1=%{x}<br>pc2=%{y}<extra></extra>",
         "legendgroup": "2020-07-04",
         "marker": {
          "color": "#FECB52",
          "symbol": "circle"
         },
         "mode": "markers",
         "name": "2020-07-04",
         "showlegend": true,
         "type": "scattergl",
         "x": [
          -15.122497665350554
         ],
         "xaxis": "x",
         "y": [
          0.42795984210861626
         ],
         "yaxis": "y"
        },
        {
         "hovertemplate": "date=2020-07-05<br>pc1=%{x}<br>pc2=%{y}<extra></extra>",
         "legendgroup": "2020-07-05",
         "marker": {
          "color": "#636efa",
          "symbol": "circle"
         },
         "mode": "markers",
         "name": "2020-07-05",
         "showlegend": true,
         "type": "scattergl",
         "x": [
          -16.40771580616047
         ],
         "xaxis": "x",
         "y": [
          14.789133988691235
         ],
         "yaxis": "y"
        },
        {
         "hovertemplate": "date=2020-07-06<br>pc1=%{x}<br>pc2=%{y}<extra></extra>",
         "legendgroup": "2020-07-06",
         "marker": {
          "color": "#EF553B",
          "symbol": "circle"
         },
         "mode": "markers",
         "name": "2020-07-06",
         "showlegend": true,
         "type": "scattergl",
         "x": [
          -0.9162151532089539
         ],
         "xaxis": "x",
         "y": [
          -9.320338961416272
         ],
         "yaxis": "y"
        },
        {
         "hovertemplate": "date=2020-07-07<br>pc1=%{x}<br>pc2=%{y}<extra></extra>",
         "legendgroup": "2020-07-07",
         "marker": {
          "color": "#00cc96",
          "symbol": "circle"
         },
         "mode": "markers",
         "name": "2020-07-07",
         "showlegend": true,
         "type": "scattergl",
         "x": [
          4.661769311665854
         ],
         "xaxis": "x",
         "y": [
          -8.545860207541484
         ],
         "yaxis": "y"
        },
        {
         "hovertemplate": "date=2020-07-08<br>pc1=%{x}<br>pc2=%{y}<extra></extra>",
         "legendgroup": "2020-07-08",
         "marker": {
          "color": "#ab63fa",
          "symbol": "circle"
         },
         "mode": "markers",
         "name": "2020-07-08",
         "showlegend": true,
         "type": "scattergl",
         "x": [
          7.739953147395096
         ],
         "xaxis": "x",
         "y": [
          -2.743504384707439
         ],
         "yaxis": "y"
        },
        {
         "hovertemplate": "date=2020-07-09<br>pc1=%{x}<br>pc2=%{y}<extra></extra>",
         "legendgroup": "2020-07-09",
         "marker": {
          "color": "#FFA15A",
          "symbol": "circle"
         },
         "mode": "markers",
         "name": "2020-07-09",
         "showlegend": true,
         "type": "scattergl",
         "x": [
          9.524962304188229
         ],
         "xaxis": "x",
         "y": [
          -0.8586422260031944
         ],
         "yaxis": "y"
        },
        {
         "hovertemplate": "date=2020-07-10<br>pc1=%{x}<br>pc2=%{y}<extra></extra>",
         "legendgroup": "2020-07-10",
         "marker": {
          "color": "#19d3f3",
          "symbol": "circle"
         },
         "mode": "markers",
         "name": "2020-07-10",
         "showlegend": true,
         "type": "scattergl",
         "x": [
          -2.5179679698517745
         ],
         "xaxis": "x",
         "y": [
          -18.648989530996893
         ],
         "yaxis": "y"
        },
        {
         "hovertemplate": "date=2020-07-11<br>pc1=%{x}<br>pc2=%{y}<extra></extra>",
         "legendgroup": "2020-07-11",
         "marker": {
          "color": "#FF6692",
          "symbol": "circle"
         },
         "mode": "markers",
         "name": "2020-07-11",
         "showlegend": true,
         "type": "scattergl",
         "x": [
          -18.13928174489968
         ],
         "xaxis": "x",
         "y": [
          -1.7360162002684731
         ],
         "yaxis": "y"
        },
        {
         "hovertemplate": "date=2020-07-12<br>pc1=%{x}<br>pc2=%{y}<extra></extra>",
         "legendgroup": "2020-07-12",
         "marker": {
          "color": "#B6E880",
          "symbol": "circle"
         },
         "mode": "markers",
         "name": "2020-07-12",
         "showlegend": true,
         "type": "scattergl",
         "x": [
          -25.440724611831676
         ],
         "xaxis": "x",
         "y": [
          -1.0800435753796807
         ],
         "yaxis": "y"
        },
        {
         "hovertemplate": "date=2020-07-13<br>pc1=%{x}<br>pc2=%{y}<extra></extra>",
         "legendgroup": "2020-07-13",
         "marker": {
          "color": "#FF97FF",
          "symbol": "circle"
         },
         "mode": "markers",
         "name": "2020-07-13",
         "showlegend": true,
         "type": "scattergl",
         "x": [
          3.478526489076404
         ],
         "xaxis": "x",
         "y": [
          -2.2323704549467407
         ],
         "yaxis": "y"
        },
        {
         "hovertemplate": "date=2020-07-14<br>pc1=%{x}<br>pc2=%{y}<extra></extra>",
         "legendgroup": "2020-07-14",
         "marker": {
          "color": "#FECB52",
          "symbol": "circle"
         },
         "mode": "markers",
         "name": "2020-07-14",
         "showlegend": true,
         "type": "scattergl",
         "x": [
          10.077652755227964
         ],
         "xaxis": "x",
         "y": [
          -0.2822896380718502
         ],
         "yaxis": "y"
        },
        {
         "hovertemplate": "date=2020-07-15<br>pc1=%{x}<br>pc2=%{y}<extra></extra>",
         "legendgroup": "2020-07-15",
         "marker": {
          "color": "#636efa",
          "symbol": "circle"
         },
         "mode": "markers",
         "name": "2020-07-15",
         "showlegend": true,
         "type": "scattergl",
         "x": [
          7.182311353852428
         ],
         "xaxis": "x",
         "y": [
          -5.860457927969119
         ],
         "yaxis": "y"
        },
        {
         "hovertemplate": "date=2020-07-16<br>pc1=%{x}<br>pc2=%{y}<extra></extra>",
         "legendgroup": "2020-07-16",
         "marker": {
          "color": "#EF553B",
          "symbol": "circle"
         },
         "mode": "markers",
         "name": "2020-07-16",
         "showlegend": true,
         "type": "scattergl",
         "x": [
          8.166859245722842
         ],
         "xaxis": "x",
         "y": [
          -2.3697656072882585
         ],
         "yaxis": "y"
        },
        {
         "hovertemplate": "date=2020-07-17<br>pc1=%{x}<br>pc2=%{y}<extra></extra>",
         "legendgroup": "2020-07-17",
         "marker": {
          "color": "#00cc96",
          "symbol": "circle"
         },
         "mode": "markers",
         "name": "2020-07-17",
         "showlegend": true,
         "type": "scattergl",
         "x": [
          -0.5970197240633579
         ],
         "xaxis": "x",
         "y": [
          -13.037036184431088
         ],
         "yaxis": "y"
        },
        {
         "hovertemplate": "date=2020-07-18<br>pc1=%{x}<br>pc2=%{y}<extra></extra>",
         "legendgroup": "2020-07-18",
         "marker": {
          "color": "#ab63fa",
          "symbol": "circle"
         },
         "mode": "markers",
         "name": "2020-07-18",
         "showlegend": true,
         "type": "scattergl",
         "x": [
          -11.875977290545837
         ],
         "xaxis": "x",
         "y": [
          8.151622574012446
         ],
         "yaxis": "y"
        },
        {
         "hovertemplate": "date=2020-07-19<br>pc1=%{x}<br>pc2=%{y}<extra></extra>",
         "legendgroup": "2020-07-19",
         "marker": {
          "color": "#FFA15A",
          "symbol": "circle"
         },
         "mode": "markers",
         "name": "2020-07-19",
         "showlegend": true,
         "type": "scattergl",
         "x": [
          -18.952245274042184
         ],
         "xaxis": "x",
         "y": [
          6.625926264107214
         ],
         "yaxis": "y"
        },
        {
         "hovertemplate": "date=2020-07-20<br>pc1=%{x}<br>pc2=%{y}<extra></extra>",
         "legendgroup": "2020-07-20",
         "marker": {
          "color": "#19d3f3",
          "symbol": "circle"
         },
         "mode": "markers",
         "name": "2020-07-20",
         "showlegend": true,
         "type": "scattergl",
         "x": [
          6.066689040291632
         ],
         "xaxis": "x",
         "y": [
          1.5570744013272968
         ],
         "yaxis": "y"
        },
        {
         "hovertemplate": "date=2020-07-21<br>pc1=%{x}<br>pc2=%{y}<extra></extra>",
         "legendgroup": "2020-07-21",
         "marker": {
          "color": "#FF6692",
          "symbol": "circle"
         },
         "mode": "markers",
         "name": "2020-07-21",
         "showlegend": true,
         "type": "scattergl",
         "x": [
          9.752624990530888
         ],
         "xaxis": "x",
         "y": [
          -1.5321170732898197
         ],
         "yaxis": "y"
        },
        {
         "hovertemplate": "date=2020-07-22<br>pc1=%{x}<br>pc2=%{y}<extra></extra>",
         "legendgroup": "2020-07-22",
         "marker": {
          "color": "#B6E880",
          "symbol": "circle"
         },
         "mode": "markers",
         "name": "2020-07-22",
         "showlegend": true,
         "type": "scattergl",
         "x": [
          10.068274628021896
         ],
         "xaxis": "x",
         "y": [
          0.15219119792197675
         ],
         "yaxis": "y"
        },
        {
         "hovertemplate": "date=2020-07-23<br>pc1=%{x}<br>pc2=%{y}<extra></extra>",
         "legendgroup": "2020-07-23",
         "marker": {
          "color": "#FF97FF",
          "symbol": "circle"
         },
         "mode": "markers",
         "name": "2020-07-23",
         "showlegend": true,
         "type": "scattergl",
         "x": [
          9.386788979389046
         ],
         "xaxis": "x",
         "y": [
          -0.6574881318666176
         ],
         "yaxis": "y"
        },
        {
         "hovertemplate": "date=2020-07-24<br>pc1=%{x}<br>pc2=%{y}<extra></extra>",
         "legendgroup": "2020-07-24",
         "marker": {
          "color": "#FECB52",
          "symbol": "circle"
         },
         "mode": "markers",
         "name": "2020-07-24",
         "showlegend": true,
         "type": "scattergl",
         "x": [
          5.900795076673529
         ],
         "xaxis": "x",
         "y": [
          -2.7165685529378654
         ],
         "yaxis": "y"
        },
        {
         "hovertemplate": "date=2020-07-25<br>pc1=%{x}<br>pc2=%{y}<extra></extra>",
         "legendgroup": "2020-07-25",
         "marker": {
          "color": "#636efa",
          "symbol": "circle"
         },
         "mode": "markers",
         "name": "2020-07-25",
         "showlegend": true,
         "type": "scattergl",
         "x": [
          -12.015293539157035
         ],
         "xaxis": "x",
         "y": [
          9.204051739834727
         ],
         "yaxis": "y"
        },
        {
         "hovertemplate": "date=2020-07-26<br>pc1=%{x}<br>pc2=%{y}<extra></extra>",
         "legendgroup": "2020-07-26",
         "marker": {
          "color": "#EF553B",
          "symbol": "circle"
         },
         "mode": "markers",
         "name": "2020-07-26",
         "showlegend": true,
         "type": "scattergl",
         "x": [
          -18.112431640974762
         ],
         "xaxis": "x",
         "y": [
          10.450805040107758
         ],
         "yaxis": "y"
        },
        {
         "hovertemplate": "date=2020-07-27<br>pc1=%{x}<br>pc2=%{y}<extra></extra>",
         "legendgroup": "2020-07-27",
         "marker": {
          "color": "#00cc96",
          "symbol": "circle"
         },
         "mode": "markers",
         "name": "2020-07-27",
         "showlegend": true,
         "type": "scattergl",
         "x": [
          7.564031545826369
         ],
         "xaxis": "x",
         "y": [
          2.347155587359147
         ],
         "yaxis": "y"
        },
        {
         "hovertemplate": "date=2020-07-28<br>pc1=%{x}<br>pc2=%{y}<extra></extra>",
         "legendgroup": "2020-07-28",
         "marker": {
          "color": "#ab63fa",
          "symbol": "circle"
         },
         "mode": "markers",
         "name": "2020-07-28",
         "showlegend": true,
         "type": "scattergl",
         "x": [
          11.243294797375627
         ],
         "xaxis": "x",
         "y": [
          1.6651180145478426
         ],
         "yaxis": "y"
        },
        {
         "hovertemplate": "date=2020-07-29<br>pc1=%{x}<br>pc2=%{y}<extra></extra>",
         "legendgroup": "2020-07-29",
         "marker": {
          "color": "#FFA15A",
          "symbol": "circle"
         },
         "mode": "markers",
         "name": "2020-07-29",
         "showlegend": true,
         "type": "scattergl",
         "x": [
          7.9704496937543405
         ],
         "xaxis": "x",
         "y": [
          -3.1258489083746435
         ],
         "yaxis": "y"
        },
        {
         "hovertemplate": "date=2020-07-30<br>pc1=%{x}<br>pc2=%{y}<extra></extra>",
         "legendgroup": "2020-07-30",
         "marker": {
          "color": "#19d3f3",
          "symbol": "circle"
         },
         "mode": "markers",
         "name": "2020-07-30",
         "showlegend": true,
         "type": "scattergl",
         "x": [
          8.928045100678288
         ],
         "xaxis": "x",
         "y": [
          -2.0453186556336447
         ],
         "yaxis": "y"
        },
        {
         "hovertemplate": "date=2020-07-31<br>pc1=%{x}<br>pc2=%{y}<extra></extra>",
         "legendgroup": "2020-07-31",
         "marker": {
          "color": "#FF6692",
          "symbol": "circle"
         },
         "mode": "markers",
         "name": "2020-07-31",
         "showlegend": true,
         "type": "scattergl",
         "x": [
          6.489918182380994
         ],
         "xaxis": "x",
         "y": [
          -1.1827803209425891
         ],
         "yaxis": "y"
        },
        {
         "hovertemplate": "date=2020-08-01<br>pc1=%{x}<br>pc2=%{y}<extra></extra>",
         "legendgroup": "2020-08-01",
         "marker": {
          "color": "#B6E880",
          "symbol": "circle"
         },
         "mode": "markers",
         "name": "2020-08-01",
         "showlegend": true,
         "type": "scattergl",
         "x": [
          -11.791193207482248
         ],
         "xaxis": "x",
         "y": [
          9.347607357828263
         ],
         "yaxis": "y"
        },
        {
         "hovertemplate": "date=2020-08-02<br>pc1=%{x}<br>pc2=%{y}<extra></extra>",
         "legendgroup": "2020-08-02",
         "marker": {
          "color": "#FF97FF",
          "symbol": "circle"
         },
         "mode": "markers",
         "name": "2020-08-02",
         "showlegend": true,
         "type": "scattergl",
         "x": [
          -22.665829642305386
         ],
         "xaxis": "x",
         "y": [
          1.2077045030061406
         ],
         "yaxis": "y"
        },
        {
         "hovertemplate": "date=2020-08-03<br>pc1=%{x}<br>pc2=%{y}<extra></extra>",
         "legendgroup": "2020-08-03",
         "marker": {
          "color": "#FECB52",
          "symbol": "circle"
         },
         "mode": "markers",
         "name": "2020-08-03",
         "showlegend": true,
         "type": "scattergl",
         "x": [
          5.158620791139513
         ],
         "xaxis": "x",
         "y": [
          0.24777557612187115
         ],
         "yaxis": "y"
        },
        {
         "hovertemplate": "date=2020-08-04<br>pc1=%{x}<br>pc2=%{y}<extra></extra>",
         "legendgroup": "2020-08-04",
         "marker": {
          "color": "#636efa",
          "symbol": "circle"
         },
         "mode": "markers",
         "name": "2020-08-04",
         "showlegend": true,
         "type": "scattergl",
         "x": [
          6.213459087989615
         ],
         "xaxis": "x",
         "y": [
          -6.340600940497937
         ],
         "yaxis": "y"
        },
        {
         "hovertemplate": "date=2020-08-05<br>pc1=%{x}<br>pc2=%{y}<extra></extra>",
         "legendgroup": "2020-08-05",
         "marker": {
          "color": "#EF553B",
          "symbol": "circle"
         },
         "mode": "markers",
         "name": "2020-08-05",
         "showlegend": true,
         "type": "scattergl",
         "x": [
          9.711373557680187
         ],
         "xaxis": "x",
         "y": [
          0.29083809857785925
         ],
         "yaxis": "y"
        },
        {
         "hovertemplate": "date=2020-08-06<br>pc1=%{x}<br>pc2=%{y}<extra></extra>",
         "legendgroup": "2020-08-06",
         "marker": {
          "color": "#00cc96",
          "symbol": "circle"
         },
         "mode": "markers",
         "name": "2020-08-06",
         "showlegend": true,
         "type": "scattergl",
         "x": [
          10.28347433866494
         ],
         "xaxis": "x",
         "y": [
          0.7064830220057932
         ],
         "yaxis": "y"
        },
        {
         "hovertemplate": "date=2020-08-07<br>pc1=%{x}<br>pc2=%{y}<extra></extra>",
         "legendgroup": "2020-08-07",
         "marker": {
          "color": "#ab63fa",
          "symbol": "circle"
         },
         "mode": "markers",
         "name": "2020-08-07",
         "showlegend": true,
         "type": "scattergl",
         "x": [
          3.5035963741289775
         ],
         "xaxis": "x",
         "y": [
          -4.826435040547413
         ],
         "yaxis": "y"
        },
        {
         "hovertemplate": "date=2020-08-08<br>pc1=%{x}<br>pc2=%{y}<extra></extra>",
         "legendgroup": "2020-08-08",
         "marker": {
          "color": "#FFA15A",
          "symbol": "circle"
         },
         "mode": "markers",
         "name": "2020-08-08",
         "showlegend": true,
         "type": "scattergl",
         "x": [
          -12.533160090383781
         ],
         "xaxis": "x",
         "y": [
          10.831326406939954
         ],
         "yaxis": "y"
        },
        {
         "hovertemplate": "date=2020-08-09<br>pc1=%{x}<br>pc2=%{y}<extra></extra>",
         "legendgroup": "2020-08-09",
         "marker": {
          "color": "#19d3f3",
          "symbol": "circle"
         },
         "mode": "markers",
         "name": "2020-08-09",
         "showlegend": true,
         "type": "scattergl",
         "x": [
          -20.21578697485423
         ],
         "xaxis": "x",
         "y": [
          9.641868993582756
         ],
         "yaxis": "y"
        },
        {
         "hovertemplate": "date=2020-08-10<br>pc1=%{x}<br>pc2=%{y}<extra></extra>",
         "legendgroup": "2020-08-10",
         "marker": {
          "color": "#FF6692",
          "symbol": "circle"
         },
         "mode": "markers",
         "name": "2020-08-10",
         "showlegend": true,
         "type": "scattergl",
         "x": [
          30.372554247633474
         ],
         "xaxis": "x",
         "y": [
          27.428763578205572
         ],
         "yaxis": "y"
        },
        {
         "hovertemplate": "date=2020-08-11<br>pc1=%{x}<br>pc2=%{y}<extra></extra>",
         "legendgroup": "2020-08-11",
         "marker": {
          "color": "#B6E880",
          "symbol": "circle"
         },
         "mode": "markers",
         "name": "2020-08-11",
         "showlegend": true,
         "type": "scattergl",
         "x": [
          33.270272170371015
         ],
         "xaxis": "x",
         "y": [
          36.16327902598842
         ],
         "yaxis": "y"
        },
        {
         "hovertemplate": "date=2020-08-12<br>pc1=%{x}<br>pc2=%{y}<extra></extra>",
         "legendgroup": "2020-08-12",
         "marker": {
          "color": "#FF97FF",
          "symbol": "circle"
         },
         "mode": "markers",
         "name": "2020-08-12",
         "showlegend": true,
         "type": "scattergl",
         "x": [
          17.344553883471413
         ],
         "xaxis": "x",
         "y": [
          13.752344305821719
         ],
         "yaxis": "y"
        },
        {
         "hovertemplate": "date=2020-08-13<br>pc1=%{x}<br>pc2=%{y}<extra></extra>",
         "legendgroup": "2020-08-13",
         "marker": {
          "color": "#FECB52",
          "symbol": "circle"
         },
         "mode": "markers",
         "name": "2020-08-13",
         "showlegend": true,
         "type": "scattergl",
         "x": [
          4.787174362042644
         ],
         "xaxis": "x",
         "y": [
          -5.4234533927330295
         ],
         "yaxis": "y"
        },
        {
         "hovertemplate": "date=2020-08-14<br>pc1=%{x}<br>pc2=%{y}<extra></extra>",
         "legendgroup": "2020-08-14",
         "marker": {
          "color": "#636efa",
          "symbol": "circle"
         },
         "mode": "markers",
         "name": "2020-08-14",
         "showlegend": true,
         "type": "scattergl",
         "x": [
          4.868479374951277
         ],
         "xaxis": "x",
         "y": [
          -4.2144349018391765
         ],
         "yaxis": "y"
        },
        {
         "hovertemplate": "date=2020-08-15<br>pc1=%{x}<br>pc2=%{y}<extra></extra>",
         "legendgroup": "2020-08-15",
         "marker": {
          "color": "#EF553B",
          "symbol": "circle"
         },
         "mode": "markers",
         "name": "2020-08-15",
         "showlegend": true,
         "type": "scattergl",
         "x": [
          -15.987040423547164
         ],
         "xaxis": "x",
         "y": [
          1.0495139794445114
         ],
         "yaxis": "y"
        },
        {
         "hovertemplate": "date=2020-08-16<br>pc1=%{x}<br>pc2=%{y}<extra></extra>",
         "legendgroup": "2020-08-16",
         "marker": {
          "color": "#00cc96",
          "symbol": "circle"
         },
         "mode": "markers",
         "name": "2020-08-16",
         "showlegend": true,
         "type": "scattergl",
         "x": [
          -21.172233757757233
         ],
         "xaxis": "x",
         "y": [
          5.950667010133506
         ],
         "yaxis": "y"
        },
        {
         "hovertemplate": "date=2020-08-17<br>pc1=%{x}<br>pc2=%{y}<extra></extra>",
         "legendgroup": "2020-08-17",
         "marker": {
          "color": "#ab63fa",
          "symbol": "circle"
         },
         "mode": "markers",
         "name": "2020-08-17",
         "showlegend": true,
         "type": "scattergl",
         "x": [
          6.046024732611261
         ],
         "xaxis": "x",
         "y": [
          1.7357926531290908
         ],
         "yaxis": "y"
        },
        {
         "hovertemplate": "date=2020-08-18<br>pc1=%{x}<br>pc2=%{y}<extra></extra>",
         "legendgroup": "2020-08-18",
         "marker": {
          "color": "#FFA15A",
          "symbol": "circle"
         },
         "mode": "markers",
         "name": "2020-08-18",
         "showlegend": true,
         "type": "scattergl",
         "x": [
          8.96644403090897
         ],
         "xaxis": "x",
         "y": [
          -0.9534393608557693
         ],
         "yaxis": "y"
        },
        {
         "hovertemplate": "date=2020-08-19<br>pc1=%{x}<br>pc2=%{y}<extra></extra>",
         "legendgroup": "2020-08-19",
         "marker": {
          "color": "#19d3f3",
          "symbol": "circle"
         },
         "mode": "markers",
         "name": "2020-08-19",
         "showlegend": true,
         "type": "scattergl",
         "x": [
          10.3776163719147
         ],
         "xaxis": "x",
         "y": [
          1.6211807540026861
         ],
         "yaxis": "y"
        },
        {
         "hovertemplate": "date=2020-08-20<br>pc1=%{x}<br>pc2=%{y}<extra></extra>",
         "legendgroup": "2020-08-20",
         "marker": {
          "color": "#FF6692",
          "symbol": "circle"
         },
         "mode": "markers",
         "name": "2020-08-20",
         "showlegend": true,
         "type": "scattergl",
         "x": [
          7.064924460928548
         ],
         "xaxis": "x",
         "y": [
          -3.9035911418593594
         ],
         "yaxis": "y"
        },
        {
         "hovertemplate": "date=2020-08-21<br>pc1=%{x}<br>pc2=%{y}<extra></extra>",
         "legendgroup": "2020-08-21",
         "marker": {
          "color": "#B6E880",
          "symbol": "circle"
         },
         "mode": "markers",
         "name": "2020-08-21",
         "showlegend": true,
         "type": "scattergl",
         "x": [
          8.951632379262938
         ],
         "xaxis": "x",
         "y": [
          1.707958218697558
         ],
         "yaxis": "y"
        },
        {
         "hovertemplate": "date=2020-08-22<br>pc1=%{x}<br>pc2=%{y}<extra></extra>",
         "legendgroup": "2020-08-22",
         "marker": {
          "color": "#FF97FF",
          "symbol": "circle"
         },
         "mode": "markers",
         "name": "2020-08-22",
         "showlegend": true,
         "type": "scattergl",
         "x": [
          -12.989597442492643
         ],
         "xaxis": "x",
         "y": [
          6.861330852020966
         ],
         "yaxis": "y"
        },
        {
         "hovertemplate": "date=2020-08-23<br>pc1=%{x}<br>pc2=%{y}<extra></extra>",
         "legendgroup": "2020-08-23",
         "marker": {
          "color": "#FECB52",
          "symbol": "circle"
         },
         "mode": "markers",
         "name": "2020-08-23",
         "showlegend": true,
         "type": "scattergl",
         "x": [
          -16.81411512850137
         ],
         "xaxis": "x",
         "y": [
          10.983781614384183
         ],
         "yaxis": "y"
        },
        {
         "hovertemplate": "date=2020-08-24<br>pc1=%{x}<br>pc2=%{y}<extra></extra>",
         "legendgroup": "2020-08-24",
         "marker": {
          "color": "#636efa",
          "symbol": "circle"
         },
         "mode": "markers",
         "name": "2020-08-24",
         "showlegend": true,
         "type": "scattergl",
         "x": [
          7.1631957631000835
         ],
         "xaxis": "x",
         "y": [
          2.178031239969798
         ],
         "yaxis": "y"
        },
        {
         "hovertemplate": "date=2020-08-25<br>pc1=%{x}<br>pc2=%{y}<extra></extra>",
         "legendgroup": "2020-08-25",
         "marker": {
          "color": "#EF553B",
          "symbol": "circle"
         },
         "mode": "markers",
         "name": "2020-08-25",
         "showlegend": true,
         "type": "scattergl",
         "x": [
          0.3050712485785507
         ],
         "xaxis": "x",
         "y": [
          -16.54302389484326
         ],
         "yaxis": "y"
        },
        {
         "hovertemplate": "date=2020-08-26<br>pc1=%{x}<br>pc2=%{y}<extra></extra>",
         "legendgroup": "2020-08-26",
         "marker": {
          "color": "#00cc96",
          "symbol": "circle"
         },
         "mode": "markers",
         "name": "2020-08-26",
         "showlegend": true,
         "type": "scattergl",
         "x": [
          6.0164435872657265
         ],
         "xaxis": "x",
         "y": [
          -5.751946261069693
         ],
         "yaxis": "y"
        },
        {
         "hovertemplate": "date=2020-08-27<br>pc1=%{x}<br>pc2=%{y}<extra></extra>",
         "legendgroup": "2020-08-27",
         "marker": {
          "color": "#ab63fa",
          "symbol": "circle"
         },
         "mode": "markers",
         "name": "2020-08-27",
         "showlegend": true,
         "type": "scattergl",
         "x": [
          11.386477192035482
         ],
         "xaxis": "x",
         "y": [
          2.482760366583343
         ],
         "yaxis": "y"
        },
        {
         "hovertemplate": "date=2020-08-28<br>pc1=%{x}<br>pc2=%{y}<extra></extra>",
         "legendgroup": "2020-08-28",
         "marker": {
          "color": "#FFA15A",
          "symbol": "circle"
         },
         "mode": "markers",
         "name": "2020-08-28",
         "showlegend": true,
         "type": "scattergl",
         "x": [
          6.348580208841296
         ],
         "xaxis": "x",
         "y": [
          -3.42415330424044
         ],
         "yaxis": "y"
        },
        {
         "hovertemplate": "date=2020-08-29<br>pc1=%{x}<br>pc2=%{y}<extra></extra>",
         "legendgroup": "2020-08-29",
         "marker": {
          "color": "#19d3f3",
          "symbol": "circle"
         },
         "mode": "markers",
         "name": "2020-08-29",
         "showlegend": true,
         "type": "scattergl",
         "x": [
          -11.45978865013787
         ],
         "xaxis": "x",
         "y": [
          9.24600278847913
         ],
         "yaxis": "y"
        },
        {
         "hovertemplate": "date=2020-08-30<br>pc1=%{x}<br>pc2=%{y}<extra></extra>",
         "legendgroup": "2020-08-30",
         "marker": {
          "color": "#FF6692",
          "symbol": "circle"
         },
         "mode": "markers",
         "name": "2020-08-30",
         "showlegend": true,
         "type": "scattergl",
         "x": [
          -19.38362195625991
         ],
         "xaxis": "x",
         "y": [
          7.776544003879473
         ],
         "yaxis": "y"
        },
        {
         "hovertemplate": "date=2020-08-31<br>pc1=%{x}<br>pc2=%{y}<extra></extra>",
         "legendgroup": "2020-08-31",
         "marker": {
          "color": "#B6E880",
          "symbol": "circle"
         },
         "mode": "markers",
         "name": "2020-08-31",
         "showlegend": true,
         "type": "scattergl",
         "x": [
          7.140066991889051
         ],
         "xaxis": "x",
         "y": [
          2.364739245650265
         ],
         "yaxis": "y"
        },
        {
         "hovertemplate": "date=2020-09-01<br>pc1=%{x}<br>pc2=%{y}<extra></extra>",
         "legendgroup": "2020-09-01",
         "marker": {
          "color": "#FF97FF",
          "symbol": "circle"
         },
         "mode": "markers",
         "name": "2020-09-01",
         "showlegend": true,
         "type": "scattergl",
         "x": [
          5.491163517232627
         ],
         "xaxis": "x",
         "y": [
          -9.073673284720371
         ],
         "yaxis": "y"
        },
        {
         "hovertemplate": "date=2020-09-02<br>pc1=%{x}<br>pc2=%{y}<extra></extra>",
         "legendgroup": "2020-09-02",
         "marker": {
          "color": "#FECB52",
          "symbol": "circle"
         },
         "mode": "markers",
         "name": "2020-09-02",
         "showlegend": true,
         "type": "scattergl",
         "x": [
          9.080578796430379
         ],
         "xaxis": "x",
         "y": [
          0.0016227653189717802
         ],
         "yaxis": "y"
        },
        {
         "hovertemplate": "date=2020-09-03<br>pc1=%{x}<br>pc2=%{y}<extra></extra>",
         "legendgroup": "2020-09-03",
         "marker": {
          "color": "#636efa",
          "symbol": "circle"
         },
         "mode": "markers",
         "name": "2020-09-03",
         "showlegend": true,
         "type": "scattergl",
         "x": [
          8.851037652216835
         ],
         "xaxis": "x",
         "y": [
          0.045790170682198976
         ],
         "yaxis": "y"
        },
        {
         "hovertemplate": "date=2020-09-04<br>pc1=%{x}<br>pc2=%{y}<extra></extra>",
         "legendgroup": "2020-09-04",
         "marker": {
          "color": "#EF553B",
          "symbol": "circle"
         },
         "mode": "markers",
         "name": "2020-09-04",
         "showlegend": true,
         "type": "scattergl",
         "x": [
          4.439000068653651
         ],
         "xaxis": "x",
         "y": [
          -1.6623958078844852
         ],
         "yaxis": "y"
        },
        {
         "hovertemplate": "date=2020-09-05<br>pc1=%{x}<br>pc2=%{y}<extra></extra>",
         "legendgroup": "2020-09-05",
         "marker": {
          "color": "#00cc96",
          "symbol": "circle"
         },
         "mode": "markers",
         "name": "2020-09-05",
         "showlegend": true,
         "type": "scattergl",
         "x": [
          -14.011365588219993
         ],
         "xaxis": "x",
         "y": [
          10.040693789314133
         ],
         "yaxis": "y"
        },
        {
         "hovertemplate": "date=2020-09-06<br>pc1=%{x}<br>pc2=%{y}<extra></extra>",
         "legendgroup": "2020-09-06",
         "marker": {
          "color": "#ab63fa",
          "symbol": "circle"
         },
         "mode": "markers",
         "name": "2020-09-06",
         "showlegend": true,
         "type": "scattergl",
         "x": [
          -20.65023785592513
         ],
         "xaxis": "x",
         "y": [
          7.220797504903634
         ],
         "yaxis": "y"
        },
        {
         "hovertemplate": "date=2020-09-07<br>pc1=%{x}<br>pc2=%{y}<extra></extra>",
         "legendgroup": "2020-09-07",
         "marker": {
          "color": "#FFA15A",
          "symbol": "circle"
         },
         "mode": "markers",
         "name": "2020-09-07",
         "showlegend": true,
         "type": "scattergl",
         "x": [
          12.103242221163148
         ],
         "xaxis": "x",
         "y": [
          -4.404210881818646
         ],
         "yaxis": "y"
        },
        {
         "hovertemplate": "date=2020-09-08<br>pc1=%{x}<br>pc2=%{y}<extra></extra>",
         "legendgroup": "2020-09-08",
         "marker": {
          "color": "#19d3f3",
          "symbol": "circle"
         },
         "mode": "markers",
         "name": "2020-09-08",
         "showlegend": true,
         "type": "scattergl",
         "x": [
          10.714214089205578
         ],
         "xaxis": "x",
         "y": [
          -0.7475172475103342
         ],
         "yaxis": "y"
        },
        {
         "hovertemplate": "date=2020-09-09<br>pc1=%{x}<br>pc2=%{y}<extra></extra>",
         "legendgroup": "2020-09-09",
         "marker": {
          "color": "#FF6692",
          "symbol": "circle"
         },
         "mode": "markers",
         "name": "2020-09-09",
         "showlegend": true,
         "type": "scattergl",
         "x": [
          6.539400517855531
         ],
         "xaxis": "x",
         "y": [
          -1.315677194108312
         ],
         "yaxis": "y"
        },
        {
         "hovertemplate": "date=2020-09-10<br>pc1=%{x}<br>pc2=%{y}<extra></extra>",
         "legendgroup": "2020-09-10",
         "marker": {
          "color": "#B6E880",
          "symbol": "circle"
         },
         "mode": "markers",
         "name": "2020-09-10",
         "showlegend": true,
         "type": "scattergl",
         "x": [
          8.302315360775257
         ],
         "xaxis": "x",
         "y": [
          1.826665460788563
         ],
         "yaxis": "y"
        },
        {
         "hovertemplate": "date=2020-09-11<br>pc1=%{x}<br>pc2=%{y}<extra></extra>",
         "legendgroup": "2020-09-11",
         "marker": {
          "color": "#FF97FF",
          "symbol": "circle"
         },
         "mode": "markers",
         "name": "2020-09-11",
         "showlegend": true,
         "type": "scattergl",
         "x": [
          6.169638114578689
         ],
         "xaxis": "x",
         "y": [
          -1.5953412394144162
         ],
         "yaxis": "y"
        },
        {
         "hovertemplate": "date=2020-09-12<br>pc1=%{x}<br>pc2=%{y}<extra></extra>",
         "legendgroup": "2020-09-12",
         "marker": {
          "color": "#FECB52",
          "symbol": "circle"
         },
         "mode": "markers",
         "name": "2020-09-12",
         "showlegend": true,
         "type": "scattergl",
         "x": [
          -9.520394983756344
         ],
         "xaxis": "x",
         "y": [
          9.321381442646503
         ],
         "yaxis": "y"
        },
        {
         "hovertemplate": "date=2020-09-13<br>pc1=%{x}<br>pc2=%{y}<extra></extra>",
         "legendgroup": "2020-09-13",
         "marker": {
          "color": "#636efa",
          "symbol": "circle"
         },
         "mode": "markers",
         "name": "2020-09-13",
         "showlegend": true,
         "type": "scattergl",
         "x": [
          -17.109304778610632
         ],
         "xaxis": "x",
         "y": [
          12.207601509516415
         ],
         "yaxis": "y"
        },
        {
         "hovertemplate": "date=2020-09-14<br>pc1=%{x}<br>pc2=%{y}<extra></extra>",
         "legendgroup": "2020-09-14",
         "marker": {
          "color": "#EF553B",
          "symbol": "circle"
         },
         "mode": "markers",
         "name": "2020-09-14",
         "showlegend": true,
         "type": "scattergl",
         "x": [
          5.3737221297584075
         ],
         "xaxis": "x",
         "y": [
          -0.4249022754660529
         ],
         "yaxis": "y"
        },
        {
         "hovertemplate": "date=2020-09-15<br>pc1=%{x}<br>pc2=%{y}<extra></extra>",
         "legendgroup": "2020-09-15",
         "marker": {
          "color": "#00cc96",
          "symbol": "circle"
         },
         "mode": "markers",
         "name": "2020-09-15",
         "showlegend": true,
         "type": "scattergl",
         "x": [
          8.912500991961537
         ],
         "xaxis": "x",
         "y": [
          -1.3747367194681135
         ],
         "yaxis": "y"
        },
        {
         "hovertemplate": "date=2020-09-16<br>pc1=%{x}<br>pc2=%{y}<extra></extra>",
         "legendgroup": "2020-09-16",
         "marker": {
          "color": "#ab63fa",
          "symbol": "circle"
         },
         "mode": "markers",
         "name": "2020-09-16",
         "showlegend": true,
         "type": "scattergl",
         "x": [
          6.056370849468178
         ],
         "xaxis": "x",
         "y": [
          -4.176811468906642
         ],
         "yaxis": "y"
        },
        {
         "hovertemplate": "date=2020-09-17<br>pc1=%{x}<br>pc2=%{y}<extra></extra>",
         "legendgroup": "2020-09-17",
         "marker": {
          "color": "#FFA15A",
          "symbol": "circle"
         },
         "mode": "markers",
         "name": "2020-09-17",
         "showlegend": true,
         "type": "scattergl",
         "x": [
          7.19110083915932
         ],
         "xaxis": "x",
         "y": [
          -3.8350774467647546
         ],
         "yaxis": "y"
        },
        {
         "hovertemplate": "date=2020-09-18<br>pc1=%{x}<br>pc2=%{y}<extra></extra>",
         "legendgroup": "2020-09-18",
         "marker": {
          "color": "#19d3f3",
          "symbol": "circle"
         },
         "mode": "markers",
         "name": "2020-09-18",
         "showlegend": true,
         "type": "scattergl",
         "x": [
          8.433448858172788
         ],
         "xaxis": "x",
         "y": [
          1.1726333439701153
         ],
         "yaxis": "y"
        },
        {
         "hovertemplate": "date=2020-09-19<br>pc1=%{x}<br>pc2=%{y}<extra></extra>",
         "legendgroup": "2020-09-19",
         "marker": {
          "color": "#FF6692",
          "symbol": "circle"
         },
         "mode": "markers",
         "name": "2020-09-19",
         "showlegend": true,
         "type": "scattergl",
         "x": [
          -17.155885592774354
         ],
         "xaxis": "x",
         "y": [
          0.9467403018537944
         ],
         "yaxis": "y"
        },
        {
         "hovertemplate": "date=2020-09-20<br>pc1=%{x}<br>pc2=%{y}<extra></extra>",
         "legendgroup": "2020-09-20",
         "marker": {
          "color": "#B6E880",
          "symbol": "circle"
         },
         "mode": "markers",
         "name": "2020-09-20",
         "showlegend": true,
         "type": "scattergl",
         "x": [
          -17.859422374738593
         ],
         "xaxis": "x",
         "y": [
          8.890858296902081
         ],
         "yaxis": "y"
        },
        {
         "hovertemplate": "date=2020-09-21<br>pc1=%{x}<br>pc2=%{y}<extra></extra>",
         "legendgroup": "2020-09-21",
         "marker": {
          "color": "#FF97FF",
          "symbol": "circle"
         },
         "mode": "markers",
         "name": "2020-09-21",
         "showlegend": true,
         "type": "scattergl",
         "x": [
          4.632270117826773
         ],
         "xaxis": "x",
         "y": [
          -2.265373516543746
         ],
         "yaxis": "y"
        },
        {
         "hovertemplate": "date=2020-09-22<br>pc1=%{x}<br>pc2=%{y}<extra></extra>",
         "legendgroup": "2020-09-22",
         "marker": {
          "color": "#FECB52",
          "symbol": "circle"
         },
         "mode": "markers",
         "name": "2020-09-22",
         "showlegend": true,
         "type": "scattergl",
         "x": [
          11.523383791090069
         ],
         "xaxis": "x",
         "y": [
          2.118029653837764
         ],
         "yaxis": "y"
        },
        {
         "hovertemplate": "date=2020-09-23<br>pc1=%{x}<br>pc2=%{y}<extra></extra>",
         "legendgroup": "2020-09-23",
         "marker": {
          "color": "#636efa",
          "symbol": "circle"
         },
         "mode": "markers",
         "name": "2020-09-23",
         "showlegend": true,
         "type": "scattergl",
         "x": [
          7.665658023128413
         ],
         "xaxis": "x",
         "y": [
          -2.5815321368278834
         ],
         "yaxis": "y"
        },
        {
         "hovertemplate": "date=2020-09-24<br>pc1=%{x}<br>pc2=%{y}<extra></extra>",
         "legendgroup": "2020-09-24",
         "marker": {
          "color": "#EF553B",
          "symbol": "circle"
         },
         "mode": "markers",
         "name": "2020-09-24",
         "showlegend": true,
         "type": "scattergl",
         "x": [
          9.683756221719221
         ],
         "xaxis": "x",
         "y": [
          -0.47564518677738327
         ],
         "yaxis": "y"
        },
        {
         "hovertemplate": "date=2020-09-25<br>pc1=%{x}<br>pc2=%{y}<extra></extra>",
         "legendgroup": "2020-09-25",
         "marker": {
          "color": "#00cc96",
          "symbol": "circle"
         },
         "mode": "markers",
         "name": "2020-09-25",
         "showlegend": true,
         "type": "scattergl",
         "x": [
          5.803327312427549
         ],
         "xaxis": "x",
         "y": [
          -2.23655935127755
         ],
         "yaxis": "y"
        },
        {
         "hovertemplate": "date=2020-09-26<br>pc1=%{x}<br>pc2=%{y}<extra></extra>",
         "legendgroup": "2020-09-26",
         "marker": {
          "color": "#ab63fa",
          "symbol": "circle"
         },
         "mode": "markers",
         "name": "2020-09-26",
         "showlegend": true,
         "type": "scattergl",
         "x": [
          -13.223945669082521
         ],
         "xaxis": "x",
         "y": [
          7.083083352586832
         ],
         "yaxis": "y"
        },
        {
         "hovertemplate": "date=2020-09-27<br>pc1=%{x}<br>pc2=%{y}<extra></extra>",
         "legendgroup": "2020-09-27",
         "marker": {
          "color": "#FFA15A",
          "symbol": "circle"
         },
         "mode": "markers",
         "name": "2020-09-27",
         "showlegend": true,
         "type": "scattergl",
         "x": [
          -15.91651096998454
         ],
         "xaxis": "x",
         "y": [
          12.08104353606511
         ],
         "yaxis": "y"
        },
        {
         "hovertemplate": "date=2020-09-28<br>pc1=%{x}<br>pc2=%{y}<extra></extra>",
         "legendgroup": "2020-09-28",
         "marker": {
          "color": "#19d3f3",
          "symbol": "circle"
         },
         "mode": "markers",
         "name": "2020-09-28",
         "showlegend": true,
         "type": "scattergl",
         "x": [
          7.007535756232965
         ],
         "xaxis": "x",
         "y": [
          0.8388766994251611
         ],
         "yaxis": "y"
        },
        {
         "hovertemplate": "date=2020-09-29<br>pc1=%{x}<br>pc2=%{y}<extra></extra>",
         "legendgroup": "2020-09-29",
         "marker": {
          "color": "#FF6692",
          "symbol": "circle"
         },
         "mode": "markers",
         "name": "2020-09-29",
         "showlegend": true,
         "type": "scattergl",
         "x": [
          10.656022979737966
         ],
         "xaxis": "x",
         "y": [
          0.8951584242541499
         ],
         "yaxis": "y"
        },
        {
         "hovertemplate": "date=2020-09-30<br>pc1=%{x}<br>pc2=%{y}<extra></extra>",
         "legendgroup": "2020-09-30",
         "marker": {
          "color": "#B6E880",
          "symbol": "circle"
         },
         "mode": "markers",
         "name": "2020-09-30",
         "showlegend": true,
         "type": "scattergl",
         "x": [
          9.012264276879428
         ],
         "xaxis": "x",
         "y": [
          -0.6605708429801168
         ],
         "yaxis": "y"
        },
        {
         "hovertemplate": "date=2020-10-01<br>pc1=%{x}<br>pc2=%{y}<extra></extra>",
         "legendgroup": "2020-10-01",
         "marker": {
          "color": "#FF97FF",
          "symbol": "circle"
         },
         "mode": "markers",
         "name": "2020-10-01",
         "showlegend": true,
         "type": "scattergl",
         "x": [
          11.10750612122677
         ],
         "xaxis": "x",
         "y": [
          2.9927223509911864
         ],
         "yaxis": "y"
        },
        {
         "hovertemplate": "date=2020-10-02<br>pc1=%{x}<br>pc2=%{y}<extra></extra>",
         "legendgroup": "2020-10-02",
         "marker": {
          "color": "#FECB52",
          "symbol": "circle"
         },
         "mode": "markers",
         "name": "2020-10-02",
         "showlegend": true,
         "type": "scattergl",
         "x": [
          6.411648289263768
         ],
         "xaxis": "x",
         "y": [
          -0.36893208600329225
         ],
         "yaxis": "y"
        },
        {
         "hovertemplate": "date=2020-10-03<br>pc1=%{x}<br>pc2=%{y}<extra></extra>",
         "legendgroup": "2020-10-03",
         "marker": {
          "color": "#636efa",
          "symbol": "circle"
         },
         "mode": "markers",
         "name": "2020-10-03",
         "showlegend": true,
         "type": "scattergl",
         "x": [
          -10.185139634958787
         ],
         "xaxis": "x",
         "y": [
          10.818468913142734
         ],
         "yaxis": "y"
        },
        {
         "hovertemplate": "date=2020-10-04<br>pc1=%{x}<br>pc2=%{y}<extra></extra>",
         "legendgroup": "2020-10-04",
         "marker": {
          "color": "#EF553B",
          "symbol": "circle"
         },
         "mode": "markers",
         "name": "2020-10-04",
         "showlegend": true,
         "type": "scattergl",
         "x": [
          -16.55514502403019
         ],
         "xaxis": "x",
         "y": [
          9.863958891020665
         ],
         "yaxis": "y"
        },
        {
         "hovertemplate": "date=2020-10-05<br>pc1=%{x}<br>pc2=%{y}<extra></extra>",
         "legendgroup": "2020-10-05",
         "marker": {
          "color": "#00cc96",
          "symbol": "circle"
         },
         "mode": "markers",
         "name": "2020-10-05",
         "showlegend": true,
         "type": "scattergl",
         "x": [
          7.626334727990817
         ],
         "xaxis": "x",
         "y": [
          3.0490929969526346
         ],
         "yaxis": "y"
        },
        {
         "hovertemplate": "date=2020-10-06<br>pc1=%{x}<br>pc2=%{y}<extra></extra>",
         "legendgroup": "2020-10-06",
         "marker": {
          "color": "#ab63fa",
          "symbol": "circle"
         },
         "mode": "markers",
         "name": "2020-10-06",
         "showlegend": true,
         "type": "scattergl",
         "x": [
          9.623216433852756
         ],
         "xaxis": "x",
         "y": [
          -1.3037470228304642
         ],
         "yaxis": "y"
        },
        {
         "hovertemplate": "date=2020-10-07<br>pc1=%{x}<br>pc2=%{y}<extra></extra>",
         "legendgroup": "2020-10-07",
         "marker": {
          "color": "#FFA15A",
          "symbol": "circle"
         },
         "mode": "markers",
         "name": "2020-10-07",
         "showlegend": true,
         "type": "scattergl",
         "x": [
          9.73803717805924
         ],
         "xaxis": "x",
         "y": [
          0.6484793262784873
         ],
         "yaxis": "y"
        },
        {
         "hovertemplate": "date=2020-10-08<br>pc1=%{x}<br>pc2=%{y}<extra></extra>",
         "legendgroup": "2020-10-08",
         "marker": {
          "color": "#19d3f3",
          "symbol": "circle"
         },
         "mode": "markers",
         "name": "2020-10-08",
         "showlegend": true,
         "type": "scattergl",
         "x": [
          8.835466339219812
         ],
         "xaxis": "x",
         "y": [
          -1.2669730457315782
         ],
         "yaxis": "y"
        },
        {
         "hovertemplate": "date=2020-10-09<br>pc1=%{x}<br>pc2=%{y}<extra></extra>",
         "legendgroup": "2020-10-09",
         "marker": {
          "color": "#FF6692",
          "symbol": "circle"
         },
         "mode": "markers",
         "name": "2020-10-09",
         "showlegend": true,
         "type": "scattergl",
         "x": [
          7.496410777018887
         ],
         "xaxis": "x",
         "y": [
          1.7389771091499902
         ],
         "yaxis": "y"
        },
        {
         "hovertemplate": "date=2020-10-10<br>pc1=%{x}<br>pc2=%{y}<extra></extra>",
         "legendgroup": "2020-10-10",
         "marker": {
          "color": "#B6E880",
          "symbol": "circle"
         },
         "mode": "markers",
         "name": "2020-10-10",
         "showlegend": true,
         "type": "scattergl",
         "x": [
          -14.138201437371304
         ],
         "xaxis": "x",
         "y": [
          5.807403636000901
         ],
         "yaxis": "y"
        },
        {
         "hovertemplate": "date=2020-10-11<br>pc1=%{x}<br>pc2=%{y}<extra></extra>",
         "legendgroup": "2020-10-11",
         "marker": {
          "color": "#FF97FF",
          "symbol": "circle"
         },
         "mode": "markers",
         "name": "2020-10-11",
         "showlegend": true,
         "type": "scattergl",
         "x": [
          -14.865026670708188
         ],
         "xaxis": "x",
         "y": [
          14.084063858287097
         ],
         "yaxis": "y"
        },
        {
         "hovertemplate": "date=2020-10-12<br>pc1=%{x}<br>pc2=%{y}<extra></extra>",
         "legendgroup": "2020-10-12",
         "marker": {
          "color": "#FECB52",
          "symbol": "circle"
         },
         "mode": "markers",
         "name": "2020-10-12",
         "showlegend": true,
         "type": "scattergl",
         "x": [
          7.288197759920775
         ],
         "xaxis": "x",
         "y": [
          -2.9638683352269917
         ],
         "yaxis": "y"
        },
        {
         "hovertemplate": "date=2020-10-13<br>pc1=%{x}<br>pc2=%{y}<extra></extra>",
         "legendgroup": "2020-10-13",
         "marker": {
          "color": "#636efa",
          "symbol": "circle"
         },
         "mode": "markers",
         "name": "2020-10-13",
         "showlegend": true,
         "type": "scattergl",
         "x": [
          10.30365472383154
         ],
         "xaxis": "x",
         "y": [
          2.0133214876081142
         ],
         "yaxis": "y"
        },
        {
         "hovertemplate": "date=2020-10-14<br>pc1=%{x}<br>pc2=%{y}<extra></extra>",
         "legendgroup": "2020-10-14",
         "marker": {
          "color": "#EF553B",
          "symbol": "circle"
         },
         "mode": "markers",
         "name": "2020-10-14",
         "showlegend": true,
         "type": "scattergl",
         "x": [
          8.280657628708799
         ],
         "xaxis": "x",
         "y": [
          -0.21844625171149126
         ],
         "yaxis": "y"
        },
        {
         "hovertemplate": "date=2020-10-15<br>pc1=%{x}<br>pc2=%{y}<extra></extra>",
         "legendgroup": "2020-10-15",
         "marker": {
          "color": "#00cc96",
          "symbol": "circle"
         },
         "mode": "markers",
         "name": "2020-10-15",
         "showlegend": true,
         "type": "scattergl",
         "x": [
          9.870788441457035
         ],
         "xaxis": "x",
         "y": [
          1.7789336297639087
         ],
         "yaxis": "y"
        },
        {
         "hovertemplate": "date=2020-10-16<br>pc1=%{x}<br>pc2=%{y}<extra></extra>",
         "legendgroup": "2020-10-16",
         "marker": {
          "color": "#ab63fa",
          "symbol": "circle"
         },
         "mode": "markers",
         "name": "2020-10-16",
         "showlegend": true,
         "type": "scattergl",
         "x": [
          8.724537063378163
         ],
         "xaxis": "x",
         "y": [
          2.1791669027295417
         ],
         "yaxis": "y"
        },
        {
         "hovertemplate": "date=2020-10-17<br>pc1=%{x}<br>pc2=%{y}<extra></extra>",
         "legendgroup": "2020-10-17",
         "marker": {
          "color": "#FFA15A",
          "symbol": "circle"
         },
         "mode": "markers",
         "name": "2020-10-17",
         "showlegend": true,
         "type": "scattergl",
         "x": [
          -14.597640244923394
         ],
         "xaxis": "x",
         "y": [
          4.326305337232033
         ],
         "yaxis": "y"
        },
        {
         "hovertemplate": "date=2020-10-18<br>pc1=%{x}<br>pc2=%{y}<extra></extra>",
         "legendgroup": "2020-10-18",
         "marker": {
          "color": "#19d3f3",
          "symbol": "circle"
         },
         "mode": "markers",
         "name": "2020-10-18",
         "showlegend": true,
         "type": "scattergl",
         "x": [
          -14.176020283605371
         ],
         "xaxis": "x",
         "y": [
          12.52869328875556
         ],
         "yaxis": "y"
        },
        {
         "hovertemplate": "date=2020-10-19<br>pc1=%{x}<br>pc2=%{y}<extra></extra>",
         "legendgroup": "2020-10-19",
         "marker": {
          "color": "#FF6692",
          "symbol": "circle"
         },
         "mode": "markers",
         "name": "2020-10-19",
         "showlegend": true,
         "type": "scattergl",
         "x": [
          6.103320174304237
         ],
         "xaxis": "x",
         "y": [
          0.3549395066111954
         ],
         "yaxis": "y"
        },
        {
         "hovertemplate": "date=2020-10-20<br>pc1=%{x}<br>pc2=%{y}<extra></extra>",
         "legendgroup": "2020-10-20",
         "marker": {
          "color": "#B6E880",
          "symbol": "circle"
         },
         "mode": "markers",
         "name": "2020-10-20",
         "showlegend": true,
         "type": "scattergl",
         "x": [
          10.766750031238853
         ],
         "xaxis": "x",
         "y": [
          1.1639178933167977
         ],
         "yaxis": "y"
        },
        {
         "hovertemplate": "date=2020-10-21<br>pc1=%{x}<br>pc2=%{y}<extra></extra>",
         "legendgroup": "2020-10-21",
         "marker": {
          "color": "#FF97FF",
          "symbol": "circle"
         },
         "mode": "markers",
         "name": "2020-10-21",
         "showlegend": true,
         "type": "scattergl",
         "x": [
          9.708018304134214
         ],
         "xaxis": "x",
         "y": [
          1.7352287285400798
         ],
         "yaxis": "y"
        },
        {
         "hovertemplate": "date=2020-10-22<br>pc1=%{x}<br>pc2=%{y}<extra></extra>",
         "legendgroup": "2020-10-22",
         "marker": {
          "color": "#FECB52",
          "symbol": "circle"
         },
         "mode": "markers",
         "name": "2020-10-22",
         "showlegend": true,
         "type": "scattergl",
         "x": [
          8.620267063155621
         ],
         "xaxis": "x",
         "y": [
          -0.4107417738868029
         ],
         "yaxis": "y"
        },
        {
         "hovertemplate": "date=2020-10-23<br>pc1=%{x}<br>pc2=%{y}<extra></extra>",
         "legendgroup": "2020-10-23",
         "marker": {
          "color": "#636efa",
          "symbol": "circle"
         },
         "mode": "markers",
         "name": "2020-10-23",
         "showlegend": true,
         "type": "scattergl",
         "x": [
          7.764836125792913
         ],
         "xaxis": "x",
         "y": [
          -2.252863093739333
         ],
         "yaxis": "y"
        },
        {
         "hovertemplate": "date=2020-10-24<br>pc1=%{x}<br>pc2=%{y}<extra></extra>",
         "legendgroup": "2020-10-24",
         "marker": {
          "color": "#EF553B",
          "symbol": "circle"
         },
         "mode": "markers",
         "name": "2020-10-24",
         "showlegend": true,
         "type": "scattergl",
         "x": [
          -10.002303832607499
         ],
         "xaxis": "x",
         "y": [
          12.727375981319904
         ],
         "yaxis": "y"
        },
        {
         "hovertemplate": "date=2020-10-25<br>pc1=%{x}<br>pc2=%{y}<extra></extra>",
         "legendgroup": "2020-10-25",
         "marker": {
          "color": "#00cc96",
          "symbol": "circle"
         },
         "mode": "markers",
         "name": "2020-10-25",
         "showlegend": true,
         "type": "scattergl",
         "x": [
          -15.978381744388136
         ],
         "xaxis": "x",
         "y": [
          12.549981384045067
         ],
         "yaxis": "y"
        },
        {
         "hovertemplate": "date=2020-10-26<br>pc1=%{x}<br>pc2=%{y}<extra></extra>",
         "legendgroup": "2020-10-26",
         "marker": {
          "color": "#ab63fa",
          "symbol": "circle"
         },
         "mode": "markers",
         "name": "2020-10-26",
         "showlegend": true,
         "type": "scattergl",
         "x": [
          7.681430726235175
         ],
         "xaxis": "x",
         "y": [
          2.7944696684585155
         ],
         "yaxis": "y"
        },
        {
         "hovertemplate": "date=2020-10-27<br>pc1=%{x}<br>pc2=%{y}<extra></extra>",
         "legendgroup": "2020-10-27",
         "marker": {
          "color": "#FFA15A",
          "symbol": "circle"
         },
         "mode": "markers",
         "name": "2020-10-27",
         "showlegend": true,
         "type": "scattergl",
         "x": [
          8.947306947126172
         ],
         "xaxis": "x",
         "y": [
          -3.0407789081461605
         ],
         "yaxis": "y"
        },
        {
         "hovertemplate": "date=2020-10-28<br>pc1=%{x}<br>pc2=%{y}<extra></extra>",
         "legendgroup": "2020-10-28",
         "marker": {
          "color": "#19d3f3",
          "symbol": "circle"
         },
         "mode": "markers",
         "name": "2020-10-28",
         "showlegend": true,
         "type": "scattergl",
         "x": [
          10.266473786275228
         ],
         "xaxis": "x",
         "y": [
          2.2710691306726045
         ],
         "yaxis": "y"
        },
        {
         "hovertemplate": "date=2020-10-29<br>pc1=%{x}<br>pc2=%{y}<extra></extra>",
         "legendgroup": "2020-10-29",
         "marker": {
          "color": "#FF6692",
          "symbol": "circle"
         },
         "mode": "markers",
         "name": "2020-10-29",
         "showlegend": true,
         "type": "scattergl",
         "x": [
          8.833177214447646
         ],
         "xaxis": "x",
         "y": [
          -1.1408326902046826
         ],
         "yaxis": "y"
        },
        {
         "hovertemplate": "date=2020-10-30<br>pc1=%{x}<br>pc2=%{y}<extra></extra>",
         "legendgroup": "2020-10-30",
         "marker": {
          "color": "#B6E880",
          "symbol": "circle"
         },
         "mode": "markers",
         "name": "2020-10-30",
         "showlegend": true,
         "type": "scattergl",
         "x": [
          6.220556685092734
         ],
         "xaxis": "x",
         "y": [
          -0.7736256238299506
         ],
         "yaxis": "y"
        },
        {
         "hovertemplate": "date=2020-10-31<br>pc1=%{x}<br>pc2=%{y}<extra></extra>",
         "legendgroup": "2020-10-31",
         "marker": {
          "color": "#FF97FF",
          "symbol": "circle"
         },
         "mode": "markers",
         "name": "2020-10-31",
         "showlegend": true,
         "type": "scattergl",
         "x": [
          -13.985042381461035
         ],
         "xaxis": "x",
         "y": [
          4.716295814755904
         ],
         "yaxis": "y"
        },
        {
         "hovertemplate": "date=2020-11-01<br>pc1=%{x}<br>pc2=%{y}<extra></extra>",
         "legendgroup": "2020-11-01",
         "marker": {
          "color": "#FECB52",
          "symbol": "circle"
         },
         "mode": "markers",
         "name": "2020-11-01",
         "showlegend": true,
         "type": "scattergl",
         "x": [
          -17.260345381812346
         ],
         "xaxis": "x",
         "y": [
          9.253495127517974
         ],
         "yaxis": "y"
        },
        {
         "hovertemplate": "date=2020-11-02<br>pc1=%{x}<br>pc2=%{y}<extra></extra>",
         "legendgroup": "2020-11-02",
         "marker": {
          "color": "#636efa",
          "symbol": "circle"
         },
         "mode": "markers",
         "name": "2020-11-02",
         "showlegend": true,
         "type": "scattergl",
         "x": [
          4.089853603673551
         ],
         "xaxis": "x",
         "y": [
          -1.232528062623596
         ],
         "yaxis": "y"
        },
        {
         "hovertemplate": "date=2020-11-03<br>pc1=%{x}<br>pc2=%{y}<extra></extra>",
         "legendgroup": "2020-11-03",
         "marker": {
          "color": "#EF553B",
          "symbol": "circle"
         },
         "mode": "markers",
         "name": "2020-11-03",
         "showlegend": true,
         "type": "scattergl",
         "x": [
          6.71648393897161
         ],
         "xaxis": "x",
         "y": [
          -6.204865836026601
         ],
         "yaxis": "y"
        },
        {
         "hovertemplate": "date=2020-11-04<br>pc1=%{x}<br>pc2=%{y}<extra></extra>",
         "legendgroup": "2020-11-04",
         "marker": {
          "color": "#00cc96",
          "symbol": "circle"
         },
         "mode": "markers",
         "name": "2020-11-04",
         "showlegend": true,
         "type": "scattergl",
         "x": [
          9.051260834320315
         ],
         "xaxis": "x",
         "y": [
          -1.5864396175953952
         ],
         "yaxis": "y"
        },
        {
         "hovertemplate": "date=2020-11-05<br>pc1=%{x}<br>pc2=%{y}<extra></extra>",
         "legendgroup": "2020-11-05",
         "marker": {
          "color": "#ab63fa",
          "symbol": "circle"
         },
         "mode": "markers",
         "name": "2020-11-05",
         "showlegend": true,
         "type": "scattergl",
         "x": [
          6.138712326674445
         ],
         "xaxis": "x",
         "y": [
          -5.612248507471012
         ],
         "yaxis": "y"
        },
        {
         "hovertemplate": "date=2020-11-06<br>pc1=%{x}<br>pc2=%{y}<extra></extra>",
         "legendgroup": "2020-11-06",
         "marker": {
          "color": "#FFA15A",
          "symbol": "circle"
         },
         "mode": "markers",
         "name": "2020-11-06",
         "showlegend": true,
         "type": "scattergl",
         "x": [
          6.431459297595525
         ],
         "xaxis": "x",
         "y": [
          -2.4935829421762885
         ],
         "yaxis": "y"
        },
        {
         "hovertemplate": "date=2020-11-07<br>pc1=%{x}<br>pc2=%{y}<extra></extra>",
         "legendgroup": "2020-11-07",
         "marker": {
          "color": "#19d3f3",
          "symbol": "circle"
         },
         "mode": "markers",
         "name": "2020-11-07",
         "showlegend": true,
         "type": "scattergl",
         "x": [
          -15.542291511520572
         ],
         "xaxis": "x",
         "y": [
          4.631469191922404
         ],
         "yaxis": "y"
        },
        {
         "hovertemplate": "date=2020-11-08<br>pc1=%{x}<br>pc2=%{y}<extra></extra>",
         "legendgroup": "2020-11-08",
         "marker": {
          "color": "#FF6692",
          "symbol": "circle"
         },
         "mode": "markers",
         "name": "2020-11-08",
         "showlegend": true,
         "type": "scattergl",
         "x": [
          -16.733815648309996
         ],
         "xaxis": "x",
         "y": [
          12.02010674187347
         ],
         "yaxis": "y"
        },
        {
         "hovertemplate": "date=2020-11-09<br>pc1=%{x}<br>pc2=%{y}<extra></extra>",
         "legendgroup": "2020-11-09",
         "marker": {
          "color": "#B6E880",
          "symbol": "circle"
         },
         "mode": "markers",
         "name": "2020-11-09",
         "showlegend": true,
         "type": "scattergl",
         "x": [
          3.617110686354495
         ],
         "xaxis": "x",
         "y": [
          -0.2775781636290354
         ],
         "yaxis": "y"
        },
        {
         "hovertemplate": "date=2020-11-10<br>pc1=%{x}<br>pc2=%{y}<extra></extra>",
         "legendgroup": "2020-11-10",
         "marker": {
          "color": "#FF97FF",
          "symbol": "circle"
         },
         "mode": "markers",
         "name": "2020-11-10",
         "showlegend": true,
         "type": "scattergl",
         "x": [
          9.85478855309286
         ],
         "xaxis": "x",
         "y": [
          -0.913079068573997
         ],
         "yaxis": "y"
        },
        {
         "hovertemplate": "date=2020-11-11<br>pc1=%{x}<br>pc2=%{y}<extra></extra>",
         "legendgroup": "2020-11-11",
         "marker": {
          "color": "#FECB52",
          "symbol": "circle"
         },
         "mode": "markers",
         "name": "2020-11-11",
         "showlegend": true,
         "type": "scattergl",
         "x": [
          9.822438443488153
         ],
         "xaxis": "x",
         "y": [
          -2.0897957556268314
         ],
         "yaxis": "y"
        },
        {
         "hovertemplate": "date=2020-11-12<br>pc1=%{x}<br>pc2=%{y}<extra></extra>",
         "legendgroup": "2020-11-12",
         "marker": {
          "color": "#636efa",
          "symbol": "circle"
         },
         "mode": "markers",
         "name": "2020-11-12",
         "showlegend": true,
         "type": "scattergl",
         "x": [
          5.933971245501679
         ],
         "xaxis": "x",
         "y": [
          -4.8034981014458005
         ],
         "yaxis": "y"
        },
        {
         "hovertemplate": "date=2020-11-13<br>pc1=%{x}<br>pc2=%{y}<extra></extra>",
         "legendgroup": "2020-11-13",
         "marker": {
          "color": "#EF553B",
          "symbol": "circle"
         },
         "mode": "markers",
         "name": "2020-11-13",
         "showlegend": true,
         "type": "scattergl",
         "x": [
          5.826416700694479
         ],
         "xaxis": "x",
         "y": [
          -2.7387734869741354
         ],
         "yaxis": "y"
        },
        {
         "hovertemplate": "date=2020-11-14<br>pc1=%{x}<br>pc2=%{y}<extra></extra>",
         "legendgroup": "2020-11-14",
         "marker": {
          "color": "#00cc96",
          "symbol": "circle"
         },
         "mode": "markers",
         "name": "2020-11-14",
         "showlegend": true,
         "type": "scattergl",
         "x": [
          -10.179974701099992
         ],
         "xaxis": "x",
         "y": [
          10.030628057259948
         ],
         "yaxis": "y"
        },
        {
         "hovertemplate": "date=2020-11-15<br>pc1=%{x}<br>pc2=%{y}<extra></extra>",
         "legendgroup": "2020-11-15",
         "marker": {
          "color": "#ab63fa",
          "symbol": "circle"
         },
         "mode": "markers",
         "name": "2020-11-15",
         "showlegend": true,
         "type": "scattergl",
         "x": [
          -12.74474819470179
         ],
         "xaxis": "x",
         "y": [
          16.19834128279634
         ],
         "yaxis": "y"
        },
        {
         "hovertemplate": "date=2020-11-16<br>pc1=%{x}<br>pc2=%{y}<extra></extra>",
         "legendgroup": "2020-11-16",
         "marker": {
          "color": "#FFA15A",
          "symbol": "circle"
         },
         "mode": "markers",
         "name": "2020-11-16",
         "showlegend": true,
         "type": "scattergl",
         "x": [
          3.587067831042912
         ],
         "xaxis": "x",
         "y": [
          -2.616430729611497
         ],
         "yaxis": "y"
        },
        {
         "hovertemplate": "date=2020-11-17<br>pc1=%{x}<br>pc2=%{y}<extra></extra>",
         "legendgroup": "2020-11-17",
         "marker": {
          "color": "#19d3f3",
          "symbol": "circle"
         },
         "mode": "markers",
         "name": "2020-11-17",
         "showlegend": true,
         "type": "scattergl",
         "x": [
          10.412921487057412
         ],
         "xaxis": "x",
         "y": [
          -0.5552386646471764
         ],
         "yaxis": "y"
        },
        {
         "hovertemplate": "date=2020-11-18<br>pc1=%{x}<br>pc2=%{y}<extra></extra>",
         "legendgroup": "2020-11-18",
         "marker": {
          "color": "#FF6692",
          "symbol": "circle"
         },
         "mode": "markers",
         "name": "2020-11-18",
         "showlegend": true,
         "type": "scattergl",
         "x": [
          8.872301854600956
         ],
         "xaxis": "x",
         "y": [
          -1.4512009929284424
         ],
         "yaxis": "y"
        },
        {
         "hovertemplate": "date=2020-11-19<br>pc1=%{x}<br>pc2=%{y}<extra></extra>",
         "legendgroup": "2020-11-19",
         "marker": {
          "color": "#B6E880",
          "symbol": "circle"
         },
         "mode": "markers",
         "name": "2020-11-19",
         "showlegend": true,
         "type": "scattergl",
         "x": [
          9.452467712298121
         ],
         "xaxis": "x",
         "y": [
          0.13089873765610074
         ],
         "yaxis": "y"
        },
        {
         "hovertemplate": "date=2020-11-20<br>pc1=%{x}<br>pc2=%{y}<extra></extra>",
         "legendgroup": "2020-11-20",
         "marker": {
          "color": "#FF97FF",
          "symbol": "circle"
         },
         "mode": "markers",
         "name": "2020-11-20",
         "showlegend": true,
         "type": "scattergl",
         "x": [
          7.338273963436163
         ],
         "xaxis": "x",
         "y": [
          -0.40692347266919815
         ],
         "yaxis": "y"
        },
        {
         "hovertemplate": "date=2020-11-21<br>pc1=%{x}<br>pc2=%{y}<extra></extra>",
         "legendgroup": "2020-11-21",
         "marker": {
          "color": "#FECB52",
          "symbol": "circle"
         },
         "mode": "markers",
         "name": "2020-11-21",
         "showlegend": true,
         "type": "scattergl",
         "x": [
          -12.770626265121804
         ],
         "xaxis": "x",
         "y": [
          5.944488004780374
         ],
         "yaxis": "y"
        },
        {
         "hovertemplate": "date=2020-11-22<br>pc1=%{x}<br>pc2=%{y}<extra></extra>",
         "legendgroup": "2020-11-22",
         "marker": {
          "color": "#636efa",
          "symbol": "circle"
         },
         "mode": "markers",
         "name": "2020-11-22",
         "showlegend": true,
         "type": "scattergl",
         "x": [
          -15.286376389491243
         ],
         "xaxis": "x",
         "y": [
          14.488724296818493
         ],
         "yaxis": "y"
        },
        {
         "hovertemplate": "date=2020-11-23<br>pc1=%{x}<br>pc2=%{y}<extra></extra>",
         "legendgroup": "2020-11-23",
         "marker": {
          "color": "#EF553B",
          "symbol": "circle"
         },
         "mode": "markers",
         "name": "2020-11-23",
         "showlegend": true,
         "type": "scattergl",
         "x": [
          2.8096934029134837
         ],
         "xaxis": "x",
         "y": [
          0.7584043248253455
         ],
         "yaxis": "y"
        },
        {
         "hovertemplate": "date=2020-11-24<br>pc1=%{x}<br>pc2=%{y}<extra></extra>",
         "legendgroup": "2020-11-24",
         "marker": {
          "color": "#00cc96",
          "symbol": "circle"
         },
         "mode": "markers",
         "name": "2020-11-24",
         "showlegend": true,
         "type": "scattergl",
         "x": [
          9.137504834617319
         ],
         "xaxis": "x",
         "y": [
          2.6468299310197776
         ],
         "yaxis": "y"
        },
        {
         "hovertemplate": "date=2020-11-25<br>pc1=%{x}<br>pc2=%{y}<extra></extra>",
         "legendgroup": "2020-11-25",
         "marker": {
          "color": "#ab63fa",
          "symbol": "circle"
         },
         "mode": "markers",
         "name": "2020-11-25",
         "showlegend": true,
         "type": "scattergl",
         "x": [
          0.5153587041316774
         ],
         "xaxis": "x",
         "y": [
          -11.15250902514064
         ],
         "yaxis": "y"
        },
        {
         "hovertemplate": "date=2020-11-26<br>pc1=%{x}<br>pc2=%{y}<extra></extra>",
         "legendgroup": "2020-11-26",
         "marker": {
          "color": "#FFA15A",
          "symbol": "circle"
         },
         "mode": "markers",
         "name": "2020-11-26",
         "showlegend": true,
         "type": "scattergl",
         "x": [
          16.224047534912387
         ],
         "xaxis": "x",
         "y": [
          -9.884788729775975
         ],
         "yaxis": "y"
        },
        {
         "hovertemplate": "date=2020-11-27<br>pc1=%{x}<br>pc2=%{y}<extra></extra>",
         "legendgroup": "2020-11-27",
         "marker": {
          "color": "#19d3f3",
          "symbol": "circle"
         },
         "mode": "markers",
         "name": "2020-11-27",
         "showlegend": true,
         "type": "scattergl",
         "x": [
          8.562322352985769
         ],
         "xaxis": "x",
         "y": [
          -6.098932356448424
         ],
         "yaxis": "y"
        },
        {
         "hovertemplate": "date=2020-11-28<br>pc1=%{x}<br>pc2=%{y}<extra></extra>",
         "legendgroup": "2020-11-28",
         "marker": {
          "color": "#FF6692",
          "symbol": "circle"
         },
         "mode": "markers",
         "name": "2020-11-28",
         "showlegend": true,
         "type": "scattergl",
         "x": [
          -15.057248978407946
         ],
         "xaxis": "x",
         "y": [
          8.148957669390661
         ],
         "yaxis": "y"
        },
        {
         "hovertemplate": "date=2020-11-29<br>pc1=%{x}<br>pc2=%{y}<extra></extra>",
         "legendgroup": "2020-11-29",
         "marker": {
          "color": "#B6E880",
          "symbol": "circle"
         },
         "mode": "markers",
         "name": "2020-11-29",
         "showlegend": true,
         "type": "scattergl",
         "x": [
          -17.178783807824075
         ],
         "xaxis": "x",
         "y": [
          16.939688729954515
         ],
         "yaxis": "y"
        },
        {
         "hovertemplate": "date=2020-11-30<br>pc1=%{x}<br>pc2=%{y}<extra></extra>",
         "legendgroup": "2020-11-30",
         "marker": {
          "color": "#FF97FF",
          "symbol": "circle"
         },
         "mode": "markers",
         "name": "2020-11-30",
         "showlegend": true,
         "type": "scattergl",
         "x": [
          3.8954957358860183
         ],
         "xaxis": "x",
         "y": [
          -1.8334583348470868
         ],
         "yaxis": "y"
        },
        {
         "hovertemplate": "date=2020-12-01<br>pc1=%{x}<br>pc2=%{y}<extra></extra>",
         "legendgroup": "2020-12-01",
         "marker": {
          "color": "#FECB52",
          "symbol": "circle"
         },
         "mode": "markers",
         "name": "2020-12-01",
         "showlegend": true,
         "type": "scattergl",
         "x": [
          9.362894308092397
         ],
         "xaxis": "x",
         "y": [
          -0.5439400135944389
         ],
         "yaxis": "y"
        },
        {
         "hovertemplate": "date=2020-12-02<br>pc1=%{x}<br>pc2=%{y}<extra></extra>",
         "legendgroup": "2020-12-02",
         "marker": {
          "color": "#636efa",
          "symbol": "circle"
         },
         "mode": "markers",
         "name": "2020-12-02",
         "showlegend": true,
         "type": "scattergl",
         "x": [
          8.125972304270299
         ],
         "xaxis": "x",
         "y": [
          -2.787026179417868
         ],
         "yaxis": "y"
        },
        {
         "hovertemplate": "date=2020-12-03<br>pc1=%{x}<br>pc2=%{y}<extra></extra>",
         "legendgroup": "2020-12-03",
         "marker": {
          "color": "#EF553B",
          "symbol": "circle"
         },
         "mode": "markers",
         "name": "2020-12-03",
         "showlegend": true,
         "type": "scattergl",
         "x": [
          7.791052062334976
         ],
         "xaxis": "x",
         "y": [
          -2.3888363826871832
         ],
         "yaxis": "y"
        },
        {
         "hovertemplate": "date=2020-12-04<br>pc1=%{x}<br>pc2=%{y}<extra></extra>",
         "legendgroup": "2020-12-04",
         "marker": {
          "color": "#00cc96",
          "symbol": "circle"
         },
         "mode": "markers",
         "name": "2020-12-04",
         "showlegend": true,
         "type": "scattergl",
         "x": [
          6.555335130076221
         ],
         "xaxis": "x",
         "y": [
          -3.2438571051362968
         ],
         "yaxis": "y"
        },
        {
         "hovertemplate": "date=2020-12-05<br>pc1=%{x}<br>pc2=%{y}<extra></extra>",
         "legendgroup": "2020-12-05",
         "marker": {
          "color": "#ab63fa",
          "symbol": "circle"
         },
         "mode": "markers",
         "name": "2020-12-05",
         "showlegend": true,
         "type": "scattergl",
         "x": [
          -8.525289194523422
         ],
         "xaxis": "x",
         "y": [
          14.273599137999721
         ],
         "yaxis": "y"
        },
        {
         "hovertemplate": "date=2020-12-06<br>pc1=%{x}<br>pc2=%{y}<extra></extra>",
         "legendgroup": "2020-12-06",
         "marker": {
          "color": "#FFA15A",
          "symbol": "circle"
         },
         "mode": "markers",
         "name": "2020-12-06",
         "showlegend": true,
         "type": "scattergl",
         "x": [
          -17.350611232213783
         ],
         "xaxis": "x",
         "y": [
          10.997323579528466
         ],
         "yaxis": "y"
        },
        {
         "hovertemplate": "date=2020-12-07<br>pc1=%{x}<br>pc2=%{y}<extra></extra>",
         "legendgroup": "2020-12-07",
         "marker": {
          "color": "#19d3f3",
          "symbol": "circle"
         },
         "mode": "markers",
         "name": "2020-12-07",
         "showlegend": true,
         "type": "scattergl",
         "x": [
          6.7862104301592945
         ],
         "xaxis": "x",
         "y": [
          1.746032507103816
         ],
         "yaxis": "y"
        },
        {
         "hovertemplate": "date=2020-12-08<br>pc1=%{x}<br>pc2=%{y}<extra></extra>",
         "legendgroup": "2020-12-08",
         "marker": {
          "color": "#FF6692",
          "symbol": "circle"
         },
         "mode": "markers",
         "name": "2020-12-08",
         "showlegend": true,
         "type": "scattergl",
         "x": [
          8.935947655332356
         ],
         "xaxis": "x",
         "y": [
          -1.9926374979778376
         ],
         "yaxis": "y"
        },
        {
         "hovertemplate": "date=2020-12-09<br>pc1=%{x}<br>pc2=%{y}<extra></extra>",
         "legendgroup": "2020-12-09",
         "marker": {
          "color": "#B6E880",
          "symbol": "circle"
         },
         "mode": "markers",
         "name": "2020-12-09",
         "showlegend": true,
         "type": "scattergl",
         "x": [
          6.982951289238425
         ],
         "xaxis": "x",
         "y": [
          -2.78148633268459
         ],
         "yaxis": "y"
        },
        {
         "hovertemplate": "date=2020-12-10<br>pc1=%{x}<br>pc2=%{y}<extra></extra>",
         "legendgroup": "2020-12-10",
         "marker": {
          "color": "#FF97FF",
          "symbol": "circle"
         },
         "mode": "markers",
         "name": "2020-12-10",
         "showlegend": true,
         "type": "scattergl",
         "x": [
          8.680228642354713
         ],
         "xaxis": "x",
         "y": [
          -0.7252854920034861
         ],
         "yaxis": "y"
        },
        {
         "hovertemplate": "date=2020-12-11<br>pc1=%{x}<br>pc2=%{y}<extra></extra>",
         "legendgroup": "2020-12-11",
         "marker": {
          "color": "#FECB52",
          "symbol": "circle"
         },
         "mode": "markers",
         "name": "2020-12-11",
         "showlegend": true,
         "type": "scattergl",
         "x": [
          6.413937535174752
         ],
         "xaxis": "x",
         "y": [
          -4.73611241600327
         ],
         "yaxis": "y"
        },
        {
         "hovertemplate": "date=2020-12-12<br>pc1=%{x}<br>pc2=%{y}<extra></extra>",
         "legendgroup": "2020-12-12",
         "marker": {
          "color": "#636efa",
          "symbol": "circle"
         },
         "mode": "markers",
         "name": "2020-12-12",
         "showlegend": true,
         "type": "scattergl",
         "x": [
          -8.281220956869456
         ],
         "xaxis": "x",
         "y": [
          12.23647060542248
         ],
         "yaxis": "y"
        },
        {
         "hovertemplate": "date=2020-12-13<br>pc1=%{x}<br>pc2=%{y}<extra></extra>",
         "legendgroup": "2020-12-13",
         "marker": {
          "color": "#EF553B",
          "symbol": "circle"
         },
         "mode": "markers",
         "name": "2020-12-13",
         "showlegend": true,
         "type": "scattergl",
         "x": [
          -15.978560226656255
         ],
         "xaxis": "x",
         "y": [
          14.8006980612995
         ],
         "yaxis": "y"
        },
        {
         "hovertemplate": "date=2020-12-14<br>pc1=%{x}<br>pc2=%{y}<extra></extra>",
         "legendgroup": "2020-12-14",
         "marker": {
          "color": "#00cc96",
          "symbol": "circle"
         },
         "mode": "markers",
         "name": "2020-12-14",
         "showlegend": true,
         "type": "scattergl",
         "x": [
          4.3648056929634045
         ],
         "xaxis": "x",
         "y": [
          -0.15563609951581237
         ],
         "yaxis": "y"
        },
        {
         "hovertemplate": "date=2020-12-15<br>pc1=%{x}<br>pc2=%{y}<extra></extra>",
         "legendgroup": "2020-12-15",
         "marker": {
          "color": "#ab63fa",
          "symbol": "circle"
         },
         "mode": "markers",
         "name": "2020-12-15",
         "showlegend": true,
         "type": "scattergl",
         "x": [
          5.581517820616665
         ],
         "xaxis": "x",
         "y": [
          -7.576435104238403
         ],
         "yaxis": "y"
        },
        {
         "hovertemplate": "date=2020-12-16<br>pc1=%{x}<br>pc2=%{y}<extra></extra>",
         "legendgroup": "2020-12-16",
         "marker": {
          "color": "#FFA15A",
          "symbol": "circle"
         },
         "mode": "markers",
         "name": "2020-12-16",
         "showlegend": true,
         "type": "scattergl",
         "x": [
          9.276635121094138
         ],
         "xaxis": "x",
         "y": [
          -1.1688020419401821
         ],
         "yaxis": "y"
        },
        {
         "hovertemplate": "date=2020-12-17<br>pc1=%{x}<br>pc2=%{y}<extra></extra>",
         "legendgroup": "2020-12-17",
         "marker": {
          "color": "#19d3f3",
          "symbol": "circle"
         },
         "mode": "markers",
         "name": "2020-12-17",
         "showlegend": true,
         "type": "scattergl",
         "x": [
          9.256232270594314
         ],
         "xaxis": "x",
         "y": [
          -1.8119655419070924
         ],
         "yaxis": "y"
        },
        {
         "hovertemplate": "date=2020-12-18<br>pc1=%{x}<br>pc2=%{y}<extra></extra>",
         "legendgroup": "2020-12-18",
         "marker": {
          "color": "#FF6692",
          "symbol": "circle"
         },
         "mode": "markers",
         "name": "2020-12-18",
         "showlegend": true,
         "type": "scattergl",
         "x": [
          7.942369084097686
         ],
         "xaxis": "x",
         "y": [
          -1.4475704805077916
         ],
         "yaxis": "y"
        },
        {
         "hovertemplate": "date=2020-12-19<br>pc1=%{x}<br>pc2=%{y}<extra></extra>",
         "legendgroup": "2020-12-19",
         "marker": {
          "color": "#B6E880",
          "symbol": "circle"
         },
         "mode": "markers",
         "name": "2020-12-19",
         "showlegend": true,
         "type": "scattergl",
         "x": [
          -13.352833593636113
         ],
         "xaxis": "x",
         "y": [
          6.255848166898179
         ],
         "yaxis": "y"
        },
        {
         "hovertemplate": "date=2020-12-20<br>pc1=%{x}<br>pc2=%{y}<extra></extra>",
         "legendgroup": "2020-12-20",
         "marker": {
          "color": "#FF97FF",
          "symbol": "circle"
         },
         "mode": "markers",
         "name": "2020-12-20",
         "showlegend": true,
         "type": "scattergl",
         "x": [
          -16.60171692480375
         ],
         "xaxis": "x",
         "y": [
          14.514741089279486
         ],
         "yaxis": "y"
        },
        {
         "hovertemplate": "date=2020-12-21<br>pc1=%{x}<br>pc2=%{y}<extra></extra>",
         "legendgroup": "2020-12-21",
         "marker": {
          "color": "#FECB52",
          "symbol": "circle"
         },
         "mode": "markers",
         "name": "2020-12-21",
         "showlegend": true,
         "type": "scattergl",
         "x": [
          3.6882691114393977
         ],
         "xaxis": "x",
         "y": [
          -0.36397881309468794
         ],
         "yaxis": "y"
        },
        {
         "hovertemplate": "date=2020-12-22<br>pc1=%{x}<br>pc2=%{y}<extra></extra>",
         "legendgroup": "2020-12-22",
         "marker": {
          "color": "#636efa",
          "symbol": "circle"
         },
         "mode": "markers",
         "name": "2020-12-22",
         "showlegend": true,
         "type": "scattergl",
         "x": [
          7.5806462366983505
         ],
         "xaxis": "x",
         "y": [
          2.3946836342159203
         ],
         "yaxis": "y"
        },
        {
         "hovertemplate": "date=2020-12-23<br>pc1=%{x}<br>pc2=%{y}<extra></extra>",
         "legendgroup": "2020-12-23",
         "marker": {
          "color": "#EF553B",
          "symbol": "circle"
         },
         "mode": "markers",
         "name": "2020-12-23",
         "showlegend": true,
         "type": "scattergl",
         "x": [
          3.5022800238211533
         ],
         "xaxis": "x",
         "y": [
          -2.7622899527837235
         ],
         "yaxis": "y"
        },
        {
         "hovertemplate": "date=2020-12-24<br>pc1=%{x}<br>pc2=%{y}<extra></extra>",
         "legendgroup": "2020-12-24",
         "marker": {
          "color": "#00cc96",
          "symbol": "circle"
         },
         "mode": "markers",
         "name": "2020-12-24",
         "showlegend": true,
         "type": "scattergl",
         "x": [
          9.969136192908051
         ],
         "xaxis": "x",
         "y": [
          -6.697417942014222
         ],
         "yaxis": "y"
        },
        {
         "hovertemplate": "date=2020-12-25<br>pc1=%{x}<br>pc2=%{y}<extra></extra>",
         "legendgroup": "2020-12-25",
         "marker": {
          "color": "#ab63fa",
          "symbol": "circle"
         },
         "mode": "markers",
         "name": "2020-12-25",
         "showlegend": true,
         "type": "scattergl",
         "x": [
          15.970767212705063
         ],
         "xaxis": "x",
         "y": [
          -13.095224447840573
         ],
         "yaxis": "y"
        },
        {
         "hovertemplate": "date=2020-12-26<br>pc1=%{x}<br>pc2=%{y}<extra></extra>",
         "legendgroup": "2020-12-26",
         "marker": {
          "color": "#FFA15A",
          "symbol": "circle"
         },
         "mode": "markers",
         "name": "2020-12-26",
         "showlegend": true,
         "type": "scattergl",
         "x": [
          -13.502922399819528
         ],
         "xaxis": "x",
         "y": [
          8.964575201669248
         ],
         "yaxis": "y"
        },
        {
         "hovertemplate": "date=2020-12-27<br>pc1=%{x}<br>pc2=%{y}<extra></extra>",
         "legendgroup": "2020-12-27",
         "marker": {
          "color": "#19d3f3",
          "symbol": "circle"
         },
         "mode": "markers",
         "name": "2020-12-27",
         "showlegend": true,
         "type": "scattergl",
         "x": [
          -17.741653937392954
         ],
         "xaxis": "x",
         "y": [
          19.034789831411686
         ],
         "yaxis": "y"
        },
        {
         "hovertemplate": "date=2020-12-28<br>pc1=%{x}<br>pc2=%{y}<extra></extra>",
         "legendgroup": "2020-12-28",
         "marker": {
          "color": "#FF6692",
          "symbol": "circle"
         },
         "mode": "markers",
         "name": "2020-12-28",
         "showlegend": true,
         "type": "scattergl",
         "x": [
          3.0220418716994097
         ],
         "xaxis": "x",
         "y": [
          2.0750809236379864
         ],
         "yaxis": "y"
        },
        {
         "hovertemplate": "date=2020-12-29<br>pc1=%{x}<br>pc2=%{y}<extra></extra>",
         "legendgroup": "2020-12-29",
         "marker": {
          "color": "#B6E880",
          "symbol": "circle"
         },
         "mode": "markers",
         "name": "2020-12-29",
         "showlegend": true,
         "type": "scattergl",
         "x": [
          -12.996196563800687
         ],
         "xaxis": "x",
         "y": [
          -32.92267911316797
         ],
         "yaxis": "y"
        },
        {
         "hovertemplate": "date=2020-12-30<br>pc1=%{x}<br>pc2=%{y}<extra></extra>",
         "legendgroup": "2020-12-30",
         "marker": {
          "color": "#FF97FF",
          "symbol": "circle"
         },
         "mode": "markers",
         "name": "2020-12-30",
         "showlegend": true,
         "type": "scattergl",
         "x": [
          10.947925405370695
         ],
         "xaxis": "x",
         "y": [
          4.005934565048173
         ],
         "yaxis": "y"
        },
        {
         "hovertemplate": "date=2020-12-31<br>pc1=%{x}<br>pc2=%{y}<extra></extra>",
         "legendgroup": "2020-12-31",
         "marker": {
          "color": "#FECB52",
          "symbol": "circle"
         },
         "mode": "markers",
         "name": "2020-12-31",
         "showlegend": true,
         "type": "scattergl",
         "x": [
          5.8529899328981525
         ],
         "xaxis": "x",
         "y": [
          -7.072413109007684
         ],
         "yaxis": "y"
        },
        {
         "hovertemplate": "date=2021-01-01<br>pc1=%{x}<br>pc2=%{y}<extra></extra>",
         "legendgroup": "2021-01-01",
         "marker": {
          "color": "#636efa",
          "symbol": "circle"
         },
         "mode": "markers",
         "name": "2021-01-01",
         "showlegend": true,
         "type": "scattergl",
         "x": [
          16.70631145955082
         ],
         "xaxis": "x",
         "y": [
          -7.6759278738077406
         ],
         "yaxis": "y"
        },
        {
         "hovertemplate": "date=2021-01-02<br>pc1=%{x}<br>pc2=%{y}<extra></extra>",
         "legendgroup": "2021-01-02",
         "marker": {
          "color": "#EF553B",
          "symbol": "circle"
         },
         "mode": "markers",
         "name": "2021-01-02",
         "showlegend": true,
         "type": "scattergl",
         "x": [
          -11.234166156756443
         ],
         "xaxis": "x",
         "y": [
          13.074507262293402
         ],
         "yaxis": "y"
        },
        {
         "hovertemplate": "date=2021-01-03<br>pc1=%{x}<br>pc2=%{y}<extra></extra>",
         "legendgroup": "2021-01-03",
         "marker": {
          "color": "#00cc96",
          "symbol": "circle"
         },
         "mode": "markers",
         "name": "2021-01-03",
         "showlegend": true,
         "type": "scattergl",
         "x": [
          -17.405676770882312
         ],
         "xaxis": "x",
         "y": [
          16.074012532800435
         ],
         "yaxis": "y"
        },
        {
         "hovertemplate": "date=2021-01-04<br>pc1=%{x}<br>pc2=%{y}<extra></extra>",
         "legendgroup": "2021-01-04",
         "marker": {
          "color": "#ab63fa",
          "symbol": "circle"
         },
         "mode": "markers",
         "name": "2021-01-04",
         "showlegend": true,
         "type": "scattergl",
         "x": [
          5.32564607161212
         ],
         "xaxis": "x",
         "y": [
          4.119724143467427
         ],
         "yaxis": "y"
        },
        {
         "hovertemplate": "date=2021-01-05<br>pc1=%{x}<br>pc2=%{y}<extra></extra>",
         "legendgroup": "2021-01-05",
         "marker": {
          "color": "#FFA15A",
          "symbol": "circle"
         },
         "mode": "markers",
         "name": "2021-01-05",
         "showlegend": true,
         "type": "scattergl",
         "x": [
          9.03919171189294
         ],
         "xaxis": "x",
         "y": [
          -1.3684360594747387
         ],
         "yaxis": "y"
        },
        {
         "hovertemplate": "date=2021-01-06<br>pc1=%{x}<br>pc2=%{y}<extra></extra>",
         "legendgroup": "2021-01-06",
         "marker": {
          "color": "#19d3f3",
          "symbol": "circle"
         },
         "mode": "markers",
         "name": "2021-01-06",
         "showlegend": true,
         "type": "scattergl",
         "x": [
          9.825732425489466
         ],
         "xaxis": "x",
         "y": [
          0.2849195888803144
         ],
         "yaxis": "y"
        },
        {
         "hovertemplate": "date=2021-01-07<br>pc1=%{x}<br>pc2=%{y}<extra></extra>",
         "legendgroup": "2021-01-07",
         "marker": {
          "color": "#FF6692",
          "symbol": "circle"
         },
         "mode": "markers",
         "name": "2021-01-07",
         "showlegend": true,
         "type": "scattergl",
         "x": [
          9.15333534994145
         ],
         "xaxis": "x",
         "y": [
          -1.5627383750304877
         ],
         "yaxis": "y"
        },
        {
         "hovertemplate": "date=2021-01-08<br>pc1=%{x}<br>pc2=%{y}<extra></extra>",
         "legendgroup": "2021-01-08",
         "marker": {
          "color": "#B6E880",
          "symbol": "circle"
         },
         "mode": "markers",
         "name": "2021-01-08",
         "showlegend": true,
         "type": "scattergl",
         "x": [
          8.180996554411134
         ],
         "xaxis": "x",
         "y": [
          -1.0800193850119626
         ],
         "yaxis": "y"
        },
        {
         "hovertemplate": "date=2021-01-09<br>pc1=%{x}<br>pc2=%{y}<extra></extra>",
         "legendgroup": "2021-01-09",
         "marker": {
          "color": "#FF97FF",
          "symbol": "circle"
         },
         "mode": "markers",
         "name": "2021-01-09",
         "showlegend": true,
         "type": "scattergl",
         "x": [
          -11.873015236046985
         ],
         "xaxis": "x",
         "y": [
          9.18433021989352
         ],
         "yaxis": "y"
        },
        {
         "hovertemplate": "date=2021-01-10<br>pc1=%{x}<br>pc2=%{y}<extra></extra>",
         "legendgroup": "2021-01-10",
         "marker": {
          "color": "#FECB52",
          "symbol": "circle"
         },
         "mode": "markers",
         "name": "2021-01-10",
         "showlegend": true,
         "type": "scattergl",
         "x": [
          -15.194653589161348
         ],
         "xaxis": "x",
         "y": [
          15.14365979884434
         ],
         "yaxis": "y"
        },
        {
         "hovertemplate": "date=2021-01-11<br>pc1=%{x}<br>pc2=%{y}<extra></extra>",
         "legendgroup": "2021-01-11",
         "marker": {
          "color": "#636efa",
          "symbol": "circle"
         },
         "mode": "markers",
         "name": "2021-01-11",
         "showlegend": true,
         "type": "scattergl",
         "x": [
          5.274707042028348
         ],
         "xaxis": "x",
         "y": [
          -0.30661322903418475
         ],
         "yaxis": "y"
        },
        {
         "hovertemplate": "date=2021-01-12<br>pc1=%{x}<br>pc2=%{y}<extra></extra>",
         "legendgroup": "2021-01-12",
         "marker": {
          "color": "#EF553B",
          "symbol": "circle"
         },
         "mode": "markers",
         "name": "2021-01-12",
         "showlegend": true,
         "type": "scattergl",
         "x": [
          11.09909772294382
         ],
         "xaxis": "x",
         "y": [
          1.378632547097167
         ],
         "yaxis": "y"
        },
        {
         "hovertemplate": "date=2021-01-13<br>pc1=%{x}<br>pc2=%{y}<extra></extra>",
         "legendgroup": "2021-01-13",
         "marker": {
          "color": "#00cc96",
          "symbol": "circle"
         },
         "mode": "markers",
         "name": "2021-01-13",
         "showlegend": true,
         "type": "scattergl",
         "x": [
          9.750926811920781
         ],
         "xaxis": "x",
         "y": [
          1.1758238484468921
         ],
         "yaxis": "y"
        },
        {
         "hovertemplate": "date=2021-01-14<br>pc1=%{x}<br>pc2=%{y}<extra></extra>",
         "legendgroup": "2021-01-14",
         "marker": {
          "color": "#ab63fa",
          "symbol": "circle"
         },
         "mode": "markers",
         "name": "2021-01-14",
         "showlegend": true,
         "type": "scattergl",
         "x": [
          8.651620649020774
         ],
         "xaxis": "x",
         "y": [
          -1.836161303851518
         ],
         "yaxis": "y"
        },
        {
         "hovertemplate": "date=2021-01-15<br>pc1=%{x}<br>pc2=%{y}<extra></extra>",
         "legendgroup": "2021-01-15",
         "marker": {
          "color": "#FFA15A",
          "symbol": "circle"
         },
         "mode": "markers",
         "name": "2021-01-15",
         "showlegend": true,
         "type": "scattergl",
         "x": [
          9.854684255318247
         ],
         "xaxis": "x",
         "y": [
          2.5420723728310444
         ],
         "yaxis": "y"
        },
        {
         "hovertemplate": "date=2021-01-16<br>pc1=%{x}<br>pc2=%{y}<extra></extra>",
         "legendgroup": "2021-01-16",
         "marker": {
          "color": "#19d3f3",
          "symbol": "circle"
         },
         "mode": "markers",
         "name": "2021-01-16",
         "showlegend": true,
         "type": "scattergl",
         "x": [
          -14.312240666799598
         ],
         "xaxis": "x",
         "y": [
          4.331375260402626
         ],
         "yaxis": "y"
        },
        {
         "hovertemplate": "date=2021-01-17<br>pc1=%{x}<br>pc2=%{y}<extra></extra>",
         "legendgroup": "2021-01-17",
         "marker": {
          "color": "#FF6692",
          "symbol": "circle"
         },
         "mode": "markers",
         "name": "2021-01-17",
         "showlegend": true,
         "type": "scattergl",
         "x": [
          -15.008422335397237
         ],
         "xaxis": "x",
         "y": [
          16.734086295964396
         ],
         "yaxis": "y"
        },
        {
         "hovertemplate": "date=2021-01-18<br>pc1=%{x}<br>pc2=%{y}<extra></extra>",
         "legendgroup": "2021-01-18",
         "marker": {
          "color": "#B6E880",
          "symbol": "circle"
         },
         "mode": "markers",
         "name": "2021-01-18",
         "showlegend": true,
         "type": "scattergl",
         "x": [
          7.472594175653181
         ],
         "xaxis": "x",
         "y": [
          -1.5881224653399044
         ],
         "yaxis": "y"
        },
        {
         "hovertemplate": "date=2021-01-19<br>pc1=%{x}<br>pc2=%{y}<extra></extra>",
         "legendgroup": "2021-01-19",
         "marker": {
          "color": "#FF97FF",
          "symbol": "circle"
         },
         "mode": "markers",
         "name": "2021-01-19",
         "showlegend": true,
         "type": "scattergl",
         "x": [
          7.062430047220317
         ],
         "xaxis": "x",
         "y": [
          -3.8331879344520616
         ],
         "yaxis": "y"
        },
        {
         "hovertemplate": "date=2021-01-20<br>pc1=%{x}<br>pc2=%{y}<extra></extra>",
         "legendgroup": "2021-01-20",
         "marker": {
          "color": "#FECB52",
          "symbol": "circle"
         },
         "mode": "markers",
         "name": "2021-01-20",
         "showlegend": true,
         "type": "scattergl",
         "x": [
          10.485103740844684
         ],
         "xaxis": "x",
         "y": [
          0.450471199437014
         ],
         "yaxis": "y"
        },
        {
         "hovertemplate": "date=2021-01-21<br>pc1=%{x}<br>pc2=%{y}<extra></extra>",
         "legendgroup": "2021-01-21",
         "marker": {
          "color": "#636efa",
          "symbol": "circle"
         },
         "mode": "markers",
         "name": "2021-01-21",
         "showlegend": true,
         "type": "scattergl",
         "x": [
          9.340761252635781
         ],
         "xaxis": "x",
         "y": [
          1.757945736763852
         ],
         "yaxis": "y"
        },
        {
         "hovertemplate": "date=2021-01-22<br>pc1=%{x}<br>pc2=%{y}<extra></extra>",
         "legendgroup": "2021-01-22",
         "marker": {
          "color": "#EF553B",
          "symbol": "circle"
         },
         "mode": "markers",
         "name": "2021-01-22",
         "showlegend": true,
         "type": "scattergl",
         "x": [
          8.391448763691667
         ],
         "xaxis": "x",
         "y": [
          -1.6409816698493538
         ],
         "yaxis": "y"
        },
        {
         "hovertemplate": "date=2021-01-23<br>pc1=%{x}<br>pc2=%{y}<extra></extra>",
         "legendgroup": "2021-01-23",
         "marker": {
          "color": "#00cc96",
          "symbol": "circle"
         },
         "mode": "markers",
         "name": "2021-01-23",
         "showlegend": true,
         "type": "scattergl",
         "x": [
          -10.409322967014923
         ],
         "xaxis": "x",
         "y": [
          11.240020722442893
         ],
         "yaxis": "y"
        },
        {
         "hovertemplate": "date=2021-01-24<br>pc1=%{x}<br>pc2=%{y}<extra></extra>",
         "legendgroup": "2021-01-24",
         "marker": {
          "color": "#ab63fa",
          "symbol": "circle"
         },
         "mode": "markers",
         "name": "2021-01-24",
         "showlegend": true,
         "type": "scattergl",
         "x": [
          -15.144406547509558
         ],
         "xaxis": "x",
         "y": [
          15.792191735957159
         ],
         "yaxis": "y"
        },
        {
         "hovertemplate": "date=2021-01-25<br>pc1=%{x}<br>pc2=%{y}<extra></extra>",
         "legendgroup": "2021-01-25",
         "marker": {
          "color": "#FFA15A",
          "symbol": "circle"
         },
         "mode": "markers",
         "name": "2021-01-25",
         "showlegend": true,
         "type": "scattergl",
         "x": [
          6.027517018847568
         ],
         "xaxis": "x",
         "y": [
          2.217939567797612
         ],
         "yaxis": "y"
        },
        {
         "hovertemplate": "date=2021-01-26<br>pc1=%{x}<br>pc2=%{y}<extra></extra>",
         "legendgroup": "2021-01-26",
         "marker": {
          "color": "#19d3f3",
          "symbol": "circle"
         },
         "mode": "markers",
         "name": "2021-01-26",
         "showlegend": true,
         "type": "scattergl",
         "x": [
          9.51059350733665
         ],
         "xaxis": "x",
         "y": [
          -4.164002006538262
         ],
         "yaxis": "y"
        },
        {
         "hovertemplate": "date=2021-01-27<br>pc1=%{x}<br>pc2=%{y}<extra></extra>",
         "legendgroup": "2021-01-27",
         "marker": {
          "color": "#FF6692",
          "symbol": "circle"
         },
         "mode": "markers",
         "name": "2021-01-27",
         "showlegend": true,
         "type": "scattergl",
         "x": [
          34.23533808329901
         ],
         "xaxis": "x",
         "y": [
          39.00512412578305
         ],
         "yaxis": "y"
        },
        {
         "hovertemplate": "date=2021-01-28<br>pc1=%{x}<br>pc2=%{y}<extra></extra>",
         "legendgroup": "2021-01-28",
         "marker": {
          "color": "#B6E880",
          "symbol": "circle"
         },
         "mode": "markers",
         "name": "2021-01-28",
         "showlegend": true,
         "type": "scattergl",
         "x": [
          32.650884505080576
         ],
         "xaxis": "x",
         "y": [
          35.927312745486134
         ],
         "yaxis": "y"
        },
        {
         "hovertemplate": "date=2021-01-29<br>pc1=%{x}<br>pc2=%{y}<extra></extra>",
         "legendgroup": "2021-01-29",
         "marker": {
          "color": "#FF97FF",
          "symbol": "circle"
         },
         "mode": "markers",
         "name": "2021-01-29",
         "showlegend": true,
         "type": "scattergl",
         "x": [
          22.647483876195842
         ],
         "xaxis": "x",
         "y": [
          22.81703408516774
         ],
         "yaxis": "y"
        },
        {
         "hovertemplate": "date=2021-01-30<br>pc1=%{x}<br>pc2=%{y}<extra></extra>",
         "legendgroup": "2021-01-30",
         "marker": {
          "color": "#FECB52",
          "symbol": "circle"
         },
         "mode": "markers",
         "name": "2021-01-30",
         "showlegend": true,
         "type": "scattergl",
         "x": [
          -18.410468303745905
         ],
         "xaxis": "x",
         "y": [
          -1.9692931307602644
         ],
         "yaxis": "y"
        },
        {
         "hovertemplate": "date=2021-01-31<br>pc1=%{x}<br>pc2=%{y}<extra></extra>",
         "legendgroup": "2021-01-31",
         "marker": {
          "color": "#636efa",
          "symbol": "circle"
         },
         "mode": "markers",
         "name": "2021-01-31",
         "showlegend": true,
         "type": "scattergl",
         "x": [
          -22.211455189665717
         ],
         "xaxis": "x",
         "y": [
          3.180103158868089
         ],
         "yaxis": "y"
        },
        {
         "hovertemplate": "date=2021-02-01<br>pc1=%{x}<br>pc2=%{y}<extra></extra>",
         "legendgroup": "2021-02-01",
         "marker": {
          "color": "#EF553B",
          "symbol": "circle"
         },
         "mode": "markers",
         "name": "2021-02-01",
         "showlegend": true,
         "type": "scattergl",
         "x": [
          1.7504809143006805
         ],
         "xaxis": "x",
         "y": [
          -4.5738792185788
         ],
         "yaxis": "y"
        },
        {
         "hovertemplate": "date=2021-02-02<br>pc1=%{x}<br>pc2=%{y}<extra></extra>",
         "legendgroup": "2021-02-02",
         "marker": {
          "color": "#00cc96",
          "symbol": "circle"
         },
         "mode": "markers",
         "name": "2021-02-02",
         "showlegend": true,
         "type": "scattergl",
         "x": [
          8.333831305043487
         ],
         "xaxis": "x",
         "y": [
          -2.7916241153463837
         ],
         "yaxis": "y"
        },
        {
         "hovertemplate": "date=2021-02-03<br>pc1=%{x}<br>pc2=%{y}<extra></extra>",
         "legendgroup": "2021-02-03",
         "marker": {
          "color": "#ab63fa",
          "symbol": "circle"
         },
         "mode": "markers",
         "name": "2021-02-03",
         "showlegend": true,
         "type": "scattergl",
         "x": [
          -0.348460299707511
         ],
         "xaxis": "x",
         "y": [
          -13.934834823412569
         ],
         "yaxis": "y"
        },
        {
         "hovertemplate": "date=2021-02-04<br>pc1=%{x}<br>pc2=%{y}<extra></extra>",
         "legendgroup": "2021-02-04",
         "marker": {
          "color": "#FFA15A",
          "symbol": "circle"
         },
         "mode": "markers",
         "name": "2021-02-04",
         "showlegend": true,
         "type": "scattergl",
         "x": [
          9.931641243114752
         ],
         "xaxis": "x",
         "y": [
          0.9196647043895994
         ],
         "yaxis": "y"
        },
        {
         "hovertemplate": "date=2021-02-05<br>pc1=%{x}<br>pc2=%{y}<extra></extra>",
         "legendgroup": "2021-02-05",
         "marker": {
          "color": "#19d3f3",
          "symbol": "circle"
         },
         "mode": "markers",
         "name": "2021-02-05",
         "showlegend": true,
         "type": "scattergl",
         "x": [
          6.201214543547114
         ],
         "xaxis": "x",
         "y": [
          -5.521011721551704
         ],
         "yaxis": "y"
        },
        {
         "hovertemplate": "date=2021-02-06<br>pc1=%{x}<br>pc2=%{y}<extra></extra>",
         "legendgroup": "2021-02-06",
         "marker": {
          "color": "#FF6692",
          "symbol": "circle"
         },
         "mode": "markers",
         "name": "2021-02-06",
         "showlegend": true,
         "type": "scattergl",
         "x": [
          -11.37273087794672
         ],
         "xaxis": "x",
         "y": [
          6.535446750172805
         ],
         "yaxis": "y"
        },
        {
         "hovertemplate": "date=2021-02-07<br>pc1=%{x}<br>pc2=%{y}<extra></extra>",
         "legendgroup": "2021-02-07",
         "marker": {
          "color": "#B6E880",
          "symbol": "circle"
         },
         "mode": "markers",
         "name": "2021-02-07",
         "showlegend": true,
         "type": "scattergl",
         "x": [
          -20.045787462204625
         ],
         "xaxis": "x",
         "y": [
          5.049739490096194
         ],
         "yaxis": "y"
        },
        {
         "hovertemplate": "date=2021-02-08<br>pc1=%{x}<br>pc2=%{y}<extra></extra>",
         "legendgroup": "2021-02-08",
         "marker": {
          "color": "#FF97FF",
          "symbol": "circle"
         },
         "mode": "markers",
         "name": "2021-02-08",
         "showlegend": true,
         "type": "scattergl",
         "x": [
          0.7461679783790927
         ],
         "xaxis": "x",
         "y": [
          -7.9753264498253404
         ],
         "yaxis": "y"
        },
        {
         "hovertemplate": "date=2021-02-09<br>pc1=%{x}<br>pc2=%{y}<extra></extra>",
         "legendgroup": "2021-02-09",
         "marker": {
          "color": "#FECB52",
          "symbol": "circle"
         },
         "mode": "markers",
         "name": "2021-02-09",
         "showlegend": true,
         "type": "scattergl",
         "x": [
          15.226613774341157
         ],
         "xaxis": "x",
         "y": [
          7.30634444559675
         ],
         "yaxis": "y"
        },
        {
         "hovertemplate": "date=2021-02-10<br>pc1=%{x}<br>pc2=%{y}<extra></extra>",
         "legendgroup": "2021-02-10",
         "marker": {
          "color": "#636efa",
          "symbol": "circle"
         },
         "mode": "markers",
         "name": "2021-02-10",
         "showlegend": true,
         "type": "scattergl",
         "x": [
          15.32906779608076
         ],
         "xaxis": "x",
         "y": [
          9.370002076616512
         ],
         "yaxis": "y"
        },
        {
         "hovertemplate": "date=2021-02-11<br>pc1=%{x}<br>pc2=%{y}<extra></extra>",
         "legendgroup": "2021-02-11",
         "marker": {
          "color": "#EF553B",
          "symbol": "circle"
         },
         "mode": "markers",
         "name": "2021-02-11",
         "showlegend": true,
         "type": "scattergl",
         "x": [
          12.697349095495284
         ],
         "xaxis": "x",
         "y": [
          5.363687661767615
         ],
         "yaxis": "y"
        },
        {
         "hovertemplate": "date=2021-02-12<br>pc1=%{x}<br>pc2=%{y}<extra></extra>",
         "legendgroup": "2021-02-12",
         "marker": {
          "color": "#00cc96",
          "symbol": "circle"
         },
         "mode": "markers",
         "name": "2021-02-12",
         "showlegend": true,
         "type": "scattergl",
         "x": [
          3.616254032142313
         ],
         "xaxis": "x",
         "y": [
          -6.622630991268305
         ],
         "yaxis": "y"
        },
        {
         "hovertemplate": "date=2021-02-13<br>pc1=%{x}<br>pc2=%{y}<extra></extra>",
         "legendgroup": "2021-02-13",
         "marker": {
          "color": "#ab63fa",
          "symbol": "circle"
         },
         "mode": "markers",
         "name": "2021-02-13",
         "showlegend": true,
         "type": "scattergl",
         "x": [
          -15.128973573021469
         ],
         "xaxis": "x",
         "y": [
          6.629378980317376
         ],
         "yaxis": "y"
        },
        {
         "hovertemplate": "date=2021-02-14<br>pc1=%{x}<br>pc2=%{y}<extra></extra>",
         "legendgroup": "2021-02-14",
         "marker": {
          "color": "#FFA15A",
          "symbol": "circle"
         },
         "mode": "markers",
         "name": "2021-02-14",
         "showlegend": true,
         "type": "scattergl",
         "x": [
          -23.046713804084327
         ],
         "xaxis": "x",
         "y": [
          2.6214972989095044
         ],
         "yaxis": "y"
        },
        {
         "hovertemplate": "date=2021-02-15<br>pc1=%{x}<br>pc2=%{y}<extra></extra>",
         "legendgroup": "2021-02-15",
         "marker": {
          "color": "#19d3f3",
          "symbol": "circle"
         },
         "mode": "markers",
         "name": "2021-02-15",
         "showlegend": true,
         "type": "scattergl",
         "x": [
          -4.447425394419407
         ],
         "xaxis": "x",
         "y": [
          -19.560261760680483
         ],
         "yaxis": "y"
        },
        {
         "hovertemplate": "date=2021-02-16<br>pc1=%{x}<br>pc2=%{y}<extra></extra>",
         "legendgroup": "2021-02-16",
         "marker": {
          "color": "#FF6692",
          "symbol": "circle"
         },
         "mode": "markers",
         "name": "2021-02-16",
         "showlegend": true,
         "type": "scattergl",
         "x": [
          3.9603248003155067
         ],
         "xaxis": "x",
         "y": [
          -18.137404123441108
         ],
         "yaxis": "y"
        },
        {
         "hovertemplate": "date=2021-02-17<br>pc1=%{x}<br>pc2=%{y}<extra></extra>",
         "legendgroup": "2021-02-17",
         "marker": {
          "color": "#B6E880",
          "symbol": "circle"
         },
         "mode": "markers",
         "name": "2021-02-17",
         "showlegend": true,
         "type": "scattergl",
         "x": [
          9.16597883698119
         ],
         "xaxis": "x",
         "y": [
          1.615205198688898
         ],
         "yaxis": "y"
        },
        {
         "hovertemplate": "date=2021-02-18<br>pc1=%{x}<br>pc2=%{y}<extra></extra>",
         "legendgroup": "2021-02-18",
         "marker": {
          "color": "#FF97FF",
          "symbol": "circle"
         },
         "mode": "markers",
         "name": "2021-02-18",
         "showlegend": true,
         "type": "scattergl",
         "x": [
          1.8349554630464546
         ],
         "xaxis": "x",
         "y": [
          -10.094341828375414
         ],
         "yaxis": "y"
        },
        {
         "hovertemplate": "date=2021-02-19<br>pc1=%{x}<br>pc2=%{y}<extra></extra>",
         "legendgroup": "2021-02-19",
         "marker": {
          "color": "#FECB52",
          "symbol": "circle"
         },
         "mode": "markers",
         "name": "2021-02-19",
         "showlegend": true,
         "type": "scattergl",
         "x": [
          6.870618083202863
         ],
         "xaxis": "x",
         "y": [
          -0.5260996149304001
         ],
         "yaxis": "y"
        },
        {
         "hovertemplate": "date=2021-02-20<br>pc1=%{x}<br>pc2=%{y}<extra></extra>",
         "legendgroup": "2021-02-20",
         "marker": {
          "color": "#636efa",
          "symbol": "circle"
         },
         "mode": "markers",
         "name": "2021-02-20",
         "showlegend": true,
         "type": "scattergl",
         "x": [
          -16.72990298104062
         ],
         "xaxis": "x",
         "y": [
          1.229049464409924
         ],
         "yaxis": "y"
        },
        {
         "hovertemplate": "date=2021-02-21<br>pc1=%{x}<br>pc2=%{y}<extra></extra>",
         "legendgroup": "2021-02-21",
         "marker": {
          "color": "#EF553B",
          "symbol": "circle"
         },
         "mode": "markers",
         "name": "2021-02-21",
         "showlegend": true,
         "type": "scattergl",
         "x": [
          -14.527399138037877
         ],
         "xaxis": "x",
         "y": [
          14.473664158497098
         ],
         "yaxis": "y"
        },
        {
         "hovertemplate": "date=2021-02-22<br>pc1=%{x}<br>pc2=%{y}<extra></extra>",
         "legendgroup": "2021-02-22",
         "marker": {
          "color": "#00cc96",
          "symbol": "circle"
         },
         "mode": "markers",
         "name": "2021-02-22",
         "showlegend": true,
         "type": "scattergl",
         "x": [
          1.388920855921278
         ],
         "xaxis": "x",
         "y": [
          -7.8342396463016355
         ],
         "yaxis": "y"
        },
        {
         "hovertemplate": "date=2021-02-23<br>pc1=%{x}<br>pc2=%{y}<extra></extra>",
         "legendgroup": "2021-02-23",
         "marker": {
          "color": "#ab63fa",
          "symbol": "circle"
         },
         "mode": "markers",
         "name": "2021-02-23",
         "showlegend": true,
         "type": "scattergl",
         "x": [
          13.444344746136375
         ],
         "xaxis": "x",
         "y": [
          6.153263415084373
         ],
         "yaxis": "y"
        },
        {
         "hovertemplate": "date=2021-02-24<br>pc1=%{x}<br>pc2=%{y}<extra></extra>",
         "legendgroup": "2021-02-24",
         "marker": {
          "color": "#FFA15A",
          "symbol": "circle"
         },
         "mode": "markers",
         "name": "2021-02-24",
         "showlegend": true,
         "type": "scattergl",
         "x": [
          14.619166610566666
         ],
         "xaxis": "x",
         "y": [
          7.4889739972347
         ],
         "yaxis": "y"
        },
        {
         "hovertemplate": "date=2021-02-25<br>pc1=%{x}<br>pc2=%{y}<extra></extra>",
         "legendgroup": "2021-02-25",
         "marker": {
          "color": "#19d3f3",
          "symbol": "circle"
         },
         "mode": "markers",
         "name": "2021-02-25",
         "showlegend": true,
         "type": "scattergl",
         "x": [
          10.740625194857282
         ],
         "xaxis": "x",
         "y": [
          0.8395881856193173
         ],
         "yaxis": "y"
        },
        {
         "hovertemplate": "date=2021-02-26<br>pc1=%{x}<br>pc2=%{y}<extra></extra>",
         "legendgroup": "2021-02-26",
         "marker": {
          "color": "#FF6692",
          "symbol": "circle"
         },
         "mode": "markers",
         "name": "2021-02-26",
         "showlegend": true,
         "type": "scattergl",
         "x": [
          4.44807631175198
         ],
         "xaxis": "x",
         "y": [
          -5.649367352705364
         ],
         "yaxis": "y"
        },
        {
         "hovertemplate": "date=2021-02-27<br>pc1=%{x}<br>pc2=%{y}<extra></extra>",
         "legendgroup": "2021-02-27",
         "marker": {
          "color": "#B6E880",
          "symbol": "circle"
         },
         "mode": "markers",
         "name": "2021-02-27",
         "showlegend": true,
         "type": "scattergl",
         "x": [
          -12.640652458905533
         ],
         "xaxis": "x",
         "y": [
          10.56093137235358
         ],
         "yaxis": "y"
        },
        {
         "hovertemplate": "date=2021-02-28<br>pc1=%{x}<br>pc2=%{y}<extra></extra>",
         "legendgroup": "2021-02-28",
         "marker": {
          "color": "#FF97FF",
          "symbol": "circle"
         },
         "mode": "markers",
         "name": "2021-02-28",
         "showlegend": true,
         "type": "scattergl",
         "x": [
          -14.244421014371715
         ],
         "xaxis": "x",
         "y": [
          14.429035492705477
         ],
         "yaxis": "y"
        },
        {
         "hovertemplate": "date=2021-03-01<br>pc1=%{x}<br>pc2=%{y}<extra></extra>",
         "legendgroup": "2021-03-01",
         "marker": {
          "color": "#FECB52",
          "symbol": "circle"
         },
         "mode": "markers",
         "name": "2021-03-01",
         "showlegend": true,
         "type": "scattergl",
         "x": [
          10.60499875371088
         ],
         "xaxis": "x",
         "y": [
          6.744491699597056
         ],
         "yaxis": "y"
        },
        {
         "hovertemplate": "date=2021-03-02<br>pc1=%{x}<br>pc2=%{y}<extra></extra>",
         "legendgroup": "2021-03-02",
         "marker": {
          "color": "#636efa",
          "symbol": "circle"
         },
         "mode": "markers",
         "name": "2021-03-02",
         "showlegend": true,
         "type": "scattergl",
         "x": [
          14.77146260878459
         ],
         "xaxis": "x",
         "y": [
          5.996085086020567
         ],
         "yaxis": "y"
        }
       ],
       "layout": {
        "legend": {
         "title": {
          "text": "date"
         },
         "tracegroupgap": 0
        },
        "margin": {
         "t": 60
        },
        "template": {
         "data": {
          "bar": [
           {
            "error_x": {
             "color": "#2a3f5f"
            },
            "error_y": {
             "color": "#2a3f5f"
            },
            "marker": {
             "line": {
              "color": "#E5ECF6",
              "width": 0.5
             },
             "pattern": {
              "fillmode": "overlay",
              "size": 10,
              "solidity": 0.2
             }
            },
            "type": "bar"
           }
          ],
          "barpolar": [
           {
            "marker": {
             "line": {
              "color": "#E5ECF6",
              "width": 0.5
             },
             "pattern": {
              "fillmode": "overlay",
              "size": 10,
              "solidity": 0.2
             }
            },
            "type": "barpolar"
           }
          ],
          "carpet": [
           {
            "aaxis": {
             "endlinecolor": "#2a3f5f",
             "gridcolor": "white",
             "linecolor": "white",
             "minorgridcolor": "white",
             "startlinecolor": "#2a3f5f"
            },
            "baxis": {
             "endlinecolor": "#2a3f5f",
             "gridcolor": "white",
             "linecolor": "white",
             "minorgridcolor": "white",
             "startlinecolor": "#2a3f5f"
            },
            "type": "carpet"
           }
          ],
          "choropleth": [
           {
            "colorbar": {
             "outlinewidth": 0,
             "ticks": ""
            },
            "type": "choropleth"
           }
          ],
          "contour": [
           {
            "colorbar": {
             "outlinewidth": 0,
             "ticks": ""
            },
            "colorscale": [
             [
              0,
              "#0d0887"
             ],
             [
              0.1111111111111111,
              "#46039f"
             ],
             [
              0.2222222222222222,
              "#7201a8"
             ],
             [
              0.3333333333333333,
              "#9c179e"
             ],
             [
              0.4444444444444444,
              "#bd3786"
             ],
             [
              0.5555555555555556,
              "#d8576b"
             ],
             [
              0.6666666666666666,
              "#ed7953"
             ],
             [
              0.7777777777777778,
              "#fb9f3a"
             ],
             [
              0.8888888888888888,
              "#fdca26"
             ],
             [
              1,
              "#f0f921"
             ]
            ],
            "type": "contour"
           }
          ],
          "contourcarpet": [
           {
            "colorbar": {
             "outlinewidth": 0,
             "ticks": ""
            },
            "type": "contourcarpet"
           }
          ],
          "heatmap": [
           {
            "colorbar": {
             "outlinewidth": 0,
             "ticks": ""
            },
            "colorscale": [
             [
              0,
              "#0d0887"
             ],
             [
              0.1111111111111111,
              "#46039f"
             ],
             [
              0.2222222222222222,
              "#7201a8"
             ],
             [
              0.3333333333333333,
              "#9c179e"
             ],
             [
              0.4444444444444444,
              "#bd3786"
             ],
             [
              0.5555555555555556,
              "#d8576b"
             ],
             [
              0.6666666666666666,
              "#ed7953"
             ],
             [
              0.7777777777777778,
              "#fb9f3a"
             ],
             [
              0.8888888888888888,
              "#fdca26"
             ],
             [
              1,
              "#f0f921"
             ]
            ],
            "type": "heatmap"
           }
          ],
          "heatmapgl": [
           {
            "colorbar": {
             "outlinewidth": 0,
             "ticks": ""
            },
            "colorscale": [
             [
              0,
              "#0d0887"
             ],
             [
              0.1111111111111111,
              "#46039f"
             ],
             [
              0.2222222222222222,
              "#7201a8"
             ],
             [
              0.3333333333333333,
              "#9c179e"
             ],
             [
              0.4444444444444444,
              "#bd3786"
             ],
             [
              0.5555555555555556,
              "#d8576b"
             ],
             [
              0.6666666666666666,
              "#ed7953"
             ],
             [
              0.7777777777777778,
              "#fb9f3a"
             ],
             [
              0.8888888888888888,
              "#fdca26"
             ],
             [
              1,
              "#f0f921"
             ]
            ],
            "type": "heatmapgl"
           }
          ],
          "histogram": [
           {
            "marker": {
             "pattern": {
              "fillmode": "overlay",
              "size": 10,
              "solidity": 0.2
             }
            },
            "type": "histogram"
           }
          ],
          "histogram2d": [
           {
            "colorbar": {
             "outlinewidth": 0,
             "ticks": ""
            },
            "colorscale": [
             [
              0,
              "#0d0887"
             ],
             [
              0.1111111111111111,
              "#46039f"
             ],
             [
              0.2222222222222222,
              "#7201a8"
             ],
             [
              0.3333333333333333,
              "#9c179e"
             ],
             [
              0.4444444444444444,
              "#bd3786"
             ],
             [
              0.5555555555555556,
              "#d8576b"
             ],
             [
              0.6666666666666666,
              "#ed7953"
             ],
             [
              0.7777777777777778,
              "#fb9f3a"
             ],
             [
              0.8888888888888888,
              "#fdca26"
             ],
             [
              1,
              "#f0f921"
             ]
            ],
            "type": "histogram2d"
           }
          ],
          "histogram2dcontour": [
           {
            "colorbar": {
             "outlinewidth": 0,
             "ticks": ""
            },
            "colorscale": [
             [
              0,
              "#0d0887"
             ],
             [
              0.1111111111111111,
              "#46039f"
             ],
             [
              0.2222222222222222,
              "#7201a8"
             ],
             [
              0.3333333333333333,
              "#9c179e"
             ],
             [
              0.4444444444444444,
              "#bd3786"
             ],
             [
              0.5555555555555556,
              "#d8576b"
             ],
             [
              0.6666666666666666,
              "#ed7953"
             ],
             [
              0.7777777777777778,
              "#fb9f3a"
             ],
             [
              0.8888888888888888,
              "#fdca26"
             ],
             [
              1,
              "#f0f921"
             ]
            ],
            "type": "histogram2dcontour"
           }
          ],
          "mesh3d": [
           {
            "colorbar": {
             "outlinewidth": 0,
             "ticks": ""
            },
            "type": "mesh3d"
           }
          ],
          "parcoords": [
           {
            "line": {
             "colorbar": {
              "outlinewidth": 0,
              "ticks": ""
             }
            },
            "type": "parcoords"
           }
          ],
          "pie": [
           {
            "automargin": true,
            "type": "pie"
           }
          ],
          "scatter": [
           {
            "marker": {
             "colorbar": {
              "outlinewidth": 0,
              "ticks": ""
             }
            },
            "type": "scatter"
           }
          ],
          "scatter3d": [
           {
            "line": {
             "colorbar": {
              "outlinewidth": 0,
              "ticks": ""
             }
            },
            "marker": {
             "colorbar": {
              "outlinewidth": 0,
              "ticks": ""
             }
            },
            "type": "scatter3d"
           }
          ],
          "scattercarpet": [
           {
            "marker": {
             "colorbar": {
              "outlinewidth": 0,
              "ticks": ""
             }
            },
            "type": "scattercarpet"
           }
          ],
          "scattergeo": [
           {
            "marker": {
             "colorbar": {
              "outlinewidth": 0,
              "ticks": ""
             }
            },
            "type": "scattergeo"
           }
          ],
          "scattergl": [
           {
            "marker": {
             "colorbar": {
              "outlinewidth": 0,
              "ticks": ""
             }
            },
            "type": "scattergl"
           }
          ],
          "scattermapbox": [
           {
            "marker": {
             "colorbar": {
              "outlinewidth": 0,
              "ticks": ""
             }
            },
            "type": "scattermapbox"
           }
          ],
          "scatterpolar": [
           {
            "marker": {
             "colorbar": {
              "outlinewidth": 0,
              "ticks": ""
             }
            },
            "type": "scatterpolar"
           }
          ],
          "scatterpolargl": [
           {
            "marker": {
             "colorbar": {
              "outlinewidth": 0,
              "ticks": ""
             }
            },
            "type": "scatterpolargl"
           }
          ],
          "scatterternary": [
           {
            "marker": {
             "colorbar": {
              "outlinewidth": 0,
              "ticks": ""
             }
            },
            "type": "scatterternary"
           }
          ],
          "surface": [
           {
            "colorbar": {
             "outlinewidth": 0,
             "ticks": ""
            },
            "colorscale": [
             [
              0,
              "#0d0887"
             ],
             [
              0.1111111111111111,
              "#46039f"
             ],
             [
              0.2222222222222222,
              "#7201a8"
             ],
             [
              0.3333333333333333,
              "#9c179e"
             ],
             [
              0.4444444444444444,
              "#bd3786"
             ],
             [
              0.5555555555555556,
              "#d8576b"
             ],
             [
              0.6666666666666666,
              "#ed7953"
             ],
             [
              0.7777777777777778,
              "#fb9f3a"
             ],
             [
              0.8888888888888888,
              "#fdca26"
             ],
             [
              1,
              "#f0f921"
             ]
            ],
            "type": "surface"
           }
          ],
          "table": [
           {
            "cells": {
             "fill": {
              "color": "#EBF0F8"
             },
             "line": {
              "color": "white"
             }
            },
            "header": {
             "fill": {
              "color": "#C8D4E3"
             },
             "line": {
              "color": "white"
             }
            },
            "type": "table"
           }
          ]
         },
         "layout": {
          "annotationdefaults": {
           "arrowcolor": "#2a3f5f",
           "arrowhead": 0,
           "arrowwidth": 1
          },
          "autotypenumbers": "strict",
          "coloraxis": {
           "colorbar": {
            "outlinewidth": 0,
            "ticks": ""
           }
          },
          "colorscale": {
           "diverging": [
            [
             0,
             "#8e0152"
            ],
            [
             0.1,
             "#c51b7d"
            ],
            [
             0.2,
             "#de77ae"
            ],
            [
             0.3,
             "#f1b6da"
            ],
            [
             0.4,
             "#fde0ef"
            ],
            [
             0.5,
             "#f7f7f7"
            ],
            [
             0.6,
             "#e6f5d0"
            ],
            [
             0.7,
             "#b8e186"
            ],
            [
             0.8,
             "#7fbc41"
            ],
            [
             0.9,
             "#4d9221"
            ],
            [
             1,
             "#276419"
            ]
           ],
           "sequential": [
            [
             0,
             "#0d0887"
            ],
            [
             0.1111111111111111,
             "#46039f"
            ],
            [
             0.2222222222222222,
             "#7201a8"
            ],
            [
             0.3333333333333333,
             "#9c179e"
            ],
            [
             0.4444444444444444,
             "#bd3786"
            ],
            [
             0.5555555555555556,
             "#d8576b"
            ],
            [
             0.6666666666666666,
             "#ed7953"
            ],
            [
             0.7777777777777778,
             "#fb9f3a"
            ],
            [
             0.8888888888888888,
             "#fdca26"
            ],
            [
             1,
             "#f0f921"
            ]
           ],
           "sequentialminus": [
            [
             0,
             "#0d0887"
            ],
            [
             0.1111111111111111,
             "#46039f"
            ],
            [
             0.2222222222222222,
             "#7201a8"
            ],
            [
             0.3333333333333333,
             "#9c179e"
            ],
            [
             0.4444444444444444,
             "#bd3786"
            ],
            [
             0.5555555555555556,
             "#d8576b"
            ],
            [
             0.6666666666666666,
             "#ed7953"
            ],
            [
             0.7777777777777778,
             "#fb9f3a"
            ],
            [
             0.8888888888888888,
             "#fdca26"
            ],
            [
             1,
             "#f0f921"
            ]
           ]
          },
          "colorway": [
           "#636efa",
           "#EF553B",
           "#00cc96",
           "#ab63fa",
           "#FFA15A",
           "#19d3f3",
           "#FF6692",
           "#B6E880",
           "#FF97FF",
           "#FECB52"
          ],
          "font": {
           "color": "#2a3f5f"
          },
          "geo": {
           "bgcolor": "white",
           "lakecolor": "white",
           "landcolor": "#E5ECF6",
           "showlakes": true,
           "showland": true,
           "subunitcolor": "white"
          },
          "hoverlabel": {
           "align": "left"
          },
          "hovermode": "closest",
          "mapbox": {
           "style": "light"
          },
          "paper_bgcolor": "white",
          "plot_bgcolor": "#E5ECF6",
          "polar": {
           "angularaxis": {
            "gridcolor": "white",
            "linecolor": "white",
            "ticks": ""
           },
           "bgcolor": "#E5ECF6",
           "radialaxis": {
            "gridcolor": "white",
            "linecolor": "white",
            "ticks": ""
           }
          },
          "scene": {
           "xaxis": {
            "backgroundcolor": "#E5ECF6",
            "gridcolor": "white",
            "gridwidth": 2,
            "linecolor": "white",
            "showbackground": true,
            "ticks": "",
            "zerolinecolor": "white"
           },
           "yaxis": {
            "backgroundcolor": "#E5ECF6",
            "gridcolor": "white",
            "gridwidth": 2,
            "linecolor": "white",
            "showbackground": true,
            "ticks": "",
            "zerolinecolor": "white"
           },
           "zaxis": {
            "backgroundcolor": "#E5ECF6",
            "gridcolor": "white",
            "gridwidth": 2,
            "linecolor": "white",
            "showbackground": true,
            "ticks": "",
            "zerolinecolor": "white"
           }
          },
          "shapedefaults": {
           "line": {
            "color": "#2a3f5f"
           }
          },
          "ternary": {
           "aaxis": {
            "gridcolor": "white",
            "linecolor": "white",
            "ticks": ""
           },
           "baxis": {
            "gridcolor": "white",
            "linecolor": "white",
            "ticks": ""
           },
           "bgcolor": "#E5ECF6",
           "caxis": {
            "gridcolor": "white",
            "linecolor": "white",
            "ticks": ""
           }
          },
          "title": {
           "x": 0.05
          },
          "xaxis": {
           "automargin": true,
           "gridcolor": "white",
           "linecolor": "white",
           "ticks": "",
           "title": {
            "standoff": 15
           },
           "zerolinecolor": "white",
           "zerolinewidth": 2
          },
          "yaxis": {
           "automargin": true,
           "gridcolor": "white",
           "linecolor": "white",
           "ticks": "",
           "title": {
            "standoff": 15
           },
           "zerolinecolor": "white",
           "zerolinewidth": 2
          }
         }
        },
        "xaxis": {
         "anchor": "y",
         "domain": [
          0,
          1
         ],
         "title": {
          "text": "pc1"
         }
        },
        "yaxis": {
         "anchor": "x",
         "domain": [
          0,
          1
         ],
         "title": {
          "text": "pc2"
         }
        }
       }
      }
     },
     "metadata": {},
     "output_type": "display_data"
    }
   ],
   "source": [
    "import plotly.express as px\n",
    "# # visualize PCA https://plotly.com/python/pca-visualization/\n",
    "# total_variance = pca.explained_variance_ratio_.sum() * 100\n",
    "\n",
    "fig = px.scatter(PCA_df, x=\"pc1\", y=\"pc2\", color=PCA_df[\"date\"], labels = {str(i):f\"PC {i+1}\" for i in range(num_components)})\n",
    "\n",
    "fig.show()\n",
    "\n"
   ]
  },
  {
   "cell_type": "code",
   "execution_count": 67,
   "metadata": {},
   "outputs": [
    {
     "data": {
      "text/plain": [
       "<seaborn.axisgrid.FacetGrid at 0x7fcc8b06fdf0>"
      ]
     },
     "execution_count": 67,
     "metadata": {},
     "output_type": "execute_result"
    },
    {
     "data": {
      "image/png": "[encoded data removed]",
      "text/plain": [
       "<Figure size 360x360 with 1 Axes>"
      ]
     },
     "metadata": {
      "needs_background": "light"
     },
     "output_type": "display_data"
    }
   ],
   "source": [
    "sns.lmplot(x=\"pc1\", y=\"pc2\",\n",
    "        data=PCA_df,\n",
    "        fit_reg=False,\n",
    "        legend=True,\n",
    "        scatter_kws={\"s\": 25})"
   ]
  },
  {
   "cell_type": "markdown",
   "metadata": {},
   "source": [
    "## t-SNE\n",
    "\n",
    "Work based on teammate Jacqueline's work."
   ]
  },
  {
   "cell_type": "code",
   "execution_count": 70,
   "metadata": {},
   "outputs": [
    {
     "name": "stdout",
     "output_type": "stream",
     "text": [
      "         date  segment_1307_max_SRI  segment_873_max_SRI  segment_863_max_SRI  \\\n",
      "0  2018-03-08              3.718594             3.457253             4.562368   \n",
      "1  2018-03-09              4.522901             3.488016             2.997927   \n",
      "2  2018-03-10              6.107322             1.234070             3.085771   \n",
      "3  2018-03-11              3.873077             1.261212             6.840369   \n",
      "4  2018-03-12              5.228657             3.413127             4.470042   \n",
      "\n",
      "   segment_1061_max_SRI  segment_235_max_SRI  segment_225_max_SRI  \\\n",
      "0              0.044862             2.945760             4.199607   \n",
      "1              0.044862             2.187291             5.328785   \n",
      "2              0.044862             2.719971             5.989625   \n",
      "3              0.044862             3.189822             5.489281   \n",
      "4              0.044862             3.863130             4.415463   \n",
      "\n",
      "   segment_460_max_SRI  segment_518_max_SRI  segment_470_max_SRI  ...  \\\n",
      "0             3.028331             3.724648             4.429002  ...   \n",
      "1             3.858570             3.859563             5.073305  ...   \n",
      "2             1.741679             3.162777             4.063662  ...   \n",
      "3             1.741679             4.638495             6.471925  ...   \n",
      "4             4.612428             4.991392             4.664407  ...   \n",
      "\n",
      "   station_40840_max_RRI  station_40850_max_RRI  station_40610_max_RRI  \\\n",
      "0               0.940419               1.093750               0.635217   \n",
      "1               1.289443               2.337111               0.554911   \n",
      "2               3.112223               3.834196               3.938322   \n",
      "3               4.748849               4.101958               4.668180   \n",
      "4               1.214632               0.721219               0.674600   \n",
      "\n",
      "   station_40600_max_RRI  station_41690_max_RRI  station_41680_max_RRI  \\\n",
      "0               0.460772               1.056587               0.156348   \n",
      "1               0.626054               0.820090               1.126202   \n",
      "2               3.936778               1.876850               3.942463   \n",
      "3               4.061820               2.394439               4.565925   \n",
      "4               0.515856               1.015444               0.551766   \n",
      "\n",
      "   station_40280_max_RRI  station_40290_max_RRI  station_41200_max_RRI  \\\n",
      "0               1.037322               1.469957               1.257610   \n",
      "1               0.606894               1.308201               0.732345   \n",
      "2               3.082432               2.434927               1.473967   \n",
      "3               3.578462               3.591185               3.080530   \n",
      "4               1.174367               1.354263               0.579096   \n",
      "\n",
      "   station_41210_max_RRI  \n",
      "0               0.466765  \n",
      "1               0.975567  \n",
      "2               3.281961  \n",
      "3               4.589329  \n",
      "4               0.477413  \n",
      "\n",
      "[5 rows x 1191 columns]\n",
      "(1091, 1191)\n"
     ]
    }
   ],
   "source": [
    "print(SRI_RRI_df.head(5))\n",
    "print(SRI_RRI_df.shape)"
   ]
  },
  {
   "cell_type": "code",
   "execution_count": 76,
   "metadata": {},
   "outputs": [],
   "source": [
    "clean_copy_df = SRI_RRI_df.interpolate(axis=0, limit_direction='both').fillna(-1)\n",
    "\n",
    "# separate features X and date time Y\n",
    "X = clean_copy_df.iloc[:, 1:].values\n",
    "Y = clean_copy_df.iloc[:, 0]\n",
    "\n",
    "# date -> datetime object\n",
    "Y = pd.to_datetime(Y)\n",
    "\n",
    "# standard normalize features\n",
    "X = X / X.max()\n",
    "X = StandardScaler().fit_transform(X)"
   ]
  },
  {
   "cell_type": "code",
   "execution_count": 77,
   "metadata": {},
   "outputs": [],
   "source": [
    "# Masks for days in the week\n",
    "\n",
    "mask_monday = Y.dt.day_of_week == 0\n",
    "mask_tuesday = Y.dt.day_of_week == 1\n",
    "mask_wednesday = Y.dt.day_of_week == 2\n",
    "mask_thursday = Y.dt.day_of_week == 3\n",
    "mask_friday = Y.dt.day_of_week == 4\n",
    "mask_saturday = Y.dt.day_of_week == 5\n",
    "mask_sunday = Y.dt.day_of_week == 6\n",
    "\n",
    "list_days = ['Monday', 'Tuesday', 'Wednesday', 'Thursday', 'Friday', 'Saturday', 'Sunday']"
   ]
  },
  {
   "cell_type": "code",
   "execution_count": 78,
   "metadata": {},
   "outputs": [],
   "source": [
    "# Masks for seasons\n",
    "\n",
    "from matplotlib.pyplot import summer\n",
    "\n",
    "\n",
    "winter_start_0 = '12-21'\n",
    "winter_start_1 = '01-01'\n",
    "spring_start = '03-20'\n",
    "summer_start = '06-21'\n",
    "fall_start = '12-21'\n",
    "\n",
    "list_seasons = ['winter', 'spring', 'summer', 'fall']\n",
    "\n",
    "mask_winter = (Y.dt.strftime('%m-%d') >= winter_start_0) | ((Y.dt.strftime('%m-%d') >= winter_start_1) & (Y.dt.strftime('%m-%d') < spring_start))\n",
    "mask_spring = (Y.dt.strftime('%m-%d') >= spring_start) & (Y.dt.strftime('%m-%d') < summer_start)\n",
    "mask_summer = (Y.dt.strftime('%m-%d') >= summer_start) & (Y.dt.strftime('%m-%d') < fall_start)\n",
    "mask_fall = (Y.dt.strftime('%m-%d') >= fall_start) & (Y.dt.strftime('%m-%d') < winter_start_0)"
   ]
  },
  {
   "cell_type": "code",
   "execution_count": 79,
   "metadata": {},
   "outputs": [],
   "source": [
    "# Masks for seasons and days of the week\n",
    "\n",
    "seasons = pd.Series(np.zeros(len(Y)), name='seasons')\n",
    "seasons[mask_winter] = list_seasons[0]\n",
    "seasons[mask_spring] = list_seasons[1]\n",
    "seasons[mask_summer] = list_seasons[2]\n",
    "seasons[mask_fall] = list_seasons[3]\n",
    "\n",
    "days = pd.Series(np.zeros(len(Y)), name='day_of_week')\n",
    "days[mask_monday] = list_days[0]\n",
    "days[mask_tuesday] = list_days[1]\n",
    "days[mask_wednesday] = list_days[2]\n",
    "days[mask_thursday] = list_days[3]\n",
    "days[mask_friday] = list_days[4]\n",
    "days[mask_saturday] = list_days[5]\n",
    "days[mask_sunday] = list_days[6]"
   ]
  },
  {
   "cell_type": "code",
   "execution_count": 88,
   "metadata": {},
   "outputs": [
    {
     "name": "stdout",
     "output_type": "stream",
     "text": [
      "(1091, 2)\n"
     ]
    },
    {
     "data": {
      "application/vnd.plotly.v1+json": {
       "config": {
        "plotlyServerURL": "https://plot.ly"
       },
       "data": [
        {
         "hovertemplate": "day_of_week=Thursday<br>tSNE1=%{x}<br>tSNE2=%{y}<extra></extra>",
         "legendgroup": "Thursday",
         "marker": {
          "color": "#636efa",
          "symbol": "circle"
         },
         "mode": "markers",
         "name": "Thursday",
         "showlegend": true,
         "type": "scattergl",
         "x": [
          0.4671681225299835,
          0.8773499131202698,
          0.7119420170783997,
          0.27364277839660645,
          1.2954591512680054,
          0.6924622058868408,
          1.7958136796951294,
          0.9174923896789551,
          1.1525568962097168,
          0.7905429005622864,
          0.3824118673801422,
          -0.7273513078689575,
          0.7013225555419922,
          1.8628928661346436,
          -0.9147886037826538,
          -5.1006035804748535,
          -1.3583439588546753,
          -3.0006213188171387,
          -1.7511874437332153,
          -0.4388045370578766,
          -1.1067006587982178,
          -1.9189465045928955,
          -2.100233554840088,
          -2.7977309226989746,
          -1.9066858291625977,
          0.9029338359832764,
          1.5997215509414673,
          -0.10280357301235199,
          -0.032726261764764786,
          1.0673744678497314,
          -0.4055667817592621,
          2.2272379398345947,
          1.8106062412261963,
          4.016274452209473,
          6.656100749969482,
          8.322129249572754,
          8.857989311218262,
          -16.04608154296875,
          9.26192855834961,
          8.523682594299316,
          8.796098709106445,
          7.955650806427002,
          6.781763553619385,
          9.669920921325684,
          6.362198352813721,
          8.995072364807129,
          9.770403861999512,
          -14.697627067565918,
          7.905228137969971,
          11.066376686096191,
          9.670846939086914,
          12.120426177978516,
          9.637761116027832,
          7.3082499504089355,
          6.599226474761963,
          6.740011692047119,
          5.827178478240967,
          5.809143543243408,
          4.049278736114502,
          6.929406642913818,
          8.881778717041016,
          6.90158224105835,
          6.071353435516357,
          10.972114562988281,
          9.764430046081543,
          5.81637716293335,
          6.6218461990356445,
          6.743859767913818,
          3.45521879196167,
          -15.3342866897583,
          5.206105709075928,
          2.7222955226898193,
          5.0769853591918945,
          11.317466735839844,
          3.3275954723358154,
          5.2453131675720215,
          4.494203567504883,
          5.1219892501831055,
          12.47120189666748,
          3.736377477645874,
          4.9879469871521,
          7.384318828582764,
          7.178141117095947,
          4.550878524780273,
          8.916918754577637,
          3.5122203826904297,
          -2.074357748031616,
          6.51432466506958,
          8.648161888122559,
          8.736174583435059,
          -16.003028869628906,
          8.176392555236816,
          8.609697341918945,
          -3.7437736988067627,
          -3.96325945854187,
          8.251399040222168,
          7.349515438079834,
          7.793933868408203,
          9.385704040527344,
          7.185724258422852,
          7.7760009765625,
          2.3163745403289795,
          6.276033878326416,
          7.754423141479492,
          2.035085678100586,
          6.96021842956543,
          -7.978165626525879,
          -7.923138618469238,
          -7.655526161193848,
          -7.942143440246582,
          -7.729241371154785,
          -7.794131278991699,
          -7.788034915924072,
          -8.407027244567871,
          -8.493673324584961,
          -8.120189666748047,
          -3.8272430896759033,
          -8.52796745300293,
          -7.111392974853516,
          -6.227996349334717,
          -7.3265156745910645,
          -7.647219181060791,
          -7.377613067626953,
          -7.974978923797607,
          -7.913051128387451,
          -7.4630351066589355,
          -7.579691410064697,
          -8.055697441101074,
          -7.824203014373779,
          -5.9062066078186035,
          -5.3576226234436035,
          -5.6737823486328125,
          -7.599558353424072,
          -7.406190872192383,
          -5.949618339538574,
          -6.21079158782959,
          -5.919356822967529,
          -6.139185905456543,
          -7.290859699249268,
          -6.415938854217529,
          -6.8665642738342285,
          -6.449865341186523,
          -14.266047477722168,
          -4.438323020935059,
          -6.3764495849609375,
          -5.790420055389404,
          -6.52813196182251,
          -7.12212610244751,
          -6.453738689422607,
          -6.466522216796875,
          -4.94789981842041,
          -3.831423044204712,
          -5.376254558563232,
          -5.078609466552734,
          -7.161360740661621,
          -4.7724080085754395
         ],
         "xaxis": "x",
         "y": [
          -9.036004066467285,
          -5.964024066925049,
          -8.570396423339844,
          -8.105895042419434,
          -8.416659355163574,
          -7.815732955932617,
          -8.611000061035156,
          -10.046257972717285,
          -9.303958892822266,
          -9.55007553100586,
          -10.058714866638184,
          -9.531628608703613,
          -10.279186248779297,
          -9.574248313903809,
          -10.870516777038574,
          -4.4557414054870605,
          -9.623543739318848,
          -9.168452262878418,
          -9.743691444396973,
          -9.25164794921875,
          -8.065587997436523,
          -10.08147144317627,
          -7.877300262451172,
          -9.67592716217041,
          -10.754279136657715,
          -12.919770240783691,
          -13.04943561553955,
          -12.842280387878418,
          -12.57835865020752,
          -11.949644088745117,
          -12.239995956420898,
          -10.19440746307373,
          -11.382951736450195,
          -6.724979877471924,
          -3.5018396377563477,
          -0.39141541719436646,
          -2.9430994987487793,
          1.9889100790023804,
          -1.8010263442993164,
          -3.494424819946289,
          -2.29361891746521,
          4.971409320831299,
          0.345612496137619,
          -0.6783220767974854,
          0.2840704023838043,
          -1.3263895511627197,
          -0.4670791029930115,
          1.7957477569580078,
          -1.930827021598816,
          -0.1575489044189453,
          -1.0881239175796509,
          2.098195791244507,
          -1.8284496068954468,
          3.957730531692505,
          -2.49461030960083,
          2.727714776992798,
          1.390594482421875,
          -1.8616362810134888,
          -0.6678482890129089,
          -1.2440381050109863,
          5.558974266052246,
          0.4414781928062439,
          0.45181217789649963,
          1.5027704238891602,
          -1.2600696086883545,
          0.6277386546134949,
          1.1079293489456177,
          0.7270377278327942,
          3.282334327697754,
          1.8604521751403809,
          -0.3007034957408905,
          1.9644709825515747,
          -2.94012188911438,
          0.2668077349662781,
          0.40075764060020447,
          2.152132511138916,
          2.2812018394470215,
          3.7613277435302734,
          -0.5342839360237122,
          1.1631139516830444,
          -4.4605631828308105,
          0.9503385424613953,
          -5.854759216308594,
          -2.256070852279663,
          3.0782179832458496,
          -1.7183144092559814,
          2.3922815322875977,
          1.27081298828125,
          1.939333438873291,
          3.34177827835083,
          1.9971362352371216,
          3.042574167251587,
          0.3598739206790924,
          16.710342407226562,
          9.525113105773926,
          0.5098543167114258,
          0.5381687879562378,
          2.154262065887451,
          0.16296471655368805,
          6.143424987792969,
          0.6323340535163879,
          6.256503105163574,
          -2.925635814666748,
          1.3085449934005737,
          -0.9703904986381531,
          0.541417121887207,
          1.4363173246383667,
          1.424946665763855,
          0.5515006184577942,
          0.7152077555656433,
          -0.6696099042892456,
          1.273705244064331,
          1.1060593128204346,
          0.039794761687517166,
          0.6357649564743042,
          0.5726686120033264,
          16.74782371520996,
          1.6221169233322144,
          1.7907856702804565,
          3.3521337509155273,
          2.4898080825805664,
          -1.411191463470459,
          2.8831582069396973,
          3.3063395023345947,
          2.1314046382904053,
          4.02826452255249,
          4.099410533905029,
          4.920499324798584,
          6.061209678649902,
          4.070462226867676,
          4.688164710998535,
          3.9590864181518555,
          5.5957818031311035,
          5.151246070861816,
          4.234419822692871,
          3.97835111618042,
          4.195590972900391,
          4.5135722160339355,
          3.2911570072174072,
          6.3193559646606445,
          6.091763019561768,
          6.043731689453125,
          1.5737484693527222,
          2.652316093444824,
          6.282954692840576,
          2.810070753097534,
          6.355852127075195,
          6.861123085021973,
          1.8683489561080933,
          2.0582971572875977,
          6.081904411315918,
          16.73628807067871,
          5.154217720031738,
          5.000426292419434,
          0.24303199350833893,
          5.430161476135254
         ],
         "yaxis": "y"
        },
        {
         "hovertemplate": "day_of_week=Friday<br>tSNE1=%{x}<br>tSNE2=%{y}<extra></extra>",
         "legendgroup": "Friday",
         "marker": {
          "color": "#EF553B",
          "symbol": "circle"
         },
         "mode": "markers",
         "name": "Friday",
         "showlegend": true,
         "type": "scattergl",
         "x": [
          -0.3089551329612732,
          -0.7542489171028137,
          0.23595373332500458,
          -2.5213687419891357,
          -0.21781320869922638,
          -0.27873942255973816,
          1.478956699371338,
          0.8251942992210388,
          -1.9403908252716064,
          1.4693673849105835,
          0.18612632155418396,
          -0.9760383367538452,
          0.9744716286659241,
          -1.3595168590545654,
          -1.1776236295700073,
          -4.876975059509277,
          -0.33925074338912964,
          -0.476199746131897,
          -1.273585319519043,
          -0.8770418763160706,
          -1.8907115459442139,
          -2.0550243854522705,
          -1.9973832368850708,
          -2.9973814487457275,
          -3.180264711380005,
          0.46749347448349,
          1.1371651887893677,
          1.0722440481185913,
          -0.5669070482254028,
          0.3847462236881256,
          2.5590200424194336,
          -2.1878514289855957,
          2.418125629425049,
          3.1098079681396484,
          3.4471259117126465,
          8.29067611694336,
          8.5236177444458,
          -9.07535171508789,
          7.997469425201416,
          7.9653215408325195,
          11.527957916259766,
          7.757349014282227,
          10.281503677368164,
          9.169791221618652,
          6.671339511871338,
          8.989686965942383,
          -5.198761940002441,
          11.209403991699219,
          3.776165008544922,
          10.962296485900879,
          7.102022647857666,
          7.7585062980651855,
          5.626849174499512,
          6.275146484375,
          4.858703136444092,
          6.511468887329102,
          -1.2745182514190674,
          6.3858962059021,
          -2.064990758895874,
          5.9107890129089355,
          6.225431442260742,
          6.955868244171143,
          -2.395482301712036,
          7.205496311187744,
          6.811388969421387,
          5.266754627227783,
          6.212993621826172,
          6.390951156616211,
          -3.9082038402557373,
          -8.788728713989258,
          3.587796211242676,
          7.1364827156066895,
          4.5247602462768555,
          5.342133522033691,
          2.667538642883301,
          -1.504237413406372,
          0.431079238653183,
          5.396582126617432,
          4.6126227378845215,
          5.533904075622559,
          10.233150482177734,
          -3.6426751613616943,
          8.377636909484863,
          6.155453681945801,
          4.4289984703063965,
          4.307743549346924,
          6.767640590667725,
          2.7860770225524902,
          8.883663177490234,
          8.18908977508545,
          -14.009270668029785,
          2.7612531185150146,
          -3.717475175857544,
          6.487179756164551,
          7.6208109855651855,
          7.930013179779053,
          6.991473197937012,
          2.5300698280334473,
          7.188596725463867,
          5.956252098083496,
          7.59220552444458,
          -0.12836681306362152,
          5.800256729125977,
          5.815092086791992,
          5.489614009857178,
          -0.2742515206336975,
          -7.512602806091309,
          -8.171128273010254,
          -7.276281356811523,
          -7.849708080291748,
          -8.114422798156738,
          -7.195217609405518,
          -7.2952985763549805,
          -7.606038570404053,
          -6.288025856018066,
          -7.931540489196777,
          -4.246975898742676,
          -5.987053394317627,
          -6.423989295959473,
          -5.049178123474121,
          -7.245205879211426,
          -8.672670364379883,
          -7.852516174316406,
          -6.012943744659424,
          -7.549838066101074,
          -7.614664554595947,
          -6.6612114906311035,
          -2.958812952041626,
          -6.915473937988281,
          -4.30493688583374,
          -3.2208354473114014,
          -4.658308982849121,
          -5.730051040649414,
          -4.373554229736328,
          -6.156353950500488,
          -5.04263162612915,
          -6.083256244659424,
          -6.5420427322387695,
          -5.355667591094971,
          -3.817941427230835,
          -3.3734092712402344,
          -4.937461853027344,
          -9.569493293762207,
          -4.878937244415283,
          -3.131634473800659,
          -5.722986698150635,
          -14.1254243850708,
          -14.108232498168945,
          -6.613602638244629,
          -5.345293045043945,
          -6.532909393310547,
          -3.8950905799865723,
          -6.763437747955322,
          -5.020549297332764,
          -6.081003665924072,
          -5.875547885894775
         ],
         "xaxis": "x",
         "y": [
          -8.571351051330566,
          -8.073416709899902,
          -8.424298286437988,
          -6.031966209411621,
          -7.790657997131348,
          -8.509289741516113,
          -9.232781410217285,
          -9.501839637756348,
          -7.547083854675293,
          -9.628663063049316,
          -9.469730377197266,
          -11.202184677124023,
          -10.853034019470215,
          -8.281526565551758,
          -9.318388938903809,
          -5.09151029586792,
          -8.54537296295166,
          -11.193412780761719,
          -9.788185119628906,
          -10.099534034729004,
          -7.92833948135376,
          -10.244548797607422,
          -11.393453598022461,
          -9.956621170043945,
          -4.578756332397461,
          -11.867815017700195,
          -12.74094009399414,
          -11.827264785766602,
          -12.144116401672363,
          -11.842110633850098,
          -9.111062049865723,
          -6.154731273651123,
          -6.671021938323975,
          -6.761054039001465,
          -5.9351091384887695,
          -2.897113084793091,
          -3.6581342220306396,
          3.308452844619751,
          -4.176581382751465,
          -4.495193004608154,
          0.8896834850311279,
          -0.9076087474822998,
          -2.1190011501312256,
          -0.4873567819595337,
          2.5606932640075684,
          -1.29041588306427,
          -4.323787689208984,
          -1.2574496269226074,
          4.534879207611084,
          0.05273991823196411,
          3.4089860916137695,
          -1.6413418054580688,
          -0.2579689919948578,
          1.7479662895202637,
          -3.534909248352051,
          3.228945732116699,
          0.14870451390743256,
          -1.85608971118927,
          6.4572062492370605,
          -1.2805657386779785,
          -0.9395432472229004,
          -2.0176100730895996,
          1.7519617080688477,
          -1.9652931690216064,
          -1.4217677116394043,
          -1.4800056219100952,
          -2.6494572162628174,
          1.757200837135315,
          -0.5417702794075012,
          2.126533031463623,
          -2.9706852436065674,
          6.301010608673096,
          0.22931523621082306,
          0.9829277992248535,
          4.492356300354004,
          -6.204883575439453,
          -4.172177314758301,
          -3.3626456260681152,
          1.5372068881988525,
          2.2421910762786865,
          0.7063174843788147,
          -1.2028172016143799,
          4.072000980377197,
          4.2460455894470215,
          3.6005589962005615,
          -1.1852037906646729,
          2.013535499572754,
          1.2734813690185547,
          2.180673599243164,
          2.0822219848632812,
          1.0714836120605469,
          -0.34928587079048157,
          16.70630645751953,
          3.4433677196502686,
          1.2880531549453735,
          0.8164790272712708,
          0.9669401049613953,
          -12.123635292053223,
          1.4937621355056763,
          1.09762442111969,
          1.7215992212295532,
          -0.7791167497634888,
          5.5829668045043945,
          5.487888336181641,
          4.31168270111084,
          3.3415470123291016,
          1.4751538038253784,
          1.6995697021484375,
          -0.8421738743782043,
          0.13351477682590485,
          -0.7514245510101318,
          -0.05801566317677498,
          1.5790737867355347,
          1.434972882270813,
          -0.9085944294929504,
          0.5683523416519165,
          8.912980079650879,
          -0.48285675048828125,
          1.434838891029358,
          2.2658379077911377,
          2.5024209022521973,
          2.307335376739502,
          -1.193513035774231,
          -1.1523278951644897,
          4.744856357574463,
          2.8721556663513184,
          1.5632967948913574,
          5.709930419921875,
          3.8406460285186768,
          5.050807952880859,
          4.594072341918945,
          4.162799835205078,
          3.9342689514160156,
          4.040963172912598,
          4.337425708770752,
          4.062143802642822,
          4.003593444824219,
          2.47812557220459,
          3.274179220199585,
          4.518524646759033,
          1.8631490468978882,
          3.254927158355713,
          -0.35589542984962463,
          2.6609532833099365,
          4.229365348815918,
          2.681262731552124,
          1.6758249998092651,
          1.8168578147888184,
          2.0157294273376465,
          4.359404563903809,
          2.1013500690460205,
          16.520231246948242,
          1.2523167133331299,
          0.6574097871780396,
          5.037008762359619,
          1.2369097471237183
         ],
         "yaxis": "y"
        },
        {
         "hovertemplate": "day_of_week=Saturday<br>tSNE1=%{x}<br>tSNE2=%{y}<extra></extra>",
         "legendgroup": "Saturday",
         "marker": {
          "color": "#00cc96",
          "symbol": "circle"
         },
         "mode": "markers",
         "name": "Saturday",
         "showlegend": true,
         "type": "scattergl",
         "x": [
          -9.480430603027344,
          0.6481902003288269,
          -9.34123420715332,
          -10.100831985473633,
          -8.144762992858887,
          -9.28452205657959,
          -10.90471363067627,
          -8.808070182800293,
          -8.461576461791992,
          -11.364274978637695,
          -10.03225326538086,
          -3.5781760215759277,
          -9.39838981628418,
          -7.741532802581787,
          -4.649433135986328,
          -8.551856994628906,
          -6.773845195770264,
          -1.5011736154556274,
          -8.530253410339355,
          -8.586189270019531,
          -5.032553672790527,
          -1.9805582761764526,
          -1.5930153131484985,
          -1.4597009420394897,
          -7.111720561981201,
          -6.554227352142334,
          -10.368192672729492,
          -9.62683391571045,
          -10.010509490966797,
          -10.991537094116211,
          -10.958337783813477,
          -10.709711074829102,
          -10.755873680114746,
          -11.372435569763184,
          -7.2260332107543945,
          -11.803791046142578,
          -6.856751441955566,
          2.027723550796509,
          -11.797015190124512,
          -11.746265411376953,
          -9.936322212219238,
          1.4403971433639526,
          13.292906761169434,
          -2.7336883544921875,
          -3.8788511753082275,
          -8.805577278137207,
          -9.26705265045166,
          12.150434494018555,
          -11.275542259216309,
          -9.748787879943848,
          -11.229897499084473,
          -11.221327781677246,
          -11.632068634033203,
          0.33588793873786926,
          -9.655982971191406,
          -11.656708717346191,
          -8.151565551757812,
          -2.0984089374542236,
          -8.720840454101562,
          -12.154061317443848,
          -3.6035845279693604,
          -10.449074745178223,
          -9.358682632446289,
          0.940496027469635,
          -11.665237426757812,
          -9.36295223236084,
          -6.484523296356201,
          -3.112041473388672,
          -5.744192123413086,
          0.24594645202159882,
          -2.7701430320739746,
          -9.551336288452148,
          -9.35317611694336,
          -1.727940320968628,
          -1.868206262588501,
          -4.538681507110596,
          -8.642258644104004,
          -2.7251105308532715,
          -10.000715255737305,
          -3.5635006427764893,
          -10.11429500579834,
          -10.82340145111084,
          -8.70317554473877,
          -7.951662063598633,
          -8.365096092224121,
          -12.000472068786621,
          -9.288969039916992,
          -8.913013458251953,
          -9.520707130432129,
          -8.884395599365234,
          -1.0722650289535522,
          -8.975831031799316,
          -3.8379404544830322,
          -0.01235899142920971,
          15.700274467468262,
          -0.5649847388267517,
          -12.975205421447754,
          -10.237957954406738,
          -10.733983039855957,
          -10.939119338989258,
          -10.860950469970703,
          -10.68896484375,
          -10.590859413146973,
          -8.355791091918945,
          -3.1700642108917236,
          -0.5175193548202515,
          18.366819381713867,
          18.4781551361084,
          18.476869583129883,
          18.60685157775879,
          18.499435424804688,
          18.46174430847168,
          18.819414138793945,
          18.514352798461914,
          18.697021484375,
          18.553377151489258,
          18.666418075561523,
          19.159814834594727,
          18.896995544433594,
          17.490093231201172,
          17.575136184692383,
          17.53809356689453,
          17.352249145507812,
          17.17586898803711,
          17.063779830932617,
          16.998905181884766,
          17.408803939819336,
          16.754947662353516,
          17.440319061279297,
          16.497671127319336,
          16.368694305419922,
          17.163711547851562,
          16.042184829711914,
          16.96605682373047,
          17.140460968017578,
          16.26403045654297,
          18.002756118774414,
          17.0390625,
          16.82384490966797,
          17.36541748046875,
          17.456247329711914,
          17.76107406616211,
          17.392881393432617,
          17.354652404785156,
          17.344444274902344,
          17.157793045043945,
          17.82908058166504,
          16.657012939453125,
          18.375423431396484,
          17.851219177246094,
          17.506694793701172,
          17.8831787109375,
          17.36700439453125,
          18.102489471435547,
          19.38817596435547,
          18.09437370300293
         ],
         "xaxis": "x",
         "y": [
          -2.1970274448394775,
          -7.05795955657959,
          -2.2085494995117188,
          -2.1610748767852783,
          -1.8610895872116089,
          -1.4510022401809692,
          -2.5336594581604004,
          -1.7628720998764038,
          -4.549030780792236,
          -2.2491345405578613,
          -3.1367874145507812,
          -6.223828315734863,
          0.7541260719299316,
          -2.7755637168884277,
          -8.528965950012207,
          -4.271169662475586,
          -2.293813943862915,
          -4.797353744506836,
          -2.878453016281128,
          -1.99247145652771,
          -6.422011852264404,
          -0.9633283019065857,
          2.7726166248321533,
          -7.520703315734863,
          -3.789982318878174,
          -3.152021884918213,
          -0.45901405811309814,
          -0.7033019065856934,
          -3.0003089904785156,
          0.14055922627449036,
          1.3086729049682617,
          -0.507104754447937,
          0.9202911853790283,
          0.7678539752960205,
          -0.35244905948638916,
          2.1205251216888428,
          5.2004780769348145,
          0.34450799226760864,
          2.259894847869873,
          2.1993398666381836,
          1.7517796754837036,
          0.5369423627853394,
          -1.0128135681152344,
          3.3382198810577393,
          16.773914337158203,
          -0.9161961078643799,
          -0.8620585203170776,
          -1.4794052839279175,
          3.0038869380950928,
          4.684420585632324,
          2.5022823810577393,
          3.620213747024536,
          3.195382833480835,
          5.471457004547119,
          5.127317428588867,
          2.0120272636413574,
          6.546341896057129,
          3.0667409896850586,
          4.394468307495117,
          3.062931537628174,
          -2.143439769744873,
          3.4261462688446045,
          3.8122780323028564,
          0.8237192034721375,
          3.0284981727600098,
          3.045874834060669,
          -1.4715633392333984,
          1.0336825847625732,
          2.571584701538086,
          0.21136480569839478,
          0.13987644016742706,
          7.514233589172363,
          1.431232213973999,
          -0.6666260957717896,
          5.05325984954834,
          -0.7156686186790466,
          3.0877223014831543,
          1.7158247232437134,
          2.389665365219116,
          0.2502240240573883,
          4.023229122161865,
          2.993922233581543,
          4.548646450042725,
          7.2524919509887695,
          -0.999036967754364,
          2.8725900650024414,
          2.338548421859741,
          3.8571419715881348,
          0.24293220043182373,
          1.165303349494934,
          1.7000200748443604,
          0.21379446983337402,
          16.756324768066406,
          1.4204349517822266,
          -1.1155327558517456,
          1.4296375513076782,
          2.967724561691284,
          2.8821427822113037,
          4.72344970703125,
          5.657097816467285,
          5.8700456619262695,
          6.025085926055908,
          5.993884086608887,
          2.414881467819214,
          6.841646194458008,
          1.5376901626586914,
          -4.009688377380371,
          -3.3744263648986816,
          -3.729722738265991,
          -3.5629959106445312,
          -3.9711897373199463,
          -3.0663342475891113,
          -3.2638680934906006,
          -3.5574722290039062,
          -3.294351816177368,
          -3.3648195266723633,
          -3.5667171478271484,
          -4.119530200958252,
          -2.650832414627075,
          -2.773805856704712,
          -1.8501651287078857,
          -3.776045799255371,
          -3.4571897983551025,
          -2.51928448677063,
          -2.6802453994750977,
          -2.7289392948150635,
          -2.6152117252349854,
          -2.838130474090576,
          -2.9950692653656006,
          -1.6976252794265747,
          -2.8958683013916016,
          -2.0692484378814697,
          -2.3011021614074707,
          -1.8064604997634888,
          -1.5181595087051392,
          -2.1906580924987793,
          -2.4745781421661377,
          -1.4766536951065063,
          -1.286799669265747,
          -2.2321550846099854,
          -1.7344807386398315,
          -2.03979229927063,
          -0.6841094493865967,
          -1.7675844430923462,
          -1.7451545000076294,
          -0.5578446984291077,
          -2.309812068939209,
          -0.4535866379737854,
          -2.209373950958252,
          -2.6428613662719727,
          -1.2980303764343262,
          -3.177961826324463,
          -1.6650407314300537,
          -1.7186956405639648,
          -3.6964097023010254,
          -2.2121222019195557
         ],
         "yaxis": "y"
        },
        {
         "hovertemplate": "day_of_week=Sunday<br>tSNE1=%{x}<br>tSNE2=%{y}<extra></extra>",
         "legendgroup": "Sunday",
         "marker": {
          "color": "#ab63fa",
          "symbol": "circle"
         },
         "mode": "markers",
         "name": "Sunday",
         "showlegend": true,
         "type": "scattergl",
         "x": [
          -11.999761581420898,
          -11.926397323608398,
          -11.66008186340332,
          -11.46166706085205,
          -12.479618072509766,
          -3.8972883224487305,
          -11.969367980957031,
          -11.679793357849121,
          -12.421285629272461,
          -12.056585311889648,
          -12.583187103271484,
          -6.857257843017578,
          -11.429862976074219,
          -11.288406372070312,
          -10.26796817779541,
          2.71504545211792,
          -9.949463844299316,
          -8.658340454101562,
          -8.928119659423828,
          -10.341794967651367,
          -9.77334213256836,
          -8.909503936767578,
          -3.820007085800171,
          -5.9741082191467285,
          -10.390089988708496,
          -4.65752649307251,
          -13.045048713684082,
          -12.97447681427002,
          -13.232318878173828,
          -13.243894577026367,
          -7.485847473144531,
          -12.9814453125,
          -12.794861793518066,
          -13.478385925292969,
          -13.542506217956543,
          -13.752311706542969,
          -3.9085793495178223,
          -0.6426151394844055,
          -13.225594520568848,
          -12.968806266784668,
          -14.038060188293457,
          13.657910346984863,
          14.571858406066895,
          -10.568753242492676,
          -3.876030683517456,
          -12.97988224029541,
          0.6482770442962646,
          -9.142254829406738,
          -12.802638053894043,
          -12.70802116394043,
          -13.230672836303711,
          -12.884852409362793,
          -13.147150039672852,
          -13.723641395568848,
          -12.46526050567627,
          -14.159231185913086,
          -13.201882362365723,
          -14.357368469238281,
          -13.600184440612793,
          -13.92264461517334,
          -14.298110008239746,
          -13.066425323486328,
          -13.42032241821289,
          -0.8632087111473083,
          -10.69731616973877,
          -13.84605598449707,
          -11.916940689086914,
          -13.033381462097168,
          2.818591833114624,
          0.46975934505462646,
          -11.617132186889648,
          -9.705260276794434,
          -13.027523040771484,
          -1.2985872030258179,
          -12.709280967712402,
          -11.55207633972168,
          -12.725340843200684,
          -2.7339274883270264,
          -12.298466682434082,
          -12.640477180480957,
          -13.602045059204102,
          -12.621987342834473,
          -12.926362991333008,
          -3.435483694076538,
          -4.306332111358643,
          -11.05609130859375,
          -9.229604721069336,
          -11.965813636779785,
          -13.102431297302246,
          -10.585987091064453,
          0.3012075424194336,
          -12.411421775817871,
          -3.868752956390381,
          15.055411338806152,
          16.471101760864258,
          -11.673880577087402,
          -12.429071426391602,
          -12.531697273254395,
          -12.318890571594238,
          -12.370882034301758,
          -12.030346870422363,
          -11.707077026367188,
          -12.375470161437988,
          -10.213817596435547,
          -12.388507843017578,
          12.527080535888672,
          19.397184371948242,
          20.1834716796875,
          20.287593841552734,
          19.83599281311035,
          19.693073272705078,
          19.56433868408203,
          20.007057189941406,
          19.3643856048584,
          19.99165153503418,
          20.009714126586914,
          20.524612426757812,
          20.151371002197266,
          20.212467193603516,
          19.53428840637207,
          19.082855224609375,
          19.18889808654785,
          18.476713180541992,
          18.47894287109375,
          19.664216995239258,
          19.753618240356445,
          19.649723052978516,
          19.702714920043945,
          19.429004669189453,
          18.947397232055664,
          19.391586303710938,
          18.9398193359375,
          17.807340621948242,
          19.283946990966797,
          18.990936279296875,
          19.01938247680664,
          18.929731369018555,
          18.7883243560791,
          18.378705978393555,
          18.484127044677734,
          18.85670280456543,
          18.907146453857422,
          19.15638542175293,
          19.216215133666992,
          19.046466827392578,
          18.893718719482422,
          19.155481338500977,
          19.01958656311035,
          18.89872932434082,
          19.00044822692871,
          18.940340042114258,
          19.42392921447754,
          19.141366958618164,
          20.472633361816406,
          18.57948875427246,
          18.81653594970703
         ],
         "xaxis": "x",
         "y": [
          -1.6651439666748047,
          -2.0108487606048584,
          -0.77181077003479,
          -2.2449984550476074,
          -1.4504352807998657,
          16.79443359375,
          -0.7765483260154724,
          -0.08909431844949722,
          -0.28037703037261963,
          -0.7831504940986633,
          4.8704514503479,
          -5.607060432434082,
          -2.4592604637145996,
          -1.6361581087112427,
          -3.1664111614227295,
          -4.2866435050964355,
          -3.9687557220458984,
          -3.165278911590576,
          -3.5522241592407227,
          -1.2144259214401245,
          -3.817906379699707,
          -4.078928470611572,
          16.7507381439209,
          -1.900829553604126,
          0.11596665531396866,
          -7.293915271759033,
          0.1891692578792572,
          -0.4418300688266754,
          0.2257813811302185,
          1.8083231449127197,
          -2.984576940536499,
          -0.03148679435253143,
          1.1969966888427734,
          2.263580322265625,
          2.7189533710479736,
          3.6849887371063232,
          16.762042999267578,
          1.676902413368225,
          2.6842637062072754,
          1.7196258306503296,
          4.0909647941589355,
          -1.9721060991287231,
          -0.09169360995292664,
          1.8440330028533936,
          16.778900146484375,
          3.9774980545043945,
          2.5726993083953857,
          6.5411763191223145,
          1.4301320314407349,
          3.48726224899292,
          3.553267002105713,
          3.673444986343384,
          3.7314374446868896,
          4.101024627685547,
          3.435279130935669,
          5.860335826873779,
          4.0677080154418945,
          3.335759401321411,
          4.859694957733154,
          5.617033004760742,
          4.937205791473389,
          2.4920990467071533,
          4.561144828796387,
          3.2625160217285156,
          2.702455520629883,
          4.766580581665039,
          3.7019004821777344,
          5.034542560577393,
          -4.100553512573242,
          0.20133203268051147,
          7.222738265991211,
          7.565235614776611,
          5.803686618804932,
          1.035668134689331,
          5.642329216003418,
          4.607513427734375,
          5.450092792510986,
          -0.8836822509765625,
          2.6332473754882812,
          3.44563889503479,
          2.9434688091278076,
          4.294185161590576,
          4.1660027503967285,
          16.89858055114746,
          16.779212951660156,
          4.07174015045166,
          5.857214450836182,
          4.684237003326416,
          3.3621840476989746,
          1.757423996925354,
          2.1117687225341797,
          4.399144649505615,
          16.77501678466797,
          -0.6158537864685059,
          -1.1324992179870605,
          5.229282379150391,
          4.352687835693359,
          4.1566572189331055,
          4.426848888397217,
          4.57592248916626,
          4.065716743469238,
          5.315375328063965,
          6.34187650680542,
          4.5540666580200195,
          6.047571659088135,
          2.0187976360321045,
          -2.0478708744049072,
          -2.0512778759002686,
          -2.2518386840820312,
          -1.9870684146881104,
          -1.7667107582092285,
          -1.7147610187530518,
          -2.0856640338897705,
          -1.954369068145752,
          -2.4965574741363525,
          -1.3962252140045166,
          -1.1059147119522095,
          -1.1322015523910522,
          -0.5138453841209412,
          -1.6283098459243774,
          -1.0889053344726562,
          -1.2421174049377441,
          -2.3476901054382324,
          -1.9175362586975098,
          -0.7957778573036194,
          -3.06012225151062,
          -1.0439929962158203,
          -0.37447389960289,
          -1.1130499839782715,
          -0.20001491904258728,
          -0.04912018030881882,
          -0.5058909058570862,
          -0.2746310830116272,
          -0.696272611618042,
          -0.972333550453186,
          -0.9952012896537781,
          -1.4114760160446167,
          -1.119568109512329,
          -0.6676783561706543,
          -0.9677448868751526,
          -1.472328543663025,
          -1.553287386894226,
          -1.211644172668457,
          -1.5620580911636353,
          -1.4686386585235596,
          -1.1792327165603638,
          -1.3656251430511475,
          -1.3673752546310425,
          -1.498887538909912,
          -1.4934357404708862,
          -1.5389528274536133,
          -2.234118700027466,
          -2.0910286903381348,
          -1.6188777685165405,
          -0.17031995952129364,
          -1.4276509284973145
         ],
         "yaxis": "y"
        },
        {
         "hovertemplate": "day_of_week=Monday<br>tSNE1=%{x}<br>tSNE2=%{y}<extra></extra>",
         "legendgroup": "Monday",
         "marker": {
          "color": "#FFA15A",
          "symbol": "circle"
         },
         "mode": "markers",
         "name": "Monday",
         "showlegend": true,
         "type": "scattergl",
         "x": [
          0.7474814653396606,
          -0.5048849582672119,
          -0.12410206347703934,
          0.379288911819458,
          1.165751338005066,
          7.441627502441406,
          1.1178607940673828,
          1.2865992784500122,
          1.9348728656768799,
          0.8769280910491943,
          -0.6926711797714233,
          -16.0259952545166,
          -0.769157886505127,
          0.3231342136859894,
          -1.195816993713379,
          -1.588144302368164,
          -0.41438955068588257,
          -1.7356767654418945,
          -2.369781017303467,
          -1.681363821029663,
          -1.8907921314239502,
          -3.4557087421417236,
          -3.7589991092681885,
          -2.7253620624542236,
          1.130432367324829,
          -16.086265563964844,
          1.0215036869049072,
          -0.12015577405691147,
          0.3519001305103302,
          0.6836587190628052,
          -6.681344985961914,
          2.7351887226104736,
          4.262221336364746,
          4.716029167175293,
          7.358625411987305,
          -1.7851942777633667,
          11.319878578186035,
          9.134872436523438,
          8.631363868713379,
          9.708229064941406,
          3.44222092628479,
          -10.322722434997559,
          -8.035303115844727,
          8.28235912322998,
          6.533453941345215,
          -14.585065841674805,
          2.7783520221710205,
          8.990524291992188,
          10.002680778503418,
          -9.622623443603516,
          7.258122444152832,
          4.107075214385986,
          7.797858238220215,
          5.492938995361328,
          5.925171852111816,
          6.34758996963501,
          8.47001838684082,
          4.719348907470703,
          6.412769317626953,
          10.887679100036621,
          6.357655048370361,
          10.590060234069824,
          5.386407852172852,
          -15.979659080505371,
          5.155265808105469,
          5.207716941833496,
          5.670987606048584,
          5.119446754455566,
          7.634362697601318,
          5.541460037231445,
          5.2365593910217285,
          5.738150119781494,
          1.6335785388946533,
          -2.1163012981414795,
          0.9358442425727844,
          4.723187446594238,
          2.8733787536621094,
          -15.965435028076172,
          7.495054721832275,
          6.265255451202393,
          9.834003448486328,
          11.076314926147461,
          9.158133506774902,
          -4.064192295074463,
          9.633296012878418,
          10.728167533874512,
          9.804008483886719,
          -3.831547737121582,
          8.580459594726562,
          12.30250358581543,
          10.024885177612305,
          7.945347309112549,
          -3.3599681854248047,
          6.5341315269470215,
          3.7827389240264893,
          8.727009773254395,
          8.272353172302246,
          -14.707218170166016,
          9.001338958740234,
          9.255539894104004,
          8.783012390136719,
          -10.553277969360352,
          8.688125610351562,
          7.842667579650879,
          7.201784610748291,
          1.654356598854065,
          -7.1385111808776855,
          -6.406735420227051,
          -6.564079761505127,
          -6.386981964111328,
          -6.850334167480469,
          -6.193388938903809,
          -6.450470924377441,
          -6.721341609954834,
          -7.146056652069092,
          -3.835142135620117,
          -9.060844421386719,
          -3.987483501434326,
          -5.786063194274902,
          -3.9263126850128174,
          -4.829614639282227,
          -6.724154472351074,
          -4.511961460113525,
          -5.425454139709473,
          -5.548468589782715,
          -3.445075035095215,
          -3.929168701171875,
          -3.020688772201538,
          -5.405709743499756,
          -4.853466987609863,
          -8.653347969055176,
          -4.0897955894470215,
          -3.756394863128662,
          -3.4690964221954346,
          -4.4948225021362305,
          -5.3200507164001465,
          -5.509091854095459,
          -4.246177673339844,
          -4.170665264129639,
          -3.6736631393432617,
          -4.576620578765869,
          -3.654562473297119,
          -4.701302528381348,
          -4.921448230743408,
          -4.928146839141846,
          -4.412967205047607,
          -3.7996408939361572,
          -3.961975336074829,
          -3.8321402072906494,
          -4.547521114349365,
          -3.7932822704315186,
          -5.75969123840332,
          -5.233722686767578,
          -5.298607349395752,
          -4.77254581451416,
          -4.072580814361572
         ],
         "xaxis": "x",
         "y": [
          -8.868424415588379,
          -8.761372566223145,
          -8.267667770385742,
          -8.773209571838379,
          -7.592615127563477,
          0.4846128225326538,
          -9.2955322265625,
          -9.966561317443848,
          -8.810352325439453,
          -5.918152809143066,
          -2.065195083618164,
          1.8951053619384766,
          -8.850750923156738,
          -10.314244270324707,
          -10.787508964538574,
          -8.9949312210083,
          -9.28606128692627,
          -9.437764167785645,
          -9.189935684204102,
          -8.67653751373291,
          -8.78756332397461,
          -7.313122749328613,
          16.695093154907227,
          -9.041707992553711,
          -12.93641471862793,
          1.9533604383468628,
          -12.882198333740234,
          -12.926240921020508,
          -12.460643768310547,
          -11.825551986694336,
          -3.1143012046813965,
          -10.085713386535645,
          -6.722453594207764,
          -6.079179763793945,
          -2.782100200653076,
          0.3388461470603943,
          -1.0177744626998901,
          -4.810343265533447,
          -0.2726760506629944,
          -2.6318490505218506,
          -0.9535799622535706,
          3.5782439708709717,
          3.7016196250915527,
          -0.870292067527771,
          3.319477081298828,
          2.0182435512542725,
          -12.25716781616211,
          -0.7478134632110596,
          -0.21760526299476624,
          2.7043511867523193,
          -0.41039177775382996,
          0.6076879501342773,
          -0.6715860366821289,
          -0.8314762711524963,
          -0.5360067486763,
          -0.9701181650161743,
          -0.2807498872280121,
          2.0511443614959717,
          -0.9880241751670837,
          2.712867498397827,
          -0.19582591950893402,
          1.9626171588897705,
          -2.2790777683258057,
          1.9796233177185059,
          -3.881984233856201,
          -0.7905696034431458,
          0.593443751335144,
          1.2541065216064453,
          -2.436629056930542,
          -0.3138766288757324,
          1.1420927047729492,
          -1.2832911014556885,
          2.35693621635437,
          3.823535203933716,
          3.8027968406677246,
          -1.3206396102905273,
          1.9108250141143799,
          1.9922798871994019,
          1.7594877481460571,
          2.4287898540496826,
          -3.5888514518737793,
          4.258530139923096,
          2.324838638305664,
          9.207884788513184,
          4.206366062164307,
          0.9718431830406189,
          1.1356534957885742,
          16.753694534301758,
          1.8749581575393677,
          0.2971309423446655,
          0.36701124906539917,
          3.648061513900757,
          16.310195922851562,
          -1.426750659942627,
          2.2250473499298096,
          0.39671334624290466,
          0.246003195643425,
          2.050630569458008,
          1.100304365158081,
          1.0437266826629639,
          0.8733971118927002,
          3.328848123550415,
          0.8607972264289856,
          3.3336832523345947,
          0.5098222494125366,
          2.0282695293426514,
          -1.4309947490692139,
          -0.4080044627189636,
          -0.4877699315547943,
          -0.28685587644577026,
          -0.7876218557357788,
          -0.7385373711585999,
          0.3937281668186188,
          -0.0919032022356987,
          8.160407066345215,
          16.754329681396484,
          0.6398037672042847,
          0.604462742805481,
          0.7113466858863831,
          0.8923454880714417,
          3.1641793251037598,
          -1.246630072593689,
          2.0204198360443115,
          2.8400614261627197,
          3.277118682861328,
          2.983449697494507,
          16.805234909057617,
          5.594651222229004,
          3.460947275161743,
          4.616105079650879,
          5.50032377243042,
          2.5205070972442627,
          2.7689361572265625,
          2.7140722274780273,
          2.958702325820923,
          1.6119863986968994,
          2.597923755645752,
          3.463623046875,
          1.9335776567459106,
          1.4601705074310303,
          0.2722938060760498,
          2.025940179824829,
          2.666867971420288,
          2.7259349822998047,
          2.231923818588257,
          3.2265703678131104,
          2.063918352127075,
          2.787236452102661,
          2.069808006286621,
          1.3311575651168823,
          3.328009605407715,
          -0.903119683265686,
          -1.891548752784729,
          -2.9723153114318848,
          -0.16787005960941315,
          5.448482036590576
         ],
         "yaxis": "y"
        },
        {
         "hovertemplate": "day_of_week=Tuesday<br>tSNE1=%{x}<br>tSNE2=%{y}<extra></extra>",
         "legendgroup": "Tuesday",
         "marker": {
          "color": "#19d3f3",
          "symbol": "circle"
         },
         "mode": "markers",
         "name": "Tuesday",
         "showlegend": true,
         "type": "scattergl",
         "x": [
          0.621403157711029,
          -0.37856099009513855,
          -0.601843535900116,
          0.38892892003059387,
          0.1774418205022812,
          0.22534972429275513,
          0.4840962290763855,
          0.7597696185112,
          -0.09104708582162857,
          0.07161585241556168,
          0.4200595021247864,
          0.2938918471336365,
          -0.16108180582523346,
          -0.5558978319168091,
          -1.2338783740997314,
          -3.0162229537963867,
          -1.1831692457199097,
          -1.3761308193206787,
          -2.0818192958831787,
          -1.7048534154891968,
          -3.0659828186035156,
          -2.662480115890503,
          2.389624834060669,
          -0.8301970958709717,
          1.091221570968628,
          1.1614805459976196,
          0.4366414546966553,
          0.10404139012098312,
          0.4333437979221344,
          0.8845584988594055,
          0.6514744758605957,
          1.9565224647521973,
          3.9647328853607178,
          6.3096699714660645,
          7.056493282318115,
          8.51330280303955,
          10.717535018920898,
          7.551598072052002,
          9.742969512939453,
          8.195106506347656,
          7.70375919342041,
          -15.977766990661621,
          -15.840083122253418,
          7.817691802978516,
          7.3745036125183105,
          10.456792831420898,
          8.876326560974121,
          8.379899978637695,
          2.4005491733551025,
          8.526811599731445,
          6.879272937774658,
          4.811600685119629,
          7.34437894821167,
          6.257369518280029,
          6.118887424468994,
          6.101876735687256,
          3.9815139770507812,
          6.420521259307861,
          7.06273078918457,
          11.749164581298828,
          4.097842216491699,
          6.221103191375732,
          6.463138103485107,
          5.010021209716797,
          6.0672760009765625,
          4.512666702270508,
          6.1189680099487305,
          4.468902587890625,
          5.428761959075928,
          4.772003173828125,
          3.845214366912842,
          3.798219919204712,
          1.1471132040023804,
          -1.0447877645492554,
          3.9419474601745605,
          0.050673920661211014,
          4.901487827301025,
          10.915201187133789,
          2.23083758354187,
          5.243450164794922,
          11.156237602233887,
          9.542088508605957,
          7.1945037841796875,
          9.190820693969727,
          9.014108657836914,
          8.238755226135254,
          8.987525939941406,
          8.185535430908203,
          5.98892879486084,
          10.883381843566895,
          8.307933807373047,
          6.977849960327148,
          -3.651442766189575,
          -6.051057815551758,
          -8.160322189331055,
          10.088459968566895,
          8.481854438781738,
          10.329636573791504,
          8.40632438659668,
          8.523241996765137,
          8.36170482635498,
          8.96817684173584,
          9.528120040893555,
          10.995843887329102,
          8.248838424682617,
          -7.333457946777344,
          -7.4979047775268555,
          -8.125041961669922,
          -7.897067546844482,
          -7.670076370239258,
          -8.24930477142334,
          -8.636530876159668,
          -7.606740474700928,
          -7.506875514984131,
          -8.484476089477539,
          -3.8301963806152344,
          -8.98222541809082,
          -9.043045997619629,
          -6.175263404846191,
          -5.886533260345459,
          -9.75174331665039,
          -7.142587184906006,
          -7.347884178161621,
          -7.679913520812988,
          -7.231446266174316,
          -3.1439599990844727,
          -3.834182024002075,
          -6.867405414581299,
          -7.3236494064331055,
          -5.434604167938232,
          -8.279193878173828,
          -6.495678424835205,
          -6.313750267028809,
          -6.489891052246094,
          -6.531153678894043,
          -6.065624237060547,
          -5.953299522399902,
          -6.6423563957214355,
          -6.175938606262207,
          -6.32418966293335,
          -6.576598167419434,
          -5.110583782196045,
          -5.661405563354492,
          -3.9317238330841064,
          -5.219717979431152,
          -4.741858959197998,
          -5.086194038391113,
          -6.4091901779174805,
          -5.752624034881592,
          -6.784567832946777,
          -6.623064994812012,
          -6.618459701538086,
          -5.408754825592041,
          -5.481417179107666,
          -5.53921365737915,
          -4.483527660369873
         ],
         "xaxis": "x",
         "y": [
          -8.662932395935059,
          -7.93643045425415,
          -7.226921081542969,
          -7.26796293258667,
          -8.994134902954102,
          -10.353446960449219,
          -9.559325218200684,
          -10.091526985168457,
          -9.976336479187012,
          -8.04930591583252,
          -9.855517387390137,
          -10.09041690826416,
          -9.765545845031738,
          -10.226752281188965,
          -10.840396881103516,
          -7.940807819366455,
          -10.126327514648438,
          -9.306479454040527,
          -9.170684814453125,
          -8.74781322479248,
          -8.255769729614258,
          -7.485283374786377,
          -1.661482810974121,
          -7.018149375915527,
          -13.245979309082031,
          -12.889095306396484,
          -13.256447792053223,
          -12.426751136779785,
          -12.518281936645508,
          -11.960614204406738,
          -11.488760948181152,
          -11.144989967346191,
          -6.926449298858643,
          -3.915930986404419,
          -4.149618148803711,
          -1.8153276443481445,
          -0.9047632217407227,
          -3.4299654960632324,
          -2.8114421367645264,
          -2.5637032985687256,
          -1.9184685945510864,
          1.99984872341156,
          2.067829132080078,
          0.02748584933578968,
          0.08909555524587631,
          -0.889286458492279,
          -1.2357486486434937,
          -0.14423593878746033,
          2.7339720726013184,
          -0.9163923859596252,
          -0.2410195916891098,
          0.24869677424430847,
          -0.22514036297798157,
          -0.33243611454963684,
          -0.46828463673591614,
          -1.128933072090149,
          -2.793571949005127,
          -0.6562232971191406,
          -0.37316665053367615,
          2.588855743408203,
          -1.7542648315429688,
          -0.13034002482891083,
          0.8570991158485413,
          -1.8129374980926514,
          0.9363139867782593,
          -0.3831816017627716,
          0.3148445785045624,
          0.784866452217102,
          3.3820924758911133,
          -0.7531110644340515,
          3.0503361225128174,
          -0.10253307223320007,
          4.558513641357422,
          4.61383056640625,
          5.6441650390625,
          4.227449893951416,
          2.4321093559265137,
          -2.9074206352233887,
          -2.8537790775299072,
          0.12617729604244232,
          -3.532433271408081,
          1.699190378189087,
          0.43216270208358765,
          3.4409115314483643,
          4.5512003898620605,
          1.3786866664886475,
          1.5171459913253784,
          2.5744810104370117,
          -5.576661586761475,
          -0.752714991569519,
          1.3871971368789673,
          4.767131328582764,
          16.640296936035156,
          7.644565105438232,
          3.917417287826538,
          3.3094639778137207,
          0.31235313415527344,
          1.2661703824996948,
          1.1178674697875977,
          0.9203023910522461,
          0.44947561621665955,
          0.2796711325645447,
          0.4906177222728729,
          4.17484188079834,
          0.6421353816986084,
          0.9206110239028931,
          0.9409149289131165,
          -1.3736693859100342,
          -0.01645970344543457,
          0.7660561203956604,
          0.9648454189300537,
          1.2797595262527466,
          -0.31216365098953247,
          0.7609556913375854,
          0.7583845257759094,
          16.75080680847168,
          0.35543233156204224,
          1.2777050733566284,
          3.1441290378570557,
          1.570749282836914,
          0.6593884229660034,
          0.5304998159408569,
          3.0048508644104004,
          2.814023017883301,
          3.5944952964782715,
          2.89900803565979,
          16.742828369140625,
          3.026132345199585,
          -1.6962348222732544,
          0.9558578133583069,
          5.370356559753418,
          4.919222831726074,
          4.402886867523193,
          3.3496084213256836,
          5.048486232757568,
          3.890134811401367,
          3.369051218032837,
          2.6678953170776367,
          0.7881574034690857,
          3.2031373977661133,
          4.409669876098633,
          3.4896187782287598,
          3.146562099456787,
          4.303785800933838,
          1.3944857120513916,
          3.555232524871826,
          -3.375771999359131,
          6.182548999786377,
          5.403822422027588,
          0.8432198166847229,
          0.9165300130844116,
          6.977168083190918,
          6.137111186981201,
          -2.7848851680755615,
          7.995392322540283,
          6.427253246307373
         ],
         "yaxis": "y"
        },
        {
         "hovertemplate": "day_of_week=Wednesday<br>tSNE1=%{x}<br>tSNE2=%{y}<extra></extra>",
         "legendgroup": "Wednesday",
         "marker": {
          "color": "#FF6692",
          "symbol": "circle"
         },
         "mode": "markers",
         "name": "Wednesday",
         "showlegend": true,
         "type": "scattergl",
         "x": [
          0.5061656832695007,
          1.2707695960998535,
          0.766947865486145,
          1.286615014076233,
          0.27913928031921387,
          0.5382208824157715,
          0.7364177703857422,
          0.38531097769737244,
          0.9620703458786011,
          -0.288614422082901,
          0.40675973892211914,
          -0.5439368486404419,
          -0.0018917714478448033,
          -0.6302711963653564,
          -0.7056418657302856,
          -0.6425145864486694,
          -15.514850616455078,
          -1.310463786125183,
          -0.8714388608932495,
          -2.0985918045043945,
          -2.716845989227295,
          -1.6887526512145996,
          -2.70833683013916,
          -1.2614145278930664,
          0.986728847026825,
          1.5685211420059204,
          0.2890171706676483,
          0.33335527777671814,
          0.461155503988266,
          0.8517154455184937,
          0.7795084118843079,
          1.993831992149353,
          3.973287343978882,
          3.3283145427703857,
          7.972007751464844,
          9.090312004089355,
          7.15477180480957,
          6.1889262199401855,
          4.758349895477295,
          8.962607383728027,
          7.40329122543335,
          1.617507815361023,
          6.690201282501221,
          6.809669494628906,
          8.049053192138672,
          10.352715492248535,
          -16.062623977661133,
          10.5855712890625,
          8.190217018127441,
          8.016744613647461,
          7.224296569824219,
          7.586778163909912,
          6.965596675872803,
          7.337940692901611,
          6.3166656494140625,
          7.089718341827393,
          5.94340705871582,
          5.940277576446533,
          6.957460403442383,
          8.135269165039062,
          7.475770950317383,
          6.404845237731934,
          7.830043315887451,
          9.325766563415527,
          7.069526195526123,
          5.477482795715332,
          4.830898284912109,
          3.860156297683716,
          5.834864616394043,
          2.3881685733795166,
          5.215081214904785,
          3.774775505065918,
          8.905956268310547,
          0.9643497467041016,
          4.0092387199401855,
          5.712048530578613,
          5.401208400726318,
          9.85783576965332,
          7.500035285949707,
          5.368132591247559,
          7.048643112182617,
          10.068037033081055,
          7.171602725982666,
          6.986703872680664,
          9.410030364990234,
          6.758606910705566,
          10.044281005859375,
          7.425284385681152,
          8.266158103942871,
          9.439496994018555,
          7.5724310874938965,
          6.920852184295654,
          -3.746183156967163,
          -4.253952980041504,
          -14.98861026763916,
          7.362135410308838,
          7.70055627822876,
          9.302895545959473,
          7.787478446960449,
          11.05105209350586,
          7.864842891693115,
          7.976139545440674,
          10.05238151550293,
          7.578470230102539,
          7.771075248718262,
          -7.851452827453613,
          -8.115930557250977,
          -6.3821187019348145,
          -8.083979606628418,
          -6.894662857055664,
          -7.578619480133057,
          -8.062151908874512,
          -7.771988391876221,
          -8.528688430786133,
          -8.050353050231934,
          -3.830294132232666,
          -8.436421394348145,
          -7.94709587097168,
          -4.450850486755371,
          -7.689218044281006,
          -5.691020965576172,
          -8.178955078125,
          -5.904931545257568,
          -7.2863664627075195,
          -7.865655899047852,
          -7.325000286102295,
          -4.067460060119629,
          -5.291141033172607,
          -5.5370965003967285,
          -6.286687850952148,
          -5.059010028839111,
          -7.56252384185791,
          -4.954354763031006,
          -6.051586627960205,
          -5.507028102874756,
          -6.765641689300537,
          -6.164673805236816,
          -6.363042831420898,
          -3.443014144897461,
          -6.714144229888916,
          -6.326326847076416,
          -5.179172039031982,
          -5.00300407409668,
          -5.705660820007324,
          -7.260112285614014,
          -5.130112648010254,
          -5.763762950897217,
          -4.144568920135498,
          -4.103285312652588,
          -6.539167404174805,
          -3.8197073936462402,
          -7.688348770141602,
          -4.879060745239258,
          -5.363263130187988,
          -5.398186683654785
         ],
         "xaxis": "x",
         "y": [
          -8.044449806213379,
          -7.982181072235107,
          -2.1048455238342285,
          -7.770531177520752,
          -9.074247360229492,
          -9.217780113220215,
          -9.27735424041748,
          -9.463162422180176,
          -9.675395011901855,
          -10.581873893737793,
          -10.39647102355957,
          -9.690132141113281,
          -10.515227317810059,
          -10.254521369934082,
          -8.277375221252441,
          -5.3425116539001465,
          1.6345666646957397,
          -9.481441497802734,
          -9.018787384033203,
          -8.637072563171387,
          -8.634831428527832,
          -8.487530708312988,
          -10.412421226501465,
          -7.147160530090332,
          -12.83335018157959,
          -13.083806991577148,
          -13.478728294372559,
          -12.406597137451172,
          -12.551005363464355,
          -11.769726753234863,
          -11.417291641235352,
          -11.103108406066895,
          -6.843784332275391,
          -7.5453057289123535,
          -3.9810879230499268,
          -3.914971351623535,
          -3.0431041717529297,
          -5.165859222412109,
          5.067384243011475,
          -2.4806714057922363,
          -1.1245648860931396,
          0.4484923481941223,
          0.12490347027778625,
          0.77534419298172,
          -1.4765945672988892,
          -0.7799047827720642,
          1.9936105012893677,
          -1.8646687269210815,
          -1.3075672388076782,
          -0.6483167409896851,
          -0.8129634261131287,
          -1.1106469631195068,
          -0.668997585773468,
          -0.13506430387496948,
          -2.5599114894866943,
          -1.5621474981307983,
          1.401775598526001,
          -0.5788876414299011,
          -0.7563756704330444,
          -0.674820065498352,
          -0.2642287015914917,
          -0.1975775808095932,
          -0.5773402452468872,
          -0.5433992147445679,
          -0.9614565372467041,
          0.4967609643936157,
          0.5628934502601624,
          3.1685593128204346,
          -1.9728535413742065,
          3.580216646194458,
          3.053931713104248,
          0.07740945369005203,
          5.746718406677246,
          3.823223829269409,
          1.5261951684951782,
          2.848526954650879,
          3.1759397983551025,
          0.1542011797428131,
          2.4836132526397705,
          1.8839383125305176,
          1.1530516147613525,
          2.46856951713562,
          2.1131036281585693,
          1.7810288667678833,
          2.5561752319335938,
          1.4217867851257324,
          2.0248708724975586,
          2.8753061294555664,
          2.241985321044922,
          1.3836448192596436,
          1.2842410802841187,
          4.983980655670166,
          16.708715438842773,
          17.088645935058594,
          2.054197072982788,
          0.8728979229927063,
          0.28579214215278625,
          0.18803712725639343,
          0.6858721375465393,
          -3.3517513275146484,
          0.38732972741127014,
          0.2140403687953949,
          3.3809118270874023,
          0.9528002142906189,
          0.41263097524642944,
          1.6951603889465332,
          -0.782615602016449,
          -0.3215012848377228,
          0.013997356407344341,
          0.45194345712661743,
          0.00019088135741185397,
          1.3104630708694458,
          1.1470204591751099,
          -0.2678201198577881,
          0.7838155627250671,
          16.750547409057617,
          -0.27351656556129456,
          1.270155429840088,
          1.0735838413238525,
          2.0511255264282227,
          -0.3235225975513458,
          2.389431953430176,
          1.9767987728118896,
          3.449350357055664,
          3.86393141746521,
          3.835702419281006,
          9.269259452819824,
          3.6821653842926025,
          0.37236595153808594,
          3.47936749458313,
          2.1311068534851074,
          3.6674399375915527,
          1.8131651878356934,
          2.919743537902832,
          4.411264896392822,
          3.596815347671509,
          3.6966874599456787,
          3.620868682861328,
          3.802870750427246,
          4.571323871612549,
          4.833236217498779,
          -1.3337160348892212,
          2.4240171909332275,
          1.8573849201202393,
          4.639101982116699,
          0.09710372239351273,
          5.427177429199219,
          5.905839443206787,
          3.580552816390991,
          2.9539687633514404,
          16.75338363647461,
          -0.99148029088974,
          7.158113479614258,
          5.668951034545898,
          6.927104473114014
         ],
         "yaxis": "y"
        }
       ],
       "layout": {
        "legend": {
         "title": {
          "text": "day_of_week"
         },
         "tracegroupgap": 0
        },
        "margin": {
         "t": 60
        },
        "template": {
         "data": {
          "bar": [
           {
            "error_x": {
             "color": "#2a3f5f"
            },
            "error_y": {
             "color": "#2a3f5f"
            },
            "marker": {
             "line": {
              "color": "#E5ECF6",
              "width": 0.5
             },
             "pattern": {
              "fillmode": "overlay",
              "size": 10,
              "solidity": 0.2
             }
            },
            "type": "bar"
           }
          ],
          "barpolar": [
           {
            "marker": {
             "line": {
              "color": "#E5ECF6",
              "width": 0.5
             },
             "pattern": {
              "fillmode": "overlay",
              "size": 10,
              "solidity": 0.2
             }
            },
            "type": "barpolar"
           }
          ],
          "carpet": [
           {
            "aaxis": {
             "endlinecolor": "#2a3f5f",
             "gridcolor": "white",
             "linecolor": "white",
             "minorgridcolor": "white",
             "startlinecolor": "#2a3f5f"
            },
            "baxis": {
             "endlinecolor": "#2a3f5f",
             "gridcolor": "white",
             "linecolor": "white",
             "minorgridcolor": "white",
             "startlinecolor": "#2a3f5f"
            },
            "type": "carpet"
           }
          ],
          "choropleth": [
           {
            "colorbar": {
             "outlinewidth": 0,
             "ticks": ""
            },
            "type": "choropleth"
           }
          ],
          "contour": [
           {
            "colorbar": {
             "outlinewidth": 0,
             "ticks": ""
            },
            "colorscale": [
             [
              0,
              "#0d0887"
             ],
             [
              0.1111111111111111,
              "#46039f"
             ],
             [
              0.2222222222222222,
              "#7201a8"
             ],
             [
              0.3333333333333333,
              "#9c179e"
             ],
             [
              0.4444444444444444,
              "#bd3786"
             ],
             [
              0.5555555555555556,
              "#d8576b"
             ],
             [
              0.6666666666666666,
              "#ed7953"
             ],
             [
              0.7777777777777778,
              "#fb9f3a"
             ],
             [
              0.8888888888888888,
              "#fdca26"
             ],
             [
              1,
              "#f0f921"
             ]
            ],
            "type": "contour"
           }
          ],
          "contourcarpet": [
           {
            "colorbar": {
             "outlinewidth": 0,
             "ticks": ""
            },
            "type": "contourcarpet"
           }
          ],
          "heatmap": [
           {
            "colorbar": {
             "outlinewidth": 0,
             "ticks": ""
            },
            "colorscale": [
             [
              0,
              "#0d0887"
             ],
             [
              0.1111111111111111,
              "#46039f"
             ],
             [
              0.2222222222222222,
              "#7201a8"
             ],
             [
              0.3333333333333333,
              "#9c179e"
             ],
             [
              0.4444444444444444,
              "#bd3786"
             ],
             [
              0.5555555555555556,
              "#d8576b"
             ],
             [
              0.6666666666666666,
              "#ed7953"
             ],
             [
              0.7777777777777778,
              "#fb9f3a"
             ],
             [
              0.8888888888888888,
              "#fdca26"
             ],
             [
              1,
              "#f0f921"
             ]
            ],
            "type": "heatmap"
           }
          ],
          "heatmapgl": [
           {
            "colorbar": {
             "outlinewidth": 0,
             "ticks": ""
            },
            "colorscale": [
             [
              0,
              "#0d0887"
             ],
             [
              0.1111111111111111,
              "#46039f"
             ],
             [
              0.2222222222222222,
              "#7201a8"
             ],
             [
              0.3333333333333333,
              "#9c179e"
             ],
             [
              0.4444444444444444,
              "#bd3786"
             ],
             [
              0.5555555555555556,
              "#d8576b"
             ],
             [
              0.6666666666666666,
              "#ed7953"
             ],
             [
              0.7777777777777778,
              "#fb9f3a"
             ],
             [
              0.8888888888888888,
              "#fdca26"
             ],
             [
              1,
              "#f0f921"
             ]
            ],
            "type": "heatmapgl"
           }
          ],
          "histogram": [
           {
            "marker": {
             "pattern": {
              "fillmode": "overlay",
              "size": 10,
              "solidity": 0.2
             }
            },
            "type": "histogram"
           }
          ],
          "histogram2d": [
           {
            "colorbar": {
             "outlinewidth": 0,
             "ticks": ""
            },
            "colorscale": [
             [
              0,
              "#0d0887"
             ],
             [
              0.1111111111111111,
              "#46039f"
             ],
             [
              0.2222222222222222,
              "#7201a8"
             ],
             [
              0.3333333333333333,
              "#9c179e"
             ],
             [
              0.4444444444444444,
              "#bd3786"
             ],
             [
              0.5555555555555556,
              "#d8576b"
             ],
             [
              0.6666666666666666,
              "#ed7953"
             ],
             [
              0.7777777777777778,
              "#fb9f3a"
             ],
             [
              0.8888888888888888,
              "#fdca26"
             ],
             [
              1,
              "#f0f921"
             ]
            ],
            "type": "histogram2d"
           }
          ],
          "histogram2dcontour": [
           {
            "colorbar": {
             "outlinewidth": 0,
             "ticks": ""
            },
            "colorscale": [
             [
              0,
              "#0d0887"
             ],
             [
              0.1111111111111111,
              "#46039f"
             ],
             [
              0.2222222222222222,
              "#7201a8"
             ],
             [
              0.3333333333333333,
              "#9c179e"
             ],
             [
              0.4444444444444444,
              "#bd3786"
             ],
             [
              0.5555555555555556,
              "#d8576b"
             ],
             [
              0.6666666666666666,
              "#ed7953"
             ],
             [
              0.7777777777777778,
              "#fb9f3a"
             ],
             [
              0.8888888888888888,
              "#fdca26"
             ],
             [
              1,
              "#f0f921"
             ]
            ],
            "type": "histogram2dcontour"
           }
          ],
          "mesh3d": [
           {
            "colorbar": {
             "outlinewidth": 0,
             "ticks": ""
            },
            "type": "mesh3d"
           }
          ],
          "parcoords": [
           {
            "line": {
             "colorbar": {
              "outlinewidth": 0,
              "ticks": ""
             }
            },
            "type": "parcoords"
           }
          ],
          "pie": [
           {
            "automargin": true,
            "type": "pie"
           }
          ],
          "scatter": [
           {
            "marker": {
             "colorbar": {
              "outlinewidth": 0,
              "ticks": ""
             }
            },
            "type": "scatter"
           }
          ],
          "scatter3d": [
           {
            "line": {
             "colorbar": {
              "outlinewidth": 0,
              "ticks": ""
             }
            },
            "marker": {
             "colorbar": {
              "outlinewidth": 0,
              "ticks": ""
             }
            },
            "type": "scatter3d"
           }
          ],
          "scattercarpet": [
           {
            "marker": {
             "colorbar": {
              "outlinewidth": 0,
              "ticks": ""
             }
            },
            "type": "scattercarpet"
           }
          ],
          "scattergeo": [
           {
            "marker": {
             "colorbar": {
              "outlinewidth": 0,
              "ticks": ""
             }
            },
            "type": "scattergeo"
           }
          ],
          "scattergl": [
           {
            "marker": {
             "colorbar": {
              "outlinewidth": 0,
              "ticks": ""
             }
            },
            "type": "scattergl"
           }
          ],
          "scattermapbox": [
           {
            "marker": {
             "colorbar": {
              "outlinewidth": 0,
              "ticks": ""
             }
            },
            "type": "scattermapbox"
           }
          ],
          "scatterpolar": [
           {
            "marker": {
             "colorbar": {
              "outlinewidth": 0,
              "ticks": ""
             }
            },
            "type": "scatterpolar"
           }
          ],
          "scatterpolargl": [
           {
            "marker": {
             "colorbar": {
              "outlinewidth": 0,
              "ticks": ""
             }
            },
            "type": "scatterpolargl"
           }
          ],
          "scatterternary": [
           {
            "marker": {
             "colorbar": {
              "outlinewidth": 0,
              "ticks": ""
             }
            },
            "type": "scatterternary"
           }
          ],
          "surface": [
           {
            "colorbar": {
             "outlinewidth": 0,
             "ticks": ""
            },
            "colorscale": [
             [
              0,
              "#0d0887"
             ],
             [
              0.1111111111111111,
              "#46039f"
             ],
             [
              0.2222222222222222,
              "#7201a8"
             ],
             [
              0.3333333333333333,
              "#9c179e"
             ],
             [
              0.4444444444444444,
              "#bd3786"
             ],
             [
              0.5555555555555556,
              "#d8576b"
             ],
             [
              0.6666666666666666,
              "#ed7953"
             ],
             [
              0.7777777777777778,
              "#fb9f3a"
             ],
             [
              0.8888888888888888,
              "#fdca26"
             ],
             [
              1,
              "#f0f921"
             ]
            ],
            "type": "surface"
           }
          ],
          "table": [
           {
            "cells": {
             "fill": {
              "color": "#EBF0F8"
             },
             "line": {
              "color": "white"
             }
            },
            "header": {
             "fill": {
              "color": "#C8D4E3"
             },
             "line": {
              "color": "white"
             }
            },
            "type": "table"
           }
          ]
         },
         "layout": {
          "annotationdefaults": {
           "arrowcolor": "#2a3f5f",
           "arrowhead": 0,
           "arrowwidth": 1
          },
          "autotypenumbers": "strict",
          "coloraxis": {
           "colorbar": {
            "outlinewidth": 0,
            "ticks": ""
           }
          },
          "colorscale": {
           "diverging": [
            [
             0,
             "#8e0152"
            ],
            [
             0.1,
             "#c51b7d"
            ],
            [
             0.2,
             "#de77ae"
            ],
            [
             0.3,
             "#f1b6da"
            ],
            [
             0.4,
             "#fde0ef"
            ],
            [
             0.5,
             "#f7f7f7"
            ],
            [
             0.6,
             "#e6f5d0"
            ],
            [
             0.7,
             "#b8e186"
            ],
            [
             0.8,
             "#7fbc41"
            ],
            [
             0.9,
             "#4d9221"
            ],
            [
             1,
             "#276419"
            ]
           ],
           "sequential": [
            [
             0,
             "#0d0887"
            ],
            [
             0.1111111111111111,
             "#46039f"
            ],
            [
             0.2222222222222222,
             "#7201a8"
            ],
            [
             0.3333333333333333,
             "#9c179e"
            ],
            [
             0.4444444444444444,
             "#bd3786"
            ],
            [
             0.5555555555555556,
             "#d8576b"
            ],
            [
             0.6666666666666666,
             "#ed7953"
            ],
            [
             0.7777777777777778,
             "#fb9f3a"
            ],
            [
             0.8888888888888888,
             "#fdca26"
            ],
            [
             1,
             "#f0f921"
            ]
           ],
           "sequentialminus": [
            [
             0,
             "#0d0887"
            ],
            [
             0.1111111111111111,
             "#46039f"
            ],
            [
             0.2222222222222222,
             "#7201a8"
            ],
            [
             0.3333333333333333,
             "#9c179e"
            ],
            [
             0.4444444444444444,
             "#bd3786"
            ],
            [
             0.5555555555555556,
             "#d8576b"
            ],
            [
             0.6666666666666666,
             "#ed7953"
            ],
            [
             0.7777777777777778,
             "#fb9f3a"
            ],
            [
             0.8888888888888888,
             "#fdca26"
            ],
            [
             1,
             "#f0f921"
            ]
           ]
          },
          "colorway": [
           "#636efa",
           "#EF553B",
           "#00cc96",
           "#ab63fa",
           "#FFA15A",
           "#19d3f3",
           "#FF6692",
           "#B6E880",
           "#FF97FF",
           "#FECB52"
          ],
          "font": {
           "color": "#2a3f5f"
          },
          "geo": {
           "bgcolor": "white",
           "lakecolor": "white",
           "landcolor": "#E5ECF6",
           "showlakes": true,
           "showland": true,
           "subunitcolor": "white"
          },
          "hoverlabel": {
           "align": "left"
          },
          "hovermode": "closest",
          "mapbox": {
           "style": "light"
          },
          "paper_bgcolor": "white",
          "plot_bgcolor": "#E5ECF6",
          "polar": {
           "angularaxis": {
            "gridcolor": "white",
            "linecolor": "white",
            "ticks": ""
           },
           "bgcolor": "#E5ECF6",
           "radialaxis": {
            "gridcolor": "white",
            "linecolor": "white",
            "ticks": ""
           }
          },
          "scene": {
           "xaxis": {
            "backgroundcolor": "#E5ECF6",
            "gridcolor": "white",
            "gridwidth": 2,
            "linecolor": "white",
            "showbackground": true,
            "ticks": "",
            "zerolinecolor": "white"
           },
           "yaxis": {
            "backgroundcolor": "#E5ECF6",
            "gridcolor": "white",
            "gridwidth": 2,
            "linecolor": "white",
            "showbackground": true,
            "ticks": "",
            "zerolinecolor": "white"
           },
           "zaxis": {
            "backgroundcolor": "#E5ECF6",
            "gridcolor": "white",
            "gridwidth": 2,
            "linecolor": "white",
            "showbackground": true,
            "ticks": "",
            "zerolinecolor": "white"
           }
          },
          "shapedefaults": {
           "line": {
            "color": "#2a3f5f"
           }
          },
          "ternary": {
           "aaxis": {
            "gridcolor": "white",
            "linecolor": "white",
            "ticks": ""
           },
           "baxis": {
            "gridcolor": "white",
            "linecolor": "white",
            "ticks": ""
           },
           "bgcolor": "#E5ECF6",
           "caxis": {
            "gridcolor": "white",
            "linecolor": "white",
            "ticks": ""
           }
          },
          "title": {
           "x": 0.05
          },
          "xaxis": {
           "automargin": true,
           "gridcolor": "white",
           "linecolor": "white",
           "ticks": "",
           "title": {
            "standoff": 15
           },
           "zerolinecolor": "white",
           "zerolinewidth": 2
          },
          "yaxis": {
           "automargin": true,
           "gridcolor": "white",
           "linecolor": "white",
           "ticks": "",
           "title": {
            "standoff": 15
           },
           "zerolinecolor": "white",
           "zerolinewidth": 2
          }
         }
        },
        "xaxis": {
         "anchor": "y",
         "domain": [
          0,
          1
         ],
         "title": {
          "text": "tSNE1"
         }
        },
        "yaxis": {
         "anchor": "x",
         "domain": [
          0,
          1
         ],
         "title": {
          "text": "tSNE2"
         }
        }
       }
      }
     },
     "metadata": {},
     "output_type": "display_data"
    }
   ],
   "source": [
    "from sklearn.manifold import TSNE\n",
    "\n",
    "X_embedded = TSNE(init='random', learning_rate='auto').fit_transform(X)\n",
    "print(X_embedded.shape)\n",
    "\n",
    "tSNE_df = pd.concat([Y, seasons, days, pd.DataFrame(X_embedded, columns=['tSNE1', 'tSNE2'])], axis=1)\n",
    "tSNE_df.head()\n",
    "\n",
    "fig = px.scatter(tSNE_df, x='tSNE1', y='tSNE2', color=tSNE_df['day_of_week'])\n",
    "fig.show()"
   ]
  },
  {
   "cell_type": "code",
   "execution_count": 89,
   "metadata": {},
   "outputs": [],
   "source": [
    "filename = 'maintenance.csv'\n",
    "filepath_2 = cwd + filename\n",
    "\n",
    "maintenance_df = pd.read_csv(filepath_2)"
   ]
  },
  {
   "cell_type": "code",
   "execution_count": 90,
   "metadata": {},
   "outputs": [
    {
     "name": "stdout",
     "output_type": "stream",
     "text": [
      "(1091, 2)\n"
     ]
    },
    {
     "data": {
      "text/html": [
       "<div>\n",
       "<style scoped>\n",
       "    .dataframe tbody tr th:only-of-type {\n",
       "        vertical-align: middle;\n",
       "    }\n",
       "\n",
       "    .dataframe tbody tr th {\n",
       "        vertical-align: top;\n",
       "    }\n",
       "\n",
       "    .dataframe thead th {\n",
       "        text-align: right;\n",
       "    }\n",
       "</style>\n",
       "<table border=\"1\" class=\"dataframe\">\n",
       "  <thead>\n",
       "    <tr style=\"text-align: right;\">\n",
       "      <th></th>\n",
       "      <th>date</th>\n",
       "      <th>maintenance</th>\n",
       "      <th>seasons</th>\n",
       "      <th>day_of_week</th>\n",
       "      <th>tSNE1</th>\n",
       "      <th>tSNE2</th>\n",
       "    </tr>\n",
       "  </thead>\n",
       "  <tbody>\n",
       "    <tr>\n",
       "      <th>0</th>\n",
       "      <td>2018-03-08</td>\n",
       "      <td>False</td>\n",
       "      <td>winter</td>\n",
       "      <td>Thursday</td>\n",
       "      <td>9.000162</td>\n",
       "      <td>0.373936</td>\n",
       "    </tr>\n",
       "    <tr>\n",
       "      <th>1</th>\n",
       "      <td>2018-03-09</td>\n",
       "      <td>False</td>\n",
       "      <td>winter</td>\n",
       "      <td>Friday</td>\n",
       "      <td>8.591515</td>\n",
       "      <td>-0.432552</td>\n",
       "    </tr>\n",
       "    <tr>\n",
       "      <th>2</th>\n",
       "      <td>2018-03-10</td>\n",
       "      <td>False</td>\n",
       "      <td>winter</td>\n",
       "      <td>Saturday</td>\n",
       "      <td>2.602405</td>\n",
       "      <td>-10.372633</td>\n",
       "    </tr>\n",
       "    <tr>\n",
       "      <th>3</th>\n",
       "      <td>2018-03-11</td>\n",
       "      <td>False</td>\n",
       "      <td>winter</td>\n",
       "      <td>Sunday</td>\n",
       "      <td>1.823876</td>\n",
       "      <td>-12.840524</td>\n",
       "    </tr>\n",
       "    <tr>\n",
       "      <th>4</th>\n",
       "      <td>2018-03-12</td>\n",
       "      <td>False</td>\n",
       "      <td>winter</td>\n",
       "      <td>Monday</td>\n",
       "      <td>8.810372</td>\n",
       "      <td>0.642037</td>\n",
       "    </tr>\n",
       "  </tbody>\n",
       "</table>\n",
       "</div>"
      ],
      "text/plain": [
       "         date  maintenance seasons day_of_week     tSNE1      tSNE2\n",
       "0  2018-03-08        False  winter    Thursday  9.000162   0.373936\n",
       "1  2018-03-09        False  winter      Friday  8.591515  -0.432552\n",
       "2  2018-03-10        False  winter    Saturday  2.602405 -10.372633\n",
       "3  2018-03-11        False  winter      Sunday  1.823876 -12.840524\n",
       "4  2018-03-12        False  winter      Monday  8.810372   0.642037"
      ]
     },
     "execution_count": 90,
     "metadata": {},
     "output_type": "execute_result"
    }
   ],
   "source": [
    "X_embedded = TSNE(init='random', learning_rate='auto').fit_transform(X)\n",
    "print(X_embedded.shape)\n",
    "\n",
    "tSNE_df = pd.concat([maintenance_df, seasons, days, pd.DataFrame(X_embedded, columns=['tSNE1', 'tSNE2'])], axis=1)\n",
    "tSNE_df.head()"
   ]
  },
  {
   "cell_type": "code",
   "execution_count": 92,
   "metadata": {},
   "outputs": [
    {
     "data": {
      "application/vnd.plotly.v1+json": {
       "config": {
        "plotlyServerURL": "https://plot.ly"
       },
       "data": [
        {
         "hovertemplate": "maintenance=False<br>tSNE1=%{x}<br>tSNE2=%{y}<extra></extra>",
         "legendgroup": "False",
         "marker": {
          "color": "#636efa",
          "symbol": "circle"
         },
         "mode": "markers",
         "name": "False",
         "showlegend": true,
         "type": "scattergl",
         "x": [
          9.000162124633789,
          8.591514587402344,
          2.602404832839966,
          1.8238756656646729,
          8.810372352600098,
          8.609045028686523,
          7.9720540046691895,
          5.901378154754639,
          8.122152328491211,
          6.837512016296387,
          2.216423988342285,
          8.797943115234375,
          7.959126949310303,
          7.858110427856445,
          8.50896167755127,
          8.415654182434082,
          2.63918137550354,
          0.9827607274055481,
          8.257057189941406,
          7.288816452026367,
          1.5901787281036377,
          8.057428359985352,
          6.146009922027588,
          2.2886972427368164,
          2.4734456539154053,
          8.748651504516602,
          7.2477707862854,
          7.634598255157471,
          8.303997039794922,
          7.793509006500244,
          2.4111859798431396,
          1.6478629112243652,
          7.456056594848633,
          8.991891860961914,
          9.068364143371582,
          7.721258640289307,
          8.530970573425293,
          1.8606033325195312,
          -16.983861923217773,
          -0.6905408501625061,
          10.357187271118164,
          9.185263633728027,
          8.444255828857422,
          9.031209945678711,
          2.734841823577881,
          0.9746537804603577,
          9.132939338684082,
          9.526630401611328,
          9.195279121398926,
          9.978635787963867,
          9.399097442626953,
          2.1947085857391357,
          0.2850184142589569,
          9.8910493850708,
          10.043593406677246,
          9.46673583984375,
          9.299853324890137,
          7.745517730712891,
          4.958010673522949,
          0.4644846022129059,
          8.704228401184082,
          10.00794506072998,
          9.592925071716309,
          9.496417999267578,
          9.506892204284668,
          2.472930908203125,
          0.9781053066253662,
          5.855725288391113,
          8.054475784301758,
          10.618606567382812,
          10.039314270019531,
          9.474384307861328,
          3.4337854385375977,
          -4.671318054199219,
          1.98790442943573,
          9.839162826538086,
          10.394182205200195,
          9.587660789489746,
          11.285538673400879,
          6.439383506774902,
          5.114706039428711,
          -1.7079919576644897,
          10.116049766540527,
          9.744834899902344,
          10.243517875671387,
          10.828394889831543,
          -0.44464343786239624,
          2.686758518218994,
          8.895726203918457,
          9.807869911193848,
          10.53715705871582,
          9.470378875732422,
          8.42557430267334,
          3.306427478790283,
          1.84032142162323,
          10.296902656555176,
          10.298693656921387,
          10.303242683410645,
          10.951340675354004,
          9.447439193725586,
          8.894968032836914,
          3.4598000049591064,
          10.876307487487793,
          10.930047035217285,
          8.370686531066895,
          5.2216410636901855,
          5.778059005737305,
          4.684964656829834,
          4.279621601104736,
          9.121621131896973,
          7.597738742828369,
          5.408308029174805,
          9.69473934173584,
          8.55402946472168,
          2.658214807510376,
          4.251646995544434,
          9.329773902893066,
          10.194013595581055,
          -1.440934419631958,
          9.380377769470215,
          11.243268966674805,
          4.939260005950928,
          3.60314679145813,
          9.584202766418457,
          9.417133331298828,
          9.580384254455566,
          9.899466514587402,
          9.877586364746094,
          3.282144546508789,
          3.9681525230407715,
          9.363009452819824,
          9.33963680267334,
          9.080190658569336,
          9.273494720458984,
          10.199438095092773,
          2.3661115169525146,
          1.4435498714447021,
          8.814617156982422,
          8.911370277404785,
          8.836511611938477,
          8.208852767944336,
          8.12231731414795,
          7.520888805389404,
          4.168332099914551,
          8.955918312072754,
          8.52328872680664,
          8.842272758483887,
          10.21580696105957,
          10.379931449890137,
          2.864138126373291,
          4.487934589385986,
          7.871144771575928,
          8.017902374267578,
          8.660088539123535,
          8.094347953796387,
          -16.8952693939209,
          0.8267531991004944,
          10.638943672180176,
          9.897483825683594,
          10.196126937866211,
          7.630210876464844,
          2.284822702407837,
          9.23590087890625,
          7.102754592895508,
          7.272548675537109,
          10.912017822265625,
          4.785975456237793,
          3.2314422130584717,
          0.18547818064689636,
          12.910248756408691,
          13.227524757385254,
          12.816290855407715,
          12.916123390197754,
          11.88114070892334,
          3.2505970001220703,
          6.544134616851807,
          -1.7678049802780151,
          12.858613967895508,
          13.033340454101562,
          12.998615264892578,
          12.70257568359375,
          0.6526296138763428,
          0.00696681858971715,
          12.860255241394043,
          13.272316932678223,
          13.503363609313965,
          12.891456604003906,
          11.799494743347168,
          0.9628105759620667,
          0.6351732611656189,
          12.977022171020508,
          12.460110664367676,
          12.425423622131348,
          12.6235990524292,
          12.22072696685791,
          3.314378023147583,
          -0.04212683066725731,
          12.477227210998535,
          12.528672218322754,
          12.564212799072266,
          11.91833209991455,
          11.849019050598145,
          0.0008670625393278897,
          -1.6318715810775757,
          11.819621086120605,
          11.944031715393066,
          11.753994941711426,
          12.284525871276855,
          8.921897888183594,
          -1.1256556510925293,
          3.4879353046417236,
          3.252629518508911,
          11.48369026184082,
          11.404485702514648,
          10.056965827941895,
          6.262849807739258,
          0.6681336164474487,
          0.22280192375183105,
          9.889192581176758,
          11.042131423950195,
          10.99869155883789,
          11.300868034362793,
          6.604398727416992,
          -0.728428840637207,
          -1.0103645324707031,
          6.647552013397217,
          6.870158672332764,
          6.784519195556641,
          6.669668674468994,
          6.713835716247559,
          -0.6344167590141296,
          -2.0717787742614746,
          6.17743444442749,
          2.175834894180298,
          7.488328456878662,
          4.24769926071167,
          5.88640832901001,
          0.8516877889633179,
          -2.531134843826294,
          -2.677624464035034,
          3.5149075984954834,
          3.084299087524414,
          1.4511157274246216,
          2.467271566390991,
          -1.9706127643585205,
          -3.4994418621063232,
          -0.4278375804424286,
          1.6037427186965942,
          3.8908743858337402,
          -1.2490715980529785,
          3.349081516265869,
          -4.547297954559326,
          -16.950063705444336,
          0.4731195271015167,
          0.2556275427341461,
          3.1846296787261963,
          -1.8033603429794312,
          -2.628065347671509,
          -1.0901132822036743,
          -3.743009090423584,
          2.569443702697754,
          2.5010054111480713,
          4.500031471252441,
          0.9093614220619202,
          3.181910991668701,
          -2.104156732559204,
          -2.4874887466430664,
          -0.16965892910957336,
          2.400601387023926,
          1.9404863119125366,
          3.242858648300171,
          3.5555970668792725,
          -2.0489487648010254,
          -1.526473045349121,
          2.2133474349975586,
          2.218834638595581,
          1.9271976947784424,
          2.057271718978882,
          -1.6252573728561401,
          -5.369163513183594,
          -3.9105072021484375,
          -5.334987163543701,
          -2.99609112739563,
          -1.0335147380828857,
          1.3182415962219238,
          -1.2744688987731934,
          -1.511804223060608,
          0.041737984865903854,
          -2.8306124210357666,
          -1.813805341720581,
          -1.292523741722107,
          -0.8579920530319214,
          1.7403355836868286,
          1.2067652940750122,
          -0.1267765462398529,
          -3.292032241821289,
          -1.8862662315368652,
          -0.6777373552322388,
          0.5910540819168091,
          0.30538731813430786,
          -3.2317566871643066,
          -1.6879160404205322,
          -1.0830562114715576,
          -0.6968520879745483,
          -1.7631802558898926,
          -0.4680373966693878,
          -0.8186675310134888,
          -16.964330673217773,
          -16.96958351135254,
          -1.1796401739120483,
          -0.9670789241790771,
          -1.28445303440094,
          -1.1198983192443848,
          -1.1181617975234985,
          1.3501052856445312,
          -3.7776777744293213,
          -1.8039315938949585,
          0.104425348341465,
          0.0379842072725296,
          0.4721357822418213,
          5.123162269592285,
          1.337487816810608,
          -5.040740489959717,
          12.119452476501465,
          -0.7461691498756409,
          -1.807639479637146,
          -1.4909659624099731,
          0.13011614978313446,
          -0.12856042385101318,
          -6.049917697906494,
          -0.3256872594356537,
          -0.141903355717659,
          -2.8948628902435303,
          -1.7833259105682373,
          -2.2742278575897217,
          -2.7442612648010254,
          -1.239556908607483,
          -0.5718904137611389,
          -0.10656166076660156,
          -1.2979662418365479,
          -1.7846471071243286,
          -1.9972130060195923,
          -3.976057291030884,
          -3.288283109664917,
          -2.0036914348602295,
          -0.7486432194709778,
          -1.0362293720245361,
          -0.43499788641929626,
          -2.173081159591675,
          -2.2864365577697754,
          -3.3449854850769043,
          -1.1200661659240723,
          -1.2623534202575684,
          -1.2687628269195557,
          -3.75152850151062,
          -1.676909327507019,
          -3.336364984512329,
          -3.4675087928771973,
          -2.1042304039001465,
          -1.9957236051559448,
          -1.2433907985687256,
          1.1272838115692139,
          -1.282430648803711,
          -3.0114223957061768,
          -3.5322937965393066,
          -1.0457746982574463,
          -1.1272127628326416,
          -1.4244446754455566,
          -1.5800156593322754,
          -1.3601665496826172,
          2.7789041996002197,
          -3.908578634262085,
          -2.0672447681427,
          -1.5562541484832764,
          -1.4392229318618774,
          1.8718421459197998,
          3.1560943126678467,
          -4.897095203399658,
          -3.194843053817749,
          -1.7992427349090576,
          -1.712769627571106,
          1.7854907512664795,
          -1.0833017826080322,
          -1.1930620670318604,
          -1.8467978239059448,
          -5.6784796714782715,
          -2.06418514251709,
          -1.777052879333496,
          -3.187323570251465,
          -4.244652271270752,
          -0.3761051595211029,
          -6.671438694000244,
          -3.8671672344207764,
          -0.6006163358688354,
          2.383150577545166,
          -4.209108352661133,
          -3.4252307415008545,
          -2.276395797729492,
          -3.9703476428985596,
          -3.146118402481079,
          -0.5082457661628723,
          -1.3721634149551392,
          -1.9903579950332642,
          -2.9816391468048096,
          -6.564670085906982,
          -5.029552459716797,
          -4.673249244689941,
          -2.487262487411499,
          -2.286787509918213,
          -2.3296778202056885,
          -2.5662312507629395,
          -2.3438754081726074,
          -2.900926351547241,
          -5.435965538024902,
          -1.4149854183197021,
          -3.9249746799468994,
          -1.511376976966858,
          -5.973367691040039,
          -1.9575347900390625,
          -7.483824253082275,
          -4.765913486480713,
          -2.3293418884277344,
          -3.086977005004883,
          -1.9098585844039917,
          -1.965612769126892,
          -3.903599739074707,
          -3.7701802253723145,
          -2.3270602226257324,
          -1.0769481658935547,
          -2.494811773300171,
          -2.969532012939453,
          -3.942046880722046,
          -1.2366613149642944,
          -3.2133326530456543,
          -4.369290351867676,
          -2.912851572036743,
          -1.9522905349731445,
          -2.4251625537872314,
          -0.9147223830223083,
          -1.987127423286438,
          -2.2205910682678223,
          -5.295620441436768,
          -1.7934339046478271,
          -3.7775046825408936,
          -0.20553164184093475,
          -0.8570168018341064,
          -2.394453525543213,
          -2.8722076416015625,
          -3.4844675064086914,
          3.563572883605957,
          -2.3150405883789062,
          -2.722465753555298,
          -3.844531774520874,
          -3.3938210010528564,
          1.8152077198028564,
          -4.591314315795898,
          -3.0834107398986816,
          -3.683964729309082,
          -2.579390287399292,
          -2.0910162925720215,
          -3.081918478012085,
          1.8659288883209229,
          -3.5427634716033936,
          -2.9887664318084717,
          -2.8146941661834717,
          -3.5948047637939453,
          -2.03896427154541,
          -4.35157585144043,
          -0.32354286313056946,
          -4.824897766113281,
          -2.6178629398345947,
          -4.028163909912109,
          -4.622336387634277,
          -4.936919689178467,
          1.2135533094406128,
          -4.514266490936279,
          4.090130805969238,
          -2.029766798019409,
          -5.09130334854126,
          -2.6207759380340576,
          -1.6632461547851562,
          -1.7442669868469238,
          -3.343606948852539,
          -3.6975581645965576,
          -1.9155160188674927,
          -4.044661998748779,
          -4.806759834289551,
          -3.3867218494415283,
          -3.3903748989105225,
          -4.4713239669799805,
          -4.866598606109619,
          -3.1871438026428223,
          -6.651747226715088,
          -6.945995807647705,
          -6.983070373535156,
          -4.763321399688721,
          -2.881138324737549,
          -2.9256882667541504,
          2.6929755210876465,
          -2.615915298461914,
          -1.3147516250610352,
          -5.618027210235596,
          -2.260755777359009,
          1.220183253288269,
          -6.212557792663574,
          -2.40869140625,
          -2.641645908355713,
          -3.019134521484375,
          -4.331854820251465,
          0.5556904673576355,
          -1.8391886949539185,
          0.4705752730369568,
          -3.6181137561798096,
          -5.82736873626709,
          -5.9603986740112305,
          -5.472903251647949,
          0.44619452953338623,
          -3.974743604660034,
          -1.0817140340805054,
          -0.37881705164909363,
          6.345994472503662,
          1.1803799867630005,
          -4.488711357116699,
          -1.934760570526123,
          -0.9659945368766785,
          0.21241486072540283,
          -0.4399978816509247,
          4.114563941955566,
          -2.5994248390197754,
          -5.262618541717529,
          -3.0306904315948486,
          -0.31105315685272217,
          -5.427440643310547,
          2.9200117588043213,
          -1.8343557119369507,
          2.57230544090271,
          -1.8066314458847046,
          2.1503844261169434,
          0.19960664212703705,
          1.1509779691696167,
          -1.312609314918518,
          -2.433885097503662,
          -2.4239392280578613,
          0.21773774921894073,
          3.0678656101226807,
          0.4355050027370453,
          -2.185760498046875,
          0.36982262134552,
          -4.01589822769165,
          -3.2344844341278076,
          -6.000002384185791,
          -2.9980251789093018,
          -5.280557632446289,
          4.051030158996582,
          1.1813766956329346,
          -3.170785665512085,
          -2.7706568241119385,
          0.0591648705303669,
          3.0256528854370117,
          -0.8108794093132019,
          -0.9741594195365906,
          1.5837892293930054,
          0.6971500515937805,
          -0.09405822306871414,
          -4.522120952606201,
          -1.7262846231460571,
          -5.064494609832764,
          -17.12901496887207,
          -8.49480152130127,
          -4.469911098480225,
          -0.46767887473106384,
          -3.8984968662261963,
          -4.586519241333008,
          1.4299418926239014,
          -16.934118270874023,
          1.7144874334335327,
          0.9777971506118774,
          -0.1640954464673996,
          1.0805468559265137,
          -3.4872725009918213,
          -2.6805717945098877,
          -3.8671326637268066,
          -1.0343588590621948,
          -0.36450955271720886,
          -1.376061201095581,
          -1.9555389881134033,
          -4.914731025695801,
          -2.084082841873169,
          -4.533675670623779,
          0.9185454845428467,
          0.6918730139732361,
          -0.689240574836731,
          -2.9804370403289795,
          -1.5051488876342773,
          -3.905083417892456,
          -4.473374843597412,
          -16.947425842285156,
          -3.673318862915039,
          -3.6317780017852783,
          0.7691031098365784,
          1.1117836236953735,
          0.326834112405777,
          -3.175835609436035,
          0.7381460070610046,
          4.880055904388428,
          0.8107264041900635,
          -4.238708019256592,
          0.8327652215957642,
          -0.8615140318870544,
          -1.6111537218093872,
          1.7616546154022217,
          0.42163723707199097,
          1.3558508157730103,
          -1.8117014169692993,
          -0.8654770851135254,
          -3.437142848968506,
          -4.355770111083984,
          0.7211478352546692,
          1.3630096912384033,
          -0.7663779258728027,
          1.135987401008606,
          -6.7076497077941895,
          -0.7873261570930481,
          -4.192566871643066,
          -5.2167158126831055,
          0.3137514293193817,
          0.4331330358982086,
          0.2907743453979492,
          -16.54695701599121,
          -16.84766960144043,
          -16.909385681152344,
          -16.911264419555664,
          -1.1012461185455322,
          -3.5576016902923584,
          0.649240255355835,
          -1.661871314048767,
          -6.76267147064209,
          -17.255603790283203,
          -8.785465240478516,
          0.17513757944107056,
          1.0505419969558716,
          1.1807286739349365,
          0.2422935664653778,
          -3.5060694217681885,
          -1.8646063804626465,
          -0.23728930950164795,
          0.14130784571170807,
          -3.463956832885742,
          -5.267145156860352,
          0.2769930958747864,
          1.0216561555862427,
          -0.5621444582939148,
          -0.5106876492500305,
          -0.9154138565063477,
          -2.7993197441101074,
          -4.1658616065979,
          -0.15391689538955688,
          0.0033663716167211533,
          -0.5646409392356873,
          0.45250943303108215,
          12.006370544433594,
          -3.4802005290985107,
          -3.9612088203430176,
          -1.8303837776184082,
          -0.6263557076454163,
          0.22634421288967133,
          0.22452996671199799,
          0.7708598375320435,
          0.017936207354068756,
          -0.11067795753479004,
          -6.557289123535156,
          0.9328944087028503,
          0.192722886800766,
          2.678781747817993,
          -0.21974176168441772,
          0.33185240626335144,
          -0.12688668072223663,
          0.17380528151988983,
          -6.414388656616211,
          -2.8528501987457275,
          0.35168758034706116,
          -0.2717553675174713,
          1.8580317497253418,
          0.26984265446662903,
          1.0270509719848633,
          1.0738028287887573,
          -0.33099520206451416,
          -0.5019453763961792,
          -4.471007823944092,
          1.2072346210479736,
          -5.640448093414307,
          -0.34549480676651,
          1.4592006206512451,
          -1.1088289022445679,
          -5.12432336807251,
          -5.895206928253174,
          -1.120575189590454,
          -0.5503263473510742,
          -0.48242154717445374,
          -1.013431429862976,
          -1.8211053609848022,
          -3.583268880844116,
          -3.7507965564727783,
          -1.5047190189361572,
          -0.5136547088623047,
          -1.2140083312988281,
          -0.9425045251846313,
          -0.9256784319877625,
          4.147581100463867,
          2.2224342823028564,
          1.9682402610778809,
          -0.6088047623634338,
          1.1822082996368408,
          -0.9983178973197937,
          -1.2469143867492676,
          3.516921281814575,
          2.2249302864074707,
          0.9409777522087097,
          1.8764984607696533,
          0.8880341649055481,
          -0.14625979959964752,
          1.3446494340896606,
          3.8745179176330566,
          2.4358644485473633,
          0.9744723439216614,
          0.4507501721382141,
          0.3794303834438324,
          -0.32620516419410706,
          0.2804275155067444,
          3.7151565551757812,
          2.1657421588897705,
          0.911811351776123,
          -0.38438355922698975,
          0.07041576504707336,
          1.1838793754577637,
          1.2026044130325317,
          4.116989612579346,
          1.950520396232605,
          1.3373358249664307,
          -0.6281485557556152,
          0.3954193890094757,
          -0.8100273013114929,
          0.5338365435600281,
          3.2025890350341797,
          1.8967828750610352,
          1.21214759349823,
          -0.9822848439216614,
          -0.9352784156799316,
          -0.7049281597137451,
          0.38667741417884827,
          3.414583921432495,
          2.284806251525879,
          0.14705266058444977,
          0.8185977935791016,
          -0.777823805809021,
          0.357974112033844,
          -0.9032647013664246,
          3.702040433883667,
          2.1240391731262207,
          0.6375532150268555,
          -0.3333390951156616,
          0.6843530535697937,
          -0.20342501997947693,
          1.2969553470611572,
          3.450190782546997,
          2.6954195499420166,
          -7.565517902374268,
          -0.39914897084236145,
          -0.4791780710220337,
          -0.18040761351585388,
          -0.19062452018260956,
          3.5137760639190674,
          1.584763526916504,
          -16.947954177856445,
          -16.944843292236328,
          -16.944595336914062,
          -16.942001342773438,
          -8.18147087097168,
          3.735602617263794,
          1.346013069152832,
          -0.2658904790878296,
          -0.0010950112482532859,
          0.6596084237098694,
          -6.418035984039307,
          -7.766782760620117,
          4.311089992523193,
          1.342376708984375,
          0.3119145631790161,
          -1.0253486633300781,
          -0.9496361017227173,
          -1.5355366468429565,
          -0.9025436043739319,
          2.8348143100738525,
          0.7454397678375244,
          -4.172966480255127,
          -3.9022390842437744,
          -0.1356266438961029,
          -2.7519896030426025,
          -0.9324981570243835,
          2.8512213230133057,
          1.8104079961776733,
          0.057654134929180145,
          0.0872943103313446,
          -1.6917904615402222,
          -2.161433219909668,
          -2.101273536682129,
          1.9351414442062378,
          1.2509641647338867,
          -2.5530893802642822,
          -0.26026907563209534,
          0.9774892926216125,
          1.9467949867248535,
          -1.8739707469940186,
          3.8695271015167236,
          1.4106452465057373,
          1.827451229095459,
          -0.02934270352125168,
          -6.083109378814697,
          -2.6497414112091064,
          1.6631824970245361,
          3.5316882133483887,
          2.493143320083618,
          -1.073757529258728,
          -2.9319281578063965,
          -0.8133275508880615,
          -3.34700608253479,
          1.5953577756881714,
          2.585068702697754,
          2.099668264389038,
          -2.5043554306030273,
          -2.5617339611053467,
          -3.4157004356384277,
          -1.7510581016540527,
          -2.0252950191497803,
          2.7439253330230713,
          0.952167809009552,
          -2.8666622638702393,
          -3.5766608715057373,
          -4.135223388671875,
          -4.0795207023620605,
          -3.0723037719726562,
          2.7872262001037598,
          3.263767957687378,
          -2.608868360519409,
          -2.627272129058838,
          -4.1247076988220215,
          -4.040388584136963,
          -1.4601777791976929,
          2.6988065242767334,
          1.2073261737823486,
          -16.936607360839844,
          -8.551846504211426,
          -2.28875994682312,
          -1.0094784498214722,
          2.8908638954162598,
          0.5609294772148132,
          -1.128125548362732,
          -2.8487095832824707,
          -3.262629508972168,
          -2.162923812866211,
          -3.7713005542755127,
          3.0757224559783936,
          1.2804771661758423,
          -2.962070941925049,
          2.211822032928467,
          -0.08850885182619095,
          -3.444195508956909,
          -4.498621463775635,
          1.7341885566711426,
          0.3309745192527771,
          -3.9406232833862305,
          -0.07643694430589676,
          -2.990443468093872,
          -3.981534957885742,
          -0.6685492992401123,
          2.9204211235046387,
          0.2019512802362442,
          -5.425787448883057,
          -5.165740966796875,
          -1.3899309635162354,
          -3.277322292327881,
          -3.449293613433838,
          2.1243934631347656,
          0.6368401646614075,
          -2.2060999870300293,
          -4.249258518218994,
          -3.4308454990386963,
          -1.3831777572631836,
          -3.2721493244171143,
          2.302192211151123,
          0.34595194458961487,
          -2.323744058609009,
          -3.7029850482940674,
          -1.066108226776123,
          -2.3679163455963135,
          -2.250081777572632,
          1.8488095998764038,
          0.8561075925827026,
          -2.3038761615753174,
          -2.7233591079711914,
          -2.377803325653076,
          -3.591519355773926,
          -3.6230359077453613,
          1.5739766359329224,
          1.1212248802185059,
          -2.474703073501587,
          -4.382255554199219,
          -3.7518742084503174,
          -3.397308826446533,
          -2.780761957168579,
          2.2078089714050293,
          1.145868182182312,
          -0.7846582531929016,
          -3.238013744354248,
          -2.77140474319458,
          -3.553895950317383,
          -3.3875555992126465,
          2.5773396492004395,
          1.5628539323806763,
          -2.0149598121643066,
          -2.665099859237671,
          -3.0425527095794678,
          -3.885891914367676,
          -1.828984022140503,
          1.5140430927276611,
          1.264012098312378,
          -2.9074583053588867,
          -2.0698742866516113,
          -3.1277241706848145,
          -3.03165340423584,
          -2.539395809173584,
          1.3164052963256836,
          0.7496539950370789,
          -1.2905713319778442,
          -0.22759756445884705,
          -3.3949525356292725,
          -5.573130130767822,
          -3.739527463912964,
          2.3081278800964355,
          1.0783231258392334,
          -0.7609255313873291,
          -2.4975249767303467,
          -4.135796070098877,
          -5.303823947906494,
          -1.6641600131988525,
          1.8103820085525513,
          1.6183677911758423,
          0.3756789565086365,
          -3.7992351055145264,
          -4.196384429931641,
          -5.1786909103393555,
          -2.323923349380493,
          2.1365554332733154,
          1.7042057514190674,
          -1.545296549797058,
          -2.710901975631714,
          2.5583808422088623,
          -1.4109528064727783,
          0.6195659637451172,
          0.7345831394195557,
          1.3707618713378906,
          -1.75166654586792,
          -2.3888628482818604,
          -1.6519253253936768,
          -1.7420870065689087,
          -1.7972044944763184,
          1.8364827632904053,
          1.7226020097732544,
          -1.863852620124817,
          -1.6806174516677856,
          -1.2079730033874512,
          -5.483056545257568,
          -1.3170784711837769,
          1.8049858808517456,
          1.6224044561386108,
          -1.5505894422531128,
          -0.5847474336624146,
          -1.6946005821228027,
          -2.053842782974243,
          -1.831586480140686,
          0.5987979173660278,
          1.3253523111343384,
          -2.343196153640747,
          -3.0371785163879395,
          0.6319084167480469,
          -5.54935884475708,
          -1.5775359869003296,
          2.412727117538452,
          1.5243473052978516,
          -1.64132821559906,
          4.85391902923584,
          -4.765214920043945,
          -6.115583896636963,
          -1.6769856214523315,
          0.49225276708602905,
          1.5240137577056885,
          -2.378549337387085,
          -5.425833702087402,
          -3.4037277698516846,
          -1.2532782554626465,
          -1.6591053009033203,
          2.3457672595977783,
          1.645707368850708,
          -1.6337698698043823,
          -4.770439624786377,
          -2.9736125469207764,
          -1.5213521718978882,
          -3.6867895126342773,
          2.7428195476531982,
          1.647268295288086,
          -0.4196443259716034,
          -0.326148122549057,
          -2.448277711868286,
          -5.4550981521606445,
          -1.528030514717102,
          1.3741105794906616,
          1.687072515487671,
          -2.9938840866088867,
          -0.39929845929145813,
          -16.948246002197266,
          -16.930381774902344,
          -16.69253921508789,
          3.257599115371704,
          2.47091007232666,
          1.371002197265625,
          1.1650913953781128,
          1.477657675743103,
          -4.579714775085449,
          -0.883503258228302,
          1.7410584688186646,
          2.2511963844299316,
          1.7447192668914795,
          -5.561439037322998,
          -6.524850845336914,
          -4.362270355224609,
          -0.7730079293251038,
          1.8408557176589966,
          1.7781879901885986,
          4.479964256286621,
          4.244263648986816,
          -5.054664611816406,
          0.20369300246238708,
          -4.363850116729736,
          3.9012229442596436,
          0.2684074938297272,
          0.6714763641357422,
          -7.2867326736450195,
          -6.358086109161377,
          -4.922303676605225,
          -0.5908582806587219,
          2.3277218341827393,
          1.5710729360580444,
          -5.3458251953125,
          -5.715425968170166
         ],
         "xaxis": "x",
         "y": [
          0.37393632531166077,
          -0.4325517416000366,
          -10.37263298034668,
          -12.840523719787598,
          0.6420374512672424,
          0.5036239624023438,
          0.34954652190208435,
          0.7863042950630188,
          -0.9074488282203674,
          0.09643902629613876,
          -12.788846969604492,
          -0.617958664894104,
          -0.5428547263145447,
          1.0447850227355957,
          0.5637363791465759,
          0.1064193844795227,
          -10.227920532226562,
          -12.419639587402344,
          -0.26230698823928833,
          -0.8503487706184387,
          0.42381414771080017,
          0.11736490577459335,
          -2.768982172012329,
          -10.966400146484375,
          -12.318892478942871,
          0.2532159090042114,
          0.24382558465003967,
          1.1259475946426392,
          1.141847014427185,
          -0.38889265060424805,
          -8.974678993225098,
          -13.311639785766602,
          0.9773054122924805,
          0.07479553669691086,
          0.17531710863113403,
          0.500883162021637,
          -0.41377830505371094,
          -10.115897178649902,
          -5.13738489151001,
          6.294442176818848,
          0.21719591319561005,
          0.4582138657569885,
          1.6702830791473389,
          1.3637665510177612,
          -11.799386978149414,
          -12.7476224899292,
          1.0162644386291504,
          0.4403563439846039,
          0.6534579396247864,
          0.8961718082427979,
          0.7514466643333435,
          -9.670894622802734,
          -12.419179916381836,
          1.2797386646270752,
          0.780998170375824,
          0.3333110213279724,
          1.1344451904296875,
          -2.1339311599731445,
          -9.36963176727295,
          -13.166496276855469,
          1.8603397607803345,
          -0.0751250609755516,
          0.9200513362884521,
          0.7559826970100403,
          1.4328358173370361,
          -12.2230806350708,
          -12.832619667053223,
          0.7858630418777466,
          -0.09386861324310303,
          -0.26462510228157043,
          0.39840397238731384,
          0.13540536165237427,
          -10.951359748840332,
          -13.222185134887695,
          -0.7642996907234192,
          0.4093734920024872,
          0.4457797706127167,
          -0.7677998542785645,
          -0.950913667678833,
          -3.683330774307251,
          -4.7427592277526855,
          -16.729202270507812,
          0.2943209409713745,
          -0.555427610874176,
          0.8209777474403381,
          0.9890714883804321,
          -10.137866973876953,
          -12.287798881530762,
          -0.883760392665863,
          -0.17956745624542236,
          0.02562144584953785,
          1.8256545066833496,
          -1.5053112506866455,
          -8.427628517150879,
          -12.147130012512207,
          0.4225146472454071,
          -0.5553135871887207,
          -0.6415545344352722,
          -0.9083850979804993,
          -1.2709711790084839,
          -4.744668006896973,
          -11.193389892578125,
          -1.195042610168457,
          -1.2252353429794312,
          -0.8626013994216919,
          -6.274019241333008,
          -5.869114398956299,
          -9.445984840393066,
          2.8690733909606934,
          -1.687748908996582,
          -2.878836154937744,
          -0.9060854315757751,
          -1.3709521293640137,
          -0.4576915204524994,
          -6.820637226104736,
          -10.896506309509277,
          -0.511439859867096,
          -1.15861177444458,
          -16.20987319946289,
          -3.1069748401641846,
          -0.4171312153339386,
          -1.7453668117523193,
          -9.50854778289795,
          -1.8035157918930054,
          -1.439245343208313,
          -1.3587814569473267,
          -1.7903326749801636,
          -1.3023325204849243,
          -9.383858680725098,
          -9.803060531616211,
          -2.47583270072937,
          -2.1745834350585938,
          -0.9596467614173889,
          -0.5174664258956909,
          -0.8801344633102417,
          -9.4664306640625,
          -11.190585136413574,
          -1.8198575973510742,
          -1.855014443397522,
          -2.2431674003601074,
          -1.2727460861206055,
          -2.06380033493042,
          -5.089718818664551,
          -10.690425872802734,
          -2.0214831829071045,
          -3.333355188369751,
          -2.949493885040283,
          -1.9289592504501343,
          -2.0518414974212646,
          -4.16163969039917,
          -9.805334091186523,
          -3.7745277881622314,
          -3.0080368518829346,
          -1.8419145345687866,
          -2.293395519256592,
          -4.986577033996582,
          1.6545625925064087,
          -2.7178072929382324,
          -2.8859620094299316,
          -3.065927028656006,
          -1.6506550312042236,
          -6.348690509796143,
          -2.8207268714904785,
          -1.1049187183380127,
          -1.5386531352996826,
          -1.9102201461791992,
          -3.5267438888549805,
          -7.1034135818481445,
          -11.130086898803711,
          1.2796454429626465,
          1.2528588771820068,
          1.1258018016815186,
          1.0385702848434448,
          0.5019838809967041,
          -5.984417915344238,
          -4.596320629119873,
          -16.79005241394043,
          1.3061745166778564,
          1.7260208129882812,
          1.7555221319198608,
          1.2760355472564697,
          -11.146245956420898,
          -13.794159889221191,
          1.1624544858932495,
          0.5835855603218079,
          0.4475858807563782,
          0.02147638611495495,
          1.13809072971344,
          -10.3970947265625,
          -13.744051933288574,
          0.009911647066473961,
          0.20396381616592407,
          0.4359052777290344,
          0.07337848842144012,
          -0.4924507141113281,
          -10.930839538574219,
          -13.971471786499023,
          0.4596836268901825,
          0.548893392086029,
          0.5743505954742432,
          1.1369346380233765,
          0.4581865966320038,
          -11.751612663269043,
          -13.932194709777832,
          0.7476222515106201,
          0.9587184190750122,
          0.9083008170127869,
          -0.31047356128692627,
          2.4322378635406494,
          -11.55423641204834,
          -8.182906150817871,
          -6.130415439605713,
          0.6886423230171204,
          0.7950146198272705,
          2.219809055328369,
          -2.422877788543701,
          -11.507089614868164,
          -13.732579231262207,
          2.7301886081695557,
          2.0147767066955566,
          2.047020196914673,
          1.8706903457641602,
          2.278538703918457,
          -11.427687644958496,
          -13.491741180419922,
          4.118502140045166,
          3.858006238937378,
          3.8536763191223145,
          3.9084999561309814,
          2.9979867935180664,
          -12.082847595214844,
          -14.14143180847168,
          4.697762489318848,
          4.876917839050293,
          3.2556416988372803,
          7.233227252960205,
          3.1604928970336914,
          -8.066834449768066,
          -14.198431015014648,
          9.019060134887695,
          7.060940742492676,
          7.730393409729004,
          9.212594985961914,
          7.974445343017578,
          -12.392173767089844,
          -14.41975212097168,
          -2.0532383918762207,
          8.523429870605469,
          8.981446266174316,
          7.117713928222656,
          9.052506446838379,
          -7.188115119934082,
          -5.146970272064209,
          10.972004890441895,
          10.36108112335205,
          6.614545822143555,
          -16.74943733215332,
          -9.839883804321289,
          1.4335874319076538,
          -0.9875392317771912,
          6.894957542419434,
          7.356307029724121,
          5.773472785949707,
          9.663633346557617,
          7.957108974456787,
          -12.420376777648926,
          -13.868733406066895,
          8.038033485412598,
          9.392179489135742,
          4.333670616149902,
          8.974337577819824,
          7.885530471801758,
          -12.351283073425293,
          -13.5824613571167,
          9.359067916870117,
          8.132513046264648,
          7.83768367767334,
          8.613432884216309,
          5.780717372894287,
          -9.882393836975098,
          -14.701276779174805,
          7.947744369506836,
          9.348132133483887,
          6.675743579864502,
          3.183087110519409,
          7.870205402374268,
          0.804405152797699,
          13.340982437133789,
          -10.994672775268555,
          -16.680803298950195,
          1.0086779594421387,
          5.738552093505859,
          9.984036445617676,
          12.83587646484375,
          14.456524848937988,
          -7.515347003936768,
          -16.539522171020508,
          5.706401348114014,
          9.11474609375,
          8.563058853149414,
          -3.328457832336426,
          -11.17689323425293,
          8.414796829223633,
          7.414829254150391,
          6.865767002105713,
          5.0974578857421875,
          5.321740627288818,
          -5.1169843673706055,
          -5.1142988204956055,
          4.6736602783203125,
          6.77398681640625,
          8.713668823242188,
          9.659183502197266,
          9.600128173828125,
          -9.681938171386719,
          -13.630631446838379,
          -15.274709701538086,
          10.123424530029297,
          9.981478691101074,
          9.38070011138916,
          -6.409803867340088,
          -10.20482349395752,
          0.3835684359073639,
          2.881687641143799,
          9.865574836730957,
          -16.766117095947266,
          -15.3850679397583,
          10.93787956237793,
          12.005191802978516,
          -9.548561096191406,
          8.720038414001465,
          9.389883041381836,
          9.9498872756958,
          9.242446899414062,
          2.4971256256103516,
          -11.875452041625977,
          -13.49800968170166,
          9.057090759277344,
          1.6097675561904907,
          8.623122215270996,
          10.37452220916748,
          10.092314720153809,
          -10.342588424682617,
          -13.341573715209961,
          -10.456785202026367,
          8.544724464416504,
          8.160057067871094,
          9.617768287658691,
          9.448500633239746,
          -11.737030029296875,
          -13.89224910736084,
          6.416267395019531,
          6.140319347381592,
          7.3719987869262695,
          11.124625205993652,
          9.034050941467285,
          -11.842853546142578,
          -13.530364990234375,
          4.061031341552734,
          4.735954284667969,
          7.893989086151123,
          10.16625690460205,
          5.344149112701416,
          -12.22221565246582,
          -13.806785583496094,
          7.788633823394775,
          7.154071807861328,
          7.197357177734375,
          7.3702921867370605,
          5.247682094573975,
          -2.3897571563720703,
          -14.355608940124512,
          5.32438850402832,
          5.688492774963379,
          7.395440101623535,
          5.772780895233154,
          4.245234489440918,
          -10.259641647338867,
          -13.107706069946289,
          5.585398197174072,
          5.854245185852051,
          5.69264030456543,
          5.466609954833984,
          4.7552690505981445,
          -12.259718894958496,
          -14.803729057312012,
          6.220041275024414,
          6.082995891571045,
          7.157715797424316,
          7.265613555908203,
          -1.5781338214874268,
          -7.84378719329834,
          -13.847711563110352,
          8.113340377807617,
          3.0487446784973145,
          7.143896579742432,
          7.852299213409424,
          8.70737361907959,
          -2.809328556060791,
          -15.025368690490723,
          4.020692825317383,
          6.353796482086182,
          6.132091999053955,
          4.642762184143066,
          -3.7748184204101562,
          -9.105857849121094,
          -14.216083526611328,
          6.831640243530273,
          7.557977199554443,
          7.418307304382324,
          7.7042555809021,
          6.289233207702637,
          -12.774508476257324,
          -14.56706428527832,
          8.190375328063965,
          10.43288803100586,
          8.438912391662598,
          7.075125217437744,
          6.469690799713135,
          -9.504264831542969,
          -14.935291290283203,
          6.49770975112915,
          7.78275728225708,
          7.576166152954102,
          7.416492462158203,
          7.810359954833984,
          -10.984842300415039,
          -13.75989055633545,
          6.592209815979004,
          6.4459147453308105,
          6.825169563293457,
          10.56394100189209,
          -2.6041839122772217,
          -9.829447746276855,
          -14.054803848266602,
          7.321305274963379,
          6.682097434997559,
          8.058430671691895,
          11.230340003967285,
          8.627771377563477,
          0.3120133876800537,
          -1.0586230754852295,
          -16.68242835998535,
          6.864333629608154,
          8.80579948425293,
          9.203462600708008,
          8.285196304321289,
          -12.253647804260254,
          -11.263440132141113,
          4.918761730194092,
          6.036569118499756,
          7.5818352699279785,
          6.559023857116699,
          6.834042549133301,
          -5.213954925537109,
          -14.480650901794434,
          6.027823448181152,
          5.68371057510376,
          5.3079142570495605,
          7.8328657150268555,
          8.697906494140625,
          -7.110381126403809,
          -12.535537719726562,
          6.247157573699951,
          6.635258197784424,
          5.962562561035156,
          7.237042427062988,
          5.789880752563477,
          -3.531015396118164,
          -13.664681434631348,
          4.4785590171813965,
          5.852545261383057,
          3.787971258163452,
          3.4155092239379883,
          -3.950847864151001,
          -4.192079067230225,
          2.963669538497925,
          9.562189102172852,
          5.336660861968994,
          10.9540376663208,
          -16.027725219726562,
          -9.443136215209961,
          0.42696842551231384,
          0.741565465927124,
          5.310014724731445,
          4.790812969207764,
          2.176264762878418,
          5.162719249725342,
          4.986602783203125,
          3.8212332725524902,
          5.3794941902160645,
          2.1921193599700928,
          4.550863265991211,
          -10.292070388793945,
          -10.450909614562988,
          6.536376953125,
          3.732287883758545,
          3.7314441204071045,
          4.3275604248046875,
          4.894762992858887,
          -10.023210525512695,
          -13.662023544311523,
          1.4398066997528076,
          -1.7612367868423462,
          7.015324592590332,
          10.31611442565918,
          5.538239479064941,
          -1.0856620073318481,
          -1.784644365310669,
          -3.2553281784057617,
          -1.528570294380188,
          -0.9511753916740417,
          3.5294852256774902,
          2.7416481971740723,
          -2.8834099769592285,
          -13.353057861328125,
          -1.0619215965270996,
          2.4512810707092285,
          3.802487373352051,
          4.583578109741211,
          -1.7406647205352783,
          -5.258294582366943,
          -12.182522773742676,
          4.562198162078857,
          -0.801160991191864,
          4.7110514640808105,
          3.7650904655456543,
          0.02779892459511757,
          -9.277039527893066,
          -13.313224792480469,
          2.396825075149536,
          4.19629430770874,
          4.863259315490723,
          5.229025840759277,
          -3.164839744567871,
          -4.442723751068115,
          -16.667816162109375,
          6.224151134490967,
          8.943644523620605,
          11.829808235168457,
          3.998595952987671,
          -10.54031753540039,
          -12.91650104522705,
          5.9825119972229,
          1.5697942972183228,
          5.33163595199585,
          3.4610984325408936,
          4.16348123550415,
          -8.675368309020996,
          -13.27806568145752,
          8.312692642211914,
          5.606091499328613,
          6.504516124725342,
          4.821972370147705,
          8.89296817779541,
          -10.592071533203125,
          -14.273119926452637,
          5.43060302734375,
          5.980633735656738,
          6.067598819732666,
          7.167956352233887,
          6.855374813079834,
          4.7745490074157715,
          5.275414943695068,
          9.539811134338379,
          3.440993309020996,
          -8.08650016784668,
          -4.671182632446289,
          -4.71225643157959,
          8.519116401672363,
          5.561402797698975,
          8.44391918182373,
          4.305258750915527,
          -9.149198532104492,
          -5.556060314178467,
          3.964639902114868,
          3.557101249694824,
          7.911430835723877,
          4.393348693847656,
          4.173250675201416,
          -12.606766700744629,
          -11.792207717895508,
          10.519319534301758,
          7.295884609222412,
          6.783448219299316,
          -2.287062168121338,
          7.6466240882873535,
          -9.97048568725586,
          -9.542329788208008,
          8.062332153320312,
          7.2115325927734375,
          8.566914558410645,
          8.225391387939453,
          2.4882302284240723,
          -9.663331985473633,
          -12.606574058532715,
          -5.066433429718018,
          9.531908988952637,
          8.935149192810059,
          6.673734664916992,
          6.442740440368652,
          -10.099165916442871,
          -13.74421215057373,
          6.732870578765869,
          5.59623908996582,
          6.121004581451416,
          8.642606735229492,
          6.027109146118164,
          -9.585246086120605,
          -11.174039840698242,
          11.213364601135254,
          10.437862396240234,
          7.201546669006348,
          -16.705833435058594,
          -14.70766830444336,
          -1.5074937343597412,
          0.08728812634944916,
          8.842696189880371,
          6.615454196929932,
          7.286628723144531,
          8.10141658782959,
          5.991880416870117,
          -10.218127250671387,
          -13.054441452026367,
          8.953734397888184,
          2.9564125537872314,
          2.6870996952056885,
          7.704351902008057,
          -4.545281887054443,
          -4.869691848754883,
          -4.974477291107178,
          -4.972057342529297,
          4.564590930938721,
          -0.39574992656707764,
          14.615736961364746,
          11.219391822814941,
          -6.682246208190918,
          -5.523282051086426,
          -4.6315789222717285,
          6.054520606994629,
          15.330211639404297,
          16.108745574951172,
          3.7538599967956543,
          -7.599151611328125,
          -15.678791999816895,
          6.5814032554626465,
          6.492475509643555,
          -0.9752111434936523,
          -12.338873863220215,
          7.56500768661499,
          5.408549785614014,
          6.402532577514648,
          6.479093551635742,
          6.06447172164917,
          -13.541364669799805,
          -13.076916694641113,
          7.446527004241943,
          7.527895450592041,
          7.086488723754883,
          5.825520992279053,
          2.621823310852051,
          -10.928903579711914,
          -13.177882194519043,
          -15.398873329162598,
          10.82978343963623,
          8.213349342346191,
          8.488492012023926,
          7.249597072601318,
          6.745613098144531,
          6.7220377922058105,
          4.619171142578125,
          7.362852096557617,
          7.092002868652344,
          6.107698917388916,
          6.958384990692139,
          7.2772722244262695,
          7.536097526550293,
          6.895709991455078,
          0.9825679659843445,
          -11.16860294342041,
          7.982059001922607,
          7.295803546905518,
          5.68666410446167,
          7.205075263977051,
          7.946319103240967,
          5.392480850219727,
          6.5741705894470215,
          2.7775161266326904,
          -10.64002799987793,
          4.910783767700195,
          10.22725772857666,
          6.6014018058776855,
          2.173959970474243,
          3.273315906524658,
          -3.349067449569702,
          -13.011651039123535,
          7.077373027801514,
          7.700286388397217,
          7.286669731140137,
          6.364531517028809,
          -0.6054137349128723,
          -0.871294379234314,
          11.574360847473145,
          1.6125003099441528,
          -8.136045455932617,
          -8.469975471496582,
          -8.56689453125,
          -8.140908241271973,
          17.81821632385254,
          18.959274291992188,
          -7.955790042877197,
          -8.239738464355469,
          -8.904366493225098,
          -8.532368659973145,
          -8.779891967773438,
          17.964792251586914,
          19.763179779052734,
          -7.050774574279785,
          -8.985832214355469,
          -7.05169677734375,
          -8.381269454956055,
          -8.077613830566406,
          17.93415069580078,
          19.861705780029297,
          -7.327068328857422,
          -8.768718719482422,
          -8.884119987487793,
          -8.698281288146973,
          -8.6225004196167,
          18.08270263671875,
          19.41056251525879,
          -7.212296485900879,
          -8.568319320678711,
          -7.909876346588135,
          -8.558662414550781,
          -9.017302513122559,
          17.943506240844727,
          19.273759841918945,
          -7.732931613922119,
          -9.039508819580078,
          -8.572680473327637,
          -8.485498428344727,
          -8.006093978881836,
          17.968732833862305,
          19.139833450317383,
          -6.963372230529785,
          -9.350821495056152,
          -8.798250198364258,
          -8.50110912322998,
          -6.6326704025268555,
          18.312469482421875,
          19.560834884643555,
          -7.37495231628418,
          -8.404397010803223,
          -8.576337814331055,
          -9.2811918258667,
          -8.289321899414062,
          17.990074157714844,
          18.93634796142578,
          -7.641462802886963,
          -8.345504760742188,
          -9.295846939086914,
          -9.324719429016113,
          -7.2115278244018555,
          18.186201095581055,
          19.585918426513672,
          -7.009496212005615,
          -9.327181816101074,
          -9.037198066711426,
          -8.912285804748535,
          -8.91321086883545,
          18.039508819580078,
          19.59208869934082,
          -5.070250988006592,
          -5.064859390258789,
          -5.064917087554932,
          -5.061599254608154,
          -4.883134841918945,
          18.17805290222168,
          20.145938873291016,
          -9.868674278259277,
          -9.825129508972168,
          -9.331241607666016,
          -8.903989791870117,
          -8.430063247680664,
          18.606630325317383,
          19.735292434692383,
          -4.3140645027160645,
          -9.750813484191895,
          -8.719590187072754,
          -8.135899543762207,
          -7.277531147003174,
          18.47003173828125,
          19.8798828125,
          -3.6598665714263916,
          -4.806280612945557,
          -4.954146385192871,
          -6.755371570587158,
          -5.259503364562988,
          17.007837295532227,
          19.114347457885742,
          -4.250830173492432,
          -5.997880458831787,
          -8.60463809967041,
          -8.185108184814453,
          -8.066998481750488,
          17.14010238647461,
          18.64344596862793,
          -5.228832244873047,
          -10.502440452575684,
          -6.460545063018799,
          -8.512320518493652,
          -9.278199195861816,
          16.990755081176758,
          18.771892547607422,
          -7.480541706085205,
          -8.042698860168457,
          -8.182591438293457,
          -8.318851470947266,
          -8.714410781860352,
          16.816226959228516,
          18.034032821655273,
          -4.863635063171387,
          -8.212242126464844,
          -6.3595662117004395,
          -8.79421615600586,
          -6.756772041320801,
          16.692420959472656,
          18.069766998291016,
          -5.471973896026611,
          -8.683344841003418,
          -8.124296188354492,
          -8.812264442443848,
          -6.912315368652344,
          16.570919036865234,
          19.278257369995117,
          -5.7452545166015625,
          -8.067830085754395,
          -8.559715270996094,
          -8.156647682189941,
          -8.54407787322998,
          16.503639221191406,
          19.271543502807617,
          -3.9595212936401367,
          -3.6281914710998535,
          -8.088641166687012,
          -8.222848892211914,
          -7.774188041687012,
          16.924623489379883,
          19.246706008911133,
          -5.068381309509277,
          -4.7207159996032715,
          -7.258302211761475,
          -3.3166120052337646,
          16.253231048583984,
          19.356531143188477,
          -3.451650381088257,
          -7.727405071258545,
          -5.297435760498047,
          -8.112927436828613,
          -7.673168182373047,
          16.932538986206055,
          19.03239631652832,
          -5.667473316192627,
          -8.171845436096191,
          -6.78472900390625,
          -6.098117828369141,
          -4.704563617706299,
          16.05644989013672,
          18.615758895874023,
          -5.277864933013916,
          -6.000893592834473,
          -6.853813648223877,
          -5.86678409576416,
          -4.759435176849365,
          15.85530948638916,
          19.08236312866211,
          -8.705920219421387,
          -8.398710250854492,
          -5.600069522857666,
          -6.173441410064697,
          -5.217502117156982,
          16.712581634521484,
          18.59624481201172,
          -4.507071018218994,
          -6.748521327972412,
          -8.389077186584473,
          -6.963221073150635,
          -6.254417419433594,
          15.549406051635742,
          17.445499420166016,
          -4.265359878540039,
          -6.6999077796936035,
          -5.823387622833252,
          -7.888030529022217,
          -6.00732421875,
          16.519237518310547,
          18.90675163269043,
          -3.964467763900757,
          -7.019454479217529,
          -6.581039905548096,
          -6.444897174835205,
          -6.412599563598633,
          16.727279663085938,
          18.605144500732422,
          -5.0270843505859375,
          -7.042346477508545,
          -5.933577537536621,
          -6.61559534072876,
          -6.198852062225342,
          15.776433944702148,
          18.63745880126953,
          -6.098788738250732,
          -6.724801063537598,
          -7.336509704589844,
          -6.32940673828125,
          -6.651734352111816,
          17.533658981323242,
          18.518739700317383,
          -6.069621562957764,
          -6.5472235679626465,
          -6.762146949768066,
          -6.624490261077881,
          -7.065862655639648,
          16.64065170288086,
          18.3922061920166,
          -4.747894763946533,
          -7.28936767578125,
          -7.00025749206543,
          -8.174356460571289,
          -6.002604007720947,
          16.418806076049805,
          18.01278305053711,
          -4.586231708526611,
          -7.00065803527832,
          -4.096302032470703,
          -6.770869255065918,
          -4.333765506744385,
          16.90911293029785,
          18.091934204101562,
          -4.167356967926025,
          -6.8307294845581055,
          -7.13938045501709,
          -7.23561429977417,
          -3.8739805221557617,
          17.02080726623535,
          18.44261932373047,
          -5.402971267700195,
          -6.931818008422852,
          -6.598726749420166,
          -6.804090976715088,
          -5.748764991760254,
          17.31694221496582,
          18.492298126220703,
          -4.161975860595703,
          -5.789579391479492,
          -7.683794975280762,
          -14.946233749389648,
          -10.349838256835938,
          17.017425537109375,
          18.754098892211914,
          -5.258265972137451,
          -6.319091796875,
          -5.4967360496521,
          -5.030135154724121,
          -5.438227653503418,
          16.921459197998047,
          18.806116104125977,
          -5.560868740081787,
          -6.040280342102051,
          -6.478447914123535,
          -6.774805068969727,
          -5.576857566833496,
          16.917692184448242,
          18.63621711730957,
          -5.505207538604736,
          -5.961029529571533,
          -6.051586627960205,
          -6.421753883361816,
          -6.341316223144531,
          16.78740119934082,
          18.489482879638672,
          -5.008366584777832,
          -5.186009883880615,
          -5.934011459350586,
          -6.926278591156006,
          -14.796101570129395,
          17.37087059020996,
          18.749507904052734,
          -4.270687580108643,
          -7.407139778137207,
          -6.282143592834473,
          -7.296222686767578,
          -14.784639358520508,
          16.290023803710938,
          18.608383178710938,
          -4.448640823364258,
          -6.797913074493408,
          -7.280603408813477,
          -7.169155597686768,
          -7.528707027435303,
          17.932697296142578,
          18.488115310668945,
          -4.331710338592529,
          -6.268622398376465,
          -4.612093925476074,
          -7.194063186645508,
          -5.7177276611328125,
          17.37672996520996,
          18.58506202697754,
          -5.092067241668701,
          -7.5839152336120605,
          -7.233387470245361,
          -5.4108686447143555,
          -7.23492431640625,
          17.109853744506836,
          18.52641487121582,
          -4.332369804382324,
          -7.547582626342773,
          -5.054160118103027,
          -5.0650811195373535,
          -5.118492603302002,
          17.392919540405273,
          19.046897888183594,
          -6.5753936767578125,
          -4.657105922698975,
          -8.52160930633545,
          -5.594536304473877,
          -7.6435394287109375,
          16.929611206054688,
          18.687294006347656,
          -6.042940616607666,
          -5.8439812660217285,
          -5.445200443267822,
          -5.411495685577393,
          -7.259285926818848,
          17.67848014831543,
          20.023298263549805,
          -7.5440826416015625,
          -7.660505294799805,
          -5.798941135406494,
          -7.892841339111328,
          -6.057750701904297,
          18.86497688293457,
          18.22881507873535,
          -5.365945339202881,
          -5.994974613189697,
          -5.970568656921387,
          -5.111583709716797,
          -6.686959266662598,
          17.647525787353516,
          18.407665252685547,
          -4.508939743041992,
          -4.871195316314697
         ],
         "yaxis": "y"
        },
        {
         "hovertemplate": "maintenance=True<br>tSNE1=%{x}<br>tSNE2=%{y}<extra></extra>",
         "legendgroup": "True",
         "marker": {
          "color": "#EF553B",
          "symbol": "circle"
         },
         "mode": "markers",
         "name": "True",
         "showlegend": true,
         "type": "scattergl",
         "x": [
          11.537379264831543,
          -3.465850830078125,
          -16.945514678955078,
          2.6032397747039795,
          -4.844027042388916,
          -7.030939102172852,
          -4.884298801422119,
          -2.452059507369995,
          -2.855713367462158,
          -4.110878944396973,
          -5.718557834625244,
          1.501479983329773,
          2.432868719100952,
          5.279839992523193,
          -2.1250908374786377,
          -3.6585686206817627,
          -3.95361328125,
          -16.908832550048828,
          -16.949735641479492,
          -16.966175079345703,
          -0.4021340310573578,
          -4.379076957702637,
          -4.194345474243164,
          -1.1751590967178345,
          -5.327920436859131,
          -4.352142333984375,
          0.09970277547836304,
          -5.5050458908081055,
          -3.8072917461395264,
          -0.29568806290626526,
          -5.729908466339111,
          -4.980636119842529,
          -0.4707695543766022,
          -5.836504936218262,
          -6.159333229064941,
          -1.9943612813949585,
          -16.993104934692383
         ],
         "xaxis": "x",
         "y": [
          -1.9527415037155151,
          -2.398686170578003,
          -5.054207801818848,
          2.628887891769409,
          -2.52711820602417,
          -12.255644798278809,
          5.191612243652344,
          -2.5595548152923584,
          -11.441965103149414,
          -13.2509126663208,
          10.272025108337402,
          7.407425403594971,
          10.317432403564453,
          6.6837639808654785,
          11.983744621276855,
          -9.233199119567871,
          -13.551115989685059,
          -4.944188117980957,
          -5.0733256340026855,
          -5.106542110443115,
          5.791965484619141,
          -11.244243621826172,
          -12.952561378479004,
          5.20498514175415,
          -11.520371437072754,
          -13.008269309997559,
          5.941593170166016,
          -11.41798210144043,
          -12.679831504821777,
          0.06198359280824661,
          -11.26746654510498,
          -12.282745361328125,
          2.6731185913085938,
          -11.250503540039062,
          -13.069103240966797,
          -8.98637866973877,
          -5.17338752746582
         ],
         "yaxis": "y"
        }
       ],
       "layout": {
        "legend": {
         "title": {
          "text": "maintenance"
         },
         "tracegroupgap": 0
        },
        "margin": {
         "t": 60
        },
        "template": {
         "data": {
          "bar": [
           {
            "error_x": {
             "color": "#2a3f5f"
            },
            "error_y": {
             "color": "#2a3f5f"
            },
            "marker": {
             "line": {
              "color": "#E5ECF6",
              "width": 0.5
             },
             "pattern": {
              "fillmode": "overlay",
              "size": 10,
              "solidity": 0.2
             }
            },
            "type": "bar"
           }
          ],
          "barpolar": [
           {
            "marker": {
             "line": {
              "color": "#E5ECF6",
              "width": 0.5
             },
             "pattern": {
              "fillmode": "overlay",
              "size": 10,
              "solidity": 0.2
             }
            },
            "type": "barpolar"
           }
          ],
          "carpet": [
           {
            "aaxis": {
             "endlinecolor": "#2a3f5f",
             "gridcolor": "white",
             "linecolor": "white",
             "minorgridcolor": "white",
             "startlinecolor": "#2a3f5f"
            },
            "baxis": {
             "endlinecolor": "#2a3f5f",
             "gridcolor": "white",
             "linecolor": "white",
             "minorgridcolor": "white",
             "startlinecolor": "#2a3f5f"
            },
            "type": "carpet"
           }
          ],
          "choropleth": [
           {
            "colorbar": {
             "outlinewidth": 0,
             "ticks": ""
            },
            "type": "choropleth"
           }
          ],
          "contour": [
           {
            "colorbar": {
             "outlinewidth": 0,
             "ticks": ""
            },
            "colorscale": [
             [
              0,
              "#0d0887"
             ],
             [
              0.1111111111111111,
              "#46039f"
             ],
             [
              0.2222222222222222,
              "#7201a8"
             ],
             [
              0.3333333333333333,
              "#9c179e"
             ],
             [
              0.4444444444444444,
              "#bd3786"
             ],
             [
              0.5555555555555556,
              "#d8576b"
             ],
             [
              0.6666666666666666,
              "#ed7953"
             ],
             [
              0.7777777777777778,
              "#fb9f3a"
             ],
             [
              0.8888888888888888,
              "#fdca26"
             ],
             [
              1,
              "#f0f921"
             ]
            ],
            "type": "contour"
           }
          ],
          "contourcarpet": [
           {
            "colorbar": {
             "outlinewidth": 0,
             "ticks": ""
            },
            "type": "contourcarpet"
           }
          ],
          "heatmap": [
           {
            "colorbar": {
             "outlinewidth": 0,
             "ticks": ""
            },
            "colorscale": [
             [
              0,
              "#0d0887"
             ],
             [
              0.1111111111111111,
              "#46039f"
             ],
             [
              0.2222222222222222,
              "#7201a8"
             ],
             [
              0.3333333333333333,
              "#9c179e"
             ],
             [
              0.4444444444444444,
              "#bd3786"
             ],
             [
              0.5555555555555556,
              "#d8576b"
             ],
             [
              0.6666666666666666,
              "#ed7953"
             ],
             [
              0.7777777777777778,
              "#fb9f3a"
             ],
             [
              0.8888888888888888,
              "#fdca26"
             ],
             [
              1,
              "#f0f921"
             ]
            ],
            "type": "heatmap"
           }
          ],
          "heatmapgl": [
           {
            "colorbar": {
             "outlinewidth": 0,
             "ticks": ""
            },
            "colorscale": [
             [
              0,
              "#0d0887"
             ],
             [
              0.1111111111111111,
              "#46039f"
             ],
             [
              0.2222222222222222,
              "#7201a8"
             ],
             [
              0.3333333333333333,
              "#9c179e"
             ],
             [
              0.4444444444444444,
              "#bd3786"
             ],
             [
              0.5555555555555556,
              "#d8576b"
             ],
             [
              0.6666666666666666,
              "#ed7953"
             ],
             [
              0.7777777777777778,
              "#fb9f3a"
             ],
             [
              0.8888888888888888,
              "#fdca26"
             ],
             [
              1,
              "#f0f921"
             ]
            ],
            "type": "heatmapgl"
           }
          ],
          "histogram": [
           {
            "marker": {
             "pattern": {
              "fillmode": "overlay",
              "size": 10,
              "solidity": 0.2
             }
            },
            "type": "histogram"
           }
          ],
          "histogram2d": [
           {
            "colorbar": {
             "outlinewidth": 0,
             "ticks": ""
            },
            "colorscale": [
             [
              0,
              "#0d0887"
             ],
             [
              0.1111111111111111,
              "#46039f"
             ],
             [
              0.2222222222222222,
              "#7201a8"
             ],
             [
              0.3333333333333333,
              "#9c179e"
             ],
             [
              0.4444444444444444,
              "#bd3786"
             ],
             [
              0.5555555555555556,
              "#d8576b"
             ],
             [
              0.6666666666666666,
              "#ed7953"
             ],
             [
              0.7777777777777778,
              "#fb9f3a"
             ],
             [
              0.8888888888888888,
              "#fdca26"
             ],
             [
              1,
              "#f0f921"
             ]
            ],
            "type": "histogram2d"
           }
          ],
          "histogram2dcontour": [
           {
            "colorbar": {
             "outlinewidth": 0,
             "ticks": ""
            },
            "colorscale": [
             [
              0,
              "#0d0887"
             ],
             [
              0.1111111111111111,
              "#46039f"
             ],
             [
              0.2222222222222222,
              "#7201a8"
             ],
             [
              0.3333333333333333,
              "#9c179e"
             ],
             [
              0.4444444444444444,
              "#bd3786"
             ],
             [
              0.5555555555555556,
              "#d8576b"
             ],
             [
              0.6666666666666666,
              "#ed7953"
             ],
             [
              0.7777777777777778,
              "#fb9f3a"
             ],
             [
              0.8888888888888888,
              "#fdca26"
             ],
             [
              1,
              "#f0f921"
             ]
            ],
            "type": "histogram2dcontour"
           }
          ],
          "mesh3d": [
           {
            "colorbar": {
             "outlinewidth": 0,
             "ticks": ""
            },
            "type": "mesh3d"
           }
          ],
          "parcoords": [
           {
            "line": {
             "colorbar": {
              "outlinewidth": 0,
              "ticks": ""
             }
            },
            "type": "parcoords"
           }
          ],
          "pie": [
           {
            "automargin": true,
            "type": "pie"
           }
          ],
          "scatter": [
           {
            "marker": {
             "colorbar": {
              "outlinewidth": 0,
              "ticks": ""
             }
            },
            "type": "scatter"
           }
          ],
          "scatter3d": [
           {
            "line": {
             "colorbar": {
              "outlinewidth": 0,
              "ticks": ""
             }
            },
            "marker": {
             "colorbar": {
              "outlinewidth": 0,
              "ticks": ""
             }
            },
            "type": "scatter3d"
           }
          ],
          "scattercarpet": [
           {
            "marker": {
             "colorbar": {
              "outlinewidth": 0,
              "ticks": ""
             }
            },
            "type": "scattercarpet"
           }
          ],
          "scattergeo": [
           {
            "marker": {
             "colorbar": {
              "outlinewidth": 0,
              "ticks": ""
             }
            },
            "type": "scattergeo"
           }
          ],
          "scattergl": [
           {
            "marker": {
             "colorbar": {
              "outlinewidth": 0,
              "ticks": ""
             }
            },
            "type": "scattergl"
           }
          ],
          "scattermapbox": [
           {
            "marker": {
             "colorbar": {
              "outlinewidth": 0,
              "ticks": ""
             }
            },
            "type": "scattermapbox"
           }
          ],
          "scatterpolar": [
           {
            "marker": {
             "colorbar": {
              "outlinewidth": 0,
              "ticks": ""
             }
            },
            "type": "scatterpolar"
           }
          ],
          "scatterpolargl": [
           {
            "marker": {
             "colorbar": {
              "outlinewidth": 0,
              "ticks": ""
             }
            },
            "type": "scatterpolargl"
           }
          ],
          "scatterternary": [
           {
            "marker": {
             "colorbar": {
              "outlinewidth": 0,
              "ticks": ""
             }
            },
            "type": "scatterternary"
           }
          ],
          "surface": [
           {
            "colorbar": {
             "outlinewidth": 0,
             "ticks": ""
            },
            "colorscale": [
             [
              0,
              "#0d0887"
             ],
             [
              0.1111111111111111,
              "#46039f"
             ],
             [
              0.2222222222222222,
              "#7201a8"
             ],
             [
              0.3333333333333333,
              "#9c179e"
             ],
             [
              0.4444444444444444,
              "#bd3786"
             ],
             [
              0.5555555555555556,
              "#d8576b"
             ],
             [
              0.6666666666666666,
              "#ed7953"
             ],
             [
              0.7777777777777778,
              "#fb9f3a"
             ],
             [
              0.8888888888888888,
              "#fdca26"
             ],
             [
              1,
              "#f0f921"
             ]
            ],
            "type": "surface"
           }
          ],
          "table": [
           {
            "cells": {
             "fill": {
              "color": "#EBF0F8"
             },
             "line": {
              "color": "white"
             }
            },
            "header": {
             "fill": {
              "color": "#C8D4E3"
             },
             "line": {
              "color": "white"
             }
            },
            "type": "table"
           }
          ]
         },
         "layout": {
          "annotationdefaults": {
           "arrowcolor": "#2a3f5f",
           "arrowhead": 0,
           "arrowwidth": 1
          },
          "autotypenumbers": "strict",
          "coloraxis": {
           "colorbar": {
            "outlinewidth": 0,
            "ticks": ""
           }
          },
          "colorscale": {
           "diverging": [
            [
             0,
             "#8e0152"
            ],
            [
             0.1,
             "#c51b7d"
            ],
            [
             0.2,
             "#de77ae"
            ],
            [
             0.3,
             "#f1b6da"
            ],
            [
             0.4,
             "#fde0ef"
            ],
            [
             0.5,
             "#f7f7f7"
            ],
            [
             0.6,
             "#e6f5d0"
            ],
            [
             0.7,
             "#b8e186"
            ],
            [
             0.8,
             "#7fbc41"
            ],
            [
             0.9,
             "#4d9221"
            ],
            [
             1,
             "#276419"
            ]
           ],
           "sequential": [
            [
             0,
             "#0d0887"
            ],
            [
             0.1111111111111111,
             "#46039f"
            ],
            [
             0.2222222222222222,
             "#7201a8"
            ],
            [
             0.3333333333333333,
             "#9c179e"
            ],
            [
             0.4444444444444444,
             "#bd3786"
            ],
            [
             0.5555555555555556,
             "#d8576b"
            ],
            [
             0.6666666666666666,
             "#ed7953"
            ],
            [
             0.7777777777777778,
             "#fb9f3a"
            ],
            [
             0.8888888888888888,
             "#fdca26"
            ],
            [
             1,
             "#f0f921"
            ]
           ],
           "sequentialminus": [
            [
             0,
             "#0d0887"
            ],
            [
             0.1111111111111111,
             "#46039f"
            ],
            [
             0.2222222222222222,
             "#7201a8"
            ],
            [
             0.3333333333333333,
             "#9c179e"
            ],
            [
             0.4444444444444444,
             "#bd3786"
            ],
            [
             0.5555555555555556,
             "#d8576b"
            ],
            [
             0.6666666666666666,
             "#ed7953"
            ],
            [
             0.7777777777777778,
             "#fb9f3a"
            ],
            [
             0.8888888888888888,
             "#fdca26"
            ],
            [
             1,
             "#f0f921"
            ]
           ]
          },
          "colorway": [
           "#636efa",
           "#EF553B",
           "#00cc96",
           "#ab63fa",
           "#FFA15A",
           "#19d3f3",
           "#FF6692",
           "#B6E880",
           "#FF97FF",
           "#FECB52"
          ],
          "font": {
           "color": "#2a3f5f"
          },
          "geo": {
           "bgcolor": "white",
           "lakecolor": "white",
           "landcolor": "#E5ECF6",
           "showlakes": true,
           "showland": true,
           "subunitcolor": "white"
          },
          "hoverlabel": {
           "align": "left"
          },
          "hovermode": "closest",
          "mapbox": {
           "style": "light"
          },
          "paper_bgcolor": "white",
          "plot_bgcolor": "#E5ECF6",
          "polar": {
           "angularaxis": {
            "gridcolor": "white",
            "linecolor": "white",
            "ticks": ""
           },
           "bgcolor": "#E5ECF6",
           "radialaxis": {
            "gridcolor": "white",
            "linecolor": "white",
            "ticks": ""
           }
          },
          "scene": {
           "xaxis": {
            "backgroundcolor": "#E5ECF6",
            "gridcolor": "white",
            "gridwidth": 2,
            "linecolor": "white",
            "showbackground": true,
            "ticks": "",
            "zerolinecolor": "white"
           },
           "yaxis": {
            "backgroundcolor": "#E5ECF6",
            "gridcolor": "white",
            "gridwidth": 2,
            "linecolor": "white",
            "showbackground": true,
            "ticks": "",
            "zerolinecolor": "white"
           },
           "zaxis": {
            "backgroundcolor": "#E5ECF6",
            "gridcolor": "white",
            "gridwidth": 2,
            "linecolor": "white",
            "showbackground": true,
            "ticks": "",
            "zerolinecolor": "white"
           }
          },
          "shapedefaults": {
           "line": {
            "color": "#2a3f5f"
           }
          },
          "ternary": {
           "aaxis": {
            "gridcolor": "white",
            "linecolor": "white",
            "ticks": ""
           },
           "baxis": {
            "gridcolor": "white",
            "linecolor": "white",
            "ticks": ""
           },
           "bgcolor": "#E5ECF6",
           "caxis": {
            "gridcolor": "white",
            "linecolor": "white",
            "ticks": ""
           }
          },
          "title": {
           "x": 0.05
          },
          "xaxis": {
           "automargin": true,
           "gridcolor": "white",
           "linecolor": "white",
           "ticks": "",
           "title": {
            "standoff": 15
           },
           "zerolinecolor": "white",
           "zerolinewidth": 2
          },
          "yaxis": {
           "automargin": true,
           "gridcolor": "white",
           "linecolor": "white",
           "ticks": "",
           "title": {
            "standoff": 15
           },
           "zerolinecolor": "white",
           "zerolinewidth": 2
          }
         }
        },
        "xaxis": {
         "anchor": "y",
         "domain": [
          0,
          1
         ],
         "title": {
          "text": "tSNE1"
         }
        },
        "yaxis": {
         "anchor": "x",
         "domain": [
          0,
          1
         ],
         "title": {
          "text": "tSNE2"
         }
        }
       }
      }
     },
     "metadata": {},
     "output_type": "display_data"
    }
   ],
   "source": [
    "fig = px.scatter(tSNE_df, x='tSNE1', y='tSNE2', color=tSNE_df['maintenance'])\n",
    "fig.show()"
   ]
  },
  {
   "cell_type": "code",
   "execution_count": null,
   "metadata": {},
   "outputs": [],
   "source": [
    "num_runs = 20\n",
    "\n",
    "tSNE_frames = {}\n",
    "\n",
    "for run in num_runs:\n",
    "    X_embedded = TSNE(init='random', learning_rate='auto').fit_transform(X)\n",
    "    tSNE_df = pd.concat([maintenance_df, seasons, days, pd.DataFrame(X_embedded, columns=['tSNE1', 'tSNE2'])], axis=1)\n",
    "    tSNE_frames[f'{run}'] = tSNE_df\n",
    "\n",
    "avg_tSNE_df = #get mean of all dataframes in dictionary 'tSNE1' and 'tSNE2' values"
   ]
  }
 ],
 "metadata": {
  "kernelspec": {
   "display_name": "Python 3.9.12",
   "language": "python",
   "name": "python3"
  },
  "language_info": {
   "codemirror_mode": {
    "name": "ipython",
    "version": 3
   },
   "file_extension": ".py",
   "mimetype": "text/x-python",
   "name": "python",
   "nbconvert_exporter": "python",
   "pygments_lexer": "ipython3",
   "version": "3.9.12"
  },
  "orig_nbformat": 4,
  "vscode": {
   "interpreter": {
    "hash": "81c79486f737ff40ad99feb1c993b628851eb606307649a223d18e7f89d7b63e"
   }
  }
 },
 "nbformat": 4,
 "nbformat_minor": 2
}
