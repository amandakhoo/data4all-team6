{
 "cells": [
  {
   "cell_type": "code",
   "execution_count": 3,
   "metadata": {},
   "outputs": [],
   "source": [
    "import math\n",
    "import pandas as pd\n",
    "import numpy as np\n",
    "import matplotlib.pyplot as plt\n",
    "import seaborn as sns"
   ]
  },
  {
   "cell_type": "code",
   "execution_count": 4,
   "metadata": {},
   "outputs": [
    {
     "name": "stdout",
     "output_type": "stream",
     "text": [
      "/Users/madea/Desktop/DS4A/data/merged_RRI_SRI_data.csv\n"
     ]
    }
   ],
   "source": [
    "#Get data from file\n",
    "cwd = \"/Users/madea/Desktop/DS4A/data/\"\n",
    "filename = \"merged_RRI_SRI_data.csv\"\n",
    "filepath = cwd + filename\n",
    "print(filepath)"
   ]
  },
  {
   "cell_type": "code",
   "execution_count": 5,
   "metadata": {},
   "outputs": [],
   "source": [
    "SRI_RRI_df = pd.read_csv(filepath)\n",
    "SRI_RRI_df = SRI_RRI_df[SRI_RRI_df.notna()]"
   ]
  },
  {
   "cell_type": "code",
   "execution_count": 6,
   "metadata": {},
   "outputs": [
    {
     "name": "stdout",
     "output_type": "stream",
     "text": [
      "Number of Features: 1191\n",
      "Number of Samples:  1091\n",
      "         date  segment_1307_max_SRI  segment_873_max_SRI  segment_863_max_SRI  \\\n",
      "0  2018-03-08              3.718594             3.457253             4.562368   \n",
      "1  2018-03-09              4.522901             3.488016             2.997927   \n",
      "2  2018-03-10              6.107322             1.234070             3.085771   \n",
      "3  2018-03-11              3.873077             1.261212             6.840369   \n",
      "4  2018-03-12              5.228657             3.413127             4.470042   \n",
      "\n",
      "   segment_1061_max_SRI  segment_235_max_SRI  segment_225_max_SRI  \\\n",
      "0              0.044862             2.945760             4.199607   \n",
      "1              0.044862             2.187291             5.328785   \n",
      "2              0.044862             2.719971             5.989625   \n",
      "3              0.044862             3.189822             5.489281   \n",
      "4              0.044862             3.863130             4.415463   \n",
      "\n",
      "   segment_460_max_SRI  segment_518_max_SRI  segment_470_max_SRI  ...  \\\n",
      "0             3.028331             3.724648             4.429002  ...   \n",
      "1             3.858570             3.859563             5.073305  ...   \n",
      "2             1.741679             3.162777             4.063662  ...   \n",
      "3             1.741679             4.638495             6.471925  ...   \n",
      "4             4.612428             4.991392             4.664407  ...   \n",
      "\n",
      "   station_40840_max_RRI  station_40850_max_RRI  station_40610_max_RRI  \\\n",
      "0               0.940419               1.093750               0.635217   \n",
      "1               1.289443               2.337111               0.554911   \n",
      "2               3.112223               3.834196               3.938322   \n",
      "3               4.748849               4.101958               4.668180   \n",
      "4               1.214632               0.721219               0.674600   \n",
      "\n",
      "   station_40600_max_RRI  station_41690_max_RRI  station_41680_max_RRI  \\\n",
      "0               0.460772               1.056587               0.156348   \n",
      "1               0.626054               0.820090               1.126202   \n",
      "2               3.936778               1.876850               3.942463   \n",
      "3               4.061820               2.394439               4.565925   \n",
      "4               0.515856               1.015444               0.551766   \n",
      "\n",
      "   station_40280_max_RRI  station_40290_max_RRI  station_41200_max_RRI  \\\n",
      "0               1.037322               1.469957               1.257610   \n",
      "1               0.606894               1.308201               0.732345   \n",
      "2               3.082432               2.434927               1.473967   \n",
      "3               3.578462               3.591185               3.080530   \n",
      "4               1.174367               1.354263               0.579096   \n",
      "\n",
      "   station_41210_max_RRI  \n",
      "0               0.466765  \n",
      "1               0.975567  \n",
      "2               3.281961  \n",
      "3               4.589329  \n",
      "4               0.477413  \n",
      "\n",
      "[5 rows x 1191 columns]\n"
     ]
    }
   ],
   "source": [
    "print(\"Number of Features:\", len(SRI_RRI_df.columns))\n",
    "print(\"Number of Samples: \", len(SRI_RRI_df.index))\n",
    "print(SRI_RRI_df.head(5))"
   ]
  },
  {
   "cell_type": "markdown",
   "metadata": {},
   "source": [
    "Considering each segment of the road and station of the subway as the feature. Sample points are respectively SRI and RRI for given day, date in time."
   ]
  },
  {
   "cell_type": "code",
   "execution_count": 30,
   "metadata": {},
   "outputs": [
    {
     "name": "stdout",
     "output_type": "stream",
     "text": [
      "Index(['date', 'segment_1307_max_SRI', 'segment_873_max_SRI',\n",
      "       'segment_863_max_SRI', 'segment_1061_max_SRI', 'segment_235_max_SRI',\n",
      "       'segment_225_max_SRI', 'segment_460_max_SRI', 'segment_518_max_SRI',\n",
      "       'segment_470_max_SRI',\n",
      "       ...\n",
      "       'station_40840_max_RRI', 'station_40850_max_RRI',\n",
      "       'station_40610_max_RRI', 'station_40600_max_RRI',\n",
      "       'station_41690_max_RRI', 'station_41680_max_RRI',\n",
      "       'station_40280_max_RRI', 'station_40290_max_RRI',\n",
      "       'station_41200_max_RRI', 'station_41210_max_RRI'],\n",
      "      dtype='object', length=1191)\n",
      "[[ 3.71859434  3.45725327  4.56236783 ...  1.46995743  1.25760969\n",
      "   0.46676522]\n",
      " [ 4.52290077  3.4880156   2.99792708 ...  1.30820061  0.73234454\n",
      "   0.97556654]\n",
      " [ 6.10732158  1.23406956  3.08577103 ...  2.43492688  1.47396656\n",
      "   3.28196059]\n",
      " ...\n",
      " [ 5.00027527  1.26121192  3.07582245 ... -1.14913715 -1.13862284\n",
      "  -1.94974363]\n",
      " [ 5.1207392   1.3205983   1.99847392 ...  2.28822288  1.41131448\n",
      "   2.69400324]\n",
      " [ 3.48198141  1.71525511  1.77454611 ...  2.6883569   1.86503962\n",
      "   3.39012931]]\n"
     ]
    }
   ],
   "source": [
    "from sklearn.preprocessing import StandardScaler\n",
    "from sklearn.decomposition import PCA\n",
    "\n",
    "copy_df = SRI_RRI_df.copy(deep=True)\n",
    "copy_df = copy_df.fillna(0)\n",
    "\n",
    "# train_percent = 0.7\n",
    "# total_num_samples = len(copy_df.index)\n",
    "# train_samples = math.ceil(train_percent * total_num_samples)\n",
    "\n",
    "# train_df = copy_df[0:train_samples].copy(deep=True)\n",
    "\n",
    "features = copy_df.columns[copy_df.columns != 'date']\n",
    "\n",
    "# train_df = train_df.dropna()\n",
    "x = copy_df.loc[:, features].values\n",
    "y = copy_df.loc[:,['date']].values\n",
    "\n",
    "print(copy_df.columns)\n",
    "print(x)\n",
    "\n",
    "X = StandardScaler().fit_transform(x)\n"
   ]
  },
  {
   "cell_type": "code",
   "execution_count": 41,
   "metadata": {},
   "outputs": [
    {
     "name": "stdout",
     "output_type": "stream",
     "text": [
      "PCA Explained Variance Ratio: [0.11049072 0.08191194]\n",
      "PCA Singular Values: [378.26889848 325.69519219]\n"
     ]
    }
   ],
   "source": [
    "num_components = 2\n",
    "pca = PCA(n_components = num_components)\n",
    "principalComponents = pca.fit_transform(X)\n",
    "\n",
    "\n",
    "print(\"PCA Explained Variance Ratio:\", pca.explained_variance_ratio_)\n",
    "print(\"PCA Singular Values:\", pca.singular_values_)"
   ]
  },
  {
   "cell_type": "code",
   "execution_count": 53,
   "metadata": {},
   "outputs": [
    {
     "name": "stdout",
     "output_type": "stream",
     "text": [
      "        pc1        pc2        date\n",
      "0 -9.296984  -3.748080  2018-03-08\n",
      "1 -7.589957  -4.760699  2018-03-09\n",
      "2  3.523980 -13.698625  2018-03-10\n",
      "3  5.665600 -21.936094  2018-03-11\n",
      "4 -9.002845  -3.056505  2018-03-12\n"
     ]
    }
   ],
   "source": [
    "PCA_df = pd.DataFrame(data = principalComponents,\n",
    "                      columns = ['pc1', 'pc2'])\n",
    "PCA_df['date'] = y\n",
    "print(PCA_df.head(5))"
   ]
  },
  {
   "cell_type": "markdown",
   "metadata": {},
   "source": [
    "## Using Plotly vs. Seaborn"
   ]
  },
  {
   "cell_type": "markdown",
   "metadata": {},
   "source": [
    "Plotly is an interactive map. Can hover over each point to get information on pc1, pc2, and date values."
   ]
  },
  {
   "cell_type": "code",
   "execution_count": 63,
   "metadata": {},
   "outputs": [
    {
     "data": {
      "application/vnd.plotly.v1+json": {
       "config": {
        "plotlyServerURL": "https://plot.ly"
       },
       "data": [
        {
         "hovertemplate": "date=2018-03-08<br>pc1=%{x}<br>pc2=%{y}<extra></extra>",
         "legendgroup": "2018-03-08",
         "marker": {
          "color": "#636efa",
          "symbol": "circle"
         },
         "mode": "markers",
         "name": "2018-03-08",
         "showlegend": true,
         "type": "scattergl",
         "x": [
          -9.296983984390952
         ],
         "xaxis": "x",
         "y": [
          -3.748079812835085
         ],
         "yaxis": "y"
        },
        {
         "hovertemplate": "date=2018-03-09<br>pc1=%{x}<br>pc2=%{y}<extra></extra>",
         "legendgroup": "2018-03-09",
         "marker": {
          "color": "#EF553B",
          "symbol": "circle"
         },
         "mode": "markers",
         "name": "2018-03-09",
         "showlegend": true,
         "type": "scattergl",
         "x": [
          -7.589957212477195
         ],
         "xaxis": "x",
         "y": [
          -4.760699431713608
         ],
         "yaxis": "y"
        },
        {
         "hovertemplate": "date=2018-03-10<br>pc1=%{x}<br>pc2=%{y}<extra></extra>",
         "legendgroup": "2018-03-10",
         "marker": {
          "color": "#00cc96",
          "symbol": "circle"
         },
         "mode": "markers",
         "name": "2018-03-10",
         "showlegend": true,
         "type": "scattergl",
         "x": [
          3.523980172676382
         ],
         "xaxis": "x",
         "y": [
          -13.69862530626849
         ],
         "yaxis": "y"
        },
        {
         "hovertemplate": "date=2018-03-11<br>pc1=%{x}<br>pc2=%{y}<extra></extra>",
         "legendgroup": "2018-03-11",
         "marker": {
          "color": "#ab63fa",
          "symbol": "circle"
         },
         "mode": "markers",
         "name": "2018-03-11",
         "showlegend": true,
         "type": "scattergl",
         "x": [
          5.665600242485226
         ],
         "xaxis": "x",
         "y": [
          -21.93609421105378
         ],
         "yaxis": "y"
        },
        {
         "hovertemplate": "date=2018-03-12<br>pc1=%{x}<br>pc2=%{y}<extra></extra>",
         "legendgroup": "2018-03-12",
         "marker": {
          "color": "#FFA15A",
          "symbol": "circle"
         },
         "mode": "markers",
         "name": "2018-03-12",
         "showlegend": true,
         "type": "scattergl",
         "x": [
          -9.00284521307426
         ],
         "xaxis": "x",
         "y": [
          -3.056504684409159
         ],
         "yaxis": "y"
        },
        {
         "hovertemplate": "date=2018-03-13<br>pc1=%{x}<br>pc2=%{y}<extra></extra>",
         "legendgroup": "2018-03-13",
         "marker": {
          "color": "#19d3f3",
          "symbol": "circle"
         },
         "mode": "markers",
         "name": "2018-03-13",
         "showlegend": true,
         "type": "scattergl",
         "x": [
          -8.166343242777376
         ],
         "xaxis": "x",
         "y": [
          -5.156900539534067
         ],
         "yaxis": "y"
        },
        {
         "hovertemplate": "date=2018-03-14<br>pc1=%{x}<br>pc2=%{y}<extra></extra>",
         "legendgroup": "2018-03-14",
         "marker": {
          "color": "#FF6692",
          "symbol": "circle"
         },
         "mode": "markers",
         "name": "2018-03-14",
         "showlegend": true,
         "type": "scattergl",
         "x": [
          -8.482579071378774
         ],
         "xaxis": "x",
         "y": [
          -7.1858458760579005
         ],
         "yaxis": "y"
        },
        {
         "hovertemplate": "date=2018-03-15<br>pc1=%{x}<br>pc2=%{y}<extra></extra>",
         "legendgroup": "2018-03-15",
         "marker": {
          "color": "#B6E880",
          "symbol": "circle"
         },
         "mode": "markers",
         "name": "2018-03-15",
         "showlegend": true,
         "type": "scattergl",
         "x": [
          -6.914633943473517
         ],
         "xaxis": "x",
         "y": [
          -4.234052389881642
         ],
         "yaxis": "y"
        },
        {
         "hovertemplate": "date=2018-03-16<br>pc1=%{x}<br>pc2=%{y}<extra></extra>",
         "legendgroup": "2018-03-16",
         "marker": {
          "color": "#FF97FF",
          "symbol": "circle"
         },
         "mode": "markers",
         "name": "2018-03-16",
         "showlegend": true,
         "type": "scattergl",
         "x": [
          -7.196086165296461
         ],
         "xaxis": "x",
         "y": [
          -9.11997745981744
         ],
         "yaxis": "y"
        },
        {
         "hovertemplate": "date=2018-03-17<br>pc1=%{x}<br>pc2=%{y}<extra></extra>",
         "legendgroup": "2018-03-17",
         "marker": {
          "color": "#FECB52",
          "symbol": "circle"
         },
         "mode": "markers",
         "name": "2018-03-17",
         "showlegend": true,
         "type": "scattergl",
         "x": [
          -10.241145976190337
         ],
         "xaxis": "x",
         "y": [
          -5.787368110302622
         ],
         "yaxis": "y"
        },
        {
         "hovertemplate": "date=2018-03-18<br>pc1=%{x}<br>pc2=%{y}<extra></extra>",
         "legendgroup": "2018-03-18",
         "marker": {
          "color": "#636efa",
          "symbol": "circle"
         },
         "mode": "markers",
         "name": "2018-03-18",
         "showlegend": true,
         "type": "scattergl",
         "x": [
          9.863531813081947
         ],
         "xaxis": "x",
         "y": [
          -13.179073741448093
         ],
         "yaxis": "y"
        },
        {
         "hovertemplate": "date=2018-03-19<br>pc1=%{x}<br>pc2=%{y}<extra></extra>",
         "legendgroup": "2018-03-19",
         "marker": {
          "color": "#EF553B",
          "symbol": "circle"
         },
         "mode": "markers",
         "name": "2018-03-19",
         "showlegend": true,
         "type": "scattergl",
         "x": [
          -8.32060121585375
         ],
         "xaxis": "x",
         "y": [
          -7.83069920239945
         ],
         "yaxis": "y"
        },
        {
         "hovertemplate": "date=2018-03-20<br>pc1=%{x}<br>pc2=%{y}<extra></extra>",
         "legendgroup": "2018-03-20",
         "marker": {
          "color": "#00cc96",
          "symbol": "circle"
         },
         "mode": "markers",
         "name": "2018-03-20",
         "showlegend": true,
         "type": "scattergl",
         "x": [
          -4.14890800144286
         ],
         "xaxis": "x",
         "y": [
          -7.6902213480180865
         ],
         "yaxis": "y"
        },
        {
         "hovertemplate": "date=2018-03-21<br>pc1=%{x}<br>pc2=%{y}<extra></extra>",
         "legendgroup": "2018-03-21",
         "marker": {
          "color": "#ab63fa",
          "symbol": "circle"
         },
         "mode": "markers",
         "name": "2018-03-21",
         "showlegend": true,
         "type": "scattergl",
         "x": [
          -8.301810657564845
         ],
         "xaxis": "x",
         "y": [
          -4.911540173638163
         ],
         "yaxis": "y"
        },
        {
         "hovertemplate": "date=2018-03-22<br>pc1=%{x}<br>pc2=%{y}<extra></extra>",
         "legendgroup": "2018-03-22",
         "marker": {
          "color": "#FFA15A",
          "symbol": "circle"
         },
         "mode": "markers",
         "name": "2018-03-22",
         "showlegend": true,
         "type": "scattergl",
         "x": [
          -12.28277745928106
         ],
         "xaxis": "x",
         "y": [
          -9.686023321830119
         ],
         "yaxis": "y"
        },
        {
         "hovertemplate": "date=2018-03-23<br>pc1=%{x}<br>pc2=%{y}<extra></extra>",
         "legendgroup": "2018-03-23",
         "marker": {
          "color": "#19d3f3",
          "symbol": "circle"
         },
         "mode": "markers",
         "name": "2018-03-23",
         "showlegend": true,
         "type": "scattergl",
         "x": [
          -7.251066608009387
         ],
         "xaxis": "x",
         "y": [
          -3.610416371555932
         ],
         "yaxis": "y"
        },
        {
         "hovertemplate": "date=2018-03-24<br>pc1=%{x}<br>pc2=%{y}<extra></extra>",
         "legendgroup": "2018-03-24",
         "marker": {
          "color": "#FF6692",
          "symbol": "circle"
         },
         "mode": "markers",
         "name": "2018-03-24",
         "showlegend": true,
         "type": "scattergl",
         "x": [
          0.40695207520332405
         ],
         "xaxis": "x",
         "y": [
          -15.174086719625866
         ],
         "yaxis": "y"
        },
        {
         "hovertemplate": "date=2018-03-25<br>pc1=%{x}<br>pc2=%{y}<extra></extra>",
         "legendgroup": "2018-03-25",
         "marker": {
          "color": "#B6E880",
          "symbol": "circle"
         },
         "mode": "markers",
         "name": "2018-03-25",
         "showlegend": true,
         "type": "scattergl",
         "x": [
          6.567725328165809
         ],
         "xaxis": "x",
         "y": [
          -8.777777229614388
         ],
         "yaxis": "y"
        },
        {
         "hovertemplate": "date=2018-03-26<br>pc1=%{x}<br>pc2=%{y}<extra></extra>",
         "legendgroup": "2018-03-26",
         "marker": {
          "color": "#FF97FF",
          "symbol": "circle"
         },
         "mode": "markers",
         "name": "2018-03-26",
         "showlegend": true,
         "type": "scattergl",
         "x": [
          -3.3623284860101665
         ],
         "xaxis": "x",
         "y": [
          -0.5127646394058086
         ],
         "yaxis": "y"
        },
        {
         "hovertemplate": "date=2018-03-27<br>pc1=%{x}<br>pc2=%{y}<extra></extra>",
         "legendgroup": "2018-03-27",
         "marker": {
          "color": "#FECB52",
          "symbol": "circle"
         },
         "mode": "markers",
         "name": "2018-03-27",
         "showlegend": true,
         "type": "scattergl",
         "x": [
          -7.204678365453582
         ],
         "xaxis": "x",
         "y": [
          -6.327073988143227
         ],
         "yaxis": "y"
        },
        {
         "hovertemplate": "date=2018-03-28<br>pc1=%{x}<br>pc2=%{y}<extra></extra>",
         "legendgroup": "2018-03-28",
         "marker": {
          "color": "#636efa",
          "symbol": "circle"
         },
         "mode": "markers",
         "name": "2018-03-28",
         "showlegend": true,
         "type": "scattergl",
         "x": [
          -5.608587500190285
         ],
         "xaxis": "x",
         "y": [
          1.029627735765641
         ],
         "yaxis": "y"
        },
        {
         "hovertemplate": "date=2018-03-29<br>pc1=%{x}<br>pc2=%{y}<extra></extra>",
         "legendgroup": "2018-03-29",
         "marker": {
          "color": "#EF553B",
          "symbol": "circle"
         },
         "mode": "markers",
         "name": "2018-03-29",
         "showlegend": true,
         "type": "scattergl",
         "x": [
          -6.723693897617581
         ],
         "xaxis": "x",
         "y": [
          -3.503516999438474
         ],
         "yaxis": "y"
        },
        {
         "hovertemplate": "date=2018-03-30<br>pc1=%{x}<br>pc2=%{y}<extra></extra>",
         "legendgroup": "2018-03-30",
         "marker": {
          "color": "#00cc96",
          "symbol": "circle"
         },
         "mode": "markers",
         "name": "2018-03-30",
         "showlegend": true,
         "type": "scattergl",
         "x": [
          0.6218362197929331
         ],
         "xaxis": "x",
         "y": [
          -5.863832425388466
         ],
         "yaxis": "y"
        },
        {
         "hovertemplate": "date=2018-03-31<br>pc1=%{x}<br>pc2=%{y}<extra></extra>",
         "legendgroup": "2018-03-31",
         "marker": {
          "color": "#ab63fa",
          "symbol": "circle"
         },
         "mode": "markers",
         "name": "2018-03-31",
         "showlegend": true,
         "type": "scattergl",
         "x": [
          5.477382000027388
         ],
         "xaxis": "x",
         "y": [
          -8.704435084135266
         ],
         "yaxis": "y"
        },
        {
         "hovertemplate": "date=2018-04-01<br>pc1=%{x}<br>pc2=%{y}<extra></extra>",
         "legendgroup": "2018-04-01",
         "marker": {
          "color": "#FFA15A",
          "symbol": "circle"
         },
         "mode": "markers",
         "name": "2018-04-01",
         "showlegend": true,
         "type": "scattergl",
         "x": [
          7.22695404759753
         ],
         "xaxis": "x",
         "y": [
          -17.906956849664375
         ],
         "yaxis": "y"
        },
        {
         "hovertemplate": "date=2018-04-02<br>pc1=%{x}<br>pc2=%{y}<extra></extra>",
         "legendgroup": "2018-04-02",
         "marker": {
          "color": "#19d3f3",
          "symbol": "circle"
         },
         "mode": "markers",
         "name": "2018-04-02",
         "showlegend": true,
         "type": "scattergl",
         "x": [
          -8.16556637103876
         ],
         "xaxis": "x",
         "y": [
          0.03831531586679342
         ],
         "yaxis": "y"
        },
        {
         "hovertemplate": "date=2018-04-03<br>pc1=%{x}<br>pc2=%{y}<extra></extra>",
         "legendgroup": "2018-04-03",
         "marker": {
          "color": "#FF6692",
          "symbol": "circle"
         },
         "mode": "markers",
         "name": "2018-04-03",
         "showlegend": true,
         "type": "scattergl",
         "x": [
          -8.761575071118605
         ],
         "xaxis": "x",
         "y": [
          -4.204481965159544
         ],
         "yaxis": "y"
        },
        {
         "hovertemplate": "date=2018-04-04<br>pc1=%{x}<br>pc2=%{y}<extra></extra>",
         "legendgroup": "2018-04-04",
         "marker": {
          "color": "#B6E880",
          "symbol": "circle"
         },
         "mode": "markers",
         "name": "2018-04-04",
         "showlegend": true,
         "type": "scattergl",
         "x": [
          -9.05310095322796
         ],
         "xaxis": "x",
         "y": [
          -2.785024571765481
         ],
         "yaxis": "y"
        },
        {
         "hovertemplate": "date=2018-04-05<br>pc1=%{x}<br>pc2=%{y}<extra></extra>",
         "legendgroup": "2018-04-05",
         "marker": {
          "color": "#FF97FF",
          "symbol": "circle"
         },
         "mode": "markers",
         "name": "2018-04-05",
         "showlegend": true,
         "type": "scattergl",
         "x": [
          -8.484250417005793
         ],
         "xaxis": "x",
         "y": [
          -0.47855483236479757
         ],
         "yaxis": "y"
        },
        {
         "hovertemplate": "date=2018-04-06<br>pc1=%{x}<br>pc2=%{y}<extra></extra>",
         "legendgroup": "2018-04-06",
         "marker": {
          "color": "#FECB52",
          "symbol": "circle"
         },
         "mode": "markers",
         "name": "2018-04-06",
         "showlegend": true,
         "type": "scattergl",
         "x": [
          -10.85358460499481
         ],
         "xaxis": "x",
         "y": [
          -9.314140477468815
         ],
         "yaxis": "y"
        },
        {
         "hovertemplate": "date=2018-04-07<br>pc1=%{x}<br>pc2=%{y}<extra></extra>",
         "legendgroup": "2018-04-07",
         "marker": {
          "color": "#636efa",
          "symbol": "circle"
         },
         "mode": "markers",
         "name": "2018-04-07",
         "showlegend": true,
         "type": "scattergl",
         "x": [
          4.6162347826748755
         ],
         "xaxis": "x",
         "y": [
          -10.07599046174035
         ],
         "yaxis": "y"
        },
        {
         "hovertemplate": "date=2018-04-08<br>pc1=%{x}<br>pc2=%{y}<extra></extra>",
         "legendgroup": "2018-04-08",
         "marker": {
          "color": "#EF553B",
          "symbol": "circle"
         },
         "mode": "markers",
         "name": "2018-04-08",
         "showlegend": true,
         "type": "scattergl",
         "x": [
          11.29477897438325
         ],
         "xaxis": "x",
         "y": [
          -12.961574577161146
         ],
         "yaxis": "y"
        },
        {
         "hovertemplate": "date=2018-04-09<br>pc1=%{x}<br>pc2=%{y}<extra></extra>",
         "legendgroup": "2018-04-09",
         "marker": {
          "color": "#00cc96",
          "symbol": "circle"
         },
         "mode": "markers",
         "name": "2018-04-09",
         "showlegend": true,
         "type": "scattergl",
         "x": [
          -9.384882616326424
         ],
         "xaxis": "x",
         "y": [
          -8.064162538239165
         ],
         "yaxis": "y"
        },
        {
         "hovertemplate": "date=2018-04-10<br>pc1=%{x}<br>pc2=%{y}<extra></extra>",
         "legendgroup": "2018-04-10",
         "marker": {
          "color": "#ab63fa",
          "symbol": "circle"
         },
         "mode": "markers",
         "name": "2018-04-10",
         "showlegend": true,
         "type": "scattergl",
         "x": [
          -7.712119668913045
         ],
         "xaxis": "x",
         "y": [
          -3.51001434911328
         ],
         "yaxis": "y"
        },
        {
         "hovertemplate": "date=2018-04-11<br>pc1=%{x}<br>pc2=%{y}<extra></extra>",
         "legendgroup": "2018-04-11",
         "marker": {
          "color": "#FFA15A",
          "symbol": "circle"
         },
         "mode": "markers",
         "name": "2018-04-11",
         "showlegend": true,
         "type": "scattergl",
         "x": [
          -13.71541139810779
         ],
         "xaxis": "x",
         "y": [
          -4.567568856329883
         ],
         "yaxis": "y"
        },
        {
         "hovertemplate": "date=2018-04-12<br>pc1=%{x}<br>pc2=%{y}<extra></extra>",
         "legendgroup": "2018-04-12",
         "marker": {
          "color": "#19d3f3",
          "symbol": "circle"
         },
         "mode": "markers",
         "name": "2018-04-12",
         "showlegend": true,
         "type": "scattergl",
         "x": [
          -12.724990864433604
         ],
         "xaxis": "x",
         "y": [
          -1.4716606692264713
         ],
         "yaxis": "y"
        },
        {
         "hovertemplate": "date=2018-04-13<br>pc1=%{x}<br>pc2=%{y}<extra></extra>",
         "legendgroup": "2018-04-13",
         "marker": {
          "color": "#FF6692",
          "symbol": "circle"
         },
         "mode": "markers",
         "name": "2018-04-13",
         "showlegend": true,
         "type": "scattergl",
         "x": [
          -3.1952338205780255
         ],
         "xaxis": "x",
         "y": [
          -2.440173525822397
         ],
         "yaxis": "y"
        },
        {
         "hovertemplate": "date=2018-04-14<br>pc1=%{x}<br>pc2=%{y}<extra></extra>",
         "legendgroup": "2018-04-14",
         "marker": {
          "color": "#B6E880",
          "symbol": "circle"
         },
         "mode": "markers",
         "name": "2018-04-14",
         "showlegend": true,
         "type": "scattergl",
         "x": [
          8.85849048596672
         ],
         "xaxis": "x",
         "y": [
          -12.10630363771273
         ],
         "yaxis": "y"
        },
        {
         "hovertemplate": "date=2018-04-15<br>pc1=%{x}<br>pc2=%{y}<extra></extra>",
         "legendgroup": "2018-04-15",
         "marker": {
          "color": "#FF97FF",
          "symbol": "circle"
         },
         "mode": "markers",
         "name": "2018-04-15",
         "showlegend": true,
         "type": "scattergl",
         "x": [
          40.6791993636479
         ],
         "xaxis": "x",
         "y": [
          32.796860388228396
         ],
         "yaxis": "y"
        },
        {
         "hovertemplate": "date=2018-04-16<br>pc1=%{x}<br>pc2=%{y}<extra></extra>",
         "legendgroup": "2018-04-16",
         "marker": {
          "color": "#FECB52",
          "symbol": "circle"
         },
         "mode": "markers",
         "name": "2018-04-16",
         "showlegend": true,
         "type": "scattergl",
         "x": [
          0.614270836839524
         ],
         "xaxis": "x",
         "y": [
          12.211550144931856
         ],
         "yaxis": "y"
        },
        {
         "hovertemplate": "date=2018-04-17<br>pc1=%{x}<br>pc2=%{y}<extra></extra>",
         "legendgroup": "2018-04-17",
         "marker": {
          "color": "#636efa",
          "symbol": "circle"
         },
         "mode": "markers",
         "name": "2018-04-17",
         "showlegend": true,
         "type": "scattergl",
         "x": [
          -13.318302137577104
         ],
         "xaxis": "x",
         "y": [
          -6.207480805487629
         ],
         "yaxis": "y"
        },
        {
         "hovertemplate": "date=2018-04-18<br>pc1=%{x}<br>pc2=%{y}<extra></extra>",
         "legendgroup": "2018-04-18",
         "marker": {
          "color": "#EF553B",
          "symbol": "circle"
         },
         "mode": "markers",
         "name": "2018-04-18",
         "showlegend": true,
         "type": "scattergl",
         "x": [
          -5.366142037704682
         ],
         "xaxis": "x",
         "y": [
          -1.1245029358344867
         ],
         "yaxis": "y"
        },
        {
         "hovertemplate": "date=2018-04-19<br>pc1=%{x}<br>pc2=%{y}<extra></extra>",
         "legendgroup": "2018-04-19",
         "marker": {
          "color": "#00cc96",
          "symbol": "circle"
         },
         "mode": "markers",
         "name": "2018-04-19",
         "showlegend": true,
         "type": "scattergl",
         "x": [
          -8.686496240593453
         ],
         "xaxis": "x",
         "y": [
          -4.400481876852246
         ],
         "yaxis": "y"
        },
        {
         "hovertemplate": "date=2018-04-20<br>pc1=%{x}<br>pc2=%{y}<extra></extra>",
         "legendgroup": "2018-04-20",
         "marker": {
          "color": "#ab63fa",
          "symbol": "circle"
         },
         "mode": "markers",
         "name": "2018-04-20",
         "showlegend": true,
         "type": "scattergl",
         "x": [
          -13.163221220914902
         ],
         "xaxis": "x",
         "y": [
          -10.019240230030764
         ],
         "yaxis": "y"
        },
        {
         "hovertemplate": "date=2018-04-21<br>pc1=%{x}<br>pc2=%{y}<extra></extra>",
         "legendgroup": "2018-04-21",
         "marker": {
          "color": "#FFA15A",
          "symbol": "circle"
         },
         "mode": "markers",
         "name": "2018-04-21",
         "showlegend": true,
         "type": "scattergl",
         "x": [
          2.2908678737118207
         ],
         "xaxis": "x",
         "y": [
          -18.00403373235024
         ],
         "yaxis": "y"
        },
        {
         "hovertemplate": "date=2018-04-22<br>pc1=%{x}<br>pc2=%{y}<extra></extra>",
         "legendgroup": "2018-04-22",
         "marker": {
          "color": "#19d3f3",
          "symbol": "circle"
         },
         "mode": "markers",
         "name": "2018-04-22",
         "showlegend": true,
         "type": "scattergl",
         "x": [
          10.157395271250003
         ],
         "xaxis": "x",
         "y": [
          -11.697679787410937
         ],
         "yaxis": "y"
        },
        {
         "hovertemplate": "date=2018-04-23<br>pc1=%{x}<br>pc2=%{y}<extra></extra>",
         "legendgroup": "2018-04-23",
         "marker": {
          "color": "#FF6692",
          "symbol": "circle"
         },
         "mode": "markers",
         "name": "2018-04-23",
         "showlegend": true,
         "type": "scattergl",
         "x": [
          -10.990280269930315
         ],
         "xaxis": "x",
         "y": [
          -8.696566707953679
         ],
         "yaxis": "y"
        },
        {
         "hovertemplate": "date=2018-04-24<br>pc1=%{x}<br>pc2=%{y}<extra></extra>",
         "legendgroup": "2018-04-24",
         "marker": {
          "color": "#B6E880",
          "symbol": "circle"
         },
         "mode": "markers",
         "name": "2018-04-24",
         "showlegend": true,
         "type": "scattergl",
         "x": [
          -7.598147676031832
         ],
         "xaxis": "x",
         "y": [
          -3.118661251419167
         ],
         "yaxis": "y"
        },
        {
         "hovertemplate": "date=2018-04-25<br>pc1=%{x}<br>pc2=%{y}<extra></extra>",
         "legendgroup": "2018-04-25",
         "marker": {
          "color": "#FF97FF",
          "symbol": "circle"
         },
         "mode": "markers",
         "name": "2018-04-25",
         "showlegend": true,
         "type": "scattergl",
         "x": [
          -9.94237499668744
         ],
         "xaxis": "x",
         "y": [
          -6.270442356341484
         ],
         "yaxis": "y"
        },
        {
         "hovertemplate": "date=2018-04-26<br>pc1=%{x}<br>pc2=%{y}<extra></extra>",
         "legendgroup": "2018-04-26",
         "marker": {
          "color": "#FECB52",
          "symbol": "circle"
         },
         "mode": "markers",
         "name": "2018-04-26",
         "showlegend": true,
         "type": "scattergl",
         "x": [
          -11.261791335862084
         ],
         "xaxis": "x",
         "y": [
          -4.355379019695765
         ],
         "yaxis": "y"
        },
        {
         "hovertemplate": "date=2018-04-27<br>pc1=%{x}<br>pc2=%{y}<extra></extra>",
         "legendgroup": "2018-04-27",
         "marker": {
          "color": "#636efa",
          "symbol": "circle"
         },
         "mode": "markers",
         "name": "2018-04-27",
         "showlegend": true,
         "type": "scattergl",
         "x": [
          -9.24027333817614
         ],
         "xaxis": "x",
         "y": [
          -6.615090276697314
         ],
         "yaxis": "y"
        },
        {
         "hovertemplate": "date=2018-04-28<br>pc1=%{x}<br>pc2=%{y}<extra></extra>",
         "legendgroup": "2018-04-28",
         "marker": {
          "color": "#EF553B",
          "symbol": "circle"
         },
         "mode": "markers",
         "name": "2018-04-28",
         "showlegend": true,
         "type": "scattergl",
         "x": [
          -1.5376616348220045
         ],
         "xaxis": "x",
         "y": [
          -23.457740926119136
         ],
         "yaxis": "y"
        },
        {
         "hovertemplate": "date=2018-04-29<br>pc1=%{x}<br>pc2=%{y}<extra></extra>",
         "legendgroup": "2018-04-29",
         "marker": {
          "color": "#00cc96",
          "symbol": "circle"
         },
         "mode": "markers",
         "name": "2018-04-29",
         "showlegend": true,
         "type": "scattergl",
         "x": [
          10.488774795253907
         ],
         "xaxis": "x",
         "y": [
          -11.981532527439091
         ],
         "yaxis": "y"
        },
        {
         "hovertemplate": "date=2018-04-30<br>pc1=%{x}<br>pc2=%{y}<extra></extra>",
         "legendgroup": "2018-04-30",
         "marker": {
          "color": "#ab63fa",
          "symbol": "circle"
         },
         "mode": "markers",
         "name": "2018-04-30",
         "showlegend": true,
         "type": "scattergl",
         "x": [
          -12.773096157448713
         ],
         "xaxis": "x",
         "y": [
          -7.3394160910293476
         ],
         "yaxis": "y"
        },
        {
         "hovertemplate": "date=2018-05-01<br>pc1=%{x}<br>pc2=%{y}<extra></extra>",
         "legendgroup": "2018-05-01",
         "marker": {
          "color": "#FFA15A",
          "symbol": "circle"
         },
         "mode": "markers",
         "name": "2018-05-01",
         "showlegend": true,
         "type": "scattergl",
         "x": [
          -12.115946207419888
         ],
         "xaxis": "x",
         "y": [
          -4.737774827107428
         ],
         "yaxis": "y"
        },
        {
         "hovertemplate": "date=2018-05-02<br>pc1=%{x}<br>pc2=%{y}<extra></extra>",
         "legendgroup": "2018-05-02",
         "marker": {
          "color": "#19d3f3",
          "symbol": "circle"
         },
         "mode": "markers",
         "name": "2018-05-02",
         "showlegend": true,
         "type": "scattergl",
         "x": [
          -7.72181154916411
         ],
         "xaxis": "x",
         "y": [
          -5.934094002348672
         ],
         "yaxis": "y"
        },
        {
         "hovertemplate": "date=2018-05-03<br>pc1=%{x}<br>pc2=%{y}<extra></extra>",
         "legendgroup": "2018-05-03",
         "marker": {
          "color": "#FF6692",
          "symbol": "circle"
         },
         "mode": "markers",
         "name": "2018-05-03",
         "showlegend": true,
         "type": "scattergl",
         "x": [
          -9.812320540161583
         ],
         "xaxis": "x",
         "y": [
          -10.575985917539953
         ],
         "yaxis": "y"
        },
        {
         "hovertemplate": "date=2018-05-04<br>pc1=%{x}<br>pc2=%{y}<extra></extra>",
         "legendgroup": "2018-05-04",
         "marker": {
          "color": "#B6E880",
          "symbol": "circle"
         },
         "mode": "markers",
         "name": "2018-05-04",
         "showlegend": true,
         "type": "scattergl",
         "x": [
          -8.520889587785108
         ],
         "xaxis": "x",
         "y": [
          -6.458787776157245
         ],
         "yaxis": "y"
        },
        {
         "hovertemplate": "date=2018-05-05<br>pc1=%{x}<br>pc2=%{y}<extra></extra>",
         "legendgroup": "2018-05-05",
         "marker": {
          "color": "#FF97FF",
          "symbol": "circle"
         },
         "mode": "markers",
         "name": "2018-05-05",
         "showlegend": true,
         "type": "scattergl",
         "x": [
          -2.137003087722207
         ],
         "xaxis": "x",
         "y": [
          -17.73457106069574
         ],
         "yaxis": "y"
        },
        {
         "hovertemplate": "date=2018-05-06<br>pc1=%{x}<br>pc2=%{y}<extra></extra>",
         "legendgroup": "2018-05-06",
         "marker": {
          "color": "#FECB52",
          "symbol": "circle"
         },
         "mode": "markers",
         "name": "2018-05-06",
         "showlegend": true,
         "type": "scattergl",
         "x": [
          11.601708388566262
         ],
         "xaxis": "x",
         "y": [
          -12.69733617405793
         ],
         "yaxis": "y"
        },
        {
         "hovertemplate": "date=2018-05-07<br>pc1=%{x}<br>pc2=%{y}<extra></extra>",
         "legendgroup": "2018-05-07",
         "marker": {
          "color": "#636efa",
          "symbol": "circle"
         },
         "mode": "markers",
         "name": "2018-05-07",
         "showlegend": true,
         "type": "scattergl",
         "x": [
          -10.462741329020568
         ],
         "xaxis": "x",
         "y": [
          -4.97613425951297
         ],
         "yaxis": "y"
        },
        {
         "hovertemplate": "date=2018-05-08<br>pc1=%{x}<br>pc2=%{y}<extra></extra>",
         "legendgroup": "2018-05-08",
         "marker": {
          "color": "#EF553B",
          "symbol": "circle"
         },
         "mode": "markers",
         "name": "2018-05-08",
         "showlegend": true,
         "type": "scattergl",
         "x": [
          -16.03172312026824
         ],
         "xaxis": "x",
         "y": [
          -12.606723438395145
         ],
         "yaxis": "y"
        },
        {
         "hovertemplate": "date=2018-05-09<br>pc1=%{x}<br>pc2=%{y}<extra></extra>",
         "legendgroup": "2018-05-09",
         "marker": {
          "color": "#00cc96",
          "symbol": "circle"
         },
         "mode": "markers",
         "name": "2018-05-09",
         "showlegend": true,
         "type": "scattergl",
         "x": [
          -10.977464363684355
         ],
         "xaxis": "x",
         "y": [
          -8.12543395467841
         ],
         "yaxis": "y"
        },
        {
         "hovertemplate": "date=2018-05-10<br>pc1=%{x}<br>pc2=%{y}<extra></extra>",
         "legendgroup": "2018-05-10",
         "marker": {
          "color": "#ab63fa",
          "symbol": "circle"
         },
         "mode": "markers",
         "name": "2018-05-10",
         "showlegend": true,
         "type": "scattergl",
         "x": [
          -10.722575323421756
         ],
         "xaxis": "x",
         "y": [
          -4.654109840033393
         ],
         "yaxis": "y"
        },
        {
         "hovertemplate": "date=2018-05-11<br>pc1=%{x}<br>pc2=%{y}<extra></extra>",
         "legendgroup": "2018-05-11",
         "marker": {
          "color": "#FFA15A",
          "symbol": "circle"
         },
         "mode": "markers",
         "name": "2018-05-11",
         "showlegend": true,
         "type": "scattergl",
         "x": [
          -12.684037656618512
         ],
         "xaxis": "x",
         "y": [
          -10.600113016248999
         ],
         "yaxis": "y"
        },
        {
         "hovertemplate": "date=2018-05-12<br>pc1=%{x}<br>pc2=%{y}<extra></extra>",
         "legendgroup": "2018-05-12",
         "marker": {
          "color": "#19d3f3",
          "symbol": "circle"
         },
         "mode": "markers",
         "name": "2018-05-12",
         "showlegend": true,
         "type": "scattergl",
         "x": [
          6.772933360108363
         ],
         "xaxis": "x",
         "y": [
          -12.498427207781992
         ],
         "yaxis": "y"
        },
        {
         "hovertemplate": "date=2018-05-13<br>pc1=%{x}<br>pc2=%{y}<extra></extra>",
         "legendgroup": "2018-05-13",
         "marker": {
          "color": "#FF6692",
          "symbol": "circle"
         },
         "mode": "markers",
         "name": "2018-05-13",
         "showlegend": true,
         "type": "scattergl",
         "x": [
          5.792622100777271
         ],
         "xaxis": "x",
         "y": [
          -18.54669334533246
         ],
         "yaxis": "y"
        },
        {
         "hovertemplate": "date=2018-05-14<br>pc1=%{x}<br>pc2=%{y}<extra></extra>",
         "legendgroup": "2018-05-14",
         "marker": {
          "color": "#B6E880",
          "symbol": "circle"
         },
         "mode": "markers",
         "name": "2018-05-14",
         "showlegend": true,
         "type": "scattergl",
         "x": [
          -6.626561527954386
         ],
         "xaxis": "x",
         "y": [
          -6.976095199047345
         ],
         "yaxis": "y"
        },
        {
         "hovertemplate": "date=2018-05-15<br>pc1=%{x}<br>pc2=%{y}<extra></extra>",
         "legendgroup": "2018-05-15",
         "marker": {
          "color": "#FF97FF",
          "symbol": "circle"
         },
         "mode": "markers",
         "name": "2018-05-15",
         "showlegend": true,
         "type": "scattergl",
         "x": [
          -8.942478439425997
         ],
         "xaxis": "x",
         "y": [
          -4.648792598429478
         ],
         "yaxis": "y"
        },
        {
         "hovertemplate": "date=2018-05-16<br>pc1=%{x}<br>pc2=%{y}<extra></extra>",
         "legendgroup": "2018-05-16",
         "marker": {
          "color": "#FECB52",
          "symbol": "circle"
         },
         "mode": "markers",
         "name": "2018-05-16",
         "showlegend": true,
         "type": "scattergl",
         "x": [
          -15.557190117684408
         ],
         "xaxis": "x",
         "y": [
          -13.935001865678615
         ],
         "yaxis": "y"
        },
        {
         "hovertemplate": "date=2018-05-17<br>pc1=%{x}<br>pc2=%{y}<extra></extra>",
         "legendgroup": "2018-05-17",
         "marker": {
          "color": "#636efa",
          "symbol": "circle"
         },
         "mode": "markers",
         "name": "2018-05-17",
         "showlegend": true,
         "type": "scattergl",
         "x": [
          -10.404483882163648
         ],
         "xaxis": "x",
         "y": [
          -3.530960018168483
         ],
         "yaxis": "y"
        },
        {
         "hovertemplate": "date=2018-05-18<br>pc1=%{x}<br>pc2=%{y}<extra></extra>",
         "legendgroup": "2018-05-18",
         "marker": {
          "color": "#EF553B",
          "symbol": "circle"
         },
         "mode": "markers",
         "name": "2018-05-18",
         "showlegend": true,
         "type": "scattergl",
         "x": [
          -11.649929124075271
         ],
         "xaxis": "x",
         "y": [
          -8.90769146495808
         ],
         "yaxis": "y"
        },
        {
         "hovertemplate": "date=2018-05-19<br>pc1=%{x}<br>pc2=%{y}<extra></extra>",
         "legendgroup": "2018-05-19",
         "marker": {
          "color": "#00cc96",
          "symbol": "circle"
         },
         "mode": "markers",
         "name": "2018-05-19",
         "showlegend": true,
         "type": "scattergl",
         "x": [
          3.524009695179663
         ],
         "xaxis": "x",
         "y": [
          -11.535909909440916
         ],
         "yaxis": "y"
        },
        {
         "hovertemplate": "date=2018-05-20<br>pc1=%{x}<br>pc2=%{y}<extra></extra>",
         "legendgroup": "2018-05-20",
         "marker": {
          "color": "#ab63fa",
          "symbol": "circle"
         },
         "mode": "markers",
         "name": "2018-05-20",
         "showlegend": true,
         "type": "scattergl",
         "x": [
          24.381615637214306
         ],
         "xaxis": "x",
         "y": [
          7.817048855126376
         ],
         "yaxis": "y"
        },
        {
         "hovertemplate": "date=2018-05-21<br>pc1=%{x}<br>pc2=%{y}<extra></extra>",
         "legendgroup": "2018-05-21",
         "marker": {
          "color": "#FFA15A",
          "symbol": "circle"
         },
         "mode": "markers",
         "name": "2018-05-21",
         "showlegend": true,
         "type": "scattergl",
         "x": [
          -0.056499540291944164
         ],
         "xaxis": "x",
         "y": [
          -1.0991634154032965
         ],
         "yaxis": "y"
        },
        {
         "hovertemplate": "date=2018-05-22<br>pc1=%{x}<br>pc2=%{y}<extra></extra>",
         "legendgroup": "2018-05-22",
         "marker": {
          "color": "#19d3f3",
          "symbol": "circle"
         },
         "mode": "markers",
         "name": "2018-05-22",
         "showlegend": true,
         "type": "scattergl",
         "x": [
          -9.040892806299869
         ],
         "xaxis": "x",
         "y": [
          -1.5049781291719087
         ],
         "yaxis": "y"
        },
        {
         "hovertemplate": "date=2018-05-23<br>pc1=%{x}<br>pc2=%{y}<extra></extra>",
         "legendgroup": "2018-05-23",
         "marker": {
          "color": "#FF6692",
          "symbol": "circle"
         },
         "mode": "markers",
         "name": "2018-05-23",
         "showlegend": true,
         "type": "scattergl",
         "x": [
          -17.185764369304064
         ],
         "xaxis": "x",
         "y": [
          -12.776889600090923
         ],
         "yaxis": "y"
        },
        {
         "hovertemplate": "date=2018-05-24<br>pc1=%{x}<br>pc2=%{y}<extra></extra>",
         "legendgroup": "2018-05-24",
         "marker": {
          "color": "#B6E880",
          "symbol": "circle"
         },
         "mode": "markers",
         "name": "2018-05-24",
         "showlegend": true,
         "type": "scattergl",
         "x": [
          -10.13483148019978
         ],
         "xaxis": "x",
         "y": [
          -6.268744866792355
         ],
         "yaxis": "y"
        },
        {
         "hovertemplate": "date=2018-05-25<br>pc1=%{x}<br>pc2=%{y}<extra></extra>",
         "legendgroup": "2018-05-25",
         "marker": {
          "color": "#FF97FF",
          "symbol": "circle"
         },
         "mode": "markers",
         "name": "2018-05-25",
         "showlegend": true,
         "type": "scattergl",
         "x": [
          -18.611248287057876
         ],
         "xaxis": "x",
         "y": [
          -12.328178030090204
         ],
         "yaxis": "y"
        },
        {
         "hovertemplate": "date=2018-05-26<br>pc1=%{x}<br>pc2=%{y}<extra></extra>",
         "legendgroup": "2018-05-26",
         "marker": {
          "color": "#FECB52",
          "symbol": "circle"
         },
         "mode": "markers",
         "name": "2018-05-26",
         "showlegend": true,
         "type": "scattergl",
         "x": [
          -7.241452099449908
         ],
         "xaxis": "x",
         "y": [
          -8.967313867995292
         ],
         "yaxis": "y"
        },
        {
         "hovertemplate": "date=2018-05-27<br>pc1=%{x}<br>pc2=%{y}<extra></extra>",
         "legendgroup": "2018-05-27",
         "marker": {
          "color": "#636efa",
          "symbol": "circle"
         },
         "mode": "markers",
         "name": "2018-05-27",
         "showlegend": true,
         "type": "scattergl",
         "x": [
          -4.586104053040269
         ],
         "xaxis": "x",
         "y": [
          -9.81350971499229
         ],
         "yaxis": "y"
        },
        {
         "hovertemplate": "date=2018-05-28<br>pc1=%{x}<br>pc2=%{y}<extra></extra>",
         "legendgroup": "2018-05-28",
         "marker": {
          "color": "#EF553B",
          "symbol": "circle"
         },
         "mode": "markers",
         "name": "2018-05-28",
         "showlegend": true,
         "type": "scattergl",
         "x": [
          31.301860861474616
         ],
         "xaxis": "x",
         "y": [
          -30.323165448848616
         ],
         "yaxis": "y"
        },
        {
         "hovertemplate": "date=2018-05-29<br>pc1=%{x}<br>pc2=%{y}<extra></extra>",
         "legendgroup": "2018-05-29",
         "marker": {
          "color": "#00cc96",
          "symbol": "circle"
         },
         "mode": "markers",
         "name": "2018-05-29",
         "showlegend": true,
         "type": "scattergl",
         "x": [
          -12.362791309903795
         ],
         "xaxis": "x",
         "y": [
          -6.904336311307718
         ],
         "yaxis": "y"
        },
        {
         "hovertemplate": "date=2018-05-30<br>pc1=%{x}<br>pc2=%{y}<extra></extra>",
         "legendgroup": "2018-05-30",
         "marker": {
          "color": "#ab63fa",
          "symbol": "circle"
         },
         "mode": "markers",
         "name": "2018-05-30",
         "showlegend": true,
         "type": "scattergl",
         "x": [
          -11.443158519150437
         ],
         "xaxis": "x",
         "y": [
          -3.317856238364286
         ],
         "yaxis": "y"
        },
        {
         "hovertemplate": "date=2018-05-31<br>pc1=%{x}<br>pc2=%{y}<extra></extra>",
         "legendgroup": "2018-05-31",
         "marker": {
          "color": "#FFA15A",
          "symbol": "circle"
         },
         "mode": "markers",
         "name": "2018-05-31",
         "showlegend": true,
         "type": "scattergl",
         "x": [
          -19.545721047526506
         ],
         "xaxis": "x",
         "y": [
          -6.85704805314924
         ],
         "yaxis": "y"
        },
        {
         "hovertemplate": "date=2018-06-01<br>pc1=%{x}<br>pc2=%{y}<extra></extra>",
         "legendgroup": "2018-06-01",
         "marker": {
          "color": "#19d3f3",
          "symbol": "circle"
         },
         "mode": "markers",
         "name": "2018-06-01",
         "showlegend": true,
         "type": "scattergl",
         "x": [
          -16.470460429479527
         ],
         "xaxis": "x",
         "y": [
          -9.4864728258971
         ],
         "yaxis": "y"
        },
        {
         "hovertemplate": "date=2018-06-02<br>pc1=%{x}<br>pc2=%{y}<extra></extra>",
         "legendgroup": "2018-06-02",
         "marker": {
          "color": "#FF6692",
          "symbol": "circle"
         },
         "mode": "markers",
         "name": "2018-06-02",
         "showlegend": true,
         "type": "scattergl",
         "x": [
          3.7431654466319655
         ],
         "xaxis": "x",
         "y": [
          -12.71464648295207
         ],
         "yaxis": "y"
        },
        {
         "hovertemplate": "date=2018-06-03<br>pc1=%{x}<br>pc2=%{y}<extra></extra>",
         "legendgroup": "2018-06-03",
         "marker": {
          "color": "#B6E880",
          "symbol": "circle"
         },
         "mode": "markers",
         "name": "2018-06-03",
         "showlegend": true,
         "type": "scattergl",
         "x": [
          1.7128055636343709
         ],
         "xaxis": "x",
         "y": [
          -23.51632548068117
         ],
         "yaxis": "y"
        },
        {
         "hovertemplate": "date=2018-06-04<br>pc1=%{x}<br>pc2=%{y}<extra></extra>",
         "legendgroup": "2018-06-04",
         "marker": {
          "color": "#FF97FF",
          "symbol": "circle"
         },
         "mode": "markers",
         "name": "2018-06-04",
         "showlegend": true,
         "type": "scattergl",
         "x": [
          -9.768154274120583
         ],
         "xaxis": "x",
         "y": [
          -8.373803476330316
         ],
         "yaxis": "y"
        },
        {
         "hovertemplate": "date=2018-06-05<br>pc1=%{x}<br>pc2=%{y}<extra></extra>",
         "legendgroup": "2018-06-05",
         "marker": {
          "color": "#FECB52",
          "symbol": "circle"
         },
         "mode": "markers",
         "name": "2018-06-05",
         "showlegend": true,
         "type": "scattergl",
         "x": [
          -11.584468160565345
         ],
         "xaxis": "x",
         "y": [
          -9.503316568737734
         ],
         "yaxis": "y"
        },
        {
         "hovertemplate": "date=2018-06-06<br>pc1=%{x}<br>pc2=%{y}<extra></extra>",
         "legendgroup": "2018-06-06",
         "marker": {
          "color": "#636efa",
          "symbol": "circle"
         },
         "mode": "markers",
         "name": "2018-06-06",
         "showlegend": true,
         "type": "scattergl",
         "x": [
          -10.940760688403609
         ],
         "xaxis": "x",
         "y": [
          -8.505316163040433
         ],
         "yaxis": "y"
        },
        {
         "hovertemplate": "date=2018-06-07<br>pc1=%{x}<br>pc2=%{y}<extra></extra>",
         "legendgroup": "2018-06-07",
         "marker": {
          "color": "#EF553B",
          "symbol": "circle"
         },
         "mode": "markers",
         "name": "2018-06-07",
         "showlegend": true,
         "type": "scattergl",
         "x": [
          -11.592187359647875
         ],
         "xaxis": "x",
         "y": [
          -5.818513925076498
         ],
         "yaxis": "y"
        },
        {
         "hovertemplate": "date=2018-06-08<br>pc1=%{x}<br>pc2=%{y}<extra></extra>",
         "legendgroup": "2018-06-08",
         "marker": {
          "color": "#00cc96",
          "symbol": "circle"
         },
         "mode": "markers",
         "name": "2018-06-08",
         "showlegend": true,
         "type": "scattergl",
         "x": [
          -12.391501856362286
         ],
         "xaxis": "x",
         "y": [
          -12.285418620795916
         ],
         "yaxis": "y"
        },
        {
         "hovertemplate": "date=2018-06-09<br>pc1=%{x}<br>pc2=%{y}<extra></extra>",
         "legendgroup": "2018-06-09",
         "marker": {
          "color": "#ab63fa",
          "symbol": "circle"
         },
         "mode": "markers",
         "name": "2018-06-09",
         "showlegend": true,
         "type": "scattergl",
         "x": [
          1.7404679009751494
         ],
         "xaxis": "x",
         "y": [
          -10.043367311714373
         ],
         "yaxis": "y"
        },
        {
         "hovertemplate": "date=2018-06-10<br>pc1=%{x}<br>pc2=%{y}<extra></extra>",
         "legendgroup": "2018-06-10",
         "marker": {
          "color": "#FFA15A",
          "symbol": "circle"
         },
         "mode": "markers",
         "name": "2018-06-10",
         "showlegend": true,
         "type": "scattergl",
         "x": [
          8.856159300435946
         ],
         "xaxis": "x",
         "y": [
          -14.35229709928284
         ],
         "yaxis": "y"
        },
        {
         "hovertemplate": "date=2018-06-11<br>pc1=%{x}<br>pc2=%{y}<extra></extra>",
         "legendgroup": "2018-06-11",
         "marker": {
          "color": "#19d3f3",
          "symbol": "circle"
         },
         "mode": "markers",
         "name": "2018-06-11",
         "showlegend": true,
         "type": "scattergl",
         "x": [
          -9.7191793207566
         ],
         "xaxis": "x",
         "y": [
          -8.607914282893832
         ],
         "yaxis": "y"
        },
        {
         "hovertemplate": "date=2018-06-12<br>pc1=%{x}<br>pc2=%{y}<extra></extra>",
         "legendgroup": "2018-06-12",
         "marker": {
          "color": "#FF6692",
          "symbol": "circle"
         },
         "mode": "markers",
         "name": "2018-06-12",
         "showlegend": true,
         "type": "scattergl",
         "x": [
          -9.45597316975335
         ],
         "xaxis": "x",
         "y": [
          -8.014026062712194
         ],
         "yaxis": "y"
        },
        {
         "hovertemplate": "date=2018-06-13<br>pc1=%{x}<br>pc2=%{y}<extra></extra>",
         "legendgroup": "2018-06-13",
         "marker": {
          "color": "#B6E880",
          "symbol": "circle"
         },
         "mode": "markers",
         "name": "2018-06-13",
         "showlegend": true,
         "type": "scattergl",
         "x": [
          -12.443955509973106
         ],
         "xaxis": "x",
         "y": [
          -7.718802655302454
         ],
         "yaxis": "y"
        },
        {
         "hovertemplate": "date=2018-06-14<br>pc1=%{x}<br>pc2=%{y}<extra></extra>",
         "legendgroup": "2018-06-14",
         "marker": {
          "color": "#FF97FF",
          "symbol": "circle"
         },
         "mode": "markers",
         "name": "2018-06-14",
         "showlegend": true,
         "type": "scattergl",
         "x": [
          -13.828923565680913
         ],
         "xaxis": "x",
         "y": [
          -13.376658474250808
         ],
         "yaxis": "y"
        },
        {
         "hovertemplate": "date=2018-06-15<br>pc1=%{x}<br>pc2=%{y}<extra></extra>",
         "legendgroup": "2018-06-15",
         "marker": {
          "color": "#FECB52",
          "symbol": "circle"
         },
         "mode": "markers",
         "name": "2018-06-15",
         "showlegend": true,
         "type": "scattergl",
         "x": [
          -8.652860368346415
         ],
         "xaxis": "x",
         "y": [
          -7.998802161360418
         ],
         "yaxis": "y"
        },
        {
         "hovertemplate": "date=2018-06-16<br>pc1=%{x}<br>pc2=%{y}<extra></extra>",
         "legendgroup": "2018-06-16",
         "marker": {
          "color": "#636efa",
          "symbol": "circle"
         },
         "mode": "markers",
         "name": "2018-06-16",
         "showlegend": true,
         "type": "scattergl",
         "x": [
          -7.536014244353332
         ],
         "xaxis": "x",
         "y": [
          -27.478916405362746
         ],
         "yaxis": "y"
        },
        {
         "hovertemplate": "date=2018-06-17<br>pc1=%{x}<br>pc2=%{y}<extra></extra>",
         "legendgroup": "2018-06-17",
         "marker": {
          "color": "#EF553B",
          "symbol": "circle"
         },
         "mode": "markers",
         "name": "2018-06-17",
         "showlegend": true,
         "type": "scattergl",
         "x": [
          3.5171453089516618
         ],
         "xaxis": "x",
         "y": [
          -19.69179569396319
         ],
         "yaxis": "y"
        },
        {
         "hovertemplate": "date=2018-06-18<br>pc1=%{x}<br>pc2=%{y}<extra></extra>",
         "legendgroup": "2018-06-18",
         "marker": {
          "color": "#00cc96",
          "symbol": "circle"
         },
         "mode": "markers",
         "name": "2018-06-18",
         "showlegend": true,
         "type": "scattergl",
         "x": [
          -8.715007839347749
         ],
         "xaxis": "x",
         "y": [
          -4.774262621452669
         ],
         "yaxis": "y"
        },
        {
         "hovertemplate": "date=2018-06-19<br>pc1=%{x}<br>pc2=%{y}<extra></extra>",
         "legendgroup": "2018-06-19",
         "marker": {
          "color": "#ab63fa",
          "symbol": "circle"
         },
         "mode": "markers",
         "name": "2018-06-19",
         "showlegend": true,
         "type": "scattergl",
         "x": [
          -14.388504709250924
         ],
         "xaxis": "x",
         "y": [
          -8.848059249478446
         ],
         "yaxis": "y"
        },
        {
         "hovertemplate": "date=2018-06-20<br>pc1=%{x}<br>pc2=%{y}<extra></extra>",
         "legendgroup": "2018-06-20",
         "marker": {
          "color": "#FFA15A",
          "symbol": "circle"
         },
         "mode": "markers",
         "name": "2018-06-20",
         "showlegend": true,
         "type": "scattergl",
         "x": [
          -9.803990595504663
         ],
         "xaxis": "x",
         "y": [
          -3.1577010321513503
         ],
         "yaxis": "y"
        },
        {
         "hovertemplate": "date=2018-06-21<br>pc1=%{x}<br>pc2=%{y}<extra></extra>",
         "legendgroup": "2018-06-21",
         "marker": {
          "color": "#19d3f3",
          "symbol": "circle"
         },
         "mode": "markers",
         "name": "2018-06-21",
         "showlegend": true,
         "type": "scattergl",
         "x": [
          0.3822860714225551
         ],
         "xaxis": "x",
         "y": [
          -11.284530400735612
         ],
         "yaxis": "y"
        },
        {
         "hovertemplate": "date=2018-06-22<br>pc1=%{x}<br>pc2=%{y}<extra></extra>",
         "legendgroup": "2018-06-22",
         "marker": {
          "color": "#FF6692",
          "symbol": "circle"
         },
         "mode": "markers",
         "name": "2018-06-22",
         "showlegend": true,
         "type": "scattergl",
         "x": [
          -3.506395535891818
         ],
         "xaxis": "x",
         "y": [
          -14.317601986619742
         ],
         "yaxis": "y"
        },
        {
         "hovertemplate": "date=2018-06-23<br>pc1=%{x}<br>pc2=%{y}<extra></extra>",
         "legendgroup": "2018-06-23",
         "marker": {
          "color": "#B6E880",
          "symbol": "circle"
         },
         "mode": "markers",
         "name": "2018-06-23",
         "showlegend": true,
         "type": "scattergl",
         "x": [
          -0.4811082952519689
         ],
         "xaxis": "x",
         "y": [
          -11.089368299002507
         ],
         "yaxis": "y"
        },
        {
         "hovertemplate": "date=2018-06-24<br>pc1=%{x}<br>pc2=%{y}<extra></extra>",
         "legendgroup": "2018-06-24",
         "marker": {
          "color": "#FF97FF",
          "symbol": "circle"
         },
         "mode": "markers",
         "name": "2018-06-24",
         "showlegend": true,
         "type": "scattergl",
         "x": [
          -11.86928933665215
         ],
         "xaxis": "x",
         "y": [
          -4.774007054091832
         ],
         "yaxis": "y"
        },
        {
         "hovertemplate": "date=2018-06-25<br>pc1=%{x}<br>pc2=%{y}<extra></extra>",
         "legendgroup": "2018-06-25",
         "marker": {
          "color": "#FECB52",
          "symbol": "circle"
         },
         "mode": "markers",
         "name": "2018-06-25",
         "showlegend": true,
         "type": "scattergl",
         "x": [
          -6.668206264272696
         ],
         "xaxis": "x",
         "y": [
          -7.543259190737692
         ],
         "yaxis": "y"
        },
        {
         "hovertemplate": "date=2018-06-26<br>pc1=%{x}<br>pc2=%{y}<extra></extra>",
         "legendgroup": "2018-06-26",
         "marker": {
          "color": "#636efa",
          "symbol": "circle"
         },
         "mode": "markers",
         "name": "2018-06-26",
         "showlegend": true,
         "type": "scattergl",
         "x": [
          -2.3645980240296844
         ],
         "xaxis": "x",
         "y": [
          -8.942381864054923
         ],
         "yaxis": "y"
        },
        {
         "hovertemplate": "date=2018-06-27<br>pc1=%{x}<br>pc2=%{y}<extra></extra>",
         "legendgroup": "2018-06-27",
         "marker": {
          "color": "#EF553B",
          "symbol": "circle"
         },
         "mode": "markers",
         "name": "2018-06-27",
         "showlegend": true,
         "type": "scattergl",
         "x": [
          -4.2267616716345255
         ],
         "xaxis": "x",
         "y": [
          -5.238115729012534
         ],
         "yaxis": "y"
        },
        {
         "hovertemplate": "date=2018-06-28<br>pc1=%{x}<br>pc2=%{y}<extra></extra>",
         "legendgroup": "2018-06-28",
         "marker": {
          "color": "#00cc96",
          "symbol": "circle"
         },
         "mode": "markers",
         "name": "2018-06-28",
         "showlegend": true,
         "type": "scattergl",
         "x": [
          -15.108061873932671
         ],
         "xaxis": "x",
         "y": [
          -13.052857232098994
         ],
         "yaxis": "y"
        },
        {
         "hovertemplate": "date=2018-06-29<br>pc1=%{x}<br>pc2=%{y}<extra></extra>",
         "legendgroup": "2018-06-29",
         "marker": {
          "color": "#ab63fa",
          "symbol": "circle"
         },
         "mode": "markers",
         "name": "2018-06-29",
         "showlegend": true,
         "type": "scattergl",
         "x": [
          -10.774330287370413
         ],
         "xaxis": "x",
         "y": [
          -8.406853247942257
         ],
         "yaxis": "y"
        },
        {
         "hovertemplate": "date=2018-06-30<br>pc1=%{x}<br>pc2=%{y}<extra></extra>",
         "legendgroup": "2018-06-30",
         "marker": {
          "color": "#FFA15A",
          "symbol": "circle"
         },
         "mode": "markers",
         "name": "2018-06-30",
         "showlegend": true,
         "type": "scattergl",
         "x": [
          0.11725007052979693
         ],
         "xaxis": "x",
         "y": [
          -10.359307218922766
         ],
         "yaxis": "y"
        },
        {
         "hovertemplate": "date=2018-07-01<br>pc1=%{x}<br>pc2=%{y}<extra></extra>",
         "legendgroup": "2018-07-01",
         "marker": {
          "color": "#19d3f3",
          "symbol": "circle"
         },
         "mode": "markers",
         "name": "2018-07-01",
         "showlegend": true,
         "type": "scattergl",
         "x": [
          -4.370594925046833
         ],
         "xaxis": "x",
         "y": [
          -18.806569512286792
         ],
         "yaxis": "y"
        },
        {
         "hovertemplate": "date=2018-07-02<br>pc1=%{x}<br>pc2=%{y}<extra></extra>",
         "legendgroup": "2018-07-02",
         "marker": {
          "color": "#FF6692",
          "symbol": "circle"
         },
         "mode": "markers",
         "name": "2018-07-02",
         "showlegend": true,
         "type": "scattergl",
         "x": [
          -13.345586192153455
         ],
         "xaxis": "x",
         "y": [
          -1.0559192140921039
         ],
         "yaxis": "y"
        },
        {
         "hovertemplate": "date=2018-07-03<br>pc1=%{x}<br>pc2=%{y}<extra></extra>",
         "legendgroup": "2018-07-03",
         "marker": {
          "color": "#B6E880",
          "symbol": "circle"
         },
         "mode": "markers",
         "name": "2018-07-03",
         "showlegend": true,
         "type": "scattergl",
         "x": [
          -17.183140146398298
         ],
         "xaxis": "x",
         "y": [
          -5.530459869558627
         ],
         "yaxis": "y"
        },
        {
         "hovertemplate": "date=2018-07-04<br>pc1=%{x}<br>pc2=%{y}<extra></extra>",
         "legendgroup": "2018-07-04",
         "marker": {
          "color": "#FF97FF",
          "symbol": "circle"
         },
         "mode": "markers",
         "name": "2018-07-04",
         "showlegend": true,
         "type": "scattergl",
         "x": [
          22.180425396878693
         ],
         "xaxis": "x",
         "y": [
          -33.64563554929835
         ],
         "yaxis": "y"
        },
        {
         "hovertemplate": "date=2018-07-05<br>pc1=%{x}<br>pc2=%{y}<extra></extra>",
         "legendgroup": "2018-07-05",
         "marker": {
          "color": "#FECB52",
          "symbol": "circle"
         },
         "mode": "markers",
         "name": "2018-07-05",
         "showlegend": true,
         "type": "scattergl",
         "x": [
          -4.610182487429775
         ],
         "xaxis": "x",
         "y": [
          -10.893413004594084
         ],
         "yaxis": "y"
        },
        {
         "hovertemplate": "date=2018-07-06<br>pc1=%{x}<br>pc2=%{y}<extra></extra>",
         "legendgroup": "2018-07-06",
         "marker": {
          "color": "#636efa",
          "symbol": "circle"
         },
         "mode": "markers",
         "name": "2018-07-06",
         "showlegend": true,
         "type": "scattergl",
         "x": [
          -16.549726569991186
         ],
         "xaxis": "x",
         "y": [
          -8.546995792425598
         ],
         "yaxis": "y"
        },
        {
         "hovertemplate": "date=2018-07-07<br>pc1=%{x}<br>pc2=%{y}<extra></extra>",
         "legendgroup": "2018-07-07",
         "marker": {
          "color": "#EF553B",
          "symbol": "circle"
         },
         "mode": "markers",
         "name": "2018-07-07",
         "showlegend": true,
         "type": "scattergl",
         "x": [
          -6.305721985483829
         ],
         "xaxis": "x",
         "y": [
          -6.0714733905856635
         ],
         "yaxis": "y"
        },
        {
         "hovertemplate": "date=2018-07-08<br>pc1=%{x}<br>pc2=%{y}<extra></extra>",
         "legendgroup": "2018-07-08",
         "marker": {
          "color": "#00cc96",
          "symbol": "circle"
         },
         "mode": "markers",
         "name": "2018-07-08",
         "showlegend": true,
         "type": "scattergl",
         "x": [
          4.034057291051304
         ],
         "xaxis": "x",
         "y": [
          -10.602918517944365
         ],
         "yaxis": "y"
        },
        {
         "hovertemplate": "date=2018-07-09<br>pc1=%{x}<br>pc2=%{y}<extra></extra>",
         "legendgroup": "2018-07-09",
         "marker": {
          "color": "#ab63fa",
          "symbol": "circle"
         },
         "mode": "markers",
         "name": "2018-07-09",
         "showlegend": true,
         "type": "scattergl",
         "x": [
          -9.508910859794028
         ],
         "xaxis": "x",
         "y": [
          -9.300753996380422
         ],
         "yaxis": "y"
        },
        {
         "hovertemplate": "date=2018-07-10<br>pc1=%{x}<br>pc2=%{y}<extra></extra>",
         "legendgroup": "2018-07-10",
         "marker": {
          "color": "#FFA15A",
          "symbol": "circle"
         },
         "mode": "markers",
         "name": "2018-07-10",
         "showlegend": true,
         "type": "scattergl",
         "x": [
          -7.185729543606408
         ],
         "xaxis": "x",
         "y": [
          -7.082012273828716
         ],
         "yaxis": "y"
        },
        {
         "hovertemplate": "date=2018-07-11<br>pc1=%{x}<br>pc2=%{y}<extra></extra>",
         "legendgroup": "2018-07-11",
         "marker": {
          "color": "#19d3f3",
          "symbol": "circle"
         },
         "mode": "markers",
         "name": "2018-07-11",
         "showlegend": true,
         "type": "scattergl",
         "x": [
          -8.521913748916852
         ],
         "xaxis": "x",
         "y": [
          -4.950610586585811
         ],
         "yaxis": "y"
        },
        {
         "hovertemplate": "date=2018-07-12<br>pc1=%{x}<br>pc2=%{y}<extra></extra>",
         "legendgroup": "2018-07-12",
         "marker": {
          "color": "#FF6692",
          "symbol": "circle"
         },
         "mode": "markers",
         "name": "2018-07-12",
         "showlegend": true,
         "type": "scattergl",
         "x": [
          -13.560258361164923
         ],
         "xaxis": "x",
         "y": [
          -13.961287993758242
         ],
         "yaxis": "y"
        },
        {
         "hovertemplate": "date=2018-07-13<br>pc1=%{x}<br>pc2=%{y}<extra></extra>",
         "legendgroup": "2018-07-13",
         "marker": {
          "color": "#B6E880",
          "symbol": "circle"
         },
         "mode": "markers",
         "name": "2018-07-13",
         "showlegend": true,
         "type": "scattergl",
         "x": [
          -10.196201977135313
         ],
         "xaxis": "x",
         "y": [
          -4.227930221730104
         ],
         "yaxis": "y"
        },
        {
         "hovertemplate": "date=2018-07-14<br>pc1=%{x}<br>pc2=%{y}<extra></extra>",
         "legendgroup": "2018-07-14",
         "marker": {
          "color": "#FF97FF",
          "symbol": "circle"
         },
         "mode": "markers",
         "name": "2018-07-14",
         "showlegend": true,
         "type": "scattergl",
         "x": [
          -0.397150392283423
         ],
         "xaxis": "x",
         "y": [
          -16.997812019652415
         ],
         "yaxis": "y"
        },
        {
         "hovertemplate": "date=2018-07-15<br>pc1=%{x}<br>pc2=%{y}<extra></extra>",
         "legendgroup": "2018-07-15",
         "marker": {
          "color": "#FECB52",
          "symbol": "circle"
         },
         "mode": "markers",
         "name": "2018-07-15",
         "showlegend": true,
         "type": "scattergl",
         "x": [
          1.7846726116423794
         ],
         "xaxis": "x",
         "y": [
          -14.170791746122116
         ],
         "yaxis": "y"
        },
        {
         "hovertemplate": "date=2018-07-16<br>pc1=%{x}<br>pc2=%{y}<extra></extra>",
         "legendgroup": "2018-07-16",
         "marker": {
          "color": "#636efa",
          "symbol": "circle"
         },
         "mode": "markers",
         "name": "2018-07-16",
         "showlegend": true,
         "type": "scattergl",
         "x": [
          -5.687690141283073
         ],
         "xaxis": "x",
         "y": [
          -8.55701464093962
         ],
         "yaxis": "y"
        },
        {
         "hovertemplate": "date=2018-07-17<br>pc1=%{x}<br>pc2=%{y}<extra></extra>",
         "legendgroup": "2018-07-17",
         "marker": {
          "color": "#EF553B",
          "symbol": "circle"
         },
         "mode": "markers",
         "name": "2018-07-17",
         "showlegend": true,
         "type": "scattergl",
         "x": [
          -8.364117044228284
         ],
         "xaxis": "x",
         "y": [
          -9.56579013193768
         ],
         "yaxis": "y"
        },
        {
         "hovertemplate": "date=2018-07-18<br>pc1=%{x}<br>pc2=%{y}<extra></extra>",
         "legendgroup": "2018-07-18",
         "marker": {
          "color": "#00cc96",
          "symbol": "circle"
         },
         "mode": "markers",
         "name": "2018-07-18",
         "showlegend": true,
         "type": "scattergl",
         "x": [
          -7.190179896076305
         ],
         "xaxis": "x",
         "y": [
          -5.362553105293315
         ],
         "yaxis": "y"
        },
        {
         "hovertemplate": "date=2018-07-19<br>pc1=%{x}<br>pc2=%{y}<extra></extra>",
         "legendgroup": "2018-07-19",
         "marker": {
          "color": "#ab63fa",
          "symbol": "circle"
         },
         "mode": "markers",
         "name": "2018-07-19",
         "showlegend": true,
         "type": "scattergl",
         "x": [
          -10.174614391359336
         ],
         "xaxis": "x",
         "y": [
          -5.320866071039143
         ],
         "yaxis": "y"
        },
        {
         "hovertemplate": "date=2018-07-20<br>pc1=%{x}<br>pc2=%{y}<extra></extra>",
         "legendgroup": "2018-07-20",
         "marker": {
          "color": "#FFA15A",
          "symbol": "circle"
         },
         "mode": "markers",
         "name": "2018-07-20",
         "showlegend": true,
         "type": "scattergl",
         "x": [
          -10.466422304131587
         ],
         "xaxis": "x",
         "y": [
          -11.003879727905739
         ],
         "yaxis": "y"
        },
        {
         "hovertemplate": "date=2018-07-21<br>pc1=%{x}<br>pc2=%{y}<extra></extra>",
         "legendgroup": "2018-07-21",
         "marker": {
          "color": "#19d3f3",
          "symbol": "circle"
         },
         "mode": "markers",
         "name": "2018-07-21",
         "showlegend": true,
         "type": "scattergl",
         "x": [
          -0.4621571648662867
         ],
         "xaxis": "x",
         "y": [
          -13.890338538348638
         ],
         "yaxis": "y"
        },
        {
         "hovertemplate": "date=2018-07-22<br>pc1=%{x}<br>pc2=%{y}<extra></extra>",
         "legendgroup": "2018-07-22",
         "marker": {
          "color": "#FF6692",
          "symbol": "circle"
         },
         "mode": "markers",
         "name": "2018-07-22",
         "showlegend": true,
         "type": "scattergl",
         "x": [
          6.994625895674163
         ],
         "xaxis": "x",
         "y": [
          -14.025942640648232
         ],
         "yaxis": "y"
        },
        {
         "hovertemplate": "date=2018-07-23<br>pc1=%{x}<br>pc2=%{y}<extra></extra>",
         "legendgroup": "2018-07-23",
         "marker": {
          "color": "#B6E880",
          "symbol": "circle"
         },
         "mode": "markers",
         "name": "2018-07-23",
         "showlegend": true,
         "type": "scattergl",
         "x": [
          -13.847728129034596
         ],
         "xaxis": "x",
         "y": [
          -13.4545565735984
         ],
         "yaxis": "y"
        },
        {
         "hovertemplate": "date=2018-07-24<br>pc1=%{x}<br>pc2=%{y}<extra></extra>",
         "legendgroup": "2018-07-24",
         "marker": {
          "color": "#FF97FF",
          "symbol": "circle"
         },
         "mode": "markers",
         "name": "2018-07-24",
         "showlegend": true,
         "type": "scattergl",
         "x": [
          -7.578920242342036
         ],
         "xaxis": "x",
         "y": [
          -4.56716261180043
         ],
         "yaxis": "y"
        },
        {
         "hovertemplate": "date=2018-07-25<br>pc1=%{x}<br>pc2=%{y}<extra></extra>",
         "legendgroup": "2018-07-25",
         "marker": {
          "color": "#FECB52",
          "symbol": "circle"
         },
         "mode": "markers",
         "name": "2018-07-25",
         "showlegend": true,
         "type": "scattergl",
         "x": [
          -10.055246367457931
         ],
         "xaxis": "x",
         "y": [
          -9.04911058582279
         ],
         "yaxis": "y"
        },
        {
         "hovertemplate": "date=2018-07-26<br>pc1=%{x}<br>pc2=%{y}<extra></extra>",
         "legendgroup": "2018-07-26",
         "marker": {
          "color": "#636efa",
          "symbol": "circle"
         },
         "mode": "markers",
         "name": "2018-07-26",
         "showlegend": true,
         "type": "scattergl",
         "x": [
          -10.065320889650868
         ],
         "xaxis": "x",
         "y": [
          -6.660164003093449
         ],
         "yaxis": "y"
        },
        {
         "hovertemplate": "date=2018-07-27<br>pc1=%{x}<br>pc2=%{y}<extra></extra>",
         "legendgroup": "2018-07-27",
         "marker": {
          "color": "#EF553B",
          "symbol": "circle"
         },
         "mode": "markers",
         "name": "2018-07-27",
         "showlegend": true,
         "type": "scattergl",
         "x": [
          -7.060302074791233
         ],
         "xaxis": "x",
         "y": [
          -6.8753622360175815
         ],
         "yaxis": "y"
        },
        {
         "hovertemplate": "date=2018-07-28<br>pc1=%{x}<br>pc2=%{y}<extra></extra>",
         "legendgroup": "2018-07-28",
         "marker": {
          "color": "#00cc96",
          "symbol": "circle"
         },
         "mode": "markers",
         "name": "2018-07-28",
         "showlegend": true,
         "type": "scattergl",
         "x": [
          -3.6890699466469994
         ],
         "xaxis": "x",
         "y": [
          -18.702021378652272
         ],
         "yaxis": "y"
        },
        {
         "hovertemplate": "date=2018-07-29<br>pc1=%{x}<br>pc2=%{y}<extra></extra>",
         "legendgroup": "2018-07-29",
         "marker": {
          "color": "#ab63fa",
          "symbol": "circle"
         },
         "mode": "markers",
         "name": "2018-07-29",
         "showlegend": true,
         "type": "scattergl",
         "x": [
          -1.2143303606604123
         ],
         "xaxis": "x",
         "y": [
          -24.615842754452668
         ],
         "yaxis": "y"
        },
        {
         "hovertemplate": "date=2018-07-30<br>pc1=%{x}<br>pc2=%{y}<extra></extra>",
         "legendgroup": "2018-07-30",
         "marker": {
          "color": "#FFA15A",
          "symbol": "circle"
         },
         "mode": "markers",
         "name": "2018-07-30",
         "showlegend": true,
         "type": "scattergl",
         "x": [
          -4.782591344710554
         ],
         "xaxis": "x",
         "y": [
          -4.558162417399748
         ],
         "yaxis": "y"
        },
        {
         "hovertemplate": "date=2018-07-31<br>pc1=%{x}<br>pc2=%{y}<extra></extra>",
         "legendgroup": "2018-07-31",
         "marker": {
          "color": "#19d3f3",
          "symbol": "circle"
         },
         "mode": "markers",
         "name": "2018-07-31",
         "showlegend": true,
         "type": "scattergl",
         "x": [
          -4.608793591204553
         ],
         "xaxis": "x",
         "y": [
          -12.5467790301736
         ],
         "yaxis": "y"
        },
        {
         "hovertemplate": "date=2018-08-01<br>pc1=%{x}<br>pc2=%{y}<extra></extra>",
         "legendgroup": "2018-08-01",
         "marker": {
          "color": "#FF6692",
          "symbol": "circle"
         },
         "mode": "markers",
         "name": "2018-08-01",
         "showlegend": true,
         "type": "scattergl",
         "x": [
          -6.806052793100222
         ],
         "xaxis": "x",
         "y": [
          -9.669067891127275
         ],
         "yaxis": "y"
        },
        {
         "hovertemplate": "date=2018-08-02<br>pc1=%{x}<br>pc2=%{y}<extra></extra>",
         "legendgroup": "2018-08-02",
         "marker": {
          "color": "#B6E880",
          "symbol": "circle"
         },
         "mode": "markers",
         "name": "2018-08-02",
         "showlegend": true,
         "type": "scattergl",
         "x": [
          -15.721519057833428
         ],
         "xaxis": "x",
         "y": [
          -6.2180949519438915
         ],
         "yaxis": "y"
        },
        {
         "hovertemplate": "date=2018-08-03<br>pc1=%{x}<br>pc2=%{y}<extra></extra>",
         "legendgroup": "2018-08-03",
         "marker": {
          "color": "#FF97FF",
          "symbol": "circle"
         },
         "mode": "markers",
         "name": "2018-08-03",
         "showlegend": true,
         "type": "scattergl",
         "x": [
          -17.33421225749439
         ],
         "xaxis": "x",
         "y": [
          -11.121026145351939
         ],
         "yaxis": "y"
        },
        {
         "hovertemplate": "date=2018-08-04<br>pc1=%{x}<br>pc2=%{y}<extra></extra>",
         "legendgroup": "2018-08-04",
         "marker": {
          "color": "#FECB52",
          "symbol": "circle"
         },
         "mode": "markers",
         "name": "2018-08-04",
         "showlegend": true,
         "type": "scattergl",
         "x": [
          -2.0980233212527013
         ],
         "xaxis": "x",
         "y": [
          -9.460418432007009
         ],
         "yaxis": "y"
        },
        {
         "hovertemplate": "date=2018-08-05<br>pc1=%{x}<br>pc2=%{y}<extra></extra>",
         "legendgroup": "2018-08-05",
         "marker": {
          "color": "#636efa",
          "symbol": "circle"
         },
         "mode": "markers",
         "name": "2018-08-05",
         "showlegend": true,
         "type": "scattergl",
         "x": [
          -1.5157383220625573
         ],
         "xaxis": "x",
         "y": [
          -16.64286181008905
         ],
         "yaxis": "y"
        },
        {
         "hovertemplate": "date=2018-08-06<br>pc1=%{x}<br>pc2=%{y}<extra></extra>",
         "legendgroup": "2018-08-06",
         "marker": {
          "color": "#EF553B",
          "symbol": "circle"
         },
         "mode": "markers",
         "name": "2018-08-06",
         "showlegend": true,
         "type": "scattergl",
         "x": [
          -1.228740974782338
         ],
         "xaxis": "x",
         "y": [
          -6.511166810049888
         ],
         "yaxis": "y"
        },
        {
         "hovertemplate": "date=2018-08-07<br>pc1=%{x}<br>pc2=%{y}<extra></extra>",
         "legendgroup": "2018-08-07",
         "marker": {
          "color": "#00cc96",
          "symbol": "circle"
         },
         "mode": "markers",
         "name": "2018-08-07",
         "showlegend": true,
         "type": "scattergl",
         "x": [
          -2.515019555700847
         ],
         "xaxis": "x",
         "y": [
          -8.569266482370645
         ],
         "yaxis": "y"
        },
        {
         "hovertemplate": "date=2018-08-08<br>pc1=%{x}<br>pc2=%{y}<extra></extra>",
         "legendgroup": "2018-08-08",
         "marker": {
          "color": "#ab63fa",
          "symbol": "circle"
         },
         "mode": "markers",
         "name": "2018-08-08",
         "showlegend": true,
         "type": "scattergl",
         "x": [
          -7.570074197346341
         ],
         "xaxis": "x",
         "y": [
          -9.952248831864079
         ],
         "yaxis": "y"
        },
        {
         "hovertemplate": "date=2018-08-09<br>pc1=%{x}<br>pc2=%{y}<extra></extra>",
         "legendgroup": "2018-08-09",
         "marker": {
          "color": "#FFA15A",
          "symbol": "circle"
         },
         "mode": "markers",
         "name": "2018-08-09",
         "showlegend": true,
         "type": "scattergl",
         "x": [
          -5.800008506542577
         ],
         "xaxis": "x",
         "y": [
          -6.254250468031179
         ],
         "yaxis": "y"
        },
        {
         "hovertemplate": "date=2018-08-10<br>pc1=%{x}<br>pc2=%{y}<extra></extra>",
         "legendgroup": "2018-08-10",
         "marker": {
          "color": "#19d3f3",
          "symbol": "circle"
         },
         "mode": "markers",
         "name": "2018-08-10",
         "showlegend": true,
         "type": "scattergl",
         "x": [
          -10.668045101377395
         ],
         "xaxis": "x",
         "y": [
          -7.485868378904124
         ],
         "yaxis": "y"
        },
        {
         "hovertemplate": "date=2018-08-11<br>pc1=%{x}<br>pc2=%{y}<extra></extra>",
         "legendgroup": "2018-08-11",
         "marker": {
          "color": "#FF6692",
          "symbol": "circle"
         },
         "mode": "markers",
         "name": "2018-08-11",
         "showlegend": true,
         "type": "scattergl",
         "x": [
          1.870512444608253
         ],
         "xaxis": "x",
         "y": [
          0.6070058880083954
         ],
         "yaxis": "y"
        },
        {
         "hovertemplate": "date=2018-08-12<br>pc1=%{x}<br>pc2=%{y}<extra></extra>",
         "legendgroup": "2018-08-12",
         "marker": {
          "color": "#B6E880",
          "symbol": "circle"
         },
         "mode": "markers",
         "name": "2018-08-12",
         "showlegend": true,
         "type": "scattergl",
         "x": [
          33.1297757228975
         ],
         "xaxis": "x",
         "y": [
          37.86197447118108
         ],
         "yaxis": "y"
        },
        {
         "hovertemplate": "date=2018-08-13<br>pc1=%{x}<br>pc2=%{y}<extra></extra>",
         "legendgroup": "2018-08-13",
         "marker": {
          "color": "#FF97FF",
          "symbol": "circle"
         },
         "mode": "markers",
         "name": "2018-08-13",
         "showlegend": true,
         "type": "scattergl",
         "x": [
          24.154819378949686
         ],
         "xaxis": "x",
         "y": [
          38.551228009481655
         ],
         "yaxis": "y"
        },
        {
         "hovertemplate": "date=2018-08-14<br>pc1=%{x}<br>pc2=%{y}<extra></extra>",
         "legendgroup": "2018-08-14",
         "marker": {
          "color": "#FECB52",
          "symbol": "circle"
         },
         "mode": "markers",
         "name": "2018-08-14",
         "showlegend": true,
         "type": "scattergl",
         "x": [
          -1.494954414653051
         ],
         "xaxis": "x",
         "y": [
          3.147887526610565
         ],
         "yaxis": "y"
        },
        {
         "hovertemplate": "date=2018-08-15<br>pc1=%{x}<br>pc2=%{y}<extra></extra>",
         "legendgroup": "2018-08-15",
         "marker": {
          "color": "#636efa",
          "symbol": "circle"
         },
         "mode": "markers",
         "name": "2018-08-15",
         "showlegend": true,
         "type": "scattergl",
         "x": [
          -10.055417770945576
         ],
         "xaxis": "x",
         "y": [
          -13.180300786774216
         ],
         "yaxis": "y"
        },
        {
         "hovertemplate": "date=2018-08-16<br>pc1=%{x}<br>pc2=%{y}<extra></extra>",
         "legendgroup": "2018-08-16",
         "marker": {
          "color": "#EF553B",
          "symbol": "circle"
         },
         "mode": "markers",
         "name": "2018-08-16",
         "showlegend": true,
         "type": "scattergl",
         "x": [
          -5.841891015737024
         ],
         "xaxis": "x",
         "y": [
          -6.518706755224644
         ],
         "yaxis": "y"
        },
        {
         "hovertemplate": "date=2018-08-17<br>pc1=%{x}<br>pc2=%{y}<extra></extra>",
         "legendgroup": "2018-08-17",
         "marker": {
          "color": "#00cc96",
          "symbol": "circle"
         },
         "mode": "markers",
         "name": "2018-08-17",
         "showlegend": true,
         "type": "scattergl",
         "x": [
          -7.695634098433212
         ],
         "xaxis": "x",
         "y": [
          -11.414607892383795
         ],
         "yaxis": "y"
        },
        {
         "hovertemplate": "date=2018-08-18<br>pc1=%{x}<br>pc2=%{y}<extra></extra>",
         "legendgroup": "2018-08-18",
         "marker": {
          "color": "#ab63fa",
          "symbol": "circle"
         },
         "mode": "markers",
         "name": "2018-08-18",
         "showlegend": true,
         "type": "scattergl",
         "x": [
          -9.368731074208853
         ],
         "xaxis": "x",
         "y": [
          -17.6795019026518
         ],
         "yaxis": "y"
        },
        {
         "hovertemplate": "date=2018-08-19<br>pc1=%{x}<br>pc2=%{y}<extra></extra>",
         "legendgroup": "2018-08-19",
         "marker": {
          "color": "#FFA15A",
          "symbol": "circle"
         },
         "mode": "markers",
         "name": "2018-08-19",
         "showlegend": true,
         "type": "scattergl",
         "x": [
          0.6307668689369231
         ],
         "xaxis": "x",
         "y": [
          -11.873774446239542
         ],
         "yaxis": "y"
        },
        {
         "hovertemplate": "date=2018-08-20<br>pc1=%{x}<br>pc2=%{y}<extra></extra>",
         "legendgroup": "2018-08-20",
         "marker": {
          "color": "#19d3f3",
          "symbol": "circle"
         },
         "mode": "markers",
         "name": "2018-08-20",
         "showlegend": true,
         "type": "scattergl",
         "x": [
          -7.742925898191706
         ],
         "xaxis": "x",
         "y": [
          -13.307249169618835
         ],
         "yaxis": "y"
        },
        {
         "hovertemplate": "date=2018-08-21<br>pc1=%{x}<br>pc2=%{y}<extra></extra>",
         "legendgroup": "2018-08-21",
         "marker": {
          "color": "#FF6692",
          "symbol": "circle"
         },
         "mode": "markers",
         "name": "2018-08-21",
         "showlegend": true,
         "type": "scattergl",
         "x": [
          -6.5302490072611095
         ],
         "xaxis": "x",
         "y": [
          -10.309220314684934
         ],
         "yaxis": "y"
        },
        {
         "hovertemplate": "date=2018-08-22<br>pc1=%{x}<br>pc2=%{y}<extra></extra>",
         "legendgroup": "2018-08-22",
         "marker": {
          "color": "#B6E880",
          "symbol": "circle"
         },
         "mode": "markers",
         "name": "2018-08-22",
         "showlegend": true,
         "type": "scattergl",
         "x": [
          -6.864531784993773
         ],
         "xaxis": "x",
         "y": [
          -4.720840636062782
         ],
         "yaxis": "y"
        },
        {
         "hovertemplate": "date=2018-08-23<br>pc1=%{x}<br>pc2=%{y}<extra></extra>",
         "legendgroup": "2018-08-23",
         "marker": {
          "color": "#FF97FF",
          "symbol": "circle"
         },
         "mode": "markers",
         "name": "2018-08-23",
         "showlegend": true,
         "type": "scattergl",
         "x": [
          -12.8481781958267
         ],
         "xaxis": "x",
         "y": [
          -7.733263356306916
         ],
         "yaxis": "y"
        },
        {
         "hovertemplate": "date=2018-08-24<br>pc1=%{x}<br>pc2=%{y}<extra></extra>",
         "legendgroup": "2018-08-24",
         "marker": {
          "color": "#FECB52",
          "symbol": "circle"
         },
         "mode": "markers",
         "name": "2018-08-24",
         "showlegend": true,
         "type": "scattergl",
         "x": [
          -3.584127392087338
         ],
         "xaxis": "x",
         "y": [
          -6.910145503708055
         ],
         "yaxis": "y"
        },
        {
         "hovertemplate": "date=2018-08-25<br>pc1=%{x}<br>pc2=%{y}<extra></extra>",
         "legendgroup": "2018-08-25",
         "marker": {
          "color": "#636efa",
          "symbol": "circle"
         },
         "mode": "markers",
         "name": "2018-08-25",
         "showlegend": true,
         "type": "scattergl",
         "x": [
          -0.9259151668198183
         ],
         "xaxis": "x",
         "y": [
          -15.075675979508881
         ],
         "yaxis": "y"
        },
        {
         "hovertemplate": "date=2018-08-26<br>pc1=%{x}<br>pc2=%{y}<extra></extra>",
         "legendgroup": "2018-08-26",
         "marker": {
          "color": "#EF553B",
          "symbol": "circle"
         },
         "mode": "markers",
         "name": "2018-08-26",
         "showlegend": true,
         "type": "scattergl",
         "x": [
          2.898463516814285
         ],
         "xaxis": "x",
         "y": [
          -17.296066252388542
         ],
         "yaxis": "y"
        },
        {
         "hovertemplate": "date=2018-08-27<br>pc1=%{x}<br>pc2=%{y}<extra></extra>",
         "legendgroup": "2018-08-27",
         "marker": {
          "color": "#00cc96",
          "symbol": "circle"
         },
         "mode": "markers",
         "name": "2018-08-27",
         "showlegend": true,
         "type": "scattergl",
         "x": [
          -11.233475243174226
         ],
         "xaxis": "x",
         "y": [
          -5.723844630837043
         ],
         "yaxis": "y"
        },
        {
         "hovertemplate": "date=2018-08-28<br>pc1=%{x}<br>pc2=%{y}<extra></extra>",
         "legendgroup": "2018-08-28",
         "marker": {
          "color": "#ab63fa",
          "symbol": "circle"
         },
         "mode": "markers",
         "name": "2018-08-28",
         "showlegend": true,
         "type": "scattergl",
         "x": [
          -12.140296796137413
         ],
         "xaxis": "x",
         "y": [
          -11.711161575741208
         ],
         "yaxis": "y"
        },
        {
         "hovertemplate": "date=2018-08-29<br>pc1=%{x}<br>pc2=%{y}<extra></extra>",
         "legendgroup": "2018-08-29",
         "marker": {
          "color": "#FFA15A",
          "symbol": "circle"
         },
         "mode": "markers",
         "name": "2018-08-29",
         "showlegend": true,
         "type": "scattergl",
         "x": [
          -9.845369092475707
         ],
         "xaxis": "x",
         "y": [
          -5.2601631806630635
         ],
         "yaxis": "y"
        },
        {
         "hovertemplate": "date=2018-08-30<br>pc1=%{x}<br>pc2=%{y}<extra></extra>",
         "legendgroup": "2018-08-30",
         "marker": {
          "color": "#19d3f3",
          "symbol": "circle"
         },
         "mode": "markers",
         "name": "2018-08-30",
         "showlegend": true,
         "type": "scattergl",
         "x": [
          -11.768826412329055
         ],
         "xaxis": "x",
         "y": [
          -5.942589360409792
         ],
         "yaxis": "y"
        },
        {
         "hovertemplate": "date=2018-08-31<br>pc1=%{x}<br>pc2=%{y}<extra></extra>",
         "legendgroup": "2018-08-31",
         "marker": {
          "color": "#FF6692",
          "symbol": "circle"
         },
         "mode": "markers",
         "name": "2018-08-31",
         "showlegend": true,
         "type": "scattergl",
         "x": [
          -19.970695990790503
         ],
         "xaxis": "x",
         "y": [
          -11.856306449727471
         ],
         "yaxis": "y"
        },
        {
         "hovertemplate": "date=2018-09-01<br>pc1=%{x}<br>pc2=%{y}<extra></extra>",
         "legendgroup": "2018-09-01",
         "marker": {
          "color": "#B6E880",
          "symbol": "circle"
         },
         "mode": "markers",
         "name": "2018-09-01",
         "showlegend": true,
         "type": "scattergl",
         "x": [
          -0.5048636195024294
         ],
         "xaxis": "x",
         "y": [
          -10.760093279066334
         ],
         "yaxis": "y"
        },
        {
         "hovertemplate": "date=2018-09-02<br>pc1=%{x}<br>pc2=%{y}<extra></extra>",
         "legendgroup": "2018-09-02",
         "marker": {
          "color": "#FF97FF",
          "symbol": "circle"
         },
         "mode": "markers",
         "name": "2018-09-02",
         "showlegend": true,
         "type": "scattergl",
         "x": [
          -5.9733404781271915
         ],
         "xaxis": "x",
         "y": [
          -13.832125458901437
         ],
         "yaxis": "y"
        },
        {
         "hovertemplate": "date=2018-09-03<br>pc1=%{x}<br>pc2=%{y}<extra></extra>",
         "legendgroup": "2018-09-03",
         "marker": {
          "color": "#FECB52",
          "symbol": "circle"
         },
         "mode": "markers",
         "name": "2018-09-03",
         "showlegend": true,
         "type": "scattergl",
         "x": [
          36.83120272220079
         ],
         "xaxis": "x",
         "y": [
          -31.44210654238507
         ],
         "yaxis": "y"
        },
        {
         "hovertemplate": "date=2018-09-04<br>pc1=%{x}<br>pc2=%{y}<extra></extra>",
         "legendgroup": "2018-09-04",
         "marker": {
          "color": "#636efa",
          "symbol": "circle"
         },
         "mode": "markers",
         "name": "2018-09-04",
         "showlegend": true,
         "type": "scattergl",
         "x": [
          -15.932973838263392
         ],
         "xaxis": "x",
         "y": [
          -3.183773597991435
         ],
         "yaxis": "y"
        },
        {
         "hovertemplate": "date=2018-09-05<br>pc1=%{x}<br>pc2=%{y}<extra></extra>",
         "legendgroup": "2018-09-05",
         "marker": {
          "color": "#EF553B",
          "symbol": "circle"
         },
         "mode": "markers",
         "name": "2018-09-05",
         "showlegend": true,
         "type": "scattergl",
         "x": [
          -21.171073648763524
         ],
         "xaxis": "x",
         "y": [
          -5.491686691785001
         ],
         "yaxis": "y"
        },
        {
         "hovertemplate": "date=2018-09-06<br>pc1=%{x}<br>pc2=%{y}<extra></extra>",
         "legendgroup": "2018-09-06",
         "marker": {
          "color": "#00cc96",
          "symbol": "circle"
         },
         "mode": "markers",
         "name": "2018-09-06",
         "showlegend": true,
         "type": "scattergl",
         "x": [
          -19.940610728953512
         ],
         "xaxis": "x",
         "y": [
          -3.6202708791892997
         ],
         "yaxis": "y"
        },
        {
         "hovertemplate": "date=2018-09-07<br>pc1=%{x}<br>pc2=%{y}<extra></extra>",
         "legendgroup": "2018-09-07",
         "marker": {
          "color": "#ab63fa",
          "symbol": "circle"
         },
         "mode": "markers",
         "name": "2018-09-07",
         "showlegend": true,
         "type": "scattergl",
         "x": [
          -13.969737503758399
         ],
         "xaxis": "x",
         "y": [
          -9.056631955718169
         ],
         "yaxis": "y"
        },
        {
         "hovertemplate": "date=2018-09-08<br>pc1=%{x}<br>pc2=%{y}<extra></extra>",
         "legendgroup": "2018-09-08",
         "marker": {
          "color": "#FFA15A",
          "symbol": "circle"
         },
         "mode": "markers",
         "name": "2018-09-08",
         "showlegend": true,
         "type": "scattergl",
         "x": [
          5.503469166416745
         ],
         "xaxis": "x",
         "y": [
          -14.102745529966475
         ],
         "yaxis": "y"
        },
        {
         "hovertemplate": "date=2018-09-09<br>pc1=%{x}<br>pc2=%{y}<extra></extra>",
         "legendgroup": "2018-09-09",
         "marker": {
          "color": "#19d3f3",
          "symbol": "circle"
         },
         "mode": "markers",
         "name": "2018-09-09",
         "showlegend": true,
         "type": "scattergl",
         "x": [
          13.346948755541526
         ],
         "xaxis": "x",
         "y": [
          -15.276367976244252
         ],
         "yaxis": "y"
        },
        {
         "hovertemplate": "date=2018-09-10<br>pc1=%{x}<br>pc2=%{y}<extra></extra>",
         "legendgroup": "2018-09-10",
         "marker": {
          "color": "#FF6692",
          "symbol": "circle"
         },
         "mode": "markers",
         "name": "2018-09-10",
         "showlegend": true,
         "type": "scattergl",
         "x": [
          -13.438613205543179
         ],
         "xaxis": "x",
         "y": [
          -8.085835899359264
         ],
         "yaxis": "y"
        },
        {
         "hovertemplate": "date=2018-09-11<br>pc1=%{x}<br>pc2=%{y}<extra></extra>",
         "legendgroup": "2018-09-11",
         "marker": {
          "color": "#B6E880",
          "symbol": "circle"
         },
         "mode": "markers",
         "name": "2018-09-11",
         "showlegend": true,
         "type": "scattergl",
         "x": [
          -13.993577495459762
         ],
         "xaxis": "x",
         "y": [
          -10.118652913856131
         ],
         "yaxis": "y"
        },
        {
         "hovertemplate": "date=2018-09-12<br>pc1=%{x}<br>pc2=%{y}<extra></extra>",
         "legendgroup": "2018-09-12",
         "marker": {
          "color": "#FF97FF",
          "symbol": "circle"
         },
         "mode": "markers",
         "name": "2018-09-12",
         "showlegend": true,
         "type": "scattergl",
         "x": [
          -15.477264798239217
         ],
         "xaxis": "x",
         "y": [
          -9.946447188763706
         ],
         "yaxis": "y"
        },
        {
         "hovertemplate": "date=2018-09-13<br>pc1=%{x}<br>pc2=%{y}<extra></extra>",
         "legendgroup": "2018-09-13",
         "marker": {
          "color": "#FECB52",
          "symbol": "circle"
         },
         "mode": "markers",
         "name": "2018-09-13",
         "showlegend": true,
         "type": "scattergl",
         "x": [
          -14.960334335609833
         ],
         "xaxis": "x",
         "y": [
          -13.13115162977548
         ],
         "yaxis": "y"
        },
        {
         "hovertemplate": "date=2018-09-14<br>pc1=%{x}<br>pc2=%{y}<extra></extra>",
         "legendgroup": "2018-09-14",
         "marker": {
          "color": "#636efa",
          "symbol": "circle"
         },
         "mode": "markers",
         "name": "2018-09-14",
         "showlegend": true,
         "type": "scattergl",
         "x": [
          -14.228291981603027
         ],
         "xaxis": "x",
         "y": [
          -8.218550863454427
         ],
         "yaxis": "y"
        },
        {
         "hovertemplate": "date=2018-09-15<br>pc1=%{x}<br>pc2=%{y}<extra></extra>",
         "legendgroup": "2018-09-15",
         "marker": {
          "color": "#EF553B",
          "symbol": "circle"
         },
         "mode": "markers",
         "name": "2018-09-15",
         "showlegend": true,
         "type": "scattergl",
         "x": [
          3.6199936739626906
         ],
         "xaxis": "x",
         "y": [
          -13.622470935021992
         ],
         "yaxis": "y"
        },
        {
         "hovertemplate": "date=2018-09-16<br>pc1=%{x}<br>pc2=%{y}<extra></extra>",
         "legendgroup": "2018-09-16",
         "marker": {
          "color": "#00cc96",
          "symbol": "circle"
         },
         "mode": "markers",
         "name": "2018-09-16",
         "showlegend": true,
         "type": "scattergl",
         "x": [
          4.528746038296376
         ],
         "xaxis": "x",
         "y": [
          -24.977945305480286
         ],
         "yaxis": "y"
        },
        {
         "hovertemplate": "date=2018-09-17<br>pc1=%{x}<br>pc2=%{y}<extra></extra>",
         "legendgroup": "2018-09-17",
         "marker": {
          "color": "#ab63fa",
          "symbol": "circle"
         },
         "mode": "markers",
         "name": "2018-09-17",
         "showlegend": true,
         "type": "scattergl",
         "x": [
          -14.098096396340878
         ],
         "xaxis": "x",
         "y": [
          -9.372960729077251
         ],
         "yaxis": "y"
        },
        {
         "hovertemplate": "date=2018-09-18<br>pc1=%{x}<br>pc2=%{y}<extra></extra>",
         "legendgroup": "2018-09-18",
         "marker": {
          "color": "#FFA15A",
          "symbol": "circle"
         },
         "mode": "markers",
         "name": "2018-09-18",
         "showlegend": true,
         "type": "scattergl",
         "x": [
          -11.20169423594444
         ],
         "xaxis": "x",
         "y": [
          -9.833407356706477
         ],
         "yaxis": "y"
        },
        {
         "hovertemplate": "date=2018-09-19<br>pc1=%{x}<br>pc2=%{y}<extra></extra>",
         "legendgroup": "2018-09-19",
         "marker": {
          "color": "#19d3f3",
          "symbol": "circle"
         },
         "mode": "markers",
         "name": "2018-09-19",
         "showlegend": true,
         "type": "scattergl",
         "x": [
          -8.44970936050708
         ],
         "xaxis": "x",
         "y": [
          -6.639471517767302
         ],
         "yaxis": "y"
        },
        {
         "hovertemplate": "date=2018-09-20<br>pc1=%{x}<br>pc2=%{y}<extra></extra>",
         "legendgroup": "2018-09-20",
         "marker": {
          "color": "#FF6692",
          "symbol": "circle"
         },
         "mode": "markers",
         "name": "2018-09-20",
         "showlegend": true,
         "type": "scattergl",
         "x": [
          -13.141852958867807
         ],
         "xaxis": "x",
         "y": [
          -7.054224112275689
         ],
         "yaxis": "y"
        },
        {
         "hovertemplate": "date=2018-09-21<br>pc1=%{x}<br>pc2=%{y}<extra></extra>",
         "legendgroup": "2018-09-21",
         "marker": {
          "color": "#B6E880",
          "symbol": "circle"
         },
         "mode": "markers",
         "name": "2018-09-21",
         "showlegend": true,
         "type": "scattergl",
         "x": [
          -18.02095690638645
         ],
         "xaxis": "x",
         "y": [
          -15.70911526161597
         ],
         "yaxis": "y"
        },
        {
         "hovertemplate": "date=2018-09-22<br>pc1=%{x}<br>pc2=%{y}<extra></extra>",
         "legendgroup": "2018-09-22",
         "marker": {
          "color": "#FF97FF",
          "symbol": "circle"
         },
         "mode": "markers",
         "name": "2018-09-22",
         "showlegend": true,
         "type": "scattergl",
         "x": [
          -0.8884357037387468
         ],
         "xaxis": "x",
         "y": [
          -27.162001444264547
         ],
         "yaxis": "y"
        },
        {
         "hovertemplate": "date=2018-09-23<br>pc1=%{x}<br>pc2=%{y}<extra></extra>",
         "legendgroup": "2018-09-23",
         "marker": {
          "color": "#FECB52",
          "symbol": "circle"
         },
         "mode": "markers",
         "name": "2018-09-23",
         "showlegend": true,
         "type": "scattergl",
         "x": [
          11.770610063774805
         ],
         "xaxis": "x",
         "y": [
          -21.16432486709598
         ],
         "yaxis": "y"
        },
        {
         "hovertemplate": "date=2018-09-24<br>pc1=%{x}<br>pc2=%{y}<extra></extra>",
         "legendgroup": "2018-09-24",
         "marker": {
          "color": "#636efa",
          "symbol": "circle"
         },
         "mode": "markers",
         "name": "2018-09-24",
         "showlegend": true,
         "type": "scattergl",
         "x": [
          -12.444364572725181
         ],
         "xaxis": "x",
         "y": [
          -5.072447838838935
         ],
         "yaxis": "y"
        },
        {
         "hovertemplate": "date=2018-09-25<br>pc1=%{x}<br>pc2=%{y}<extra></extra>",
         "legendgroup": "2018-09-25",
         "marker": {
          "color": "#EF553B",
          "symbol": "circle"
         },
         "mode": "markers",
         "name": "2018-09-25",
         "showlegend": true,
         "type": "scattergl",
         "x": [
          -11.408452534093858
         ],
         "xaxis": "x",
         "y": [
          -7.98636429464836
         ],
         "yaxis": "y"
        },
        {
         "hovertemplate": "date=2018-09-26<br>pc1=%{x}<br>pc2=%{y}<extra></extra>",
         "legendgroup": "2018-09-26",
         "marker": {
          "color": "#00cc96",
          "symbol": "circle"
         },
         "mode": "markers",
         "name": "2018-09-26",
         "showlegend": true,
         "type": "scattergl",
         "x": [
          -12.551528878100818
         ],
         "xaxis": "x",
         "y": [
          -5.093567158364251
         ],
         "yaxis": "y"
        },
        {
         "hovertemplate": "date=2018-09-27<br>pc1=%{x}<br>pc2=%{y}<extra></extra>",
         "legendgroup": "2018-09-27",
         "marker": {
          "color": "#ab63fa",
          "symbol": "circle"
         },
         "mode": "markers",
         "name": "2018-09-27",
         "showlegend": true,
         "type": "scattergl",
         "x": [
          -18.328289669555744
         ],
         "xaxis": "x",
         "y": [
          -13.512738133361722
         ],
         "yaxis": "y"
        },
        {
         "hovertemplate": "date=2018-09-28<br>pc1=%{x}<br>pc2=%{y}<extra></extra>",
         "legendgroup": "2018-09-28",
         "marker": {
          "color": "#FFA15A",
          "symbol": "circle"
         },
         "mode": "markers",
         "name": "2018-09-28",
         "showlegend": true,
         "type": "scattergl",
         "x": [
          -12.580553640137254
         ],
         "xaxis": "x",
         "y": [
          -12.475083806905559
         ],
         "yaxis": "y"
        },
        {
         "hovertemplate": "date=2018-09-29<br>pc1=%{x}<br>pc2=%{y}<extra></extra>",
         "legendgroup": "2018-09-29",
         "marker": {
          "color": "#19d3f3",
          "symbol": "circle"
         },
         "mode": "markers",
         "name": "2018-09-29",
         "showlegend": true,
         "type": "scattergl",
         "x": [
          5.04466392075353
         ],
         "xaxis": "x",
         "y": [
          -14.253753810428258
         ],
         "yaxis": "y"
        },
        {
         "hovertemplate": "date=2018-09-30<br>pc1=%{x}<br>pc2=%{y}<extra></extra>",
         "legendgroup": "2018-09-30",
         "marker": {
          "color": "#FF6692",
          "symbol": "circle"
         },
         "mode": "markers",
         "name": "2018-09-30",
         "showlegend": true,
         "type": "scattergl",
         "x": [
          12.888225782214747
         ],
         "xaxis": "x",
         "y": [
          -17.279723680031314
         ],
         "yaxis": "y"
        },
        {
         "hovertemplate": "date=2018-10-01<br>pc1=%{x}<br>pc2=%{y}<extra></extra>",
         "legendgroup": "2018-10-01",
         "marker": {
          "color": "#B6E880",
          "symbol": "circle"
         },
         "mode": "markers",
         "name": "2018-10-01",
         "showlegend": true,
         "type": "scattergl",
         "x": [
          -11.574852863055604
         ],
         "xaxis": "x",
         "y": [
          -3.670267634475611
         ],
         "yaxis": "y"
        },
        {
         "hovertemplate": "date=2018-10-02<br>pc1=%{x}<br>pc2=%{y}<extra></extra>",
         "legendgroup": "2018-10-02",
         "marker": {
          "color": "#FF97FF",
          "symbol": "circle"
         },
         "mode": "markers",
         "name": "2018-10-02",
         "showlegend": true,
         "type": "scattergl",
         "x": [
          -12.316788259995556
         ],
         "xaxis": "x",
         "y": [
          -6.898242075109251
         ],
         "yaxis": "y"
        },
        {
         "hovertemplate": "date=2018-10-03<br>pc1=%{x}<br>pc2=%{y}<extra></extra>",
         "legendgroup": "2018-10-03",
         "marker": {
          "color": "#FECB52",
          "symbol": "circle"
         },
         "mode": "markers",
         "name": "2018-10-03",
         "showlegend": true,
         "type": "scattergl",
         "x": [
          -12.807015606114707
         ],
         "xaxis": "x",
         "y": [
          -4.831569591892354
         ],
         "yaxis": "y"
        },
        {
         "hovertemplate": "date=2018-10-04<br>pc1=%{x}<br>pc2=%{y}<extra></extra>",
         "legendgroup": "2018-10-04",
         "marker": {
          "color": "#636efa",
          "symbol": "circle"
         },
         "mode": "markers",
         "name": "2018-10-04",
         "showlegend": true,
         "type": "scattergl",
         "x": [
          -12.26379445366048
         ],
         "xaxis": "x",
         "y": [
          -7.013656976572304
         ],
         "yaxis": "y"
        },
        {
         "hovertemplate": "date=2018-10-05<br>pc1=%{x}<br>pc2=%{y}<extra></extra>",
         "legendgroup": "2018-10-05",
         "marker": {
          "color": "#EF553B",
          "symbol": "circle"
         },
         "mode": "markers",
         "name": "2018-10-05",
         "showlegend": true,
         "type": "scattergl",
         "x": [
          -7.951527336625387
         ],
         "xaxis": "x",
         "y": [
          -10.560721766758737
         ],
         "yaxis": "y"
        },
        {
         "hovertemplate": "date=2018-10-06<br>pc1=%{x}<br>pc2=%{y}<extra></extra>",
         "legendgroup": "2018-10-06",
         "marker": {
          "color": "#00cc96",
          "symbol": "circle"
         },
         "mode": "markers",
         "name": "2018-10-06",
         "showlegend": true,
         "type": "scattergl",
         "x": [
          9.056961313225104
         ],
         "xaxis": "x",
         "y": [
          -12.17086380893169
         ],
         "yaxis": "y"
        },
        {
         "hovertemplate": "date=2018-10-07<br>pc1=%{x}<br>pc2=%{y}<extra></extra>",
         "legendgroup": "2018-10-07",
         "marker": {
          "color": "#ab63fa",
          "symbol": "circle"
         },
         "mode": "markers",
         "name": "2018-10-07",
         "showlegend": true,
         "type": "scattergl",
         "x": [
          -3.4468491167763435
         ],
         "xaxis": "x",
         "y": [
          -13.321294530102707
         ],
         "yaxis": "y"
        },
        {
         "hovertemplate": "date=2018-10-08<br>pc1=%{x}<br>pc2=%{y}<extra></extra>",
         "legendgroup": "2018-10-08",
         "marker": {
          "color": "#FFA15A",
          "symbol": "circle"
         },
         "mode": "markers",
         "name": "2018-10-08",
         "showlegend": true,
         "type": "scattergl",
         "x": [
          1.5417167818868165
         ],
         "xaxis": "x",
         "y": [
          -7.1871633804858925
         ],
         "yaxis": "y"
        },
        {
         "hovertemplate": "date=2018-10-09<br>pc1=%{x}<br>pc2=%{y}<extra></extra>",
         "legendgroup": "2018-10-09",
         "marker": {
          "color": "#19d3f3",
          "symbol": "circle"
         },
         "mode": "markers",
         "name": "2018-10-09",
         "showlegend": true,
         "type": "scattergl",
         "x": [
          -11.612959749924647
         ],
         "xaxis": "x",
         "y": [
          -5.38777912992533
         ],
         "yaxis": "y"
        },
        {
         "hovertemplate": "date=2018-10-10<br>pc1=%{x}<br>pc2=%{y}<extra></extra>",
         "legendgroup": "2018-10-10",
         "marker": {
          "color": "#FF6692",
          "symbol": "circle"
         },
         "mode": "markers",
         "name": "2018-10-10",
         "showlegend": true,
         "type": "scattergl",
         "x": [
          -9.554312615018084
         ],
         "xaxis": "x",
         "y": [
          -8.04036981790286
         ],
         "yaxis": "y"
        },
        {
         "hovertemplate": "date=2018-10-11<br>pc1=%{x}<br>pc2=%{y}<extra></extra>",
         "legendgroup": "2018-10-11",
         "marker": {
          "color": "#B6E880",
          "symbol": "circle"
         },
         "mode": "markers",
         "name": "2018-10-11",
         "showlegend": true,
         "type": "scattergl",
         "x": [
          -12.31928196239474
         ],
         "xaxis": "x",
         "y": [
          -2.011279952410584
         ],
         "yaxis": "y"
        },
        {
         "hovertemplate": "date=2018-10-12<br>pc1=%{x}<br>pc2=%{y}<extra></extra>",
         "legendgroup": "2018-10-12",
         "marker": {
          "color": "#FF97FF",
          "symbol": "circle"
         },
         "mode": "markers",
         "name": "2018-10-12",
         "showlegend": true,
         "type": "scattergl",
         "x": [
          -8.152321338503508
         ],
         "xaxis": "x",
         "y": [
          -6.2061905846836884
         ],
         "yaxis": "y"
        },
        {
         "hovertemplate": "date=2018-10-13<br>pc1=%{x}<br>pc2=%{y}<extra></extra>",
         "legendgroup": "2018-10-13",
         "marker": {
          "color": "#FECB52",
          "symbol": "circle"
         },
         "mode": "markers",
         "name": "2018-10-13",
         "showlegend": true,
         "type": "scattergl",
         "x": [
          0.11144237262205646
         ],
         "xaxis": "x",
         "y": [
          -22.211512469033355
         ],
         "yaxis": "y"
        },
        {
         "hovertemplate": "date=2018-10-14<br>pc1=%{x}<br>pc2=%{y}<extra></extra>",
         "legendgroup": "2018-10-14",
         "marker": {
          "color": "#636efa",
          "symbol": "circle"
         },
         "mode": "markers",
         "name": "2018-10-14",
         "showlegend": true,
         "type": "scattergl",
         "x": [
          14.264969678116515
         ],
         "xaxis": "x",
         "y": [
          -15.306015857903736
         ],
         "yaxis": "y"
        },
        {
         "hovertemplate": "date=2018-10-15<br>pc1=%{x}<br>pc2=%{y}<extra></extra>",
         "legendgroup": "2018-10-15",
         "marker": {
          "color": "#EF553B",
          "symbol": "circle"
         },
         "mode": "markers",
         "name": "2018-10-15",
         "showlegend": true,
         "type": "scattergl",
         "x": [
          -12.157653261703256
         ],
         "xaxis": "x",
         "y": [
          -5.90806708401625
         ],
         "yaxis": "y"
        },
        {
         "hovertemplate": "date=2018-10-16<br>pc1=%{x}<br>pc2=%{y}<extra></extra>",
         "legendgroup": "2018-10-16",
         "marker": {
          "color": "#00cc96",
          "symbol": "circle"
         },
         "mode": "markers",
         "name": "2018-10-16",
         "showlegend": true,
         "type": "scattergl",
         "x": [
          -10.629505850341213
         ],
         "xaxis": "x",
         "y": [
          -4.984491216158603
         ],
         "yaxis": "y"
        },
        {
         "hovertemplate": "date=2018-10-17<br>pc1=%{x}<br>pc2=%{y}<extra></extra>",
         "legendgroup": "2018-10-17",
         "marker": {
          "color": "#ab63fa",
          "symbol": "circle"
         },
         "mode": "markers",
         "name": "2018-10-17",
         "showlegend": true,
         "type": "scattergl",
         "x": [
          -11.815515868808674
         ],
         "xaxis": "x",
         "y": [
          -4.417929067312063
         ],
         "yaxis": "y"
        },
        {
         "hovertemplate": "date=2018-10-18<br>pc1=%{x}<br>pc2=%{y}<extra></extra>",
         "legendgroup": "2018-10-18",
         "marker": {
          "color": "#FFA15A",
          "symbol": "circle"
         },
         "mode": "markers",
         "name": "2018-10-18",
         "showlegend": true,
         "type": "scattergl",
         "x": [
          -16.699019541887786
         ],
         "xaxis": "x",
         "y": [
          -12.306132945672385
         ],
         "yaxis": "y"
        },
        {
         "hovertemplate": "date=2018-10-19<br>pc1=%{x}<br>pc2=%{y}<extra></extra>",
         "legendgroup": "2018-10-19",
         "marker": {
          "color": "#19d3f3",
          "symbol": "circle"
         },
         "mode": "markers",
         "name": "2018-10-19",
         "showlegend": true,
         "type": "scattergl",
         "x": [
          -7.949430877891345
         ],
         "xaxis": "x",
         "y": [
          -5.479265586471865
         ],
         "yaxis": "y"
        },
        {
         "hovertemplate": "date=2018-10-20<br>pc1=%{x}<br>pc2=%{y}<extra></extra>",
         "legendgroup": "2018-10-20",
         "marker": {
          "color": "#FF6692",
          "symbol": "circle"
         },
         "mode": "markers",
         "name": "2018-10-20",
         "showlegend": true,
         "type": "scattergl",
         "x": [
          8.191233329580646
         ],
         "xaxis": "x",
         "y": [
          -13.288044591571744
         ],
         "yaxis": "y"
        },
        {
         "hovertemplate": "date=2018-10-21<br>pc1=%{x}<br>pc2=%{y}<extra></extra>",
         "legendgroup": "2018-10-21",
         "marker": {
          "color": "#B6E880",
          "symbol": "circle"
         },
         "mode": "markers",
         "name": "2018-10-21",
         "showlegend": true,
         "type": "scattergl",
         "x": [
          11.242965346999647
         ],
         "xaxis": "x",
         "y": [
          -18.13242927114564
         ],
         "yaxis": "y"
        },
        {
         "hovertemplate": "date=2018-10-22<br>pc1=%{x}<br>pc2=%{y}<extra></extra>",
         "legendgroup": "2018-10-22",
         "marker": {
          "color": "#FF97FF",
          "symbol": "circle"
         },
         "mode": "markers",
         "name": "2018-10-22",
         "showlegend": true,
         "type": "scattergl",
         "x": [
          -9.214442362054868
         ],
         "xaxis": "x",
         "y": [
          -0.45934119298595066
         ],
         "yaxis": "y"
        },
        {
         "hovertemplate": "date=2018-10-23<br>pc1=%{x}<br>pc2=%{y}<extra></extra>",
         "legendgroup": "2018-10-23",
         "marker": {
          "color": "#FECB52",
          "symbol": "circle"
         },
         "mode": "markers",
         "name": "2018-10-23",
         "showlegend": true,
         "type": "scattergl",
         "x": [
          -9.872290427371084
         ],
         "xaxis": "x",
         "y": [
          -3.832549833088672
         ],
         "yaxis": "y"
        },
        {
         "hovertemplate": "date=2018-10-24<br>pc1=%{x}<br>pc2=%{y}<extra></extra>",
         "legendgroup": "2018-10-24",
         "marker": {
          "color": "#636efa",
          "symbol": "circle"
         },
         "mode": "markers",
         "name": "2018-10-24",
         "showlegend": true,
         "type": "scattergl",
         "x": [
          -8.242619456993742
         ],
         "xaxis": "x",
         "y": [
          -0.8901069107068762
         ],
         "yaxis": "y"
        },
        {
         "hovertemplate": "date=2018-10-25<br>pc1=%{x}<br>pc2=%{y}<extra></extra>",
         "legendgroup": "2018-10-25",
         "marker": {
          "color": "#EF553B",
          "symbol": "circle"
         },
         "mode": "markers",
         "name": "2018-10-25",
         "showlegend": true,
         "type": "scattergl",
         "x": [
          -8.42192872623435
         ],
         "xaxis": "x",
         "y": [
          0.890019656650548
         ],
         "yaxis": "y"
        },
        {
         "hovertemplate": "date=2018-10-26<br>pc1=%{x}<br>pc2=%{y}<extra></extra>",
         "legendgroup": "2018-10-26",
         "marker": {
          "color": "#00cc96",
          "symbol": "circle"
         },
         "mode": "markers",
         "name": "2018-10-26",
         "showlegend": true,
         "type": "scattergl",
         "x": [
          -9.004753854602702
         ],
         "xaxis": "x",
         "y": [
          -4.149648804660611
         ],
         "yaxis": "y"
        },
        {
         "hovertemplate": "date=2018-10-27<br>pc1=%{x}<br>pc2=%{y}<extra></extra>",
         "legendgroup": "2018-10-27",
         "marker": {
          "color": "#ab63fa",
          "symbol": "circle"
         },
         "mode": "markers",
         "name": "2018-10-27",
         "showlegend": true,
         "type": "scattergl",
         "x": [
          9.274378687598777
         ],
         "xaxis": "x",
         "y": [
          -10.270747217628912
         ],
         "yaxis": "y"
        },
        {
         "hovertemplate": "date=2018-10-28<br>pc1=%{x}<br>pc2=%{y}<extra></extra>",
         "legendgroup": "2018-10-28",
         "marker": {
          "color": "#FFA15A",
          "symbol": "circle"
         },
         "mode": "markers",
         "name": "2018-10-28",
         "showlegend": true,
         "type": "scattergl",
         "x": [
          17.0376533019378
         ],
         "xaxis": "x",
         "y": [
          -10.528289715832333
         ],
         "yaxis": "y"
        },
        {
         "hovertemplate": "date=2018-10-29<br>pc1=%{x}<br>pc2=%{y}<extra></extra>",
         "legendgroup": "2018-10-29",
         "marker": {
          "color": "#19d3f3",
          "symbol": "circle"
         },
         "mode": "markers",
         "name": "2018-10-29",
         "showlegend": true,
         "type": "scattergl",
         "x": [
          -10.674763958206121
         ],
         "xaxis": "x",
         "y": [
          -2.317578604611523
         ],
         "yaxis": "y"
        },
        {
         "hovertemplate": "date=2018-10-30<br>pc1=%{x}<br>pc2=%{y}<extra></extra>",
         "legendgroup": "2018-10-30",
         "marker": {
          "color": "#FF6692",
          "symbol": "circle"
         },
         "mode": "markers",
         "name": "2018-10-30",
         "showlegend": true,
         "type": "scattergl",
         "x": [
          -7.50581633059591
         ],
         "xaxis": "x",
         "y": [
          0.5325373309743927
         ],
         "yaxis": "y"
        },
        {
         "hovertemplate": "date=2018-10-31<br>pc1=%{x}<br>pc2=%{y}<extra></extra>",
         "legendgroup": "2018-10-31",
         "marker": {
          "color": "#B6E880",
          "symbol": "circle"
         },
         "mode": "markers",
         "name": "2018-10-31",
         "showlegend": true,
         "type": "scattergl",
         "x": [
          -9.57866849382375
         ],
         "xaxis": "x",
         "y": [
          -4.197564440500283
         ],
         "yaxis": "y"
        },
        {
         "hovertemplate": "date=2018-11-01<br>pc1=%{x}<br>pc2=%{y}<extra></extra>",
         "legendgroup": "2018-11-01",
         "marker": {
          "color": "#FF97FF",
          "symbol": "circle"
         },
         "mode": "markers",
         "name": "2018-11-01",
         "showlegend": true,
         "type": "scattergl",
         "x": [
          -8.112487734281094
         ],
         "xaxis": "x",
         "y": [
          2.858732047380628
         ],
         "yaxis": "y"
        },
        {
         "hovertemplate": "date=2018-11-02<br>pc1=%{x}<br>pc2=%{y}<extra></extra>",
         "legendgroup": "2018-11-02",
         "marker": {
          "color": "#FECB52",
          "symbol": "circle"
         },
         "mode": "markers",
         "name": "2018-11-02",
         "showlegend": true,
         "type": "scattergl",
         "x": [
          -1.4890353129879135
         ],
         "xaxis": "x",
         "y": [
          2.633723594980981
         ],
         "yaxis": "y"
        },
        {
         "hovertemplate": "date=2018-11-03<br>pc1=%{x}<br>pc2=%{y}<extra></extra>",
         "legendgroup": "2018-11-03",
         "marker": {
          "color": "#636efa",
          "symbol": "circle"
         },
         "mode": "markers",
         "name": "2018-11-03",
         "showlegend": true,
         "type": "scattergl",
         "x": [
          4.910317014139688
         ],
         "xaxis": "x",
         "y": [
          -11.446726293620529
         ],
         "yaxis": "y"
        },
        {
         "hovertemplate": "date=2018-11-04<br>pc1=%{x}<br>pc2=%{y}<extra></extra>",
         "legendgroup": "2018-11-04",
         "marker": {
          "color": "#EF553B",
          "symbol": "circle"
         },
         "mode": "markers",
         "name": "2018-11-04",
         "showlegend": true,
         "type": "scattergl",
         "x": [
          18.461407239578588
         ],
         "xaxis": "x",
         "y": [
          -8.936329964848712
         ],
         "yaxis": "y"
        },
        {
         "hovertemplate": "date=2018-11-05<br>pc1=%{x}<br>pc2=%{y}<extra></extra>",
         "legendgroup": "2018-11-05",
         "marker": {
          "color": "#00cc96",
          "symbol": "circle"
         },
         "mode": "markers",
         "name": "2018-11-05",
         "showlegend": true,
         "type": "scattergl",
         "x": [
          -9.352440593898214
         ],
         "xaxis": "x",
         "y": [
          3.0899168393428407
         ],
         "yaxis": "y"
        },
        {
         "hovertemplate": "date=2018-11-06<br>pc1=%{x}<br>pc2=%{y}<extra></extra>",
         "legendgroup": "2018-11-06",
         "marker": {
          "color": "#ab63fa",
          "symbol": "circle"
         },
         "mode": "markers",
         "name": "2018-11-06",
         "showlegend": true,
         "type": "scattergl",
         "x": [
          -3.1331666475072173
         ],
         "xaxis": "x",
         "y": [
          3.6737899360702264
         ],
         "yaxis": "y"
        },
        {
         "hovertemplate": "date=2018-11-07<br>pc1=%{x}<br>pc2=%{y}<extra></extra>",
         "legendgroup": "2018-11-07",
         "marker": {
          "color": "#FFA15A",
          "symbol": "circle"
         },
         "mode": "markers",
         "name": "2018-11-07",
         "showlegend": true,
         "type": "scattergl",
         "x": [
          -5.136324098954262
         ],
         "xaxis": "x",
         "y": [
          6.658989624475926
         ],
         "yaxis": "y"
        },
        {
         "hovertemplate": "date=2018-11-08<br>pc1=%{x}<br>pc2=%{y}<extra></extra>",
         "legendgroup": "2018-11-08",
         "marker": {
          "color": "#19d3f3",
          "symbol": "circle"
         },
         "mode": "markers",
         "name": "2018-11-08",
         "showlegend": true,
         "type": "scattergl",
         "x": [
          -7.1583095796776774
         ],
         "xaxis": "x",
         "y": [
          5.876537630997343
         ],
         "yaxis": "y"
        },
        {
         "hovertemplate": "date=2018-11-09<br>pc1=%{x}<br>pc2=%{y}<extra></extra>",
         "legendgroup": "2018-11-09",
         "marker": {
          "color": "#FF6692",
          "symbol": "circle"
         },
         "mode": "markers",
         "name": "2018-11-09",
         "showlegend": true,
         "type": "scattergl",
         "x": [
          -3.585011254453147
         ],
         "xaxis": "x",
         "y": [
          6.801846764115219
         ],
         "yaxis": "y"
        },
        {
         "hovertemplate": "date=2018-11-10<br>pc1=%{x}<br>pc2=%{y}<extra></extra>",
         "legendgroup": "2018-11-10",
         "marker": {
          "color": "#B6E880",
          "symbol": "circle"
         },
         "mode": "markers",
         "name": "2018-11-10",
         "showlegend": true,
         "type": "scattergl",
         "x": [
          15.078152497901351
         ],
         "xaxis": "x",
         "y": [
          -3.3577472319575237
         ],
         "yaxis": "y"
        },
        {
         "hovertemplate": "date=2018-11-11<br>pc1=%{x}<br>pc2=%{y}<extra></extra>",
         "legendgroup": "2018-11-11",
         "marker": {
          "color": "#FF97FF",
          "symbol": "circle"
         },
         "mode": "markers",
         "name": "2018-11-11",
         "showlegend": true,
         "type": "scattergl",
         "x": [
          13.775429739622657
         ],
         "xaxis": "x",
         "y": [
          -8.263731186705828
         ],
         "yaxis": "y"
        },
        {
         "hovertemplate": "date=2018-11-12<br>pc1=%{x}<br>pc2=%{y}<extra></extra>",
         "legendgroup": "2018-11-12",
         "marker": {
          "color": "#FECB52",
          "symbol": "circle"
         },
         "mode": "markers",
         "name": "2018-11-12",
         "showlegend": true,
         "type": "scattergl",
         "x": [
          5.694604032044078
         ],
         "xaxis": "x",
         "y": [
          1.5242039621255399
         ],
         "yaxis": "y"
        },
        {
         "hovertemplate": "date=2018-11-13<br>pc1=%{x}<br>pc2=%{y}<extra></extra>",
         "legendgroup": "2018-11-13",
         "marker": {
          "color": "#636efa",
          "symbol": "circle"
         },
         "mode": "markers",
         "name": "2018-11-13",
         "showlegend": true,
         "type": "scattergl",
         "x": [
          -5.846420870013443
         ],
         "xaxis": "x",
         "y": [
          6.540868215647115
         ],
         "yaxis": "y"
        },
        {
         "hovertemplate": "date=2018-11-14<br>pc1=%{x}<br>pc2=%{y}<extra></extra>",
         "legendgroup": "2018-11-14",
         "marker": {
          "color": "#EF553B",
          "symbol": "circle"
         },
         "mode": "markers",
         "name": "2018-11-14",
         "showlegend": true,
         "type": "scattergl",
         "x": [
          -8.101640802186996
         ],
         "xaxis": "x",
         "y": [
          1.729358615381164
         ],
         "yaxis": "y"
        },
        {
         "hovertemplate": "date=2018-11-15<br>pc1=%{x}<br>pc2=%{y}<extra></extra>",
         "legendgroup": "2018-11-15",
         "marker": {
          "color": "#00cc96",
          "symbol": "circle"
         },
         "mode": "markers",
         "name": "2018-11-15",
         "showlegend": true,
         "type": "scattergl",
         "x": [
          -3.9538010178410015
         ],
         "xaxis": "x",
         "y": [
          5.146784946562757
         ],
         "yaxis": "y"
        },
        {
         "hovertemplate": "date=2018-11-16<br>pc1=%{x}<br>pc2=%{y}<extra></extra>",
         "legendgroup": "2018-11-16",
         "marker": {
          "color": "#ab63fa",
          "symbol": "circle"
         },
         "mode": "markers",
         "name": "2018-11-16",
         "showlegend": true,
         "type": "scattergl",
         "x": [
          -6.866643003897833
         ],
         "xaxis": "x",
         "y": [
          3.129631645229609
         ],
         "yaxis": "y"
        },
        {
         "hovertemplate": "date=2018-11-17<br>pc1=%{x}<br>pc2=%{y}<extra></extra>",
         "legendgroup": "2018-11-17",
         "marker": {
          "color": "#FFA15A",
          "symbol": "circle"
         },
         "mode": "markers",
         "name": "2018-11-17",
         "showlegend": true,
         "type": "scattergl",
         "x": [
          12.915641444992392
         ],
         "xaxis": "x",
         "y": [
          3.539232760698298
         ],
         "yaxis": "y"
        },
        {
         "hovertemplate": "date=2018-11-18<br>pc1=%{x}<br>pc2=%{y}<extra></extra>",
         "legendgroup": "2018-11-18",
         "marker": {
          "color": "#19d3f3",
          "symbol": "circle"
         },
         "mode": "markers",
         "name": "2018-11-18",
         "showlegend": true,
         "type": "scattergl",
         "x": [
          34.49286387296798
         ],
         "xaxis": "x",
         "y": [
          30.398118982059827
         ],
         "yaxis": "y"
        },
        {
         "hovertemplate": "date=2018-11-19<br>pc1=%{x}<br>pc2=%{y}<extra></extra>",
         "legendgroup": "2018-11-19",
         "marker": {
          "color": "#FF6692",
          "symbol": "circle"
         },
         "mode": "markers",
         "name": "2018-11-19",
         "showlegend": true,
         "type": "scattergl",
         "x": [
          -10.317655185535912
         ],
         "xaxis": "x",
         "y": [
          20.50978924082982
         ],
         "yaxis": "y"
        },
        {
         "hovertemplate": "date=2018-11-20<br>pc1=%{x}<br>pc2=%{y}<extra></extra>",
         "legendgroup": "2018-11-20",
         "marker": {
          "color": "#B6E880",
          "symbol": "circle"
         },
         "mode": "markers",
         "name": "2018-11-20",
         "showlegend": true,
         "type": "scattergl",
         "x": [
          -18.84171299173749
         ],
         "xaxis": "x",
         "y": [
          14.863143853991126
         ],
         "yaxis": "y"
        },
        {
         "hovertemplate": "date=2018-11-21<br>pc1=%{x}<br>pc2=%{y}<extra></extra>",
         "legendgroup": "2018-11-21",
         "marker": {
          "color": "#FF97FF",
          "symbol": "circle"
         },
         "mode": "markers",
         "name": "2018-11-21",
         "showlegend": true,
         "type": "scattergl",
         "x": [
          -6.542526872274758
         ],
         "xaxis": "x",
         "y": [
          4.292000237557751
         ],
         "yaxis": "y"
        },
        {
         "hovertemplate": "date=2018-11-22<br>pc1=%{x}<br>pc2=%{y}<extra></extra>",
         "legendgroup": "2018-11-22",
         "marker": {
          "color": "#FECB52",
          "symbol": "circle"
         },
         "mode": "markers",
         "name": "2018-11-22",
         "showlegend": true,
         "type": "scattergl",
         "x": [
          41.57423630369826
         ],
         "xaxis": "x",
         "y": [
          -23.186609906146323
         ],
         "yaxis": "y"
        },
        {
         "hovertemplate": "date=2018-11-23<br>pc1=%{x}<br>pc2=%{y}<extra></extra>",
         "legendgroup": "2018-11-23",
         "marker": {
          "color": "#636efa",
          "symbol": "circle"
         },
         "mode": "markers",
         "name": "2018-11-23",
         "showlegend": true,
         "type": "scattergl",
         "x": [
          16.874382640611486
         ],
         "xaxis": "x",
         "y": [
          -6.077618401860201
         ],
         "yaxis": "y"
        },
        {
         "hovertemplate": "date=2018-11-24<br>pc1=%{x}<br>pc2=%{y}<extra></extra>",
         "legendgroup": "2018-11-24",
         "marker": {
          "color": "#EF553B",
          "symbol": "circle"
         },
         "mode": "markers",
         "name": "2018-11-24",
         "showlegend": true,
         "type": "scattergl",
         "x": [
          -3.30571919583323
         ],
         "xaxis": "x",
         "y": [
          2.65584387708622
         ],
         "yaxis": "y"
        },
        {
         "hovertemplate": "date=2018-11-25<br>pc1=%{x}<br>pc2=%{y}<extra></extra>",
         "legendgroup": "2018-11-25",
         "marker": {
          "color": "#00cc96",
          "symbol": "circle"
         },
         "mode": "markers",
         "name": "2018-11-25",
         "showlegend": true,
         "type": "scattergl",
         "x": [
          3.7782101094667477
         ],
         "xaxis": "x",
         "y": [
          1.894418194692915
         ],
         "yaxis": "y"
        },
        {
         "hovertemplate": "date=2018-11-26<br>pc1=%{x}<br>pc2=%{y}<extra></extra>",
         "legendgroup": "2018-11-26",
         "marker": {
          "color": "#ab63fa",
          "symbol": "circle"
         },
         "mode": "markers",
         "name": "2018-11-26",
         "showlegend": true,
         "type": "scattergl",
         "x": [
          -8.407580803404315
         ],
         "xaxis": "x",
         "y": [
          -1.8609338016297567
         ],
         "yaxis": "y"
        },
        {
         "hovertemplate": "date=2018-11-27<br>pc1=%{x}<br>pc2=%{y}<extra></extra>",
         "legendgroup": "2018-11-27",
         "marker": {
          "color": "#FFA15A",
          "symbol": "circle"
         },
         "mode": "markers",
         "name": "2018-11-27",
         "showlegend": true,
         "type": "scattergl",
         "x": [
          -4.124368308722822
         ],
         "xaxis": "x",
         "y": [
          7.317678874036554
         ],
         "yaxis": "y"
        },
        {
         "hovertemplate": "date=2018-11-28<br>pc1=%{x}<br>pc2=%{y}<extra></extra>",
         "legendgroup": "2018-11-28",
         "marker": {
          "color": "#19d3f3",
          "symbol": "circle"
         },
         "mode": "markers",
         "name": "2018-11-28",
         "showlegend": true,
         "type": "scattergl",
         "x": [
          -9.170927506795815
         ],
         "xaxis": "x",
         "y": [
          1.258662650472155
         ],
         "yaxis": "y"
        },
        {
         "hovertemplate": "date=2018-11-29<br>pc1=%{x}<br>pc2=%{y}<extra></extra>",
         "legendgroup": "2018-11-29",
         "marker": {
          "color": "#FF6692",
          "symbol": "circle"
         },
         "mode": "markers",
         "name": "2018-11-29",
         "showlegend": true,
         "type": "scattergl",
         "x": [
          -6.192455626626526
         ],
         "xaxis": "x",
         "y": [
          8.550043578431296
         ],
         "yaxis": "y"
        },
        {
         "hovertemplate": "date=2018-11-30<br>pc1=%{x}<br>pc2=%{y}<extra></extra>",
         "legendgroup": "2018-11-30",
         "marker": {
          "color": "#B6E880",
          "symbol": "circle"
         },
         "mode": "markers",
         "name": "2018-11-30",
         "showlegend": true,
         "type": "scattergl",
         "x": [
          -5.961505106338649
         ],
         "xaxis": "x",
         "y": [
          7.037759615668498
         ],
         "yaxis": "y"
        },
        {
         "hovertemplate": "date=2018-12-01<br>pc1=%{x}<br>pc2=%{y}<extra></extra>",
         "legendgroup": "2018-12-01",
         "marker": {
          "color": "#FF97FF",
          "symbol": "circle"
         },
         "mode": "markers",
         "name": "2018-12-01",
         "showlegend": true,
         "type": "scattergl",
         "x": [
          16.527522918292384
         ],
         "xaxis": "x",
         "y": [
          -5.472838623478678
         ],
         "yaxis": "y"
        },
        {
         "hovertemplate": "date=2018-12-02<br>pc1=%{x}<br>pc2=%{y}<extra></extra>",
         "legendgroup": "2018-12-02",
         "marker": {
          "color": "#FECB52",
          "symbol": "circle"
         },
         "mode": "markers",
         "name": "2018-12-02",
         "showlegend": true,
         "type": "scattergl",
         "x": [
          17.022442568945547
         ],
         "xaxis": "x",
         "y": [
          -5.441353059673725
         ],
         "yaxis": "y"
        },
        {
         "hovertemplate": "date=2018-12-03<br>pc1=%{x}<br>pc2=%{y}<extra></extra>",
         "legendgroup": "2018-12-03",
         "marker": {
          "color": "#636efa",
          "symbol": "circle"
         },
         "mode": "markers",
         "name": "2018-12-03",
         "showlegend": true,
         "type": "scattergl",
         "x": [
          -5.260772353778535
         ],
         "xaxis": "x",
         "y": [
          8.262822783223577
         ],
         "yaxis": "y"
        },
        {
         "hovertemplate": "date=2018-12-04<br>pc1=%{x}<br>pc2=%{y}<extra></extra>",
         "legendgroup": "2018-12-04",
         "marker": {
          "color": "#EF553B",
          "symbol": "circle"
         },
         "mode": "markers",
         "name": "2018-12-04",
         "showlegend": true,
         "type": "scattergl",
         "x": [
          -4.452534096690795
         ],
         "xaxis": "x",
         "y": [
          5.766862108396646
         ],
         "yaxis": "y"
        },
        {
         "hovertemplate": "date=2018-12-05<br>pc1=%{x}<br>pc2=%{y}<extra></extra>",
         "legendgroup": "2018-12-05",
         "marker": {
          "color": "#00cc96",
          "symbol": "circle"
         },
         "mode": "markers",
         "name": "2018-12-05",
         "showlegend": true,
         "type": "scattergl",
         "x": [
          -3.308944068367031
         ],
         "xaxis": "x",
         "y": [
          4.055408896202651
         ],
         "yaxis": "y"
        },
        {
         "hovertemplate": "date=2018-12-06<br>pc1=%{x}<br>pc2=%{y}<extra></extra>",
         "legendgroup": "2018-12-06",
         "marker": {
          "color": "#ab63fa",
          "symbol": "circle"
         },
         "mode": "markers",
         "name": "2018-12-06",
         "showlegend": true,
         "type": "scattergl",
         "x": [
          -5.162148944083317
         ],
         "xaxis": "x",
         "y": [
          5.074037976241974
         ],
         "yaxis": "y"
        },
        {
         "hovertemplate": "date=2018-12-07<br>pc1=%{x}<br>pc2=%{y}<extra></extra>",
         "legendgroup": "2018-12-07",
         "marker": {
          "color": "#FFA15A",
          "symbol": "circle"
         },
         "mode": "markers",
         "name": "2018-12-07",
         "showlegend": true,
         "type": "scattergl",
         "x": [
          -10.068871327441967
         ],
         "xaxis": "x",
         "y": [
          -7.0710650169144165
         ],
         "yaxis": "y"
        },
        {
         "hovertemplate": "date=2018-12-08<br>pc1=%{x}<br>pc2=%{y}<extra></extra>",
         "legendgroup": "2018-12-08",
         "marker": {
          "color": "#19d3f3",
          "symbol": "circle"
         },
         "mode": "markers",
         "name": "2018-12-08",
         "showlegend": true,
         "type": "scattergl",
         "x": [
          12.465819750219437
         ],
         "xaxis": "x",
         "y": [
          -1.2118240518931351
         ],
         "yaxis": "y"
        },
        {
         "hovertemplate": "date=2018-12-09<br>pc1=%{x}<br>pc2=%{y}<extra></extra>",
         "legendgroup": "2018-12-09",
         "marker": {
          "color": "#FF6692",
          "symbol": "circle"
         },
         "mode": "markers",
         "name": "2018-12-09",
         "showlegend": true,
         "type": "scattergl",
         "x": [
          13.980596820904495
         ],
         "xaxis": "x",
         "y": [
          -8.4753423683437
         ],
         "yaxis": "y"
        },
        {
         "hovertemplate": "date=2018-12-10<br>pc1=%{x}<br>pc2=%{y}<extra></extra>",
         "legendgroup": "2018-12-10",
         "marker": {
          "color": "#B6E880",
          "symbol": "circle"
         },
         "mode": "markers",
         "name": "2018-12-10",
         "showlegend": true,
         "type": "scattergl",
         "x": [
          -2.8284905233452697
         ],
         "xaxis": "x",
         "y": [
          6.89305304556748
         ],
         "yaxis": "y"
        },
        {
         "hovertemplate": "date=2018-12-11<br>pc1=%{x}<br>pc2=%{y}<extra></extra>",
         "legendgroup": "2018-12-11",
         "marker": {
          "color": "#FF97FF",
          "symbol": "circle"
         },
         "mode": "markers",
         "name": "2018-12-11",
         "showlegend": true,
         "type": "scattergl",
         "x": [
          -1.1694572663743765
         ],
         "xaxis": "x",
         "y": [
          7.435254830221587
         ],
         "yaxis": "y"
        },
        {
         "hovertemplate": "date=2018-12-12<br>pc1=%{x}<br>pc2=%{y}<extra></extra>",
         "legendgroup": "2018-12-12",
         "marker": {
          "color": "#FECB52",
          "symbol": "circle"
         },
         "mode": "markers",
         "name": "2018-12-12",
         "showlegend": true,
         "type": "scattergl",
         "x": [
          -4.331868454447167
         ],
         "xaxis": "x",
         "y": [
          3.1937284150484677
         ],
         "yaxis": "y"
        },
        {
         "hovertemplate": "date=2018-12-13<br>pc1=%{x}<br>pc2=%{y}<extra></extra>",
         "legendgroup": "2018-12-13",
         "marker": {
          "color": "#636efa",
          "symbol": "circle"
         },
         "mode": "markers",
         "name": "2018-12-13",
         "showlegend": true,
         "type": "scattergl",
         "x": [
          -2.271846128702448
         ],
         "xaxis": "x",
         "y": [
          7.270975884485327
         ],
         "yaxis": "y"
        },
        {
         "hovertemplate": "date=2018-12-14<br>pc1=%{x}<br>pc2=%{y}<extra></extra>",
         "legendgroup": "2018-12-14",
         "marker": {
          "color": "#EF553B",
          "symbol": "circle"
         },
         "mode": "markers",
         "name": "2018-12-14",
         "showlegend": true,
         "type": "scattergl",
         "x": [
          -1.6426849300120185
         ],
         "xaxis": "x",
         "y": [
          8.201231121414509
         ],
         "yaxis": "y"
        },
        {
         "hovertemplate": "date=2018-12-15<br>pc1=%{x}<br>pc2=%{y}<extra></extra>",
         "legendgroup": "2018-12-15",
         "marker": {
          "color": "#00cc96",
          "symbol": "circle"
         },
         "mode": "markers",
         "name": "2018-12-15",
         "showlegend": true,
         "type": "scattergl",
         "x": [
          4.114228604270015
         ],
         "xaxis": "x",
         "y": [
          -6.93852172612977
         ],
         "yaxis": "y"
        },
        {
         "hovertemplate": "date=2018-12-16<br>pc1=%{x}<br>pc2=%{y}<extra></extra>",
         "legendgroup": "2018-12-16",
         "marker": {
          "color": "#ab63fa",
          "symbol": "circle"
         },
         "mode": "markers",
         "name": "2018-12-16",
         "showlegend": true,
         "type": "scattergl",
         "x": [
          10.40805238552502
         ],
         "xaxis": "x",
         "y": [
          -7.452736890778493
         ],
         "yaxis": "y"
        },
        {
         "hovertemplate": "date=2018-12-17<br>pc1=%{x}<br>pc2=%{y}<extra></extra>",
         "legendgroup": "2018-12-17",
         "marker": {
          "color": "#FFA15A",
          "symbol": "circle"
         },
         "mode": "markers",
         "name": "2018-12-17",
         "showlegend": true,
         "type": "scattergl",
         "x": [
          -2.075377351345065
         ],
         "xaxis": "x",
         "y": [
          3.580392953805127
         ],
         "yaxis": "y"
        },
        {
         "hovertemplate": "date=2018-12-18<br>pc1=%{x}<br>pc2=%{y}<extra></extra>",
         "legendgroup": "2018-12-18",
         "marker": {
          "color": "#19d3f3",
          "symbol": "circle"
         },
         "mode": "markers",
         "name": "2018-12-18",
         "showlegend": true,
         "type": "scattergl",
         "x": [
          -2.5658666627184226
         ],
         "xaxis": "x",
         "y": [
          5.716493849848784
         ],
         "yaxis": "y"
        },
        {
         "hovertemplate": "date=2018-12-19<br>pc1=%{x}<br>pc2=%{y}<extra></extra>",
         "legendgroup": "2018-12-19",
         "marker": {
          "color": "#FF6692",
          "symbol": "circle"
         },
         "mode": "markers",
         "name": "2018-12-19",
         "showlegend": true,
         "type": "scattergl",
         "x": [
          -1.8425873860821025
         ],
         "xaxis": "x",
         "y": [
          9.707407559984006
         ],
         "yaxis": "y"
        },
        {
         "hovertemplate": "date=2018-12-20<br>pc1=%{x}<br>pc2=%{y}<extra></extra>",
         "legendgroup": "2018-12-20",
         "marker": {
          "color": "#B6E880",
          "symbol": "circle"
         },
         "mode": "markers",
         "name": "2018-12-20",
         "showlegend": true,
         "type": "scattergl",
         "x": [
          -3.6962290437316736
         ],
         "xaxis": "x",
         "y": [
          3.6881711873379137
         ],
         "yaxis": "y"
        },
        {
         "hovertemplate": "date=2018-12-21<br>pc1=%{x}<br>pc2=%{y}<extra></extra>",
         "legendgroup": "2018-12-21",
         "marker": {
          "color": "#FF97FF",
          "symbol": "circle"
         },
         "mode": "markers",
         "name": "2018-12-21",
         "showlegend": true,
         "type": "scattergl",
         "x": [
          -2.4153140120178476
         ],
         "xaxis": "x",
         "y": [
          9.194353985154466
         ],
         "yaxis": "y"
        },
        {
         "hovertemplate": "date=2018-12-22<br>pc1=%{x}<br>pc2=%{y}<extra></extra>",
         "legendgroup": "2018-12-22",
         "marker": {
          "color": "#FECB52",
          "symbol": "circle"
         },
         "mode": "markers",
         "name": "2018-12-22",
         "showlegend": true,
         "type": "scattergl",
         "x": [
          -7.789131918606763
         ],
         "xaxis": "x",
         "y": [
          -0.9464205894770749
         ],
         "yaxis": "y"
        },
        {
         "hovertemplate": "date=2018-12-23<br>pc1=%{x}<br>pc2=%{y}<extra></extra>",
         "legendgroup": "2018-12-23",
         "marker": {
          "color": "#636efa",
          "symbol": "circle"
         },
         "mode": "markers",
         "name": "2018-12-23",
         "showlegend": true,
         "type": "scattergl",
         "x": [
          -8.002951841846212
         ],
         "xaxis": "x",
         "y": [
          7.0889801523851474
         ],
         "yaxis": "y"
        },
        {
         "hovertemplate": "date=2018-12-24<br>pc1=%{x}<br>pc2=%{y}<extra></extra>",
         "legendgroup": "2018-12-24",
         "marker": {
          "color": "#EF553B",
          "symbol": "circle"
         },
         "mode": "markers",
         "name": "2018-12-24",
         "showlegend": true,
         "type": "scattergl",
         "x": [
          15.728016072123221
         ],
         "xaxis": "x",
         "y": [
          -3.0703838927329548
         ],
         "yaxis": "y"
        },
        {
         "hovertemplate": "date=2018-12-25<br>pc1=%{x}<br>pc2=%{y}<extra></extra>",
         "legendgroup": "2018-12-25",
         "marker": {
          "color": "#00cc96",
          "symbol": "circle"
         },
         "mode": "markers",
         "name": "2018-12-25",
         "showlegend": true,
         "type": "scattergl",
         "x": [
          34.930711531333735
         ],
         "xaxis": "x",
         "y": [
          -19.442613566703727
         ],
         "yaxis": "y"
        },
        {
         "hovertemplate": "date=2018-12-26<br>pc1=%{x}<br>pc2=%{y}<extra></extra>",
         "legendgroup": "2018-12-26",
         "marker": {
          "color": "#ab63fa",
          "symbol": "circle"
         },
         "mode": "markers",
         "name": "2018-12-26",
         "showlegend": true,
         "type": "scattergl",
         "x": [
          1.2916404664700143
         ],
         "xaxis": "x",
         "y": [
          2.353838854357729
         ],
         "yaxis": "y"
        },
        {
         "hovertemplate": "date=2018-12-27<br>pc1=%{x}<br>pc2=%{y}<extra></extra>",
         "legendgroup": "2018-12-27",
         "marker": {
          "color": "#FFA15A",
          "symbol": "circle"
         },
         "mode": "markers",
         "name": "2018-12-27",
         "showlegend": true,
         "type": "scattergl",
         "x": [
          0.05464323867378834
         ],
         "xaxis": "x",
         "y": [
          9.587550308345516
         ],
         "yaxis": "y"
        },
        {
         "hovertemplate": "date=2018-12-28<br>pc1=%{x}<br>pc2=%{y}<extra></extra>",
         "legendgroup": "2018-12-28",
         "marker": {
          "color": "#19d3f3",
          "symbol": "circle"
         },
         "mode": "markers",
         "name": "2018-12-28",
         "showlegend": true,
         "type": "scattergl",
         "x": [
          -4.738689023714141
         ],
         "xaxis": "x",
         "y": [
          10.62779336198279
         ],
         "yaxis": "y"
        },
        {
         "hovertemplate": "date=2018-12-29<br>pc1=%{x}<br>pc2=%{y}<extra></extra>",
         "legendgroup": "2018-12-29",
         "marker": {
          "color": "#FF6692",
          "symbol": "circle"
         },
         "mode": "markers",
         "name": "2018-12-29",
         "showlegend": true,
         "type": "scattergl",
         "x": [
          -10.690297016268403
         ],
         "xaxis": "x",
         "y": [
          2.353020668200755
         ],
         "yaxis": "y"
        },
        {
         "hovertemplate": "date=2018-12-30<br>pc1=%{x}<br>pc2=%{y}<extra></extra>",
         "legendgroup": "2018-12-30",
         "marker": {
          "color": "#B6E880",
          "symbol": "circle"
         },
         "mode": "markers",
         "name": "2018-12-30",
         "showlegend": true,
         "type": "scattergl",
         "x": [
          -5.549095076351066
         ],
         "xaxis": "x",
         "y": [
          13.488348013140811
         ],
         "yaxis": "y"
        },
        {
         "hovertemplate": "date=2018-12-31<br>pc1=%{x}<br>pc2=%{y}<extra></extra>",
         "legendgroup": "2018-12-31",
         "marker": {
          "color": "#FF97FF",
          "symbol": "circle"
         },
         "mode": "markers",
         "name": "2018-12-31",
         "showlegend": true,
         "type": "scattergl",
         "x": [
          9.332532637461766
         ],
         "xaxis": "x",
         "y": [
          0.7676860270294562
         ],
         "yaxis": "y"
        },
        {
         "hovertemplate": "date=2019-01-01<br>pc1=%{x}<br>pc2=%{y}<extra></extra>",
         "legendgroup": "2019-01-01",
         "marker": {
          "color": "#FECB52",
          "symbol": "circle"
         },
         "mode": "markers",
         "name": "2019-01-01",
         "showlegend": true,
         "type": "scattergl",
         "x": [
          31.71944606434317
         ],
         "xaxis": "x",
         "y": [
          -18.88768868848856
         ],
         "yaxis": "y"
        },
        {
         "hovertemplate": "date=2019-01-02<br>pc1=%{x}<br>pc2=%{y}<extra></extra>",
         "legendgroup": "2019-01-02",
         "marker": {
          "color": "#636efa",
          "symbol": "circle"
         },
         "mode": "markers",
         "name": "2019-01-02",
         "showlegend": true,
         "type": "scattergl",
         "x": [
          -0.2390950334449473
         ],
         "xaxis": "x",
         "y": [
          9.233082992266677
         ],
         "yaxis": "y"
        },
        {
         "hovertemplate": "date=2019-01-03<br>pc1=%{x}<br>pc2=%{y}<extra></extra>",
         "legendgroup": "2019-01-03",
         "marker": {
          "color": "#EF553B",
          "symbol": "circle"
         },
         "mode": "markers",
         "name": "2019-01-03",
         "showlegend": true,
         "type": "scattergl",
         "x": [
          -10.528275715375951
         ],
         "xaxis": "x",
         "y": [
          7.837262526634008
         ],
         "yaxis": "y"
        },
        {
         "hovertemplate": "date=2019-01-04<br>pc1=%{x}<br>pc2=%{y}<extra></extra>",
         "legendgroup": "2019-01-04",
         "marker": {
          "color": "#00cc96",
          "symbol": "circle"
         },
         "mode": "markers",
         "name": "2019-01-04",
         "showlegend": true,
         "type": "scattergl",
         "x": [
          -4.186110940765391
         ],
         "xaxis": "x",
         "y": [
          11.985701048938484
         ],
         "yaxis": "y"
        },
        {
         "hovertemplate": "date=2019-01-05<br>pc1=%{x}<br>pc2=%{y}<extra></extra>",
         "legendgroup": "2019-01-05",
         "marker": {
          "color": "#ab63fa",
          "symbol": "circle"
         },
         "mode": "markers",
         "name": "2019-01-05",
         "showlegend": true,
         "type": "scattergl",
         "x": [
          6.574610311963123
         ],
         "xaxis": "x",
         "y": [
          -0.29304355595038517
         ],
         "yaxis": "y"
        },
        {
         "hovertemplate": "date=2019-01-06<br>pc1=%{x}<br>pc2=%{y}<extra></extra>",
         "legendgroup": "2019-01-06",
         "marker": {
          "color": "#FFA15A",
          "symbol": "circle"
         },
         "mode": "markers",
         "name": "2019-01-06",
         "showlegend": true,
         "type": "scattergl",
         "x": [
          10.034442517355473
         ],
         "xaxis": "x",
         "y": [
          -3.851139863403837
         ],
         "yaxis": "y"
        },
        {
         "hovertemplate": "date=2019-01-07<br>pc1=%{x}<br>pc2=%{y}<extra></extra>",
         "legendgroup": "2019-01-07",
         "marker": {
          "color": "#19d3f3",
          "symbol": "circle"
         },
         "mode": "markers",
         "name": "2019-01-07",
         "showlegend": true,
         "type": "scattergl",
         "x": [
          -2.5644800130121697
         ],
         "xaxis": "x",
         "y": [
          8.477126188696282
         ],
         "yaxis": "y"
        },
        {
         "hovertemplate": "date=2019-01-08<br>pc1=%{x}<br>pc2=%{y}<extra></extra>",
         "legendgroup": "2019-01-08",
         "marker": {
          "color": "#FF6692",
          "symbol": "circle"
         },
         "mode": "markers",
         "name": "2019-01-08",
         "showlegend": true,
         "type": "scattergl",
         "x": [
          -1.3135170307994033
         ],
         "xaxis": "x",
         "y": [
          10.414903952862273
         ],
         "yaxis": "y"
        },
        {
         "hovertemplate": "date=2019-01-09<br>pc1=%{x}<br>pc2=%{y}<extra></extra>",
         "legendgroup": "2019-01-09",
         "marker": {
          "color": "#B6E880",
          "symbol": "circle"
         },
         "mode": "markers",
         "name": "2019-01-09",
         "showlegend": true,
         "type": "scattergl",
         "x": [
          -1.6893380331344534
         ],
         "xaxis": "x",
         "y": [
          5.757000571496755
         ],
         "yaxis": "y"
        },
        {
         "hovertemplate": "date=2019-01-10<br>pc1=%{x}<br>pc2=%{y}<extra></extra>",
         "legendgroup": "2019-01-10",
         "marker": {
          "color": "#FF97FF",
          "symbol": "circle"
         },
         "mode": "markers",
         "name": "2019-01-10",
         "showlegend": true,
         "type": "scattergl",
         "x": [
          -1.2785998508281835
         ],
         "xaxis": "x",
         "y": [
          6.732120982304155
         ],
         "yaxis": "y"
        },
        {
         "hovertemplate": "date=2019-01-11<br>pc1=%{x}<br>pc2=%{y}<extra></extra>",
         "legendgroup": "2019-01-11",
         "marker": {
          "color": "#FECB52",
          "symbol": "circle"
         },
         "mode": "markers",
         "name": "2019-01-11",
         "showlegend": true,
         "type": "scattergl",
         "x": [
          0.43727339435709134
         ],
         "xaxis": "x",
         "y": [
          9.352818685464527
         ],
         "yaxis": "y"
        },
        {
         "hovertemplate": "date=2019-01-12<br>pc1=%{x}<br>pc2=%{y}<extra></extra>",
         "legendgroup": "2019-01-12",
         "marker": {
          "color": "#636efa",
          "symbol": "circle"
         },
         "mode": "markers",
         "name": "2019-01-12",
         "showlegend": true,
         "type": "scattergl",
         "x": [
          36.55766605663894
         ],
         "xaxis": "x",
         "y": [
          32.96743267324959
         ],
         "yaxis": "y"
        },
        {
         "hovertemplate": "date=2019-01-13<br>pc1=%{x}<br>pc2=%{y}<extra></extra>",
         "legendgroup": "2019-01-13",
         "marker": {
          "color": "#EF553B",
          "symbol": "circle"
         },
         "mode": "markers",
         "name": "2019-01-13",
         "showlegend": true,
         "type": "scattergl",
         "x": [
          39.065346941329395
         ],
         "xaxis": "x",
         "y": [
          34.17432349991007
         ],
         "yaxis": "y"
        },
        {
         "hovertemplate": "date=2019-01-14<br>pc1=%{x}<br>pc2=%{y}<extra></extra>",
         "legendgroup": "2019-01-14",
         "marker": {
          "color": "#00cc96",
          "symbol": "circle"
         },
         "mode": "markers",
         "name": "2019-01-14",
         "showlegend": true,
         "type": "scattergl",
         "x": [
          3.813974189961203
         ],
         "xaxis": "x",
         "y": [
          21.5553924730399
         ],
         "yaxis": "y"
        },
        {
         "hovertemplate": "date=2019-01-15<br>pc1=%{x}<br>pc2=%{y}<extra></extra>",
         "legendgroup": "2019-01-15",
         "marker": {
          "color": "#ab63fa",
          "symbol": "circle"
         },
         "mode": "markers",
         "name": "2019-01-15",
         "showlegend": true,
         "type": "scattergl",
         "x": [
          0.2224214390646386
         ],
         "xaxis": "x",
         "y": [
          10.887907872924506
         ],
         "yaxis": "y"
        },
        {
         "hovertemplate": "date=2019-01-16<br>pc1=%{x}<br>pc2=%{y}<extra></extra>",
         "legendgroup": "2019-01-16",
         "marker": {
          "color": "#FFA15A",
          "symbol": "circle"
         },
         "mode": "markers",
         "name": "2019-01-16",
         "showlegend": true,
         "type": "scattergl",
         "x": [
          -4.57175222077109
         ],
         "xaxis": "x",
         "y": [
          8.233450654062267
         ],
         "yaxis": "y"
        },
        {
         "hovertemplate": "date=2019-01-17<br>pc1=%{x}<br>pc2=%{y}<extra></extra>",
         "legendgroup": "2019-01-17",
         "marker": {
          "color": "#19d3f3",
          "symbol": "circle"
         },
         "mode": "markers",
         "name": "2019-01-17",
         "showlegend": true,
         "type": "scattergl",
         "x": [
          -4.349150826286942
         ],
         "xaxis": "x",
         "y": [
          10.273942882108722
         ],
         "yaxis": "y"
        },
        {
         "hovertemplate": "date=2019-01-18<br>pc1=%{x}<br>pc2=%{y}<extra></extra>",
         "legendgroup": "2019-01-18",
         "marker": {
          "color": "#FF6692",
          "symbol": "circle"
         },
         "mode": "markers",
         "name": "2019-01-18",
         "showlegend": true,
         "type": "scattergl",
         "x": [
          -6.868045758199113
         ],
         "xaxis": "x",
         "y": [
          10.434779340980972
         ],
         "yaxis": "y"
        },
        {
         "hovertemplate": "date=2019-01-19<br>pc1=%{x}<br>pc2=%{y}<extra></extra>",
         "legendgroup": "2019-01-19",
         "marker": {
          "color": "#B6E880",
          "symbol": "circle"
         },
         "mode": "markers",
         "name": "2019-01-19",
         "showlegend": true,
         "type": "scattergl",
         "x": [
          4.40877119333407
         ],
         "xaxis": "x",
         "y": [
          -15.674264413667435
         ],
         "yaxis": "y"
        },
        {
         "hovertemplate": "date=2019-01-20<br>pc1=%{x}<br>pc2=%{y}<extra></extra>",
         "legendgroup": "2019-01-20",
         "marker": {
          "color": "#FF97FF",
          "symbol": "circle"
         },
         "mode": "markers",
         "name": "2019-01-20",
         "showlegend": true,
         "type": "scattergl",
         "x": [
          14.763204423546261
         ],
         "xaxis": "x",
         "y": [
          0.7194187864067018
         ],
         "yaxis": "y"
        },
        {
         "hovertemplate": "date=2019-01-21<br>pc1=%{x}<br>pc2=%{y}<extra></extra>",
         "legendgroup": "2019-01-21",
         "marker": {
          "color": "#FECB52",
          "symbol": "circle"
         },
         "mode": "markers",
         "name": "2019-01-21",
         "showlegend": true,
         "type": "scattergl",
         "x": [
          23.07231678193315
         ],
         "xaxis": "x",
         "y": [
          -9.81444163651165
         ],
         "yaxis": "y"
        },
        {
         "hovertemplate": "date=2019-01-22<br>pc1=%{x}<br>pc2=%{y}<extra></extra>",
         "legendgroup": "2019-01-22",
         "marker": {
          "color": "#636efa",
          "symbol": "circle"
         },
         "mode": "markers",
         "name": "2019-01-22",
         "showlegend": true,
         "type": "scattergl",
         "x": [
          -8.792723260293704
         ],
         "xaxis": "x",
         "y": [
          13.84458904649124
         ],
         "yaxis": "y"
        },
        {
         "hovertemplate": "date=2019-01-23<br>pc1=%{x}<br>pc2=%{y}<extra></extra>",
         "legendgroup": "2019-01-23",
         "marker": {
          "color": "#EF553B",
          "symbol": "circle"
         },
         "mode": "markers",
         "name": "2019-01-23",
         "showlegend": true,
         "type": "scattergl",
         "x": [
          -8.261637379649517
         ],
         "xaxis": "x",
         "y": [
          16.696482640460683
         ],
         "yaxis": "y"
        },
        {
         "hovertemplate": "date=2019-01-24<br>pc1=%{x}<br>pc2=%{y}<extra></extra>",
         "legendgroup": "2019-01-24",
         "marker": {
          "color": "#00cc96",
          "symbol": "circle"
         },
         "mode": "markers",
         "name": "2019-01-24",
         "showlegend": true,
         "type": "scattergl",
         "x": [
          -11.604769633816352
         ],
         "xaxis": "x",
         "y": [
          8.419571973057991
         ],
         "yaxis": "y"
        },
        {
         "hovertemplate": "date=2019-01-25<br>pc1=%{x}<br>pc2=%{y}<extra></extra>",
         "legendgroup": "2019-01-25",
         "marker": {
          "color": "#ab63fa",
          "symbol": "circle"
         },
         "mode": "markers",
         "name": "2019-01-25",
         "showlegend": true,
         "type": "scattergl",
         "x": [
          -2.83375967583661
         ],
         "xaxis": "x",
         "y": [
          -17.206409882011254
         ],
         "yaxis": "y"
        },
        {
         "hovertemplate": "date=2019-01-26<br>pc1=%{x}<br>pc2=%{y}<extra></extra>",
         "legendgroup": "2019-01-26",
         "marker": {
          "color": "#FFA15A",
          "symbol": "circle"
         },
         "mode": "markers",
         "name": "2019-01-26",
         "showlegend": true,
         "type": "scattergl",
         "x": [
          7.749735248761787
         ],
         "xaxis": "x",
         "y": [
          -11.475377033258782
         ],
         "yaxis": "y"
        },
        {
         "hovertemplate": "date=2019-01-27<br>pc1=%{x}<br>pc2=%{y}<extra></extra>",
         "legendgroup": "2019-01-27",
         "marker": {
          "color": "#19d3f3",
          "symbol": "circle"
         },
         "mode": "markers",
         "name": "2019-01-27",
         "showlegend": true,
         "type": "scattergl",
         "x": [
          5.171312748746234
         ],
         "xaxis": "x",
         "y": [
          6.76485969995811
         ],
         "yaxis": "y"
        },
        {
         "hovertemplate": "date=2019-01-28<br>pc1=%{x}<br>pc2=%{y}<extra></extra>",
         "legendgroup": "2019-01-28",
         "marker": {
          "color": "#FF6692",
          "symbol": "circle"
         },
         "mode": "markers",
         "name": "2019-01-28",
         "showlegend": true,
         "type": "scattergl",
         "x": [
          -48.925435393753695
         ],
         "xaxis": "x",
         "y": [
          -16.063866704327
         ],
         "yaxis": "y"
        },
        {
         "hovertemplate": "date=2019-01-29<br>pc1=%{x}<br>pc2=%{y}<extra></extra>",
         "legendgroup": "2019-01-29",
         "marker": {
          "color": "#B6E880",
          "symbol": "circle"
         },
         "mode": "markers",
         "name": "2019-01-29",
         "showlegend": true,
         "type": "scattergl",
         "x": [
          -9.987939982491644
         ],
         "xaxis": "x",
         "y": [
          9.80529067219147
         ],
         "yaxis": "y"
        },
        {
         "hovertemplate": "date=2019-01-30<br>pc1=%{x}<br>pc2=%{y}<extra></extra>",
         "legendgroup": "2019-01-30",
         "marker": {
          "color": "#FF97FF",
          "symbol": "circle"
         },
         "mode": "markers",
         "name": "2019-01-30",
         "showlegend": true,
         "type": "scattergl",
         "x": [
          44.41555756729839
         ],
         "xaxis": "x",
         "y": [
          -26.052117774166483
         ],
         "yaxis": "y"
        },
        {
         "hovertemplate": "date=2019-01-31<br>pc1=%{x}<br>pc2=%{y}<extra></extra>",
         "legendgroup": "2019-01-31",
         "marker": {
          "color": "#FECB52",
          "symbol": "circle"
         },
         "mode": "markers",
         "name": "2019-01-31",
         "showlegend": true,
         "type": "scattergl",
         "x": [
          23.715092460120722
         ],
         "xaxis": "x",
         "y": [
          -24.252048681383126
         ],
         "yaxis": "y"
        },
        {
         "hovertemplate": "date=2019-02-01<br>pc1=%{x}<br>pc2=%{y}<extra></extra>",
         "legendgroup": "2019-02-01",
         "marker": {
          "color": "#636efa",
          "symbol": "circle"
         },
         "mode": "markers",
         "name": "2019-02-01",
         "showlegend": true,
         "type": "scattergl",
         "x": [
          -17.827918911123934
         ],
         "xaxis": "x",
         "y": [
          11.94201388703139
         ],
         "yaxis": "y"
        },
        {
         "hovertemplate": "date=2019-02-02<br>pc1=%{x}<br>pc2=%{y}<extra></extra>",
         "legendgroup": "2019-02-02",
         "marker": {
          "color": "#EF553B",
          "symbol": "circle"
         },
         "mode": "markers",
         "name": "2019-02-02",
         "showlegend": true,
         "type": "scattergl",
         "x": [
          -3.9487877044130735
         ],
         "xaxis": "x",
         "y": [
          10.085928085914436
         ],
         "yaxis": "y"
        },
        {
         "hovertemplate": "date=2019-02-03<br>pc1=%{x}<br>pc2=%{y}<extra></extra>",
         "legendgroup": "2019-02-03",
         "marker": {
          "color": "#00cc96",
          "symbol": "circle"
         },
         "mode": "markers",
         "name": "2019-02-03",
         "showlegend": true,
         "type": "scattergl",
         "x": [
          9.376006506553814
         ],
         "xaxis": "x",
         "y": [
          2.1741013231516773
         ],
         "yaxis": "y"
        },
        {
         "hovertemplate": "date=2019-02-04<br>pc1=%{x}<br>pc2=%{y}<extra></extra>",
         "legendgroup": "2019-02-04",
         "marker": {
          "color": "#ab63fa",
          "symbol": "circle"
         },
         "mode": "markers",
         "name": "2019-02-04",
         "showlegend": true,
         "type": "scattergl",
         "x": [
          -8.69271748237707
         ],
         "xaxis": "x",
         "y": [
          6.43805135652845
         ],
         "yaxis": "y"
        },
        {
         "hovertemplate": "date=2019-02-05<br>pc1=%{x}<br>pc2=%{y}<extra></extra>",
         "legendgroup": "2019-02-05",
         "marker": {
          "color": "#FFA15A",
          "symbol": "circle"
         },
         "mode": "markers",
         "name": "2019-02-05",
         "showlegend": true,
         "type": "scattergl",
         "x": [
          -4.915395425040545
         ],
         "xaxis": "x",
         "y": [
          7.048578420224247
         ],
         "yaxis": "y"
        },
        {
         "hovertemplate": "date=2019-02-06<br>pc1=%{x}<br>pc2=%{y}<extra></extra>",
         "legendgroup": "2019-02-06",
         "marker": {
          "color": "#19d3f3",
          "symbol": "circle"
         },
         "mode": "markers",
         "name": "2019-02-06",
         "showlegend": true,
         "type": "scattergl",
         "x": [
          -1.9956523746652464
         ],
         "xaxis": "x",
         "y": [
          10.955623977899675
         ],
         "yaxis": "y"
        },
        {
         "hovertemplate": "date=2019-02-07<br>pc1=%{x}<br>pc2=%{y}<extra></extra>",
         "legendgroup": "2019-02-07",
         "marker": {
          "color": "#FF6692",
          "symbol": "circle"
         },
         "mode": "markers",
         "name": "2019-02-07",
         "showlegend": true,
         "type": "scattergl",
         "x": [
          -7.546223342327471
         ],
         "xaxis": "x",
         "y": [
          3.145358256495808
         ],
         "yaxis": "y"
        },
        {
         "hovertemplate": "date=2019-02-08<br>pc1=%{x}<br>pc2=%{y}<extra></extra>",
         "legendgroup": "2019-02-08",
         "marker": {
          "color": "#B6E880",
          "symbol": "circle"
         },
         "mode": "markers",
         "name": "2019-02-08",
         "showlegend": true,
         "type": "scattergl",
         "x": [
          4.890332565530453
         ],
         "xaxis": "x",
         "y": [
          5.0362271767196285
         ],
         "yaxis": "y"
        },
        {
         "hovertemplate": "date=2019-02-09<br>pc1=%{x}<br>pc2=%{y}<extra></extra>",
         "legendgroup": "2019-02-09",
         "marker": {
          "color": "#FF97FF",
          "symbol": "circle"
         },
         "mode": "markers",
         "name": "2019-02-09",
         "showlegend": true,
         "type": "scattergl",
         "x": [
          10.978109110047901
         ],
         "xaxis": "x",
         "y": [
          -5.85497737012222
         ],
         "yaxis": "y"
        },
        {
         "hovertemplate": "date=2019-02-10<br>pc1=%{x}<br>pc2=%{y}<extra></extra>",
         "legendgroup": "2019-02-10",
         "marker": {
          "color": "#FECB52",
          "symbol": "circle"
         },
         "mode": "markers",
         "name": "2019-02-10",
         "showlegend": true,
         "type": "scattergl",
         "x": [
          13.183429264854084
         ],
         "xaxis": "x",
         "y": [
          -8.612940431542766
         ],
         "yaxis": "y"
        },
        {
         "hovertemplate": "date=2019-02-11<br>pc1=%{x}<br>pc2=%{y}<extra></extra>",
         "legendgroup": "2019-02-11",
         "marker": {
          "color": "#636efa",
          "symbol": "circle"
         },
         "mode": "markers",
         "name": "2019-02-11",
         "showlegend": true,
         "type": "scattergl",
         "x": [
          -4.427039761103141
         ],
         "xaxis": "x",
         "y": [
          11.17608845493681
         ],
         "yaxis": "y"
        },
        {
         "hovertemplate": "date=2019-02-12<br>pc1=%{x}<br>pc2=%{y}<extra></extra>",
         "legendgroup": "2019-02-12",
         "marker": {
          "color": "#EF553B",
          "symbol": "circle"
         },
         "mode": "markers",
         "name": "2019-02-12",
         "showlegend": true,
         "type": "scattergl",
         "x": [
          -2.7202585143966678
         ],
         "xaxis": "x",
         "y": [
          0.4397980010007794
         ],
         "yaxis": "y"
        },
        {
         "hovertemplate": "date=2019-02-13<br>pc1=%{x}<br>pc2=%{y}<extra></extra>",
         "legendgroup": "2019-02-13",
         "marker": {
          "color": "#00cc96",
          "symbol": "circle"
         },
         "mode": "markers",
         "name": "2019-02-13",
         "showlegend": true,
         "type": "scattergl",
         "x": [
          -4.364617410415299
         ],
         "xaxis": "x",
         "y": [
          7.640384495845688
         ],
         "yaxis": "y"
        },
        {
         "hovertemplate": "date=2019-02-14<br>pc1=%{x}<br>pc2=%{y}<extra></extra>",
         "legendgroup": "2019-02-14",
         "marker": {
          "color": "#ab63fa",
          "symbol": "circle"
         },
         "mode": "markers",
         "name": "2019-02-14",
         "showlegend": true,
         "type": "scattergl",
         "x": [
          -5.376681407746003
         ],
         "xaxis": "x",
         "y": [
          10.013932424913243
         ],
         "yaxis": "y"
        },
        {
         "hovertemplate": "date=2019-02-15<br>pc1=%{x}<br>pc2=%{y}<extra></extra>",
         "legendgroup": "2019-02-15",
         "marker": {
          "color": "#FFA15A",
          "symbol": "circle"
         },
         "mode": "markers",
         "name": "2019-02-15",
         "showlegend": true,
         "type": "scattergl",
         "x": [
          -2.7300523973071074
         ],
         "xaxis": "x",
         "y": [
          6.714981186617499
         ],
         "yaxis": "y"
        },
        {
         "hovertemplate": "date=2019-02-16<br>pc1=%{x}<br>pc2=%{y}<extra></extra>",
         "legendgroup": "2019-02-16",
         "marker": {
          "color": "#19d3f3",
          "symbol": "circle"
         },
         "mode": "markers",
         "name": "2019-02-16",
         "showlegend": true,
         "type": "scattergl",
         "x": [
          8.538151826105274
         ],
         "xaxis": "x",
         "y": [
          -2.7246324796724686
         ],
         "yaxis": "y"
        },
        {
         "hovertemplate": "date=2019-02-17<br>pc1=%{x}<br>pc2=%{y}<extra></extra>",
         "legendgroup": "2019-02-17",
         "marker": {
          "color": "#FF6692",
          "symbol": "circle"
         },
         "mode": "markers",
         "name": "2019-02-17",
         "showlegend": true,
         "type": "scattergl",
         "x": [
          13.103650441011414
         ],
         "xaxis": "x",
         "y": [
          -3.327490749311833
         ],
         "yaxis": "y"
        },
        {
         "hovertemplate": "date=2019-02-18<br>pc1=%{x}<br>pc2=%{y}<extra></extra>",
         "legendgroup": "2019-02-18",
         "marker": {
          "color": "#B6E880",
          "symbol": "circle"
         },
         "mode": "markers",
         "name": "2019-02-18",
         "showlegend": true,
         "type": "scattergl",
         "x": [
          12.63494684551126
         ],
         "xaxis": "x",
         "y": [
          -6.011667677199975
         ],
         "yaxis": "y"
        },
        {
         "hovertemplate": "date=2019-02-19<br>pc1=%{x}<br>pc2=%{y}<extra></extra>",
         "legendgroup": "2019-02-19",
         "marker": {
          "color": "#FF97FF",
          "symbol": "circle"
         },
         "mode": "markers",
         "name": "2019-02-19",
         "showlegend": true,
         "type": "scattergl",
         "x": [
          -6.298485111473449
         ],
         "xaxis": "x",
         "y": [
          8.532665511711627
         ],
         "yaxis": "y"
        },
        {
         "hovertemplate": "date=2019-02-20<br>pc1=%{x}<br>pc2=%{y}<extra></extra>",
         "legendgroup": "2019-02-20",
         "marker": {
          "color": "#FECB52",
          "symbol": "circle"
         },
         "mode": "markers",
         "name": "2019-02-20",
         "showlegend": true,
         "type": "scattergl",
         "x": [
          -4.366876030336233
         ],
         "xaxis": "x",
         "y": [
          11.297005883203505
         ],
         "yaxis": "y"
        },
        {
         "hovertemplate": "date=2019-02-21<br>pc1=%{x}<br>pc2=%{y}<extra></extra>",
         "legendgroup": "2019-02-21",
         "marker": {
          "color": "#636efa",
          "symbol": "circle"
         },
         "mode": "markers",
         "name": "2019-02-21",
         "showlegend": true,
         "type": "scattergl",
         "x": [
          -6.141680200613411
         ],
         "xaxis": "x",
         "y": [
          10.452496539603896
         ],
         "yaxis": "y"
        },
        {
         "hovertemplate": "date=2019-02-22<br>pc1=%{x}<br>pc2=%{y}<extra></extra>",
         "legendgroup": "2019-02-22",
         "marker": {
          "color": "#EF553B",
          "symbol": "circle"
         },
         "mode": "markers",
         "name": "2019-02-22",
         "showlegend": true,
         "type": "scattergl",
         "x": [
          -3.4233812755841933
         ],
         "xaxis": "x",
         "y": [
          6.531748794977546
         ],
         "yaxis": "y"
        },
        {
         "hovertemplate": "date=2019-02-23<br>pc1=%{x}<br>pc2=%{y}<extra></extra>",
         "legendgroup": "2019-02-23",
         "marker": {
          "color": "#00cc96",
          "symbol": "circle"
         },
         "mode": "markers",
         "name": "2019-02-23",
         "showlegend": true,
         "type": "scattergl",
         "x": [
          13.446058538782367
         ],
         "xaxis": "x",
         "y": [
          -4.87819799008251
         ],
         "yaxis": "y"
        },
        {
         "hovertemplate": "date=2019-02-24<br>pc1=%{x}<br>pc2=%{y}<extra></extra>",
         "legendgroup": "2019-02-24",
         "marker": {
          "color": "#ab63fa",
          "symbol": "circle"
         },
         "mode": "markers",
         "name": "2019-02-24",
         "showlegend": true,
         "type": "scattergl",
         "x": [
          15.212134226145858
         ],
         "xaxis": "x",
         "y": [
          -7.428330637426982
         ],
         "yaxis": "y"
        },
        {
         "hovertemplate": "date=2019-02-25<br>pc1=%{x}<br>pc2=%{y}<extra></extra>",
         "legendgroup": "2019-02-25",
         "marker": {
          "color": "#FFA15A",
          "symbol": "circle"
         },
         "mode": "markers",
         "name": "2019-02-25",
         "showlegend": true,
         "type": "scattergl",
         "x": [
          -3.0026298548947916
         ],
         "xaxis": "x",
         "y": [
          7.593735747337475
         ],
         "yaxis": "y"
        },
        {
         "hovertemplate": "date=2019-02-26<br>pc1=%{x}<br>pc2=%{y}<extra></extra>",
         "legendgroup": "2019-02-26",
         "marker": {
          "color": "#19d3f3",
          "symbol": "circle"
         },
         "mode": "markers",
         "name": "2019-02-26",
         "showlegend": true,
         "type": "scattergl",
         "x": [
          -1.5815402583314369
         ],
         "xaxis": "x",
         "y": [
          6.50561157848294
         ],
         "yaxis": "y"
        },
        {
         "hovertemplate": "date=2019-02-27<br>pc1=%{x}<br>pc2=%{y}<extra></extra>",
         "legendgroup": "2019-02-27",
         "marker": {
          "color": "#FF6692",
          "symbol": "circle"
         },
         "mode": "markers",
         "name": "2019-02-27",
         "showlegend": true,
         "type": "scattergl",
         "x": [
          -3.0017717359889735
         ],
         "xaxis": "x",
         "y": [
          7.986983785166664
         ],
         "yaxis": "y"
        },
        {
         "hovertemplate": "date=2019-02-28<br>pc1=%{x}<br>pc2=%{y}<extra></extra>",
         "legendgroup": "2019-02-28",
         "marker": {
          "color": "#B6E880",
          "symbol": "circle"
         },
         "mode": "markers",
         "name": "2019-02-28",
         "showlegend": true,
         "type": "scattergl",
         "x": [
          -2.4181794942605324
         ],
         "xaxis": "x",
         "y": [
          7.585157196455683
         ],
         "yaxis": "y"
        },
        {
         "hovertemplate": "date=2019-03-01<br>pc1=%{x}<br>pc2=%{y}<extra></extra>",
         "legendgroup": "2019-03-01",
         "marker": {
          "color": "#FF97FF",
          "symbol": "circle"
         },
         "mode": "markers",
         "name": "2019-03-01",
         "showlegend": true,
         "type": "scattergl",
         "x": [
          -3.3972162635458476
         ],
         "xaxis": "x",
         "y": [
          6.289807413365914
         ],
         "yaxis": "y"
        },
        {
         "hovertemplate": "date=2019-03-02<br>pc1=%{x}<br>pc2=%{y}<extra></extra>",
         "legendgroup": "2019-03-02",
         "marker": {
          "color": "#FECB52",
          "symbol": "circle"
         },
         "mode": "markers",
         "name": "2019-03-02",
         "showlegend": true,
         "type": "scattergl",
         "x": [
          10.709536068749122
         ],
         "xaxis": "x",
         "y": [
          -1.6104849575508913
         ],
         "yaxis": "y"
        },
        {
         "hovertemplate": "date=2019-03-03<br>pc1=%{x}<br>pc2=%{y}<extra></extra>",
         "legendgroup": "2019-03-03",
         "marker": {
          "color": "#636efa",
          "symbol": "circle"
         },
         "mode": "markers",
         "name": "2019-03-03",
         "showlegend": true,
         "type": "scattergl",
         "x": [
          15.585556395457136
         ],
         "xaxis": "x",
         "y": [
          -1.6212571539259952
         ],
         "yaxis": "y"
        },
        {
         "hovertemplate": "date=2019-03-04<br>pc1=%{x}<br>pc2=%{y}<extra></extra>",
         "legendgroup": "2019-03-04",
         "marker": {
          "color": "#EF553B",
          "symbol": "circle"
         },
         "mode": "markers",
         "name": "2019-03-04",
         "showlegend": true,
         "type": "scattergl",
         "x": [
          1.6710617934441276
         ],
         "xaxis": "x",
         "y": [
          3.606898493884646
         ],
         "yaxis": "y"
        },
        {
         "hovertemplate": "date=2019-03-05<br>pc1=%{x}<br>pc2=%{y}<extra></extra>",
         "legendgroup": "2019-03-05",
         "marker": {
          "color": "#00cc96",
          "symbol": "circle"
         },
         "mode": "markers",
         "name": "2019-03-05",
         "showlegend": true,
         "type": "scattergl",
         "x": [
          -0.5752257269535475
         ],
         "xaxis": "x",
         "y": [
          7.2854020624652565
         ],
         "yaxis": "y"
        },
        {
         "hovertemplate": "date=2019-03-06<br>pc1=%{x}<br>pc2=%{y}<extra></extra>",
         "legendgroup": "2019-03-06",
         "marker": {
          "color": "#ab63fa",
          "symbol": "circle"
         },
         "mode": "markers",
         "name": "2019-03-06",
         "showlegend": true,
         "type": "scattergl",
         "x": [
          -4.590329528083069
         ],
         "xaxis": "x",
         "y": [
          7.0017096602196185
         ],
         "yaxis": "y"
        },
        {
         "hovertemplate": "date=2019-03-07<br>pc1=%{x}<br>pc2=%{y}<extra></extra>",
         "legendgroup": "2019-03-07",
         "marker": {
          "color": "#FFA15A",
          "symbol": "circle"
         },
         "mode": "markers",
         "name": "2019-03-07",
         "showlegend": true,
         "type": "scattergl",
         "x": [
          -4.930782796474897
         ],
         "xaxis": "x",
         "y": [
          7.236416236320809
         ],
         "yaxis": "y"
        },
        {
         "hovertemplate": "date=2019-03-08<br>pc1=%{x}<br>pc2=%{y}<extra></extra>",
         "legendgroup": "2019-03-08",
         "marker": {
          "color": "#19d3f3",
          "symbol": "circle"
         },
         "mode": "markers",
         "name": "2019-03-08",
         "showlegend": true,
         "type": "scattergl",
         "x": [
          -1.4116624135754576
         ],
         "xaxis": "x",
         "y": [
          6.471927938222077
         ],
         "yaxis": "y"
        },
        {
         "hovertemplate": "date=2019-03-09<br>pc1=%{x}<br>pc2=%{y}<extra></extra>",
         "legendgroup": "2019-03-09",
         "marker": {
          "color": "#FF6692",
          "symbol": "circle"
         },
         "mode": "markers",
         "name": "2019-03-09",
         "showlegend": true,
         "type": "scattergl",
         "x": [
          16.14741786434226
         ],
         "xaxis": "x",
         "y": [
          -1.1784946204509392
         ],
         "yaxis": "y"
        },
        {
         "hovertemplate": "date=2019-03-10<br>pc1=%{x}<br>pc2=%{y}<extra></extra>",
         "legendgroup": "2019-03-10",
         "marker": {
          "color": "#B6E880",
          "symbol": "circle"
         },
         "mode": "markers",
         "name": "2019-03-10",
         "showlegend": true,
         "type": "scattergl",
         "x": [
          15.75517351943821
         ],
         "xaxis": "x",
         "y": [
          -5.728744144473319
         ],
         "yaxis": "y"
        },
        {
         "hovertemplate": "date=2019-03-11<br>pc1=%{x}<br>pc2=%{y}<extra></extra>",
         "legendgroup": "2019-03-11",
         "marker": {
          "color": "#FF97FF",
          "symbol": "circle"
         },
         "mode": "markers",
         "name": "2019-03-11",
         "showlegend": true,
         "type": "scattergl",
         "x": [
          -2.872005267488463
         ],
         "xaxis": "x",
         "y": [
          10.431424368017982
         ],
         "yaxis": "y"
        },
        {
         "hovertemplate": "date=2019-03-12<br>pc1=%{x}<br>pc2=%{y}<extra></extra>",
         "legendgroup": "2019-03-12",
         "marker": {
          "color": "#FECB52",
          "symbol": "circle"
         },
         "mode": "markers",
         "name": "2019-03-12",
         "showlegend": true,
         "type": "scattergl",
         "x": [
          -2.750656996016181
         ],
         "xaxis": "x",
         "y": [
          9.98829616452641
         ],
         "yaxis": "y"
        },
        {
         "hovertemplate": "date=2019-03-13<br>pc1=%{x}<br>pc2=%{y}<extra></extra>",
         "legendgroup": "2019-03-13",
         "marker": {
          "color": "#636efa",
          "symbol": "circle"
         },
         "mode": "markers",
         "name": "2019-03-13",
         "showlegend": true,
         "type": "scattergl",
         "x": [
          -1.0245757795097712
         ],
         "xaxis": "x",
         "y": [
          6.2973943090696975
         ],
         "yaxis": "y"
        },
        {
         "hovertemplate": "date=2019-03-14<br>pc1=%{x}<br>pc2=%{y}<extra></extra>",
         "legendgroup": "2019-03-14",
         "marker": {
          "color": "#EF553B",
          "symbol": "circle"
         },
         "mode": "markers",
         "name": "2019-03-14",
         "showlegend": true,
         "type": "scattergl",
         "x": [
          0.9857663299326193
         ],
         "xaxis": "x",
         "y": [
          6.605227229286077
         ],
         "yaxis": "y"
        },
        {
         "hovertemplate": "date=2019-03-15<br>pc1=%{x}<br>pc2=%{y}<extra></extra>",
         "legendgroup": "2019-03-15",
         "marker": {
          "color": "#00cc96",
          "symbol": "circle"
         },
         "mode": "markers",
         "name": "2019-03-15",
         "showlegend": true,
         "type": "scattergl",
         "x": [
          2.39633070037714
         ],
         "xaxis": "x",
         "y": [
          6.2791973166033594
         ],
         "yaxis": "y"
        },
        {
         "hovertemplate": "date=2019-03-16<br>pc1=%{x}<br>pc2=%{y}<extra></extra>",
         "legendgroup": "2019-03-16",
         "marker": {
          "color": "#ab63fa",
          "symbol": "circle"
         },
         "mode": "markers",
         "name": "2019-03-16",
         "showlegend": true,
         "type": "scattergl",
         "x": [
          -9.236213565827402
         ],
         "xaxis": "x",
         "y": [
          -6.271824558875005
         ],
         "yaxis": "y"
        },
        {
         "hovertemplate": "date=2019-03-17<br>pc1=%{x}<br>pc2=%{y}<extra></extra>",
         "legendgroup": "2019-03-17",
         "marker": {
          "color": "#FFA15A",
          "symbol": "circle"
         },
         "mode": "markers",
         "name": "2019-03-17",
         "showlegend": true,
         "type": "scattergl",
         "x": [
          13.401758683365722
         ],
         "xaxis": "x",
         "y": [
          -8.461609314731847
         ],
         "yaxis": "y"
        },
        {
         "hovertemplate": "date=2019-03-18<br>pc1=%{x}<br>pc2=%{y}<extra></extra>",
         "legendgroup": "2019-03-18",
         "marker": {
          "color": "#19d3f3",
          "symbol": "circle"
         },
         "mode": "markers",
         "name": "2019-03-18",
         "showlegend": true,
         "type": "scattergl",
         "x": [
          -1.4917433262387947
         ],
         "xaxis": "x",
         "y": [
          6.69657623063858
         ],
         "yaxis": "y"
        },
        {
         "hovertemplate": "date=2019-03-19<br>pc1=%{x}<br>pc2=%{y}<extra></extra>",
         "legendgroup": "2019-03-19",
         "marker": {
          "color": "#FF6692",
          "symbol": "circle"
         },
         "mode": "markers",
         "name": "2019-03-19",
         "showlegend": true,
         "type": "scattergl",
         "x": [
          0.2143809553422001
         ],
         "xaxis": "x",
         "y": [
          7.02391914703785
         ],
         "yaxis": "y"
        },
        {
         "hovertemplate": "date=2019-03-20<br>pc1=%{x}<br>pc2=%{y}<extra></extra>",
         "legendgroup": "2019-03-20",
         "marker": {
          "color": "#B6E880",
          "symbol": "circle"
         },
         "mode": "markers",
         "name": "2019-03-20",
         "showlegend": true,
         "type": "scattergl",
         "x": [
          -0.09167091656485392
         ],
         "xaxis": "x",
         "y": [
          7.176278687760363
         ],
         "yaxis": "y"
        },
        {
         "hovertemplate": "date=2019-03-21<br>pc1=%{x}<br>pc2=%{y}<extra></extra>",
         "legendgroup": "2019-03-21",
         "marker": {
          "color": "#FF97FF",
          "symbol": "circle"
         },
         "mode": "markers",
         "name": "2019-03-21",
         "showlegend": true,
         "type": "scattergl",
         "x": [
          -1.9049554748517235
         ],
         "xaxis": "x",
         "y": [
          7.0864766069005904
         ],
         "yaxis": "y"
        },
        {
         "hovertemplate": "date=2019-03-22<br>pc1=%{x}<br>pc2=%{y}<extra></extra>",
         "legendgroup": "2019-03-22",
         "marker": {
          "color": "#FECB52",
          "symbol": "circle"
         },
         "mode": "markers",
         "name": "2019-03-22",
         "showlegend": true,
         "type": "scattergl",
         "x": [
          -6.556751251432952
         ],
         "xaxis": "x",
         "y": [
          -3.084931545407785
         ],
         "yaxis": "y"
        },
        {
         "hovertemplate": "date=2019-03-23<br>pc1=%{x}<br>pc2=%{y}<extra></extra>",
         "legendgroup": "2019-03-23",
         "marker": {
          "color": "#636efa",
          "symbol": "circle"
         },
         "mode": "markers",
         "name": "2019-03-23",
         "showlegend": true,
         "type": "scattergl",
         "x": [
          8.677110334794376
         ],
         "xaxis": "x",
         "y": [
          -0.7882366715828488
         ],
         "yaxis": "y"
        },
        {
         "hovertemplate": "date=2019-03-24<br>pc1=%{x}<br>pc2=%{y}<extra></extra>",
         "legendgroup": "2019-03-24",
         "marker": {
          "color": "#EF553B",
          "symbol": "circle"
         },
         "mode": "markers",
         "name": "2019-03-24",
         "showlegend": true,
         "type": "scattergl",
         "x": [
          12.71293756411114
         ],
         "xaxis": "x",
         "y": [
          -5.3801100091848095
         ],
         "yaxis": "y"
        },
        {
         "hovertemplate": "date=2019-03-25<br>pc1=%{x}<br>pc2=%{y}<extra></extra>",
         "legendgroup": "2019-03-25",
         "marker": {
          "color": "#00cc96",
          "symbol": "circle"
         },
         "mode": "markers",
         "name": "2019-03-25",
         "showlegend": true,
         "type": "scattergl",
         "x": [
          -0.3443773712428763
         ],
         "xaxis": "x",
         "y": [
          7.891050989904056
         ],
         "yaxis": "y"
        },
        {
         "hovertemplate": "date=2019-03-26<br>pc1=%{x}<br>pc2=%{y}<extra></extra>",
         "legendgroup": "2019-03-26",
         "marker": {
          "color": "#ab63fa",
          "symbol": "circle"
         },
         "mode": "markers",
         "name": "2019-03-26",
         "showlegend": true,
         "type": "scattergl",
         "x": [
          -0.08700229707874227
         ],
         "xaxis": "x",
         "y": [
          7.074567516765634
         ],
         "yaxis": "y"
        },
        {
         "hovertemplate": "date=2019-03-27<br>pc1=%{x}<br>pc2=%{y}<extra></extra>",
         "legendgroup": "2019-03-27",
         "marker": {
          "color": "#FFA15A",
          "symbol": "circle"
         },
         "mode": "markers",
         "name": "2019-03-27",
         "showlegend": true,
         "type": "scattergl",
         "x": [
          -4.208554677387035
         ],
         "xaxis": "x",
         "y": [
          4.923024640156376
         ],
         "yaxis": "y"
        },
        {
         "hovertemplate": "date=2019-03-28<br>pc1=%{x}<br>pc2=%{y}<extra></extra>",
         "legendgroup": "2019-03-28",
         "marker": {
          "color": "#19d3f3",
          "symbol": "circle"
         },
         "mode": "markers",
         "name": "2019-03-28",
         "showlegend": true,
         "type": "scattergl",
         "x": [
          2.9448389742042282
         ],
         "xaxis": "x",
         "y": [
          14.199203045199889
         ],
         "yaxis": "y"
        },
        {
         "hovertemplate": "date=2019-03-29<br>pc1=%{x}<br>pc2=%{y}<extra></extra>",
         "legendgroup": "2019-03-29",
         "marker": {
          "color": "#FF6692",
          "symbol": "circle"
         },
         "mode": "markers",
         "name": "2019-03-29",
         "showlegend": true,
         "type": "scattergl",
         "x": [
          7.211231900514517
         ],
         "xaxis": "x",
         "y": [
          15.44518546952647
         ],
         "yaxis": "y"
        },
        {
         "hovertemplate": "date=2019-03-30<br>pc1=%{x}<br>pc2=%{y}<extra></extra>",
         "legendgroup": "2019-03-30",
         "marker": {
          "color": "#B6E880",
          "symbol": "circle"
         },
         "mode": "markers",
         "name": "2019-03-30",
         "showlegend": true,
         "type": "scattergl",
         "x": [
          12.518393523088761
         ],
         "xaxis": "x",
         "y": [
          -3.2867142692269224
         ],
         "yaxis": "y"
        },
        {
         "hovertemplate": "date=2019-03-31<br>pc1=%{x}<br>pc2=%{y}<extra></extra>",
         "legendgroup": "2019-03-31",
         "marker": {
          "color": "#FF97FF",
          "symbol": "circle"
         },
         "mode": "markers",
         "name": "2019-03-31",
         "showlegend": true,
         "type": "scattergl",
         "x": [
          11.840907625636833
         ],
         "xaxis": "x",
         "y": [
          -8.943580071854162
         ],
         "yaxis": "y"
        },
        {
         "hovertemplate": "date=2019-04-01<br>pc1=%{x}<br>pc2=%{y}<extra></extra>",
         "legendgroup": "2019-04-01",
         "marker": {
          "color": "#FECB52",
          "symbol": "circle"
         },
         "mode": "markers",
         "name": "2019-04-01",
         "showlegend": true,
         "type": "scattergl",
         "x": [
          -4.639977994779098
         ],
         "xaxis": "x",
         "y": [
          8.625939418000865
         ],
         "yaxis": "y"
        },
        {
         "hovertemplate": "date=2019-04-02<br>pc1=%{x}<br>pc2=%{y}<extra></extra>",
         "legendgroup": "2019-04-02",
         "marker": {
          "color": "#636efa",
          "symbol": "circle"
         },
         "mode": "markers",
         "name": "2019-04-02",
         "showlegend": true,
         "type": "scattergl",
         "x": [
          -2.7355796169017506
         ],
         "xaxis": "x",
         "y": [
          6.0887123463974
         ],
         "yaxis": "y"
        },
        {
         "hovertemplate": "date=2019-04-03<br>pc1=%{x}<br>pc2=%{y}<extra></extra>",
         "legendgroup": "2019-04-03",
         "marker": {
          "color": "#EF553B",
          "symbol": "circle"
         },
         "mode": "markers",
         "name": "2019-04-03",
         "showlegend": true,
         "type": "scattergl",
         "x": [
          -4.73025528243739
         ],
         "xaxis": "x",
         "y": [
          6.557905653746653
         ],
         "yaxis": "y"
        },
        {
         "hovertemplate": "date=2019-04-04<br>pc1=%{x}<br>pc2=%{y}<extra></extra>",
         "legendgroup": "2019-04-04",
         "marker": {
          "color": "#00cc96",
          "symbol": "circle"
         },
         "mode": "markers",
         "name": "2019-04-04",
         "showlegend": true,
         "type": "scattergl",
         "x": [
          -2.569173361929833
         ],
         "xaxis": "x",
         "y": [
          5.355005006677922
         ],
         "yaxis": "y"
        },
        {
         "hovertemplate": "date=2019-04-05<br>pc1=%{x}<br>pc2=%{y}<extra></extra>",
         "legendgroup": "2019-04-05",
         "marker": {
          "color": "#ab63fa",
          "symbol": "circle"
         },
         "mode": "markers",
         "name": "2019-04-05",
         "showlegend": true,
         "type": "scattergl",
         "x": [
          0.4898273270186792
         ],
         "xaxis": "x",
         "y": [
          2.347207181739027
         ],
         "yaxis": "y"
        },
        {
         "hovertemplate": "date=2019-04-06<br>pc1=%{x}<br>pc2=%{y}<extra></extra>",
         "legendgroup": "2019-04-06",
         "marker": {
          "color": "#FFA15A",
          "symbol": "circle"
         },
         "mode": "markers",
         "name": "2019-04-06",
         "showlegend": true,
         "type": "scattergl",
         "x": [
          8.8977443502564
         ],
         "xaxis": "x",
         "y": [
          -1.3896304825320898
         ],
         "yaxis": "y"
        },
        {
         "hovertemplate": "date=2019-04-07<br>pc1=%{x}<br>pc2=%{y}<extra></extra>",
         "legendgroup": "2019-04-07",
         "marker": {
          "color": "#19d3f3",
          "symbol": "circle"
         },
         "mode": "markers",
         "name": "2019-04-07",
         "showlegend": true,
         "type": "scattergl",
         "x": [
          16.60571685850398
         ],
         "xaxis": "x",
         "y": [
          -2.8973672830918313
         ],
         "yaxis": "y"
        },
        {
         "hovertemplate": "date=2019-04-08<br>pc1=%{x}<br>pc2=%{y}<extra></extra>",
         "legendgroup": "2019-04-08",
         "marker": {
          "color": "#FF6692",
          "symbol": "circle"
         },
         "mode": "markers",
         "name": "2019-04-08",
         "showlegend": true,
         "type": "scattergl",
         "x": [
          -5.814379254589609
         ],
         "xaxis": "x",
         "y": [
          11.580627983160912
         ],
         "yaxis": "y"
        },
        {
         "hovertemplate": "date=2019-04-09<br>pc1=%{x}<br>pc2=%{y}<extra></extra>",
         "legendgroup": "2019-04-09",
         "marker": {
          "color": "#B6E880",
          "symbol": "circle"
         },
         "mode": "markers",
         "name": "2019-04-09",
         "showlegend": true,
         "type": "scattergl",
         "x": [
          -4.791427711657489
         ],
         "xaxis": "x",
         "y": [
          2.951661469998631
         ],
         "yaxis": "y"
        },
        {
         "hovertemplate": "date=2019-04-10<br>pc1=%{x}<br>pc2=%{y}<extra></extra>",
         "legendgroup": "2019-04-10",
         "marker": {
          "color": "#FF97FF",
          "symbol": "circle"
         },
         "mode": "markers",
         "name": "2019-04-10",
         "showlegend": true,
         "type": "scattergl",
         "x": [
          1.2815587417733503
         ],
         "xaxis": "x",
         "y": [
          6.633337068920179
         ],
         "yaxis": "y"
        },
        {
         "hovertemplate": "date=2019-04-11<br>pc1=%{x}<br>pc2=%{y}<extra></extra>",
         "legendgroup": "2019-04-11",
         "marker": {
          "color": "#FECB52",
          "symbol": "circle"
         },
         "mode": "markers",
         "name": "2019-04-11",
         "showlegend": true,
         "type": "scattergl",
         "x": [
          -2.798757614677065
         ],
         "xaxis": "x",
         "y": [
          4.693046837006768
         ],
         "yaxis": "y"
        },
        {
         "hovertemplate": "date=2019-04-12<br>pc1=%{x}<br>pc2=%{y}<extra></extra>",
         "legendgroup": "2019-04-12",
         "marker": {
          "color": "#636efa",
          "symbol": "circle"
         },
         "mode": "markers",
         "name": "2019-04-12",
         "showlegend": true,
         "type": "scattergl",
         "x": [
          -3.5131132523784916
         ],
         "xaxis": "x",
         "y": [
          6.883165735394323
         ],
         "yaxis": "y"
        },
        {
         "hovertemplate": "date=2019-04-13<br>pc1=%{x}<br>pc2=%{y}<extra></extra>",
         "legendgroup": "2019-04-13",
         "marker": {
          "color": "#EF553B",
          "symbol": "circle"
         },
         "mode": "markers",
         "name": "2019-04-13",
         "showlegend": true,
         "type": "scattergl",
         "x": [
          7.690513311349342
         ],
         "xaxis": "x",
         "y": [
          3.144557989379097
         ],
         "yaxis": "y"
        },
        {
         "hovertemplate": "date=2019-04-14<br>pc1=%{x}<br>pc2=%{y}<extra></extra>",
         "legendgroup": "2019-04-14",
         "marker": {
          "color": "#00cc96",
          "symbol": "circle"
         },
         "mode": "markers",
         "name": "2019-04-14",
         "showlegend": true,
         "type": "scattergl",
         "x": [
          18.728925628896494
         ],
         "xaxis": "x",
         "y": [
          -9.79023976969518
         ],
         "yaxis": "y"
        },
        {
         "hovertemplate": "date=2019-04-15<br>pc1=%{x}<br>pc2=%{y}<extra></extra>",
         "legendgroup": "2019-04-15",
         "marker": {
          "color": "#ab63fa",
          "symbol": "circle"
         },
         "mode": "markers",
         "name": "2019-04-15",
         "showlegend": true,
         "type": "scattergl",
         "x": [
          -3.3386603439389977
         ],
         "xaxis": "x",
         "y": [
          5.124135623548546
         ],
         "yaxis": "y"
        },
        {
         "hovertemplate": "date=2019-04-16<br>pc1=%{x}<br>pc2=%{y}<extra></extra>",
         "legendgroup": "2019-04-16",
         "marker": {
          "color": "#FFA15A",
          "symbol": "circle"
         },
         "mode": "markers",
         "name": "2019-04-16",
         "showlegend": true,
         "type": "scattergl",
         "x": [
          -2.2331875421263203
         ],
         "xaxis": "x",
         "y": [
          9.197856725659133
         ],
         "yaxis": "y"
        },
        {
         "hovertemplate": "date=2019-04-17<br>pc1=%{x}<br>pc2=%{y}<extra></extra>",
         "legendgroup": "2019-04-17",
         "marker": {
          "color": "#19d3f3",
          "symbol": "circle"
         },
         "mode": "markers",
         "name": "2019-04-17",
         "showlegend": true,
         "type": "scattergl",
         "x": [
          -2.3466535738664827
         ],
         "xaxis": "x",
         "y": [
          9.268783963342162
         ],
         "yaxis": "y"
        },
        {
         "hovertemplate": "date=2019-04-18<br>pc1=%{x}<br>pc2=%{y}<extra></extra>",
         "legendgroup": "2019-04-18",
         "marker": {
          "color": "#FF6692",
          "symbol": "circle"
         },
         "mode": "markers",
         "name": "2019-04-18",
         "showlegend": true,
         "type": "scattergl",
         "x": [
          2.338716141826761
         ],
         "xaxis": "x",
         "y": [
          5.9497938582181105
         ],
         "yaxis": "y"
        },
        {
         "hovertemplate": "date=2019-04-19<br>pc1=%{x}<br>pc2=%{y}<extra></extra>",
         "legendgroup": "2019-04-19",
         "marker": {
          "color": "#B6E880",
          "symbol": "circle"
         },
         "mode": "markers",
         "name": "2019-04-19",
         "showlegend": true,
         "type": "scattergl",
         "x": [
          4.700899089046785
         ],
         "xaxis": "x",
         "y": [
          -1.6046782815963627
         ],
         "yaxis": "y"
        },
        {
         "hovertemplate": "date=2019-04-20<br>pc1=%{x}<br>pc2=%{y}<extra></extra>",
         "legendgroup": "2019-04-20",
         "marker": {
          "color": "#FF97FF",
          "symbol": "circle"
         },
         "mode": "markers",
         "name": "2019-04-20",
         "showlegend": true,
         "type": "scattergl",
         "x": [
          7.434391999758319
         ],
         "xaxis": "x",
         "y": [
          -2.5785735866783117
         ],
         "yaxis": "y"
        },
        {
         "hovertemplate": "date=2019-04-21<br>pc1=%{x}<br>pc2=%{y}<extra></extra>",
         "legendgroup": "2019-04-21",
         "marker": {
          "color": "#FECB52",
          "symbol": "circle"
         },
         "mode": "markers",
         "name": "2019-04-21",
         "showlegend": true,
         "type": "scattergl",
         "x": [
          12.848478735984042
         ],
         "xaxis": "x",
         "y": [
          -1.295680159700531
         ],
         "yaxis": "y"
        },
        {
         "hovertemplate": "date=2019-04-22<br>pc1=%{x}<br>pc2=%{y}<extra></extra>",
         "legendgroup": "2019-04-22",
         "marker": {
          "color": "#636efa",
          "symbol": "circle"
         },
         "mode": "markers",
         "name": "2019-04-22",
         "showlegend": true,
         "type": "scattergl",
         "x": [
          -4.674969310163443
         ],
         "xaxis": "x",
         "y": [
          4.148112586118525
         ],
         "yaxis": "y"
        },
        {
         "hovertemplate": "date=2019-04-23<br>pc1=%{x}<br>pc2=%{y}<extra></extra>",
         "legendgroup": "2019-04-23",
         "marker": {
          "color": "#EF553B",
          "symbol": "circle"
         },
         "mode": "markers",
         "name": "2019-04-23",
         "showlegend": true,
         "type": "scattergl",
         "x": [
          -1.2233537742573182
         ],
         "xaxis": "x",
         "y": [
          8.464931837657055
         ],
         "yaxis": "y"
        },
        {
         "hovertemplate": "date=2019-04-24<br>pc1=%{x}<br>pc2=%{y}<extra></extra>",
         "legendgroup": "2019-04-24",
         "marker": {
          "color": "#00cc96",
          "symbol": "circle"
         },
         "mode": "markers",
         "name": "2019-04-24",
         "showlegend": true,
         "type": "scattergl",
         "x": [
          -3.5191116970598126
         ],
         "xaxis": "x",
         "y": [
          10.34996271354551
         ],
         "yaxis": "y"
        },
        {
         "hovertemplate": "date=2019-04-25<br>pc1=%{x}<br>pc2=%{y}<extra></extra>",
         "legendgroup": "2019-04-25",
         "marker": {
          "color": "#ab63fa",
          "symbol": "circle"
         },
         "mode": "markers",
         "name": "2019-04-25",
         "showlegend": true,
         "type": "scattergl",
         "x": [
          -7.691853459081364
         ],
         "xaxis": "x",
         "y": [
          5.892885273453622
         ],
         "yaxis": "y"
        },
        {
         "hovertemplate": "date=2019-04-26<br>pc1=%{x}<br>pc2=%{y}<extra></extra>",
         "legendgroup": "2019-04-26",
         "marker": {
          "color": "#FFA15A",
          "symbol": "circle"
         },
         "mode": "markers",
         "name": "2019-04-26",
         "showlegend": true,
         "type": "scattergl",
         "x": [
          -3.878884363901618
         ],
         "xaxis": "x",
         "y": [
          6.565065621219262
         ],
         "yaxis": "y"
        },
        {
         "hovertemplate": "date=2019-04-27<br>pc1=%{x}<br>pc2=%{y}<extra></extra>",
         "legendgroup": "2019-04-27",
         "marker": {
          "color": "#19d3f3",
          "symbol": "circle"
         },
         "mode": "markers",
         "name": "2019-04-27",
         "showlegend": true,
         "type": "scattergl",
         "x": [
          18.916466084598635
         ],
         "xaxis": "x",
         "y": [
          -3.840651217833963
         ],
         "yaxis": "y"
        },
        {
         "hovertemplate": "date=2019-04-28<br>pc1=%{x}<br>pc2=%{y}<extra></extra>",
         "legendgroup": "2019-04-28",
         "marker": {
          "color": "#FF6692",
          "symbol": "circle"
         },
         "mode": "markers",
         "name": "2019-04-28",
         "showlegend": true,
         "type": "scattergl",
         "x": [
          13.456794429323566
         ],
         "xaxis": "x",
         "y": [
          -1.6005339804340586
         ],
         "yaxis": "y"
        },
        {
         "hovertemplate": "date=2019-04-29<br>pc1=%{x}<br>pc2=%{y}<extra></extra>",
         "legendgroup": "2019-04-29",
         "marker": {
          "color": "#B6E880",
          "symbol": "circle"
         },
         "mode": "markers",
         "name": "2019-04-29",
         "showlegend": true,
         "type": "scattergl",
         "x": [
          -2.8238007565859955
         ],
         "xaxis": "x",
         "y": [
          2.5009388767309586
         ],
         "yaxis": "y"
        },
        {
         "hovertemplate": "date=2019-04-30<br>pc1=%{x}<br>pc2=%{y}<extra></extra>",
         "legendgroup": "2019-04-30",
         "marker": {
          "color": "#FF97FF",
          "symbol": "circle"
         },
         "mode": "markers",
         "name": "2019-04-30",
         "showlegend": true,
         "type": "scattergl",
         "x": [
          0.07516180472649917
         ],
         "xaxis": "x",
         "y": [
          6.111924424821089
         ],
         "yaxis": "y"
        },
        {
         "hovertemplate": "date=2019-05-01<br>pc1=%{x}<br>pc2=%{y}<extra></extra>",
         "legendgroup": "2019-05-01",
         "marker": {
          "color": "#FECB52",
          "symbol": "circle"
         },
         "mode": "markers",
         "name": "2019-05-01",
         "showlegend": true,
         "type": "scattergl",
         "x": [
          -4.253533974726114
         ],
         "xaxis": "x",
         "y": [
          5.1565595644385755
         ],
         "yaxis": "y"
        },
        {
         "hovertemplate": "date=2019-05-02<br>pc1=%{x}<br>pc2=%{y}<extra></extra>",
         "legendgroup": "2019-05-02",
         "marker": {
          "color": "#636efa",
          "symbol": "circle"
         },
         "mode": "markers",
         "name": "2019-05-02",
         "showlegend": true,
         "type": "scattergl",
         "x": [
          -1.4940471359498102
         ],
         "xaxis": "x",
         "y": [
          4.916820750537782
         ],
         "yaxis": "y"
        },
        {
         "hovertemplate": "date=2019-05-03<br>pc1=%{x}<br>pc2=%{y}<extra></extra>",
         "legendgroup": "2019-05-03",
         "marker": {
          "color": "#EF553B",
          "symbol": "circle"
         },
         "mode": "markers",
         "name": "2019-05-03",
         "showlegend": true,
         "type": "scattergl",
         "x": [
          -4.124672376721929
         ],
         "xaxis": "x",
         "y": [
          6.0276967099732985
         ],
         "yaxis": "y"
        },
        {
         "hovertemplate": "date=2019-05-04<br>pc1=%{x}<br>pc2=%{y}<extra></extra>",
         "legendgroup": "2019-05-04",
         "marker": {
          "color": "#00cc96",
          "symbol": "circle"
         },
         "mode": "markers",
         "name": "2019-05-04",
         "showlegend": true,
         "type": "scattergl",
         "x": [
          6.0846930671979536
         ],
         "xaxis": "x",
         "y": [
          -4.617791627212347
         ],
         "yaxis": "y"
        },
        {
         "hovertemplate": "date=2019-05-05<br>pc1=%{x}<br>pc2=%{y}<extra></extra>",
         "legendgroup": "2019-05-05",
         "marker": {
          "color": "#ab63fa",
          "symbol": "circle"
         },
         "mode": "markers",
         "name": "2019-05-05",
         "showlegend": true,
         "type": "scattergl",
         "x": [
          6.643071149432468
         ],
         "xaxis": "x",
         "y": [
          -11.639939349757997
         ],
         "yaxis": "y"
        },
        {
         "hovertemplate": "date=2019-05-06<br>pc1=%{x}<br>pc2=%{y}<extra></extra>",
         "legendgroup": "2019-05-06",
         "marker": {
          "color": "#FFA15A",
          "symbol": "circle"
         },
         "mode": "markers",
         "name": "2019-05-06",
         "showlegend": true,
         "type": "scattergl",
         "x": [
          -1.204082493088287
         ],
         "xaxis": "x",
         "y": [
          8.335648215947993
         ],
         "yaxis": "y"
        },
        {
         "hovertemplate": "date=2019-05-07<br>pc1=%{x}<br>pc2=%{y}<extra></extra>",
         "legendgroup": "2019-05-07",
         "marker": {
          "color": "#19d3f3",
          "symbol": "circle"
         },
         "mode": "markers",
         "name": "2019-05-07",
         "showlegend": true,
         "type": "scattergl",
         "x": [
          -1.1837953554559064
         ],
         "xaxis": "x",
         "y": [
          3.2193654804714953
         ],
         "yaxis": "y"
        },
        {
         "hovertemplate": "date=2019-05-08<br>pc1=%{x}<br>pc2=%{y}<extra></extra>",
         "legendgroup": "2019-05-08",
         "marker": {
          "color": "#FF6692",
          "symbol": "circle"
         },
         "mode": "markers",
         "name": "2019-05-08",
         "showlegend": true,
         "type": "scattergl",
         "x": [
          -0.2891146623062882
         ],
         "xaxis": "x",
         "y": [
          10.70418634380217
         ],
         "yaxis": "y"
        },
        {
         "hovertemplate": "date=2019-05-09<br>pc1=%{x}<br>pc2=%{y}<extra></extra>",
         "legendgroup": "2019-05-09",
         "marker": {
          "color": "#B6E880",
          "symbol": "circle"
         },
         "mode": "markers",
         "name": "2019-05-09",
         "showlegend": true,
         "type": "scattergl",
         "x": [
          -2.5571884877560134
         ],
         "xaxis": "x",
         "y": [
          7.558352105404416
         ],
         "yaxis": "y"
        },
        {
         "hovertemplate": "date=2019-05-10<br>pc1=%{x}<br>pc2=%{y}<extra></extra>",
         "legendgroup": "2019-05-10",
         "marker": {
          "color": "#FF97FF",
          "symbol": "circle"
         },
         "mode": "markers",
         "name": "2019-05-10",
         "showlegend": true,
         "type": "scattergl",
         "x": [
          -5.4705207137087335
         ],
         "xaxis": "x",
         "y": [
          3.791874115182456
         ],
         "yaxis": "y"
        },
        {
         "hovertemplate": "date=2019-05-11<br>pc1=%{x}<br>pc2=%{y}<extra></extra>",
         "legendgroup": "2019-05-11",
         "marker": {
          "color": "#FECB52",
          "symbol": "circle"
         },
         "mode": "markers",
         "name": "2019-05-11",
         "showlegend": true,
         "type": "scattergl",
         "x": [
          10.410770554200157
         ],
         "xaxis": "x",
         "y": [
          -3.5975475725404125
         ],
         "yaxis": "y"
        },
        {
         "hovertemplate": "date=2019-05-12<br>pc1=%{x}<br>pc2=%{y}<extra></extra>",
         "legendgroup": "2019-05-12",
         "marker": {
          "color": "#636efa",
          "symbol": "circle"
         },
         "mode": "markers",
         "name": "2019-05-12",
         "showlegend": true,
         "type": "scattergl",
         "x": [
          13.273397183811632
         ],
         "xaxis": "x",
         "y": [
          -8.811826348866973
         ],
         "yaxis": "y"
        },
        {
         "hovertemplate": "date=2019-05-13<br>pc1=%{x}<br>pc2=%{y}<extra></extra>",
         "legendgroup": "2019-05-13",
         "marker": {
          "color": "#EF553B",
          "symbol": "circle"
         },
         "mode": "markers",
         "name": "2019-05-13",
         "showlegend": true,
         "type": "scattergl",
         "x": [
          -1.415113433242854
         ],
         "xaxis": "x",
         "y": [
          8.683234507407386
         ],
         "yaxis": "y"
        },
        {
         "hovertemplate": "date=2019-05-14<br>pc1=%{x}<br>pc2=%{y}<extra></extra>",
         "legendgroup": "2019-05-14",
         "marker": {
          "color": "#00cc96",
          "symbol": "circle"
         },
         "mode": "markers",
         "name": "2019-05-14",
         "showlegend": true,
         "type": "scattergl",
         "x": [
          -1.8070445435411857
         ],
         "xaxis": "x",
         "y": [
          8.053112028016209
         ],
         "yaxis": "y"
        },
        {
         "hovertemplate": "date=2019-05-15<br>pc1=%{x}<br>pc2=%{y}<extra></extra>",
         "legendgroup": "2019-05-15",
         "marker": {
          "color": "#ab63fa",
          "symbol": "circle"
         },
         "mode": "markers",
         "name": "2019-05-15",
         "showlegend": true,
         "type": "scattergl",
         "x": [
          -5.101000206794249
         ],
         "xaxis": "x",
         "y": [
          5.211097587247638
         ],
         "yaxis": "y"
        },
        {
         "hovertemplate": "date=2019-05-16<br>pc1=%{x}<br>pc2=%{y}<extra></extra>",
         "legendgroup": "2019-05-16",
         "marker": {
          "color": "#FFA15A",
          "symbol": "circle"
         },
         "mode": "markers",
         "name": "2019-05-16",
         "showlegend": true,
         "type": "scattergl",
         "x": [
          -0.3257619272948167
         ],
         "xaxis": "x",
         "y": [
          6.64239032810977
         ],
         "yaxis": "y"
        },
        {
         "hovertemplate": "date=2019-05-17<br>pc1=%{x}<br>pc2=%{y}<extra></extra>",
         "legendgroup": "2019-05-17",
         "marker": {
          "color": "#19d3f3",
          "symbol": "circle"
         },
         "mode": "markers",
         "name": "2019-05-17",
         "showlegend": true,
         "type": "scattergl",
         "x": [
          -2.8718226355526233
         ],
         "xaxis": "x",
         "y": [
          -1.8360345861017406
         ],
         "yaxis": "y"
        },
        {
         "hovertemplate": "date=2019-05-18<br>pc1=%{x}<br>pc2=%{y}<extra></extra>",
         "legendgroup": "2019-05-18",
         "marker": {
          "color": "#FF6692",
          "symbol": "circle"
         },
         "mode": "markers",
         "name": "2019-05-18",
         "showlegend": true,
         "type": "scattergl",
         "x": [
          9.667921820290337
         ],
         "xaxis": "x",
         "y": [
          -2.8007212535890607
         ],
         "yaxis": "y"
        },
        {
         "hovertemplate": "date=2019-05-19<br>pc1=%{x}<br>pc2=%{y}<extra></extra>",
         "legendgroup": "2019-05-19",
         "marker": {
          "color": "#B6E880",
          "symbol": "circle"
         },
         "mode": "markers",
         "name": "2019-05-19",
         "showlegend": true,
         "type": "scattergl",
         "x": [
          14.048751602699504
         ],
         "xaxis": "x",
         "y": [
          -3.021007184890128
         ],
         "yaxis": "y"
        },
        {
         "hovertemplate": "date=2019-05-20<br>pc1=%{x}<br>pc2=%{y}<extra></extra>",
         "legendgroup": "2019-05-20",
         "marker": {
          "color": "#FF97FF",
          "symbol": "circle"
         },
         "mode": "markers",
         "name": "2019-05-20",
         "showlegend": true,
         "type": "scattergl",
         "x": [
          -6.705127968388392
         ],
         "xaxis": "x",
         "y": [
          2.5514223402200065
         ],
         "yaxis": "y"
        },
        {
         "hovertemplate": "date=2019-05-21<br>pc1=%{x}<br>pc2=%{y}<extra></extra>",
         "legendgroup": "2019-05-21",
         "marker": {
          "color": "#FECB52",
          "symbol": "circle"
         },
         "mode": "markers",
         "name": "2019-05-21",
         "showlegend": true,
         "type": "scattergl",
         "x": [
          0.94946271704336
         ],
         "xaxis": "x",
         "y": [
          7.904079653918182
         ],
         "yaxis": "y"
        },
        {
         "hovertemplate": "date=2019-05-22<br>pc1=%{x}<br>pc2=%{y}<extra></extra>",
         "legendgroup": "2019-05-22",
         "marker": {
          "color": "#636efa",
          "symbol": "circle"
         },
         "mode": "markers",
         "name": "2019-05-22",
         "showlegend": true,
         "type": "scattergl",
         "x": [
          -4.4452753109049805
         ],
         "xaxis": "x",
         "y": [
          7.908036266570048
         ],
         "yaxis": "y"
        },
        {
         "hovertemplate": "date=2019-05-23<br>pc1=%{x}<br>pc2=%{y}<extra></extra>",
         "legendgroup": "2019-05-23",
         "marker": {
          "color": "#EF553B",
          "symbol": "circle"
         },
         "mode": "markers",
         "name": "2019-05-23",
         "showlegend": true,
         "type": "scattergl",
         "x": [
          -9.023202873996562
         ],
         "xaxis": "x",
         "y": [
          0.5651412124801208
         ],
         "yaxis": "y"
        },
        {
         "hovertemplate": "date=2019-05-24<br>pc1=%{x}<br>pc2=%{y}<extra></extra>",
         "legendgroup": "2019-05-24",
         "marker": {
          "color": "#00cc96",
          "symbol": "circle"
         },
         "mode": "markers",
         "name": "2019-05-24",
         "showlegend": true,
         "type": "scattergl",
         "x": [
          -4.526256882517192
         ],
         "xaxis": "x",
         "y": [
          7.07752230934329
         ],
         "yaxis": "y"
        },
        {
         "hovertemplate": "date=2019-05-25<br>pc1=%{x}<br>pc2=%{y}<extra></extra>",
         "legendgroup": "2019-05-25",
         "marker": {
          "color": "#ab63fa",
          "symbol": "circle"
         },
         "mode": "markers",
         "name": "2019-05-25",
         "showlegend": true,
         "type": "scattergl",
         "x": [
          -0.3528143034652635
         ],
         "xaxis": "x",
         "y": [
          1.6897977878272081
         ],
         "yaxis": "y"
        },
        {
         "hovertemplate": "date=2019-05-26<br>pc1=%{x}<br>pc2=%{y}<extra></extra>",
         "legendgroup": "2019-05-26",
         "marker": {
          "color": "#FFA15A",
          "symbol": "circle"
         },
         "mode": "markers",
         "name": "2019-05-26",
         "showlegend": true,
         "type": "scattergl",
         "x": [
          4.069981770014627
         ],
         "xaxis": "x",
         "y": [
          3.00848391963783
         ],
         "yaxis": "y"
        },
        {
         "hovertemplate": "date=2019-05-27<br>pc1=%{x}<br>pc2=%{y}<extra></extra>",
         "legendgroup": "2019-05-27",
         "marker": {
          "color": "#19d3f3",
          "symbol": "circle"
         },
         "mode": "markers",
         "name": "2019-05-27",
         "showlegend": true,
         "type": "scattergl",
         "x": [
          41.3495346275375
         ],
         "xaxis": "x",
         "y": [
          -21.216151940728608
         ],
         "yaxis": "y"
        },
        {
         "hovertemplate": "date=2019-05-28<br>pc1=%{x}<br>pc2=%{y}<extra></extra>",
         "legendgroup": "2019-05-28",
         "marker": {
          "color": "#FF6692",
          "symbol": "circle"
         },
         "mode": "markers",
         "name": "2019-05-28",
         "showlegend": true,
         "type": "scattergl",
         "x": [
          -9.585673883090363
         ],
         "xaxis": "x",
         "y": [
          -0.02037250255747077
         ],
         "yaxis": "y"
        },
        {
         "hovertemplate": "date=2019-05-29<br>pc1=%{x}<br>pc2=%{y}<extra></extra>",
         "legendgroup": "2019-05-29",
         "marker": {
          "color": "#B6E880",
          "symbol": "circle"
         },
         "mode": "markers",
         "name": "2019-05-29",
         "showlegend": true,
         "type": "scattergl",
         "x": [
          -6.561617892016219
         ],
         "xaxis": "x",
         "y": [
          12.916028675940138
         ],
         "yaxis": "y"
        },
        {
         "hovertemplate": "date=2019-05-30<br>pc1=%{x}<br>pc2=%{y}<extra></extra>",
         "legendgroup": "2019-05-30",
         "marker": {
          "color": "#FF97FF",
          "symbol": "circle"
         },
         "mode": "markers",
         "name": "2019-05-30",
         "showlegend": true,
         "type": "scattergl",
         "x": [
          -12.74747612316466
         ],
         "xaxis": "x",
         "y": [
          7.7383992140744775
         ],
         "yaxis": "y"
        },
        {
         "hovertemplate": "date=2019-05-31<br>pc1=%{x}<br>pc2=%{y}<extra></extra>",
         "legendgroup": "2019-05-31",
         "marker": {
          "color": "#FECB52",
          "symbol": "circle"
         },
         "mode": "markers",
         "name": "2019-05-31",
         "showlegend": true,
         "type": "scattergl",
         "x": [
          -5.883585918081758
         ],
         "xaxis": "x",
         "y": [
          6.403692036453337
         ],
         "yaxis": "y"
        },
        {
         "hovertemplate": "date=2019-06-01<br>pc1=%{x}<br>pc2=%{y}<extra></extra>",
         "legendgroup": "2019-06-01",
         "marker": {
          "color": "#636efa",
          "symbol": "circle"
         },
         "mode": "markers",
         "name": "2019-06-01",
         "showlegend": true,
         "type": "scattergl",
         "x": [
          12.810772060379907
         ],
         "xaxis": "x",
         "y": [
          -3.8097028728041304
         ],
         "yaxis": "y"
        },
        {
         "hovertemplate": "date=2019-06-02<br>pc1=%{x}<br>pc2=%{y}<extra></extra>",
         "legendgroup": "2019-06-02",
         "marker": {
          "color": "#EF553B",
          "symbol": "circle"
         },
         "mode": "markers",
         "name": "2019-06-02",
         "showlegend": true,
         "type": "scattergl",
         "x": [
          8.973580929971154
         ],
         "xaxis": "x",
         "y": [
          -10.377618049242255
         ],
         "yaxis": "y"
        },
        {
         "hovertemplate": "date=2019-06-03<br>pc1=%{x}<br>pc2=%{y}<extra></extra>",
         "legendgroup": "2019-06-03",
         "marker": {
          "color": "#00cc96",
          "symbol": "circle"
         },
         "mode": "markers",
         "name": "2019-06-03",
         "showlegend": true,
         "type": "scattergl",
         "x": [
          -5.936396676354774
         ],
         "xaxis": "x",
         "y": [
          3.4456466479808823
         ],
         "yaxis": "y"
        },
        {
         "hovertemplate": "date=2019-06-04<br>pc1=%{x}<br>pc2=%{y}<extra></extra>",
         "legendgroup": "2019-06-04",
         "marker": {
          "color": "#ab63fa",
          "symbol": "circle"
         },
         "mode": "markers",
         "name": "2019-06-04",
         "showlegend": true,
         "type": "scattergl",
         "x": [
          0.007208787533756374
         ],
         "xaxis": "x",
         "y": [
          8.455841278211787
         ],
         "yaxis": "y"
        },
        {
         "hovertemplate": "date=2019-06-05<br>pc1=%{x}<br>pc2=%{y}<extra></extra>",
         "legendgroup": "2019-06-05",
         "marker": {
          "color": "#FFA15A",
          "symbol": "circle"
         },
         "mode": "markers",
         "name": "2019-06-05",
         "showlegend": true,
         "type": "scattergl",
         "x": [
          -4.925319497085312
         ],
         "xaxis": "x",
         "y": [
          2.9245028696120117
         ],
         "yaxis": "y"
        },
        {
         "hovertemplate": "date=2019-06-06<br>pc1=%{x}<br>pc2=%{y}<extra></extra>",
         "legendgroup": "2019-06-06",
         "marker": {
          "color": "#19d3f3",
          "symbol": "circle"
         },
         "mode": "markers",
         "name": "2019-06-06",
         "showlegend": true,
         "type": "scattergl",
         "x": [
          -2.4929804293863467
         ],
         "xaxis": "x",
         "y": [
          3.8848480561704926
         ],
         "yaxis": "y"
        },
        {
         "hovertemplate": "date=2019-06-07<br>pc1=%{x}<br>pc2=%{y}<extra></extra>",
         "legendgroup": "2019-06-07",
         "marker": {
          "color": "#FF6692",
          "symbol": "circle"
         },
         "mode": "markers",
         "name": "2019-06-07",
         "showlegend": true,
         "type": "scattergl",
         "x": [
          -2.7964455853187022
         ],
         "xaxis": "x",
         "y": [
          5.015368772433405
         ],
         "yaxis": "y"
        },
        {
         "hovertemplate": "date=2019-06-08<br>pc1=%{x}<br>pc2=%{y}<extra></extra>",
         "legendgroup": "2019-06-08",
         "marker": {
          "color": "#B6E880",
          "symbol": "circle"
         },
         "mode": "markers",
         "name": "2019-06-08",
         "showlegend": true,
         "type": "scattergl",
         "x": [
          2.9619392105797333
         ],
         "xaxis": "x",
         "y": [
          -6.099407692465243
         ],
         "yaxis": "y"
        },
        {
         "hovertemplate": "date=2019-06-09<br>pc1=%{x}<br>pc2=%{y}<extra></extra>",
         "legendgroup": "2019-06-09",
         "marker": {
          "color": "#FF97FF",
          "symbol": "circle"
         },
         "mode": "markers",
         "name": "2019-06-09",
         "showlegend": true,
         "type": "scattergl",
         "x": [
          13.484129165993943
         ],
         "xaxis": "x",
         "y": [
          -3.8214427733335357
         ],
         "yaxis": "y"
        },
        {
         "hovertemplate": "date=2019-06-10<br>pc1=%{x}<br>pc2=%{y}<extra></extra>",
         "legendgroup": "2019-06-10",
         "marker": {
          "color": "#FECB52",
          "symbol": "circle"
         },
         "mode": "markers",
         "name": "2019-06-10",
         "showlegend": true,
         "type": "scattergl",
         "x": [
          -2.097868001654688
         ],
         "xaxis": "x",
         "y": [
          5.696615060217144
         ],
         "yaxis": "y"
        },
        {
         "hovertemplate": "date=2019-06-11<br>pc1=%{x}<br>pc2=%{y}<extra></extra>",
         "legendgroup": "2019-06-11",
         "marker": {
          "color": "#636efa",
          "symbol": "circle"
         },
         "mode": "markers",
         "name": "2019-06-11",
         "showlegend": true,
         "type": "scattergl",
         "x": [
          -4.141957753233207
         ],
         "xaxis": "x",
         "y": [
          1.3159948017901082
         ],
         "yaxis": "y"
        },
        {
         "hovertemplate": "date=2019-06-12<br>pc1=%{x}<br>pc2=%{y}<extra></extra>",
         "legendgroup": "2019-06-12",
         "marker": {
          "color": "#EF553B",
          "symbol": "circle"
         },
         "mode": "markers",
         "name": "2019-06-12",
         "showlegend": true,
         "type": "scattergl",
         "x": [
          1.3055411121234735
         ],
         "xaxis": "x",
         "y": [
          5.822078027889283
         ],
         "yaxis": "y"
        },
        {
         "hovertemplate": "date=2019-06-13<br>pc1=%{x}<br>pc2=%{y}<extra></extra>",
         "legendgroup": "2019-06-13",
         "marker": {
          "color": "#00cc96",
          "symbol": "circle"
         },
         "mode": "markers",
         "name": "2019-06-13",
         "showlegend": true,
         "type": "scattergl",
         "x": [
          -4.106391787554186
         ],
         "xaxis": "x",
         "y": [
          4.463086804065852
         ],
         "yaxis": "y"
        },
        {
         "hovertemplate": "date=2019-06-14<br>pc1=%{x}<br>pc2=%{y}<extra></extra>",
         "legendgroup": "2019-06-14",
         "marker": {
          "color": "#ab63fa",
          "symbol": "circle"
         },
         "mode": "markers",
         "name": "2019-06-14",
         "showlegend": true,
         "type": "scattergl",
         "x": [
          -8.415141480910854
         ],
         "xaxis": "x",
         "y": [
          1.3300350441509998
         ],
         "yaxis": "y"
        },
        {
         "hovertemplate": "date=2019-06-15<br>pc1=%{x}<br>pc2=%{y}<extra></extra>",
         "legendgroup": "2019-06-15",
         "marker": {
          "color": "#FFA15A",
          "symbol": "circle"
         },
         "mode": "markers",
         "name": "2019-06-15",
         "showlegend": true,
         "type": "scattergl",
         "x": [
          3.3075777199118326
         ],
         "xaxis": "x",
         "y": [
          -13.700216955643645
         ],
         "yaxis": "y"
        },
        {
         "hovertemplate": "date=2019-06-16<br>pc1=%{x}<br>pc2=%{y}<extra></extra>",
         "legendgroup": "2019-06-16",
         "marker": {
          "color": "#19d3f3",
          "symbol": "circle"
         },
         "mode": "markers",
         "name": "2019-06-16",
         "showlegend": true,
         "type": "scattergl",
         "x": [
          10.47571515885309
         ],
         "xaxis": "x",
         "y": [
          -7.689172269404167
         ],
         "yaxis": "y"
        },
        {
         "hovertemplate": "date=2019-06-17<br>pc1=%{x}<br>pc2=%{y}<extra></extra>",
         "legendgroup": "2019-06-17",
         "marker": {
          "color": "#FF6692",
          "symbol": "circle"
         },
         "mode": "markers",
         "name": "2019-06-17",
         "showlegend": true,
         "type": "scattergl",
         "x": [
          0.4401925105441728
         ],
         "xaxis": "x",
         "y": [
          5.675178615314295
         ],
         "yaxis": "y"
        },
        {
         "hovertemplate": "date=2019-06-18<br>pc1=%{x}<br>pc2=%{y}<extra></extra>",
         "legendgroup": "2019-06-18",
         "marker": {
          "color": "#B6E880",
          "symbol": "circle"
         },
         "mode": "markers",
         "name": "2019-06-18",
         "showlegend": true,
         "type": "scattergl",
         "x": [
          -2.563483605923122
         ],
         "xaxis": "x",
         "y": [
          8.053730973088467
         ],
         "yaxis": "y"
        },
        {
         "hovertemplate": "date=2019-06-19<br>pc1=%{x}<br>pc2=%{y}<extra></extra>",
         "legendgroup": "2019-06-19",
         "marker": {
          "color": "#FF97FF",
          "symbol": "circle"
         },
         "mode": "markers",
         "name": "2019-06-19",
         "showlegend": true,
         "type": "scattergl",
         "x": [
          -1.5887097409673392
         ],
         "xaxis": "x",
         "y": [
          3.2315963935186165
         ],
         "yaxis": "y"
        },
        {
         "hovertemplate": "date=2019-06-20<br>pc1=%{x}<br>pc2=%{y}<extra></extra>",
         "legendgroup": "2019-06-20",
         "marker": {
          "color": "#FECB52",
          "symbol": "circle"
         },
         "mode": "markers",
         "name": "2019-06-20",
         "showlegend": true,
         "type": "scattergl",
         "x": [
          -1.1785141764885296
         ],
         "xaxis": "x",
         "y": [
          7.426686481722181
         ],
         "yaxis": "y"
        },
        {
         "hovertemplate": "date=2019-06-21<br>pc1=%{x}<br>pc2=%{y}<extra></extra>",
         "legendgroup": "2019-06-21",
         "marker": {
          "color": "#636efa",
          "symbol": "circle"
         },
         "mode": "markers",
         "name": "2019-06-21",
         "showlegend": true,
         "type": "scattergl",
         "x": [
          -0.837103434781355
         ],
         "xaxis": "x",
         "y": [
          7.833379142531713
         ],
         "yaxis": "y"
        },
        {
         "hovertemplate": "date=2019-06-22<br>pc1=%{x}<br>pc2=%{y}<extra></extra>",
         "legendgroup": "2019-06-22",
         "marker": {
          "color": "#EF553B",
          "symbol": "circle"
         },
         "mode": "markers",
         "name": "2019-06-22",
         "showlegend": true,
         "type": "scattergl",
         "x": [
          3.1970755237598643
         ],
         "xaxis": "x",
         "y": [
          -3.719691217392118
         ],
         "yaxis": "y"
        },
        {
         "hovertemplate": "date=2019-06-23<br>pc1=%{x}<br>pc2=%{y}<extra></extra>",
         "legendgroup": "2019-06-23",
         "marker": {
          "color": "#00cc96",
          "symbol": "circle"
         },
         "mode": "markers",
         "name": "2019-06-23",
         "showlegend": true,
         "type": "scattergl",
         "x": [
          13.33375668228805
         ],
         "xaxis": "x",
         "y": [
          -5.7964752384765195
         ],
         "yaxis": "y"
        },
        {
         "hovertemplate": "date=2019-06-24<br>pc1=%{x}<br>pc2=%{y}<extra></extra>",
         "legendgroup": "2019-06-24",
         "marker": {
          "color": "#ab63fa",
          "symbol": "circle"
         },
         "mode": "markers",
         "name": "2019-06-24",
         "showlegend": true,
         "type": "scattergl",
         "x": [
          1.7116209053391986
         ],
         "xaxis": "x",
         "y": [
          5.102256938136885
         ],
         "yaxis": "y"
        },
        {
         "hovertemplate": "date=2019-06-25<br>pc1=%{x}<br>pc2=%{y}<extra></extra>",
         "legendgroup": "2019-06-25",
         "marker": {
          "color": "#FFA15A",
          "symbol": "circle"
         },
         "mode": "markers",
         "name": "2019-06-25",
         "showlegend": true,
         "type": "scattergl",
         "x": [
          -7.2676729568647
         ],
         "xaxis": "x",
         "y": [
          -0.2595363699773174
         ],
         "yaxis": "y"
        },
        {
         "hovertemplate": "date=2019-06-26<br>pc1=%{x}<br>pc2=%{y}<extra></extra>",
         "legendgroup": "2019-06-26",
         "marker": {
          "color": "#19d3f3",
          "symbol": "circle"
         },
         "mode": "markers",
         "name": "2019-06-26",
         "showlegend": true,
         "type": "scattergl",
         "x": [
          -5.938588971783705
         ],
         "xaxis": "x",
         "y": [
          1.6254947634038979
         ],
         "yaxis": "y"
        },
        {
         "hovertemplate": "date=2019-06-27<br>pc1=%{x}<br>pc2=%{y}<extra></extra>",
         "legendgroup": "2019-06-27",
         "marker": {
          "color": "#FF6692",
          "symbol": "circle"
         },
         "mode": "markers",
         "name": "2019-06-27",
         "showlegend": true,
         "type": "scattergl",
         "x": [
          -2.1457148375488315
         ],
         "xaxis": "x",
         "y": [
          1.1774873271388095
         ],
         "yaxis": "y"
        },
        {
         "hovertemplate": "date=2019-06-28<br>pc1=%{x}<br>pc2=%{y}<extra></extra>",
         "legendgroup": "2019-06-28",
         "marker": {
          "color": "#B6E880",
          "symbol": "circle"
         },
         "mode": "markers",
         "name": "2019-06-28",
         "showlegend": true,
         "type": "scattergl",
         "x": [
          -1.0907844538773777
         ],
         "xaxis": "x",
         "y": [
          -4.406955668534524
         ],
         "yaxis": "y"
        },
        {
         "hovertemplate": "date=2019-06-29<br>pc1=%{x}<br>pc2=%{y}<extra></extra>",
         "legendgroup": "2019-06-29",
         "marker": {
          "color": "#FF97FF",
          "symbol": "circle"
         },
         "mode": "markers",
         "name": "2019-06-29",
         "showlegend": true,
         "type": "scattergl",
         "x": [
          7.427465669487303
         ],
         "xaxis": "x",
         "y": [
          -2.981101112954342
         ],
         "yaxis": "y"
        },
        {
         "hovertemplate": "date=2019-06-30<br>pc1=%{x}<br>pc2=%{y}<extra></extra>",
         "legendgroup": "2019-06-30",
         "marker": {
          "color": "#FECB52",
          "symbol": "circle"
         },
         "mode": "markers",
         "name": "2019-06-30",
         "showlegend": true,
         "type": "scattergl",
         "x": [
          -3.576544084789537
         ],
         "xaxis": "x",
         "y": [
          1.347076142864227
         ],
         "yaxis": "y"
        },
        {
         "hovertemplate": "date=2019-07-01<br>pc1=%{x}<br>pc2=%{y}<extra></extra>",
         "legendgroup": "2019-07-01",
         "marker": {
          "color": "#636efa",
          "symbol": "circle"
         },
         "mode": "markers",
         "name": "2019-07-01",
         "showlegend": true,
         "type": "scattergl",
         "x": [
          -12.269173763550109
         ],
         "xaxis": "x",
         "y": [
          -1.037509090532091
         ],
         "yaxis": "y"
        },
        {
         "hovertemplate": "date=2019-07-02<br>pc1=%{x}<br>pc2=%{y}<extra></extra>",
         "legendgroup": "2019-07-02",
         "marker": {
          "color": "#EF553B",
          "symbol": "circle"
         },
         "mode": "markers",
         "name": "2019-07-02",
         "showlegend": true,
         "type": "scattergl",
         "x": [
          -7.497183420624043
         ],
         "xaxis": "x",
         "y": [
          5.820104905643944
         ],
         "yaxis": "y"
        },
        {
         "hovertemplate": "date=2019-07-03<br>pc1=%{x}<br>pc2=%{y}<extra></extra>",
         "legendgroup": "2019-07-03",
         "marker": {
          "color": "#00cc96",
          "symbol": "circle"
         },
         "mode": "markers",
         "name": "2019-07-03",
         "showlegend": true,
         "type": "scattergl",
         "x": [
          -10.180480928015998
         ],
         "xaxis": "x",
         "y": [
          4.502972387421976
         ],
         "yaxis": "y"
        },
        {
         "hovertemplate": "date=2019-07-04<br>pc1=%{x}<br>pc2=%{y}<extra></extra>",
         "legendgroup": "2019-07-04",
         "marker": {
          "color": "#ab63fa",
          "symbol": "circle"
         },
         "mode": "markers",
         "name": "2019-07-04",
         "showlegend": true,
         "type": "scattergl",
         "x": [
          26.654731552690826
         ],
         "xaxis": "x",
         "y": [
          -21.62114518640851
         ],
         "yaxis": "y"
        },
        {
         "hovertemplate": "date=2019-07-05<br>pc1=%{x}<br>pc2=%{y}<extra></extra>",
         "legendgroup": "2019-07-05",
         "marker": {
          "color": "#FFA15A",
          "symbol": "circle"
         },
         "mode": "markers",
         "name": "2019-07-05",
         "showlegend": true,
         "type": "scattergl",
         "x": [
          11.236602252759221
         ],
         "xaxis": "x",
         "y": [
          -4.7322052025943435
         ],
         "yaxis": "y"
        },
        {
         "hovertemplate": "date=2019-07-06<br>pc1=%{x}<br>pc2=%{y}<extra></extra>",
         "legendgroup": "2019-07-06",
         "marker": {
          "color": "#19d3f3",
          "symbol": "circle"
         },
         "mode": "markers",
         "name": "2019-07-06",
         "showlegend": true,
         "type": "scattergl",
         "x": [
          1.710654407772212
         ],
         "xaxis": "x",
         "y": [
          3.510867081227824
         ],
         "yaxis": "y"
        },
        {
         "hovertemplate": "date=2019-07-07<br>pc1=%{x}<br>pc2=%{y}<extra></extra>",
         "legendgroup": "2019-07-07",
         "marker": {
          "color": "#FF6692",
          "symbol": "circle"
         },
         "mode": "markers",
         "name": "2019-07-07",
         "showlegend": true,
         "type": "scattergl",
         "x": [
          -0.7771373191391835
         ],
         "xaxis": "x",
         "y": [
          -0.48507417848931716
         ],
         "yaxis": "y"
        },
        {
         "hovertemplate": "date=2019-07-08<br>pc1=%{x}<br>pc2=%{y}<extra></extra>",
         "legendgroup": "2019-07-08",
         "marker": {
          "color": "#B6E880",
          "symbol": "circle"
         },
         "mode": "markers",
         "name": "2019-07-08",
         "showlegend": true,
         "type": "scattergl",
         "x": [
          -4.490612206452483
         ],
         "xaxis": "x",
         "y": [
          7.011036566562001
         ],
         "yaxis": "y"
        },
        {
         "hovertemplate": "date=2019-07-09<br>pc1=%{x}<br>pc2=%{y}<extra></extra>",
         "legendgroup": "2019-07-09",
         "marker": {
          "color": "#FF97FF",
          "symbol": "circle"
         },
         "mode": "markers",
         "name": "2019-07-09",
         "showlegend": true,
         "type": "scattergl",
         "x": [
          -3.217433229452112
         ],
         "xaxis": "x",
         "y": [
          1.6522610303685945
         ],
         "yaxis": "y"
        },
        {
         "hovertemplate": "date=2019-07-10<br>pc1=%{x}<br>pc2=%{y}<extra></extra>",
         "legendgroup": "2019-07-10",
         "marker": {
          "color": "#FECB52",
          "symbol": "circle"
         },
         "mode": "markers",
         "name": "2019-07-10",
         "showlegend": true,
         "type": "scattergl",
         "x": [
          -1.6879408721342573
         ],
         "xaxis": "x",
         "y": [
          1.7500713585054686
         ],
         "yaxis": "y"
        },
        {
         "hovertemplate": "date=2019-07-11<br>pc1=%{x}<br>pc2=%{y}<extra></extra>",
         "legendgroup": "2019-07-11",
         "marker": {
          "color": "#636efa",
          "symbol": "circle"
         },
         "mode": "markers",
         "name": "2019-07-11",
         "showlegend": true,
         "type": "scattergl",
         "x": [
          -4.325573686337591
         ],
         "xaxis": "x",
         "y": [
          4.5687265511570345
         ],
         "yaxis": "y"
        },
        {
         "hovertemplate": "date=2019-07-12<br>pc1=%{x}<br>pc2=%{y}<extra></extra>",
         "legendgroup": "2019-07-12",
         "marker": {
          "color": "#EF553B",
          "symbol": "circle"
         },
         "mode": "markers",
         "name": "2019-07-12",
         "showlegend": true,
         "type": "scattergl",
         "x": [
          -12.490341890106304
         ],
         "xaxis": "x",
         "y": [
          -8.20205719748518
         ],
         "yaxis": "y"
        },
        {
         "hovertemplate": "date=2019-07-13<br>pc1=%{x}<br>pc2=%{y}<extra></extra>",
         "legendgroup": "2019-07-13",
         "marker": {
          "color": "#00cc96",
          "symbol": "circle"
         },
         "mode": "markers",
         "name": "2019-07-13",
         "showlegend": true,
         "type": "scattergl",
         "x": [
          5.231441183332779
         ],
         "xaxis": "x",
         "y": [
          -1.5192148579495686
         ],
         "yaxis": "y"
        },
        {
         "hovertemplate": "date=2019-07-14<br>pc1=%{x}<br>pc2=%{y}<extra></extra>",
         "legendgroup": "2019-07-14",
         "marker": {
          "color": "#ab63fa",
          "symbol": "circle"
         },
         "mode": "markers",
         "name": "2019-07-14",
         "showlegend": true,
         "type": "scattergl",
         "x": [
          9.741764448444776
         ],
         "xaxis": "x",
         "y": [
          -4.346577417415797
         ],
         "yaxis": "y"
        },
        {
         "hovertemplate": "date=2019-07-15<br>pc1=%{x}<br>pc2=%{y}<extra></extra>",
         "legendgroup": "2019-07-15",
         "marker": {
          "color": "#FFA15A",
          "symbol": "circle"
         },
         "mode": "markers",
         "name": "2019-07-15",
         "showlegend": true,
         "type": "scattergl",
         "x": [
          -2.586529561887369
         ],
         "xaxis": "x",
         "y": [
          4.009091467195087
         ],
         "yaxis": "y"
        },
        {
         "hovertemplate": "date=2019-07-16<br>pc1=%{x}<br>pc2=%{y}<extra></extra>",
         "legendgroup": "2019-07-16",
         "marker": {
          "color": "#19d3f3",
          "symbol": "circle"
         },
         "mode": "markers",
         "name": "2019-07-16",
         "showlegend": true,
         "type": "scattergl",
         "x": [
          -1.2945117495864544
         ],
         "xaxis": "x",
         "y": [
          5.0387476576151915
         ],
         "yaxis": "y"
        },
        {
         "hovertemplate": "date=2019-07-17<br>pc1=%{x}<br>pc2=%{y}<extra></extra>",
         "legendgroup": "2019-07-17",
         "marker": {
          "color": "#FF6692",
          "symbol": "circle"
         },
         "mode": "markers",
         "name": "2019-07-17",
         "showlegend": true,
         "type": "scattergl",
         "x": [
          -4.437947314457824
         ],
         "xaxis": "x",
         "y": [
          4.544760180466102
         ],
         "yaxis": "y"
        },
        {
         "hovertemplate": "date=2019-07-18<br>pc1=%{x}<br>pc2=%{y}<extra></extra>",
         "legendgroup": "2019-07-18",
         "marker": {
          "color": "#B6E880",
          "symbol": "circle"
         },
         "mode": "markers",
         "name": "2019-07-18",
         "showlegend": true,
         "type": "scattergl",
         "x": [
          -3.2649939600650026
         ],
         "xaxis": "x",
         "y": [
          -4.973898924839177
         ],
         "yaxis": "y"
        },
        {
         "hovertemplate": "date=2019-07-19<br>pc1=%{x}<br>pc2=%{y}<extra></extra>",
         "legendgroup": "2019-07-19",
         "marker": {
          "color": "#FF97FF",
          "symbol": "circle"
         },
         "mode": "markers",
         "name": "2019-07-19",
         "showlegend": true,
         "type": "scattergl",
         "x": [
          -2.5318271644826535
         ],
         "xaxis": "x",
         "y": [
          -0.694915537260479
         ],
         "yaxis": "y"
        },
        {
         "hovertemplate": "date=2019-07-20<br>pc1=%{x}<br>pc2=%{y}<extra></extra>",
         "legendgroup": "2019-07-20",
         "marker": {
          "color": "#FECB52",
          "symbol": "circle"
         },
         "mode": "markers",
         "name": "2019-07-20",
         "showlegend": true,
         "type": "scattergl",
         "x": [
          7.755253131862623
         ],
         "xaxis": "x",
         "y": [
          -3.5481737658435155
         ],
         "yaxis": "y"
        },
        {
         "hovertemplate": "date=2019-07-21<br>pc1=%{x}<br>pc2=%{y}<extra></extra>",
         "legendgroup": "2019-07-21",
         "marker": {
          "color": "#636efa",
          "symbol": "circle"
         },
         "mode": "markers",
         "name": "2019-07-21",
         "showlegend": true,
         "type": "scattergl",
         "x": [
          7.852784409393167
         ],
         "xaxis": "x",
         "y": [
          -7.236888625470209
         ],
         "yaxis": "y"
        },
        {
         "hovertemplate": "date=2019-07-22<br>pc1=%{x}<br>pc2=%{y}<extra></extra>",
         "legendgroup": "2019-07-22",
         "marker": {
          "color": "#EF553B",
          "symbol": "circle"
         },
         "mode": "markers",
         "name": "2019-07-22",
         "showlegend": true,
         "type": "scattergl",
         "x": [
          -3.515143032996574
         ],
         "xaxis": "x",
         "y": [
          5.9257144400766695
         ],
         "yaxis": "y"
        },
        {
         "hovertemplate": "date=2019-07-23<br>pc1=%{x}<br>pc2=%{y}<extra></extra>",
         "legendgroup": "2019-07-23",
         "marker": {
          "color": "#00cc96",
          "symbol": "circle"
         },
         "mode": "markers",
         "name": "2019-07-23",
         "showlegend": true,
         "type": "scattergl",
         "x": [
          -1.5959949693924915
         ],
         "xaxis": "x",
         "y": [
          4.847766888418071
         ],
         "yaxis": "y"
        },
        {
         "hovertemplate": "date=2019-07-24<br>pc1=%{x}<br>pc2=%{y}<extra></extra>",
         "legendgroup": "2019-07-24",
         "marker": {
          "color": "#ab63fa",
          "symbol": "circle"
         },
         "mode": "markers",
         "name": "2019-07-24",
         "showlegend": true,
         "type": "scattergl",
         "x": [
          -2.975114833935521
         ],
         "xaxis": "x",
         "y": [
          4.130425731017798
         ],
         "yaxis": "y"
        },
        {
         "hovertemplate": "date=2019-07-25<br>pc1=%{x}<br>pc2=%{y}<extra></extra>",
         "legendgroup": "2019-07-25",
         "marker": {
          "color": "#FFA15A",
          "symbol": "circle"
         },
         "mode": "markers",
         "name": "2019-07-25",
         "showlegend": true,
         "type": "scattergl",
         "x": [
          -4.753771222415555
         ],
         "xaxis": "x",
         "y": [
          3.1688318086422527
         ],
         "yaxis": "y"
        },
        {
         "hovertemplate": "date=2019-07-26<br>pc1=%{x}<br>pc2=%{y}<extra></extra>",
         "legendgroup": "2019-07-26",
         "marker": {
          "color": "#19d3f3",
          "symbol": "circle"
         },
         "mode": "markers",
         "name": "2019-07-26",
         "showlegend": true,
         "type": "scattergl",
         "x": [
          -1.2666029777919354
         ],
         "xaxis": "x",
         "y": [
          3.5623649747942543
         ],
         "yaxis": "y"
        },
        {
         "hovertemplate": "date=2019-07-27<br>pc1=%{x}<br>pc2=%{y}<extra></extra>",
         "legendgroup": "2019-07-27",
         "marker": {
          "color": "#FF6692",
          "symbol": "circle"
         },
         "mode": "markers",
         "name": "2019-07-27",
         "showlegend": true,
         "type": "scattergl",
         "x": [
          6.180543364426362
         ],
         "xaxis": "x",
         "y": [
          -3.697035421830721
         ],
         "yaxis": "y"
        },
        {
         "hovertemplate": "date=2019-07-28<br>pc1=%{x}<br>pc2=%{y}<extra></extra>",
         "legendgroup": "2019-07-28",
         "marker": {
          "color": "#B6E880",
          "symbol": "circle"
         },
         "mode": "markers",
         "name": "2019-07-28",
         "showlegend": true,
         "type": "scattergl",
         "x": [
          11.185111804645986
         ],
         "xaxis": "x",
         "y": [
          -4.216745232428077
         ],
         "yaxis": "y"
        },
        {
         "hovertemplate": "date=2019-07-29<br>pc1=%{x}<br>pc2=%{y}<extra></extra>",
         "legendgroup": "2019-07-29",
         "marker": {
          "color": "#FF97FF",
          "symbol": "circle"
         },
         "mode": "markers",
         "name": "2019-07-29",
         "showlegend": true,
         "type": "scattergl",
         "x": [
          2.330547761997849
         ],
         "xaxis": "x",
         "y": [
          2.25295210289699
         ],
         "yaxis": "y"
        },
        {
         "hovertemplate": "date=2019-07-30<br>pc1=%{x}<br>pc2=%{y}<extra></extra>",
         "legendgroup": "2019-07-30",
         "marker": {
          "color": "#FECB52",
          "symbol": "circle"
         },
         "mode": "markers",
         "name": "2019-07-30",
         "showlegend": true,
         "type": "scattergl",
         "x": [
          -4.337459315543118
         ],
         "xaxis": "x",
         "y": [
          -3.7463949577848945
         ],
         "yaxis": "y"
        },
        {
         "hovertemplate": "date=2019-07-31<br>pc1=%{x}<br>pc2=%{y}<extra></extra>",
         "legendgroup": "2019-07-31",
         "marker": {
          "color": "#636efa",
          "symbol": "circle"
         },
         "mode": "markers",
         "name": "2019-07-31",
         "showlegend": true,
         "type": "scattergl",
         "x": [
          -1.59449548863279
         ],
         "xaxis": "x",
         "y": [
          1.802262038632951
         ],
         "yaxis": "y"
        },
        {
         "hovertemplate": "date=2019-08-01<br>pc1=%{x}<br>pc2=%{y}<extra></extra>",
         "legendgroup": "2019-08-01",
         "marker": {
          "color": "#EF553B",
          "symbol": "circle"
         },
         "mode": "markers",
         "name": "2019-08-01",
         "showlegend": true,
         "type": "scattergl",
         "x": [
          -4.917885065053652
         ],
         "xaxis": "x",
         "y": [
          5.726854930657969
         ],
         "yaxis": "y"
        },
        {
         "hovertemplate": "date=2019-08-02<br>pc1=%{x}<br>pc2=%{y}<extra></extra>",
         "legendgroup": "2019-08-02",
         "marker": {
          "color": "#00cc96",
          "symbol": "circle"
         },
         "mode": "markers",
         "name": "2019-08-02",
         "showlegend": true,
         "type": "scattergl",
         "x": [
          -5.938110726974314
         ],
         "xaxis": "x",
         "y": [
          3.4108539417530537
         ],
         "yaxis": "y"
        },
        {
         "hovertemplate": "date=2019-08-03<br>pc1=%{x}<br>pc2=%{y}<extra></extra>",
         "legendgroup": "2019-08-03",
         "marker": {
          "color": "#ab63fa",
          "symbol": "circle"
         },
         "mode": "markers",
         "name": "2019-08-03",
         "showlegend": true,
         "type": "scattergl",
         "x": [
          2.4145519076871844
         ],
         "xaxis": "x",
         "y": [
          -1.813043869890181
         ],
         "yaxis": "y"
        },
        {
         "hovertemplate": "date=2019-08-04<br>pc1=%{x}<br>pc2=%{y}<extra></extra>",
         "legendgroup": "2019-08-04",
         "marker": {
          "color": "#FFA15A",
          "symbol": "circle"
         },
         "mode": "markers",
         "name": "2019-08-04",
         "showlegend": true,
         "type": "scattergl",
         "x": [
          7.097818866166308
         ],
         "xaxis": "x",
         "y": [
          -1.4415303015531788
         ],
         "yaxis": "y"
        },
        {
         "hovertemplate": "date=2019-08-05<br>pc1=%{x}<br>pc2=%{y}<extra></extra>",
         "legendgroup": "2019-08-05",
         "marker": {
          "color": "#19d3f3",
          "symbol": "circle"
         },
         "mode": "markers",
         "name": "2019-08-05",
         "showlegend": true,
         "type": "scattergl",
         "x": [
          -3.255174901639027
         ],
         "xaxis": "x",
         "y": [
          -3.5186428576956033
         ],
         "yaxis": "y"
        },
        {
         "hovertemplate": "date=2019-08-06<br>pc1=%{x}<br>pc2=%{y}<extra></extra>",
         "legendgroup": "2019-08-06",
         "marker": {
          "color": "#FF6692",
          "symbol": "circle"
         },
         "mode": "markers",
         "name": "2019-08-06",
         "showlegend": true,
         "type": "scattergl",
         "x": [
          1.2225209993396953
         ],
         "xaxis": "x",
         "y": [
          2.5416001985919703
         ],
         "yaxis": "y"
        },
        {
         "hovertemplate": "date=2019-08-07<br>pc1=%{x}<br>pc2=%{y}<extra></extra>",
         "legendgroup": "2019-08-07",
         "marker": {
          "color": "#B6E880",
          "symbol": "circle"
         },
         "mode": "markers",
         "name": "2019-08-07",
         "showlegend": true,
         "type": "scattergl",
         "x": [
          -4.9336024465198856
         ],
         "xaxis": "x",
         "y": [
          -2.392242875510538
         ],
         "yaxis": "y"
        },
        {
         "hovertemplate": "date=2019-08-08<br>pc1=%{x}<br>pc2=%{y}<extra></extra>",
         "legendgroup": "2019-08-08",
         "marker": {
          "color": "#FF97FF",
          "symbol": "circle"
         },
         "mode": "markers",
         "name": "2019-08-08",
         "showlegend": true,
         "type": "scattergl",
         "x": [
          -5.119237913871361
         ],
         "xaxis": "x",
         "y": [
          -1.248413981622456
         ],
         "yaxis": "y"
        },
        {
         "hovertemplate": "date=2019-08-09<br>pc1=%{x}<br>pc2=%{y}<extra></extra>",
         "legendgroup": "2019-08-09",
         "marker": {
          "color": "#FECB52",
          "symbol": "circle"
         },
         "mode": "markers",
         "name": "2019-08-09",
         "showlegend": true,
         "type": "scattergl",
         "x": [
          -3.8487299946162405
         ],
         "xaxis": "x",
         "y": [
          -1.1445090929388295
         ],
         "yaxis": "y"
        },
        {
         "hovertemplate": "date=2019-08-10<br>pc1=%{x}<br>pc2=%{y}<extra></extra>",
         "legendgroup": "2019-08-10",
         "marker": {
          "color": "#636efa",
          "symbol": "circle"
         },
         "mode": "markers",
         "name": "2019-08-10",
         "showlegend": true,
         "type": "scattergl",
         "x": [
          0.5359135439330013
         ],
         "xaxis": "x",
         "y": [
          -5.787128346381882
         ],
         "yaxis": "y"
        },
        {
         "hovertemplate": "date=2019-08-11<br>pc1=%{x}<br>pc2=%{y}<extra></extra>",
         "legendgroup": "2019-08-11",
         "marker": {
          "color": "#EF553B",
          "symbol": "circle"
         },
         "mode": "markers",
         "name": "2019-08-11",
         "showlegend": true,
         "type": "scattergl",
         "x": [
          10.092102250024796
         ],
         "xaxis": "x",
         "y": [
          -2.36991434790348
         ],
         "yaxis": "y"
        },
        {
         "hovertemplate": "date=2019-08-12<br>pc1=%{x}<br>pc2=%{y}<extra></extra>",
         "legendgroup": "2019-08-12",
         "marker": {
          "color": "#00cc96",
          "symbol": "circle"
         },
         "mode": "markers",
         "name": "2019-08-12",
         "showlegend": true,
         "type": "scattergl",
         "x": [
          0.020101654345151466
         ],
         "xaxis": "x",
         "y": [
          1.013983444317916
         ],
         "yaxis": "y"
        },
        {
         "hovertemplate": "date=2019-08-13<br>pc1=%{x}<br>pc2=%{y}<extra></extra>",
         "legendgroup": "2019-08-13",
         "marker": {
          "color": "#ab63fa",
          "symbol": "circle"
         },
         "mode": "markers",
         "name": "2019-08-13",
         "showlegend": true,
         "type": "scattergl",
         "x": [
          -1.0324662752981353
         ],
         "xaxis": "x",
         "y": [
          2.826479317205513
         ],
         "yaxis": "y"
        },
        {
         "hovertemplate": "date=2019-08-14<br>pc1=%{x}<br>pc2=%{y}<extra></extra>",
         "legendgroup": "2019-08-14",
         "marker": {
          "color": "#FFA15A",
          "symbol": "circle"
         },
         "mode": "markers",
         "name": "2019-08-14",
         "showlegend": true,
         "type": "scattergl",
         "x": [
          -1.6965089041622496
         ],
         "xaxis": "x",
         "y": [
          3.8936823025497196
         ],
         "yaxis": "y"
        },
        {
         "hovertemplate": "date=2019-08-15<br>pc1=%{x}<br>pc2=%{y}<extra></extra>",
         "legendgroup": "2019-08-15",
         "marker": {
          "color": "#19d3f3",
          "symbol": "circle"
         },
         "mode": "markers",
         "name": "2019-08-15",
         "showlegend": true,
         "type": "scattergl",
         "x": [
          -1.3821283530018014
         ],
         "xaxis": "x",
         "y": [
          6.436990998426654
         ],
         "yaxis": "y"
        },
        {
         "hovertemplate": "date=2019-08-16<br>pc1=%{x}<br>pc2=%{y}<extra></extra>",
         "legendgroup": "2019-08-16",
         "marker": {
          "color": "#FF6692",
          "symbol": "circle"
         },
         "mode": "markers",
         "name": "2019-08-16",
         "showlegend": true,
         "type": "scattergl",
         "x": [
          -11.43978753395782
         ],
         "xaxis": "x",
         "y": [
          -14.120297126396435
         ],
         "yaxis": "y"
        },
        {
         "hovertemplate": "date=2019-08-17<br>pc1=%{x}<br>pc2=%{y}<extra></extra>",
         "legendgroup": "2019-08-17",
         "marker": {
          "color": "#B6E880",
          "symbol": "circle"
         },
         "mode": "markers",
         "name": "2019-08-17",
         "showlegend": true,
         "type": "scattergl",
         "x": [
          1.499633422788378
         ],
         "xaxis": "x",
         "y": [
          -8.209503477977778
         ],
         "yaxis": "y"
        },
        {
         "hovertemplate": "date=2019-08-18<br>pc1=%{x}<br>pc2=%{y}<extra></extra>",
         "legendgroup": "2019-08-18",
         "marker": {
          "color": "#FF97FF",
          "symbol": "circle"
         },
         "mode": "markers",
         "name": "2019-08-18",
         "showlegend": true,
         "type": "scattergl",
         "x": [
          10.731825392904806
         ],
         "xaxis": "x",
         "y": [
          -3.7831254488496264
         ],
         "yaxis": "y"
        },
        {
         "hovertemplate": "date=2019-08-19<br>pc1=%{x}<br>pc2=%{y}<extra></extra>",
         "legendgroup": "2019-08-19",
         "marker": {
          "color": "#FECB52",
          "symbol": "circle"
         },
         "mode": "markers",
         "name": "2019-08-19",
         "showlegend": true,
         "type": "scattergl",
         "x": [
          -1.6749105054129863
         ],
         "xaxis": "x",
         "y": [
          4.29931798399278
         ],
         "yaxis": "y"
        },
        {
         "hovertemplate": "date=2019-08-20<br>pc1=%{x}<br>pc2=%{y}<extra></extra>",
         "legendgroup": "2019-08-20",
         "marker": {
          "color": "#636efa",
          "symbol": "circle"
         },
         "mode": "markers",
         "name": "2019-08-20",
         "showlegend": true,
         "type": "scattergl",
         "x": [
          1.162719122709204
         ],
         "xaxis": "x",
         "y": [
          2.4147682438425435
         ],
         "yaxis": "y"
        },
        {
         "hovertemplate": "date=2019-08-21<br>pc1=%{x}<br>pc2=%{y}<extra></extra>",
         "legendgroup": "2019-08-21",
         "marker": {
          "color": "#EF553B",
          "symbol": "circle"
         },
         "mode": "markers",
         "name": "2019-08-21",
         "showlegend": true,
         "type": "scattergl",
         "x": [
          -2.332106285814448
         ],
         "xaxis": "x",
         "y": [
          5.131515314303884
         ],
         "yaxis": "y"
        },
        {
         "hovertemplate": "date=2019-08-22<br>pc1=%{x}<br>pc2=%{y}<extra></extra>",
         "legendgroup": "2019-08-22",
         "marker": {
          "color": "#00cc96",
          "symbol": "circle"
         },
         "mode": "markers",
         "name": "2019-08-22",
         "showlegend": true,
         "type": "scattergl",
         "x": [
          -6.389880871420623
         ],
         "xaxis": "x",
         "y": [
          1.415812878485358
         ],
         "yaxis": "y"
        },
        {
         "hovertemplate": "date=2019-08-23<br>pc1=%{x}<br>pc2=%{y}<extra></extra>",
         "legendgroup": "2019-08-23",
         "marker": {
          "color": "#ab63fa",
          "symbol": "circle"
         },
         "mode": "markers",
         "name": "2019-08-23",
         "showlegend": true,
         "type": "scattergl",
         "x": [
          -9.481821707404011
         ],
         "xaxis": "x",
         "y": [
          -6.243584868095763
         ],
         "yaxis": "y"
        },
        {
         "hovertemplate": "date=2019-08-24<br>pc1=%{x}<br>pc2=%{y}<extra></extra>",
         "legendgroup": "2019-08-24",
         "marker": {
          "color": "#FFA15A",
          "symbol": "circle"
         },
         "mode": "markers",
         "name": "2019-08-24",
         "showlegend": true,
         "type": "scattergl",
         "x": [
          5.698663701462437
         ],
         "xaxis": "x",
         "y": [
          -5.00588377336548
         ],
         "yaxis": "y"
        },
        {
         "hovertemplate": "date=2019-08-25<br>pc1=%{x}<br>pc2=%{y}<extra></extra>",
         "legendgroup": "2019-08-25",
         "marker": {
          "color": "#19d3f3",
          "symbol": "circle"
         },
         "mode": "markers",
         "name": "2019-08-25",
         "showlegend": true,
         "type": "scattergl",
         "x": [
          12.175445041606935
         ],
         "xaxis": "x",
         "y": [
          -2.4919681924770387
         ],
         "yaxis": "y"
        },
        {
         "hovertemplate": "date=2019-08-26<br>pc1=%{x}<br>pc2=%{y}<extra></extra>",
         "legendgroup": "2019-08-26",
         "marker": {
          "color": "#FF6692",
          "symbol": "circle"
         },
         "mode": "markers",
         "name": "2019-08-26",
         "showlegend": true,
         "type": "scattergl",
         "x": [
          0.346607881293371
         ],
         "xaxis": "x",
         "y": [
          3.092130879726564
         ],
         "yaxis": "y"
        },
        {
         "hovertemplate": "date=2019-08-27<br>pc1=%{x}<br>pc2=%{y}<extra></extra>",
         "legendgroup": "2019-08-27",
         "marker": {
          "color": "#B6E880",
          "symbol": "circle"
         },
         "mode": "markers",
         "name": "2019-08-27",
         "showlegend": true,
         "type": "scattergl",
         "x": [
          -7.404958885858026
         ],
         "xaxis": "x",
         "y": [
          -1.0579489823154518
         ],
         "yaxis": "y"
        },
        {
         "hovertemplate": "date=2019-08-28<br>pc1=%{x}<br>pc2=%{y}<extra></extra>",
         "legendgroup": "2019-08-28",
         "marker": {
          "color": "#FF97FF",
          "symbol": "circle"
         },
         "mode": "markers",
         "name": "2019-08-28",
         "showlegend": true,
         "type": "scattergl",
         "x": [
          -2.1346186509341423
         ],
         "xaxis": "x",
         "y": [
          6.654510845771174
         ],
         "yaxis": "y"
        },
        {
         "hovertemplate": "date=2019-08-29<br>pc1=%{x}<br>pc2=%{y}<extra></extra>",
         "legendgroup": "2019-08-29",
         "marker": {
          "color": "#FECB52",
          "symbol": "circle"
         },
         "mode": "markers",
         "name": "2019-08-29",
         "showlegend": true,
         "type": "scattergl",
         "x": [
          -8.440249369346002
         ],
         "xaxis": "x",
         "y": [
          -3.8937413890921957
         ],
         "yaxis": "y"
        },
        {
         "hovertemplate": "date=2019-08-30<br>pc1=%{x}<br>pc2=%{y}<extra></extra>",
         "legendgroup": "2019-08-30",
         "marker": {
          "color": "#636efa",
          "symbol": "circle"
         },
         "mode": "markers",
         "name": "2019-08-30",
         "showlegend": true,
         "type": "scattergl",
         "x": [
          -9.599439079438262
         ],
         "xaxis": "x",
         "y": [
          2.1533180644888272
         ],
         "yaxis": "y"
        },
        {
         "hovertemplate": "date=2019-08-31<br>pc1=%{x}<br>pc2=%{y}<extra></extra>",
         "legendgroup": "2019-08-31",
         "marker": {
          "color": "#EF553B",
          "symbol": "circle"
         },
         "mode": "markers",
         "name": "2019-08-31",
         "showlegend": true,
         "type": "scattergl",
         "x": [
          -0.4042737096415681
         ],
         "xaxis": "x",
         "y": [
          -3.134952546466804
         ],
         "yaxis": "y"
        },
        {
         "hovertemplate": "date=2019-09-01<br>pc1=%{x}<br>pc2=%{y}<extra></extra>",
         "legendgroup": "2019-09-01",
         "marker": {
          "color": "#00cc96",
          "symbol": "circle"
         },
         "mode": "markers",
         "name": "2019-09-01",
         "showlegend": true,
         "type": "scattergl",
         "x": [
          1.6097917950526082
         ],
         "xaxis": "x",
         "y": [
          -3.2126293810332123
         ],
         "yaxis": "y"
        },
        {
         "hovertemplate": "date=2019-09-02<br>pc1=%{x}<br>pc2=%{y}<extra></extra>",
         "legendgroup": "2019-09-02",
         "marker": {
          "color": "#ab63fa",
          "symbol": "circle"
         },
         "mode": "markers",
         "name": "2019-09-02",
         "showlegend": true,
         "type": "scattergl",
         "x": [
          39.17885827602392
         ],
         "xaxis": "x",
         "y": [
          -18.034598514038713
         ],
         "yaxis": "y"
        },
        {
         "hovertemplate": "date=2019-09-03<br>pc1=%{x}<br>pc2=%{y}<extra></extra>",
         "legendgroup": "2019-09-03",
         "marker": {
          "color": "#FFA15A",
          "symbol": "circle"
         },
         "mode": "markers",
         "name": "2019-09-03",
         "showlegend": true,
         "type": "scattergl",
         "x": [
          -9.074368487078122
         ],
         "xaxis": "x",
         "y": [
          2.7708649738418707
         ],
         "yaxis": "y"
        },
        {
         "hovertemplate": "date=2019-09-04<br>pc1=%{x}<br>pc2=%{y}<extra></extra>",
         "legendgroup": "2019-09-04",
         "marker": {
          "color": "#19d3f3",
          "symbol": "circle"
         },
         "mode": "markers",
         "name": "2019-09-04",
         "showlegend": true,
         "type": "scattergl",
         "x": [
          -13.386050268453333
         ],
         "xaxis": "x",
         "y": [
          5.943384091394579
         ],
         "yaxis": "y"
        },
        {
         "hovertemplate": "date=2019-09-05<br>pc1=%{x}<br>pc2=%{y}<extra></extra>",
         "legendgroup": "2019-09-05",
         "marker": {
          "color": "#FF6692",
          "symbol": "circle"
         },
         "mode": "markers",
         "name": "2019-09-05",
         "showlegend": true,
         "type": "scattergl",
         "x": [
          -15.714892562666776
         ],
         "xaxis": "x",
         "y": [
          9.502321225109974
         ],
         "yaxis": "y"
        },
        {
         "hovertemplate": "date=2019-09-06<br>pc1=%{x}<br>pc2=%{y}<extra></extra>",
         "legendgroup": "2019-09-06",
         "marker": {
          "color": "#B6E880",
          "symbol": "circle"
         },
         "mode": "markers",
         "name": "2019-09-06",
         "showlegend": true,
         "type": "scattergl",
         "x": [
          -3.3786785753444564
         ],
         "xaxis": "x",
         "y": [
          2.488079778076551
         ],
         "yaxis": "y"
        },
        {
         "hovertemplate": "date=2019-09-07<br>pc1=%{x}<br>pc2=%{y}<extra></extra>",
         "legendgroup": "2019-09-07",
         "marker": {
          "color": "#FF97FF",
          "symbol": "circle"
         },
         "mode": "markers",
         "name": "2019-09-07",
         "showlegend": true,
         "type": "scattergl",
         "x": [
          11.572138675400794
         ],
         "xaxis": "x",
         "y": [
          -4.832791953813658
         ],
         "yaxis": "y"
        },
        {
         "hovertemplate": "date=2019-09-08<br>pc1=%{x}<br>pc2=%{y}<extra></extra>",
         "legendgroup": "2019-09-08",
         "marker": {
          "color": "#FECB52",
          "symbol": "circle"
         },
         "mode": "markers",
         "name": "2019-09-08",
         "showlegend": true,
         "type": "scattergl",
         "x": [
          17.19445246234218
         ],
         "xaxis": "x",
         "y": [
          -5.8454380368834045
         ],
         "yaxis": "y"
        },
        {
         "hovertemplate": "date=2019-09-09<br>pc1=%{x}<br>pc2=%{y}<extra></extra>",
         "legendgroup": "2019-09-09",
         "marker": {
          "color": "#636efa",
          "symbol": "circle"
         },
         "mode": "markers",
         "name": "2019-09-09",
         "showlegend": true,
         "type": "scattergl",
         "x": [
          -3.590117159859052
         ],
         "xaxis": "x",
         "y": [
          6.220123611659027
         ],
         "yaxis": "y"
        },
        {
         "hovertemplate": "date=2019-09-10<br>pc1=%{x}<br>pc2=%{y}<extra></extra>",
         "legendgroup": "2019-09-10",
         "marker": {
          "color": "#EF553B",
          "symbol": "circle"
         },
         "mode": "markers",
         "name": "2019-09-10",
         "showlegend": true,
         "type": "scattergl",
         "x": [
          -10.913166231195472
         ],
         "xaxis": "x",
         "y": [
          -6.066676918565143
         ],
         "yaxis": "y"
        },
        {
         "hovertemplate": "date=2019-09-11<br>pc1=%{x}<br>pc2=%{y}<extra></extra>",
         "legendgroup": "2019-09-11",
         "marker": {
          "color": "#00cc96",
          "symbol": "circle"
         },
         "mode": "markers",
         "name": "2019-09-11",
         "showlegend": true,
         "type": "scattergl",
         "x": [
          -1.8558405165992131
         ],
         "xaxis": "x",
         "y": [
          5.866104680703186
         ],
         "yaxis": "y"
        },
        {
         "hovertemplate": "date=2019-09-12<br>pc1=%{x}<br>pc2=%{y}<extra></extra>",
         "legendgroup": "2019-09-12",
         "marker": {
          "color": "#ab63fa",
          "symbol": "circle"
         },
         "mode": "markers",
         "name": "2019-09-12",
         "showlegend": true,
         "type": "scattergl",
         "x": [
          -5.050312025272606
         ],
         "xaxis": "x",
         "y": [
          1.1370662868404835
         ],
         "yaxis": "y"
        },
        {
         "hovertemplate": "date=2019-09-13<br>pc1=%{x}<br>pc2=%{y}<extra></extra>",
         "legendgroup": "2019-09-13",
         "marker": {
          "color": "#FFA15A",
          "symbol": "circle"
         },
         "mode": "markers",
         "name": "2019-09-13",
         "showlegend": true,
         "type": "scattergl",
         "x": [
          -7.457015303574298
         ],
         "xaxis": "x",
         "y": [
          0.5227522851960089
         ],
         "yaxis": "y"
        },
        {
         "hovertemplate": "date=2019-09-14<br>pc1=%{x}<br>pc2=%{y}<extra></extra>",
         "legendgroup": "2019-09-14",
         "marker": {
          "color": "#19d3f3",
          "symbol": "circle"
         },
         "mode": "markers",
         "name": "2019-09-14",
         "showlegend": true,
         "type": "scattergl",
         "x": [
          7.451733553696746
         ],
         "xaxis": "x",
         "y": [
          -2.6097458439837657
         ],
         "yaxis": "y"
        },
        {
         "hovertemplate": "date=2019-09-15<br>pc1=%{x}<br>pc2=%{y}<extra></extra>",
         "legendgroup": "2019-09-15",
         "marker": {
          "color": "#FF6692",
          "symbol": "circle"
         },
         "mode": "markers",
         "name": "2019-09-15",
         "showlegend": true,
         "type": "scattergl",
         "x": [
          14.686388554419791
         ],
         "xaxis": "x",
         "y": [
          -7.209769924809123
         ],
         "yaxis": "y"
        },
        {
         "hovertemplate": "date=2019-09-16<br>pc1=%{x}<br>pc2=%{y}<extra></extra>",
         "legendgroup": "2019-09-16",
         "marker": {
          "color": "#B6E880",
          "symbol": "circle"
         },
         "mode": "markers",
         "name": "2019-09-16",
         "showlegend": true,
         "type": "scattergl",
         "x": [
          -6.882402525151067
         ],
         "xaxis": "x",
         "y": [
          -0.2998854694908645
         ],
         "yaxis": "y"
        },
        {
         "hovertemplate": "date=2019-09-17<br>pc1=%{x}<br>pc2=%{y}<extra></extra>",
         "legendgroup": "2019-09-17",
         "marker": {
          "color": "#FF97FF",
          "symbol": "circle"
         },
         "mode": "markers",
         "name": "2019-09-17",
         "showlegend": true,
         "type": "scattergl",
         "x": [
          -3.35085626096519
         ],
         "xaxis": "x",
         "y": [
          3.026172506419252
         ],
         "yaxis": "y"
        },
        {
         "hovertemplate": "date=2019-09-18<br>pc1=%{x}<br>pc2=%{y}<extra></extra>",
         "legendgroup": "2019-09-18",
         "marker": {
          "color": "#FECB52",
          "symbol": "circle"
         },
         "mode": "markers",
         "name": "2019-09-18",
         "showlegend": true,
         "type": "scattergl",
         "x": [
          -9.201420319425452
         ],
         "xaxis": "x",
         "y": [
          -2.2380419520134107
         ],
         "yaxis": "y"
        },
        {
         "hovertemplate": "date=2019-09-19<br>pc1=%{x}<br>pc2=%{y}<extra></extra>",
         "legendgroup": "2019-09-19",
         "marker": {
          "color": "#636efa",
          "symbol": "circle"
         },
         "mode": "markers",
         "name": "2019-09-19",
         "showlegend": true,
         "type": "scattergl",
         "x": [
          -13.197043793468696
         ],
         "xaxis": "x",
         "y": [
          -5.967806873785422
         ],
         "yaxis": "y"
        },
        {
         "hovertemplate": "date=2019-09-20<br>pc1=%{x}<br>pc2=%{y}<extra></extra>",
         "legendgroup": "2019-09-20",
         "marker": {
          "color": "#EF553B",
          "symbol": "circle"
         },
         "mode": "markers",
         "name": "2019-09-20",
         "showlegend": true,
         "type": "scattergl",
         "x": [
          -5.879751271201592
         ],
         "xaxis": "x",
         "y": [
          4.638502133643994
         ],
         "yaxis": "y"
        },
        {
         "hovertemplate": "date=2019-09-21<br>pc1=%{x}<br>pc2=%{y}<extra></extra>",
         "legendgroup": "2019-09-21",
         "marker": {
          "color": "#00cc96",
          "symbol": "circle"
         },
         "mode": "markers",
         "name": "2019-09-21",
         "showlegend": true,
         "type": "scattergl",
         "x": [
          14.384031628270323
         ],
         "xaxis": "x",
         "y": [
          -2.4213529927517485
         ],
         "yaxis": "y"
        },
        {
         "hovertemplate": "date=2019-09-22<br>pc1=%{x}<br>pc2=%{y}<extra></extra>",
         "legendgroup": "2019-09-22",
         "marker": {
          "color": "#ab63fa",
          "symbol": "circle"
         },
         "mode": "markers",
         "name": "2019-09-22",
         "showlegend": true,
         "type": "scattergl",
         "x": [
          17.330842709009385
         ],
         "xaxis": "x",
         "y": [
          -13.961364178951513
         ],
         "yaxis": "y"
        },
        {
         "hovertemplate": "date=2019-09-23<br>pc1=%{x}<br>pc2=%{y}<extra></extra>",
         "legendgroup": "2019-09-23",
         "marker": {
          "color": "#FFA15A",
          "symbol": "circle"
         },
         "mode": "markers",
         "name": "2019-09-23",
         "showlegend": true,
         "type": "scattergl",
         "x": [
          -5.667479867476348
         ],
         "xaxis": "x",
         "y": [
          7.028057175317577
         ],
         "yaxis": "y"
        },
        {
         "hovertemplate": "date=2019-09-24<br>pc1=%{x}<br>pc2=%{y}<extra></extra>",
         "legendgroup": "2019-09-24",
         "marker": {
          "color": "#19d3f3",
          "symbol": "circle"
         },
         "mode": "markers",
         "name": "2019-09-24",
         "showlegend": true,
         "type": "scattergl",
         "x": [
          -12.70099321778991
         ],
         "xaxis": "x",
         "y": [
          -5.933364180173745
         ],
         "yaxis": "y"
        },
        {
         "hovertemplate": "date=2019-09-25<br>pc1=%{x}<br>pc2=%{y}<extra></extra>",
         "legendgroup": "2019-09-25",
         "marker": {
          "color": "#FF6692",
          "symbol": "circle"
         },
         "mode": "markers",
         "name": "2019-09-25",
         "showlegend": true,
         "type": "scattergl",
         "x": [
          -6.177628145008736
         ],
         "xaxis": "x",
         "y": [
          7.258587815860273
         ],
         "yaxis": "y"
        },
        {
         "hovertemplate": "date=2019-09-26<br>pc1=%{x}<br>pc2=%{y}<extra></extra>",
         "legendgroup": "2019-09-26",
         "marker": {
          "color": "#B6E880",
          "symbol": "circle"
         },
         "mode": "markers",
         "name": "2019-09-26",
         "showlegend": true,
         "type": "scattergl",
         "x": [
          -7.293279420804148
         ],
         "xaxis": "x",
         "y": [
          6.524838202931983
         ],
         "yaxis": "y"
        },
        {
         "hovertemplate": "date=2019-09-27<br>pc1=%{x}<br>pc2=%{y}<extra></extra>",
         "legendgroup": "2019-09-27",
         "marker": {
          "color": "#FF97FF",
          "symbol": "circle"
         },
         "mode": "markers",
         "name": "2019-09-27",
         "showlegend": true,
         "type": "scattergl",
         "x": [
          1.206385637847346
         ],
         "xaxis": "x",
         "y": [
          -1.078690634566393
         ],
         "yaxis": "y"
        },
        {
         "hovertemplate": "date=2019-09-28<br>pc1=%{x}<br>pc2=%{y}<extra></extra>",
         "legendgroup": "2019-09-28",
         "marker": {
          "color": "#FECB52",
          "symbol": "circle"
         },
         "mode": "markers",
         "name": "2019-09-28",
         "showlegend": true,
         "type": "scattergl",
         "x": [
          16.20343901558695
         ],
         "xaxis": "x",
         "y": [
          -0.8099321994876763
         ],
         "yaxis": "y"
        },
        {
         "hovertemplate": "date=2019-09-29<br>pc1=%{x}<br>pc2=%{y}<extra></extra>",
         "legendgroup": "2019-09-29",
         "marker": {
          "color": "#636efa",
          "symbol": "circle"
         },
         "mode": "markers",
         "name": "2019-09-29",
         "showlegend": true,
         "type": "scattergl",
         "x": [
          15.079546975896761
         ],
         "xaxis": "x",
         "y": [
          -10.302156081870514
         ],
         "yaxis": "y"
        },
        {
         "hovertemplate": "date=2019-09-30<br>pc1=%{x}<br>pc2=%{y}<extra></extra>",
         "legendgroup": "2019-09-30",
         "marker": {
          "color": "#EF553B",
          "symbol": "circle"
         },
         "mode": "markers",
         "name": "2019-09-30",
         "showlegend": true,
         "type": "scattergl",
         "x": [
          -8.350565412811259
         ],
         "xaxis": "x",
         "y": [
          3.1091084832281917
         ],
         "yaxis": "y"
        },
        {
         "hovertemplate": "date=2019-10-01<br>pc1=%{x}<br>pc2=%{y}<extra></extra>",
         "legendgroup": "2019-10-01",
         "marker": {
          "color": "#00cc96",
          "symbol": "circle"
         },
         "mode": "markers",
         "name": "2019-10-01",
         "showlegend": true,
         "type": "scattergl",
         "x": [
          -5.811475037563266
         ],
         "xaxis": "x",
         "y": [
          7.078142947892131
         ],
         "yaxis": "y"
        },
        {
         "hovertemplate": "date=2019-10-02<br>pc1=%{x}<br>pc2=%{y}<extra></extra>",
         "legendgroup": "2019-10-02",
         "marker": {
          "color": "#ab63fa",
          "symbol": "circle"
         },
         "mode": "markers",
         "name": "2019-10-02",
         "showlegend": true,
         "type": "scattergl",
         "x": [
          -6.1561048547358705
         ],
         "xaxis": "x",
         "y": [
          3.1610104318993297
         ],
         "yaxis": "y"
        },
        {
         "hovertemplate": "date=2019-10-03<br>pc1=%{x}<br>pc2=%{y}<extra></extra>",
         "legendgroup": "2019-10-03",
         "marker": {
          "color": "#FFA15A",
          "symbol": "circle"
         },
         "mode": "markers",
         "name": "2019-10-03",
         "showlegend": true,
         "type": "scattergl",
         "x": [
          -11.30938616132905
         ],
         "xaxis": "x",
         "y": [
          -3.1653452442002337
         ],
         "yaxis": "y"
        },
        {
         "hovertemplate": "date=2019-10-04<br>pc1=%{x}<br>pc2=%{y}<extra></extra>",
         "legendgroup": "2019-10-04",
         "marker": {
          "color": "#19d3f3",
          "symbol": "circle"
         },
         "mode": "markers",
         "name": "2019-10-04",
         "showlegend": true,
         "type": "scattergl",
         "x": [
          -3.345930387644084
         ],
         "xaxis": "x",
         "y": [
          2.25899803466167
         ],
         "yaxis": "y"
        },
        {
         "hovertemplate": "date=2019-10-05<br>pc1=%{x}<br>pc2=%{y}<extra></extra>",
         "legendgroup": "2019-10-05",
         "marker": {
          "color": "#FF6692",
          "symbol": "circle"
         },
         "mode": "markers",
         "name": "2019-10-05",
         "showlegend": true,
         "type": "scattergl",
         "x": [
          14.86717660307521
         ],
         "xaxis": "x",
         "y": [
          -5.224570691785661
         ],
         "yaxis": "y"
        },
        {
         "hovertemplate": "date=2019-10-06<br>pc1=%{x}<br>pc2=%{y}<extra></extra>",
         "legendgroup": "2019-10-06",
         "marker": {
          "color": "#B6E880",
          "symbol": "circle"
         },
         "mode": "markers",
         "name": "2019-10-06",
         "showlegend": true,
         "type": "scattergl",
         "x": [
          16.94014020184752
         ],
         "xaxis": "x",
         "y": [
          -4.854581006368037
         ],
         "yaxis": "y"
        },
        {
         "hovertemplate": "date=2019-10-07<br>pc1=%{x}<br>pc2=%{y}<extra></extra>",
         "legendgroup": "2019-10-07",
         "marker": {
          "color": "#FF97FF",
          "symbol": "circle"
         },
         "mode": "markers",
         "name": "2019-10-07",
         "showlegend": true,
         "type": "scattergl",
         "x": [
          -4.1647800163031805
         ],
         "xaxis": "x",
         "y": [
          8.028625915236153
         ],
         "yaxis": "y"
        },
        {
         "hovertemplate": "date=2019-10-08<br>pc1=%{x}<br>pc2=%{y}<extra></extra>",
         "legendgroup": "2019-10-08",
         "marker": {
          "color": "#FECB52",
          "symbol": "circle"
         },
         "mode": "markers",
         "name": "2019-10-08",
         "showlegend": true,
         "type": "scattergl",
         "x": [
          -3.043181424000415
         ],
         "xaxis": "x",
         "y": [
          8.360467437531724
         ],
         "yaxis": "y"
        },
        {
         "hovertemplate": "date=2019-10-09<br>pc1=%{x}<br>pc2=%{y}<extra></extra>",
         "legendgroup": "2019-10-09",
         "marker": {
          "color": "#636efa",
          "symbol": "circle"
         },
         "mode": "markers",
         "name": "2019-10-09",
         "showlegend": true,
         "type": "scattergl",
         "x": [
          -2.0052399542421755
         ],
         "xaxis": "x",
         "y": [
          7.007494970610599
         ],
         "yaxis": "y"
        },
        {
         "hovertemplate": "date=2019-10-10<br>pc1=%{x}<br>pc2=%{y}<extra></extra>",
         "legendgroup": "2019-10-10",
         "marker": {
          "color": "#EF553B",
          "symbol": "circle"
         },
         "mode": "markers",
         "name": "2019-10-10",
         "showlegend": true,
         "type": "scattergl",
         "x": [
          -6.874972844382093
         ],
         "xaxis": "x",
         "y": [
          0.16626182290974506
         ],
         "yaxis": "y"
        },
        {
         "hovertemplate": "date=2019-10-11<br>pc1=%{x}<br>pc2=%{y}<extra></extra>",
         "legendgroup": "2019-10-11",
         "marker": {
          "color": "#00cc96",
          "symbol": "circle"
         },
         "mode": "markers",
         "name": "2019-10-11",
         "showlegend": true,
         "type": "scattergl",
         "x": [
          0.4273694441985303
         ],
         "xaxis": "x",
         "y": [
          4.152033461938964
         ],
         "yaxis": "y"
        },
        {
         "hovertemplate": "date=2019-10-12<br>pc1=%{x}<br>pc2=%{y}<extra></extra>",
         "legendgroup": "2019-10-12",
         "marker": {
          "color": "#ab63fa",
          "symbol": "circle"
         },
         "mode": "markers",
         "name": "2019-10-12",
         "showlegend": true,
         "type": "scattergl",
         "x": [
          16.12105703087159
         ],
         "xaxis": "x",
         "y": [
          6.100976939597431
         ],
         "yaxis": "y"
        },
        {
         "hovertemplate": "date=2019-10-13<br>pc1=%{x}<br>pc2=%{y}<extra></extra>",
         "legendgroup": "2019-10-13",
         "marker": {
          "color": "#FFA15A",
          "symbol": "circle"
         },
         "mode": "markers",
         "name": "2019-10-13",
         "showlegend": true,
         "type": "scattergl",
         "x": [
          20.832405558585958
         ],
         "xaxis": "x",
         "y": [
          32.15487619186472
         ],
         "yaxis": "y"
        },
        {
         "hovertemplate": "date=2019-10-14<br>pc1=%{x}<br>pc2=%{y}<extra></extra>",
         "legendgroup": "2019-10-14",
         "marker": {
          "color": "#19d3f3",
          "symbol": "circle"
         },
         "mode": "markers",
         "name": "2019-10-14",
         "showlegend": true,
         "type": "scattergl",
         "x": [
          14.78560094141603
         ],
         "xaxis": "x",
         "y": [
          12.864321063096723
         ],
         "yaxis": "y"
        },
        {
         "hovertemplate": "date=2019-10-15<br>pc1=%{x}<br>pc2=%{y}<extra></extra>",
         "legendgroup": "2019-10-15",
         "marker": {
          "color": "#FF6692",
          "symbol": "circle"
         },
         "mode": "markers",
         "name": "2019-10-15",
         "showlegend": true,
         "type": "scattergl",
         "x": [
          -4.605907412219031
         ],
         "xaxis": "x",
         "y": [
          2.8948136066629986
         ],
         "yaxis": "y"
        },
        {
         "hovertemplate": "date=2019-10-16<br>pc1=%{x}<br>pc2=%{y}<extra></extra>",
         "legendgroup": "2019-10-16",
         "marker": {
          "color": "#B6E880",
          "symbol": "circle"
         },
         "mode": "markers",
         "name": "2019-10-16",
         "showlegend": true,
         "type": "scattergl",
         "x": [
          -2.0147503089517795
         ],
         "xaxis": "x",
         "y": [
          6.826125589232575
         ],
         "yaxis": "y"
        },
        {
         "hovertemplate": "date=2019-10-17<br>pc1=%{x}<br>pc2=%{y}<extra></extra>",
         "legendgroup": "2019-10-17",
         "marker": {
          "color": "#FF97FF",
          "symbol": "circle"
         },
         "mode": "markers",
         "name": "2019-10-17",
         "showlegend": true,
         "type": "scattergl",
         "x": [
          -3.8230852253605976
         ],
         "xaxis": "x",
         "y": [
          6.285874598512825
         ],
         "yaxis": "y"
        },
        {
         "hovertemplate": "date=2019-10-18<br>pc1=%{x}<br>pc2=%{y}<extra></extra>",
         "legendgroup": "2019-10-18",
         "marker": {
          "color": "#FECB52",
          "symbol": "circle"
         },
         "mode": "markers",
         "name": "2019-10-18",
         "showlegend": true,
         "type": "scattergl",
         "x": [
          -2.5516239866105934
         ],
         "xaxis": "x",
         "y": [
          4.638995863207581
         ],
         "yaxis": "y"
        },
        {
         "hovertemplate": "date=2019-10-19<br>pc1=%{x}<br>pc2=%{y}<extra></extra>",
         "legendgroup": "2019-10-19",
         "marker": {
          "color": "#636efa",
          "symbol": "circle"
         },
         "mode": "markers",
         "name": "2019-10-19",
         "showlegend": true,
         "type": "scattergl",
         "x": [
          -0.4519748241357805
         ],
         "xaxis": "x",
         "y": [
          -16.397768465345187
         ],
         "yaxis": "y"
        },
        {
         "hovertemplate": "date=2019-10-20<br>pc1=%{x}<br>pc2=%{y}<extra></extra>",
         "legendgroup": "2019-10-20",
         "marker": {
          "color": "#EF553B",
          "symbol": "circle"
         },
         "mode": "markers",
         "name": "2019-10-20",
         "showlegend": true,
         "type": "scattergl",
         "x": [
          27.108921488513765
         ],
         "xaxis": "x",
         "y": [
          15.060636725952293
         ],
         "yaxis": "y"
        },
        {
         "hovertemplate": "date=2019-10-21<br>pc1=%{x}<br>pc2=%{y}<extra></extra>",
         "legendgroup": "2019-10-21",
         "marker": {
          "color": "#00cc96",
          "symbol": "circle"
         },
         "mode": "markers",
         "name": "2019-10-21",
         "showlegend": true,
         "type": "scattergl",
         "x": [
          -2.006447588166491
         ],
         "xaxis": "x",
         "y": [
          3.354862989741125
         ],
         "yaxis": "y"
        },
        {
         "hovertemplate": "date=2019-10-22<br>pc1=%{x}<br>pc2=%{y}<extra></extra>",
         "legendgroup": "2019-10-22",
         "marker": {
          "color": "#ab63fa",
          "symbol": "circle"
         },
         "mode": "markers",
         "name": "2019-10-22",
         "showlegend": true,
         "type": "scattergl",
         "x": [
          -1.0142534304440927
         ],
         "xaxis": "x",
         "y": [
          4.170733596188265
         ],
         "yaxis": "y"
        },
        {
         "hovertemplate": "date=2019-10-23<br>pc1=%{x}<br>pc2=%{y}<extra></extra>",
         "legendgroup": "2019-10-23",
         "marker": {
          "color": "#FFA15A",
          "symbol": "circle"
         },
         "mode": "markers",
         "name": "2019-10-23",
         "showlegend": true,
         "type": "scattergl",
         "x": [
          -7.02276492221417
         ],
         "xaxis": "x",
         "y": [
          7.374813861971851
         ],
         "yaxis": "y"
        },
        {
         "hovertemplate": "date=2019-10-24<br>pc1=%{x}<br>pc2=%{y}<extra></extra>",
         "legendgroup": "2019-10-24",
         "marker": {
          "color": "#19d3f3",
          "symbol": "circle"
         },
         "mode": "markers",
         "name": "2019-10-24",
         "showlegend": true,
         "type": "scattergl",
         "x": [
          -8.746634185861593
         ],
         "xaxis": "x",
         "y": [
          -1.0576525011337108
         ],
         "yaxis": "y"
        },
        {
         "hovertemplate": "date=2019-10-25<br>pc1=%{x}<br>pc2=%{y}<extra></extra>",
         "legendgroup": "2019-10-25",
         "marker": {
          "color": "#FF6692",
          "symbol": "circle"
         },
         "mode": "markers",
         "name": "2019-10-25",
         "showlegend": true,
         "type": "scattergl",
         "x": [
          -2.76319969037816
         ],
         "xaxis": "x",
         "y": [
          1.9844583878413624
         ],
         "yaxis": "y"
        },
        {
         "hovertemplate": "date=2019-10-26<br>pc1=%{x}<br>pc2=%{y}<extra></extra>",
         "legendgroup": "2019-10-26",
         "marker": {
          "color": "#B6E880",
          "symbol": "circle"
         },
         "mode": "markers",
         "name": "2019-10-26",
         "showlegend": true,
         "type": "scattergl",
         "x": [
          15.629572302538877
         ],
         "xaxis": "x",
         "y": [
          -7.480069688260436
         ],
         "yaxis": "y"
        },
        {
         "hovertemplate": "date=2019-10-27<br>pc1=%{x}<br>pc2=%{y}<extra></extra>",
         "legendgroup": "2019-10-27",
         "marker": {
          "color": "#FF97FF",
          "symbol": "circle"
         },
         "mode": "markers",
         "name": "2019-10-27",
         "showlegend": true,
         "type": "scattergl",
         "x": [
          11.16034477102816
         ],
         "xaxis": "x",
         "y": [
          -4.385944520484534
         ],
         "yaxis": "y"
        },
        {
         "hovertemplate": "date=2019-10-28<br>pc1=%{x}<br>pc2=%{y}<extra></extra>",
         "legendgroup": "2019-10-28",
         "marker": {
          "color": "#FECB52",
          "symbol": "circle"
         },
         "mode": "markers",
         "name": "2019-10-28",
         "showlegend": true,
         "type": "scattergl",
         "x": [
          -6.960013887174942
         ],
         "xaxis": "x",
         "y": [
          6.572454742097802
         ],
         "yaxis": "y"
        },
        {
         "hovertemplate": "date=2019-10-29<br>pc1=%{x}<br>pc2=%{y}<extra></extra>",
         "legendgroup": "2019-10-29",
         "marker": {
          "color": "#636efa",
          "symbol": "circle"
         },
         "mode": "markers",
         "name": "2019-10-29",
         "showlegend": true,
         "type": "scattergl",
         "x": [
          -3.987812554193101
         ],
         "xaxis": "x",
         "y": [
          8.472438849875
         ],
         "yaxis": "y"
        },
        {
         "hovertemplate": "date=2019-10-30<br>pc1=%{x}<br>pc2=%{y}<extra></extra>",
         "legendgroup": "2019-10-30",
         "marker": {
          "color": "#EF553B",
          "symbol": "circle"
         },
         "mode": "markers",
         "name": "2019-10-30",
         "showlegend": true,
         "type": "scattergl",
         "x": [
          -0.17791973024273428
         ],
         "xaxis": "x",
         "y": [
          6.117567224769984
         ],
         "yaxis": "y"
        },
        {
         "hovertemplate": "date=2019-10-31<br>pc1=%{x}<br>pc2=%{y}<extra></extra>",
         "legendgroup": "2019-10-31",
         "marker": {
          "color": "#00cc96",
          "symbol": "circle"
         },
         "mode": "markers",
         "name": "2019-10-31",
         "showlegend": true,
         "type": "scattergl",
         "x": [
          -0.8125522720644691
         ],
         "xaxis": "x",
         "y": [
          -2.1756928262657422
         ],
         "yaxis": "y"
        },
        {
         "hovertemplate": "date=2019-11-01<br>pc1=%{x}<br>pc2=%{y}<extra></extra>",
         "legendgroup": "2019-11-01",
         "marker": {
          "color": "#ab63fa",
          "symbol": "circle"
         },
         "mode": "markers",
         "name": "2019-11-01",
         "showlegend": true,
         "type": "scattergl",
         "x": [
          -3.623496417650981
         ],
         "xaxis": "x",
         "y": [
          3.7049753027570853
         ],
         "yaxis": "y"
        },
        {
         "hovertemplate": "date=2019-11-02<br>pc1=%{x}<br>pc2=%{y}<extra></extra>",
         "legendgroup": "2019-11-02",
         "marker": {
          "color": "#FFA15A",
          "symbol": "circle"
         },
         "mode": "markers",
         "name": "2019-11-02",
         "showlegend": true,
         "type": "scattergl",
         "x": [
          11.594177884044552
         ],
         "xaxis": "x",
         "y": [
          -3.366450036485578
         ],
         "yaxis": "y"
        },
        {
         "hovertemplate": "date=2019-11-03<br>pc1=%{x}<br>pc2=%{y}<extra></extra>",
         "legendgroup": "2019-11-03",
         "marker": {
          "color": "#19d3f3",
          "symbol": "circle"
         },
         "mode": "markers",
         "name": "2019-11-03",
         "showlegend": true,
         "type": "scattergl",
         "x": [
          13.045387765516544
         ],
         "xaxis": "x",
         "y": [
          -5.841001643658785
         ],
         "yaxis": "y"
        },
        {
         "hovertemplate": "date=2019-11-04<br>pc1=%{x}<br>pc2=%{y}<extra></extra>",
         "legendgroup": "2019-11-04",
         "marker": {
          "color": "#FF6692",
          "symbol": "circle"
         },
         "mode": "markers",
         "name": "2019-11-04",
         "showlegend": true,
         "type": "scattergl",
         "x": [
          -7.628350800280827
         ],
         "xaxis": "x",
         "y": [
          5.249387013698974
         ],
         "yaxis": "y"
        },
        {
         "hovertemplate": "date=2019-11-05<br>pc1=%{x}<br>pc2=%{y}<extra></extra>",
         "legendgroup": "2019-11-05",
         "marker": {
          "color": "#B6E880",
          "symbol": "circle"
         },
         "mode": "markers",
         "name": "2019-11-05",
         "showlegend": true,
         "type": "scattergl",
         "x": [
          -6.021813014438556
         ],
         "xaxis": "x",
         "y": [
          5.851574545209709
         ],
         "yaxis": "y"
        },
        {
         "hovertemplate": "date=2019-11-06<br>pc1=%{x}<br>pc2=%{y}<extra></extra>",
         "legendgroup": "2019-11-06",
         "marker": {
          "color": "#FF97FF",
          "symbol": "circle"
         },
         "mode": "markers",
         "name": "2019-11-06",
         "showlegend": true,
         "type": "scattergl",
         "x": [
          -7.288027330078682
         ],
         "xaxis": "x",
         "y": [
          3.3977924596082154
         ],
         "yaxis": "y"
        },
        {
         "hovertemplate": "date=2019-11-07<br>pc1=%{x}<br>pc2=%{y}<extra></extra>",
         "legendgroup": "2019-11-07",
         "marker": {
          "color": "#FECB52",
          "symbol": "circle"
         },
         "mode": "markers",
         "name": "2019-11-07",
         "showlegend": true,
         "type": "scattergl",
         "x": [
          -5.656392032671607
         ],
         "xaxis": "x",
         "y": [
          4.533199924584145
         ],
         "yaxis": "y"
        },
        {
         "hovertemplate": "date=2019-11-08<br>pc1=%{x}<br>pc2=%{y}<extra></extra>",
         "legendgroup": "2019-11-08",
         "marker": {
          "color": "#636efa",
          "symbol": "circle"
         },
         "mode": "markers",
         "name": "2019-11-08",
         "showlegend": true,
         "type": "scattergl",
         "x": [
          -1.289056836133994
         ],
         "xaxis": "x",
         "y": [
          2.7256460002935956
         ],
         "yaxis": "y"
        },
        {
         "hovertemplate": "date=2019-11-09<br>pc1=%{x}<br>pc2=%{y}<extra></extra>",
         "legendgroup": "2019-11-09",
         "marker": {
          "color": "#EF553B",
          "symbol": "circle"
         },
         "mode": "markers",
         "name": "2019-11-09",
         "showlegend": true,
         "type": "scattergl",
         "x": [
          8.946841906402733
         ],
         "xaxis": "x",
         "y": [
          -3.4926093614548464
         ],
         "yaxis": "y"
        },
        {
         "hovertemplate": "date=2019-11-10<br>pc1=%{x}<br>pc2=%{y}<extra></extra>",
         "legendgroup": "2019-11-10",
         "marker": {
          "color": "#00cc96",
          "symbol": "circle"
         },
         "mode": "markers",
         "name": "2019-11-10",
         "showlegend": true,
         "type": "scattergl",
         "x": [
          14.769831195749443
         ],
         "xaxis": "x",
         "y": [
          1.316558385751296
         ],
         "yaxis": "y"
        },
        {
         "hovertemplate": "date=2019-11-11<br>pc1=%{x}<br>pc2=%{y}<extra></extra>",
         "legendgroup": "2019-11-11",
         "marker": {
          "color": "#ab63fa",
          "symbol": "circle"
         },
         "mode": "markers",
         "name": "2019-11-11",
         "showlegend": true,
         "type": "scattergl",
         "x": [
          31.40244450464912
         ],
         "xaxis": "x",
         "y": [
          35.74512980680666
         ],
         "yaxis": "y"
        },
        {
         "hovertemplate": "date=2019-11-12<br>pc1=%{x}<br>pc2=%{y}<extra></extra>",
         "legendgroup": "2019-11-12",
         "marker": {
          "color": "#FFA15A",
          "symbol": "circle"
         },
         "mode": "markers",
         "name": "2019-11-12",
         "showlegend": true,
         "type": "scattergl",
         "x": [
          -1.5140480608136182
         ],
         "xaxis": "x",
         "y": [
          7.465157507274546
         ],
         "yaxis": "y"
        },
        {
         "hovertemplate": "date=2019-11-13<br>pc1=%{x}<br>pc2=%{y}<extra></extra>",
         "legendgroup": "2019-11-13",
         "marker": {
          "color": "#19d3f3",
          "symbol": "circle"
         },
         "mode": "markers",
         "name": "2019-11-13",
         "showlegend": true,
         "type": "scattergl",
         "x": [
          -4.0497529140132995
         ],
         "xaxis": "x",
         "y": [
          6.1747100981087595
         ],
         "yaxis": "y"
        },
        {
         "hovertemplate": "date=2019-11-14<br>pc1=%{x}<br>pc2=%{y}<extra></extra>",
         "legendgroup": "2019-11-14",
         "marker": {
          "color": "#FF6692",
          "symbol": "circle"
         },
         "mode": "markers",
         "name": "2019-11-14",
         "showlegend": true,
         "type": "scattergl",
         "x": [
          -7.521227237573806
         ],
         "xaxis": "x",
         "y": [
          4.002725084497509
         ],
         "yaxis": "y"
        },
        {
         "hovertemplate": "date=2019-11-15<br>pc1=%{x}<br>pc2=%{y}<extra></extra>",
         "legendgroup": "2019-11-15",
         "marker": {
          "color": "#B6E880",
          "symbol": "circle"
         },
         "mode": "markers",
         "name": "2019-11-15",
         "showlegend": true,
         "type": "scattergl",
         "x": [
          -5.129872703243789
         ],
         "xaxis": "x",
         "y": [
          3.7124800755346476
         ],
         "yaxis": "y"
        },
        {
         "hovertemplate": "date=2019-11-16<br>pc1=%{x}<br>pc2=%{y}<extra></extra>",
         "legendgroup": "2019-11-16",
         "marker": {
          "color": "#FF97FF",
          "symbol": "circle"
         },
         "mode": "markers",
         "name": "2019-11-16",
         "showlegend": true,
         "type": "scattergl",
         "x": [
          5.597146045992345
         ],
         "xaxis": "x",
         "y": [
          -11.603975911324135
         ],
         "yaxis": "y"
        },
        {
         "hovertemplate": "date=2019-11-17<br>pc1=%{x}<br>pc2=%{y}<extra></extra>",
         "legendgroup": "2019-11-17",
         "marker": {
          "color": "#FECB52",
          "symbol": "circle"
         },
         "mode": "markers",
         "name": "2019-11-17",
         "showlegend": true,
         "type": "scattergl",
         "x": [
          19.26776825033555
         ],
         "xaxis": "x",
         "y": [
          -2.4436229140587122
         ],
         "yaxis": "y"
        },
        {
         "hovertemplate": "date=2019-11-18<br>pc1=%{x}<br>pc2=%{y}<extra></extra>",
         "legendgroup": "2019-11-18",
         "marker": {
          "color": "#636efa",
          "symbol": "circle"
         },
         "mode": "markers",
         "name": "2019-11-18",
         "showlegend": true,
         "type": "scattergl",
         "x": [
          -3.694571506867871
         ],
         "xaxis": "x",
         "y": [
          8.193847394452272
         ],
         "yaxis": "y"
        },
        {
         "hovertemplate": "date=2019-11-19<br>pc1=%{x}<br>pc2=%{y}<extra></extra>",
         "legendgroup": "2019-11-19",
         "marker": {
          "color": "#EF553B",
          "symbol": "circle"
         },
         "mode": "markers",
         "name": "2019-11-19",
         "showlegend": true,
         "type": "scattergl",
         "x": [
          -11.227938907520334
         ],
         "xaxis": "x",
         "y": [
          -6.5782907773123185
         ],
         "yaxis": "y"
        },
        {
         "hovertemplate": "date=2019-11-20<br>pc1=%{x}<br>pc2=%{y}<extra></extra>",
         "legendgroup": "2019-11-20",
         "marker": {
          "color": "#00cc96",
          "symbol": "circle"
         },
         "mode": "markers",
         "name": "2019-11-20",
         "showlegend": true,
         "type": "scattergl",
         "x": [
          -2.9571803228961873
         ],
         "xaxis": "x",
         "y": [
          7.044997548640998
         ],
         "yaxis": "y"
        },
        {
         "hovertemplate": "date=2019-11-21<br>pc1=%{x}<br>pc2=%{y}<extra></extra>",
         "legendgroup": "2019-11-21",
         "marker": {
          "color": "#ab63fa",
          "symbol": "circle"
         },
         "mode": "markers",
         "name": "2019-11-21",
         "showlegend": true,
         "type": "scattergl",
         "x": [
          -6.347048709410622
         ],
         "xaxis": "x",
         "y": [
          -1.020670720590619
         ],
         "yaxis": "y"
        },
        {
         "hovertemplate": "date=2019-11-22<br>pc1=%{x}<br>pc2=%{y}<extra></extra>",
         "legendgroup": "2019-11-22",
         "marker": {
          "color": "#FFA15A",
          "symbol": "circle"
         },
         "mode": "markers",
         "name": "2019-11-22",
         "showlegend": true,
         "type": "scattergl",
         "x": [
          -8.031664638744683
         ],
         "xaxis": "x",
         "y": [
          3.1291887473566975
         ],
         "yaxis": "y"
        },
        {
         "hovertemplate": "date=2019-11-23<br>pc1=%{x}<br>pc2=%{y}<extra></extra>",
         "legendgroup": "2019-11-23",
         "marker": {
          "color": "#19d3f3",
          "symbol": "circle"
         },
         "mode": "markers",
         "name": "2019-11-23",
         "showlegend": true,
         "type": "scattergl",
         "x": [
          5.470086498530763
         ],
         "xaxis": "x",
         "y": [
          -8.273942942413113
         ],
         "yaxis": "y"
        },
        {
         "hovertemplate": "date=2019-11-24<br>pc1=%{x}<br>pc2=%{y}<extra></extra>",
         "legendgroup": "2019-11-24",
         "marker": {
          "color": "#FF6692",
          "symbol": "circle"
         },
         "mode": "markers",
         "name": "2019-11-24",
         "showlegend": true,
         "type": "scattergl",
         "x": [
          12.100257771335109
         ],
         "xaxis": "x",
         "y": [
          -6.303120618487083
         ],
         "yaxis": "y"
        },
        {
         "hovertemplate": "date=2019-11-25<br>pc1=%{x}<br>pc2=%{y}<extra></extra>",
         "legendgroup": "2019-11-25",
         "marker": {
          "color": "#B6E880",
          "symbol": "circle"
         },
         "mode": "markers",
         "name": "2019-11-25",
         "showlegend": true,
         "type": "scattergl",
         "x": [
          -17.33476475166076
         ],
         "xaxis": "x",
         "y": [
          10.152690216517708
         ],
         "yaxis": "y"
        },
        {
         "hovertemplate": "date=2019-11-26<br>pc1=%{x}<br>pc2=%{y}<extra></extra>",
         "legendgroup": "2019-11-26",
         "marker": {
          "color": "#FF97FF",
          "symbol": "circle"
         },
         "mode": "markers",
         "name": "2019-11-26",
         "showlegend": true,
         "type": "scattergl",
         "x": [
          -19.56883909406768
         ],
         "xaxis": "x",
         "y": [
          9.721573327530317
         ],
         "yaxis": "y"
        },
        {
         "hovertemplate": "date=2019-11-27<br>pc1=%{x}<br>pc2=%{y}<extra></extra>",
         "legendgroup": "2019-11-27",
         "marker": {
          "color": "#FECB52",
          "symbol": "circle"
         },
         "mode": "markers",
         "name": "2019-11-27",
         "showlegend": true,
         "type": "scattergl",
         "x": [
          -5.886399533478494
         ],
         "xaxis": "x",
         "y": [
          5.531396001443682
         ],
         "yaxis": "y"
        },
        {
         "hovertemplate": "date=2019-11-28<br>pc1=%{x}<br>pc2=%{y}<extra></extra>",
         "legendgroup": "2019-11-28",
         "marker": {
          "color": "#636efa",
          "symbol": "circle"
         },
         "mode": "markers",
         "name": "2019-11-28",
         "showlegend": true,
         "type": "scattergl",
         "x": [
          42.306509988386665
         ],
         "xaxis": "x",
         "y": [
          -19.595976107511554
         ],
         "yaxis": "y"
        },
        {
         "hovertemplate": "date=2019-11-29<br>pc1=%{x}<br>pc2=%{y}<extra></extra>",
         "legendgroup": "2019-11-29",
         "marker": {
          "color": "#EF553B",
          "symbol": "circle"
         },
         "mode": "markers",
         "name": "2019-11-29",
         "showlegend": true,
         "type": "scattergl",
         "x": [
          15.880582101466604
         ],
         "xaxis": "x",
         "y": [
          -10.80301450782967
         ],
         "yaxis": "y"
        },
        {
         "hovertemplate": "date=2019-11-30<br>pc1=%{x}<br>pc2=%{y}<extra></extra>",
         "legendgroup": "2019-11-30",
         "marker": {
          "color": "#00cc96",
          "symbol": "circle"
         },
         "mode": "markers",
         "name": "2019-11-30",
         "showlegend": true,
         "type": "scattergl",
         "x": [
          1.9961755151814375
         ],
         "xaxis": "x",
         "y": [
          2.7399503066488684
         ],
         "yaxis": "y"
        },
        {
         "hovertemplate": "date=2019-12-01<br>pc1=%{x}<br>pc2=%{y}<extra></extra>",
         "legendgroup": "2019-12-01",
         "marker": {
          "color": "#ab63fa",
          "symbol": "circle"
         },
         "mode": "markers",
         "name": "2019-12-01",
         "showlegend": true,
         "type": "scattergl",
         "x": [
          3.8996771840314617
         ],
         "xaxis": "x",
         "y": [
          6.385620622798367
         ],
         "yaxis": "y"
        },
        {
         "hovertemplate": "date=2019-12-02<br>pc1=%{x}<br>pc2=%{y}<extra></extra>",
         "legendgroup": "2019-12-02",
         "marker": {
          "color": "#FFA15A",
          "symbol": "circle"
         },
         "mode": "markers",
         "name": "2019-12-02",
         "showlegend": true,
         "type": "scattergl",
         "x": [
          -10.127181017357568
         ],
         "xaxis": "x",
         "y": [
          9.751757048721034
         ],
         "yaxis": "y"
        },
        {
         "hovertemplate": "date=2019-12-03<br>pc1=%{x}<br>pc2=%{y}<extra></extra>",
         "legendgroup": "2019-12-03",
         "marker": {
          "color": "#19d3f3",
          "symbol": "circle"
         },
         "mode": "markers",
         "name": "2019-12-03",
         "showlegend": true,
         "type": "scattergl",
         "x": [
          -8.113225794132747
         ],
         "xaxis": "x",
         "y": [
          1.1194780746255584
         ],
         "yaxis": "y"
        },
        {
         "hovertemplate": "date=2019-12-04<br>pc1=%{x}<br>pc2=%{y}<extra></extra>",
         "legendgroup": "2019-12-04",
         "marker": {
          "color": "#FF6692",
          "symbol": "circle"
         },
         "mode": "markers",
         "name": "2019-12-04",
         "showlegend": true,
         "type": "scattergl",
         "x": [
          -4.291256348216269
         ],
         "xaxis": "x",
         "y": [
          5.567127536173735
         ],
         "yaxis": "y"
        },
        {
         "hovertemplate": "date=2019-12-05<br>pc1=%{x}<br>pc2=%{y}<extra></extra>",
         "legendgroup": "2019-12-05",
         "marker": {
          "color": "#B6E880",
          "symbol": "circle"
         },
         "mode": "markers",
         "name": "2019-12-05",
         "showlegend": true,
         "type": "scattergl",
         "x": [
          -7.43329195960594
         ],
         "xaxis": "x",
         "y": [
          2.874278400845571
         ],
         "yaxis": "y"
        },
        {
         "hovertemplate": "date=2019-12-06<br>pc1=%{x}<br>pc2=%{y}<extra></extra>",
         "legendgroup": "2019-12-06",
         "marker": {
          "color": "#FF97FF",
          "symbol": "circle"
         },
         "mode": "markers",
         "name": "2019-12-06",
         "showlegend": true,
         "type": "scattergl",
         "x": [
          -4.3652236932058806
         ],
         "xaxis": "x",
         "y": [
          2.247907759655209
         ],
         "yaxis": "y"
        },
        {
         "hovertemplate": "date=2019-12-07<br>pc1=%{x}<br>pc2=%{y}<extra></extra>",
         "legendgroup": "2019-12-07",
         "marker": {
          "color": "#FECB52",
          "symbol": "circle"
         },
         "mode": "markers",
         "name": "2019-12-07",
         "showlegend": true,
         "type": "scattergl",
         "x": [
          4.71461214064147
         ],
         "xaxis": "x",
         "y": [
          -10.17739761938143
         ],
         "yaxis": "y"
        },
        {
         "hovertemplate": "date=2019-12-08<br>pc1=%{x}<br>pc2=%{y}<extra></extra>",
         "legendgroup": "2019-12-08",
         "marker": {
          "color": "#636efa",
          "symbol": "circle"
         },
         "mode": "markers",
         "name": "2019-12-08",
         "showlegend": true,
         "type": "scattergl",
         "x": [
          16.856387444053873
         ],
         "xaxis": "x",
         "y": [
          -0.4046586610499644
         ],
         "yaxis": "y"
        },
        {
         "hovertemplate": "date=2019-12-09<br>pc1=%{x}<br>pc2=%{y}<extra></extra>",
         "legendgroup": "2019-12-09",
         "marker": {
          "color": "#EF553B",
          "symbol": "circle"
         },
         "mode": "markers",
         "name": "2019-12-09",
         "showlegend": true,
         "type": "scattergl",
         "x": [
          -6.9010682818088025
         ],
         "xaxis": "x",
         "y": [
          1.6502299755919536
         ],
         "yaxis": "y"
        },
        {
         "hovertemplate": "date=2019-12-10<br>pc1=%{x}<br>pc2=%{y}<extra></extra>",
         "legendgroup": "2019-12-10",
         "marker": {
          "color": "#00cc96",
          "symbol": "circle"
         },
         "mode": "markers",
         "name": "2019-12-10",
         "showlegend": true,
         "type": "scattergl",
         "x": [
          -0.5952236704896472
         ],
         "xaxis": "x",
         "y": [
          5.454145884836229
         ],
         "yaxis": "y"
        },
        {
         "hovertemplate": "date=2019-12-11<br>pc1=%{x}<br>pc2=%{y}<extra></extra>",
         "legendgroup": "2019-12-11",
         "marker": {
          "color": "#ab63fa",
          "symbol": "circle"
         },
         "mode": "markers",
         "name": "2019-12-11",
         "showlegend": true,
         "type": "scattergl",
         "x": [
          -6.791634779284955
         ],
         "xaxis": "x",
         "y": [
          -4.884170053839721
         ],
         "yaxis": "y"
        },
        {
         "hovertemplate": "date=2019-12-12<br>pc1=%{x}<br>pc2=%{y}<extra></extra>",
         "legendgroup": "2019-12-12",
         "marker": {
          "color": "#FFA15A",
          "symbol": "circle"
         },
         "mode": "markers",
         "name": "2019-12-12",
         "showlegend": true,
         "type": "scattergl",
         "x": [
          -4.921528138919628
         ],
         "xaxis": "x",
         "y": [
          5.131929176644701
         ],
         "yaxis": "y"
        },
        {
         "hovertemplate": "date=2019-12-13<br>pc1=%{x}<br>pc2=%{y}<extra></extra>",
         "legendgroup": "2019-12-13",
         "marker": {
          "color": "#19d3f3",
          "symbol": "circle"
         },
         "mode": "markers",
         "name": "2019-12-13",
         "showlegend": true,
         "type": "scattergl",
         "x": [
          21.306650687008712
         ],
         "xaxis": "x",
         "y": [
          46.26166653020912
         ],
         "yaxis": "y"
        },
        {
         "hovertemplate": "date=2019-12-14<br>pc1=%{x}<br>pc2=%{y}<extra></extra>",
         "legendgroup": "2019-12-14",
         "marker": {
          "color": "#FF6692",
          "symbol": "circle"
         },
         "mode": "markers",
         "name": "2019-12-14",
         "showlegend": true,
         "type": "scattergl",
         "x": [
          34.46387760718329
         ],
         "xaxis": "x",
         "y": [
          37.04079328389905
         ],
         "yaxis": "y"
        },
        {
         "hovertemplate": "date=2019-12-15<br>pc1=%{x}<br>pc2=%{y}<extra></extra>",
         "legendgroup": "2019-12-15",
         "marker": {
          "color": "#B6E880",
          "symbol": "circle"
         },
         "mode": "markers",
         "name": "2019-12-15",
         "showlegend": true,
         "type": "scattergl",
         "x": [
          38.01635865759455
         ],
         "xaxis": "x",
         "y": [
          34.83330262027632
         ],
         "yaxis": "y"
        },
        {
         "hovertemplate": "date=2019-12-16<br>pc1=%{x}<br>pc2=%{y}<extra></extra>",
         "legendgroup": "2019-12-16",
         "marker": {
          "color": "#FF97FF",
          "symbol": "circle"
         },
         "mode": "markers",
         "name": "2019-12-16",
         "showlegend": true,
         "type": "scattergl",
         "x": [
          11.645376221911109
         ],
         "xaxis": "x",
         "y": [
          27.839164009675684
         ],
         "yaxis": "y"
        },
        {
         "hovertemplate": "date=2019-12-17<br>pc1=%{x}<br>pc2=%{y}<extra></extra>",
         "legendgroup": "2019-12-17",
         "marker": {
          "color": "#FECB52",
          "symbol": "circle"
         },
         "mode": "markers",
         "name": "2019-12-17",
         "showlegend": true,
         "type": "scattergl",
         "x": [
          17.64516543406649
         ],
         "xaxis": "x",
         "y": [
          37.99786983016178
         ],
         "yaxis": "y"
        },
        {
         "hovertemplate": "date=2019-12-18<br>pc1=%{x}<br>pc2=%{y}<extra></extra>",
         "legendgroup": "2019-12-18",
         "marker": {
          "color": "#636efa",
          "symbol": "circle"
         },
         "mode": "markers",
         "name": "2019-12-18",
         "showlegend": true,
         "type": "scattergl",
         "x": [
          24.575282944411107
         ],
         "xaxis": "x",
         "y": [
          43.17356497628777
         ],
         "yaxis": "y"
        },
        {
         "hovertemplate": "date=2019-12-19<br>pc1=%{x}<br>pc2=%{y}<extra></extra>",
         "legendgroup": "2019-12-19",
         "marker": {
          "color": "#EF553B",
          "symbol": "circle"
         },
         "mode": "markers",
         "name": "2019-12-19",
         "showlegend": true,
         "type": "scattergl",
         "x": [
          24.444270776881446
         ],
         "xaxis": "x",
         "y": [
          43.254512377299974
         ],
         "yaxis": "y"
        },
        {
         "hovertemplate": "date=2019-12-20<br>pc1=%{x}<br>pc2=%{y}<extra></extra>",
         "legendgroup": "2019-12-20",
         "marker": {
          "color": "#00cc96",
          "symbol": "circle"
         },
         "mode": "markers",
         "name": "2019-12-20",
         "showlegend": true,
         "type": "scattergl",
         "x": [
          4.861275751808686
         ],
         "xaxis": "x",
         "y": [
          14.856594726460795
         ],
         "yaxis": "y"
        },
        {
         "hovertemplate": "date=2019-12-21<br>pc1=%{x}<br>pc2=%{y}<extra></extra>",
         "legendgroup": "2019-12-21",
         "marker": {
          "color": "#ab63fa",
          "symbol": "circle"
         },
         "mode": "markers",
         "name": "2019-12-21",
         "showlegend": true,
         "type": "scattergl",
         "x": [
          -0.38181095693563694
         ],
         "xaxis": "x",
         "y": [
          1.2379492888125017
         ],
         "yaxis": "y"
        },
        {
         "hovertemplate": "date=2019-12-22<br>pc1=%{x}<br>pc2=%{y}<extra></extra>",
         "legendgroup": "2019-12-22",
         "marker": {
          "color": "#FFA15A",
          "symbol": "circle"
         },
         "mode": "markers",
         "name": "2019-12-22",
         "showlegend": true,
         "type": "scattergl",
         "x": [
          -7.35407404989505
         ],
         "xaxis": "x",
         "y": [
          7.473153741266472
         ],
         "yaxis": "y"
        },
        {
         "hovertemplate": "date=2019-12-23<br>pc1=%{x}<br>pc2=%{y}<extra></extra>",
         "legendgroup": "2019-12-23",
         "marker": {
          "color": "#19d3f3",
          "symbol": "circle"
         },
         "mode": "markers",
         "name": "2019-12-23",
         "showlegend": true,
         "type": "scattergl",
         "x": [
          -6.88313260854498
         ],
         "xaxis": "x",
         "y": [
          10.52480228373163
         ],
         "yaxis": "y"
        },
        {
         "hovertemplate": "date=2019-12-24<br>pc1=%{x}<br>pc2=%{y}<extra></extra>",
         "legendgroup": "2019-12-24",
         "marker": {
          "color": "#FF6692",
          "symbol": "circle"
         },
         "mode": "markers",
         "name": "2019-12-24",
         "showlegend": true,
         "type": "scattergl",
         "x": [
          17.94892385247537
         ],
         "xaxis": "x",
         "y": [
          3.483113512147708
         ],
         "yaxis": "y"
        },
        {
         "hovertemplate": "date=2019-12-25<br>pc1=%{x}<br>pc2=%{y}<extra></extra>",
         "legendgroup": "2019-12-25",
         "marker": {
          "color": "#B6E880",
          "symbol": "circle"
         },
         "mode": "markers",
         "name": "2019-12-25",
         "showlegend": true,
         "type": "scattergl",
         "x": [
          53.815255847316976
         ],
         "xaxis": "x",
         "y": [
          12.671004852124181
         ],
         "yaxis": "y"
        },
        {
         "hovertemplate": "date=2019-12-26<br>pc1=%{x}<br>pc2=%{y}<extra></extra>",
         "legendgroup": "2019-12-26",
         "marker": {
          "color": "#FF97FF",
          "symbol": "circle"
         },
         "mode": "markers",
         "name": "2019-12-26",
         "showlegend": true,
         "type": "scattergl",
         "x": [
          14.46460061832156
         ],
         "xaxis": "x",
         "y": [
          20.301920533593773
         ],
         "yaxis": "y"
        },
        {
         "hovertemplate": "date=2019-12-27<br>pc1=%{x}<br>pc2=%{y}<extra></extra>",
         "legendgroup": "2019-12-27",
         "marker": {
          "color": "#FECB52",
          "symbol": "circle"
         },
         "mode": "markers",
         "name": "2019-12-27",
         "showlegend": true,
         "type": "scattergl",
         "x": [
          -2.0722962261234654
         ],
         "xaxis": "x",
         "y": [
          6.907338233263738
         ],
         "yaxis": "y"
        },
        {
         "hovertemplate": "date=2019-12-28<br>pc1=%{x}<br>pc2=%{y}<extra></extra>",
         "legendgroup": "2019-12-28",
         "marker": {
          "color": "#636efa",
          "symbol": "circle"
         },
         "mode": "markers",
         "name": "2019-12-28",
         "showlegend": true,
         "type": "scattergl",
         "x": [
          -6.401422149638659
         ],
         "xaxis": "x",
         "y": [
          12.050229870017063
         ],
         "yaxis": "y"
        },
        {
         "hovertemplate": "date=2019-12-29<br>pc1=%{x}<br>pc2=%{y}<extra></extra>",
         "legendgroup": "2019-12-29",
         "marker": {
          "color": "#EF553B",
          "symbol": "circle"
         },
         "mode": "markers",
         "name": "2019-12-29",
         "showlegend": true,
         "type": "scattergl",
         "x": [
          -8.678370674451966
         ],
         "xaxis": "x",
         "y": [
          10.15486309693677
         ],
         "yaxis": "y"
        },
        {
         "hovertemplate": "date=2019-12-30<br>pc1=%{x}<br>pc2=%{y}<extra></extra>",
         "legendgroup": "2019-12-30",
         "marker": {
          "color": "#00cc96",
          "symbol": "circle"
         },
         "mode": "markers",
         "name": "2019-12-30",
         "showlegend": true,
         "type": "scattergl",
         "x": [
          -1.504949769657427
         ],
         "xaxis": "x",
         "y": [
          7.411583723813594
         ],
         "yaxis": "y"
        },
        {
         "hovertemplate": "date=2019-12-31<br>pc1=%{x}<br>pc2=%{y}<extra></extra>",
         "legendgroup": "2019-12-31",
         "marker": {
          "color": "#ab63fa",
          "symbol": "circle"
         },
         "mode": "markers",
         "name": "2019-12-31",
         "showlegend": true,
         "type": "scattergl",
         "x": [
          8.495440526889906
         ],
         "xaxis": "x",
         "y": [
          1.5553024632423489
         ],
         "yaxis": "y"
        },
        {
         "hovertemplate": "date=2020-01-01<br>pc1=%{x}<br>pc2=%{y}<extra></extra>",
         "legendgroup": "2020-01-01",
         "marker": {
          "color": "#FFA15A",
          "symbol": "circle"
         },
         "mode": "markers",
         "name": "2020-01-01",
         "showlegend": true,
         "type": "scattergl",
         "x": [
          29.60905314444494
         ],
         "xaxis": "x",
         "y": [
          -14.627338711983
         ],
         "yaxis": "y"
        },
        {
         "hovertemplate": "date=2020-01-02<br>pc1=%{x}<br>pc2=%{y}<extra></extra>",
         "legendgroup": "2020-01-02",
         "marker": {
          "color": "#19d3f3",
          "symbol": "circle"
         },
         "mode": "markers",
         "name": "2020-01-02",
         "showlegend": true,
         "type": "scattergl",
         "x": [
          -2.779919449556994
         ],
         "xaxis": "x",
         "y": [
          12.206227443722995
         ],
         "yaxis": "y"
        },
        {
         "hovertemplate": "date=2020-01-03<br>pc1=%{x}<br>pc2=%{y}<extra></extra>",
         "legendgroup": "2020-01-03",
         "marker": {
          "color": "#FF6692",
          "symbol": "circle"
         },
         "mode": "markers",
         "name": "2020-01-03",
         "showlegend": true,
         "type": "scattergl",
         "x": [
          -4.713964936641024
         ],
         "xaxis": "x",
         "y": [
          9.619417959434688
         ],
         "yaxis": "y"
        },
        {
         "hovertemplate": "date=2020-01-04<br>pc1=%{x}<br>pc2=%{y}<extra></extra>",
         "legendgroup": "2020-01-04",
         "marker": {
          "color": "#B6E880",
          "symbol": "circle"
         },
         "mode": "markers",
         "name": "2020-01-04",
         "showlegend": true,
         "type": "scattergl",
         "x": [
          5.45437295025494
         ],
         "xaxis": "x",
         "y": [
          5.892491344760438
         ],
         "yaxis": "y"
        },
        {
         "hovertemplate": "date=2020-01-05<br>pc1=%{x}<br>pc2=%{y}<extra></extra>",
         "legendgroup": "2020-01-05",
         "marker": {
          "color": "#FF97FF",
          "symbol": "circle"
         },
         "mode": "markers",
         "name": "2020-01-05",
         "showlegend": true,
         "type": "scattergl",
         "x": [
          10.260758817510451
         ],
         "xaxis": "x",
         "y": [
          -0.5478238789791139
         ],
         "yaxis": "y"
        },
        {
         "hovertemplate": "date=2020-01-06<br>pc1=%{x}<br>pc2=%{y}<extra></extra>",
         "legendgroup": "2020-01-06",
         "marker": {
          "color": "#FECB52",
          "symbol": "circle"
         },
         "mode": "markers",
         "name": "2020-01-06",
         "showlegend": true,
         "type": "scattergl",
         "x": [
          -4.336854093461178
         ],
         "xaxis": "x",
         "y": [
          9.324918901116904
         ],
         "yaxis": "y"
        },
        {
         "hovertemplate": "date=2020-01-07<br>pc1=%{x}<br>pc2=%{y}<extra></extra>",
         "legendgroup": "2020-01-07",
         "marker": {
          "color": "#636efa",
          "symbol": "circle"
         },
         "mode": "markers",
         "name": "2020-01-07",
         "showlegend": true,
         "type": "scattergl",
         "x": [
          -2.990819725246882
         ],
         "xaxis": "x",
         "y": [
          6.065914291262531
         ],
         "yaxis": "y"
        },
        {
         "hovertemplate": "date=2020-01-08<br>pc1=%{x}<br>pc2=%{y}<extra></extra>",
         "legendgroup": "2020-01-08",
         "marker": {
          "color": "#EF553B",
          "symbol": "circle"
         },
         "mode": "markers",
         "name": "2020-01-08",
         "showlegend": true,
         "type": "scattergl",
         "x": [
          0.8666528035003884
         ],
         "xaxis": "x",
         "y": [
          9.21374495056627
         ],
         "yaxis": "y"
        },
        {
         "hovertemplate": "date=2020-01-09<br>pc1=%{x}<br>pc2=%{y}<extra></extra>",
         "legendgroup": "2020-01-09",
         "marker": {
          "color": "#00cc96",
          "symbol": "circle"
         },
         "mode": "markers",
         "name": "2020-01-09",
         "showlegend": true,
         "type": "scattergl",
         "x": [
          -2.305476499899908
         ],
         "xaxis": "x",
         "y": [
          7.644113337246615
         ],
         "yaxis": "y"
        },
        {
         "hovertemplate": "date=2020-01-10<br>pc1=%{x}<br>pc2=%{y}<extra></extra>",
         "legendgroup": "2020-01-10",
         "marker": {
          "color": "#ab63fa",
          "symbol": "circle"
         },
         "mode": "markers",
         "name": "2020-01-10",
         "showlegend": true,
         "type": "scattergl",
         "x": [
          2.4620953063438122
         ],
         "xaxis": "x",
         "y": [
          11.656679690795134
         ],
         "yaxis": "y"
        },
        {
         "hovertemplate": "date=2020-01-11<br>pc1=%{x}<br>pc2=%{y}<extra></extra>",
         "legendgroup": "2020-01-11",
         "marker": {
          "color": "#FFA15A",
          "symbol": "circle"
         },
         "mode": "markers",
         "name": "2020-01-11",
         "showlegend": true,
         "type": "scattergl",
         "x": [
          18.647037247966868
         ],
         "xaxis": "x",
         "y": [
          -2.494925239673312
         ],
         "yaxis": "y"
        },
        {
         "hovertemplate": "date=2020-01-12<br>pc1=%{x}<br>pc2=%{y}<extra></extra>",
         "legendgroup": "2020-01-12",
         "marker": {
          "color": "#19d3f3",
          "symbol": "circle"
         },
         "mode": "markers",
         "name": "2020-01-12",
         "showlegend": true,
         "type": "scattergl",
         "x": [
          14.132868109256712
         ],
         "xaxis": "x",
         "y": [
          -4.92756737612572
         ],
         "yaxis": "y"
        },
        {
         "hovertemplate": "date=2020-01-13<br>pc1=%{x}<br>pc2=%{y}<extra></extra>",
         "legendgroup": "2020-01-13",
         "marker": {
          "color": "#FF6692",
          "symbol": "circle"
         },
         "mode": "markers",
         "name": "2020-01-13",
         "showlegend": true,
         "type": "scattergl",
         "x": [
          -4.174366535368927
         ],
         "xaxis": "x",
         "y": [
          11.828021365981602
         ],
         "yaxis": "y"
        },
        {
         "hovertemplate": "date=2020-01-14<br>pc1=%{x}<br>pc2=%{y}<extra></extra>",
         "legendgroup": "2020-01-14",
         "marker": {
          "color": "#B6E880",
          "symbol": "circle"
         },
         "mode": "markers",
         "name": "2020-01-14",
         "showlegend": true,
         "type": "scattergl",
         "x": [
          -5.374839516851611
         ],
         "xaxis": "x",
         "y": [
          6.755761829741833
         ],
         "yaxis": "y"
        },
        {
         "hovertemplate": "date=2020-01-15<br>pc1=%{x}<br>pc2=%{y}<extra></extra>",
         "legendgroup": "2020-01-15",
         "marker": {
          "color": "#FF97FF",
          "symbol": "circle"
         },
         "mode": "markers",
         "name": "2020-01-15",
         "showlegend": true,
         "type": "scattergl",
         "x": [
          -2.232992719835351
         ],
         "xaxis": "x",
         "y": [
          10.757904449732578
         ],
         "yaxis": "y"
        },
        {
         "hovertemplate": "date=2020-01-16<br>pc1=%{x}<br>pc2=%{y}<extra></extra>",
         "legendgroup": "2020-01-16",
         "marker": {
          "color": "#FECB52",
          "symbol": "circle"
         },
         "mode": "markers",
         "name": "2020-01-16",
         "showlegend": true,
         "type": "scattergl",
         "x": [
          -3.3605809165686438
         ],
         "xaxis": "x",
         "y": [
          6.452042762450591
         ],
         "yaxis": "y"
        },
        {
         "hovertemplate": "date=2020-01-17<br>pc1=%{x}<br>pc2=%{y}<extra></extra>",
         "legendgroup": "2020-01-17",
         "marker": {
          "color": "#636efa",
          "symbol": "circle"
         },
         "mode": "markers",
         "name": "2020-01-17",
         "showlegend": true,
         "type": "scattergl",
         "x": [
          -21.809431256865246
         ],
         "xaxis": "x",
         "y": [
          -17.979616995724637
         ],
         "yaxis": "y"
        },
        {
         "hovertemplate": "date=2020-01-18<br>pc1=%{x}<br>pc2=%{y}<extra></extra>",
         "legendgroup": "2020-01-18",
         "marker": {
          "color": "#EF553B",
          "symbol": "circle"
         },
         "mode": "markers",
         "name": "2020-01-18",
         "showlegend": true,
         "type": "scattergl",
         "x": [
          9.763585097250441
         ],
         "xaxis": "x",
         "y": [
          -2.3053406478280425
         ],
         "yaxis": "y"
        },
        {
         "hovertemplate": "date=2020-01-19<br>pc1=%{x}<br>pc2=%{y}<extra></extra>",
         "legendgroup": "2020-01-19",
         "marker": {
          "color": "#00cc96",
          "symbol": "circle"
         },
         "mode": "markers",
         "name": "2020-01-19",
         "showlegend": true,
         "type": "scattergl",
         "x": [
          15.176928408486955
         ],
         "xaxis": "x",
         "y": [
          0.2399811387605746
         ],
         "yaxis": "y"
        },
        {
         "hovertemplate": "date=2020-01-20<br>pc1=%{x}<br>pc2=%{y}<extra></extra>",
         "legendgroup": "2020-01-20",
         "marker": {
          "color": "#ab63fa",
          "symbol": "circle"
         },
         "mode": "markers",
         "name": "2020-01-20",
         "showlegend": true,
         "type": "scattergl",
         "x": [
          21.797968200296943
         ],
         "xaxis": "x",
         "y": [
          -7.631508690523912
         ],
         "yaxis": "y"
        },
        {
         "hovertemplate": "date=2020-01-21<br>pc1=%{x}<br>pc2=%{y}<extra></extra>",
         "legendgroup": "2020-01-21",
         "marker": {
          "color": "#FFA15A",
          "symbol": "circle"
         },
         "mode": "markers",
         "name": "2020-01-21",
         "showlegend": true,
         "type": "scattergl",
         "x": [
          -8.666336091965055
         ],
         "xaxis": "x",
         "y": [
          8.59176455529777
         ],
         "yaxis": "y"
        },
        {
         "hovertemplate": "date=2020-01-22<br>pc1=%{x}<br>pc2=%{y}<extra></extra>",
         "legendgroup": "2020-01-22",
         "marker": {
          "color": "#19d3f3",
          "symbol": "circle"
         },
         "mode": "markers",
         "name": "2020-01-22",
         "showlegend": true,
         "type": "scattergl",
         "x": [
          -6.267984783703153
         ],
         "xaxis": "x",
         "y": [
          13.227391127117057
         ],
         "yaxis": "y"
        },
        {
         "hovertemplate": "date=2020-01-23<br>pc1=%{x}<br>pc2=%{y}<extra></extra>",
         "legendgroup": "2020-01-23",
         "marker": {
          "color": "#FF6692",
          "symbol": "circle"
         },
         "mode": "markers",
         "name": "2020-01-23",
         "showlegend": true,
         "type": "scattergl",
         "x": [
          -7.107775463087154
         ],
         "xaxis": "x",
         "y": [
          10.571953082672902
         ],
         "yaxis": "y"
        },
        {
         "hovertemplate": "date=2020-01-24<br>pc1=%{x}<br>pc2=%{y}<extra></extra>",
         "legendgroup": "2020-01-24",
         "marker": {
          "color": "#B6E880",
          "symbol": "circle"
         },
         "mode": "markers",
         "name": "2020-01-24",
         "showlegend": true,
         "type": "scattergl",
         "x": [
          2.014025349481774
         ],
         "xaxis": "x",
         "y": [
          8.987955912597638
         ],
         "yaxis": "y"
        },
        {
         "hovertemplate": "date=2020-01-25<br>pc1=%{x}<br>pc2=%{y}<extra></extra>",
         "legendgroup": "2020-01-25",
         "marker": {
          "color": "#FF97FF",
          "symbol": "circle"
         },
         "mode": "markers",
         "name": "2020-01-25",
         "showlegend": true,
         "type": "scattergl",
         "x": [
          11.853049157909362
         ],
         "xaxis": "x",
         "y": [
          -8.917779145824234
         ],
         "yaxis": "y"
        },
        {
         "hovertemplate": "date=2020-01-26<br>pc1=%{x}<br>pc2=%{y}<extra></extra>",
         "legendgroup": "2020-01-26",
         "marker": {
          "color": "#FECB52",
          "symbol": "circle"
         },
         "mode": "markers",
         "name": "2020-01-26",
         "showlegend": true,
         "type": "scattergl",
         "x": [
          18.045493059316378
         ],
         "xaxis": "x",
         "y": [
          0.09525969682040743
         ],
         "yaxis": "y"
        },
        {
         "hovertemplate": "date=2020-01-27<br>pc1=%{x}<br>pc2=%{y}<extra></extra>",
         "legendgroup": "2020-01-27",
         "marker": {
          "color": "#636efa",
          "symbol": "circle"
         },
         "mode": "markers",
         "name": "2020-01-27",
         "showlegend": true,
         "type": "scattergl",
         "x": [
          -5.912200390860318
         ],
         "xaxis": "x",
         "y": [
          7.533894473479358
         ],
         "yaxis": "y"
        },
        {
         "hovertemplate": "date=2020-01-28<br>pc1=%{x}<br>pc2=%{y}<extra></extra>",
         "legendgroup": "2020-01-28",
         "marker": {
          "color": "#EF553B",
          "symbol": "circle"
         },
         "mode": "markers",
         "name": "2020-01-28",
         "showlegend": true,
         "type": "scattergl",
         "x": [
          -1.1260734113767965
         ],
         "xaxis": "x",
         "y": [
          11.232663600076364
         ],
         "yaxis": "y"
        },
        {
         "hovertemplate": "date=2020-01-29<br>pc1=%{x}<br>pc2=%{y}<extra></extra>",
         "legendgroup": "2020-01-29",
         "marker": {
          "color": "#00cc96",
          "symbol": "circle"
         },
         "mode": "markers",
         "name": "2020-01-29",
         "showlegend": true,
         "type": "scattergl",
         "x": [
          -2.636616341147717
         ],
         "xaxis": "x",
         "y": [
          7.438744427178828
         ],
         "yaxis": "y"
        },
        {
         "hovertemplate": "date=2020-01-30<br>pc1=%{x}<br>pc2=%{y}<extra></extra>",
         "legendgroup": "2020-01-30",
         "marker": {
          "color": "#ab63fa",
          "symbol": "circle"
         },
         "mode": "markers",
         "name": "2020-01-30",
         "showlegend": true,
         "type": "scattergl",
         "x": [
          -1.4001038647074737
         ],
         "xaxis": "x",
         "y": [
          10.679068156422275
         ],
         "yaxis": "y"
        },
        {
         "hovertemplate": "date=2020-01-31<br>pc1=%{x}<br>pc2=%{y}<extra></extra>",
         "legendgroup": "2020-01-31",
         "marker": {
          "color": "#FFA15A",
          "symbol": "circle"
         },
         "mode": "markers",
         "name": "2020-01-31",
         "showlegend": true,
         "type": "scattergl",
         "x": [
          2.9162504725763716
         ],
         "xaxis": "x",
         "y": [
          6.174432778440624
         ],
         "yaxis": "y"
        },
        {
         "hovertemplate": "date=2020-02-01<br>pc1=%{x}<br>pc2=%{y}<extra></extra>",
         "legendgroup": "2020-02-01",
         "marker": {
          "color": "#19d3f3",
          "symbol": "circle"
         },
         "mode": "markers",
         "name": "2020-02-01",
         "showlegend": true,
         "type": "scattergl",
         "x": [
          14.794198255862689
         ],
         "xaxis": "x",
         "y": [
          -1.2759491643623981
         ],
         "yaxis": "y"
        },
        {
         "hovertemplate": "date=2020-02-02<br>pc1=%{x}<br>pc2=%{y}<extra></extra>",
         "legendgroup": "2020-02-02",
         "marker": {
          "color": "#FF6692",
          "symbol": "circle"
         },
         "mode": "markers",
         "name": "2020-02-02",
         "showlegend": true,
         "type": "scattergl",
         "x": [
          15.202695252693827
         ],
         "xaxis": "x",
         "y": [
          -0.3557160507080296
         ],
         "yaxis": "y"
        },
        {
         "hovertemplate": "date=2020-02-03<br>pc1=%{x}<br>pc2=%{y}<extra></extra>",
         "legendgroup": "2020-02-03",
         "marker": {
          "color": "#B6E880",
          "symbol": "circle"
         },
         "mode": "markers",
         "name": "2020-02-03",
         "showlegend": true,
         "type": "scattergl",
         "x": [
          -6.635582072955284
         ],
         "xaxis": "x",
         "y": [
          5.461562962764578
         ],
         "yaxis": "y"
        },
        {
         "hovertemplate": "date=2020-02-04<br>pc1=%{x}<br>pc2=%{y}<extra></extra>",
         "legendgroup": "2020-02-04",
         "marker": {
          "color": "#FF97FF",
          "symbol": "circle"
         },
         "mode": "markers",
         "name": "2020-02-04",
         "showlegend": true,
         "type": "scattergl",
         "x": [
          -0.8804242645845758
         ],
         "xaxis": "x",
         "y": [
          9.78243080736387
         ],
         "yaxis": "y"
        },
        {
         "hovertemplate": "date=2020-02-05<br>pc1=%{x}<br>pc2=%{y}<extra></extra>",
         "legendgroup": "2020-02-05",
         "marker": {
          "color": "#FECB52",
          "symbol": "circle"
         },
         "mode": "markers",
         "name": "2020-02-05",
         "showlegend": true,
         "type": "scattergl",
         "x": [
          -4.037926601809075
         ],
         "xaxis": "x",
         "y": [
          4.637127376462341
         ],
         "yaxis": "y"
        },
        {
         "hovertemplate": "date=2020-02-06<br>pc1=%{x}<br>pc2=%{y}<extra></extra>",
         "legendgroup": "2020-02-06",
         "marker": {
          "color": "#636efa",
          "symbol": "circle"
         },
         "mode": "markers",
         "name": "2020-02-06",
         "showlegend": true,
         "type": "scattergl",
         "x": [
          -1.182287369602118
         ],
         "xaxis": "x",
         "y": [
          8.194928560891572
         ],
         "yaxis": "y"
        },
        {
         "hovertemplate": "date=2020-02-07<br>pc1=%{x}<br>pc2=%{y}<extra></extra>",
         "legendgroup": "2020-02-07",
         "marker": {
          "color": "#EF553B",
          "symbol": "circle"
         },
         "mode": "markers",
         "name": "2020-02-07",
         "showlegend": true,
         "type": "scattergl",
         "x": [
          -0.41105729799761737
         ],
         "xaxis": "x",
         "y": [
          6.5178447761041385
         ],
         "yaxis": "y"
        },
        {
         "hovertemplate": "date=2020-02-08<br>pc1=%{x}<br>pc2=%{y}<extra></extra>",
         "legendgroup": "2020-02-08",
         "marker": {
          "color": "#00cc96",
          "symbol": "circle"
         },
         "mode": "markers",
         "name": "2020-02-08",
         "showlegend": true,
         "type": "scattergl",
         "x": [
          13.531525062341947
         ],
         "xaxis": "x",
         "y": [
          -4.153719938761227
         ],
         "yaxis": "y"
        },
        {
         "hovertemplate": "date=2020-02-09<br>pc1=%{x}<br>pc2=%{y}<extra></extra>",
         "legendgroup": "2020-02-09",
         "marker": {
          "color": "#ab63fa",
          "symbol": "circle"
         },
         "mode": "markers",
         "name": "2020-02-09",
         "showlegend": true,
         "type": "scattergl",
         "x": [
          14.302100439011756
         ],
         "xaxis": "x",
         "y": [
          -9.62563102023303
         ],
         "yaxis": "y"
        },
        {
         "hovertemplate": "date=2020-02-10<br>pc1=%{x}<br>pc2=%{y}<extra></extra>",
         "legendgroup": "2020-02-10",
         "marker": {
          "color": "#FFA15A",
          "symbol": "circle"
         },
         "mode": "markers",
         "name": "2020-02-10",
         "showlegend": true,
         "type": "scattergl",
         "x": [
          -4.38131820341098
         ],
         "xaxis": "x",
         "y": [
          10.782440861576298
         ],
         "yaxis": "y"
        },
        {
         "hovertemplate": "date=2020-02-11<br>pc1=%{x}<br>pc2=%{y}<extra></extra>",
         "legendgroup": "2020-02-11",
         "marker": {
          "color": "#19d3f3",
          "symbol": "circle"
         },
         "mode": "markers",
         "name": "2020-02-11",
         "showlegend": true,
         "type": "scattergl",
         "x": [
          -4.1284433427506455
         ],
         "xaxis": "x",
         "y": [
          11.051822230118152
         ],
         "yaxis": "y"
        },
        {
         "hovertemplate": "date=2020-02-12<br>pc1=%{x}<br>pc2=%{y}<extra></extra>",
         "legendgroup": "2020-02-12",
         "marker": {
          "color": "#FF6692",
          "symbol": "circle"
         },
         "mode": "markers",
         "name": "2020-02-12",
         "showlegend": true,
         "type": "scattergl",
         "x": [
          -3.636260064603451
         ],
         "xaxis": "x",
         "y": [
          6.821066737497122
         ],
         "yaxis": "y"
        },
        {
         "hovertemplate": "date=2020-02-13<br>pc1=%{x}<br>pc2=%{y}<extra></extra>",
         "legendgroup": "2020-02-13",
         "marker": {
          "color": "#B6E880",
          "symbol": "circle"
         },
         "mode": "markers",
         "name": "2020-02-13",
         "showlegend": true,
         "type": "scattergl",
         "x": [
          -0.006414572662665613
         ],
         "xaxis": "x",
         "y": [
          7.0493959928395
         ],
         "yaxis": "y"
        },
        {
         "hovertemplate": "date=2020-02-14<br>pc1=%{x}<br>pc2=%{y}<extra></extra>",
         "legendgroup": "2020-02-14",
         "marker": {
          "color": "#FF97FF",
          "symbol": "circle"
         },
         "mode": "markers",
         "name": "2020-02-14",
         "showlegend": true,
         "type": "scattergl",
         "x": [
          0.6862120247982805
         ],
         "xaxis": "x",
         "y": [
          1.610931202068239
         ],
         "yaxis": "y"
        },
        {
         "hovertemplate": "date=2020-02-15<br>pc1=%{x}<br>pc2=%{y}<extra></extra>",
         "legendgroup": "2020-02-15",
         "marker": {
          "color": "#FECB52",
          "symbol": "circle"
         },
         "mode": "markers",
         "name": "2020-02-15",
         "showlegend": true,
         "type": "scattergl",
         "x": [
          9.658823109928335
         ],
         "xaxis": "x",
         "y": [
          -1.7414849990923305
         ],
         "yaxis": "y"
        },
        {
         "hovertemplate": "date=2020-02-16<br>pc1=%{x}<br>pc2=%{y}<extra></extra>",
         "legendgroup": "2020-02-16",
         "marker": {
          "color": "#636efa",
          "symbol": "circle"
         },
         "mode": "markers",
         "name": "2020-02-16",
         "showlegend": true,
         "type": "scattergl",
         "x": [
          6.04929737514397
         ],
         "xaxis": "x",
         "y": [
          -4.035736133242977
         ],
         "yaxis": "y"
        },
        {
         "hovertemplate": "date=2020-02-17<br>pc1=%{x}<br>pc2=%{y}<extra></extra>",
         "legendgroup": "2020-02-17",
         "marker": {
          "color": "#EF553B",
          "symbol": "circle"
         },
         "mode": "markers",
         "name": "2020-02-17",
         "showlegend": true,
         "type": "scattergl",
         "x": [
          15.09840801690315
         ],
         "xaxis": "x",
         "y": [
          -0.3501644148683197
         ],
         "yaxis": "y"
        },
        {
         "hovertemplate": "date=2020-02-18<br>pc1=%{x}<br>pc2=%{y}<extra></extra>",
         "legendgroup": "2020-02-18",
         "marker": {
          "color": "#00cc96",
          "symbol": "circle"
         },
         "mode": "markers",
         "name": "2020-02-18",
         "showlegend": true,
         "type": "scattergl",
         "x": [
          -6.065357320164301
         ],
         "xaxis": "x",
         "y": [
          9.628925717853965
         ],
         "yaxis": "y"
        },
        {
         "hovertemplate": "date=2020-02-19<br>pc1=%{x}<br>pc2=%{y}<extra></extra>",
         "legendgroup": "2020-02-19",
         "marker": {
          "color": "#ab63fa",
          "symbol": "circle"
         },
         "mode": "markers",
         "name": "2020-02-19",
         "showlegend": true,
         "type": "scattergl",
         "x": [
          -4.376397781599739
         ],
         "xaxis": "x",
         "y": [
          9.757763010793047
         ],
         "yaxis": "y"
        },
        {
         "hovertemplate": "date=2020-02-20<br>pc1=%{x}<br>pc2=%{y}<extra></extra>",
         "legendgroup": "2020-02-20",
         "marker": {
          "color": "#FFA15A",
          "symbol": "circle"
         },
         "mode": "markers",
         "name": "2020-02-20",
         "showlegend": true,
         "type": "scattergl",
         "x": [
          -3.046672870435895
         ],
         "xaxis": "x",
         "y": [
          8.890864144356238
         ],
         "yaxis": "y"
        },
        {
         "hovertemplate": "date=2020-02-21<br>pc1=%{x}<br>pc2=%{y}<extra></extra>",
         "legendgroup": "2020-02-21",
         "marker": {
          "color": "#19d3f3",
          "symbol": "circle"
         },
         "mode": "markers",
         "name": "2020-02-21",
         "showlegend": true,
         "type": "scattergl",
         "x": [
          -0.8705309567968821
         ],
         "xaxis": "x",
         "y": [
          2.643951044116762
         ],
         "yaxis": "y"
        },
        {
         "hovertemplate": "date=2020-02-22<br>pc1=%{x}<br>pc2=%{y}<extra></extra>",
         "legendgroup": "2020-02-22",
         "marker": {
          "color": "#FF6692",
          "symbol": "circle"
         },
         "mode": "markers",
         "name": "2020-02-22",
         "showlegend": true,
         "type": "scattergl",
         "x": [
          10.572515685437901
         ],
         "xaxis": "x",
         "y": [
          -4.444100836672128
         ],
         "yaxis": "y"
        },
        {
         "hovertemplate": "date=2020-02-23<br>pc1=%{x}<br>pc2=%{y}<extra></extra>",
         "legendgroup": "2020-02-23",
         "marker": {
          "color": "#B6E880",
          "symbol": "circle"
         },
         "mode": "markers",
         "name": "2020-02-23",
         "showlegend": true,
         "type": "scattergl",
         "x": [
          9.938830186693725
         ],
         "xaxis": "x",
         "y": [
          -6.878934188113597
         ],
         "yaxis": "y"
        },
        {
         "hovertemplate": "date=2020-02-24<br>pc1=%{x}<br>pc2=%{y}<extra></extra>",
         "legendgroup": "2020-02-24",
         "marker": {
          "color": "#FF97FF",
          "symbol": "circle"
         },
         "mode": "markers",
         "name": "2020-02-24",
         "showlegend": true,
         "type": "scattergl",
         "x": [
          -3.0502703079498943
         ],
         "xaxis": "x",
         "y": [
          10.128713952040316
         ],
         "yaxis": "y"
        },
        {
         "hovertemplate": "date=2020-02-25<br>pc1=%{x}<br>pc2=%{y}<extra></extra>",
         "legendgroup": "2020-02-25",
         "marker": {
          "color": "#FECB52",
          "symbol": "circle"
         },
         "mode": "markers",
         "name": "2020-02-25",
         "showlegend": true,
         "type": "scattergl",
         "x": [
          -2.0534412470153853
         ],
         "xaxis": "x",
         "y": [
          6.011734876542104
         ],
         "yaxis": "y"
        },
        {
         "hovertemplate": "date=2020-02-26<br>pc1=%{x}<br>pc2=%{y}<extra></extra>",
         "legendgroup": "2020-02-26",
         "marker": {
          "color": "#636efa",
          "symbol": "circle"
         },
         "mode": "markers",
         "name": "2020-02-26",
         "showlegend": true,
         "type": "scattergl",
         "x": [
          0.8532670043295636
         ],
         "xaxis": "x",
         "y": [
          7.95884218684275
         ],
         "yaxis": "y"
        },
        {
         "hovertemplate": "date=2020-02-27<br>pc1=%{x}<br>pc2=%{y}<extra></extra>",
         "legendgroup": "2020-02-27",
         "marker": {
          "color": "#EF553B",
          "symbol": "circle"
         },
         "mode": "markers",
         "name": "2020-02-27",
         "showlegend": true,
         "type": "scattergl",
         "x": [
          -1.6015218419539108
         ],
         "xaxis": "x",
         "y": [
          6.56930016063283
         ],
         "yaxis": "y"
        },
        {
         "hovertemplate": "date=2020-02-28<br>pc1=%{x}<br>pc2=%{y}<extra></extra>",
         "legendgroup": "2020-02-28",
         "marker": {
          "color": "#00cc96",
          "symbol": "circle"
         },
         "mode": "markers",
         "name": "2020-02-28",
         "showlegend": true,
         "type": "scattergl",
         "x": [
          0.992320654755009
         ],
         "xaxis": "x",
         "y": [
          6.709370346713064
         ],
         "yaxis": "y"
        },
        {
         "hovertemplate": "date=2020-02-29<br>pc1=%{x}<br>pc2=%{y}<extra></extra>",
         "legendgroup": "2020-02-29",
         "marker": {
          "color": "#ab63fa",
          "symbol": "circle"
         },
         "mode": "markers",
         "name": "2020-02-29",
         "showlegend": true,
         "type": "scattergl",
         "x": [
          10.186275137507497
         ],
         "xaxis": "x",
         "y": [
          -5.378689574464676
         ],
         "yaxis": "y"
        },
        {
         "hovertemplate": "date=2020-03-01<br>pc1=%{x}<br>pc2=%{y}<extra></extra>",
         "legendgroup": "2020-03-01",
         "marker": {
          "color": "#FFA15A",
          "symbol": "circle"
         },
         "mode": "markers",
         "name": "2020-03-01",
         "showlegend": true,
         "type": "scattergl",
         "x": [
          11.955242585825951
         ],
         "xaxis": "x",
         "y": [
          -2.5340062408277615
         ],
         "yaxis": "y"
        },
        {
         "hovertemplate": "date=2020-03-02<br>pc1=%{x}<br>pc2=%{y}<extra></extra>",
         "legendgroup": "2020-03-02",
         "marker": {
          "color": "#19d3f3",
          "symbol": "circle"
         },
         "mode": "markers",
         "name": "2020-03-02",
         "showlegend": true,
         "type": "scattergl",
         "x": [
          -3.6866263167747544
         ],
         "xaxis": "x",
         "y": [
          4.477911830619065
         ],
         "yaxis": "y"
        },
        {
         "hovertemplate": "date=2020-03-03<br>pc1=%{x}<br>pc2=%{y}<extra></extra>",
         "legendgroup": "2020-03-03",
         "marker": {
          "color": "#FF6692",
          "symbol": "circle"
         },
         "mode": "markers",
         "name": "2020-03-03",
         "showlegend": true,
         "type": "scattergl",
         "x": [
          -2.7495089821582424
         ],
         "xaxis": "x",
         "y": [
          8.488492038581429
         ],
         "yaxis": "y"
        },
        {
         "hovertemplate": "date=2020-03-04<br>pc1=%{x}<br>pc2=%{y}<extra></extra>",
         "legendgroup": "2020-03-04",
         "marker": {
          "color": "#B6E880",
          "symbol": "circle"
         },
         "mode": "markers",
         "name": "2020-03-04",
         "showlegend": true,
         "type": "scattergl",
         "x": [
          -1.2029213623700838
         ],
         "xaxis": "x",
         "y": [
          8.695626339495977
         ],
         "yaxis": "y"
        },
        {
         "hovertemplate": "date=2020-03-05<br>pc1=%{x}<br>pc2=%{y}<extra></extra>",
         "legendgroup": "2020-03-05",
         "marker": {
          "color": "#FF97FF",
          "symbol": "circle"
         },
         "mode": "markers",
         "name": "2020-03-05",
         "showlegend": true,
         "type": "scattergl",
         "x": [
          -3.5490498930306766
         ],
         "xaxis": "x",
         "y": [
          3.4340464339444705
         ],
         "yaxis": "y"
        },
        {
         "hovertemplate": "date=2020-03-06<br>pc1=%{x}<br>pc2=%{y}<extra></extra>",
         "legendgroup": "2020-03-06",
         "marker": {
          "color": "#FECB52",
          "symbol": "circle"
         },
         "mode": "markers",
         "name": "2020-03-06",
         "showlegend": true,
         "type": "scattergl",
         "x": [
          3.4282657380976116
         ],
         "xaxis": "x",
         "y": [
          6.796936395617564
         ],
         "yaxis": "y"
        },
        {
         "hovertemplate": "date=2020-03-07<br>pc1=%{x}<br>pc2=%{y}<extra></extra>",
         "legendgroup": "2020-03-07",
         "marker": {
          "color": "#636efa",
          "symbol": "circle"
         },
         "mode": "markers",
         "name": "2020-03-07",
         "showlegend": true,
         "type": "scattergl",
         "x": [
          7.293319310176826
         ],
         "xaxis": "x",
         "y": [
          -3.8360663040541803
         ],
         "yaxis": "y"
        },
        {
         "hovertemplate": "date=2020-03-08<br>pc1=%{x}<br>pc2=%{y}<extra></extra>",
         "legendgroup": "2020-03-08",
         "marker": {
          "color": "#EF553B",
          "symbol": "circle"
         },
         "mode": "markers",
         "name": "2020-03-08",
         "showlegend": true,
         "type": "scattergl",
         "x": [
          6.4067077051590084
         ],
         "xaxis": "x",
         "y": [
          -10.188552761626303
         ],
         "yaxis": "y"
        },
        {
         "hovertemplate": "date=2020-03-09<br>pc1=%{x}<br>pc2=%{y}<extra></extra>",
         "legendgroup": "2020-03-09",
         "marker": {
          "color": "#00cc96",
          "symbol": "circle"
         },
         "mode": "markers",
         "name": "2020-03-09",
         "showlegend": true,
         "type": "scattergl",
         "x": [
          -1.2593896887352811
         ],
         "xaxis": "x",
         "y": [
          8.334593447808336
         ],
         "yaxis": "y"
        },
        {
         "hovertemplate": "date=2020-03-10<br>pc1=%{x}<br>pc2=%{y}<extra></extra>",
         "legendgroup": "2020-03-10",
         "marker": {
          "color": "#ab63fa",
          "symbol": "circle"
         },
         "mode": "markers",
         "name": "2020-03-10",
         "showlegend": true,
         "type": "scattergl",
         "x": [
          -4.071079499523676
         ],
         "xaxis": "x",
         "y": [
          9.266779929563437
         ],
         "yaxis": "y"
        },
        {
         "hovertemplate": "date=2020-03-11<br>pc1=%{x}<br>pc2=%{y}<extra></extra>",
         "legendgroup": "2020-03-11",
         "marker": {
          "color": "#FFA15A",
          "symbol": "circle"
         },
         "mode": "markers",
         "name": "2020-03-11",
         "showlegend": true,
         "type": "scattergl",
         "x": [
          -3.144078153738975
         ],
         "xaxis": "x",
         "y": [
          11.545785854864796
         ],
         "yaxis": "y"
        },
        {
         "hovertemplate": "date=2020-03-12<br>pc1=%{x}<br>pc2=%{y}<extra></extra>",
         "legendgroup": "2020-03-12",
         "marker": {
          "color": "#19d3f3",
          "symbol": "circle"
         },
         "mode": "markers",
         "name": "2020-03-12",
         "showlegend": true,
         "type": "scattergl",
         "x": [
          0.8953556760779708
         ],
         "xaxis": "x",
         "y": [
          9.339054862342637
         ],
         "yaxis": "y"
        },
        {
         "hovertemplate": "date=2020-03-13<br>pc1=%{x}<br>pc2=%{y}<extra></extra>",
         "legendgroup": "2020-03-13",
         "marker": {
          "color": "#FF6692",
          "symbol": "circle"
         },
         "mode": "markers",
         "name": "2020-03-13",
         "showlegend": true,
         "type": "scattergl",
         "x": [
          4.466752639104088
         ],
         "xaxis": "x",
         "y": [
          4.556383060379464
         ],
         "yaxis": "y"
        },
        {
         "hovertemplate": "date=2020-03-14<br>pc1=%{x}<br>pc2=%{y}<extra></extra>",
         "legendgroup": "2020-03-14",
         "marker": {
          "color": "#B6E880",
          "symbol": "circle"
         },
         "mode": "markers",
         "name": "2020-03-14",
         "showlegend": true,
         "type": "scattergl",
         "x": [
          4.837572562673292
         ],
         "xaxis": "x",
         "y": [
          4.9140058011013705
         ],
         "yaxis": "y"
        },
        {
         "hovertemplate": "date=2020-03-15<br>pc1=%{x}<br>pc2=%{y}<extra></extra>",
         "legendgroup": "2020-03-15",
         "marker": {
          "color": "#FF97FF",
          "symbol": "circle"
         },
         "mode": "markers",
         "name": "2020-03-15",
         "showlegend": true,
         "type": "scattergl",
         "x": [
          -3.3858233493375516
         ],
         "xaxis": "x",
         "y": [
          8.955530130239731
         ],
         "yaxis": "y"
        },
        {
         "hovertemplate": "date=2020-03-16<br>pc1=%{x}<br>pc2=%{y}<extra></extra>",
         "legendgroup": "2020-03-16",
         "marker": {
          "color": "#FECB52",
          "symbol": "circle"
         },
         "mode": "markers",
         "name": "2020-03-16",
         "showlegend": true,
         "type": "scattergl",
         "x": [
          3.5192937117187575
         ],
         "xaxis": "x",
         "y": [
          5.0531201542664945
         ],
         "yaxis": "y"
        },
        {
         "hovertemplate": "date=2020-03-17<br>pc1=%{x}<br>pc2=%{y}<extra></extra>",
         "legendgroup": "2020-03-17",
         "marker": {
          "color": "#636efa",
          "symbol": "circle"
         },
         "mode": "markers",
         "name": "2020-03-17",
         "showlegend": true,
         "type": "scattergl",
         "x": [
          6.099078874258314
         ],
         "xaxis": "x",
         "y": [
          -4.0332759437539325
         ],
         "yaxis": "y"
        },
        {
         "hovertemplate": "date=2020-03-18<br>pc1=%{x}<br>pc2=%{y}<extra></extra>",
         "legendgroup": "2020-03-18",
         "marker": {
          "color": "#EF553B",
          "symbol": "circle"
         },
         "mode": "markers",
         "name": "2020-03-18",
         "showlegend": true,
         "type": "scattergl",
         "x": [
          10.852770595600402
         ],
         "xaxis": "x",
         "y": [
          -1.5208429054731156
         ],
         "yaxis": "y"
        },
        {
         "hovertemplate": "date=2020-03-19<br>pc1=%{x}<br>pc2=%{y}<extra></extra>",
         "legendgroup": "2020-03-19",
         "marker": {
          "color": "#00cc96",
          "symbol": "circle"
         },
         "mode": "markers",
         "name": "2020-03-19",
         "showlegend": true,
         "type": "scattergl",
         "x": [
          9.944283111565703
         ],
         "xaxis": "x",
         "y": [
          -4.200440517282968
         ],
         "yaxis": "y"
        },
        {
         "hovertemplate": "date=2020-03-20<br>pc1=%{x}<br>pc2=%{y}<extra></extra>",
         "legendgroup": "2020-03-20",
         "marker": {
          "color": "#ab63fa",
          "symbol": "circle"
         },
         "mode": "markers",
         "name": "2020-03-20",
         "showlegend": true,
         "type": "scattergl",
         "x": [
          8.860352440723089
         ],
         "xaxis": "x",
         "y": [
          0.32124176715660213
         ],
         "yaxis": "y"
        },
        {
         "hovertemplate": "date=2020-03-21<br>pc1=%{x}<br>pc2=%{y}<extra></extra>",
         "legendgroup": "2020-03-21",
         "marker": {
          "color": "#FFA15A",
          "symbol": "circle"
         },
         "mode": "markers",
         "name": "2020-03-21",
         "showlegend": true,
         "type": "scattergl",
         "x": [
          -16.518306079075806
         ],
         "xaxis": "x",
         "y": [
          -1.9507216467597492
         ],
         "yaxis": "y"
        },
        {
         "hovertemplate": "date=2020-03-22<br>pc1=%{x}<br>pc2=%{y}<extra></extra>",
         "legendgroup": "2020-03-22",
         "marker": {
          "color": "#19d3f3",
          "symbol": "circle"
         },
         "mode": "markers",
         "name": "2020-03-22",
         "showlegend": true,
         "type": "scattergl",
         "x": [
          -17.557769258389794
         ],
         "xaxis": "x",
         "y": [
          9.261785384936893
         ],
         "yaxis": "y"
        },
        {
         "hovertemplate": "date=2020-03-23<br>pc1=%{x}<br>pc2=%{y}<extra></extra>",
         "legendgroup": "2020-03-23",
         "marker": {
          "color": "#FF6692",
          "symbol": "circle"
         },
         "mode": "markers",
         "name": "2020-03-23",
         "showlegend": true,
         "type": "scattergl",
         "x": [
          2.1879956043557325
         ],
         "xaxis": "x",
         "y": [
          -7.429588998657489
         ],
         "yaxis": "y"
        },
        {
         "hovertemplate": "date=2020-03-24<br>pc1=%{x}<br>pc2=%{y}<extra></extra>",
         "legendgroup": "2020-03-24",
         "marker": {
          "color": "#B6E880",
          "symbol": "circle"
         },
         "mode": "markers",
         "name": "2020-03-24",
         "showlegend": true,
         "type": "scattergl",
         "x": [
          7.994376586032005
         ],
         "xaxis": "x",
         "y": [
          -3.957137132509489
         ],
         "yaxis": "y"
        },
        {
         "hovertemplate": "date=2020-03-25<br>pc1=%{x}<br>pc2=%{y}<extra></extra>",
         "legendgroup": "2020-03-25",
         "marker": {
          "color": "#FF97FF",
          "symbol": "circle"
         },
         "mode": "markers",
         "name": "2020-03-25",
         "showlegend": true,
         "type": "scattergl",
         "x": [
          6.277134754324598
         ],
         "xaxis": "x",
         "y": [
          -5.565521710580253
         ],
         "yaxis": "y"
        },
        {
         "hovertemplate": "date=2020-03-26<br>pc1=%{x}<br>pc2=%{y}<extra></extra>",
         "legendgroup": "2020-03-26",
         "marker": {
          "color": "#FECB52",
          "symbol": "circle"
         },
         "mode": "markers",
         "name": "2020-03-26",
         "showlegend": true,
         "type": "scattergl",
         "x": [
          9.550191173748601
         ],
         "xaxis": "x",
         "y": [
          -3.137490958226148
         ],
         "yaxis": "y"
        },
        {
         "hovertemplate": "date=2020-03-27<br>pc1=%{x}<br>pc2=%{y}<extra></extra>",
         "legendgroup": "2020-03-27",
         "marker": {
          "color": "#636efa",
          "symbol": "circle"
         },
         "mode": "markers",
         "name": "2020-03-27",
         "showlegend": true,
         "type": "scattergl",
         "x": [
          6.543584217742125
         ],
         "xaxis": "x",
         "y": [
          -5.064473969938364
         ],
         "yaxis": "y"
        },
        {
         "hovertemplate": "date=2020-03-28<br>pc1=%{x}<br>pc2=%{y}<extra></extra>",
         "legendgroup": "2020-03-28",
         "marker": {
          "color": "#EF553B",
          "symbol": "circle"
         },
         "mode": "markers",
         "name": "2020-03-28",
         "showlegend": true,
         "type": "scattergl",
         "x": [
          -12.937547114604076
         ],
         "xaxis": "x",
         "y": [
          7.105884555171136
         ],
         "yaxis": "y"
        },
        {
         "hovertemplate": "date=2020-03-29<br>pc1=%{x}<br>pc2=%{y}<extra></extra>",
         "legendgroup": "2020-03-29",
         "marker": {
          "color": "#00cc96",
          "symbol": "circle"
         },
         "mode": "markers",
         "name": "2020-03-29",
         "showlegend": true,
         "type": "scattergl",
         "x": [
          -23.006464019826566
         ],
         "xaxis": "x",
         "y": [
          6.827965538845592
         ],
         "yaxis": "y"
        },
        {
         "hovertemplate": "date=2020-03-30<br>pc1=%{x}<br>pc2=%{y}<extra></extra>",
         "legendgroup": "2020-03-30",
         "marker": {
          "color": "#ab63fa",
          "symbol": "circle"
         },
         "mode": "markers",
         "name": "2020-03-30",
         "showlegend": true,
         "type": "scattergl",
         "x": [
          4.200836262069943
         ],
         "xaxis": "x",
         "y": [
          -2.2427715453328503
         ],
         "yaxis": "y"
        },
        {
         "hovertemplate": "date=2020-03-31<br>pc1=%{x}<br>pc2=%{y}<extra></extra>",
         "legendgroup": "2020-03-31",
         "marker": {
          "color": "#FFA15A",
          "symbol": "circle"
         },
         "mode": "markers",
         "name": "2020-03-31",
         "showlegend": true,
         "type": "scattergl",
         "x": [
          6.280471668482529
         ],
         "xaxis": "x",
         "y": [
          -8.56188485942748
         ],
         "yaxis": "y"
        },
        {
         "hovertemplate": "date=2020-04-01<br>pc1=%{x}<br>pc2=%{y}<extra></extra>",
         "legendgroup": "2020-04-01",
         "marker": {
          "color": "#19d3f3",
          "symbol": "circle"
         },
         "mode": "markers",
         "name": "2020-04-01",
         "showlegend": true,
         "type": "scattergl",
         "x": [
          7.316133429218819
         ],
         "xaxis": "x",
         "y": [
          -4.130007108649781
         ],
         "yaxis": "y"
        },
        {
         "hovertemplate": "date=2020-04-02<br>pc1=%{x}<br>pc2=%{y}<extra></extra>",
         "legendgroup": "2020-04-02",
         "marker": {
          "color": "#FF6692",
          "symbol": "circle"
         },
         "mode": "markers",
         "name": "2020-04-02",
         "showlegend": true,
         "type": "scattergl",
         "x": [
          8.134111510478041
         ],
         "xaxis": "x",
         "y": [
          -4.911435418029358
         ],
         "yaxis": "y"
        },
        {
         "hovertemplate": "date=2020-04-03<br>pc1=%{x}<br>pc2=%{y}<extra></extra>",
         "legendgroup": "2020-04-03",
         "marker": {
          "color": "#B6E880",
          "symbol": "circle"
         },
         "mode": "markers",
         "name": "2020-04-03",
         "showlegend": true,
         "type": "scattergl",
         "x": [
          1.9435231382886804
         ],
         "xaxis": "x",
         "y": [
          -10.697650126314072
         ],
         "yaxis": "y"
        },
        {
         "hovertemplate": "date=2020-04-04<br>pc1=%{x}<br>pc2=%{y}<extra></extra>",
         "legendgroup": "2020-04-04",
         "marker": {
          "color": "#FF97FF",
          "symbol": "circle"
         },
         "mode": "markers",
         "name": "2020-04-04",
         "showlegend": true,
         "type": "scattergl",
         "x": [
          -17.03731737673051
         ],
         "xaxis": "x",
         "y": [
          1.3754876189531748
         ],
         "yaxis": "y"
        },
        {
         "hovertemplate": "date=2020-04-05<br>pc1=%{x}<br>pc2=%{y}<extra></extra>",
         "legendgroup": "2020-04-05",
         "marker": {
          "color": "#FECB52",
          "symbol": "circle"
         },
         "mode": "markers",
         "name": "2020-04-05",
         "showlegend": true,
         "type": "scattergl",
         "x": [
          -23.178055960714538
         ],
         "xaxis": "x",
         "y": [
          7.177470837567422
         ],
         "yaxis": "y"
        },
        {
         "hovertemplate": "date=2020-04-06<br>pc1=%{x}<br>pc2=%{y}<extra></extra>",
         "legendgroup": "2020-04-06",
         "marker": {
          "color": "#636efa",
          "symbol": "circle"
         },
         "mode": "markers",
         "name": "2020-04-06",
         "showlegend": true,
         "type": "scattergl",
         "x": [
          1.604507182016987
         ],
         "xaxis": "x",
         "y": [
          -7.061674217346293
         ],
         "yaxis": "y"
        },
        {
         "hovertemplate": "date=2020-04-07<br>pc1=%{x}<br>pc2=%{y}<extra></extra>",
         "legendgroup": "2020-04-07",
         "marker": {
          "color": "#EF553B",
          "symbol": "circle"
         },
         "mode": "markers",
         "name": "2020-04-07",
         "showlegend": true,
         "type": "scattergl",
         "x": [
          4.079659281891292
         ],
         "xaxis": "x",
         "y": [
          -9.95612241020551
         ],
         "yaxis": "y"
        },
        {
         "hovertemplate": "date=2020-04-08<br>pc1=%{x}<br>pc2=%{y}<extra></extra>",
         "legendgroup": "2020-04-08",
         "marker": {
          "color": "#00cc96",
          "symbol": "circle"
         },
         "mode": "markers",
         "name": "2020-04-08",
         "showlegend": true,
         "type": "scattergl",
         "x": [
          6.843896024423902
         ],
         "xaxis": "x",
         "y": [
          -6.6991798869428045
         ],
         "yaxis": "y"
        },
        {
         "hovertemplate": "date=2020-04-09<br>pc1=%{x}<br>pc2=%{y}<extra></extra>",
         "legendgroup": "2020-04-09",
         "marker": {
          "color": "#ab63fa",
          "symbol": "circle"
         },
         "mode": "markers",
         "name": "2020-04-09",
         "showlegend": true,
         "type": "scattergl",
         "x": [
          8.51151790105505
         ],
         "xaxis": "x",
         "y": [
          -4.7828463520075335
         ],
         "yaxis": "y"
        },
        {
         "hovertemplate": "date=2020-04-10<br>pc1=%{x}<br>pc2=%{y}<extra></extra>",
         "legendgroup": "2020-04-10",
         "marker": {
          "color": "#FFA15A",
          "symbol": "circle"
         },
         "mode": "markers",
         "name": "2020-04-10",
         "showlegend": true,
         "type": "scattergl",
         "x": [
          7.117738358481902
         ],
         "xaxis": "x",
         "y": [
          -5.138896052676625
         ],
         "yaxis": "y"
        },
        {
         "hovertemplate": "date=2020-04-11<br>pc1=%{x}<br>pc2=%{y}<extra></extra>",
         "legendgroup": "2020-04-11",
         "marker": {
          "color": "#19d3f3",
          "symbol": "circle"
         },
         "mode": "markers",
         "name": "2020-04-11",
         "showlegend": true,
         "type": "scattergl",
         "x": [
          -17.047650001030643
         ],
         "xaxis": "x",
         "y": [
          3.058171557986808
         ],
         "yaxis": "y"
        },
        {
         "hovertemplate": "date=2020-04-12<br>pc1=%{x}<br>pc2=%{y}<extra></extra>",
         "legendgroup": "2020-04-12",
         "marker": {
          "color": "#FF6692",
          "symbol": "circle"
         },
         "mode": "markers",
         "name": "2020-04-12",
         "showlegend": true,
         "type": "scattergl",
         "x": [
          -20.653376236455095
         ],
         "xaxis": "x",
         "y": [
          12.439317216864806
         ],
         "yaxis": "y"
        },
        {
         "hovertemplate": "date=2020-04-13<br>pc1=%{x}<br>pc2=%{y}<extra></extra>",
         "legendgroup": "2020-04-13",
         "marker": {
          "color": "#B6E880",
          "symbol": "circle"
         },
         "mode": "markers",
         "name": "2020-04-13",
         "showlegend": true,
         "type": "scattergl",
         "x": [
          2.820951101463661
         ],
         "xaxis": "x",
         "y": [
          -5.716691398472852
         ],
         "yaxis": "y"
        },
        {
         "hovertemplate": "date=2020-04-14<br>pc1=%{x}<br>pc2=%{y}<extra></extra>",
         "legendgroup": "2020-04-14",
         "marker": {
          "color": "#FF97FF",
          "symbol": "circle"
         },
         "mode": "markers",
         "name": "2020-04-14",
         "showlegend": true,
         "type": "scattergl",
         "x": [
          7.593916049475253
         ],
         "xaxis": "x",
         "y": [
          -5.949893473119015
         ],
         "yaxis": "y"
        },
        {
         "hovertemplate": "date=2020-04-15<br>pc1=%{x}<br>pc2=%{y}<extra></extra>",
         "legendgroup": "2020-04-15",
         "marker": {
          "color": "#FECB52",
          "symbol": "circle"
         },
         "mode": "markers",
         "name": "2020-04-15",
         "showlegend": true,
         "type": "scattergl",
         "x": [
          5.404249424733065
         ],
         "xaxis": "x",
         "y": [
          -10.238128793455404
         ],
         "yaxis": "y"
        },
        {
         "hovertemplate": "date=2020-04-16<br>pc1=%{x}<br>pc2=%{y}<extra></extra>",
         "legendgroup": "2020-04-16",
         "marker": {
          "color": "#636efa",
          "symbol": "circle"
         },
         "mode": "markers",
         "name": "2020-04-16",
         "showlegend": true,
         "type": "scattergl",
         "x": [
          7.064551985911155
         ],
         "xaxis": "x",
         "y": [
          -6.68534666604701
         ],
         "yaxis": "y"
        },
        {
         "hovertemplate": "date=2020-04-17<br>pc1=%{x}<br>pc2=%{y}<extra></extra>",
         "legendgroup": "2020-04-17",
         "marker": {
          "color": "#EF553B",
          "symbol": "circle"
         },
         "mode": "markers",
         "name": "2020-04-17",
         "showlegend": true,
         "type": "scattergl",
         "x": [
          5.932362347659907
         ],
         "xaxis": "x",
         "y": [
          -8.304602009997161
         ],
         "yaxis": "y"
        },
        {
         "hovertemplate": "date=2020-04-18<br>pc1=%{x}<br>pc2=%{y}<extra></extra>",
         "legendgroup": "2020-04-18",
         "marker": {
          "color": "#00cc96",
          "symbol": "circle"
         },
         "mode": "markers",
         "name": "2020-04-18",
         "showlegend": true,
         "type": "scattergl",
         "x": [
          -19.49665115453762
         ],
         "xaxis": "x",
         "y": [
          -0.5440014882080508
         ],
         "yaxis": "y"
        },
        {
         "hovertemplate": "date=2020-04-19<br>pc1=%{x}<br>pc2=%{y}<extra></extra>",
         "legendgroup": "2020-04-19",
         "marker": {
          "color": "#ab63fa",
          "symbol": "circle"
         },
         "mode": "markers",
         "name": "2020-04-19",
         "showlegend": true,
         "type": "scattergl",
         "x": [
          -19.859140461948442
         ],
         "xaxis": "x",
         "y": [
          15.374486196172136
         ],
         "yaxis": "y"
        },
        {
         "hovertemplate": "date=2020-04-20<br>pc1=%{x}<br>pc2=%{y}<extra></extra>",
         "legendgroup": "2020-04-20",
         "marker": {
          "color": "#FFA15A",
          "symbol": "circle"
         },
         "mode": "markers",
         "name": "2020-04-20",
         "showlegend": true,
         "type": "scattergl",
         "x": [
          0.387433986089127
         ],
         "xaxis": "x",
         "y": [
          -8.29097043943683
         ],
         "yaxis": "y"
        },
        {
         "hovertemplate": "date=2020-04-21<br>pc1=%{x}<br>pc2=%{y}<extra></extra>",
         "legendgroup": "2020-04-21",
         "marker": {
          "color": "#19d3f3",
          "symbol": "circle"
         },
         "mode": "markers",
         "name": "2020-04-21",
         "showlegend": true,
         "type": "scattergl",
         "x": [
          8.387685095569609
         ],
         "xaxis": "x",
         "y": [
          -4.85068448764951
         ],
         "yaxis": "y"
        },
        {
         "hovertemplate": "date=2020-04-22<br>pc1=%{x}<br>pc2=%{y}<extra></extra>",
         "legendgroup": "2020-04-22",
         "marker": {
          "color": "#FF6692",
          "symbol": "circle"
         },
         "mode": "markers",
         "name": "2020-04-22",
         "showlegend": true,
         "type": "scattergl",
         "x": [
          6.178416635660234
         ],
         "xaxis": "x",
         "y": [
          -8.449588239984813
         ],
         "yaxis": "y"
        },
        {
         "hovertemplate": "date=2020-04-23<br>pc1=%{x}<br>pc2=%{y}<extra></extra>",
         "legendgroup": "2020-04-23",
         "marker": {
          "color": "#B6E880",
          "symbol": "circle"
         },
         "mode": "markers",
         "name": "2020-04-23",
         "showlegend": true,
         "type": "scattergl",
         "x": [
          9.731620661126469
         ],
         "xaxis": "x",
         "y": [
          -3.1011176667141362
         ],
         "yaxis": "y"
        },
        {
         "hovertemplate": "date=2020-04-24<br>pc1=%{x}<br>pc2=%{y}<extra></extra>",
         "legendgroup": "2020-04-24",
         "marker": {
          "color": "#FF97FF",
          "symbol": "circle"
         },
         "mode": "markers",
         "name": "2020-04-24",
         "showlegend": true,
         "type": "scattergl",
         "x": [
          5.753409006896856
         ],
         "xaxis": "x",
         "y": [
          -7.406891582628136
         ],
         "yaxis": "y"
        },
        {
         "hovertemplate": "date=2020-04-25<br>pc1=%{x}<br>pc2=%{y}<extra></extra>",
         "legendgroup": "2020-04-25",
         "marker": {
          "color": "#FECB52",
          "symbol": "circle"
         },
         "mode": "markers",
         "name": "2020-04-25",
         "showlegend": true,
         "type": "scattergl",
         "x": [
          -12.509786135704802
         ],
         "xaxis": "x",
         "y": [
          9.06909311744901
         ],
         "yaxis": "y"
        },
        {
         "hovertemplate": "date=2020-04-26<br>pc1=%{x}<br>pc2=%{y}<extra></extra>",
         "legendgroup": "2020-04-26",
         "marker": {
          "color": "#636efa",
          "symbol": "circle"
         },
         "mode": "markers",
         "name": "2020-04-26",
         "showlegend": true,
         "type": "scattergl",
         "x": [
          -21.581017006002966
         ],
         "xaxis": "x",
         "y": [
          12.220107056789386
         ],
         "yaxis": "y"
        },
        {
         "hovertemplate": "date=2020-04-27<br>pc1=%{x}<br>pc2=%{y}<extra></extra>",
         "legendgroup": "2020-04-27",
         "marker": {
          "color": "#EF553B",
          "symbol": "circle"
         },
         "mode": "markers",
         "name": "2020-04-27",
         "showlegend": true,
         "type": "scattergl",
         "x": [
          4.029499515241211
         ],
         "xaxis": "x",
         "y": [
          -2.541065250077004
         ],
         "yaxis": "y"
        },
        {
         "hovertemplate": "date=2020-04-28<br>pc1=%{x}<br>pc2=%{y}<extra></extra>",
         "legendgroup": "2020-04-28",
         "marker": {
          "color": "#00cc96",
          "symbol": "circle"
         },
         "mode": "markers",
         "name": "2020-04-28",
         "showlegend": true,
         "type": "scattergl",
         "x": [
          9.590900160618292
         ],
         "xaxis": "x",
         "y": [
          -2.4595331172203987
         ],
         "yaxis": "y"
        },
        {
         "hovertemplate": "date=2020-04-29<br>pc1=%{x}<br>pc2=%{y}<extra></extra>",
         "legendgroup": "2020-04-29",
         "marker": {
          "color": "#ab63fa",
          "symbol": "circle"
         },
         "mode": "markers",
         "name": "2020-04-29",
         "showlegend": true,
         "type": "scattergl",
         "x": [
          11.124694464986224
         ],
         "xaxis": "x",
         "y": [
          -2.2723451427692574
         ],
         "yaxis": "y"
        },
        {
         "hovertemplate": "date=2020-04-30<br>pc1=%{x}<br>pc2=%{y}<extra></extra>",
         "legendgroup": "2020-04-30",
         "marker": {
          "color": "#FFA15A",
          "symbol": "circle"
         },
         "mode": "markers",
         "name": "2020-04-30",
         "showlegend": true,
         "type": "scattergl",
         "x": [
          9.470968353799389
         ],
         "xaxis": "x",
         "y": [
          -3.6297771292786094
         ],
         "yaxis": "y"
        },
        {
         "hovertemplate": "date=2020-05-01<br>pc1=%{x}<br>pc2=%{y}<extra></extra>",
         "legendgroup": "2020-05-01",
         "marker": {
          "color": "#19d3f3",
          "symbol": "circle"
         },
         "mode": "markers",
         "name": "2020-05-01",
         "showlegend": true,
         "type": "scattergl",
         "x": [
          4.97863007415458
         ],
         "xaxis": "x",
         "y": [
          -5.680449458212105
         ],
         "yaxis": "y"
        },
        {
         "hovertemplate": "date=2020-05-02<br>pc1=%{x}<br>pc2=%{y}<extra></extra>",
         "legendgroup": "2020-05-02",
         "marker": {
          "color": "#FF6692",
          "symbol": "circle"
         },
         "mode": "markers",
         "name": "2020-05-02",
         "showlegend": true,
         "type": "scattergl",
         "x": [
          -16.262875426192213
         ],
         "xaxis": "x",
         "y": [
          5.053866131024548
         ],
         "yaxis": "y"
        },
        {
         "hovertemplate": "date=2020-05-03<br>pc1=%{x}<br>pc2=%{y}<extra></extra>",
         "legendgroup": "2020-05-03",
         "marker": {
          "color": "#B6E880",
          "symbol": "circle"
         },
         "mode": "markers",
         "name": "2020-05-03",
         "showlegend": true,
         "type": "scattergl",
         "x": [
          -22.41550046331293
         ],
         "xaxis": "x",
         "y": [
          10.031639918625206
         ],
         "yaxis": "y"
        },
        {
         "hovertemplate": "date=2020-05-04<br>pc1=%{x}<br>pc2=%{y}<extra></extra>",
         "legendgroup": "2020-05-04",
         "marker": {
          "color": "#FF97FF",
          "symbol": "circle"
         },
         "mode": "markers",
         "name": "2020-05-04",
         "showlegend": true,
         "type": "scattergl",
         "x": [
          5.502169486026666
         ],
         "xaxis": "x",
         "y": [
          -1.3606338411423702
         ],
         "yaxis": "y"
        },
        {
         "hovertemplate": "date=2020-05-05<br>pc1=%{x}<br>pc2=%{y}<extra></extra>",
         "legendgroup": "2020-05-05",
         "marker": {
          "color": "#FECB52",
          "symbol": "circle"
         },
         "mode": "markers",
         "name": "2020-05-05",
         "showlegend": true,
         "type": "scattergl",
         "x": [
          8.683639048606949
         ],
         "xaxis": "x",
         "y": [
          -5.2703627047187265
         ],
         "yaxis": "y"
        },
        {
         "hovertemplate": "date=2020-05-06<br>pc1=%{x}<br>pc2=%{y}<extra></extra>",
         "legendgroup": "2020-05-06",
         "marker": {
          "color": "#636efa",
          "symbol": "circle"
         },
         "mode": "markers",
         "name": "2020-05-06",
         "showlegend": true,
         "type": "scattergl",
         "x": [
          9.00524348309457
         ],
         "xaxis": "x",
         "y": [
          -2.662648802280421
         ],
         "yaxis": "y"
        },
        {
         "hovertemplate": "date=2020-05-07<br>pc1=%{x}<br>pc2=%{y}<extra></extra>",
         "legendgroup": "2020-05-07",
         "marker": {
          "color": "#EF553B",
          "symbol": "circle"
         },
         "mode": "markers",
         "name": "2020-05-07",
         "showlegend": true,
         "type": "scattergl",
         "x": [
          5.41937313369586
         ],
         "xaxis": "x",
         "y": [
          -8.23496188782421
         ],
         "yaxis": "y"
        },
        {
         "hovertemplate": "date=2020-05-08<br>pc1=%{x}<br>pc2=%{y}<extra></extra>",
         "legendgroup": "2020-05-08",
         "marker": {
          "color": "#00cc96",
          "symbol": "circle"
         },
         "mode": "markers",
         "name": "2020-05-08",
         "showlegend": true,
         "type": "scattergl",
         "x": [
          9.090264090629066
         ],
         "xaxis": "x",
         "y": [
          -1.8913865860905241
         ],
         "yaxis": "y"
        },
        {
         "hovertemplate": "date=2020-05-09<br>pc1=%{x}<br>pc2=%{y}<extra></extra>",
         "legendgroup": "2020-05-09",
         "marker": {
          "color": "#ab63fa",
          "symbol": "circle"
         },
         "mode": "markers",
         "name": "2020-05-09",
         "showlegend": true,
         "type": "scattergl",
         "x": [
          -16.115892772228534
         ],
         "xaxis": "x",
         "y": [
          5.423178382460432
         ],
         "yaxis": "y"
        },
        {
         "hovertemplate": "date=2020-05-10<br>pc1=%{x}<br>pc2=%{y}<extra></extra>",
         "legendgroup": "2020-05-10",
         "marker": {
          "color": "#FFA15A",
          "symbol": "circle"
         },
         "mode": "markers",
         "name": "2020-05-10",
         "showlegend": true,
         "type": "scattergl",
         "x": [
          -19.64660331427695
         ],
         "xaxis": "x",
         "y": [
          13.2651260927218
         ],
         "yaxis": "y"
        },
        {
         "hovertemplate": "date=2020-05-11<br>pc1=%{x}<br>pc2=%{y}<extra></extra>",
         "legendgroup": "2020-05-11",
         "marker": {
          "color": "#19d3f3",
          "symbol": "circle"
         },
         "mode": "markers",
         "name": "2020-05-11",
         "showlegend": true,
         "type": "scattergl",
         "x": [
          2.8751131589656853
         ],
         "xaxis": "x",
         "y": [
          -5.432051515544821
         ],
         "yaxis": "y"
        },
        {
         "hovertemplate": "date=2020-05-12<br>pc1=%{x}<br>pc2=%{y}<extra></extra>",
         "legendgroup": "2020-05-12",
         "marker": {
          "color": "#FF6692",
          "symbol": "circle"
         },
         "mode": "markers",
         "name": "2020-05-12",
         "showlegend": true,
         "type": "scattergl",
         "x": [
          8.447800876900681
         ],
         "xaxis": "x",
         "y": [
          -3.944306779933724
         ],
         "yaxis": "y"
        },
        {
         "hovertemplate": "date=2020-05-13<br>pc1=%{x}<br>pc2=%{y}<extra></extra>",
         "legendgroup": "2020-05-13",
         "marker": {
          "color": "#B6E880",
          "symbol": "circle"
         },
         "mode": "markers",
         "name": "2020-05-13",
         "showlegend": true,
         "type": "scattergl",
         "x": [
          6.1403746150685405
         ],
         "xaxis": "x",
         "y": [
          -6.481994418143757
         ],
         "yaxis": "y"
        },
        {
         "hovertemplate": "date=2020-05-14<br>pc1=%{x}<br>pc2=%{y}<extra></extra>",
         "legendgroup": "2020-05-14",
         "marker": {
          "color": "#FF97FF",
          "symbol": "circle"
         },
         "mode": "markers",
         "name": "2020-05-14",
         "showlegend": true,
         "type": "scattergl",
         "x": [
          9.77156514273482
         ],
         "xaxis": "x",
         "y": [
          -4.422605889095783
         ],
         "yaxis": "y"
        },
        {
         "hovertemplate": "date=2020-05-15<br>pc1=%{x}<br>pc2=%{y}<extra></extra>",
         "legendgroup": "2020-05-15",
         "marker": {
          "color": "#FECB52",
          "symbol": "circle"
         },
         "mode": "markers",
         "name": "2020-05-15",
         "showlegend": true,
         "type": "scattergl",
         "x": [
          5.182343105195971
         ],
         "xaxis": "x",
         "y": [
          -8.104076223161501
         ],
         "yaxis": "y"
        },
        {
         "hovertemplate": "date=2020-05-16<br>pc1=%{x}<br>pc2=%{y}<extra></extra>",
         "legendgroup": "2020-05-16",
         "marker": {
          "color": "#636efa",
          "symbol": "circle"
         },
         "mode": "markers",
         "name": "2020-05-16",
         "showlegend": true,
         "type": "scattergl",
         "x": [
          -14.938749653483647
         ],
         "xaxis": "x",
         "y": [
          7.639984905061303
         ],
         "yaxis": "y"
        },
        {
         "hovertemplate": "date=2020-05-17<br>pc1=%{x}<br>pc2=%{y}<extra></extra>",
         "legendgroup": "2020-05-17",
         "marker": {
          "color": "#EF553B",
          "symbol": "circle"
         },
         "mode": "markers",
         "name": "2020-05-17",
         "showlegend": true,
         "type": "scattergl",
         "x": [
          -23.890111150373762
         ],
         "xaxis": "x",
         "y": [
          5.649787160738225
         ],
         "yaxis": "y"
        },
        {
         "hovertemplate": "date=2020-05-18<br>pc1=%{x}<br>pc2=%{y}<extra></extra>",
         "legendgroup": "2020-05-18",
         "marker": {
          "color": "#00cc96",
          "symbol": "circle"
         },
         "mode": "markers",
         "name": "2020-05-18",
         "showlegend": true,
         "type": "scattergl",
         "x": [
          4.976292459093821
         ],
         "xaxis": "x",
         "y": [
          -0.8648681681424281
         ],
         "yaxis": "y"
        },
        {
         "hovertemplate": "date=2020-05-19<br>pc1=%{x}<br>pc2=%{y}<extra></extra>",
         "legendgroup": "2020-05-19",
         "marker": {
          "color": "#ab63fa",
          "symbol": "circle"
         },
         "mode": "markers",
         "name": "2020-05-19",
         "showlegend": true,
         "type": "scattergl",
         "x": [
          9.813700622755979
         ],
         "xaxis": "x",
         "y": [
          -3.705489336394655
         ],
         "yaxis": "y"
        },
        {
         "hovertemplate": "date=2020-05-20<br>pc1=%{x}<br>pc2=%{y}<extra></extra>",
         "legendgroup": "2020-05-20",
         "marker": {
          "color": "#FFA15A",
          "symbol": "circle"
         },
         "mode": "markers",
         "name": "2020-05-20",
         "showlegend": true,
         "type": "scattergl",
         "x": [
          5.92461541082428
         ],
         "xaxis": "x",
         "y": [
          -6.845731472641876
         ],
         "yaxis": "y"
        },
        {
         "hovertemplate": "date=2020-05-21<br>pc1=%{x}<br>pc2=%{y}<extra></extra>",
         "legendgroup": "2020-05-21",
         "marker": {
          "color": "#19d3f3",
          "symbol": "circle"
         },
         "mode": "markers",
         "name": "2020-05-21",
         "showlegend": true,
         "type": "scattergl",
         "x": [
          9.003628896827715
         ],
         "xaxis": "x",
         "y": [
          -3.3736005936066933
         ],
         "yaxis": "y"
        },
        {
         "hovertemplate": "date=2020-05-22<br>pc1=%{x}<br>pc2=%{y}<extra></extra>",
         "legendgroup": "2020-05-22",
         "marker": {
          "color": "#FF6692",
          "symbol": "circle"
         },
         "mode": "markers",
         "name": "2020-05-22",
         "showlegend": true,
         "type": "scattergl",
         "x": [
          6.161794154141724
         ],
         "xaxis": "x",
         "y": [
          -4.567415776946856
         ],
         "yaxis": "y"
        },
        {
         "hovertemplate": "date=2020-05-23<br>pc1=%{x}<br>pc2=%{y}<extra></extra>",
         "legendgroup": "2020-05-23",
         "marker": {
          "color": "#B6E880",
          "symbol": "circle"
         },
         "mode": "markers",
         "name": "2020-05-23",
         "showlegend": true,
         "type": "scattergl",
         "x": [
          -13.759614121666848
         ],
         "xaxis": "x",
         "y": [
          8.507039450481134
         ],
         "yaxis": "y"
        },
        {
         "hovertemplate": "date=2020-05-24<br>pc1=%{x}<br>pc2=%{y}<extra></extra>",
         "legendgroup": "2020-05-24",
         "marker": {
          "color": "#FF97FF",
          "symbol": "circle"
         },
         "mode": "markers",
         "name": "2020-05-24",
         "showlegend": true,
         "type": "scattergl",
         "x": [
          -20.893509850905915
         ],
         "xaxis": "x",
         "y": [
          14.77877864565895
         ],
         "yaxis": "y"
        },
        {
         "hovertemplate": "date=2020-05-25<br>pc1=%{x}<br>pc2=%{y}<extra></extra>",
         "legendgroup": "2020-05-25",
         "marker": {
          "color": "#FECB52",
          "symbol": "circle"
         },
         "mode": "markers",
         "name": "2020-05-25",
         "showlegend": true,
         "type": "scattergl",
         "x": [
          34.390766099312295
         ],
         "xaxis": "x",
         "y": [
          36.52649854542754
         ],
         "yaxis": "y"
        },
        {
         "hovertemplate": "date=2020-05-26<br>pc1=%{x}<br>pc2=%{y}<extra></extra>",
         "legendgroup": "2020-05-26",
         "marker": {
          "color": "#636efa",
          "symbol": "circle"
         },
         "mode": "markers",
         "name": "2020-05-26",
         "showlegend": true,
         "type": "scattergl",
         "x": [
          34.09213406718245
         ],
         "xaxis": "x",
         "y": [
          37.26018719553919
         ],
         "yaxis": "y"
        },
        {
         "hovertemplate": "date=2020-05-27<br>pc1=%{x}<br>pc2=%{y}<extra></extra>",
         "legendgroup": "2020-05-27",
         "marker": {
          "color": "#EF553B",
          "symbol": "circle"
         },
         "mode": "markers",
         "name": "2020-05-27",
         "showlegend": true,
         "type": "scattergl",
         "x": [
          34.05500675301942
         ],
         "xaxis": "x",
         "y": [
          37.28472445883502
         ],
         "yaxis": "y"
        },
        {
         "hovertemplate": "date=2020-05-28<br>pc1=%{x}<br>pc2=%{y}<extra></extra>",
         "legendgroup": "2020-05-28",
         "marker": {
          "color": "#00cc96",
          "symbol": "circle"
         },
         "mode": "markers",
         "name": "2020-05-28",
         "showlegend": true,
         "type": "scattergl",
         "x": [
          33.649278537419804
         ],
         "xaxis": "x",
         "y": [
          37.535986068936204
         ],
         "yaxis": "y"
        },
        {
         "hovertemplate": "date=2020-05-29<br>pc1=%{x}<br>pc2=%{y}<extra></extra>",
         "legendgroup": "2020-05-29",
         "marker": {
          "color": "#ab63fa",
          "symbol": "circle"
         },
         "mode": "markers",
         "name": "2020-05-29",
         "showlegend": true,
         "type": "scattergl",
         "x": [
          12.76204430497078
         ],
         "xaxis": "x",
         "y": [
          9.607893148718446
         ],
         "yaxis": "y"
        },
        {
         "hovertemplate": "date=2020-05-30<br>pc1=%{x}<br>pc2=%{y}<extra></extra>",
         "legendgroup": "2020-05-30",
         "marker": {
          "color": "#FFA15A",
          "symbol": "circle"
         },
         "mode": "markers",
         "name": "2020-05-30",
         "showlegend": true,
         "type": "scattergl",
         "x": [
          -20.912309061727626
         ],
         "xaxis": "x",
         "y": [
          7.008915182292797
         ],
         "yaxis": "y"
        },
        {
         "hovertemplate": "date=2020-05-31<br>pc1=%{x}<br>pc2=%{y}<extra></extra>",
         "legendgroup": "2020-05-31",
         "marker": {
          "color": "#19d3f3",
          "symbol": "circle"
         },
         "mode": "markers",
         "name": "2020-05-31",
         "showlegend": true,
         "type": "scattergl",
         "x": [
          -23.765179674238496
         ],
         "xaxis": "x",
         "y": [
          5.833699164888801
         ],
         "yaxis": "y"
        },
        {
         "hovertemplate": "date=2020-06-01<br>pc1=%{x}<br>pc2=%{y}<extra></extra>",
         "legendgroup": "2020-06-01",
         "marker": {
          "color": "#FF6692",
          "symbol": "circle"
         },
         "mode": "markers",
         "name": "2020-06-01",
         "showlegend": true,
         "type": "scattergl",
         "x": [
          7.485111926692396
         ],
         "xaxis": "x",
         "y": [
          -8.694480745293813
         ],
         "yaxis": "y"
        },
        {
         "hovertemplate": "date=2020-06-02<br>pc1=%{x}<br>pc2=%{y}<extra></extra>",
         "legendgroup": "2020-06-02",
         "marker": {
          "color": "#B6E880",
          "symbol": "circle"
         },
         "mode": "markers",
         "name": "2020-06-02",
         "showlegend": true,
         "type": "scattergl",
         "x": [
          8.447224484168988
         ],
         "xaxis": "x",
         "y": [
          -15.517496484780754
         ],
         "yaxis": "y"
        },
        {
         "hovertemplate": "date=2020-06-03<br>pc1=%{x}<br>pc2=%{y}<extra></extra>",
         "legendgroup": "2020-06-03",
         "marker": {
          "color": "#FF97FF",
          "symbol": "circle"
         },
         "mode": "markers",
         "name": "2020-06-03",
         "showlegend": true,
         "type": "scattergl",
         "x": [
          -0.2623680619929633
         ],
         "xaxis": "x",
         "y": [
          -17.788338775307594
         ],
         "yaxis": "y"
        },
        {
         "hovertemplate": "date=2020-06-04<br>pc1=%{x}<br>pc2=%{y}<extra></extra>",
         "legendgroup": "2020-06-04",
         "marker": {
          "color": "#FECB52",
          "symbol": "circle"
         },
         "mode": "markers",
         "name": "2020-06-04",
         "showlegend": true,
         "type": "scattergl",
         "x": [
          5.646897017928713
         ],
         "xaxis": "x",
         "y": [
          -4.684484424339144
         ],
         "yaxis": "y"
        },
        {
         "hovertemplate": "date=2020-06-05<br>pc1=%{x}<br>pc2=%{y}<extra></extra>",
         "legendgroup": "2020-06-05",
         "marker": {
          "color": "#636efa",
          "symbol": "circle"
         },
         "mode": "markers",
         "name": "2020-06-05",
         "showlegend": true,
         "type": "scattergl",
         "x": [
          3.3033375968090763
         ],
         "xaxis": "x",
         "y": [
          -8.57924288925635
         ],
         "yaxis": "y"
        },
        {
         "hovertemplate": "date=2020-06-06<br>pc1=%{x}<br>pc2=%{y}<extra></extra>",
         "legendgroup": "2020-06-06",
         "marker": {
          "color": "#EF553B",
          "symbol": "circle"
         },
         "mode": "markers",
         "name": "2020-06-06",
         "showlegend": true,
         "type": "scattergl",
         "x": [
          -22.94786058359634
         ],
         "xaxis": "x",
         "y": [
          -3.428087927081551
         ],
         "yaxis": "y"
        },
        {
         "hovertemplate": "date=2020-06-07<br>pc1=%{x}<br>pc2=%{y}<extra></extra>",
         "legendgroup": "2020-06-07",
         "marker": {
          "color": "#00cc96",
          "symbol": "circle"
         },
         "mode": "markers",
         "name": "2020-06-07",
         "showlegend": true,
         "type": "scattergl",
         "x": [
          -24.605970157676772
         ],
         "xaxis": "x",
         "y": [
          6.019038819800386
         ],
         "yaxis": "y"
        },
        {
         "hovertemplate": "date=2020-06-08<br>pc1=%{x}<br>pc2=%{y}<extra></extra>",
         "legendgroup": "2020-06-08",
         "marker": {
          "color": "#ab63fa",
          "symbol": "circle"
         },
         "mode": "markers",
         "name": "2020-06-08",
         "showlegend": true,
         "type": "scattergl",
         "x": [
          0.93453460138225
         ],
         "xaxis": "x",
         "y": [
          -6.86562312096585
         ],
         "yaxis": "y"
        },
        {
         "hovertemplate": "date=2020-06-09<br>pc1=%{x}<br>pc2=%{y}<extra></extra>",
         "legendgroup": "2020-06-09",
         "marker": {
          "color": "#FFA15A",
          "symbol": "circle"
         },
         "mode": "markers",
         "name": "2020-06-09",
         "showlegend": true,
         "type": "scattergl",
         "x": [
          7.115864007431154
         ],
         "xaxis": "x",
         "y": [
          -7.395370877198734
         ],
         "yaxis": "y"
        },
        {
         "hovertemplate": "date=2020-06-10<br>pc1=%{x}<br>pc2=%{y}<extra></extra>",
         "legendgroup": "2020-06-10",
         "marker": {
          "color": "#19d3f3",
          "symbol": "circle"
         },
         "mode": "markers",
         "name": "2020-06-10",
         "showlegend": true,
         "type": "scattergl",
         "x": [
          9.483021593137114
         ],
         "xaxis": "x",
         "y": [
          -3.0640737168729357
         ],
         "yaxis": "y"
        },
        {
         "hovertemplate": "date=2020-06-11<br>pc1=%{x}<br>pc2=%{y}<extra></extra>",
         "legendgroup": "2020-06-11",
         "marker": {
          "color": "#FF6692",
          "symbol": "circle"
         },
         "mode": "markers",
         "name": "2020-06-11",
         "showlegend": true,
         "type": "scattergl",
         "x": [
          9.509922320137397
         ],
         "xaxis": "x",
         "y": [
          -0.628317292825346
         ],
         "yaxis": "y"
        },
        {
         "hovertemplate": "date=2020-06-12<br>pc1=%{x}<br>pc2=%{y}<extra></extra>",
         "legendgroup": "2020-06-12",
         "marker": {
          "color": "#B6E880",
          "symbol": "circle"
         },
         "mode": "markers",
         "name": "2020-06-12",
         "showlegend": true,
         "type": "scattergl",
         "x": [
          5.694456692467462
         ],
         "xaxis": "x",
         "y": [
          -5.183068228547028
         ],
         "yaxis": "y"
        },
        {
         "hovertemplate": "date=2020-06-13<br>pc1=%{x}<br>pc2=%{y}<extra></extra>",
         "legendgroup": "2020-06-13",
         "marker": {
          "color": "#FF97FF",
          "symbol": "circle"
         },
         "mode": "markers",
         "name": "2020-06-13",
         "showlegend": true,
         "type": "scattergl",
         "x": [
          -12.709689566618923
         ],
         "xaxis": "x",
         "y": [
          9.610993253983453
         ],
         "yaxis": "y"
        },
        {
         "hovertemplate": "date=2020-06-14<br>pc1=%{x}<br>pc2=%{y}<extra></extra>",
         "legendgroup": "2020-06-14",
         "marker": {
          "color": "#FECB52",
          "symbol": "circle"
         },
         "mode": "markers",
         "name": "2020-06-14",
         "showlegend": true,
         "type": "scattergl",
         "x": [
          -22.375461794477918
         ],
         "xaxis": "x",
         "y": [
          7.236094803616894
         ],
         "yaxis": "y"
        },
        {
         "hovertemplate": "date=2020-06-15<br>pc1=%{x}<br>pc2=%{y}<extra></extra>",
         "legendgroup": "2020-06-15",
         "marker": {
          "color": "#636efa",
          "symbol": "circle"
         },
         "mode": "markers",
         "name": "2020-06-15",
         "showlegend": true,
         "type": "scattergl",
         "x": [
          4.986999687475874
         ],
         "xaxis": "x",
         "y": [
          -1.2026432472678075
         ],
         "yaxis": "y"
        },
        {
         "hovertemplate": "date=2020-06-16<br>pc1=%{x}<br>pc2=%{y}<extra></extra>",
         "legendgroup": "2020-06-16",
         "marker": {
          "color": "#EF553B",
          "symbol": "circle"
         },
         "mode": "markers",
         "name": "2020-06-16",
         "showlegend": true,
         "type": "scattergl",
         "x": [
          10.519821923601858
         ],
         "xaxis": "x",
         "y": [
          -1.164720974625868
         ],
         "yaxis": "y"
        },
        {
         "hovertemplate": "date=2020-06-17<br>pc1=%{x}<br>pc2=%{y}<extra></extra>",
         "legendgroup": "2020-06-17",
         "marker": {
          "color": "#00cc96",
          "symbol": "circle"
         },
         "mode": "markers",
         "name": "2020-06-17",
         "showlegend": true,
         "type": "scattergl",
         "x": [
          8.03502989674752
         ],
         "xaxis": "x",
         "y": [
          -3.4066771130481395
         ],
         "yaxis": "y"
        },
        {
         "hovertemplate": "date=2020-06-18<br>pc1=%{x}<br>pc2=%{y}<extra></extra>",
         "legendgroup": "2020-06-18",
         "marker": {
          "color": "#ab63fa",
          "symbol": "circle"
         },
         "mode": "markers",
         "name": "2020-06-18",
         "showlegend": true,
         "type": "scattergl",
         "x": [
          10.721727561826894
         ],
         "xaxis": "x",
         "y": [
          0.724501807473212
         ],
         "yaxis": "y"
        },
        {
         "hovertemplate": "date=2020-06-19<br>pc1=%{x}<br>pc2=%{y}<extra></extra>",
         "legendgroup": "2020-06-19",
         "marker": {
          "color": "#FFA15A",
          "symbol": "circle"
         },
         "mode": "markers",
         "name": "2020-06-19",
         "showlegend": true,
         "type": "scattergl",
         "x": [
          7.820187760858117
         ],
         "xaxis": "x",
         "y": [
          -2.2163701860531972
         ],
         "yaxis": "y"
        },
        {
         "hovertemplate": "date=2020-06-20<br>pc1=%{x}<br>pc2=%{y}<extra></extra>",
         "legendgroup": "2020-06-20",
         "marker": {
          "color": "#19d3f3",
          "symbol": "circle"
         },
         "mode": "markers",
         "name": "2020-06-20",
         "showlegend": true,
         "type": "scattergl",
         "x": [
          -15.923163393228027
         ],
         "xaxis": "x",
         "y": [
          0.7302091909440775
         ],
         "yaxis": "y"
        },
        {
         "hovertemplate": "date=2020-06-21<br>pc1=%{x}<br>pc2=%{y}<extra></extra>",
         "legendgroup": "2020-06-21",
         "marker": {
          "color": "#FF6692",
          "symbol": "circle"
         },
         "mode": "markers",
         "name": "2020-06-21",
         "showlegend": true,
         "type": "scattergl",
         "x": [
          -18.583805722384113
         ],
         "xaxis": "x",
         "y": [
          12.746982889286235
         ],
         "yaxis": "y"
        },
        {
         "hovertemplate": "date=2020-06-22<br>pc1=%{x}<br>pc2=%{y}<extra></extra>",
         "legendgroup": "2020-06-22",
         "marker": {
          "color": "#B6E880",
          "symbol": "circle"
         },
         "mode": "markers",
         "name": "2020-06-22",
         "showlegend": true,
         "type": "scattergl",
         "x": [
          6.891693489514434
         ],
         "xaxis": "x",
         "y": [
          -0.28936584701788665
         ],
         "yaxis": "y"
        },
        {
         "hovertemplate": "date=2020-06-23<br>pc1=%{x}<br>pc2=%{y}<extra></extra>",
         "legendgroup": "2020-06-23",
         "marker": {
          "color": "#FF97FF",
          "symbol": "circle"
         },
         "mode": "markers",
         "name": "2020-06-23",
         "showlegend": true,
         "type": "scattergl",
         "x": [
          8.142803142212777
         ],
         "xaxis": "x",
         "y": [
          -2.410903176510646
         ],
         "yaxis": "y"
        },
        {
         "hovertemplate": "date=2020-06-24<br>pc1=%{x}<br>pc2=%{y}<extra></extra>",
         "legendgroup": "2020-06-24",
         "marker": {
          "color": "#FECB52",
          "symbol": "circle"
         },
         "mode": "markers",
         "name": "2020-06-24",
         "showlegend": true,
         "type": "scattergl",
         "x": [
          9.542884137381778
         ],
         "xaxis": "x",
         "y": [
          0.16852355724660198
         ],
         "yaxis": "y"
        },
        {
         "hovertemplate": "date=2020-06-25<br>pc1=%{x}<br>pc2=%{y}<extra></extra>",
         "legendgroup": "2020-06-25",
         "marker": {
          "color": "#636efa",
          "symbol": "circle"
         },
         "mode": "markers",
         "name": "2020-06-25",
         "showlegend": true,
         "type": "scattergl",
         "x": [
          8.85682162517375
         ],
         "xaxis": "x",
         "y": [
          -0.7576717629110288
         ],
         "yaxis": "y"
        },
        {
         "hovertemplate": "date=2020-06-26<br>pc1=%{x}<br>pc2=%{y}<extra></extra>",
         "legendgroup": "2020-06-26",
         "marker": {
          "color": "#EF553B",
          "symbol": "circle"
         },
         "mode": "markers",
         "name": "2020-06-26",
         "showlegend": true,
         "type": "scattergl",
         "x": [
          9.668473459868268
         ],
         "xaxis": "x",
         "y": [
          -1.685358777431654
         ],
         "yaxis": "y"
        },
        {
         "hovertemplate": "date=2020-06-27<br>pc1=%{x}<br>pc2=%{y}<extra></extra>",
         "legendgroup": "2020-06-27",
         "marker": {
          "color": "#00cc96",
          "symbol": "circle"
         },
         "mode": "markers",
         "name": "2020-06-27",
         "showlegend": true,
         "type": "scattergl",
         "x": [
          -12.187455643122101
         ],
         "xaxis": "x",
         "y": [
          10.743908770756606
         ],
         "yaxis": "y"
        },
        {
         "hovertemplate": "date=2020-06-28<br>pc1=%{x}<br>pc2=%{y}<extra></extra>",
         "legendgroup": "2020-06-28",
         "marker": {
          "color": "#ab63fa",
          "symbol": "circle"
         },
         "mode": "markers",
         "name": "2020-06-28",
         "showlegend": true,
         "type": "scattergl",
         "x": [
          -16.912059095680434
         ],
         "xaxis": "x",
         "y": [
          14.85818498601746
         ],
         "yaxis": "y"
        },
        {
         "hovertemplate": "date=2020-06-29<br>pc1=%{x}<br>pc2=%{y}<extra></extra>",
         "legendgroup": "2020-06-29",
         "marker": {
          "color": "#FFA15A",
          "symbol": "circle"
         },
         "mode": "markers",
         "name": "2020-06-29",
         "showlegend": true,
         "type": "scattergl",
         "x": [
          7.717342175454574
         ],
         "xaxis": "x",
         "y": [
          2.1071751837326627
         ],
         "yaxis": "y"
        },
        {
         "hovertemplate": "date=2020-06-30<br>pc1=%{x}<br>pc2=%{y}<extra></extra>",
         "legendgroup": "2020-06-30",
         "marker": {
          "color": "#19d3f3",
          "symbol": "circle"
         },
         "mode": "markers",
         "name": "2020-06-30",
         "showlegend": true,
         "type": "scattergl",
         "x": [
          8.523697659876243
         ],
         "xaxis": "x",
         "y": [
          -2.689310173970803
         ],
         "yaxis": "y"
        },
        {
         "hovertemplate": "date=2020-07-01<br>pc1=%{x}<br>pc2=%{y}<extra></extra>",
         "legendgroup": "2020-07-01",
         "marker": {
          "color": "#FF6692",
          "symbol": "circle"
         },
         "mode": "markers",
         "name": "2020-07-01",
         "showlegend": true,
         "type": "scattergl",
         "x": [
          6.0600027067529565
         ],
         "xaxis": "x",
         "y": [
          -3.3097147615967755
         ],
         "yaxis": "y"
        },
        {
         "hovertemplate": "date=2020-07-02<br>pc1=%{x}<br>pc2=%{y}<extra></extra>",
         "legendgroup": "2020-07-02",
         "marker": {
          "color": "#B6E880",
          "symbol": "circle"
         },
         "mode": "markers",
         "name": "2020-07-02",
         "showlegend": true,
         "type": "scattergl",
         "x": [
          -1.839790864522072
         ],
         "xaxis": "x",
         "y": [
          -17.257292489376592
         ],
         "yaxis": "y"
        },
        {
         "hovertemplate": "date=2020-07-03<br>pc1=%{x}<br>pc2=%{y}<extra></extra>",
         "legendgroup": "2020-07-03",
         "marker": {
          "color": "#FF97FF",
          "symbol": "circle"
         },
         "mode": "markers",
         "name": "2020-07-03",
         "showlegend": true,
         "type": "scattergl",
         "x": [
          9.565504029170357
         ],
         "xaxis": "x",
         "y": [
          -4.601400708501946
         ],
         "yaxis": "y"
        },
        {
         "hovertemplate": "date=2020-07-04<br>pc1=%{x}<br>pc2=%{y}<extra></extra>",
         "legendgroup": "2020-07-04",
         "marker": {
          "color": "#FECB52",
          "symbol": "circle"
         },
         "mode": "markers",
         "name": "2020-07-04",
         "showlegend": true,
         "type": "scattergl",
         "x": [
          -15.122497665350554
         ],
         "xaxis": "x",
         "y": [
          0.42795984210861626
         ],
         "yaxis": "y"
        },
        {
         "hovertemplate": "date=2020-07-05<br>pc1=%{x}<br>pc2=%{y}<extra></extra>",
         "legendgroup": "2020-07-05",
         "marker": {
          "color": "#636efa",
          "symbol": "circle"
         },
         "mode": "markers",
         "name": "2020-07-05",
         "showlegend": true,
         "type": "scattergl",
         "x": [
          -16.40771580616047
         ],
         "xaxis": "x",
         "y": [
          14.789133988691235
         ],
         "yaxis": "y"
        },
        {
         "hovertemplate": "date=2020-07-06<br>pc1=%{x}<br>pc2=%{y}<extra></extra>",
         "legendgroup": "2020-07-06",
         "marker": {
          "color": "#EF553B",
          "symbol": "circle"
         },
         "mode": "markers",
         "name": "2020-07-06",
         "showlegend": true,
         "type": "scattergl",
         "x": [
          -0.9162151532089539
         ],
         "xaxis": "x",
         "y": [
          -9.320338961416272
         ],
         "yaxis": "y"
        },
        {
         "hovertemplate": "date=2020-07-07<br>pc1=%{x}<br>pc2=%{y}<extra></extra>",
         "legendgroup": "2020-07-07",
         "marker": {
          "color": "#00cc96",
          "symbol": "circle"
         },
         "mode": "markers",
         "name": "2020-07-07",
         "showlegend": true,
         "type": "scattergl",
         "x": [
          4.661769311665854
         ],
         "xaxis": "x",
         "y": [
          -8.545860207541484
         ],
         "yaxis": "y"
        },
        {
         "hovertemplate": "date=2020-07-08<br>pc1=%{x}<br>pc2=%{y}<extra></extra>",
         "legendgroup": "2020-07-08",
         "marker": {
          "color": "#ab63fa",
          "symbol": "circle"
         },
         "mode": "markers",
         "name": "2020-07-08",
         "showlegend": true,
         "type": "scattergl",
         "x": [
          7.739953147395096
         ],
         "xaxis": "x",
         "y": [
          -2.743504384707439
         ],
         "yaxis": "y"
        },
        {
         "hovertemplate": "date=2020-07-09<br>pc1=%{x}<br>pc2=%{y}<extra></extra>",
         "legendgroup": "2020-07-09",
         "marker": {
          "color": "#FFA15A",
          "symbol": "circle"
         },
         "mode": "markers",
         "name": "2020-07-09",
         "showlegend": true,
         "type": "scattergl",
         "x": [
          9.524962304188229
         ],
         "xaxis": "x",
         "y": [
          -0.8586422260031944
         ],
         "yaxis": "y"
        },
        {
         "hovertemplate": "date=2020-07-10<br>pc1=%{x}<br>pc2=%{y}<extra></extra>",
         "legendgroup": "2020-07-10",
         "marker": {
          "color": "#19d3f3",
          "symbol": "circle"
         },
         "mode": "markers",
         "name": "2020-07-10",
         "showlegend": true,
         "type": "scattergl",
         "x": [
          -2.5179679698517745
         ],
         "xaxis": "x",
         "y": [
          -18.648989530996893
         ],
         "yaxis": "y"
        },
        {
         "hovertemplate": "date=2020-07-11<br>pc1=%{x}<br>pc2=%{y}<extra></extra>",
         "legendgroup": "2020-07-11",
         "marker": {
          "color": "#FF6692",
          "symbol": "circle"
         },
         "mode": "markers",
         "name": "2020-07-11",
         "showlegend": true,
         "type": "scattergl",
         "x": [
          -18.13928174489968
         ],
         "xaxis": "x",
         "y": [
          -1.7360162002684731
         ],
         "yaxis": "y"
        },
        {
         "hovertemplate": "date=2020-07-12<br>pc1=%{x}<br>pc2=%{y}<extra></extra>",
         "legendgroup": "2020-07-12",
         "marker": {
          "color": "#B6E880",
          "symbol": "circle"
         },
         "mode": "markers",
         "name": "2020-07-12",
         "showlegend": true,
         "type": "scattergl",
         "x": [
          -25.440724611831676
         ],
         "xaxis": "x",
         "y": [
          -1.0800435753796807
         ],
         "yaxis": "y"
        },
        {
         "hovertemplate": "date=2020-07-13<br>pc1=%{x}<br>pc2=%{y}<extra></extra>",
         "legendgroup": "2020-07-13",
         "marker": {
          "color": "#FF97FF",
          "symbol": "circle"
         },
         "mode": "markers",
         "name": "2020-07-13",
         "showlegend": true,
         "type": "scattergl",
         "x": [
          3.478526489076404
         ],
         "xaxis": "x",
         "y": [
          -2.2323704549467407
         ],
         "yaxis": "y"
        },
        {
         "hovertemplate": "date=2020-07-14<br>pc1=%{x}<br>pc2=%{y}<extra></extra>",
         "legendgroup": "2020-07-14",
         "marker": {
          "color": "#FECB52",
          "symbol": "circle"
         },
         "mode": "markers",
         "name": "2020-07-14",
         "showlegend": true,
         "type": "scattergl",
         "x": [
          10.077652755227964
         ],
         "xaxis": "x",
         "y": [
          -0.2822896380718502
         ],
         "yaxis": "y"
        },
        {
         "hovertemplate": "date=2020-07-15<br>pc1=%{x}<br>pc2=%{y}<extra></extra>",
         "legendgroup": "2020-07-15",
         "marker": {
          "color": "#636efa",
          "symbol": "circle"
         },
         "mode": "markers",
         "name": "2020-07-15",
         "showlegend": true,
         "type": "scattergl",
         "x": [
          7.182311353852428
         ],
         "xaxis": "x",
         "y": [
          -5.860457927969119
         ],
         "yaxis": "y"
        },
        {
         "hovertemplate": "date=2020-07-16<br>pc1=%{x}<br>pc2=%{y}<extra></extra>",
         "legendgroup": "2020-07-16",
         "marker": {
          "color": "#EF553B",
          "symbol": "circle"
         },
         "mode": "markers",
         "name": "2020-07-16",
         "showlegend": true,
         "type": "scattergl",
         "x": [
          8.166859245722842
         ],
         "xaxis": "x",
         "y": [
          -2.3697656072882585
         ],
         "yaxis": "y"
        },
        {
         "hovertemplate": "date=2020-07-17<br>pc1=%{x}<br>pc2=%{y}<extra></extra>",
         "legendgroup": "2020-07-17",
         "marker": {
          "color": "#00cc96",
          "symbol": "circle"
         },
         "mode": "markers",
         "name": "2020-07-17",
         "showlegend": true,
         "type": "scattergl",
         "x": [
          -0.5970197240633579
         ],
         "xaxis": "x",
         "y": [
          -13.037036184431088
         ],
         "yaxis": "y"
        },
        {
         "hovertemplate": "date=2020-07-18<br>pc1=%{x}<br>pc2=%{y}<extra></extra>",
         "legendgroup": "2020-07-18",
         "marker": {
          "color": "#ab63fa",
          "symbol": "circle"
         },
         "mode": "markers",
         "name": "2020-07-18",
         "showlegend": true,
         "type": "scattergl",
         "x": [
          -11.875977290545837
         ],
         "xaxis": "x",
         "y": [
          8.151622574012446
         ],
         "yaxis": "y"
        },
        {
         "hovertemplate": "date=2020-07-19<br>pc1=%{x}<br>pc2=%{y}<extra></extra>",
         "legendgroup": "2020-07-19",
         "marker": {
          "color": "#FFA15A",
          "symbol": "circle"
         },
         "mode": "markers",
         "name": "2020-07-19",
         "showlegend": true,
         "type": "scattergl",
         "x": [
          -18.952245274042184
         ],
         "xaxis": "x",
         "y": [
          6.625926264107214
         ],
         "yaxis": "y"
        },
        {
         "hovertemplate": "date=2020-07-20<br>pc1=%{x}<br>pc2=%{y}<extra></extra>",
         "legendgroup": "2020-07-20",
         "marker": {
          "color": "#19d3f3",
          "symbol": "circle"
         },
         "mode": "markers",
         "name": "2020-07-20",
         "showlegend": true,
         "type": "scattergl",
         "x": [
          6.066689040291632
         ],
         "xaxis": "x",
         "y": [
          1.5570744013272968
         ],
         "yaxis": "y"
        },
        {
         "hovertemplate": "date=2020-07-21<br>pc1=%{x}<br>pc2=%{y}<extra></extra>",
         "legendgroup": "2020-07-21",
         "marker": {
          "color": "#FF6692",
          "symbol": "circle"
         },
         "mode": "markers",
         "name": "2020-07-21",
         "showlegend": true,
         "type": "scattergl",
         "x": [
          9.752624990530888
         ],
         "xaxis": "x",
         "y": [
          -1.5321170732898197
         ],
         "yaxis": "y"
        },
        {
         "hovertemplate": "date=2020-07-22<br>pc1=%{x}<br>pc2=%{y}<extra></extra>",
         "legendgroup": "2020-07-22",
         "marker": {
          "color": "#B6E880",
          "symbol": "circle"
         },
         "mode": "markers",
         "name": "2020-07-22",
         "showlegend": true,
         "type": "scattergl",
         "x": [
          10.068274628021896
         ],
         "xaxis": "x",
         "y": [
          0.15219119792197675
         ],
         "yaxis": "y"
        },
        {
         "hovertemplate": "date=2020-07-23<br>pc1=%{x}<br>pc2=%{y}<extra></extra>",
         "legendgroup": "2020-07-23",
         "marker": {
          "color": "#FF97FF",
          "symbol": "circle"
         },
         "mode": "markers",
         "name": "2020-07-23",
         "showlegend": true,
         "type": "scattergl",
         "x": [
          9.386788979389046
         ],
         "xaxis": "x",
         "y": [
          -0.6574881318666176
         ],
         "yaxis": "y"
        },
        {
         "hovertemplate": "date=2020-07-24<br>pc1=%{x}<br>pc2=%{y}<extra></extra>",
         "legendgroup": "2020-07-24",
         "marker": {
          "color": "#FECB52",
          "symbol": "circle"
         },
         "mode": "markers",
         "name": "2020-07-24",
         "showlegend": true,
         "type": "scattergl",
         "x": [
          5.900795076673529
         ],
         "xaxis": "x",
         "y": [
          -2.7165685529378654
         ],
         "yaxis": "y"
        },
        {
         "hovertemplate": "date=2020-07-25<br>pc1=%{x}<br>pc2=%{y}<extra></extra>",
         "legendgroup": "2020-07-25",
         "marker": {
          "color": "#636efa",
          "symbol": "circle"
         },
         "mode": "markers",
         "name": "2020-07-25",
         "showlegend": true,
         "type": "scattergl",
         "x": [
          -12.015293539157035
         ],
         "xaxis": "x",
         "y": [
          9.204051739834727
         ],
         "yaxis": "y"
        },
        {
         "hovertemplate": "date=2020-07-26<br>pc1=%{x}<br>pc2=%{y}<extra></extra>",
         "legendgroup": "2020-07-26",
         "marker": {
          "color": "#EF553B",
          "symbol": "circle"
         },
         "mode": "markers",
         "name": "2020-07-26",
         "showlegend": true,
         "type": "scattergl",
         "x": [
          -18.112431640974762
         ],
         "xaxis": "x",
         "y": [
          10.450805040107758
         ],
         "yaxis": "y"
        },
        {
         "hovertemplate": "date=2020-07-27<br>pc1=%{x}<br>pc2=%{y}<extra></extra>",
         "legendgroup": "2020-07-27",
         "marker": {
          "color": "#00cc96",
          "symbol": "circle"
         },
         "mode": "markers",
         "name": "2020-07-27",
         "showlegend": true,
         "type": "scattergl",
         "x": [
          7.564031545826369
         ],
         "xaxis": "x",
         "y": [
          2.347155587359147
         ],
         "yaxis": "y"
        },
        {
         "hovertemplate": "date=2020-07-28<br>pc1=%{x}<br>pc2=%{y}<extra></extra>",
         "legendgroup": "2020-07-28",
         "marker": {
          "color": "#ab63fa",
          "symbol": "circle"
         },
         "mode": "markers",
         "name": "2020-07-28",
         "showlegend": true,
         "type": "scattergl",
         "x": [
          11.243294797375627
         ],
         "xaxis": "x",
         "y": [
          1.6651180145478426
         ],
         "yaxis": "y"
        },
        {
         "hovertemplate": "date=2020-07-29<br>pc1=%{x}<br>pc2=%{y}<extra></extra>",
         "legendgroup": "2020-07-29",
         "marker": {
          "color": "#FFA15A",
          "symbol": "circle"
         },
         "mode": "markers",
         "name": "2020-07-29",
         "showlegend": true,
         "type": "scattergl",
         "x": [
          7.9704496937543405
         ],
         "xaxis": "x",
         "y": [
          -3.1258489083746435
         ],
         "yaxis": "y"
        },
        {
         "hovertemplate": "date=2020-07-30<br>pc1=%{x}<br>pc2=%{y}<extra></extra>",
         "legendgroup": "2020-07-30",
         "marker": {
          "color": "#19d3f3",
          "symbol": "circle"
         },
         "mode": "markers",
         "name": "2020-07-30",
         "showlegend": true,
         "type": "scattergl",
         "x": [
          8.928045100678288
         ],
         "xaxis": "x",
         "y": [
          -2.0453186556336447
         ],
         "yaxis": "y"
        },
        {
         "hovertemplate": "date=2020-07-31<br>pc1=%{x}<br>pc2=%{y}<extra></extra>",
         "legendgroup": "2020-07-31",
         "marker": {
          "color": "#FF6692",
          "symbol": "circle"
         },
         "mode": "markers",
         "name": "2020-07-31",
         "showlegend": true,
         "type": "scattergl",
         "x": [
          6.489918182380994
         ],
         "xaxis": "x",
         "y": [
          -1.1827803209425891
         ],
         "yaxis": "y"
        },
        {
         "hovertemplate": "date=2020-08-01<br>pc1=%{x}<br>pc2=%{y}<extra></extra>",
         "legendgroup": "2020-08-01",
         "marker": {
          "color": "#B6E880",
          "symbol": "circle"
         },
         "mode": "markers",
         "name": "2020-08-01",
         "showlegend": true,
         "type": "scattergl",
         "x": [
          -11.791193207482248
         ],
         "xaxis": "x",
         "y": [
          9.347607357828263
         ],
         "yaxis": "y"
        },
        {
         "hovertemplate": "date=2020-08-02<br>pc1=%{x}<br>pc2=%{y}<extra></extra>",
         "legendgroup": "2020-08-02",
         "marker": {
          "color": "#FF97FF",
          "symbol": "circle"
         },
         "mode": "markers",
         "name": "2020-08-02",
         "showlegend": true,
         "type": "scattergl",
         "x": [
          -22.665829642305386
         ],
         "xaxis": "x",
         "y": [
          1.2077045030061406
         ],
         "yaxis": "y"
        },
        {
         "hovertemplate": "date=2020-08-03<br>pc1=%{x}<br>pc2=%{y}<extra></extra>",
         "legendgroup": "2020-08-03",
         "marker": {
          "color": "#FECB52",
          "symbol": "circle"
         },
         "mode": "markers",
         "name": "2020-08-03",
         "showlegend": true,
         "type": "scattergl",
         "x": [
          5.158620791139513
         ],
         "xaxis": "x",
         "y": [
          0.24777557612187115
         ],
         "yaxis": "y"
        },
        {
         "hovertemplate": "date=2020-08-04<br>pc1=%{x}<br>pc2=%{y}<extra></extra>",
         "legendgroup": "2020-08-04",
         "marker": {
          "color": "#636efa",
          "symbol": "circle"
         },
         "mode": "markers",
         "name": "2020-08-04",
         "showlegend": true,
         "type": "scattergl",
         "x": [
          6.213459087989615
         ],
         "xaxis": "x",
         "y": [
          -6.340600940497937
         ],
         "yaxis": "y"
        },
        {
         "hovertemplate": "date=2020-08-05<br>pc1=%{x}<br>pc2=%{y}<extra></extra>",
         "legendgroup": "2020-08-05",
         "marker": {
          "color": "#EF553B",
          "symbol": "circle"
         },
         "mode": "markers",
         "name": "2020-08-05",
         "showlegend": true,
         "type": "scattergl",
         "x": [
          9.711373557680187
         ],
         "xaxis": "x",
         "y": [
          0.29083809857785925
         ],
         "yaxis": "y"
        },
        {
         "hovertemplate": "date=2020-08-06<br>pc1=%{x}<br>pc2=%{y}<extra></extra>",
         "legendgroup": "2020-08-06",
         "marker": {
          "color": "#00cc96",
          "symbol": "circle"
         },
         "mode": "markers",
         "name": "2020-08-06",
         "showlegend": true,
         "type": "scattergl",
         "x": [
          10.28347433866494
         ],
         "xaxis": "x",
         "y": [
          0.7064830220057932
         ],
         "yaxis": "y"
        },
        {
         "hovertemplate": "date=2020-08-07<br>pc1=%{x}<br>pc2=%{y}<extra></extra>",
         "legendgroup": "2020-08-07",
         "marker": {
          "color": "#ab63fa",
          "symbol": "circle"
         },
         "mode": "markers",
         "name": "2020-08-07",
         "showlegend": true,
         "type": "scattergl",
         "x": [
          3.5035963741289775
         ],
         "xaxis": "x",
         "y": [
          -4.826435040547413
         ],
         "yaxis": "y"
        },
        {
         "hovertemplate": "date=2020-08-08<br>pc1=%{x}<br>pc2=%{y}<extra></extra>",
         "legendgroup": "2020-08-08",
         "marker": {
          "color": "#FFA15A",
          "symbol": "circle"
         },
         "mode": "markers",
         "name": "2020-08-08",
         "showlegend": true,
         "type": "scattergl",
         "x": [
          -12.533160090383781
         ],
         "xaxis": "x",
         "y": [
          10.831326406939954
         ],
         "yaxis": "y"
        },
        {
         "hovertemplate": "date=2020-08-09<br>pc1=%{x}<br>pc2=%{y}<extra></extra>",
         "legendgroup": "2020-08-09",
         "marker": {
          "color": "#19d3f3",
          "symbol": "circle"
         },
         "mode": "markers",
         "name": "2020-08-09",
         "showlegend": true,
         "type": "scattergl",
         "x": [
          -20.21578697485423
         ],
         "xaxis": "x",
         "y": [
          9.641868993582756
         ],
         "yaxis": "y"
        },
        {
         "hovertemplate": "date=2020-08-10<br>pc1=%{x}<br>pc2=%{y}<extra></extra>",
         "legendgroup": "2020-08-10",
         "marker": {
          "color": "#FF6692",
          "symbol": "circle"
         },
         "mode": "markers",
         "name": "2020-08-10",
         "showlegend": true,
         "type": "scattergl",
         "x": [
          30.372554247633474
         ],
         "xaxis": "x",
         "y": [
          27.428763578205572
         ],
         "yaxis": "y"
        },
        {
         "hovertemplate": "date=2020-08-11<br>pc1=%{x}<br>pc2=%{y}<extra></extra>",
         "legendgroup": "2020-08-11",
         "marker": {
          "color": "#B6E880",
          "symbol": "circle"
         },
         "mode": "markers",
         "name": "2020-08-11",
         "showlegend": true,
         "type": "scattergl",
         "x": [
          33.270272170371015
         ],
         "xaxis": "x",
         "y": [
          36.16327902598842
         ],
         "yaxis": "y"
        },
        {
         "hovertemplate": "date=2020-08-12<br>pc1=%{x}<br>pc2=%{y}<extra></extra>",
         "legendgroup": "2020-08-12",
         "marker": {
          "color": "#FF97FF",
          "symbol": "circle"
         },
         "mode": "markers",
         "name": "2020-08-12",
         "showlegend": true,
         "type": "scattergl",
         "x": [
          17.344553883471413
         ],
         "xaxis": "x",
         "y": [
          13.752344305821719
         ],
         "yaxis": "y"
        },
        {
         "hovertemplate": "date=2020-08-13<br>pc1=%{x}<br>pc2=%{y}<extra></extra>",
         "legendgroup": "2020-08-13",
         "marker": {
          "color": "#FECB52",
          "symbol": "circle"
         },
         "mode": "markers",
         "name": "2020-08-13",
         "showlegend": true,
         "type": "scattergl",
         "x": [
          4.787174362042644
         ],
         "xaxis": "x",
         "y": [
          -5.4234533927330295
         ],
         "yaxis": "y"
        },
        {
         "hovertemplate": "date=2020-08-14<br>pc1=%{x}<br>pc2=%{y}<extra></extra>",
         "legendgroup": "2020-08-14",
         "marker": {
          "color": "#636efa",
          "symbol": "circle"
         },
         "mode": "markers",
         "name": "2020-08-14",
         "showlegend": true,
         "type": "scattergl",
         "x": [
          4.868479374951277
         ],
         "xaxis": "x",
         "y": [
          -4.2144349018391765
         ],
         "yaxis": "y"
        },
        {
         "hovertemplate": "date=2020-08-15<br>pc1=%{x}<br>pc2=%{y}<extra></extra>",
         "legendgroup": "2020-08-15",
         "marker": {
          "color": "#EF553B",
          "symbol": "circle"
         },
         "mode": "markers",
         "name": "2020-08-15",
         "showlegend": true,
         "type": "scattergl",
         "x": [
          -15.987040423547164
         ],
         "xaxis": "x",
         "y": [
          1.0495139794445114
         ],
         "yaxis": "y"
        },
        {
         "hovertemplate": "date=2020-08-16<br>pc1=%{x}<br>pc2=%{y}<extra></extra>",
         "legendgroup": "2020-08-16",
         "marker": {
          "color": "#00cc96",
          "symbol": "circle"
         },
         "mode": "markers",
         "name": "2020-08-16",
         "showlegend": true,
         "type": "scattergl",
         "x": [
          -21.172233757757233
         ],
         "xaxis": "x",
         "y": [
          5.950667010133506
         ],
         "yaxis": "y"
        },
        {
         "hovertemplate": "date=2020-08-17<br>pc1=%{x}<br>pc2=%{y}<extra></extra>",
         "legendgroup": "2020-08-17",
         "marker": {
          "color": "#ab63fa",
          "symbol": "circle"
         },
         "mode": "markers",
         "name": "2020-08-17",
         "showlegend": true,
         "type": "scattergl",
         "x": [
          6.046024732611261
         ],
         "xaxis": "x",
         "y": [
          1.7357926531290908
         ],
         "yaxis": "y"
        },
        {
         "hovertemplate": "date=2020-08-18<br>pc1=%{x}<br>pc2=%{y}<extra></extra>",
         "legendgroup": "2020-08-18",
         "marker": {
          "color": "#FFA15A",
          "symbol": "circle"
         },
         "mode": "markers",
         "name": "2020-08-18",
         "showlegend": true,
         "type": "scattergl",
         "x": [
          8.96644403090897
         ],
         "xaxis": "x",
         "y": [
          -0.9534393608557693
         ],
         "yaxis": "y"
        },
        {
         "hovertemplate": "date=2020-08-19<br>pc1=%{x}<br>pc2=%{y}<extra></extra>",
         "legendgroup": "2020-08-19",
         "marker": {
          "color": "#19d3f3",
          "symbol": "circle"
         },
         "mode": "markers",
         "name": "2020-08-19",
         "showlegend": true,
         "type": "scattergl",
         "x": [
          10.3776163719147
         ],
         "xaxis": "x",
         "y": [
          1.6211807540026861
         ],
         "yaxis": "y"
        },
        {
         "hovertemplate": "date=2020-08-20<br>pc1=%{x}<br>pc2=%{y}<extra></extra>",
         "legendgroup": "2020-08-20",
         "marker": {
          "color": "#FF6692",
          "symbol": "circle"
         },
         "mode": "markers",
         "name": "2020-08-20",
         "showlegend": true,
         "type": "scattergl",
         "x": [
          7.064924460928548
         ],
         "xaxis": "x",
         "y": [
          -3.9035911418593594
         ],
         "yaxis": "y"
        },
        {
         "hovertemplate": "date=2020-08-21<br>pc1=%{x}<br>pc2=%{y}<extra></extra>",
         "legendgroup": "2020-08-21",
         "marker": {
          "color": "#B6E880",
          "symbol": "circle"
         },
         "mode": "markers",
         "name": "2020-08-21",
         "showlegend": true,
         "type": "scattergl",
         "x": [
          8.951632379262938
         ],
         "xaxis": "x",
         "y": [
          1.707958218697558
         ],
         "yaxis": "y"
        },
        {
         "hovertemplate": "date=2020-08-22<br>pc1=%{x}<br>pc2=%{y}<extra></extra>",
         "legendgroup": "2020-08-22",
         "marker": {
          "color": "#FF97FF",
          "symbol": "circle"
         },
         "mode": "markers",
         "name": "2020-08-22",
         "showlegend": true,
         "type": "scattergl",
         "x": [
          -12.989597442492643
         ],
         "xaxis": "x",
         "y": [
          6.861330852020966
         ],
         "yaxis": "y"
        },
        {
         "hovertemplate": "date=2020-08-23<br>pc1=%{x}<br>pc2=%{y}<extra></extra>",
         "legendgroup": "2020-08-23",
         "marker": {
          "color": "#FECB52",
          "symbol": "circle"
         },
         "mode": "markers",
         "name": "2020-08-23",
         "showlegend": true,
         "type": "scattergl",
         "x": [
          -16.81411512850137
         ],
         "xaxis": "x",
         "y": [
          10.983781614384183
         ],
         "yaxis": "y"
        },
        {
         "hovertemplate": "date=2020-08-24<br>pc1=%{x}<br>pc2=%{y}<extra></extra>",
         "legendgroup": "2020-08-24",
         "marker": {
          "color": "#636efa",
          "symbol": "circle"
         },
         "mode": "markers",
         "name": "2020-08-24",
         "showlegend": true,
         "type": "scattergl",
         "x": [
          7.1631957631000835
         ],
         "xaxis": "x",
         "y": [
          2.178031239969798
         ],
         "yaxis": "y"
        },
        {
         "hovertemplate": "date=2020-08-25<br>pc1=%{x}<br>pc2=%{y}<extra></extra>",
         "legendgroup": "2020-08-25",
         "marker": {
          "color": "#EF553B",
          "symbol": "circle"
         },
         "mode": "markers",
         "name": "2020-08-25",
         "showlegend": true,
         "type": "scattergl",
         "x": [
          0.3050712485785507
         ],
         "xaxis": "x",
         "y": [
          -16.54302389484326
         ],
         "yaxis": "y"
        },
        {
         "hovertemplate": "date=2020-08-26<br>pc1=%{x}<br>pc2=%{y}<extra></extra>",
         "legendgroup": "2020-08-26",
         "marker": {
          "color": "#00cc96",
          "symbol": "circle"
         },
         "mode": "markers",
         "name": "2020-08-26",
         "showlegend": true,
         "type": "scattergl",
         "x": [
          6.0164435872657265
         ],
         "xaxis": "x",
         "y": [
          -5.751946261069693
         ],
         "yaxis": "y"
        },
        {
         "hovertemplate": "date=2020-08-27<br>pc1=%{x}<br>pc2=%{y}<extra></extra>",
         "legendgroup": "2020-08-27",
         "marker": {
          "color": "#ab63fa",
          "symbol": "circle"
         },
         "mode": "markers",
         "name": "2020-08-27",
         "showlegend": true,
         "type": "scattergl",
         "x": [
          11.386477192035482
         ],
         "xaxis": "x",
         "y": [
          2.482760366583343
         ],
         "yaxis": "y"
        },
        {
         "hovertemplate": "date=2020-08-28<br>pc1=%{x}<br>pc2=%{y}<extra></extra>",
         "legendgroup": "2020-08-28",
         "marker": {
          "color": "#FFA15A",
          "symbol": "circle"
         },
         "mode": "markers",
         "name": "2020-08-28",
         "showlegend": true,
         "type": "scattergl",
         "x": [
          6.348580208841296
         ],
         "xaxis": "x",
         "y": [
          -3.42415330424044
         ],
         "yaxis": "y"
        },
        {
         "hovertemplate": "date=2020-08-29<br>pc1=%{x}<br>pc2=%{y}<extra></extra>",
         "legendgroup": "2020-08-29",
         "marker": {
          "color": "#19d3f3",
          "symbol": "circle"
         },
         "mode": "markers",
         "name": "2020-08-29",
         "showlegend": true,
         "type": "scattergl",
         "x": [
          -11.45978865013787
         ],
         "xaxis": "x",
         "y": [
          9.24600278847913
         ],
         "yaxis": "y"
        },
        {
         "hovertemplate": "date=2020-08-30<br>pc1=%{x}<br>pc2=%{y}<extra></extra>",
         "legendgroup": "2020-08-30",
         "marker": {
          "color": "#FF6692",
          "symbol": "circle"
         },
         "mode": "markers",
         "name": "2020-08-30",
         "showlegend": true,
         "type": "scattergl",
         "x": [
          -19.38362195625991
         ],
         "xaxis": "x",
         "y": [
          7.776544003879473
         ],
         "yaxis": "y"
        },
        {
         "hovertemplate": "date=2020-08-31<br>pc1=%{x}<br>pc2=%{y}<extra></extra>",
         "legendgroup": "2020-08-31",
         "marker": {
          "color": "#B6E880",
          "symbol": "circle"
         },
         "mode": "markers",
         "name": "2020-08-31",
         "showlegend": true,
         "type": "scattergl",
         "x": [
          7.140066991889051
         ],
         "xaxis": "x",
         "y": [
          2.364739245650265
         ],
         "yaxis": "y"
        },
        {
         "hovertemplate": "date=2020-09-01<br>pc1=%{x}<br>pc2=%{y}<extra></extra>",
         "legendgroup": "2020-09-01",
         "marker": {
          "color": "#FF97FF",
          "symbol": "circle"
         },
         "mode": "markers",
         "name": "2020-09-01",
         "showlegend": true,
         "type": "scattergl",
         "x": [
          5.491163517232627
         ],
         "xaxis": "x",
         "y": [
          -9.073673284720371
         ],
         "yaxis": "y"
        },
        {
         "hovertemplate": "date=2020-09-02<br>pc1=%{x}<br>pc2=%{y}<extra></extra>",
         "legendgroup": "2020-09-02",
         "marker": {
          "color": "#FECB52",
          "symbol": "circle"
         },
         "mode": "markers",
         "name": "2020-09-02",
         "showlegend": true,
         "type": "scattergl",
         "x": [
          9.080578796430379
         ],
         "xaxis": "x",
         "y": [
          0.0016227653189717802
         ],
         "yaxis": "y"
        },
        {
         "hovertemplate": "date=2020-09-03<br>pc1=%{x}<br>pc2=%{y}<extra></extra>",
         "legendgroup": "2020-09-03",
         "marker": {
          "color": "#636efa",
          "symbol": "circle"
         },
         "mode": "markers",
         "name": "2020-09-03",
         "showlegend": true,
         "type": "scattergl",
         "x": [
          8.851037652216835
         ],
         "xaxis": "x",
         "y": [
          0.045790170682198976
         ],
         "yaxis": "y"
        },
        {
         "hovertemplate": "date=2020-09-04<br>pc1=%{x}<br>pc2=%{y}<extra></extra>",
         "legendgroup": "2020-09-04",
         "marker": {
          "color": "#EF553B",
          "symbol": "circle"
         },
         "mode": "markers",
         "name": "2020-09-04",
         "showlegend": true,
         "type": "scattergl",
         "x": [
          4.439000068653651
         ],
         "xaxis": "x",
         "y": [
          -1.6623958078844852
         ],
         "yaxis": "y"
        },
        {
         "hovertemplate": "date=2020-09-05<br>pc1=%{x}<br>pc2=%{y}<extra></extra>",
         "legendgroup": "2020-09-05",
         "marker": {
          "color": "#00cc96",
          "symbol": "circle"
         },
         "mode": "markers",
         "name": "2020-09-05",
         "showlegend": true,
         "type": "scattergl",
         "x": [
          -14.011365588219993
         ],
         "xaxis": "x",
         "y": [
          10.040693789314133
         ],
         "yaxis": "y"
        },
        {
         "hovertemplate": "date=2020-09-06<br>pc1=%{x}<br>pc2=%{y}<extra></extra>",
         "legendgroup": "2020-09-06",
         "marker": {
          "color": "#ab63fa",
          "symbol": "circle"
         },
         "mode": "markers",
         "name": "2020-09-06",
         "showlegend": true,
         "type": "scattergl",
         "x": [
          -20.65023785592513
         ],
         "xaxis": "x",
         "y": [
          7.220797504903634
         ],
         "yaxis": "y"
        },
        {
         "hovertemplate": "date=2020-09-07<br>pc1=%{x}<br>pc2=%{y}<extra></extra>",
         "legendgroup": "2020-09-07",
         "marker": {
          "color": "#FFA15A",
          "symbol": "circle"
         },
         "mode": "markers",
         "name": "2020-09-07",
         "showlegend": true,
         "type": "scattergl",
         "x": [
          12.103242221163148
         ],
         "xaxis": "x",
         "y": [
          -4.404210881818646
         ],
         "yaxis": "y"
        },
        {
         "hovertemplate": "date=2020-09-08<br>pc1=%{x}<br>pc2=%{y}<extra></extra>",
         "legendgroup": "2020-09-08",
         "marker": {
          "color": "#19d3f3",
          "symbol": "circle"
         },
         "mode": "markers",
         "name": "2020-09-08",
         "showlegend": true,
         "type": "scattergl",
         "x": [
          10.714214089205578
         ],
         "xaxis": "x",
         "y": [
          -0.7475172475103342
         ],
         "yaxis": "y"
        },
        {
         "hovertemplate": "date=2020-09-09<br>pc1=%{x}<br>pc2=%{y}<extra></extra>",
         "legendgroup": "2020-09-09",
         "marker": {
          "color": "#FF6692",
          "symbol": "circle"
         },
         "mode": "markers",
         "name": "2020-09-09",
         "showlegend": true,
         "type": "scattergl",
         "x": [
          6.539400517855531
         ],
         "xaxis": "x",
         "y": [
          -1.315677194108312
         ],
         "yaxis": "y"
        },
        {
         "hovertemplate": "date=2020-09-10<br>pc1=%{x}<br>pc2=%{y}<extra></extra>",
         "legendgroup": "2020-09-10",
         "marker": {
          "color": "#B6E880",
          "symbol": "circle"
         },
         "mode": "markers",
         "name": "2020-09-10",
         "showlegend": true,
         "type": "scattergl",
         "x": [
          8.302315360775257
         ],
         "xaxis": "x",
         "y": [
          1.826665460788563
         ],
         "yaxis": "y"
        },
        {
         "hovertemplate": "date=2020-09-11<br>pc1=%{x}<br>pc2=%{y}<extra></extra>",
         "legendgroup": "2020-09-11",
         "marker": {
          "color": "#FF97FF",
          "symbol": "circle"
         },
         "mode": "markers",
         "name": "2020-09-11",
         "showlegend": true,
         "type": "scattergl",
         "x": [
          6.169638114578689
         ],
         "xaxis": "x",
         "y": [
          -1.5953412394144162
         ],
         "yaxis": "y"
        },
        {
         "hovertemplate": "date=2020-09-12<br>pc1=%{x}<br>pc2=%{y}<extra></extra>",
         "legendgroup": "2020-09-12",
         "marker": {
          "color": "#FECB52",
          "symbol": "circle"
         },
         "mode": "markers",
         "name": "2020-09-12",
         "showlegend": true,
         "type": "scattergl",
         "x": [
          -9.520394983756344
         ],
         "xaxis": "x",
         "y": [
          9.321381442646503
         ],
         "yaxis": "y"
        },
        {
         "hovertemplate": "date=2020-09-13<br>pc1=%{x}<br>pc2=%{y}<extra></extra>",
         "legendgroup": "2020-09-13",
         "marker": {
          "color": "#636efa",
          "symbol": "circle"
         },
         "mode": "markers",
         "name": "2020-09-13",
         "showlegend": true,
         "type": "scattergl",
         "x": [
          -17.109304778610632
         ],
         "xaxis": "x",
         "y": [
          12.207601509516415
         ],
         "yaxis": "y"
        },
        {
         "hovertemplate": "date=2020-09-14<br>pc1=%{x}<br>pc2=%{y}<extra></extra>",
         "legendgroup": "2020-09-14",
         "marker": {
          "color": "#EF553B",
          "symbol": "circle"
         },
         "mode": "markers",
         "name": "2020-09-14",
         "showlegend": true,
         "type": "scattergl",
         "x": [
          5.3737221297584075
         ],
         "xaxis": "x",
         "y": [
          -0.4249022754660529
         ],
         "yaxis": "y"
        },
        {
         "hovertemplate": "date=2020-09-15<br>pc1=%{x}<br>pc2=%{y}<extra></extra>",
         "legendgroup": "2020-09-15",
         "marker": {
          "color": "#00cc96",
          "symbol": "circle"
         },
         "mode": "markers",
         "name": "2020-09-15",
         "showlegend": true,
         "type": "scattergl",
         "x": [
          8.912500991961537
         ],
         "xaxis": "x",
         "y": [
          -1.3747367194681135
         ],
         "yaxis": "y"
        },
        {
         "hovertemplate": "date=2020-09-16<br>pc1=%{x}<br>pc2=%{y}<extra></extra>",
         "legendgroup": "2020-09-16",
         "marker": {
          "color": "#ab63fa",
          "symbol": "circle"
         },
         "mode": "markers",
         "name": "2020-09-16",
         "showlegend": true,
         "type": "scattergl",
         "x": [
          6.056370849468178
         ],
         "xaxis": "x",
         "y": [
          -4.176811468906642
         ],
         "yaxis": "y"
        },
        {
         "hovertemplate": "date=2020-09-17<br>pc1=%{x}<br>pc2=%{y}<extra></extra>",
         "legendgroup": "2020-09-17",
         "marker": {
          "color": "#FFA15A",
          "symbol": "circle"
         },
         "mode": "markers",
         "name": "2020-09-17",
         "showlegend": true,
         "type": "scattergl",
         "x": [
          7.19110083915932
         ],
         "xaxis": "x",
         "y": [
          -3.8350774467647546
         ],
         "yaxis": "y"
        },
        {
         "hovertemplate": "date=2020-09-18<br>pc1=%{x}<br>pc2=%{y}<extra></extra>",
         "legendgroup": "2020-09-18",
         "marker": {
          "color": "#19d3f3",
          "symbol": "circle"
         },
         "mode": "markers",
         "name": "2020-09-18",
         "showlegend": true,
         "type": "scattergl",
         "x": [
          8.433448858172788
         ],
         "xaxis": "x",
         "y": [
          1.1726333439701153
         ],
         "yaxis": "y"
        },
        {
         "hovertemplate": "date=2020-09-19<br>pc1=%{x}<br>pc2=%{y}<extra></extra>",
         "legendgroup": "2020-09-19",
         "marker": {
          "color": "#FF6692",
          "symbol": "circle"
         },
         "mode": "markers",
         "name": "2020-09-19",
         "showlegend": true,
         "type": "scattergl",
         "x": [
          -17.155885592774354
         ],
         "xaxis": "x",
         "y": [
          0.9467403018537944
         ],
         "yaxis": "y"
        },
        {
         "hovertemplate": "date=2020-09-20<br>pc1=%{x}<br>pc2=%{y}<extra></extra>",
         "legendgroup": "2020-09-20",
         "marker": {
          "color": "#B6E880",
          "symbol": "circle"
         },
         "mode": "markers",
         "name": "2020-09-20",
         "showlegend": true,
         "type": "scattergl",
         "x": [
          -17.859422374738593
         ],
         "xaxis": "x",
         "y": [
          8.890858296902081
         ],
         "yaxis": "y"
        },
        {
         "hovertemplate": "date=2020-09-21<br>pc1=%{x}<br>pc2=%{y}<extra></extra>",
         "legendgroup": "2020-09-21",
         "marker": {
          "color": "#FF97FF",
          "symbol": "circle"
         },
         "mode": "markers",
         "name": "2020-09-21",
         "showlegend": true,
         "type": "scattergl",
         "x": [
          4.632270117826773
         ],
         "xaxis": "x",
         "y": [
          -2.265373516543746
         ],
         "yaxis": "y"
        },
        {
         "hovertemplate": "date=2020-09-22<br>pc1=%{x}<br>pc2=%{y}<extra></extra>",
         "legendgroup": "2020-09-22",
         "marker": {
          "color": "#FECB52",
          "symbol": "circle"
         },
         "mode": "markers",
         "name": "2020-09-22",
         "showlegend": true,
         "type": "scattergl",
         "x": [
          11.523383791090069
         ],
         "xaxis": "x",
         "y": [
          2.118029653837764
         ],
         "yaxis": "y"
        },
        {
         "hovertemplate": "date=2020-09-23<br>pc1=%{x}<br>pc2=%{y}<extra></extra>",
         "legendgroup": "2020-09-23",
         "marker": {
          "color": "#636efa",
          "symbol": "circle"
         },
         "mode": "markers",
         "name": "2020-09-23",
         "showlegend": true,
         "type": "scattergl",
         "x": [
          7.665658023128413
         ],
         "xaxis": "x",
         "y": [
          -2.5815321368278834
         ],
         "yaxis": "y"
        },
        {
         "hovertemplate": "date=2020-09-24<br>pc1=%{x}<br>pc2=%{y}<extra></extra>",
         "legendgroup": "2020-09-24",
         "marker": {
          "color": "#EF553B",
          "symbol": "circle"
         },
         "mode": "markers",
         "name": "2020-09-24",
         "showlegend": true,
         "type": "scattergl",
         "x": [
          9.683756221719221
         ],
         "xaxis": "x",
         "y": [
          -0.47564518677738327
         ],
         "yaxis": "y"
        },
        {
         "hovertemplate": "date=2020-09-25<br>pc1=%{x}<br>pc2=%{y}<extra></extra>",
         "legendgroup": "2020-09-25",
         "marker": {
          "color": "#00cc96",
          "symbol": "circle"
         },
         "mode": "markers",
         "name": "2020-09-25",
         "showlegend": true,
         "type": "scattergl",
         "x": [
          5.803327312427549
         ],
         "xaxis": "x",
         "y": [
          -2.23655935127755
         ],
         "yaxis": "y"
        },
        {
         "hovertemplate": "date=2020-09-26<br>pc1=%{x}<br>pc2=%{y}<extra></extra>",
         "legendgroup": "2020-09-26",
         "marker": {
          "color": "#ab63fa",
          "symbol": "circle"
         },
         "mode": "markers",
         "name": "2020-09-26",
         "showlegend": true,
         "type": "scattergl",
         "x": [
          -13.223945669082521
         ],
         "xaxis": "x",
         "y": [
          7.083083352586832
         ],
         "yaxis": "y"
        },
        {
         "hovertemplate": "date=2020-09-27<br>pc1=%{x}<br>pc2=%{y}<extra></extra>",
         "legendgroup": "2020-09-27",
         "marker": {
          "color": "#FFA15A",
          "symbol": "circle"
         },
         "mode": "markers",
         "name": "2020-09-27",
         "showlegend": true,
         "type": "scattergl",
         "x": [
          -15.91651096998454
         ],
         "xaxis": "x",
         "y": [
          12.08104353606511
         ],
         "yaxis": "y"
        },
        {
         "hovertemplate": "date=2020-09-28<br>pc1=%{x}<br>pc2=%{y}<extra></extra>",
         "legendgroup": "2020-09-28",
         "marker": {
          "color": "#19d3f3",
          "symbol": "circle"
         },
         "mode": "markers",
         "name": "2020-09-28",
         "showlegend": true,
         "type": "scattergl",
         "x": [
          7.007535756232965
         ],
         "xaxis": "x",
         "y": [
          0.8388766994251611
         ],
         "yaxis": "y"
        },
        {
         "hovertemplate": "date=2020-09-29<br>pc1=%{x}<br>pc2=%{y}<extra></extra>",
         "legendgroup": "2020-09-29",
         "marker": {
          "color": "#FF6692",
          "symbol": "circle"
         },
         "mode": "markers",
         "name": "2020-09-29",
         "showlegend": true,
         "type": "scattergl",
         "x": [
          10.656022979737966
         ],
         "xaxis": "x",
         "y": [
          0.8951584242541499
         ],
         "yaxis": "y"
        },
        {
         "hovertemplate": "date=2020-09-30<br>pc1=%{x}<br>pc2=%{y}<extra></extra>",
         "legendgroup": "2020-09-30",
         "marker": {
          "color": "#B6E880",
          "symbol": "circle"
         },
         "mode": "markers",
         "name": "2020-09-30",
         "showlegend": true,
         "type": "scattergl",
         "x": [
          9.012264276879428
         ],
         "xaxis": "x",
         "y": [
          -0.6605708429801168
         ],
         "yaxis": "y"
        },
        {
         "hovertemplate": "date=2020-10-01<br>pc1=%{x}<br>pc2=%{y}<extra></extra>",
         "legendgroup": "2020-10-01",
         "marker": {
          "color": "#FF97FF",
          "symbol": "circle"
         },
         "mode": "markers",
         "name": "2020-10-01",
         "showlegend": true,
         "type": "scattergl",
         "x": [
          11.10750612122677
         ],
         "xaxis": "x",
         "y": [
          2.9927223509911864
         ],
         "yaxis": "y"
        },
        {
         "hovertemplate": "date=2020-10-02<br>pc1=%{x}<br>pc2=%{y}<extra></extra>",
         "legendgroup": "2020-10-02",
         "marker": {
          "color": "#FECB52",
          "symbol": "circle"
         },
         "mode": "markers",
         "name": "2020-10-02",
         "showlegend": true,
         "type": "scattergl",
         "x": [
          6.411648289263768
         ],
         "xaxis": "x",
         "y": [
          -0.36893208600329225
         ],
         "yaxis": "y"
        },
        {
         "hovertemplate": "date=2020-10-03<br>pc1=%{x}<br>pc2=%{y}<extra></extra>",
         "legendgroup": "2020-10-03",
         "marker": {
          "color": "#636efa",
          "symbol": "circle"
         },
         "mode": "markers",
         "name": "2020-10-03",
         "showlegend": true,
         "type": "scattergl",
         "x": [
          -10.185139634958787
         ],
         "xaxis": "x",
         "y": [
          10.818468913142734
         ],
         "yaxis": "y"
        },
        {
         "hovertemplate": "date=2020-10-04<br>pc1=%{x}<br>pc2=%{y}<extra></extra>",
         "legendgroup": "2020-10-04",
         "marker": {
          "color": "#EF553B",
          "symbol": "circle"
         },
         "mode": "markers",
         "name": "2020-10-04",
         "showlegend": true,
         "type": "scattergl",
         "x": [
          -16.55514502403019
         ],
         "xaxis": "x",
         "y": [
          9.863958891020665
         ],
         "yaxis": "y"
        },
        {
         "hovertemplate": "date=2020-10-05<br>pc1=%{x}<br>pc2=%{y}<extra></extra>",
         "legendgroup": "2020-10-05",
         "marker": {
          "color": "#00cc96",
          "symbol": "circle"
         },
         "mode": "markers",
         "name": "2020-10-05",
         "showlegend": true,
         "type": "scattergl",
         "x": [
          7.626334727990817
         ],
         "xaxis": "x",
         "y": [
          3.0490929969526346
         ],
         "yaxis": "y"
        },
        {
         "hovertemplate": "date=2020-10-06<br>pc1=%{x}<br>pc2=%{y}<extra></extra>",
         "legendgroup": "2020-10-06",
         "marker": {
          "color": "#ab63fa",
          "symbol": "circle"
         },
         "mode": "markers",
         "name": "2020-10-06",
         "showlegend": true,
         "type": "scattergl",
         "x": [
          9.623216433852756
         ],
         "xaxis": "x",
         "y": [
          -1.3037470228304642
         ],
         "yaxis": "y"
        },
        {
         "hovertemplate": "date=2020-10-07<br>pc1=%{x}<br>pc2=%{y}<extra></extra>",
         "legendgroup": "2020-10-07",
         "marker": {
          "color": "#FFA15A",
          "symbol": "circle"
         },
         "mode": "markers",
         "name": "2020-10-07",
         "showlegend": true,
         "type": "scattergl",
         "x": [
          9.73803717805924
         ],
         "xaxis": "x",
         "y": [
          0.6484793262784873
         ],
         "yaxis": "y"
        },
        {
         "hovertemplate": "date=2020-10-08<br>pc1=%{x}<br>pc2=%{y}<extra></extra>",
         "legendgroup": "2020-10-08",
         "marker": {
          "color": "#19d3f3",
          "symbol": "circle"
         },
         "mode": "markers",
         "name": "2020-10-08",
         "showlegend": true,
         "type": "scattergl",
         "x": [
          8.835466339219812
         ],
         "xaxis": "x",
         "y": [
          -1.2669730457315782
         ],
         "yaxis": "y"
        },
        {
         "hovertemplate": "date=2020-10-09<br>pc1=%{x}<br>pc2=%{y}<extra></extra>",
         "legendgroup": "2020-10-09",
         "marker": {
          "color": "#FF6692",
          "symbol": "circle"
         },
         "mode": "markers",
         "name": "2020-10-09",
         "showlegend": true,
         "type": "scattergl",
         "x": [
          7.496410777018887
         ],
         "xaxis": "x",
         "y": [
          1.7389771091499902
         ],
         "yaxis": "y"
        },
        {
         "hovertemplate": "date=2020-10-10<br>pc1=%{x}<br>pc2=%{y}<extra></extra>",
         "legendgroup": "2020-10-10",
         "marker": {
          "color": "#B6E880",
          "symbol": "circle"
         },
         "mode": "markers",
         "name": "2020-10-10",
         "showlegend": true,
         "type": "scattergl",
         "x": [
          -14.138201437371304
         ],
         "xaxis": "x",
         "y": [
          5.807403636000901
         ],
         "yaxis": "y"
        },
        {
         "hovertemplate": "date=2020-10-11<br>pc1=%{x}<br>pc2=%{y}<extra></extra>",
         "legendgroup": "2020-10-11",
         "marker": {
          "color": "#FF97FF",
          "symbol": "circle"
         },
         "mode": "markers",
         "name": "2020-10-11",
         "showlegend": true,
         "type": "scattergl",
         "x": [
          -14.865026670708188
         ],
         "xaxis": "x",
         "y": [
          14.084063858287097
         ],
         "yaxis": "y"
        },
        {
         "hovertemplate": "date=2020-10-12<br>pc1=%{x}<br>pc2=%{y}<extra></extra>",
         "legendgroup": "2020-10-12",
         "marker": {
          "color": "#FECB52",
          "symbol": "circle"
         },
         "mode": "markers",
         "name": "2020-10-12",
         "showlegend": true,
         "type": "scattergl",
         "x": [
          7.288197759920775
         ],
         "xaxis": "x",
         "y": [
          -2.9638683352269917
         ],
         "yaxis": "y"
        },
        {
         "hovertemplate": "date=2020-10-13<br>pc1=%{x}<br>pc2=%{y}<extra></extra>",
         "legendgroup": "2020-10-13",
         "marker": {
          "color": "#636efa",
          "symbol": "circle"
         },
         "mode": "markers",
         "name": "2020-10-13",
         "showlegend": true,
         "type": "scattergl",
         "x": [
          10.30365472383154
         ],
         "xaxis": "x",
         "y": [
          2.0133214876081142
         ],
         "yaxis": "y"
        },
        {
         "hovertemplate": "date=2020-10-14<br>pc1=%{x}<br>pc2=%{y}<extra></extra>",
         "legendgroup": "2020-10-14",
         "marker": {
          "color": "#EF553B",
          "symbol": "circle"
         },
         "mode": "markers",
         "name": "2020-10-14",
         "showlegend": true,
         "type": "scattergl",
         "x": [
          8.280657628708799
         ],
         "xaxis": "x",
         "y": [
          -0.21844625171149126
         ],
         "yaxis": "y"
        },
        {
         "hovertemplate": "date=2020-10-15<br>pc1=%{x}<br>pc2=%{y}<extra></extra>",
         "legendgroup": "2020-10-15",
         "marker": {
          "color": "#00cc96",
          "symbol": "circle"
         },
         "mode": "markers",
         "name": "2020-10-15",
         "showlegend": true,
         "type": "scattergl",
         "x": [
          9.870788441457035
         ],
         "xaxis": "x",
         "y": [
          1.7789336297639087
         ],
         "yaxis": "y"
        },
        {
         "hovertemplate": "date=2020-10-16<br>pc1=%{x}<br>pc2=%{y}<extra></extra>",
         "legendgroup": "2020-10-16",
         "marker": {
          "color": "#ab63fa",
          "symbol": "circle"
         },
         "mode": "markers",
         "name": "2020-10-16",
         "showlegend": true,
         "type": "scattergl",
         "x": [
          8.724537063378163
         ],
         "xaxis": "x",
         "y": [
          2.1791669027295417
         ],
         "yaxis": "y"
        },
        {
         "hovertemplate": "date=2020-10-17<br>pc1=%{x}<br>pc2=%{y}<extra></extra>",
         "legendgroup": "2020-10-17",
         "marker": {
          "color": "#FFA15A",
          "symbol": "circle"
         },
         "mode": "markers",
         "name": "2020-10-17",
         "showlegend": true,
         "type": "scattergl",
         "x": [
          -14.597640244923394
         ],
         "xaxis": "x",
         "y": [
          4.326305337232033
         ],
         "yaxis": "y"
        },
        {
         "hovertemplate": "date=2020-10-18<br>pc1=%{x}<br>pc2=%{y}<extra></extra>",
         "legendgroup": "2020-10-18",
         "marker": {
          "color": "#19d3f3",
          "symbol": "circle"
         },
         "mode": "markers",
         "name": "2020-10-18",
         "showlegend": true,
         "type": "scattergl",
         "x": [
          -14.176020283605371
         ],
         "xaxis": "x",
         "y": [
          12.52869328875556
         ],
         "yaxis": "y"
        },
        {
         "hovertemplate": "date=2020-10-19<br>pc1=%{x}<br>pc2=%{y}<extra></extra>",
         "legendgroup": "2020-10-19",
         "marker": {
          "color": "#FF6692",
          "symbol": "circle"
         },
         "mode": "markers",
         "name": "2020-10-19",
         "showlegend": true,
         "type": "scattergl",
         "x": [
          6.103320174304237
         ],
         "xaxis": "x",
         "y": [
          0.3549395066111954
         ],
         "yaxis": "y"
        },
        {
         "hovertemplate": "date=2020-10-20<br>pc1=%{x}<br>pc2=%{y}<extra></extra>",
         "legendgroup": "2020-10-20",
         "marker": {
          "color": "#B6E880",
          "symbol": "circle"
         },
         "mode": "markers",
         "name": "2020-10-20",
         "showlegend": true,
         "type": "scattergl",
         "x": [
          10.766750031238853
         ],
         "xaxis": "x",
         "y": [
          1.1639178933167977
         ],
         "yaxis": "y"
        },
        {
         "hovertemplate": "date=2020-10-21<br>pc1=%{x}<br>pc2=%{y}<extra></extra>",
         "legendgroup": "2020-10-21",
         "marker": {
          "color": "#FF97FF",
          "symbol": "circle"
         },
         "mode": "markers",
         "name": "2020-10-21",
         "showlegend": true,
         "type": "scattergl",
         "x": [
          9.708018304134214
         ],
         "xaxis": "x",
         "y": [
          1.7352287285400798
         ],
         "yaxis": "y"
        },
        {
         "hovertemplate": "date=2020-10-22<br>pc1=%{x}<br>pc2=%{y}<extra></extra>",
         "legendgroup": "2020-10-22",
         "marker": {
          "color": "#FECB52",
          "symbol": "circle"
         },
         "mode": "markers",
         "name": "2020-10-22",
         "showlegend": true,
         "type": "scattergl",
         "x": [
          8.620267063155621
         ],
         "xaxis": "x",
         "y": [
          -0.4107417738868029
         ],
         "yaxis": "y"
        },
        {
         "hovertemplate": "date=2020-10-23<br>pc1=%{x}<br>pc2=%{y}<extra></extra>",
         "legendgroup": "2020-10-23",
         "marker": {
          "color": "#636efa",
          "symbol": "circle"
         },
         "mode": "markers",
         "name": "2020-10-23",
         "showlegend": true,
         "type": "scattergl",
         "x": [
          7.764836125792913
         ],
         "xaxis": "x",
         "y": [
          -2.252863093739333
         ],
         "yaxis": "y"
        },
        {
         "hovertemplate": "date=2020-10-24<br>pc1=%{x}<br>pc2=%{y}<extra></extra>",
         "legendgroup": "2020-10-24",
         "marker": {
          "color": "#EF553B",
          "symbol": "circle"
         },
         "mode": "markers",
         "name": "2020-10-24",
         "showlegend": true,
         "type": "scattergl",
         "x": [
          -10.002303832607499
         ],
         "xaxis": "x",
         "y": [
          12.727375981319904
         ],
         "yaxis": "y"
        },
        {
         "hovertemplate": "date=2020-10-25<br>pc1=%{x}<br>pc2=%{y}<extra></extra>",
         "legendgroup": "2020-10-25",
         "marker": {
          "color": "#00cc96",
          "symbol": "circle"
         },
         "mode": "markers",
         "name": "2020-10-25",
         "showlegend": true,
         "type": "scattergl",
         "x": [
          -15.978381744388136
         ],
         "xaxis": "x",
         "y": [
          12.549981384045067
         ],
         "yaxis": "y"
        },
        {
         "hovertemplate": "date=2020-10-26<br>pc1=%{x}<br>pc2=%{y}<extra></extra>",
         "legendgroup": "2020-10-26",
         "marker": {
          "color": "#ab63fa",
          "symbol": "circle"
         },
         "mode": "markers",
         "name": "2020-10-26",
         "showlegend": true,
         "type": "scattergl",
         "x": [
          7.681430726235175
         ],
         "xaxis": "x",
         "y": [
          2.7944696684585155
         ],
         "yaxis": "y"
        },
        {
         "hovertemplate": "date=2020-10-27<br>pc1=%{x}<br>pc2=%{y}<extra></extra>",
         "legendgroup": "2020-10-27",
         "marker": {
          "color": "#FFA15A",
          "symbol": "circle"
         },
         "mode": "markers",
         "name": "2020-10-27",
         "showlegend": true,
         "type": "scattergl",
         "x": [
          8.947306947126172
         ],
         "xaxis": "x",
         "y": [
          -3.0407789081461605
         ],
         "yaxis": "y"
        },
        {
         "hovertemplate": "date=2020-10-28<br>pc1=%{x}<br>pc2=%{y}<extra></extra>",
         "legendgroup": "2020-10-28",
         "marker": {
          "color": "#19d3f3",
          "symbol": "circle"
         },
         "mode": "markers",
         "name": "2020-10-28",
         "showlegend": true,
         "type": "scattergl",
         "x": [
          10.266473786275228
         ],
         "xaxis": "x",
         "y": [
          2.2710691306726045
         ],
         "yaxis": "y"
        },
        {
         "hovertemplate": "date=2020-10-29<br>pc1=%{x}<br>pc2=%{y}<extra></extra>",
         "legendgroup": "2020-10-29",
         "marker": {
          "color": "#FF6692",
          "symbol": "circle"
         },
         "mode": "markers",
         "name": "2020-10-29",
         "showlegend": true,
         "type": "scattergl",
         "x": [
          8.833177214447646
         ],
         "xaxis": "x",
         "y": [
          -1.1408326902046826
         ],
         "yaxis": "y"
        },
        {
         "hovertemplate": "date=2020-10-30<br>pc1=%{x}<br>pc2=%{y}<extra></extra>",
         "legendgroup": "2020-10-30",
         "marker": {
          "color": "#B6E880",
          "symbol": "circle"
         },
         "mode": "markers",
         "name": "2020-10-30",
         "showlegend": true,
         "type": "scattergl",
         "x": [
          6.220556685092734
         ],
         "xaxis": "x",
         "y": [
          -0.7736256238299506
         ],
         "yaxis": "y"
        },
        {
         "hovertemplate": "date=2020-10-31<br>pc1=%{x}<br>pc2=%{y}<extra></extra>",
         "legendgroup": "2020-10-31",
         "marker": {
          "color": "#FF97FF",
          "symbol": "circle"
         },
         "mode": "markers",
         "name": "2020-10-31",
         "showlegend": true,
         "type": "scattergl",
         "x": [
          -13.985042381461035
         ],
         "xaxis": "x",
         "y": [
          4.716295814755904
         ],
         "yaxis": "y"
        },
        {
         "hovertemplate": "date=2020-11-01<br>pc1=%{x}<br>pc2=%{y}<extra></extra>",
         "legendgroup": "2020-11-01",
         "marker": {
          "color": "#FECB52",
          "symbol": "circle"
         },
         "mode": "markers",
         "name": "2020-11-01",
         "showlegend": true,
         "type": "scattergl",
         "x": [
          -17.260345381812346
         ],
         "xaxis": "x",
         "y": [
          9.253495127517974
         ],
         "yaxis": "y"
        },
        {
         "hovertemplate": "date=2020-11-02<br>pc1=%{x}<br>pc2=%{y}<extra></extra>",
         "legendgroup": "2020-11-02",
         "marker": {
          "color": "#636efa",
          "symbol": "circle"
         },
         "mode": "markers",
         "name": "2020-11-02",
         "showlegend": true,
         "type": "scattergl",
         "x": [
          4.089853603673551
         ],
         "xaxis": "x",
         "y": [
          -1.232528062623596
         ],
         "yaxis": "y"
        },
        {
         "hovertemplate": "date=2020-11-03<br>pc1=%{x}<br>pc2=%{y}<extra></extra>",
         "legendgroup": "2020-11-03",
         "marker": {
          "color": "#EF553B",
          "symbol": "circle"
         },
         "mode": "markers",
         "name": "2020-11-03",
         "showlegend": true,
         "type": "scattergl",
         "x": [
          6.71648393897161
         ],
         "xaxis": "x",
         "y": [
          -6.204865836026601
         ],
         "yaxis": "y"
        },
        {
         "hovertemplate": "date=2020-11-04<br>pc1=%{x}<br>pc2=%{y}<extra></extra>",
         "legendgroup": "2020-11-04",
         "marker": {
          "color": "#00cc96",
          "symbol": "circle"
         },
         "mode": "markers",
         "name": "2020-11-04",
         "showlegend": true,
         "type": "scattergl",
         "x": [
          9.051260834320315
         ],
         "xaxis": "x",
         "y": [
          -1.5864396175953952
         ],
         "yaxis": "y"
        },
        {
         "hovertemplate": "date=2020-11-05<br>pc1=%{x}<br>pc2=%{y}<extra></extra>",
         "legendgroup": "2020-11-05",
         "marker": {
          "color": "#ab63fa",
          "symbol": "circle"
         },
         "mode": "markers",
         "name": "2020-11-05",
         "showlegend": true,
         "type": "scattergl",
         "x": [
          6.138712326674445
         ],
         "xaxis": "x",
         "y": [
          -5.612248507471012
         ],
         "yaxis": "y"
        },
        {
         "hovertemplate": "date=2020-11-06<br>pc1=%{x}<br>pc2=%{y}<extra></extra>",
         "legendgroup": "2020-11-06",
         "marker": {
          "color": "#FFA15A",
          "symbol": "circle"
         },
         "mode": "markers",
         "name": "2020-11-06",
         "showlegend": true,
         "type": "scattergl",
         "x": [
          6.431459297595525
         ],
         "xaxis": "x",
         "y": [
          -2.4935829421762885
         ],
         "yaxis": "y"
        },
        {
         "hovertemplate": "date=2020-11-07<br>pc1=%{x}<br>pc2=%{y}<extra></extra>",
         "legendgroup": "2020-11-07",
         "marker": {
          "color": "#19d3f3",
          "symbol": "circle"
         },
         "mode": "markers",
         "name": "2020-11-07",
         "showlegend": true,
         "type": "scattergl",
         "x": [
          -15.542291511520572
         ],
         "xaxis": "x",
         "y": [
          4.631469191922404
         ],
         "yaxis": "y"
        },
        {
         "hovertemplate": "date=2020-11-08<br>pc1=%{x}<br>pc2=%{y}<extra></extra>",
         "legendgroup": "2020-11-08",
         "marker": {
          "color": "#FF6692",
          "symbol": "circle"
         },
         "mode": "markers",
         "name": "2020-11-08",
         "showlegend": true,
         "type": "scattergl",
         "x": [
          -16.733815648309996
         ],
         "xaxis": "x",
         "y": [
          12.02010674187347
         ],
         "yaxis": "y"
        },
        {
         "hovertemplate": "date=2020-11-09<br>pc1=%{x}<br>pc2=%{y}<extra></extra>",
         "legendgroup": "2020-11-09",
         "marker": {
          "color": "#B6E880",
          "symbol": "circle"
         },
         "mode": "markers",
         "name": "2020-11-09",
         "showlegend": true,
         "type": "scattergl",
         "x": [
          3.617110686354495
         ],
         "xaxis": "x",
         "y": [
          -0.2775781636290354
         ],
         "yaxis": "y"
        },
        {
         "hovertemplate": "date=2020-11-10<br>pc1=%{x}<br>pc2=%{y}<extra></extra>",
         "legendgroup": "2020-11-10",
         "marker": {
          "color": "#FF97FF",
          "symbol": "circle"
         },
         "mode": "markers",
         "name": "2020-11-10",
         "showlegend": true,
         "type": "scattergl",
         "x": [
          9.85478855309286
         ],
         "xaxis": "x",
         "y": [
          -0.913079068573997
         ],
         "yaxis": "y"
        },
        {
         "hovertemplate": "date=2020-11-11<br>pc1=%{x}<br>pc2=%{y}<extra></extra>",
         "legendgroup": "2020-11-11",
         "marker": {
          "color": "#FECB52",
          "symbol": "circle"
         },
         "mode": "markers",
         "name": "2020-11-11",
         "showlegend": true,
         "type": "scattergl",
         "x": [
          9.822438443488153
         ],
         "xaxis": "x",
         "y": [
          -2.0897957556268314
         ],
         "yaxis": "y"
        },
        {
         "hovertemplate": "date=2020-11-12<br>pc1=%{x}<br>pc2=%{y}<extra></extra>",
         "legendgroup": "2020-11-12",
         "marker": {
          "color": "#636efa",
          "symbol": "circle"
         },
         "mode": "markers",
         "name": "2020-11-12",
         "showlegend": true,
         "type": "scattergl",
         "x": [
          5.933971245501679
         ],
         "xaxis": "x",
         "y": [
          -4.8034981014458005
         ],
         "yaxis": "y"
        },
        {
         "hovertemplate": "date=2020-11-13<br>pc1=%{x}<br>pc2=%{y}<extra></extra>",
         "legendgroup": "2020-11-13",
         "marker": {
          "color": "#EF553B",
          "symbol": "circle"
         },
         "mode": "markers",
         "name": "2020-11-13",
         "showlegend": true,
         "type": "scattergl",
         "x": [
          5.826416700694479
         ],
         "xaxis": "x",
         "y": [
          -2.7387734869741354
         ],
         "yaxis": "y"
        },
        {
         "hovertemplate": "date=2020-11-14<br>pc1=%{x}<br>pc2=%{y}<extra></extra>",
         "legendgroup": "2020-11-14",
         "marker": {
          "color": "#00cc96",
          "symbol": "circle"
         },
         "mode": "markers",
         "name": "2020-11-14",
         "showlegend": true,
         "type": "scattergl",
         "x": [
          -10.179974701099992
         ],
         "xaxis": "x",
         "y": [
          10.030628057259948
         ],
         "yaxis": "y"
        },
        {
         "hovertemplate": "date=2020-11-15<br>pc1=%{x}<br>pc2=%{y}<extra></extra>",
         "legendgroup": "2020-11-15",
         "marker": {
          "color": "#ab63fa",
          "symbol": "circle"
         },
         "mode": "markers",
         "name": "2020-11-15",
         "showlegend": true,
         "type": "scattergl",
         "x": [
          -12.74474819470179
         ],
         "xaxis": "x",
         "y": [
          16.19834128279634
         ],
         "yaxis": "y"
        },
        {
         "hovertemplate": "date=2020-11-16<br>pc1=%{x}<br>pc2=%{y}<extra></extra>",
         "legendgroup": "2020-11-16",
         "marker": {
          "color": "#FFA15A",
          "symbol": "circle"
         },
         "mode": "markers",
         "name": "2020-11-16",
         "showlegend": true,
         "type": "scattergl",
         "x": [
          3.587067831042912
         ],
         "xaxis": "x",
         "y": [
          -2.616430729611497
         ],
         "yaxis": "y"
        },
        {
         "hovertemplate": "date=2020-11-17<br>pc1=%{x}<br>pc2=%{y}<extra></extra>",
         "legendgroup": "2020-11-17",
         "marker": {
          "color": "#19d3f3",
          "symbol": "circle"
         },
         "mode": "markers",
         "name": "2020-11-17",
         "showlegend": true,
         "type": "scattergl",
         "x": [
          10.412921487057412
         ],
         "xaxis": "x",
         "y": [
          -0.5552386646471764
         ],
         "yaxis": "y"
        },
        {
         "hovertemplate": "date=2020-11-18<br>pc1=%{x}<br>pc2=%{y}<extra></extra>",
         "legendgroup": "2020-11-18",
         "marker": {
          "color": "#FF6692",
          "symbol": "circle"
         },
         "mode": "markers",
         "name": "2020-11-18",
         "showlegend": true,
         "type": "scattergl",
         "x": [
          8.872301854600956
         ],
         "xaxis": "x",
         "y": [
          -1.4512009929284424
         ],
         "yaxis": "y"
        },
        {
         "hovertemplate": "date=2020-11-19<br>pc1=%{x}<br>pc2=%{y}<extra></extra>",
         "legendgroup": "2020-11-19",
         "marker": {
          "color": "#B6E880",
          "symbol": "circle"
         },
         "mode": "markers",
         "name": "2020-11-19",
         "showlegend": true,
         "type": "scattergl",
         "x": [
          9.452467712298121
         ],
         "xaxis": "x",
         "y": [
          0.13089873765610074
         ],
         "yaxis": "y"
        },
        {
         "hovertemplate": "date=2020-11-20<br>pc1=%{x}<br>pc2=%{y}<extra></extra>",
         "legendgroup": "2020-11-20",
         "marker": {
          "color": "#FF97FF",
          "symbol": "circle"
         },
         "mode": "markers",
         "name": "2020-11-20",
         "showlegend": true,
         "type": "scattergl",
         "x": [
          7.338273963436163
         ],
         "xaxis": "x",
         "y": [
          -0.40692347266919815
         ],
         "yaxis": "y"
        },
        {
         "hovertemplate": "date=2020-11-21<br>pc1=%{x}<br>pc2=%{y}<extra></extra>",
         "legendgroup": "2020-11-21",
         "marker": {
          "color": "#FECB52",
          "symbol": "circle"
         },
         "mode": "markers",
         "name": "2020-11-21",
         "showlegend": true,
         "type": "scattergl",
         "x": [
          -12.770626265121804
         ],
         "xaxis": "x",
         "y": [
          5.944488004780374
         ],
         "yaxis": "y"
        },
        {
         "hovertemplate": "date=2020-11-22<br>pc1=%{x}<br>pc2=%{y}<extra></extra>",
         "legendgroup": "2020-11-22",
         "marker": {
          "color": "#636efa",
          "symbol": "circle"
         },
         "mode": "markers",
         "name": "2020-11-22",
         "showlegend": true,
         "type": "scattergl",
         "x": [
          -15.286376389491243
         ],
         "xaxis": "x",
         "y": [
          14.488724296818493
         ],
         "yaxis": "y"
        },
        {
         "hovertemplate": "date=2020-11-23<br>pc1=%{x}<br>pc2=%{y}<extra></extra>",
         "legendgroup": "2020-11-23",
         "marker": {
          "color": "#EF553B",
          "symbol": "circle"
         },
         "mode": "markers",
         "name": "2020-11-23",
         "showlegend": true,
         "type": "scattergl",
         "x": [
          2.8096934029134837
         ],
         "xaxis": "x",
         "y": [
          0.7584043248253455
         ],
         "yaxis": "y"
        },
        {
         "hovertemplate": "date=2020-11-24<br>pc1=%{x}<br>pc2=%{y}<extra></extra>",
         "legendgroup": "2020-11-24",
         "marker": {
          "color": "#00cc96",
          "symbol": "circle"
         },
         "mode": "markers",
         "name": "2020-11-24",
         "showlegend": true,
         "type": "scattergl",
         "x": [
          9.137504834617319
         ],
         "xaxis": "x",
         "y": [
          2.6468299310197776
         ],
         "yaxis": "y"
        },
        {
         "hovertemplate": "date=2020-11-25<br>pc1=%{x}<br>pc2=%{y}<extra></extra>",
         "legendgroup": "2020-11-25",
         "marker": {
          "color": "#ab63fa",
          "symbol": "circle"
         },
         "mode": "markers",
         "name": "2020-11-25",
         "showlegend": true,
         "type": "scattergl",
         "x": [
          0.5153587041316774
         ],
         "xaxis": "x",
         "y": [
          -11.15250902514064
         ],
         "yaxis": "y"
        },
        {
         "hovertemplate": "date=2020-11-26<br>pc1=%{x}<br>pc2=%{y}<extra></extra>",
         "legendgroup": "2020-11-26",
         "marker": {
          "color": "#FFA15A",
          "symbol": "circle"
         },
         "mode": "markers",
         "name": "2020-11-26",
         "showlegend": true,
         "type": "scattergl",
         "x": [
          16.224047534912387
         ],
         "xaxis": "x",
         "y": [
          -9.884788729775975
         ],
         "yaxis": "y"
        },
        {
         "hovertemplate": "date=2020-11-27<br>pc1=%{x}<br>pc2=%{y}<extra></extra>",
         "legendgroup": "2020-11-27",
         "marker": {
          "color": "#19d3f3",
          "symbol": "circle"
         },
         "mode": "markers",
         "name": "2020-11-27",
         "showlegend": true,
         "type": "scattergl",
         "x": [
          8.562322352985769
         ],
         "xaxis": "x",
         "y": [
          -6.098932356448424
         ],
         "yaxis": "y"
        },
        {
         "hovertemplate": "date=2020-11-28<br>pc1=%{x}<br>pc2=%{y}<extra></extra>",
         "legendgroup": "2020-11-28",
         "marker": {
          "color": "#FF6692",
          "symbol": "circle"
         },
         "mode": "markers",
         "name": "2020-11-28",
         "showlegend": true,
         "type": "scattergl",
         "x": [
          -15.057248978407946
         ],
         "xaxis": "x",
         "y": [
          8.148957669390661
         ],
         "yaxis": "y"
        },
        {
         "hovertemplate": "date=2020-11-29<br>pc1=%{x}<br>pc2=%{y}<extra></extra>",
         "legendgroup": "2020-11-29",
         "marker": {
          "color": "#B6E880",
          "symbol": "circle"
         },
         "mode": "markers",
         "name": "2020-11-29",
         "showlegend": true,
         "type": "scattergl",
         "x": [
          -17.178783807824075
         ],
         "xaxis": "x",
         "y": [
          16.939688729954515
         ],
         "yaxis": "y"
        },
        {
         "hovertemplate": "date=2020-11-30<br>pc1=%{x}<br>pc2=%{y}<extra></extra>",
         "legendgroup": "2020-11-30",
         "marker": {
          "color": "#FF97FF",
          "symbol": "circle"
         },
         "mode": "markers",
         "name": "2020-11-30",
         "showlegend": true,
         "type": "scattergl",
         "x": [
          3.8954957358860183
         ],
         "xaxis": "x",
         "y": [
          -1.8334583348470868
         ],
         "yaxis": "y"
        },
        {
         "hovertemplate": "date=2020-12-01<br>pc1=%{x}<br>pc2=%{y}<extra></extra>",
         "legendgroup": "2020-12-01",
         "marker": {
          "color": "#FECB52",
          "symbol": "circle"
         },
         "mode": "markers",
         "name": "2020-12-01",
         "showlegend": true,
         "type": "scattergl",
         "x": [
          9.362894308092397
         ],
         "xaxis": "x",
         "y": [
          -0.5439400135944389
         ],
         "yaxis": "y"
        },
        {
         "hovertemplate": "date=2020-12-02<br>pc1=%{x}<br>pc2=%{y}<extra></extra>",
         "legendgroup": "2020-12-02",
         "marker": {
          "color": "#636efa",
          "symbol": "circle"
         },
         "mode": "markers",
         "name": "2020-12-02",
         "showlegend": true,
         "type": "scattergl",
         "x": [
          8.125972304270299
         ],
         "xaxis": "x",
         "y": [
          -2.787026179417868
         ],
         "yaxis": "y"
        },
        {
         "hovertemplate": "date=2020-12-03<br>pc1=%{x}<br>pc2=%{y}<extra></extra>",
         "legendgroup": "2020-12-03",
         "marker": {
          "color": "#EF553B",
          "symbol": "circle"
         },
         "mode": "markers",
         "name": "2020-12-03",
         "showlegend": true,
         "type": "scattergl",
         "x": [
          7.791052062334976
         ],
         "xaxis": "x",
         "y": [
          -2.3888363826871832
         ],
         "yaxis": "y"
        },
        {
         "hovertemplate": "date=2020-12-04<br>pc1=%{x}<br>pc2=%{y}<extra></extra>",
         "legendgroup": "2020-12-04",
         "marker": {
          "color": "#00cc96",
          "symbol": "circle"
         },
         "mode": "markers",
         "name": "2020-12-04",
         "showlegend": true,
         "type": "scattergl",
         "x": [
          6.555335130076221
         ],
         "xaxis": "x",
         "y": [
          -3.2438571051362968
         ],
         "yaxis": "y"
        },
        {
         "hovertemplate": "date=2020-12-05<br>pc1=%{x}<br>pc2=%{y}<extra></extra>",
         "legendgroup": "2020-12-05",
         "marker": {
          "color": "#ab63fa",
          "symbol": "circle"
         },
         "mode": "markers",
         "name": "2020-12-05",
         "showlegend": true,
         "type": "scattergl",
         "x": [
          -8.525289194523422
         ],
         "xaxis": "x",
         "y": [
          14.273599137999721
         ],
         "yaxis": "y"
        },
        {
         "hovertemplate": "date=2020-12-06<br>pc1=%{x}<br>pc2=%{y}<extra></extra>",
         "legendgroup": "2020-12-06",
         "marker": {
          "color": "#FFA15A",
          "symbol": "circle"
         },
         "mode": "markers",
         "name": "2020-12-06",
         "showlegend": true,
         "type": "scattergl",
         "x": [
          -17.350611232213783
         ],
         "xaxis": "x",
         "y": [
          10.997323579528466
         ],
         "yaxis": "y"
        },
        {
         "hovertemplate": "date=2020-12-07<br>pc1=%{x}<br>pc2=%{y}<extra></extra>",
         "legendgroup": "2020-12-07",
         "marker": {
          "color": "#19d3f3",
          "symbol": "circle"
         },
         "mode": "markers",
         "name": "2020-12-07",
         "showlegend": true,
         "type": "scattergl",
         "x": [
          6.7862104301592945
         ],
         "xaxis": "x",
         "y": [
          1.746032507103816
         ],
         "yaxis": "y"
        },
        {
         "hovertemplate": "date=2020-12-08<br>pc1=%{x}<br>pc2=%{y}<extra></extra>",
         "legendgroup": "2020-12-08",
         "marker": {
          "color": "#FF6692",
          "symbol": "circle"
         },
         "mode": "markers",
         "name": "2020-12-08",
         "showlegend": true,
         "type": "scattergl",
         "x": [
          8.935947655332356
         ],
         "xaxis": "x",
         "y": [
          -1.9926374979778376
         ],
         "yaxis": "y"
        },
        {
         "hovertemplate": "date=2020-12-09<br>pc1=%{x}<br>pc2=%{y}<extra></extra>",
         "legendgroup": "2020-12-09",
         "marker": {
          "color": "#B6E880",
          "symbol": "circle"
         },
         "mode": "markers",
         "name": "2020-12-09",
         "showlegend": true,
         "type": "scattergl",
         "x": [
          6.982951289238425
         ],
         "xaxis": "x",
         "y": [
          -2.78148633268459
         ],
         "yaxis": "y"
        },
        {
         "hovertemplate": "date=2020-12-10<br>pc1=%{x}<br>pc2=%{y}<extra></extra>",
         "legendgroup": "2020-12-10",
         "marker": {
          "color": "#FF97FF",
          "symbol": "circle"
         },
         "mode": "markers",
         "name": "2020-12-10",
         "showlegend": true,
         "type": "scattergl",
         "x": [
          8.680228642354713
         ],
         "xaxis": "x",
         "y": [
          -0.7252854920034861
         ],
         "yaxis": "y"
        },
        {
         "hovertemplate": "date=2020-12-11<br>pc1=%{x}<br>pc2=%{y}<extra></extra>",
         "legendgroup": "2020-12-11",
         "marker": {
          "color": "#FECB52",
          "symbol": "circle"
         },
         "mode": "markers",
         "name": "2020-12-11",
         "showlegend": true,
         "type": "scattergl",
         "x": [
          6.413937535174752
         ],
         "xaxis": "x",
         "y": [
          -4.73611241600327
         ],
         "yaxis": "y"
        },
        {
         "hovertemplate": "date=2020-12-12<br>pc1=%{x}<br>pc2=%{y}<extra></extra>",
         "legendgroup": "2020-12-12",
         "marker": {
          "color": "#636efa",
          "symbol": "circle"
         },
         "mode": "markers",
         "name": "2020-12-12",
         "showlegend": true,
         "type": "scattergl",
         "x": [
          -8.281220956869456
         ],
         "xaxis": "x",
         "y": [
          12.23647060542248
         ],
         "yaxis": "y"
        },
        {
         "hovertemplate": "date=2020-12-13<br>pc1=%{x}<br>pc2=%{y}<extra></extra>",
         "legendgroup": "2020-12-13",
         "marker": {
          "color": "#EF553B",
          "symbol": "circle"
         },
         "mode": "markers",
         "name": "2020-12-13",
         "showlegend": true,
         "type": "scattergl",
         "x": [
          -15.978560226656255
         ],
         "xaxis": "x",
         "y": [
          14.8006980612995
         ],
         "yaxis": "y"
        },
        {
         "hovertemplate": "date=2020-12-14<br>pc1=%{x}<br>pc2=%{y}<extra></extra>",
         "legendgroup": "2020-12-14",
         "marker": {
          "color": "#00cc96",
          "symbol": "circle"
         },
         "mode": "markers",
         "name": "2020-12-14",
         "showlegend": true,
         "type": "scattergl",
         "x": [
          4.3648056929634045
         ],
         "xaxis": "x",
         "y": [
          -0.15563609951581237
         ],
         "yaxis": "y"
        },
        {
         "hovertemplate": "date=2020-12-15<br>pc1=%{x}<br>pc2=%{y}<extra></extra>",
         "legendgroup": "2020-12-15",
         "marker": {
          "color": "#ab63fa",
          "symbol": "circle"
         },
         "mode": "markers",
         "name": "2020-12-15",
         "showlegend": true,
         "type": "scattergl",
         "x": [
          5.581517820616665
         ],
         "xaxis": "x",
         "y": [
          -7.576435104238403
         ],
         "yaxis": "y"
        },
        {
         "hovertemplate": "date=2020-12-16<br>pc1=%{x}<br>pc2=%{y}<extra></extra>",
         "legendgroup": "2020-12-16",
         "marker": {
          "color": "#FFA15A",
          "symbol": "circle"
         },
         "mode": "markers",
         "name": "2020-12-16",
         "showlegend": true,
         "type": "scattergl",
         "x": [
          9.276635121094138
         ],
         "xaxis": "x",
         "y": [
          -1.1688020419401821
         ],
         "yaxis": "y"
        },
        {
         "hovertemplate": "date=2020-12-17<br>pc1=%{x}<br>pc2=%{y}<extra></extra>",
         "legendgroup": "2020-12-17",
         "marker": {
          "color": "#19d3f3",
          "symbol": "circle"
         },
         "mode": "markers",
         "name": "2020-12-17",
         "showlegend": true,
         "type": "scattergl",
         "x": [
          9.256232270594314
         ],
         "xaxis": "x",
         "y": [
          -1.8119655419070924
         ],
         "yaxis": "y"
        },
        {
         "hovertemplate": "date=2020-12-18<br>pc1=%{x}<br>pc2=%{y}<extra></extra>",
         "legendgroup": "2020-12-18",
         "marker": {
          "color": "#FF6692",
          "symbol": "circle"
         },
         "mode": "markers",
         "name": "2020-12-18",
         "showlegend": true,
         "type": "scattergl",
         "x": [
          7.942369084097686
         ],
         "xaxis": "x",
         "y": [
          -1.4475704805077916
         ],
         "yaxis": "y"
        },
        {
         "hovertemplate": "date=2020-12-19<br>pc1=%{x}<br>pc2=%{y}<extra></extra>",
         "legendgroup": "2020-12-19",
         "marker": {
          "color": "#B6E880",
          "symbol": "circle"
         },
         "mode": "markers",
         "name": "2020-12-19",
         "showlegend": true,
         "type": "scattergl",
         "x": [
          -13.352833593636113
         ],
         "xaxis": "x",
         "y": [
          6.255848166898179
         ],
         "yaxis": "y"
        },
        {
         "hovertemplate": "date=2020-12-20<br>pc1=%{x}<br>pc2=%{y}<extra></extra>",
         "legendgroup": "2020-12-20",
         "marker": {
          "color": "#FF97FF",
          "symbol": "circle"
         },
         "mode": "markers",
         "name": "2020-12-20",
         "showlegend": true,
         "type": "scattergl",
         "x": [
          -16.60171692480375
         ],
         "xaxis": "x",
         "y": [
          14.514741089279486
         ],
         "yaxis": "y"
        },
        {
         "hovertemplate": "date=2020-12-21<br>pc1=%{x}<br>pc2=%{y}<extra></extra>",
         "legendgroup": "2020-12-21",
         "marker": {
          "color": "#FECB52",
          "symbol": "circle"
         },
         "mode": "markers",
         "name": "2020-12-21",
         "showlegend": true,
         "type": "scattergl",
         "x": [
          3.6882691114393977
         ],
         "xaxis": "x",
         "y": [
          -0.36397881309468794
         ],
         "yaxis": "y"
        },
        {
         "hovertemplate": "date=2020-12-22<br>pc1=%{x}<br>pc2=%{y}<extra></extra>",
         "legendgroup": "2020-12-22",
         "marker": {
          "color": "#636efa",
          "symbol": "circle"
         },
         "mode": "markers",
         "name": "2020-12-22",
         "showlegend": true,
         "type": "scattergl",
         "x": [
          7.5806462366983505
         ],
         "xaxis": "x",
         "y": [
          2.3946836342159203
         ],
         "yaxis": "y"
        },
        {
         "hovertemplate": "date=2020-12-23<br>pc1=%{x}<br>pc2=%{y}<extra></extra>",
         "legendgroup": "2020-12-23",
         "marker": {
          "color": "#EF553B",
          "symbol": "circle"
         },
         "mode": "markers",
         "name": "2020-12-23",
         "showlegend": true,
         "type": "scattergl",
         "x": [
          3.5022800238211533
         ],
         "xaxis": "x",
         "y": [
          -2.7622899527837235
         ],
         "yaxis": "y"
        },
        {
         "hovertemplate": "date=2020-12-24<br>pc1=%{x}<br>pc2=%{y}<extra></extra>",
         "legendgroup": "2020-12-24",
         "marker": {
          "color": "#00cc96",
          "symbol": "circle"
         },
         "mode": "markers",
         "name": "2020-12-24",
         "showlegend": true,
         "type": "scattergl",
         "x": [
          9.969136192908051
         ],
         "xaxis": "x",
         "y": [
          -6.697417942014222
         ],
         "yaxis": "y"
        },
        {
         "hovertemplate": "date=2020-12-25<br>pc1=%{x}<br>pc2=%{y}<extra></extra>",
         "legendgroup": "2020-12-25",
         "marker": {
          "color": "#ab63fa",
          "symbol": "circle"
         },
         "mode": "markers",
         "name": "2020-12-25",
         "showlegend": true,
         "type": "scattergl",
         "x": [
          15.970767212705063
         ],
         "xaxis": "x",
         "y": [
          -13.095224447840573
         ],
         "yaxis": "y"
        },
        {
         "hovertemplate": "date=2020-12-26<br>pc1=%{x}<br>pc2=%{y}<extra></extra>",
         "legendgroup": "2020-12-26",
         "marker": {
          "color": "#FFA15A",
          "symbol": "circle"
         },
         "mode": "markers",
         "name": "2020-12-26",
         "showlegend": true,
         "type": "scattergl",
         "x": [
          -13.502922399819528
         ],
         "xaxis": "x",
         "y": [
          8.964575201669248
         ],
         "yaxis": "y"
        },
        {
         "hovertemplate": "date=2020-12-27<br>pc1=%{x}<br>pc2=%{y}<extra></extra>",
         "legendgroup": "2020-12-27",
         "marker": {
          "color": "#19d3f3",
          "symbol": "circle"
         },
         "mode": "markers",
         "name": "2020-12-27",
         "showlegend": true,
         "type": "scattergl",
         "x": [
          -17.741653937392954
         ],
         "xaxis": "x",
         "y": [
          19.034789831411686
         ],
         "yaxis": "y"
        },
        {
         "hovertemplate": "date=2020-12-28<br>pc1=%{x}<br>pc2=%{y}<extra></extra>",
         "legendgroup": "2020-12-28",
         "marker": {
          "color": "#FF6692",
          "symbol": "circle"
         },
         "mode": "markers",
         "name": "2020-12-28",
         "showlegend": true,
         "type": "scattergl",
         "x": [
          3.0220418716994097
         ],
         "xaxis": "x",
         "y": [
          2.0750809236379864
         ],
         "yaxis": "y"
        },
        {
         "hovertemplate": "date=2020-12-29<br>pc1=%{x}<br>pc2=%{y}<extra></extra>",
         "legendgroup": "2020-12-29",
         "marker": {
          "color": "#B6E880",
          "symbol": "circle"
         },
         "mode": "markers",
         "name": "2020-12-29",
         "showlegend": true,
         "type": "scattergl",
         "x": [
          -12.996196563800687
         ],
         "xaxis": "x",
         "y": [
          -32.92267911316797
         ],
         "yaxis": "y"
        },
        {
         "hovertemplate": "date=2020-12-30<br>pc1=%{x}<br>pc2=%{y}<extra></extra>",
         "legendgroup": "2020-12-30",
         "marker": {
          "color": "#FF97FF",
          "symbol": "circle"
         },
         "mode": "markers",
         "name": "2020-12-30",
         "showlegend": true,
         "type": "scattergl",
         "x": [
          10.947925405370695
         ],
         "xaxis": "x",
         "y": [
          4.005934565048173
         ],
         "yaxis": "y"
        },
        {
         "hovertemplate": "date=2020-12-31<br>pc1=%{x}<br>pc2=%{y}<extra></extra>",
         "legendgroup": "2020-12-31",
         "marker": {
          "color": "#FECB52",
          "symbol": "circle"
         },
         "mode": "markers",
         "name": "2020-12-31",
         "showlegend": true,
         "type": "scattergl",
         "x": [
          5.8529899328981525
         ],
         "xaxis": "x",
         "y": [
          -7.072413109007684
         ],
         "yaxis": "y"
        },
        {
         "hovertemplate": "date=2021-01-01<br>pc1=%{x}<br>pc2=%{y}<extra></extra>",
         "legendgroup": "2021-01-01",
         "marker": {
          "color": "#636efa",
          "symbol": "circle"
         },
         "mode": "markers",
         "name": "2021-01-01",
         "showlegend": true,
         "type": "scattergl",
         "x": [
          16.70631145955082
         ],
         "xaxis": "x",
         "y": [
          -7.6759278738077406
         ],
         "yaxis": "y"
        },
        {
         "hovertemplate": "date=2021-01-02<br>pc1=%{x}<br>pc2=%{y}<extra></extra>",
         "legendgroup": "2021-01-02",
         "marker": {
          "color": "#EF553B",
          "symbol": "circle"
         },
         "mode": "markers",
         "name": "2021-01-02",
         "showlegend": true,
         "type": "scattergl",
         "x": [
          -11.234166156756443
         ],
         "xaxis": "x",
         "y": [
          13.074507262293402
         ],
         "yaxis": "y"
        },
        {
         "hovertemplate": "date=2021-01-03<br>pc1=%{x}<br>pc2=%{y}<extra></extra>",
         "legendgroup": "2021-01-03",
         "marker": {
          "color": "#00cc96",
          "symbol": "circle"
         },
         "mode": "markers",
         "name": "2021-01-03",
         "showlegend": true,
         "type": "scattergl",
         "x": [
          -17.405676770882312
         ],
         "xaxis": "x",
         "y": [
          16.074012532800435
         ],
         "yaxis": "y"
        },
        {
         "hovertemplate": "date=2021-01-04<br>pc1=%{x}<br>pc2=%{y}<extra></extra>",
         "legendgroup": "2021-01-04",
         "marker": {
          "color": "#ab63fa",
          "symbol": "circle"
         },
         "mode": "markers",
         "name": "2021-01-04",
         "showlegend": true,
         "type": "scattergl",
         "x": [
          5.32564607161212
         ],
         "xaxis": "x",
         "y": [
          4.119724143467427
         ],
         "yaxis": "y"
        },
        {
         "hovertemplate": "date=2021-01-05<br>pc1=%{x}<br>pc2=%{y}<extra></extra>",
         "legendgroup": "2021-01-05",
         "marker": {
          "color": "#FFA15A",
          "symbol": "circle"
         },
         "mode": "markers",
         "name": "2021-01-05",
         "showlegend": true,
         "type": "scattergl",
         "x": [
          9.03919171189294
         ],
         "xaxis": "x",
         "y": [
          -1.3684360594747387
         ],
         "yaxis": "y"
        },
        {
         "hovertemplate": "date=2021-01-06<br>pc1=%{x}<br>pc2=%{y}<extra></extra>",
         "legendgroup": "2021-01-06",
         "marker": {
          "color": "#19d3f3",
          "symbol": "circle"
         },
         "mode": "markers",
         "name": "2021-01-06",
         "showlegend": true,
         "type": "scattergl",
         "x": [
          9.825732425489466
         ],
         "xaxis": "x",
         "y": [
          0.2849195888803144
         ],
         "yaxis": "y"
        },
        {
         "hovertemplate": "date=2021-01-07<br>pc1=%{x}<br>pc2=%{y}<extra></extra>",
         "legendgroup": "2021-01-07",
         "marker": {
          "color": "#FF6692",
          "symbol": "circle"
         },
         "mode": "markers",
         "name": "2021-01-07",
         "showlegend": true,
         "type": "scattergl",
         "x": [
          9.15333534994145
         ],
         "xaxis": "x",
         "y": [
          -1.5627383750304877
         ],
         "yaxis": "y"
        },
        {
         "hovertemplate": "date=2021-01-08<br>pc1=%{x}<br>pc2=%{y}<extra></extra>",
         "legendgroup": "2021-01-08",
         "marker": {
          "color": "#B6E880",
          "symbol": "circle"
         },
         "mode": "markers",
         "name": "2021-01-08",
         "showlegend": true,
         "type": "scattergl",
         "x": [
          8.180996554411134
         ],
         "xaxis": "x",
         "y": [
          -1.0800193850119626
         ],
         "yaxis": "y"
        },
        {
         "hovertemplate": "date=2021-01-09<br>pc1=%{x}<br>pc2=%{y}<extra></extra>",
         "legendgroup": "2021-01-09",
         "marker": {
          "color": "#FF97FF",
          "symbol": "circle"
         },
         "mode": "markers",
         "name": "2021-01-09",
         "showlegend": true,
         "type": "scattergl",
         "x": [
          -11.873015236046985
         ],
         "xaxis": "x",
         "y": [
          9.18433021989352
         ],
         "yaxis": "y"
        },
        {
         "hovertemplate": "date=2021-01-10<br>pc1=%{x}<br>pc2=%{y}<extra></extra>",
         "legendgroup": "2021-01-10",
         "marker": {
          "color": "#FECB52",
          "symbol": "circle"
         },
         "mode": "markers",
         "name": "2021-01-10",
         "showlegend": true,
         "type": "scattergl",
         "x": [
          -15.194653589161348
         ],
         "xaxis": "x",
         "y": [
          15.14365979884434
         ],
         "yaxis": "y"
        },
        {
         "hovertemplate": "date=2021-01-11<br>pc1=%{x}<br>pc2=%{y}<extra></extra>",
         "legendgroup": "2021-01-11",
         "marker": {
          "color": "#636efa",
          "symbol": "circle"
         },
         "mode": "markers",
         "name": "2021-01-11",
         "showlegend": true,
         "type": "scattergl",
         "x": [
          5.274707042028348
         ],
         "xaxis": "x",
         "y": [
          -0.30661322903418475
         ],
         "yaxis": "y"
        },
        {
         "hovertemplate": "date=2021-01-12<br>pc1=%{x}<br>pc2=%{y}<extra></extra>",
         "legendgroup": "2021-01-12",
         "marker": {
          "color": "#EF553B",
          "symbol": "circle"
         },
         "mode": "markers",
         "name": "2021-01-12",
         "showlegend": true,
         "type": "scattergl",
         "x": [
          11.09909772294382
         ],
         "xaxis": "x",
         "y": [
          1.378632547097167
         ],
         "yaxis": "y"
        },
        {
         "hovertemplate": "date=2021-01-13<br>pc1=%{x}<br>pc2=%{y}<extra></extra>",
         "legendgroup": "2021-01-13",
         "marker": {
          "color": "#00cc96",
          "symbol": "circle"
         },
         "mode": "markers",
         "name": "2021-01-13",
         "showlegend": true,
         "type": "scattergl",
         "x": [
          9.750926811920781
         ],
         "xaxis": "x",
         "y": [
          1.1758238484468921
         ],
         "yaxis": "y"
        },
        {
         "hovertemplate": "date=2021-01-14<br>pc1=%{x}<br>pc2=%{y}<extra></extra>",
         "legendgroup": "2021-01-14",
         "marker": {
          "color": "#ab63fa",
          "symbol": "circle"
         },
         "mode": "markers",
         "name": "2021-01-14",
         "showlegend": true,
         "type": "scattergl",
         "x": [
          8.651620649020774
         ],
         "xaxis": "x",
         "y": [
          -1.836161303851518
         ],
         "yaxis": "y"
        },
        {
         "hovertemplate": "date=2021-01-15<br>pc1=%{x}<br>pc2=%{y}<extra></extra>",
         "legendgroup": "2021-01-15",
         "marker": {
          "color": "#FFA15A",
          "symbol": "circle"
         },
         "mode": "markers",
         "name": "2021-01-15",
         "showlegend": true,
         "type": "scattergl",
         "x": [
          9.854684255318247
         ],
         "xaxis": "x",
         "y": [
          2.5420723728310444
         ],
         "yaxis": "y"
        },
        {
         "hovertemplate": "date=2021-01-16<br>pc1=%{x}<br>pc2=%{y}<extra></extra>",
         "legendgroup": "2021-01-16",
         "marker": {
          "color": "#19d3f3",
          "symbol": "circle"
         },
         "mode": "markers",
         "name": "2021-01-16",
         "showlegend": true,
         "type": "scattergl",
         "x": [
          -14.312240666799598
         ],
         "xaxis": "x",
         "y": [
          4.331375260402626
         ],
         "yaxis": "y"
        },
        {
         "hovertemplate": "date=2021-01-17<br>pc1=%{x}<br>pc2=%{y}<extra></extra>",
         "legendgroup": "2021-01-17",
         "marker": {
          "color": "#FF6692",
          "symbol": "circle"
         },
         "mode": "markers",
         "name": "2021-01-17",
         "showlegend": true,
         "type": "scattergl",
         "x": [
          -15.008422335397237
         ],
         "xaxis": "x",
         "y": [
          16.734086295964396
         ],
         "yaxis": "y"
        },
        {
         "hovertemplate": "date=2021-01-18<br>pc1=%{x}<br>pc2=%{y}<extra></extra>",
         "legendgroup": "2021-01-18",
         "marker": {
          "color": "#B6E880",
          "symbol": "circle"
         },
         "mode": "markers",
         "name": "2021-01-18",
         "showlegend": true,
         "type": "scattergl",
         "x": [
          7.472594175653181
         ],
         "xaxis": "x",
         "y": [
          -1.5881224653399044
         ],
         "yaxis": "y"
        },
        {
         "hovertemplate": "date=2021-01-19<br>pc1=%{x}<br>pc2=%{y}<extra></extra>",
         "legendgroup": "2021-01-19",
         "marker": {
          "color": "#FF97FF",
          "symbol": "circle"
         },
         "mode": "markers",
         "name": "2021-01-19",
         "showlegend": true,
         "type": "scattergl",
         "x": [
          7.062430047220317
         ],
         "xaxis": "x",
         "y": [
          -3.8331879344520616
         ],
         "yaxis": "y"
        },
        {
         "hovertemplate": "date=2021-01-20<br>pc1=%{x}<br>pc2=%{y}<extra></extra>",
         "legendgroup": "2021-01-20",
         "marker": {
          "color": "#FECB52",
          "symbol": "circle"
         },
         "mode": "markers",
         "name": "2021-01-20",
         "showlegend": true,
         "type": "scattergl",
         "x": [
          10.485103740844684
         ],
         "xaxis": "x",
         "y": [
          0.450471199437014
         ],
         "yaxis": "y"
        },
        {
         "hovertemplate": "date=2021-01-21<br>pc1=%{x}<br>pc2=%{y}<extra></extra>",
         "legendgroup": "2021-01-21",
         "marker": {
          "color": "#636efa",
          "symbol": "circle"
         },
         "mode": "markers",
         "name": "2021-01-21",
         "showlegend": true,
         "type": "scattergl",
         "x": [
          9.340761252635781
         ],
         "xaxis": "x",
         "y": [
          1.757945736763852
         ],
         "yaxis": "y"
        },
        {
         "hovertemplate": "date=2021-01-22<br>pc1=%{x}<br>pc2=%{y}<extra></extra>",
         "legendgroup": "2021-01-22",
         "marker": {
          "color": "#EF553B",
          "symbol": "circle"
         },
         "mode": "markers",
         "name": "2021-01-22",
         "showlegend": true,
         "type": "scattergl",
         "x": [
          8.391448763691667
         ],
         "xaxis": "x",
         "y": [
          -1.6409816698493538
         ],
         "yaxis": "y"
        },
        {
         "hovertemplate": "date=2021-01-23<br>pc1=%{x}<br>pc2=%{y}<extra></extra>",
         "legendgroup": "2021-01-23",
         "marker": {
          "color": "#00cc96",
          "symbol": "circle"
         },
         "mode": "markers",
         "name": "2021-01-23",
         "showlegend": true,
         "type": "scattergl",
         "x": [
          -10.409322967014923
         ],
         "xaxis": "x",
         "y": [
          11.240020722442893
         ],
         "yaxis": "y"
        },
        {
         "hovertemplate": "date=2021-01-24<br>pc1=%{x}<br>pc2=%{y}<extra></extra>",
         "legendgroup": "2021-01-24",
         "marker": {
          "color": "#ab63fa",
          "symbol": "circle"
         },
         "mode": "markers",
         "name": "2021-01-24",
         "showlegend": true,
         "type": "scattergl",
         "x": [
          -15.144406547509558
         ],
         "xaxis": "x",
         "y": [
          15.792191735957159
         ],
         "yaxis": "y"
        },
        {
         "hovertemplate": "date=2021-01-25<br>pc1=%{x}<br>pc2=%{y}<extra></extra>",
         "legendgroup": "2021-01-25",
         "marker": {
          "color": "#FFA15A",
          "symbol": "circle"
         },
         "mode": "markers",
         "name": "2021-01-25",
         "showlegend": true,
         "type": "scattergl",
         "x": [
          6.027517018847568
         ],
         "xaxis": "x",
         "y": [
          2.217939567797612
         ],
         "yaxis": "y"
        },
        {
         "hovertemplate": "date=2021-01-26<br>pc1=%{x}<br>pc2=%{y}<extra></extra>",
         "legendgroup": "2021-01-26",
         "marker": {
          "color": "#19d3f3",
          "symbol": "circle"
         },
         "mode": "markers",
         "name": "2021-01-26",
         "showlegend": true,
         "type": "scattergl",
         "x": [
          9.51059350733665
         ],
         "xaxis": "x",
         "y": [
          -4.164002006538262
         ],
         "yaxis": "y"
        },
        {
         "hovertemplate": "date=2021-01-27<br>pc1=%{x}<br>pc2=%{y}<extra></extra>",
         "legendgroup": "2021-01-27",
         "marker": {
          "color": "#FF6692",
          "symbol": "circle"
         },
         "mode": "markers",
         "name": "2021-01-27",
         "showlegend": true,
         "type": "scattergl",
         "x": [
          34.23533808329901
         ],
         "xaxis": "x",
         "y": [
          39.00512412578305
         ],
         "yaxis": "y"
        },
        {
         "hovertemplate": "date=2021-01-28<br>pc1=%{x}<br>pc2=%{y}<extra></extra>",
         "legendgroup": "2021-01-28",
         "marker": {
          "color": "#B6E880",
          "symbol": "circle"
         },
         "mode": "markers",
         "name": "2021-01-28",
         "showlegend": true,
         "type": "scattergl",
         "x": [
          32.650884505080576
         ],
         "xaxis": "x",
         "y": [
          35.927312745486134
         ],
         "yaxis": "y"
        },
        {
         "hovertemplate": "date=2021-01-29<br>pc1=%{x}<br>pc2=%{y}<extra></extra>",
         "legendgroup": "2021-01-29",
         "marker": {
          "color": "#FF97FF",
          "symbol": "circle"
         },
         "mode": "markers",
         "name": "2021-01-29",
         "showlegend": true,
         "type": "scattergl",
         "x": [
          22.647483876195842
         ],
         "xaxis": "x",
         "y": [
          22.81703408516774
         ],
         "yaxis": "y"
        },
        {
         "hovertemplate": "date=2021-01-30<br>pc1=%{x}<br>pc2=%{y}<extra></extra>",
         "legendgroup": "2021-01-30",
         "marker": {
          "color": "#FECB52",
          "symbol": "circle"
         },
         "mode": "markers",
         "name": "2021-01-30",
         "showlegend": true,
         "type": "scattergl",
         "x": [
          -18.410468303745905
         ],
         "xaxis": "x",
         "y": [
          -1.9692931307602644
         ],
         "yaxis": "y"
        },
        {
         "hovertemplate": "date=2021-01-31<br>pc1=%{x}<br>pc2=%{y}<extra></extra>",
         "legendgroup": "2021-01-31",
         "marker": {
          "color": "#636efa",
          "symbol": "circle"
         },
         "mode": "markers",
         "name": "2021-01-31",
         "showlegend": true,
         "type": "scattergl",
         "x": [
          -22.211455189665717
         ],
         "xaxis": "x",
         "y": [
          3.180103158868089
         ],
         "yaxis": "y"
        },
        {
         "hovertemplate": "date=2021-02-01<br>pc1=%{x}<br>pc2=%{y}<extra></extra>",
         "legendgroup": "2021-02-01",
         "marker": {
          "color": "#EF553B",
          "symbol": "circle"
         },
         "mode": "markers",
         "name": "2021-02-01",
         "showlegend": true,
         "type": "scattergl",
         "x": [
          1.7504809143006805
         ],
         "xaxis": "x",
         "y": [
          -4.5738792185788
         ],
         "yaxis": "y"
        },
        {
         "hovertemplate": "date=2021-02-02<br>pc1=%{x}<br>pc2=%{y}<extra></extra>",
         "legendgroup": "2021-02-02",
         "marker": {
          "color": "#00cc96",
          "symbol": "circle"
         },
         "mode": "markers",
         "name": "2021-02-02",
         "showlegend": true,
         "type": "scattergl",
         "x": [
          8.333831305043487
         ],
         "xaxis": "x",
         "y": [
          -2.7916241153463837
         ],
         "yaxis": "y"
        },
        {
         "hovertemplate": "date=2021-02-03<br>pc1=%{x}<br>pc2=%{y}<extra></extra>",
         "legendgroup": "2021-02-03",
         "marker": {
          "color": "#ab63fa",
          "symbol": "circle"
         },
         "mode": "markers",
         "name": "2021-02-03",
         "showlegend": true,
         "type": "scattergl",
         "x": [
          -0.348460299707511
         ],
         "xaxis": "x",
         "y": [
          -13.934834823412569
         ],
         "yaxis": "y"
        },
        {
         "hovertemplate": "date=2021-02-04<br>pc1=%{x}<br>pc2=%{y}<extra></extra>",
         "legendgroup": "2021-02-04",
         "marker": {
          "color": "#FFA15A",
          "symbol": "circle"
         },
         "mode": "markers",
         "name": "2021-02-04",
         "showlegend": true,
         "type": "scattergl",
         "x": [
          9.931641243114752
         ],
         "xaxis": "x",
         "y": [
          0.9196647043895994
         ],
         "yaxis": "y"
        },
        {
         "hovertemplate": "date=2021-02-05<br>pc1=%{x}<br>pc2=%{y}<extra></extra>",
         "legendgroup": "2021-02-05",
         "marker": {
          "color": "#19d3f3",
          "symbol": "circle"
         },
         "mode": "markers",
         "name": "2021-02-05",
         "showlegend": true,
         "type": "scattergl",
         "x": [
          6.201214543547114
         ],
         "xaxis": "x",
         "y": [
          -5.521011721551704
         ],
         "yaxis": "y"
        },
        {
         "hovertemplate": "date=2021-02-06<br>pc1=%{x}<br>pc2=%{y}<extra></extra>",
         "legendgroup": "2021-02-06",
         "marker": {
          "color": "#FF6692",
          "symbol": "circle"
         },
         "mode": "markers",
         "name": "2021-02-06",
         "showlegend": true,
         "type": "scattergl",
         "x": [
          -11.37273087794672
         ],
         "xaxis": "x",
         "y": [
          6.535446750172805
         ],
         "yaxis": "y"
        },
        {
         "hovertemplate": "date=2021-02-07<br>pc1=%{x}<br>pc2=%{y}<extra></extra>",
         "legendgroup": "2021-02-07",
         "marker": {
          "color": "#B6E880",
          "symbol": "circle"
         },
         "mode": "markers",
         "name": "2021-02-07",
         "showlegend": true,
         "type": "scattergl",
         "x": [
          -20.045787462204625
         ],
         "xaxis": "x",
         "y": [
          5.049739490096194
         ],
         "yaxis": "y"
        },
        {
         "hovertemplate": "date=2021-02-08<br>pc1=%{x}<br>pc2=%{y}<extra></extra>",
         "legendgroup": "2021-02-08",
         "marker": {
          "color": "#FF97FF",
          "symbol": "circle"
         },
         "mode": "markers",
         "name": "2021-02-08",
         "showlegend": true,
         "type": "scattergl",
         "x": [
          0.7461679783790927
         ],
         "xaxis": "x",
         "y": [
          -7.9753264498253404
         ],
         "yaxis": "y"
        },
        {
         "hovertemplate": "date=2021-02-09<br>pc1=%{x}<br>pc2=%{y}<extra></extra>",
         "legendgroup": "2021-02-09",
         "marker": {
          "color": "#FECB52",
          "symbol": "circle"
         },
         "mode": "markers",
         "name": "2021-02-09",
         "showlegend": true,
         "type": "scattergl",
         "x": [
          15.226613774341157
         ],
         "xaxis": "x",
         "y": [
          7.30634444559675
         ],
         "yaxis": "y"
        },
        {
         "hovertemplate": "date=2021-02-10<br>pc1=%{x}<br>pc2=%{y}<extra></extra>",
         "legendgroup": "2021-02-10",
         "marker": {
          "color": "#636efa",
          "symbol": "circle"
         },
         "mode": "markers",
         "name": "2021-02-10",
         "showlegend": true,
         "type": "scattergl",
         "x": [
          15.32906779608076
         ],
         "xaxis": "x",
         "y": [
          9.370002076616512
         ],
         "yaxis": "y"
        },
        {
         "hovertemplate": "date=2021-02-11<br>pc1=%{x}<br>pc2=%{y}<extra></extra>",
         "legendgroup": "2021-02-11",
         "marker": {
          "color": "#EF553B",
          "symbol": "circle"
         },
         "mode": "markers",
         "name": "2021-02-11",
         "showlegend": true,
         "type": "scattergl",
         "x": [
          12.697349095495284
         ],
         "xaxis": "x",
         "y": [
          5.363687661767615
         ],
         "yaxis": "y"
        },
        {
         "hovertemplate": "date=2021-02-12<br>pc1=%{x}<br>pc2=%{y}<extra></extra>",
         "legendgroup": "2021-02-12",
         "marker": {
          "color": "#00cc96",
          "symbol": "circle"
         },
         "mode": "markers",
         "name": "2021-02-12",
         "showlegend": true,
         "type": "scattergl",
         "x": [
          3.616254032142313
         ],
         "xaxis": "x",
         "y": [
          -6.622630991268305
         ],
         "yaxis": "y"
        },
        {
         "hovertemplate": "date=2021-02-13<br>pc1=%{x}<br>pc2=%{y}<extra></extra>",
         "legendgroup": "2021-02-13",
         "marker": {
          "color": "#ab63fa",
          "symbol": "circle"
         },
         "mode": "markers",
         "name": "2021-02-13",
         "showlegend": true,
         "type": "scattergl",
         "x": [
          -15.128973573021469
         ],
         "xaxis": "x",
         "y": [
          6.629378980317376
         ],
         "yaxis": "y"
        },
        {
         "hovertemplate": "date=2021-02-14<br>pc1=%{x}<br>pc2=%{y}<extra></extra>",
         "legendgroup": "2021-02-14",
         "marker": {
          "color": "#FFA15A",
          "symbol": "circle"
         },
         "mode": "markers",
         "name": "2021-02-14",
         "showlegend": true,
         "type": "scattergl",
         "x": [
          -23.046713804084327
         ],
         "xaxis": "x",
         "y": [
          2.6214972989095044
         ],
         "yaxis": "y"
        },
        {
         "hovertemplate": "date=2021-02-15<br>pc1=%{x}<br>pc2=%{y}<extra></extra>",
         "legendgroup": "2021-02-15",
         "marker": {
          "color": "#19d3f3",
          "symbol": "circle"
         },
         "mode": "markers",
         "name": "2021-02-15",
         "showlegend": true,
         "type": "scattergl",
         "x": [
          -4.447425394419407
         ],
         "xaxis": "x",
         "y": [
          -19.560261760680483
         ],
         "yaxis": "y"
        },
        {
         "hovertemplate": "date=2021-02-16<br>pc1=%{x}<br>pc2=%{y}<extra></extra>",
         "legendgroup": "2021-02-16",
         "marker": {
          "color": "#FF6692",
          "symbol": "circle"
         },
         "mode": "markers",
         "name": "2021-02-16",
         "showlegend": true,
         "type": "scattergl",
         "x": [
          3.9603248003155067
         ],
         "xaxis": "x",
         "y": [
          -18.137404123441108
         ],
         "yaxis": "y"
        },
        {
         "hovertemplate": "date=2021-02-17<br>pc1=%{x}<br>pc2=%{y}<extra></extra>",
         "legendgroup": "2021-02-17",
         "marker": {
          "color": "#B6E880",
          "symbol": "circle"
         },
         "mode": "markers",
         "name": "2021-02-17",
         "showlegend": true,
         "type": "scattergl",
         "x": [
          9.16597883698119
         ],
         "xaxis": "x",
         "y": [
          1.615205198688898
         ],
         "yaxis": "y"
        },
        {
         "hovertemplate": "date=2021-02-18<br>pc1=%{x}<br>pc2=%{y}<extra></extra>",
         "legendgroup": "2021-02-18",
         "marker": {
          "color": "#FF97FF",
          "symbol": "circle"
         },
         "mode": "markers",
         "name": "2021-02-18",
         "showlegend": true,
         "type": "scattergl",
         "x": [
          1.8349554630464546
         ],
         "xaxis": "x",
         "y": [
          -10.094341828375414
         ],
         "yaxis": "y"
        },
        {
         "hovertemplate": "date=2021-02-19<br>pc1=%{x}<br>pc2=%{y}<extra></extra>",
         "legendgroup": "2021-02-19",
         "marker": {
          "color": "#FECB52",
          "symbol": "circle"
         },
         "mode": "markers",
         "name": "2021-02-19",
         "showlegend": true,
         "type": "scattergl",
         "x": [
          6.870618083202863
         ],
         "xaxis": "x",
         "y": [
          -0.5260996149304001
         ],
         "yaxis": "y"
        },
        {
         "hovertemplate": "date=2021-02-20<br>pc1=%{x}<br>pc2=%{y}<extra></extra>",
         "legendgroup": "2021-02-20",
         "marker": {
          "color": "#636efa",
          "symbol": "circle"
         },
         "mode": "markers",
         "name": "2021-02-20",
         "showlegend": true,
         "type": "scattergl",
         "x": [
          -16.72990298104062
         ],
         "xaxis": "x",
         "y": [
          1.229049464409924
         ],
         "yaxis": "y"
        },
        {
         "hovertemplate": "date=2021-02-21<br>pc1=%{x}<br>pc2=%{y}<extra></extra>",
         "legendgroup": "2021-02-21",
         "marker": {
          "color": "#EF553B",
          "symbol": "circle"
         },
         "mode": "markers",
         "name": "2021-02-21",
         "showlegend": true,
         "type": "scattergl",
         "x": [
          -14.527399138037877
         ],
         "xaxis": "x",
         "y": [
          14.473664158497098
         ],
         "yaxis": "y"
        },
        {
         "hovertemplate": "date=2021-02-22<br>pc1=%{x}<br>pc2=%{y}<extra></extra>",
         "legendgroup": "2021-02-22",
         "marker": {
          "color": "#00cc96",
          "symbol": "circle"
         },
         "mode": "markers",
         "name": "2021-02-22",
         "showlegend": true,
         "type": "scattergl",
         "x": [
          1.388920855921278
         ],
         "xaxis": "x",
         "y": [
          -7.8342396463016355
         ],
         "yaxis": "y"
        },
        {
         "hovertemplate": "date=2021-02-23<br>pc1=%{x}<br>pc2=%{y}<extra></extra>",
         "legendgroup": "2021-02-23",
         "marker": {
          "color": "#ab63fa",
          "symbol": "circle"
         },
         "mode": "markers",
         "name": "2021-02-23",
         "showlegend": true,
         "type": "scattergl",
         "x": [
          13.444344746136375
         ],
         "xaxis": "x",
         "y": [
          6.153263415084373
         ],
         "yaxis": "y"
        },
        {
         "hovertemplate": "date=2021-02-24<br>pc1=%{x}<br>pc2=%{y}<extra></extra>",
         "legendgroup": "2021-02-24",
         "marker": {
          "color": "#FFA15A",
          "symbol": "circle"
         },
         "mode": "markers",
         "name": "2021-02-24",
         "showlegend": true,
         "type": "scattergl",
         "x": [
          14.619166610566666
         ],
         "xaxis": "x",
         "y": [
          7.4889739972347
         ],
         "yaxis": "y"
        },
        {
         "hovertemplate": "date=2021-02-25<br>pc1=%{x}<br>pc2=%{y}<extra></extra>",
         "legendgroup": "2021-02-25",
         "marker": {
          "color": "#19d3f3",
          "symbol": "circle"
         },
         "mode": "markers",
         "name": "2021-02-25",
         "showlegend": true,
         "type": "scattergl",
         "x": [
          10.740625194857282
         ],
         "xaxis": "x",
         "y": [
          0.8395881856193173
         ],
         "yaxis": "y"
        },
        {
         "hovertemplate": "date=2021-02-26<br>pc1=%{x}<br>pc2=%{y}<extra></extra>",
         "legendgroup": "2021-02-26",
         "marker": {
          "color": "#FF6692",
          "symbol": "circle"
         },
         "mode": "markers",
         "name": "2021-02-26",
         "showlegend": true,
         "type": "scattergl",
         "x": [
          4.44807631175198
         ],
         "xaxis": "x",
         "y": [
          -5.649367352705364
         ],
         "yaxis": "y"
        },
        {
         "hovertemplate": "date=2021-02-27<br>pc1=%{x}<br>pc2=%{y}<extra></extra>",
         "legendgroup": "2021-02-27",
         "marker": {
          "color": "#B6E880",
          "symbol": "circle"
         },
         "mode": "markers",
         "name": "2021-02-27",
         "showlegend": true,
         "type": "scattergl",
         "x": [
          -12.640652458905533
         ],
         "xaxis": "x",
         "y": [
          10.56093137235358
         ],
         "yaxis": "y"
        },
        {
         "hovertemplate": "date=2021-02-28<br>pc1=%{x}<br>pc2=%{y}<extra></extra>",
         "legendgroup": "2021-02-28",
         "marker": {
          "color": "#FF97FF",
          "symbol": "circle"
         },
         "mode": "markers",
         "name": "2021-02-28",
         "showlegend": true,
         "type": "scattergl",
         "x": [
          -14.244421014371715
         ],
         "xaxis": "x",
         "y": [
          14.429035492705477
         ],
         "yaxis": "y"
        },
        {
         "hovertemplate": "date=2021-03-01<br>pc1=%{x}<br>pc2=%{y}<extra></extra>",
         "legendgroup": "2021-03-01",
         "marker": {
          "color": "#FECB52",
          "symbol": "circle"
         },
         "mode": "markers",
         "name": "2021-03-01",
         "showlegend": true,
         "type": "scattergl",
         "x": [
          10.60499875371088
         ],
         "xaxis": "x",
         "y": [
          6.744491699597056
         ],
         "yaxis": "y"
        },
        {
         "hovertemplate": "date=2021-03-02<br>pc1=%{x}<br>pc2=%{y}<extra></extra>",
         "legendgroup": "2021-03-02",
         "marker": {
          "color": "#636efa",
          "symbol": "circle"
         },
         "mode": "markers",
         "name": "2021-03-02",
         "showlegend": true,
         "type": "scattergl",
         "x": [
          14.77146260878459
         ],
         "xaxis": "x",
         "y": [
          5.996085086020567
         ],
         "yaxis": "y"
        }
       ],
       "layout": {
        "legend": {
         "title": {
          "text": "date"
         },
         "tracegroupgap": 0
        },
        "margin": {
         "t": 60
        },
        "template": {
         "data": {
          "bar": [
           {
            "error_x": {
             "color": "#2a3f5f"
            },
            "error_y": {
             "color": "#2a3f5f"
            },
            "marker": {
             "line": {
              "color": "#E5ECF6",
              "width": 0.5
             },
             "pattern": {
              "fillmode": "overlay",
              "size": 10,
              "solidity": 0.2
             }
            },
            "type": "bar"
           }
          ],
          "barpolar": [
           {
            "marker": {
             "line": {
              "color": "#E5ECF6",
              "width": 0.5
             },
             "pattern": {
              "fillmode": "overlay",
              "size": 10,
              "solidity": 0.2
             }
            },
            "type": "barpolar"
           }
          ],
          "carpet": [
           {
            "aaxis": {
             "endlinecolor": "#2a3f5f",
             "gridcolor": "white",
             "linecolor": "white",
             "minorgridcolor": "white",
             "startlinecolor": "#2a3f5f"
            },
            "baxis": {
             "endlinecolor": "#2a3f5f",
             "gridcolor": "white",
             "linecolor": "white",
             "minorgridcolor": "white",
             "startlinecolor": "#2a3f5f"
            },
            "type": "carpet"
           }
          ],
          "choropleth": [
           {
            "colorbar": {
             "outlinewidth": 0,
             "ticks": ""
            },
            "type": "choropleth"
           }
          ],
          "contour": [
           {
            "colorbar": {
             "outlinewidth": 0,
             "ticks": ""
            },
            "colorscale": [
             [
              0,
              "#0d0887"
             ],
             [
              0.1111111111111111,
              "#46039f"
             ],
             [
              0.2222222222222222,
              "#7201a8"
             ],
             [
              0.3333333333333333,
              "#9c179e"
             ],
             [
              0.4444444444444444,
              "#bd3786"
             ],
             [
              0.5555555555555556,
              "#d8576b"
             ],
             [
              0.6666666666666666,
              "#ed7953"
             ],
             [
              0.7777777777777778,
              "#fb9f3a"
             ],
             [
              0.8888888888888888,
              "#fdca26"
             ],
             [
              1,
              "#f0f921"
             ]
            ],
            "type": "contour"
           }
          ],
          "contourcarpet": [
           {
            "colorbar": {
             "outlinewidth": 0,
             "ticks": ""
            },
            "type": "contourcarpet"
           }
          ],
          "heatmap": [
           {
            "colorbar": {
             "outlinewidth": 0,
             "ticks": ""
            },
            "colorscale": [
             [
              0,
              "#0d0887"
             ],
             [
              0.1111111111111111,
              "#46039f"
             ],
             [
              0.2222222222222222,
              "#7201a8"
             ],
             [
              0.3333333333333333,
              "#9c179e"
             ],
             [
              0.4444444444444444,
              "#bd3786"
             ],
             [
              0.5555555555555556,
              "#d8576b"
             ],
             [
              0.6666666666666666,
              "#ed7953"
             ],
             [
              0.7777777777777778,
              "#fb9f3a"
             ],
             [
              0.8888888888888888,
              "#fdca26"
             ],
             [
              1,
              "#f0f921"
             ]
            ],
            "type": "heatmap"
           }
          ],
          "heatmapgl": [
           {
            "colorbar": {
             "outlinewidth": 0,
             "ticks": ""
            },
            "colorscale": [
             [
              0,
              "#0d0887"
             ],
             [
              0.1111111111111111,
              "#46039f"
             ],
             [
              0.2222222222222222,
              "#7201a8"
             ],
             [
              0.3333333333333333,
              "#9c179e"
             ],
             [
              0.4444444444444444,
              "#bd3786"
             ],
             [
              0.5555555555555556,
              "#d8576b"
             ],
             [
              0.6666666666666666,
              "#ed7953"
             ],
             [
              0.7777777777777778,
              "#fb9f3a"
             ],
             [
              0.8888888888888888,
              "#fdca26"
             ],
             [
              1,
              "#f0f921"
             ]
            ],
            "type": "heatmapgl"
           }
          ],
          "histogram": [
           {
            "marker": {
             "pattern": {
              "fillmode": "overlay",
              "size": 10,
              "solidity": 0.2
             }
            },
            "type": "histogram"
           }
          ],
          "histogram2d": [
           {
            "colorbar": {
             "outlinewidth": 0,
             "ticks": ""
            },
            "colorscale": [
             [
              0,
              "#0d0887"
             ],
             [
              0.1111111111111111,
              "#46039f"
             ],
             [
              0.2222222222222222,
              "#7201a8"
             ],
             [
              0.3333333333333333,
              "#9c179e"
             ],
             [
              0.4444444444444444,
              "#bd3786"
             ],
             [
              0.5555555555555556,
              "#d8576b"
             ],
             [
              0.6666666666666666,
              "#ed7953"
             ],
             [
              0.7777777777777778,
              "#fb9f3a"
             ],
             [
              0.8888888888888888,
              "#fdca26"
             ],
             [
              1,
              "#f0f921"
             ]
            ],
            "type": "histogram2d"
           }
          ],
          "histogram2dcontour": [
           {
            "colorbar": {
             "outlinewidth": 0,
             "ticks": ""
            },
            "colorscale": [
             [
              0,
              "#0d0887"
             ],
             [
              0.1111111111111111,
              "#46039f"
             ],
             [
              0.2222222222222222,
              "#7201a8"
             ],
             [
              0.3333333333333333,
              "#9c179e"
             ],
             [
              0.4444444444444444,
              "#bd3786"
             ],
             [
              0.5555555555555556,
              "#d8576b"
             ],
             [
              0.6666666666666666,
              "#ed7953"
             ],
             [
              0.7777777777777778,
              "#fb9f3a"
             ],
             [
              0.8888888888888888,
              "#fdca26"
             ],
             [
              1,
              "#f0f921"
             ]
            ],
            "type": "histogram2dcontour"
           }
          ],
          "mesh3d": [
           {
            "colorbar": {
             "outlinewidth": 0,
             "ticks": ""
            },
            "type": "mesh3d"
           }
          ],
          "parcoords": [
           {
            "line": {
             "colorbar": {
              "outlinewidth": 0,
              "ticks": ""
             }
            },
            "type": "parcoords"
           }
          ],
          "pie": [
           {
            "automargin": true,
            "type": "pie"
           }
          ],
          "scatter": [
           {
            "marker": {
             "colorbar": {
              "outlinewidth": 0,
              "ticks": ""
             }
            },
            "type": "scatter"
           }
          ],
          "scatter3d": [
           {
            "line": {
             "colorbar": {
              "outlinewidth": 0,
              "ticks": ""
             }
            },
            "marker": {
             "colorbar": {
              "outlinewidth": 0,
              "ticks": ""
             }
            },
            "type": "scatter3d"
           }
          ],
          "scattercarpet": [
           {
            "marker": {
             "colorbar": {
              "outlinewidth": 0,
              "ticks": ""
             }
            },
            "type": "scattercarpet"
           }
          ],
          "scattergeo": [
           {
            "marker": {
             "colorbar": {
              "outlinewidth": 0,
              "ticks": ""
             }
            },
            "type": "scattergeo"
           }
          ],
          "scattergl": [
           {
            "marker": {
             "colorbar": {
              "outlinewidth": 0,
              "ticks": ""
             }
            },
            "type": "scattergl"
           }
          ],
          "scattermapbox": [
           {
            "marker": {
             "colorbar": {
              "outlinewidth": 0,
              "ticks": ""
             }
            },
            "type": "scattermapbox"
           }
          ],
          "scatterpolar": [
           {
            "marker": {
             "colorbar": {
              "outlinewidth": 0,
              "ticks": ""
             }
            },
            "type": "scatterpolar"
           }
          ],
          "scatterpolargl": [
           {
            "marker": {
             "colorbar": {
              "outlinewidth": 0,
              "ticks": ""
             }
            },
            "type": "scatterpolargl"
           }
          ],
          "scatterternary": [
           {
            "marker": {
             "colorbar": {
              "outlinewidth": 0,
              "ticks": ""
             }
            },
            "type": "scatterternary"
           }
          ],
          "surface": [
           {
            "colorbar": {
             "outlinewidth": 0,
             "ticks": ""
            },
            "colorscale": [
             [
              0,
              "#0d0887"
             ],
             [
              0.1111111111111111,
              "#46039f"
             ],
             [
              0.2222222222222222,
              "#7201a8"
             ],
             [
              0.3333333333333333,
              "#9c179e"
             ],
             [
              0.4444444444444444,
              "#bd3786"
             ],
             [
              0.5555555555555556,
              "#d8576b"
             ],
             [
              0.6666666666666666,
              "#ed7953"
             ],
             [
              0.7777777777777778,
              "#fb9f3a"
             ],
             [
              0.8888888888888888,
              "#fdca26"
             ],
             [
              1,
              "#f0f921"
             ]
            ],
            "type": "surface"
           }
          ],
          "table": [
           {
            "cells": {
             "fill": {
              "color": "#EBF0F8"
             },
             "line": {
              "color": "white"
             }
            },
            "header": {
             "fill": {
              "color": "#C8D4E3"
             },
             "line": {
              "color": "white"
             }
            },
            "type": "table"
           }
          ]
         },
         "layout": {
          "annotationdefaults": {
           "arrowcolor": "#2a3f5f",
           "arrowhead": 0,
           "arrowwidth": 1
          },
          "autotypenumbers": "strict",
          "coloraxis": {
           "colorbar": {
            "outlinewidth": 0,
            "ticks": ""
           }
          },
          "colorscale": {
           "diverging": [
            [
             0,
             "#8e0152"
            ],
            [
             0.1,
             "#c51b7d"
            ],
            [
             0.2,
             "#de77ae"
            ],
            [
             0.3,
             "#f1b6da"
            ],
            [
             0.4,
             "#fde0ef"
            ],
            [
             0.5,
             "#f7f7f7"
            ],
            [
             0.6,
             "#e6f5d0"
            ],
            [
             0.7,
             "#b8e186"
            ],
            [
             0.8,
             "#7fbc41"
            ],
            [
             0.9,
             "#4d9221"
            ],
            [
             1,
             "#276419"
            ]
           ],
           "sequential": [
            [
             0,
             "#0d0887"
            ],
            [
             0.1111111111111111,
             "#46039f"
            ],
            [
             0.2222222222222222,
             "#7201a8"
            ],
            [
             0.3333333333333333,
             "#9c179e"
            ],
            [
             0.4444444444444444,
             "#bd3786"
            ],
            [
             0.5555555555555556,
             "#d8576b"
            ],
            [
             0.6666666666666666,
             "#ed7953"
            ],
            [
             0.7777777777777778,
             "#fb9f3a"
            ],
            [
             0.8888888888888888,
             "#fdca26"
            ],
            [
             1,
             "#f0f921"
            ]
           ],
           "sequentialminus": [
            [
             0,
             "#0d0887"
            ],
            [
             0.1111111111111111,
             "#46039f"
            ],
            [
             0.2222222222222222,
             "#7201a8"
            ],
            [
             0.3333333333333333,
             "#9c179e"
            ],
            [
             0.4444444444444444,
             "#bd3786"
            ],
            [
             0.5555555555555556,
             "#d8576b"
            ],
            [
             0.6666666666666666,
             "#ed7953"
            ],
            [
             0.7777777777777778,
             "#fb9f3a"
            ],
            [
             0.8888888888888888,
             "#fdca26"
            ],
            [
             1,
             "#f0f921"
            ]
           ]
          },
          "colorway": [
           "#636efa",
           "#EF553B",
           "#00cc96",
           "#ab63fa",
           "#FFA15A",
           "#19d3f3",
           "#FF6692",
           "#B6E880",
           "#FF97FF",
           "#FECB52"
          ],
          "font": {
           "color": "#2a3f5f"
          },
          "geo": {
           "bgcolor": "white",
           "lakecolor": "white",
           "landcolor": "#E5ECF6",
           "showlakes": true,
           "showland": true,
           "subunitcolor": "white"
          },
          "hoverlabel": {
           "align": "left"
          },
          "hovermode": "closest",
          "mapbox": {
           "style": "light"
          },
          "paper_bgcolor": "white",
          "plot_bgcolor": "#E5ECF6",
          "polar": {
           "angularaxis": {
            "gridcolor": "white",
            "linecolor": "white",
            "ticks": ""
           },
           "bgcolor": "#E5ECF6",
           "radialaxis": {
            "gridcolor": "white",
            "linecolor": "white",
            "ticks": ""
           }
          },
          "scene": {
           "xaxis": {
            "backgroundcolor": "#E5ECF6",
            "gridcolor": "white",
            "gridwidth": 2,
            "linecolor": "white",
            "showbackground": true,
            "ticks": "",
            "zerolinecolor": "white"
           },
           "yaxis": {
            "backgroundcolor": "#E5ECF6",
            "gridcolor": "white",
            "gridwidth": 2,
            "linecolor": "white",
            "showbackground": true,
            "ticks": "",
            "zerolinecolor": "white"
           },
           "zaxis": {
            "backgroundcolor": "#E5ECF6",
            "gridcolor": "white",
            "gridwidth": 2,
            "linecolor": "white",
            "showbackground": true,
            "ticks": "",
            "zerolinecolor": "white"
           }
          },
          "shapedefaults": {
           "line": {
            "color": "#2a3f5f"
           }
          },
          "ternary": {
           "aaxis": {
            "gridcolor": "white",
            "linecolor": "white",
            "ticks": ""
           },
           "baxis": {
            "gridcolor": "white",
            "linecolor": "white",
            "ticks": ""
           },
           "bgcolor": "#E5ECF6",
           "caxis": {
            "gridcolor": "white",
            "linecolor": "white",
            "ticks": ""
           }
          },
          "title": {
           "x": 0.05
          },
          "xaxis": {
           "automargin": true,
           "gridcolor": "white",
           "linecolor": "white",
           "ticks": "",
           "title": {
            "standoff": 15
           },
           "zerolinecolor": "white",
           "zerolinewidth": 2
          },
          "yaxis": {
           "automargin": true,
           "gridcolor": "white",
           "linecolor": "white",
           "ticks": "",
           "title": {
            "standoff": 15
           },
           "zerolinecolor": "white",
           "zerolinewidth": 2
          }
         }
        },
        "xaxis": {
         "anchor": "y",
         "domain": [
          0,
          1
         ],
         "title": {
          "text": "pc1"
         }
        },
        "yaxis": {
         "anchor": "x",
         "domain": [
          0,
          1
         ],
         "title": {
          "text": "pc2"
         }
        }
       }
      }
     },
     "metadata": {},
     "output_type": "display_data"
    }
   ],
   "source": [
    "import plotly.express as px\n",
    "# # visualize PCA https://plotly.com/python/pca-visualization/\n",
    "# total_variance = pca.explained_variance_ratio_.sum() * 100\n",
    "\n",
    "fig = px.scatter(PCA_df, x=\"pc1\", y=\"pc2\", color=PCA_df[\"date\"], labels = {str(i):f\"PC {i+1}\" for i in range(num_components)})\n",
    "\n",
    "fig.show()\n",
    "\n"
   ]
  },
  {
   "cell_type": "code",
   "execution_count": 67,
   "metadata": {},
   "outputs": [
    {
     "data": {
      "text/plain": [
       "<seaborn.axisgrid.FacetGrid at 0x7fcc8b06fdf0>"
      ]
     },
     "execution_count": 67,
     "metadata": {},
     "output_type": "execute_result"
    },
    {
     "data": {
      "image/png": "[encoded data removed]",
      "text/plain": [
       "<Figure size 360x360 with 1 Axes>"
      ]
     },
     "metadata": {
      "needs_background": "light"
     },
     "output_type": "display_data"
    }
   ],
   "source": [
    "sns.lmplot(x=\"pc1\", y=\"pc2\",\n",
    "        data=PCA_df,\n",
    "        fit_reg=False,\n",
    "        legend=True,\n",
    "        scatter_kws={\"s\": 25})"
   ]
  },
  {
   "cell_type": "markdown",
   "metadata": {},
   "source": [
    "## t-SNE\n",
    "\n",
    "Work based on teammate Jacqueline's work."
   ]
  },
  {
   "cell_type": "code",
   "execution_count": 70,
   "metadata": {},
   "outputs": [
    {
     "name": "stdout",
     "output_type": "stream",
     "text": [
      "         date  segment_1307_max_SRI  segment_873_max_SRI  segment_863_max_SRI  \\\n",
      "0  2018-03-08              3.718594             3.457253             4.562368   \n",
      "1  2018-03-09              4.522901             3.488016             2.997927   \n",
      "2  2018-03-10              6.107322             1.234070             3.085771   \n",
      "3  2018-03-11              3.873077             1.261212             6.840369   \n",
      "4  2018-03-12              5.228657             3.413127             4.470042   \n",
      "\n",
      "   segment_1061_max_SRI  segment_235_max_SRI  segment_225_max_SRI  \\\n",
      "0              0.044862             2.945760             4.199607   \n",
      "1              0.044862             2.187291             5.328785   \n",
      "2              0.044862             2.719971             5.989625   \n",
      "3              0.044862             3.189822             5.489281   \n",
      "4              0.044862             3.863130             4.415463   \n",
      "\n",
      "   segment_460_max_SRI  segment_518_max_SRI  segment_470_max_SRI  ...  \\\n",
      "0             3.028331             3.724648             4.429002  ...   \n",
      "1             3.858570             3.859563             5.073305  ...   \n",
      "2             1.741679             3.162777             4.063662  ...   \n",
      "3             1.741679             4.638495             6.471925  ...   \n",
      "4             4.612428             4.991392             4.664407  ...   \n",
      "\n",
      "   station_40840_max_RRI  station_40850_max_RRI  station_40610_max_RRI  \\\n",
      "0               0.940419               1.093750               0.635217   \n",
      "1               1.289443               2.337111               0.554911   \n",
      "2               3.112223               3.834196               3.938322   \n",
      "3               4.748849               4.101958               4.668180   \n",
      "4               1.214632               0.721219               0.674600   \n",
      "\n",
      "   station_40600_max_RRI  station_41690_max_RRI  station_41680_max_RRI  \\\n",
      "0               0.460772               1.056587               0.156348   \n",
      "1               0.626054               0.820090               1.126202   \n",
      "2               3.936778               1.876850               3.942463   \n",
      "3               4.061820               2.394439               4.565925   \n",
      "4               0.515856               1.015444               0.551766   \n",
      "\n",
      "   station_40280_max_RRI  station_40290_max_RRI  station_41200_max_RRI  \\\n",
      "0               1.037322               1.469957               1.257610   \n",
      "1               0.606894               1.308201               0.732345   \n",
      "2               3.082432               2.434927               1.473967   \n",
      "3               3.578462               3.591185               3.080530   \n",
      "4               1.174367               1.354263               0.579096   \n",
      "\n",
      "   station_41210_max_RRI  \n",
      "0               0.466765  \n",
      "1               0.975567  \n",
      "2               3.281961  \n",
      "3               4.589329  \n",
      "4               0.477413  \n",
      "\n",
      "[5 rows x 1191 columns]\n",
      "(1091, 1191)\n"
     ]
    }
   ],
   "source": [
    "print(SRI_RRI_df.head(5))\n",
    "print(SRI_RRI_df.shape)"
   ]
  },
  {
   "cell_type": "code",
   "execution_count": 76,
   "metadata": {},
   "outputs": [],
   "source": [
    "clean_copy_df = SRI_RRI_df.interpolate(axis=0, limit_direction='both').fillna(-1)\n",
    "\n",
    "# separate features X and date time Y\n",
    "X = clean_copy_df.iloc[:, 1:].values\n",
    "Y = clean_copy_df.iloc[:, 0]\n",
    "\n",
    "# date -> datetime object\n",
    "Y = pd.to_datetime(Y)\n",
    "\n",
    "# standard normalize features\n",
    "X = X / X.max()\n",
    "X = StandardScaler().fit_transform(X)"
   ]
  },
  {
   "cell_type": "code",
   "execution_count": 77,
   "metadata": {},
   "outputs": [],
   "source": [
    "# Masks for days in the week\n",
    "\n",
    "mask_monday = Y.dt.day_of_week == 0\n",
    "mask_tuesday = Y.dt.day_of_week == 1\n",
    "mask_wednesday = Y.dt.day_of_week == 2\n",
    "mask_thursday = Y.dt.day_of_week == 3\n",
    "mask_friday = Y.dt.day_of_week == 4\n",
    "mask_saturday = Y.dt.day_of_week == 5\n",
    "mask_sunday = Y.dt.day_of_week == 6\n",
    "\n",
    "list_days = ['Monday', 'Tuesday', 'Wednesday', 'Thursday', 'Friday', 'Saturday', 'Sunday']"
   ]
  },
  {
   "cell_type": "code",
   "execution_count": 78,
   "metadata": {},
   "outputs": [],
   "source": [
    "# Masks for seasons\n",
    "\n",
    "from matplotlib.pyplot import summer\n",
    "\n",
    "\n",
    "winter_start_0 = '12-21'\n",
    "winter_start_1 = '01-01'\n",
    "spring_start = '03-20'\n",
    "summer_start = '06-21'\n",
    "fall_start = '12-21'\n",
    "\n",
    "list_seasons = ['winter', 'spring', 'summer', 'fall']\n",
    "\n",
    "mask_winter = (Y.dt.strftime('%m-%d') >= winter_start_0) | ((Y.dt.strftime('%m-%d') >= winter_start_1) & (Y.dt.strftime('%m-%d') < spring_start))\n",
    "mask_spring = (Y.dt.strftime('%m-%d') >= spring_start) & (Y.dt.strftime('%m-%d') < summer_start)\n",
    "mask_summer = (Y.dt.strftime('%m-%d') >= summer_start) & (Y.dt.strftime('%m-%d') < fall_start)\n",
    "mask_fall = (Y.dt.strftime('%m-%d') >= fall_start) & (Y.dt.strftime('%m-%d') < winter_start_0)"
   ]
  },
  {
   "cell_type": "code",
   "execution_count": 79,
   "metadata": {},
   "outputs": [],
   "source": [
    "# Masks for seasons and days of the week\n",
    "\n",
    "seasons = pd.Series(np.zeros(len(Y)), name='seasons')\n",
    "seasons[mask_winter] = list_seasons[0]\n",
    "seasons[mask_spring] = list_seasons[1]\n",
    "seasons[mask_summer] = list_seasons[2]\n",
    "seasons[mask_fall] = list_seasons[3]\n",
    "\n",
    "days = pd.Series(np.zeros(len(Y)), name='day_of_week')\n",
    "days[mask_monday] = list_days[0]\n",
    "days[mask_tuesday] = list_days[1]\n",
    "days[mask_wednesday] = list_days[2]\n",
    "days[mask_thursday] = list_days[3]\n",
    "days[mask_friday] = list_days[4]\n",
    "days[mask_saturday] = list_days[5]\n",
    "days[mask_sunday] = list_days[6]"
   ]
  },
  {
   "cell_type": "code",
   "execution_count": 82,
   "metadata": {},
   "outputs": [
    {
     "name": "stdout",
     "output_type": "stream",
     "text": [
      "(1091, 2)\n"
     ]
    },
    {
     "data": {
      "text/html": [
       "<div>\n",
       "<style scoped>\n",
       "    .dataframe tbody tr th:only-of-type {\n",
       "        vertical-align: middle;\n",
       "    }\n",
       "\n",
       "    .dataframe tbody tr th {\n",
       "        vertical-align: top;\n",
       "    }\n",
       "\n",
       "    .dataframe thead th {\n",
       "        text-align: right;\n",
       "    }\n",
       "</style>\n",
       "<table border=\"1\" class=\"dataframe\">\n",
       "  <thead>\n",
       "    <tr style=\"text-align: right;\">\n",
       "      <th></th>\n",
       "      <th>date</th>\n",
       "      <th>seasons</th>\n",
       "      <th>day_of_week</th>\n",
       "      <th>tSNE1</th>\n",
       "      <th>tSNE2</th>\n",
       "    </tr>\n",
       "  </thead>\n",
       "  <tbody>\n",
       "    <tr>\n",
       "      <th>0</th>\n",
       "      <td>2018-03-08</td>\n",
       "      <td>winter</td>\n",
       "      <td>Thursday</td>\n",
       "      <td>-0.413054</td>\n",
       "      <td>-9.151982</td>\n",
       "    </tr>\n",
       "    <tr>\n",
       "      <th>1</th>\n",
       "      <td>2018-03-09</td>\n",
       "      <td>winter</td>\n",
       "      <td>Friday</td>\n",
       "      <td>0.387072</td>\n",
       "      <td>-8.741959</td>\n",
       "    </tr>\n",
       "    <tr>\n",
       "      <th>2</th>\n",
       "      <td>2018-03-10</td>\n",
       "      <td>winter</td>\n",
       "      <td>Saturday</td>\n",
       "      <td>10.098584</td>\n",
       "      <td>-2.655794</td>\n",
       "    </tr>\n",
       "    <tr>\n",
       "      <th>3</th>\n",
       "      <td>2018-03-11</td>\n",
       "      <td>winter</td>\n",
       "      <td>Sunday</td>\n",
       "      <td>12.572460</td>\n",
       "      <td>-2.025884</td>\n",
       "    </tr>\n",
       "    <tr>\n",
       "      <th>4</th>\n",
       "      <td>2018-03-12</td>\n",
       "      <td>winter</td>\n",
       "      <td>Monday</td>\n",
       "      <td>-0.683684</td>\n",
       "      <td>-8.968102</td>\n",
       "    </tr>\n",
       "  </tbody>\n",
       "</table>\n",
       "</div>"
      ],
      "text/plain": [
       "        date seasons day_of_week      tSNE1     tSNE2\n",
       "0 2018-03-08  winter    Thursday  -0.413054 -9.151982\n",
       "1 2018-03-09  winter      Friday   0.387072 -8.741959\n",
       "2 2018-03-10  winter    Saturday  10.098584 -2.655794\n",
       "3 2018-03-11  winter      Sunday  12.572460 -2.025884\n",
       "4 2018-03-12  winter      Monday  -0.683684 -8.968102"
      ]
     },
     "execution_count": 82,
     "metadata": {},
     "output_type": "execute_result"
    }
   ],
   "source": [
    "from sklearn.manifold import TSNE\n",
    "\n",
    "X_embedded = TSNE(init='random', learning_rate='auto').fit_transform(X)\n",
    "print(X_embedded.shape)\n",
    "\n",
    "tSNE_df = pd.concat([Y, seasons, days, pd.DataFrame(X_embedded, columns=['tSNE1', 'tSNE2'])], axis=1)\n",
    "tSNE_df.head()"
   ]
  },
  {
   "cell_type": "code",
   "execution_count": 84,
   "metadata": {},
   "outputs": [
    {
     "data": {
      "application/vnd.plotly.v1+json": {
       "config": {
        "plotlyServerURL": "https://plot.ly"
       },
       "data": [
        {
         "hovertemplate": "day_of_week=Thursday<br>tSNE1=%{x}<br>tSNE2=%{y}<extra></extra>",
         "legendgroup": "Thursday",
         "marker": {
          "color": "#636efa",
          "symbol": "circle"
         },
         "mode": "markers",
         "name": "Thursday",
         "showlegend": true,
         "type": "scattergl",
         "x": [
          -0.41305407881736755,
          -0.7675450444221497,
          -0.6024224162101746,
          -0.16453871130943298,
          -1.1956064701080322,
          -0.5588300228118896,
          -1.7210568189620972,
          -0.9378480911254883,
          -1.182883381843567,
          -0.7977181077003479,
          -0.4396214485168457,
          0.7443029284477234,
          -0.8481689095497131,
          -1.8727456331253052,
          0.8644693493843079,
          5.643938064575195,
          1.362143635749817,
          3.043245553970337,
          1.7594351768493652,
          0.47938287258148193,
          1.217421531677246,
          1.9046086072921753,
          2.2248637676239014,
          2.845702886581421,
          1.868296504020691,
          -1.1002122163772583,
          -1.8158546686172485,
          -0.07800541073083878,
          -0.12707920372486115,
          -1.1807982921600342,
          0.26743292808532715,
          -2.280273199081421,
          -1.9111210107803345,
          -3.883066415786743,
          -6.846093654632568,
          -8.38822078704834,
          -6.783942699432373,
          16.712947845458984,
          -9.099400520324707,
          -8.386513710021973,
          -8.830194473266602,
          -3.624586343765259,
          -6.073877811431885,
          -9.444416046142578,
          -5.4150872230529785,
          -9.16276741027832,
          -9.441219329833984,
          15.346095085144043,
          -7.470521926879883,
          -10.835477828979492,
          -9.552474021911621,
          -11.19473648071289,
          -10.009475708007812,
          -6.839402675628662,
          -6.268702030181885,
          -5.763820171356201,
          -4.90494441986084,
          -5.389015197753906,
          -3.760921001434326,
          -6.450198173522949,
          -4.986740589141846,
          -6.47206974029541,
          -5.433443069458008,
          -9.865375518798828,
          -9.724039077758789,
          -4.848517894744873,
          -5.825124263763428,
          -6.187372207641602,
          -2.774618625640869,
          15.98946762084961,
          -4.905605792999268,
          -1.658589482307434,
          -5.730147361755371,
          -10.84837818145752,
          -2.7277729511260986,
          -3.9993484020233154,
          -3.6136481761932373,
          -5.959728240966797,
          -12.20151138305664,
          -4.201696395874023,
          -5.828110218048096,
          -6.855815887451172,
          -7.578797340393066,
          -4.773021221160889,
          -7.7711029052734375,
          -2.7726190090179443,
          2.502573251724243,
          -6.024921894073486,
          -8.00543212890625,
          -7.716363430023193,
          16.66969108581543,
          -7.959526062011719,
          -8.137504577636719,
          4.726362705230713,
          4.598283290863037,
          -7.611787796020508,
          -6.791779518127441,
          -8.589797973632812,
          -9.042647361755371,
          -6.068519115447998,
          -7.291072845458984,
          -1.574849009513855,
          -6.049147129058838,
          -7.093594551086426,
          -3.499511480331421,
          -6.482370376586914,
          8.220016479492188,
          8.232928276062012,
          8.103490829467773,
          8.29605770111084,
          8.242258071899414,
          8.362931251525879,
          8.292991638183594,
          8.915440559387207,
          9.013236999511719,
          8.647603034973145,
          4.815760612487793,
          9.091132164001465,
          7.82051420211792,
          6.819297790527344,
          8.08137321472168,
          8.203450202941895,
          8.161689758300781,
          8.874675750732422,
          8.61016845703125,
          8.391965866088867,
          8.451570510864258,
          7.310154438018799,
          7.843080520629883,
          6.301273345947266,
          5.5348429679870605,
          6.256360054016113,
          4.582454681396484,
          7.997040748596191,
          6.604875087738037,
          6.771275520324707,
          6.38308572769165,
          6.87982702255249,
          8.243902206420898,
          7.515273094177246,
          7.7448601722717285,
          7.415341854095459,
          14.891376495361328,
          4.994945049285889,
          7.377614974975586,
          6.446708679199219,
          7.584915637969971,
          8.11901569366455,
          7.033151626586914,
          7.047003746032715,
          6.01272439956665,
          4.819507598876953,
          5.933642387390137,
          5.817187309265137,
          7.5418853759765625,
          5.2986979484558105
         ],
         "xaxis": "x",
         "y": [
          -9.151982307434082,
          -6.072343349456787,
          -8.667316436767578,
          -8.230188369750977,
          -8.454352378845215,
          -7.883572578430176,
          -8.613015174865723,
          -10.130863189697266,
          -9.464776992797852,
          -9.652738571166992,
          -10.18989372253418,
          -9.755143165588379,
          -10.397843360900879,
          -9.630910873413086,
          -11.101178169250488,
          -4.849820137023926,
          -9.878567695617676,
          -9.502092361450195,
          -10.024672508239746,
          -9.43497371673584,
          -8.32715892791748,
          -10.354984283447266,
          -8.181493759155273,
          -10.007502555847168,
          -11.036377906799316,
          -13.066293716430664,
          -13.147547721862793,
          -13.051753044128418,
          -12.782723426818848,
          -12.070738792419434,
          -12.448266983032227,
          -10.210342407226562,
          -11.451977729797363,
          -6.707820415496826,
          -2.120836019515991,
          -1.0001592636108398,
          0.33860456943511963,
          1.6466808319091797,
          -1.2160853147506714,
          -2.9188051223754883,
          -2.072322130203247,
          4.143707275390625,
          1.3811661005020142,
          0.3978748619556427,
          1.7546755075454712,
          -0.6403108835220337,
          0.19713370501995087,
          1.5644785165786743,
          -1.6822004318237305,
          1.6688575744628906,
          -0.1629784107208252,
          -2.3462626934051514,
          1.2791827917099,
          -1.470411777496338,
          -2.120020866394043,
          2.605955123901367,
          2.2109336853027344,
          -1.5883837938308716,
          1.7881542444229126,
          -0.7943202257156372,
          5.461942672729492,
          0.6291720271110535,
          0.11840131133794785,
          2.3139007091522217,
          -0.5266736745834351,
          0.9153426885604858,
          1.6332001686096191,
          0.8830459117889404,
          2.4194529056549072,
          1.537390947341919,
          0.43015235662460327,
          -0.010428807698190212,
          -3.161550998687744,
          2.1991002559661865,
          -0.5246980786323547,
          -0.20147854089736938,
          -0.7089399099349976,
          4.797356128692627,
          -0.07518517971038818,
          2.7113966941833496,
          -4.7733893394470215,
          1.1584882736206055,
          -5.589130401611328,
          -2.1722280979156494,
          3.785510778427124,
          -1.3541942834854126,
          1.878822922706604,
          1.1026586294174194,
          2.4700353145599365,
          3.991236925125122,
          1.6560359001159668,
          0.6822105050086975,
          0.7231445908546448,
          16.682144165039062,
          9.244322776794434,
          1.2462592124938965,
          1.0440908670425415,
          3.2730369567871094,
          0.9000864624977112,
          6.3334150314331055,
          0.9795063138008118,
          6.079098701477051,
          -2.622373104095459,
          1.6047801971435547,
          5.944703578948975,
          0.8564035892486572,
          0.9382140040397644,
          1.0210864543914795,
          0.12872950732707977,
          0.2748333811759949,
          -1.2115466594696045,
          0.8251953721046448,
          0.709459125995636,
          -0.41361528635025024,
          0.2141689956188202,
          0.20557257533073425,
          16.71495819091797,
          1.1475633382797241,
          1.5329160690307617,
          3.0412912368774414,
          2.198850154876709,
          -1.952349066734314,
          2.597508668899536,
          3.0011301040649414,
          1.6723800897598267,
          3.921595573425293,
          3.8684191703796387,
          2.49993634223938,
          2.191831111907959,
          3.6206705570220947,
          4.441991329193115,
          3.6424643993377686,
          5.496613025665283,
          4.654297828674316,
          3.970022678375244,
          3.7136833667755127,
          3.9296529293060303,
          4.173524856567383,
          3.1787493228912354,
          5.646935939788818,
          5.304676055908203,
          5.244472026824951,
          1.2232335805892944,
          2.245882749557495,
          5.629676342010498,
          2.446204662322998,
          5.650694847106934,
          6.138331890106201,
          1.6011931896209717,
          1.827745795249939,
          5.937036514282227,
          16.70302391052246,
          5.003992557525635,
          5.356586933135986,
          -0.08324550837278366,
          5.373421669006348
         ],
         "yaxis": "y"
        },
        {
         "hovertemplate": "day_of_week=Friday<br>tSNE1=%{x}<br>tSNE2=%{y}<extra></extra>",
         "legendgroup": "Friday",
         "marker": {
          "color": "#EF553B",
          "symbol": "circle"
         },
         "mode": "markers",
         "name": "Friday",
         "showlegend": true,
         "type": "scattergl",
         "x": [
          0.3870721161365509,
          0.854550838470459,
          -0.14976398646831512,
          2.708819627761841,
          0.336650550365448,
          0.36326491832733154,
          -1.4050265550613403,
          -0.7965400815010071,
          2.1240012645721436,
          -1.474284052848816,
          -0.15527556836605072,
          0.9096759557723999,
          -1.0260127782821655,
          1.4554190635681152,
          1.2153257131576538,
          5.252846717834473,
          0.4253455102443695,
          0.3863678276538849,
          1.2744603157043457,
          0.8471896052360535,
          2.0389304161071777,
          2.0296168327331543,
          1.9239015579223633,
          3.037140130996704,
          3.5469930171966553,
          -0.5456362962722778,
          -1.3328713178634644,
          -1.1845653057098389,
          0.44789958000183105,
          -0.5049845576286316,
          -2.49165415763855,
          2.3621087074279785,
          -2.2901322841644287,
          -2.965362071990967,
          -3.215113878250122,
          -8.155516624450684,
          -8.418898582458496,
          9.71928882598877,
          -8.057168006896973,
          -8.021450996398926,
          -10.879227638244629,
          -7.404214382171631,
          -10.45030689239502,
          -8.972121238708496,
          -5.788815498352051,
          -9.137901306152344,
          5.784728050231934,
          -11.170920372009277,
          -2.8606669902801514,
          -10.638443946838379,
          -5.937461853027344,
          -7.3239946365356445,
          -5.130113124847412,
          -5.650006294250488,
          -5.63762903213501,
          -5.399673938751221,
          1.7692821025848389,
          -5.8711652755737305,
          2.619248628616333,
          -5.544742107391357,
          -5.928348541259766,
          -6.241185665130615,
          2.877936363220215,
          -6.625218868255615,
          -6.3209710121154785,
          -5.736714839935303,
          -6.1203742027282715,
          -5.938836097717285,
          4.090949535369873,
          9.388566017150879,
          -3.2562060356140137,
          -6.003345489501953,
          -4.408256530761719,
          -4.927666187286377,
          -1.2827421426773071,
          1.6889889240264893,
          -0.05290141701698303,
          -6.292920112609863,
          -4.248508930206299,
          -4.315524578094482,
          -10.024609565734863,
          3.2274866104125977,
          -7.028101444244385,
          -4.616965293884277,
          -3.5586495399475098,
          -3.505850076675415,
          -6.520467281341553,
          -2.28662371635437,
          -7.984983444213867,
          -7.362226486206055,
          14.627467155456543,
          -6.760987281799316,
          4.698139190673828,
          -5.344231128692627,
          -7.0758280754089355,
          -7.420201301574707,
          -6.415749549865723,
          -2.6728858947753906,
          -6.559049129486084,
          -5.349379539489746,
          -6.914560794830322,
          0.2644287943840027,
          -4.3620686531066895,
          -4.411214828491211,
          -4.10840368270874,
          0.9196202158927917,
          7.7859296798706055,
          8.197068214416504,
          7.740323066711426,
          8.286808967590332,
          8.647724151611328,
          7.6893792152404785,
          6.3579936027526855,
          8.037829399108887,
          6.924355983734131,
          8.73774242401123,
          4.8253397941589355,
          6.146219730377197,
          6.889291286468506,
          5.3800811767578125,
          7.984227657318115,
          9.267672538757324,
          8.379719734191895,
          6.402729034423828,
          6.9223175048828125,
          8.57654094696045,
          7.323458671569824,
          3.7635645866394043,
          7.784959316253662,
          4.813863754272461,
          3.9083521366119385,
          5.320987701416016,
          6.395418167114258,
          4.788633346557617,
          6.758302688598633,
          6.378408432006836,
          6.944605827331543,
          7.110928535461426,
          6.076747894287109,
          4.4236836433410645,
          3.9234039783477783,
          5.708515167236328,
          10.1514310836792,
          5.521239757537842,
          5.616179466247559,
          6.329824924468994,
          14.750075340270996,
          14.73517894744873,
          7.247496128082275,
          5.902237415313721,
          7.111204147338867,
          4.879244327545166,
          7.321981906890869,
          6.620341777801514,
          5.502511501312256,
          6.341486930847168
         ],
         "xaxis": "x",
         "y": [
          -8.741958618164062,
          -8.260120391845703,
          -8.566787719726562,
          -6.2726616859436035,
          -7.951672077178955,
          -8.675579071044922,
          -9.19107437133789,
          -9.553754806518555,
          -7.812694549560547,
          -9.66915512084961,
          -9.618861198425293,
          -11.4359130859375,
          -10.982721328735352,
          -8.49940299987793,
          -9.540067672729492,
          -5.377020359039307,
          -8.739919662475586,
          -11.402837753295898,
          -10.026191711425781,
          -10.353034019470215,
          -8.196123123168945,
          -10.520641326904297,
          -11.664619445800781,
          -10.303082466125488,
          -4.745506763458252,
          -12.036351203918457,
          -12.853140830993652,
          -11.951684951782227,
          -12.379794120788574,
          -12.00551986694336,
          -9.055383682250977,
          -6.389159202575684,
          -6.711306571960449,
          -6.7896504402160645,
          -5.942501068115234,
          -2.322650909423828,
          -3.0866646766662598,
          2.639638662338257,
          -3.740053653717041,
          -4.044863224029541,
          3.3663108348846436,
          -0.7223734259605408,
          1.0183124542236328,
          0.49938592314720154,
          2.5182392597198486,
          -0.5872605443000793,
          -4.7529706954956055,
          0.033871158957481384,
          3.8407795429229736,
          1.870158314704895,
          3.271796464920044,
          -1.4015758037567139,
          0.013446399010717869,
          2.157048463821411,
          -3.7941625118255615,
          3.027543306350708,
          0.1494782567024231,
          -1.5131869316101074,
          5.878850936889648,
          -0.7158123254776001,
          -0.19528044760227203,
          -1.4078043699264526,
          1.3002673387527466,
          -1.536275863647461,
          0.031552985310554504,
          0.8176368474960327,
          -2.274650812149048,
          2.1261801719665527,
          -0.821037769317627,
          1.6696065664291382,
          -2.9988012313842773,
          6.489215850830078,
          -0.39839789271354675,
          1.398519515991211,
          -0.6844974756240845,
          -6.438663005828857,
          -4.265072345733643,
          -3.9277865886688232,
          2.258390188217163,
          -2.284938335418701,
          -0.9491756558418274,
          -0.8212822079658508,
          3.193112373352051,
          3.276951789855957,
          2.9912898540496826,
          -1.4080456495285034,
          2.8519389629364014,
          1.6506462097167969,
          2.7783873081207275,
          2.722147226333618,
          0.7226186990737915,
          5.39436149597168,
          16.679428100585938,
          3.1961545944213867,
          1.9393469095230103,
          1.3938602209091187,
          1.435683012008667,
          -12.136698722839355,
          1.9555250406265259,
          1.4790489673614502,
          2.3435475826263428,
          5.904138565063477,
          4.782938480377197,
          4.686636447906494,
          3.4910836219787598,
          1.5241496562957764,
          0.8879149556159973,
          1.1840629577636719,
          -1.38876211643219,
          -0.27398744225502014,
          -1.2397289276123047,
          -0.4786171615123749,
          -0.019688405096530914,
          0.9019378423690796,
          -1.1327972412109375,
          0.12219540029764175,
          8.608454704284668,
          -1.1349461078643799,
          1.0451265573501587,
          1.95470130443573,
          2.2120938301086426,
          1.7758781909942627,
          -1.6793403625488281,
          -1.5530303716659546,
          2.285217046737671,
          2.763272762298584,
          1.3611541986465454,
          6.21284294128418,
          3.7984158992767334,
          4.859450817108154,
          4.00906229019165,
          3.737621784210205,
          3.73785662651062,
          3.899322032928467,
          3.9554736614227295,
          3.136099338531494,
          4.004662990570068,
          2.117269277572632,
          2.9014148712158203,
          4.195101261138916,
          1.3961669206619263,
          2.862100601196289,
          -0.6720113158226013,
          2.2865724563598633,
          1.8501917123794556,
          2.231304168701172,
          1.2916992902755737,
          1.4579766988754272,
          1.7106512784957886,
          4.041126251220703,
          1.7981189489364624,
          16.46210289001465,
          0.9734530448913574,
          7.780769348144531,
          4.961023807525635,
          0.9073195457458496
         ],
         "yaxis": "y"
        },
        {
         "hovertemplate": "day_of_week=Saturday<br>tSNE1=%{x}<br>tSNE2=%{y}<extra></extra>",
         "legendgroup": "Saturday",
         "marker": {
          "color": "#00cc96",
          "symbol": "circle"
         },
         "mode": "markers",
         "name": "Saturday",
         "showlegend": true,
         "type": "scattergl",
         "x": [
          10.098584175109863,
          -0.1753590852022171,
          9.953567504882812,
          10.752881050109863,
          8.744466781616211,
          9.917299270629883,
          11.54525089263916,
          9.425738334655762,
          8.980862617492676,
          11.98222827911377,
          10.63808536529541,
          3.5637567043304443,
          9.99221420288086,
          8.233362197875977,
          4.663029193878174,
          9.073291778564453,
          6.250605583190918,
          1.7656421661376953,
          9.097691535949707,
          9.257354736328125,
          4.90847635269165,
          3.7355453968048096,
          2.3476710319519043,
          1.5918686389923096,
          6.504568099975586,
          5.63446569442749,
          10.849133491516113,
          10.081119537353516,
          10.622786521911621,
          11.421527862548828,
          11.339046478271484,
          11.187983512878418,
          11.169111251831055,
          11.722676277160645,
          7.819239139556885,
          12.253518104553223,
          6.63559627532959,
          -1.3857736587524414,
          12.283600807189941,
          12.20387077331543,
          10.727507591247559,
          -0.6914930939674377,
          -12.879953384399414,
          3.3256194591522217,
          4.870915412902832,
          9.324703216552734,
          9.794938087463379,
          -11.830119132995605,
          11.827754020690918,
          10.336224555969238,
          11.547981262207031,
          11.751312255859375,
          12.164117813110352,
          2.3718271255493164,
          10.3967924118042,
          12.10232925415039,
          8.51899242401123,
          2.7179853916168213,
          9.46108627319336,
          12.713807106018066,
          10.312137603759766,
          11.081469535827637,
          9.890677452087402,
          -0.12875321507453918,
          12.183417320251465,
          9.183975219726562,
          6.77646017074585,
          3.9274730682373047,
          4.19892692565918,
          -0.24526117742061615,
          2.377453327178955,
          10.18049144744873,
          4.939761161804199,
          1.1874361038208008,
          4.798434257507324,
          8.949454307556152,
          8.17485523223877,
          3.2853097915649414,
          10.636187553405762,
          8.876395225524902,
          10.547739028930664,
          11.351079940795898,
          9.3753080368042,
          8.711140632629395,
          8.85788631439209,
          12.53923511505127,
          9.757689476013184,
          9.740614891052246,
          6.385018348693848,
          9.310321807861328,
          1.5363520383834839,
          9.556218147277832,
          4.8273701667785645,
          0.4299120604991913,
          -15.2998046875,
          1.012527346611023,
          14.565653800964355,
          10.997825622558594,
          11.323221206665039,
          11.600022315979004,
          11.515006065368652,
          11.36876106262207,
          11.335618019104004,
          8.774928092956543,
          5.640894412994385,
          0.8937023282051086,
          -18.397850036621094,
          -18.41645050048828,
          -18.46725845336914,
          -18.57008171081543,
          -18.538801193237305,
          -18.354476928710938,
          -18.73638343811035,
          -18.47490119934082,
          -18.622760772705078,
          -18.493587493896484,
          -18.64679527282715,
          -19.22014808654785,
          -18.765727996826172,
          -17.366718292236328,
          -17.264225006103516,
          -17.545040130615234,
          -17.29998016357422,
          -16.985620498657227,
          -16.91168785095215,
          -16.855125427246094,
          -17.246845245361328,
          -16.629560470581055,
          -17.323511123657227,
          -16.169605255126953,
          -16.256732940673828,
          -16.902206420898438,
          -15.828516006469727,
          -16.660568237304688,
          -16.78369140625,
          -16.026107788085938,
          -17.7801456451416,
          -16.680524826049805,
          -16.398149490356445,
          -17.143449783325195,
          -17.13685417175293,
          -17.465496063232422,
          -16.898021697998047,
          -17.03685760498047,
          -17.021286010742188,
          -16.644479751586914,
          -17.611873626708984,
          -16.149812698364258,
          -18.139432907104492,
          -17.687973022460938,
          -17.091394424438477,
          -17.805267333984375,
          -17.029884338378906,
          -17.78521728515625,
          -19.37904167175293,
          -17.85964584350586
         ],
         "xaxis": "x",
         "y": [
          -2.655794382095337,
          -7.043820381164551,
          -2.6916215419769287,
          -2.4808356761932373,
          -2.392033100128174,
          -1.8406704664230347,
          -2.9001970291137695,
          -2.1909427642822266,
          -5.065934181213379,
          -2.6323812007904053,
          -3.561356782913208,
          -6.46024227142334,
          0.10369736701250076,
          -3.3211846351623535,
          -8.912043571472168,
          -4.793635845184326,
          -2.3848462104797363,
          -5.021342754364014,
          -3.3429441452026367,
          -2.398571729660034,
          -7.4903154373168945,
          -2.41778302192688,
          2.899230480194092,
          -7.742355823516846,
          -3.0046186447143555,
          -3.1036407947540283,
          -0.8468343615531921,
          -0.9718824028968811,
          -3.4259493350982666,
          -0.3426225185394287,
          1.1902087926864624,
          -0.9267809987068176,
          0.6270872950553894,
          0.20335127413272858,
          -0.8296396732330322,
          1.9838519096374512,
          4.866084098815918,
          1.0461909770965576,
          2.085320472717285,
          2.0387890338897705,
          1.2901774644851685,
          1.2560690641403198,
          1.2555702924728394,
          3.0376689434051514,
          16.738609313964844,
          -1.4083409309387207,
          -1.3565373420715332,
          2.124764919281006,
          2.7405903339385986,
          5.173086166381836,
          2.1459758281707764,
          3.4535279273986816,
          2.9487392902374268,
          -2.706545829772949,
          4.49703311920166,
          1.8685318231582642,
          4.768992900848389,
          3.2956273555755615,
          5.638757705688477,
          2.796759605407715,
          7.298304557800293,
          3.4267232418060303,
          3.130934476852417,
          1.7497413158416748,
          2.822636365890503,
          6.638022422790527,
          -1.820959448814392,
          0.0015103695914149284,
          4.721706867218018,
          2.918105363845825,
          4.463136196136475,
          1.5671532154083252,
          -1.0623204708099365,
          2.416050434112549,
          -1.6236233711242676,
          7.387354373931885,
          7.831239223480225,
          1.6364792585372925,
          2.2252840995788574,
          3.847723960876465,
          3.763230085372925,
          2.8213865756988525,
          3.935696840286255,
          5.609015941619873,
          -1.44559645652771,
          2.6124019622802734,
          2.1769142150878906,
          3.5695178508758545,
          -0.6482661366462708,
          0.7610744833946228,
          3.0428295135498047,
          -0.2830441892147064,
          16.722986221313477,
          3.0446393489837646,
          0.956739068031311,
          2.946495532989502,
          2.522993326187134,
          2.8767874240875244,
          4.504715919494629,
          5.503052234649658,
          5.684283256530762,
          5.894815444946289,
          5.98297119140625,
          1.968653917312622,
          -1.1702576875686646,
          3.064746618270874,
          -1.520789384841919,
          -0.8729515075683594,
          -1.2291744947433472,
          -1.0382590293884277,
          -1.4683817625045776,
          -0.5668745040893555,
          -0.702861487865448,
          -1.0491186380386353,
          -0.7614660263061523,
          -0.8526955842971802,
          -1.0365095138549805,
          -1.50234854221344,
          -0.09461399912834167,
          -0.4118436276912689,
          0.5360531210899353,
          -1.4215781688690186,
          -1.1292427778244019,
          -0.22601154446601868,
          -0.4052499532699585,
          -0.4634448289871216,
          -0.2828115224838257,
          -0.5822939872741699,
          -0.6537052989006042,
          0.4463118612766266,
          -0.7575573921203613,
          0.21972431242465973,
          -0.23069529235363007,
          0.4557581841945648,
          0.7760469317436218,
          -0.08544962853193283,
          -0.012296737171709538,
          0.8001332879066467,
          0.9233019351959229,
          0.10356300324201584,
          0.6069386005401611,
          0.3810252249240875,
          1.6772310733795166,
          0.5532360672950745,
          0.5835081934928894,
          1.7567182779312134,
          0.08065840601921082,
          1.7352420091629028,
          0.26642853021621704,
          -0.21608160436153412,
          1.08930242061615,
          -0.7523715496063232,
          0.6740556359291077,
          0.7094242572784424,
          -1.0602130889892578,
          0.22094687819480896
         ],
         "yaxis": "y"
        },
        {
         "hovertemplate": "day_of_week=Sunday<br>tSNE1=%{x}<br>tSNE2=%{y}<extra></extra>",
         "legendgroup": "Sunday",
         "marker": {
          "color": "#ab63fa",
          "symbol": "circle"
         },
         "mode": "markers",
         "name": "Sunday",
         "showlegend": true,
         "type": "scattergl",
         "x": [
          12.572460174560547,
          12.546676635742188,
          12.226166725158691,
          12.072466850280762,
          13.08120059967041,
          4.890936851501465,
          12.545594215393066,
          12.209001541137695,
          12.987873077392578,
          12.652131080627441,
          13.157212257385254,
          6.491056442260742,
          12.039558410644531,
          11.854655265808105,
          10.881742477416992,
          -2.389528274536133,
          10.553668975830078,
          9.219264030456543,
          9.478575706481934,
          10.901336669921875,
          10.345810890197754,
          9.453980445861816,
          4.808283805847168,
          5.804171562194824,
          10.906705856323242,
          4.4461798667907715,
          13.645271301269531,
          13.565423011779785,
          13.82619571685791,
          13.813718795776367,
          7.9776530265808105,
          13.573444366455078,
          13.383260726928711,
          14.021177291870117,
          13.966547966003418,
          14.180619239807129,
          4.901351451873779,
          1.0049257278442383,
          13.749680519104004,
          13.488302230834961,
          14.439784049987793,
          -13.53986644744873,
          -14.168818473815918,
          12.189279556274414,
          4.868100166320801,
          13.530211448669434,
          -0.7606467008590698,
          9.953733444213867,
          13.382930755615234,
          13.251096725463867,
          13.678147315979004,
          13.44408130645752,
          13.566254615783691,
          14.20445442199707,
          12.998746871948242,
          14.771718978881836,
          13.75484561920166,
          14.93748950958252,
          14.127032279968262,
          14.52680778503418,
          14.863198280334473,
          13.614889144897461,
          13.956255912780762,
          0.9461734890937805,
          11.338252067565918,
          14.387104988098145,
          12.46647834777832,
          13.707815170288086,
          -2.4867660999298096,
          -0.6254687905311584,
          12.30903434753418,
          10.494250297546387,
          13.581350326538086,
          1.7434464693069458,
          13.334704399108887,
          12.13791275024414,
          13.187657356262207,
          4.06533670425415,
          12.81395149230957,
          13.161110877990723,
          14.054144859313965,
          13.018430709838867,
          13.446179389953613,
          4.421002388000488,
          5.312110424041748,
          11.742417335510254,
          9.717851638793945,
          12.663487434387207,
          13.651127815246582,
          12.201934814453125,
          -0.19294604659080505,
          13.011775970458984,
          4.860390663146973,
          -14.558282852172852,
          -15.999262809753418,
          12.197099685668945,
          12.921875953674316,
          13.087844848632812,
          13.091731071472168,
          13.140252113342285,
          15.011815071105957,
          12.42116928100586,
          12.96766185760498,
          10.772329330444336,
          13.182910919189453,
          -11.62375259399414,
          -19.120487213134766,
          -19.857851028442383,
          -19.99664306640625,
          -19.523347854614258,
          -19.355289459228516,
          -19.20443344116211,
          -19.646968841552734,
          -19.059846878051758,
          -19.76471710205078,
          -19.60223960876465,
          -20.27090835571289,
          -19.71262550354004,
          -19.96409797668457,
          -19.16963005065918,
          -18.541250228881836,
          -18.763256072998047,
          -18.323801040649414,
          -18.2875919342041,
          -19.23418617248535,
          -19.584705352783203,
          -19.195844650268555,
          -19.33399772644043,
          -19.039657592773438,
          -18.589807510375977,
          -19.044368743896484,
          -18.571088790893555,
          -17.246967315673828,
          -18.886526107788086,
          -18.63034439086914,
          -18.656267166137695,
          -18.55363655090332,
          -18.40826416015625,
          -17.92959976196289,
          -18.052053451538086,
          -18.49570655822754,
          -18.548887252807617,
          -18.76274871826172,
          -18.851543426513672,
          -18.67629623413086,
          -18.474281311035156,
          -18.76921844482422,
          -18.60488510131836,
          -18.544710159301758,
          -18.600017547607422,
          -18.562238693237305,
          -18.98179817199707,
          -17.940414428710938,
          -19.93994140625,
          -18.072288513183594,
          -18.4448299407959
         ],
         "xaxis": "x",
         "y": [
          -2.0258841514587402,
          -2.3872337341308594,
          -1.1426410675048828,
          -2.62483286857605,
          -1.817179560661316,
          16.758869171142578,
          -1.1524314880371094,
          -0.5489739179611206,
          -0.6210196614265442,
          -1.1571580171585083,
          4.5241570472717285,
          -6.5299906730651855,
          -2.861931562423706,
          -2.007256269454956,
          -3.5929973125457764,
          -4.3014702796936035,
          -4.390017986297607,
          -3.6823768615722656,
          -4.076735019683838,
          -1.5530962944030762,
          -4.285065174102783,
          -4.592624187469482,
          16.718347549438477,
          -2.060392141342163,
          -0.12664082646369934,
          -6.460837364196777,
          -0.1709507256746292,
          -0.790776789188385,
          -0.1245063915848732,
          1.4695113897323608,
          -3.5400471687316895,
          -0.38180163502693176,
          0.9109165668487549,
          1.8971307277679443,
          2.3799095153808594,
          3.375798463821411,
          16.724714279174805,
          3.2323906421661377,
          2.3483638763427734,
          1.4787726402282715,
          3.7700297832489014,
          0.06074841320514679,
          1.8738758563995361,
          0.9250806570053101,
          16.74394416809082,
          3.6649787425994873,
          4.7428693771362305,
          6.19613790512085,
          1.159468412399292,
          3.1625542640686035,
          3.1698060035705566,
          3.332033395767212,
          3.369680166244507,
          3.7994437217712402,
          3.1107876300811768,
          5.5807647705078125,
          3.7421751022338867,
          3.0373408794403076,
          4.539980888366699,
          5.335422992706299,
          4.646829128265381,
          2.228686809539795,
          4.246389389038086,
          4.719448566436768,
          2.6304118633270264,
          4.48065185546875,
          3.5174624919891357,
          4.777876853942871,
          -4.11215353012085,
          3.4448564052581787,
          7.058293342590332,
          1.6349847316741943,
          5.4886603355407715,
          3.8248417377471924,
          5.35918664932251,
          4.384713172912598,
          5.102689743041992,
          -2.1423614025115967,
          2.401534080505371,
          3.1029727458953857,
          2.6147212982177734,
          3.9058501720428467,
          3.816525936126709,
          16.89750862121582,
          16.718433380126953,
          3.817538022994995,
          4.66148042678833,
          4.41056489944458,
          3.049848794937134,
          0.8776010870933533,
          4.033509254455566,
          4.08371114730835,
          16.74030113220215,
          1.183720588684082,
          0.9393579363822937,
          4.8041510581970215,
          4.01122522354126,
          3.8417153358459473,
          4.133327960968018,
          4.314097881317139,
          3.2727901935577393,
          5.209985256195068,
          6.06367826461792,
          4.259521961212158,
          5.844689846038818,
          -2.3301331996917725,
          0.5670018196105957,
          0.6810786724090576,
          0.4912448823451996,
          0.6954949498176575,
          0.8642721772193909,
          0.8986200094223022,
          0.563410758972168,
          0.648539125919342,
          0.23192228376865387,
          1.2537519931793213,
          1.139996886253357,
          1.5960943698883057,
          1.9842227697372437,
          0.9648904800415039,
          1.5102498531341553,
          1.328005313873291,
          0.13309328258037567,
          0.4758329689502716,
          1.8280190229415894,
          -0.3520670235157013,
          1.6229499578475952,
          2.2530417442321777,
          1.5057278871536255,
          2.432919502258301,
          2.585411787033081,
          2.131891965866089,
          2.147686004638672,
          1.928857445716858,
          1.6116020679473877,
          1.5593719482421875,
          1.1559580564498901,
          1.402206301689148,
          2.0160224437713623,
          1.6598570346832275,
          1.0728075504302979,
          1.0078794956207275,
          1.3864765167236328,
          1.093700885772705,
          1.1079578399658203,
          1.363184928894043,
          1.2376914024353027,
          1.231467843055725,
          1.057597041130066,
          1.1086537837982178,
          1.0492252111434937,
          0.48255476355552673,
          1.465490698814392,
          1.3942749500274658,
          2.412832260131836,
          1.1399089097976685
         ],
         "yaxis": "y"
        },
        {
         "hovertemplate": "day_of_week=Monday<br>tSNE1=%{x}<br>tSNE2=%{y}<extra></extra>",
         "legendgroup": "Monday",
         "marker": {
          "color": "#FFA15A",
          "symbol": "circle"
         },
         "mode": "markers",
         "name": "Monday",
         "showlegend": true,
         "type": "scattergl",
         "x": [
          -0.6836841106414795,
          0.5745599269866943,
          0.22165586054325104,
          -0.29830461740493774,
          -1.0599405765533447,
          -6.829387664794922,
          -1.0595946311950684,
          -1.3270543813705444,
          -1.8950610160827637,
          -0.7659344673156738,
          0.9437515139579773,
          16.691492080688477,
          0.8383087515830994,
          -0.4999522566795349,
          1.161750078201294,
          1.6341586112976074,
          0.4867115914821625,
          1.760066032409668,
          2.409823179244995,
          1.7604010105133057,
          1.9546387195587158,
          3.6696183681488037,
          4.741235256195068,
          2.757826566696167,
          -1.3419249057769775,
          16.75334358215332,
          -1.2217689752578735,
          -0.06718144565820694,
          -0.5128905773162842,
          -0.7973199486732483,
          5.834892272949219,
          -2.7767584323883057,
          -4.1396164894104,
          -4.539139270782471,
          -8.497575759887695,
          2.240473985671997,
          -11.11865234375,
          -8.933833122253418,
          -8.264485359191895,
          -9.482879638671875,
          -5.219163417816162,
          10.748226165771484,
          7.6336259841918945,
          -7.969723224639893,
          -5.398460865020752,
          15.241081237792969,
          -2.929473638534546,
          -8.666779518127441,
          -9.516634941101074,
          10.17740535736084,
          -7.033398628234863,
          -4.011127471923828,
          -7.432728290557861,
          -5.118889331817627,
          -5.389628887176514,
          -5.793816089630127,
          -8.20207405090332,
          -4.0083746910095215,
          -5.948430061340332,
          -7.840379238128662,
          -5.899040222167969,
          -7.021632194519043,
          -5.252321720123291,
          16.645856857299805,
          -5.929608345031738,
          -4.979684829711914,
          -5.029629707336426,
          -4.311395645141602,
          -7.286326885223389,
          -5.030886650085449,
          -4.709235668182373,
          -4.889092922210693,
          -1.1549665927886963,
          3.256824016571045,
          0.7121552228927612,
          -4.196491718292236,
          -2.045199155807495,
          16.63125991821289,
          -6.954433441162109,
          -10.032804489135742,
          -9.697647094726562,
          -10.15644359588623,
          -8.484245300292969,
          4.685567378997803,
          -9.768973350524902,
          -9.603546142578125,
          -9.74299144744873,
          4.820485591888428,
          -7.927954196929932,
          -11.730002403259277,
          -9.955399513244629,
          -11.215267181396484,
          4.3010478019714355,
          -10.542940139770508,
          -4.889804840087891,
          -8.291238784790039,
          -7.787759780883789,
          15.360383033752441,
          -8.443434715270996,
          -8.655417442321777,
          -8.221364974975586,
          10.98532485961914,
          -8.120710372924805,
          -6.974040985107422,
          -6.851374626159668,
          -1.1196357011795044,
          7.670245170593262,
          6.551668643951416,
          7.006058692932129,
          6.9144086837768555,
          7.390544414520264,
          6.575003147125244,
          7.105325222015381,
          7.36754846572876,
          9.626531600952148,
          4.82433557510376,
          9.65686321258545,
          4.455126762390137,
          3.4935669898986816,
          4.400987148284912,
          5.368709087371826,
          7.112617015838623,
          4.9884843826293945,
          5.765259265899658,
          6.000961780548096,
          3.9806485176086426,
          4.9273681640625,
          3.8055756092071533,
          5.8682684898376465,
          5.305534839630127,
          9.16970443725586,
          4.549233913421631,
          4.3025431632995605,
          4.002195835113525,
          5.079707622528076,
          5.906182289123535,
          6.088120460510254,
          4.83032751083374,
          4.709322452545166,
          4.07309627532959,
          5.171157360076904,
          4.2215704917907715,
          5.300543308258057,
          5.522083282470703,
          5.529097080230713,
          5.035758972167969,
          4.351322650909424,
          4.476068496704102,
          4.387873649597168,
          5.083407402038574,
          4.3149542808532715,
          6.1664910316467285,
          7.128142833709717,
          7.153631210327148,
          3.380466938018799,
          4.978386878967285
         ],
         "xaxis": "x",
         "y": [
          -8.96810245513916,
          -8.948807716369629,
          -8.414214134216309,
          -8.897799491882324,
          -7.628752708435059,
          0.9892926812171936,
          -9.291069984436035,
          -10.048001289367676,
          -8.87366008758545,
          -6.026540279388428,
          -2.133084774017334,
          1.551234483718872,
          -9.05678653717041,
          -10.43980884552002,
          -11.03333854675293,
          -9.244412422180176,
          -9.491052627563477,
          -9.711033821105957,
          -9.48296070098877,
          -8.925271987915039,
          -9.066950798034668,
          -7.767251491546631,
          16.66558837890625,
          -9.349321365356445,
          -13.05945873260498,
          1.609560251235962,
          -13.010845184326172,
          -13.137491226196289,
          -12.63444995880127,
          -11.973617553710938,
          -3.1110315322875977,
          -10.048221588134766,
          -6.6926069259643555,
          -5.990916728973389,
          -1.5615721940994263,
          0.23697510361671448,
          0.448981374502182,
          -4.383899211883545,
          0.15275506675243378,
          -2.307072162628174,
          -2.5106236934661865,
          3.2065486907958984,
          3.3362863063812256,
          -0.46080440282821655,
          3.1255600452423096,
          1.7462184429168701,
          -12.24875545501709,
          -0.3645295202732086,
          1.0014057159423828,
          2.4563350677490234,
          -0.6378284692764282,
          -1.5969914197921753,
          -0.3870178163051605,
          -1.0789103507995605,
          -0.6920201182365417,
          -0.8667259216308594,
          0.1667257845401764,
          -0.7335859537124634,
          -0.45627087354660034,
          -0.5550232529640198,
          0.2686067521572113,
          0.3451978266239166,
          -1.7460458278656006,
          1.6390318870544434,
          -4.199040412902832,
          -0.01580662839114666,
          0.9147199988365173,
          1.4247289896011353,
          -2.2223174571990967,
          -0.24381425976753235,
          1.3901193141937256,
          -0.8635779619216919,
          2.2688353061676025,
          0.2076367437839508,
          -0.44434791803359985,
          -1.4875857830047607,
          0.11045961827039719,
          1.6517229080200195,
          1.7121659517288208,
          -3.7111077308654785,
          -1.6660680770874023,
          5.004805088043213,
          2.8104212284088135,
          8.93425178527832,
          3.8579297065734863,
          2.737297296524048,
          3.463909387588501,
          16.72061538696289,
          2.3888697624206543,
          0.9971780180931091,
          0.5217451453208923,
          -1.0402730703353882,
          16.305160522460938,
          -0.9609535932540894,
          3.8876235485076904,
          1.0154041051864624,
          0.6576374173164368,
          1.7768447399139404,
          1.770317554473877,
          1.7699123620986938,
          1.4783847332000732,
          3.007528781890869,
          1.5033248662948608,
          3.4610228538513184,
          0.5371248126029968,
          1.8501882553100586,
          -1.8935307264328003,
          -0.8997756838798523,
          -0.9080680012702942,
          -0.7441027760505676,
          -1.2347527742385864,
          -1.1242907047271729,
          -0.0025801060255616903,
          -0.5389020442962646,
          0.6194006204605103,
          16.72112274169922,
          0.23830990493297577,
          0.26905012130737305,
          4.894186496734619,
          0.5476165413856506,
          2.869227886199951,
          -1.7396875619888306,
          1.4191735982894897,
          2.829763412475586,
          3.1481454372406006,
          2.600673198699951,
          16.769277572631836,
          6.098863124847412,
          3.2352232933044434,
          4.309451580047607,
          5.046967029571533,
          2.3221917152404785,
          2.4070911407470703,
          2.325500011444092,
          2.7130706310272217,
          1.1930263042449951,
          2.2101776599884033,
          3.1058402061462402,
          1.5457322597503662,
          1.0512148141860962,
          -0.034527573734521866,
          1.6697230339050293,
          2.2892203330993652,
          2.3501601219177246,
          1.9065369367599487,
          2.829551935195923,
          1.750951886177063,
          2.431706428527832,
          1.7748229503631592,
          0.95318603515625,
          2.9897987842559814,
          -1.2866034507751465,
          -2.9280433654785156,
          -4.21418571472168,
          3.8355870246887207,
          6.078215599060059
         ],
         "yaxis": "y"
        },
        {
         "hovertemplate": "day_of_week=Tuesday<br>tSNE1=%{x}<br>tSNE2=%{y}<extra></extra>",
         "legendgroup": "Tuesday",
         "marker": {
          "color": "#19d3f3",
          "symbol": "circle"
         },
         "mode": "markers",
         "name": "Tuesday",
         "showlegend": true,
         "type": "scattergl",
         "x": [
          -0.544241189956665,
          0.488086074590683,
          0.779517650604248,
          -0.3118760585784912,
          -0.12413696944713593,
          -0.2537107467651367,
          -0.48768338561058044,
          -0.8086575865745544,
          0.050939302891492844,
          0.04298414662480354,
          -0.4467240571975708,
          -0.3197919428348541,
          0.14189378917217255,
          0.5181010961532593,
          1.1903374195098877,
          3.167038917541504,
          1.146378755569458,
          1.4095464944839478,
          2.1160759925842285,
          1.7753560543060303,
          3.221139430999756,
          2.8462531566619873,
          -1.6747628450393677,
          1.0289251804351807,
          -1.3169364929199219,
          -1.3653446435928345,
          -0.6437545418739319,
          -0.25609105825424194,
          -0.6018017530441284,
          -1.0070397853851318,
          -0.7362120151519775,
          -2.054366111755371,
          -3.8442938327789307,
          -6.664852142333984,
          -7.246359825134277,
          -8.279311180114746,
          -10.563096046447754,
          -7.6211724281311035,
          -9.548869132995605,
          -7.984182834625244,
          -7.403456211090088,
          16.644813537597656,
          16.508750915527344,
          -7.443329811096191,
          -6.865870475769043,
          -10.306431770324707,
          -8.786517143249512,
          -8.105356216430664,
          -2.0752909183502197,
          -8.259596824645996,
          -6.689818859100342,
          -4.615655422210693,
          -7.011715412139893,
          -5.673509120941162,
          -5.603963851928711,
          -5.659562587738037,
          -3.660799503326416,
          -6.096655368804932,
          -6.563760280609131,
          -10.514533996582031,
          -3.6061699390411377,
          -5.769054412841797,
          -5.907659530639648,
          -5.3500823974609375,
          -5.492736339569092,
          -4.080547332763672,
          -5.59225606918335,
          -3.84232234954834,
          -6.205974102020264,
          -3.322720527648926,
          -3.106764316558838,
          -3.1275954246520996,
          1.5334217548370361,
          1.8261488676071167,
          -2.8017845153808594,
          0.6026455163955688,
          -3.5075466632843018,
          -4.855337619781494,
          -1.6145579814910889,
          -4.726104259490967,
          -4.437856197357178,
          -8.957746505737305,
          -6.9383673667907715,
          -7.911968231201172,
          -7.438982963562012,
          -7.575129508972168,
          -8.168951988220215,
          -7.6487274169921875,
          -6.292693614959717,
          -10.66340446472168,
          -8.096835136413574,
          -7.7561492919921875,
          4.62478494644165,
          6.785266876220703,
          7.673935890197754,
          -8.744515419006348,
          -8.054450035095215,
          -9.427294731140137,
          -7.695630073547363,
          -7.899884223937988,
          -7.8543572425842285,
          -8.565439224243164,
          -9.140278816223145,
          -10.085002899169922,
          -7.79893159866333,
          7.823700428009033,
          8.107891082763672,
          8.718873023986816,
          8.417231559753418,
          8.35483169555664,
          8.653542518615723,
          9.093061447143555,
          8.111245155334473,
          8.133956909179688,
          9.20305347442627,
          4.818988800048828,
          9.642760276794434,
          9.545668601989746,
          6.627462387084961,
          5.824524402618408,
          10.23629093170166,
          7.785432815551758,
          8.225567817687988,
          8.632606506347656,
          8.222672462463379,
          3.616933822631836,
          4.822738170623779,
          7.767786026000977,
          7.923142910003662,
          6.5493083000183105,
          8.810380935668945,
          6.294371128082275,
          6.5313334465026855,
          7.137706756591797,
          6.379950523376465,
          6.814799785614014,
          6.651386737823486,
          7.344417095184326,
          6.763153553009033,
          6.892220973968506,
          6.543215274810791,
          5.769711017608643,
          6.370157241821289,
          4.606430530548096,
          5.871154308319092,
          5.436385631561279,
          6.985838890075684,
          7.488839626312256,
          7.124813556671143,
          7.276799201965332,
          7.174752235412598,
          4.799007415771484,
          6.65372371673584,
          7.261956691741943,
          5.384413242340088,
          5.510335445404053
         ],
         "xaxis": "x",
         "y": [
          -8.769466400146484,
          -8.105175018310547,
          -7.42297887802124,
          -7.420008182525635,
          -9.136645317077637,
          -10.512641906738281,
          -9.678141593933105,
          -10.195904731750488,
          -10.163627624511719,
          -8.208757400512695,
          -9.991825103759766,
          -10.262774467468262,
          -9.95914077758789,
          -10.451323509216309,
          -11.086716651916504,
          -8.317299842834473,
          -10.350712776184082,
          -9.558823585510254,
          -9.460447311401367,
          -9.018558502197266,
          -8.608396530151367,
          -7.834932804107666,
          -1.493233323097229,
          -7.228842258453369,
          -13.377727508544922,
          -13.008923530578613,
          -13.428633689880371,
          -12.618741989135742,
          -12.685848236083984,
          -12.09725570678711,
          -11.637336730957031,
          -11.195028305053711,
          -6.908513069152832,
          -3.122844934463501,
          -3.6126246452331543,
          -1.336585283279419,
          0.19472439587116241,
          -2.8990302085876465,
          -2.481898546218872,
          -2.0621464252471924,
          -1.7731571197509766,
          1.6597720384597778,
          1.731217622756958,
          0.38369354605674744,
          0.525859534740448,
          0.2030596137046814,
          -0.7899109125137329,
          0.2718181610107422,
          3.6754183769226074,
          -0.5282215476036072,
          -0.6906638741493225,
          -1.2183895111083984,
          -0.09953614324331284,
          -0.6587297916412354,
          -0.48942968249320984,
          -1.0495927333831787,
          -2.793839454650879,
          -0.019272420555353165,
          0.0875464454293251,
          -2.790663480758667,
          1.394251823425293,
          0.388716459274292,
          1.1172561645507812,
          0.8473489284515381,
          1.2752643823623657,
          0.46206942200660706,
          0.5337316393852234,
          0.7532127499580383,
          4.387114524841309,
          1.019323468208313,
          2.2681167125701904,
          0.12331032752990723,
          -1.1169933080673218,
          1.2751902341842651,
          4.905793190002441,
          0.5612478256225586,
          -0.409676730632782,
          -2.986814260482788,
          -2.8621342182159424,
          0.41613924503326416,
          -3.818636894226074,
          2.5225884914398193,
          0.5276085734367371,
          4.190735816955566,
          4.945701599121094,
          1.9323174953460693,
          1.1765142679214478,
          3.2115917205810547,
          -5.75651741027832,
          0.23271973431110382,
          2.079636573791504,
          5.917524814605713,
          16.615928649902344,
          6.69678258895874,
          3.5965633392333984,
          4.706140518188477,
          0.7955338358879089,
          1.983370304107666,
          1.7697101831436157,
          1.4748990535736084,
          1.0346839427947998,
          1.0015031099319458,
          1.5300532579421997,
          4.91405725479126,
          0.880474865436554,
          0.5603594779968262,
          0.6054139137268066,
          -1.8699750900268555,
          -0.4509626030921936,
          0.3778715431690216,
          0.5547526478767395,
          0.8912068009376526,
          -0.809386670589447,
          0.31006062030792236,
          0.36545702815055847,
          16.71785545349121,
          -0.0493694469332695,
          0.9016514420509338,
          2.9040839672088623,
          0.2597554326057434,
          0.4755844175815582,
          0.04658213630318642,
          2.788933038711548,
          2.5416243076324463,
          3.4800262451171875,
          2.392735004425049,
          16.70940589904785,
          2.89304780960083,
          -2.1537528038024902,
          1.1598507165908813,
          4.836350917816162,
          4.662578105926514,
          4.144573211669922,
          2.981905221939087,
          4.805249214172363,
          3.591064691543579,
          3.0856752395629883,
          2.3538923263549805,
          0.5111812353134155,
          2.8100454807281494,
          4.223391532897949,
          3.090813636779785,
          2.8039448261260986,
          3.6809346675872803,
          1.0347143411636353,
          3.327397584915161,
          -4.620603561401367,
          5.478391170501709,
          4.872292518615723,
          0.48184365034103394,
          0.5754147171974182,
          -0.4916469156742096,
          6.003899574279785,
          -4.007318496704102,
          7.209676265716553,
          6.260705947875977
         ],
         "yaxis": "y"
        },
        {
         "hovertemplate": "day_of_week=Wednesday<br>tSNE1=%{x}<br>tSNE2=%{y}<extra></extra>",
         "legendgroup": "Wednesday",
         "marker": {
          "color": "#FF6692",
          "symbol": "circle"
         },
         "mode": "markers",
         "name": "Wednesday",
         "showlegend": true,
         "type": "scattergl",
         "x": [
          -0.3931455910205841,
          -1.0837167501449585,
          -0.2805430591106415,
          -1.1817272901535034,
          -0.21943731606006622,
          -0.5049043893814087,
          -0.704052209854126,
          -0.3788088262081146,
          -0.9626503586769104,
          0.22800463438034058,
          -0.46639853715896606,
          0.5348348021507263,
          -0.05254289507865906,
          0.6039674282073975,
          0.8067023754119873,
          0.8456935882568359,
          16.16633415222168,
          1.3334521055221558,
          0.9244047403335571,
          2.1667213439941406,
          2.8324899673461914,
          1.7803311347961426,
          2.6956984996795654,
          1.4680646657943726,
          -1.185910701751709,
          -1.7865900993347168,
          -0.5095404386520386,
          -0.48867854475975037,
          -0.6290013790130615,
          -0.9553393125534058,
          -0.8376557230949402,
          -2.0868356227874756,
          -3.8499903678894043,
          -3.288485288619995,
          -7.970695972442627,
          -8.988097190856934,
          -6.979677677154541,
          -6.453021049499512,
          -2.835588216781616,
          -8.849897384643555,
          -6.763706207275391,
          -0.9130280017852783,
          -6.164633750915527,
          -6.303421497344971,
          -7.661780834197998,
          -10.180375099182129,
          16.729795455932617,
          -10.42183780670166,
          -7.862589359283447,
          -7.6042799949646,
          -6.790557861328125,
          -7.1411614418029785,
          -6.732830047607422,
          -7.088749885559082,
          -6.054327011108398,
          -6.17194938659668,
          -5.0485687255859375,
          -5.632453918457031,
          -6.433508396148682,
          -7.787825107574463,
          -6.974835395812988,
          -5.859365940093994,
          -7.409296035766602,
          -9.073805809020996,
          -6.424473762512207,
          -4.538168430328369,
          -4.178993225097656,
          -3.0740041732788086,
          -10.227065086364746,
          -1.9246110916137695,
          -5.69456672668457,
          -3.1383445262908936,
          -4.865862846374512,
          0.629932701587677,
          -2.878302574157715,
          -6.3748955726623535,
          -6.089967250823975,
          -9.589173316955566,
          -8.75117301940918,
          -4.03402042388916,
          -6.488595962524414,
          -7.629642963409424,
          -6.519494533538818,
          -6.462455749511719,
          -8.800398826599121,
          -6.193719863891602,
          -8.701131820678711,
          -6.957218170166016,
          -7.422236442565918,
          -8.802035331726074,
          -7.263917446136475,
          -7.765205383300781,
          4.728760719299316,
          5.270693302154541,
          15.643937110900879,
          -6.769289493560791,
          -7.094818115234375,
          -8.972631454467773,
          -7.3008527755737305,
          -4.539493560791016,
          -7.28556489944458,
          -7.477180480957031,
          -8.707706451416016,
          -7.053750038146973,
          -7.3700642585754395,
          8.154518127441406,
          8.759794235229492,
          6.61539363861084,
          8.540543556213379,
          7.430296421051025,
          8.066020011901855,
          8.58980655670166,
          8.31690788269043,
          9.024737358093262,
          8.674837112426758,
          4.8190460205078125,
          8.949193000793457,
          8.566941261291504,
          5.011443614959717,
          8.438414573669434,
          6.037439823150635,
          8.836950302124023,
          7.248010158538818,
          8.241202354431152,
          8.825361251831055,
          8.315187454223633,
          4.6986589431762695,
          5.58730411529541,
          6.333872318267822,
          7.008170127868652,
          5.6409010887146,
          8.480367660522461,
          5.570950508117676,
          6.648253917694092,
          5.976314544677734,
          7.366451263427734,
          6.922744274139404,
          7.173385143280029,
          4.043458461761475,
          7.233226299285889,
          6.013132572174072,
          7.5138044357299805,
          5.5828704833984375,
          6.348835468292236,
          6.106059551239014,
          5.590157985687256,
          7.0155744552612305,
          7.434783458709717,
          4.736063003540039,
          7.476765155792236,
          4.808165550231934,
          8.211041450500488,
          6.131965637207031,
          6.540339469909668,
          7.79109525680542
         ],
         "xaxis": "x",
         "y": [
          -8.143637657165527,
          -8.015305519104004,
          -1.9599311351776123,
          -7.804182052612305,
          -9.224875450134277,
          -9.335637092590332,
          -9.35293197631836,
          -9.616544723510742,
          -9.74843692779541,
          -10.772906303405762,
          -10.546960830688477,
          -9.911774635314941,
          -10.693682670593262,
          -10.455501556396484,
          -8.502745628356934,
          -5.516422748565674,
          1.2979260683059692,
          -9.729755401611328,
          -9.230537414550781,
          -8.940351486206055,
          -8.956716537475586,
          -8.74042797088623,
          -10.759483337402344,
          -7.385622024536133,
          -12.967434883117676,
          -13.18191146850586,
          -13.660553932189941,
          -12.582863807678223,
          -12.720322608947754,
          -11.906789779663086,
          -11.557543754577637,
          -11.15092945098877,
          -6.830035209655762,
          -7.581116676330566,
          -3.545924663543701,
          -3.301790475845337,
          -2.826787233352661,
          -5.249812602996826,
          -2.155848264694214,
          -2.00832200050354,
          -0.27967369556427,
          1.1446161270141602,
          0.7601776719093323,
          1.1515212059020996,
          -1.203750729560852,
          0.3275814652442932,
          1.6519089937210083,
          2.8096261024475098,
          -1.0170351266860962,
          -0.2637563943862915,
          -0.7147123217582703,
          -0.959732711315155,
          -1.1155378818511963,
          -0.38403621315956116,
          -2.2598249912261963,
          -1.055241584777832,
          2.1531965732574463,
          -0.07010599225759506,
          -0.31642773747444153,
          -0.2125021070241928,
          0.1430584341287613,
          0.3341900706291199,
          -0.08413712680339813,
          0.3056771755218506,
          -0.3516275882720947,
          1.7754048109054565,
          0.6319147348403931,
          2.399062395095825,
          -1.7236295938491821,
          2.6551513671875,
          4.241030216217041,
          0.06581304222345352,
          5.656752586364746,
          -0.4677319824695587,
          1.029495120048523,
          3.7820615768432617,
          4.208758354187012,
          1.2976795434951782,
          3.8134984970092773,
          -0.15614598989486694,
          1.6820406913757324,
          0.12729844450950623,
          2.593966484069824,
          2.27197527885437,
          3.2255442142486572,
          1.7481718063354492,
          0.029904954135417938,
          4.094332218170166,
          2.7771944999694824,
          2.1486663818359375,
          2.154895544052124,
          6.120351314544678,
          16.68028450012207,
          17.041383743286133,
          1.741571307182312,
          1.3043087720870972,
          0.756754994392395,
          0.9979309439659119,
          1.1713191270828247,
          -3.6482419967651367,
          0.8880903720855713,
          0.7039765119552612,
          4.7725749015808105,
          1.3327670097351074,
          0.6881235241889954,
          1.2288284301757812,
          -1.1731235980987549,
          -0.7413173913955688,
          -0.37926530838012695,
          0.07167704403400421,
          -0.3919508159160614,
          0.9313392043113708,
          0.7062470316886902,
          -0.6148649454116821,
          0.4022173583507538,
          16.717601776123047,
          -0.7126752138137817,
          0.9586188793182373,
          0.6954836249351501,
          1.6569688320159912,
          -0.621544361114502,
          1.8434288501739502,
          7.230538845062256,
          3.318366765975952,
          3.5541703701019287,
          3.917271375656128,
          9.00186538696289,
          3.5383431911468506,
          0.35632261633872986,
          3.121401071548462,
          1.785664439201355,
          3.462207317352295,
          1.3960118293762207,
          2.47595477104187,
          4.0941481590271,
          2.9727835655212402,
          3.3801660537719727,
          3.355480909347534,
          3.3422279357910156,
          4.389887809753418,
          4.440049171447754,
          -2.3842926025390625,
          2.1419737339019775,
          1.5132333040237427,
          2.0919535160064697,
          -0.017148075625300407,
          4.885555744171143,
          3.6988461017608643,
          3.1582560539245605,
          4.274888515472412,
          16.721179962158203,
          -1.3740434646606445,
          6.784096717834473,
          5.496798992156982,
          6.804045677185059
         ],
         "yaxis": "y"
        }
       ],
       "layout": {
        "legend": {
         "title": {
          "text": "day_of_week"
         },
         "tracegroupgap": 0
        },
        "margin": {
         "t": 60
        },
        "template": {
         "data": {
          "bar": [
           {
            "error_x": {
             "color": "#2a3f5f"
            },
            "error_y": {
             "color": "#2a3f5f"
            },
            "marker": {
             "line": {
              "color": "#E5ECF6",
              "width": 0.5
             },
             "pattern": {
              "fillmode": "overlay",
              "size": 10,
              "solidity": 0.2
             }
            },
            "type": "bar"
           }
          ],
          "barpolar": [
           {
            "marker": {
             "line": {
              "color": "#E5ECF6",
              "width": 0.5
             },
             "pattern": {
              "fillmode": "overlay",
              "size": 10,
              "solidity": 0.2
             }
            },
            "type": "barpolar"
           }
          ],
          "carpet": [
           {
            "aaxis": {
             "endlinecolor": "#2a3f5f",
             "gridcolor": "white",
             "linecolor": "white",
             "minorgridcolor": "white",
             "startlinecolor": "#2a3f5f"
            },
            "baxis": {
             "endlinecolor": "#2a3f5f",
             "gridcolor": "white",
             "linecolor": "white",
             "minorgridcolor": "white",
             "startlinecolor": "#2a3f5f"
            },
            "type": "carpet"
           }
          ],
          "choropleth": [
           {
            "colorbar": {
             "outlinewidth": 0,
             "ticks": ""
            },
            "type": "choropleth"
           }
          ],
          "contour": [
           {
            "colorbar": {
             "outlinewidth": 0,
             "ticks": ""
            },
            "colorscale": [
             [
              0,
              "#0d0887"
             ],
             [
              0.1111111111111111,
              "#46039f"
             ],
             [
              0.2222222222222222,
              "#7201a8"
             ],
             [
              0.3333333333333333,
              "#9c179e"
             ],
             [
              0.4444444444444444,
              "#bd3786"
             ],
             [
              0.5555555555555556,
              "#d8576b"
             ],
             [
              0.6666666666666666,
              "#ed7953"
             ],
             [
              0.7777777777777778,
              "#fb9f3a"
             ],
             [
              0.8888888888888888,
              "#fdca26"
             ],
             [
              1,
              "#f0f921"
             ]
            ],
            "type": "contour"
           }
          ],
          "contourcarpet": [
           {
            "colorbar": {
             "outlinewidth": 0,
             "ticks": ""
            },
            "type": "contourcarpet"
           }
          ],
          "heatmap": [
           {
            "colorbar": {
             "outlinewidth": 0,
             "ticks": ""
            },
            "colorscale": [
             [
              0,
              "#0d0887"
             ],
             [
              0.1111111111111111,
              "#46039f"
             ],
             [
              0.2222222222222222,
              "#7201a8"
             ],
             [
              0.3333333333333333,
              "#9c179e"
             ],
             [
              0.4444444444444444,
              "#bd3786"
             ],
             [
              0.5555555555555556,
              "#d8576b"
             ],
             [
              0.6666666666666666,
              "#ed7953"
             ],
             [
              0.7777777777777778,
              "#fb9f3a"
             ],
             [
              0.8888888888888888,
              "#fdca26"
             ],
             [
              1,
              "#f0f921"
             ]
            ],
            "type": "heatmap"
           }
          ],
          "heatmapgl": [
           {
            "colorbar": {
             "outlinewidth": 0,
             "ticks": ""
            },
            "colorscale": [
             [
              0,
              "#0d0887"
             ],
             [
              0.1111111111111111,
              "#46039f"
             ],
             [
              0.2222222222222222,
              "#7201a8"
             ],
             [
              0.3333333333333333,
              "#9c179e"
             ],
             [
              0.4444444444444444,
              "#bd3786"
             ],
             [
              0.5555555555555556,
              "#d8576b"
             ],
             [
              0.6666666666666666,
              "#ed7953"
             ],
             [
              0.7777777777777778,
              "#fb9f3a"
             ],
             [
              0.8888888888888888,
              "#fdca26"
             ],
             [
              1,
              "#f0f921"
             ]
            ],
            "type": "heatmapgl"
           }
          ],
          "histogram": [
           {
            "marker": {
             "pattern": {
              "fillmode": "overlay",
              "size": 10,
              "solidity": 0.2
             }
            },
            "type": "histogram"
           }
          ],
          "histogram2d": [
           {
            "colorbar": {
             "outlinewidth": 0,
             "ticks": ""
            },
            "colorscale": [
             [
              0,
              "#0d0887"
             ],
             [
              0.1111111111111111,
              "#46039f"
             ],
             [
              0.2222222222222222,
              "#7201a8"
             ],
             [
              0.3333333333333333,
              "#9c179e"
             ],
             [
              0.4444444444444444,
              "#bd3786"
             ],
             [
              0.5555555555555556,
              "#d8576b"
             ],
             [
              0.6666666666666666,
              "#ed7953"
             ],
             [
              0.7777777777777778,
              "#fb9f3a"
             ],
             [
              0.8888888888888888,
              "#fdca26"
             ],
             [
              1,
              "#f0f921"
             ]
            ],
            "type": "histogram2d"
           }
          ],
          "histogram2dcontour": [
           {
            "colorbar": {
             "outlinewidth": 0,
             "ticks": ""
            },
            "colorscale": [
             [
              0,
              "#0d0887"
             ],
             [
              0.1111111111111111,
              "#46039f"
             ],
             [
              0.2222222222222222,
              "#7201a8"
             ],
             [
              0.3333333333333333,
              "#9c179e"
             ],
             [
              0.4444444444444444,
              "#bd3786"
             ],
             [
              0.5555555555555556,
              "#d8576b"
             ],
             [
              0.6666666666666666,
              "#ed7953"
             ],
             [
              0.7777777777777778,
              "#fb9f3a"
             ],
             [
              0.8888888888888888,
              "#fdca26"
             ],
             [
              1,
              "#f0f921"
             ]
            ],
            "type": "histogram2dcontour"
           }
          ],
          "mesh3d": [
           {
            "colorbar": {
             "outlinewidth": 0,
             "ticks": ""
            },
            "type": "mesh3d"
           }
          ],
          "parcoords": [
           {
            "line": {
             "colorbar": {
              "outlinewidth": 0,
              "ticks": ""
             }
            },
            "type": "parcoords"
           }
          ],
          "pie": [
           {
            "automargin": true,
            "type": "pie"
           }
          ],
          "scatter": [
           {
            "marker": {
             "colorbar": {
              "outlinewidth": 0,
              "ticks": ""
             }
            },
            "type": "scatter"
           }
          ],
          "scatter3d": [
           {
            "line": {
             "colorbar": {
              "outlinewidth": 0,
              "ticks": ""
             }
            },
            "marker": {
             "colorbar": {
              "outlinewidth": 0,
              "ticks": ""
             }
            },
            "type": "scatter3d"
           }
          ],
          "scattercarpet": [
           {
            "marker": {
             "colorbar": {
              "outlinewidth": 0,
              "ticks": ""
             }
            },
            "type": "scattercarpet"
           }
          ],
          "scattergeo": [
           {
            "marker": {
             "colorbar": {
              "outlinewidth": 0,
              "ticks": ""
             }
            },
            "type": "scattergeo"
           }
          ],
          "scattergl": [
           {
            "marker": {
             "colorbar": {
              "outlinewidth": 0,
              "ticks": ""
             }
            },
            "type": "scattergl"
           }
          ],
          "scattermapbox": [
           {
            "marker": {
             "colorbar": {
              "outlinewidth": 0,
              "ticks": ""
             }
            },
            "type": "scattermapbox"
           }
          ],
          "scatterpolar": [
           {
            "marker": {
             "colorbar": {
              "outlinewidth": 0,
              "ticks": ""
             }
            },
            "type": "scatterpolar"
           }
          ],
          "scatterpolargl": [
           {
            "marker": {
             "colorbar": {
              "outlinewidth": 0,
              "ticks": ""
             }
            },
            "type": "scatterpolargl"
           }
          ],
          "scatterternary": [
           {
            "marker": {
             "colorbar": {
              "outlinewidth": 0,
              "ticks": ""
             }
            },
            "type": "scatterternary"
           }
          ],
          "surface": [
           {
            "colorbar": {
             "outlinewidth": 0,
             "ticks": ""
            },
            "colorscale": [
             [
              0,
              "#0d0887"
             ],
             [
              0.1111111111111111,
              "#46039f"
             ],
             [
              0.2222222222222222,
              "#7201a8"
             ],
             [
              0.3333333333333333,
              "#9c179e"
             ],
             [
              0.4444444444444444,
              "#bd3786"
             ],
             [
              0.5555555555555556,
              "#d8576b"
             ],
             [
              0.6666666666666666,
              "#ed7953"
             ],
             [
              0.7777777777777778,
              "#fb9f3a"
             ],
             [
              0.8888888888888888,
              "#fdca26"
             ],
             [
              1,
              "#f0f921"
             ]
            ],
            "type": "surface"
           }
          ],
          "table": [
           {
            "cells": {
             "fill": {
              "color": "#EBF0F8"
             },
             "line": {
              "color": "white"
             }
            },
            "header": {
             "fill": {
              "color": "#C8D4E3"
             },
             "line": {
              "color": "white"
             }
            },
            "type": "table"
           }
          ]
         },
         "layout": {
          "annotationdefaults": {
           "arrowcolor": "#2a3f5f",
           "arrowhead": 0,
           "arrowwidth": 1
          },
          "autotypenumbers": "strict",
          "coloraxis": {
           "colorbar": {
            "outlinewidth": 0,
            "ticks": ""
           }
          },
          "colorscale": {
           "diverging": [
            [
             0,
             "#8e0152"
            ],
            [
             0.1,
             "#c51b7d"
            ],
            [
             0.2,
             "#de77ae"
            ],
            [
             0.3,
             "#f1b6da"
            ],
            [
             0.4,
             "#fde0ef"
            ],
            [
             0.5,
             "#f7f7f7"
            ],
            [
             0.6,
             "#e6f5d0"
            ],
            [
             0.7,
             "#b8e186"
            ],
            [
             0.8,
             "#7fbc41"
            ],
            [
             0.9,
             "#4d9221"
            ],
            [
             1,
             "#276419"
            ]
           ],
           "sequential": [
            [
             0,
             "#0d0887"
            ],
            [
             0.1111111111111111,
             "#46039f"
            ],
            [
             0.2222222222222222,
             "#7201a8"
            ],
            [
             0.3333333333333333,
             "#9c179e"
            ],
            [
             0.4444444444444444,
             "#bd3786"
            ],
            [
             0.5555555555555556,
             "#d8576b"
            ],
            [
             0.6666666666666666,
             "#ed7953"
            ],
            [
             0.7777777777777778,
             "#fb9f3a"
            ],
            [
             0.8888888888888888,
             "#fdca26"
            ],
            [
             1,
             "#f0f921"
            ]
           ],
           "sequentialminus": [
            [
             0,
             "#0d0887"
            ],
            [
             0.1111111111111111,
             "#46039f"
            ],
            [
             0.2222222222222222,
             "#7201a8"
            ],
            [
             0.3333333333333333,
             "#9c179e"
            ],
            [
             0.4444444444444444,
             "#bd3786"
            ],
            [
             0.5555555555555556,
             "#d8576b"
            ],
            [
             0.6666666666666666,
             "#ed7953"
            ],
            [
             0.7777777777777778,
             "#fb9f3a"
            ],
            [
             0.8888888888888888,
             "#fdca26"
            ],
            [
             1,
             "#f0f921"
            ]
           ]
          },
          "colorway": [
           "#636efa",
           "#EF553B",
           "#00cc96",
           "#ab63fa",
           "#FFA15A",
           "#19d3f3",
           "#FF6692",
           "#B6E880",
           "#FF97FF",
           "#FECB52"
          ],
          "font": {
           "color": "#2a3f5f"
          },
          "geo": {
           "bgcolor": "white",
           "lakecolor": "white",
           "landcolor": "#E5ECF6",
           "showlakes": true,
           "showland": true,
           "subunitcolor": "white"
          },
          "hoverlabel": {
           "align": "left"
          },
          "hovermode": "closest",
          "mapbox": {
           "style": "light"
          },
          "paper_bgcolor": "white",
          "plot_bgcolor": "#E5ECF6",
          "polar": {
           "angularaxis": {
            "gridcolor": "white",
            "linecolor": "white",
            "ticks": ""
           },
           "bgcolor": "#E5ECF6",
           "radialaxis": {
            "gridcolor": "white",
            "linecolor": "white",
            "ticks": ""
           }
          },
          "scene": {
           "xaxis": {
            "backgroundcolor": "#E5ECF6",
            "gridcolor": "white",
            "gridwidth": 2,
            "linecolor": "white",
            "showbackground": true,
            "ticks": "",
            "zerolinecolor": "white"
           },
           "yaxis": {
            "backgroundcolor": "#E5ECF6",
            "gridcolor": "white",
            "gridwidth": 2,
            "linecolor": "white",
            "showbackground": true,
            "ticks": "",
            "zerolinecolor": "white"
           },
           "zaxis": {
            "backgroundcolor": "#E5ECF6",
            "gridcolor": "white",
            "gridwidth": 2,
            "linecolor": "white",
            "showbackground": true,
            "ticks": "",
            "zerolinecolor": "white"
           }
          },
          "shapedefaults": {
           "line": {
            "color": "#2a3f5f"
           }
          },
          "ternary": {
           "aaxis": {
            "gridcolor": "white",
            "linecolor": "white",
            "ticks": ""
           },
           "baxis": {
            "gridcolor": "white",
            "linecolor": "white",
            "ticks": ""
           },
           "bgcolor": "#E5ECF6",
           "caxis": {
            "gridcolor": "white",
            "linecolor": "white",
            "ticks": ""
           }
          },
          "title": {
           "x": 0.05
          },
          "xaxis": {
           "automargin": true,
           "gridcolor": "white",
           "linecolor": "white",
           "ticks": "",
           "title": {
            "standoff": 15
           },
           "zerolinecolor": "white",
           "zerolinewidth": 2
          },
          "yaxis": {
           "automargin": true,
           "gridcolor": "white",
           "linecolor": "white",
           "ticks": "",
           "title": {
            "standoff": 15
           },
           "zerolinecolor": "white",
           "zerolinewidth": 2
          }
         }
        },
        "xaxis": {
         "anchor": "y",
         "domain": [
          0,
          1
         ],
         "title": {
          "text": "tSNE1"
         }
        },
        "yaxis": {
         "anchor": "x",
         "domain": [
          0,
          1
         ],
         "title": {
          "text": "tSNE2"
         }
        }
       }
      }
     },
     "metadata": {},
     "output_type": "display_data"
    }
   ],
   "source": [
    "fig = px.scatter(tSNE_df, x='tSNE1', y='tSNE2', color=tSNE_df['day_of_week'])\n",
    "fig.show()"
   ]
  },
  {
   "cell_type": "code",
   "execution_count": null,
   "metadata": {},
   "outputs": [],
   "source": []
  }
 ],
 "metadata": {
  "kernelspec": {
   "display_name": "Python 3.9.12",
   "language": "python",
   "name": "python3"
  },
  "language_info": {
   "codemirror_mode": {
    "name": "ipython",
    "version": 3
   },
   "file_extension": ".py",
   "mimetype": "text/x-python",
   "name": "python",
   "nbconvert_exporter": "python",
   "pygments_lexer": "ipython3",
   "version": "3.9.12"
  },
  "orig_nbformat": 4,
  "vscode": {
   "interpreter": {
    "hash": "81c79486f737ff40ad99feb1c993b628851eb606307649a223d18e7f89d7b63e"
   }
  }
 },
 "nbformat": 4,
 "nbformat_minor": 2
}
