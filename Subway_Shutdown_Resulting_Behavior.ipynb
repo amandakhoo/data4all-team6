{
 "cells": [
  {
   "cell_type": "code",
   "execution_count": 21,
   "metadata": {},
   "outputs": [],
   "source": [
    "import math\n",
    "import pandas as pd\n",
    "import numpy as np\n",
    "import matplotlib.pyplot as plt\n",
    "import seaborn as sns"
   ]
  },
  {
   "cell_type": "code",
   "execution_count": 22,
   "metadata": {},
   "outputs": [
    {
     "name": "stdout",
     "output_type": "stream",
     "text": [
      "/Users/madea/Desktop/DS4A/data/merged_RRI_SRI_data.csv\n"
     ]
    }
   ],
   "source": [
    "#Get data from file\n",
    "cwd = \"/Users/madea/Desktop/DS4A/data/\"\n",
    "filename = \"merged_RRI_SRI_data.csv\"\n",
    "filepath = cwd + filename\n",
    "print(filepath)"
   ]
  },
  {
   "cell_type": "code",
   "execution_count": 23,
   "metadata": {},
   "outputs": [],
   "source": [
    "SRI_RRI_df = pd.read_csv(filepath)\n",
    "SRI_RRI_df = SRI_RRI_df[SRI_RRI_df.notna()]"
   ]
  },
  {
   "cell_type": "code",
   "execution_count": 24,
   "metadata": {},
   "outputs": [
    {
     "name": "stdout",
     "output_type": "stream",
     "text": [
      "Number of Features: 1191\n",
      "Number of Samples:  1091\n",
      "         date  segment_1307_max_SRI  segment_873_max_SRI  segment_863_max_SRI  \\\n",
      "0  2018-03-08              3.718594             3.457253             4.562368   \n",
      "1  2018-03-09              4.522901             3.488016             2.997927   \n",
      "2  2018-03-10              6.107322             1.234070             3.085771   \n",
      "3  2018-03-11              3.873077             1.261212             6.840369   \n",
      "4  2018-03-12              5.228657             3.413127             4.470042   \n",
      "\n",
      "   segment_1061_max_SRI  segment_235_max_SRI  segment_225_max_SRI  \\\n",
      "0              0.044862             2.945760             4.199607   \n",
      "1              0.044862             2.187291             5.328785   \n",
      "2              0.044862             2.719971             5.989625   \n",
      "3              0.044862             3.189822             5.489281   \n",
      "4              0.044862             3.863130             4.415463   \n",
      "\n",
      "   segment_460_max_SRI  segment_518_max_SRI  segment_470_max_SRI  ...  \\\n",
      "0             3.028331             3.724648             4.429002  ...   \n",
      "1             3.858570             3.859563             5.073305  ...   \n",
      "2             1.741679             3.162777             4.063662  ...   \n",
      "3             1.741679             4.638495             6.471925  ...   \n",
      "4             4.612428             4.991392             4.664407  ...   \n",
      "\n",
      "   station_40840_max_RRI  station_40850_max_RRI  station_40610_max_RRI  \\\n",
      "0               0.940419               1.093750               0.635217   \n",
      "1               1.289443               2.337111               0.554911   \n",
      "2               3.112223               3.834196               3.938322   \n",
      "3               4.748849               4.101958               4.668180   \n",
      "4               1.214632               0.721219               0.674600   \n",
      "\n",
      "   station_40600_max_RRI  station_41690_max_RRI  station_41680_max_RRI  \\\n",
      "0               0.460772               1.056587               0.156348   \n",
      "1               0.626054               0.820090               1.126202   \n",
      "2               3.936778               1.876850               3.942463   \n",
      "3               4.061820               2.394439               4.565925   \n",
      "4               0.515856               1.015444               0.551766   \n",
      "\n",
      "   station_40280_max_RRI  station_40290_max_RRI  station_41200_max_RRI  \\\n",
      "0               1.037322               1.469957               1.257610   \n",
      "1               0.606894               1.308201               0.732345   \n",
      "2               3.082432               2.434927               1.473967   \n",
      "3               3.578462               3.591185               3.080530   \n",
      "4               1.174367               1.354263               0.579096   \n",
      "\n",
      "   station_41210_max_RRI  \n",
      "0               0.466765  \n",
      "1               0.975567  \n",
      "2               3.281961  \n",
      "3               4.589329  \n",
      "4               0.477413  \n",
      "\n",
      "[5 rows x 1191 columns]\n"
     ]
    }
   ],
   "source": [
    "print(\"Number of Features:\", len(SRI_RRI_df.columns))\n",
    "print(\"Number of Samples: \", len(SRI_RRI_df.index))\n",
    "print(SRI_RRI_df.head(5))"
   ]
  },
  {
   "cell_type": "markdown",
   "metadata": {},
   "source": [
    "Considering each segment of the road and station of the subway as the feature. Sample points are respectively SRI and RRI for given day, date in time."
   ]
  },
  {
   "cell_type": "code",
   "execution_count": 25,
   "metadata": {},
   "outputs": [
    {
     "name": "stdout",
     "output_type": "stream",
     "text": [
      "Index(['date', 'segment_1307_max_SRI', 'segment_873_max_SRI',\n",
      "       'segment_863_max_SRI', 'segment_1061_max_SRI', 'segment_235_max_SRI',\n",
      "       'segment_225_max_SRI', 'segment_460_max_SRI', 'segment_518_max_SRI',\n",
      "       'segment_470_max_SRI',\n",
      "       ...\n",
      "       'station_40840_max_RRI', 'station_40850_max_RRI',\n",
      "       'station_40610_max_RRI', 'station_40600_max_RRI',\n",
      "       'station_41690_max_RRI', 'station_41680_max_RRI',\n",
      "       'station_40280_max_RRI', 'station_40290_max_RRI',\n",
      "       'station_41200_max_RRI', 'station_41210_max_RRI'],\n",
      "      dtype='object', length=1191)\n",
      "[[ 3.71859434  3.45725327  4.56236783 ...  1.46995743  1.25760969\n",
      "   0.46676522]\n",
      " [ 4.52290077  3.4880156   2.99792708 ...  1.30820061  0.73234454\n",
      "   0.97556654]\n",
      " [ 6.10732158  1.23406956  3.08577103 ...  2.43492688  1.47396656\n",
      "   3.28196059]\n",
      " ...\n",
      " [ 5.00027527  1.26121192  3.07582245 ... -1.14913715 -1.13862284\n",
      "  -1.94974363]\n",
      " [ 5.1207392   1.3205983   1.99847392 ...  2.28822288  1.41131448\n",
      "   2.69400324]\n",
      " [ 3.48198141  1.71525511  1.77454611 ...  2.6883569   1.86503962\n",
      "   3.39012931]]\n"
     ]
    }
   ],
   "source": [
    "from sklearn.preprocessing import StandardScaler\n",
    "from sklearn.decomposition import PCA\n",
    "\n",
    "copy_df = SRI_RRI_df.copy(deep=True)\n",
    "copy_df = copy_df.fillna(0)\n",
    "\n",
    "# train_percent = 0.7\n",
    "# total_num_samples = len(copy_df.index)\n",
    "# train_samples = math.ceil(train_percent * total_num_samples)\n",
    "\n",
    "# train_df = copy_df[0:train_samples].copy(deep=True)\n",
    "\n",
    "features = copy_df.columns[copy_df.columns != 'date']\n",
    "\n",
    "# train_df = train_df.dropna()\n",
    "x = copy_df.loc[:, features].values\n",
    "y = copy_df.loc[:,['date']].values\n",
    "\n",
    "print(copy_df.columns)\n",
    "print(x)\n",
    "\n",
    "X = StandardScaler().fit_transform(x)\n"
   ]
  },
  {
   "cell_type": "code",
   "execution_count": 26,
   "metadata": {},
   "outputs": [
    {
     "name": "stdout",
     "output_type": "stream",
     "text": [
      "PCA Explained Variance Ratio: [0.11049072 0.08191194]\n",
      "PCA Singular Values: [378.26889848 325.69519219]\n"
     ]
    }
   ],
   "source": [
    "num_components = 2\n",
    "pca = PCA(n_components = num_components)\n",
    "principalComponents = pca.fit_transform(X)\n",
    "\n",
    "\n",
    "print(\"PCA Explained Variance Ratio:\", pca.explained_variance_ratio_)\n",
    "print(\"PCA Singular Values:\", pca.singular_values_)"
   ]
  },
  {
   "cell_type": "code",
   "execution_count": 27,
   "metadata": {},
   "outputs": [
    {
     "name": "stdout",
     "output_type": "stream",
     "text": [
      "        pc1        pc2        date\n",
      "0 -9.296984  -3.748080  2018-03-08\n",
      "1 -7.589957  -4.760699  2018-03-09\n",
      "2  3.523980 -13.698625  2018-03-10\n",
      "3  5.665600 -21.936094  2018-03-11\n",
      "4 -9.002845  -3.056505  2018-03-12\n"
     ]
    }
   ],
   "source": [
    "PCA_df = pd.DataFrame(data = principalComponents,\n",
    "                      columns = ['pc1', 'pc2'])\n",
    "PCA_df['date'] = y\n",
    "print(PCA_df.head(5))"
   ]
  },
  {
   "cell_type": "markdown",
   "metadata": {},
   "source": [
    "## Using Plotly vs. Seaborn"
   ]
  },
  {
   "cell_type": "markdown",
   "metadata": {},
   "source": [
    "Plotly is an interactive map. Can hover over each point to get information on pc1, pc2, and date values."
   ]
  },
  {
   "cell_type": "code",
   "execution_count": 28,
   "metadata": {},
   "outputs": [
    {
     "data": {
      "application/vnd.plotly.v1+json": {
       "config": {
        "plotlyServerURL": "https://plot.ly"
       },
       "data": [
        {
         "hovertemplate": "date=2018-03-08<br>pc1=%{x}<br>pc2=%{y}<extra></extra>",
         "legendgroup": "2018-03-08",
         "marker": {
          "color": "#636efa",
          "symbol": "circle"
         },
         "mode": "markers",
         "name": "2018-03-08",
         "showlegend": true,
         "type": "scattergl",
         "x": [
          -9.296983984363989
         ],
         "xaxis": "x",
         "y": [
          -3.7480798130645576
         ],
         "yaxis": "y"
        },
        {
         "hovertemplate": "date=2018-03-09<br>pc1=%{x}<br>pc2=%{y}<extra></extra>",
         "legendgroup": "2018-03-09",
         "marker": {
          "color": "#EF553B",
          "symbol": "circle"
         },
         "mode": "markers",
         "name": "2018-03-09",
         "showlegend": true,
         "type": "scattergl",
         "x": [
          -7.589957212456386
         ],
         "xaxis": "x",
         "y": [
          -4.760699431813846
         ],
         "yaxis": "y"
        },
        {
         "hovertemplate": "date=2018-03-10<br>pc1=%{x}<br>pc2=%{y}<extra></extra>",
         "legendgroup": "2018-03-10",
         "marker": {
          "color": "#00cc96",
          "symbol": "circle"
         },
         "mode": "markers",
         "name": "2018-03-10",
         "showlegend": true,
         "type": "scattergl",
         "x": [
          3.523980172672641
         ],
         "xaxis": "x",
         "y": [
          -13.698625306139506
         ],
         "yaxis": "y"
        },
        {
         "hovertemplate": "date=2018-03-11<br>pc1=%{x}<br>pc2=%{y}<extra></extra>",
         "legendgroup": "2018-03-11",
         "marker": {
          "color": "#ab63fa",
          "symbol": "circle"
         },
         "mode": "markers",
         "name": "2018-03-11",
         "showlegend": true,
         "type": "scattergl",
         "x": [
          5.66560024244081
         ],
         "xaxis": "x",
         "y": [
          -21.9360942110677
         ],
         "yaxis": "y"
        },
        {
         "hovertemplate": "date=2018-03-12<br>pc1=%{x}<br>pc2=%{y}<extra></extra>",
         "legendgroup": "2018-03-12",
         "marker": {
          "color": "#FFA15A",
          "symbol": "circle"
         },
         "mode": "markers",
         "name": "2018-03-12",
         "showlegend": true,
         "type": "scattergl",
         "x": [
          -9.002845213079004
         ],
         "xaxis": "x",
         "y": [
          -3.0565046844215864
         ],
         "yaxis": "y"
        },
        {
         "hovertemplate": "date=2018-03-13<br>pc1=%{x}<br>pc2=%{y}<extra></extra>",
         "legendgroup": "2018-03-13",
         "marker": {
          "color": "#19d3f3",
          "symbol": "circle"
         },
         "mode": "markers",
         "name": "2018-03-13",
         "showlegend": true,
         "type": "scattergl",
         "x": [
          -8.166343242776437
         ],
         "xaxis": "x",
         "y": [
          -5.156900539425529
         ],
         "yaxis": "y"
        },
        {
         "hovertemplate": "date=2018-03-14<br>pc1=%{x}<br>pc2=%{y}<extra></extra>",
         "legendgroup": "2018-03-14",
         "marker": {
          "color": "#FF6692",
          "symbol": "circle"
         },
         "mode": "markers",
         "name": "2018-03-14",
         "showlegend": true,
         "type": "scattergl",
         "x": [
          -8.482579071348415
         ],
         "xaxis": "x",
         "y": [
          -7.185845876295989
         ],
         "yaxis": "y"
        },
        {
         "hovertemplate": "date=2018-03-15<br>pc1=%{x}<br>pc2=%{y}<extra></extra>",
         "legendgroup": "2018-03-15",
         "marker": {
          "color": "#B6E880",
          "symbol": "circle"
         },
         "mode": "markers",
         "name": "2018-03-15",
         "showlegend": true,
         "type": "scattergl",
         "x": [
          -6.914633943440615
         ],
         "xaxis": "x",
         "y": [
          -4.234052389841158
         ],
         "yaxis": "y"
        },
        {
         "hovertemplate": "date=2018-03-16<br>pc1=%{x}<br>pc2=%{y}<extra></extra>",
         "legendgroup": "2018-03-16",
         "marker": {
          "color": "#FF97FF",
          "symbol": "circle"
         },
         "mode": "markers",
         "name": "2018-03-16",
         "showlegend": true,
         "type": "scattergl",
         "x": [
          -7.196086165319175
         ],
         "xaxis": "x",
         "y": [
          -9.11997746050553
         ],
         "yaxis": "y"
        },
        {
         "hovertemplate": "date=2018-03-17<br>pc1=%{x}<br>pc2=%{y}<extra></extra>",
         "legendgroup": "2018-03-17",
         "marker": {
          "color": "#FECB52",
          "symbol": "circle"
         },
         "mode": "markers",
         "name": "2018-03-17",
         "showlegend": true,
         "type": "scattergl",
         "x": [
          -10.241145976188982
         ],
         "xaxis": "x",
         "y": [
          -5.787368110907662
         ],
         "yaxis": "y"
        },
        {
         "hovertemplate": "date=2018-03-18<br>pc1=%{x}<br>pc2=%{y}<extra></extra>",
         "legendgroup": "2018-03-18",
         "marker": {
          "color": "#636efa",
          "symbol": "circle"
         },
         "mode": "markers",
         "name": "2018-03-18",
         "showlegend": true,
         "type": "scattergl",
         "x": [
          9.863531813047434
         ],
         "xaxis": "x",
         "y": [
          -13.17907374133229
         ],
         "yaxis": "y"
        },
        {
         "hovertemplate": "date=2018-03-19<br>pc1=%{x}<br>pc2=%{y}<extra></extra>",
         "legendgroup": "2018-03-19",
         "marker": {
          "color": "#EF553B",
          "symbol": "circle"
         },
         "mode": "markers",
         "name": "2018-03-19",
         "showlegend": true,
         "type": "scattergl",
         "x": [
          -8.32060121587896
         ],
         "xaxis": "x",
         "y": [
          -7.8306992021506066
         ],
         "yaxis": "y"
        },
        {
         "hovertemplate": "date=2018-03-20<br>pc1=%{x}<br>pc2=%{y}<extra></extra>",
         "legendgroup": "2018-03-20",
         "marker": {
          "color": "#00cc96",
          "symbol": "circle"
         },
         "mode": "markers",
         "name": "2018-03-20",
         "showlegend": true,
         "type": "scattergl",
         "x": [
          -4.148908001425124
         ],
         "xaxis": "x",
         "y": [
          -7.690221348444186
         ],
         "yaxis": "y"
        },
        {
         "hovertemplate": "date=2018-03-21<br>pc1=%{x}<br>pc2=%{y}<extra></extra>",
         "legendgroup": "2018-03-21",
         "marker": {
          "color": "#ab63fa",
          "symbol": "circle"
         },
         "mode": "markers",
         "name": "2018-03-21",
         "showlegend": true,
         "type": "scattergl",
         "x": [
          -8.301810657599308
         ],
         "xaxis": "x",
         "y": [
          -4.911540174074931
         ],
         "yaxis": "y"
        },
        {
         "hovertemplate": "date=2018-03-22<br>pc1=%{x}<br>pc2=%{y}<extra></extra>",
         "legendgroup": "2018-03-22",
         "marker": {
          "color": "#FFA15A",
          "symbol": "circle"
         },
         "mode": "markers",
         "name": "2018-03-22",
         "showlegend": true,
         "type": "scattergl",
         "x": [
          -12.282777459278519
         ],
         "xaxis": "x",
         "y": [
          -9.68602332193617
         ],
         "yaxis": "y"
        },
        {
         "hovertemplate": "date=2018-03-23<br>pc1=%{x}<br>pc2=%{y}<extra></extra>",
         "legendgroup": "2018-03-23",
         "marker": {
          "color": "#19d3f3",
          "symbol": "circle"
         },
         "mode": "markers",
         "name": "2018-03-23",
         "showlegend": true,
         "type": "scattergl",
         "x": [
          -7.251066608049495
         ],
         "xaxis": "x",
         "y": [
          -3.6104163719442
         ],
         "yaxis": "y"
        },
        {
         "hovertemplate": "date=2018-03-24<br>pc1=%{x}<br>pc2=%{y}<extra></extra>",
         "legendgroup": "2018-03-24",
         "marker": {
          "color": "#FF6692",
          "symbol": "circle"
         },
         "mode": "markers",
         "name": "2018-03-24",
         "showlegend": true,
         "type": "scattergl",
         "x": [
          0.40695207520036136
         ],
         "xaxis": "x",
         "y": [
          -15.174086719823269
         ],
         "yaxis": "y"
        },
        {
         "hovertemplate": "date=2018-03-25<br>pc1=%{x}<br>pc2=%{y}<extra></extra>",
         "legendgroup": "2018-03-25",
         "marker": {
          "color": "#B6E880",
          "symbol": "circle"
         },
         "mode": "markers",
         "name": "2018-03-25",
         "showlegend": true,
         "type": "scattergl",
         "x": [
          6.567725328200353
         ],
         "xaxis": "x",
         "y": [
          -8.777777229914149
         ],
         "yaxis": "y"
        },
        {
         "hovertemplate": "date=2018-03-26<br>pc1=%{x}<br>pc2=%{y}<extra></extra>",
         "legendgroup": "2018-03-26",
         "marker": {
          "color": "#FF97FF",
          "symbol": "circle"
         },
         "mode": "markers",
         "name": "2018-03-26",
         "showlegend": true,
         "type": "scattergl",
         "x": [
          -3.3623284859938636
         ],
         "xaxis": "x",
         "y": [
          -0.512764639661688
         ],
         "yaxis": "y"
        },
        {
         "hovertemplate": "date=2018-03-27<br>pc1=%{x}<br>pc2=%{y}<extra></extra>",
         "legendgroup": "2018-03-27",
         "marker": {
          "color": "#FECB52",
          "symbol": "circle"
         },
         "mode": "markers",
         "name": "2018-03-27",
         "showlegend": true,
         "type": "scattergl",
         "x": [
          -7.204678365467987
         ],
         "xaxis": "x",
         "y": [
          -6.327073988214315
         ],
         "yaxis": "y"
        },
        {
         "hovertemplate": "date=2018-03-28<br>pc1=%{x}<br>pc2=%{y}<extra></extra>",
         "legendgroup": "2018-03-28",
         "marker": {
          "color": "#636efa",
          "symbol": "circle"
         },
         "mode": "markers",
         "name": "2018-03-28",
         "showlegend": true,
         "type": "scattergl",
         "x": [
          -5.608587500173564
         ],
         "xaxis": "x",
         "y": [
          1.0296277353663947
         ],
         "yaxis": "y"
        },
        {
         "hovertemplate": "date=2018-03-29<br>pc1=%{x}<br>pc2=%{y}<extra></extra>",
         "legendgroup": "2018-03-29",
         "marker": {
          "color": "#EF553B",
          "symbol": "circle"
         },
         "mode": "markers",
         "name": "2018-03-29",
         "showlegend": true,
         "type": "scattergl",
         "x": [
          -6.723693897604536
         ],
         "xaxis": "x",
         "y": [
          -3.503516999502551
         ],
         "yaxis": "y"
        },
        {
         "hovertemplate": "date=2018-03-30<br>pc1=%{x}<br>pc2=%{y}<extra></extra>",
         "legendgroup": "2018-03-30",
         "marker": {
          "color": "#00cc96",
          "symbol": "circle"
         },
         "mode": "markers",
         "name": "2018-03-30",
         "showlegend": true,
         "type": "scattergl",
         "x": [
          0.6218362197859219
         ],
         "xaxis": "x",
         "y": [
          -5.863832425478037
         ],
         "yaxis": "y"
        },
        {
         "hovertemplate": "date=2018-03-31<br>pc1=%{x}<br>pc2=%{y}<extra></extra>",
         "legendgroup": "2018-03-31",
         "marker": {
          "color": "#ab63fa",
          "symbol": "circle"
         },
         "mode": "markers",
         "name": "2018-03-31",
         "showlegend": true,
         "type": "scattergl",
         "x": [
          5.477382000029463
         ],
         "xaxis": "x",
         "y": [
          -8.704435083571592
         ],
         "yaxis": "y"
        },
        {
         "hovertemplate": "date=2018-04-01<br>pc1=%{x}<br>pc2=%{y}<extra></extra>",
         "legendgroup": "2018-04-01",
         "marker": {
          "color": "#FFA15A",
          "symbol": "circle"
         },
         "mode": "markers",
         "name": "2018-04-01",
         "showlegend": true,
         "type": "scattergl",
         "x": [
          7.226954047582821
         ],
         "xaxis": "x",
         "y": [
          -17.90695684991022
         ],
         "yaxis": "y"
        },
        {
         "hovertemplate": "date=2018-04-02<br>pc1=%{x}<br>pc2=%{y}<extra></extra>",
         "legendgroup": "2018-04-02",
         "marker": {
          "color": "#19d3f3",
          "symbol": "circle"
         },
         "mode": "markers",
         "name": "2018-04-02",
         "showlegend": true,
         "type": "scattergl",
         "x": [
          -8.165566371032776
         ],
         "xaxis": "x",
         "y": [
          0.03831531574459088
         ],
         "yaxis": "y"
        },
        {
         "hovertemplate": "date=2018-04-03<br>pc1=%{x}<br>pc2=%{y}<extra></extra>",
         "legendgroup": "2018-04-03",
         "marker": {
          "color": "#FF6692",
          "symbol": "circle"
         },
         "mode": "markers",
         "name": "2018-04-03",
         "showlegend": true,
         "type": "scattergl",
         "x": [
          -8.761575071122376
         ],
         "xaxis": "x",
         "y": [
          -4.2044819650049305
         ],
         "yaxis": "y"
        },
        {
         "hovertemplate": "date=2018-04-04<br>pc1=%{x}<br>pc2=%{y}<extra></extra>",
         "legendgroup": "2018-04-04",
         "marker": {
          "color": "#B6E880",
          "symbol": "circle"
         },
         "mode": "markers",
         "name": "2018-04-04",
         "showlegend": true,
         "type": "scattergl",
         "x": [
          -9.053100953212889
         ],
         "xaxis": "x",
         "y": [
          -2.785024572265932
         ],
         "yaxis": "y"
        },
        {
         "hovertemplate": "date=2018-04-05<br>pc1=%{x}<br>pc2=%{y}<extra></extra>",
         "legendgroup": "2018-04-05",
         "marker": {
          "color": "#FF97FF",
          "symbol": "circle"
         },
         "mode": "markers",
         "name": "2018-04-05",
         "showlegend": true,
         "type": "scattergl",
         "x": [
          -8.484250417007367
         ],
         "xaxis": "x",
         "y": [
          -0.4785548325722617
         ],
         "yaxis": "y"
        },
        {
         "hovertemplate": "date=2018-04-06<br>pc1=%{x}<br>pc2=%{y}<extra></extra>",
         "legendgroup": "2018-04-06",
         "marker": {
          "color": "#FECB52",
          "symbol": "circle"
         },
         "mode": "markers",
         "name": "2018-04-06",
         "showlegend": true,
         "type": "scattergl",
         "x": [
          -10.853584605066192
         ],
         "xaxis": "x",
         "y": [
          -9.314140477986692
         ],
         "yaxis": "y"
        },
        {
         "hovertemplate": "date=2018-04-07<br>pc1=%{x}<br>pc2=%{y}<extra></extra>",
         "legendgroup": "2018-04-07",
         "marker": {
          "color": "#636efa",
          "symbol": "circle"
         },
         "mode": "markers",
         "name": "2018-04-07",
         "showlegend": true,
         "type": "scattergl",
         "x": [
          4.6162347826773225
         ],
         "xaxis": "x",
         "y": [
          -10.075990461484674
         ],
         "yaxis": "y"
        },
        {
         "hovertemplate": "date=2018-04-08<br>pc1=%{x}<br>pc2=%{y}<extra></extra>",
         "legendgroup": "2018-04-08",
         "marker": {
          "color": "#EF553B",
          "symbol": "circle"
         },
         "mode": "markers",
         "name": "2018-04-08",
         "showlegend": true,
         "type": "scattergl",
         "x": [
          11.294778974391235
         ],
         "xaxis": "x",
         "y": [
          -12.961574577955124
         ],
         "yaxis": "y"
        },
        {
         "hovertemplate": "date=2018-04-09<br>pc1=%{x}<br>pc2=%{y}<extra></extra>",
         "legendgroup": "2018-04-09",
         "marker": {
          "color": "#00cc96",
          "symbol": "circle"
         },
         "mode": "markers",
         "name": "2018-04-09",
         "showlegend": true,
         "type": "scattergl",
         "x": [
          -9.384882616270788
         ],
         "xaxis": "x",
         "y": [
          -8.064162538233955
         ],
         "yaxis": "y"
        },
        {
         "hovertemplate": "date=2018-04-10<br>pc1=%{x}<br>pc2=%{y}<extra></extra>",
         "legendgroup": "2018-04-10",
         "marker": {
          "color": "#ab63fa",
          "symbol": "circle"
         },
         "mode": "markers",
         "name": "2018-04-10",
         "showlegend": true,
         "type": "scattergl",
         "x": [
          -7.712119668899313
         ],
         "xaxis": "x",
         "y": [
          -3.5100143493096416
         ],
         "yaxis": "y"
        },
        {
         "hovertemplate": "date=2018-04-11<br>pc1=%{x}<br>pc2=%{y}<extra></extra>",
         "legendgroup": "2018-04-11",
         "marker": {
          "color": "#FFA15A",
          "symbol": "circle"
         },
         "mode": "markers",
         "name": "2018-04-11",
         "showlegend": true,
         "type": "scattergl",
         "x": [
          -13.715411398093117
         ],
         "xaxis": "x",
         "y": [
          -4.567568856900814
         ],
         "yaxis": "y"
        },
        {
         "hovertemplate": "date=2018-04-12<br>pc1=%{x}<br>pc2=%{y}<extra></extra>",
         "legendgroup": "2018-04-12",
         "marker": {
          "color": "#19d3f3",
          "symbol": "circle"
         },
         "mode": "markers",
         "name": "2018-04-12",
         "showlegend": true,
         "type": "scattergl",
         "x": [
          -12.724990864422537
         ],
         "xaxis": "x",
         "y": [
          -1.471660669552196
         ],
         "yaxis": "y"
        },
        {
         "hovertemplate": "date=2018-04-13<br>pc1=%{x}<br>pc2=%{y}<extra></extra>",
         "legendgroup": "2018-04-13",
         "marker": {
          "color": "#FF6692",
          "symbol": "circle"
         },
         "mode": "markers",
         "name": "2018-04-13",
         "showlegend": true,
         "type": "scattergl",
         "x": [
          -3.1952338206122293
         ],
         "xaxis": "x",
         "y": [
          -2.4401735260411708
         ],
         "yaxis": "y"
        },
        {
         "hovertemplate": "date=2018-04-14<br>pc1=%{x}<br>pc2=%{y}<extra></extra>",
         "legendgroup": "2018-04-14",
         "marker": {
          "color": "#B6E880",
          "symbol": "circle"
         },
         "mode": "markers",
         "name": "2018-04-14",
         "showlegend": true,
         "type": "scattergl",
         "x": [
          8.858490485924975
         ],
         "xaxis": "x",
         "y": [
          -12.10630363748669
         ],
         "yaxis": "y"
        },
        {
         "hovertemplate": "date=2018-04-15<br>pc1=%{x}<br>pc2=%{y}<extra></extra>",
         "legendgroup": "2018-04-15",
         "marker": {
          "color": "#FF97FF",
          "symbol": "circle"
         },
         "mode": "markers",
         "name": "2018-04-15",
         "showlegend": true,
         "type": "scattergl",
         "x": [
          40.679199363622544
         ],
         "xaxis": "x",
         "y": [
          32.79686038866222
         ],
         "yaxis": "y"
        },
        {
         "hovertemplate": "date=2018-04-16<br>pc1=%{x}<br>pc2=%{y}<extra></extra>",
         "legendgroup": "2018-04-16",
         "marker": {
          "color": "#FECB52",
          "symbol": "circle"
         },
         "mode": "markers",
         "name": "2018-04-16",
         "showlegend": true,
         "type": "scattergl",
         "x": [
          0.6142708368584968
         ],
         "xaxis": "x",
         "y": [
          12.21155014469106
         ],
         "yaxis": "y"
        },
        {
         "hovertemplate": "date=2018-04-17<br>pc1=%{x}<br>pc2=%{y}<extra></extra>",
         "legendgroup": "2018-04-17",
         "marker": {
          "color": "#636efa",
          "symbol": "circle"
         },
         "mode": "markers",
         "name": "2018-04-17",
         "showlegend": true,
         "type": "scattergl",
         "x": [
          -13.318302137583819
         ],
         "xaxis": "x",
         "y": [
          -6.207480806519588
         ],
         "yaxis": "y"
        },
        {
         "hovertemplate": "date=2018-04-18<br>pc1=%{x}<br>pc2=%{y}<extra></extra>",
         "legendgroup": "2018-04-18",
         "marker": {
          "color": "#EF553B",
          "symbol": "circle"
         },
         "mode": "markers",
         "name": "2018-04-18",
         "showlegend": true,
         "type": "scattergl",
         "x": [
          -5.366142037690637
         ],
         "xaxis": "x",
         "y": [
          -1.124502935677689
         ],
         "yaxis": "y"
        },
        {
         "hovertemplate": "date=2018-04-19<br>pc1=%{x}<br>pc2=%{y}<extra></extra>",
         "legendgroup": "2018-04-19",
         "marker": {
          "color": "#00cc96",
          "symbol": "circle"
         },
         "mode": "markers",
         "name": "2018-04-19",
         "showlegend": true,
         "type": "scattergl",
         "x": [
          -8.686496240559443
         ],
         "xaxis": "x",
         "y": [
          -4.400481877254287
         ],
         "yaxis": "y"
        },
        {
         "hovertemplate": "date=2018-04-20<br>pc1=%{x}<br>pc2=%{y}<extra></extra>",
         "legendgroup": "2018-04-20",
         "marker": {
          "color": "#ab63fa",
          "symbol": "circle"
         },
         "mode": "markers",
         "name": "2018-04-20",
         "showlegend": true,
         "type": "scattergl",
         "x": [
          -13.16322122090042
         ],
         "xaxis": "x",
         "y": [
          -10.019240230331823
         ],
         "yaxis": "y"
        },
        {
         "hovertemplate": "date=2018-04-21<br>pc1=%{x}<br>pc2=%{y}<extra></extra>",
         "legendgroup": "2018-04-21",
         "marker": {
          "color": "#FFA15A",
          "symbol": "circle"
         },
         "mode": "markers",
         "name": "2018-04-21",
         "showlegend": true,
         "type": "scattergl",
         "x": [
          2.2908678737067047
         ],
         "xaxis": "x",
         "y": [
          -18.0040337312599
         ],
         "yaxis": "y"
        },
        {
         "hovertemplate": "date=2018-04-22<br>pc1=%{x}<br>pc2=%{y}<extra></extra>",
         "legendgroup": "2018-04-22",
         "marker": {
          "color": "#19d3f3",
          "symbol": "circle"
         },
         "mode": "markers",
         "name": "2018-04-22",
         "showlegend": true,
         "type": "scattergl",
         "x": [
          10.157395271250689
         ],
         "xaxis": "x",
         "y": [
          -11.697679787784848
         ],
         "yaxis": "y"
        },
        {
         "hovertemplate": "date=2018-04-23<br>pc1=%{x}<br>pc2=%{y}<extra></extra>",
         "legendgroup": "2018-04-23",
         "marker": {
          "color": "#FF6692",
          "symbol": "circle"
         },
         "mode": "markers",
         "name": "2018-04-23",
         "showlegend": true,
         "type": "scattergl",
         "x": [
          -10.990280269913889
         ],
         "xaxis": "x",
         "y": [
          -8.696566708149446
         ],
         "yaxis": "y"
        },
        {
         "hovertemplate": "date=2018-04-24<br>pc1=%{x}<br>pc2=%{y}<extra></extra>",
         "legendgroup": "2018-04-24",
         "marker": {
          "color": "#B6E880",
          "symbol": "circle"
         },
         "mode": "markers",
         "name": "2018-04-24",
         "showlegend": true,
         "type": "scattergl",
         "x": [
          -7.598147675991667
         ],
         "xaxis": "x",
         "y": [
          -3.1186612517756265
         ],
         "yaxis": "y"
        },
        {
         "hovertemplate": "date=2018-04-25<br>pc1=%{x}<br>pc2=%{y}<extra></extra>",
         "legendgroup": "2018-04-25",
         "marker": {
          "color": "#FF97FF",
          "symbol": "circle"
         },
         "mode": "markers",
         "name": "2018-04-25",
         "showlegend": true,
         "type": "scattergl",
         "x": [
          -9.94237499668701
         ],
         "xaxis": "x",
         "y": [
          -6.27044235673854
         ],
         "yaxis": "y"
        },
        {
         "hovertemplate": "date=2018-04-26<br>pc1=%{x}<br>pc2=%{y}<extra></extra>",
         "legendgroup": "2018-04-26",
         "marker": {
          "color": "#FECB52",
          "symbol": "circle"
         },
         "mode": "markers",
         "name": "2018-04-26",
         "showlegend": true,
         "type": "scattergl",
         "x": [
          -11.261791335839483
         ],
         "xaxis": "x",
         "y": [
          -4.355379019690838
         ],
         "yaxis": "y"
        },
        {
         "hovertemplate": "date=2018-04-27<br>pc1=%{x}<br>pc2=%{y}<extra></extra>",
         "legendgroup": "2018-04-27",
         "marker": {
          "color": "#636efa",
          "symbol": "circle"
         },
         "mode": "markers",
         "name": "2018-04-27",
         "showlegend": true,
         "type": "scattergl",
         "x": [
          -9.240273338169843
         ],
         "xaxis": "x",
         "y": [
          -6.615090276444629
         ],
         "yaxis": "y"
        },
        {
         "hovertemplate": "date=2018-04-28<br>pc1=%{x}<br>pc2=%{y}<extra></extra>",
         "legendgroup": "2018-04-28",
         "marker": {
          "color": "#EF553B",
          "symbol": "circle"
         },
         "mode": "markers",
         "name": "2018-04-28",
         "showlegend": true,
         "type": "scattergl",
         "x": [
          -1.537661634823576
         ],
         "xaxis": "x",
         "y": [
          -23.45774092651612
         ],
         "yaxis": "y"
        },
        {
         "hovertemplate": "date=2018-04-29<br>pc1=%{x}<br>pc2=%{y}<extra></extra>",
         "legendgroup": "2018-04-29",
         "marker": {
          "color": "#00cc96",
          "symbol": "circle"
         },
         "mode": "markers",
         "name": "2018-04-29",
         "showlegend": true,
         "type": "scattergl",
         "x": [
          10.488774795241362
         ],
         "xaxis": "x",
         "y": [
          -11.981532528289184
         ],
         "yaxis": "y"
        },
        {
         "hovertemplate": "date=2018-04-30<br>pc1=%{x}<br>pc2=%{y}<extra></extra>",
         "legendgroup": "2018-04-30",
         "marker": {
          "color": "#ab63fa",
          "symbol": "circle"
         },
         "mode": "markers",
         "name": "2018-04-30",
         "showlegend": true,
         "type": "scattergl",
         "x": [
          -12.773096157422941
         ],
         "xaxis": "x",
         "y": [
          -7.339416090978971
         ],
         "yaxis": "y"
        },
        {
         "hovertemplate": "date=2018-05-01<br>pc1=%{x}<br>pc2=%{y}<extra></extra>",
         "legendgroup": "2018-05-01",
         "marker": {
          "color": "#FFA15A",
          "symbol": "circle"
         },
         "mode": "markers",
         "name": "2018-05-01",
         "showlegend": true,
         "type": "scattergl",
         "x": [
          -12.115946207402947
         ],
         "xaxis": "x",
         "y": [
          -4.737774827754771
         ],
         "yaxis": "y"
        },
        {
         "hovertemplate": "date=2018-05-02<br>pc1=%{x}<br>pc2=%{y}<extra></extra>",
         "legendgroup": "2018-05-02",
         "marker": {
          "color": "#19d3f3",
          "symbol": "circle"
         },
         "mode": "markers",
         "name": "2018-05-02",
         "showlegend": true,
         "type": "scattergl",
         "x": [
          -7.721811549144161
         ],
         "xaxis": "x",
         "y": [
          -5.934094002939971
         ],
         "yaxis": "y"
        },
        {
         "hovertemplate": "date=2018-05-03<br>pc1=%{x}<br>pc2=%{y}<extra></extra>",
         "legendgroup": "2018-05-03",
         "marker": {
          "color": "#FF6692",
          "symbol": "circle"
         },
         "mode": "markers",
         "name": "2018-05-03",
         "showlegend": true,
         "type": "scattergl",
         "x": [
          -9.812320540128693
         ],
         "xaxis": "x",
         "y": [
          -10.575985917790234
         ],
         "yaxis": "y"
        },
        {
         "hovertemplate": "date=2018-05-04<br>pc1=%{x}<br>pc2=%{y}<extra></extra>",
         "legendgroup": "2018-05-04",
         "marker": {
          "color": "#B6E880",
          "symbol": "circle"
         },
         "mode": "markers",
         "name": "2018-05-04",
         "showlegend": true,
         "type": "scattergl",
         "x": [
          -8.52088958784146
         ],
         "xaxis": "x",
         "y": [
          -6.458787775939817
         ],
         "yaxis": "y"
        },
        {
         "hovertemplate": "date=2018-05-05<br>pc1=%{x}<br>pc2=%{y}<extra></extra>",
         "legendgroup": "2018-05-05",
         "marker": {
          "color": "#FF97FF",
          "symbol": "circle"
         },
         "mode": "markers",
         "name": "2018-05-05",
         "showlegend": true,
         "type": "scattergl",
         "x": [
          -2.1370030877319595
         ],
         "xaxis": "x",
         "y": [
          -17.734571061396988
         ],
         "yaxis": "y"
        },
        {
         "hovertemplate": "date=2018-05-06<br>pc1=%{x}<br>pc2=%{y}<extra></extra>",
         "legendgroup": "2018-05-06",
         "marker": {
          "color": "#FECB52",
          "symbol": "circle"
         },
         "mode": "markers",
         "name": "2018-05-06",
         "showlegend": true,
         "type": "scattergl",
         "x": [
          11.601708388563049
         ],
         "xaxis": "x",
         "y": [
          -12.697336174454323
         ],
         "yaxis": "y"
        },
        {
         "hovertemplate": "date=2018-05-07<br>pc1=%{x}<br>pc2=%{y}<extra></extra>",
         "legendgroup": "2018-05-07",
         "marker": {
          "color": "#636efa",
          "symbol": "circle"
         },
         "mode": "markers",
         "name": "2018-05-07",
         "showlegend": true,
         "type": "scattergl",
         "x": [
          -10.462741328982135
         ],
         "xaxis": "x",
         "y": [
          -4.97613425953818
         ],
         "yaxis": "y"
        },
        {
         "hovertemplate": "date=2018-05-08<br>pc1=%{x}<br>pc2=%{y}<extra></extra>",
         "legendgroup": "2018-05-08",
         "marker": {
          "color": "#EF553B",
          "symbol": "circle"
         },
         "mode": "markers",
         "name": "2018-05-08",
         "showlegend": true,
         "type": "scattergl",
         "x": [
          -16.03172312022037
         ],
         "xaxis": "x",
         "y": [
          -12.606723439042204
         ],
         "yaxis": "y"
        },
        {
         "hovertemplate": "date=2018-05-09<br>pc1=%{x}<br>pc2=%{y}<extra></extra>",
         "legendgroup": "2018-05-09",
         "marker": {
          "color": "#00cc96",
          "symbol": "circle"
         },
         "mode": "markers",
         "name": "2018-05-09",
         "showlegend": true,
         "type": "scattergl",
         "x": [
          -10.977464363588233
         ],
         "xaxis": "x",
         "y": [
          -8.125433954484778
         ],
         "yaxis": "y"
        },
        {
         "hovertemplate": "date=2018-05-10<br>pc1=%{x}<br>pc2=%{y}<extra></extra>",
         "legendgroup": "2018-05-10",
         "marker": {
          "color": "#ab63fa",
          "symbol": "circle"
         },
         "mode": "markers",
         "name": "2018-05-10",
         "showlegend": true,
         "type": "scattergl",
         "x": [
          -10.72257532339193
         ],
         "xaxis": "x",
         "y": [
          -4.654109839996931
         ],
         "yaxis": "y"
        },
        {
         "hovertemplate": "date=2018-05-11<br>pc1=%{x}<br>pc2=%{y}<extra></extra>",
         "legendgroup": "2018-05-11",
         "marker": {
          "color": "#FFA15A",
          "symbol": "circle"
         },
         "mode": "markers",
         "name": "2018-05-11",
         "showlegend": true,
         "type": "scattergl",
         "x": [
          -12.684037656577832
         ],
         "xaxis": "x",
         "y": [
          -10.600113016225794
         ],
         "yaxis": "y"
        },
        {
         "hovertemplate": "date=2018-05-12<br>pc1=%{x}<br>pc2=%{y}<extra></extra>",
         "legendgroup": "2018-05-12",
         "marker": {
          "color": "#19d3f3",
          "symbol": "circle"
         },
         "mode": "markers",
         "name": "2018-05-12",
         "showlegend": true,
         "type": "scattergl",
         "x": [
          6.772933360099043
         ],
         "xaxis": "x",
         "y": [
          -12.49842720737502
         ],
         "yaxis": "y"
        },
        {
         "hovertemplate": "date=2018-05-13<br>pc1=%{x}<br>pc2=%{y}<extra></extra>",
         "legendgroup": "2018-05-13",
         "marker": {
          "color": "#FF6692",
          "symbol": "circle"
         },
         "mode": "markers",
         "name": "2018-05-13",
         "showlegend": true,
         "type": "scattergl",
         "x": [
          5.792622100771104
         ],
         "xaxis": "x",
         "y": [
          -18.54669334570881
         ],
         "yaxis": "y"
        },
        {
         "hovertemplate": "date=2018-05-14<br>pc1=%{x}<br>pc2=%{y}<extra></extra>",
         "legendgroup": "2018-05-14",
         "marker": {
          "color": "#B6E880",
          "symbol": "circle"
         },
         "mode": "markers",
         "name": "2018-05-14",
         "showlegend": true,
         "type": "scattergl",
         "x": [
          -6.626561527882371
         ],
         "xaxis": "x",
         "y": [
          -6.976095199323701
         ],
         "yaxis": "y"
        },
        {
         "hovertemplate": "date=2018-05-15<br>pc1=%{x}<br>pc2=%{y}<extra></extra>",
         "legendgroup": "2018-05-15",
         "marker": {
          "color": "#FF97FF",
          "symbol": "circle"
         },
         "mode": "markers",
         "name": "2018-05-15",
         "showlegend": true,
         "type": "scattergl",
         "x": [
          -8.942478439415796
         ],
         "xaxis": "x",
         "y": [
          -4.648792598603097
         ],
         "yaxis": "y"
        },
        {
         "hovertemplate": "date=2018-05-16<br>pc1=%{x}<br>pc2=%{y}<extra></extra>",
         "legendgroup": "2018-05-16",
         "marker": {
          "color": "#FECB52",
          "symbol": "circle"
         },
         "mode": "markers",
         "name": "2018-05-16",
         "showlegend": true,
         "type": "scattergl",
         "x": [
          -15.557190117696209
         ],
         "xaxis": "x",
         "y": [
          -13.935001866050698
         ],
         "yaxis": "y"
        },
        {
         "hovertemplate": "date=2018-05-17<br>pc1=%{x}<br>pc2=%{y}<extra></extra>",
         "legendgroup": "2018-05-17",
         "marker": {
          "color": "#636efa",
          "symbol": "circle"
         },
         "mode": "markers",
         "name": "2018-05-17",
         "showlegend": true,
         "type": "scattergl",
         "x": [
          -10.40448388215078
         ],
         "xaxis": "x",
         "y": [
          -3.5309600181285234
         ],
         "yaxis": "y"
        },
        {
         "hovertemplate": "date=2018-05-18<br>pc1=%{x}<br>pc2=%{y}<extra></extra>",
         "legendgroup": "2018-05-18",
         "marker": {
          "color": "#EF553B",
          "symbol": "circle"
         },
         "mode": "markers",
         "name": "2018-05-18",
         "showlegend": true,
         "type": "scattergl",
         "x": [
          -11.64992912409935
         ],
         "xaxis": "x",
         "y": [
          -8.907691464962431
         ],
         "yaxis": "y"
        },
        {
         "hovertemplate": "date=2018-05-19<br>pc1=%{x}<br>pc2=%{y}<extra></extra>",
         "legendgroup": "2018-05-19",
         "marker": {
          "color": "#00cc96",
          "symbol": "circle"
         },
         "mode": "markers",
         "name": "2018-05-19",
         "showlegend": true,
         "type": "scattergl",
         "x": [
          3.5240096951243065
         ],
         "xaxis": "x",
         "y": [
          -11.53590990921931
         ],
         "yaxis": "y"
        },
        {
         "hovertemplate": "date=2018-05-20<br>pc1=%{x}<br>pc2=%{y}<extra></extra>",
         "legendgroup": "2018-05-20",
         "marker": {
          "color": "#ab63fa",
          "symbol": "circle"
         },
         "mode": "markers",
         "name": "2018-05-20",
         "showlegend": true,
         "type": "scattergl",
         "x": [
          24.381615637224556
         ],
         "xaxis": "x",
         "y": [
          7.817048855460586
         ],
         "yaxis": "y"
        },
        {
         "hovertemplate": "date=2018-05-21<br>pc1=%{x}<br>pc2=%{y}<extra></extra>",
         "legendgroup": "2018-05-21",
         "marker": {
          "color": "#FFA15A",
          "symbol": "circle"
         },
         "mode": "markers",
         "name": "2018-05-21",
         "showlegend": true,
         "type": "scattergl",
         "x": [
          -0.05649954029795515
         ],
         "xaxis": "x",
         "y": [
          -1.0991634152038035
         ],
         "yaxis": "y"
        },
        {
         "hovertemplate": "date=2018-05-22<br>pc1=%{x}<br>pc2=%{y}<extra></extra>",
         "legendgroup": "2018-05-22",
         "marker": {
          "color": "#19d3f3",
          "symbol": "circle"
         },
         "mode": "markers",
         "name": "2018-05-22",
         "showlegend": true,
         "type": "scattergl",
         "x": [
          -9.040892806260699
         ],
         "xaxis": "x",
         "y": [
          -1.5049781295003064
         ],
         "yaxis": "y"
        },
        {
         "hovertemplate": "date=2018-05-23<br>pc1=%{x}<br>pc2=%{y}<extra></extra>",
         "legendgroup": "2018-05-23",
         "marker": {
          "color": "#FF6692",
          "symbol": "circle"
         },
         "mode": "markers",
         "name": "2018-05-23",
         "showlegend": true,
         "type": "scattergl",
         "x": [
          -17.185764369280783
         ],
         "xaxis": "x",
         "y": [
          -12.776889600694833
         ],
         "yaxis": "y"
        },
        {
         "hovertemplate": "date=2018-05-24<br>pc1=%{x}<br>pc2=%{y}<extra></extra>",
         "legendgroup": "2018-05-24",
         "marker": {
          "color": "#B6E880",
          "symbol": "circle"
         },
         "mode": "markers",
         "name": "2018-05-24",
         "showlegend": true,
         "type": "scattergl",
         "x": [
          -10.134831480178814
         ],
         "xaxis": "x",
         "y": [
          -6.268744867010312
         ],
         "yaxis": "y"
        },
        {
         "hovertemplate": "date=2018-05-25<br>pc1=%{x}<br>pc2=%{y}<extra></extra>",
         "legendgroup": "2018-05-25",
         "marker": {
          "color": "#FF97FF",
          "symbol": "circle"
         },
         "mode": "markers",
         "name": "2018-05-25",
         "showlegend": true,
         "type": "scattergl",
         "x": [
          -18.611248287069497
         ],
         "xaxis": "x",
         "y": [
          -12.328178030291658
         ],
         "yaxis": "y"
        },
        {
         "hovertemplate": "date=2018-05-26<br>pc1=%{x}<br>pc2=%{y}<extra></extra>",
         "legendgroup": "2018-05-26",
         "marker": {
          "color": "#FECB52",
          "symbol": "circle"
         },
         "mode": "markers",
         "name": "2018-05-26",
         "showlegend": true,
         "type": "scattergl",
         "x": [
          -7.241452099453481
         ],
         "xaxis": "x",
         "y": [
          -8.967313868039335
         ],
         "yaxis": "y"
        },
        {
         "hovertemplate": "date=2018-05-27<br>pc1=%{x}<br>pc2=%{y}<extra></extra>",
         "legendgroup": "2018-05-27",
         "marker": {
          "color": "#636efa",
          "symbol": "circle"
         },
         "mode": "markers",
         "name": "2018-05-27",
         "showlegend": true,
         "type": "scattergl",
         "x": [
          -4.586104053035179
         ],
         "xaxis": "x",
         "y": [
          -9.813509715932383
         ],
         "yaxis": "y"
        },
        {
         "hovertemplate": "date=2018-05-28<br>pc1=%{x}<br>pc2=%{y}<extra></extra>",
         "legendgroup": "2018-05-28",
         "marker": {
          "color": "#EF553B",
          "symbol": "circle"
         },
         "mode": "markers",
         "name": "2018-05-28",
         "showlegend": true,
         "type": "scattergl",
         "x": [
          31.30186086149905
         ],
         "xaxis": "x",
         "y": [
          -30.32316544896639
         ],
         "yaxis": "y"
        },
        {
         "hovertemplate": "date=2018-05-29<br>pc1=%{x}<br>pc2=%{y}<extra></extra>",
         "legendgroup": "2018-05-29",
         "marker": {
          "color": "#00cc96",
          "symbol": "circle"
         },
         "mode": "markers",
         "name": "2018-05-29",
         "showlegend": true,
         "type": "scattergl",
         "x": [
          -12.362791309920489
         ],
         "xaxis": "x",
         "y": [
          -6.904336311156245
         ],
         "yaxis": "y"
        },
        {
         "hovertemplate": "date=2018-05-30<br>pc1=%{x}<br>pc2=%{y}<extra></extra>",
         "legendgroup": "2018-05-30",
         "marker": {
          "color": "#ab63fa",
          "symbol": "circle"
         },
         "mode": "markers",
         "name": "2018-05-30",
         "showlegend": true,
         "type": "scattergl",
         "x": [
          -11.443158519174602
         ],
         "xaxis": "x",
         "y": [
          -3.3178562381813284
         ],
         "yaxis": "y"
        },
        {
         "hovertemplate": "date=2018-05-31<br>pc1=%{x}<br>pc2=%{y}<extra></extra>",
         "legendgroup": "2018-05-31",
         "marker": {
          "color": "#FFA15A",
          "symbol": "circle"
         },
         "mode": "markers",
         "name": "2018-05-31",
         "showlegend": true,
         "type": "scattergl",
         "x": [
          -19.545721047503708
         ],
         "xaxis": "x",
         "y": [
          -6.857048053326082
         ],
         "yaxis": "y"
        },
        {
         "hovertemplate": "date=2018-06-01<br>pc1=%{x}<br>pc2=%{y}<extra></extra>",
         "legendgroup": "2018-06-01",
         "marker": {
          "color": "#19d3f3",
          "symbol": "circle"
         },
         "mode": "markers",
         "name": "2018-06-01",
         "showlegend": true,
         "type": "scattergl",
         "x": [
          -16.47046042949214
         ],
         "xaxis": "x",
         "y": [
          -9.48647282617662
         ],
         "yaxis": "y"
        },
        {
         "hovertemplate": "date=2018-06-02<br>pc1=%{x}<br>pc2=%{y}<extra></extra>",
         "legendgroup": "2018-06-02",
         "marker": {
          "color": "#FF6692",
          "symbol": "circle"
         },
         "mode": "markers",
         "name": "2018-06-02",
         "showlegend": true,
         "type": "scattergl",
         "x": [
          3.7431654466752895
         ],
         "xaxis": "x",
         "y": [
          -12.714646483273594
         ],
         "yaxis": "y"
        },
        {
         "hovertemplate": "date=2018-06-03<br>pc1=%{x}<br>pc2=%{y}<extra></extra>",
         "legendgroup": "2018-06-03",
         "marker": {
          "color": "#B6E880",
          "symbol": "circle"
         },
         "mode": "markers",
         "name": "2018-06-03",
         "showlegend": true,
         "type": "scattergl",
         "x": [
          1.7128055635936055
         ],
         "xaxis": "x",
         "y": [
          -23.516325481235423
         ],
         "yaxis": "y"
        },
        {
         "hovertemplate": "date=2018-06-04<br>pc1=%{x}<br>pc2=%{y}<extra></extra>",
         "legendgroup": "2018-06-04",
         "marker": {
          "color": "#FF97FF",
          "symbol": "circle"
         },
         "mode": "markers",
         "name": "2018-06-04",
         "showlegend": true,
         "type": "scattergl",
         "x": [
          -9.768154274092808
         ],
         "xaxis": "x",
         "y": [
          -8.37380347577873
         ],
         "yaxis": "y"
        },
        {
         "hovertemplate": "date=2018-06-05<br>pc1=%{x}<br>pc2=%{y}<extra></extra>",
         "legendgroup": "2018-06-05",
         "marker": {
          "color": "#FECB52",
          "symbol": "circle"
         },
         "mode": "markers",
         "name": "2018-06-05",
         "showlegend": true,
         "type": "scattergl",
         "x": [
          -11.584468160571978
         ],
         "xaxis": "x",
         "y": [
          -9.503316568990321
         ],
         "yaxis": "y"
        },
        {
         "hovertemplate": "date=2018-06-06<br>pc1=%{x}<br>pc2=%{y}<extra></extra>",
         "legendgroup": "2018-06-06",
         "marker": {
          "color": "#636efa",
          "symbol": "circle"
         },
         "mode": "markers",
         "name": "2018-06-06",
         "showlegend": true,
         "type": "scattergl",
         "x": [
          -10.940760688404572
         ],
         "xaxis": "x",
         "y": [
          -8.505316163088208
         ],
         "yaxis": "y"
        },
        {
         "hovertemplate": "date=2018-06-07<br>pc1=%{x}<br>pc2=%{y}<extra></extra>",
         "legendgroup": "2018-06-07",
         "marker": {
          "color": "#EF553B",
          "symbol": "circle"
         },
         "mode": "markers",
         "name": "2018-06-07",
         "showlegend": true,
         "type": "scattergl",
         "x": [
          -11.59218735959782
         ],
         "xaxis": "x",
         "y": [
          -5.818513925053152
         ],
         "yaxis": "y"
        },
        {
         "hovertemplate": "date=2018-06-08<br>pc1=%{x}<br>pc2=%{y}<extra></extra>",
         "legendgroup": "2018-06-08",
         "marker": {
          "color": "#00cc96",
          "symbol": "circle"
         },
         "mode": "markers",
         "name": "2018-06-08",
         "showlegend": true,
         "type": "scattergl",
         "x": [
          -12.391501856375209
         ],
         "xaxis": "x",
         "y": [
          -12.28541862082314
         ],
         "yaxis": "y"
        },
        {
         "hovertemplate": "date=2018-06-09<br>pc1=%{x}<br>pc2=%{y}<extra></extra>",
         "legendgroup": "2018-06-09",
         "marker": {
          "color": "#ab63fa",
          "symbol": "circle"
         },
         "mode": "markers",
         "name": "2018-06-09",
         "showlegend": true,
         "type": "scattergl",
         "x": [
          1.7404679009542097
         ],
         "xaxis": "x",
         "y": [
          -10.043367311270487
         ],
         "yaxis": "y"
        },
        {
         "hovertemplate": "date=2018-06-10<br>pc1=%{x}<br>pc2=%{y}<extra></extra>",
         "legendgroup": "2018-06-10",
         "marker": {
          "color": "#FFA15A",
          "symbol": "circle"
         },
         "mode": "markers",
         "name": "2018-06-10",
         "showlegend": true,
         "type": "scattergl",
         "x": [
          8.856159300411633
         ],
         "xaxis": "x",
         "y": [
          -14.352297099335617
         ],
         "yaxis": "y"
        },
        {
         "hovertemplate": "date=2018-06-11<br>pc1=%{x}<br>pc2=%{y}<extra></extra>",
         "legendgroup": "2018-06-11",
         "marker": {
          "color": "#19d3f3",
          "symbol": "circle"
         },
         "mode": "markers",
         "name": "2018-06-11",
         "showlegend": true,
         "type": "scattergl",
         "x": [
          -9.719179320736206
         ],
         "xaxis": "x",
         "y": [
          -8.607914282795045
         ],
         "yaxis": "y"
        },
        {
         "hovertemplate": "date=2018-06-12<br>pc1=%{x}<br>pc2=%{y}<extra></extra>",
         "legendgroup": "2018-06-12",
         "marker": {
          "color": "#FF6692",
          "symbol": "circle"
         },
         "mode": "markers",
         "name": "2018-06-12",
         "showlegend": true,
         "type": "scattergl",
         "x": [
          -9.455973169755666
         ],
         "xaxis": "x",
         "y": [
          -8.0140260627786
         ],
         "yaxis": "y"
        },
        {
         "hovertemplate": "date=2018-06-13<br>pc1=%{x}<br>pc2=%{y}<extra></extra>",
         "legendgroup": "2018-06-13",
         "marker": {
          "color": "#B6E880",
          "symbol": "circle"
         },
         "mode": "markers",
         "name": "2018-06-13",
         "showlegend": true,
         "type": "scattergl",
         "x": [
          -12.443955509973927
         ],
         "xaxis": "x",
         "y": [
          -7.71880265522734
         ],
         "yaxis": "y"
        },
        {
         "hovertemplate": "date=2018-06-14<br>pc1=%{x}<br>pc2=%{y}<extra></extra>",
         "legendgroup": "2018-06-14",
         "marker": {
          "color": "#FF97FF",
          "symbol": "circle"
         },
         "mode": "markers",
         "name": "2018-06-14",
         "showlegend": true,
         "type": "scattergl",
         "x": [
          -13.828923565660872
         ],
         "xaxis": "x",
         "y": [
          -13.376658474182223
         ],
         "yaxis": "y"
        },
        {
         "hovertemplate": "date=2018-06-15<br>pc1=%{x}<br>pc2=%{y}<extra></extra>",
         "legendgroup": "2018-06-15",
         "marker": {
          "color": "#FECB52",
          "symbol": "circle"
         },
         "mode": "markers",
         "name": "2018-06-15",
         "showlegend": true,
         "type": "scattergl",
         "x": [
          -8.652860368362779
         ],
         "xaxis": "x",
         "y": [
          -7.998802161446588
         ],
         "yaxis": "y"
        },
        {
         "hovertemplate": "date=2018-06-16<br>pc1=%{x}<br>pc2=%{y}<extra></extra>",
         "legendgroup": "2018-06-16",
         "marker": {
          "color": "#636efa",
          "symbol": "circle"
         },
         "mode": "markers",
         "name": "2018-06-16",
         "showlegend": true,
         "type": "scattergl",
         "x": [
          -7.536014244347292
         ],
         "xaxis": "x",
         "y": [
          -27.47891640491244
         ],
         "yaxis": "y"
        },
        {
         "hovertemplate": "date=2018-06-17<br>pc1=%{x}<br>pc2=%{y}<extra></extra>",
         "legendgroup": "2018-06-17",
         "marker": {
          "color": "#EF553B",
          "symbol": "circle"
         },
         "mode": "markers",
         "name": "2018-06-17",
         "showlegend": true,
         "type": "scattergl",
         "x": [
          3.5171453089102975
         ],
         "xaxis": "x",
         "y": [
          -19.691795693546617
         ],
         "yaxis": "y"
        },
        {
         "hovertemplate": "date=2018-06-18<br>pc1=%{x}<br>pc2=%{y}<extra></extra>",
         "legendgroup": "2018-06-18",
         "marker": {
          "color": "#00cc96",
          "symbol": "circle"
         },
         "mode": "markers",
         "name": "2018-06-18",
         "showlegend": true,
         "type": "scattergl",
         "x": [
          -8.715007839309147
         ],
         "xaxis": "x",
         "y": [
          -4.7742626216388055
         ],
         "yaxis": "y"
        },
        {
         "hovertemplate": "date=2018-06-19<br>pc1=%{x}<br>pc2=%{y}<extra></extra>",
         "legendgroup": "2018-06-19",
         "marker": {
          "color": "#ab63fa",
          "symbol": "circle"
         },
         "mode": "markers",
         "name": "2018-06-19",
         "showlegend": true,
         "type": "scattergl",
         "x": [
          -14.388504709220653
         ],
         "xaxis": "x",
         "y": [
          -8.848059249533076
         ],
         "yaxis": "y"
        },
        {
         "hovertemplate": "date=2018-06-20<br>pc1=%{x}<br>pc2=%{y}<extra></extra>",
         "legendgroup": "2018-06-20",
         "marker": {
          "color": "#FFA15A",
          "symbol": "circle"
         },
         "mode": "markers",
         "name": "2018-06-20",
         "showlegend": true,
         "type": "scattergl",
         "x": [
          -9.803990595497792
         ],
         "xaxis": "x",
         "y": [
          -3.157701031835422
         ],
         "yaxis": "y"
        },
        {
         "hovertemplate": "date=2018-06-21<br>pc1=%{x}<br>pc2=%{y}<extra></extra>",
         "legendgroup": "2018-06-21",
         "marker": {
          "color": "#19d3f3",
          "symbol": "circle"
         },
         "mode": "markers",
         "name": "2018-06-21",
         "showlegend": true,
         "type": "scattergl",
         "x": [
          0.3822860714650762
         ],
         "xaxis": "x",
         "y": [
          -11.28453039959149
         ],
         "yaxis": "y"
        },
        {
         "hovertemplate": "date=2018-06-22<br>pc1=%{x}<br>pc2=%{y}<extra></extra>",
         "legendgroup": "2018-06-22",
         "marker": {
          "color": "#FF6692",
          "symbol": "circle"
         },
         "mode": "markers",
         "name": "2018-06-22",
         "showlegend": true,
         "type": "scattergl",
         "x": [
          -3.5063955359052685
         ],
         "xaxis": "x",
         "y": [
          -14.317601986098236
         ],
         "yaxis": "y"
        },
        {
         "hovertemplate": "date=2018-06-23<br>pc1=%{x}<br>pc2=%{y}<extra></extra>",
         "legendgroup": "2018-06-23",
         "marker": {
          "color": "#B6E880",
          "symbol": "circle"
         },
         "mode": "markers",
         "name": "2018-06-23",
         "showlegend": true,
         "type": "scattergl",
         "x": [
          -0.48110829527130833
         ],
         "xaxis": "x",
         "y": [
          -11.089368298832479
         ],
         "yaxis": "y"
        },
        {
         "hovertemplate": "date=2018-06-24<br>pc1=%{x}<br>pc2=%{y}<extra></extra>",
         "legendgroup": "2018-06-24",
         "marker": {
          "color": "#FF97FF",
          "symbol": "circle"
         },
         "mode": "markers",
         "name": "2018-06-24",
         "showlegend": true,
         "type": "scattergl",
         "x": [
          -11.869289336608128
         ],
         "xaxis": "x",
         "y": [
          -4.7740070557469725
         ],
         "yaxis": "y"
        },
        {
         "hovertemplate": "date=2018-06-25<br>pc1=%{x}<br>pc2=%{y}<extra></extra>",
         "legendgroup": "2018-06-25",
         "marker": {
          "color": "#FECB52",
          "symbol": "circle"
         },
         "mode": "markers",
         "name": "2018-06-25",
         "showlegend": true,
         "type": "scattergl",
         "x": [
          -6.668206264277869
         ],
         "xaxis": "x",
         "y": [
          -7.543259190351732
         ],
         "yaxis": "y"
        },
        {
         "hovertemplate": "date=2018-06-26<br>pc1=%{x}<br>pc2=%{y}<extra></extra>",
         "legendgroup": "2018-06-26",
         "marker": {
          "color": "#636efa",
          "symbol": "circle"
         },
         "mode": "markers",
         "name": "2018-06-26",
         "showlegend": true,
         "type": "scattergl",
         "x": [
          -2.3645980240427886
         ],
         "xaxis": "x",
         "y": [
          -8.94238186366839
         ],
         "yaxis": "y"
        },
        {
         "hovertemplate": "date=2018-06-27<br>pc1=%{x}<br>pc2=%{y}<extra></extra>",
         "legendgroup": "2018-06-27",
         "marker": {
          "color": "#EF553B",
          "symbol": "circle"
         },
         "mode": "markers",
         "name": "2018-06-27",
         "showlegend": true,
         "type": "scattergl",
         "x": [
          -4.226761671650703
         ],
         "xaxis": "x",
         "y": [
          -5.238115728962346
         ],
         "yaxis": "y"
        },
        {
         "hovertemplate": "date=2018-06-28<br>pc1=%{x}<br>pc2=%{y}<extra></extra>",
         "legendgroup": "2018-06-28",
         "marker": {
          "color": "#00cc96",
          "symbol": "circle"
         },
         "mode": "markers",
         "name": "2018-06-28",
         "showlegend": true,
         "type": "scattergl",
         "x": [
          -15.108061873920567
         ],
         "xaxis": "x",
         "y": [
          -13.052857232201848
         ],
         "yaxis": "y"
        },
        {
         "hovertemplate": "date=2018-06-29<br>pc1=%{x}<br>pc2=%{y}<extra></extra>",
         "legendgroup": "2018-06-29",
         "marker": {
          "color": "#ab63fa",
          "symbol": "circle"
         },
         "mode": "markers",
         "name": "2018-06-29",
         "showlegend": true,
         "type": "scattergl",
         "x": [
          -10.774330287378707
         ],
         "xaxis": "x",
         "y": [
          -8.406853247889922
         ],
         "yaxis": "y"
        },
        {
         "hovertemplate": "date=2018-06-30<br>pc1=%{x}<br>pc2=%{y}<extra></extra>",
         "legendgroup": "2018-06-30",
         "marker": {
          "color": "#FFA15A",
          "symbol": "circle"
         },
         "mode": "markers",
         "name": "2018-06-30",
         "showlegend": true,
         "type": "scattergl",
         "x": [
          0.11725007056339715
         ],
         "xaxis": "x",
         "y": [
          -10.359307218988977
         ],
         "yaxis": "y"
        },
        {
         "hovertemplate": "date=2018-07-01<br>pc1=%{x}<br>pc2=%{y}<extra></extra>",
         "legendgroup": "2018-07-01",
         "marker": {
          "color": "#19d3f3",
          "symbol": "circle"
         },
         "mode": "markers",
         "name": "2018-07-01",
         "showlegend": true,
         "type": "scattergl",
         "x": [
          -4.370594925006409
         ],
         "xaxis": "x",
         "y": [
          -18.806569513614
         ],
         "yaxis": "y"
        },
        {
         "hovertemplate": "date=2018-07-02<br>pc1=%{x}<br>pc2=%{y}<extra></extra>",
         "legendgroup": "2018-07-02",
         "marker": {
          "color": "#FF6692",
          "symbol": "circle"
         },
         "mode": "markers",
         "name": "2018-07-02",
         "showlegend": true,
         "type": "scattergl",
         "x": [
          -13.345586192158784
         ],
         "xaxis": "x",
         "y": [
          -1.05591921433731
         ],
         "yaxis": "y"
        },
        {
         "hovertemplate": "date=2018-07-03<br>pc1=%{x}<br>pc2=%{y}<extra></extra>",
         "legendgroup": "2018-07-03",
         "marker": {
          "color": "#B6E880",
          "symbol": "circle"
         },
         "mode": "markers",
         "name": "2018-07-03",
         "showlegend": true,
         "type": "scattergl",
         "x": [
          -17.183140146388507
         ],
         "xaxis": "x",
         "y": [
          -5.530459870237636
         ],
         "yaxis": "y"
        },
        {
         "hovertemplate": "date=2018-07-04<br>pc1=%{x}<br>pc2=%{y}<extra></extra>",
         "legendgroup": "2018-07-04",
         "marker": {
          "color": "#FF97FF",
          "symbol": "circle"
         },
         "mode": "markers",
         "name": "2018-07-04",
         "showlegend": true,
         "type": "scattergl",
         "x": [
          22.18042539697627
         ],
         "xaxis": "x",
         "y": [
          -33.645635549972255
         ],
         "yaxis": "y"
        },
        {
         "hovertemplate": "date=2018-07-05<br>pc1=%{x}<br>pc2=%{y}<extra></extra>",
         "legendgroup": "2018-07-05",
         "marker": {
          "color": "#FECB52",
          "symbol": "circle"
         },
         "mode": "markers",
         "name": "2018-07-05",
         "showlegend": true,
         "type": "scattergl",
         "x": [
          -4.610182487435312
         ],
         "xaxis": "x",
         "y": [
          -10.893413004132327
         ],
         "yaxis": "y"
        },
        {
         "hovertemplate": "date=2018-07-06<br>pc1=%{x}<br>pc2=%{y}<extra></extra>",
         "legendgroup": "2018-07-06",
         "marker": {
          "color": "#636efa",
          "symbol": "circle"
         },
         "mode": "markers",
         "name": "2018-07-06",
         "showlegend": true,
         "type": "scattergl",
         "x": [
          -16.549726569961898
         ],
         "xaxis": "x",
         "y": [
          -8.546995792335153
         ],
         "yaxis": "y"
        },
        {
         "hovertemplate": "date=2018-07-07<br>pc1=%{x}<br>pc2=%{y}<extra></extra>",
         "legendgroup": "2018-07-07",
         "marker": {
          "color": "#EF553B",
          "symbol": "circle"
         },
         "mode": "markers",
         "name": "2018-07-07",
         "showlegend": true,
         "type": "scattergl",
         "x": [
          -6.305721985487233
         ],
         "xaxis": "x",
         "y": [
          -6.071473390735162
         ],
         "yaxis": "y"
        },
        {
         "hovertemplate": "date=2018-07-08<br>pc1=%{x}<br>pc2=%{y}<extra></extra>",
         "legendgroup": "2018-07-08",
         "marker": {
          "color": "#00cc96",
          "symbol": "circle"
         },
         "mode": "markers",
         "name": "2018-07-08",
         "showlegend": true,
         "type": "scattergl",
         "x": [
          4.034057291087692
         ],
         "xaxis": "x",
         "y": [
          -10.60291851904272
         ],
         "yaxis": "y"
        },
        {
         "hovertemplate": "date=2018-07-09<br>pc1=%{x}<br>pc2=%{y}<extra></extra>",
         "legendgroup": "2018-07-09",
         "marker": {
          "color": "#ab63fa",
          "symbol": "circle"
         },
         "mode": "markers",
         "name": "2018-07-09",
         "showlegend": true,
         "type": "scattergl",
         "x": [
          -9.508910859833648
         ],
         "xaxis": "x",
         "y": [
          -9.300753996302163
         ],
         "yaxis": "y"
        },
        {
         "hovertemplate": "date=2018-07-10<br>pc1=%{x}<br>pc2=%{y}<extra></extra>",
         "legendgroup": "2018-07-10",
         "marker": {
          "color": "#FFA15A",
          "symbol": "circle"
         },
         "mode": "markers",
         "name": "2018-07-10",
         "showlegend": true,
         "type": "scattergl",
         "x": [
          -7.185729543603829
         ],
         "xaxis": "x",
         "y": [
          -7.082012274133344
         ],
         "yaxis": "y"
        },
        {
         "hovertemplate": "date=2018-07-11<br>pc1=%{x}<br>pc2=%{y}<extra></extra>",
         "legendgroup": "2018-07-11",
         "marker": {
          "color": "#19d3f3",
          "symbol": "circle"
         },
         "mode": "markers",
         "name": "2018-07-11",
         "showlegend": true,
         "type": "scattergl",
         "x": [
          -8.521913748919557
         ],
         "xaxis": "x",
         "y": [
          -4.9506105868585415
         ],
         "yaxis": "y"
        },
        {
         "hovertemplate": "date=2018-07-12<br>pc1=%{x}<br>pc2=%{y}<extra></extra>",
         "legendgroup": "2018-07-12",
         "marker": {
          "color": "#FF6692",
          "symbol": "circle"
         },
         "mode": "markers",
         "name": "2018-07-12",
         "showlegend": true,
         "type": "scattergl",
         "x": [
          -13.560258361147277
         ],
         "xaxis": "x",
         "y": [
          -13.96128799362128
         ],
         "yaxis": "y"
        },
        {
         "hovertemplate": "date=2018-07-13<br>pc1=%{x}<br>pc2=%{y}<extra></extra>",
         "legendgroup": "2018-07-13",
         "marker": {
          "color": "#B6E880",
          "symbol": "circle"
         },
         "mode": "markers",
         "name": "2018-07-13",
         "showlegend": true,
         "type": "scattergl",
         "x": [
          -10.196201977097573
         ],
         "xaxis": "x",
         "y": [
          -4.227930222083157
         ],
         "yaxis": "y"
        },
        {
         "hovertemplate": "date=2018-07-14<br>pc1=%{x}<br>pc2=%{y}<extra></extra>",
         "legendgroup": "2018-07-14",
         "marker": {
          "color": "#FF97FF",
          "symbol": "circle"
         },
         "mode": "markers",
         "name": "2018-07-14",
         "showlegend": true,
         "type": "scattergl",
         "x": [
          -0.3971503922838211
         ],
         "xaxis": "x",
         "y": [
          -16.997812020092255
         ],
         "yaxis": "y"
        },
        {
         "hovertemplate": "date=2018-07-15<br>pc1=%{x}<br>pc2=%{y}<extra></extra>",
         "legendgroup": "2018-07-15",
         "marker": {
          "color": "#FECB52",
          "symbol": "circle"
         },
         "mode": "markers",
         "name": "2018-07-15",
         "showlegend": true,
         "type": "scattergl",
         "x": [
          1.784672611670564
         ],
         "xaxis": "x",
         "y": [
          -14.170791747248495
         ],
         "yaxis": "y"
        },
        {
         "hovertemplate": "date=2018-07-16<br>pc1=%{x}<br>pc2=%{y}<extra></extra>",
         "legendgroup": "2018-07-16",
         "marker": {
          "color": "#636efa",
          "symbol": "circle"
         },
         "mode": "markers",
         "name": "2018-07-16",
         "showlegend": true,
         "type": "scattergl",
         "x": [
          -5.687690141269492
         ],
         "xaxis": "x",
         "y": [
          -8.557014641019347
         ],
         "yaxis": "y"
        },
        {
         "hovertemplate": "date=2018-07-17<br>pc1=%{x}<br>pc2=%{y}<extra></extra>",
         "legendgroup": "2018-07-17",
         "marker": {
          "color": "#EF553B",
          "symbol": "circle"
         },
         "mode": "markers",
         "name": "2018-07-17",
         "showlegend": true,
         "type": "scattergl",
         "x": [
          -8.364117044232117
         ],
         "xaxis": "x",
         "y": [
          -9.565790132059337
         ],
         "yaxis": "y"
        },
        {
         "hovertemplate": "date=2018-07-18<br>pc1=%{x}<br>pc2=%{y}<extra></extra>",
         "legendgroup": "2018-07-18",
         "marker": {
          "color": "#00cc96",
          "symbol": "circle"
         },
         "mode": "markers",
         "name": "2018-07-18",
         "showlegend": true,
         "type": "scattergl",
         "x": [
          -7.190179896093712
         ],
         "xaxis": "x",
         "y": [
          -5.362553105176902
         ],
         "yaxis": "y"
        },
        {
         "hovertemplate": "date=2018-07-19<br>pc1=%{x}<br>pc2=%{y}<extra></extra>",
         "legendgroup": "2018-07-19",
         "marker": {
          "color": "#ab63fa",
          "symbol": "circle"
         },
         "mode": "markers",
         "name": "2018-07-19",
         "showlegend": true,
         "type": "scattergl",
         "x": [
          -10.174614391329408
         ],
         "xaxis": "x",
         "y": [
          -5.3208660712669476
         ],
         "yaxis": "y"
        },
        {
         "hovertemplate": "date=2018-07-20<br>pc1=%{x}<br>pc2=%{y}<extra></extra>",
         "legendgroup": "2018-07-20",
         "marker": {
          "color": "#FFA15A",
          "symbol": "circle"
         },
         "mode": "markers",
         "name": "2018-07-20",
         "showlegend": true,
         "type": "scattergl",
         "x": [
          -10.466422304135346
         ],
         "xaxis": "x",
         "y": [
          -11.003879728142842
         ],
         "yaxis": "y"
        },
        {
         "hovertemplate": "date=2018-07-21<br>pc1=%{x}<br>pc2=%{y}<extra></extra>",
         "legendgroup": "2018-07-21",
         "marker": {
          "color": "#19d3f3",
          "symbol": "circle"
         },
         "mode": "markers",
         "name": "2018-07-21",
         "showlegend": true,
         "type": "scattergl",
         "x": [
          -0.4621571648597652
         ],
         "xaxis": "x",
         "y": [
          -13.89033853851916
         ],
         "yaxis": "y"
        },
        {
         "hovertemplate": "date=2018-07-22<br>pc1=%{x}<br>pc2=%{y}<extra></extra>",
         "legendgroup": "2018-07-22",
         "marker": {
          "color": "#FF6692",
          "symbol": "circle"
         },
         "mode": "markers",
         "name": "2018-07-22",
         "showlegend": true,
         "type": "scattergl",
         "x": [
          6.99462589568845
         ],
         "xaxis": "x",
         "y": [
          -14.02594264112999
         ],
         "yaxis": "y"
        },
        {
         "hovertemplate": "date=2018-07-23<br>pc1=%{x}<br>pc2=%{y}<extra></extra>",
         "legendgroup": "2018-07-23",
         "marker": {
          "color": "#B6E880",
          "symbol": "circle"
         },
         "mode": "markers",
         "name": "2018-07-23",
         "showlegend": true,
         "type": "scattergl",
         "x": [
          -13.847728129055284
         ],
         "xaxis": "x",
         "y": [
          -13.454556573352173
         ],
         "yaxis": "y"
        },
        {
         "hovertemplate": "date=2018-07-24<br>pc1=%{x}<br>pc2=%{y}<extra></extra>",
         "legendgroup": "2018-07-24",
         "marker": {
          "color": "#FF97FF",
          "symbol": "circle"
         },
         "mode": "markers",
         "name": "2018-07-24",
         "showlegend": true,
         "type": "scattergl",
         "x": [
          -7.5789202423310345
         ],
         "xaxis": "x",
         "y": [
          -4.5671626120086835
         ],
         "yaxis": "y"
        },
        {
         "hovertemplate": "date=2018-07-25<br>pc1=%{x}<br>pc2=%{y}<extra></extra>",
         "legendgroup": "2018-07-25",
         "marker": {
          "color": "#FECB52",
          "symbol": "circle"
         },
         "mode": "markers",
         "name": "2018-07-25",
         "showlegend": true,
         "type": "scattergl",
         "x": [
          -10.055246367437721
         ],
         "xaxis": "x",
         "y": [
          -9.04911058567792
         ],
         "yaxis": "y"
        },
        {
         "hovertemplate": "date=2018-07-26<br>pc1=%{x}<br>pc2=%{y}<extra></extra>",
         "legendgroup": "2018-07-26",
         "marker": {
          "color": "#636efa",
          "symbol": "circle"
         },
         "mode": "markers",
         "name": "2018-07-26",
         "showlegend": true,
         "type": "scattergl",
         "x": [
          -10.06532088962598
         ],
         "xaxis": "x",
         "y": [
          -6.660164003132175
         ],
         "yaxis": "y"
        },
        {
         "hovertemplate": "date=2018-07-27<br>pc1=%{x}<br>pc2=%{y}<extra></extra>",
         "legendgroup": "2018-07-27",
         "marker": {
          "color": "#EF553B",
          "symbol": "circle"
         },
         "mode": "markers",
         "name": "2018-07-27",
         "showlegend": true,
         "type": "scattergl",
         "x": [
          -7.060302074807277
         ],
         "xaxis": "x",
         "y": [
          -6.875362235921328
         ],
         "yaxis": "y"
        },
        {
         "hovertemplate": "date=2018-07-28<br>pc1=%{x}<br>pc2=%{y}<extra></extra>",
         "legendgroup": "2018-07-28",
         "marker": {
          "color": "#00cc96",
          "symbol": "circle"
         },
         "mode": "markers",
         "name": "2018-07-28",
         "showlegend": true,
         "type": "scattergl",
         "x": [
          -3.689069946639889
         ],
         "xaxis": "x",
         "y": [
          -18.70202137907576
         ],
         "yaxis": "y"
        },
        {
         "hovertemplate": "date=2018-07-29<br>pc1=%{x}<br>pc2=%{y}<extra></extra>",
         "legendgroup": "2018-07-29",
         "marker": {
          "color": "#ab63fa",
          "symbol": "circle"
         },
         "mode": "markers",
         "name": "2018-07-29",
         "showlegend": true,
         "type": "scattergl",
         "x": [
          -1.2143303606503788
         ],
         "xaxis": "x",
         "y": [
          -24.615842755102474
         ],
         "yaxis": "y"
        },
        {
         "hovertemplate": "date=2018-07-30<br>pc1=%{x}<br>pc2=%{y}<extra></extra>",
         "legendgroup": "2018-07-30",
         "marker": {
          "color": "#FFA15A",
          "symbol": "circle"
         },
         "mode": "markers",
         "name": "2018-07-30",
         "showlegend": true,
         "type": "scattergl",
         "x": [
          -4.782591344688472
         ],
         "xaxis": "x",
         "y": [
          -4.558162417059785
         ],
         "yaxis": "y"
        },
        {
         "hovertemplate": "date=2018-07-31<br>pc1=%{x}<br>pc2=%{y}<extra></extra>",
         "legendgroup": "2018-07-31",
         "marker": {
          "color": "#19d3f3",
          "symbol": "circle"
         },
         "mode": "markers",
         "name": "2018-07-31",
         "showlegend": true,
         "type": "scattergl",
         "x": [
          -4.608793591186269
         ],
         "xaxis": "x",
         "y": [
          -12.546779029673882
         ],
         "yaxis": "y"
        },
        {
         "hovertemplate": "date=2018-08-01<br>pc1=%{x}<br>pc2=%{y}<extra></extra>",
         "legendgroup": "2018-08-01",
         "marker": {
          "color": "#FF6692",
          "symbol": "circle"
         },
         "mode": "markers",
         "name": "2018-08-01",
         "showlegend": true,
         "type": "scattergl",
         "x": [
          -6.806052793080462
         ],
         "xaxis": "x",
         "y": [
          -9.669067890849322
         ],
         "yaxis": "y"
        },
        {
         "hovertemplate": "date=2018-08-02<br>pc1=%{x}<br>pc2=%{y}<extra></extra>",
         "legendgroup": "2018-08-02",
         "marker": {
          "color": "#B6E880",
          "symbol": "circle"
         },
         "mode": "markers",
         "name": "2018-08-02",
         "showlegend": true,
         "type": "scattergl",
         "x": [
          -15.721519057792674
         ],
         "xaxis": "x",
         "y": [
          -6.218094952042049
         ],
         "yaxis": "y"
        },
        {
         "hovertemplate": "date=2018-08-03<br>pc1=%{x}<br>pc2=%{y}<extra></extra>",
         "legendgroup": "2018-08-03",
         "marker": {
          "color": "#FF97FF",
          "symbol": "circle"
         },
         "mode": "markers",
         "name": "2018-08-03",
         "showlegend": true,
         "type": "scattergl",
         "x": [
          -17.334212257451448
         ],
         "xaxis": "x",
         "y": [
          -11.121026145246486
         ],
         "yaxis": "y"
        },
        {
         "hovertemplate": "date=2018-08-04<br>pc1=%{x}<br>pc2=%{y}<extra></extra>",
         "legendgroup": "2018-08-04",
         "marker": {
          "color": "#FECB52",
          "symbol": "circle"
         },
         "mode": "markers",
         "name": "2018-08-04",
         "showlegend": true,
         "type": "scattergl",
         "x": [
          -2.0980233212041646
         ],
         "xaxis": "x",
         "y": [
          -9.460418432248218
         ],
         "yaxis": "y"
        },
        {
         "hovertemplate": "date=2018-08-05<br>pc1=%{x}<br>pc2=%{y}<extra></extra>",
         "legendgroup": "2018-08-05",
         "marker": {
          "color": "#636efa",
          "symbol": "circle"
         },
         "mode": "markers",
         "name": "2018-08-05",
         "showlegend": true,
         "type": "scattergl",
         "x": [
          -1.515738321986819
         ],
         "xaxis": "x",
         "y": [
          -16.642861811341817
         ],
         "yaxis": "y"
        },
        {
         "hovertemplate": "date=2018-08-06<br>pc1=%{x}<br>pc2=%{y}<extra></extra>",
         "legendgroup": "2018-08-06",
         "marker": {
          "color": "#EF553B",
          "symbol": "circle"
         },
         "mode": "markers",
         "name": "2018-08-06",
         "showlegend": true,
         "type": "scattergl",
         "x": [
          -1.2287409747641587
         ],
         "xaxis": "x",
         "y": [
          -6.5111668098526785
         ],
         "yaxis": "y"
        },
        {
         "hovertemplate": "date=2018-08-07<br>pc1=%{x}<br>pc2=%{y}<extra></extra>",
         "legendgroup": "2018-08-07",
         "marker": {
          "color": "#00cc96",
          "symbol": "circle"
         },
         "mode": "markers",
         "name": "2018-08-07",
         "showlegend": true,
         "type": "scattergl",
         "x": [
          -2.5150195557123247
         ],
         "xaxis": "x",
         "y": [
          -8.569266481651416
         ],
         "yaxis": "y"
        },
        {
         "hovertemplate": "date=2018-08-08<br>pc1=%{x}<br>pc2=%{y}<extra></extra>",
         "legendgroup": "2018-08-08",
         "marker": {
          "color": "#ab63fa",
          "symbol": "circle"
         },
         "mode": "markers",
         "name": "2018-08-08",
         "showlegend": true,
         "type": "scattergl",
         "x": [
          -7.570074197377506
         ],
         "xaxis": "x",
         "y": [
          -9.952248831521118
         ],
         "yaxis": "y"
        },
        {
         "hovertemplate": "date=2018-08-09<br>pc1=%{x}<br>pc2=%{y}<extra></extra>",
         "legendgroup": "2018-08-09",
         "marker": {
          "color": "#FFA15A",
          "symbol": "circle"
         },
         "mode": "markers",
         "name": "2018-08-09",
         "showlegend": true,
         "type": "scattergl",
         "x": [
          -5.800008506595057
         ],
         "xaxis": "x",
         "y": [
          -6.254250467840597
         ],
         "yaxis": "y"
        },
        {
         "hovertemplate": "date=2018-08-10<br>pc1=%{x}<br>pc2=%{y}<extra></extra>",
         "legendgroup": "2018-08-10",
         "marker": {
          "color": "#19d3f3",
          "symbol": "circle"
         },
         "mode": "markers",
         "name": "2018-08-10",
         "showlegend": true,
         "type": "scattergl",
         "x": [
          -10.668045101386179
         ],
         "xaxis": "x",
         "y": [
          -7.485868378892498
         ],
         "yaxis": "y"
        },
        {
         "hovertemplate": "date=2018-08-11<br>pc1=%{x}<br>pc2=%{y}<extra></extra>",
         "legendgroup": "2018-08-11",
         "marker": {
          "color": "#FF6692",
          "symbol": "circle"
         },
         "mode": "markers",
         "name": "2018-08-11",
         "showlegend": true,
         "type": "scattergl",
         "x": [
          1.8705124446245953
         ],
         "xaxis": "x",
         "y": [
          0.6070058879231168
         ],
         "yaxis": "y"
        },
        {
         "hovertemplate": "date=2018-08-12<br>pc1=%{x}<br>pc2=%{y}<extra></extra>",
         "legendgroup": "2018-08-12",
         "marker": {
          "color": "#B6E880",
          "symbol": "circle"
         },
         "mode": "markers",
         "name": "2018-08-12",
         "showlegend": true,
         "type": "scattergl",
         "x": [
          33.12977572287805
         ],
         "xaxis": "x",
         "y": [
          37.861974471300165
         ],
         "yaxis": "y"
        },
        {
         "hovertemplate": "date=2018-08-13<br>pc1=%{x}<br>pc2=%{y}<extra></extra>",
         "legendgroup": "2018-08-13",
         "marker": {
          "color": "#FF97FF",
          "symbol": "circle"
         },
         "mode": "markers",
         "name": "2018-08-13",
         "showlegend": true,
         "type": "scattergl",
         "x": [
          24.154819378925517
         ],
         "xaxis": "x",
         "y": [
          38.551228009966195
         ],
         "yaxis": "y"
        },
        {
         "hovertemplate": "date=2018-08-14<br>pc1=%{x}<br>pc2=%{y}<extra></extra>",
         "legendgroup": "2018-08-14",
         "marker": {
          "color": "#FECB52",
          "symbol": "circle"
         },
         "mode": "markers",
         "name": "2018-08-14",
         "showlegend": true,
         "type": "scattergl",
         "x": [
          -1.494954414688767
         ],
         "xaxis": "x",
         "y": [
          3.1478875264700785
         ],
         "yaxis": "y"
        },
        {
         "hovertemplate": "date=2018-08-15<br>pc1=%{x}<br>pc2=%{y}<extra></extra>",
         "legendgroup": "2018-08-15",
         "marker": {
          "color": "#636efa",
          "symbol": "circle"
         },
         "mode": "markers",
         "name": "2018-08-15",
         "showlegend": true,
         "type": "scattergl",
         "x": [
          -10.05541777100268
         ],
         "xaxis": "x",
         "y": [
          -13.180300786584855
         ],
         "yaxis": "y"
        },
        {
         "hovertemplate": "date=2018-08-16<br>pc1=%{x}<br>pc2=%{y}<extra></extra>",
         "legendgroup": "2018-08-16",
         "marker": {
          "color": "#EF553B",
          "symbol": "circle"
         },
         "mode": "markers",
         "name": "2018-08-16",
         "showlegend": true,
         "type": "scattergl",
         "x": [
          -5.841891015763448
         ],
         "xaxis": "x",
         "y": [
          -6.518706754624345
         ],
         "yaxis": "y"
        },
        {
         "hovertemplate": "date=2018-08-17<br>pc1=%{x}<br>pc2=%{y}<extra></extra>",
         "legendgroup": "2018-08-17",
         "marker": {
          "color": "#00cc96",
          "symbol": "circle"
         },
         "mode": "markers",
         "name": "2018-08-17",
         "showlegend": true,
         "type": "scattergl",
         "x": [
          -7.69563409851533
         ],
         "xaxis": "x",
         "y": [
          -11.414607891988945
         ],
         "yaxis": "y"
        },
        {
         "hovertemplate": "date=2018-08-18<br>pc1=%{x}<br>pc2=%{y}<extra></extra>",
         "legendgroup": "2018-08-18",
         "marker": {
          "color": "#ab63fa",
          "symbol": "circle"
         },
         "mode": "markers",
         "name": "2018-08-18",
         "showlegend": true,
         "type": "scattergl",
         "x": [
          -9.368731074214951
         ],
         "xaxis": "x",
         "y": [
          -17.679501902885733
         ],
         "yaxis": "y"
        },
        {
         "hovertemplate": "date=2018-08-19<br>pc1=%{x}<br>pc2=%{y}<extra></extra>",
         "legendgroup": "2018-08-19",
         "marker": {
          "color": "#FFA15A",
          "symbol": "circle"
         },
         "mode": "markers",
         "name": "2018-08-19",
         "showlegend": true,
         "type": "scattergl",
         "x": [
          0.6307668689395248
         ],
         "xaxis": "x",
         "y": [
          -11.873774446954943
         ],
         "yaxis": "y"
        },
        {
         "hovertemplate": "date=2018-08-20<br>pc1=%{x}<br>pc2=%{y}<extra></extra>",
         "legendgroup": "2018-08-20",
         "marker": {
          "color": "#19d3f3",
          "symbol": "circle"
         },
         "mode": "markers",
         "name": "2018-08-20",
         "showlegend": true,
         "type": "scattergl",
         "x": [
          -7.7429258981671225
         ],
         "xaxis": "x",
         "y": [
          -13.307249169432689
         ],
         "yaxis": "y"
        },
        {
         "hovertemplate": "date=2018-08-21<br>pc1=%{x}<br>pc2=%{y}<extra></extra>",
         "legendgroup": "2018-08-21",
         "marker": {
          "color": "#FF6692",
          "symbol": "circle"
         },
         "mode": "markers",
         "name": "2018-08-21",
         "showlegend": true,
         "type": "scattergl",
         "x": [
          -6.530249007299809
         ],
         "xaxis": "x",
         "y": [
          -10.309220314768451
         ],
         "yaxis": "y"
        },
        {
         "hovertemplate": "date=2018-08-22<br>pc1=%{x}<br>pc2=%{y}<extra></extra>",
         "legendgroup": "2018-08-22",
         "marker": {
          "color": "#B6E880",
          "symbol": "circle"
         },
         "mode": "markers",
         "name": "2018-08-22",
         "showlegend": true,
         "type": "scattergl",
         "x": [
          -6.864531785029091
         ],
         "xaxis": "x",
         "y": [
          -4.7208406356145005
         ],
         "yaxis": "y"
        },
        {
         "hovertemplate": "date=2018-08-23<br>pc1=%{x}<br>pc2=%{y}<extra></extra>",
         "legendgroup": "2018-08-23",
         "marker": {
          "color": "#FF97FF",
          "symbol": "circle"
         },
         "mode": "markers",
         "name": "2018-08-23",
         "showlegend": true,
         "type": "scattergl",
         "x": [
          -12.848178195855962
         ],
         "xaxis": "x",
         "y": [
          -7.733263356001058
         ],
         "yaxis": "y"
        },
        {
         "hovertemplate": "date=2018-08-24<br>pc1=%{x}<br>pc2=%{y}<extra></extra>",
         "legendgroup": "2018-08-24",
         "marker": {
          "color": "#FECB52",
          "symbol": "circle"
         },
         "mode": "markers",
         "name": "2018-08-24",
         "showlegend": true,
         "type": "scattergl",
         "x": [
          -3.5841273920901298
         ],
         "xaxis": "x",
         "y": [
          -6.910145503199974
         ],
         "yaxis": "y"
        },
        {
         "hovertemplate": "date=2018-08-25<br>pc1=%{x}<br>pc2=%{y}<extra></extra>",
         "legendgroup": "2018-08-25",
         "marker": {
          "color": "#636efa",
          "symbol": "circle"
         },
         "mode": "markers",
         "name": "2018-08-25",
         "showlegend": true,
         "type": "scattergl",
         "x": [
          -0.9259151667731703
         ],
         "xaxis": "x",
         "y": [
          -15.075675978885206
         ],
         "yaxis": "y"
        },
        {
         "hovertemplate": "date=2018-08-26<br>pc1=%{x}<br>pc2=%{y}<extra></extra>",
         "legendgroup": "2018-08-26",
         "marker": {
          "color": "#EF553B",
          "symbol": "circle"
         },
         "mode": "markers",
         "name": "2018-08-26",
         "showlegend": true,
         "type": "scattergl",
         "x": [
          2.8984635168363444
         ],
         "xaxis": "x",
         "y": [
          -17.296066252906922
         ],
         "yaxis": "y"
        },
        {
         "hovertemplate": "date=2018-08-27<br>pc1=%{x}<br>pc2=%{y}<extra></extra>",
         "legendgroup": "2018-08-27",
         "marker": {
          "color": "#00cc96",
          "symbol": "circle"
         },
         "mode": "markers",
         "name": "2018-08-27",
         "showlegend": true,
         "type": "scattergl",
         "x": [
          -11.233475243126122
         ],
         "xaxis": "x",
         "y": [
          -5.723844630410761
         ],
         "yaxis": "y"
        },
        {
         "hovertemplate": "date=2018-08-28<br>pc1=%{x}<br>pc2=%{y}<extra></extra>",
         "legendgroup": "2018-08-28",
         "marker": {
          "color": "#ab63fa",
          "symbol": "circle"
         },
         "mode": "markers",
         "name": "2018-08-28",
         "showlegend": true,
         "type": "scattergl",
         "x": [
          -12.140296796086451
         ],
         "xaxis": "x",
         "y": [
          -11.711161575425178
         ],
         "yaxis": "y"
        },
        {
         "hovertemplate": "date=2018-08-29<br>pc1=%{x}<br>pc2=%{y}<extra></extra>",
         "legendgroup": "2018-08-29",
         "marker": {
          "color": "#FFA15A",
          "symbol": "circle"
         },
         "mode": "markers",
         "name": "2018-08-29",
         "showlegend": true,
         "type": "scattergl",
         "x": [
          -9.84536909244718
         ],
         "xaxis": "x",
         "y": [
          -5.260163180065285
         ],
         "yaxis": "y"
        },
        {
         "hovertemplate": "date=2018-08-30<br>pc1=%{x}<br>pc2=%{y}<extra></extra>",
         "legendgroup": "2018-08-30",
         "marker": {
          "color": "#19d3f3",
          "symbol": "circle"
         },
         "mode": "markers",
         "name": "2018-08-30",
         "showlegend": true,
         "type": "scattergl",
         "x": [
          -11.768826412308673
         ],
         "xaxis": "x",
         "y": [
          -5.942589360319607
         ],
         "yaxis": "y"
        },
        {
         "hovertemplate": "date=2018-08-31<br>pc1=%{x}<br>pc2=%{y}<extra></extra>",
         "legendgroup": "2018-08-31",
         "marker": {
          "color": "#FF6692",
          "symbol": "circle"
         },
         "mode": "markers",
         "name": "2018-08-31",
         "showlegend": true,
         "type": "scattergl",
         "x": [
          -19.970695990839413
         ],
         "xaxis": "x",
         "y": [
          -11.856306448994573
         ],
         "yaxis": "y"
        },
        {
         "hovertemplate": "date=2018-09-01<br>pc1=%{x}<br>pc2=%{y}<extra></extra>",
         "legendgroup": "2018-09-01",
         "marker": {
          "color": "#B6E880",
          "symbol": "circle"
         },
         "mode": "markers",
         "name": "2018-09-01",
         "showlegend": true,
         "type": "scattergl",
         "x": [
          -0.5048636195215959
         ],
         "xaxis": "x",
         "y": [
          -10.760093278790908
         ],
         "yaxis": "y"
        },
        {
         "hovertemplate": "date=2018-09-02<br>pc1=%{x}<br>pc2=%{y}<extra></extra>",
         "legendgroup": "2018-09-02",
         "marker": {
          "color": "#FF97FF",
          "symbol": "circle"
         },
         "mode": "markers",
         "name": "2018-09-02",
         "showlegend": true,
         "type": "scattergl",
         "x": [
          -5.97334047806205
         ],
         "xaxis": "x",
         "y": [
          -13.83212545942803
         ],
         "yaxis": "y"
        },
        {
         "hovertemplate": "date=2018-09-03<br>pc1=%{x}<br>pc2=%{y}<extra></extra>",
         "legendgroup": "2018-09-03",
         "marker": {
          "color": "#FECB52",
          "symbol": "circle"
         },
         "mode": "markers",
         "name": "2018-09-03",
         "showlegend": true,
         "type": "scattergl",
         "x": [
          36.83120272223735
         ],
         "xaxis": "x",
         "y": [
          -31.44210654272405
         ],
         "yaxis": "y"
        },
        {
         "hovertemplate": "date=2018-09-04<br>pc1=%{x}<br>pc2=%{y}<extra></extra>",
         "legendgroup": "2018-09-04",
         "marker": {
          "color": "#636efa",
          "symbol": "circle"
         },
         "mode": "markers",
         "name": "2018-09-04",
         "showlegend": true,
         "type": "scattergl",
         "x": [
          -15.932973838263575
         ],
         "xaxis": "x",
         "y": [
          -3.1837735971789884
         ],
         "yaxis": "y"
        },
        {
         "hovertemplate": "date=2018-09-05<br>pc1=%{x}<br>pc2=%{y}<extra></extra>",
         "legendgroup": "2018-09-05",
         "marker": {
          "color": "#EF553B",
          "symbol": "circle"
         },
         "mode": "markers",
         "name": "2018-09-05",
         "showlegend": true,
         "type": "scattergl",
         "x": [
          -21.17107364873502
         ],
         "xaxis": "x",
         "y": [
          -5.49168669051474
         ],
         "yaxis": "y"
        },
        {
         "hovertemplate": "date=2018-09-06<br>pc1=%{x}<br>pc2=%{y}<extra></extra>",
         "legendgroup": "2018-09-06",
         "marker": {
          "color": "#00cc96",
          "symbol": "circle"
         },
         "mode": "markers",
         "name": "2018-09-06",
         "showlegend": true,
         "type": "scattergl",
         "x": [
          -19.94061072894708
         ],
         "xaxis": "x",
         "y": [
          -3.6202708778136596
         ],
         "yaxis": "y"
        },
        {
         "hovertemplate": "date=2018-09-07<br>pc1=%{x}<br>pc2=%{y}<extra></extra>",
         "legendgroup": "2018-09-07",
         "marker": {
          "color": "#ab63fa",
          "symbol": "circle"
         },
         "mode": "markers",
         "name": "2018-09-07",
         "showlegend": true,
         "type": "scattergl",
         "x": [
          -13.969737503752803
         ],
         "xaxis": "x",
         "y": [
          -9.056631955244336
         ],
         "yaxis": "y"
        },
        {
         "hovertemplate": "date=2018-09-08<br>pc1=%{x}<br>pc2=%{y}<extra></extra>",
         "legendgroup": "2018-09-08",
         "marker": {
          "color": "#FFA15A",
          "symbol": "circle"
         },
         "mode": "markers",
         "name": "2018-09-08",
         "showlegend": true,
         "type": "scattergl",
         "x": [
          5.503469166392766
         ],
         "xaxis": "x",
         "y": [
          -14.102745529988466
         ],
         "yaxis": "y"
        },
        {
         "hovertemplate": "date=2018-09-09<br>pc1=%{x}<br>pc2=%{y}<extra></extra>",
         "legendgroup": "2018-09-09",
         "marker": {
          "color": "#19d3f3",
          "symbol": "circle"
         },
         "mode": "markers",
         "name": "2018-09-09",
         "showlegend": true,
         "type": "scattergl",
         "x": [
          13.346948755519886
         ],
         "xaxis": "x",
         "y": [
          -15.276367975926032
         ],
         "yaxis": "y"
        },
        {
         "hovertemplate": "date=2018-09-10<br>pc1=%{x}<br>pc2=%{y}<extra></extra>",
         "legendgroup": "2018-09-10",
         "marker": {
          "color": "#FF6692",
          "symbol": "circle"
         },
         "mode": "markers",
         "name": "2018-09-10",
         "showlegend": true,
         "type": "scattergl",
         "x": [
          -13.438613205501982
         ],
         "xaxis": "x",
         "y": [
          -8.085835898642921
         ],
         "yaxis": "y"
        },
        {
         "hovertemplate": "date=2018-09-11<br>pc1=%{x}<br>pc2=%{y}<extra></extra>",
         "legendgroup": "2018-09-11",
         "marker": {
          "color": "#B6E880",
          "symbol": "circle"
         },
         "mode": "markers",
         "name": "2018-09-11",
         "showlegend": true,
         "type": "scattergl",
         "x": [
          -13.993577495419773
         ],
         "xaxis": "x",
         "y": [
          -10.118652913121652
         ],
         "yaxis": "y"
        },
        {
         "hovertemplate": "date=2018-09-12<br>pc1=%{x}<br>pc2=%{y}<extra></extra>",
         "legendgroup": "2018-09-12",
         "marker": {
          "color": "#FF97FF",
          "symbol": "circle"
         },
         "mode": "markers",
         "name": "2018-09-12",
         "showlegend": true,
         "type": "scattergl",
         "x": [
          -15.477264798173286
         ],
         "xaxis": "x",
         "y": [
          -9.94644718883324
         ],
         "yaxis": "y"
        },
        {
         "hovertemplate": "date=2018-09-13<br>pc1=%{x}<br>pc2=%{y}<extra></extra>",
         "legendgroup": "2018-09-13",
         "marker": {
          "color": "#FECB52",
          "symbol": "circle"
         },
         "mode": "markers",
         "name": "2018-09-13",
         "showlegend": true,
         "type": "scattergl",
         "x": [
          -14.960334335614057
         ],
         "xaxis": "x",
         "y": [
          -13.131151628971763
         ],
         "yaxis": "y"
        },
        {
         "hovertemplate": "date=2018-09-14<br>pc1=%{x}<br>pc2=%{y}<extra></extra>",
         "legendgroup": "2018-09-14",
         "marker": {
          "color": "#636efa",
          "symbol": "circle"
         },
         "mode": "markers",
         "name": "2018-09-14",
         "showlegend": true,
         "type": "scattergl",
         "x": [
          -14.228291981581878
         ],
         "xaxis": "x",
         "y": [
          -8.218550863413602
         ],
         "yaxis": "y"
        },
        {
         "hovertemplate": "date=2018-09-15<br>pc1=%{x}<br>pc2=%{y}<extra></extra>",
         "legendgroup": "2018-09-15",
         "marker": {
          "color": "#EF553B",
          "symbol": "circle"
         },
         "mode": "markers",
         "name": "2018-09-15",
         "showlegend": true,
         "type": "scattergl",
         "x": [
          3.6199936739672878
         ],
         "xaxis": "x",
         "y": [
          -13.622470935189762
         ],
         "yaxis": "y"
        },
        {
         "hovertemplate": "date=2018-09-16<br>pc1=%{x}<br>pc2=%{y}<extra></extra>",
         "legendgroup": "2018-09-16",
         "marker": {
          "color": "#00cc96",
          "symbol": "circle"
         },
         "mode": "markers",
         "name": "2018-09-16",
         "showlegend": true,
         "type": "scattergl",
         "x": [
          4.528746038305126
         ],
         "xaxis": "x",
         "y": [
          -24.97794530597275
         ],
         "yaxis": "y"
        },
        {
         "hovertemplate": "date=2018-09-17<br>pc1=%{x}<br>pc2=%{y}<extra></extra>",
         "legendgroup": "2018-09-17",
         "marker": {
          "color": "#ab63fa",
          "symbol": "circle"
         },
         "mode": "markers",
         "name": "2018-09-17",
         "showlegend": true,
         "type": "scattergl",
         "x": [
          -14.098096396330783
         ],
         "xaxis": "x",
         "y": [
          -9.372960728733425
         ],
         "yaxis": "y"
        },
        {
         "hovertemplate": "date=2018-09-18<br>pc1=%{x}<br>pc2=%{y}<extra></extra>",
         "legendgroup": "2018-09-18",
         "marker": {
          "color": "#FFA15A",
          "symbol": "circle"
         },
         "mode": "markers",
         "name": "2018-09-18",
         "showlegend": true,
         "type": "scattergl",
         "x": [
          -11.20169423594579
         ],
         "xaxis": "x",
         "y": [
          -9.833407356517284
         ],
         "yaxis": "y"
        },
        {
         "hovertemplate": "date=2018-09-19<br>pc1=%{x}<br>pc2=%{y}<extra></extra>",
         "legendgroup": "2018-09-19",
         "marker": {
          "color": "#19d3f3",
          "symbol": "circle"
         },
         "mode": "markers",
         "name": "2018-09-19",
         "showlegend": true,
         "type": "scattergl",
         "x": [
          -8.449709360543144
         ],
         "xaxis": "x",
         "y": [
          -6.639471517436534
         ],
         "yaxis": "y"
        },
        {
         "hovertemplate": "date=2018-09-20<br>pc1=%{x}<br>pc2=%{y}<extra></extra>",
         "legendgroup": "2018-09-20",
         "marker": {
          "color": "#FF6692",
          "symbol": "circle"
         },
         "mode": "markers",
         "name": "2018-09-20",
         "showlegend": true,
         "type": "scattergl",
         "x": [
          -13.14185295887803
         ],
         "xaxis": "x",
         "y": [
          -7.054224112057581
         ],
         "yaxis": "y"
        },
        {
         "hovertemplate": "date=2018-09-21<br>pc1=%{x}<br>pc2=%{y}<extra></extra>",
         "legendgroup": "2018-09-21",
         "marker": {
          "color": "#B6E880",
          "symbol": "circle"
         },
         "mode": "markers",
         "name": "2018-09-21",
         "showlegend": true,
         "type": "scattergl",
         "x": [
          -18.02095690640453
         ],
         "xaxis": "x",
         "y": [
          -15.70911526173421
         ],
         "yaxis": "y"
        },
        {
         "hovertemplate": "date=2018-09-22<br>pc1=%{x}<br>pc2=%{y}<extra></extra>",
         "legendgroup": "2018-09-22",
         "marker": {
          "color": "#FF97FF",
          "symbol": "circle"
         },
         "mode": "markers",
         "name": "2018-09-22",
         "showlegend": true,
         "type": "scattergl",
         "x": [
          -0.8884357037722252
         ],
         "xaxis": "x",
         "y": [
          -27.162001443923227
         ],
         "yaxis": "y"
        },
        {
         "hovertemplate": "date=2018-09-23<br>pc1=%{x}<br>pc2=%{y}<extra></extra>",
         "legendgroup": "2018-09-23",
         "marker": {
          "color": "#FECB52",
          "symbol": "circle"
         },
         "mode": "markers",
         "name": "2018-09-23",
         "showlegend": true,
         "type": "scattergl",
         "x": [
          11.770610063783627
         ],
         "xaxis": "x",
         "y": [
          -21.164324867263502
         ],
         "yaxis": "y"
        },
        {
         "hovertemplate": "date=2018-09-24<br>pc1=%{x}<br>pc2=%{y}<extra></extra>",
         "legendgroup": "2018-09-24",
         "marker": {
          "color": "#636efa",
          "symbol": "circle"
         },
         "mode": "markers",
         "name": "2018-09-24",
         "showlegend": true,
         "type": "scattergl",
         "x": [
          -12.44436457272187
         ],
         "xaxis": "x",
         "y": [
          -5.072447838771687
         ],
         "yaxis": "y"
        },
        {
         "hovertemplate": "date=2018-09-25<br>pc1=%{x}<br>pc2=%{y}<extra></extra>",
         "legendgroup": "2018-09-25",
         "marker": {
          "color": "#EF553B",
          "symbol": "circle"
         },
         "mode": "markers",
         "name": "2018-09-25",
         "showlegend": true,
         "type": "scattergl",
         "x": [
          -11.408452534053312
         ],
         "xaxis": "x",
         "y": [
          -7.986364294294173
         ],
         "yaxis": "y"
        },
        {
         "hovertemplate": "date=2018-09-26<br>pc1=%{x}<br>pc2=%{y}<extra></extra>",
         "legendgroup": "2018-09-26",
         "marker": {
          "color": "#00cc96",
          "symbol": "circle"
         },
         "mode": "markers",
         "name": "2018-09-26",
         "showlegend": true,
         "type": "scattergl",
         "x": [
          -12.551528878074418
         ],
         "xaxis": "x",
         "y": [
          -5.093567158404878
         ],
         "yaxis": "y"
        },
        {
         "hovertemplate": "date=2018-09-27<br>pc1=%{x}<br>pc2=%{y}<extra></extra>",
         "legendgroup": "2018-09-27",
         "marker": {
          "color": "#ab63fa",
          "symbol": "circle"
         },
         "mode": "markers",
         "name": "2018-09-27",
         "showlegend": true,
         "type": "scattergl",
         "x": [
          -18.328289669528036
         ],
         "xaxis": "x",
         "y": [
          -13.512738133507836
         ],
         "yaxis": "y"
        },
        {
         "hovertemplate": "date=2018-09-28<br>pc1=%{x}<br>pc2=%{y}<extra></extra>",
         "legendgroup": "2018-09-28",
         "marker": {
          "color": "#FFA15A",
          "symbol": "circle"
         },
         "mode": "markers",
         "name": "2018-09-28",
         "showlegend": true,
         "type": "scattergl",
         "x": [
          -12.580553640158225
         ],
         "xaxis": "x",
         "y": [
          -12.475083806219047
         ],
         "yaxis": "y"
        },
        {
         "hovertemplate": "date=2018-09-29<br>pc1=%{x}<br>pc2=%{y}<extra></extra>",
         "legendgroup": "2018-09-29",
         "marker": {
          "color": "#19d3f3",
          "symbol": "circle"
         },
         "mode": "markers",
         "name": "2018-09-29",
         "showlegend": true,
         "type": "scattergl",
         "x": [
          5.044663920753479
         ],
         "xaxis": "x",
         "y": [
          -14.25375381036693
         ],
         "yaxis": "y"
        },
        {
         "hovertemplate": "date=2018-09-30<br>pc1=%{x}<br>pc2=%{y}<extra></extra>",
         "legendgroup": "2018-09-30",
         "marker": {
          "color": "#FF6692",
          "symbol": "circle"
         },
         "mode": "markers",
         "name": "2018-09-30",
         "showlegend": true,
         "type": "scattergl",
         "x": [
          12.88822578217663
         ],
         "xaxis": "x",
         "y": [
          -17.27972368040367
         ],
         "yaxis": "y"
        },
        {
         "hovertemplate": "date=2018-10-01<br>pc1=%{x}<br>pc2=%{y}<extra></extra>",
         "legendgroup": "2018-10-01",
         "marker": {
          "color": "#B6E880",
          "symbol": "circle"
         },
         "mode": "markers",
         "name": "2018-10-01",
         "showlegend": true,
         "type": "scattergl",
         "x": [
          -11.57485286307143
         ],
         "xaxis": "x",
         "y": [
          -3.670267634074721
         ],
         "yaxis": "y"
        },
        {
         "hovertemplate": "date=2018-10-02<br>pc1=%{x}<br>pc2=%{y}<extra></extra>",
         "legendgroup": "2018-10-02",
         "marker": {
          "color": "#FF97FF",
          "symbol": "circle"
         },
         "mode": "markers",
         "name": "2018-10-02",
         "showlegend": true,
         "type": "scattergl",
         "x": [
          -12.316788260017974
         ],
         "xaxis": "x",
         "y": [
          -6.898242074540564
         ],
         "yaxis": "y"
        },
        {
         "hovertemplate": "date=2018-10-03<br>pc1=%{x}<br>pc2=%{y}<extra></extra>",
         "legendgroup": "2018-10-03",
         "marker": {
          "color": "#FECB52",
          "symbol": "circle"
         },
         "mode": "markers",
         "name": "2018-10-03",
         "showlegend": true,
         "type": "scattergl",
         "x": [
          -12.807015606108417
         ],
         "xaxis": "x",
         "y": [
          -4.831569591560858
         ],
         "yaxis": "y"
        },
        {
         "hovertemplate": "date=2018-10-04<br>pc1=%{x}<br>pc2=%{y}<extra></extra>",
         "legendgroup": "2018-10-04",
         "marker": {
          "color": "#636efa",
          "symbol": "circle"
         },
         "mode": "markers",
         "name": "2018-10-04",
         "showlegend": true,
         "type": "scattergl",
         "x": [
          -12.263794453627659
         ],
         "xaxis": "x",
         "y": [
          -7.013656976146503
         ],
         "yaxis": "y"
        },
        {
         "hovertemplate": "date=2018-10-05<br>pc1=%{x}<br>pc2=%{y}<extra></extra>",
         "legendgroup": "2018-10-05",
         "marker": {
          "color": "#EF553B",
          "symbol": "circle"
         },
         "mode": "markers",
         "name": "2018-10-05",
         "showlegend": true,
         "type": "scattergl",
         "x": [
          -7.951527336569637
         ],
         "xaxis": "x",
         "y": [
          -10.560721765974314
         ],
         "yaxis": "y"
        },
        {
         "hovertemplate": "date=2018-10-06<br>pc1=%{x}<br>pc2=%{y}<extra></extra>",
         "legendgroup": "2018-10-06",
         "marker": {
          "color": "#00cc96",
          "symbol": "circle"
         },
         "mode": "markers",
         "name": "2018-10-06",
         "showlegend": true,
         "type": "scattergl",
         "x": [
          9.05696131322841
         ],
         "xaxis": "x",
         "y": [
          -12.170863808107582
         ],
         "yaxis": "y"
        },
        {
         "hovertemplate": "date=2018-10-07<br>pc1=%{x}<br>pc2=%{y}<extra></extra>",
         "legendgroup": "2018-10-07",
         "marker": {
          "color": "#ab63fa",
          "symbol": "circle"
         },
         "mode": "markers",
         "name": "2018-10-07",
         "showlegend": true,
         "type": "scattergl",
         "x": [
          -3.4468491167741475
         ],
         "xaxis": "x",
         "y": [
          -13.321294531921872
         ],
         "yaxis": "y"
        },
        {
         "hovertemplate": "date=2018-10-08<br>pc1=%{x}<br>pc2=%{y}<extra></extra>",
         "legendgroup": "2018-10-08",
         "marker": {
          "color": "#FFA15A",
          "symbol": "circle"
         },
         "mode": "markers",
         "name": "2018-10-08",
         "showlegend": true,
         "type": "scattergl",
         "x": [
          1.5417167818825221
         ],
         "xaxis": "x",
         "y": [
          -7.187163380312645
         ],
         "yaxis": "y"
        },
        {
         "hovertemplate": "date=2018-10-09<br>pc1=%{x}<br>pc2=%{y}<extra></extra>",
         "legendgroup": "2018-10-09",
         "marker": {
          "color": "#19d3f3",
          "symbol": "circle"
         },
         "mode": "markers",
         "name": "2018-10-09",
         "showlegend": true,
         "type": "scattergl",
         "x": [
          -11.612959749964414
         ],
         "xaxis": "x",
         "y": [
          -5.387779129598301
         ],
         "yaxis": "y"
        },
        {
         "hovertemplate": "date=2018-10-10<br>pc1=%{x}<br>pc2=%{y}<extra></extra>",
         "legendgroup": "2018-10-10",
         "marker": {
          "color": "#FF6692",
          "symbol": "circle"
         },
         "mode": "markers",
         "name": "2018-10-10",
         "showlegend": true,
         "type": "scattergl",
         "x": [
          -9.554312615060601
         ],
         "xaxis": "x",
         "y": [
          -8.040369817809493
         ],
         "yaxis": "y"
        },
        {
         "hovertemplate": "date=2018-10-11<br>pc1=%{x}<br>pc2=%{y}<extra></extra>",
         "legendgroup": "2018-10-11",
         "marker": {
          "color": "#B6E880",
          "symbol": "circle"
         },
         "mode": "markers",
         "name": "2018-10-11",
         "showlegend": true,
         "type": "scattergl",
         "x": [
          -12.31928196239821
         ],
         "xaxis": "x",
         "y": [
          -2.011279952590625
         ],
         "yaxis": "y"
        },
        {
         "hovertemplate": "date=2018-10-12<br>pc1=%{x}<br>pc2=%{y}<extra></extra>",
         "legendgroup": "2018-10-12",
         "marker": {
          "color": "#FF97FF",
          "symbol": "circle"
         },
         "mode": "markers",
         "name": "2018-10-12",
         "showlegend": true,
         "type": "scattergl",
         "x": [
          -8.15232133855346
         ],
         "xaxis": "x",
         "y": [
          -6.206190583897353
         ],
         "yaxis": "y"
        },
        {
         "hovertemplate": "date=2018-10-13<br>pc1=%{x}<br>pc2=%{y}<extra></extra>",
         "legendgroup": "2018-10-13",
         "marker": {
          "color": "#FECB52",
          "symbol": "circle"
         },
         "mode": "markers",
         "name": "2018-10-13",
         "showlegend": true,
         "type": "scattergl",
         "x": [
          0.11144237257435853
         ],
         "xaxis": "x",
         "y": [
          -22.21151246996645
         ],
         "yaxis": "y"
        },
        {
         "hovertemplate": "date=2018-10-14<br>pc1=%{x}<br>pc2=%{y}<extra></extra>",
         "legendgroup": "2018-10-14",
         "marker": {
          "color": "#636efa",
          "symbol": "circle"
         },
         "mode": "markers",
         "name": "2018-10-14",
         "showlegend": true,
         "type": "scattergl",
         "x": [
          14.264969678133227
         ],
         "xaxis": "x",
         "y": [
          -15.306015858041684
         ],
         "yaxis": "y"
        },
        {
         "hovertemplate": "date=2018-10-15<br>pc1=%{x}<br>pc2=%{y}<extra></extra>",
         "legendgroup": "2018-10-15",
         "marker": {
          "color": "#EF553B",
          "symbol": "circle"
         },
         "mode": "markers",
         "name": "2018-10-15",
         "showlegend": true,
         "type": "scattergl",
         "x": [
          -12.15765326174261
         ],
         "xaxis": "x",
         "y": [
          -5.908067084075543
         ],
         "yaxis": "y"
        },
        {
         "hovertemplate": "date=2018-10-16<br>pc1=%{x}<br>pc2=%{y}<extra></extra>",
         "legendgroup": "2018-10-16",
         "marker": {
          "color": "#00cc96",
          "symbol": "circle"
         },
         "mode": "markers",
         "name": "2018-10-16",
         "showlegend": true,
         "type": "scattergl",
         "x": [
          -10.629505850335594
         ],
         "xaxis": "x",
         "y": [
          -4.984491215916415
         ],
         "yaxis": "y"
        },
        {
         "hovertemplate": "date=2018-10-17<br>pc1=%{x}<br>pc2=%{y}<extra></extra>",
         "legendgroup": "2018-10-17",
         "marker": {
          "color": "#ab63fa",
          "symbol": "circle"
         },
         "mode": "markers",
         "name": "2018-10-17",
         "showlegend": true,
         "type": "scattergl",
         "x": [
          -11.815515868818574
         ],
         "xaxis": "x",
         "y": [
          -4.417929067041357
         ],
         "yaxis": "y"
        },
        {
         "hovertemplate": "date=2018-10-18<br>pc1=%{x}<br>pc2=%{y}<extra></extra>",
         "legendgroup": "2018-10-18",
         "marker": {
          "color": "#FFA15A",
          "symbol": "circle"
         },
         "mode": "markers",
         "name": "2018-10-18",
         "showlegend": true,
         "type": "scattergl",
         "x": [
          -16.699019541925036
         ],
         "xaxis": "x",
         "y": [
          -12.306132945944597
         ],
         "yaxis": "y"
        },
        {
         "hovertemplate": "date=2018-10-19<br>pc1=%{x}<br>pc2=%{y}<extra></extra>",
         "legendgroup": "2018-10-19",
         "marker": {
          "color": "#19d3f3",
          "symbol": "circle"
         },
         "mode": "markers",
         "name": "2018-10-19",
         "showlegend": true,
         "type": "scattergl",
         "x": [
          -7.94943087797994
         ],
         "xaxis": "x",
         "y": [
          -5.479265586297813
         ],
         "yaxis": "y"
        },
        {
         "hovertemplate": "date=2018-10-20<br>pc1=%{x}<br>pc2=%{y}<extra></extra>",
         "legendgroup": "2018-10-20",
         "marker": {
          "color": "#FF6692",
          "symbol": "circle"
         },
         "mode": "markers",
         "name": "2018-10-20",
         "showlegend": true,
         "type": "scattergl",
         "x": [
          8.191233329603119
         ],
         "xaxis": "x",
         "y": [
          -13.288044591273058
         ],
         "yaxis": "y"
        },
        {
         "hovertemplate": "date=2018-10-21<br>pc1=%{x}<br>pc2=%{y}<extra></extra>",
         "legendgroup": "2018-10-21",
         "marker": {
          "color": "#B6E880",
          "symbol": "circle"
         },
         "mode": "markers",
         "name": "2018-10-21",
         "showlegend": true,
         "type": "scattergl",
         "x": [
          11.242965346918535
         ],
         "xaxis": "x",
         "y": [
          -18.132429271927318
         ],
         "yaxis": "y"
        },
        {
         "hovertemplate": "date=2018-10-22<br>pc1=%{x}<br>pc2=%{y}<extra></extra>",
         "legendgroup": "2018-10-22",
         "marker": {
          "color": "#FF97FF",
          "symbol": "circle"
         },
         "mode": "markers",
         "name": "2018-10-22",
         "showlegend": true,
         "type": "scattergl",
         "x": [
          -9.214442362108684
         ],
         "xaxis": "x",
         "y": [
          -0.45934119315959554
         ],
         "yaxis": "y"
        },
        {
         "hovertemplate": "date=2018-10-23<br>pc1=%{x}<br>pc2=%{y}<extra></extra>",
         "legendgroup": "2018-10-23",
         "marker": {
          "color": "#FECB52",
          "symbol": "circle"
         },
         "mode": "markers",
         "name": "2018-10-23",
         "showlegend": true,
         "type": "scattergl",
         "x": [
          -9.872290427409308
         ],
         "xaxis": "x",
         "y": [
          -3.832549833602853
         ],
         "yaxis": "y"
        },
        {
         "hovertemplate": "date=2018-10-24<br>pc1=%{x}<br>pc2=%{y}<extra></extra>",
         "legendgroup": "2018-10-24",
         "marker": {
          "color": "#636efa",
          "symbol": "circle"
         },
         "mode": "markers",
         "name": "2018-10-24",
         "showlegend": true,
         "type": "scattergl",
         "x": [
          -8.242619457057346
         ],
         "xaxis": "x",
         "y": [
          -0.8901069105714676
         ],
         "yaxis": "y"
        },
        {
         "hovertemplate": "date=2018-10-25<br>pc1=%{x}<br>pc2=%{y}<extra></extra>",
         "legendgroup": "2018-10-25",
         "marker": {
          "color": "#EF553B",
          "symbol": "circle"
         },
         "mode": "markers",
         "name": "2018-10-25",
         "showlegend": true,
         "type": "scattergl",
         "x": [
          -8.421928726284081
         ],
         "xaxis": "x",
         "y": [
          0.8900196567026176
         ],
         "yaxis": "y"
        },
        {
         "hovertemplate": "date=2018-10-26<br>pc1=%{x}<br>pc2=%{y}<extra></extra>",
         "legendgroup": "2018-10-26",
         "marker": {
          "color": "#00cc96",
          "symbol": "circle"
         },
         "mode": "markers",
         "name": "2018-10-26",
         "showlegend": true,
         "type": "scattergl",
         "x": [
          -9.004753854661601
         ],
         "xaxis": "x",
         "y": [
          -4.149648804717242
         ],
         "yaxis": "y"
        },
        {
         "hovertemplate": "date=2018-10-27<br>pc1=%{x}<br>pc2=%{y}<extra></extra>",
         "legendgroup": "2018-10-27",
         "marker": {
          "color": "#ab63fa",
          "symbol": "circle"
         },
         "mode": "markers",
         "name": "2018-10-27",
         "showlegend": true,
         "type": "scattergl",
         "x": [
          9.274378687554925
         ],
         "xaxis": "x",
         "y": [
          -10.270747217284251
         ],
         "yaxis": "y"
        },
        {
         "hovertemplate": "date=2018-10-28<br>pc1=%{x}<br>pc2=%{y}<extra></extra>",
         "legendgroup": "2018-10-28",
         "marker": {
          "color": "#FFA15A",
          "symbol": "circle"
         },
         "mode": "markers",
         "name": "2018-10-28",
         "showlegend": true,
         "type": "scattergl",
         "x": [
          17.03765330191627
         ],
         "xaxis": "x",
         "y": [
          -10.528289716293356
         ],
         "yaxis": "y"
        },
        {
         "hovertemplate": "date=2018-10-29<br>pc1=%{x}<br>pc2=%{y}<extra></extra>",
         "legendgroup": "2018-10-29",
         "marker": {
          "color": "#19d3f3",
          "symbol": "circle"
         },
         "mode": "markers",
         "name": "2018-10-29",
         "showlegend": true,
         "type": "scattergl",
         "x": [
          -10.674763958248988
         ],
         "xaxis": "x",
         "y": [
          -2.3175786044538844
         ],
         "yaxis": "y"
        },
        {
         "hovertemplate": "date=2018-10-30<br>pc1=%{x}<br>pc2=%{y}<extra></extra>",
         "legendgroup": "2018-10-30",
         "marker": {
          "color": "#FF6692",
          "symbol": "circle"
         },
         "mode": "markers",
         "name": "2018-10-30",
         "showlegend": true,
         "type": "scattergl",
         "x": [
          -7.505816330633175
         ],
         "xaxis": "x",
         "y": [
          0.5325373302703204
         ],
         "yaxis": "y"
        },
        {
         "hovertemplate": "date=2018-10-31<br>pc1=%{x}<br>pc2=%{y}<extra></extra>",
         "legendgroup": "2018-10-31",
         "marker": {
          "color": "#B6E880",
          "symbol": "circle"
         },
         "mode": "markers",
         "name": "2018-10-31",
         "showlegend": true,
         "type": "scattergl",
         "x": [
          -9.578668493895554
         ],
         "xaxis": "x",
         "y": [
          -4.19756444042501
         ],
         "yaxis": "y"
        },
        {
         "hovertemplate": "date=2018-11-01<br>pc1=%{x}<br>pc2=%{y}<extra></extra>",
         "legendgroup": "2018-11-01",
         "marker": {
          "color": "#FF97FF",
          "symbol": "circle"
         },
         "mode": "markers",
         "name": "2018-11-01",
         "showlegend": true,
         "type": "scattergl",
         "x": [
          -8.112487734301514
         ],
         "xaxis": "x",
         "y": [
          2.8587320472650397
         ],
         "yaxis": "y"
        },
        {
         "hovertemplate": "date=2018-11-02<br>pc1=%{x}<br>pc2=%{y}<extra></extra>",
         "legendgroup": "2018-11-02",
         "marker": {
          "color": "#FECB52",
          "symbol": "circle"
         },
         "mode": "markers",
         "name": "2018-11-02",
         "showlegend": true,
         "type": "scattergl",
         "x": [
          -1.4890353130439753
         ],
         "xaxis": "x",
         "y": [
          2.6337235951846987
         ],
         "yaxis": "y"
        },
        {
         "hovertemplate": "date=2018-11-03<br>pc1=%{x}<br>pc2=%{y}<extra></extra>",
         "legendgroup": "2018-11-03",
         "marker": {
          "color": "#636efa",
          "symbol": "circle"
         },
         "mode": "markers",
         "name": "2018-11-03",
         "showlegend": true,
         "type": "scattergl",
         "x": [
          4.910317014107685
         ],
         "xaxis": "x",
         "y": [
          -11.446726293761701
         ],
         "yaxis": "y"
        },
        {
         "hovertemplate": "date=2018-11-04<br>pc1=%{x}<br>pc2=%{y}<extra></extra>",
         "legendgroup": "2018-11-04",
         "marker": {
          "color": "#EF553B",
          "symbol": "circle"
         },
         "mode": "markers",
         "name": "2018-11-04",
         "showlegend": true,
         "type": "scattergl",
         "x": [
          18.46140723960693
         ],
         "xaxis": "x",
         "y": [
          -8.936329964524575
         ],
         "yaxis": "y"
        },
        {
         "hovertemplate": "date=2018-11-05<br>pc1=%{x}<br>pc2=%{y}<extra></extra>",
         "legendgroup": "2018-11-05",
         "marker": {
          "color": "#00cc96",
          "symbol": "circle"
         },
         "mode": "markers",
         "name": "2018-11-05",
         "showlegend": true,
         "type": "scattergl",
         "x": [
          -9.352440593924785
         ],
         "xaxis": "x",
         "y": [
          3.089916839213647
         ],
         "yaxis": "y"
        },
        {
         "hovertemplate": "date=2018-11-06<br>pc1=%{x}<br>pc2=%{y}<extra></extra>",
         "legendgroup": "2018-11-06",
         "marker": {
          "color": "#ab63fa",
          "symbol": "circle"
         },
         "mode": "markers",
         "name": "2018-11-06",
         "showlegend": true,
         "type": "scattergl",
         "x": [
          -3.133166647518428
         ],
         "xaxis": "x",
         "y": [
          3.673789936018248
         ],
         "yaxis": "y"
        },
        {
         "hovertemplate": "date=2018-11-07<br>pc1=%{x}<br>pc2=%{y}<extra></extra>",
         "legendgroup": "2018-11-07",
         "marker": {
          "color": "#FFA15A",
          "symbol": "circle"
         },
         "mode": "markers",
         "name": "2018-11-07",
         "showlegend": true,
         "type": "scattergl",
         "x": [
          -5.13632409897444
         ],
         "xaxis": "x",
         "y": [
          6.658989624842282
         ],
         "yaxis": "y"
        },
        {
         "hovertemplate": "date=2018-11-08<br>pc1=%{x}<br>pc2=%{y}<extra></extra>",
         "legendgroup": "2018-11-08",
         "marker": {
          "color": "#19d3f3",
          "symbol": "circle"
         },
         "mode": "markers",
         "name": "2018-11-08",
         "showlegend": true,
         "type": "scattergl",
         "x": [
          -7.1583095797116085
         ],
         "xaxis": "x",
         "y": [
          5.876537631164634
         ],
         "yaxis": "y"
        },
        {
         "hovertemplate": "date=2018-11-09<br>pc1=%{x}<br>pc2=%{y}<extra></extra>",
         "legendgroup": "2018-11-09",
         "marker": {
          "color": "#FF6692",
          "symbol": "circle"
         },
         "mode": "markers",
         "name": "2018-11-09",
         "showlegend": true,
         "type": "scattergl",
         "x": [
          -3.585011254482249
         ],
         "xaxis": "x",
         "y": [
          6.801846764179132
         ],
         "yaxis": "y"
        },
        {
         "hovertemplate": "date=2018-11-10<br>pc1=%{x}<br>pc2=%{y}<extra></extra>",
         "legendgroup": "2018-11-10",
         "marker": {
          "color": "#B6E880",
          "symbol": "circle"
         },
         "mode": "markers",
         "name": "2018-11-10",
         "showlegend": true,
         "type": "scattergl",
         "x": [
          15.078152497874994
         ],
         "xaxis": "x",
         "y": [
          -3.3577472314359516
         ],
         "yaxis": "y"
        },
        {
         "hovertemplate": "date=2018-11-11<br>pc1=%{x}<br>pc2=%{y}<extra></extra>",
         "legendgroup": "2018-11-11",
         "marker": {
          "color": "#FF97FF",
          "symbol": "circle"
         },
         "mode": "markers",
         "name": "2018-11-11",
         "showlegend": true,
         "type": "scattergl",
         "x": [
          13.775429739622087
         ],
         "xaxis": "x",
         "y": [
          -8.263731186761017
         ],
         "yaxis": "y"
        },
        {
         "hovertemplate": "date=2018-11-12<br>pc1=%{x}<br>pc2=%{y}<extra></extra>",
         "legendgroup": "2018-11-12",
         "marker": {
          "color": "#FECB52",
          "symbol": "circle"
         },
         "mode": "markers",
         "name": "2018-11-12",
         "showlegend": true,
         "type": "scattergl",
         "x": [
          5.694604032033929
         ],
         "xaxis": "x",
         "y": [
          1.5242039621685153
         ],
         "yaxis": "y"
        },
        {
         "hovertemplate": "date=2018-11-13<br>pc1=%{x}<br>pc2=%{y}<extra></extra>",
         "legendgroup": "2018-11-13",
         "marker": {
          "color": "#636efa",
          "symbol": "circle"
         },
         "mode": "markers",
         "name": "2018-11-13",
         "showlegend": true,
         "type": "scattergl",
         "x": [
          -5.846420870024927
         ],
         "xaxis": "x",
         "y": [
          6.5408682161409555
         ],
         "yaxis": "y"
        },
        {
         "hovertemplate": "date=2018-11-14<br>pc1=%{x}<br>pc2=%{y}<extra></extra>",
         "legendgroup": "2018-11-14",
         "marker": {
          "color": "#EF553B",
          "symbol": "circle"
         },
         "mode": "markers",
         "name": "2018-11-14",
         "showlegend": true,
         "type": "scattergl",
         "x": [
          -8.101640802206953
         ],
         "xaxis": "x",
         "y": [
          1.7293586149433733
         ],
         "yaxis": "y"
        },
        {
         "hovertemplate": "date=2018-11-15<br>pc1=%{x}<br>pc2=%{y}<extra></extra>",
         "legendgroup": "2018-11-15",
         "marker": {
          "color": "#00cc96",
          "symbol": "circle"
         },
         "mode": "markers",
         "name": "2018-11-15",
         "showlegend": true,
         "type": "scattergl",
         "x": [
          -3.953801017835961
         ],
         "xaxis": "x",
         "y": [
          5.1467849468038285
         ],
         "yaxis": "y"
        },
        {
         "hovertemplate": "date=2018-11-16<br>pc1=%{x}<br>pc2=%{y}<extra></extra>",
         "legendgroup": "2018-11-16",
         "marker": {
          "color": "#ab63fa",
          "symbol": "circle"
         },
         "mode": "markers",
         "name": "2018-11-16",
         "showlegend": true,
         "type": "scattergl",
         "x": [
          -6.866643003944387
         ],
         "xaxis": "x",
         "y": [
          3.1296316456860827
         ],
         "yaxis": "y"
        },
        {
         "hovertemplate": "date=2018-11-17<br>pc1=%{x}<br>pc2=%{y}<extra></extra>",
         "legendgroup": "2018-11-17",
         "marker": {
          "color": "#FFA15A",
          "symbol": "circle"
         },
         "mode": "markers",
         "name": "2018-11-17",
         "showlegend": true,
         "type": "scattergl",
         "x": [
          12.91564144501147
         ],
         "xaxis": "x",
         "y": [
          3.539232761204222
         ],
         "yaxis": "y"
        },
        {
         "hovertemplate": "date=2018-11-18<br>pc1=%{x}<br>pc2=%{y}<extra></extra>",
         "legendgroup": "2018-11-18",
         "marker": {
          "color": "#19d3f3",
          "symbol": "circle"
         },
         "mode": "markers",
         "name": "2018-11-18",
         "showlegend": true,
         "type": "scattergl",
         "x": [
          34.492863872952476
         ],
         "xaxis": "x",
         "y": [
          30.398118982527578
         ],
         "yaxis": "y"
        },
        {
         "hovertemplate": "date=2018-11-19<br>pc1=%{x}<br>pc2=%{y}<extra></extra>",
         "legendgroup": "2018-11-19",
         "marker": {
          "color": "#FF6692",
          "symbol": "circle"
         },
         "mode": "markers",
         "name": "2018-11-19",
         "showlegend": true,
         "type": "scattergl",
         "x": [
          -10.317655185585968
         ],
         "xaxis": "x",
         "y": [
          20.509789240724142
         ],
         "yaxis": "y"
        },
        {
         "hovertemplate": "date=2018-11-20<br>pc1=%{x}<br>pc2=%{y}<extra></extra>",
         "legendgroup": "2018-11-20",
         "marker": {
          "color": "#B6E880",
          "symbol": "circle"
         },
         "mode": "markers",
         "name": "2018-11-20",
         "showlegend": true,
         "type": "scattergl",
         "x": [
          -18.84171299177101
         ],
         "xaxis": "x",
         "y": [
          14.863143854176066
         ],
         "yaxis": "y"
        },
        {
         "hovertemplate": "date=2018-11-21<br>pc1=%{x}<br>pc2=%{y}<extra></extra>",
         "legendgroup": "2018-11-21",
         "marker": {
          "color": "#FF97FF",
          "symbol": "circle"
         },
         "mode": "markers",
         "name": "2018-11-21",
         "showlegend": true,
         "type": "scattergl",
         "x": [
          -6.542526872343867
         ],
         "xaxis": "x",
         "y": [
          4.292000238025217
         ],
         "yaxis": "y"
        },
        {
         "hovertemplate": "date=2018-11-22<br>pc1=%{x}<br>pc2=%{y}<extra></extra>",
         "legendgroup": "2018-11-22",
         "marker": {
          "color": "#FECB52",
          "symbol": "circle"
         },
         "mode": "markers",
         "name": "2018-11-22",
         "showlegend": true,
         "type": "scattergl",
         "x": [
          41.57423630372407
         ],
         "xaxis": "x",
         "y": [
          -23.1866099057598
         ],
         "yaxis": "y"
        },
        {
         "hovertemplate": "date=2018-11-23<br>pc1=%{x}<br>pc2=%{y}<extra></extra>",
         "legendgroup": "2018-11-23",
         "marker": {
          "color": "#636efa",
          "symbol": "circle"
         },
         "mode": "markers",
         "name": "2018-11-23",
         "showlegend": true,
         "type": "scattergl",
         "x": [
          16.87438264060186
         ],
         "xaxis": "x",
         "y": [
          -6.077618401754785
         ],
         "yaxis": "y"
        },
        {
         "hovertemplate": "date=2018-11-24<br>pc1=%{x}<br>pc2=%{y}<extra></extra>",
         "legendgroup": "2018-11-24",
         "marker": {
          "color": "#EF553B",
          "symbol": "circle"
         },
         "mode": "markers",
         "name": "2018-11-24",
         "showlegend": true,
         "type": "scattergl",
         "x": [
          -3.305719195851657
         ],
         "xaxis": "x",
         "y": [
          2.6558438776429316
         ],
         "yaxis": "y"
        },
        {
         "hovertemplate": "date=2018-11-25<br>pc1=%{x}<br>pc2=%{y}<extra></extra>",
         "legendgroup": "2018-11-25",
         "marker": {
          "color": "#00cc96",
          "symbol": "circle"
         },
         "mode": "markers",
         "name": "2018-11-25",
         "showlegend": true,
         "type": "scattergl",
         "x": [
          3.7782101094768406
         ],
         "xaxis": "x",
         "y": [
          1.894418194795999
         ],
         "yaxis": "y"
        },
        {
         "hovertemplate": "date=2018-11-26<br>pc1=%{x}<br>pc2=%{y}<extra></extra>",
         "legendgroup": "2018-11-26",
         "marker": {
          "color": "#ab63fa",
          "symbol": "circle"
         },
         "mode": "markers",
         "name": "2018-11-26",
         "showlegend": true,
         "type": "scattergl",
         "x": [
          -8.407580803398044
         ],
         "xaxis": "x",
         "y": [
          -1.8609338009225498
         ],
         "yaxis": "y"
        },
        {
         "hovertemplate": "date=2018-11-27<br>pc1=%{x}<br>pc2=%{y}<extra></extra>",
         "legendgroup": "2018-11-27",
         "marker": {
          "color": "#FFA15A",
          "symbol": "circle"
         },
         "mode": "markers",
         "name": "2018-11-27",
         "showlegend": true,
         "type": "scattergl",
         "x": [
          -4.124368308740532
         ],
         "xaxis": "x",
         "y": [
          7.317678873938153
         ],
         "yaxis": "y"
        },
        {
         "hovertemplate": "date=2018-11-28<br>pc1=%{x}<br>pc2=%{y}<extra></extra>",
         "legendgroup": "2018-11-28",
         "marker": {
          "color": "#19d3f3",
          "symbol": "circle"
         },
         "mode": "markers",
         "name": "2018-11-28",
         "showlegend": true,
         "type": "scattergl",
         "x": [
          -9.17092750677906
         ],
         "xaxis": "x",
         "y": [
          1.258662650506732
         ],
         "yaxis": "y"
        },
        {
         "hovertemplate": "date=2018-11-29<br>pc1=%{x}<br>pc2=%{y}<extra></extra>",
         "legendgroup": "2018-11-29",
         "marker": {
          "color": "#FF6692",
          "symbol": "circle"
         },
         "mode": "markers",
         "name": "2018-11-29",
         "showlegend": true,
         "type": "scattergl",
         "x": [
          -6.192455626625883
         ],
         "xaxis": "x",
         "y": [
          8.550043578485269
         ],
         "yaxis": "y"
        },
        {
         "hovertemplate": "date=2018-11-30<br>pc1=%{x}<br>pc2=%{y}<extra></extra>",
         "legendgroup": "2018-11-30",
         "marker": {
          "color": "#B6E880",
          "symbol": "circle"
         },
         "mode": "markers",
         "name": "2018-11-30",
         "showlegend": true,
         "type": "scattergl",
         "x": [
          -5.961505106393418
         ],
         "xaxis": "x",
         "y": [
          7.037759615893311
         ],
         "yaxis": "y"
        },
        {
         "hovertemplate": "date=2018-12-01<br>pc1=%{x}<br>pc2=%{y}<extra></extra>",
         "legendgroup": "2018-12-01",
         "marker": {
          "color": "#FF97FF",
          "symbol": "circle"
         },
         "mode": "markers",
         "name": "2018-12-01",
         "showlegend": true,
         "type": "scattergl",
         "x": [
          16.52752291828998
         ],
         "xaxis": "x",
         "y": [
          -5.472838623233816
         ],
         "yaxis": "y"
        },
        {
         "hovertemplate": "date=2018-12-02<br>pc1=%{x}<br>pc2=%{y}<extra></extra>",
         "legendgroup": "2018-12-02",
         "marker": {
          "color": "#FECB52",
          "symbol": "circle"
         },
         "mode": "markers",
         "name": "2018-12-02",
         "showlegend": true,
         "type": "scattergl",
         "x": [
          17.022442568959075
         ],
         "xaxis": "x",
         "y": [
          -5.441353059734284
         ],
         "yaxis": "y"
        },
        {
         "hovertemplate": "date=2018-12-03<br>pc1=%{x}<br>pc2=%{y}<extra></extra>",
         "legendgroup": "2018-12-03",
         "marker": {
          "color": "#636efa",
          "symbol": "circle"
         },
         "mode": "markers",
         "name": "2018-12-03",
         "showlegend": true,
         "type": "scattergl",
         "x": [
          -5.2607723537733815
         ],
         "xaxis": "x",
         "y": [
          8.26282278312186
         ],
         "yaxis": "y"
        },
        {
         "hovertemplate": "date=2018-12-04<br>pc1=%{x}<br>pc2=%{y}<extra></extra>",
         "legendgroup": "2018-12-04",
         "marker": {
          "color": "#EF553B",
          "symbol": "circle"
         },
         "mode": "markers",
         "name": "2018-12-04",
         "showlegend": true,
         "type": "scattergl",
         "x": [
          -4.452534096709639
         ],
         "xaxis": "x",
         "y": [
          5.766862108285141
         ],
         "yaxis": "y"
        },
        {
         "hovertemplate": "date=2018-12-05<br>pc1=%{x}<br>pc2=%{y}<extra></extra>",
         "legendgroup": "2018-12-05",
         "marker": {
          "color": "#00cc96",
          "symbol": "circle"
         },
         "mode": "markers",
         "name": "2018-12-05",
         "showlegend": true,
         "type": "scattergl",
         "x": [
          -3.308944068314819
         ],
         "xaxis": "x",
         "y": [
          4.055408896389106
         ],
         "yaxis": "y"
        },
        {
         "hovertemplate": "date=2018-12-06<br>pc1=%{x}<br>pc2=%{y}<extra></extra>",
         "legendgroup": "2018-12-06",
         "marker": {
          "color": "#ab63fa",
          "symbol": "circle"
         },
         "mode": "markers",
         "name": "2018-12-06",
         "showlegend": true,
         "type": "scattergl",
         "x": [
          -5.162148944137481
         ],
         "xaxis": "x",
         "y": [
          5.074037976738408
         ],
         "yaxis": "y"
        },
        {
         "hovertemplate": "date=2018-12-07<br>pc1=%{x}<br>pc2=%{y}<extra></extra>",
         "legendgroup": "2018-12-07",
         "marker": {
          "color": "#FFA15A",
          "symbol": "circle"
         },
         "mode": "markers",
         "name": "2018-12-07",
         "showlegend": true,
         "type": "scattergl",
         "x": [
          -10.068871327492706
         ],
         "xaxis": "x",
         "y": [
          -7.071065016506291
         ],
         "yaxis": "y"
        },
        {
         "hovertemplate": "date=2018-12-08<br>pc1=%{x}<br>pc2=%{y}<extra></extra>",
         "legendgroup": "2018-12-08",
         "marker": {
          "color": "#19d3f3",
          "symbol": "circle"
         },
         "mode": "markers",
         "name": "2018-12-08",
         "showlegend": true,
         "type": "scattergl",
         "x": [
          12.465819750197841
         ],
         "xaxis": "x",
         "y": [
          -1.2118240516875394
         ],
         "yaxis": "y"
        },
        {
         "hovertemplate": "date=2018-12-09<br>pc1=%{x}<br>pc2=%{y}<extra></extra>",
         "legendgroup": "2018-12-09",
         "marker": {
          "color": "#FF6692",
          "symbol": "circle"
         },
         "mode": "markers",
         "name": "2018-12-09",
         "showlegend": true,
         "type": "scattergl",
         "x": [
          13.980596820894997
         ],
         "xaxis": "x",
         "y": [
          -8.47534236856803
         ],
         "yaxis": "y"
        },
        {
         "hovertemplate": "date=2018-12-10<br>pc1=%{x}<br>pc2=%{y}<extra></extra>",
         "legendgroup": "2018-12-10",
         "marker": {
          "color": "#B6E880",
          "symbol": "circle"
         },
         "mode": "markers",
         "name": "2018-12-10",
         "showlegend": true,
         "type": "scattergl",
         "x": [
          -2.828490523344066
         ],
         "xaxis": "x",
         "y": [
          6.893053045538711
         ],
         "yaxis": "y"
        },
        {
         "hovertemplate": "date=2018-12-11<br>pc1=%{x}<br>pc2=%{y}<extra></extra>",
         "legendgroup": "2018-12-11",
         "marker": {
          "color": "#FF97FF",
          "symbol": "circle"
         },
         "mode": "markers",
         "name": "2018-12-11",
         "showlegend": true,
         "type": "scattergl",
         "x": [
          -1.1694572663845093
         ],
         "xaxis": "x",
         "y": [
          7.435254830232626
         ],
         "yaxis": "y"
        },
        {
         "hovertemplate": "date=2018-12-12<br>pc1=%{x}<br>pc2=%{y}<extra></extra>",
         "legendgroup": "2018-12-12",
         "marker": {
          "color": "#FECB52",
          "symbol": "circle"
         },
         "mode": "markers",
         "name": "2018-12-12",
         "showlegend": true,
         "type": "scattergl",
         "x": [
          -4.331868454457602
         ],
         "xaxis": "x",
         "y": [
          3.1937284150831022
         ],
         "yaxis": "y"
        },
        {
         "hovertemplate": "date=2018-12-13<br>pc1=%{x}<br>pc2=%{y}<extra></extra>",
         "legendgroup": "2018-12-13",
         "marker": {
          "color": "#636efa",
          "symbol": "circle"
         },
         "mode": "markers",
         "name": "2018-12-13",
         "showlegend": true,
         "type": "scattergl",
         "x": [
          -2.271846128712415
         ],
         "xaxis": "x",
         "y": [
          7.270975884446774
         ],
         "yaxis": "y"
        },
        {
         "hovertemplate": "date=2018-12-14<br>pc1=%{x}<br>pc2=%{y}<extra></extra>",
         "legendgroup": "2018-12-14",
         "marker": {
          "color": "#EF553B",
          "symbol": "circle"
         },
         "mode": "markers",
         "name": "2018-12-14",
         "showlegend": true,
         "type": "scattergl",
         "x": [
          -1.6426849300013062
         ],
         "xaxis": "x",
         "y": [
          8.201231121257821
         ],
         "yaxis": "y"
        },
        {
         "hovertemplate": "date=2018-12-15<br>pc1=%{x}<br>pc2=%{y}<extra></extra>",
         "legendgroup": "2018-12-15",
         "marker": {
          "color": "#00cc96",
          "symbol": "circle"
         },
         "mode": "markers",
         "name": "2018-12-15",
         "showlegend": true,
         "type": "scattergl",
         "x": [
          4.114228604304495
         ],
         "xaxis": "x",
         "y": [
          -6.938521726088038
         ],
         "yaxis": "y"
        },
        {
         "hovertemplate": "date=2018-12-16<br>pc1=%{x}<br>pc2=%{y}<extra></extra>",
         "legendgroup": "2018-12-16",
         "marker": {
          "color": "#ab63fa",
          "symbol": "circle"
         },
         "mode": "markers",
         "name": "2018-12-16",
         "showlegend": true,
         "type": "scattergl",
         "x": [
          10.408052385601875
         ],
         "xaxis": "x",
         "y": [
          -7.452736890522661
         ],
         "yaxis": "y"
        },
        {
         "hovertemplate": "date=2018-12-17<br>pc1=%{x}<br>pc2=%{y}<extra></extra>",
         "legendgroup": "2018-12-17",
         "marker": {
          "color": "#FFA15A",
          "symbol": "circle"
         },
         "mode": "markers",
         "name": "2018-12-17",
         "showlegend": true,
         "type": "scattergl",
         "x": [
          -2.075377351348772
         ],
         "xaxis": "x",
         "y": [
          3.5803929542873782
         ],
         "yaxis": "y"
        },
        {
         "hovertemplate": "date=2018-12-18<br>pc1=%{x}<br>pc2=%{y}<extra></extra>",
         "legendgroup": "2018-12-18",
         "marker": {
          "color": "#19d3f3",
          "symbol": "circle"
         },
         "mode": "markers",
         "name": "2018-12-18",
         "showlegend": true,
         "type": "scattergl",
         "x": [
          -2.565866662751349
         ],
         "xaxis": "x",
         "y": [
          5.716493849540648
         ],
         "yaxis": "y"
        },
        {
         "hovertemplate": "date=2018-12-19<br>pc1=%{x}<br>pc2=%{y}<extra></extra>",
         "legendgroup": "2018-12-19",
         "marker": {
          "color": "#FF6692",
          "symbol": "circle"
         },
         "mode": "markers",
         "name": "2018-12-19",
         "showlegend": true,
         "type": "scattergl",
         "x": [
          -1.842587386117884
         ],
         "xaxis": "x",
         "y": [
          9.707407560107276
         ],
         "yaxis": "y"
        },
        {
         "hovertemplate": "date=2018-12-20<br>pc1=%{x}<br>pc2=%{y}<extra></extra>",
         "legendgroup": "2018-12-20",
         "marker": {
          "color": "#B6E880",
          "symbol": "circle"
         },
         "mode": "markers",
         "name": "2018-12-20",
         "showlegend": true,
         "type": "scattergl",
         "x": [
          -3.696229043741524
         ],
         "xaxis": "x",
         "y": [
          3.688171187728663
         ],
         "yaxis": "y"
        },
        {
         "hovertemplate": "date=2018-12-21<br>pc1=%{x}<br>pc2=%{y}<extra></extra>",
         "legendgroup": "2018-12-21",
         "marker": {
          "color": "#FF97FF",
          "symbol": "circle"
         },
         "mode": "markers",
         "name": "2018-12-21",
         "showlegend": true,
         "type": "scattergl",
         "x": [
          -2.4153140120164918
         ],
         "xaxis": "x",
         "y": [
          9.194353985180086
         ],
         "yaxis": "y"
        },
        {
         "hovertemplate": "date=2018-12-22<br>pc1=%{x}<br>pc2=%{y}<extra></extra>",
         "legendgroup": "2018-12-22",
         "marker": {
          "color": "#FECB52",
          "symbol": "circle"
         },
         "mode": "markers",
         "name": "2018-12-22",
         "showlegend": true,
         "type": "scattergl",
         "x": [
          -7.789131918565373
         ],
         "xaxis": "x",
         "y": [
          -0.9464205890844603
         ],
         "yaxis": "y"
        },
        {
         "hovertemplate": "date=2018-12-23<br>pc1=%{x}<br>pc2=%{y}<extra></extra>",
         "legendgroup": "2018-12-23",
         "marker": {
          "color": "#636efa",
          "symbol": "circle"
         },
         "mode": "markers",
         "name": "2018-12-23",
         "showlegend": true,
         "type": "scattergl",
         "x": [
          -8.002951841877522
         ],
         "xaxis": "x",
         "y": [
          7.088980152019899
         ],
         "yaxis": "y"
        },
        {
         "hovertemplate": "date=2018-12-24<br>pc1=%{x}<br>pc2=%{y}<extra></extra>",
         "legendgroup": "2018-12-24",
         "marker": {
          "color": "#EF553B",
          "symbol": "circle"
         },
         "mode": "markers",
         "name": "2018-12-24",
         "showlegend": true,
         "type": "scattergl",
         "x": [
          15.728016072087966
         ],
         "xaxis": "x",
         "y": [
          -3.070383892326089
         ],
         "yaxis": "y"
        },
        {
         "hovertemplate": "date=2018-12-25<br>pc1=%{x}<br>pc2=%{y}<extra></extra>",
         "legendgroup": "2018-12-25",
         "marker": {
          "color": "#00cc96",
          "symbol": "circle"
         },
         "mode": "markers",
         "name": "2018-12-25",
         "showlegend": true,
         "type": "scattergl",
         "x": [
          34.930711531354504
         ],
         "xaxis": "x",
         "y": [
          -19.442613566439455
         ],
         "yaxis": "y"
        },
        {
         "hovertemplate": "date=2018-12-26<br>pc1=%{x}<br>pc2=%{y}<extra></extra>",
         "legendgroup": "2018-12-26",
         "marker": {
          "color": "#ab63fa",
          "symbol": "circle"
         },
         "mode": "markers",
         "name": "2018-12-26",
         "showlegend": true,
         "type": "scattergl",
         "x": [
          1.2916404664400132
         ],
         "xaxis": "x",
         "y": [
          2.3538388545577376
         ],
         "yaxis": "y"
        },
        {
         "hovertemplate": "date=2018-12-27<br>pc1=%{x}<br>pc2=%{y}<extra></extra>",
         "legendgroup": "2018-12-27",
         "marker": {
          "color": "#FFA15A",
          "symbol": "circle"
         },
         "mode": "markers",
         "name": "2018-12-27",
         "showlegend": true,
         "type": "scattergl",
         "x": [
          0.05464323867637815
         ],
         "xaxis": "x",
         "y": [
          9.587550308342284
         ],
         "yaxis": "y"
        },
        {
         "hovertemplate": "date=2018-12-28<br>pc1=%{x}<br>pc2=%{y}<extra></extra>",
         "legendgroup": "2018-12-28",
         "marker": {
          "color": "#19d3f3",
          "symbol": "circle"
         },
         "mode": "markers",
         "name": "2018-12-28",
         "showlegend": true,
         "type": "scattergl",
         "x": [
          -4.738689023720267
         ],
         "xaxis": "x",
         "y": [
          10.627793361473248
         ],
         "yaxis": "y"
        },
        {
         "hovertemplate": "date=2018-12-29<br>pc1=%{x}<br>pc2=%{y}<extra></extra>",
         "legendgroup": "2018-12-29",
         "marker": {
          "color": "#FF6692",
          "symbol": "circle"
         },
         "mode": "markers",
         "name": "2018-12-29",
         "showlegend": true,
         "type": "scattergl",
         "x": [
          -10.690297016279352
         ],
         "xaxis": "x",
         "y": [
          2.3530206686776793
         ],
         "yaxis": "y"
        },
        {
         "hovertemplate": "date=2018-12-30<br>pc1=%{x}<br>pc2=%{y}<extra></extra>",
         "legendgroup": "2018-12-30",
         "marker": {
          "color": "#B6E880",
          "symbol": "circle"
         },
         "mode": "markers",
         "name": "2018-12-30",
         "showlegend": true,
         "type": "scattergl",
         "x": [
          -5.549095076361899
         ],
         "xaxis": "x",
         "y": [
          13.488348012741406
         ],
         "yaxis": "y"
        },
        {
         "hovertemplate": "date=2018-12-31<br>pc1=%{x}<br>pc2=%{y}<extra></extra>",
         "legendgroup": "2018-12-31",
         "marker": {
          "color": "#FF97FF",
          "symbol": "circle"
         },
         "mode": "markers",
         "name": "2018-12-31",
         "showlegend": true,
         "type": "scattergl",
         "x": [
          9.33253263748584
         ],
         "xaxis": "x",
         "y": [
          0.7676860271561781
         ],
         "yaxis": "y"
        },
        {
         "hovertemplate": "date=2019-01-01<br>pc1=%{x}<br>pc2=%{y}<extra></extra>",
         "legendgroup": "2019-01-01",
         "marker": {
          "color": "#FECB52",
          "symbol": "circle"
         },
         "mode": "markers",
         "name": "2019-01-01",
         "showlegend": true,
         "type": "scattergl",
         "x": [
          31.719446064362643
         ],
         "xaxis": "x",
         "y": [
          -18.887688688799177
         ],
         "yaxis": "y"
        },
        {
         "hovertemplate": "date=2019-01-02<br>pc1=%{x}<br>pc2=%{y}<extra></extra>",
         "legendgroup": "2019-01-02",
         "marker": {
          "color": "#636efa",
          "symbol": "circle"
         },
         "mode": "markers",
         "name": "2019-01-02",
         "showlegend": true,
         "type": "scattergl",
         "x": [
          -0.23909503346354824
         ],
         "xaxis": "x",
         "y": [
          9.233082992409505
         ],
         "yaxis": "y"
        },
        {
         "hovertemplate": "date=2019-01-03<br>pc1=%{x}<br>pc2=%{y}<extra></extra>",
         "legendgroup": "2019-01-03",
         "marker": {
          "color": "#EF553B",
          "symbol": "circle"
         },
         "mode": "markers",
         "name": "2019-01-03",
         "showlegend": true,
         "type": "scattergl",
         "x": [
          -10.52827571538303
         ],
         "xaxis": "x",
         "y": [
          7.83726252643307
         ],
         "yaxis": "y"
        },
        {
         "hovertemplate": "date=2019-01-04<br>pc1=%{x}<br>pc2=%{y}<extra></extra>",
         "legendgroup": "2019-01-04",
         "marker": {
          "color": "#00cc96",
          "symbol": "circle"
         },
         "mode": "markers",
         "name": "2019-01-04",
         "showlegend": true,
         "type": "scattergl",
         "x": [
          -4.186110940759195
         ],
         "xaxis": "x",
         "y": [
          11.985701049041472
         ],
         "yaxis": "y"
        },
        {
         "hovertemplate": "date=2019-01-05<br>pc1=%{x}<br>pc2=%{y}<extra></extra>",
         "legendgroup": "2019-01-05",
         "marker": {
          "color": "#ab63fa",
          "symbol": "circle"
         },
         "mode": "markers",
         "name": "2019-01-05",
         "showlegend": true,
         "type": "scattergl",
         "x": [
          6.574610311982676
         ],
         "xaxis": "x",
         "y": [
          -0.29304355620841777
         ],
         "yaxis": "y"
        },
        {
         "hovertemplate": "date=2019-01-06<br>pc1=%{x}<br>pc2=%{y}<extra></extra>",
         "legendgroup": "2019-01-06",
         "marker": {
          "color": "#FFA15A",
          "symbol": "circle"
         },
         "mode": "markers",
         "name": "2019-01-06",
         "showlegend": true,
         "type": "scattergl",
         "x": [
          10.034442517367463
         ],
         "xaxis": "x",
         "y": [
          -3.8511398639482004
         ],
         "yaxis": "y"
        },
        {
         "hovertemplate": "date=2019-01-07<br>pc1=%{x}<br>pc2=%{y}<extra></extra>",
         "legendgroup": "2019-01-07",
         "marker": {
          "color": "#19d3f3",
          "symbol": "circle"
         },
         "mode": "markers",
         "name": "2019-01-07",
         "showlegend": true,
         "type": "scattergl",
         "x": [
          -2.564480013000066
         ],
         "xaxis": "x",
         "y": [
          8.477126188664718
         ],
         "yaxis": "y"
        },
        {
         "hovertemplate": "date=2019-01-08<br>pc1=%{x}<br>pc2=%{y}<extra></extra>",
         "legendgroup": "2019-01-08",
         "marker": {
          "color": "#FF6692",
          "symbol": "circle"
         },
         "mode": "markers",
         "name": "2019-01-08",
         "showlegend": true,
         "type": "scattergl",
         "x": [
          -1.3135170308010333
         ],
         "xaxis": "x",
         "y": [
          10.414903952761103
         ],
         "yaxis": "y"
        },
        {
         "hovertemplate": "date=2019-01-09<br>pc1=%{x}<br>pc2=%{y}<extra></extra>",
         "legendgroup": "2019-01-09",
         "marker": {
          "color": "#B6E880",
          "symbol": "circle"
         },
         "mode": "markers",
         "name": "2019-01-09",
         "showlegend": true,
         "type": "scattergl",
         "x": [
          -1.6893380331441936
         ],
         "xaxis": "x",
         "y": [
          5.757000571590594
         ],
         "yaxis": "y"
        },
        {
         "hovertemplate": "date=2019-01-10<br>pc1=%{x}<br>pc2=%{y}<extra></extra>",
         "legendgroup": "2019-01-10",
         "marker": {
          "color": "#FF97FF",
          "symbol": "circle"
         },
         "mode": "markers",
         "name": "2019-01-10",
         "showlegend": true,
         "type": "scattergl",
         "x": [
          -1.2785998508274072
         ],
         "xaxis": "x",
         "y": [
          6.732120982262629
         ],
         "yaxis": "y"
        },
        {
         "hovertemplate": "date=2019-01-11<br>pc1=%{x}<br>pc2=%{y}<extra></extra>",
         "legendgroup": "2019-01-11",
         "marker": {
          "color": "#FECB52",
          "symbol": "circle"
         },
         "mode": "markers",
         "name": "2019-01-11",
         "showlegend": true,
         "type": "scattergl",
         "x": [
          0.43727339435309454
         ],
         "xaxis": "x",
         "y": [
          9.352818685233899
         ],
         "yaxis": "y"
        },
        {
         "hovertemplate": "date=2019-01-12<br>pc1=%{x}<br>pc2=%{y}<extra></extra>",
         "legendgroup": "2019-01-12",
         "marker": {
          "color": "#636efa",
          "symbol": "circle"
         },
         "mode": "markers",
         "name": "2019-01-12",
         "showlegend": true,
         "type": "scattergl",
         "x": [
          36.5576660566165
         ],
         "xaxis": "x",
         "y": [
          32.967432673622575
         ],
         "yaxis": "y"
        },
        {
         "hovertemplate": "date=2019-01-13<br>pc1=%{x}<br>pc2=%{y}<extra></extra>",
         "legendgroup": "2019-01-13",
         "marker": {
          "color": "#EF553B",
          "symbol": "circle"
         },
         "mode": "markers",
         "name": "2019-01-13",
         "showlegend": true,
         "type": "scattergl",
         "x": [
          39.06534694130506
         ],
         "xaxis": "x",
         "y": [
          34.17432350022076
         ],
         "yaxis": "y"
        },
        {
         "hovertemplate": "date=2019-01-14<br>pc1=%{x}<br>pc2=%{y}<extra></extra>",
         "legendgroup": "2019-01-14",
         "marker": {
          "color": "#00cc96",
          "symbol": "circle"
         },
         "mode": "markers",
         "name": "2019-01-14",
         "showlegend": true,
         "type": "scattergl",
         "x": [
          3.813974189956662
         ],
         "xaxis": "x",
         "y": [
          21.5553924729245
         ],
         "yaxis": "y"
        },
        {
         "hovertemplate": "date=2019-01-15<br>pc1=%{x}<br>pc2=%{y}<extra></extra>",
         "legendgroup": "2019-01-15",
         "marker": {
          "color": "#ab63fa",
          "symbol": "circle"
         },
         "mode": "markers",
         "name": "2019-01-15",
         "showlegend": true,
         "type": "scattergl",
         "x": [
          0.22242143907674905
         ],
         "xaxis": "x",
         "y": [
          10.887907872810121
         ],
         "yaxis": "y"
        },
        {
         "hovertemplate": "date=2019-01-16<br>pc1=%{x}<br>pc2=%{y}<extra></extra>",
         "legendgroup": "2019-01-16",
         "marker": {
          "color": "#FFA15A",
          "symbol": "circle"
         },
         "mode": "markers",
         "name": "2019-01-16",
         "showlegend": true,
         "type": "scattergl",
         "x": [
          -4.571752220746469
         ],
         "xaxis": "x",
         "y": [
          8.233450654110133
         ],
         "yaxis": "y"
        },
        {
         "hovertemplate": "date=2019-01-17<br>pc1=%{x}<br>pc2=%{y}<extra></extra>",
         "legendgroup": "2019-01-17",
         "marker": {
          "color": "#19d3f3",
          "symbol": "circle"
         },
         "mode": "markers",
         "name": "2019-01-17",
         "showlegend": true,
         "type": "scattergl",
         "x": [
          -4.349150826284167
         ],
         "xaxis": "x",
         "y": [
          10.273942881956565
         ],
         "yaxis": "y"
        },
        {
         "hovertemplate": "date=2019-01-18<br>pc1=%{x}<br>pc2=%{y}<extra></extra>",
         "legendgroup": "2019-01-18",
         "marker": {
          "color": "#FF6692",
          "symbol": "circle"
         },
         "mode": "markers",
         "name": "2019-01-18",
         "showlegend": true,
         "type": "scattergl",
         "x": [
          -6.868045758186151
         ],
         "xaxis": "x",
         "y": [
          10.434779341153849
         ],
         "yaxis": "y"
        },
        {
         "hovertemplate": "date=2019-01-19<br>pc1=%{x}<br>pc2=%{y}<extra></extra>",
         "legendgroup": "2019-01-19",
         "marker": {
          "color": "#B6E880",
          "symbol": "circle"
         },
         "mode": "markers",
         "name": "2019-01-19",
         "showlegend": true,
         "type": "scattergl",
         "x": [
          4.408771193312202
         ],
         "xaxis": "x",
         "y": [
          -15.674264412675582
         ],
         "yaxis": "y"
        },
        {
         "hovertemplate": "date=2019-01-20<br>pc1=%{x}<br>pc2=%{y}<extra></extra>",
         "legendgroup": "2019-01-20",
         "marker": {
          "color": "#FF97FF",
          "symbol": "circle"
         },
         "mode": "markers",
         "name": "2019-01-20",
         "showlegend": true,
         "type": "scattergl",
         "x": [
          14.763204423550784
         ],
         "xaxis": "x",
         "y": [
          0.719418786655145
         ],
         "yaxis": "y"
        },
        {
         "hovertemplate": "date=2019-01-21<br>pc1=%{x}<br>pc2=%{y}<extra></extra>",
         "legendgroup": "2019-01-21",
         "marker": {
          "color": "#FECB52",
          "symbol": "circle"
         },
         "mode": "markers",
         "name": "2019-01-21",
         "showlegend": true,
         "type": "scattergl",
         "x": [
          23.072316781936177
         ],
         "xaxis": "x",
         "y": [
          -9.814441636267558
         ],
         "yaxis": "y"
        },
        {
         "hovertemplate": "date=2019-01-22<br>pc1=%{x}<br>pc2=%{y}<extra></extra>",
         "legendgroup": "2019-01-22",
         "marker": {
          "color": "#636efa",
          "symbol": "circle"
         },
         "mode": "markers",
         "name": "2019-01-22",
         "showlegend": true,
         "type": "scattergl",
         "x": [
          -8.792723260289963
         ],
         "xaxis": "x",
         "y": [
          13.84458904674013
         ],
         "yaxis": "y"
        },
        {
         "hovertemplate": "date=2019-01-23<br>pc1=%{x}<br>pc2=%{y}<extra></extra>",
         "legendgroup": "2019-01-23",
         "marker": {
          "color": "#EF553B",
          "symbol": "circle"
         },
         "mode": "markers",
         "name": "2019-01-23",
         "showlegend": true,
         "type": "scattergl",
         "x": [
          -8.261637379630988
         ],
         "xaxis": "x",
         "y": [
          16.69648264045151
         ],
         "yaxis": "y"
        },
        {
         "hovertemplate": "date=2019-01-24<br>pc1=%{x}<br>pc2=%{y}<extra></extra>",
         "legendgroup": "2019-01-24",
         "marker": {
          "color": "#00cc96",
          "symbol": "circle"
         },
         "mode": "markers",
         "name": "2019-01-24",
         "showlegend": true,
         "type": "scattergl",
         "x": [
          -11.604769633819325
         ],
         "xaxis": "x",
         "y": [
          8.419571972815984
         ],
         "yaxis": "y"
        },
        {
         "hovertemplate": "date=2019-01-25<br>pc1=%{x}<br>pc2=%{y}<extra></extra>",
         "legendgroup": "2019-01-25",
         "marker": {
          "color": "#ab63fa",
          "symbol": "circle"
         },
         "mode": "markers",
         "name": "2019-01-25",
         "showlegend": true,
         "type": "scattergl",
         "x": [
          -2.8337596758570065
         ],
         "xaxis": "x",
         "y": [
          -17.206409880387618
         ],
         "yaxis": "y"
        },
        {
         "hovertemplate": "date=2019-01-26<br>pc1=%{x}<br>pc2=%{y}<extra></extra>",
         "legendgroup": "2019-01-26",
         "marker": {
          "color": "#FFA15A",
          "symbol": "circle"
         },
         "mode": "markers",
         "name": "2019-01-26",
         "showlegend": true,
         "type": "scattergl",
         "x": [
          7.749735248793693
         ],
         "xaxis": "x",
         "y": [
          -11.475377032752988
         ],
         "yaxis": "y"
        },
        {
         "hovertemplate": "date=2019-01-27<br>pc1=%{x}<br>pc2=%{y}<extra></extra>",
         "legendgroup": "2019-01-27",
         "marker": {
          "color": "#19d3f3",
          "symbol": "circle"
         },
         "mode": "markers",
         "name": "2019-01-27",
         "showlegend": true,
         "type": "scattergl",
         "x": [
          5.171312748770374
         ],
         "xaxis": "x",
         "y": [
          6.764859700089808
         ],
         "yaxis": "y"
        },
        {
         "hovertemplate": "date=2019-01-28<br>pc1=%{x}<br>pc2=%{y}<extra></extra>",
         "legendgroup": "2019-01-28",
         "marker": {
          "color": "#FF6692",
          "symbol": "circle"
         },
         "mode": "markers",
         "name": "2019-01-28",
         "showlegend": true,
         "type": "scattergl",
         "x": [
          -48.925435393810496
         ],
         "xaxis": "x",
         "y": [
          -16.06386670282763
         ],
         "yaxis": "y"
        },
        {
         "hovertemplate": "date=2019-01-29<br>pc1=%{x}<br>pc2=%{y}<extra></extra>",
         "legendgroup": "2019-01-29",
         "marker": {
          "color": "#B6E880",
          "symbol": "circle"
         },
         "mode": "markers",
         "name": "2019-01-29",
         "showlegend": true,
         "type": "scattergl",
         "x": [
          -9.98793998243968
         ],
         "xaxis": "x",
         "y": [
          9.805290672580767
         ],
         "yaxis": "y"
        },
        {
         "hovertemplate": "date=2019-01-30<br>pc1=%{x}<br>pc2=%{y}<extra></extra>",
         "legendgroup": "2019-01-30",
         "marker": {
          "color": "#FF97FF",
          "symbol": "circle"
         },
         "mode": "markers",
         "name": "2019-01-30",
         "showlegend": true,
         "type": "scattergl",
         "x": [
          44.41555756730031
         ],
         "xaxis": "x",
         "y": [
          -26.05211777343094
         ],
         "yaxis": "y"
        },
        {
         "hovertemplate": "date=2019-01-31<br>pc1=%{x}<br>pc2=%{y}<extra></extra>",
         "legendgroup": "2019-01-31",
         "marker": {
          "color": "#FECB52",
          "symbol": "circle"
         },
         "mode": "markers",
         "name": "2019-01-31",
         "showlegend": true,
         "type": "scattergl",
         "x": [
          23.715092460178184
         ],
         "xaxis": "x",
         "y": [
          -24.252048680145382
         ],
         "yaxis": "y"
        },
        {
         "hovertemplate": "date=2019-02-01<br>pc1=%{x}<br>pc2=%{y}<extra></extra>",
         "legendgroup": "2019-02-01",
         "marker": {
          "color": "#636efa",
          "symbol": "circle"
         },
         "mode": "markers",
         "name": "2019-02-01",
         "showlegend": true,
         "type": "scattergl",
         "x": [
          -17.82791891108541
         ],
         "xaxis": "x",
         "y": [
          11.94201388664445
         ],
         "yaxis": "y"
        },
        {
         "hovertemplate": "date=2019-02-02<br>pc1=%{x}<br>pc2=%{y}<extra></extra>",
         "legendgroup": "2019-02-02",
         "marker": {
          "color": "#EF553B",
          "symbol": "circle"
         },
         "mode": "markers",
         "name": "2019-02-02",
         "showlegend": true,
         "type": "scattergl",
         "x": [
          -3.9487877044299253
         ],
         "xaxis": "x",
         "y": [
          10.085928086066207
         ],
         "yaxis": "y"
        },
        {
         "hovertemplate": "date=2019-02-03<br>pc1=%{x}<br>pc2=%{y}<extra></extra>",
         "legendgroup": "2019-02-03",
         "marker": {
          "color": "#00cc96",
          "symbol": "circle"
         },
         "mode": "markers",
         "name": "2019-02-03",
         "showlegend": true,
         "type": "scattergl",
         "x": [
          9.376006506594775
         ],
         "xaxis": "x",
         "y": [
          2.174101322815812
         ],
         "yaxis": "y"
        },
        {
         "hovertemplate": "date=2019-02-04<br>pc1=%{x}<br>pc2=%{y}<extra></extra>",
         "legendgroup": "2019-02-04",
         "marker": {
          "color": "#ab63fa",
          "symbol": "circle"
         },
         "mode": "markers",
         "name": "2019-02-04",
         "showlegend": true,
         "type": "scattergl",
         "x": [
          -8.692717482347089
         ],
         "xaxis": "x",
         "y": [
          6.438051356304727
         ],
         "yaxis": "y"
        },
        {
         "hovertemplate": "date=2019-02-05<br>pc1=%{x}<br>pc2=%{y}<extra></extra>",
         "legendgroup": "2019-02-05",
         "marker": {
          "color": "#FFA15A",
          "symbol": "circle"
         },
         "mode": "markers",
         "name": "2019-02-05",
         "showlegend": true,
         "type": "scattergl",
         "x": [
          -4.915395425024321
         ],
         "xaxis": "x",
         "y": [
          7.048578420943908
         ],
         "yaxis": "y"
        },
        {
         "hovertemplate": "date=2019-02-06<br>pc1=%{x}<br>pc2=%{y}<extra></extra>",
         "legendgroup": "2019-02-06",
         "marker": {
          "color": "#19d3f3",
          "symbol": "circle"
         },
         "mode": "markers",
         "name": "2019-02-06",
         "showlegend": true,
         "type": "scattergl",
         "x": [
          -1.9956523746971506
         ],
         "xaxis": "x",
         "y": [
          10.955623977675945
         ],
         "yaxis": "y"
        },
        {
         "hovertemplate": "date=2019-02-07<br>pc1=%{x}<br>pc2=%{y}<extra></extra>",
         "legendgroup": "2019-02-07",
         "marker": {
          "color": "#FF6692",
          "symbol": "circle"
         },
         "mode": "markers",
         "name": "2019-02-07",
         "showlegend": true,
         "type": "scattergl",
         "x": [
          -7.546223342274511
         ],
         "xaxis": "x",
         "y": [
          3.1453582561902484
         ],
         "yaxis": "y"
        },
        {
         "hovertemplate": "date=2019-02-08<br>pc1=%{x}<br>pc2=%{y}<extra></extra>",
         "legendgroup": "2019-02-08",
         "marker": {
          "color": "#B6E880",
          "symbol": "circle"
         },
         "mode": "markers",
         "name": "2019-02-08",
         "showlegend": true,
         "type": "scattergl",
         "x": [
          4.890332565537254
         ],
         "xaxis": "x",
         "y": [
          5.036227176762876
         ],
         "yaxis": "y"
        },
        {
         "hovertemplate": "date=2019-02-09<br>pc1=%{x}<br>pc2=%{y}<extra></extra>",
         "legendgroup": "2019-02-09",
         "marker": {
          "color": "#FF97FF",
          "symbol": "circle"
         },
         "mode": "markers",
         "name": "2019-02-09",
         "showlegend": true,
         "type": "scattergl",
         "x": [
          10.978109110048164
         ],
         "xaxis": "x",
         "y": [
          -5.854977369788327
         ],
         "yaxis": "y"
        },
        {
         "hovertemplate": "date=2019-02-10<br>pc1=%{x}<br>pc2=%{y}<extra></extra>",
         "legendgroup": "2019-02-10",
         "marker": {
          "color": "#FECB52",
          "symbol": "circle"
         },
         "mode": "markers",
         "name": "2019-02-10",
         "showlegend": true,
         "type": "scattergl",
         "x": [
          13.183429264844303
         ],
         "xaxis": "x",
         "y": [
          -8.612940431701585
         ],
         "yaxis": "y"
        },
        {
         "hovertemplate": "date=2019-02-11<br>pc1=%{x}<br>pc2=%{y}<extra></extra>",
         "legendgroup": "2019-02-11",
         "marker": {
          "color": "#636efa",
          "symbol": "circle"
         },
         "mode": "markers",
         "name": "2019-02-11",
         "showlegend": true,
         "type": "scattergl",
         "x": [
          -4.42703976107455
         ],
         "xaxis": "x",
         "y": [
          11.1760884549931
         ],
         "yaxis": "y"
        },
        {
         "hovertemplate": "date=2019-02-12<br>pc1=%{x}<br>pc2=%{y}<extra></extra>",
         "legendgroup": "2019-02-12",
         "marker": {
          "color": "#EF553B",
          "symbol": "circle"
         },
         "mode": "markers",
         "name": "2019-02-12",
         "showlegend": true,
         "type": "scattergl",
         "x": [
          -2.720258514377959
         ],
         "xaxis": "x",
         "y": [
          0.439798000823759
         ],
         "yaxis": "y"
        },
        {
         "hovertemplate": "date=2019-02-13<br>pc1=%{x}<br>pc2=%{y}<extra></extra>",
         "legendgroup": "2019-02-13",
         "marker": {
          "color": "#00cc96",
          "symbol": "circle"
         },
         "mode": "markers",
         "name": "2019-02-13",
         "showlegend": true,
         "type": "scattergl",
         "x": [
          -4.364617410429038
         ],
         "xaxis": "x",
         "y": [
          7.64038449597459
         ],
         "yaxis": "y"
        },
        {
         "hovertemplate": "date=2019-02-14<br>pc1=%{x}<br>pc2=%{y}<extra></extra>",
         "legendgroup": "2019-02-14",
         "marker": {
          "color": "#ab63fa",
          "symbol": "circle"
         },
         "mode": "markers",
         "name": "2019-02-14",
         "showlegend": true,
         "type": "scattergl",
         "x": [
          -5.376681407750224
         ],
         "xaxis": "x",
         "y": [
          10.013932424986645
         ],
         "yaxis": "y"
        },
        {
         "hovertemplate": "date=2019-02-15<br>pc1=%{x}<br>pc2=%{y}<extra></extra>",
         "legendgroup": "2019-02-15",
         "marker": {
          "color": "#FFA15A",
          "symbol": "circle"
         },
         "mode": "markers",
         "name": "2019-02-15",
         "showlegend": true,
         "type": "scattergl",
         "x": [
          -2.7300523973024577
         ],
         "xaxis": "x",
         "y": [
          6.714981186496857
         ],
         "yaxis": "y"
        },
        {
         "hovertemplate": "date=2019-02-16<br>pc1=%{x}<br>pc2=%{y}<extra></extra>",
         "legendgroup": "2019-02-16",
         "marker": {
          "color": "#19d3f3",
          "symbol": "circle"
         },
         "mode": "markers",
         "name": "2019-02-16",
         "showlegend": true,
         "type": "scattergl",
         "x": [
          8.538151826115365
         ],
         "xaxis": "x",
         "y": [
          -2.7246324797248076
         ],
         "yaxis": "y"
        },
        {
         "hovertemplate": "date=2019-02-17<br>pc1=%{x}<br>pc2=%{y}<extra></extra>",
         "legendgroup": "2019-02-17",
         "marker": {
          "color": "#FF6692",
          "symbol": "circle"
         },
         "mode": "markers",
         "name": "2019-02-17",
         "showlegend": true,
         "type": "scattergl",
         "x": [
          13.10365044101258
         ],
         "xaxis": "x",
         "y": [
          -3.3274907491356265
         ],
         "yaxis": "y"
        },
        {
         "hovertemplate": "date=2019-02-18<br>pc1=%{x}<br>pc2=%{y}<extra></extra>",
         "legendgroup": "2019-02-18",
         "marker": {
          "color": "#B6E880",
          "symbol": "circle"
         },
         "mode": "markers",
         "name": "2019-02-18",
         "showlegend": true,
         "type": "scattergl",
         "x": [
          12.634946845550157
         ],
         "xaxis": "x",
         "y": [
          -6.0116676763400365
         ],
         "yaxis": "y"
        },
        {
         "hovertemplate": "date=2019-02-19<br>pc1=%{x}<br>pc2=%{y}<extra></extra>",
         "legendgroup": "2019-02-19",
         "marker": {
          "color": "#FF97FF",
          "symbol": "circle"
         },
         "mode": "markers",
         "name": "2019-02-19",
         "showlegend": true,
         "type": "scattergl",
         "x": [
          -6.2984851114585485
         ],
         "xaxis": "x",
         "y": [
          8.532665511680188
         ],
         "yaxis": "y"
        },
        {
         "hovertemplate": "date=2019-02-20<br>pc1=%{x}<br>pc2=%{y}<extra></extra>",
         "legendgroup": "2019-02-20",
         "marker": {
          "color": "#FECB52",
          "symbol": "circle"
         },
         "mode": "markers",
         "name": "2019-02-20",
         "showlegend": true,
         "type": "scattergl",
         "x": [
          -4.366876030306947
         ],
         "xaxis": "x",
         "y": [
          11.297005883395702
         ],
         "yaxis": "y"
        },
        {
         "hovertemplate": "date=2019-02-21<br>pc1=%{x}<br>pc2=%{y}<extra></extra>",
         "legendgroup": "2019-02-21",
         "marker": {
          "color": "#636efa",
          "symbol": "circle"
         },
         "mode": "markers",
         "name": "2019-02-21",
         "showlegend": true,
         "type": "scattergl",
         "x": [
          -6.141680200600945
         ],
         "xaxis": "x",
         "y": [
          10.45249653958789
         ],
         "yaxis": "y"
        },
        {
         "hovertemplate": "date=2019-02-22<br>pc1=%{x}<br>pc2=%{y}<extra></extra>",
         "legendgroup": "2019-02-22",
         "marker": {
          "color": "#EF553B",
          "symbol": "circle"
         },
         "mode": "markers",
         "name": "2019-02-22",
         "showlegend": true,
         "type": "scattergl",
         "x": [
          -3.4233812755920408
         ],
         "xaxis": "x",
         "y": [
          6.531748794894332
         ],
         "yaxis": "y"
        },
        {
         "hovertemplate": "date=2019-02-23<br>pc1=%{x}<br>pc2=%{y}<extra></extra>",
         "legendgroup": "2019-02-23",
         "marker": {
          "color": "#00cc96",
          "symbol": "circle"
         },
         "mode": "markers",
         "name": "2019-02-23",
         "showlegend": true,
         "type": "scattergl",
         "x": [
          13.446058538762516
         ],
         "xaxis": "x",
         "y": [
          -4.878197990034832
         ],
         "yaxis": "y"
        },
        {
         "hovertemplate": "date=2019-02-24<br>pc1=%{x}<br>pc2=%{y}<extra></extra>",
         "legendgroup": "2019-02-24",
         "marker": {
          "color": "#ab63fa",
          "symbol": "circle"
         },
         "mode": "markers",
         "name": "2019-02-24",
         "showlegend": true,
         "type": "scattergl",
         "x": [
          15.212134226157072
         ],
         "xaxis": "x",
         "y": [
          -7.428330637987417
         ],
         "yaxis": "y"
        },
        {
         "hovertemplate": "date=2019-02-25<br>pc1=%{x}<br>pc2=%{y}<extra></extra>",
         "legendgroup": "2019-02-25",
         "marker": {
          "color": "#FFA15A",
          "symbol": "circle"
         },
         "mode": "markers",
         "name": "2019-02-25",
         "showlegend": true,
         "type": "scattergl",
         "x": [
          -3.0026298548846766
         ],
         "xaxis": "x",
         "y": [
          7.59373574723625
         ],
         "yaxis": "y"
        },
        {
         "hovertemplate": "date=2019-02-26<br>pc1=%{x}<br>pc2=%{y}<extra></extra>",
         "legendgroup": "2019-02-26",
         "marker": {
          "color": "#19d3f3",
          "symbol": "circle"
         },
         "mode": "markers",
         "name": "2019-02-26",
         "showlegend": true,
         "type": "scattergl",
         "x": [
          -1.5815402583336273
         ],
         "xaxis": "x",
         "y": [
          6.505611578408384
         ],
         "yaxis": "y"
        },
        {
         "hovertemplate": "date=2019-02-27<br>pc1=%{x}<br>pc2=%{y}<extra></extra>",
         "legendgroup": "2019-02-27",
         "marker": {
          "color": "#FF6692",
          "symbol": "circle"
         },
         "mode": "markers",
         "name": "2019-02-27",
         "showlegend": true,
         "type": "scattergl",
         "x": [
          -3.001771735960368
         ],
         "xaxis": "x",
         "y": [
          7.986983785189567
         ],
         "yaxis": "y"
        },
        {
         "hovertemplate": "date=2019-02-28<br>pc1=%{x}<br>pc2=%{y}<extra></extra>",
         "legendgroup": "2019-02-28",
         "marker": {
          "color": "#B6E880",
          "symbol": "circle"
         },
         "mode": "markers",
         "name": "2019-02-28",
         "showlegend": true,
         "type": "scattergl",
         "x": [
          -2.418179494306368
         ],
         "xaxis": "x",
         "y": [
          7.585157196613939
         ],
         "yaxis": "y"
        },
        {
         "hovertemplate": "date=2019-03-01<br>pc1=%{x}<br>pc2=%{y}<extra></extra>",
         "legendgroup": "2019-03-01",
         "marker": {
          "color": "#FF97FF",
          "symbol": "circle"
         },
         "mode": "markers",
         "name": "2019-03-01",
         "showlegend": true,
         "type": "scattergl",
         "x": [
          -3.39721626354664
         ],
         "xaxis": "x",
         "y": [
          6.289807413409684
         ],
         "yaxis": "y"
        },
        {
         "hovertemplate": "date=2019-03-02<br>pc1=%{x}<br>pc2=%{y}<extra></extra>",
         "legendgroup": "2019-03-02",
         "marker": {
          "color": "#FECB52",
          "symbol": "circle"
         },
         "mode": "markers",
         "name": "2019-03-02",
         "showlegend": true,
         "type": "scattergl",
         "x": [
          10.709536068729621
         ],
         "xaxis": "x",
         "y": [
          -1.6104849572840192
         ],
         "yaxis": "y"
        },
        {
         "hovertemplate": "date=2019-03-03<br>pc1=%{x}<br>pc2=%{y}<extra></extra>",
         "legendgroup": "2019-03-03",
         "marker": {
          "color": "#636efa",
          "symbol": "circle"
         },
         "mode": "markers",
         "name": "2019-03-03",
         "showlegend": true,
         "type": "scattergl",
         "x": [
          15.585556395446762
         ],
         "xaxis": "x",
         "y": [
          -1.6212571540973735
         ],
         "yaxis": "y"
        },
        {
         "hovertemplate": "date=2019-03-04<br>pc1=%{x}<br>pc2=%{y}<extra></extra>",
         "legendgroup": "2019-03-04",
         "marker": {
          "color": "#EF553B",
          "symbol": "circle"
         },
         "mode": "markers",
         "name": "2019-03-04",
         "showlegend": true,
         "type": "scattergl",
         "x": [
          1.6710617934543308
         ],
         "xaxis": "x",
         "y": [
          3.606898493773752
         ],
         "yaxis": "y"
        },
        {
         "hovertemplate": "date=2019-03-05<br>pc1=%{x}<br>pc2=%{y}<extra></extra>",
         "legendgroup": "2019-03-05",
         "marker": {
          "color": "#00cc96",
          "symbol": "circle"
         },
         "mode": "markers",
         "name": "2019-03-05",
         "showlegend": true,
         "type": "scattergl",
         "x": [
          -0.5752257269410858
         ],
         "xaxis": "x",
         "y": [
          7.285402062147981
         ],
         "yaxis": "y"
        },
        {
         "hovertemplate": "date=2019-03-06<br>pc1=%{x}<br>pc2=%{y}<extra></extra>",
         "legendgroup": "2019-03-06",
         "marker": {
          "color": "#ab63fa",
          "symbol": "circle"
         },
         "mode": "markers",
         "name": "2019-03-06",
         "showlegend": true,
         "type": "scattergl",
         "x": [
          -4.590329528080083
         ],
         "xaxis": "x",
         "y": [
          7.001709659807355
         ],
         "yaxis": "y"
        },
        {
         "hovertemplate": "date=2019-03-07<br>pc1=%{x}<br>pc2=%{y}<extra></extra>",
         "legendgroup": "2019-03-07",
         "marker": {
          "color": "#FFA15A",
          "symbol": "circle"
         },
         "mode": "markers",
         "name": "2019-03-07",
         "showlegend": true,
         "type": "scattergl",
         "x": [
          -4.9307827965014
         ],
         "xaxis": "x",
         "y": [
          7.2364162363957405
         ],
         "yaxis": "y"
        },
        {
         "hovertemplate": "date=2019-03-08<br>pc1=%{x}<br>pc2=%{y}<extra></extra>",
         "legendgroup": "2019-03-08",
         "marker": {
          "color": "#19d3f3",
          "symbol": "circle"
         },
         "mode": "markers",
         "name": "2019-03-08",
         "showlegend": true,
         "type": "scattergl",
         "x": [
          -1.4116624136019442
         ],
         "xaxis": "x",
         "y": [
          6.471927938212014
         ],
         "yaxis": "y"
        },
        {
         "hovertemplate": "date=2019-03-09<br>pc1=%{x}<br>pc2=%{y}<extra></extra>",
         "legendgroup": "2019-03-09",
         "marker": {
          "color": "#FF6692",
          "symbol": "circle"
         },
         "mode": "markers",
         "name": "2019-03-09",
         "showlegend": true,
         "type": "scattergl",
         "x": [
          16.147417864337257
         ],
         "xaxis": "x",
         "y": [
          -1.1784946200162612
         ],
         "yaxis": "y"
        },
        {
         "hovertemplate": "date=2019-03-10<br>pc1=%{x}<br>pc2=%{y}<extra></extra>",
         "legendgroup": "2019-03-10",
         "marker": {
          "color": "#B6E880",
          "symbol": "circle"
         },
         "mode": "markers",
         "name": "2019-03-10",
         "showlegend": true,
         "type": "scattergl",
         "x": [
          15.755173519435454
         ],
         "xaxis": "x",
         "y": [
          -5.728744144565983
         ],
         "yaxis": "y"
        },
        {
         "hovertemplate": "date=2019-03-11<br>pc1=%{x}<br>pc2=%{y}<extra></extra>",
         "legendgroup": "2019-03-11",
         "marker": {
          "color": "#FF97FF",
          "symbol": "circle"
         },
         "mode": "markers",
         "name": "2019-03-11",
         "showlegend": true,
         "type": "scattergl",
         "x": [
          -2.8720052674656795
         ],
         "xaxis": "x",
         "y": [
          10.43142436813601
         ],
         "yaxis": "y"
        },
        {
         "hovertemplate": "date=2019-03-12<br>pc1=%{x}<br>pc2=%{y}<extra></extra>",
         "legendgroup": "2019-03-12",
         "marker": {
          "color": "#FECB52",
          "symbol": "circle"
         },
         "mode": "markers",
         "name": "2019-03-12",
         "showlegend": true,
         "type": "scattergl",
         "x": [
          -2.7506569959901856
         ],
         "xaxis": "x",
         "y": [
          9.988296164486808
         ],
         "yaxis": "y"
        },
        {
         "hovertemplate": "date=2019-03-13<br>pc1=%{x}<br>pc2=%{y}<extra></extra>",
         "legendgroup": "2019-03-13",
         "marker": {
          "color": "#636efa",
          "symbol": "circle"
         },
         "mode": "markers",
         "name": "2019-03-13",
         "showlegend": true,
         "type": "scattergl",
         "x": [
          -1.0245757794955006
         ],
         "xaxis": "x",
         "y": [
          6.2973943091410955
         ],
         "yaxis": "y"
        },
        {
         "hovertemplate": "date=2019-03-14<br>pc1=%{x}<br>pc2=%{y}<extra></extra>",
         "legendgroup": "2019-03-14",
         "marker": {
          "color": "#EF553B",
          "symbol": "circle"
         },
         "mode": "markers",
         "name": "2019-03-14",
         "showlegend": true,
         "type": "scattergl",
         "x": [
          0.9857663299402848
         ],
         "xaxis": "x",
         "y": [
          6.605227229725994
         ],
         "yaxis": "y"
        },
        {
         "hovertemplate": "date=2019-03-15<br>pc1=%{x}<br>pc2=%{y}<extra></extra>",
         "legendgroup": "2019-03-15",
         "marker": {
          "color": "#00cc96",
          "symbol": "circle"
         },
         "mode": "markers",
         "name": "2019-03-15",
         "showlegend": true,
         "type": "scattergl",
         "x": [
          2.396330700351916
         ],
         "xaxis": "x",
         "y": [
          6.279197316584335
         ],
         "yaxis": "y"
        },
        {
         "hovertemplate": "date=2019-03-16<br>pc1=%{x}<br>pc2=%{y}<extra></extra>",
         "legendgroup": "2019-03-16",
         "marker": {
          "color": "#ab63fa",
          "symbol": "circle"
         },
         "mode": "markers",
         "name": "2019-03-16",
         "showlegend": true,
         "type": "scattergl",
         "x": [
          -9.236213565809985
         ],
         "xaxis": "x",
         "y": [
          -6.271824559489873
         ],
         "yaxis": "y"
        },
        {
         "hovertemplate": "date=2019-03-17<br>pc1=%{x}<br>pc2=%{y}<extra></extra>",
         "legendgroup": "2019-03-17",
         "marker": {
          "color": "#FFA15A",
          "symbol": "circle"
         },
         "mode": "markers",
         "name": "2019-03-17",
         "showlegend": true,
         "type": "scattergl",
         "x": [
          13.401758683304797
         ],
         "xaxis": "x",
         "y": [
          -8.461609314235286
         ],
         "yaxis": "y"
        },
        {
         "hovertemplate": "date=2019-03-18<br>pc1=%{x}<br>pc2=%{y}<extra></extra>",
         "legendgroup": "2019-03-18",
         "marker": {
          "color": "#19d3f3",
          "symbol": "circle"
         },
         "mode": "markers",
         "name": "2019-03-18",
         "showlegend": true,
         "type": "scattergl",
         "x": [
          -1.4917433262260427
         ],
         "xaxis": "x",
         "y": [
          6.696576230672599
         ],
         "yaxis": "y"
        },
        {
         "hovertemplate": "date=2019-03-19<br>pc1=%{x}<br>pc2=%{y}<extra></extra>",
         "legendgroup": "2019-03-19",
         "marker": {
          "color": "#FF6692",
          "symbol": "circle"
         },
         "mode": "markers",
         "name": "2019-03-19",
         "showlegend": true,
         "type": "scattergl",
         "x": [
          0.21438095533887352
         ],
         "xaxis": "x",
         "y": [
          7.023919146777192
         ],
         "yaxis": "y"
        },
        {
         "hovertemplate": "date=2019-03-20<br>pc1=%{x}<br>pc2=%{y}<extra></extra>",
         "legendgroup": "2019-03-20",
         "marker": {
          "color": "#B6E880",
          "symbol": "circle"
         },
         "mode": "markers",
         "name": "2019-03-20",
         "showlegend": true,
         "type": "scattergl",
         "x": [
          -0.091670916538811
         ],
         "xaxis": "x",
         "y": [
          7.176278688061772
         ],
         "yaxis": "y"
        },
        {
         "hovertemplate": "date=2019-03-21<br>pc1=%{x}<br>pc2=%{y}<extra></extra>",
         "legendgroup": "2019-03-21",
         "marker": {
          "color": "#FF97FF",
          "symbol": "circle"
         },
         "mode": "markers",
         "name": "2019-03-21",
         "showlegend": true,
         "type": "scattergl",
         "x": [
          -1.9049554748606898
         ],
         "xaxis": "x",
         "y": [
          7.086476606949225
         ],
         "yaxis": "y"
        },
        {
         "hovertemplate": "date=2019-03-22<br>pc1=%{x}<br>pc2=%{y}<extra></extra>",
         "legendgroup": "2019-03-22",
         "marker": {
          "color": "#FECB52",
          "symbol": "circle"
         },
         "mode": "markers",
         "name": "2019-03-22",
         "showlegend": true,
         "type": "scattergl",
         "x": [
          -6.556751251501135
         ],
         "xaxis": "x",
         "y": [
          -3.0849315453114166
         ],
         "yaxis": "y"
        },
        {
         "hovertemplate": "date=2019-03-23<br>pc1=%{x}<br>pc2=%{y}<extra></extra>",
         "legendgroup": "2019-03-23",
         "marker": {
          "color": "#636efa",
          "symbol": "circle"
         },
         "mode": "markers",
         "name": "2019-03-23",
         "showlegend": true,
         "type": "scattergl",
         "x": [
          8.677110334775865
         ],
         "xaxis": "x",
         "y": [
          -0.7882366717484414
         ],
         "yaxis": "y"
        },
        {
         "hovertemplate": "date=2019-03-24<br>pc1=%{x}<br>pc2=%{y}<extra></extra>",
         "legendgroup": "2019-03-24",
         "marker": {
          "color": "#EF553B",
          "symbol": "circle"
         },
         "mode": "markers",
         "name": "2019-03-24",
         "showlegend": true,
         "type": "scattergl",
         "x": [
          12.712937564110785
         ],
         "xaxis": "x",
         "y": [
          -5.380110009407729
         ],
         "yaxis": "y"
        },
        {
         "hovertemplate": "date=2019-03-25<br>pc1=%{x}<br>pc2=%{y}<extra></extra>",
         "legendgroup": "2019-03-25",
         "marker": {
          "color": "#00cc96",
          "symbol": "circle"
         },
         "mode": "markers",
         "name": "2019-03-25",
         "showlegend": true,
         "type": "scattergl",
         "x": [
          -0.34437737125364587
         ],
         "xaxis": "x",
         "y": [
          7.891050989969471
         ],
         "yaxis": "y"
        },
        {
         "hovertemplate": "date=2019-03-26<br>pc1=%{x}<br>pc2=%{y}<extra></extra>",
         "legendgroup": "2019-03-26",
         "marker": {
          "color": "#ab63fa",
          "symbol": "circle"
         },
         "mode": "markers",
         "name": "2019-03-26",
         "showlegend": true,
         "type": "scattergl",
         "x": [
          -0.08700229709570623
         ],
         "xaxis": "x",
         "y": [
          7.07456751674188
         ],
         "yaxis": "y"
        },
        {
         "hovertemplate": "date=2019-03-27<br>pc1=%{x}<br>pc2=%{y}<extra></extra>",
         "legendgroup": "2019-03-27",
         "marker": {
          "color": "#FFA15A",
          "symbol": "circle"
         },
         "mode": "markers",
         "name": "2019-03-27",
         "showlegend": true,
         "type": "scattergl",
         "x": [
          -4.208554677410394
         ],
         "xaxis": "x",
         "y": [
          4.923024640024439
         ],
         "yaxis": "y"
        },
        {
         "hovertemplate": "date=2019-03-28<br>pc1=%{x}<br>pc2=%{y}<extra></extra>",
         "legendgroup": "2019-03-28",
         "marker": {
          "color": "#19d3f3",
          "symbol": "circle"
         },
         "mode": "markers",
         "name": "2019-03-28",
         "showlegend": true,
         "type": "scattergl",
         "x": [
          2.9448389741979004
         ],
         "xaxis": "x",
         "y": [
          14.199203045113347
         ],
         "yaxis": "y"
        },
        {
         "hovertemplate": "date=2019-03-29<br>pc1=%{x}<br>pc2=%{y}<extra></extra>",
         "legendgroup": "2019-03-29",
         "marker": {
          "color": "#FF6692",
          "symbol": "circle"
         },
         "mode": "markers",
         "name": "2019-03-29",
         "showlegend": true,
         "type": "scattergl",
         "x": [
          7.211231900526192
         ],
         "xaxis": "x",
         "y": [
          15.44518546959175
         ],
         "yaxis": "y"
        },
        {
         "hovertemplate": "date=2019-03-30<br>pc1=%{x}<br>pc2=%{y}<extra></extra>",
         "legendgroup": "2019-03-30",
         "marker": {
          "color": "#B6E880",
          "symbol": "circle"
         },
         "mode": "markers",
         "name": "2019-03-30",
         "showlegend": true,
         "type": "scattergl",
         "x": [
          12.518393523095568
         ],
         "xaxis": "x",
         "y": [
          -3.286714268928273
         ],
         "yaxis": "y"
        },
        {
         "hovertemplate": "date=2019-03-31<br>pc1=%{x}<br>pc2=%{y}<extra></extra>",
         "legendgroup": "2019-03-31",
         "marker": {
          "color": "#FF97FF",
          "symbol": "circle"
         },
         "mode": "markers",
         "name": "2019-03-31",
         "showlegend": true,
         "type": "scattergl",
         "x": [
          11.84090762558957
         ],
         "xaxis": "x",
         "y": [
          -8.943580071706245
         ],
         "yaxis": "y"
        },
        {
         "hovertemplate": "date=2019-04-01<br>pc1=%{x}<br>pc2=%{y}<extra></extra>",
         "legendgroup": "2019-04-01",
         "marker": {
          "color": "#FECB52",
          "symbol": "circle"
         },
         "mode": "markers",
         "name": "2019-04-01",
         "showlegend": true,
         "type": "scattergl",
         "x": [
          -4.6399779947804936
         ],
         "xaxis": "x",
         "y": [
          8.625939417598573
         ],
         "yaxis": "y"
        },
        {
         "hovertemplate": "date=2019-04-02<br>pc1=%{x}<br>pc2=%{y}<extra></extra>",
         "legendgroup": "2019-04-02",
         "marker": {
          "color": "#636efa",
          "symbol": "circle"
         },
         "mode": "markers",
         "name": "2019-04-02",
         "showlegend": true,
         "type": "scattergl",
         "x": [
          -2.7355796169400346
         ],
         "xaxis": "x",
         "y": [
          6.088712346387844
         ],
         "yaxis": "y"
        },
        {
         "hovertemplate": "date=2019-04-03<br>pc1=%{x}<br>pc2=%{y}<extra></extra>",
         "legendgroup": "2019-04-03",
         "marker": {
          "color": "#EF553B",
          "symbol": "circle"
         },
         "mode": "markers",
         "name": "2019-04-03",
         "showlegend": true,
         "type": "scattergl",
         "x": [
          -4.730255282439912
         ],
         "xaxis": "x",
         "y": [
          6.55790565378655
         ],
         "yaxis": "y"
        },
        {
         "hovertemplate": "date=2019-04-04<br>pc1=%{x}<br>pc2=%{y}<extra></extra>",
         "legendgroup": "2019-04-04",
         "marker": {
          "color": "#00cc96",
          "symbol": "circle"
         },
         "mode": "markers",
         "name": "2019-04-04",
         "showlegend": true,
         "type": "scattergl",
         "x": [
          -2.5691733619154515
         ],
         "xaxis": "x",
         "y": [
          5.355005006774029
         ],
         "yaxis": "y"
        },
        {
         "hovertemplate": "date=2019-04-05<br>pc1=%{x}<br>pc2=%{y}<extra></extra>",
         "legendgroup": "2019-04-05",
         "marker": {
          "color": "#ab63fa",
          "symbol": "circle"
         },
         "mode": "markers",
         "name": "2019-04-05",
         "showlegend": true,
         "type": "scattergl",
         "x": [
          0.4898273269918779
         ],
         "xaxis": "x",
         "y": [
          2.3472071811851722
         ],
         "yaxis": "y"
        },
        {
         "hovertemplate": "date=2019-04-06<br>pc1=%{x}<br>pc2=%{y}<extra></extra>",
         "legendgroup": "2019-04-06",
         "marker": {
          "color": "#FFA15A",
          "symbol": "circle"
         },
         "mode": "markers",
         "name": "2019-04-06",
         "showlegend": true,
         "type": "scattergl",
         "x": [
          8.897744350232854
         ],
         "xaxis": "x",
         "y": [
          -1.3896304825083179
         ],
         "yaxis": "y"
        },
        {
         "hovertemplate": "date=2019-04-07<br>pc1=%{x}<br>pc2=%{y}<extra></extra>",
         "legendgroup": "2019-04-07",
         "marker": {
          "color": "#19d3f3",
          "symbol": "circle"
         },
         "mode": "markers",
         "name": "2019-04-07",
         "showlegend": true,
         "type": "scattergl",
         "x": [
          16.605716858505787
         ],
         "xaxis": "x",
         "y": [
          -2.8973672831156314
         ],
         "yaxis": "y"
        },
        {
         "hovertemplate": "date=2019-04-08<br>pc1=%{x}<br>pc2=%{y}<extra></extra>",
         "legendgroup": "2019-04-08",
         "marker": {
          "color": "#FF6692",
          "symbol": "circle"
         },
         "mode": "markers",
         "name": "2019-04-08",
         "showlegend": true,
         "type": "scattergl",
         "x": [
          -5.8143792545705395
         ],
         "xaxis": "x",
         "y": [
          11.580627982734974
         ],
         "yaxis": "y"
        },
        {
         "hovertemplate": "date=2019-04-09<br>pc1=%{x}<br>pc2=%{y}<extra></extra>",
         "legendgroup": "2019-04-09",
         "marker": {
          "color": "#B6E880",
          "symbol": "circle"
         },
         "mode": "markers",
         "name": "2019-04-09",
         "showlegend": true,
         "type": "scattergl",
         "x": [
          -4.791427711692356
         ],
         "xaxis": "x",
         "y": [
          2.9516614699786645
         ],
         "yaxis": "y"
        },
        {
         "hovertemplate": "date=2019-04-10<br>pc1=%{x}<br>pc2=%{y}<extra></extra>",
         "legendgroup": "2019-04-10",
         "marker": {
          "color": "#FF97FF",
          "symbol": "circle"
         },
         "mode": "markers",
         "name": "2019-04-10",
         "showlegend": true,
         "type": "scattergl",
         "x": [
          1.281558741803751
         ],
         "xaxis": "x",
         "y": [
          6.633337068988034
         ],
         "yaxis": "y"
        },
        {
         "hovertemplate": "date=2019-04-11<br>pc1=%{x}<br>pc2=%{y}<extra></extra>",
         "legendgroup": "2019-04-11",
         "marker": {
          "color": "#FECB52",
          "symbol": "circle"
         },
         "mode": "markers",
         "name": "2019-04-11",
         "showlegend": true,
         "type": "scattergl",
         "x": [
          -2.7987576146441677
         ],
         "xaxis": "x",
         "y": [
          4.693046837369398
         ],
         "yaxis": "y"
        },
        {
         "hovertemplate": "date=2019-04-12<br>pc1=%{x}<br>pc2=%{y}<extra></extra>",
         "legendgroup": "2019-04-12",
         "marker": {
          "color": "#636efa",
          "symbol": "circle"
         },
         "mode": "markers",
         "name": "2019-04-12",
         "showlegend": true,
         "type": "scattergl",
         "x": [
          -3.513113252395138
         ],
         "xaxis": "x",
         "y": [
          6.883165734951624
         ],
         "yaxis": "y"
        },
        {
         "hovertemplate": "date=2019-04-13<br>pc1=%{x}<br>pc2=%{y}<extra></extra>",
         "legendgroup": "2019-04-13",
         "marker": {
          "color": "#EF553B",
          "symbol": "circle"
         },
         "mode": "markers",
         "name": "2019-04-13",
         "showlegend": true,
         "type": "scattergl",
         "x": [
          7.690513311347336
         ],
         "xaxis": "x",
         "y": [
          3.1445579893898388
         ],
         "yaxis": "y"
        },
        {
         "hovertemplate": "date=2019-04-14<br>pc1=%{x}<br>pc2=%{y}<extra></extra>",
         "legendgroup": "2019-04-14",
         "marker": {
          "color": "#00cc96",
          "symbol": "circle"
         },
         "mode": "markers",
         "name": "2019-04-14",
         "showlegend": true,
         "type": "scattergl",
         "x": [
          18.72892562889776
         ],
         "xaxis": "x",
         "y": [
          -9.790239770374768
         ],
         "yaxis": "y"
        },
        {
         "hovertemplate": "date=2019-04-15<br>pc1=%{x}<br>pc2=%{y}<extra></extra>",
         "legendgroup": "2019-04-15",
         "marker": {
          "color": "#ab63fa",
          "symbol": "circle"
         },
         "mode": "markers",
         "name": "2019-04-15",
         "showlegend": true,
         "type": "scattergl",
         "x": [
          -3.3386603439684936
         ],
         "xaxis": "x",
         "y": [
          5.124135623776464
         ],
         "yaxis": "y"
        },
        {
         "hovertemplate": "date=2019-04-16<br>pc1=%{x}<br>pc2=%{y}<extra></extra>",
         "legendgroup": "2019-04-16",
         "marker": {
          "color": "#FFA15A",
          "symbol": "circle"
         },
         "mode": "markers",
         "name": "2019-04-16",
         "showlegend": true,
         "type": "scattergl",
         "x": [
          -2.233187542147212
         ],
         "xaxis": "x",
         "y": [
          9.197856725292056
         ],
         "yaxis": "y"
        },
        {
         "hovertemplate": "date=2019-04-17<br>pc1=%{x}<br>pc2=%{y}<extra></extra>",
         "legendgroup": "2019-04-17",
         "marker": {
          "color": "#19d3f3",
          "symbol": "circle"
         },
         "mode": "markers",
         "name": "2019-04-17",
         "showlegend": true,
         "type": "scattergl",
         "x": [
          -2.3466535738926466
         ],
         "xaxis": "x",
         "y": [
          9.268783963312565
         ],
         "yaxis": "y"
        },
        {
         "hovertemplate": "date=2019-04-18<br>pc1=%{x}<br>pc2=%{y}<extra></extra>",
         "legendgroup": "2019-04-18",
         "marker": {
          "color": "#FF6692",
          "symbol": "circle"
         },
         "mode": "markers",
         "name": "2019-04-18",
         "showlegend": true,
         "type": "scattergl",
         "x": [
          2.3387161418303983
         ],
         "xaxis": "x",
         "y": [
          5.949793858027366
         ],
         "yaxis": "y"
        },
        {
         "hovertemplate": "date=2019-04-19<br>pc1=%{x}<br>pc2=%{y}<extra></extra>",
         "legendgroup": "2019-04-19",
         "marker": {
          "color": "#B6E880",
          "symbol": "circle"
         },
         "mode": "markers",
         "name": "2019-04-19",
         "showlegend": true,
         "type": "scattergl",
         "x": [
          4.700899089005491
         ],
         "xaxis": "x",
         "y": [
          -1.6046782812766582
         ],
         "yaxis": "y"
        },
        {
         "hovertemplate": "date=2019-04-20<br>pc1=%{x}<br>pc2=%{y}<extra></extra>",
         "legendgroup": "2019-04-20",
         "marker": {
          "color": "#FF97FF",
          "symbol": "circle"
         },
         "mode": "markers",
         "name": "2019-04-20",
         "showlegend": true,
         "type": "scattergl",
         "x": [
          7.434391999749643
         ],
         "xaxis": "x",
         "y": [
          -2.578573586352733
         ],
         "yaxis": "y"
        },
        {
         "hovertemplate": "date=2019-04-21<br>pc1=%{x}<br>pc2=%{y}<extra></extra>",
         "legendgroup": "2019-04-21",
         "marker": {
          "color": "#FECB52",
          "symbol": "circle"
         },
         "mode": "markers",
         "name": "2019-04-21",
         "showlegend": true,
         "type": "scattergl",
         "x": [
          12.848478735975991
         ],
         "xaxis": "x",
         "y": [
          -1.295680160373028
         ],
         "yaxis": "y"
        },
        {
         "hovertemplate": "date=2019-04-22<br>pc1=%{x}<br>pc2=%{y}<extra></extra>",
         "legendgroup": "2019-04-22",
         "marker": {
          "color": "#636efa",
          "symbol": "circle"
         },
         "mode": "markers",
         "name": "2019-04-22",
         "showlegend": true,
         "type": "scattergl",
         "x": [
          -4.674969310174111
         ],
         "xaxis": "x",
         "y": [
          4.148112586457651
         ],
         "yaxis": "y"
        },
        {
         "hovertemplate": "date=2019-04-23<br>pc1=%{x}<br>pc2=%{y}<extra></extra>",
         "legendgroup": "2019-04-23",
         "marker": {
          "color": "#EF553B",
          "symbol": "circle"
         },
         "mode": "markers",
         "name": "2019-04-23",
         "showlegend": true,
         "type": "scattergl",
         "x": [
          -1.2233537742512783
         ],
         "xaxis": "x",
         "y": [
          8.464931837428843
         ],
         "yaxis": "y"
        },
        {
         "hovertemplate": "date=2019-04-24<br>pc1=%{x}<br>pc2=%{y}<extra></extra>",
         "legendgroup": "2019-04-24",
         "marker": {
          "color": "#00cc96",
          "symbol": "circle"
         },
         "mode": "markers",
         "name": "2019-04-24",
         "showlegend": true,
         "type": "scattergl",
         "x": [
          -3.5191116970102696
         ],
         "xaxis": "x",
         "y": [
          10.349962713300501
         ],
         "yaxis": "y"
        },
        {
         "hovertemplate": "date=2019-04-25<br>pc1=%{x}<br>pc2=%{y}<extra></extra>",
         "legendgroup": "2019-04-25",
         "marker": {
          "color": "#ab63fa",
          "symbol": "circle"
         },
         "mode": "markers",
         "name": "2019-04-25",
         "showlegend": true,
         "type": "scattergl",
         "x": [
          -7.691853459075566
         ],
         "xaxis": "x",
         "y": [
          5.892885273058725
         ],
         "yaxis": "y"
        },
        {
         "hovertemplate": "date=2019-04-26<br>pc1=%{x}<br>pc2=%{y}<extra></extra>",
         "legendgroup": "2019-04-26",
         "marker": {
          "color": "#FFA15A",
          "symbol": "circle"
         },
         "mode": "markers",
         "name": "2019-04-26",
         "showlegend": true,
         "type": "scattergl",
         "x": [
          -3.8788843639345627
         ],
         "xaxis": "x",
         "y": [
          6.565065621270895
         ],
         "yaxis": "y"
        },
        {
         "hovertemplate": "date=2019-04-27<br>pc1=%{x}<br>pc2=%{y}<extra></extra>",
         "legendgroup": "2019-04-27",
         "marker": {
          "color": "#19d3f3",
          "symbol": "circle"
         },
         "mode": "markers",
         "name": "2019-04-27",
         "showlegend": true,
         "type": "scattergl",
         "x": [
          18.91646608460055
         ],
         "xaxis": "x",
         "y": [
          -3.8406512172320717
         ],
         "yaxis": "y"
        },
        {
         "hovertemplate": "date=2019-04-28<br>pc1=%{x}<br>pc2=%{y}<extra></extra>",
         "legendgroup": "2019-04-28",
         "marker": {
          "color": "#FF6692",
          "symbol": "circle"
         },
         "mode": "markers",
         "name": "2019-04-28",
         "showlegend": true,
         "type": "scattergl",
         "x": [
          13.456794429340448
         ],
         "xaxis": "x",
         "y": [
          -1.600533980571227
         ],
         "yaxis": "y"
        },
        {
         "hovertemplate": "date=2019-04-29<br>pc1=%{x}<br>pc2=%{y}<extra></extra>",
         "legendgroup": "2019-04-29",
         "marker": {
          "color": "#B6E880",
          "symbol": "circle"
         },
         "mode": "markers",
         "name": "2019-04-29",
         "showlegend": true,
         "type": "scattergl",
         "x": [
          -2.8238007565276644
         ],
         "xaxis": "x",
         "y": [
          2.500938876761584
         ],
         "yaxis": "y"
        },
        {
         "hovertemplate": "date=2019-04-30<br>pc1=%{x}<br>pc2=%{y}<extra></extra>",
         "legendgroup": "2019-04-30",
         "marker": {
          "color": "#FF97FF",
          "symbol": "circle"
         },
         "mode": "markers",
         "name": "2019-04-30",
         "showlegend": true,
         "type": "scattergl",
         "x": [
          0.07516180468910884
         ],
         "xaxis": "x",
         "y": [
          6.111924425299032
         ],
         "yaxis": "y"
        },
        {
         "hovertemplate": "date=2019-05-01<br>pc1=%{x}<br>pc2=%{y}<extra></extra>",
         "legendgroup": "2019-05-01",
         "marker": {
          "color": "#FECB52",
          "symbol": "circle"
         },
         "mode": "markers",
         "name": "2019-05-01",
         "showlegend": true,
         "type": "scattergl",
         "x": [
          -4.2535339747038625
         ],
         "xaxis": "x",
         "y": [
          5.156559564169167
         ],
         "yaxis": "y"
        },
        {
         "hovertemplate": "date=2019-05-02<br>pc1=%{x}<br>pc2=%{y}<extra></extra>",
         "legendgroup": "2019-05-02",
         "marker": {
          "color": "#636efa",
          "symbol": "circle"
         },
         "mode": "markers",
         "name": "2019-05-02",
         "showlegend": true,
         "type": "scattergl",
         "x": [
          -1.4940471359229417
         ],
         "xaxis": "x",
         "y": [
          4.916820750580549
         ],
         "yaxis": "y"
        },
        {
         "hovertemplate": "date=2019-05-03<br>pc1=%{x}<br>pc2=%{y}<extra></extra>",
         "legendgroup": "2019-05-03",
         "marker": {
          "color": "#EF553B",
          "symbol": "circle"
         },
         "mode": "markers",
         "name": "2019-05-03",
         "showlegend": true,
         "type": "scattergl",
         "x": [
          -4.124672376758463
         ],
         "xaxis": "x",
         "y": [
          6.0276967097878895
         ],
         "yaxis": "y"
        },
        {
         "hovertemplate": "date=2019-05-04<br>pc1=%{x}<br>pc2=%{y}<extra></extra>",
         "legendgroup": "2019-05-04",
         "marker": {
          "color": "#00cc96",
          "symbol": "circle"
         },
         "mode": "markers",
         "name": "2019-05-04",
         "showlegend": true,
         "type": "scattergl",
         "x": [
          6.08469306711235
         ],
         "xaxis": "x",
         "y": [
          -4.617791627411835
         ],
         "yaxis": "y"
        },
        {
         "hovertemplate": "date=2019-05-05<br>pc1=%{x}<br>pc2=%{y}<extra></extra>",
         "legendgroup": "2019-05-05",
         "marker": {
          "color": "#ab63fa",
          "symbol": "circle"
         },
         "mode": "markers",
         "name": "2019-05-05",
         "showlegend": true,
         "type": "scattergl",
         "x": [
          6.643071149438481
         ],
         "xaxis": "x",
         "y": [
          -11.639939349686571
         ],
         "yaxis": "y"
        },
        {
         "hovertemplate": "date=2019-05-06<br>pc1=%{x}<br>pc2=%{y}<extra></extra>",
         "legendgroup": "2019-05-06",
         "marker": {
          "color": "#FFA15A",
          "symbol": "circle"
         },
         "mode": "markers",
         "name": "2019-05-06",
         "showlegend": true,
         "type": "scattergl",
         "x": [
          -1.2040824930994876
         ],
         "xaxis": "x",
         "y": [
          8.335648215818479
         ],
         "yaxis": "y"
        },
        {
         "hovertemplate": "date=2019-05-07<br>pc1=%{x}<br>pc2=%{y}<extra></extra>",
         "legendgroup": "2019-05-07",
         "marker": {
          "color": "#19d3f3",
          "symbol": "circle"
         },
         "mode": "markers",
         "name": "2019-05-07",
         "showlegend": true,
         "type": "scattergl",
         "x": [
          -1.1837953554443095
         ],
         "xaxis": "x",
         "y": [
          3.2193654802608545
         ],
         "yaxis": "y"
        },
        {
         "hovertemplate": "date=2019-05-08<br>pc1=%{x}<br>pc2=%{y}<extra></extra>",
         "legendgroup": "2019-05-08",
         "marker": {
          "color": "#FF6692",
          "symbol": "circle"
         },
         "mode": "markers",
         "name": "2019-05-08",
         "showlegend": true,
         "type": "scattergl",
         "x": [
          -0.28911466230783983
         ],
         "xaxis": "x",
         "y": [
          10.704186343658455
         ],
         "yaxis": "y"
        },
        {
         "hovertemplate": "date=2019-05-09<br>pc1=%{x}<br>pc2=%{y}<extra></extra>",
         "legendgroup": "2019-05-09",
         "marker": {
          "color": "#B6E880",
          "symbol": "circle"
         },
         "mode": "markers",
         "name": "2019-05-09",
         "showlegend": true,
         "type": "scattergl",
         "x": [
          -2.5571884877189235
         ],
         "xaxis": "x",
         "y": [
          7.55835210520311
         ],
         "yaxis": "y"
        },
        {
         "hovertemplate": "date=2019-05-10<br>pc1=%{x}<br>pc2=%{y}<extra></extra>",
         "legendgroup": "2019-05-10",
         "marker": {
          "color": "#FF97FF",
          "symbol": "circle"
         },
         "mode": "markers",
         "name": "2019-05-10",
         "showlegend": true,
         "type": "scattergl",
         "x": [
          -5.470520713731768
         ],
         "xaxis": "x",
         "y": [
          3.7918741149822788
         ],
         "yaxis": "y"
        },
        {
         "hovertemplate": "date=2019-05-11<br>pc1=%{x}<br>pc2=%{y}<extra></extra>",
         "legendgroup": "2019-05-11",
         "marker": {
          "color": "#FECB52",
          "symbol": "circle"
         },
         "mode": "markers",
         "name": "2019-05-11",
         "showlegend": true,
         "type": "scattergl",
         "x": [
          10.410770554205268
         ],
         "xaxis": "x",
         "y": [
          -3.5975475722829855
         ],
         "yaxis": "y"
        },
        {
         "hovertemplate": "date=2019-05-12<br>pc1=%{x}<br>pc2=%{y}<extra></extra>",
         "legendgroup": "2019-05-12",
         "marker": {
          "color": "#636efa",
          "symbol": "circle"
         },
         "mode": "markers",
         "name": "2019-05-12",
         "showlegend": true,
         "type": "scattergl",
         "x": [
          13.27339718383503
         ],
         "xaxis": "x",
         "y": [
          -8.811826348762532
         ],
         "yaxis": "y"
        },
        {
         "hovertemplate": "date=2019-05-13<br>pc1=%{x}<br>pc2=%{y}<extra></extra>",
         "legendgroup": "2019-05-13",
         "marker": {
          "color": "#EF553B",
          "symbol": "circle"
         },
         "mode": "markers",
         "name": "2019-05-13",
         "showlegend": true,
         "type": "scattergl",
         "x": [
          -1.4151134332403392
         ],
         "xaxis": "x",
         "y": [
          8.683234507348459
         ],
         "yaxis": "y"
        },
        {
         "hovertemplate": "date=2019-05-14<br>pc1=%{x}<br>pc2=%{y}<extra></extra>",
         "legendgroup": "2019-05-14",
         "marker": {
          "color": "#00cc96",
          "symbol": "circle"
         },
         "mode": "markers",
         "name": "2019-05-14",
         "showlegend": true,
         "type": "scattergl",
         "x": [
          -1.8070445435368487
         ],
         "xaxis": "x",
         "y": [
          8.05311202781002
         ],
         "yaxis": "y"
        },
        {
         "hovertemplate": "date=2019-05-15<br>pc1=%{x}<br>pc2=%{y}<extra></extra>",
         "legendgroup": "2019-05-15",
         "marker": {
          "color": "#ab63fa",
          "symbol": "circle"
         },
         "mode": "markers",
         "name": "2019-05-15",
         "showlegend": true,
         "type": "scattergl",
         "x": [
          -5.101000206810108
         ],
         "xaxis": "x",
         "y": [
          5.211097587190944
         ],
         "yaxis": "y"
        },
        {
         "hovertemplate": "date=2019-05-16<br>pc1=%{x}<br>pc2=%{y}<extra></extra>",
         "legendgroup": "2019-05-16",
         "marker": {
          "color": "#FFA15A",
          "symbol": "circle"
         },
         "mode": "markers",
         "name": "2019-05-16",
         "showlegend": true,
         "type": "scattergl",
         "x": [
          -0.32576192733850856
         ],
         "xaxis": "x",
         "y": [
          6.642390328658277
         ],
         "yaxis": "y"
        },
        {
         "hovertemplate": "date=2019-05-17<br>pc1=%{x}<br>pc2=%{y}<extra></extra>",
         "legendgroup": "2019-05-17",
         "marker": {
          "color": "#19d3f3",
          "symbol": "circle"
         },
         "mode": "markers",
         "name": "2019-05-17",
         "showlegend": true,
         "type": "scattergl",
         "x": [
          -2.871822635566774
         ],
         "xaxis": "x",
         "y": [
          -1.8360345860677505
         ],
         "yaxis": "y"
        },
        {
         "hovertemplate": "date=2019-05-18<br>pc1=%{x}<br>pc2=%{y}<extra></extra>",
         "legendgroup": "2019-05-18",
         "marker": {
          "color": "#FF6692",
          "symbol": "circle"
         },
         "mode": "markers",
         "name": "2019-05-18",
         "showlegend": true,
         "type": "scattergl",
         "x": [
          9.667921820288734
         ],
         "xaxis": "x",
         "y": [
          -2.800721253705928
         ],
         "yaxis": "y"
        },
        {
         "hovertemplate": "date=2019-05-19<br>pc1=%{x}<br>pc2=%{y}<extra></extra>",
         "legendgroup": "2019-05-19",
         "marker": {
          "color": "#B6E880",
          "symbol": "circle"
         },
         "mode": "markers",
         "name": "2019-05-19",
         "showlegend": true,
         "type": "scattergl",
         "x": [
          14.048751602726574
         ],
         "xaxis": "x",
         "y": [
          -3.0210071849345215
         ],
         "yaxis": "y"
        },
        {
         "hovertemplate": "date=2019-05-20<br>pc1=%{x}<br>pc2=%{y}<extra></extra>",
         "legendgroup": "2019-05-20",
         "marker": {
          "color": "#FF97FF",
          "symbol": "circle"
         },
         "mode": "markers",
         "name": "2019-05-20",
         "showlegend": true,
         "type": "scattergl",
         "x": [
          -6.705127968351425
         ],
         "xaxis": "x",
         "y": [
          2.551422339927355
         ],
         "yaxis": "y"
        },
        {
         "hovertemplate": "date=2019-05-21<br>pc1=%{x}<br>pc2=%{y}<extra></extra>",
         "legendgroup": "2019-05-21",
         "marker": {
          "color": "#FECB52",
          "symbol": "circle"
         },
         "mode": "markers",
         "name": "2019-05-21",
         "showlegend": true,
         "type": "scattergl",
         "x": [
          0.9494627170725153
         ],
         "xaxis": "x",
         "y": [
          7.9040796539208715
         ],
         "yaxis": "y"
        },
        {
         "hovertemplate": "date=2019-05-22<br>pc1=%{x}<br>pc2=%{y}<extra></extra>",
         "legendgroup": "2019-05-22",
         "marker": {
          "color": "#636efa",
          "symbol": "circle"
         },
         "mode": "markers",
         "name": "2019-05-22",
         "showlegend": true,
         "type": "scattergl",
         "x": [
          -4.44527531086403
         ],
         "xaxis": "x",
         "y": [
          7.908036266758493
         ],
         "yaxis": "y"
        },
        {
         "hovertemplate": "date=2019-05-23<br>pc1=%{x}<br>pc2=%{y}<extra></extra>",
         "legendgroup": "2019-05-23",
         "marker": {
          "color": "#EF553B",
          "symbol": "circle"
         },
         "mode": "markers",
         "name": "2019-05-23",
         "showlegend": true,
         "type": "scattergl",
         "x": [
          -9.023202873946376
         ],
         "xaxis": "x",
         "y": [
          0.5651412122166702
         ],
         "yaxis": "y"
        },
        {
         "hovertemplate": "date=2019-05-24<br>pc1=%{x}<br>pc2=%{y}<extra></extra>",
         "legendgroup": "2019-05-24",
         "marker": {
          "color": "#00cc96",
          "symbol": "circle"
         },
         "mode": "markers",
         "name": "2019-05-24",
         "showlegend": true,
         "type": "scattergl",
         "x": [
          -4.5262568825359075
         ],
         "xaxis": "x",
         "y": [
          7.077522309753592
         ],
         "yaxis": "y"
        },
        {
         "hovertemplate": "date=2019-05-25<br>pc1=%{x}<br>pc2=%{y}<extra></extra>",
         "legendgroup": "2019-05-25",
         "marker": {
          "color": "#ab63fa",
          "symbol": "circle"
         },
         "mode": "markers",
         "name": "2019-05-25",
         "showlegend": true,
         "type": "scattergl",
         "x": [
          -0.3528143034663809
         ],
         "xaxis": "x",
         "y": [
          1.6897977874796348
         ],
         "yaxis": "y"
        },
        {
         "hovertemplate": "date=2019-05-26<br>pc1=%{x}<br>pc2=%{y}<extra></extra>",
         "legendgroup": "2019-05-26",
         "marker": {
          "color": "#FFA15A",
          "symbol": "circle"
         },
         "mode": "markers",
         "name": "2019-05-26",
         "showlegend": true,
         "type": "scattergl",
         "x": [
          4.06998177005526
         ],
         "xaxis": "x",
         "y": [
          3.008483919360148
         ],
         "yaxis": "y"
        },
        {
         "hovertemplate": "date=2019-05-27<br>pc1=%{x}<br>pc2=%{y}<extra></extra>",
         "legendgroup": "2019-05-27",
         "marker": {
          "color": "#19d3f3",
          "symbol": "circle"
         },
         "mode": "markers",
         "name": "2019-05-27",
         "showlegend": true,
         "type": "scattergl",
         "x": [
          41.34953462754633
         ],
         "xaxis": "x",
         "y": [
          -21.21615194092138
         ],
         "yaxis": "y"
        },
        {
         "hovertemplate": "date=2019-05-28<br>pc1=%{x}<br>pc2=%{y}<extra></extra>",
         "legendgroup": "2019-05-28",
         "marker": {
          "color": "#FF6692",
          "symbol": "circle"
         },
         "mode": "markers",
         "name": "2019-05-28",
         "showlegend": true,
         "type": "scattergl",
         "x": [
          -9.585673883082281
         ],
         "xaxis": "x",
         "y": [
          -0.020372502421217416
         ],
         "yaxis": "y"
        },
        {
         "hovertemplate": "date=2019-05-29<br>pc1=%{x}<br>pc2=%{y}<extra></extra>",
         "legendgroup": "2019-05-29",
         "marker": {
          "color": "#B6E880",
          "symbol": "circle"
         },
         "mode": "markers",
         "name": "2019-05-29",
         "showlegend": true,
         "type": "scattergl",
         "x": [
          -6.561617891989457
         ],
         "xaxis": "x",
         "y": [
          12.916028675775086
         ],
         "yaxis": "y"
        },
        {
         "hovertemplate": "date=2019-05-30<br>pc1=%{x}<br>pc2=%{y}<extra></extra>",
         "legendgroup": "2019-05-30",
         "marker": {
          "color": "#FF97FF",
          "symbol": "circle"
         },
         "mode": "markers",
         "name": "2019-05-30",
         "showlegend": true,
         "type": "scattergl",
         "x": [
          -12.74747612316312
         ],
         "xaxis": "x",
         "y": [
          7.738399213668495
         ],
         "yaxis": "y"
        },
        {
         "hovertemplate": "date=2019-05-31<br>pc1=%{x}<br>pc2=%{y}<extra></extra>",
         "legendgroup": "2019-05-31",
         "marker": {
          "color": "#FECB52",
          "symbol": "circle"
         },
         "mode": "markers",
         "name": "2019-05-31",
         "showlegend": true,
         "type": "scattergl",
         "x": [
          -5.883585918102454
         ],
         "xaxis": "x",
         "y": [
          6.403692036861996
         ],
         "yaxis": "y"
        },
        {
         "hovertemplate": "date=2019-06-01<br>pc1=%{x}<br>pc2=%{y}<extra></extra>",
         "legendgroup": "2019-06-01",
         "marker": {
          "color": "#636efa",
          "symbol": "circle"
         },
         "mode": "markers",
         "name": "2019-06-01",
         "showlegend": true,
         "type": "scattergl",
         "x": [
          12.810772060379513
         ],
         "xaxis": "x",
         "y": [
          -3.809702872701441
         ],
         "yaxis": "y"
        },
        {
         "hovertemplate": "date=2019-06-02<br>pc1=%{x}<br>pc2=%{y}<extra></extra>",
         "legendgroup": "2019-06-02",
         "marker": {
          "color": "#EF553B",
          "symbol": "circle"
         },
         "mode": "markers",
         "name": "2019-06-02",
         "showlegend": true,
         "type": "scattergl",
         "x": [
          8.973580929964406
         ],
         "xaxis": "x",
         "y": [
          -10.377618048866381
         ],
         "yaxis": "y"
        },
        {
         "hovertemplate": "date=2019-06-03<br>pc1=%{x}<br>pc2=%{y}<extra></extra>",
         "legendgroup": "2019-06-03",
         "marker": {
          "color": "#00cc96",
          "symbol": "circle"
         },
         "mode": "markers",
         "name": "2019-06-03",
         "showlegend": true,
         "type": "scattergl",
         "x": [
          -5.936396676391163
         ],
         "xaxis": "x",
         "y": [
          3.445646648063446
         ],
         "yaxis": "y"
        },
        {
         "hovertemplate": "date=2019-06-04<br>pc1=%{x}<br>pc2=%{y}<extra></extra>",
         "legendgroup": "2019-06-04",
         "marker": {
          "color": "#ab63fa",
          "symbol": "circle"
         },
         "mode": "markers",
         "name": "2019-06-04",
         "showlegend": true,
         "type": "scattergl",
         "x": [
          0.007208787548443351
         ],
         "xaxis": "x",
         "y": [
          8.45584127819334
         ],
         "yaxis": "y"
        },
        {
         "hovertemplate": "date=2019-06-05<br>pc1=%{x}<br>pc2=%{y}<extra></extra>",
         "legendgroup": "2019-06-05",
         "marker": {
          "color": "#FFA15A",
          "symbol": "circle"
         },
         "mode": "markers",
         "name": "2019-06-05",
         "showlegend": true,
         "type": "scattergl",
         "x": [
          -4.925319497088902
         ],
         "xaxis": "x",
         "y": [
          2.9245028698916364
         ],
         "yaxis": "y"
        },
        {
         "hovertemplate": "date=2019-06-06<br>pc1=%{x}<br>pc2=%{y}<extra></extra>",
         "legendgroup": "2019-06-06",
         "marker": {
          "color": "#19d3f3",
          "symbol": "circle"
         },
         "mode": "markers",
         "name": "2019-06-06",
         "showlegend": true,
         "type": "scattergl",
         "x": [
          -2.4929804294124778
         ],
         "xaxis": "x",
         "y": [
          3.884848055558421
         ],
         "yaxis": "y"
        },
        {
         "hovertemplate": "date=2019-06-07<br>pc1=%{x}<br>pc2=%{y}<extra></extra>",
         "legendgroup": "2019-06-07",
         "marker": {
          "color": "#FF6692",
          "symbol": "circle"
         },
         "mode": "markers",
         "name": "2019-06-07",
         "showlegend": true,
         "type": "scattergl",
         "x": [
          -2.7964455852980357
         ],
         "xaxis": "x",
         "y": [
          5.0153687722704
         ],
         "yaxis": "y"
        },
        {
         "hovertemplate": "date=2019-06-08<br>pc1=%{x}<br>pc2=%{y}<extra></extra>",
         "legendgroup": "2019-06-08",
         "marker": {
          "color": "#B6E880",
          "symbol": "circle"
         },
         "mode": "markers",
         "name": "2019-06-08",
         "showlegend": true,
         "type": "scattergl",
         "x": [
          2.961939210600007
         ],
         "xaxis": "x",
         "y": [
          -6.099407693238658
         ],
         "yaxis": "y"
        },
        {
         "hovertemplate": "date=2019-06-09<br>pc1=%{x}<br>pc2=%{y}<extra></extra>",
         "legendgroup": "2019-06-09",
         "marker": {
          "color": "#FF97FF",
          "symbol": "circle"
         },
         "mode": "markers",
         "name": "2019-06-09",
         "showlegend": true,
         "type": "scattergl",
         "x": [
          13.484129166003642
         ],
         "xaxis": "x",
         "y": [
          -3.821442773570515
         ],
         "yaxis": "y"
        },
        {
         "hovertemplate": "date=2019-06-10<br>pc1=%{x}<br>pc2=%{y}<extra></extra>",
         "legendgroup": "2019-06-10",
         "marker": {
          "color": "#FECB52",
          "symbol": "circle"
         },
         "mode": "markers",
         "name": "2019-06-10",
         "showlegend": true,
         "type": "scattergl",
         "x": [
          -2.0978680017230578
         ],
         "xaxis": "x",
         "y": [
          5.696615060813582
         ],
         "yaxis": "y"
        },
        {
         "hovertemplate": "date=2019-06-11<br>pc1=%{x}<br>pc2=%{y}<extra></extra>",
         "legendgroup": "2019-06-11",
         "marker": {
          "color": "#636efa",
          "symbol": "circle"
         },
         "mode": "markers",
         "name": "2019-06-11",
         "showlegend": true,
         "type": "scattergl",
         "x": [
          -4.141957753271205
         ],
         "xaxis": "x",
         "y": [
          1.315994802144794
         ],
         "yaxis": "y"
        },
        {
         "hovertemplate": "date=2019-06-12<br>pc1=%{x}<br>pc2=%{y}<extra></extra>",
         "legendgroup": "2019-06-12",
         "marker": {
          "color": "#EF553B",
          "symbol": "circle"
         },
         "mode": "markers",
         "name": "2019-06-12",
         "showlegend": true,
         "type": "scattergl",
         "x": [
          1.3055411121331868
         ],
         "xaxis": "x",
         "y": [
          5.822078028158454
         ],
         "yaxis": "y"
        },
        {
         "hovertemplate": "date=2019-06-13<br>pc1=%{x}<br>pc2=%{y}<extra></extra>",
         "legendgroup": "2019-06-13",
         "marker": {
          "color": "#00cc96",
          "symbol": "circle"
         },
         "mode": "markers",
         "name": "2019-06-13",
         "showlegend": true,
         "type": "scattergl",
         "x": [
          -4.10639178753403
         ],
         "xaxis": "x",
         "y": [
          4.4630868038466485
         ],
         "yaxis": "y"
        },
        {
         "hovertemplate": "date=2019-06-14<br>pc1=%{x}<br>pc2=%{y}<extra></extra>",
         "legendgroup": "2019-06-14",
         "marker": {
          "color": "#ab63fa",
          "symbol": "circle"
         },
         "mode": "markers",
         "name": "2019-06-14",
         "showlegend": true,
         "type": "scattergl",
         "x": [
          -8.415141480927169
         ],
         "xaxis": "x",
         "y": [
          1.330035044214281
         ],
         "yaxis": "y"
        },
        {
         "hovertemplate": "date=2019-06-15<br>pc1=%{x}<br>pc2=%{y}<extra></extra>",
         "legendgroup": "2019-06-15",
         "marker": {
          "color": "#FFA15A",
          "symbol": "circle"
         },
         "mode": "markers",
         "name": "2019-06-15",
         "showlegend": true,
         "type": "scattergl",
         "x": [
          3.30757771987168
         ],
         "xaxis": "x",
         "y": [
          -13.700216955278734
         ],
         "yaxis": "y"
        },
        {
         "hovertemplate": "date=2019-06-16<br>pc1=%{x}<br>pc2=%{y}<extra></extra>",
         "legendgroup": "2019-06-16",
         "marker": {
          "color": "#19d3f3",
          "symbol": "circle"
         },
         "mode": "markers",
         "name": "2019-06-16",
         "showlegend": true,
         "type": "scattergl",
         "x": [
          10.47571515885267
         ],
         "xaxis": "x",
         "y": [
          -7.689172269819404
         ],
         "yaxis": "y"
        },
        {
         "hovertemplate": "date=2019-06-17<br>pc1=%{x}<br>pc2=%{y}<extra></extra>",
         "legendgroup": "2019-06-17",
         "marker": {
          "color": "#FF6692",
          "symbol": "circle"
         },
         "mode": "markers",
         "name": "2019-06-17",
         "showlegend": true,
         "type": "scattergl",
         "x": [
          0.440192510555645
         ],
         "xaxis": "x",
         "y": [
          5.675178615868442
         ],
         "yaxis": "y"
        },
        {
         "hovertemplate": "date=2019-06-18<br>pc1=%{x}<br>pc2=%{y}<extra></extra>",
         "legendgroup": "2019-06-18",
         "marker": {
          "color": "#B6E880",
          "symbol": "circle"
         },
         "mode": "markers",
         "name": "2019-06-18",
         "showlegend": true,
         "type": "scattergl",
         "x": [
          -2.563483605928338
         ],
         "xaxis": "x",
         "y": [
          8.053730973349321
         ],
         "yaxis": "y"
        },
        {
         "hovertemplate": "date=2019-06-19<br>pc1=%{x}<br>pc2=%{y}<extra></extra>",
         "legendgroup": "2019-06-19",
         "marker": {
          "color": "#FF97FF",
          "symbol": "circle"
         },
         "mode": "markers",
         "name": "2019-06-19",
         "showlegend": true,
         "type": "scattergl",
         "x": [
          -1.5887097409494897
         ],
         "xaxis": "x",
         "y": [
          3.231596393386344
         ],
         "yaxis": "y"
        },
        {
         "hovertemplate": "date=2019-06-20<br>pc1=%{x}<br>pc2=%{y}<extra></extra>",
         "legendgroup": "2019-06-20",
         "marker": {
          "color": "#FECB52",
          "symbol": "circle"
         },
         "mode": "markers",
         "name": "2019-06-20",
         "showlegend": true,
         "type": "scattergl",
         "x": [
          -1.1785141764797442
         ],
         "xaxis": "x",
         "y": [
          7.426686481355045
         ],
         "yaxis": "y"
        },
        {
         "hovertemplate": "date=2019-06-21<br>pc1=%{x}<br>pc2=%{y}<extra></extra>",
         "legendgroup": "2019-06-21",
         "marker": {
          "color": "#636efa",
          "symbol": "circle"
         },
         "mode": "markers",
         "name": "2019-06-21",
         "showlegend": true,
         "type": "scattergl",
         "x": [
          -0.8371034347817035
         ],
         "xaxis": "x",
         "y": [
          7.833379142297118
         ],
         "yaxis": "y"
        },
        {
         "hovertemplate": "date=2019-06-22<br>pc1=%{x}<br>pc2=%{y}<extra></extra>",
         "legendgroup": "2019-06-22",
         "marker": {
          "color": "#EF553B",
          "symbol": "circle"
         },
         "mode": "markers",
         "name": "2019-06-22",
         "showlegend": true,
         "type": "scattergl",
         "x": [
          3.197075523774632
         ],
         "xaxis": "x",
         "y": [
          -3.719691217718847
         ],
         "yaxis": "y"
        },
        {
         "hovertemplate": "date=2019-06-23<br>pc1=%{x}<br>pc2=%{y}<extra></extra>",
         "legendgroup": "2019-06-23",
         "marker": {
          "color": "#00cc96",
          "symbol": "circle"
         },
         "mode": "markers",
         "name": "2019-06-23",
         "showlegend": true,
         "type": "scattergl",
         "x": [
          13.33375668228398
         ],
         "xaxis": "x",
         "y": [
          -5.796475238401018
         ],
         "yaxis": "y"
        },
        {
         "hovertemplate": "date=2019-06-24<br>pc1=%{x}<br>pc2=%{y}<extra></extra>",
         "legendgroup": "2019-06-24",
         "marker": {
          "color": "#ab63fa",
          "symbol": "circle"
         },
         "mode": "markers",
         "name": "2019-06-24",
         "showlegend": true,
         "type": "scattergl",
         "x": [
          1.7116209053469775
         ],
         "xaxis": "x",
         "y": [
          5.102256938305454
         ],
         "yaxis": "y"
        },
        {
         "hovertemplate": "date=2019-06-25<br>pc1=%{x}<br>pc2=%{y}<extra></extra>",
         "legendgroup": "2019-06-25",
         "marker": {
          "color": "#FFA15A",
          "symbol": "circle"
         },
         "mode": "markers",
         "name": "2019-06-25",
         "showlegend": true,
         "type": "scattergl",
         "x": [
          -7.2676729569160115
         ],
         "xaxis": "x",
         "y": [
          -0.2595363697680132
         ],
         "yaxis": "y"
        },
        {
         "hovertemplate": "date=2019-06-26<br>pc1=%{x}<br>pc2=%{y}<extra></extra>",
         "legendgroup": "2019-06-26",
         "marker": {
          "color": "#19d3f3",
          "symbol": "circle"
         },
         "mode": "markers",
         "name": "2019-06-26",
         "showlegend": true,
         "type": "scattergl",
         "x": [
          -5.938588971779222
         ],
         "xaxis": "x",
         "y": [
          1.6254947634236796
         ],
         "yaxis": "y"
        },
        {
         "hovertemplate": "date=2019-06-27<br>pc1=%{x}<br>pc2=%{y}<extra></extra>",
         "legendgroup": "2019-06-27",
         "marker": {
          "color": "#FF6692",
          "symbol": "circle"
         },
         "mode": "markers",
         "name": "2019-06-27",
         "showlegend": true,
         "type": "scattergl",
         "x": [
          -2.1457148375485047
         ],
         "xaxis": "x",
         "y": [
          1.1774873265859742
         ],
         "yaxis": "y"
        },
        {
         "hovertemplate": "date=2019-06-28<br>pc1=%{x}<br>pc2=%{y}<extra></extra>",
         "legendgroup": "2019-06-28",
         "marker": {
          "color": "#B6E880",
          "symbol": "circle"
         },
         "mode": "markers",
         "name": "2019-06-28",
         "showlegend": true,
         "type": "scattergl",
         "x": [
          -1.0907844539000764
         ],
         "xaxis": "x",
         "y": [
          -4.406955668822515
         ],
         "yaxis": "y"
        },
        {
         "hovertemplate": "date=2019-06-29<br>pc1=%{x}<br>pc2=%{y}<extra></extra>",
         "legendgroup": "2019-06-29",
         "marker": {
          "color": "#FF97FF",
          "symbol": "circle"
         },
         "mode": "markers",
         "name": "2019-06-29",
         "showlegend": true,
         "type": "scattergl",
         "x": [
          7.4274656694570895
         ],
         "xaxis": "x",
         "y": [
          -2.9811011131695038
         ],
         "yaxis": "y"
        },
        {
         "hovertemplate": "date=2019-06-30<br>pc1=%{x}<br>pc2=%{y}<extra></extra>",
         "legendgroup": "2019-06-30",
         "marker": {
          "color": "#FECB52",
          "symbol": "circle"
         },
         "mode": "markers",
         "name": "2019-06-30",
         "showlegend": true,
         "type": "scattergl",
         "x": [
          -3.5765440847390413
         ],
         "xaxis": "x",
         "y": [
          1.347076141738255
         ],
         "yaxis": "y"
        },
        {
         "hovertemplate": "date=2019-07-01<br>pc1=%{x}<br>pc2=%{y}<extra></extra>",
         "legendgroup": "2019-07-01",
         "marker": {
          "color": "#636efa",
          "symbol": "circle"
         },
         "mode": "markers",
         "name": "2019-07-01",
         "showlegend": true,
         "type": "scattergl",
         "x": [
          -12.26917376358007
         ],
         "xaxis": "x",
         "y": [
          -1.0375090902363622
         ],
         "yaxis": "y"
        },
        {
         "hovertemplate": "date=2019-07-02<br>pc1=%{x}<br>pc2=%{y}<extra></extra>",
         "legendgroup": "2019-07-02",
         "marker": {
          "color": "#EF553B",
          "symbol": "circle"
         },
         "mode": "markers",
         "name": "2019-07-02",
         "showlegend": true,
         "type": "scattergl",
         "x": [
          -7.4971834206246655
         ],
         "xaxis": "x",
         "y": [
          5.8201049058376
         ],
         "yaxis": "y"
        },
        {
         "hovertemplate": "date=2019-07-03<br>pc1=%{x}<br>pc2=%{y}<extra></extra>",
         "legendgroup": "2019-07-03",
         "marker": {
          "color": "#00cc96",
          "symbol": "circle"
         },
         "mode": "markers",
         "name": "2019-07-03",
         "showlegend": true,
         "type": "scattergl",
         "x": [
          -10.180480928028114
         ],
         "xaxis": "x",
         "y": [
          4.502972386769137
         ],
         "yaxis": "y"
        },
        {
         "hovertemplate": "date=2019-07-04<br>pc1=%{x}<br>pc2=%{y}<extra></extra>",
         "legendgroup": "2019-07-04",
         "marker": {
          "color": "#ab63fa",
          "symbol": "circle"
         },
         "mode": "markers",
         "name": "2019-07-04",
         "showlegend": true,
         "type": "scattergl",
         "x": [
          26.654731552753354
         ],
         "xaxis": "x",
         "y": [
          -21.621145186896893
         ],
         "yaxis": "y"
        },
        {
         "hovertemplate": "date=2019-07-05<br>pc1=%{x}<br>pc2=%{y}<extra></extra>",
         "legendgroup": "2019-07-05",
         "marker": {
          "color": "#FFA15A",
          "symbol": "circle"
         },
         "mode": "markers",
         "name": "2019-07-05",
         "showlegend": true,
         "type": "scattergl",
         "x": [
          11.236602252737011
         ],
         "xaxis": "x",
         "y": [
          -4.732205202814985
         ],
         "yaxis": "y"
        },
        {
         "hovertemplate": "date=2019-07-06<br>pc1=%{x}<br>pc2=%{y}<extra></extra>",
         "legendgroup": "2019-07-06",
         "marker": {
          "color": "#19d3f3",
          "symbol": "circle"
         },
         "mode": "markers",
         "name": "2019-07-06",
         "showlegend": true,
         "type": "scattergl",
         "x": [
          1.7106544077613002
         ],
         "xaxis": "x",
         "y": [
          3.5108670809101667
         ],
         "yaxis": "y"
        },
        {
         "hovertemplate": "date=2019-07-07<br>pc1=%{x}<br>pc2=%{y}<extra></extra>",
         "legendgroup": "2019-07-07",
         "marker": {
          "color": "#FF6692",
          "symbol": "circle"
         },
         "mode": "markers",
         "name": "2019-07-07",
         "showlegend": true,
         "type": "scattergl",
         "x": [
          -0.7771373191209965
         ],
         "xaxis": "x",
         "y": [
          -0.48507417913077655
         ],
         "yaxis": "y"
        },
        {
         "hovertemplate": "date=2019-07-08<br>pc1=%{x}<br>pc2=%{y}<extra></extra>",
         "legendgroup": "2019-07-08",
         "marker": {
          "color": "#B6E880",
          "symbol": "circle"
         },
         "mode": "markers",
         "name": "2019-07-08",
         "showlegend": true,
         "type": "scattergl",
         "x": [
          -4.490612206465937
         ],
         "xaxis": "x",
         "y": [
          7.011036566328565
         ],
         "yaxis": "y"
        },
        {
         "hovertemplate": "date=2019-07-09<br>pc1=%{x}<br>pc2=%{y}<extra></extra>",
         "legendgroup": "2019-07-09",
         "marker": {
          "color": "#FF97FF",
          "symbol": "circle"
         },
         "mode": "markers",
         "name": "2019-07-09",
         "showlegend": true,
         "type": "scattergl",
         "x": [
          -3.2174332294424866
         ],
         "xaxis": "x",
         "y": [
          1.652261029978164
         ],
         "yaxis": "y"
        },
        {
         "hovertemplate": "date=2019-07-10<br>pc1=%{x}<br>pc2=%{y}<extra></extra>",
         "legendgroup": "2019-07-10",
         "marker": {
          "color": "#FECB52",
          "symbol": "circle"
         },
         "mode": "markers",
         "name": "2019-07-10",
         "showlegend": true,
         "type": "scattergl",
         "x": [
          -1.6879408721550495
         ],
         "xaxis": "x",
         "y": [
          1.750071357866224
         ],
         "yaxis": "y"
        },
        {
         "hovertemplate": "date=2019-07-11<br>pc1=%{x}<br>pc2=%{y}<extra></extra>",
         "legendgroup": "2019-07-11",
         "marker": {
          "color": "#636efa",
          "symbol": "circle"
         },
         "mode": "markers",
         "name": "2019-07-11",
         "showlegend": true,
         "type": "scattergl",
         "x": [
          -4.325573686305658
         ],
         "xaxis": "x",
         "y": [
          4.568726550721961
         ],
         "yaxis": "y"
        },
        {
         "hovertemplate": "date=2019-07-12<br>pc1=%{x}<br>pc2=%{y}<extra></extra>",
         "legendgroup": "2019-07-12",
         "marker": {
          "color": "#EF553B",
          "symbol": "circle"
         },
         "mode": "markers",
         "name": "2019-07-12",
         "showlegend": true,
         "type": "scattergl",
         "x": [
          -12.490341890168926
         ],
         "xaxis": "x",
         "y": [
          -8.202057198178432
         ],
         "yaxis": "y"
        },
        {
         "hovertemplate": "date=2019-07-13<br>pc1=%{x}<br>pc2=%{y}<extra></extra>",
         "legendgroup": "2019-07-13",
         "marker": {
          "color": "#00cc96",
          "symbol": "circle"
         },
         "mode": "markers",
         "name": "2019-07-13",
         "showlegend": true,
         "type": "scattergl",
         "x": [
          5.231441183313107
         ],
         "xaxis": "x",
         "y": [
          -1.519214857951288
         ],
         "yaxis": "y"
        },
        {
         "hovertemplate": "date=2019-07-14<br>pc1=%{x}<br>pc2=%{y}<extra></extra>",
         "legendgroup": "2019-07-14",
         "marker": {
          "color": "#ab63fa",
          "symbol": "circle"
         },
         "mode": "markers",
         "name": "2019-07-14",
         "showlegend": true,
         "type": "scattergl",
         "x": [
          9.741764448454456
         ],
         "xaxis": "x",
         "y": [
          -4.34657741862162
         ],
         "yaxis": "y"
        },
        {
         "hovertemplate": "date=2019-07-15<br>pc1=%{x}<br>pc2=%{y}<extra></extra>",
         "legendgroup": "2019-07-15",
         "marker": {
          "color": "#FFA15A",
          "symbol": "circle"
         },
         "mode": "markers",
         "name": "2019-07-15",
         "showlegend": true,
         "type": "scattergl",
         "x": [
          -2.586529561865932
         ],
         "xaxis": "x",
         "y": [
          4.009091466940869
         ],
         "yaxis": "y"
        },
        {
         "hovertemplate": "date=2019-07-16<br>pc1=%{x}<br>pc2=%{y}<extra></extra>",
         "legendgroup": "2019-07-16",
         "marker": {
          "color": "#19d3f3",
          "symbol": "circle"
         },
         "mode": "markers",
         "name": "2019-07-16",
         "showlegend": true,
         "type": "scattergl",
         "x": [
          -1.2945117495664202
         ],
         "xaxis": "x",
         "y": [
          5.038747657413056
         ],
         "yaxis": "y"
        },
        {
         "hovertemplate": "date=2019-07-17<br>pc1=%{x}<br>pc2=%{y}<extra></extra>",
         "legendgroup": "2019-07-17",
         "marker": {
          "color": "#FF6692",
          "symbol": "circle"
         },
         "mode": "markers",
         "name": "2019-07-17",
         "showlegend": true,
         "type": "scattergl",
         "x": [
          -4.437947314454692
         ],
         "xaxis": "x",
         "y": [
          4.544760179823735
         ],
         "yaxis": "y"
        },
        {
         "hovertemplate": "date=2019-07-18<br>pc1=%{x}<br>pc2=%{y}<extra></extra>",
         "legendgroup": "2019-07-18",
         "marker": {
          "color": "#B6E880",
          "symbol": "circle"
         },
         "mode": "markers",
         "name": "2019-07-18",
         "showlegend": true,
         "type": "scattergl",
         "x": [
          -3.2649939600392197
         ],
         "xaxis": "x",
         "y": [
          -4.973898924780525
         ],
         "yaxis": "y"
        },
        {
         "hovertemplate": "date=2019-07-19<br>pc1=%{x}<br>pc2=%{y}<extra></extra>",
         "legendgroup": "2019-07-19",
         "marker": {
          "color": "#FF97FF",
          "symbol": "circle"
         },
         "mode": "markers",
         "name": "2019-07-19",
         "showlegend": true,
         "type": "scattergl",
         "x": [
          -2.531827164464831
         ],
         "xaxis": "x",
         "y": [
          -0.6949155381625507
         ],
         "yaxis": "y"
        },
        {
         "hovertemplate": "date=2019-07-20<br>pc1=%{x}<br>pc2=%{y}<extra></extra>",
         "legendgroup": "2019-07-20",
         "marker": {
          "color": "#FECB52",
          "symbol": "circle"
         },
         "mode": "markers",
         "name": "2019-07-20",
         "showlegend": true,
         "type": "scattergl",
         "x": [
          7.755253131880611
         ],
         "xaxis": "x",
         "y": [
          -3.548173766056582
         ],
         "yaxis": "y"
        },
        {
         "hovertemplate": "date=2019-07-21<br>pc1=%{x}<br>pc2=%{y}<extra></extra>",
         "legendgroup": "2019-07-21",
         "marker": {
          "color": "#636efa",
          "symbol": "circle"
         },
         "mode": "markers",
         "name": "2019-07-21",
         "showlegend": true,
         "type": "scattergl",
         "x": [
          7.852784409350196
         ],
         "xaxis": "x",
         "y": [
          -7.236888625771955
         ],
         "yaxis": "y"
        },
        {
         "hovertemplate": "date=2019-07-22<br>pc1=%{x}<br>pc2=%{y}<extra></extra>",
         "legendgroup": "2019-07-22",
         "marker": {
          "color": "#EF553B",
          "symbol": "circle"
         },
         "mode": "markers",
         "name": "2019-07-22",
         "showlegend": true,
         "type": "scattergl",
         "x": [
          -3.515143033038499
         ],
         "xaxis": "x",
         "y": [
          5.925714439951032
         ],
         "yaxis": "y"
        },
        {
         "hovertemplate": "date=2019-07-23<br>pc1=%{x}<br>pc2=%{y}<extra></extra>",
         "legendgroup": "2019-07-23",
         "marker": {
          "color": "#00cc96",
          "symbol": "circle"
         },
         "mode": "markers",
         "name": "2019-07-23",
         "showlegend": true,
         "type": "scattergl",
         "x": [
          -1.5959949694136202
         ],
         "xaxis": "x",
         "y": [
          4.847766888283547
         ],
         "yaxis": "y"
        },
        {
         "hovertemplate": "date=2019-07-24<br>pc1=%{x}<br>pc2=%{y}<extra></extra>",
         "legendgroup": "2019-07-24",
         "marker": {
          "color": "#ab63fa",
          "symbol": "circle"
         },
         "mode": "markers",
         "name": "2019-07-24",
         "showlegend": true,
         "type": "scattergl",
         "x": [
          -2.975114833953264
         ],
         "xaxis": "x",
         "y": [
          4.130425731091542
         ],
         "yaxis": "y"
        },
        {
         "hovertemplate": "date=2019-07-25<br>pc1=%{x}<br>pc2=%{y}<extra></extra>",
         "legendgroup": "2019-07-25",
         "marker": {
          "color": "#FFA15A",
          "symbol": "circle"
         },
         "mode": "markers",
         "name": "2019-07-25",
         "showlegend": true,
         "type": "scattergl",
         "x": [
          -4.75377122243716
         ],
         "xaxis": "x",
         "y": [
          3.1688318088913383
         ],
         "yaxis": "y"
        },
        {
         "hovertemplate": "date=2019-07-26<br>pc1=%{x}<br>pc2=%{y}<extra></extra>",
         "legendgroup": "2019-07-26",
         "marker": {
          "color": "#19d3f3",
          "symbol": "circle"
         },
         "mode": "markers",
         "name": "2019-07-26",
         "showlegend": true,
         "type": "scattergl",
         "x": [
          -1.2666029778330632
         ],
         "xaxis": "x",
         "y": [
          3.5623649748292667
         ],
         "yaxis": "y"
        },
        {
         "hovertemplate": "date=2019-07-27<br>pc1=%{x}<br>pc2=%{y}<extra></extra>",
         "legendgroup": "2019-07-27",
         "marker": {
          "color": "#FF6692",
          "symbol": "circle"
         },
         "mode": "markers",
         "name": "2019-07-27",
         "showlegend": true,
         "type": "scattergl",
         "x": [
          6.180543364424819
         ],
         "xaxis": "x",
         "y": [
          -3.697035421793953
         ],
         "yaxis": "y"
        },
        {
         "hovertemplate": "date=2019-07-28<br>pc1=%{x}<br>pc2=%{y}<extra></extra>",
         "legendgroup": "2019-07-28",
         "marker": {
          "color": "#B6E880",
          "symbol": "circle"
         },
         "mode": "markers",
         "name": "2019-07-28",
         "showlegend": true,
         "type": "scattergl",
         "x": [
          11.185111804645139
         ],
         "xaxis": "x",
         "y": [
          -4.216745233090182
         ],
         "yaxis": "y"
        },
        {
         "hovertemplate": "date=2019-07-29<br>pc1=%{x}<br>pc2=%{y}<extra></extra>",
         "legendgroup": "2019-07-29",
         "marker": {
          "color": "#FF97FF",
          "symbol": "circle"
         },
         "mode": "markers",
         "name": "2019-07-29",
         "showlegend": true,
         "type": "scattergl",
         "x": [
          2.330547761999885
         ],
         "xaxis": "x",
         "y": [
          2.252952103356088
         ],
         "yaxis": "y"
        },
        {
         "hovertemplate": "date=2019-07-30<br>pc1=%{x}<br>pc2=%{y}<extra></extra>",
         "legendgroup": "2019-07-30",
         "marker": {
          "color": "#FECB52",
          "symbol": "circle"
         },
         "mode": "markers",
         "name": "2019-07-30",
         "showlegend": true,
         "type": "scattergl",
         "x": [
          -4.337459315519101
         ],
         "xaxis": "x",
         "y": [
          -3.7463949580290508
         ],
         "yaxis": "y"
        },
        {
         "hovertemplate": "date=2019-07-31<br>pc1=%{x}<br>pc2=%{y}<extra></extra>",
         "legendgroup": "2019-07-31",
         "marker": {
          "color": "#636efa",
          "symbol": "circle"
         },
         "mode": "markers",
         "name": "2019-07-31",
         "showlegend": true,
         "type": "scattergl",
         "x": [
          -1.5944954886291398
         ],
         "xaxis": "x",
         "y": [
          1.802262038081784
         ],
         "yaxis": "y"
        },
        {
         "hovertemplate": "date=2019-08-01<br>pc1=%{x}<br>pc2=%{y}<extra></extra>",
         "legendgroup": "2019-08-01",
         "marker": {
          "color": "#EF553B",
          "symbol": "circle"
         },
         "mode": "markers",
         "name": "2019-08-01",
         "showlegend": true,
         "type": "scattergl",
         "x": [
          -4.9178850650176
         ],
         "xaxis": "x",
         "y": [
          5.726854930455251
         ],
         "yaxis": "y"
        },
        {
         "hovertemplate": "date=2019-08-02<br>pc1=%{x}<br>pc2=%{y}<extra></extra>",
         "legendgroup": "2019-08-02",
         "marker": {
          "color": "#00cc96",
          "symbol": "circle"
         },
         "mode": "markers",
         "name": "2019-08-02",
         "showlegend": true,
         "type": "scattergl",
         "x": [
          -5.938110726966619
         ],
         "xaxis": "x",
         "y": [
          3.410853941637733
         ],
         "yaxis": "y"
        },
        {
         "hovertemplate": "date=2019-08-03<br>pc1=%{x}<br>pc2=%{y}<extra></extra>",
         "legendgroup": "2019-08-03",
         "marker": {
          "color": "#ab63fa",
          "symbol": "circle"
         },
         "mode": "markers",
         "name": "2019-08-03",
         "showlegend": true,
         "type": "scattergl",
         "x": [
          2.4145519077217763
         ],
         "xaxis": "x",
         "y": [
          -1.8130438702410836
         ],
         "yaxis": "y"
        },
        {
         "hovertemplate": "date=2019-08-04<br>pc1=%{x}<br>pc2=%{y}<extra></extra>",
         "legendgroup": "2019-08-04",
         "marker": {
          "color": "#FFA15A",
          "symbol": "circle"
         },
         "mode": "markers",
         "name": "2019-08-04",
         "showlegend": true,
         "type": "scattergl",
         "x": [
          7.097818866226323
         ],
         "xaxis": "x",
         "y": [
          -1.4415303017256262
         ],
         "yaxis": "y"
        },
        {
         "hovertemplate": "date=2019-08-05<br>pc1=%{x}<br>pc2=%{y}<extra></extra>",
         "legendgroup": "2019-08-05",
         "marker": {
          "color": "#19d3f3",
          "symbol": "circle"
         },
         "mode": "markers",
         "name": "2019-08-05",
         "showlegend": true,
         "type": "scattergl",
         "x": [
          -3.255174901615196
         ],
         "xaxis": "x",
         "y": [
          -3.5186428580961344
         ],
         "yaxis": "y"
        },
        {
         "hovertemplate": "date=2019-08-06<br>pc1=%{x}<br>pc2=%{y}<extra></extra>",
         "legendgroup": "2019-08-06",
         "marker": {
          "color": "#FF6692",
          "symbol": "circle"
         },
         "mode": "markers",
         "name": "2019-08-06",
         "showlegend": true,
         "type": "scattergl",
         "x": [
          1.2225209993238515
         ],
         "xaxis": "x",
         "y": [
          2.5416001983295535
         ],
         "yaxis": "y"
        },
        {
         "hovertemplate": "date=2019-08-07<br>pc1=%{x}<br>pc2=%{y}<extra></extra>",
         "legendgroup": "2019-08-07",
         "marker": {
          "color": "#B6E880",
          "symbol": "circle"
         },
         "mode": "markers",
         "name": "2019-08-07",
         "showlegend": true,
         "type": "scattergl",
         "x": [
          -4.933602446552145
         ],
         "xaxis": "x",
         "y": [
          -2.392242875786364
         ],
         "yaxis": "y"
        },
        {
         "hovertemplate": "date=2019-08-08<br>pc1=%{x}<br>pc2=%{y}<extra></extra>",
         "legendgroup": "2019-08-08",
         "marker": {
          "color": "#FF97FF",
          "symbol": "circle"
         },
         "mode": "markers",
         "name": "2019-08-08",
         "showlegend": true,
         "type": "scattergl",
         "x": [
          -5.119237913906962
         ],
         "xaxis": "x",
         "y": [
          -1.2484139823992333
         ],
         "yaxis": "y"
        },
        {
         "hovertemplate": "date=2019-08-09<br>pc1=%{x}<br>pc2=%{y}<extra></extra>",
         "legendgroup": "2019-08-09",
         "marker": {
          "color": "#FECB52",
          "symbol": "circle"
         },
         "mode": "markers",
         "name": "2019-08-09",
         "showlegend": true,
         "type": "scattergl",
         "x": [
          -3.8487299946505527
         ],
         "xaxis": "x",
         "y": [
          -1.1445090927566748
         ],
         "yaxis": "y"
        },
        {
         "hovertemplate": "date=2019-08-10<br>pc1=%{x}<br>pc2=%{y}<extra></extra>",
         "legendgroup": "2019-08-10",
         "marker": {
          "color": "#636efa",
          "symbol": "circle"
         },
         "mode": "markers",
         "name": "2019-08-10",
         "showlegend": true,
         "type": "scattergl",
         "x": [
          0.5359135439314061
         ],
         "xaxis": "x",
         "y": [
          -5.787128346451278
         ],
         "yaxis": "y"
        },
        {
         "hovertemplate": "date=2019-08-11<br>pc1=%{x}<br>pc2=%{y}<extra></extra>",
         "legendgroup": "2019-08-11",
         "marker": {
          "color": "#EF553B",
          "symbol": "circle"
         },
         "mode": "markers",
         "name": "2019-08-11",
         "showlegend": true,
         "type": "scattergl",
         "x": [
          10.092102250015772
         ],
         "xaxis": "x",
         "y": [
          -2.3699143483816187
         ],
         "yaxis": "y"
        },
        {
         "hovertemplate": "date=2019-08-12<br>pc1=%{x}<br>pc2=%{y}<extra></extra>",
         "legendgroup": "2019-08-12",
         "marker": {
          "color": "#00cc96",
          "symbol": "circle"
         },
         "mode": "markers",
         "name": "2019-08-12",
         "showlegend": true,
         "type": "scattergl",
         "x": [
          0.020101654348415716
         ],
         "xaxis": "x",
         "y": [
          1.0139834439833628
         ],
         "yaxis": "y"
        },
        {
         "hovertemplate": "date=2019-08-13<br>pc1=%{x}<br>pc2=%{y}<extra></extra>",
         "legendgroup": "2019-08-13",
         "marker": {
          "color": "#ab63fa",
          "symbol": "circle"
         },
         "mode": "markers",
         "name": "2019-08-13",
         "showlegend": true,
         "type": "scattergl",
         "x": [
          -1.032466275345846
         ],
         "xaxis": "x",
         "y": [
          2.826479317116713
         ],
         "yaxis": "y"
        },
        {
         "hovertemplate": "date=2019-08-14<br>pc1=%{x}<br>pc2=%{y}<extra></extra>",
         "legendgroup": "2019-08-14",
         "marker": {
          "color": "#FFA15A",
          "symbol": "circle"
         },
         "mode": "markers",
         "name": "2019-08-14",
         "showlegend": true,
         "type": "scattergl",
         "x": [
          -1.6965089041663706
         ],
         "xaxis": "x",
         "y": [
          3.893682302449581
         ],
         "yaxis": "y"
        },
        {
         "hovertemplate": "date=2019-08-15<br>pc1=%{x}<br>pc2=%{y}<extra></extra>",
         "legendgroup": "2019-08-15",
         "marker": {
          "color": "#19d3f3",
          "symbol": "circle"
         },
         "mode": "markers",
         "name": "2019-08-15",
         "showlegend": true,
         "type": "scattergl",
         "x": [
          -1.382128353004083
         ],
         "xaxis": "x",
         "y": [
          6.436990998268897
         ],
         "yaxis": "y"
        },
        {
         "hovertemplate": "date=2019-08-16<br>pc1=%{x}<br>pc2=%{y}<extra></extra>",
         "legendgroup": "2019-08-16",
         "marker": {
          "color": "#FF6692",
          "symbol": "circle"
         },
         "mode": "markers",
         "name": "2019-08-16",
         "showlegend": true,
         "type": "scattergl",
         "x": [
          -11.439787534006241
         ],
         "xaxis": "x",
         "y": [
          -14.120297126091199
         ],
         "yaxis": "y"
        },
        {
         "hovertemplate": "date=2019-08-17<br>pc1=%{x}<br>pc2=%{y}<extra></extra>",
         "legendgroup": "2019-08-17",
         "marker": {
          "color": "#B6E880",
          "symbol": "circle"
         },
         "mode": "markers",
         "name": "2019-08-17",
         "showlegend": true,
         "type": "scattergl",
         "x": [
          1.4996334228070964
         ],
         "xaxis": "x",
         "y": [
          -8.209503478474842
         ],
         "yaxis": "y"
        },
        {
         "hovertemplate": "date=2019-08-18<br>pc1=%{x}<br>pc2=%{y}<extra></extra>",
         "legendgroup": "2019-08-18",
         "marker": {
          "color": "#FF97FF",
          "symbol": "circle"
         },
         "mode": "markers",
         "name": "2019-08-18",
         "showlegend": true,
         "type": "scattergl",
         "x": [
          10.731825392905922
         ],
         "xaxis": "x",
         "y": [
          -3.783125449242945
         ],
         "yaxis": "y"
        },
        {
         "hovertemplate": "date=2019-08-19<br>pc1=%{x}<br>pc2=%{y}<extra></extra>",
         "legendgroup": "2019-08-19",
         "marker": {
          "color": "#FECB52",
          "symbol": "circle"
         },
         "mode": "markers",
         "name": "2019-08-19",
         "showlegend": true,
         "type": "scattergl",
         "x": [
          -1.6749105054068791
         ],
         "xaxis": "x",
         "y": [
          4.299317984048892
         ],
         "yaxis": "y"
        },
        {
         "hovertemplate": "date=2019-08-20<br>pc1=%{x}<br>pc2=%{y}<extra></extra>",
         "legendgroup": "2019-08-20",
         "marker": {
          "color": "#636efa",
          "symbol": "circle"
         },
         "mode": "markers",
         "name": "2019-08-20",
         "showlegend": true,
         "type": "scattergl",
         "x": [
          1.162719122693031
         ],
         "xaxis": "x",
         "y": [
          2.4147682437926994
         ],
         "yaxis": "y"
        },
        {
         "hovertemplate": "date=2019-08-21<br>pc1=%{x}<br>pc2=%{y}<extra></extra>",
         "legendgroup": "2019-08-21",
         "marker": {
          "color": "#EF553B",
          "symbol": "circle"
         },
         "mode": "markers",
         "name": "2019-08-21",
         "showlegend": true,
         "type": "scattergl",
         "x": [
          -2.3321062858022397
         ],
         "xaxis": "x",
         "y": [
          5.131515313904059
         ],
         "yaxis": "y"
        },
        {
         "hovertemplate": "date=2019-08-22<br>pc1=%{x}<br>pc2=%{y}<extra></extra>",
         "legendgroup": "2019-08-22",
         "marker": {
          "color": "#00cc96",
          "symbol": "circle"
         },
         "mode": "markers",
         "name": "2019-08-22",
         "showlegend": true,
         "type": "scattergl",
         "x": [
          -6.3898808714416
         ],
         "xaxis": "x",
         "y": [
          1.4158128782516892
         ],
         "yaxis": "y"
        },
        {
         "hovertemplate": "date=2019-08-23<br>pc1=%{x}<br>pc2=%{y}<extra></extra>",
         "legendgroup": "2019-08-23",
         "marker": {
          "color": "#ab63fa",
          "symbol": "circle"
         },
         "mode": "markers",
         "name": "2019-08-23",
         "showlegend": true,
         "type": "scattergl",
         "x": [
          -9.481821707411356
         ],
         "xaxis": "x",
         "y": [
          -6.243584868290994
         ],
         "yaxis": "y"
        },
        {
         "hovertemplate": "date=2019-08-24<br>pc1=%{x}<br>pc2=%{y}<extra></extra>",
         "legendgroup": "2019-08-24",
         "marker": {
          "color": "#FFA15A",
          "symbol": "circle"
         },
         "mode": "markers",
         "name": "2019-08-24",
         "showlegend": true,
         "type": "scattergl",
         "x": [
          5.698663701486222
         ],
         "xaxis": "x",
         "y": [
          -5.005883773508778
         ],
         "yaxis": "y"
        },
        {
         "hovertemplate": "date=2019-08-25<br>pc1=%{x}<br>pc2=%{y}<extra></extra>",
         "legendgroup": "2019-08-25",
         "marker": {
          "color": "#19d3f3",
          "symbol": "circle"
         },
         "mode": "markers",
         "name": "2019-08-25",
         "showlegend": true,
         "type": "scattergl",
         "x": [
          12.175445041653289
         ],
         "xaxis": "x",
         "y": [
          -2.4919681931623416
         ],
         "yaxis": "y"
        },
        {
         "hovertemplate": "date=2019-08-26<br>pc1=%{x}<br>pc2=%{y}<extra></extra>",
         "legendgroup": "2019-08-26",
         "marker": {
          "color": "#FF6692",
          "symbol": "circle"
         },
         "mode": "markers",
         "name": "2019-08-26",
         "showlegend": true,
         "type": "scattergl",
         "x": [
          0.3466078812751353
         ],
         "xaxis": "x",
         "y": [
          3.0921308795328697
         ],
         "yaxis": "y"
        },
        {
         "hovertemplate": "date=2019-08-27<br>pc1=%{x}<br>pc2=%{y}<extra></extra>",
         "legendgroup": "2019-08-27",
         "marker": {
          "color": "#B6E880",
          "symbol": "circle"
         },
         "mode": "markers",
         "name": "2019-08-27",
         "showlegend": true,
         "type": "scattergl",
         "x": [
          -7.404958885878905
         ],
         "xaxis": "x",
         "y": [
          -1.0579489823397754
         ],
         "yaxis": "y"
        },
        {
         "hovertemplate": "date=2019-08-28<br>pc1=%{x}<br>pc2=%{y}<extra></extra>",
         "legendgroup": "2019-08-28",
         "marker": {
          "color": "#FF97FF",
          "symbol": "circle"
         },
         "mode": "markers",
         "name": "2019-08-28",
         "showlegend": true,
         "type": "scattergl",
         "x": [
          -2.134618650940922
         ],
         "xaxis": "x",
         "y": [
          6.654510845624099
         ],
         "yaxis": "y"
        },
        {
         "hovertemplate": "date=2019-08-29<br>pc1=%{x}<br>pc2=%{y}<extra></extra>",
         "legendgroup": "2019-08-29",
         "marker": {
          "color": "#FECB52",
          "symbol": "circle"
         },
         "mode": "markers",
         "name": "2019-08-29",
         "showlegend": true,
         "type": "scattergl",
         "x": [
          -8.440249369415731
         ],
         "xaxis": "x",
         "y": [
          -3.8937413886865677
         ],
         "yaxis": "y"
        },
        {
         "hovertemplate": "date=2019-08-30<br>pc1=%{x}<br>pc2=%{y}<extra></extra>",
         "legendgroup": "2019-08-30",
         "marker": {
          "color": "#636efa",
          "symbol": "circle"
         },
         "mode": "markers",
         "name": "2019-08-30",
         "showlegend": true,
         "type": "scattergl",
         "x": [
          -9.599439079461336
         ],
         "xaxis": "x",
         "y": [
          2.1533180642066347
         ],
         "yaxis": "y"
        },
        {
         "hovertemplate": "date=2019-08-31<br>pc1=%{x}<br>pc2=%{y}<extra></extra>",
         "legendgroup": "2019-08-31",
         "marker": {
          "color": "#EF553B",
          "symbol": "circle"
         },
         "mode": "markers",
         "name": "2019-08-31",
         "showlegend": true,
         "type": "scattergl",
         "x": [
          -0.4042737096502514
         ],
         "xaxis": "x",
         "y": [
          -3.1349525468127326
         ],
         "yaxis": "y"
        },
        {
         "hovertemplate": "date=2019-09-01<br>pc1=%{x}<br>pc2=%{y}<extra></extra>",
         "legendgroup": "2019-09-01",
         "marker": {
          "color": "#00cc96",
          "symbol": "circle"
         },
         "mode": "markers",
         "name": "2019-09-01",
         "showlegend": true,
         "type": "scattergl",
         "x": [
          1.6097917950639724
         ],
         "xaxis": "x",
         "y": [
          -3.2126293808693824
         ],
         "yaxis": "y"
        },
        {
         "hovertemplate": "date=2019-09-02<br>pc1=%{x}<br>pc2=%{y}<extra></extra>",
         "legendgroup": "2019-09-02",
         "marker": {
          "color": "#ab63fa",
          "symbol": "circle"
         },
         "mode": "markers",
         "name": "2019-09-02",
         "showlegend": true,
         "type": "scattergl",
         "x": [
          39.17885827603779
         ],
         "xaxis": "x",
         "y": [
          -18.034598514083466
         ],
         "yaxis": "y"
        },
        {
         "hovertemplate": "date=2019-09-03<br>pc1=%{x}<br>pc2=%{y}<extra></extra>",
         "legendgroup": "2019-09-03",
         "marker": {
          "color": "#FFA15A",
          "symbol": "circle"
         },
         "mode": "markers",
         "name": "2019-09-03",
         "showlegend": true,
         "type": "scattergl",
         "x": [
          -9.074368487082513
         ],
         "xaxis": "x",
         "y": [
          2.770864973370001
         ],
         "yaxis": "y"
        },
        {
         "hovertemplate": "date=2019-09-04<br>pc1=%{x}<br>pc2=%{y}<extra></extra>",
         "legendgroup": "2019-09-04",
         "marker": {
          "color": "#19d3f3",
          "symbol": "circle"
         },
         "mode": "markers",
         "name": "2019-09-04",
         "showlegend": true,
         "type": "scattergl",
         "x": [
          -13.38605026844237
         ],
         "xaxis": "x",
         "y": [
          5.94338409148126
         ],
         "yaxis": "y"
        },
        {
         "hovertemplate": "date=2019-09-05<br>pc1=%{x}<br>pc2=%{y}<extra></extra>",
         "legendgroup": "2019-09-05",
         "marker": {
          "color": "#FF6692",
          "symbol": "circle"
         },
         "mode": "markers",
         "name": "2019-09-05",
         "showlegend": true,
         "type": "scattergl",
         "x": [
          -15.714892562623163
         ],
         "xaxis": "x",
         "y": [
          9.502321224929414
         ],
         "yaxis": "y"
        },
        {
         "hovertemplate": "date=2019-09-06<br>pc1=%{x}<br>pc2=%{y}<extra></extra>",
         "legendgroup": "2019-09-06",
         "marker": {
          "color": "#B6E880",
          "symbol": "circle"
         },
         "mode": "markers",
         "name": "2019-09-06",
         "showlegend": true,
         "type": "scattergl",
         "x": [
          -3.378678575364902
         ],
         "xaxis": "x",
         "y": [
          2.4880797779141908
         ],
         "yaxis": "y"
        },
        {
         "hovertemplate": "date=2019-09-07<br>pc1=%{x}<br>pc2=%{y}<extra></extra>",
         "legendgroup": "2019-09-07",
         "marker": {
          "color": "#FF97FF",
          "symbol": "circle"
         },
         "mode": "markers",
         "name": "2019-09-07",
         "showlegend": true,
         "type": "scattergl",
         "x": [
          11.572138675372713
         ],
         "xaxis": "x",
         "y": [
          -4.832791953588898
         ],
         "yaxis": "y"
        },
        {
         "hovertemplate": "date=2019-09-08<br>pc1=%{x}<br>pc2=%{y}<extra></extra>",
         "legendgroup": "2019-09-08",
         "marker": {
          "color": "#FECB52",
          "symbol": "circle"
         },
         "mode": "markers",
         "name": "2019-09-08",
         "showlegend": true,
         "type": "scattergl",
         "x": [
          17.194452462362396
         ],
         "xaxis": "x",
         "y": [
          -5.8454380371555255
         ],
         "yaxis": "y"
        },
        {
         "hovertemplate": "date=2019-09-09<br>pc1=%{x}<br>pc2=%{y}<extra></extra>",
         "legendgroup": "2019-09-09",
         "marker": {
          "color": "#636efa",
          "symbol": "circle"
         },
         "mode": "markers",
         "name": "2019-09-09",
         "showlegend": true,
         "type": "scattergl",
         "x": [
          -3.590117159839437
         ],
         "xaxis": "x",
         "y": [
          6.220123611432338
         ],
         "yaxis": "y"
        },
        {
         "hovertemplate": "date=2019-09-10<br>pc1=%{x}<br>pc2=%{y}<extra></extra>",
         "legendgroup": "2019-09-10",
         "marker": {
          "color": "#EF553B",
          "symbol": "circle"
         },
         "mode": "markers",
         "name": "2019-09-10",
         "showlegend": true,
         "type": "scattergl",
         "x": [
          -10.913166231171282
         ],
         "xaxis": "x",
         "y": [
          -6.066676919162201
         ],
         "yaxis": "y"
        },
        {
         "hovertemplate": "date=2019-09-11<br>pc1=%{x}<br>pc2=%{y}<extra></extra>",
         "legendgroup": "2019-09-11",
         "marker": {
          "color": "#00cc96",
          "symbol": "circle"
         },
         "mode": "markers",
         "name": "2019-09-11",
         "showlegend": true,
         "type": "scattergl",
         "x": [
          -1.8558405165883922
         ],
         "xaxis": "x",
         "y": [
          5.866104680788437
         ],
         "yaxis": "y"
        },
        {
         "hovertemplate": "date=2019-09-12<br>pc1=%{x}<br>pc2=%{y}<extra></extra>",
         "legendgroup": "2019-09-12",
         "marker": {
          "color": "#ab63fa",
          "symbol": "circle"
         },
         "mode": "markers",
         "name": "2019-09-12",
         "showlegend": true,
         "type": "scattergl",
         "x": [
          -5.050312025261411
         ],
         "xaxis": "x",
         "y": [
          1.137066287499936
         ],
         "yaxis": "y"
        },
        {
         "hovertemplate": "date=2019-09-13<br>pc1=%{x}<br>pc2=%{y}<extra></extra>",
         "legendgroup": "2019-09-13",
         "marker": {
          "color": "#FFA15A",
          "symbol": "circle"
         },
         "mode": "markers",
         "name": "2019-09-13",
         "showlegend": true,
         "type": "scattergl",
         "x": [
          -7.457015303591073
         ],
         "xaxis": "x",
         "y": [
          0.5227522846577328
         ],
         "yaxis": "y"
        },
        {
         "hovertemplate": "date=2019-09-14<br>pc1=%{x}<br>pc2=%{y}<extra></extra>",
         "legendgroup": "2019-09-14",
         "marker": {
          "color": "#19d3f3",
          "symbol": "circle"
         },
         "mode": "markers",
         "name": "2019-09-14",
         "showlegend": true,
         "type": "scattergl",
         "x": [
          7.4517335537156635
         ],
         "xaxis": "x",
         "y": [
          -2.609745844749003
         ],
         "yaxis": "y"
        },
        {
         "hovertemplate": "date=2019-09-15<br>pc1=%{x}<br>pc2=%{y}<extra></extra>",
         "legendgroup": "2019-09-15",
         "marker": {
          "color": "#FF6692",
          "symbol": "circle"
         },
         "mode": "markers",
         "name": "2019-09-15",
         "showlegend": true,
         "type": "scattergl",
         "x": [
          14.68638855440866
         ],
         "xaxis": "x",
         "y": [
          -7.2097699250105824
         ],
         "yaxis": "y"
        },
        {
         "hovertemplate": "date=2019-09-16<br>pc1=%{x}<br>pc2=%{y}<extra></extra>",
         "legendgroup": "2019-09-16",
         "marker": {
          "color": "#B6E880",
          "symbol": "circle"
         },
         "mode": "markers",
         "name": "2019-09-16",
         "showlegend": true,
         "type": "scattergl",
         "x": [
          -6.882402525155491
         ],
         "xaxis": "x",
         "y": [
          -0.2998854689393543
         ],
         "yaxis": "y"
        },
        {
         "hovertemplate": "date=2019-09-17<br>pc1=%{x}<br>pc2=%{y}<extra></extra>",
         "legendgroup": "2019-09-17",
         "marker": {
          "color": "#FF97FF",
          "symbol": "circle"
         },
         "mode": "markers",
         "name": "2019-09-17",
         "showlegend": true,
         "type": "scattergl",
         "x": [
          -3.350856260975786
         ],
         "xaxis": "x",
         "y": [
          3.026172506372939
         ],
         "yaxis": "y"
        },
        {
         "hovertemplate": "date=2019-09-18<br>pc1=%{x}<br>pc2=%{y}<extra></extra>",
         "legendgroup": "2019-09-18",
         "marker": {
          "color": "#FECB52",
          "symbol": "circle"
         },
         "mode": "markers",
         "name": "2019-09-18",
         "showlegend": true,
         "type": "scattergl",
         "x": [
          -9.201420319416647
         ],
         "xaxis": "x",
         "y": [
          -2.238041952111602
         ],
         "yaxis": "y"
        },
        {
         "hovertemplate": "date=2019-09-19<br>pc1=%{x}<br>pc2=%{y}<extra></extra>",
         "legendgroup": "2019-09-19",
         "marker": {
          "color": "#636efa",
          "symbol": "circle"
         },
         "mode": "markers",
         "name": "2019-09-19",
         "showlegend": true,
         "type": "scattergl",
         "x": [
          -13.197043793484431
         ],
         "xaxis": "x",
         "y": [
          -5.967806872729502
         ],
         "yaxis": "y"
        },
        {
         "hovertemplate": "date=2019-09-20<br>pc1=%{x}<br>pc2=%{y}<extra></extra>",
         "legendgroup": "2019-09-20",
         "marker": {
          "color": "#EF553B",
          "symbol": "circle"
         },
         "mode": "markers",
         "name": "2019-09-20",
         "showlegend": true,
         "type": "scattergl",
         "x": [
          -5.879751271222741
         ],
         "xaxis": "x",
         "y": [
          4.6385021336313645
         ],
         "yaxis": "y"
        },
        {
         "hovertemplate": "date=2019-09-21<br>pc1=%{x}<br>pc2=%{y}<extra></extra>",
         "legendgroup": "2019-09-21",
         "marker": {
          "color": "#00cc96",
          "symbol": "circle"
         },
         "mode": "markers",
         "name": "2019-09-21",
         "showlegend": true,
         "type": "scattergl",
         "x": [
          14.384031628245797
         ],
         "xaxis": "x",
         "y": [
          -2.4213529926526185
         ],
         "yaxis": "y"
        },
        {
         "hovertemplate": "date=2019-09-22<br>pc1=%{x}<br>pc2=%{y}<extra></extra>",
         "legendgroup": "2019-09-22",
         "marker": {
          "color": "#ab63fa",
          "symbol": "circle"
         },
         "mode": "markers",
         "name": "2019-09-22",
         "showlegend": true,
         "type": "scattergl",
         "x": [
          17.330842708973254
         ],
         "xaxis": "x",
         "y": [
          -13.961364178559819
         ],
         "yaxis": "y"
        },
        {
         "hovertemplate": "date=2019-09-23<br>pc1=%{x}<br>pc2=%{y}<extra></extra>",
         "legendgroup": "2019-09-23",
         "marker": {
          "color": "#FFA15A",
          "symbol": "circle"
         },
         "mode": "markers",
         "name": "2019-09-23",
         "showlegend": true,
         "type": "scattergl",
         "x": [
          -5.667479867589679
         ],
         "xaxis": "x",
         "y": [
          7.028057175540995
         ],
         "yaxis": "y"
        },
        {
         "hovertemplate": "date=2019-09-24<br>pc1=%{x}<br>pc2=%{y}<extra></extra>",
         "legendgroup": "2019-09-24",
         "marker": {
          "color": "#19d3f3",
          "symbol": "circle"
         },
         "mode": "markers",
         "name": "2019-09-24",
         "showlegend": true,
         "type": "scattergl",
         "x": [
          -12.7009932178855
         ],
         "xaxis": "x",
         "y": [
          -5.933364179934131
         ],
         "yaxis": "y"
        },
        {
         "hovertemplate": "date=2019-09-25<br>pc1=%{x}<br>pc2=%{y}<extra></extra>",
         "legendgroup": "2019-09-25",
         "marker": {
          "color": "#FF6692",
          "symbol": "circle"
         },
         "mode": "markers",
         "name": "2019-09-25",
         "showlegend": true,
         "type": "scattergl",
         "x": [
          -6.177628145031581
         ],
         "xaxis": "x",
         "y": [
          7.258587815863044
         ],
         "yaxis": "y"
        },
        {
         "hovertemplate": "date=2019-09-26<br>pc1=%{x}<br>pc2=%{y}<extra></extra>",
         "legendgroup": "2019-09-26",
         "marker": {
          "color": "#B6E880",
          "symbol": "circle"
         },
         "mode": "markers",
         "name": "2019-09-26",
         "showlegend": true,
         "type": "scattergl",
         "x": [
          -7.293279420815353
         ],
         "xaxis": "x",
         "y": [
          6.524838202332808
         ],
         "yaxis": "y"
        },
        {
         "hovertemplate": "date=2019-09-27<br>pc1=%{x}<br>pc2=%{y}<extra></extra>",
         "legendgroup": "2019-09-27",
         "marker": {
          "color": "#FF97FF",
          "symbol": "circle"
         },
         "mode": "markers",
         "name": "2019-09-27",
         "showlegend": true,
         "type": "scattergl",
         "x": [
          1.2063856378143822
         ],
         "xaxis": "x",
         "y": [
          -1.0786906337663245
         ],
         "yaxis": "y"
        },
        {
         "hovertemplate": "date=2019-09-28<br>pc1=%{x}<br>pc2=%{y}<extra></extra>",
         "legendgroup": "2019-09-28",
         "marker": {
          "color": "#FECB52",
          "symbol": "circle"
         },
         "mode": "markers",
         "name": "2019-09-28",
         "showlegend": true,
         "type": "scattergl",
         "x": [
          16.20343901555089
         ],
         "xaxis": "x",
         "y": [
          -0.8099321985988777
         ],
         "yaxis": "y"
        },
        {
         "hovertemplate": "date=2019-09-29<br>pc1=%{x}<br>pc2=%{y}<extra></extra>",
         "legendgroup": "2019-09-29",
         "marker": {
          "color": "#636efa",
          "symbol": "circle"
         },
         "mode": "markers",
         "name": "2019-09-29",
         "showlegend": true,
         "type": "scattergl",
         "x": [
          15.079546975877939
         ],
         "xaxis": "x",
         "y": [
          -10.302156081556857
         ],
         "yaxis": "y"
        },
        {
         "hovertemplate": "date=2019-09-30<br>pc1=%{x}<br>pc2=%{y}<extra></extra>",
         "legendgroup": "2019-09-30",
         "marker": {
          "color": "#EF553B",
          "symbol": "circle"
         },
         "mode": "markers",
         "name": "2019-09-30",
         "showlegend": true,
         "type": "scattergl",
         "x": [
          -8.350565412851763
         ],
         "xaxis": "x",
         "y": [
          3.1091084824478346
         ],
         "yaxis": "y"
        },
        {
         "hovertemplate": "date=2019-10-01<br>pc1=%{x}<br>pc2=%{y}<extra></extra>",
         "legendgroup": "2019-10-01",
         "marker": {
          "color": "#00cc96",
          "symbol": "circle"
         },
         "mode": "markers",
         "name": "2019-10-01",
         "showlegend": true,
         "type": "scattergl",
         "x": [
          -5.811475037576599
         ],
         "xaxis": "x",
         "y": [
          7.078142947404909
         ],
         "yaxis": "y"
        },
        {
         "hovertemplate": "date=2019-10-02<br>pc1=%{x}<br>pc2=%{y}<extra></extra>",
         "legendgroup": "2019-10-02",
         "marker": {
          "color": "#ab63fa",
          "symbol": "circle"
         },
         "mode": "markers",
         "name": "2019-10-02",
         "showlegend": true,
         "type": "scattergl",
         "x": [
          -6.156104854654746
         ],
         "xaxis": "x",
         "y": [
          3.161010431833108
         ],
         "yaxis": "y"
        },
        {
         "hovertemplate": "date=2019-10-03<br>pc1=%{x}<br>pc2=%{y}<extra></extra>",
         "legendgroup": "2019-10-03",
         "marker": {
          "color": "#FFA15A",
          "symbol": "circle"
         },
         "mode": "markers",
         "name": "2019-10-03",
         "showlegend": true,
         "type": "scattergl",
         "x": [
          -11.309386161342072
         ],
         "xaxis": "x",
         "y": [
          -3.16534524345318
         ],
         "yaxis": "y"
        },
        {
         "hovertemplate": "date=2019-10-04<br>pc1=%{x}<br>pc2=%{y}<extra></extra>",
         "legendgroup": "2019-10-04",
         "marker": {
          "color": "#19d3f3",
          "symbol": "circle"
         },
         "mode": "markers",
         "name": "2019-10-04",
         "showlegend": true,
         "type": "scattergl",
         "x": [
          -3.3459303876542084
         ],
         "xaxis": "x",
         "y": [
          2.258998034301068
         ],
         "yaxis": "y"
        },
        {
         "hovertemplate": "date=2019-10-05<br>pc1=%{x}<br>pc2=%{y}<extra></extra>",
         "legendgroup": "2019-10-05",
         "marker": {
          "color": "#FF6692",
          "symbol": "circle"
         },
         "mode": "markers",
         "name": "2019-10-05",
         "showlegend": true,
         "type": "scattergl",
         "x": [
          14.867176603102939
         ],
         "xaxis": "x",
         "y": [
          -5.224570691068436
         ],
         "yaxis": "y"
        },
        {
         "hovertemplate": "date=2019-10-06<br>pc1=%{x}<br>pc2=%{y}<extra></extra>",
         "legendgroup": "2019-10-06",
         "marker": {
          "color": "#B6E880",
          "symbol": "circle"
         },
         "mode": "markers",
         "name": "2019-10-06",
         "showlegend": true,
         "type": "scattergl",
         "x": [
          16.940140201837718
         ],
         "xaxis": "x",
         "y": [
          -4.854581006270203
         ],
         "yaxis": "y"
        },
        {
         "hovertemplate": "date=2019-10-07<br>pc1=%{x}<br>pc2=%{y}<extra></extra>",
         "legendgroup": "2019-10-07",
         "marker": {
          "color": "#FF97FF",
          "symbol": "circle"
         },
         "mode": "markers",
         "name": "2019-10-07",
         "showlegend": true,
         "type": "scattergl",
         "x": [
          -4.164780016310509
         ],
         "xaxis": "x",
         "y": [
          8.028625915266137
         ],
         "yaxis": "y"
        },
        {
         "hovertemplate": "date=2019-10-08<br>pc1=%{x}<br>pc2=%{y}<extra></extra>",
         "legendgroup": "2019-10-08",
         "marker": {
          "color": "#FECB52",
          "symbol": "circle"
         },
         "mode": "markers",
         "name": "2019-10-08",
         "showlegend": true,
         "type": "scattergl",
         "x": [
          -3.0431814239853594
         ],
         "xaxis": "x",
         "y": [
          8.3604674371651
         ],
         "yaxis": "y"
        },
        {
         "hovertemplate": "date=2019-10-09<br>pc1=%{x}<br>pc2=%{y}<extra></extra>",
         "legendgroup": "2019-10-09",
         "marker": {
          "color": "#636efa",
          "symbol": "circle"
         },
         "mode": "markers",
         "name": "2019-10-09",
         "showlegend": true,
         "type": "scattergl",
         "x": [
          -2.0052399542582253
         ],
         "xaxis": "x",
         "y": [
          7.007494970348733
         ],
         "yaxis": "y"
        },
        {
         "hovertemplate": "date=2019-10-10<br>pc1=%{x}<br>pc2=%{y}<extra></extra>",
         "legendgroup": "2019-10-10",
         "marker": {
          "color": "#EF553B",
          "symbol": "circle"
         },
         "mode": "markers",
         "name": "2019-10-10",
         "showlegend": true,
         "type": "scattergl",
         "x": [
          -6.874972844413797
         ],
         "xaxis": "x",
         "y": [
          0.16626182236578835
         ],
         "yaxis": "y"
        },
        {
         "hovertemplate": "date=2019-10-11<br>pc1=%{x}<br>pc2=%{y}<extra></extra>",
         "legendgroup": "2019-10-11",
         "marker": {
          "color": "#00cc96",
          "symbol": "circle"
         },
         "mode": "markers",
         "name": "2019-10-11",
         "showlegend": true,
         "type": "scattergl",
         "x": [
          0.42736944420333467
         ],
         "xaxis": "x",
         "y": [
          4.152033462177188
         ],
         "yaxis": "y"
        },
        {
         "hovertemplate": "date=2019-10-12<br>pc1=%{x}<br>pc2=%{y}<extra></extra>",
         "legendgroup": "2019-10-12",
         "marker": {
          "color": "#ab63fa",
          "symbol": "circle"
         },
         "mode": "markers",
         "name": "2019-10-12",
         "showlegend": true,
         "type": "scattergl",
         "x": [
          16.12105703088563
         ],
         "xaxis": "x",
         "y": [
          6.10097693945216
         ],
         "yaxis": "y"
        },
        {
         "hovertemplate": "date=2019-10-13<br>pc1=%{x}<br>pc2=%{y}<extra></extra>",
         "legendgroup": "2019-10-13",
         "marker": {
          "color": "#FFA15A",
          "symbol": "circle"
         },
         "mode": "markers",
         "name": "2019-10-13",
         "showlegend": true,
         "type": "scattergl",
         "x": [
          20.83240555861262
         ],
         "xaxis": "x",
         "y": [
          32.15487619113551
         ],
         "yaxis": "y"
        },
        {
         "hovertemplate": "date=2019-10-14<br>pc1=%{x}<br>pc2=%{y}<extra></extra>",
         "legendgroup": "2019-10-14",
         "marker": {
          "color": "#19d3f3",
          "symbol": "circle"
         },
         "mode": "markers",
         "name": "2019-10-14",
         "showlegend": true,
         "type": "scattergl",
         "x": [
          14.785600941427418
         ],
         "xaxis": "x",
         "y": [
          12.864321063615549
         ],
         "yaxis": "y"
        },
        {
         "hovertemplate": "date=2019-10-15<br>pc1=%{x}<br>pc2=%{y}<extra></extra>",
         "legendgroup": "2019-10-15",
         "marker": {
          "color": "#FF6692",
          "symbol": "circle"
         },
         "mode": "markers",
         "name": "2019-10-15",
         "showlegend": true,
         "type": "scattergl",
         "x": [
          -4.605907412198713
         ],
         "xaxis": "x",
         "y": [
          2.8948136068446533
         ],
         "yaxis": "y"
        },
        {
         "hovertemplate": "date=2019-10-16<br>pc1=%{x}<br>pc2=%{y}<extra></extra>",
         "legendgroup": "2019-10-16",
         "marker": {
          "color": "#B6E880",
          "symbol": "circle"
         },
         "mode": "markers",
         "name": "2019-10-16",
         "showlegend": true,
         "type": "scattergl",
         "x": [
          -2.0147503089415357
         ],
         "xaxis": "x",
         "y": [
          6.826125589294512
         ],
         "yaxis": "y"
        },
        {
         "hovertemplate": "date=2019-10-17<br>pc1=%{x}<br>pc2=%{y}<extra></extra>",
         "legendgroup": "2019-10-17",
         "marker": {
          "color": "#FF97FF",
          "symbol": "circle"
         },
         "mode": "markers",
         "name": "2019-10-17",
         "showlegend": true,
         "type": "scattergl",
         "x": [
          -3.823085225331535
         ],
         "xaxis": "x",
         "y": [
          6.285874598000505
         ],
         "yaxis": "y"
        },
        {
         "hovertemplate": "date=2019-10-18<br>pc1=%{x}<br>pc2=%{y}<extra></extra>",
         "legendgroup": "2019-10-18",
         "marker": {
          "color": "#FECB52",
          "symbol": "circle"
         },
         "mode": "markers",
         "name": "2019-10-18",
         "showlegend": true,
         "type": "scattergl",
         "x": [
          -2.5516239865869994
         ],
         "xaxis": "x",
         "y": [
          4.638995863130591
         ],
         "yaxis": "y"
        },
        {
         "hovertemplate": "date=2019-10-19<br>pc1=%{x}<br>pc2=%{y}<extra></extra>",
         "legendgroup": "2019-10-19",
         "marker": {
          "color": "#636efa",
          "symbol": "circle"
         },
         "mode": "markers",
         "name": "2019-10-19",
         "showlegend": true,
         "type": "scattergl",
         "x": [
          -0.4519748240191774
         ],
         "xaxis": "x",
         "y": [
          -16.397768463068807
         ],
         "yaxis": "y"
        },
        {
         "hovertemplate": "date=2019-10-20<br>pc1=%{x}<br>pc2=%{y}<extra></extra>",
         "legendgroup": "2019-10-20",
         "marker": {
          "color": "#EF553B",
          "symbol": "circle"
         },
         "mode": "markers",
         "name": "2019-10-20",
         "showlegend": true,
         "type": "scattergl",
         "x": [
          27.108921488526335
         ],
         "xaxis": "x",
         "y": [
          15.060636726629948
         ],
         "yaxis": "y"
        },
        {
         "hovertemplate": "date=2019-10-21<br>pc1=%{x}<br>pc2=%{y}<extra></extra>",
         "legendgroup": "2019-10-21",
         "marker": {
          "color": "#00cc96",
          "symbol": "circle"
         },
         "mode": "markers",
         "name": "2019-10-21",
         "showlegend": true,
         "type": "scattergl",
         "x": [
          -2.006447588156468
         ],
         "xaxis": "x",
         "y": [
          3.3548629898674887
         ],
         "yaxis": "y"
        },
        {
         "hovertemplate": "date=2019-10-22<br>pc1=%{x}<br>pc2=%{y}<extra></extra>",
         "legendgroup": "2019-10-22",
         "marker": {
          "color": "#ab63fa",
          "symbol": "circle"
         },
         "mode": "markers",
         "name": "2019-10-22",
         "showlegend": true,
         "type": "scattergl",
         "x": [
          -1.0142534304298358
         ],
         "xaxis": "x",
         "y": [
          4.170733595846025
         ],
         "yaxis": "y"
        },
        {
         "hovertemplate": "date=2019-10-23<br>pc1=%{x}<br>pc2=%{y}<extra></extra>",
         "legendgroup": "2019-10-23",
         "marker": {
          "color": "#FFA15A",
          "symbol": "circle"
         },
         "mode": "markers",
         "name": "2019-10-23",
         "showlegend": true,
         "type": "scattergl",
         "x": [
          -7.022764922171894
         ],
         "xaxis": "x",
         "y": [
          7.374813862203552
         ],
         "yaxis": "y"
        },
        {
         "hovertemplate": "date=2019-10-24<br>pc1=%{x}<br>pc2=%{y}<extra></extra>",
         "legendgroup": "2019-10-24",
         "marker": {
          "color": "#19d3f3",
          "symbol": "circle"
         },
         "mode": "markers",
         "name": "2019-10-24",
         "showlegend": true,
         "type": "scattergl",
         "x": [
          -8.746634185853685
         ],
         "xaxis": "x",
         "y": [
          -1.057652501220196
         ],
         "yaxis": "y"
        },
        {
         "hovertemplate": "date=2019-10-25<br>pc1=%{x}<br>pc2=%{y}<extra></extra>",
         "legendgroup": "2019-10-25",
         "marker": {
          "color": "#FF6692",
          "symbol": "circle"
         },
         "mode": "markers",
         "name": "2019-10-25",
         "showlegend": true,
         "type": "scattergl",
         "x": [
          -2.76319969037724
         ],
         "xaxis": "x",
         "y": [
          1.9844583878334834
         ],
         "yaxis": "y"
        },
        {
         "hovertemplate": "date=2019-10-26<br>pc1=%{x}<br>pc2=%{y}<extra></extra>",
         "legendgroup": "2019-10-26",
         "marker": {
          "color": "#B6E880",
          "symbol": "circle"
         },
         "mode": "markers",
         "name": "2019-10-26",
         "showlegend": true,
         "type": "scattergl",
         "x": [
          15.629572302545883
         ],
         "xaxis": "x",
         "y": [
          -7.480069687659394
         ],
         "yaxis": "y"
        },
        {
         "hovertemplate": "date=2019-10-27<br>pc1=%{x}<br>pc2=%{y}<extra></extra>",
         "legendgroup": "2019-10-27",
         "marker": {
          "color": "#FF97FF",
          "symbol": "circle"
         },
         "mode": "markers",
         "name": "2019-10-27",
         "showlegend": true,
         "type": "scattergl",
         "x": [
          11.160344771035788
         ],
         "xaxis": "x",
         "y": [
          -4.385944520364772
         ],
         "yaxis": "y"
        },
        {
         "hovertemplate": "date=2019-10-28<br>pc1=%{x}<br>pc2=%{y}<extra></extra>",
         "legendgroup": "2019-10-28",
         "marker": {
          "color": "#FECB52",
          "symbol": "circle"
         },
         "mode": "markers",
         "name": "2019-10-28",
         "showlegend": true,
         "type": "scattergl",
         "x": [
          -6.960013887175626
         ],
         "xaxis": "x",
         "y": [
          6.5724547421995005
         ],
         "yaxis": "y"
        },
        {
         "hovertemplate": "date=2019-10-29<br>pc1=%{x}<br>pc2=%{y}<extra></extra>",
         "legendgroup": "2019-10-29",
         "marker": {
          "color": "#636efa",
          "symbol": "circle"
         },
         "mode": "markers",
         "name": "2019-10-29",
         "showlegend": true,
         "type": "scattergl",
         "x": [
          -3.9878125541635074
         ],
         "xaxis": "x",
         "y": [
          8.472438849370846
         ],
         "yaxis": "y"
        },
        {
         "hovertemplate": "date=2019-10-30<br>pc1=%{x}<br>pc2=%{y}<extra></extra>",
         "legendgroup": "2019-10-30",
         "marker": {
          "color": "#EF553B",
          "symbol": "circle"
         },
         "mode": "markers",
         "name": "2019-10-30",
         "showlegend": true,
         "type": "scattergl",
         "x": [
          -0.1779197301917786
         ],
         "xaxis": "x",
         "y": [
          6.117567224954223
         ],
         "yaxis": "y"
        },
        {
         "hovertemplate": "date=2019-10-31<br>pc1=%{x}<br>pc2=%{y}<extra></extra>",
         "legendgroup": "2019-10-31",
         "marker": {
          "color": "#00cc96",
          "symbol": "circle"
         },
         "mode": "markers",
         "name": "2019-10-31",
         "showlegend": true,
         "type": "scattergl",
         "x": [
          -0.8125522720898735
         ],
         "xaxis": "x",
         "y": [
          -2.1756928261085924
         ],
         "yaxis": "y"
        },
        {
         "hovertemplate": "date=2019-11-01<br>pc1=%{x}<br>pc2=%{y}<extra></extra>",
         "legendgroup": "2019-11-01",
         "marker": {
          "color": "#ab63fa",
          "symbol": "circle"
         },
         "mode": "markers",
         "name": "2019-11-01",
         "showlegend": true,
         "type": "scattergl",
         "x": [
          -3.6234964176633304
         ],
         "xaxis": "x",
         "y": [
          3.7049753025147685
         ],
         "yaxis": "y"
        },
        {
         "hovertemplate": "date=2019-11-02<br>pc1=%{x}<br>pc2=%{y}<extra></extra>",
         "legendgroup": "2019-11-02",
         "marker": {
          "color": "#FFA15A",
          "symbol": "circle"
         },
         "mode": "markers",
         "name": "2019-11-02",
         "showlegend": true,
         "type": "scattergl",
         "x": [
          11.594177884061887
         ],
         "xaxis": "x",
         "y": [
          -3.366450036076107
         ],
         "yaxis": "y"
        },
        {
         "hovertemplate": "date=2019-11-03<br>pc1=%{x}<br>pc2=%{y}<extra></extra>",
         "legendgroup": "2019-11-03",
         "marker": {
          "color": "#19d3f3",
          "symbol": "circle"
         },
         "mode": "markers",
         "name": "2019-11-03",
         "showlegend": true,
         "type": "scattergl",
         "x": [
          13.045387765501244
         ],
         "xaxis": "x",
         "y": [
          -5.8410016437774095
         ],
         "yaxis": "y"
        },
        {
         "hovertemplate": "date=2019-11-04<br>pc1=%{x}<br>pc2=%{y}<extra></extra>",
         "legendgroup": "2019-11-04",
         "marker": {
          "color": "#FF6692",
          "symbol": "circle"
         },
         "mode": "markers",
         "name": "2019-11-04",
         "showlegend": true,
         "type": "scattergl",
         "x": [
          -7.628350800276605
         ],
         "xaxis": "x",
         "y": [
          5.249387013359591
         ],
         "yaxis": "y"
        },
        {
         "hovertemplate": "date=2019-11-05<br>pc1=%{x}<br>pc2=%{y}<extra></extra>",
         "legendgroup": "2019-11-05",
         "marker": {
          "color": "#B6E880",
          "symbol": "circle"
         },
         "mode": "markers",
         "name": "2019-11-05",
         "showlegend": true,
         "type": "scattergl",
         "x": [
          -6.021813014443952
         ],
         "xaxis": "x",
         "y": [
          5.85157454507323
         ],
         "yaxis": "y"
        },
        {
         "hovertemplate": "date=2019-11-06<br>pc1=%{x}<br>pc2=%{y}<extra></extra>",
         "legendgroup": "2019-11-06",
         "marker": {
          "color": "#FF97FF",
          "symbol": "circle"
         },
         "mode": "markers",
         "name": "2019-11-06",
         "showlegend": true,
         "type": "scattergl",
         "x": [
          -7.288027330048033
         ],
         "xaxis": "x",
         "y": [
          3.3977924593641102
         ],
         "yaxis": "y"
        },
        {
         "hovertemplate": "date=2019-11-07<br>pc1=%{x}<br>pc2=%{y}<extra></extra>",
         "legendgroup": "2019-11-07",
         "marker": {
          "color": "#FECB52",
          "symbol": "circle"
         },
         "mode": "markers",
         "name": "2019-11-07",
         "showlegend": true,
         "type": "scattergl",
         "x": [
          -5.656392032710366
         ],
         "xaxis": "x",
         "y": [
          4.533199923655303
         ],
         "yaxis": "y"
        },
        {
         "hovertemplate": "date=2019-11-08<br>pc1=%{x}<br>pc2=%{y}<extra></extra>",
         "legendgroup": "2019-11-08",
         "marker": {
          "color": "#636efa",
          "symbol": "circle"
         },
         "mode": "markers",
         "name": "2019-11-08",
         "showlegend": true,
         "type": "scattergl",
         "x": [
          -1.2890568361629973
         ],
         "xaxis": "x",
         "y": [
          2.7256460005190615
         ],
         "yaxis": "y"
        },
        {
         "hovertemplate": "date=2019-11-09<br>pc1=%{x}<br>pc2=%{y}<extra></extra>",
         "legendgroup": "2019-11-09",
         "marker": {
          "color": "#EF553B",
          "symbol": "circle"
         },
         "mode": "markers",
         "name": "2019-11-09",
         "showlegend": true,
         "type": "scattergl",
         "x": [
          8.946841906394047
         ],
         "xaxis": "x",
         "y": [
          -3.492609361277231
         ],
         "yaxis": "y"
        },
        {
         "hovertemplate": "date=2019-11-10<br>pc1=%{x}<br>pc2=%{y}<extra></extra>",
         "legendgroup": "2019-11-10",
         "marker": {
          "color": "#00cc96",
          "symbol": "circle"
         },
         "mode": "markers",
         "name": "2019-11-10",
         "showlegend": true,
         "type": "scattergl",
         "x": [
          14.769831195735007
         ],
         "xaxis": "x",
         "y": [
          1.3165583857097602
         ],
         "yaxis": "y"
        },
        {
         "hovertemplate": "date=2019-11-11<br>pc1=%{x}<br>pc2=%{y}<extra></extra>",
         "legendgroup": "2019-11-11",
         "marker": {
          "color": "#ab63fa",
          "symbol": "circle"
         },
         "mode": "markers",
         "name": "2019-11-11",
         "showlegend": true,
         "type": "scattergl",
         "x": [
          31.40244450463689
         ],
         "xaxis": "x",
         "y": [
          35.745129807291676
         ],
         "yaxis": "y"
        },
        {
         "hovertemplate": "date=2019-11-12<br>pc1=%{x}<br>pc2=%{y}<extra></extra>",
         "legendgroup": "2019-11-12",
         "marker": {
          "color": "#FFA15A",
          "symbol": "circle"
         },
         "mode": "markers",
         "name": "2019-11-12",
         "showlegend": true,
         "type": "scattergl",
         "x": [
          -1.5140480607822155
         ],
         "xaxis": "x",
         "y": [
          7.4651575068041875
         ],
         "yaxis": "y"
        },
        {
         "hovertemplate": "date=2019-11-13<br>pc1=%{x}<br>pc2=%{y}<extra></extra>",
         "legendgroup": "2019-11-13",
         "marker": {
          "color": "#19d3f3",
          "symbol": "circle"
         },
         "mode": "markers",
         "name": "2019-11-13",
         "showlegend": true,
         "type": "scattergl",
         "x": [
          -4.049752913963723
         ],
         "xaxis": "x",
         "y": [
          6.1747100979700065
         ],
         "yaxis": "y"
        },
        {
         "hovertemplate": "date=2019-11-14<br>pc1=%{x}<br>pc2=%{y}<extra></extra>",
         "legendgroup": "2019-11-14",
         "marker": {
          "color": "#FF6692",
          "symbol": "circle"
         },
         "mode": "markers",
         "name": "2019-11-14",
         "showlegend": true,
         "type": "scattergl",
         "x": [
          -7.521227237565788
         ],
         "xaxis": "x",
         "y": [
          4.00272508411423
         ],
         "yaxis": "y"
        },
        {
         "hovertemplate": "date=2019-11-15<br>pc1=%{x}<br>pc2=%{y}<extra></extra>",
         "legendgroup": "2019-11-15",
         "marker": {
          "color": "#B6E880",
          "symbol": "circle"
         },
         "mode": "markers",
         "name": "2019-11-15",
         "showlegend": true,
         "type": "scattergl",
         "x": [
          -5.129872703244195
         ],
         "xaxis": "x",
         "y": [
          3.712480075079316
         ],
         "yaxis": "y"
        },
        {
         "hovertemplate": "date=2019-11-16<br>pc1=%{x}<br>pc2=%{y}<extra></extra>",
         "legendgroup": "2019-11-16",
         "marker": {
          "color": "#FF97FF",
          "symbol": "circle"
         },
         "mode": "markers",
         "name": "2019-11-16",
         "showlegend": true,
         "type": "scattergl",
         "x": [
          5.597146045977231
         ],
         "xaxis": "x",
         "y": [
          -11.603975910596697
         ],
         "yaxis": "y"
        },
        {
         "hovertemplate": "date=2019-11-17<br>pc1=%{x}<br>pc2=%{y}<extra></extra>",
         "legendgroup": "2019-11-17",
         "marker": {
          "color": "#FECB52",
          "symbol": "circle"
         },
         "mode": "markers",
         "name": "2019-11-17",
         "showlegend": true,
         "type": "scattergl",
         "x": [
          19.26776825033569
         ],
         "xaxis": "x",
         "y": [
          -2.4436229139614887
         ],
         "yaxis": "y"
        },
        {
         "hovertemplate": "date=2019-11-18<br>pc1=%{x}<br>pc2=%{y}<extra></extra>",
         "legendgroup": "2019-11-18",
         "marker": {
          "color": "#636efa",
          "symbol": "circle"
         },
         "mode": "markers",
         "name": "2019-11-18",
         "showlegend": true,
         "type": "scattergl",
         "x": [
          -3.6945715068465006
         ],
         "xaxis": "x",
         "y": [
          8.193847394247008
         ],
         "yaxis": "y"
        },
        {
         "hovertemplate": "date=2019-11-19<br>pc1=%{x}<br>pc2=%{y}<extra></extra>",
         "legendgroup": "2019-11-19",
         "marker": {
          "color": "#EF553B",
          "symbol": "circle"
         },
         "mode": "markers",
         "name": "2019-11-19",
         "showlegend": true,
         "type": "scattergl",
         "x": [
          -11.227938907600572
         ],
         "xaxis": "x",
         "y": [
          -6.578290776083491
         ],
         "yaxis": "y"
        },
        {
         "hovertemplate": "date=2019-11-20<br>pc1=%{x}<br>pc2=%{y}<extra></extra>",
         "legendgroup": "2019-11-20",
         "marker": {
          "color": "#00cc96",
          "symbol": "circle"
         },
         "mode": "markers",
         "name": "2019-11-20",
         "showlegend": true,
         "type": "scattergl",
         "x": [
          -2.9571803228802898
         ],
         "xaxis": "x",
         "y": [
          7.044997548267603
         ],
         "yaxis": "y"
        },
        {
         "hovertemplate": "date=2019-11-21<br>pc1=%{x}<br>pc2=%{y}<extra></extra>",
         "legendgroup": "2019-11-21",
         "marker": {
          "color": "#ab63fa",
          "symbol": "circle"
         },
         "mode": "markers",
         "name": "2019-11-21",
         "showlegend": true,
         "type": "scattergl",
         "x": [
          -6.347048709401538
         ],
         "xaxis": "x",
         "y": [
          -1.0206707218299496
         ],
         "yaxis": "y"
        },
        {
         "hovertemplate": "date=2019-11-22<br>pc1=%{x}<br>pc2=%{y}<extra></extra>",
         "legendgroup": "2019-11-22",
         "marker": {
          "color": "#FFA15A",
          "symbol": "circle"
         },
         "mode": "markers",
         "name": "2019-11-22",
         "showlegend": true,
         "type": "scattergl",
         "x": [
          -8.031664638746374
         ],
         "xaxis": "x",
         "y": [
          3.1291887477929667
         ],
         "yaxis": "y"
        },
        {
         "hovertemplate": "date=2019-11-23<br>pc1=%{x}<br>pc2=%{y}<extra></extra>",
         "legendgroup": "2019-11-23",
         "marker": {
          "color": "#19d3f3",
          "symbol": "circle"
         },
         "mode": "markers",
         "name": "2019-11-23",
         "showlegend": true,
         "type": "scattergl",
         "x": [
          5.470086498530687
         ],
         "xaxis": "x",
         "y": [
          -8.273942941256177
         ],
         "yaxis": "y"
        },
        {
         "hovertemplate": "date=2019-11-24<br>pc1=%{x}<br>pc2=%{y}<extra></extra>",
         "legendgroup": "2019-11-24",
         "marker": {
          "color": "#FF6692",
          "symbol": "circle"
         },
         "mode": "markers",
         "name": "2019-11-24",
         "showlegend": true,
         "type": "scattergl",
         "x": [
          12.100257771337123
         ],
         "xaxis": "x",
         "y": [
          -6.3031206187462745
         ],
         "yaxis": "y"
        },
        {
         "hovertemplate": "date=2019-11-25<br>pc1=%{x}<br>pc2=%{y}<extra></extra>",
         "legendgroup": "2019-11-25",
         "marker": {
          "color": "#B6E880",
          "symbol": "circle"
         },
         "mode": "markers",
         "name": "2019-11-25",
         "showlegend": true,
         "type": "scattergl",
         "x": [
          -17.33476475164603
         ],
         "xaxis": "x",
         "y": [
          10.152690216485473
         ],
         "yaxis": "y"
        },
        {
         "hovertemplate": "date=2019-11-26<br>pc1=%{x}<br>pc2=%{y}<extra></extra>",
         "legendgroup": "2019-11-26",
         "marker": {
          "color": "#FF97FF",
          "symbol": "circle"
         },
         "mode": "markers",
         "name": "2019-11-26",
         "showlegend": true,
         "type": "scattergl",
         "x": [
          -19.568839094105343
         ],
         "xaxis": "x",
         "y": [
          9.721573327356458
         ],
         "yaxis": "y"
        },
        {
         "hovertemplate": "date=2019-11-27<br>pc1=%{x}<br>pc2=%{y}<extra></extra>",
         "legendgroup": "2019-11-27",
         "marker": {
          "color": "#FECB52",
          "symbol": "circle"
         },
         "mode": "markers",
         "name": "2019-11-27",
         "showlegend": true,
         "type": "scattergl",
         "x": [
          -5.886399533485353
         ],
         "xaxis": "x",
         "y": [
          5.531396001335203
         ],
         "yaxis": "y"
        },
        {
         "hovertemplate": "date=2019-11-28<br>pc1=%{x}<br>pc2=%{y}<extra></extra>",
         "legendgroup": "2019-11-28",
         "marker": {
          "color": "#636efa",
          "symbol": "circle"
         },
         "mode": "markers",
         "name": "2019-11-28",
         "showlegend": true,
         "type": "scattergl",
         "x": [
          42.30650998842679
         ],
         "xaxis": "x",
         "y": [
          -19.595976107299293
         ],
         "yaxis": "y"
        },
        {
         "hovertemplate": "date=2019-11-29<br>pc1=%{x}<br>pc2=%{y}<extra></extra>",
         "legendgroup": "2019-11-29",
         "marker": {
          "color": "#EF553B",
          "symbol": "circle"
         },
         "mode": "markers",
         "name": "2019-11-29",
         "showlegend": true,
         "type": "scattergl",
         "x": [
          15.880582101475822
         ],
         "xaxis": "x",
         "y": [
          -10.803014507877576
         ],
         "yaxis": "y"
        },
        {
         "hovertemplate": "date=2019-11-30<br>pc1=%{x}<br>pc2=%{y}<extra></extra>",
         "legendgroup": "2019-11-30",
         "marker": {
          "color": "#00cc96",
          "symbol": "circle"
         },
         "mode": "markers",
         "name": "2019-11-30",
         "showlegend": true,
         "type": "scattergl",
         "x": [
          1.9961755151853215
         ],
         "xaxis": "x",
         "y": [
          2.739950307135501
         ],
         "yaxis": "y"
        },
        {
         "hovertemplate": "date=2019-12-01<br>pc1=%{x}<br>pc2=%{y}<extra></extra>",
         "legendgroup": "2019-12-01",
         "marker": {
          "color": "#ab63fa",
          "symbol": "circle"
         },
         "mode": "markers",
         "name": "2019-12-01",
         "showlegend": true,
         "type": "scattergl",
         "x": [
          3.8996771840260753
         ],
         "xaxis": "x",
         "y": [
          6.385620622405134
         ],
         "yaxis": "y"
        },
        {
         "hovertemplate": "date=2019-12-02<br>pc1=%{x}<br>pc2=%{y}<extra></extra>",
         "legendgroup": "2019-12-02",
         "marker": {
          "color": "#FFA15A",
          "symbol": "circle"
         },
         "mode": "markers",
         "name": "2019-12-02",
         "showlegend": true,
         "type": "scattergl",
         "x": [
          -10.127181017366283
         ],
         "xaxis": "x",
         "y": [
          9.751757048353403
         ],
         "yaxis": "y"
        },
        {
         "hovertemplate": "date=2019-12-03<br>pc1=%{x}<br>pc2=%{y}<extra></extra>",
         "legendgroup": "2019-12-03",
         "marker": {
          "color": "#19d3f3",
          "symbol": "circle"
         },
         "mode": "markers",
         "name": "2019-12-03",
         "showlegend": true,
         "type": "scattergl",
         "x": [
          -8.113225794129763
         ],
         "xaxis": "x",
         "y": [
          1.11947807406037
         ],
         "yaxis": "y"
        },
        {
         "hovertemplate": "date=2019-12-04<br>pc1=%{x}<br>pc2=%{y}<extra></extra>",
         "legendgroup": "2019-12-04",
         "marker": {
          "color": "#FF6692",
          "symbol": "circle"
         },
         "mode": "markers",
         "name": "2019-12-04",
         "showlegend": true,
         "type": "scattergl",
         "x": [
          -4.29125634820473
         ],
         "xaxis": "x",
         "y": [
          5.567127535919386
         ],
         "yaxis": "y"
        },
        {
         "hovertemplate": "date=2019-12-05<br>pc1=%{x}<br>pc2=%{y}<extra></extra>",
         "legendgroup": "2019-12-05",
         "marker": {
          "color": "#B6E880",
          "symbol": "circle"
         },
         "mode": "markers",
         "name": "2019-12-05",
         "showlegend": true,
         "type": "scattergl",
         "x": [
          -7.43329195962136
         ],
         "xaxis": "x",
         "y": [
          2.874278399967513
         ],
         "yaxis": "y"
        },
        {
         "hovertemplate": "date=2019-12-06<br>pc1=%{x}<br>pc2=%{y}<extra></extra>",
         "legendgroup": "2019-12-06",
         "marker": {
          "color": "#FF97FF",
          "symbol": "circle"
         },
         "mode": "markers",
         "name": "2019-12-06",
         "showlegend": true,
         "type": "scattergl",
         "x": [
          -4.3652236931700585
         ],
         "xaxis": "x",
         "y": [
          2.2479077594875196
         ],
         "yaxis": "y"
        },
        {
         "hovertemplate": "date=2019-12-07<br>pc1=%{x}<br>pc2=%{y}<extra></extra>",
         "legendgroup": "2019-12-07",
         "marker": {
          "color": "#FECB52",
          "symbol": "circle"
         },
         "mode": "markers",
         "name": "2019-12-07",
         "showlegend": true,
         "type": "scattergl",
         "x": [
          4.714612140618418
         ],
         "xaxis": "x",
         "y": [
          -10.177397619190126
         ],
         "yaxis": "y"
        },
        {
         "hovertemplate": "date=2019-12-08<br>pc1=%{x}<br>pc2=%{y}<extra></extra>",
         "legendgroup": "2019-12-08",
         "marker": {
          "color": "#636efa",
          "symbol": "circle"
         },
         "mode": "markers",
         "name": "2019-12-08",
         "showlegend": true,
         "type": "scattergl",
         "x": [
          16.856387444040973
         ],
         "xaxis": "x",
         "y": [
          -0.4046586612180229
         ],
         "yaxis": "y"
        },
        {
         "hovertemplate": "date=2019-12-09<br>pc1=%{x}<br>pc2=%{y}<extra></extra>",
         "legendgroup": "2019-12-09",
         "marker": {
          "color": "#EF553B",
          "symbol": "circle"
         },
         "mode": "markers",
         "name": "2019-12-09",
         "showlegend": true,
         "type": "scattergl",
         "x": [
          -6.901068281810195
         ],
         "xaxis": "x",
         "y": [
          1.6502299754066605
         ],
         "yaxis": "y"
        },
        {
         "hovertemplate": "date=2019-12-10<br>pc1=%{x}<br>pc2=%{y}<extra></extra>",
         "legendgroup": "2019-12-10",
         "marker": {
          "color": "#00cc96",
          "symbol": "circle"
         },
         "mode": "markers",
         "name": "2019-12-10",
         "showlegend": true,
         "type": "scattergl",
         "x": [
          -0.5952236704456993
         ],
         "xaxis": "x",
         "y": [
          5.454145884204927
         ],
         "yaxis": "y"
        },
        {
         "hovertemplate": "date=2019-12-11<br>pc1=%{x}<br>pc2=%{y}<extra></extra>",
         "legendgroup": "2019-12-11",
         "marker": {
          "color": "#ab63fa",
          "symbol": "circle"
         },
         "mode": "markers",
         "name": "2019-12-11",
         "showlegend": true,
         "type": "scattergl",
         "x": [
          -6.791634779263413
         ],
         "xaxis": "x",
         "y": [
          -4.8841700540295125
         ],
         "yaxis": "y"
        },
        {
         "hovertemplate": "date=2019-12-12<br>pc1=%{x}<br>pc2=%{y}<extra></extra>",
         "legendgroup": "2019-12-12",
         "marker": {
          "color": "#FFA15A",
          "symbol": "circle"
         },
         "mode": "markers",
         "name": "2019-12-12",
         "showlegend": true,
         "type": "scattergl",
         "x": [
          -4.92152813888935
         ],
         "xaxis": "x",
         "y": [
          5.131929176266011
         ],
         "yaxis": "y"
        },
        {
         "hovertemplate": "date=2019-12-13<br>pc1=%{x}<br>pc2=%{y}<extra></extra>",
         "legendgroup": "2019-12-13",
         "marker": {
          "color": "#19d3f3",
          "symbol": "circle"
         },
         "mode": "markers",
         "name": "2019-12-13",
         "showlegend": true,
         "type": "scattergl",
         "x": [
          21.30665068699248
         ],
         "xaxis": "x",
         "y": [
          46.26166653029138
         ],
         "yaxis": "y"
        },
        {
         "hovertemplate": "date=2019-12-14<br>pc1=%{x}<br>pc2=%{y}<extra></extra>",
         "legendgroup": "2019-12-14",
         "marker": {
          "color": "#FF6692",
          "symbol": "circle"
         },
         "mode": "markers",
         "name": "2019-12-14",
         "showlegend": true,
         "type": "scattergl",
         "x": [
          34.46387760716
         ],
         "xaxis": "x",
         "y": [
          37.04079328416576
         ],
         "yaxis": "y"
        },
        {
         "hovertemplate": "date=2019-12-15<br>pc1=%{x}<br>pc2=%{y}<extra></extra>",
         "legendgroup": "2019-12-15",
         "marker": {
          "color": "#B6E880",
          "symbol": "circle"
         },
         "mode": "markers",
         "name": "2019-12-15",
         "showlegend": true,
         "type": "scattergl",
         "x": [
          38.01635865757144
         ],
         "xaxis": "x",
         "y": [
          34.83330262063578
         ],
         "yaxis": "y"
        },
        {
         "hovertemplate": "date=2019-12-16<br>pc1=%{x}<br>pc2=%{y}<extra></extra>",
         "legendgroup": "2019-12-16",
         "marker": {
          "color": "#FF97FF",
          "symbol": "circle"
         },
         "mode": "markers",
         "name": "2019-12-16",
         "showlegend": true,
         "type": "scattergl",
         "x": [
          11.645376221883387
         ],
         "xaxis": "x",
         "y": [
          27.839164009811835
         ],
         "yaxis": "y"
        },
        {
         "hovertemplate": "date=2019-12-17<br>pc1=%{x}<br>pc2=%{y}<extra></extra>",
         "legendgroup": "2019-12-17",
         "marker": {
          "color": "#FECB52",
          "symbol": "circle"
         },
         "mode": "markers",
         "name": "2019-12-17",
         "showlegend": true,
         "type": "scattergl",
         "x": [
          17.64516543406785
         ],
         "xaxis": "x",
         "y": [
          37.9978698303971
         ],
         "yaxis": "y"
        },
        {
         "hovertemplate": "date=2019-12-18<br>pc1=%{x}<br>pc2=%{y}<extra></extra>",
         "legendgroup": "2019-12-18",
         "marker": {
          "color": "#636efa",
          "symbol": "circle"
         },
         "mode": "markers",
         "name": "2019-12-18",
         "showlegend": true,
         "type": "scattergl",
         "x": [
          24.575282944387293
         ],
         "xaxis": "x",
         "y": [
          43.173564976518186
         ],
         "yaxis": "y"
        },
        {
         "hovertemplate": "date=2019-12-19<br>pc1=%{x}<br>pc2=%{y}<extra></extra>",
         "legendgroup": "2019-12-19",
         "marker": {
          "color": "#EF553B",
          "symbol": "circle"
         },
         "mode": "markers",
         "name": "2019-12-19",
         "showlegend": true,
         "type": "scattergl",
         "x": [
          24.444270776856595
         ],
         "xaxis": "x",
         "y": [
          43.254512377487906
         ],
         "yaxis": "y"
        },
        {
         "hovertemplate": "date=2019-12-20<br>pc1=%{x}<br>pc2=%{y}<extra></extra>",
         "legendgroup": "2019-12-20",
         "marker": {
          "color": "#00cc96",
          "symbol": "circle"
         },
         "mode": "markers",
         "name": "2019-12-20",
         "showlegend": true,
         "type": "scattergl",
         "x": [
          4.8612757517561285
         ],
         "xaxis": "x",
         "y": [
          14.85659472650834
         ],
         "yaxis": "y"
        },
        {
         "hovertemplate": "date=2019-12-21<br>pc1=%{x}<br>pc2=%{y}<extra></extra>",
         "legendgroup": "2019-12-21",
         "marker": {
          "color": "#ab63fa",
          "symbol": "circle"
         },
         "mode": "markers",
         "name": "2019-12-21",
         "showlegend": true,
         "type": "scattergl",
         "x": [
          -0.3818109569296894
         ],
         "xaxis": "x",
         "y": [
          1.237949289402379
         ],
         "yaxis": "y"
        },
        {
         "hovertemplate": "date=2019-12-22<br>pc1=%{x}<br>pc2=%{y}<extra></extra>",
         "legendgroup": "2019-12-22",
         "marker": {
          "color": "#FFA15A",
          "symbol": "circle"
         },
         "mode": "markers",
         "name": "2019-12-22",
         "showlegend": true,
         "type": "scattergl",
         "x": [
          -7.354074049896248
         ],
         "xaxis": "x",
         "y": [
          7.473153740691227
         ],
         "yaxis": "y"
        },
        {
         "hovertemplate": "date=2019-12-23<br>pc1=%{x}<br>pc2=%{y}<extra></extra>",
         "legendgroup": "2019-12-23",
         "marker": {
          "color": "#19d3f3",
          "symbol": "circle"
         },
         "mode": "markers",
         "name": "2019-12-23",
         "showlegend": true,
         "type": "scattergl",
         "x": [
          -6.883132608582947
         ],
         "xaxis": "x",
         "y": [
          10.52480228363596
         ],
         "yaxis": "y"
        },
        {
         "hovertemplate": "date=2019-12-24<br>pc1=%{x}<br>pc2=%{y}<extra></extra>",
         "legendgroup": "2019-12-24",
         "marker": {
          "color": "#FF6692",
          "symbol": "circle"
         },
         "mode": "markers",
         "name": "2019-12-24",
         "showlegend": true,
         "type": "scattergl",
         "x": [
          17.94892385251568
         ],
         "xaxis": "x",
         "y": [
          3.483113512326404
         ],
         "yaxis": "y"
        },
        {
         "hovertemplate": "date=2019-12-25<br>pc1=%{x}<br>pc2=%{y}<extra></extra>",
         "legendgroup": "2019-12-25",
         "marker": {
          "color": "#B6E880",
          "symbol": "circle"
         },
         "mode": "markers",
         "name": "2019-12-25",
         "showlegend": true,
         "type": "scattergl",
         "x": [
          53.815255847309686
         ],
         "xaxis": "x",
         "y": [
          12.671004853001287
         ],
         "yaxis": "y"
        },
        {
         "hovertemplate": "date=2019-12-26<br>pc1=%{x}<br>pc2=%{y}<extra></extra>",
         "legendgroup": "2019-12-26",
         "marker": {
          "color": "#FF97FF",
          "symbol": "circle"
         },
         "mode": "markers",
         "name": "2019-12-26",
         "showlegend": true,
         "type": "scattergl",
         "x": [
          14.464600618328758
         ],
         "xaxis": "x",
         "y": [
          20.301920533710813
         ],
         "yaxis": "y"
        },
        {
         "hovertemplate": "date=2019-12-27<br>pc1=%{x}<br>pc2=%{y}<extra></extra>",
         "legendgroup": "2019-12-27",
         "marker": {
          "color": "#FECB52",
          "symbol": "circle"
         },
         "mode": "markers",
         "name": "2019-12-27",
         "showlegend": true,
         "type": "scattergl",
         "x": [
          -2.0722962261385405
         ],
         "xaxis": "x",
         "y": [
          6.907338233246027
         ],
         "yaxis": "y"
        },
        {
         "hovertemplate": "date=2019-12-28<br>pc1=%{x}<br>pc2=%{y}<extra></extra>",
         "legendgroup": "2019-12-28",
         "marker": {
          "color": "#636efa",
          "symbol": "circle"
         },
         "mode": "markers",
         "name": "2019-12-28",
         "showlegend": true,
         "type": "scattergl",
         "x": [
          -6.401422149634872
         ],
         "xaxis": "x",
         "y": [
          12.05022987021401
         ],
         "yaxis": "y"
        },
        {
         "hovertemplate": "date=2019-12-29<br>pc1=%{x}<br>pc2=%{y}<extra></extra>",
         "legendgroup": "2019-12-29",
         "marker": {
          "color": "#EF553B",
          "symbol": "circle"
         },
         "mode": "markers",
         "name": "2019-12-29",
         "showlegend": true,
         "type": "scattergl",
         "x": [
          -8.678370674453125
         ],
         "xaxis": "x",
         "y": [
          10.154863096798287
         ],
         "yaxis": "y"
        },
        {
         "hovertemplate": "date=2019-12-30<br>pc1=%{x}<br>pc2=%{y}<extra></extra>",
         "legendgroup": "2019-12-30",
         "marker": {
          "color": "#00cc96",
          "symbol": "circle"
         },
         "mode": "markers",
         "name": "2019-12-30",
         "showlegend": true,
         "type": "scattergl",
         "x": [
          -1.5049497696641156
         ],
         "xaxis": "x",
         "y": [
          7.411583723974273
         ],
         "yaxis": "y"
        },
        {
         "hovertemplate": "date=2019-12-31<br>pc1=%{x}<br>pc2=%{y}<extra></extra>",
         "legendgroup": "2019-12-31",
         "marker": {
          "color": "#ab63fa",
          "symbol": "circle"
         },
         "mode": "markers",
         "name": "2019-12-31",
         "showlegend": true,
         "type": "scattergl",
         "x": [
          8.495440526904932
         ],
         "xaxis": "x",
         "y": [
          1.5553024634780037
         ],
         "yaxis": "y"
        },
        {
         "hovertemplate": "date=2020-01-01<br>pc1=%{x}<br>pc2=%{y}<extra></extra>",
         "legendgroup": "2020-01-01",
         "marker": {
          "color": "#FFA15A",
          "symbol": "circle"
         },
         "mode": "markers",
         "name": "2020-01-01",
         "showlegend": true,
         "type": "scattergl",
         "x": [
          29.609053144500052
         ],
         "xaxis": "x",
         "y": [
          -14.627338712038663
         ],
         "yaxis": "y"
        },
        {
         "hovertemplate": "date=2020-01-02<br>pc1=%{x}<br>pc2=%{y}<extra></extra>",
         "legendgroup": "2020-01-02",
         "marker": {
          "color": "#19d3f3",
          "symbol": "circle"
         },
         "mode": "markers",
         "name": "2020-01-02",
         "showlegend": true,
         "type": "scattergl",
         "x": [
          -2.779919449559796
         ],
         "xaxis": "x",
         "y": [
          12.206227443805508
         ],
         "yaxis": "y"
        },
        {
         "hovertemplate": "date=2020-01-03<br>pc1=%{x}<br>pc2=%{y}<extra></extra>",
         "legendgroup": "2020-01-03",
         "marker": {
          "color": "#FF6692",
          "symbol": "circle"
         },
         "mode": "markers",
         "name": "2020-01-03",
         "showlegend": true,
         "type": "scattergl",
         "x": [
          -4.713964936655411
         ],
         "xaxis": "x",
         "y": [
          9.619417959453914
         ],
         "yaxis": "y"
        },
        {
         "hovertemplate": "date=2020-01-04<br>pc1=%{x}<br>pc2=%{y}<extra></extra>",
         "legendgroup": "2020-01-04",
         "marker": {
          "color": "#B6E880",
          "symbol": "circle"
         },
         "mode": "markers",
         "name": "2020-01-04",
         "showlegend": true,
         "type": "scattergl",
         "x": [
          5.454372950238975
         ],
         "xaxis": "x",
         "y": [
          5.892491345076825
         ],
         "yaxis": "y"
        },
        {
         "hovertemplate": "date=2020-01-05<br>pc1=%{x}<br>pc2=%{y}<extra></extra>",
         "legendgroup": "2020-01-05",
         "marker": {
          "color": "#FF97FF",
          "symbol": "circle"
         },
         "mode": "markers",
         "name": "2020-01-05",
         "showlegend": true,
         "type": "scattergl",
         "x": [
          10.260758817479621
         ],
         "xaxis": "x",
         "y": [
          -0.5478238785962574
         ],
         "yaxis": "y"
        },
        {
         "hovertemplate": "date=2020-01-06<br>pc1=%{x}<br>pc2=%{y}<extra></extra>",
         "legendgroup": "2020-01-06",
         "marker": {
          "color": "#FECB52",
          "symbol": "circle"
         },
         "mode": "markers",
         "name": "2020-01-06",
         "showlegend": true,
         "type": "scattergl",
         "x": [
          -4.336854093463493
         ],
         "xaxis": "x",
         "y": [
          9.324918901434616
         ],
         "yaxis": "y"
        },
        {
         "hovertemplate": "date=2020-01-07<br>pc1=%{x}<br>pc2=%{y}<extra></extra>",
         "legendgroup": "2020-01-07",
         "marker": {
          "color": "#636efa",
          "symbol": "circle"
         },
         "mode": "markers",
         "name": "2020-01-07",
         "showlegend": true,
         "type": "scattergl",
         "x": [
          -2.9908197251897253
         ],
         "xaxis": "x",
         "y": [
          6.065914290886115
         ],
         "yaxis": "y"
        },
        {
         "hovertemplate": "date=2020-01-08<br>pc1=%{x}<br>pc2=%{y}<extra></extra>",
         "legendgroup": "2020-01-08",
         "marker": {
          "color": "#EF553B",
          "symbol": "circle"
         },
         "mode": "markers",
         "name": "2020-01-08",
         "showlegend": true,
         "type": "scattergl",
         "x": [
          0.8666528035430882
         ],
         "xaxis": "x",
         "y": [
          9.21374495031409
         ],
         "yaxis": "y"
        },
        {
         "hovertemplate": "date=2020-01-09<br>pc1=%{x}<br>pc2=%{y}<extra></extra>",
         "legendgroup": "2020-01-09",
         "marker": {
          "color": "#00cc96",
          "symbol": "circle"
         },
         "mode": "markers",
         "name": "2020-01-09",
         "showlegend": true,
         "type": "scattergl",
         "x": [
          -2.305476499874882
         ],
         "xaxis": "x",
         "y": [
          7.644113336907202
         ],
         "yaxis": "y"
        },
        {
         "hovertemplate": "date=2020-01-10<br>pc1=%{x}<br>pc2=%{y}<extra></extra>",
         "legendgroup": "2020-01-10",
         "marker": {
          "color": "#ab63fa",
          "symbol": "circle"
         },
         "mode": "markers",
         "name": "2020-01-10",
         "showlegend": true,
         "type": "scattergl",
         "x": [
          2.462095306348198
         ],
         "xaxis": "x",
         "y": [
          11.656679690915958
         ],
         "yaxis": "y"
        },
        {
         "hovertemplate": "date=2020-01-11<br>pc1=%{x}<br>pc2=%{y}<extra></extra>",
         "legendgroup": "2020-01-11",
         "marker": {
          "color": "#FFA15A",
          "symbol": "circle"
         },
         "mode": "markers",
         "name": "2020-01-11",
         "showlegend": true,
         "type": "scattergl",
         "x": [
          18.647037247946948
         ],
         "xaxis": "x",
         "y": [
          -2.494925239039208
         ],
         "yaxis": "y"
        },
        {
         "hovertemplate": "date=2020-01-12<br>pc1=%{x}<br>pc2=%{y}<extra></extra>",
         "legendgroup": "2020-01-12",
         "marker": {
          "color": "#19d3f3",
          "symbol": "circle"
         },
         "mode": "markers",
         "name": "2020-01-12",
         "showlegend": true,
         "type": "scattergl",
         "x": [
          14.132868109241207
         ],
         "xaxis": "x",
         "y": [
          -4.92756737587168
         ],
         "yaxis": "y"
        },
        {
         "hovertemplate": "date=2020-01-13<br>pc1=%{x}<br>pc2=%{y}<extra></extra>",
         "legendgroup": "2020-01-13",
         "marker": {
          "color": "#FF6692",
          "symbol": "circle"
         },
         "mode": "markers",
         "name": "2020-01-13",
         "showlegend": true,
         "type": "scattergl",
         "x": [
          -4.174366535335275
         ],
         "xaxis": "x",
         "y": [
          11.828021366078323
         ],
         "yaxis": "y"
        },
        {
         "hovertemplate": "date=2020-01-14<br>pc1=%{x}<br>pc2=%{y}<extra></extra>",
         "legendgroup": "2020-01-14",
         "marker": {
          "color": "#B6E880",
          "symbol": "circle"
         },
         "mode": "markers",
         "name": "2020-01-14",
         "showlegend": true,
         "type": "scattergl",
         "x": [
          -5.374839516822432
         ],
         "xaxis": "x",
         "y": [
          6.755761829665952
         ],
         "yaxis": "y"
        },
        {
         "hovertemplate": "date=2020-01-15<br>pc1=%{x}<br>pc2=%{y}<extra></extra>",
         "legendgroup": "2020-01-15",
         "marker": {
          "color": "#FF97FF",
          "symbol": "circle"
         },
         "mode": "markers",
         "name": "2020-01-15",
         "showlegend": true,
         "type": "scattergl",
         "x": [
          -2.23299271983395
         ],
         "xaxis": "x",
         "y": [
          10.757904449693083
         ],
         "yaxis": "y"
        },
        {
         "hovertemplate": "date=2020-01-16<br>pc1=%{x}<br>pc2=%{y}<extra></extra>",
         "legendgroup": "2020-01-16",
         "marker": {
          "color": "#FECB52",
          "symbol": "circle"
         },
         "mode": "markers",
         "name": "2020-01-16",
         "showlegend": true,
         "type": "scattergl",
         "x": [
          -3.3605809165565756
         ],
         "xaxis": "x",
         "y": [
          6.452042762398832
         ],
         "yaxis": "y"
        },
        {
         "hovertemplate": "date=2020-01-17<br>pc1=%{x}<br>pc2=%{y}<extra></extra>",
         "legendgroup": "2020-01-17",
         "marker": {
          "color": "#636efa",
          "symbol": "circle"
         },
         "mode": "markers",
         "name": "2020-01-17",
         "showlegend": true,
         "type": "scattergl",
         "x": [
          -21.809431256921233
         ],
         "xaxis": "x",
         "y": [
          -17.97961699420081
         ],
         "yaxis": "y"
        },
        {
         "hovertemplate": "date=2020-01-18<br>pc1=%{x}<br>pc2=%{y}<extra></extra>",
         "legendgroup": "2020-01-18",
         "marker": {
          "color": "#EF553B",
          "symbol": "circle"
         },
         "mode": "markers",
         "name": "2020-01-18",
         "showlegend": true,
         "type": "scattergl",
         "x": [
          9.763585097252708
         ],
         "xaxis": "x",
         "y": [
          -2.3053406476292064
         ],
         "yaxis": "y"
        },
        {
         "hovertemplate": "date=2020-01-19<br>pc1=%{x}<br>pc2=%{y}<extra></extra>",
         "legendgroup": "2020-01-19",
         "marker": {
          "color": "#00cc96",
          "symbol": "circle"
         },
         "mode": "markers",
         "name": "2020-01-19",
         "showlegend": true,
         "type": "scattergl",
         "x": [
          15.176928408506797
         ],
         "xaxis": "x",
         "y": [
          0.23998113884074265
         ],
         "yaxis": "y"
        },
        {
         "hovertemplate": "date=2020-01-20<br>pc1=%{x}<br>pc2=%{y}<extra></extra>",
         "legendgroup": "2020-01-20",
         "marker": {
          "color": "#ab63fa",
          "symbol": "circle"
         },
         "mode": "markers",
         "name": "2020-01-20",
         "showlegend": true,
         "type": "scattergl",
         "x": [
          21.797968200299255
         ],
         "xaxis": "x",
         "y": [
          -7.631508689981874
         ],
         "yaxis": "y"
        },
        {
         "hovertemplate": "date=2020-01-21<br>pc1=%{x}<br>pc2=%{y}<extra></extra>",
         "legendgroup": "2020-01-21",
         "marker": {
          "color": "#FFA15A",
          "symbol": "circle"
         },
         "mode": "markers",
         "name": "2020-01-21",
         "showlegend": true,
         "type": "scattergl",
         "x": [
          -8.666336091924206
         ],
         "xaxis": "x",
         "y": [
          8.591764555175983
         ],
         "yaxis": "y"
        },
        {
         "hovertemplate": "date=2020-01-22<br>pc1=%{x}<br>pc2=%{y}<extra></extra>",
         "legendgroup": "2020-01-22",
         "marker": {
          "color": "#19d3f3",
          "symbol": "circle"
         },
         "mode": "markers",
         "name": "2020-01-22",
         "showlegend": true,
         "type": "scattergl",
         "x": [
          -6.267984783680258
         ],
         "xaxis": "x",
         "y": [
          13.227391126902766
         ],
         "yaxis": "y"
        },
        {
         "hovertemplate": "date=2020-01-23<br>pc1=%{x}<br>pc2=%{y}<extra></extra>",
         "legendgroup": "2020-01-23",
         "marker": {
          "color": "#FF6692",
          "symbol": "circle"
         },
         "mode": "markers",
         "name": "2020-01-23",
         "showlegend": true,
         "type": "scattergl",
         "x": [
          -7.107775463062009
         ],
         "xaxis": "x",
         "y": [
          10.571953082771019
         ],
         "yaxis": "y"
        },
        {
         "hovertemplate": "date=2020-01-24<br>pc1=%{x}<br>pc2=%{y}<extra></extra>",
         "legendgroup": "2020-01-24",
         "marker": {
          "color": "#B6E880",
          "symbol": "circle"
         },
         "mode": "markers",
         "name": "2020-01-24",
         "showlegend": true,
         "type": "scattergl",
         "x": [
          2.014025349474942
         ],
         "xaxis": "x",
         "y": [
          8.987955912714396
         ],
         "yaxis": "y"
        },
        {
         "hovertemplate": "date=2020-01-25<br>pc1=%{x}<br>pc2=%{y}<extra></extra>",
         "legendgroup": "2020-01-25",
         "marker": {
          "color": "#FF97FF",
          "symbol": "circle"
         },
         "mode": "markers",
         "name": "2020-01-25",
         "showlegend": true,
         "type": "scattergl",
         "x": [
          11.853049157907257
         ],
         "xaxis": "x",
         "y": [
          -8.917779145756572
         ],
         "yaxis": "y"
        },
        {
         "hovertemplate": "date=2020-01-26<br>pc1=%{x}<br>pc2=%{y}<extra></extra>",
         "legendgroup": "2020-01-26",
         "marker": {
          "color": "#FECB52",
          "symbol": "circle"
         },
         "mode": "markers",
         "name": "2020-01-26",
         "showlegend": true,
         "type": "scattergl",
         "x": [
          18.045493059307972
         ],
         "xaxis": "x",
         "y": [
          0.0952596966292777
         ],
         "yaxis": "y"
        },
        {
         "hovertemplate": "date=2020-01-27<br>pc1=%{x}<br>pc2=%{y}<extra></extra>",
         "legendgroup": "2020-01-27",
         "marker": {
          "color": "#636efa",
          "symbol": "circle"
         },
         "mode": "markers",
         "name": "2020-01-27",
         "showlegend": true,
         "type": "scattergl",
         "x": [
          -5.912200390821343
         ],
         "xaxis": "x",
         "y": [
          7.5338944733749855
         ],
         "yaxis": "y"
        },
        {
         "hovertemplate": "date=2020-01-28<br>pc1=%{x}<br>pc2=%{y}<extra></extra>",
         "legendgroup": "2020-01-28",
         "marker": {
          "color": "#EF553B",
          "symbol": "circle"
         },
         "mode": "markers",
         "name": "2020-01-28",
         "showlegend": true,
         "type": "scattergl",
         "x": [
          -1.126073411347811
         ],
         "xaxis": "x",
         "y": [
          11.232663600033138
         ],
         "yaxis": "y"
        },
        {
         "hovertemplate": "date=2020-01-29<br>pc1=%{x}<br>pc2=%{y}<extra></extra>",
         "legendgroup": "2020-01-29",
         "marker": {
          "color": "#00cc96",
          "symbol": "circle"
         },
         "mode": "markers",
         "name": "2020-01-29",
         "showlegend": true,
         "type": "scattergl",
         "x": [
          -2.6366163411111168
         ],
         "xaxis": "x",
         "y": [
          7.4387444269940985
         ],
         "yaxis": "y"
        },
        {
         "hovertemplate": "date=2020-01-30<br>pc1=%{x}<br>pc2=%{y}<extra></extra>",
         "legendgroup": "2020-01-30",
         "marker": {
          "color": "#ab63fa",
          "symbol": "circle"
         },
         "mode": "markers",
         "name": "2020-01-30",
         "showlegend": true,
         "type": "scattergl",
         "x": [
          -1.4001038646382467
         ],
         "xaxis": "x",
         "y": [
          10.679068156296848
         ],
         "yaxis": "y"
        },
        {
         "hovertemplate": "date=2020-01-31<br>pc1=%{x}<br>pc2=%{y}<extra></extra>",
         "legendgroup": "2020-01-31",
         "marker": {
          "color": "#FFA15A",
          "symbol": "circle"
         },
         "mode": "markers",
         "name": "2020-01-31",
         "showlegend": true,
         "type": "scattergl",
         "x": [
          2.9162504725804803
         ],
         "xaxis": "x",
         "y": [
          6.174432778387955
         ],
         "yaxis": "y"
        },
        {
         "hovertemplate": "date=2020-02-01<br>pc1=%{x}<br>pc2=%{y}<extra></extra>",
         "legendgroup": "2020-02-01",
         "marker": {
          "color": "#19d3f3",
          "symbol": "circle"
         },
         "mode": "markers",
         "name": "2020-02-01",
         "showlegend": true,
         "type": "scattergl",
         "x": [
          14.794198255849778
         ],
         "xaxis": "x",
         "y": [
          -1.2759491641038334
         ],
         "yaxis": "y"
        },
        {
         "hovertemplate": "date=2020-02-02<br>pc1=%{x}<br>pc2=%{y}<extra></extra>",
         "legendgroup": "2020-02-02",
         "marker": {
          "color": "#FF6692",
          "symbol": "circle"
         },
         "mode": "markers",
         "name": "2020-02-02",
         "showlegend": true,
         "type": "scattergl",
         "x": [
          15.20269525266723
         ],
         "xaxis": "x",
         "y": [
          -0.35571605050039595
         ],
         "yaxis": "y"
        },
        {
         "hovertemplate": "date=2020-02-03<br>pc1=%{x}<br>pc2=%{y}<extra></extra>",
         "legendgroup": "2020-02-03",
         "marker": {
          "color": "#B6E880",
          "symbol": "circle"
         },
         "mode": "markers",
         "name": "2020-02-03",
         "showlegend": true,
         "type": "scattergl",
         "x": [
          -6.635582072932003
         ],
         "xaxis": "x",
         "y": [
          5.461562962653345
         ],
         "yaxis": "y"
        },
        {
         "hovertemplate": "date=2020-02-04<br>pc1=%{x}<br>pc2=%{y}<extra></extra>",
         "legendgroup": "2020-02-04",
         "marker": {
          "color": "#FF97FF",
          "symbol": "circle"
         },
         "mode": "markers",
         "name": "2020-02-04",
         "showlegend": true,
         "type": "scattergl",
         "x": [
          -0.8804242645788728
         ],
         "xaxis": "x",
         "y": [
          9.782430807538931
         ],
         "yaxis": "y"
        },
        {
         "hovertemplate": "date=2020-02-05<br>pc1=%{x}<br>pc2=%{y}<extra></extra>",
         "legendgroup": "2020-02-05",
         "marker": {
          "color": "#FECB52",
          "symbol": "circle"
         },
         "mode": "markers",
         "name": "2020-02-05",
         "showlegend": true,
         "type": "scattergl",
         "x": [
          -4.037926601802565
         ],
         "xaxis": "x",
         "y": [
          4.637127376764644
         ],
         "yaxis": "y"
        },
        {
         "hovertemplate": "date=2020-02-06<br>pc1=%{x}<br>pc2=%{y}<extra></extra>",
         "legendgroup": "2020-02-06",
         "marker": {
          "color": "#636efa",
          "symbol": "circle"
         },
         "mode": "markers",
         "name": "2020-02-06",
         "showlegend": true,
         "type": "scattergl",
         "x": [
          -1.182287369608191
         ],
         "xaxis": "x",
         "y": [
          8.194928561264561
         ],
         "yaxis": "y"
        },
        {
         "hovertemplate": "date=2020-02-07<br>pc1=%{x}<br>pc2=%{y}<extra></extra>",
         "legendgroup": "2020-02-07",
         "marker": {
          "color": "#EF553B",
          "symbol": "circle"
         },
         "mode": "markers",
         "name": "2020-02-07",
         "showlegend": true,
         "type": "scattergl",
         "x": [
          -0.4110572979979332
         ],
         "xaxis": "x",
         "y": [
          6.517844775960844
         ],
         "yaxis": "y"
        },
        {
         "hovertemplate": "date=2020-02-08<br>pc1=%{x}<br>pc2=%{y}<extra></extra>",
         "legendgroup": "2020-02-08",
         "marker": {
          "color": "#00cc96",
          "symbol": "circle"
         },
         "mode": "markers",
         "name": "2020-02-08",
         "showlegend": true,
         "type": "scattergl",
         "x": [
          13.531525062289095
         ],
         "xaxis": "x",
         "y": [
          -4.1537199381984
         ],
         "yaxis": "y"
        },
        {
         "hovertemplate": "date=2020-02-09<br>pc1=%{x}<br>pc2=%{y}<extra></extra>",
         "legendgroup": "2020-02-09",
         "marker": {
          "color": "#ab63fa",
          "symbol": "circle"
         },
         "mode": "markers",
         "name": "2020-02-09",
         "showlegend": true,
         "type": "scattergl",
         "x": [
          14.302100438995385
         ],
         "xaxis": "x",
         "y": [
          -9.625631020093422
         ],
         "yaxis": "y"
        },
        {
         "hovertemplate": "date=2020-02-10<br>pc1=%{x}<br>pc2=%{y}<extra></extra>",
         "legendgroup": "2020-02-10",
         "marker": {
          "color": "#FFA15A",
          "symbol": "circle"
         },
         "mode": "markers",
         "name": "2020-02-10",
         "showlegend": true,
         "type": "scattergl",
         "x": [
          -4.381318203402107
         ],
         "xaxis": "x",
         "y": [
          10.782440861808805
         ],
         "yaxis": "y"
        },
        {
         "hovertemplate": "date=2020-02-11<br>pc1=%{x}<br>pc2=%{y}<extra></extra>",
         "legendgroup": "2020-02-11",
         "marker": {
          "color": "#19d3f3",
          "symbol": "circle"
         },
         "mode": "markers",
         "name": "2020-02-11",
         "showlegend": true,
         "type": "scattergl",
         "x": [
          -4.128443342734682
         ],
         "xaxis": "x",
         "y": [
          11.051822230092906
         ],
         "yaxis": "y"
        },
        {
         "hovertemplate": "date=2020-02-12<br>pc1=%{x}<br>pc2=%{y}<extra></extra>",
         "legendgroup": "2020-02-12",
         "marker": {
          "color": "#FF6692",
          "symbol": "circle"
         },
         "mode": "markers",
         "name": "2020-02-12",
         "showlegend": true,
         "type": "scattergl",
         "x": [
          -3.636260064581995
         ],
         "xaxis": "x",
         "y": [
          6.82106673792128
         ],
         "yaxis": "y"
        },
        {
         "hovertemplate": "date=2020-02-13<br>pc1=%{x}<br>pc2=%{y}<extra></extra>",
         "legendgroup": "2020-02-13",
         "marker": {
          "color": "#B6E880",
          "symbol": "circle"
         },
         "mode": "markers",
         "name": "2020-02-13",
         "showlegend": true,
         "type": "scattergl",
         "x": [
          -0.006414572641191374
         ],
         "xaxis": "x",
         "y": [
          7.049395993504808
         ],
         "yaxis": "y"
        },
        {
         "hovertemplate": "date=2020-02-14<br>pc1=%{x}<br>pc2=%{y}<extra></extra>",
         "legendgroup": "2020-02-14",
         "marker": {
          "color": "#FF97FF",
          "symbol": "circle"
         },
         "mode": "markers",
         "name": "2020-02-14",
         "showlegend": true,
         "type": "scattergl",
         "x": [
          0.6862120248192555
         ],
         "xaxis": "x",
         "y": [
          1.6109312023375726
         ],
         "yaxis": "y"
        },
        {
         "hovertemplate": "date=2020-02-15<br>pc1=%{x}<br>pc2=%{y}<extra></extra>",
         "legendgroup": "2020-02-15",
         "marker": {
          "color": "#FECB52",
          "symbol": "circle"
         },
         "mode": "markers",
         "name": "2020-02-15",
         "showlegend": true,
         "type": "scattergl",
         "x": [
          9.658823109927727
         ],
         "xaxis": "x",
         "y": [
          -1.741484998839928
         ],
         "yaxis": "y"
        },
        {
         "hovertemplate": "date=2020-02-16<br>pc1=%{x}<br>pc2=%{y}<extra></extra>",
         "legendgroup": "2020-02-16",
         "marker": {
          "color": "#636efa",
          "symbol": "circle"
         },
         "mode": "markers",
         "name": "2020-02-16",
         "showlegend": true,
         "type": "scattergl",
         "x": [
          6.049297375149407
         ],
         "xaxis": "x",
         "y": [
          -4.0357361332001895
         ],
         "yaxis": "y"
        },
        {
         "hovertemplate": "date=2020-02-17<br>pc1=%{x}<br>pc2=%{y}<extra></extra>",
         "legendgroup": "2020-02-17",
         "marker": {
          "color": "#EF553B",
          "symbol": "circle"
         },
         "mode": "markers",
         "name": "2020-02-17",
         "showlegend": true,
         "type": "scattergl",
         "x": [
          15.098408016919445
         ],
         "xaxis": "x",
         "y": [
          -0.3501644143683354
         ],
         "yaxis": "y"
        },
        {
         "hovertemplate": "date=2020-02-18<br>pc1=%{x}<br>pc2=%{y}<extra></extra>",
         "legendgroup": "2020-02-18",
         "marker": {
          "color": "#00cc96",
          "symbol": "circle"
         },
         "mode": "markers",
         "name": "2020-02-18",
         "showlegend": true,
         "type": "scattergl",
         "x": [
          -6.065357320163601
         ],
         "xaxis": "x",
         "y": [
          9.628925718052537
         ],
         "yaxis": "y"
        },
        {
         "hovertemplate": "date=2020-02-19<br>pc1=%{x}<br>pc2=%{y}<extra></extra>",
         "legendgroup": "2020-02-19",
         "marker": {
          "color": "#ab63fa",
          "symbol": "circle"
         },
         "mode": "markers",
         "name": "2020-02-19",
         "showlegend": true,
         "type": "scattergl",
         "x": [
          -4.376397781587967
         ],
         "xaxis": "x",
         "y": [
          9.757763010570764
         ],
         "yaxis": "y"
        },
        {
         "hovertemplate": "date=2020-02-20<br>pc1=%{x}<br>pc2=%{y}<extra></extra>",
         "legendgroup": "2020-02-20",
         "marker": {
          "color": "#FFA15A",
          "symbol": "circle"
         },
         "mode": "markers",
         "name": "2020-02-20",
         "showlegend": true,
         "type": "scattergl",
         "x": [
          -3.0466728704071566
         ],
         "xaxis": "x",
         "y": [
          8.890864144147805
         ],
         "yaxis": "y"
        },
        {
         "hovertemplate": "date=2020-02-21<br>pc1=%{x}<br>pc2=%{y}<extra></extra>",
         "legendgroup": "2020-02-21",
         "marker": {
          "color": "#19d3f3",
          "symbol": "circle"
         },
         "mode": "markers",
         "name": "2020-02-21",
         "showlegend": true,
         "type": "scattergl",
         "x": [
          -0.8705309568188414
         ],
         "xaxis": "x",
         "y": [
          2.643951044639034
         ],
         "yaxis": "y"
        },
        {
         "hovertemplate": "date=2020-02-22<br>pc1=%{x}<br>pc2=%{y}<extra></extra>",
         "legendgroup": "2020-02-22",
         "marker": {
          "color": "#FF6692",
          "symbol": "circle"
         },
         "mode": "markers",
         "name": "2020-02-22",
         "showlegend": true,
         "type": "scattergl",
         "x": [
          10.572515685418372
         ],
         "xaxis": "x",
         "y": [
          -4.444100836542646
         ],
         "yaxis": "y"
        },
        {
         "hovertemplate": "date=2020-02-23<br>pc1=%{x}<br>pc2=%{y}<extra></extra>",
         "legendgroup": "2020-02-23",
         "marker": {
          "color": "#B6E880",
          "symbol": "circle"
         },
         "mode": "markers",
         "name": "2020-02-23",
         "showlegend": true,
         "type": "scattergl",
         "x": [
          9.938830186546593
         ],
         "xaxis": "x",
         "y": [
          -6.878934187658218
         ],
         "yaxis": "y"
        },
        {
         "hovertemplate": "date=2020-02-24<br>pc1=%{x}<br>pc2=%{y}<extra></extra>",
         "legendgroup": "2020-02-24",
         "marker": {
          "color": "#FF97FF",
          "symbol": "circle"
         },
         "mode": "markers",
         "name": "2020-02-24",
         "showlegend": true,
         "type": "scattergl",
         "x": [
          -3.0502703079245426
         ],
         "xaxis": "x",
         "y": [
          10.128713952211777
         ],
         "yaxis": "y"
        },
        {
         "hovertemplate": "date=2020-02-25<br>pc1=%{x}<br>pc2=%{y}<extra></extra>",
         "legendgroup": "2020-02-25",
         "marker": {
          "color": "#FECB52",
          "symbol": "circle"
         },
         "mode": "markers",
         "name": "2020-02-25",
         "showlegend": true,
         "type": "scattergl",
         "x": [
          -2.0534412470087493
         ],
         "xaxis": "x",
         "y": [
          6.01173487658821
         ],
         "yaxis": "y"
        },
        {
         "hovertemplate": "date=2020-02-26<br>pc1=%{x}<br>pc2=%{y}<extra></extra>",
         "legendgroup": "2020-02-26",
         "marker": {
          "color": "#636efa",
          "symbol": "circle"
         },
         "mode": "markers",
         "name": "2020-02-26",
         "showlegend": true,
         "type": "scattergl",
         "x": [
          0.8532670043708365
         ],
         "xaxis": "x",
         "y": [
          7.9588421870214265
         ],
         "yaxis": "y"
        },
        {
         "hovertemplate": "date=2020-02-27<br>pc1=%{x}<br>pc2=%{y}<extra></extra>",
         "legendgroup": "2020-02-27",
         "marker": {
          "color": "#EF553B",
          "symbol": "circle"
         },
         "mode": "markers",
         "name": "2020-02-27",
         "showlegend": true,
         "type": "scattergl",
         "x": [
          -1.601521841913541
         ],
         "xaxis": "x",
         "y": [
          6.569300160329243
         ],
         "yaxis": "y"
        },
        {
         "hovertemplate": "date=2020-02-28<br>pc1=%{x}<br>pc2=%{y}<extra></extra>",
         "legendgroup": "2020-02-28",
         "marker": {
          "color": "#00cc96",
          "symbol": "circle"
         },
         "mode": "markers",
         "name": "2020-02-28",
         "showlegend": true,
         "type": "scattergl",
         "x": [
          0.9923206547175231
         ],
         "xaxis": "x",
         "y": [
          6.709370347022614
         ],
         "yaxis": "y"
        },
        {
         "hovertemplate": "date=2020-02-29<br>pc1=%{x}<br>pc2=%{y}<extra></extra>",
         "legendgroup": "2020-02-29",
         "marker": {
          "color": "#ab63fa",
          "symbol": "circle"
         },
         "mode": "markers",
         "name": "2020-02-29",
         "showlegend": true,
         "type": "scattergl",
         "x": [
          10.18627513745797
         ],
         "xaxis": "x",
         "y": [
          -5.378689574129398
         ],
         "yaxis": "y"
        },
        {
         "hovertemplate": "date=2020-03-01<br>pc1=%{x}<br>pc2=%{y}<extra></extra>",
         "legendgroup": "2020-03-01",
         "marker": {
          "color": "#FFA15A",
          "symbol": "circle"
         },
         "mode": "markers",
         "name": "2020-03-01",
         "showlegend": true,
         "type": "scattergl",
         "x": [
          11.955242585783381
         ],
         "xaxis": "x",
         "y": [
          -2.5340062404980763
         ],
         "yaxis": "y"
        },
        {
         "hovertemplate": "date=2020-03-02<br>pc1=%{x}<br>pc2=%{y}<extra></extra>",
         "legendgroup": "2020-03-02",
         "marker": {
          "color": "#19d3f3",
          "symbol": "circle"
         },
         "mode": "markers",
         "name": "2020-03-02",
         "showlegend": true,
         "type": "scattergl",
         "x": [
          -3.6866263167739564
         ],
         "xaxis": "x",
         "y": [
          4.477911830744267
         ],
         "yaxis": "y"
        },
        {
         "hovertemplate": "date=2020-03-03<br>pc1=%{x}<br>pc2=%{y}<extra></extra>",
         "legendgroup": "2020-03-03",
         "marker": {
          "color": "#FF6692",
          "symbol": "circle"
         },
         "mode": "markers",
         "name": "2020-03-03",
         "showlegend": true,
         "type": "scattergl",
         "x": [
          -2.74950898219796
         ],
         "xaxis": "x",
         "y": [
          8.488492038166003
         ],
         "yaxis": "y"
        },
        {
         "hovertemplate": "date=2020-03-04<br>pc1=%{x}<br>pc2=%{y}<extra></extra>",
         "legendgroup": "2020-03-04",
         "marker": {
          "color": "#B6E880",
          "symbol": "circle"
         },
         "mode": "markers",
         "name": "2020-03-04",
         "showlegend": true,
         "type": "scattergl",
         "x": [
          -1.2029213623532309
         ],
         "xaxis": "x",
         "y": [
          8.695626339145752
         ],
         "yaxis": "y"
        },
        {
         "hovertemplate": "date=2020-03-05<br>pc1=%{x}<br>pc2=%{y}<extra></extra>",
         "legendgroup": "2020-03-05",
         "marker": {
          "color": "#FF97FF",
          "symbol": "circle"
         },
         "mode": "markers",
         "name": "2020-03-05",
         "showlegend": true,
         "type": "scattergl",
         "x": [
          -3.5490498929969445
         ],
         "xaxis": "x",
         "y": [
          3.434046433814915
         ],
         "yaxis": "y"
        },
        {
         "hovertemplate": "date=2020-03-06<br>pc1=%{x}<br>pc2=%{y}<extra></extra>",
         "legendgroup": "2020-03-06",
         "marker": {
          "color": "#FECB52",
          "symbol": "circle"
         },
         "mode": "markers",
         "name": "2020-03-06",
         "showlegend": true,
         "type": "scattergl",
         "x": [
          3.428265738083493
         ],
         "xaxis": "x",
         "y": [
          6.796936395763198
         ],
         "yaxis": "y"
        },
        {
         "hovertemplate": "date=2020-03-07<br>pc1=%{x}<br>pc2=%{y}<extra></extra>",
         "legendgroup": "2020-03-07",
         "marker": {
          "color": "#636efa",
          "symbol": "circle"
         },
         "mode": "markers",
         "name": "2020-03-07",
         "showlegend": true,
         "type": "scattergl",
         "x": [
          7.293319310198327
         ],
         "xaxis": "x",
         "y": [
          -3.836066304054148
         ],
         "yaxis": "y"
        },
        {
         "hovertemplate": "date=2020-03-08<br>pc1=%{x}<br>pc2=%{y}<extra></extra>",
         "legendgroup": "2020-03-08",
         "marker": {
          "color": "#EF553B",
          "symbol": "circle"
         },
         "mode": "markers",
         "name": "2020-03-08",
         "showlegend": true,
         "type": "scattergl",
         "x": [
          6.406707705074547
         ],
         "xaxis": "x",
         "y": [
          -10.18855276142804
         ],
         "yaxis": "y"
        },
        {
         "hovertemplate": "date=2020-03-09<br>pc1=%{x}<br>pc2=%{y}<extra></extra>",
         "legendgroup": "2020-03-09",
         "marker": {
          "color": "#00cc96",
          "symbol": "circle"
         },
         "mode": "markers",
         "name": "2020-03-09",
         "showlegend": true,
         "type": "scattergl",
         "x": [
          -1.2593896887147153
         ],
         "xaxis": "x",
         "y": [
          8.334593447957628
         ],
         "yaxis": "y"
        },
        {
         "hovertemplate": "date=2020-03-10<br>pc1=%{x}<br>pc2=%{y}<extra></extra>",
         "legendgroup": "2020-03-10",
         "marker": {
          "color": "#ab63fa",
          "symbol": "circle"
         },
         "mode": "markers",
         "name": "2020-03-10",
         "showlegend": true,
         "type": "scattergl",
         "x": [
          -4.071079499514966
         ],
         "xaxis": "x",
         "y": [
          9.266779929129978
         ],
         "yaxis": "y"
        },
        {
         "hovertemplate": "date=2020-03-11<br>pc1=%{x}<br>pc2=%{y}<extra></extra>",
         "legendgroup": "2020-03-11",
         "marker": {
          "color": "#FFA15A",
          "symbol": "circle"
         },
         "mode": "markers",
         "name": "2020-03-11",
         "showlegend": true,
         "type": "scattergl",
         "x": [
          -3.144078153703115
         ],
         "xaxis": "x",
         "y": [
          11.545785854861544
         ],
         "yaxis": "y"
        },
        {
         "hovertemplate": "date=2020-03-12<br>pc1=%{x}<br>pc2=%{y}<extra></extra>",
         "legendgroup": "2020-03-12",
         "marker": {
          "color": "#19d3f3",
          "symbol": "circle"
         },
         "mode": "markers",
         "name": "2020-03-12",
         "showlegend": true,
         "type": "scattergl",
         "x": [
          0.8953556760785065
         ],
         "xaxis": "x",
         "y": [
          9.339054862011482
         ],
         "yaxis": "y"
        },
        {
         "hovertemplate": "date=2020-03-13<br>pc1=%{x}<br>pc2=%{y}<extra></extra>",
         "legendgroup": "2020-03-13",
         "marker": {
          "color": "#FF6692",
          "symbol": "circle"
         },
         "mode": "markers",
         "name": "2020-03-13",
         "showlegend": true,
         "type": "scattergl",
         "x": [
          4.46675263907986
         ],
         "xaxis": "x",
         "y": [
          4.556383060558689
         ],
         "yaxis": "y"
        },
        {
         "hovertemplate": "date=2020-03-14<br>pc1=%{x}<br>pc2=%{y}<extra></extra>",
         "legendgroup": "2020-03-14",
         "marker": {
          "color": "#B6E880",
          "symbol": "circle"
         },
         "mode": "markers",
         "name": "2020-03-14",
         "showlegend": true,
         "type": "scattergl",
         "x": [
          4.837572562686083
         ],
         "xaxis": "x",
         "y": [
          4.914005800854367
         ],
         "yaxis": "y"
        },
        {
         "hovertemplate": "date=2020-03-15<br>pc1=%{x}<br>pc2=%{y}<extra></extra>",
         "legendgroup": "2020-03-15",
         "marker": {
          "color": "#FF97FF",
          "symbol": "circle"
         },
         "mode": "markers",
         "name": "2020-03-15",
         "showlegend": true,
         "type": "scattergl",
         "x": [
          -3.3858233494048826
         ],
         "xaxis": "x",
         "y": [
          8.955530130412871
         ],
         "yaxis": "y"
        },
        {
         "hovertemplate": "date=2020-03-16<br>pc1=%{x}<br>pc2=%{y}<extra></extra>",
         "legendgroup": "2020-03-16",
         "marker": {
          "color": "#FECB52",
          "symbol": "circle"
         },
         "mode": "markers",
         "name": "2020-03-16",
         "showlegend": true,
         "type": "scattergl",
         "x": [
          3.519293711735041
         ],
         "xaxis": "x",
         "y": [
          5.05312015419655
         ],
         "yaxis": "y"
        },
        {
         "hovertemplate": "date=2020-03-17<br>pc1=%{x}<br>pc2=%{y}<extra></extra>",
         "legendgroup": "2020-03-17",
         "marker": {
          "color": "#636efa",
          "symbol": "circle"
         },
         "mode": "markers",
         "name": "2020-03-17",
         "showlegend": true,
         "type": "scattergl",
         "x": [
          6.099078874277382
         ],
         "xaxis": "x",
         "y": [
          -4.033275943773219
         ],
         "yaxis": "y"
        },
        {
         "hovertemplate": "date=2020-03-18<br>pc1=%{x}<br>pc2=%{y}<extra></extra>",
         "legendgroup": "2020-03-18",
         "marker": {
          "color": "#EF553B",
          "symbol": "circle"
         },
         "mode": "markers",
         "name": "2020-03-18",
         "showlegend": true,
         "type": "scattergl",
         "x": [
          10.852770595597562
         ],
         "xaxis": "x",
         "y": [
          -1.5208429052746546
         ],
         "yaxis": "y"
        },
        {
         "hovertemplate": "date=2020-03-19<br>pc1=%{x}<br>pc2=%{y}<extra></extra>",
         "legendgroup": "2020-03-19",
         "marker": {
          "color": "#00cc96",
          "symbol": "circle"
         },
         "mode": "markers",
         "name": "2020-03-19",
         "showlegend": true,
         "type": "scattergl",
         "x": [
          9.944283111548675
         ],
         "xaxis": "x",
         "y": [
          -4.200440516951677
         ],
         "yaxis": "y"
        },
        {
         "hovertemplate": "date=2020-03-20<br>pc1=%{x}<br>pc2=%{y}<extra></extra>",
         "legendgroup": "2020-03-20",
         "marker": {
          "color": "#ab63fa",
          "symbol": "circle"
         },
         "mode": "markers",
         "name": "2020-03-20",
         "showlegend": true,
         "type": "scattergl",
         "x": [
          8.86035244071189
         ],
         "xaxis": "x",
         "y": [
          0.3212417668528992
         ],
         "yaxis": "y"
        },
        {
         "hovertemplate": "date=2020-03-21<br>pc1=%{x}<br>pc2=%{y}<extra></extra>",
         "legendgroup": "2020-03-21",
         "marker": {
          "color": "#FFA15A",
          "symbol": "circle"
         },
         "mode": "markers",
         "name": "2020-03-21",
         "showlegend": true,
         "type": "scattergl",
         "x": [
          -16.518306079129665
         ],
         "xaxis": "x",
         "y": [
          -1.9507216466906372
         ],
         "yaxis": "y"
        },
        {
         "hovertemplate": "date=2020-03-22<br>pc1=%{x}<br>pc2=%{y}<extra></extra>",
         "legendgroup": "2020-03-22",
         "marker": {
          "color": "#19d3f3",
          "symbol": "circle"
         },
         "mode": "markers",
         "name": "2020-03-22",
         "showlegend": true,
         "type": "scattergl",
         "x": [
          -17.557769258382724
         ],
         "xaxis": "x",
         "y": [
          9.261785384620467
         ],
         "yaxis": "y"
        },
        {
         "hovertemplate": "date=2020-03-23<br>pc1=%{x}<br>pc2=%{y}<extra></extra>",
         "legendgroup": "2020-03-23",
         "marker": {
          "color": "#FF6692",
          "symbol": "circle"
         },
         "mode": "markers",
         "name": "2020-03-23",
         "showlegend": true,
         "type": "scattergl",
         "x": [
          2.1879956043405047
         ],
         "xaxis": "x",
         "y": [
          -7.429588999011993
         ],
         "yaxis": "y"
        },
        {
         "hovertemplate": "date=2020-03-24<br>pc1=%{x}<br>pc2=%{y}<extra></extra>",
         "legendgroup": "2020-03-24",
         "marker": {
          "color": "#B6E880",
          "symbol": "circle"
         },
         "mode": "markers",
         "name": "2020-03-24",
         "showlegend": true,
         "type": "scattergl",
         "x": [
          7.994376586041867
         ],
         "xaxis": "x",
         "y": [
          -3.95713713281419
         ],
         "yaxis": "y"
        },
        {
         "hovertemplate": "date=2020-03-25<br>pc1=%{x}<br>pc2=%{y}<extra></extra>",
         "legendgroup": "2020-03-25",
         "marker": {
          "color": "#FF97FF",
          "symbol": "circle"
         },
         "mode": "markers",
         "name": "2020-03-25",
         "showlegend": true,
         "type": "scattergl",
         "x": [
          6.2771347543393405
         ],
         "xaxis": "x",
         "y": [
          -5.565521710728391
         ],
         "yaxis": "y"
        },
        {
         "hovertemplate": "date=2020-03-26<br>pc1=%{x}<br>pc2=%{y}<extra></extra>",
         "legendgroup": "2020-03-26",
         "marker": {
          "color": "#FECB52",
          "symbol": "circle"
         },
         "mode": "markers",
         "name": "2020-03-26",
         "showlegend": true,
         "type": "scattergl",
         "x": [
          9.550191173757762
         ],
         "xaxis": "x",
         "y": [
          -3.1374909585280655
         ],
         "yaxis": "y"
        },
        {
         "hovertemplate": "date=2020-03-27<br>pc1=%{x}<br>pc2=%{y}<extra></extra>",
         "legendgroup": "2020-03-27",
         "marker": {
          "color": "#636efa",
          "symbol": "circle"
         },
         "mode": "markers",
         "name": "2020-03-27",
         "showlegend": true,
         "type": "scattergl",
         "x": [
          6.543584217753342
         ],
         "xaxis": "x",
         "y": [
          -5.064473969740805
         ],
         "yaxis": "y"
        },
        {
         "hovertemplate": "date=2020-03-28<br>pc1=%{x}<br>pc2=%{y}<extra></extra>",
         "legendgroup": "2020-03-28",
         "marker": {
          "color": "#EF553B",
          "symbol": "circle"
         },
         "mode": "markers",
         "name": "2020-03-28",
         "showlegend": true,
         "type": "scattergl",
         "x": [
          -12.93754711460173
         ],
         "xaxis": "x",
         "y": [
          7.105884555081687
         ],
         "yaxis": "y"
        },
        {
         "hovertemplate": "date=2020-03-29<br>pc1=%{x}<br>pc2=%{y}<extra></extra>",
         "legendgroup": "2020-03-29",
         "marker": {
          "color": "#00cc96",
          "symbol": "circle"
         },
         "mode": "markers",
         "name": "2020-03-29",
         "showlegend": true,
         "type": "scattergl",
         "x": [
          -23.00646401985876
         ],
         "xaxis": "x",
         "y": [
          6.827965538859339
         ],
         "yaxis": "y"
        },
        {
         "hovertemplate": "date=2020-03-30<br>pc1=%{x}<br>pc2=%{y}<extra></extra>",
         "legendgroup": "2020-03-30",
         "marker": {
          "color": "#ab63fa",
          "symbol": "circle"
         },
         "mode": "markers",
         "name": "2020-03-30",
         "showlegend": true,
         "type": "scattergl",
         "x": [
          4.2008362620836825
         ],
         "xaxis": "x",
         "y": [
          -2.2427715456091413
         ],
         "yaxis": "y"
        },
        {
         "hovertemplate": "date=2020-03-31<br>pc1=%{x}<br>pc2=%{y}<extra></extra>",
         "legendgroup": "2020-03-31",
         "marker": {
          "color": "#FFA15A",
          "symbol": "circle"
         },
         "mode": "markers",
         "name": "2020-03-31",
         "showlegend": true,
         "type": "scattergl",
         "x": [
          6.280471668492656
         ],
         "xaxis": "x",
         "y": [
          -8.561884859482127
         ],
         "yaxis": "y"
        },
        {
         "hovertemplate": "date=2020-04-01<br>pc1=%{x}<br>pc2=%{y}<extra></extra>",
         "legendgroup": "2020-04-01",
         "marker": {
          "color": "#19d3f3",
          "symbol": "circle"
         },
         "mode": "markers",
         "name": "2020-04-01",
         "showlegend": true,
         "type": "scattergl",
         "x": [
          7.316133429259947
         ],
         "xaxis": "x",
         "y": [
          -4.130007109046801
         ],
         "yaxis": "y"
        },
        {
         "hovertemplate": "date=2020-04-02<br>pc1=%{x}<br>pc2=%{y}<extra></extra>",
         "legendgroup": "2020-04-02",
         "marker": {
          "color": "#FF6692",
          "symbol": "circle"
         },
         "mode": "markers",
         "name": "2020-04-02",
         "showlegend": true,
         "type": "scattergl",
         "x": [
          8.134111510486514
         ],
         "xaxis": "x",
         "y": [
          -4.9114354179806705
         ],
         "yaxis": "y"
        },
        {
         "hovertemplate": "date=2020-04-03<br>pc1=%{x}<br>pc2=%{y}<extra></extra>",
         "legendgroup": "2020-04-03",
         "marker": {
          "color": "#B6E880",
          "symbol": "circle"
         },
         "mode": "markers",
         "name": "2020-04-03",
         "showlegend": true,
         "type": "scattergl",
         "x": [
          1.943523138218152
         ],
         "xaxis": "x",
         "y": [
          -10.697650125468895
         ],
         "yaxis": "y"
        },
        {
         "hovertemplate": "date=2020-04-04<br>pc1=%{x}<br>pc2=%{y}<extra></extra>",
         "legendgroup": "2020-04-04",
         "marker": {
          "color": "#FF97FF",
          "symbol": "circle"
         },
         "mode": "markers",
         "name": "2020-04-04",
         "showlegend": true,
         "type": "scattergl",
         "x": [
          -17.03731737672195
         ],
         "xaxis": "x",
         "y": [
          1.3754876196003623
         ],
         "yaxis": "y"
        },
        {
         "hovertemplate": "date=2020-04-05<br>pc1=%{x}<br>pc2=%{y}<extra></extra>",
         "legendgroup": "2020-04-05",
         "marker": {
          "color": "#FECB52",
          "symbol": "circle"
         },
         "mode": "markers",
         "name": "2020-04-05",
         "showlegend": true,
         "type": "scattergl",
         "x": [
          -23.178055960733264
         ],
         "xaxis": "x",
         "y": [
          7.177470837496989
         ],
         "yaxis": "y"
        },
        {
         "hovertemplate": "date=2020-04-06<br>pc1=%{x}<br>pc2=%{y}<extra></extra>",
         "legendgroup": "2020-04-06",
         "marker": {
          "color": "#636efa",
          "symbol": "circle"
         },
         "mode": "markers",
         "name": "2020-04-06",
         "showlegend": true,
         "type": "scattergl",
         "x": [
          1.6045071820142056
         ],
         "xaxis": "x",
         "y": [
          -7.061674217452667
         ],
         "yaxis": "y"
        },
        {
         "hovertemplate": "date=2020-04-07<br>pc1=%{x}<br>pc2=%{y}<extra></extra>",
         "legendgroup": "2020-04-07",
         "marker": {
          "color": "#EF553B",
          "symbol": "circle"
         },
         "mode": "markers",
         "name": "2020-04-07",
         "showlegend": true,
         "type": "scattergl",
         "x": [
          4.079659281899802
         ],
         "xaxis": "x",
         "y": [
          -9.956122410552103
         ],
         "yaxis": "y"
        },
        {
         "hovertemplate": "date=2020-04-08<br>pc1=%{x}<br>pc2=%{y}<extra></extra>",
         "legendgroup": "2020-04-08",
         "marker": {
          "color": "#00cc96",
          "symbol": "circle"
         },
         "mode": "markers",
         "name": "2020-04-08",
         "showlegend": true,
         "type": "scattergl",
         "x": [
          6.843896024403274
         ],
         "xaxis": "x",
         "y": [
          -6.6991798868463945
         ],
         "yaxis": "y"
        },
        {
         "hovertemplate": "date=2020-04-09<br>pc1=%{x}<br>pc2=%{y}<extra></extra>",
         "legendgroup": "2020-04-09",
         "marker": {
          "color": "#ab63fa",
          "symbol": "circle"
         },
         "mode": "markers",
         "name": "2020-04-09",
         "showlegend": true,
         "type": "scattergl",
         "x": [
          8.5115179010838
         ],
         "xaxis": "x",
         "y": [
          -4.782846352416315
         ],
         "yaxis": "y"
        },
        {
         "hovertemplate": "date=2020-04-10<br>pc1=%{x}<br>pc2=%{y}<extra></extra>",
         "legendgroup": "2020-04-10",
         "marker": {
          "color": "#FFA15A",
          "symbol": "circle"
         },
         "mode": "markers",
         "name": "2020-04-10",
         "showlegend": true,
         "type": "scattergl",
         "x": [
          7.117738358465417
         ],
         "xaxis": "x",
         "y": [
          -5.138896052841138
         ],
         "yaxis": "y"
        },
        {
         "hovertemplate": "date=2020-04-11<br>pc1=%{x}<br>pc2=%{y}<extra></extra>",
         "legendgroup": "2020-04-11",
         "marker": {
          "color": "#19d3f3",
          "symbol": "circle"
         },
         "mode": "markers",
         "name": "2020-04-11",
         "showlegend": true,
         "type": "scattergl",
         "x": [
          -17.04765000100608
         ],
         "xaxis": "x",
         "y": [
          3.0581715580974294
         ],
         "yaxis": "y"
        },
        {
         "hovertemplate": "date=2020-04-12<br>pc1=%{x}<br>pc2=%{y}<extra></extra>",
         "legendgroup": "2020-04-12",
         "marker": {
          "color": "#FF6692",
          "symbol": "circle"
         },
         "mode": "markers",
         "name": "2020-04-12",
         "showlegend": true,
         "type": "scattergl",
         "x": [
          -20.65337623646968
         ],
         "xaxis": "x",
         "y": [
          12.439317216311194
         ],
         "yaxis": "y"
        },
        {
         "hovertemplate": "date=2020-04-13<br>pc1=%{x}<br>pc2=%{y}<extra></extra>",
         "legendgroup": "2020-04-13",
         "marker": {
          "color": "#B6E880",
          "symbol": "circle"
         },
         "mode": "markers",
         "name": "2020-04-13",
         "showlegend": true,
         "type": "scattergl",
         "x": [
          2.820951101457382
         ],
         "xaxis": "x",
         "y": [
          -5.716691398743937
         ],
         "yaxis": "y"
        },
        {
         "hovertemplate": "date=2020-04-14<br>pc1=%{x}<br>pc2=%{y}<extra></extra>",
         "legendgroup": "2020-04-14",
         "marker": {
          "color": "#FF97FF",
          "symbol": "circle"
         },
         "mode": "markers",
         "name": "2020-04-14",
         "showlegend": true,
         "type": "scattergl",
         "x": [
          7.5939160494794615
         ],
         "xaxis": "x",
         "y": [
          -5.94989347334522
         ],
         "yaxis": "y"
        },
        {
         "hovertemplate": "date=2020-04-15<br>pc1=%{x}<br>pc2=%{y}<extra></extra>",
         "legendgroup": "2020-04-15",
         "marker": {
          "color": "#FECB52",
          "symbol": "circle"
         },
         "mode": "markers",
         "name": "2020-04-15",
         "showlegend": true,
         "type": "scattergl",
         "x": [
          5.404249424752371
         ],
         "xaxis": "x",
         "y": [
          -10.238128794080863
         ],
         "yaxis": "y"
        },
        {
         "hovertemplate": "date=2020-04-16<br>pc1=%{x}<br>pc2=%{y}<extra></extra>",
         "legendgroup": "2020-04-16",
         "marker": {
          "color": "#636efa",
          "symbol": "circle"
         },
         "mode": "markers",
         "name": "2020-04-16",
         "showlegend": true,
         "type": "scattergl",
         "x": [
          7.064551985906975
         ],
         "xaxis": "x",
         "y": [
          -6.685346666010243
         ],
         "yaxis": "y"
        },
        {
         "hovertemplate": "date=2020-04-17<br>pc1=%{x}<br>pc2=%{y}<extra></extra>",
         "legendgroup": "2020-04-17",
         "marker": {
          "color": "#EF553B",
          "symbol": "circle"
         },
         "mode": "markers",
         "name": "2020-04-17",
         "showlegend": true,
         "type": "scattergl",
         "x": [
          5.932362347676976
         ],
         "xaxis": "x",
         "y": [
          -8.304602010090644
         ],
         "yaxis": "y"
        },
        {
         "hovertemplate": "date=2020-04-18<br>pc1=%{x}<br>pc2=%{y}<extra></extra>",
         "legendgroup": "2020-04-18",
         "marker": {
          "color": "#00cc96",
          "symbol": "circle"
         },
         "mode": "markers",
         "name": "2020-04-18",
         "showlegend": true,
         "type": "scattergl",
         "x": [
          -19.496651154529104
         ],
         "xaxis": "x",
         "y": [
          -0.5440014875217023
         ],
         "yaxis": "y"
        },
        {
         "hovertemplate": "date=2020-04-19<br>pc1=%{x}<br>pc2=%{y}<extra></extra>",
         "legendgroup": "2020-04-19",
         "marker": {
          "color": "#ab63fa",
          "symbol": "circle"
         },
         "mode": "markers",
         "name": "2020-04-19",
         "showlegend": true,
         "type": "scattergl",
         "x": [
          -19.85914046191529
         ],
         "xaxis": "x",
         "y": [
          15.374486195887958
         ],
         "yaxis": "y"
        },
        {
         "hovertemplate": "date=2020-04-20<br>pc1=%{x}<br>pc2=%{y}<extra></extra>",
         "legendgroup": "2020-04-20",
         "marker": {
          "color": "#FFA15A",
          "symbol": "circle"
         },
         "mode": "markers",
         "name": "2020-04-20",
         "showlegend": true,
         "type": "scattergl",
         "x": [
          0.387433986090288
         ],
         "xaxis": "x",
         "y": [
          -8.290970439491225
         ],
         "yaxis": "y"
        },
        {
         "hovertemplate": "date=2020-04-21<br>pc1=%{x}<br>pc2=%{y}<extra></extra>",
         "legendgroup": "2020-04-21",
         "marker": {
          "color": "#19d3f3",
          "symbol": "circle"
         },
         "mode": "markers",
         "name": "2020-04-21",
         "showlegend": true,
         "type": "scattergl",
         "x": [
          8.387685095597114
         ],
         "xaxis": "x",
         "y": [
          -4.850684487862857
         ],
         "yaxis": "y"
        },
        {
         "hovertemplate": "date=2020-04-22<br>pc1=%{x}<br>pc2=%{y}<extra></extra>",
         "legendgroup": "2020-04-22",
         "marker": {
          "color": "#FF6692",
          "symbol": "circle"
         },
         "mode": "markers",
         "name": "2020-04-22",
         "showlegend": true,
         "type": "scattergl",
         "x": [
          6.178416635661571
         ],
         "xaxis": "x",
         "y": [
          -8.449588240193789
         ],
         "yaxis": "y"
        },
        {
         "hovertemplate": "date=2020-04-23<br>pc1=%{x}<br>pc2=%{y}<extra></extra>",
         "legendgroup": "2020-04-23",
         "marker": {
          "color": "#B6E880",
          "symbol": "circle"
         },
         "mode": "markers",
         "name": "2020-04-23",
         "showlegend": true,
         "type": "scattergl",
         "x": [
          9.731620661133928
         ],
         "xaxis": "x",
         "y": [
          -3.1011176671846536
         ],
         "yaxis": "y"
        },
        {
         "hovertemplate": "date=2020-04-24<br>pc1=%{x}<br>pc2=%{y}<extra></extra>",
         "legendgroup": "2020-04-24",
         "marker": {
          "color": "#FF97FF",
          "symbol": "circle"
         },
         "mode": "markers",
         "name": "2020-04-24",
         "showlegend": true,
         "type": "scattergl",
         "x": [
          5.753409006900817
         ],
         "xaxis": "x",
         "y": [
          -7.406891582598936
         ],
         "yaxis": "y"
        },
        {
         "hovertemplate": "date=2020-04-25<br>pc1=%{x}<br>pc2=%{y}<extra></extra>",
         "legendgroup": "2020-04-25",
         "marker": {
          "color": "#FECB52",
          "symbol": "circle"
         },
         "mode": "markers",
         "name": "2020-04-25",
         "showlegend": true,
         "type": "scattergl",
         "x": [
          -12.50978613569674
         ],
         "xaxis": "x",
         "y": [
          9.069093117380094
         ],
         "yaxis": "y"
        },
        {
         "hovertemplate": "date=2020-04-26<br>pc1=%{x}<br>pc2=%{y}<extra></extra>",
         "legendgroup": "2020-04-26",
         "marker": {
          "color": "#636efa",
          "symbol": "circle"
         },
         "mode": "markers",
         "name": "2020-04-26",
         "showlegend": true,
         "type": "scattergl",
         "x": [
          -21.58101700599636
         ],
         "xaxis": "x",
         "y": [
          12.220107055847864
         ],
         "yaxis": "y"
        },
        {
         "hovertemplate": "date=2020-04-27<br>pc1=%{x}<br>pc2=%{y}<extra></extra>",
         "legendgroup": "2020-04-27",
         "marker": {
          "color": "#EF553B",
          "symbol": "circle"
         },
         "mode": "markers",
         "name": "2020-04-27",
         "showlegend": true,
         "type": "scattergl",
         "x": [
          4.029499515227648
         ],
         "xaxis": "x",
         "y": [
          -2.541065249973172
         ],
         "yaxis": "y"
        },
        {
         "hovertemplate": "date=2020-04-28<br>pc1=%{x}<br>pc2=%{y}<extra></extra>",
         "legendgroup": "2020-04-28",
         "marker": {
          "color": "#00cc96",
          "symbol": "circle"
         },
         "mode": "markers",
         "name": "2020-04-28",
         "showlegend": true,
         "type": "scattergl",
         "x": [
          9.590900160639368
         ],
         "xaxis": "x",
         "y": [
          -2.459533117337869
         ],
         "yaxis": "y"
        },
        {
         "hovertemplate": "date=2020-04-29<br>pc1=%{x}<br>pc2=%{y}<extra></extra>",
         "legendgroup": "2020-04-29",
         "marker": {
          "color": "#ab63fa",
          "symbol": "circle"
         },
         "mode": "markers",
         "name": "2020-04-29",
         "showlegend": true,
         "type": "scattergl",
         "x": [
          11.124694465004703
         ],
         "xaxis": "x",
         "y": [
          -2.2723451425631978
         ],
         "yaxis": "y"
        },
        {
         "hovertemplate": "date=2020-04-30<br>pc1=%{x}<br>pc2=%{y}<extra></extra>",
         "legendgroup": "2020-04-30",
         "marker": {
          "color": "#FFA15A",
          "symbol": "circle"
         },
         "mode": "markers",
         "name": "2020-04-30",
         "showlegend": true,
         "type": "scattergl",
         "x": [
          9.470968353821638
         ],
         "xaxis": "x",
         "y": [
          -3.62977712968267
         ],
         "yaxis": "y"
        },
        {
         "hovertemplate": "date=2020-05-01<br>pc1=%{x}<br>pc2=%{y}<extra></extra>",
         "legendgroup": "2020-05-01",
         "marker": {
          "color": "#19d3f3",
          "symbol": "circle"
         },
         "mode": "markers",
         "name": "2020-05-01",
         "showlegend": true,
         "type": "scattergl",
         "x": [
          4.978630074160761
         ],
         "xaxis": "x",
         "y": [
          -5.680449458039899
         ],
         "yaxis": "y"
        },
        {
         "hovertemplate": "date=2020-05-02<br>pc1=%{x}<br>pc2=%{y}<extra></extra>",
         "legendgroup": "2020-05-02",
         "marker": {
          "color": "#FF6692",
          "symbol": "circle"
         },
         "mode": "markers",
         "name": "2020-05-02",
         "showlegend": true,
         "type": "scattergl",
         "x": [
          -16.26287542621287
         ],
         "xaxis": "x",
         "y": [
          5.053866131109531
         ],
         "yaxis": "y"
        },
        {
         "hovertemplate": "date=2020-05-03<br>pc1=%{x}<br>pc2=%{y}<extra></extra>",
         "legendgroup": "2020-05-03",
         "marker": {
          "color": "#B6E880",
          "symbol": "circle"
         },
         "mode": "markers",
         "name": "2020-05-03",
         "showlegend": true,
         "type": "scattergl",
         "x": [
          -22.415500463265456
         ],
         "xaxis": "x",
         "y": [
          10.03163991871105
         ],
         "yaxis": "y"
        },
        {
         "hovertemplate": "date=2020-05-04<br>pc1=%{x}<br>pc2=%{y}<extra></extra>",
         "legendgroup": "2020-05-04",
         "marker": {
          "color": "#FF97FF",
          "symbol": "circle"
         },
         "mode": "markers",
         "name": "2020-05-04",
         "showlegend": true,
         "type": "scattergl",
         "x": [
          5.502169486039514
         ],
         "xaxis": "x",
         "y": [
          -1.3606338414912695
         ],
         "yaxis": "y"
        },
        {
         "hovertemplate": "date=2020-05-05<br>pc1=%{x}<br>pc2=%{y}<extra></extra>",
         "legendgroup": "2020-05-05",
         "marker": {
          "color": "#FECB52",
          "symbol": "circle"
         },
         "mode": "markers",
         "name": "2020-05-05",
         "showlegend": true,
         "type": "scattergl",
         "x": [
          8.683639048584823
         ],
         "xaxis": "x",
         "y": [
          -5.270362704582981
         ],
         "yaxis": "y"
        },
        {
         "hovertemplate": "date=2020-05-06<br>pc1=%{x}<br>pc2=%{y}<extra></extra>",
         "legendgroup": "2020-05-06",
         "marker": {
          "color": "#636efa",
          "symbol": "circle"
         },
         "mode": "markers",
         "name": "2020-05-06",
         "showlegend": true,
         "type": "scattergl",
         "x": [
          9.00524348310298
         ],
         "xaxis": "x",
         "y": [
          -2.662648802464088
         ],
         "yaxis": "y"
        },
        {
         "hovertemplate": "date=2020-05-07<br>pc1=%{x}<br>pc2=%{y}<extra></extra>",
         "legendgroup": "2020-05-07",
         "marker": {
          "color": "#EF553B",
          "symbol": "circle"
         },
         "mode": "markers",
         "name": "2020-05-07",
         "showlegend": true,
         "type": "scattergl",
         "x": [
          5.41937313371586
         ],
         "xaxis": "x",
         "y": [
          -8.234961887867877
         ],
         "yaxis": "y"
        },
        {
         "hovertemplate": "date=2020-05-08<br>pc1=%{x}<br>pc2=%{y}<extra></extra>",
         "legendgroup": "2020-05-08",
         "marker": {
          "color": "#00cc96",
          "symbol": "circle"
         },
         "mode": "markers",
         "name": "2020-05-08",
         "showlegend": true,
         "type": "scattergl",
         "x": [
          9.090264090642265
         ],
         "xaxis": "x",
         "y": [
          -1.8913865859500942
         ],
         "yaxis": "y"
        },
        {
         "hovertemplate": "date=2020-05-09<br>pc1=%{x}<br>pc2=%{y}<extra></extra>",
         "legendgroup": "2020-05-09",
         "marker": {
          "color": "#ab63fa",
          "symbol": "circle"
         },
         "mode": "markers",
         "name": "2020-05-09",
         "showlegend": true,
         "type": "scattergl",
         "x": [
          -16.115892772232478
         ],
         "xaxis": "x",
         "y": [
          5.423178382428136
         ],
         "yaxis": "y"
        },
        {
         "hovertemplate": "date=2020-05-10<br>pc1=%{x}<br>pc2=%{y}<extra></extra>",
         "legendgroup": "2020-05-10",
         "marker": {
          "color": "#FFA15A",
          "symbol": "circle"
         },
         "mode": "markers",
         "name": "2020-05-10",
         "showlegend": true,
         "type": "scattergl",
         "x": [
          -19.646603314252555
         ],
         "xaxis": "x",
         "y": [
          13.265126091991384
         ],
         "yaxis": "y"
        },
        {
         "hovertemplate": "date=2020-05-11<br>pc1=%{x}<br>pc2=%{y}<extra></extra>",
         "legendgroup": "2020-05-11",
         "marker": {
          "color": "#19d3f3",
          "symbol": "circle"
         },
         "mode": "markers",
         "name": "2020-05-11",
         "showlegend": true,
         "type": "scattergl",
         "x": [
          2.8751131589821264
         ],
         "xaxis": "x",
         "y": [
          -5.432051515649658
         ],
         "yaxis": "y"
        },
        {
         "hovertemplate": "date=2020-05-12<br>pc1=%{x}<br>pc2=%{y}<extra></extra>",
         "legendgroup": "2020-05-12",
         "marker": {
          "color": "#FF6692",
          "symbol": "circle"
         },
         "mode": "markers",
         "name": "2020-05-12",
         "showlegend": true,
         "type": "scattergl",
         "x": [
          8.447800876910792
         ],
         "xaxis": "x",
         "y": [
          -3.9443067804290544
         ],
         "yaxis": "y"
        },
        {
         "hovertemplate": "date=2020-05-13<br>pc1=%{x}<br>pc2=%{y}<extra></extra>",
         "legendgroup": "2020-05-13",
         "marker": {
          "color": "#B6E880",
          "symbol": "circle"
         },
         "mode": "markers",
         "name": "2020-05-13",
         "showlegend": true,
         "type": "scattergl",
         "x": [
          6.140374615091922
         ],
         "xaxis": "x",
         "y": [
          -6.481994417968065
         ],
         "yaxis": "y"
        },
        {
         "hovertemplate": "date=2020-05-14<br>pc1=%{x}<br>pc2=%{y}<extra></extra>",
         "legendgroup": "2020-05-14",
         "marker": {
          "color": "#FF97FF",
          "symbol": "circle"
         },
         "mode": "markers",
         "name": "2020-05-14",
         "showlegend": true,
         "type": "scattergl",
         "x": [
          9.771565142774419
         ],
         "xaxis": "x",
         "y": [
          -4.422605889063735
         ],
         "yaxis": "y"
        },
        {
         "hovertemplate": "date=2020-05-15<br>pc1=%{x}<br>pc2=%{y}<extra></extra>",
         "legendgroup": "2020-05-15",
         "marker": {
          "color": "#FECB52",
          "symbol": "circle"
         },
         "mode": "markers",
         "name": "2020-05-15",
         "showlegend": true,
         "type": "scattergl",
         "x": [
          5.182343105160231
         ],
         "xaxis": "x",
         "y": [
          -8.104076222791306
         ],
         "yaxis": "y"
        },
        {
         "hovertemplate": "date=2020-05-16<br>pc1=%{x}<br>pc2=%{y}<extra></extra>",
         "legendgroup": "2020-05-16",
         "marker": {
          "color": "#636efa",
          "symbol": "circle"
         },
         "mode": "markers",
         "name": "2020-05-16",
         "showlegend": true,
         "type": "scattergl",
         "x": [
          -14.938749653508065
         ],
         "xaxis": "x",
         "y": [
          7.639984905522279
         ],
         "yaxis": "y"
        },
        {
         "hovertemplate": "date=2020-05-17<br>pc1=%{x}<br>pc2=%{y}<extra></extra>",
         "legendgroup": "2020-05-17",
         "marker": {
          "color": "#EF553B",
          "symbol": "circle"
         },
         "mode": "markers",
         "name": "2020-05-17",
         "showlegend": true,
         "type": "scattergl",
         "x": [
          -23.890111150347327
         ],
         "xaxis": "x",
         "y": [
          5.649787159908144
         ],
         "yaxis": "y"
        },
        {
         "hovertemplate": "date=2020-05-18<br>pc1=%{x}<br>pc2=%{y}<extra></extra>",
         "legendgroup": "2020-05-18",
         "marker": {
          "color": "#00cc96",
          "symbol": "circle"
         },
         "mode": "markers",
         "name": "2020-05-18",
         "showlegend": true,
         "type": "scattergl",
         "x": [
          4.976292459132561
         ],
         "xaxis": "x",
         "y": [
          -0.8648681684285108
         ],
         "yaxis": "y"
        },
        {
         "hovertemplate": "date=2020-05-19<br>pc1=%{x}<br>pc2=%{y}<extra></extra>",
         "legendgroup": "2020-05-19",
         "marker": {
          "color": "#ab63fa",
          "symbol": "circle"
         },
         "mode": "markers",
         "name": "2020-05-19",
         "showlegend": true,
         "type": "scattergl",
         "x": [
          9.813700622784658
         ],
         "xaxis": "x",
         "y": [
          -3.70548933700985
         ],
         "yaxis": "y"
        },
        {
         "hovertemplate": "date=2020-05-20<br>pc1=%{x}<br>pc2=%{y}<extra></extra>",
         "legendgroup": "2020-05-20",
         "marker": {
          "color": "#FFA15A",
          "symbol": "circle"
         },
         "mode": "markers",
         "name": "2020-05-20",
         "showlegend": true,
         "type": "scattergl",
         "x": [
          5.924615410851159
         ],
         "xaxis": "x",
         "y": [
          -6.845731473303047
         ],
         "yaxis": "y"
        },
        {
         "hovertemplate": "date=2020-05-21<br>pc1=%{x}<br>pc2=%{y}<extra></extra>",
         "legendgroup": "2020-05-21",
         "marker": {
          "color": "#19d3f3",
          "symbol": "circle"
         },
         "mode": "markers",
         "name": "2020-05-21",
         "showlegend": true,
         "type": "scattergl",
         "x": [
          9.00362889683985
         ],
         "xaxis": "x",
         "y": [
          -3.3736005938269686
         ],
         "yaxis": "y"
        },
        {
         "hovertemplate": "date=2020-05-22<br>pc1=%{x}<br>pc2=%{y}<extra></extra>",
         "legendgroup": "2020-05-22",
         "marker": {
          "color": "#FF6692",
          "symbol": "circle"
         },
         "mode": "markers",
         "name": "2020-05-22",
         "showlegend": true,
         "type": "scattergl",
         "x": [
          6.161794154160732
         ],
         "xaxis": "x",
         "y": [
          -4.567415777239189
         ],
         "yaxis": "y"
        },
        {
         "hovertemplate": "date=2020-05-23<br>pc1=%{x}<br>pc2=%{y}<extra></extra>",
         "legendgroup": "2020-05-23",
         "marker": {
          "color": "#B6E880",
          "symbol": "circle"
         },
         "mode": "markers",
         "name": "2020-05-23",
         "showlegend": true,
         "type": "scattergl",
         "x": [
          -13.759614121687909
         ],
         "xaxis": "x",
         "y": [
          8.507039450529215
         ],
         "yaxis": "y"
        },
        {
         "hovertemplate": "date=2020-05-24<br>pc1=%{x}<br>pc2=%{y}<extra></extra>",
         "legendgroup": "2020-05-24",
         "marker": {
          "color": "#FF97FF",
          "symbol": "circle"
         },
         "mode": "markers",
         "name": "2020-05-24",
         "showlegend": true,
         "type": "scattergl",
         "x": [
          -20.893509850966858
         ],
         "xaxis": "x",
         "y": [
          14.778778645330956
         ],
         "yaxis": "y"
        },
        {
         "hovertemplate": "date=2020-05-25<br>pc1=%{x}<br>pc2=%{y}<extra></extra>",
         "legendgroup": "2020-05-25",
         "marker": {
          "color": "#FECB52",
          "symbol": "circle"
         },
         "mode": "markers",
         "name": "2020-05-25",
         "showlegend": true,
         "type": "scattergl",
         "x": [
          34.39076609929327
         ],
         "xaxis": "x",
         "y": [
          36.52649854565088
         ],
         "yaxis": "y"
        },
        {
         "hovertemplate": "date=2020-05-26<br>pc1=%{x}<br>pc2=%{y}<extra></extra>",
         "legendgroup": "2020-05-26",
         "marker": {
          "color": "#636efa",
          "symbol": "circle"
         },
         "mode": "markers",
         "name": "2020-05-26",
         "showlegend": true,
         "type": "scattergl",
         "x": [
          34.09213406715828
         ],
         "xaxis": "x",
         "y": [
          37.26018719574062
         ],
         "yaxis": "y"
        },
        {
         "hovertemplate": "date=2020-05-27<br>pc1=%{x}<br>pc2=%{y}<extra></extra>",
         "legendgroup": "2020-05-27",
         "marker": {
          "color": "#EF553B",
          "symbol": "circle"
         },
         "mode": "markers",
         "name": "2020-05-27",
         "showlegend": true,
         "type": "scattergl",
         "x": [
          34.0550067529957
         ],
         "xaxis": "x",
         "y": [
          37.28472445905203
         ],
         "yaxis": "y"
        },
        {
         "hovertemplate": "date=2020-05-28<br>pc1=%{x}<br>pc2=%{y}<extra></extra>",
         "legendgroup": "2020-05-28",
         "marker": {
          "color": "#00cc96",
          "symbol": "circle"
         },
         "mode": "markers",
         "name": "2020-05-28",
         "showlegend": true,
         "type": "scattergl",
         "x": [
          33.6492785373955
         ],
         "xaxis": "x",
         "y": [
          37.53598606915057
         ],
         "yaxis": "y"
        },
        {
         "hovertemplate": "date=2020-05-29<br>pc1=%{x}<br>pc2=%{y}<extra></extra>",
         "legendgroup": "2020-05-29",
         "marker": {
          "color": "#ab63fa",
          "symbol": "circle"
         },
         "mode": "markers",
         "name": "2020-05-29",
         "showlegend": true,
         "type": "scattergl",
         "x": [
          12.762044304986475
         ],
         "xaxis": "x",
         "y": [
          9.607893148658551
         ],
         "yaxis": "y"
        },
        {
         "hovertemplate": "date=2020-05-30<br>pc1=%{x}<br>pc2=%{y}<extra></extra>",
         "legendgroup": "2020-05-30",
         "marker": {
          "color": "#FFA15A",
          "symbol": "circle"
         },
         "mode": "markers",
         "name": "2020-05-30",
         "showlegend": true,
         "type": "scattergl",
         "x": [
          -20.912309061702157
         ],
         "xaxis": "x",
         "y": [
          7.008915182965967
         ],
         "yaxis": "y"
        },
        {
         "hovertemplate": "date=2020-05-31<br>pc1=%{x}<br>pc2=%{y}<extra></extra>",
         "legendgroup": "2020-05-31",
         "marker": {
          "color": "#19d3f3",
          "symbol": "circle"
         },
         "mode": "markers",
         "name": "2020-05-31",
         "showlegend": true,
         "type": "scattergl",
         "x": [
          -23.76517967423114
         ],
         "xaxis": "x",
         "y": [
          5.833699165594432
         ],
         "yaxis": "y"
        },
        {
         "hovertemplate": "date=2020-06-01<br>pc1=%{x}<br>pc2=%{y}<extra></extra>",
         "legendgroup": "2020-06-01",
         "marker": {
          "color": "#FF6692",
          "symbol": "circle"
         },
         "mode": "markers",
         "name": "2020-06-01",
         "showlegend": true,
         "type": "scattergl",
         "x": [
          7.4851119266325385
         ],
         "xaxis": "x",
         "y": [
          -8.694480744839376
         ],
         "yaxis": "y"
        },
        {
         "hovertemplate": "date=2020-06-02<br>pc1=%{x}<br>pc2=%{y}<extra></extra>",
         "legendgroup": "2020-06-02",
         "marker": {
          "color": "#B6E880",
          "symbol": "circle"
         },
         "mode": "markers",
         "name": "2020-06-02",
         "showlegend": true,
         "type": "scattergl",
         "x": [
          8.447224484146428
         ],
         "xaxis": "x",
         "y": [
          -15.517496485383566
         ],
         "yaxis": "y"
        },
        {
         "hovertemplate": "date=2020-06-03<br>pc1=%{x}<br>pc2=%{y}<extra></extra>",
         "legendgroup": "2020-06-03",
         "marker": {
          "color": "#FF97FF",
          "symbol": "circle"
         },
         "mode": "markers",
         "name": "2020-06-03",
         "showlegend": true,
         "type": "scattergl",
         "x": [
          -0.26236806194613366
         ],
         "xaxis": "x",
         "y": [
          -17.78833877450871
         ],
         "yaxis": "y"
        },
        {
         "hovertemplate": "date=2020-06-04<br>pc1=%{x}<br>pc2=%{y}<extra></extra>",
         "legendgroup": "2020-06-04",
         "marker": {
          "color": "#FECB52",
          "symbol": "circle"
         },
         "mode": "markers",
         "name": "2020-06-04",
         "showlegend": true,
         "type": "scattergl",
         "x": [
          5.646897017918905
         ],
         "xaxis": "x",
         "y": [
          -4.684484424765098
         ],
         "yaxis": "y"
        },
        {
         "hovertemplate": "date=2020-06-05<br>pc1=%{x}<br>pc2=%{y}<extra></extra>",
         "legendgroup": "2020-06-05",
         "marker": {
          "color": "#636efa",
          "symbol": "circle"
         },
         "mode": "markers",
         "name": "2020-06-05",
         "showlegend": true,
         "type": "scattergl",
         "x": [
          3.3033375968029834
         ],
         "xaxis": "x",
         "y": [
          -8.57924288851305
         ],
         "yaxis": "y"
        },
        {
         "hovertemplate": "date=2020-06-06<br>pc1=%{x}<br>pc2=%{y}<extra></extra>",
         "legendgroup": "2020-06-06",
         "marker": {
          "color": "#EF553B",
          "symbol": "circle"
         },
         "mode": "markers",
         "name": "2020-06-06",
         "showlegend": true,
         "type": "scattergl",
         "x": [
          -22.947860583700873
         ],
         "xaxis": "x",
         "y": [
          -3.4280879275957274
         ],
         "yaxis": "y"
        },
        {
         "hovertemplate": "date=2020-06-07<br>pc1=%{x}<br>pc2=%{y}<extra></extra>",
         "legendgroup": "2020-06-07",
         "marker": {
          "color": "#00cc96",
          "symbol": "circle"
         },
         "mode": "markers",
         "name": "2020-06-07",
         "showlegend": true,
         "type": "scattergl",
         "x": [
          -24.605970157705116
         ],
         "xaxis": "x",
         "y": [
          6.0190388200198734
         ],
         "yaxis": "y"
        },
        {
         "hovertemplate": "date=2020-06-08<br>pc1=%{x}<br>pc2=%{y}<extra></extra>",
         "legendgroup": "2020-06-08",
         "marker": {
          "color": "#ab63fa",
          "symbol": "circle"
         },
         "mode": "markers",
         "name": "2020-06-08",
         "showlegend": true,
         "type": "scattergl",
         "x": [
          0.9345346013714856
         ],
         "xaxis": "x",
         "y": [
          -6.8656231209495315
         ],
         "yaxis": "y"
        },
        {
         "hovertemplate": "date=2020-06-09<br>pc1=%{x}<br>pc2=%{y}<extra></extra>",
         "legendgroup": "2020-06-09",
         "marker": {
          "color": "#FFA15A",
          "symbol": "circle"
         },
         "mode": "markers",
         "name": "2020-06-09",
         "showlegend": true,
         "type": "scattergl",
         "x": [
          7.115864007397798
         ],
         "xaxis": "x",
         "y": [
          -7.395370877209844
         ],
         "yaxis": "y"
        },
        {
         "hovertemplate": "date=2020-06-10<br>pc1=%{x}<br>pc2=%{y}<extra></extra>",
         "legendgroup": "2020-06-10",
         "marker": {
          "color": "#19d3f3",
          "symbol": "circle"
         },
         "mode": "markers",
         "name": "2020-06-10",
         "showlegend": true,
         "type": "scattergl",
         "x": [
          9.483021593163505
         ],
         "xaxis": "x",
         "y": [
          -3.0640737172226684
         ],
         "yaxis": "y"
        },
        {
         "hovertemplate": "date=2020-06-11<br>pc1=%{x}<br>pc2=%{y}<extra></extra>",
         "legendgroup": "2020-06-11",
         "marker": {
          "color": "#FF6692",
          "symbol": "circle"
         },
         "mode": "markers",
         "name": "2020-06-11",
         "showlegend": true,
         "type": "scattergl",
         "x": [
          9.50992232012664
         ],
         "xaxis": "x",
         "y": [
          -0.6283172930028942
         ],
         "yaxis": "y"
        },
        {
         "hovertemplate": "date=2020-06-12<br>pc1=%{x}<br>pc2=%{y}<extra></extra>",
         "legendgroup": "2020-06-12",
         "marker": {
          "color": "#B6E880",
          "symbol": "circle"
         },
         "mode": "markers",
         "name": "2020-06-12",
         "showlegend": true,
         "type": "scattergl",
         "x": [
          5.694456692437396
         ],
         "xaxis": "x",
         "y": [
          -5.183068228614512
         ],
         "yaxis": "y"
        },
        {
         "hovertemplate": "date=2020-06-13<br>pc1=%{x}<br>pc2=%{y}<extra></extra>",
         "legendgroup": "2020-06-13",
         "marker": {
          "color": "#FF97FF",
          "symbol": "circle"
         },
         "mode": "markers",
         "name": "2020-06-13",
         "showlegend": true,
         "type": "scattergl",
         "x": [
          -12.709689566616289
         ],
         "xaxis": "x",
         "y": [
          9.610993253566349
         ],
         "yaxis": "y"
        },
        {
         "hovertemplate": "date=2020-06-14<br>pc1=%{x}<br>pc2=%{y}<extra></extra>",
         "legendgroup": "2020-06-14",
         "marker": {
          "color": "#FECB52",
          "symbol": "circle"
         },
         "mode": "markers",
         "name": "2020-06-14",
         "showlegend": true,
         "type": "scattergl",
         "x": [
          -22.37546179459977
         ],
         "xaxis": "x",
         "y": [
          7.236094803600999
         ],
         "yaxis": "y"
        },
        {
         "hovertemplate": "date=2020-06-15<br>pc1=%{x}<br>pc2=%{y}<extra></extra>",
         "legendgroup": "2020-06-15",
         "marker": {
          "color": "#636efa",
          "symbol": "circle"
         },
         "mode": "markers",
         "name": "2020-06-15",
         "showlegend": true,
         "type": "scattergl",
         "x": [
          4.986999687482495
         ],
         "xaxis": "x",
         "y": [
          -1.2026432473046083
         ],
         "yaxis": "y"
        },
        {
         "hovertemplate": "date=2020-06-16<br>pc1=%{x}<br>pc2=%{y}<extra></extra>",
         "legendgroup": "2020-06-16",
         "marker": {
          "color": "#EF553B",
          "symbol": "circle"
         },
         "mode": "markers",
         "name": "2020-06-16",
         "showlegend": true,
         "type": "scattergl",
         "x": [
          10.519821923595186
         ],
         "xaxis": "x",
         "y": [
          -1.1647209757090644
         ],
         "yaxis": "y"
        },
        {
         "hovertemplate": "date=2020-06-17<br>pc1=%{x}<br>pc2=%{y}<extra></extra>",
         "legendgroup": "2020-06-17",
         "marker": {
          "color": "#00cc96",
          "symbol": "circle"
         },
         "mode": "markers",
         "name": "2020-06-17",
         "showlegend": true,
         "type": "scattergl",
         "x": [
          8.035029896725456
         ],
         "xaxis": "x",
         "y": [
          -3.4066771138263916
         ],
         "yaxis": "y"
        },
        {
         "hovertemplate": "date=2020-06-18<br>pc1=%{x}<br>pc2=%{y}<extra></extra>",
         "legendgroup": "2020-06-18",
         "marker": {
          "color": "#ab63fa",
          "symbol": "circle"
         },
         "mode": "markers",
         "name": "2020-06-18",
         "showlegend": true,
         "type": "scattergl",
         "x": [
          10.721727561831358
         ],
         "xaxis": "x",
         "y": [
          0.7245018072937357
         ],
         "yaxis": "y"
        },
        {
         "hovertemplate": "date=2020-06-19<br>pc1=%{x}<br>pc2=%{y}<extra></extra>",
         "legendgroup": "2020-06-19",
         "marker": {
          "color": "#FFA15A",
          "symbol": "circle"
         },
         "mode": "markers",
         "name": "2020-06-19",
         "showlegend": true,
         "type": "scattergl",
         "x": [
          7.820187760855538
         ],
         "xaxis": "x",
         "y": [
          -2.216370186125952
         ],
         "yaxis": "y"
        },
        {
         "hovertemplate": "date=2020-06-20<br>pc1=%{x}<br>pc2=%{y}<extra></extra>",
         "legendgroup": "2020-06-20",
         "marker": {
          "color": "#19d3f3",
          "symbol": "circle"
         },
         "mode": "markers",
         "name": "2020-06-20",
         "showlegend": true,
         "type": "scattergl",
         "x": [
          -15.923163393269636
         ],
         "xaxis": "x",
         "y": [
          0.7302091911930859
         ],
         "yaxis": "y"
        },
        {
         "hovertemplate": "date=2020-06-21<br>pc1=%{x}<br>pc2=%{y}<extra></extra>",
         "legendgroup": "2020-06-21",
         "marker": {
          "color": "#FF6692",
          "symbol": "circle"
         },
         "mode": "markers",
         "name": "2020-06-21",
         "showlegend": true,
         "type": "scattergl",
         "x": [
          -18.5838057223898
         ],
         "xaxis": "x",
         "y": [
          12.746982888706397
         ],
         "yaxis": "y"
        },
        {
         "hovertemplate": "date=2020-06-22<br>pc1=%{x}<br>pc2=%{y}<extra></extra>",
         "legendgroup": "2020-06-22",
         "marker": {
          "color": "#B6E880",
          "symbol": "circle"
         },
         "mode": "markers",
         "name": "2020-06-22",
         "showlegend": true,
         "type": "scattergl",
         "x": [
          6.891693489490108
         ],
         "xaxis": "x",
         "y": [
          -0.28936584719434355
         ],
         "yaxis": "y"
        },
        {
         "hovertemplate": "date=2020-06-23<br>pc1=%{x}<br>pc2=%{y}<extra></extra>",
         "legendgroup": "2020-06-23",
         "marker": {
          "color": "#FF97FF",
          "symbol": "circle"
         },
         "mode": "markers",
         "name": "2020-06-23",
         "showlegend": true,
         "type": "scattergl",
         "x": [
          8.142803142190015
         ],
         "xaxis": "x",
         "y": [
          -2.410903176415286
         ],
         "yaxis": "y"
        },
        {
         "hovertemplate": "date=2020-06-24<br>pc1=%{x}<br>pc2=%{y}<extra></extra>",
         "legendgroup": "2020-06-24",
         "marker": {
          "color": "#FECB52",
          "symbol": "circle"
         },
         "mode": "markers",
         "name": "2020-06-24",
         "showlegend": true,
         "type": "scattergl",
         "x": [
          9.542884137365734
         ],
         "xaxis": "x",
         "y": [
          0.16852355705720432
         ],
         "yaxis": "y"
        },
        {
         "hovertemplate": "date=2020-06-25<br>pc1=%{x}<br>pc2=%{y}<extra></extra>",
         "legendgroup": "2020-06-25",
         "marker": {
          "color": "#636efa",
          "symbol": "circle"
         },
         "mode": "markers",
         "name": "2020-06-25",
         "showlegend": true,
         "type": "scattergl",
         "x": [
          8.856821625141205
         ],
         "xaxis": "x",
         "y": [
          -0.7576717632037894
         ],
         "yaxis": "y"
        },
        {
         "hovertemplate": "date=2020-06-26<br>pc1=%{x}<br>pc2=%{y}<extra></extra>",
         "legendgroup": "2020-06-26",
         "marker": {
          "color": "#EF553B",
          "symbol": "circle"
         },
         "mode": "markers",
         "name": "2020-06-26",
         "showlegend": true,
         "type": "scattergl",
         "x": [
          9.66847345986598
         ],
         "xaxis": "x",
         "y": [
          -1.6853587776632584
         ],
         "yaxis": "y"
        },
        {
         "hovertemplate": "date=2020-06-27<br>pc1=%{x}<br>pc2=%{y}<extra></extra>",
         "legendgroup": "2020-06-27",
         "marker": {
          "color": "#00cc96",
          "symbol": "circle"
         },
         "mode": "markers",
         "name": "2020-06-27",
         "showlegend": true,
         "type": "scattergl",
         "x": [
          -12.187455643103792
         ],
         "xaxis": "x",
         "y": [
          10.743908771255935
         ],
         "yaxis": "y"
        },
        {
         "hovertemplate": "date=2020-06-28<br>pc1=%{x}<br>pc2=%{y}<extra></extra>",
         "legendgroup": "2020-06-28",
         "marker": {
          "color": "#ab63fa",
          "symbol": "circle"
         },
         "mode": "markers",
         "name": "2020-06-28",
         "showlegend": true,
         "type": "scattergl",
         "x": [
          -16.912059095675296
         ],
         "xaxis": "x",
         "y": [
          14.858184985569107
         ],
         "yaxis": "y"
        },
        {
         "hovertemplate": "date=2020-06-29<br>pc1=%{x}<br>pc2=%{y}<extra></extra>",
         "legendgroup": "2020-06-29",
         "marker": {
          "color": "#FFA15A",
          "symbol": "circle"
         },
         "mode": "markers",
         "name": "2020-06-29",
         "showlegend": true,
         "type": "scattergl",
         "x": [
          7.717342175457644
         ],
         "xaxis": "x",
         "y": [
          2.1071751835293586
         ],
         "yaxis": "y"
        },
        {
         "hovertemplate": "date=2020-06-30<br>pc1=%{x}<br>pc2=%{y}<extra></extra>",
         "legendgroup": "2020-06-30",
         "marker": {
          "color": "#19d3f3",
          "symbol": "circle"
         },
         "mode": "markers",
         "name": "2020-06-30",
         "showlegend": true,
         "type": "scattergl",
         "x": [
          8.523697659874813
         ],
         "xaxis": "x",
         "y": [
          -2.689310173957744
         ],
         "yaxis": "y"
        },
        {
         "hovertemplate": "date=2020-07-01<br>pc1=%{x}<br>pc2=%{y}<extra></extra>",
         "legendgroup": "2020-07-01",
         "marker": {
          "color": "#FF6692",
          "symbol": "circle"
         },
         "mode": "markers",
         "name": "2020-07-01",
         "showlegend": true,
         "type": "scattergl",
         "x": [
          6.060002706727221
         ],
         "xaxis": "x",
         "y": [
          -3.309714761804595
         ],
         "yaxis": "y"
        },
        {
         "hovertemplate": "date=2020-07-02<br>pc1=%{x}<br>pc2=%{y}<extra></extra>",
         "legendgroup": "2020-07-02",
         "marker": {
          "color": "#B6E880",
          "symbol": "circle"
         },
         "mode": "markers",
         "name": "2020-07-02",
         "showlegend": true,
         "type": "scattergl",
         "x": [
          -1.8397908646360883
         ],
         "xaxis": "x",
         "y": [
          -17.257292488581434
         ],
         "yaxis": "y"
        },
        {
         "hovertemplate": "date=2020-07-03<br>pc1=%{x}<br>pc2=%{y}<extra></extra>",
         "legendgroup": "2020-07-03",
         "marker": {
          "color": "#FF97FF",
          "symbol": "circle"
         },
         "mode": "markers",
         "name": "2020-07-03",
         "showlegend": true,
         "type": "scattergl",
         "x": [
          9.56550402916537
         ],
         "xaxis": "x",
         "y": [
          -4.60140070870263
         ],
         "yaxis": "y"
        },
        {
         "hovertemplate": "date=2020-07-04<br>pc1=%{x}<br>pc2=%{y}<extra></extra>",
         "legendgroup": "2020-07-04",
         "marker": {
          "color": "#FECB52",
          "symbol": "circle"
         },
         "mode": "markers",
         "name": "2020-07-04",
         "showlegend": true,
         "type": "scattergl",
         "x": [
          -15.122497665390851
         ],
         "xaxis": "x",
         "y": [
          0.4279598425953549
         ],
         "yaxis": "y"
        },
        {
         "hovertemplate": "date=2020-07-05<br>pc1=%{x}<br>pc2=%{y}<extra></extra>",
         "legendgroup": "2020-07-05",
         "marker": {
          "color": "#636efa",
          "symbol": "circle"
         },
         "mode": "markers",
         "name": "2020-07-05",
         "showlegend": true,
         "type": "scattergl",
         "x": [
          -16.407715806140757
         ],
         "xaxis": "x",
         "y": [
          14.789133988459689
         ],
         "yaxis": "y"
        },
        {
         "hovertemplate": "date=2020-07-06<br>pc1=%{x}<br>pc2=%{y}<extra></extra>",
         "legendgroup": "2020-07-06",
         "marker": {
          "color": "#EF553B",
          "symbol": "circle"
         },
         "mode": "markers",
         "name": "2020-07-06",
         "showlegend": true,
         "type": "scattergl",
         "x": [
          -0.9162151532839973
         ],
         "xaxis": "x",
         "y": [
          -9.320338961331462
         ],
         "yaxis": "y"
        },
        {
         "hovertemplate": "date=2020-07-07<br>pc1=%{x}<br>pc2=%{y}<extra></extra>",
         "legendgroup": "2020-07-07",
         "marker": {
          "color": "#00cc96",
          "symbol": "circle"
         },
         "mode": "markers",
         "name": "2020-07-07",
         "showlegend": true,
         "type": "scattergl",
         "x": [
          4.661769311628927
         ],
         "xaxis": "x",
         "y": [
          -8.545860208256954
         ],
         "yaxis": "y"
        },
        {
         "hovertemplate": "date=2020-07-08<br>pc1=%{x}<br>pc2=%{y}<extra></extra>",
         "legendgroup": "2020-07-08",
         "marker": {
          "color": "#ab63fa",
          "symbol": "circle"
         },
         "mode": "markers",
         "name": "2020-07-08",
         "showlegend": true,
         "type": "scattergl",
         "x": [
          7.739953147352569
         ],
         "xaxis": "x",
         "y": [
          -2.743504385117558
         ],
         "yaxis": "y"
        },
        {
         "hovertemplate": "date=2020-07-09<br>pc1=%{x}<br>pc2=%{y}<extra></extra>",
         "legendgroup": "2020-07-09",
         "marker": {
          "color": "#FFA15A",
          "symbol": "circle"
         },
         "mode": "markers",
         "name": "2020-07-09",
         "showlegend": true,
         "type": "scattergl",
         "x": [
          9.524962304166136
         ],
         "xaxis": "x",
         "y": [
          -0.8586422266594266
         ],
         "yaxis": "y"
        },
        {
         "hovertemplate": "date=2020-07-10<br>pc1=%{x}<br>pc2=%{y}<extra></extra>",
         "legendgroup": "2020-07-10",
         "marker": {
          "color": "#19d3f3",
          "symbol": "circle"
         },
         "mode": "markers",
         "name": "2020-07-10",
         "showlegend": true,
         "type": "scattergl",
         "x": [
          -2.5179679699065467
         ],
         "xaxis": "x",
         "y": [
          -18.648989530658554
         ],
         "yaxis": "y"
        },
        {
         "hovertemplate": "date=2020-07-11<br>pc1=%{x}<br>pc2=%{y}<extra></extra>",
         "legendgroup": "2020-07-11",
         "marker": {
          "color": "#FF6692",
          "symbol": "circle"
         },
         "mode": "markers",
         "name": "2020-07-11",
         "showlegend": true,
         "type": "scattergl",
         "x": [
          -18.13928174493159
         ],
         "xaxis": "x",
         "y": [
          -1.7360161997761987
         ],
         "yaxis": "y"
        },
        {
         "hovertemplate": "date=2020-07-12<br>pc1=%{x}<br>pc2=%{y}<extra></extra>",
         "legendgroup": "2020-07-12",
         "marker": {
          "color": "#B6E880",
          "symbol": "circle"
         },
         "mode": "markers",
         "name": "2020-07-12",
         "showlegend": true,
         "type": "scattergl",
         "x": [
          -25.440724611860663
         ],
         "xaxis": "x",
         "y": [
          -1.0800435759837634
         ],
         "yaxis": "y"
        },
        {
         "hovertemplate": "date=2020-07-13<br>pc1=%{x}<br>pc2=%{y}<extra></extra>",
         "legendgroup": "2020-07-13",
         "marker": {
          "color": "#FF97FF",
          "symbol": "circle"
         },
         "mode": "markers",
         "name": "2020-07-13",
         "showlegend": true,
         "type": "scattergl",
         "x": [
          3.478526489088103
         ],
         "xaxis": "x",
         "y": [
          -2.232370455389483
         ],
         "yaxis": "y"
        },
        {
         "hovertemplate": "date=2020-07-14<br>pc1=%{x}<br>pc2=%{y}<extra></extra>",
         "legendgroup": "2020-07-14",
         "marker": {
          "color": "#FECB52",
          "symbol": "circle"
         },
         "mode": "markers",
         "name": "2020-07-14",
         "showlegend": true,
         "type": "scattergl",
         "x": [
          10.07765275522529
         ],
         "xaxis": "x",
         "y": [
          -0.2822896388069933
         ],
         "yaxis": "y"
        },
        {
         "hovertemplate": "date=2020-07-15<br>pc1=%{x}<br>pc2=%{y}<extra></extra>",
         "legendgroup": "2020-07-15",
         "marker": {
          "color": "#636efa",
          "symbol": "circle"
         },
         "mode": "markers",
         "name": "2020-07-15",
         "showlegend": true,
         "type": "scattergl",
         "x": [
          7.182311353824456
         ],
         "xaxis": "x",
         "y": [
          -5.860457927842835
         ],
         "yaxis": "y"
        },
        {
         "hovertemplate": "date=2020-07-16<br>pc1=%{x}<br>pc2=%{y}<extra></extra>",
         "legendgroup": "2020-07-16",
         "marker": {
          "color": "#EF553B",
          "symbol": "circle"
         },
         "mode": "markers",
         "name": "2020-07-16",
         "showlegend": true,
         "type": "scattergl",
         "x": [
          8.166859245693157
         ],
         "xaxis": "x",
         "y": [
          -2.3697656074740734
         ],
         "yaxis": "y"
        },
        {
         "hovertemplate": "date=2020-07-17<br>pc1=%{x}<br>pc2=%{y}<extra></extra>",
         "legendgroup": "2020-07-17",
         "marker": {
          "color": "#00cc96",
          "symbol": "circle"
         },
         "mode": "markers",
         "name": "2020-07-17",
         "showlegend": true,
         "type": "scattergl",
         "x": [
          -0.5970197241130015
         ],
         "xaxis": "x",
         "y": [
          -13.03703618425576
         ],
         "yaxis": "y"
        },
        {
         "hovertemplate": "date=2020-07-18<br>pc1=%{x}<br>pc2=%{y}<extra></extra>",
         "legendgroup": "2020-07-18",
         "marker": {
          "color": "#ab63fa",
          "symbol": "circle"
         },
         "mode": "markers",
         "name": "2020-07-18",
         "showlegend": true,
         "type": "scattergl",
         "x": [
          -11.875977290548766
         ],
         "xaxis": "x",
         "y": [
          8.151622574272807
         ],
         "yaxis": "y"
        },
        {
         "hovertemplate": "date=2020-07-19<br>pc1=%{x}<br>pc2=%{y}<extra></extra>",
         "legendgroup": "2020-07-19",
         "marker": {
          "color": "#FFA15A",
          "symbol": "circle"
         },
         "mode": "markers",
         "name": "2020-07-19",
         "showlegend": true,
         "type": "scattergl",
         "x": [
          -18.952245274035135
         ],
         "xaxis": "x",
         "y": [
          6.625926263345354
         ],
         "yaxis": "y"
        },
        {
         "hovertemplate": "date=2020-07-20<br>pc1=%{x}<br>pc2=%{y}<extra></extra>",
         "legendgroup": "2020-07-20",
         "marker": {
          "color": "#19d3f3",
          "symbol": "circle"
         },
         "mode": "markers",
         "name": "2020-07-20",
         "showlegend": true,
         "type": "scattergl",
         "x": [
          6.0666890402886775
         ],
         "xaxis": "x",
         "y": [
          1.5570744008953648
         ],
         "yaxis": "y"
        },
        {
         "hovertemplate": "date=2020-07-21<br>pc1=%{x}<br>pc2=%{y}<extra></extra>",
         "legendgroup": "2020-07-21",
         "marker": {
          "color": "#FF6692",
          "symbol": "circle"
         },
         "mode": "markers",
         "name": "2020-07-21",
         "showlegend": true,
         "type": "scattergl",
         "x": [
          9.752624990531197
         ],
         "xaxis": "x",
         "y": [
          -1.5321170735776781
         ],
         "yaxis": "y"
        },
        {
         "hovertemplate": "date=2020-07-22<br>pc1=%{x}<br>pc2=%{y}<extra></extra>",
         "legendgroup": "2020-07-22",
         "marker": {
          "color": "#B6E880",
          "symbol": "circle"
         },
         "mode": "markers",
         "name": "2020-07-22",
         "showlegend": true,
         "type": "scattergl",
         "x": [
          10.068274628008739
         ],
         "xaxis": "x",
         "y": [
          0.15219119744957768
         ],
         "yaxis": "y"
        },
        {
         "hovertemplate": "date=2020-07-23<br>pc1=%{x}<br>pc2=%{y}<extra></extra>",
         "legendgroup": "2020-07-23",
         "marker": {
          "color": "#FF97FF",
          "symbol": "circle"
         },
         "mode": "markers",
         "name": "2020-07-23",
         "showlegend": true,
         "type": "scattergl",
         "x": [
          9.386788979353662
         ],
         "xaxis": "x",
         "y": [
          -0.6574881321577397
         ],
         "yaxis": "y"
        },
        {
         "hovertemplate": "date=2020-07-24<br>pc1=%{x}<br>pc2=%{y}<extra></extra>",
         "legendgroup": "2020-07-24",
         "marker": {
          "color": "#FECB52",
          "symbol": "circle"
         },
         "mode": "markers",
         "name": "2020-07-24",
         "showlegend": true,
         "type": "scattergl",
         "x": [
          5.900795076652087
         ],
         "xaxis": "x",
         "y": [
          -2.716568553083612
         ],
         "yaxis": "y"
        },
        {
         "hovertemplate": "date=2020-07-25<br>pc1=%{x}<br>pc2=%{y}<extra></extra>",
         "legendgroup": "2020-07-25",
         "marker": {
          "color": "#636efa",
          "symbol": "circle"
         },
         "mode": "markers",
         "name": "2020-07-25",
         "showlegend": true,
         "type": "scattergl",
         "x": [
          -12.015293539131806
         ],
         "xaxis": "x",
         "y": [
          9.204051740022923
         ],
         "yaxis": "y"
        },
        {
         "hovertemplate": "date=2020-07-26<br>pc1=%{x}<br>pc2=%{y}<extra></extra>",
         "legendgroup": "2020-07-26",
         "marker": {
          "color": "#EF553B",
          "symbol": "circle"
         },
         "mode": "markers",
         "name": "2020-07-26",
         "showlegend": true,
         "type": "scattergl",
         "x": [
          -18.11243164099456
         ],
         "xaxis": "x",
         "y": [
          10.450805040042258
         ],
         "yaxis": "y"
        },
        {
         "hovertemplate": "date=2020-07-27<br>pc1=%{x}<br>pc2=%{y}<extra></extra>",
         "legendgroup": "2020-07-27",
         "marker": {
          "color": "#00cc96",
          "symbol": "circle"
         },
         "mode": "markers",
         "name": "2020-07-27",
         "showlegend": true,
         "type": "scattergl",
         "x": [
          7.56403154581882
         ],
         "xaxis": "x",
         "y": [
          2.3471555872121357
         ],
         "yaxis": "y"
        },
        {
         "hovertemplate": "date=2020-07-28<br>pc1=%{x}<br>pc2=%{y}<extra></extra>",
         "legendgroup": "2020-07-28",
         "marker": {
          "color": "#ab63fa",
          "symbol": "circle"
         },
         "mode": "markers",
         "name": "2020-07-28",
         "showlegend": true,
         "type": "scattergl",
         "x": [
          11.24329479736641
         ],
         "xaxis": "x",
         "y": [
          1.6651180143400754
         ],
         "yaxis": "y"
        },
        {
         "hovertemplate": "date=2020-07-29<br>pc1=%{x}<br>pc2=%{y}<extra></extra>",
         "legendgroup": "2020-07-29",
         "marker": {
          "color": "#FFA15A",
          "symbol": "circle"
         },
         "mode": "markers",
         "name": "2020-07-29",
         "showlegend": true,
         "type": "scattergl",
         "x": [
          7.970449693740682
         ],
         "xaxis": "x",
         "y": [
          -3.125848908150252
         ],
         "yaxis": "y"
        },
        {
         "hovertemplate": "date=2020-07-30<br>pc1=%{x}<br>pc2=%{y}<extra></extra>",
         "legendgroup": "2020-07-30",
         "marker": {
          "color": "#19d3f3",
          "symbol": "circle"
         },
         "mode": "markers",
         "name": "2020-07-30",
         "showlegend": true,
         "type": "scattergl",
         "x": [
          8.928045100673245
         ],
         "xaxis": "x",
         "y": [
          -2.045318655933665
         ],
         "yaxis": "y"
        },
        {
         "hovertemplate": "date=2020-07-31<br>pc1=%{x}<br>pc2=%{y}<extra></extra>",
         "legendgroup": "2020-07-31",
         "marker": {
          "color": "#FF6692",
          "symbol": "circle"
         },
         "mode": "markers",
         "name": "2020-07-31",
         "showlegend": true,
         "type": "scattergl",
         "x": [
          6.489918182376177
         ],
         "xaxis": "x",
         "y": [
          -1.1827803210211172
         ],
         "yaxis": "y"
        },
        {
         "hovertemplate": "date=2020-08-01<br>pc1=%{x}<br>pc2=%{y}<extra></extra>",
         "legendgroup": "2020-08-01",
         "marker": {
          "color": "#B6E880",
          "symbol": "circle"
         },
         "mode": "markers",
         "name": "2020-08-01",
         "showlegend": true,
         "type": "scattergl",
         "x": [
          -11.791193207496798
         ],
         "xaxis": "x",
         "y": [
          9.34760735807896
         ],
         "yaxis": "y"
        },
        {
         "hovertemplate": "date=2020-08-02<br>pc1=%{x}<br>pc2=%{y}<extra></extra>",
         "legendgroup": "2020-08-02",
         "marker": {
          "color": "#FF97FF",
          "symbol": "circle"
         },
         "mode": "markers",
         "name": "2020-08-02",
         "showlegend": true,
         "type": "scattergl",
         "x": [
          -22.66582964225658
         ],
         "xaxis": "x",
         "y": [
          1.2077045025379096
         ],
         "yaxis": "y"
        },
        {
         "hovertemplate": "date=2020-08-03<br>pc1=%{x}<br>pc2=%{y}<extra></extra>",
         "legendgroup": "2020-08-03",
         "marker": {
          "color": "#FECB52",
          "symbol": "circle"
         },
         "mode": "markers",
         "name": "2020-08-03",
         "showlegend": true,
         "type": "scattergl",
         "x": [
          5.158620791136725
         ],
         "xaxis": "x",
         "y": [
          0.24777557598755912
         ],
         "yaxis": "y"
        },
        {
         "hovertemplate": "date=2020-08-04<br>pc1=%{x}<br>pc2=%{y}<extra></extra>",
         "legendgroup": "2020-08-04",
         "marker": {
          "color": "#636efa",
          "symbol": "circle"
         },
         "mode": "markers",
         "name": "2020-08-04",
         "showlegend": true,
         "type": "scattergl",
         "x": [
          6.2134590880077445
         ],
         "xaxis": "x",
         "y": [
          -6.340600941055742
         ],
         "yaxis": "y"
        },
        {
         "hovertemplate": "date=2020-08-05<br>pc1=%{x}<br>pc2=%{y}<extra></extra>",
         "legendgroup": "2020-08-05",
         "marker": {
          "color": "#EF553B",
          "symbol": "circle"
         },
         "mode": "markers",
         "name": "2020-08-05",
         "showlegend": true,
         "type": "scattergl",
         "x": [
          9.711373557679774
         ],
         "xaxis": "x",
         "y": [
          0.29083809858800813
         ],
         "yaxis": "y"
        },
        {
         "hovertemplate": "date=2020-08-06<br>pc1=%{x}<br>pc2=%{y}<extra></extra>",
         "legendgroup": "2020-08-06",
         "marker": {
          "color": "#00cc96",
          "symbol": "circle"
         },
         "mode": "markers",
         "name": "2020-08-06",
         "showlegend": true,
         "type": "scattergl",
         "x": [
          10.283474338649569
         ],
         "xaxis": "x",
         "y": [
          0.7064830216490778
         ],
         "yaxis": "y"
        },
        {
         "hovertemplate": "date=2020-08-07<br>pc1=%{x}<br>pc2=%{y}<extra></extra>",
         "legendgroup": "2020-08-07",
         "marker": {
          "color": "#ab63fa",
          "symbol": "circle"
         },
         "mode": "markers",
         "name": "2020-08-07",
         "showlegend": true,
         "type": "scattergl",
         "x": [
          3.503596374103678
         ],
         "xaxis": "x",
         "y": [
          -4.8264350406816074
         ],
         "yaxis": "y"
        },
        {
         "hovertemplate": "date=2020-08-08<br>pc1=%{x}<br>pc2=%{y}<extra></extra>",
         "legendgroup": "2020-08-08",
         "marker": {
          "color": "#FFA15A",
          "symbol": "circle"
         },
         "mode": "markers",
         "name": "2020-08-08",
         "showlegend": true,
         "type": "scattergl",
         "x": [
          -12.533160090367117
         ],
         "xaxis": "x",
         "y": [
          10.831326407768621
         ],
         "yaxis": "y"
        },
        {
         "hovertemplate": "date=2020-08-09<br>pc1=%{x}<br>pc2=%{y}<extra></extra>",
         "legendgroup": "2020-08-09",
         "marker": {
          "color": "#19d3f3",
          "symbol": "circle"
         },
         "mode": "markers",
         "name": "2020-08-09",
         "showlegend": true,
         "type": "scattergl",
         "x": [
          -20.21578697483637
         ],
         "xaxis": "x",
         "y": [
          9.641868992896693
         ],
         "yaxis": "y"
        },
        {
         "hovertemplate": "date=2020-08-10<br>pc1=%{x}<br>pc2=%{y}<extra></extra>",
         "legendgroup": "2020-08-10",
         "marker": {
          "color": "#FF6692",
          "symbol": "circle"
         },
         "mode": "markers",
         "name": "2020-08-10",
         "showlegend": true,
         "type": "scattergl",
         "x": [
          30.372554247617888
         ],
         "xaxis": "x",
         "y": [
          27.428763578793234
         ],
         "yaxis": "y"
        },
        {
         "hovertemplate": "date=2020-08-11<br>pc1=%{x}<br>pc2=%{y}<extra></extra>",
         "legendgroup": "2020-08-11",
         "marker": {
          "color": "#B6E880",
          "symbol": "circle"
         },
         "mode": "markers",
         "name": "2020-08-11",
         "showlegend": true,
         "type": "scattergl",
         "x": [
          33.27027217034772
         ],
         "xaxis": "x",
         "y": [
          36.163279026211384
         ],
         "yaxis": "y"
        },
        {
         "hovertemplate": "date=2020-08-12<br>pc1=%{x}<br>pc2=%{y}<extra></extra>",
         "legendgroup": "2020-08-12",
         "marker": {
          "color": "#FF97FF",
          "symbol": "circle"
         },
         "mode": "markers",
         "name": "2020-08-12",
         "showlegend": true,
         "type": "scattergl",
         "x": [
          17.344553883486046
         ],
         "xaxis": "x",
         "y": [
          13.752344306043252
         ],
         "yaxis": "y"
        },
        {
         "hovertemplate": "date=2020-08-13<br>pc1=%{x}<br>pc2=%{y}<extra></extra>",
         "legendgroup": "2020-08-13",
         "marker": {
          "color": "#FECB52",
          "symbol": "circle"
         },
         "mode": "markers",
         "name": "2020-08-13",
         "showlegend": true,
         "type": "scattergl",
         "x": [
          4.787174362054006
         ],
         "xaxis": "x",
         "y": [
          -5.423453392113706
         ],
         "yaxis": "y"
        },
        {
         "hovertemplate": "date=2020-08-14<br>pc1=%{x}<br>pc2=%{y}<extra></extra>",
         "legendgroup": "2020-08-14",
         "marker": {
          "color": "#636efa",
          "symbol": "circle"
         },
         "mode": "markers",
         "name": "2020-08-14",
         "showlegend": true,
         "type": "scattergl",
         "x": [
          4.868479374953035
         ],
         "xaxis": "x",
         "y": [
          -4.214434900653679
         ],
         "yaxis": "y"
        },
        {
         "hovertemplate": "date=2020-08-15<br>pc1=%{x}<br>pc2=%{y}<extra></extra>",
         "legendgroup": "2020-08-15",
         "marker": {
          "color": "#EF553B",
          "symbol": "circle"
         },
         "mode": "markers",
         "name": "2020-08-15",
         "showlegend": true,
         "type": "scattergl",
         "x": [
          -15.987040423492418
         ],
         "xaxis": "x",
         "y": [
          1.0495139809092384
         ],
         "yaxis": "y"
        },
        {
         "hovertemplate": "date=2020-08-16<br>pc1=%{x}<br>pc2=%{y}<extra></extra>",
         "legendgroup": "2020-08-16",
         "marker": {
          "color": "#00cc96",
          "symbol": "circle"
         },
         "mode": "markers",
         "name": "2020-08-16",
         "showlegend": true,
         "type": "scattergl",
         "x": [
          -21.172233757764474
         ],
         "xaxis": "x",
         "y": [
          5.950667010751075
         ],
         "yaxis": "y"
        },
        {
         "hovertemplate": "date=2020-08-17<br>pc1=%{x}<br>pc2=%{y}<extra></extra>",
         "legendgroup": "2020-08-17",
         "marker": {
          "color": "#ab63fa",
          "symbol": "circle"
         },
         "mode": "markers",
         "name": "2020-08-17",
         "showlegend": true,
         "type": "scattergl",
         "x": [
          6.046024732600596
         ],
         "xaxis": "x",
         "y": [
          1.7357926536992117
         ],
         "yaxis": "y"
        },
        {
         "hovertemplate": "date=2020-08-18<br>pc1=%{x}<br>pc2=%{y}<extra></extra>",
         "legendgroup": "2020-08-18",
         "marker": {
          "color": "#FFA15A",
          "symbol": "circle"
         },
         "mode": "markers",
         "name": "2020-08-18",
         "showlegend": true,
         "type": "scattergl",
         "x": [
          8.966444030931553
         ],
         "xaxis": "x",
         "y": [
          -0.9534393613230248
         ],
         "yaxis": "y"
        },
        {
         "hovertemplate": "date=2020-08-19<br>pc1=%{x}<br>pc2=%{y}<extra></extra>",
         "legendgroup": "2020-08-19",
         "marker": {
          "color": "#19d3f3",
          "symbol": "circle"
         },
         "mode": "markers",
         "name": "2020-08-19",
         "showlegend": true,
         "type": "scattergl",
         "x": [
          10.377616371904143
         ],
         "xaxis": "x",
         "y": [
          1.6211807533755431
         ],
         "yaxis": "y"
        },
        {
         "hovertemplate": "date=2020-08-20<br>pc1=%{x}<br>pc2=%{y}<extra></extra>",
         "legendgroup": "2020-08-20",
         "marker": {
          "color": "#FF6692",
          "symbol": "circle"
         },
         "mode": "markers",
         "name": "2020-08-20",
         "showlegend": true,
         "type": "scattergl",
         "x": [
          7.064924460913467
         ],
         "xaxis": "x",
         "y": [
          -3.9035911417697062
         ],
         "yaxis": "y"
        },
        {
         "hovertemplate": "date=2020-08-21<br>pc1=%{x}<br>pc2=%{y}<extra></extra>",
         "legendgroup": "2020-08-21",
         "marker": {
          "color": "#B6E880",
          "symbol": "circle"
         },
         "mode": "markers",
         "name": "2020-08-21",
         "showlegend": true,
         "type": "scattergl",
         "x": [
          8.951632379247377
         ],
         "xaxis": "x",
         "y": [
          1.7079582188111737
         ],
         "yaxis": "y"
        },
        {
         "hovertemplate": "date=2020-08-22<br>pc1=%{x}<br>pc2=%{y}<extra></extra>",
         "legendgroup": "2020-08-22",
         "marker": {
          "color": "#FF97FF",
          "symbol": "circle"
         },
         "mode": "markers",
         "name": "2020-08-22",
         "showlegend": true,
         "type": "scattergl",
         "x": [
          -12.98959744250776
         ],
         "xaxis": "x",
         "y": [
          6.861330852432786
         ],
         "yaxis": "y"
        },
        {
         "hovertemplate": "date=2020-08-23<br>pc1=%{x}<br>pc2=%{y}<extra></extra>",
         "legendgroup": "2020-08-23",
         "marker": {
          "color": "#FECB52",
          "symbol": "circle"
         },
         "mode": "markers",
         "name": "2020-08-23",
         "showlegend": true,
         "type": "scattergl",
         "x": [
          -16.81411512849353
         ],
         "xaxis": "x",
         "y": [
          10.983781614151782
         ],
         "yaxis": "y"
        },
        {
         "hovertemplate": "date=2020-08-24<br>pc1=%{x}<br>pc2=%{y}<extra></extra>",
         "legendgroup": "2020-08-24",
         "marker": {
          "color": "#636efa",
          "symbol": "circle"
         },
         "mode": "markers",
         "name": "2020-08-24",
         "showlegend": true,
         "type": "scattergl",
         "x": [
          7.163195763098016
         ],
         "xaxis": "x",
         "y": [
          2.1780312395382553
         ],
         "yaxis": "y"
        },
        {
         "hovertemplate": "date=2020-08-25<br>pc1=%{x}<br>pc2=%{y}<extra></extra>",
         "legendgroup": "2020-08-25",
         "marker": {
          "color": "#EF553B",
          "symbol": "circle"
         },
         "mode": "markers",
         "name": "2020-08-25",
         "showlegend": true,
         "type": "scattergl",
         "x": [
          0.30507124854879986
         ],
         "xaxis": "x",
         "y": [
          -16.543023894844392
         ],
         "yaxis": "y"
        },
        {
         "hovertemplate": "date=2020-08-26<br>pc1=%{x}<br>pc2=%{y}<extra></extra>",
         "legendgroup": "2020-08-26",
         "marker": {
          "color": "#00cc96",
          "symbol": "circle"
         },
         "mode": "markers",
         "name": "2020-08-26",
         "showlegend": true,
         "type": "scattergl",
         "x": [
          6.016443587267521
         ],
         "xaxis": "x",
         "y": [
          -5.751946261612312
         ],
         "yaxis": "y"
        },
        {
         "hovertemplate": "date=2020-08-27<br>pc1=%{x}<br>pc2=%{y}<extra></extra>",
         "legendgroup": "2020-08-27",
         "marker": {
          "color": "#ab63fa",
          "symbol": "circle"
         },
         "mode": "markers",
         "name": "2020-08-27",
         "showlegend": true,
         "type": "scattergl",
         "x": [
          11.386477192017052
         ],
         "xaxis": "x",
         "y": [
          2.4827603668419287
         ],
         "yaxis": "y"
        },
        {
         "hovertemplate": "date=2020-08-28<br>pc1=%{x}<br>pc2=%{y}<extra></extra>",
         "legendgroup": "2020-08-28",
         "marker": {
          "color": "#FFA15A",
          "symbol": "circle"
         },
         "mode": "markers",
         "name": "2020-08-28",
         "showlegend": true,
         "type": "scattergl",
         "x": [
          6.348580208854568
         ],
         "xaxis": "x",
         "y": [
          -3.424153304468889
         ],
         "yaxis": "y"
        },
        {
         "hovertemplate": "date=2020-08-29<br>pc1=%{x}<br>pc2=%{y}<extra></extra>",
         "legendgroup": "2020-08-29",
         "marker": {
          "color": "#19d3f3",
          "symbol": "circle"
         },
         "mode": "markers",
         "name": "2020-08-29",
         "showlegend": true,
         "type": "scattergl",
         "x": [
          -11.459788650146617
         ],
         "xaxis": "x",
         "y": [
          9.246002788866312
         ],
         "yaxis": "y"
        },
        {
         "hovertemplate": "date=2020-08-30<br>pc1=%{x}<br>pc2=%{y}<extra></extra>",
         "legendgroup": "2020-08-30",
         "marker": {
          "color": "#FF6692",
          "symbol": "circle"
         },
         "mode": "markers",
         "name": "2020-08-30",
         "showlegend": true,
         "type": "scattergl",
         "x": [
          -19.383621956298082
         ],
         "xaxis": "x",
         "y": [
          7.776544004141112
         ],
         "yaxis": "y"
        },
        {
         "hovertemplate": "date=2020-08-31<br>pc1=%{x}<br>pc2=%{y}<extra></extra>",
         "legendgroup": "2020-08-31",
         "marker": {
          "color": "#B6E880",
          "symbol": "circle"
         },
         "mode": "markers",
         "name": "2020-08-31",
         "showlegend": true,
         "type": "scattergl",
         "x": [
          7.140066991861265
         ],
         "xaxis": "x",
         "y": [
          2.364739245630937
         ],
         "yaxis": "y"
        },
        {
         "hovertemplate": "date=2020-09-01<br>pc1=%{x}<br>pc2=%{y}<extra></extra>",
         "legendgroup": "2020-09-01",
         "marker": {
          "color": "#FF97FF",
          "symbol": "circle"
         },
         "mode": "markers",
         "name": "2020-09-01",
         "showlegend": true,
         "type": "scattergl",
         "x": [
          5.4911635172205076
         ],
         "xaxis": "x",
         "y": [
          -9.073673284790186
         ],
         "yaxis": "y"
        },
        {
         "hovertemplate": "date=2020-09-02<br>pc1=%{x}<br>pc2=%{y}<extra></extra>",
         "legendgroup": "2020-09-02",
         "marker": {
          "color": "#FECB52",
          "symbol": "circle"
         },
         "mode": "markers",
         "name": "2020-09-02",
         "showlegend": true,
         "type": "scattergl",
         "x": [
          9.080578796388206
         ],
         "xaxis": "x",
         "y": [
          0.0016227647929273961
         ],
         "yaxis": "y"
        },
        {
         "hovertemplate": "date=2020-09-03<br>pc1=%{x}<br>pc2=%{y}<extra></extra>",
         "legendgroup": "2020-09-03",
         "marker": {
          "color": "#636efa",
          "symbol": "circle"
         },
         "mode": "markers",
         "name": "2020-09-03",
         "showlegend": true,
         "type": "scattergl",
         "x": [
          8.851037652199178
         ],
         "xaxis": "x",
         "y": [
          0.04579017053174151
         ],
         "yaxis": "y"
        },
        {
         "hovertemplate": "date=2020-09-04<br>pc1=%{x}<br>pc2=%{y}<extra></extra>",
         "legendgroup": "2020-09-04",
         "marker": {
          "color": "#EF553B",
          "symbol": "circle"
         },
         "mode": "markers",
         "name": "2020-09-04",
         "showlegend": true,
         "type": "scattergl",
         "x": [
          4.439000068635738
         ],
         "xaxis": "x",
         "y": [
          -1.6623958077774132
         ],
         "yaxis": "y"
        },
        {
         "hovertemplate": "date=2020-09-05<br>pc1=%{x}<br>pc2=%{y}<extra></extra>",
         "legendgroup": "2020-09-05",
         "marker": {
          "color": "#00cc96",
          "symbol": "circle"
         },
         "mode": "markers",
         "name": "2020-09-05",
         "showlegend": true,
         "type": "scattergl",
         "x": [
          -14.01136558823545
         ],
         "xaxis": "x",
         "y": [
          10.040693790323619
         ],
         "yaxis": "y"
        },
        {
         "hovertemplate": "date=2020-09-06<br>pc1=%{x}<br>pc2=%{y}<extra></extra>",
         "legendgroup": "2020-09-06",
         "marker": {
          "color": "#ab63fa",
          "symbol": "circle"
         },
         "mode": "markers",
         "name": "2020-09-06",
         "showlegend": true,
         "type": "scattergl",
         "x": [
          -20.650237855889348
         ],
         "xaxis": "x",
         "y": [
          7.220797505645266
         ],
         "yaxis": "y"
        },
        {
         "hovertemplate": "date=2020-09-07<br>pc1=%{x}<br>pc2=%{y}<extra></extra>",
         "legendgroup": "2020-09-07",
         "marker": {
          "color": "#FFA15A",
          "symbol": "circle"
         },
         "mode": "markers",
         "name": "2020-09-07",
         "showlegend": true,
         "type": "scattergl",
         "x": [
          12.10324222115361
         ],
         "xaxis": "x",
         "y": [
          -4.404210881775078
         ],
         "yaxis": "y"
        },
        {
         "hovertemplate": "date=2020-09-08<br>pc1=%{x}<br>pc2=%{y}<extra></extra>",
         "legendgroup": "2020-09-08",
         "marker": {
          "color": "#19d3f3",
          "symbol": "circle"
         },
         "mode": "markers",
         "name": "2020-09-08",
         "showlegend": true,
         "type": "scattergl",
         "x": [
          10.714214089192687
         ],
         "xaxis": "x",
         "y": [
          -0.7475172472399854
         ],
         "yaxis": "y"
        },
        {
         "hovertemplate": "date=2020-09-09<br>pc1=%{x}<br>pc2=%{y}<extra></extra>",
         "legendgroup": "2020-09-09",
         "marker": {
          "color": "#FF6692",
          "symbol": "circle"
         },
         "mode": "markers",
         "name": "2020-09-09",
         "showlegend": true,
         "type": "scattergl",
         "x": [
          6.539400517844835
         ],
         "xaxis": "x",
         "y": [
          -1.3156771943493561
         ],
         "yaxis": "y"
        },
        {
         "hovertemplate": "date=2020-09-10<br>pc1=%{x}<br>pc2=%{y}<extra></extra>",
         "legendgroup": "2020-09-10",
         "marker": {
          "color": "#B6E880",
          "symbol": "circle"
         },
         "mode": "markers",
         "name": "2020-09-10",
         "showlegend": true,
         "type": "scattergl",
         "x": [
          8.302315360773317
         ],
         "xaxis": "x",
         "y": [
          1.8266654610310447
         ],
         "yaxis": "y"
        },
        {
         "hovertemplate": "date=2020-09-11<br>pc1=%{x}<br>pc2=%{y}<extra></extra>",
         "legendgroup": "2020-09-11",
         "marker": {
          "color": "#FF97FF",
          "symbol": "circle"
         },
         "mode": "markers",
         "name": "2020-09-11",
         "showlegend": true,
         "type": "scattergl",
         "x": [
          6.169638114570942
         ],
         "xaxis": "x",
         "y": [
          -1.59534123942462
         ],
         "yaxis": "y"
        },
        {
         "hovertemplate": "date=2020-09-12<br>pc1=%{x}<br>pc2=%{y}<extra></extra>",
         "legendgroup": "2020-09-12",
         "marker": {
          "color": "#FECB52",
          "symbol": "circle"
         },
         "mode": "markers",
         "name": "2020-09-12",
         "showlegend": true,
         "type": "scattergl",
         "x": [
          -9.5203949837788
         ],
         "xaxis": "x",
         "y": [
          9.32138144300147
         ],
         "yaxis": "y"
        },
        {
         "hovertemplate": "date=2020-09-13<br>pc1=%{x}<br>pc2=%{y}<extra></extra>",
         "legendgroup": "2020-09-13",
         "marker": {
          "color": "#636efa",
          "symbol": "circle"
         },
         "mode": "markers",
         "name": "2020-09-13",
         "showlegend": true,
         "type": "scattergl",
         "x": [
          -17.109304778595074
         ],
         "xaxis": "x",
         "y": [
          12.207601509203158
         ],
         "yaxis": "y"
        },
        {
         "hovertemplate": "date=2020-09-14<br>pc1=%{x}<br>pc2=%{y}<extra></extra>",
         "legendgroup": "2020-09-14",
         "marker": {
          "color": "#EF553B",
          "symbol": "circle"
         },
         "mode": "markers",
         "name": "2020-09-14",
         "showlegend": true,
         "type": "scattergl",
         "x": [
          5.3737221297897815
         ],
         "xaxis": "x",
         "y": [
          -0.4249022756135112
         ],
         "yaxis": "y"
        },
        {
         "hovertemplate": "date=2020-09-15<br>pc1=%{x}<br>pc2=%{y}<extra></extra>",
         "legendgroup": "2020-09-15",
         "marker": {
          "color": "#00cc96",
          "symbol": "circle"
         },
         "mode": "markers",
         "name": "2020-09-15",
         "showlegend": true,
         "type": "scattergl",
         "x": [
          8.91250099200036
         ],
         "xaxis": "x",
         "y": [
          -1.3747367196730773
         ],
         "yaxis": "y"
        },
        {
         "hovertemplate": "date=2020-09-16<br>pc1=%{x}<br>pc2=%{y}<extra></extra>",
         "legendgroup": "2020-09-16",
         "marker": {
          "color": "#ab63fa",
          "symbol": "circle"
         },
         "mode": "markers",
         "name": "2020-09-16",
         "showlegend": true,
         "type": "scattergl",
         "x": [
          6.056370849503174
         ],
         "xaxis": "x",
         "y": [
          -4.176811468592382
         ],
         "yaxis": "y"
        },
        {
         "hovertemplate": "date=2020-09-17<br>pc1=%{x}<br>pc2=%{y}<extra></extra>",
         "legendgroup": "2020-09-17",
         "marker": {
          "color": "#FFA15A",
          "symbol": "circle"
         },
         "mode": "markers",
         "name": "2020-09-17",
         "showlegend": true,
         "type": "scattergl",
         "x": [
          7.19110083915232
         ],
         "xaxis": "x",
         "y": [
          -3.835077446486696
         ],
         "yaxis": "y"
        },
        {
         "hovertemplate": "date=2020-09-18<br>pc1=%{x}<br>pc2=%{y}<extra></extra>",
         "legendgroup": "2020-09-18",
         "marker": {
          "color": "#19d3f3",
          "symbol": "circle"
         },
         "mode": "markers",
         "name": "2020-09-18",
         "showlegend": true,
         "type": "scattergl",
         "x": [
          8.433448858165264
         ],
         "xaxis": "x",
         "y": [
          1.1726333436867025
         ],
         "yaxis": "y"
        },
        {
         "hovertemplate": "date=2020-09-19<br>pc1=%{x}<br>pc2=%{y}<extra></extra>",
         "legendgroup": "2020-09-19",
         "marker": {
          "color": "#FF6692",
          "symbol": "circle"
         },
         "mode": "markers",
         "name": "2020-09-19",
         "showlegend": true,
         "type": "scattergl",
         "x": [
          -17.155885592819995
         ],
         "xaxis": "x",
         "y": [
          0.9467403031555542
         ],
         "yaxis": "y"
        },
        {
         "hovertemplate": "date=2020-09-20<br>pc1=%{x}<br>pc2=%{y}<extra></extra>",
         "legendgroup": "2020-09-20",
         "marker": {
          "color": "#B6E880",
          "symbol": "circle"
         },
         "mode": "markers",
         "name": "2020-09-20",
         "showlegend": true,
         "type": "scattergl",
         "x": [
          -17.859422374750075
         ],
         "xaxis": "x",
         "y": [
          8.890858296580172
         ],
         "yaxis": "y"
        },
        {
         "hovertemplate": "date=2020-09-21<br>pc1=%{x}<br>pc2=%{y}<extra></extra>",
         "legendgroup": "2020-09-21",
         "marker": {
          "color": "#FF97FF",
          "symbol": "circle"
         },
         "mode": "markers",
         "name": "2020-09-21",
         "showlegend": true,
         "type": "scattergl",
         "x": [
          4.632270117869985
         ],
         "xaxis": "x",
         "y": [
          -2.2653735167877134
         ],
         "yaxis": "y"
        },
        {
         "hovertemplate": "date=2020-09-22<br>pc1=%{x}<br>pc2=%{y}<extra></extra>",
         "legendgroup": "2020-09-22",
         "marker": {
          "color": "#FECB52",
          "symbol": "circle"
         },
         "mode": "markers",
         "name": "2020-09-22",
         "showlegend": true,
         "type": "scattergl",
         "x": [
          11.523383791115043
         ],
         "xaxis": "x",
         "y": [
          2.1180296539387973
         ],
         "yaxis": "y"
        },
        {
         "hovertemplate": "date=2020-09-23<br>pc1=%{x}<br>pc2=%{y}<extra></extra>",
         "legendgroup": "2020-09-23",
         "marker": {
          "color": "#636efa",
          "symbol": "circle"
         },
         "mode": "markers",
         "name": "2020-09-23",
         "showlegend": true,
         "type": "scattergl",
         "x": [
          7.665658023145002
         ],
         "xaxis": "x",
         "y": [
          -2.5815321373918194
         ],
         "yaxis": "y"
        },
        {
         "hovertemplate": "date=2020-09-24<br>pc1=%{x}<br>pc2=%{y}<extra></extra>",
         "legendgroup": "2020-09-24",
         "marker": {
          "color": "#EF553B",
          "symbol": "circle"
         },
         "mode": "markers",
         "name": "2020-09-24",
         "showlegend": true,
         "type": "scattergl",
         "x": [
          9.683756221726654
         ],
         "xaxis": "x",
         "y": [
          -0.4756451868067423
         ],
         "yaxis": "y"
        },
        {
         "hovertemplate": "date=2020-09-25<br>pc1=%{x}<br>pc2=%{y}<extra></extra>",
         "legendgroup": "2020-09-25",
         "marker": {
          "color": "#00cc96",
          "symbol": "circle"
         },
         "mode": "markers",
         "name": "2020-09-25",
         "showlegend": true,
         "type": "scattergl",
         "x": [
          5.803327312425443
         ],
         "xaxis": "x",
         "y": [
          -2.2365593514665556
         ],
         "yaxis": "y"
        },
        {
         "hovertemplate": "date=2020-09-26<br>pc1=%{x}<br>pc2=%{y}<extra></extra>",
         "legendgroup": "2020-09-26",
         "marker": {
          "color": "#ab63fa",
          "symbol": "circle"
         },
         "mode": "markers",
         "name": "2020-09-26",
         "showlegend": true,
         "type": "scattergl",
         "x": [
          -13.223945669102001
         ],
         "xaxis": "x",
         "y": [
          7.083083353659889
         ],
         "yaxis": "y"
        },
        {
         "hovertemplate": "date=2020-09-27<br>pc1=%{x}<br>pc2=%{y}<extra></extra>",
         "legendgroup": "2020-09-27",
         "marker": {
          "color": "#FFA15A",
          "symbol": "circle"
         },
         "mode": "markers",
         "name": "2020-09-27",
         "showlegend": true,
         "type": "scattergl",
         "x": [
          -15.916510969961841
         ],
         "xaxis": "x",
         "y": [
          12.081043535883769
         ],
         "yaxis": "y"
        },
        {
         "hovertemplate": "date=2020-09-28<br>pc1=%{x}<br>pc2=%{y}<extra></extra>",
         "legendgroup": "2020-09-28",
         "marker": {
          "color": "#19d3f3",
          "symbol": "circle"
         },
         "mode": "markers",
         "name": "2020-09-28",
         "showlegend": true,
         "type": "scattergl",
         "x": [
          7.007535756236519
         ],
         "xaxis": "x",
         "y": [
          0.8388766992984098
         ],
         "yaxis": "y"
        },
        {
         "hovertemplate": "date=2020-09-29<br>pc1=%{x}<br>pc2=%{y}<extra></extra>",
         "legendgroup": "2020-09-29",
         "marker": {
          "color": "#FF6692",
          "symbol": "circle"
         },
         "mode": "markers",
         "name": "2020-09-29",
         "showlegend": true,
         "type": "scattergl",
         "x": [
          10.656022979724849
         ],
         "xaxis": "x",
         "y": [
          0.895158424027546
         ],
         "yaxis": "y"
        },
        {
         "hovertemplate": "date=2020-09-30<br>pc1=%{x}<br>pc2=%{y}<extra></extra>",
         "legendgroup": "2020-09-30",
         "marker": {
          "color": "#B6E880",
          "symbol": "circle"
         },
         "mode": "markers",
         "name": "2020-09-30",
         "showlegend": true,
         "type": "scattergl",
         "x": [
          9.012264276875094
         ],
         "xaxis": "x",
         "y": [
          -0.6605708430683918
         ],
         "yaxis": "y"
        },
        {
         "hovertemplate": "date=2020-10-01<br>pc1=%{x}<br>pc2=%{y}<extra></extra>",
         "legendgroup": "2020-10-01",
         "marker": {
          "color": "#FF97FF",
          "symbol": "circle"
         },
         "mode": "markers",
         "name": "2020-10-01",
         "showlegend": true,
         "type": "scattergl",
         "x": [
          11.10750612120061
         ],
         "xaxis": "x",
         "y": [
          2.9927223508087395
         ],
         "yaxis": "y"
        },
        {
         "hovertemplate": "date=2020-10-02<br>pc1=%{x}<br>pc2=%{y}<extra></extra>",
         "legendgroup": "2020-10-02",
         "marker": {
          "color": "#FECB52",
          "symbol": "circle"
         },
         "mode": "markers",
         "name": "2020-10-02",
         "showlegend": true,
         "type": "scattergl",
         "x": [
          6.411648289257579
         ],
         "xaxis": "x",
         "y": [
          -0.3689320857819789
         ],
         "yaxis": "y"
        },
        {
         "hovertemplate": "date=2020-10-03<br>pc1=%{x}<br>pc2=%{y}<extra></extra>",
         "legendgroup": "2020-10-03",
         "marker": {
          "color": "#636efa",
          "symbol": "circle"
         },
         "mode": "markers",
         "name": "2020-10-03",
         "showlegend": true,
         "type": "scattergl",
         "x": [
          -10.185139634905205
         ],
         "xaxis": "x",
         "y": [
          10.818468913643558
         ],
         "yaxis": "y"
        },
        {
         "hovertemplate": "date=2020-10-04<br>pc1=%{x}<br>pc2=%{y}<extra></extra>",
         "legendgroup": "2020-10-04",
         "marker": {
          "color": "#EF553B",
          "symbol": "circle"
         },
         "mode": "markers",
         "name": "2020-10-04",
         "showlegend": true,
         "type": "scattergl",
         "x": [
          -16.55514502404849
         ],
         "xaxis": "x",
         "y": [
          9.863958890958385
         ],
         "yaxis": "y"
        },
        {
         "hovertemplate": "date=2020-10-05<br>pc1=%{x}<br>pc2=%{y}<extra></extra>",
         "legendgroup": "2020-10-05",
         "marker": {
          "color": "#00cc96",
          "symbol": "circle"
         },
         "mode": "markers",
         "name": "2020-10-05",
         "showlegend": true,
         "type": "scattergl",
         "x": [
          7.626334728006556
         ],
         "xaxis": "x",
         "y": [
          3.0490929968107907
         ],
         "yaxis": "y"
        },
        {
         "hovertemplate": "date=2020-10-06<br>pc1=%{x}<br>pc2=%{y}<extra></extra>",
         "legendgroup": "2020-10-06",
         "marker": {
          "color": "#ab63fa",
          "symbol": "circle"
         },
         "mode": "markers",
         "name": "2020-10-06",
         "showlegend": true,
         "type": "scattergl",
         "x": [
          9.623216433860886
         ],
         "xaxis": "x",
         "y": [
          -1.3037470228663777
         ],
         "yaxis": "y"
        },
        {
         "hovertemplate": "date=2020-10-07<br>pc1=%{x}<br>pc2=%{y}<extra></extra>",
         "legendgroup": "2020-10-07",
         "marker": {
          "color": "#FFA15A",
          "symbol": "circle"
         },
         "mode": "markers",
         "name": "2020-10-07",
         "showlegend": true,
         "type": "scattergl",
         "x": [
          9.73803717807815
         ],
         "xaxis": "x",
         "y": [
          0.6484793264325692
         ],
         "yaxis": "y"
        },
        {
         "hovertemplate": "date=2020-10-08<br>pc1=%{x}<br>pc2=%{y}<extra></extra>",
         "legendgroup": "2020-10-08",
         "marker": {
          "color": "#19d3f3",
          "symbol": "circle"
         },
         "mode": "markers",
         "name": "2020-10-08",
         "showlegend": true,
         "type": "scattergl",
         "x": [
          8.835466339243679
         ],
         "xaxis": "x",
         "y": [
          -1.266973045651003
         ],
         "yaxis": "y"
        },
        {
         "hovertemplate": "date=2020-10-09<br>pc1=%{x}<br>pc2=%{y}<extra></extra>",
         "legendgroup": "2020-10-09",
         "marker": {
          "color": "#FF6692",
          "symbol": "circle"
         },
         "mode": "markers",
         "name": "2020-10-09",
         "showlegend": true,
         "type": "scattergl",
         "x": [
          7.496410777037054
         ],
         "xaxis": "x",
         "y": [
          1.7389771090611297
         ],
         "yaxis": "y"
        },
        {
         "hovertemplate": "date=2020-10-10<br>pc1=%{x}<br>pc2=%{y}<extra></extra>",
         "legendgroup": "2020-10-10",
         "marker": {
          "color": "#B6E880",
          "symbol": "circle"
         },
         "mode": "markers",
         "name": "2020-10-10",
         "showlegend": true,
         "type": "scattergl",
         "x": [
          -14.138201437393791
         ],
         "xaxis": "x",
         "y": [
          5.807403636501898
         ],
         "yaxis": "y"
        },
        {
         "hovertemplate": "date=2020-10-11<br>pc1=%{x}<br>pc2=%{y}<extra></extra>",
         "legendgroup": "2020-10-11",
         "marker": {
          "color": "#FF97FF",
          "symbol": "circle"
         },
         "mode": "markers",
         "name": "2020-10-11",
         "showlegend": true,
         "type": "scattergl",
         "x": [
          -14.865026670705783
         ],
         "xaxis": "x",
         "y": [
          14.084063858436036
         ],
         "yaxis": "y"
        },
        {
         "hovertemplate": "date=2020-10-12<br>pc1=%{x}<br>pc2=%{y}<extra></extra>",
         "legendgroup": "2020-10-12",
         "marker": {
          "color": "#FECB52",
          "symbol": "circle"
         },
         "mode": "markers",
         "name": "2020-10-12",
         "showlegend": true,
         "type": "scattergl",
         "x": [
          7.288197759917379
         ],
         "xaxis": "x",
         "y": [
          -2.963868335363998
         ],
         "yaxis": "y"
        },
        {
         "hovertemplate": "date=2020-10-13<br>pc1=%{x}<br>pc2=%{y}<extra></extra>",
         "legendgroup": "2020-10-13",
         "marker": {
          "color": "#636efa",
          "symbol": "circle"
         },
         "mode": "markers",
         "name": "2020-10-13",
         "showlegend": true,
         "type": "scattergl",
         "x": [
          10.303654723846055
         ],
         "xaxis": "x",
         "y": [
          2.0133214875204306
         ],
         "yaxis": "y"
        },
        {
         "hovertemplate": "date=2020-10-14<br>pc1=%{x}<br>pc2=%{y}<extra></extra>",
         "legendgroup": "2020-10-14",
         "marker": {
          "color": "#EF553B",
          "symbol": "circle"
         },
         "mode": "markers",
         "name": "2020-10-14",
         "showlegend": true,
         "type": "scattergl",
         "x": [
          8.280657628698087
         ],
         "xaxis": "x",
         "y": [
          -0.21844625180880553
         ],
         "yaxis": "y"
        },
        {
         "hovertemplate": "date=2020-10-15<br>pc1=%{x}<br>pc2=%{y}<extra></extra>",
         "legendgroup": "2020-10-15",
         "marker": {
          "color": "#00cc96",
          "symbol": "circle"
         },
         "mode": "markers",
         "name": "2020-10-15",
         "showlegend": true,
         "type": "scattergl",
         "x": [
          9.870788441469632
         ],
         "xaxis": "x",
         "y": [
          1.7789336295529166
         ],
         "yaxis": "y"
        },
        {
         "hovertemplate": "date=2020-10-16<br>pc1=%{x}<br>pc2=%{y}<extra></extra>",
         "legendgroup": "2020-10-16",
         "marker": {
          "color": "#ab63fa",
          "symbol": "circle"
         },
         "mode": "markers",
         "name": "2020-10-16",
         "showlegend": true,
         "type": "scattergl",
         "x": [
          8.724537063377227
         ],
         "xaxis": "x",
         "y": [
          2.179166902622637
         ],
         "yaxis": "y"
        },
        {
         "hovertemplate": "date=2020-10-17<br>pc1=%{x}<br>pc2=%{y}<extra></extra>",
         "legendgroup": "2020-10-17",
         "marker": {
          "color": "#FFA15A",
          "symbol": "circle"
         },
         "mode": "markers",
         "name": "2020-10-17",
         "showlegend": true,
         "type": "scattergl",
         "x": [
          -14.597640244885914
         ],
         "xaxis": "x",
         "y": [
          4.326305337575383
         ],
         "yaxis": "y"
        },
        {
         "hovertemplate": "date=2020-10-18<br>pc1=%{x}<br>pc2=%{y}<extra></extra>",
         "legendgroup": "2020-10-18",
         "marker": {
          "color": "#19d3f3",
          "symbol": "circle"
         },
         "mode": "markers",
         "name": "2020-10-18",
         "showlegend": true,
         "type": "scattergl",
         "x": [
          -14.176020283610807
         ],
         "xaxis": "x",
         "y": [
          12.52869328867671
         ],
         "yaxis": "y"
        },
        {
         "hovertemplate": "date=2020-10-19<br>pc1=%{x}<br>pc2=%{y}<extra></extra>",
         "legendgroup": "2020-10-19",
         "marker": {
          "color": "#FF6692",
          "symbol": "circle"
         },
         "mode": "markers",
         "name": "2020-10-19",
         "showlegend": true,
         "type": "scattergl",
         "x": [
          6.103320174309656
         ],
         "xaxis": "x",
         "y": [
          0.35493950624012244
         ],
         "yaxis": "y"
        },
        {
         "hovertemplate": "date=2020-10-20<br>pc1=%{x}<br>pc2=%{y}<extra></extra>",
         "legendgroup": "2020-10-20",
         "marker": {
          "color": "#B6E880",
          "symbol": "circle"
         },
         "mode": "markers",
         "name": "2020-10-20",
         "showlegend": true,
         "type": "scattergl",
         "x": [
          10.766750031247119
         ],
         "xaxis": "x",
         "y": [
          1.1639178931459788
         ],
         "yaxis": "y"
        },
        {
         "hovertemplate": "date=2020-10-21<br>pc1=%{x}<br>pc2=%{y}<extra></extra>",
         "legendgroup": "2020-10-21",
         "marker": {
          "color": "#FF97FF",
          "symbol": "circle"
         },
         "mode": "markers",
         "name": "2020-10-21",
         "showlegend": true,
         "type": "scattergl",
         "x": [
          9.708018304154447
         ],
         "xaxis": "x",
         "y": [
          1.735228728409007
         ],
         "yaxis": "y"
        },
        {
         "hovertemplate": "date=2020-10-22<br>pc1=%{x}<br>pc2=%{y}<extra></extra>",
         "legendgroup": "2020-10-22",
         "marker": {
          "color": "#FECB52",
          "symbol": "circle"
         },
         "mode": "markers",
         "name": "2020-10-22",
         "showlegend": true,
         "type": "scattergl",
         "x": [
          8.620267063153914
         ],
         "xaxis": "x",
         "y": [
          -0.4107417738657708
         ],
         "yaxis": "y"
        },
        {
         "hovertemplate": "date=2020-10-23<br>pc1=%{x}<br>pc2=%{y}<extra></extra>",
         "legendgroup": "2020-10-23",
         "marker": {
          "color": "#636efa",
          "symbol": "circle"
         },
         "mode": "markers",
         "name": "2020-10-23",
         "showlegend": true,
         "type": "scattergl",
         "x": [
          7.764836125781
         ],
         "xaxis": "x",
         "y": [
          -2.252863093933058
         ],
         "yaxis": "y"
        },
        {
         "hovertemplate": "date=2020-10-24<br>pc1=%{x}<br>pc2=%{y}<extra></extra>",
         "legendgroup": "2020-10-24",
         "marker": {
          "color": "#EF553B",
          "symbol": "circle"
         },
         "mode": "markers",
         "name": "2020-10-24",
         "showlegend": true,
         "type": "scattergl",
         "x": [
          -10.002303832613956
         ],
         "xaxis": "x",
         "y": [
          12.727375981895905
         ],
         "yaxis": "y"
        },
        {
         "hovertemplate": "date=2020-10-25<br>pc1=%{x}<br>pc2=%{y}<extra></extra>",
         "legendgroup": "2020-10-25",
         "marker": {
          "color": "#00cc96",
          "symbol": "circle"
         },
         "mode": "markers",
         "name": "2020-10-25",
         "showlegend": true,
         "type": "scattergl",
         "x": [
          -15.978381744363478
         ],
         "xaxis": "x",
         "y": [
          12.54998138386727
         ],
         "yaxis": "y"
        },
        {
         "hovertemplate": "date=2020-10-26<br>pc1=%{x}<br>pc2=%{y}<extra></extra>",
         "legendgroup": "2020-10-26",
         "marker": {
          "color": "#ab63fa",
          "symbol": "circle"
         },
         "mode": "markers",
         "name": "2020-10-26",
         "showlegend": true,
         "type": "scattergl",
         "x": [
          7.681430726246676
         ],
         "xaxis": "x",
         "y": [
          2.794469668163343
         ],
         "yaxis": "y"
        },
        {
         "hovertemplate": "date=2020-10-27<br>pc1=%{x}<br>pc2=%{y}<extra></extra>",
         "legendgroup": "2020-10-27",
         "marker": {
          "color": "#FFA15A",
          "symbol": "circle"
         },
         "mode": "markers",
         "name": "2020-10-27",
         "showlegend": true,
         "type": "scattergl",
         "x": [
          8.947306947156992
         ],
         "xaxis": "x",
         "y": [
          -3.040778907948191
         ],
         "yaxis": "y"
        },
        {
         "hovertemplate": "date=2020-10-28<br>pc1=%{x}<br>pc2=%{y}<extra></extra>",
         "legendgroup": "2020-10-28",
         "marker": {
          "color": "#19d3f3",
          "symbol": "circle"
         },
         "mode": "markers",
         "name": "2020-10-28",
         "showlegend": true,
         "type": "scattergl",
         "x": [
          10.266473786270794
         ],
         "xaxis": "x",
         "y": [
          2.2710691305576667
         ],
         "yaxis": "y"
        },
        {
         "hovertemplate": "date=2020-10-29<br>pc1=%{x}<br>pc2=%{y}<extra></extra>",
         "legendgroup": "2020-10-29",
         "marker": {
          "color": "#FF6692",
          "symbol": "circle"
         },
         "mode": "markers",
         "name": "2020-10-29",
         "showlegend": true,
         "type": "scattergl",
         "x": [
          8.83317721446204
         ],
         "xaxis": "x",
         "y": [
          -1.1408326900483552
         ],
         "yaxis": "y"
        },
        {
         "hovertemplate": "date=2020-10-30<br>pc1=%{x}<br>pc2=%{y}<extra></extra>",
         "legendgroup": "2020-10-30",
         "marker": {
          "color": "#B6E880",
          "symbol": "circle"
         },
         "mode": "markers",
         "name": "2020-10-30",
         "showlegend": true,
         "type": "scattergl",
         "x": [
          6.220556685104457
         ],
         "xaxis": "x",
         "y": [
          -0.7736256241204252
         ],
         "yaxis": "y"
        },
        {
         "hovertemplate": "date=2020-10-31<br>pc1=%{x}<br>pc2=%{y}<extra></extra>",
         "legendgroup": "2020-10-31",
         "marker": {
          "color": "#FF97FF",
          "symbol": "circle"
         },
         "mode": "markers",
         "name": "2020-10-31",
         "showlegend": true,
         "type": "scattergl",
         "x": [
          -13.985042381424714
         ],
         "xaxis": "x",
         "y": [
          4.716295815736755
         ],
         "yaxis": "y"
        },
        {
         "hovertemplate": "date=2020-11-01<br>pc1=%{x}<br>pc2=%{y}<extra></extra>",
         "legendgroup": "2020-11-01",
         "marker": {
          "color": "#FECB52",
          "symbol": "circle"
         },
         "mode": "markers",
         "name": "2020-11-01",
         "showlegend": true,
         "type": "scattergl",
         "x": [
          -17.260345381732296
         ],
         "xaxis": "x",
         "y": [
          9.253495127497395
         ],
         "yaxis": "y"
        },
        {
         "hovertemplate": "date=2020-11-02<br>pc1=%{x}<br>pc2=%{y}<extra></extra>",
         "legendgroup": "2020-11-02",
         "marker": {
          "color": "#636efa",
          "symbol": "circle"
         },
         "mode": "markers",
         "name": "2020-11-02",
         "showlegend": true,
         "type": "scattergl",
         "x": [
          4.089853603704074
         ],
         "xaxis": "x",
         "y": [
          -1.2325280626232449
         ],
         "yaxis": "y"
        },
        {
         "hovertemplate": "date=2020-11-03<br>pc1=%{x}<br>pc2=%{y}<extra></extra>",
         "legendgroup": "2020-11-03",
         "marker": {
          "color": "#EF553B",
          "symbol": "circle"
         },
         "mode": "markers",
         "name": "2020-11-03",
         "showlegend": true,
         "type": "scattergl",
         "x": [
          6.716483938962685
         ],
         "xaxis": "x",
         "y": [
          -6.204865835589206
         ],
         "yaxis": "y"
        },
        {
         "hovertemplate": "date=2020-11-04<br>pc1=%{x}<br>pc2=%{y}<extra></extra>",
         "legendgroup": "2020-11-04",
         "marker": {
          "color": "#00cc96",
          "symbol": "circle"
         },
         "mode": "markers",
         "name": "2020-11-04",
         "showlegend": true,
         "type": "scattergl",
         "x": [
          9.051260834347554
         ],
         "xaxis": "x",
         "y": [
          -1.5864396177061122
         ],
         "yaxis": "y"
        },
        {
         "hovertemplate": "date=2020-11-05<br>pc1=%{x}<br>pc2=%{y}<extra></extra>",
         "legendgroup": "2020-11-05",
         "marker": {
          "color": "#ab63fa",
          "symbol": "circle"
         },
         "mode": "markers",
         "name": "2020-11-05",
         "showlegend": true,
         "type": "scattergl",
         "x": [
          6.13871232669025
         ],
         "xaxis": "x",
         "y": [
          -5.6122485073210155
         ],
         "yaxis": "y"
        },
        {
         "hovertemplate": "date=2020-11-06<br>pc1=%{x}<br>pc2=%{y}<extra></extra>",
         "legendgroup": "2020-11-06",
         "marker": {
          "color": "#FFA15A",
          "symbol": "circle"
         },
         "mode": "markers",
         "name": "2020-11-06",
         "showlegend": true,
         "type": "scattergl",
         "x": [
          6.431459297627033
         ],
         "xaxis": "x",
         "y": [
          -2.493582942520483
         ],
         "yaxis": "y"
        },
        {
         "hovertemplate": "date=2020-11-07<br>pc1=%{x}<br>pc2=%{y}<extra></extra>",
         "legendgroup": "2020-11-07",
         "marker": {
          "color": "#19d3f3",
          "symbol": "circle"
         },
         "mode": "markers",
         "name": "2020-11-07",
         "showlegend": true,
         "type": "scattergl",
         "x": [
          -15.542291511514593
         ],
         "xaxis": "x",
         "y": [
          4.631469192336643
         ],
         "yaxis": "y"
        },
        {
         "hovertemplate": "date=2020-11-08<br>pc1=%{x}<br>pc2=%{y}<extra></extra>",
         "legendgroup": "2020-11-08",
         "marker": {
          "color": "#FF6692",
          "symbol": "circle"
         },
         "mode": "markers",
         "name": "2020-11-08",
         "showlegend": true,
         "type": "scattergl",
         "x": [
          -16.73381564829439
         ],
         "xaxis": "x",
         "y": [
          12.020106741592883
         ],
         "yaxis": "y"
        },
        {
         "hovertemplate": "date=2020-11-09<br>pc1=%{x}<br>pc2=%{y}<extra></extra>",
         "legendgroup": "2020-11-09",
         "marker": {
          "color": "#B6E880",
          "symbol": "circle"
         },
         "mode": "markers",
         "name": "2020-11-09",
         "showlegend": true,
         "type": "scattergl",
         "x": [
          3.6171106863644695
         ],
         "xaxis": "x",
         "y": [
          -0.2775781637310029
         ],
         "yaxis": "y"
        },
        {
         "hovertemplate": "date=2020-11-10<br>pc1=%{x}<br>pc2=%{y}<extra></extra>",
         "legendgroup": "2020-11-10",
         "marker": {
          "color": "#FF97FF",
          "symbol": "circle"
         },
         "mode": "markers",
         "name": "2020-11-10",
         "showlegend": true,
         "type": "scattergl",
         "x": [
          9.854788553076201
         ],
         "xaxis": "x",
         "y": [
          -0.9130790687443259
         ],
         "yaxis": "y"
        },
        {
         "hovertemplate": "date=2020-11-11<br>pc1=%{x}<br>pc2=%{y}<extra></extra>",
         "legendgroup": "2020-11-11",
         "marker": {
          "color": "#FECB52",
          "symbol": "circle"
         },
         "mode": "markers",
         "name": "2020-11-11",
         "showlegend": true,
         "type": "scattergl",
         "x": [
          9.82243844350138
         ],
         "xaxis": "x",
         "y": [
          -2.089795755748173
         ],
         "yaxis": "y"
        },
        {
         "hovertemplate": "date=2020-11-12<br>pc1=%{x}<br>pc2=%{y}<extra></extra>",
         "legendgroup": "2020-11-12",
         "marker": {
          "color": "#636efa",
          "symbol": "circle"
         },
         "mode": "markers",
         "name": "2020-11-12",
         "showlegend": true,
         "type": "scattergl",
         "x": [
          5.9339712455351
         ],
         "xaxis": "x",
         "y": [
          -4.803498101255974
         ],
         "yaxis": "y"
        },
        {
         "hovertemplate": "date=2020-11-13<br>pc1=%{x}<br>pc2=%{y}<extra></extra>",
         "legendgroup": "2020-11-13",
         "marker": {
          "color": "#EF553B",
          "symbol": "circle"
         },
         "mode": "markers",
         "name": "2020-11-13",
         "showlegend": true,
         "type": "scattergl",
         "x": [
          5.826416700691152
         ],
         "xaxis": "x",
         "y": [
          -2.738773486972433
         ],
         "yaxis": "y"
        },
        {
         "hovertemplate": "date=2020-11-14<br>pc1=%{x}<br>pc2=%{y}<extra></extra>",
         "legendgroup": "2020-11-14",
         "marker": {
          "color": "#00cc96",
          "symbol": "circle"
         },
         "mode": "markers",
         "name": "2020-11-14",
         "showlegend": true,
         "type": "scattergl",
         "x": [
          -10.179974701076917
         ],
         "xaxis": "x",
         "y": [
          10.03062805790741
         ],
         "yaxis": "y"
        },
        {
         "hovertemplate": "date=2020-11-15<br>pc1=%{x}<br>pc2=%{y}<extra></extra>",
         "legendgroup": "2020-11-15",
         "marker": {
          "color": "#ab63fa",
          "symbol": "circle"
         },
         "mode": "markers",
         "name": "2020-11-15",
         "showlegend": true,
         "type": "scattergl",
         "x": [
          -12.744748194678573
         ],
         "xaxis": "x",
         "y": [
          16.19834128249412
         ],
         "yaxis": "y"
        },
        {
         "hovertemplate": "date=2020-11-16<br>pc1=%{x}<br>pc2=%{y}<extra></extra>",
         "legendgroup": "2020-11-16",
         "marker": {
          "color": "#FFA15A",
          "symbol": "circle"
         },
         "mode": "markers",
         "name": "2020-11-16",
         "showlegend": true,
         "type": "scattergl",
         "x": [
          3.5870678310768387
         ],
         "xaxis": "x",
         "y": [
          -2.616430730137571
         ],
         "yaxis": "y"
        },
        {
         "hovertemplate": "date=2020-11-17<br>pc1=%{x}<br>pc2=%{y}<extra></extra>",
         "legendgroup": "2020-11-17",
         "marker": {
          "color": "#19d3f3",
          "symbol": "circle"
         },
         "mode": "markers",
         "name": "2020-11-17",
         "showlegend": true,
         "type": "scattergl",
         "x": [
          10.41292148706269
         ],
         "xaxis": "x",
         "y": [
          -0.5552386647955228
         ],
         "yaxis": "y"
        },
        {
         "hovertemplate": "date=2020-11-18<br>pc1=%{x}<br>pc2=%{y}<extra></extra>",
         "legendgroup": "2020-11-18",
         "marker": {
          "color": "#FF6692",
          "symbol": "circle"
         },
         "mode": "markers",
         "name": "2020-11-18",
         "showlegend": true,
         "type": "scattergl",
         "x": [
          8.872301854632475
         ],
         "xaxis": "x",
         "y": [
          -1.4512009931145278
         ],
         "yaxis": "y"
        },
        {
         "hovertemplate": "date=2020-11-19<br>pc1=%{x}<br>pc2=%{y}<extra></extra>",
         "legendgroup": "2020-11-19",
         "marker": {
          "color": "#B6E880",
          "symbol": "circle"
         },
         "mode": "markers",
         "name": "2020-11-19",
         "showlegend": true,
         "type": "scattergl",
         "x": [
          9.45246771230188
         ],
         "xaxis": "x",
         "y": [
          0.1308987377663938
         ],
         "yaxis": "y"
        },
        {
         "hovertemplate": "date=2020-11-20<br>pc1=%{x}<br>pc2=%{y}<extra></extra>",
         "legendgroup": "2020-11-20",
         "marker": {
          "color": "#FF97FF",
          "symbol": "circle"
         },
         "mode": "markers",
         "name": "2020-11-20",
         "showlegend": true,
         "type": "scattergl",
         "x": [
          7.3382739634844345
         ],
         "xaxis": "x",
         "y": [
          -0.4069234729890722
         ],
         "yaxis": "y"
        },
        {
         "hovertemplate": "date=2020-11-21<br>pc1=%{x}<br>pc2=%{y}<extra></extra>",
         "legendgroup": "2020-11-21",
         "marker": {
          "color": "#FECB52",
          "symbol": "circle"
         },
         "mode": "markers",
         "name": "2020-11-21",
         "showlegend": true,
         "type": "scattergl",
         "x": [
          -12.770626265121315
         ],
         "xaxis": "x",
         "y": [
          5.944488005205011
         ],
         "yaxis": "y"
        },
        {
         "hovertemplate": "date=2020-11-22<br>pc1=%{x}<br>pc2=%{y}<extra></extra>",
         "legendgroup": "2020-11-22",
         "marker": {
          "color": "#636efa",
          "symbol": "circle"
         },
         "mode": "markers",
         "name": "2020-11-22",
         "showlegend": true,
         "type": "scattergl",
         "x": [
          -15.286376389474588
         ],
         "xaxis": "x",
         "y": [
          14.488724296547089
         ],
         "yaxis": "y"
        },
        {
         "hovertemplate": "date=2020-11-23<br>pc1=%{x}<br>pc2=%{y}<extra></extra>",
         "legendgroup": "2020-11-23",
         "marker": {
          "color": "#EF553B",
          "symbol": "circle"
         },
         "mode": "markers",
         "name": "2020-11-23",
         "showlegend": true,
         "type": "scattergl",
         "x": [
          2.8096934029094873
         ],
         "xaxis": "x",
         "y": [
          0.758404324611384
         ],
         "yaxis": "y"
        },
        {
         "hovertemplate": "date=2020-11-24<br>pc1=%{x}<br>pc2=%{y}<extra></extra>",
         "legendgroup": "2020-11-24",
         "marker": {
          "color": "#00cc96",
          "symbol": "circle"
         },
         "mode": "markers",
         "name": "2020-11-24",
         "showlegend": true,
         "type": "scattergl",
         "x": [
          9.137504834622746
         ],
         "xaxis": "x",
         "y": [
          2.6468299310745262
         ],
         "yaxis": "y"
        },
        {
         "hovertemplate": "date=2020-11-25<br>pc1=%{x}<br>pc2=%{y}<extra></extra>",
         "legendgroup": "2020-11-25",
         "marker": {
          "color": "#ab63fa",
          "symbol": "circle"
         },
         "mode": "markers",
         "name": "2020-11-25",
         "showlegend": true,
         "type": "scattergl",
         "x": [
          0.5153587041326643
         ],
         "xaxis": "x",
         "y": [
          -11.15250902498913
         ],
         "yaxis": "y"
        },
        {
         "hovertemplate": "date=2020-11-26<br>pc1=%{x}<br>pc2=%{y}<extra></extra>",
         "legendgroup": "2020-11-26",
         "marker": {
          "color": "#FFA15A",
          "symbol": "circle"
         },
         "mode": "markers",
         "name": "2020-11-26",
         "showlegend": true,
         "type": "scattergl",
         "x": [
          16.224047534943146
         ],
         "xaxis": "x",
         "y": [
          -9.884788730085166
         ],
         "yaxis": "y"
        },
        {
         "hovertemplate": "date=2020-11-27<br>pc1=%{x}<br>pc2=%{y}<extra></extra>",
         "legendgroup": "2020-11-27",
         "marker": {
          "color": "#19d3f3",
          "symbol": "circle"
         },
         "mode": "markers",
         "name": "2020-11-27",
         "showlegend": true,
         "type": "scattergl",
         "x": [
          8.562322353010966
         ],
         "xaxis": "x",
         "y": [
          -6.098932356596053
         ],
         "yaxis": "y"
        },
        {
         "hovertemplate": "date=2020-11-28<br>pc1=%{x}<br>pc2=%{y}<extra></extra>",
         "legendgroup": "2020-11-28",
         "marker": {
          "color": "#FF6692",
          "symbol": "circle"
         },
         "mode": "markers",
         "name": "2020-11-28",
         "showlegend": true,
         "type": "scattergl",
         "x": [
          -15.057248978394096
         ],
         "xaxis": "x",
         "y": [
          8.148957670113669
         ],
         "yaxis": "y"
        },
        {
         "hovertemplate": "date=2020-11-29<br>pc1=%{x}<br>pc2=%{y}<extra></extra>",
         "legendgroup": "2020-11-29",
         "marker": {
          "color": "#B6E880",
          "symbol": "circle"
         },
         "mode": "markers",
         "name": "2020-11-29",
         "showlegend": true,
         "type": "scattergl",
         "x": [
          -17.178783807815226
         ],
         "xaxis": "x",
         "y": [
          16.939688729214225
         ],
         "yaxis": "y"
        },
        {
         "hovertemplate": "date=2020-11-30<br>pc1=%{x}<br>pc2=%{y}<extra></extra>",
         "legendgroup": "2020-11-30",
         "marker": {
          "color": "#FF97FF",
          "symbol": "circle"
         },
         "mode": "markers",
         "name": "2020-11-30",
         "showlegend": true,
         "type": "scattergl",
         "x": [
          3.895495735903927
         ],
         "xaxis": "x",
         "y": [
          -1.8334583353707952
         ],
         "yaxis": "y"
        },
        {
         "hovertemplate": "date=2020-12-01<br>pc1=%{x}<br>pc2=%{y}<extra></extra>",
         "legendgroup": "2020-12-01",
         "marker": {
          "color": "#FECB52",
          "symbol": "circle"
         },
         "mode": "markers",
         "name": "2020-12-01",
         "showlegend": true,
         "type": "scattergl",
         "x": [
          9.362894308118241
         ],
         "xaxis": "x",
         "y": [
          -0.5439400140270828
         ],
         "yaxis": "y"
        },
        {
         "hovertemplate": "date=2020-12-02<br>pc1=%{x}<br>pc2=%{y}<extra></extra>",
         "legendgroup": "2020-12-02",
         "marker": {
          "color": "#636efa",
          "symbol": "circle"
         },
         "mode": "markers",
         "name": "2020-12-02",
         "showlegend": true,
         "type": "scattergl",
         "x": [
          8.125972304277811
         ],
         "xaxis": "x",
         "y": [
          -2.7870261796614537
         ],
         "yaxis": "y"
        },
        {
         "hovertemplate": "date=2020-12-03<br>pc1=%{x}<br>pc2=%{y}<extra></extra>",
         "legendgroup": "2020-12-03",
         "marker": {
          "color": "#EF553B",
          "symbol": "circle"
         },
         "mode": "markers",
         "name": "2020-12-03",
         "showlegend": true,
         "type": "scattergl",
         "x": [
          7.791052062344649
         ],
         "xaxis": "x",
         "y": [
          -2.3888363828610135
         ],
         "yaxis": "y"
        },
        {
         "hovertemplate": "date=2020-12-04<br>pc1=%{x}<br>pc2=%{y}<extra></extra>",
         "legendgroup": "2020-12-04",
         "marker": {
          "color": "#00cc96",
          "symbol": "circle"
         },
         "mode": "markers",
         "name": "2020-12-04",
         "showlegend": true,
         "type": "scattergl",
         "x": [
          6.55533513009785
         ],
         "xaxis": "x",
         "y": [
          -3.2438571049461067
         ],
         "yaxis": "y"
        },
        {
         "hovertemplate": "date=2020-12-05<br>pc1=%{x}<br>pc2=%{y}<extra></extra>",
         "legendgroup": "2020-12-05",
         "marker": {
          "color": "#ab63fa",
          "symbol": "circle"
         },
         "mode": "markers",
         "name": "2020-12-05",
         "showlegend": true,
         "type": "scattergl",
         "x": [
          -8.525289194508382
         ],
         "xaxis": "x",
         "y": [
          14.273599138560792
         ],
         "yaxis": "y"
        },
        {
         "hovertemplate": "date=2020-12-06<br>pc1=%{x}<br>pc2=%{y}<extra></extra>",
         "legendgroup": "2020-12-06",
         "marker": {
          "color": "#FFA15A",
          "symbol": "circle"
         },
         "mode": "markers",
         "name": "2020-12-06",
         "showlegend": true,
         "type": "scattergl",
         "x": [
          -17.35061123223749
         ],
         "xaxis": "x",
         "y": [
          10.997323579381153
         ],
         "yaxis": "y"
        },
        {
         "hovertemplate": "date=2020-12-07<br>pc1=%{x}<br>pc2=%{y}<extra></extra>",
         "legendgroup": "2020-12-07",
         "marker": {
          "color": "#19d3f3",
          "symbol": "circle"
         },
         "mode": "markers",
         "name": "2020-12-07",
         "showlegend": true,
         "type": "scattergl",
         "x": [
          6.786210430166119
         ],
         "xaxis": "x",
         "y": [
          1.7460325066849731
         ],
         "yaxis": "y"
        },
        {
         "hovertemplate": "date=2020-12-08<br>pc1=%{x}<br>pc2=%{y}<extra></extra>",
         "legendgroup": "2020-12-08",
         "marker": {
          "color": "#FF6692",
          "symbol": "circle"
         },
         "mode": "markers",
         "name": "2020-12-08",
         "showlegend": true,
         "type": "scattergl",
         "x": [
          8.935947655314433
         ],
         "xaxis": "x",
         "y": [
          -1.9926374981699244
         ],
         "yaxis": "y"
        },
        {
         "hovertemplate": "date=2020-12-09<br>pc1=%{x}<br>pc2=%{y}<extra></extra>",
         "legendgroup": "2020-12-09",
         "marker": {
          "color": "#B6E880",
          "symbol": "circle"
         },
         "mode": "markers",
         "name": "2020-12-09",
         "showlegend": true,
         "type": "scattergl",
         "x": [
          6.982951289232983
         ],
         "xaxis": "x",
         "y": [
          -2.781486332795037
         ],
         "yaxis": "y"
        },
        {
         "hovertemplate": "date=2020-12-10<br>pc1=%{x}<br>pc2=%{y}<extra></extra>",
         "legendgroup": "2020-12-10",
         "marker": {
          "color": "#FF97FF",
          "symbol": "circle"
         },
         "mode": "markers",
         "name": "2020-12-10",
         "showlegend": true,
         "type": "scattergl",
         "x": [
          8.680228642339454
         ],
         "xaxis": "x",
         "y": [
          -0.7252854918791756
         ],
         "yaxis": "y"
        },
        {
         "hovertemplate": "date=2020-12-11<br>pc1=%{x}<br>pc2=%{y}<extra></extra>",
         "legendgroup": "2020-12-11",
         "marker": {
          "color": "#FECB52",
          "symbol": "circle"
         },
         "mode": "markers",
         "name": "2020-12-11",
         "showlegend": true,
         "type": "scattergl",
         "x": [
          6.413937535204726
         ],
         "xaxis": "x",
         "y": [
          -4.7361124161620305
         ],
         "yaxis": "y"
        },
        {
         "hovertemplate": "date=2020-12-12<br>pc1=%{x}<br>pc2=%{y}<extra></extra>",
         "legendgroup": "2020-12-12",
         "marker": {
          "color": "#636efa",
          "symbol": "circle"
         },
         "mode": "markers",
         "name": "2020-12-12",
         "showlegend": true,
         "type": "scattergl",
         "x": [
          -8.281220956855183
         ],
         "xaxis": "x",
         "y": [
          12.23647060597872
         ],
         "yaxis": "y"
        },
        {
         "hovertemplate": "date=2020-12-13<br>pc1=%{x}<br>pc2=%{y}<extra></extra>",
         "legendgroup": "2020-12-13",
         "marker": {
          "color": "#EF553B",
          "symbol": "circle"
         },
         "mode": "markers",
         "name": "2020-12-13",
         "showlegend": true,
         "type": "scattergl",
         "x": [
          -15.978560226629753
         ],
         "xaxis": "x",
         "y": [
          14.800698060948609
         ],
         "yaxis": "y"
        },
        {
         "hovertemplate": "date=2020-12-14<br>pc1=%{x}<br>pc2=%{y}<extra></extra>",
         "legendgroup": "2020-12-14",
         "marker": {
          "color": "#00cc96",
          "symbol": "circle"
         },
         "mode": "markers",
         "name": "2020-12-14",
         "showlegend": true,
         "type": "scattergl",
         "x": [
          4.364805692990517
         ],
         "xaxis": "x",
         "y": [
          -0.15563609992112495
         ],
         "yaxis": "y"
        },
        {
         "hovertemplate": "date=2020-12-15<br>pc1=%{x}<br>pc2=%{y}<extra></extra>",
         "legendgroup": "2020-12-15",
         "marker": {
          "color": "#ab63fa",
          "symbol": "circle"
         },
         "mode": "markers",
         "name": "2020-12-15",
         "showlegend": true,
         "type": "scattergl",
         "x": [
          5.581517820632238
         ],
         "xaxis": "x",
         "y": [
          -7.576435104251947
         ],
         "yaxis": "y"
        },
        {
         "hovertemplate": "date=2020-12-16<br>pc1=%{x}<br>pc2=%{y}<extra></extra>",
         "legendgroup": "2020-12-16",
         "marker": {
          "color": "#FFA15A",
          "symbol": "circle"
         },
         "mode": "markers",
         "name": "2020-12-16",
         "showlegend": true,
         "type": "scattergl",
         "x": [
          9.276635121091026
         ],
         "xaxis": "x",
         "y": [
          -1.1688020421114445
         ],
         "yaxis": "y"
        },
        {
         "hovertemplate": "date=2020-12-17<br>pc1=%{x}<br>pc2=%{y}<extra></extra>",
         "legendgroup": "2020-12-17",
         "marker": {
          "color": "#19d3f3",
          "symbol": "circle"
         },
         "mode": "markers",
         "name": "2020-12-17",
         "showlegend": true,
         "type": "scattergl",
         "x": [
          9.256232270601489
         ],
         "xaxis": "x",
         "y": [
          -1.8119655418581893
         ],
         "yaxis": "y"
        },
        {
         "hovertemplate": "date=2020-12-18<br>pc1=%{x}<br>pc2=%{y}<extra></extra>",
         "legendgroup": "2020-12-18",
         "marker": {
          "color": "#FF6692",
          "symbol": "circle"
         },
         "mode": "markers",
         "name": "2020-12-18",
         "showlegend": true,
         "type": "scattergl",
         "x": [
          7.942369084110807
         ],
         "xaxis": "x",
         "y": [
          -1.4475704805190714
         ],
         "yaxis": "y"
        },
        {
         "hovertemplate": "date=2020-12-19<br>pc1=%{x}<br>pc2=%{y}<extra></extra>",
         "legendgroup": "2020-12-19",
         "marker": {
          "color": "#B6E880",
          "symbol": "circle"
         },
         "mode": "markers",
         "name": "2020-12-19",
         "showlegend": true,
         "type": "scattergl",
         "x": [
          -13.352833593574028
         ],
         "xaxis": "x",
         "y": [
          6.255848168084227
         ],
         "yaxis": "y"
        },
        {
         "hovertemplate": "date=2020-12-20<br>pc1=%{x}<br>pc2=%{y}<extra></extra>",
         "legendgroup": "2020-12-20",
         "marker": {
          "color": "#FF97FF",
          "symbol": "circle"
         },
         "mode": "markers",
         "name": "2020-12-20",
         "showlegend": true,
         "type": "scattergl",
         "x": [
          -16.60171692478807
         ],
         "xaxis": "x",
         "y": [
          14.514741089149801
         ],
         "yaxis": "y"
        },
        {
         "hovertemplate": "date=2020-12-21<br>pc1=%{x}<br>pc2=%{y}<extra></extra>",
         "legendgroup": "2020-12-21",
         "marker": {
          "color": "#FECB52",
          "symbol": "circle"
         },
         "mode": "markers",
         "name": "2020-12-21",
         "showlegend": true,
         "type": "scattergl",
         "x": [
          3.6882691114373323
         ],
         "xaxis": "x",
         "y": [
          -0.36397881331376264
         ],
         "yaxis": "y"
        },
        {
         "hovertemplate": "date=2020-12-22<br>pc1=%{x}<br>pc2=%{y}<extra></extra>",
         "legendgroup": "2020-12-22",
         "marker": {
          "color": "#636efa",
          "symbol": "circle"
         },
         "mode": "markers",
         "name": "2020-12-22",
         "showlegend": true,
         "type": "scattergl",
         "x": [
          7.580646236700712
         ],
         "xaxis": "x",
         "y": [
          2.39468363366323
         ],
         "yaxis": "y"
        },
        {
         "hovertemplate": "date=2020-12-23<br>pc1=%{x}<br>pc2=%{y}<extra></extra>",
         "legendgroup": "2020-12-23",
         "marker": {
          "color": "#EF553B",
          "symbol": "circle"
         },
         "mode": "markers",
         "name": "2020-12-23",
         "showlegend": true,
         "type": "scattergl",
         "x": [
          3.502280023787118
         ],
         "xaxis": "x",
         "y": [
          -2.762289952786272
         ],
         "yaxis": "y"
        },
        {
         "hovertemplate": "date=2020-12-24<br>pc1=%{x}<br>pc2=%{y}<extra></extra>",
         "legendgroup": "2020-12-24",
         "marker": {
          "color": "#00cc96",
          "symbol": "circle"
         },
         "mode": "markers",
         "name": "2020-12-24",
         "showlegend": true,
         "type": "scattergl",
         "x": [
          9.969136192947994
         ],
         "xaxis": "x",
         "y": [
          -6.697417941106547
         ],
         "yaxis": "y"
        },
        {
         "hovertemplate": "date=2020-12-25<br>pc1=%{x}<br>pc2=%{y}<extra></extra>",
         "legendgroup": "2020-12-25",
         "marker": {
          "color": "#ab63fa",
          "symbol": "circle"
         },
         "mode": "markers",
         "name": "2020-12-25",
         "showlegend": true,
         "type": "scattergl",
         "x": [
          15.970767212785217
         ],
         "xaxis": "x",
         "y": [
          -13.095224447623131
         ],
         "yaxis": "y"
        },
        {
         "hovertemplate": "date=2020-12-26<br>pc1=%{x}<br>pc2=%{y}<extra></extra>",
         "legendgroup": "2020-12-26",
         "marker": {
          "color": "#FFA15A",
          "symbol": "circle"
         },
         "mode": "markers",
         "name": "2020-12-26",
         "showlegend": true,
         "type": "scattergl",
         "x": [
          -13.502922399815589
         ],
         "xaxis": "x",
         "y": [
          8.964575202113311
         ],
         "yaxis": "y"
        },
        {
         "hovertemplate": "date=2020-12-27<br>pc1=%{x}<br>pc2=%{y}<extra></extra>",
         "legendgroup": "2020-12-27",
         "marker": {
          "color": "#19d3f3",
          "symbol": "circle"
         },
         "mode": "markers",
         "name": "2020-12-27",
         "showlegend": true,
         "type": "scattergl",
         "x": [
          -17.741653937377247
         ],
         "xaxis": "x",
         "y": [
          19.034789831485
         ],
         "yaxis": "y"
        },
        {
         "hovertemplate": "date=2020-12-28<br>pc1=%{x}<br>pc2=%{y}<extra></extra>",
         "legendgroup": "2020-12-28",
         "marker": {
          "color": "#FF6692",
          "symbol": "circle"
         },
         "mode": "markers",
         "name": "2020-12-28",
         "showlegend": true,
         "type": "scattergl",
         "x": [
          3.022041871735247
         ],
         "xaxis": "x",
         "y": [
          2.075080923364468
         ],
         "yaxis": "y"
        },
        {
         "hovertemplate": "date=2020-12-29<br>pc1=%{x}<br>pc2=%{y}<extra></extra>",
         "legendgroup": "2020-12-29",
         "marker": {
          "color": "#B6E880",
          "symbol": "circle"
         },
         "mode": "markers",
         "name": "2020-12-29",
         "showlegend": true,
         "type": "scattergl",
         "x": [
          -12.996196563861787
         ],
         "xaxis": "x",
         "y": [
          -32.92267911224637
         ],
         "yaxis": "y"
        },
        {
         "hovertemplate": "date=2020-12-30<br>pc1=%{x}<br>pc2=%{y}<extra></extra>",
         "legendgroup": "2020-12-30",
         "marker": {
          "color": "#FF97FF",
          "symbol": "circle"
         },
         "mode": "markers",
         "name": "2020-12-30",
         "showlegend": true,
         "type": "scattergl",
         "x": [
          10.947925405378284
         ],
         "xaxis": "x",
         "y": [
          4.005934565244109
         ],
         "yaxis": "y"
        },
        {
         "hovertemplate": "date=2020-12-31<br>pc1=%{x}<br>pc2=%{y}<extra></extra>",
         "legendgroup": "2020-12-31",
         "marker": {
          "color": "#FECB52",
          "symbol": "circle"
         },
         "mode": "markers",
         "name": "2020-12-31",
         "showlegend": true,
         "type": "scattergl",
         "x": [
          5.852989932878721
         ],
         "xaxis": "x",
         "y": [
          -7.072413109163276
         ],
         "yaxis": "y"
        },
        {
         "hovertemplate": "date=2021-01-01<br>pc1=%{x}<br>pc2=%{y}<extra></extra>",
         "legendgroup": "2021-01-01",
         "marker": {
          "color": "#636efa",
          "symbol": "circle"
         },
         "mode": "markers",
         "name": "2021-01-01",
         "showlegend": true,
         "type": "scattergl",
         "x": [
          16.70631145956937
         ],
         "xaxis": "x",
         "y": [
          -7.675927873421253
         ],
         "yaxis": "y"
        },
        {
         "hovertemplate": "date=2021-01-02<br>pc1=%{x}<br>pc2=%{y}<extra></extra>",
         "legendgroup": "2021-01-02",
         "marker": {
          "color": "#EF553B",
          "symbol": "circle"
         },
         "mode": "markers",
         "name": "2021-01-02",
         "showlegend": true,
         "type": "scattergl",
         "x": [
          -11.234166156758704
         ],
         "xaxis": "x",
         "y": [
          13.074507262602411
         ],
         "yaxis": "y"
        },
        {
         "hovertemplate": "date=2021-01-03<br>pc1=%{x}<br>pc2=%{y}<extra></extra>",
         "legendgroup": "2021-01-03",
         "marker": {
          "color": "#00cc96",
          "symbol": "circle"
         },
         "mode": "markers",
         "name": "2021-01-03",
         "showlegend": true,
         "type": "scattergl",
         "x": [
          -17.40567677088531
         ],
         "xaxis": "x",
         "y": [
          16.074012532699978
         ],
         "yaxis": "y"
        },
        {
         "hovertemplate": "date=2021-01-04<br>pc1=%{x}<br>pc2=%{y}<extra></extra>",
         "legendgroup": "2021-01-04",
         "marker": {
          "color": "#ab63fa",
          "symbol": "circle"
         },
         "mode": "markers",
         "name": "2021-01-04",
         "showlegend": true,
         "type": "scattergl",
         "x": [
          5.325646071620045
         ],
         "xaxis": "x",
         "y": [
          4.119724143200514
         ],
         "yaxis": "y"
        },
        {
         "hovertemplate": "date=2021-01-05<br>pc1=%{x}<br>pc2=%{y}<extra></extra>",
         "legendgroup": "2021-01-05",
         "marker": {
          "color": "#FFA15A",
          "symbol": "circle"
         },
         "mode": "markers",
         "name": "2021-01-05",
         "showlegend": true,
         "type": "scattergl",
         "x": [
          9.039191711888085
         ],
         "xaxis": "x",
         "y": [
          -1.36843605956105
         ],
         "yaxis": "y"
        },
        {
         "hovertemplate": "date=2021-01-06<br>pc1=%{x}<br>pc2=%{y}<extra></extra>",
         "legendgroup": "2021-01-06",
         "marker": {
          "color": "#19d3f3",
          "symbol": "circle"
         },
         "mode": "markers",
         "name": "2021-01-06",
         "showlegend": true,
         "type": "scattergl",
         "x": [
          9.825732425492022
         ],
         "xaxis": "x",
         "y": [
          0.2849195888441013
         ],
         "yaxis": "y"
        },
        {
         "hovertemplate": "date=2021-01-07<br>pc1=%{x}<br>pc2=%{y}<extra></extra>",
         "legendgroup": "2021-01-07",
         "marker": {
          "color": "#FF6692",
          "symbol": "circle"
         },
         "mode": "markers",
         "name": "2021-01-07",
         "showlegend": true,
         "type": "scattergl",
         "x": [
          9.15333534994154
         ],
         "xaxis": "x",
         "y": [
          -1.5627383746304824
         ],
         "yaxis": "y"
        },
        {
         "hovertemplate": "date=2021-01-08<br>pc1=%{x}<br>pc2=%{y}<extra></extra>",
         "legendgroup": "2021-01-08",
         "marker": {
          "color": "#B6E880",
          "symbol": "circle"
         },
         "mode": "markers",
         "name": "2021-01-08",
         "showlegend": true,
         "type": "scattergl",
         "x": [
          8.180996554442494
         ],
         "xaxis": "x",
         "y": [
          -1.0800193851267832
         ],
         "yaxis": "y"
        },
        {
         "hovertemplate": "date=2021-01-09<br>pc1=%{x}<br>pc2=%{y}<extra></extra>",
         "legendgroup": "2021-01-09",
         "marker": {
          "color": "#FF97FF",
          "symbol": "circle"
         },
         "mode": "markers",
         "name": "2021-01-09",
         "showlegend": true,
         "type": "scattergl",
         "x": [
          -11.873015236043972
         ],
         "xaxis": "x",
         "y": [
          9.184330219587427
         ],
         "yaxis": "y"
        },
        {
         "hovertemplate": "date=2021-01-10<br>pc1=%{x}<br>pc2=%{y}<extra></extra>",
         "legendgroup": "2021-01-10",
         "marker": {
          "color": "#FECB52",
          "symbol": "circle"
         },
         "mode": "markers",
         "name": "2021-01-10",
         "showlegend": true,
         "type": "scattergl",
         "x": [
          -15.194653589154342
         ],
         "xaxis": "x",
         "y": [
          15.143659798567073
         ],
         "yaxis": "y"
        },
        {
         "hovertemplate": "date=2021-01-11<br>pc1=%{x}<br>pc2=%{y}<extra></extra>",
         "legendgroup": "2021-01-11",
         "marker": {
          "color": "#636efa",
          "symbol": "circle"
         },
         "mode": "markers",
         "name": "2021-01-11",
         "showlegend": true,
         "type": "scattergl",
         "x": [
          5.274707042010349
         ],
         "xaxis": "x",
         "y": [
          -0.3066132292625478
         ],
         "yaxis": "y"
        },
        {
         "hovertemplate": "date=2021-01-12<br>pc1=%{x}<br>pc2=%{y}<extra></extra>",
         "legendgroup": "2021-01-12",
         "marker": {
          "color": "#EF553B",
          "symbol": "circle"
         },
         "mode": "markers",
         "name": "2021-01-12",
         "showlegend": true,
         "type": "scattergl",
         "x": [
          11.09909772295156
         ],
         "xaxis": "x",
         "y": [
          1.3786325470790755
         ],
         "yaxis": "y"
        },
        {
         "hovertemplate": "date=2021-01-13<br>pc1=%{x}<br>pc2=%{y}<extra></extra>",
         "legendgroup": "2021-01-13",
         "marker": {
          "color": "#00cc96",
          "symbol": "circle"
         },
         "mode": "markers",
         "name": "2021-01-13",
         "showlegend": true,
         "type": "scattergl",
         "x": [
          9.750926811932013
         ],
         "xaxis": "x",
         "y": [
          1.1758238484526222
         ],
         "yaxis": "y"
        },
        {
         "hovertemplate": "date=2021-01-14<br>pc1=%{x}<br>pc2=%{y}<extra></extra>",
         "legendgroup": "2021-01-14",
         "marker": {
          "color": "#ab63fa",
          "symbol": "circle"
         },
         "mode": "markers",
         "name": "2021-01-14",
         "showlegend": true,
         "type": "scattergl",
         "x": [
          8.651620649024256
         ],
         "xaxis": "x",
         "y": [
          -1.836161303845633
         ],
         "yaxis": "y"
        },
        {
         "hovertemplate": "date=2021-01-15<br>pc1=%{x}<br>pc2=%{y}<extra></extra>",
         "legendgroup": "2021-01-15",
         "marker": {
          "color": "#FFA15A",
          "symbol": "circle"
         },
         "mode": "markers",
         "name": "2021-01-15",
         "showlegend": true,
         "type": "scattergl",
         "x": [
          9.85468425534203
         ],
         "xaxis": "x",
         "y": [
          2.5420723725031893
         ],
         "yaxis": "y"
        },
        {
         "hovertemplate": "date=2021-01-16<br>pc1=%{x}<br>pc2=%{y}<extra></extra>",
         "legendgroup": "2021-01-16",
         "marker": {
          "color": "#19d3f3",
          "symbol": "circle"
         },
         "mode": "markers",
         "name": "2021-01-16",
         "showlegend": true,
         "type": "scattergl",
         "x": [
          -14.312240666749153
         ],
         "xaxis": "x",
         "y": [
          4.331375260719388
         ],
         "yaxis": "y"
        },
        {
         "hovertemplate": "date=2021-01-17<br>pc1=%{x}<br>pc2=%{y}<extra></extra>",
         "legendgroup": "2021-01-17",
         "marker": {
          "color": "#FF6692",
          "symbol": "circle"
         },
         "mode": "markers",
         "name": "2021-01-17",
         "showlegend": true,
         "type": "scattergl",
         "x": [
          -15.008422335338068
         ],
         "xaxis": "x",
         "y": [
          16.73408629567106
         ],
         "yaxis": "y"
        },
        {
         "hovertemplate": "date=2021-01-18<br>pc1=%{x}<br>pc2=%{y}<extra></extra>",
         "legendgroup": "2021-01-18",
         "marker": {
          "color": "#B6E880",
          "symbol": "circle"
         },
         "mode": "markers",
         "name": "2021-01-18",
         "showlegend": true,
         "type": "scattergl",
         "x": [
          7.472594175679599
         ],
         "xaxis": "x",
         "y": [
          -1.5881224652736052
         ],
         "yaxis": "y"
        },
        {
         "hovertemplate": "date=2021-01-19<br>pc1=%{x}<br>pc2=%{y}<extra></extra>",
         "legendgroup": "2021-01-19",
         "marker": {
          "color": "#FF97FF",
          "symbol": "circle"
         },
         "mode": "markers",
         "name": "2021-01-19",
         "showlegend": true,
         "type": "scattergl",
         "x": [
          7.062430047209136
         ],
         "xaxis": "x",
         "y": [
          -3.8331879345114626
         ],
         "yaxis": "y"
        },
        {
         "hovertemplate": "date=2021-01-20<br>pc1=%{x}<br>pc2=%{y}<extra></extra>",
         "legendgroup": "2021-01-20",
         "marker": {
          "color": "#FECB52",
          "symbol": "circle"
         },
         "mode": "markers",
         "name": "2021-01-20",
         "showlegend": true,
         "type": "scattergl",
         "x": [
          10.485103740839335
         ],
         "xaxis": "x",
         "y": [
          0.450471199373673
         ],
         "yaxis": "y"
        },
        {
         "hovertemplate": "date=2021-01-21<br>pc1=%{x}<br>pc2=%{y}<extra></extra>",
         "legendgroup": "2021-01-21",
         "marker": {
          "color": "#636efa",
          "symbol": "circle"
         },
         "mode": "markers",
         "name": "2021-01-21",
         "showlegend": true,
         "type": "scattergl",
         "x": [
          9.34076125266982
         ],
         "xaxis": "x",
         "y": [
          1.7579457367631162
         ],
         "yaxis": "y"
        },
        {
         "hovertemplate": "date=2021-01-22<br>pc1=%{x}<br>pc2=%{y}<extra></extra>",
         "legendgroup": "2021-01-22",
         "marker": {
          "color": "#EF553B",
          "symbol": "circle"
         },
         "mode": "markers",
         "name": "2021-01-22",
         "showlegend": true,
         "type": "scattergl",
         "x": [
          8.39144876368646
         ],
         "xaxis": "x",
         "y": [
          -1.6409816697841388
         ],
         "yaxis": "y"
        },
        {
         "hovertemplate": "date=2021-01-23<br>pc1=%{x}<br>pc2=%{y}<extra></extra>",
         "legendgroup": "2021-01-23",
         "marker": {
          "color": "#00cc96",
          "symbol": "circle"
         },
         "mode": "markers",
         "name": "2021-01-23",
         "showlegend": true,
         "type": "scattergl",
         "x": [
          -10.409322966991628
         ],
         "xaxis": "x",
         "y": [
          11.240020722897277
         ],
         "yaxis": "y"
        },
        {
         "hovertemplate": "date=2021-01-24<br>pc1=%{x}<br>pc2=%{y}<extra></extra>",
         "legendgroup": "2021-01-24",
         "marker": {
          "color": "#ab63fa",
          "symbol": "circle"
         },
         "mode": "markers",
         "name": "2021-01-24",
         "showlegend": true,
         "type": "scattergl",
         "x": [
          -15.14440654747135
         ],
         "xaxis": "x",
         "y": [
          15.792191735519436
         ],
         "yaxis": "y"
        },
        {
         "hovertemplate": "date=2021-01-25<br>pc1=%{x}<br>pc2=%{y}<extra></extra>",
         "legendgroup": "2021-01-25",
         "marker": {
          "color": "#FFA15A",
          "symbol": "circle"
         },
         "mode": "markers",
         "name": "2021-01-25",
         "showlegend": true,
         "type": "scattergl",
         "x": [
          6.027517018867188
         ],
         "xaxis": "x",
         "y": [
          2.217939568055626
         ],
         "yaxis": "y"
        },
        {
         "hovertemplate": "date=2021-01-26<br>pc1=%{x}<br>pc2=%{y}<extra></extra>",
         "legendgroup": "2021-01-26",
         "marker": {
          "color": "#19d3f3",
          "symbol": "circle"
         },
         "mode": "markers",
         "name": "2021-01-26",
         "showlegend": true,
         "type": "scattergl",
         "x": [
          9.51059350733695
         ],
         "xaxis": "x",
         "y": [
          -4.164002006505631
         ],
         "yaxis": "y"
        },
        {
         "hovertemplate": "date=2021-01-27<br>pc1=%{x}<br>pc2=%{y}<extra></extra>",
         "legendgroup": "2021-01-27",
         "marker": {
          "color": "#FF6692",
          "symbol": "circle"
         },
         "mode": "markers",
         "name": "2021-01-27",
         "showlegend": true,
         "type": "scattergl",
         "x": [
          34.23533808328559
         ],
         "xaxis": "x",
         "y": [
          39.005124126010024
         ],
         "yaxis": "y"
        },
        {
         "hovertemplate": "date=2021-01-28<br>pc1=%{x}<br>pc2=%{y}<extra></extra>",
         "legendgroup": "2021-01-28",
         "marker": {
          "color": "#B6E880",
          "symbol": "circle"
         },
         "mode": "markers",
         "name": "2021-01-28",
         "showlegend": true,
         "type": "scattergl",
         "x": [
          32.65088450505746
         ],
         "xaxis": "x",
         "y": [
          35.92731274568349
         ],
         "yaxis": "y"
        },
        {
         "hovertemplate": "date=2021-01-29<br>pc1=%{x}<br>pc2=%{y}<extra></extra>",
         "legendgroup": "2021-01-29",
         "marker": {
          "color": "#FF97FF",
          "symbol": "circle"
         },
         "mode": "markers",
         "name": "2021-01-29",
         "showlegend": true,
         "type": "scattergl",
         "x": [
          22.64748387618253
         ],
         "xaxis": "x",
         "y": [
          22.817034085483865
         ],
         "yaxis": "y"
        },
        {
         "hovertemplate": "date=2021-01-30<br>pc1=%{x}<br>pc2=%{y}<extra></extra>",
         "legendgroup": "2021-01-30",
         "marker": {
          "color": "#FECB52",
          "symbol": "circle"
         },
         "mode": "markers",
         "name": "2021-01-30",
         "showlegend": true,
         "type": "scattergl",
         "x": [
          -18.410468303750157
         ],
         "xaxis": "x",
         "y": [
          -1.9692931297369363
         ],
         "yaxis": "y"
        },
        {
         "hovertemplate": "date=2021-01-31<br>pc1=%{x}<br>pc2=%{y}<extra></extra>",
         "legendgroup": "2021-01-31",
         "marker": {
          "color": "#636efa",
          "symbol": "circle"
         },
         "mode": "markers",
         "name": "2021-01-31",
         "showlegend": true,
         "type": "scattergl",
         "x": [
          -22.211455189649982
         ],
         "xaxis": "x",
         "y": [
          3.1801031592293545
         ],
         "yaxis": "y"
        },
        {
         "hovertemplate": "date=2021-02-01<br>pc1=%{x}<br>pc2=%{y}<extra></extra>",
         "legendgroup": "2021-02-01",
         "marker": {
          "color": "#EF553B",
          "symbol": "circle"
         },
         "mode": "markers",
         "name": "2021-02-01",
         "showlegend": true,
         "type": "scattergl",
         "x": [
          1.75048091429831
         ],
         "xaxis": "x",
         "y": [
          -4.573879217399302
         ],
         "yaxis": "y"
        },
        {
         "hovertemplate": "date=2021-02-02<br>pc1=%{x}<br>pc2=%{y}<extra></extra>",
         "legendgroup": "2021-02-02",
         "marker": {
          "color": "#00cc96",
          "symbol": "circle"
         },
         "mode": "markers",
         "name": "2021-02-02",
         "showlegend": true,
         "type": "scattergl",
         "x": [
          8.333831305034018
         ],
         "xaxis": "x",
         "y": [
          -2.79162411509865
         ],
         "yaxis": "y"
        },
        {
         "hovertemplate": "date=2021-02-03<br>pc1=%{x}<br>pc2=%{y}<extra></extra>",
         "legendgroup": "2021-02-03",
         "marker": {
          "color": "#ab63fa",
          "symbol": "circle"
         },
         "mode": "markers",
         "name": "2021-02-03",
         "showlegend": true,
         "type": "scattergl",
         "x": [
          -0.3484602997660172
         ],
         "xaxis": "x",
         "y": [
          -13.934834822398145
         ],
         "yaxis": "y"
        },
        {
         "hovertemplate": "date=2021-02-04<br>pc1=%{x}<br>pc2=%{y}<extra></extra>",
         "legendgroup": "2021-02-04",
         "marker": {
          "color": "#FFA15A",
          "symbol": "circle"
         },
         "mode": "markers",
         "name": "2021-02-04",
         "showlegend": true,
         "type": "scattergl",
         "x": [
          9.931641243142666
         ],
         "xaxis": "x",
         "y": [
          0.9196647045090754
         ],
         "yaxis": "y"
        },
        {
         "hovertemplate": "date=2021-02-05<br>pc1=%{x}<br>pc2=%{y}<extra></extra>",
         "legendgroup": "2021-02-05",
         "marker": {
          "color": "#19d3f3",
          "symbol": "circle"
         },
         "mode": "markers",
         "name": "2021-02-05",
         "showlegend": true,
         "type": "scattergl",
         "x": [
          6.201214543557786
         ],
         "xaxis": "x",
         "y": [
          -5.521011720804396
         ],
         "yaxis": "y"
        },
        {
         "hovertemplate": "date=2021-02-06<br>pc1=%{x}<br>pc2=%{y}<extra></extra>",
         "legendgroup": "2021-02-06",
         "marker": {
          "color": "#FF6692",
          "symbol": "circle"
         },
         "mode": "markers",
         "name": "2021-02-06",
         "showlegend": true,
         "type": "scattergl",
         "x": [
          -11.372730877923527
         ],
         "xaxis": "x",
         "y": [
          6.535446750912752
         ],
         "yaxis": "y"
        },
        {
         "hovertemplate": "date=2021-02-07<br>pc1=%{x}<br>pc2=%{y}<extra></extra>",
         "legendgroup": "2021-02-07",
         "marker": {
          "color": "#B6E880",
          "symbol": "circle"
         },
         "mode": "markers",
         "name": "2021-02-07",
         "showlegend": true,
         "type": "scattergl",
         "x": [
          -20.045787462176783
         ],
         "xaxis": "x",
         "y": [
          5.049739490219447
         ],
         "yaxis": "y"
        },
        {
         "hovertemplate": "date=2021-02-08<br>pc1=%{x}<br>pc2=%{y}<extra></extra>",
         "legendgroup": "2021-02-08",
         "marker": {
          "color": "#FF97FF",
          "symbol": "circle"
         },
         "mode": "markers",
         "name": "2021-02-08",
         "showlegend": true,
         "type": "scattergl",
         "x": [
          0.7461679783575017
         ],
         "xaxis": "x",
         "y": [
          -7.9753264495245535
         ],
         "yaxis": "y"
        },
        {
         "hovertemplate": "date=2021-02-09<br>pc1=%{x}<br>pc2=%{y}<extra></extra>",
         "legendgroup": "2021-02-09",
         "marker": {
          "color": "#FECB52",
          "symbol": "circle"
         },
         "mode": "markers",
         "name": "2021-02-09",
         "showlegend": true,
         "type": "scattergl",
         "x": [
          15.22661377435273
         ],
         "xaxis": "x",
         "y": [
          7.306344445825935
         ],
         "yaxis": "y"
        },
        {
         "hovertemplate": "date=2021-02-10<br>pc1=%{x}<br>pc2=%{y}<extra></extra>",
         "legendgroup": "2021-02-10",
         "marker": {
          "color": "#636efa",
          "symbol": "circle"
         },
         "mode": "markers",
         "name": "2021-02-10",
         "showlegend": true,
         "type": "scattergl",
         "x": [
          15.32906779609428
         ],
         "xaxis": "x",
         "y": [
          9.370002076702475
         ],
         "yaxis": "y"
        },
        {
         "hovertemplate": "date=2021-02-11<br>pc1=%{x}<br>pc2=%{y}<extra></extra>",
         "legendgroup": "2021-02-11",
         "marker": {
          "color": "#EF553B",
          "symbol": "circle"
         },
         "mode": "markers",
         "name": "2021-02-11",
         "showlegend": true,
         "type": "scattergl",
         "x": [
          12.69734909549808
         ],
         "xaxis": "x",
         "y": [
          5.363687661719029
         ],
         "yaxis": "y"
        },
        {
         "hovertemplate": "date=2021-02-12<br>pc1=%{x}<br>pc2=%{y}<extra></extra>",
         "legendgroup": "2021-02-12",
         "marker": {
          "color": "#00cc96",
          "symbol": "circle"
         },
         "mode": "markers",
         "name": "2021-02-12",
         "showlegend": true,
         "type": "scattergl",
         "x": [
          3.6162540321441554
         ],
         "xaxis": "x",
         "y": [
          -6.6226309918302215
         ],
         "yaxis": "y"
        },
        {
         "hovertemplate": "date=2021-02-13<br>pc1=%{x}<br>pc2=%{y}<extra></extra>",
         "legendgroup": "2021-02-13",
         "marker": {
          "color": "#ab63fa",
          "symbol": "circle"
         },
         "mode": "markers",
         "name": "2021-02-13",
         "showlegend": true,
         "type": "scattergl",
         "x": [
          -15.12897357302158
         ],
         "xaxis": "x",
         "y": [
          6.629378980880284
         ],
         "yaxis": "y"
        },
        {
         "hovertemplate": "date=2021-02-14<br>pc1=%{x}<br>pc2=%{y}<extra></extra>",
         "legendgroup": "2021-02-14",
         "marker": {
          "color": "#FFA15A",
          "symbol": "circle"
         },
         "mode": "markers",
         "name": "2021-02-14",
         "showlegend": true,
         "type": "scattergl",
         "x": [
          -23.046713804069267
         ],
         "xaxis": "x",
         "y": [
          2.621497299823066
         ],
         "yaxis": "y"
        },
        {
         "hovertemplate": "date=2021-02-15<br>pc1=%{x}<br>pc2=%{y}<extra></extra>",
         "legendgroup": "2021-02-15",
         "marker": {
          "color": "#19d3f3",
          "symbol": "circle"
         },
         "mode": "markers",
         "name": "2021-02-15",
         "showlegend": true,
         "type": "scattergl",
         "x": [
          -4.447425394411166
         ],
         "xaxis": "x",
         "y": [
          -19.560261759630393
         ],
         "yaxis": "y"
        },
        {
         "hovertemplate": "date=2021-02-16<br>pc1=%{x}<br>pc2=%{y}<extra></extra>",
         "legendgroup": "2021-02-16",
         "marker": {
          "color": "#FF6692",
          "symbol": "circle"
         },
         "mode": "markers",
         "name": "2021-02-16",
         "showlegend": true,
         "type": "scattergl",
         "x": [
          3.9603248003394853
         ],
         "xaxis": "x",
         "y": [
          -18.137404121990233
         ],
         "yaxis": "y"
        },
        {
         "hovertemplate": "date=2021-02-17<br>pc1=%{x}<br>pc2=%{y}<extra></extra>",
         "legendgroup": "2021-02-17",
         "marker": {
          "color": "#B6E880",
          "symbol": "circle"
         },
         "mode": "markers",
         "name": "2021-02-17",
         "showlegend": true,
         "type": "scattergl",
         "x": [
          9.165978836992831
         ],
         "xaxis": "x",
         "y": [
          1.615205198737722
         ],
         "yaxis": "y"
        },
        {
         "hovertemplate": "date=2021-02-18<br>pc1=%{x}<br>pc2=%{y}<extra></extra>",
         "legendgroup": "2021-02-18",
         "marker": {
          "color": "#FF97FF",
          "symbol": "circle"
         },
         "mode": "markers",
         "name": "2021-02-18",
         "showlegend": true,
         "type": "scattergl",
         "x": [
          1.8349554629860996
         ],
         "xaxis": "x",
         "y": [
          -10.094341828059981
         ],
         "yaxis": "y"
        },
        {
         "hovertemplate": "date=2021-02-19<br>pc1=%{x}<br>pc2=%{y}<extra></extra>",
         "legendgroup": "2021-02-19",
         "marker": {
          "color": "#FECB52",
          "symbol": "circle"
         },
         "mode": "markers",
         "name": "2021-02-19",
         "showlegend": true,
         "type": "scattergl",
         "x": [
          6.870618083177656
         ],
         "xaxis": "x",
         "y": [
          -0.5260996152188807
         ],
         "yaxis": "y"
        },
        {
         "hovertemplate": "date=2021-02-20<br>pc1=%{x}<br>pc2=%{y}<extra></extra>",
         "legendgroup": "2021-02-20",
         "marker": {
          "color": "#636efa",
          "symbol": "circle"
         },
         "mode": "markers",
         "name": "2021-02-20",
         "showlegend": true,
         "type": "scattergl",
         "x": [
          -16.729902981053154
         ],
         "xaxis": "x",
         "y": [
          1.2290494649405692
         ],
         "yaxis": "y"
        },
        {
         "hovertemplate": "date=2021-02-21<br>pc1=%{x}<br>pc2=%{y}<extra></extra>",
         "legendgroup": "2021-02-21",
         "marker": {
          "color": "#EF553B",
          "symbol": "circle"
         },
         "mode": "markers",
         "name": "2021-02-21",
         "showlegend": true,
         "type": "scattergl",
         "x": [
          -14.527399137985325
         ],
         "xaxis": "x",
         "y": [
          14.473664158936323
         ],
         "yaxis": "y"
        },
        {
         "hovertemplate": "date=2021-02-22<br>pc1=%{x}<br>pc2=%{y}<extra></extra>",
         "legendgroup": "2021-02-22",
         "marker": {
          "color": "#00cc96",
          "symbol": "circle"
         },
         "mode": "markers",
         "name": "2021-02-22",
         "showlegend": true,
         "type": "scattergl",
         "x": [
          1.3889208558876447
         ],
         "xaxis": "x",
         "y": [
          -7.834239646167063
         ],
         "yaxis": "y"
        },
        {
         "hovertemplate": "date=2021-02-23<br>pc1=%{x}<br>pc2=%{y}<extra></extra>",
         "legendgroup": "2021-02-23",
         "marker": {
          "color": "#ab63fa",
          "symbol": "circle"
         },
         "mode": "markers",
         "name": "2021-02-23",
         "showlegend": true,
         "type": "scattergl",
         "x": [
          13.444344746181757
         ],
         "xaxis": "x",
         "y": [
          6.153263415425329
         ],
         "yaxis": "y"
        },
        {
         "hovertemplate": "date=2021-02-24<br>pc1=%{x}<br>pc2=%{y}<extra></extra>",
         "legendgroup": "2021-02-24",
         "marker": {
          "color": "#FFA15A",
          "symbol": "circle"
         },
         "mode": "markers",
         "name": "2021-02-24",
         "showlegend": true,
         "type": "scattergl",
         "x": [
          14.619166610581612
         ],
         "xaxis": "x",
         "y": [
          7.48897399731289
         ],
         "yaxis": "y"
        },
        {
         "hovertemplate": "date=2021-02-25<br>pc1=%{x}<br>pc2=%{y}<extra></extra>",
         "legendgroup": "2021-02-25",
         "marker": {
          "color": "#19d3f3",
          "symbol": "circle"
         },
         "mode": "markers",
         "name": "2021-02-25",
         "showlegend": true,
         "type": "scattergl",
         "x": [
          10.740625194874093
         ],
         "xaxis": "x",
         "y": [
          0.8395881854807556
         ],
         "yaxis": "y"
        },
        {
         "hovertemplate": "date=2021-02-26<br>pc1=%{x}<br>pc2=%{y}<extra></extra>",
         "legendgroup": "2021-02-26",
         "marker": {
          "color": "#FF6692",
          "symbol": "circle"
         },
         "mode": "markers",
         "name": "2021-02-26",
         "showlegend": true,
         "type": "scattergl",
         "x": [
          4.448076311750149
         ],
         "xaxis": "x",
         "y": [
          -5.649367352799405
         ],
         "yaxis": "y"
        },
        {
         "hovertemplate": "date=2021-02-27<br>pc1=%{x}<br>pc2=%{y}<extra></extra>",
         "legendgroup": "2021-02-27",
         "marker": {
          "color": "#B6E880",
          "symbol": "circle"
         },
         "mode": "markers",
         "name": "2021-02-27",
         "showlegend": true,
         "type": "scattergl",
         "x": [
          -12.640652458938481
         ],
         "xaxis": "x",
         "y": [
          10.560931372376631
         ],
         "yaxis": "y"
        },
        {
         "hovertemplate": "date=2021-02-28<br>pc1=%{x}<br>pc2=%{y}<extra></extra>",
         "legendgroup": "2021-02-28",
         "marker": {
          "color": "#FF97FF",
          "symbol": "circle"
         },
         "mode": "markers",
         "name": "2021-02-28",
         "showlegend": true,
         "type": "scattergl",
         "x": [
          -14.244421014355959
         ],
         "xaxis": "x",
         "y": [
          14.42903549250152
         ],
         "yaxis": "y"
        },
        {
         "hovertemplate": "date=2021-03-01<br>pc1=%{x}<br>pc2=%{y}<extra></extra>",
         "legendgroup": "2021-03-01",
         "marker": {
          "color": "#FECB52",
          "symbol": "circle"
         },
         "mode": "markers",
         "name": "2021-03-01",
         "showlegend": true,
         "type": "scattergl",
         "x": [
          10.604998753690223
         ],
         "xaxis": "x",
         "y": [
          6.744491700000044
         ],
         "yaxis": "y"
        },
        {
         "hovertemplate": "date=2021-03-02<br>pc1=%{x}<br>pc2=%{y}<extra></extra>",
         "legendgroup": "2021-03-02",
         "marker": {
          "color": "#636efa",
          "symbol": "circle"
         },
         "mode": "markers",
         "name": "2021-03-02",
         "showlegend": true,
         "type": "scattergl",
         "x": [
          14.771462608806965
         ],
         "xaxis": "x",
         "y": [
          5.996085086379256
         ],
         "yaxis": "y"
        }
       ],
       "layout": {
        "legend": {
         "title": {
          "text": "date"
         },
         "tracegroupgap": 0
        },
        "margin": {
         "t": 60
        },
        "template": {
         "data": {
          "bar": [
           {
            "error_x": {
             "color": "#2a3f5f"
            },
            "error_y": {
             "color": "#2a3f5f"
            },
            "marker": {
             "line": {
              "color": "#E5ECF6",
              "width": 0.5
             },
             "pattern": {
              "fillmode": "overlay",
              "size": 10,
              "solidity": 0.2
             }
            },
            "type": "bar"
           }
          ],
          "barpolar": [
           {
            "marker": {
             "line": {
              "color": "#E5ECF6",
              "width": 0.5
             },
             "pattern": {
              "fillmode": "overlay",
              "size": 10,
              "solidity": 0.2
             }
            },
            "type": "barpolar"
           }
          ],
          "carpet": [
           {
            "aaxis": {
             "endlinecolor": "#2a3f5f",
             "gridcolor": "white",
             "linecolor": "white",
             "minorgridcolor": "white",
             "startlinecolor": "#2a3f5f"
            },
            "baxis": {
             "endlinecolor": "#2a3f5f",
             "gridcolor": "white",
             "linecolor": "white",
             "minorgridcolor": "white",
             "startlinecolor": "#2a3f5f"
            },
            "type": "carpet"
           }
          ],
          "choropleth": [
           {
            "colorbar": {
             "outlinewidth": 0,
             "ticks": ""
            },
            "type": "choropleth"
           }
          ],
          "contour": [
           {
            "colorbar": {
             "outlinewidth": 0,
             "ticks": ""
            },
            "colorscale": [
             [
              0,
              "#0d0887"
             ],
             [
              0.1111111111111111,
              "#46039f"
             ],
             [
              0.2222222222222222,
              "#7201a8"
             ],
             [
              0.3333333333333333,
              "#9c179e"
             ],
             [
              0.4444444444444444,
              "#bd3786"
             ],
             [
              0.5555555555555556,
              "#d8576b"
             ],
             [
              0.6666666666666666,
              "#ed7953"
             ],
             [
              0.7777777777777778,
              "#fb9f3a"
             ],
             [
              0.8888888888888888,
              "#fdca26"
             ],
             [
              1,
              "#f0f921"
             ]
            ],
            "type": "contour"
           }
          ],
          "contourcarpet": [
           {
            "colorbar": {
             "outlinewidth": 0,
             "ticks": ""
            },
            "type": "contourcarpet"
           }
          ],
          "heatmap": [
           {
            "colorbar": {
             "outlinewidth": 0,
             "ticks": ""
            },
            "colorscale": [
             [
              0,
              "#0d0887"
             ],
             [
              0.1111111111111111,
              "#46039f"
             ],
             [
              0.2222222222222222,
              "#7201a8"
             ],
             [
              0.3333333333333333,
              "#9c179e"
             ],
             [
              0.4444444444444444,
              "#bd3786"
             ],
             [
              0.5555555555555556,
              "#d8576b"
             ],
             [
              0.6666666666666666,
              "#ed7953"
             ],
             [
              0.7777777777777778,
              "#fb9f3a"
             ],
             [
              0.8888888888888888,
              "#fdca26"
             ],
             [
              1,
              "#f0f921"
             ]
            ],
            "type": "heatmap"
           }
          ],
          "heatmapgl": [
           {
            "colorbar": {
             "outlinewidth": 0,
             "ticks": ""
            },
            "colorscale": [
             [
              0,
              "#0d0887"
             ],
             [
              0.1111111111111111,
              "#46039f"
             ],
             [
              0.2222222222222222,
              "#7201a8"
             ],
             [
              0.3333333333333333,
              "#9c179e"
             ],
             [
              0.4444444444444444,
              "#bd3786"
             ],
             [
              0.5555555555555556,
              "#d8576b"
             ],
             [
              0.6666666666666666,
              "#ed7953"
             ],
             [
              0.7777777777777778,
              "#fb9f3a"
             ],
             [
              0.8888888888888888,
              "#fdca26"
             ],
             [
              1,
              "#f0f921"
             ]
            ],
            "type": "heatmapgl"
           }
          ],
          "histogram": [
           {
            "marker": {
             "pattern": {
              "fillmode": "overlay",
              "size": 10,
              "solidity": 0.2
             }
            },
            "type": "histogram"
           }
          ],
          "histogram2d": [
           {
            "colorbar": {
             "outlinewidth": 0,
             "ticks": ""
            },
            "colorscale": [
             [
              0,
              "#0d0887"
             ],
             [
              0.1111111111111111,
              "#46039f"
             ],
             [
              0.2222222222222222,
              "#7201a8"
             ],
             [
              0.3333333333333333,
              "#9c179e"
             ],
             [
              0.4444444444444444,
              "#bd3786"
             ],
             [
              0.5555555555555556,
              "#d8576b"
             ],
             [
              0.6666666666666666,
              "#ed7953"
             ],
             [
              0.7777777777777778,
              "#fb9f3a"
             ],
             [
              0.8888888888888888,
              "#fdca26"
             ],
             [
              1,
              "#f0f921"
             ]
            ],
            "type": "histogram2d"
           }
          ],
          "histogram2dcontour": [
           {
            "colorbar": {
             "outlinewidth": 0,
             "ticks": ""
            },
            "colorscale": [
             [
              0,
              "#0d0887"
             ],
             [
              0.1111111111111111,
              "#46039f"
             ],
             [
              0.2222222222222222,
              "#7201a8"
             ],
             [
              0.3333333333333333,
              "#9c179e"
             ],
             [
              0.4444444444444444,
              "#bd3786"
             ],
             [
              0.5555555555555556,
              "#d8576b"
             ],
             [
              0.6666666666666666,
              "#ed7953"
             ],
             [
              0.7777777777777778,
              "#fb9f3a"
             ],
             [
              0.8888888888888888,
              "#fdca26"
             ],
             [
              1,
              "#f0f921"
             ]
            ],
            "type": "histogram2dcontour"
           }
          ],
          "mesh3d": [
           {
            "colorbar": {
             "outlinewidth": 0,
             "ticks": ""
            },
            "type": "mesh3d"
           }
          ],
          "parcoords": [
           {
            "line": {
             "colorbar": {
              "outlinewidth": 0,
              "ticks": ""
             }
            },
            "type": "parcoords"
           }
          ],
          "pie": [
           {
            "automargin": true,
            "type": "pie"
           }
          ],
          "scatter": [
           {
            "marker": {
             "colorbar": {
              "outlinewidth": 0,
              "ticks": ""
             }
            },
            "type": "scatter"
           }
          ],
          "scatter3d": [
           {
            "line": {
             "colorbar": {
              "outlinewidth": 0,
              "ticks": ""
             }
            },
            "marker": {
             "colorbar": {
              "outlinewidth": 0,
              "ticks": ""
             }
            },
            "type": "scatter3d"
           }
          ],
          "scattercarpet": [
           {
            "marker": {
             "colorbar": {
              "outlinewidth": 0,
              "ticks": ""
             }
            },
            "type": "scattercarpet"
           }
          ],
          "scattergeo": [
           {
            "marker": {
             "colorbar": {
              "outlinewidth": 0,
              "ticks": ""
             }
            },
            "type": "scattergeo"
           }
          ],
          "scattergl": [
           {
            "marker": {
             "colorbar": {
              "outlinewidth": 0,
              "ticks": ""
             }
            },
            "type": "scattergl"
           }
          ],
          "scattermapbox": [
           {
            "marker": {
             "colorbar": {
              "outlinewidth": 0,
              "ticks": ""
             }
            },
            "type": "scattermapbox"
           }
          ],
          "scatterpolar": [
           {
            "marker": {
             "colorbar": {
              "outlinewidth": 0,
              "ticks": ""
             }
            },
            "type": "scatterpolar"
           }
          ],
          "scatterpolargl": [
           {
            "marker": {
             "colorbar": {
              "outlinewidth": 0,
              "ticks": ""
             }
            },
            "type": "scatterpolargl"
           }
          ],
          "scatterternary": [
           {
            "marker": {
             "colorbar": {
              "outlinewidth": 0,
              "ticks": ""
             }
            },
            "type": "scatterternary"
           }
          ],
          "surface": [
           {
            "colorbar": {
             "outlinewidth": 0,
             "ticks": ""
            },
            "colorscale": [
             [
              0,
              "#0d0887"
             ],
             [
              0.1111111111111111,
              "#46039f"
             ],
             [
              0.2222222222222222,
              "#7201a8"
             ],
             [
              0.3333333333333333,
              "#9c179e"
             ],
             [
              0.4444444444444444,
              "#bd3786"
             ],
             [
              0.5555555555555556,
              "#d8576b"
             ],
             [
              0.6666666666666666,
              "#ed7953"
             ],
             [
              0.7777777777777778,
              "#fb9f3a"
             ],
             [
              0.8888888888888888,
              "#fdca26"
             ],
             [
              1,
              "#f0f921"
             ]
            ],
            "type": "surface"
           }
          ],
          "table": [
           {
            "cells": {
             "fill": {
              "color": "#EBF0F8"
             },
             "line": {
              "color": "white"
             }
            },
            "header": {
             "fill": {
              "color": "#C8D4E3"
             },
             "line": {
              "color": "white"
             }
            },
            "type": "table"
           }
          ]
         },
         "layout": {
          "annotationdefaults": {
           "arrowcolor": "#2a3f5f",
           "arrowhead": 0,
           "arrowwidth": 1
          },
          "autotypenumbers": "strict",
          "coloraxis": {
           "colorbar": {
            "outlinewidth": 0,
            "ticks": ""
           }
          },
          "colorscale": {
           "diverging": [
            [
             0,
             "#8e0152"
            ],
            [
             0.1,
             "#c51b7d"
            ],
            [
             0.2,
             "#de77ae"
            ],
            [
             0.3,
             "#f1b6da"
            ],
            [
             0.4,
             "#fde0ef"
            ],
            [
             0.5,
             "#f7f7f7"
            ],
            [
             0.6,
             "#e6f5d0"
            ],
            [
             0.7,
             "#b8e186"
            ],
            [
             0.8,
             "#7fbc41"
            ],
            [
             0.9,
             "#4d9221"
            ],
            [
             1,
             "#276419"
            ]
           ],
           "sequential": [
            [
             0,
             "#0d0887"
            ],
            [
             0.1111111111111111,
             "#46039f"
            ],
            [
             0.2222222222222222,
             "#7201a8"
            ],
            [
             0.3333333333333333,
             "#9c179e"
            ],
            [
             0.4444444444444444,
             "#bd3786"
            ],
            [
             0.5555555555555556,
             "#d8576b"
            ],
            [
             0.6666666666666666,
             "#ed7953"
            ],
            [
             0.7777777777777778,
             "#fb9f3a"
            ],
            [
             0.8888888888888888,
             "#fdca26"
            ],
            [
             1,
             "#f0f921"
            ]
           ],
           "sequentialminus": [
            [
             0,
             "#0d0887"
            ],
            [
             0.1111111111111111,
             "#46039f"
            ],
            [
             0.2222222222222222,
             "#7201a8"
            ],
            [
             0.3333333333333333,
             "#9c179e"
            ],
            [
             0.4444444444444444,
             "#bd3786"
            ],
            [
             0.5555555555555556,
             "#d8576b"
            ],
            [
             0.6666666666666666,
             "#ed7953"
            ],
            [
             0.7777777777777778,
             "#fb9f3a"
            ],
            [
             0.8888888888888888,
             "#fdca26"
            ],
            [
             1,
             "#f0f921"
            ]
           ]
          },
          "colorway": [
           "#636efa",
           "#EF553B",
           "#00cc96",
           "#ab63fa",
           "#FFA15A",
           "#19d3f3",
           "#FF6692",
           "#B6E880",
           "#FF97FF",
           "#FECB52"
          ],
          "font": {
           "color": "#2a3f5f"
          },
          "geo": {
           "bgcolor": "white",
           "lakecolor": "white",
           "landcolor": "#E5ECF6",
           "showlakes": true,
           "showland": true,
           "subunitcolor": "white"
          },
          "hoverlabel": {
           "align": "left"
          },
          "hovermode": "closest",
          "mapbox": {
           "style": "light"
          },
          "paper_bgcolor": "white",
          "plot_bgcolor": "#E5ECF6",
          "polar": {
           "angularaxis": {
            "gridcolor": "white",
            "linecolor": "white",
            "ticks": ""
           },
           "bgcolor": "#E5ECF6",
           "radialaxis": {
            "gridcolor": "white",
            "linecolor": "white",
            "ticks": ""
           }
          },
          "scene": {
           "xaxis": {
            "backgroundcolor": "#E5ECF6",
            "gridcolor": "white",
            "gridwidth": 2,
            "linecolor": "white",
            "showbackground": true,
            "ticks": "",
            "zerolinecolor": "white"
           },
           "yaxis": {
            "backgroundcolor": "#E5ECF6",
            "gridcolor": "white",
            "gridwidth": 2,
            "linecolor": "white",
            "showbackground": true,
            "ticks": "",
            "zerolinecolor": "white"
           },
           "zaxis": {
            "backgroundcolor": "#E5ECF6",
            "gridcolor": "white",
            "gridwidth": 2,
            "linecolor": "white",
            "showbackground": true,
            "ticks": "",
            "zerolinecolor": "white"
           }
          },
          "shapedefaults": {
           "line": {
            "color": "#2a3f5f"
           }
          },
          "ternary": {
           "aaxis": {
            "gridcolor": "white",
            "linecolor": "white",
            "ticks": ""
           },
           "baxis": {
            "gridcolor": "white",
            "linecolor": "white",
            "ticks": ""
           },
           "bgcolor": "#E5ECF6",
           "caxis": {
            "gridcolor": "white",
            "linecolor": "white",
            "ticks": ""
           }
          },
          "title": {
           "x": 0.05
          },
          "xaxis": {
           "automargin": true,
           "gridcolor": "white",
           "linecolor": "white",
           "ticks": "",
           "title": {
            "standoff": 15
           },
           "zerolinecolor": "white",
           "zerolinewidth": 2
          },
          "yaxis": {
           "automargin": true,
           "gridcolor": "white",
           "linecolor": "white",
           "ticks": "",
           "title": {
            "standoff": 15
           },
           "zerolinecolor": "white",
           "zerolinewidth": 2
          }
         }
        },
        "xaxis": {
         "anchor": "y",
         "domain": [
          0,
          1
         ],
         "title": {
          "text": "pc1"
         }
        },
        "yaxis": {
         "anchor": "x",
         "domain": [
          0,
          1
         ],
         "title": {
          "text": "pc2"
         }
        }
       }
      }
     },
     "metadata": {},
     "output_type": "display_data"
    }
   ],
   "source": [
    "import plotly.express as px\n",
    "# # visualize PCA https://plotly.com/python/pca-visualization/\n",
    "# total_variance = pca.explained_variance_ratio_.sum() * 100\n",
    "\n",
    "fig = px.scatter(PCA_df, x=\"pc1\", y=\"pc2\", color=PCA_df[\"date\"], labels = {str(i):f\"PC {i+1}\" for i in range(num_components)})\n",
    "\n",
    "fig.show()\n",
    "\n"
   ]
  },
  {
   "cell_type": "code",
   "execution_count": 29,
   "metadata": {},
   "outputs": [
    {
     "data": {
      "text/plain": [
       "<seaborn.axisgrid.FacetGrid at 0x7f8842757d60>"
      ]
     },
     "execution_count": 29,
     "metadata": {},
     "output_type": "execute_result"
    },
    {
     "data": {
      "image/png": "[encoded data removed]",
      "text/plain": [
       "<Figure size 360x360 with 1 Axes>"
      ]
     },
     "metadata": {
      "needs_background": "light"
     },
     "output_type": "display_data"
    }
   ],
   "source": [
    "sns.lmplot(x=\"pc1\", y=\"pc2\",\n",
    "        data=PCA_df,\n",
    "        fit_reg=False,\n",
    "        legend=True,\n",
    "        scatter_kws={\"s\": 25})"
   ]
  },
  {
   "cell_type": "markdown",
   "metadata": {},
   "source": [
    "## t-SNE\n",
    "\n",
    "Work based on teammate Jacqueline's work."
   ]
  },
  {
   "cell_type": "code",
   "execution_count": 30,
   "metadata": {},
   "outputs": [
    {
     "name": "stdout",
     "output_type": "stream",
     "text": [
      "         date  segment_1307_max_SRI  segment_873_max_SRI  segment_863_max_SRI  \\\n",
      "0  2018-03-08              3.718594             3.457253             4.562368   \n",
      "1  2018-03-09              4.522901             3.488016             2.997927   \n",
      "2  2018-03-10              6.107322             1.234070             3.085771   \n",
      "3  2018-03-11              3.873077             1.261212             6.840369   \n",
      "4  2018-03-12              5.228657             3.413127             4.470042   \n",
      "\n",
      "   segment_1061_max_SRI  segment_235_max_SRI  segment_225_max_SRI  \\\n",
      "0              0.044862             2.945760             4.199607   \n",
      "1              0.044862             2.187291             5.328785   \n",
      "2              0.044862             2.719971             5.989625   \n",
      "3              0.044862             3.189822             5.489281   \n",
      "4              0.044862             3.863130             4.415463   \n",
      "\n",
      "   segment_460_max_SRI  segment_518_max_SRI  segment_470_max_SRI  ...  \\\n",
      "0             3.028331             3.724648             4.429002  ...   \n",
      "1             3.858570             3.859563             5.073305  ...   \n",
      "2             1.741679             3.162777             4.063662  ...   \n",
      "3             1.741679             4.638495             6.471925  ...   \n",
      "4             4.612428             4.991392             4.664407  ...   \n",
      "\n",
      "   station_40840_max_RRI  station_40850_max_RRI  station_40610_max_RRI  \\\n",
      "0               0.940419               1.093750               0.635217   \n",
      "1               1.289443               2.337111               0.554911   \n",
      "2               3.112223               3.834196               3.938322   \n",
      "3               4.748849               4.101958               4.668180   \n",
      "4               1.214632               0.721219               0.674600   \n",
      "\n",
      "   station_40600_max_RRI  station_41690_max_RRI  station_41680_max_RRI  \\\n",
      "0               0.460772               1.056587               0.156348   \n",
      "1               0.626054               0.820090               1.126202   \n",
      "2               3.936778               1.876850               3.942463   \n",
      "3               4.061820               2.394439               4.565925   \n",
      "4               0.515856               1.015444               0.551766   \n",
      "\n",
      "   station_40280_max_RRI  station_40290_max_RRI  station_41200_max_RRI  \\\n",
      "0               1.037322               1.469957               1.257610   \n",
      "1               0.606894               1.308201               0.732345   \n",
      "2               3.082432               2.434927               1.473967   \n",
      "3               3.578462               3.591185               3.080530   \n",
      "4               1.174367               1.354263               0.579096   \n",
      "\n",
      "   station_41210_max_RRI  \n",
      "0               0.466765  \n",
      "1               0.975567  \n",
      "2               3.281961  \n",
      "3               4.589329  \n",
      "4               0.477413  \n",
      "\n",
      "[5 rows x 1191 columns]\n",
      "(1091, 1191)\n"
     ]
    }
   ],
   "source": [
    "print(SRI_RRI_df.head(5))\n",
    "print(SRI_RRI_df.shape)"
   ]
  },
  {
   "cell_type": "code",
   "execution_count": 31,
   "metadata": {},
   "outputs": [],
   "source": [
    "clean_copy_df = SRI_RRI_df.interpolate(axis=0, limit_direction='both').fillna(-1)\n",
    "\n",
    "# separate features X and date time Y\n",
    "X = clean_copy_df.iloc[:, 1:].values\n",
    "Y = clean_copy_df.iloc[:, 0]\n",
    "\n",
    "# date -> datetime object\n",
    "Y = pd.to_datetime(Y)\n",
    "\n",
    "# standard normalize features\n",
    "X = X / X.max()\n",
    "X = StandardScaler().fit_transform(X)"
   ]
  },
  {
   "cell_type": "code",
   "execution_count": 32,
   "metadata": {},
   "outputs": [],
   "source": [
    "# Masks for days in the week\n",
    "\n",
    "mask_monday = Y.dt.day_of_week == 0\n",
    "mask_tuesday = Y.dt.day_of_week == 1\n",
    "mask_wednesday = Y.dt.day_of_week == 2\n",
    "mask_thursday = Y.dt.day_of_week == 3\n",
    "mask_friday = Y.dt.day_of_week == 4\n",
    "mask_saturday = Y.dt.day_of_week == 5\n",
    "mask_sunday = Y.dt.day_of_week == 6\n",
    "\n",
    "list_days = ['Monday', 'Tuesday', 'Wednesday', 'Thursday', 'Friday', 'Saturday', 'Sunday']"
   ]
  },
  {
   "cell_type": "code",
   "execution_count": 33,
   "metadata": {},
   "outputs": [],
   "source": [
    "# Masks for seasons\n",
    "\n",
    "from matplotlib.pyplot import summer\n",
    "\n",
    "\n",
    "winter_start_0 = '12-21'\n",
    "winter_start_1 = '01-01'\n",
    "spring_start = '03-20'\n",
    "summer_start = '06-21'\n",
    "fall_start = '12-21'\n",
    "\n",
    "list_seasons = ['winter', 'spring', 'summer', 'fall']\n",
    "\n",
    "mask_winter = (Y.dt.strftime('%m-%d') >= winter_start_0) | ((Y.dt.strftime('%m-%d') >= winter_start_1) & (Y.dt.strftime('%m-%d') < spring_start))\n",
    "mask_spring = (Y.dt.strftime('%m-%d') >= spring_start) & (Y.dt.strftime('%m-%d') < summer_start)\n",
    "mask_summer = (Y.dt.strftime('%m-%d') >= summer_start) & (Y.dt.strftime('%m-%d') < fall_start)\n",
    "mask_fall = (Y.dt.strftime('%m-%d') >= fall_start) & (Y.dt.strftime('%m-%d') < winter_start_0)"
   ]
  },
  {
   "cell_type": "code",
   "execution_count": 34,
   "metadata": {},
   "outputs": [],
   "source": [
    "# Masks for seasons and days of the week\n",
    "\n",
    "seasons = pd.Series(np.zeros(len(Y)), name='seasons')\n",
    "seasons[mask_winter] = list_seasons[0]\n",
    "seasons[mask_spring] = list_seasons[1]\n",
    "seasons[mask_summer] = list_seasons[2]\n",
    "seasons[mask_fall] = list_seasons[3]\n",
    "\n",
    "days = pd.Series(np.zeros(len(Y)), name='day_of_week')\n",
    "days[mask_monday] = list_days[0]\n",
    "days[mask_tuesday] = list_days[1]\n",
    "days[mask_wednesday] = list_days[2]\n",
    "days[mask_thursday] = list_days[3]\n",
    "days[mask_friday] = list_days[4]\n",
    "days[mask_saturday] = list_days[5]\n",
    "days[mask_sunday] = list_days[6]"
   ]
  },
  {
   "cell_type": "code",
   "execution_count": 35,
   "metadata": {},
   "outputs": [
    {
     "name": "stdout",
     "output_type": "stream",
     "text": [
      "(1091, 2)\n"
     ]
    },
    {
     "data": {
      "application/vnd.plotly.v1+json": {
       "config": {
        "plotlyServerURL": "https://plot.ly"
       },
       "data": [
        {
         "hovertemplate": "day_of_week=Thursday<br>tSNE1=%{x}<br>tSNE2=%{y}<extra></extra>",
         "legendgroup": "Thursday",
         "marker": {
          "color": "#636efa",
          "symbol": "circle"
         },
         "mode": "markers",
         "name": "Thursday",
         "showlegend": true,
         "type": "scattergl",
         "x": [
          8.953947067260742,
          5.860880374908447,
          8.435364723205566,
          8.097912788391113,
          8.105713844299316,
          7.668956279754639,
          8.155094146728516,
          9.799756050109863,
          9.071860313415527,
          9.360520362854004,
          9.960033416748047,
          9.781357765197754,
          10.112420082092285,
          9.102737426757812,
          11.145133972167969,
          5.865597248077393,
          9.992966651916504,
          10.012712478637695,
          10.24853229522705,
          9.45080852508545,
          8.462574005126953,
          10.600621223449707,
          8.52679443359375,
          10.458868980407715,
          11.255669593811035,
          12.61510944366455,
          12.530020713806152,
          12.854992866516113,
          12.579246520996094,
          11.643031120300293,
          12.377853393554688,
          9.578890800476074,
          10.882195472717285,
          5.735418796539307,
          0.3607625365257263,
          -1.7605149745941162,
          0.8150367140769958,
          2.291444778442383,
          -1.9619640111923218,
          1.2886477708816528,
          0.16425825655460358,
          1.8895080089569092,
          -2.0715038776397705,
          -1.7415952682495117,
          -2.1164422035217285,
          -0.9037598371505737,
          -2.2802326679229736,
          2.129564046859741,
          -0.06846076995134354,
          -0.5006169676780701,
          -1.5269173383712769,
          -5.605746746063232,
          -0.907267689704895,
          -5.3331522941589355,
          0.8115665316581726,
          -4.151247024536133,
          -3.24481201171875,
          0.37403661012649536,
          -3.177194118499756,
          -3.914818048477173,
          -3.723784923553467,
          -2.3259780406951904,
          -5.746940612792969,
          -0.4381161332130432,
          -1.3361842632293701,
          -3.5938358306884766,
          -3.5728607177734375,
          -2.700718879699707,
          -2.9171042442321777,
          2.2757840156555176,
          -1.339654803276062,
          -0.4250575304031372,
          1.837672472000122,
          -2.810727596282959,
          -0.17860440909862518,
          0.2721065580844879,
          0.7638297080993652,
          0.9752728939056396,
          -3.5794315338134766,
          -1.8499623537063599,
          3.4001388549804688,
          -3.008791446685791,
          3.8146867752075195,
          -1.1047422885894775,
          -3.889784336090088,
          1.5510962009429932,
          -0.9407804012298584,
          -4.3991594314575195,
          -4.009000301361084,
          -4.41671895980835,
          2.2742717266082764,
          -3.6694161891937256,
          -2.752436637878418,
          -15.298280715942383,
          -7.934640407562256,
          -2.6823580265045166,
          -2.404296398162842,
          -4.98318338394165,
          -2.764618158340454,
          -7.783350467681885,
          -2.680288076400757,
          -6.093991279602051,
          1.3250038623809814,
          -3.2056503295898438,
          -5.426337242126465,
          -2.1856818199157715,
          0.997208297252655,
          0.9519219994544983,
          1.7172627449035645,
          1.6136043071746826,
          3.0033395290374756,
          1.1117844581604004,
          1.2172516584396362,
          2.4480161666870117,
          1.880303144454956,
          1.807699203491211,
          -15.315499305725098,
          -4.245548725128174,
          0.2315419763326645,
          -1.372365951538086,
          -0.2805328071117401,
          3.697033405303955,
          -0.6367384195327759,
          -0.945343554019928,
          0.2608521580696106,
          -1.9063087701797485,
          -1.809234380722046,
          -3.1938817501068115,
          -3.827082395553589,
          -2.4925801753997803,
          -2.824742317199707,
          -2.041125535964966,
          -4.886940002441406,
          -2.784011125564575,
          -2.3069190979003906,
          -1.9855515956878662,
          -2.2368855476379395,
          -2.4188637733459473,
          -1.0522785186767578,
          -4.310750484466553,
          -3.9571573734283447,
          -3.9911956787109375,
          2.4767465591430664,
          -0.8076887726783752,
          -4.213510513305664,
          -0.8034427762031555,
          -4.2817463874816895,
          -4.859646797180176,
          0.057250604033470154,
          -0.1816685050725937,
          -4.141813278198242,
          -15.303108215332031,
          -3.1993205547332764,
          -3.1564383506774902,
          1.8009172677993774,
          -3.5698704719543457
         ],
         "xaxis": "x",
         "y": [
          -2.933542490005493,
          -2.613754987716675,
          -3.0056183338165283,
          -2.485996723175049,
          -3.5599374771118164,
          -2.8114917278289795,
          -4.115712642669678,
          -3.627791166305542,
          -3.720444440841675,
          -3.3909778594970703,
          -3.1873390674591064,
          -1.9485963582992554,
          -3.4398763179779053,
          -4.455441951751709,
          -2.0862925052642822,
          3.7650437355041504,
          -1.3749879598617554,
          0.37657982110977173,
          -0.9948170781135559,
          -2.128154754638672,
          -1.1650259494781494,
          -0.9229124188423157,
          -0.12145379930734634,
          0.07030866295099258,
          -1.0774016380310059,
          -4.473008155822754,
          -5.182640075683594,
          -3.4597582817077637,
          -3.4448349475860596,
          -4.291038990020752,
          -2.961981773376465,
          -4.968339920043945,
          -4.868803024291992,
          -5.780292987823486,
          -7.499608039855957,
          -8.205546379089355,
          -9.872513771057129,
          16.44559669494629,
          -8.761789321899414,
          -9.061383247375488,
          -9.564191818237305,
          -4.036835670471191,
          -6.302616119384766,
          -9.629823684692383,
          -5.738463878631592,
          -9.02803897857666,
          -9.835376739501953,
          15.109747886657715,
          -8.215463638305664,
          -9.209399223327637,
          -9.70260238647461,
          -10.881065368652344,
          -10.09816837310791,
          -5.633633136749268,
          -7.089087009429932,
          -5.383170127868652,
          -5.136700630187988,
          -6.4529829025268555,
          -3.4520773887634277,
          -10.87280559539795,
          -3.598665952682495,
          -6.553725719451904,
          -10.344385147094727,
          -11.464902877807617,
          -10.088818550109863,
          -4.966675281524658,
          -5.869322776794434,
          -6.29448938369751,
          -2.538938283920288,
          15.716752052307129,
          -5.090343952178955,
          -2.161094903945923,
          -6.410556316375732,
          -4.146703243255615,
          -3.377946138381958,
          -5.062543869018555,
          -5.048521518707275,
          -3.7508504390716553,
          -12.364673614501953,
          -3.3281657695770264,
          -6.995387077331543,
          -7.019161701202393,
          -9.102009773254395,
          -11.774755477905273,
          -6.701775550842285,
          -5.362690448760986,
          2.1939775943756104,
          -6.163646697998047,
          -7.613888740539551,
          -6.633421897888184,
          16.404109954833984,
          -9.219855308532715,
          -8.255395889282227,
          7.597631931304932,
          5.792342662811279,
          -7.758720874786377,
          -6.876047134399414,
          -7.962041854858398,
          -9.164924621582031,
          -5.9511213302612305,
          -7.403754711151123,
          -0.7177719473838806,
          -7.019155502319336,
          -7.116818428039551,
          -2.1395578384399414,
          -6.564096450805664,
          7.766253471374512,
          7.732974052429199,
          7.505715847015381,
          7.705092906951904,
          7.334731578826904,
          7.964443683624268,
          7.875900745391846,
          8.330440521240234,
          8.465926170349121,
          8.082953453063965,
          7.692553997039795,
          10.39213752746582,
          7.700129985809326,
          6.870011806488037,
          7.9000630378723145,
          7.124100685119629,
          8.062552452087402,
          8.855449676513672,
          8.495512962341309,
          8.563846588134766,
          8.60595989227295,
          8.75281047821045,
          8.624387741088867,
          6.575718402862549,
          6.2259602546691895,
          6.418335914611816,
          5.350318908691406,
          8.283136367797852,
          6.782008171081543,
          6.933091640472412,
          6.682138442993164,
          7.042065143585205,
          8.39210033416748,
          7.442105293273926,
          7.898309230804443,
          7.441042423248291,
          14.606649398803711,
          4.984798908233643,
          7.440153121948242,
          6.380115985870361,
          7.613339424133301,
          8.179513931274414,
          6.832028865814209,
          6.88015079498291,
          6.142842769622803,
          7.694040775299072,
          6.503095626831055,
          5.982962608337402,
          6.896888256072998,
          5.762406826019287
         ],
         "yaxis": "y"
        },
        {
         "hovertemplate": "day_of_week=Friday<br>tSNE1=%{x}<br>tSNE2=%{y}<extra></extra>",
         "legendgroup": "Friday",
         "marker": {
          "color": "#EF553B",
          "symbol": "circle"
         },
         "mode": "markers",
         "name": "Friday",
         "showlegend": true,
         "type": "scattergl",
         "x": [
          8.72639274597168,
          8.352497100830078,
          8.437439918518066,
          6.833197116851807,
          7.944485187530518,
          8.650589942932129,
          8.75967025756836,
          9.25590991973877,
          8.17880630493164,
          9.215230941772461,
          9.47165298461914,
          11.488478660583496,
          10.645874977111816,
          8.687349319458008,
          9.660110473632812,
          6.473659515380859,
          8.743307113647461,
          11.354093551635742,
          10.154520988464355,
          10.393329620361328,
          8.526869773864746,
          10.788801193237305,
          11.9159574508667,
          10.786858558654785,
          5.559666633605957,
          11.767702102661133,
          12.359640121459961,
          11.529349327087402,
          12.323953628540039,
          11.74476432800293,
          8.43355655670166,
          6.870208263397217,
          6.14000129699707,
          6.025253772735596,
          5.079626560211182,
          0.6967960000038147,
          1.4384069442749023,
          -0.3801738917827606,
          1.9321954250335693,
          2.2695257663726807,
          -1.1402796506881714,
          -1.0014609098434448,
          -0.928274929523468,
          -1.8050872087478638,
          -4.090098857879639,
          -0.9083125591278076,
          5.798563003540039,
          -1.9392750263214111,
          -4.525892734527588,
          -0.5985990166664124,
          -4.907449722290039,
          -0.2871035933494568,
          -1.140079379081726,
          -3.3064112663269043,
          2.512439489364624,
          -4.484507083892822,
          0.07122917473316193,
          0.11443406343460083,
          3.0749964714050293,
          -0.4079642593860626,
          -0.6513357758522034,
          -0.07997064292430878,
          -0.5474230647087097,
          -0.09212961047887802,
          -0.6493464708328247,
          -2.1993658542633057,
          1.0665395259857178,
          -3.090045213699341,
          1.6993390321731567,
          0.5590164065361023,
          3.0234925746917725,
          -7.936727046966553,
          -0.38813912868499756,
          -2.7967867851257324,
          0.5963080525398254,
          6.736268043518066,
          4.248505115509033,
          2.3189027309417725,
          -2.549976348876953,
          1.2912524938583374,
          -3.7229092121124268,
          1.288912296295166,
          -6.4046807289123535,
          -4.740573883056641,
          -5.447916507720947,
          -0.4876466393470764,
          -3.9316465854644775,
          -2.3720648288726807,
          -4.179219722747803,
          -4.1311140060424805,
          2.878793716430664,
          -7.33003044128418,
          -15.300312042236328,
          -4.617503643035889,
          -2.7342543601989746,
          -2.1418979167938232,
          -2.7398035526275635,
          11.346948623657227,
          -3.189136028289795,
          -2.5217692852020264,
          -3.5291829109191895,
          -5.5410237312316895,
          -6.937658309936523,
          -6.846036434173584,
          -5.005516052246094,
          -1.233721375465393,
          0.7336656451225281,
          0.7134308815002441,
          3.0522818565368652,
          2.138049840927124,
          3.1665942668914795,
          2.2273006439208984,
          0.5993128418922424,
          0.8527170419692993,
          2.899174451828003,
          1.8236377239227295,
          -7.26409387588501,
          2.6672396659851074,
          0.46413516998291016,
          -0.2113497406244278,
          -0.3128252327442169,
          0.2524780035018921,
          3.4996490478515625,
          3.084646224975586,
          -0.6475920081138611,
          -0.7022731900215149,
          0.234480619430542,
          -4.690004825592041,
          -1.873428463935852,
          -3.398057460784912,
          -2.697521686553955,
          -2.408649206161499,
          -1.9922938346862793,
          -2.3143327236175537,
          -2.239065647125244,
          -1.4994338750839233,
          -1.9205100536346436,
          -0.420184850692749,
          -1.296650767326355,
          -2.799882650375366,
          -0.46251556277275085,
          -1.2705022096633911,
          3.039634943008423,
          -0.8041689991950989,
          -0.3282250165939331,
          -0.6040112376213074,
          2.3860511779785156,
          2.1866979598999023,
          -0.11312079429626465,
          -2.464340925216675,
          -0.11567270755767822,
          -15.046937942504883,
          -3.7014684677124023,
          0.66889488697052,
          -3.0263612270355225,
          0.667586624622345
         ],
         "xaxis": "x",
         "y": [
          -2.0613133907318115,
          -1.502218246459961,
          -2.547267436981201,
          0.8024568557739258,
          -1.933040976524353,
          -2.0661113262176514,
          -3.9038214683532715,
          -3.3889594078063965,
          -0.1689305156469345,
          -4.082841873168945,
          -2.7915804386138916,
          -2.108630657196045,
          -3.8799757957458496,
          -0.9572464227676392,
          -1.4186360836029053,
          3.3718080520629883,
          -2.0300323963165283,
          -2.6069459915161133,
          -1.4647431373596191,
          -1.95320463180542,
          -0.3351254165172577,
          -0.836236298084259,
          -1.1429904699325562,
          0.1947677880525589,
          1.9271656274795532,
          -3.6519758701324463,
          -4.641790390014648,
          -4.281826972961426,
          -2.773818016052246,
          -3.616706371307373,
          -4.9799699783325195,
          0.45204487442970276,
          -4.222602844238281,
          -4.900852203369141,
          -5.004054546356201,
          -8.823653221130371,
          -9.069598197937012,
          9.607383728027344,
          -8.546658515930176,
          -8.631083488464355,
          -6.023458957672119,
          -7.851975917816162,
          -10.745136260986328,
          -9.026613235473633,
          -5.457004070281982,
          -8.982532501220703,
          3.9102864265441895,
          -11.062912940979004,
          -2.4137558937072754,
          -8.610638618469238,
          -5.498882293701172,
          -7.971755027770996,
          -5.441290855407715,
          -5.59169864654541,
          -6.504087448120117,
          -4.941511631011963,
          1.2595027685165405,
          -6.957892417907715,
          4.01536750793457,
          -6.231222152709961,
          -6.4535064697265625,
          -7.161360263824463,
          2.643409252166748,
          -7.35283899307251,
          -7.0555419921875,
          -5.829415798187256,
          -6.950700759887695,
          -5.9935078620910645,
          3.3840267658233643,
          9.087443351745605,
          -5.162570953369141,
          -5.880914688110352,
          -4.532473087310791,
          -4.854414939880371,
          -2.546771287918091,
          -0.2515435814857483,
          -1.5081168413162231,
          -7.002649307250977,
          -4.011591911315918,
          -5.8408637046813965,
          -10.093914031982422,
          2.4437625408172607,
          -6.721116542816162,
          -3.39376163482666,
          -4.387027740478516,
          -5.158973693847656,
          -6.298696994781494,
          -2.088057041168213,
          -7.769046783447266,
          -7.171761512756348,
          14.255130767822266,
          -7.185763835906982,
          7.568787574768066,
          -4.85224723815918,
          -6.791335582733154,
          -7.434856414794922,
          -6.440978527069092,
          -5.794764995574951,
          -6.493207931518555,
          -5.431946277618408,
          -6.7526397705078125,
          0.7490183115005493,
          -4.071042537689209,
          -4.106836318969727,
          -3.927825689315796,
          0.9479739665985107,
          8.070914268493652,
          7.897150039672852,
          6.820991039276123,
          7.661330223083496,
          7.734565734863281,
          7.072530746459961,
          8.693891525268555,
          8.066749572753906,
          6.095299243927002,
          8.243216514587402,
          5.906062126159668,
          5.272347450256348,
          6.837568759918213,
          5.1814799308776855,
          7.811136722564697,
          8.905555725097656,
          7.3495869636535645,
          5.497992992401123,
          6.895823955535889,
          8.52203369140625,
          7.283576965332031,
          4.27689790725708,
          7.998549461364746,
          5.264132976531982,
          3.997194766998291,
          5.480586528778076,
          6.524439334869385,
          5.1497087478637695,
          6.832067966461182,
          6.347862243652344,
          6.9488677978515625,
          6.987400054931641,
          6.069191932678223,
          4.654327392578125,
          3.6777517795562744,
          5.740139007568359,
          9.185750961303711,
          5.411900997161865,
          5.498256206512451,
          6.252232551574707,
          14.446499824523926,
          14.459371566772461,
          7.166017532348633,
          6.131186485290527,
          6.967173099517822,
          7.711574554443359,
          9.866724967956543,
          6.699640274047852,
          7.064560890197754,
          6.058232307434082
         ],
         "yaxis": "y"
        },
        {
         "hovertemplate": "day_of_week=Saturday<br>tSNE1=%{x}<br>tSNE2=%{y}<extra></extra>",
         "legendgroup": "Saturday",
         "marker": {
          "color": "#00cc96",
          "symbol": "circle"
         },
         "mode": "markers",
         "name": "Saturday",
         "showlegend": true,
         "type": "scattergl",
         "x": [
          4.908337116241455,
          6.927377700805664,
          4.902002334594727,
          4.98940896987915,
          4.298786163330078,
          4.08003568649292,
          5.586008548736572,
          4.2846999168396,
          6.958560943603516,
          5.431856632232666,
          5.955164909362793,
          7.134145736694336,
          2.1297950744628906,
          5.014698028564453,
          9.897051811218262,
          6.709213733673096,
          3.9917807579040527,
          5.425330638885498,
          5.297107696533203,
          4.446147441864014,
          7.813031196594238,
          2.909635066986084,
          -1.9720045328140259,
          7.986522197723389,
          4.233335494995117,
          4.818081855773926,
          3.4311063289642334,
          3.238250732421875,
          5.817806720733643,
          3.096914291381836,
          1.5661791563034058,
          3.601994514465332,
          2.0766098499298096,
          2.6527581214904785,
          2.506357431411743,
          0.9361180663108826,
          -3.0597219467163086,
          -1.3665807247161865,
          0.866847038269043,
          0.8831262588500977,
          1.1132996082305908,
          -1.3101969957351685,
          -2.3952414989471436,
          -2.056936264038086,
          -15.329556465148926,
          3.4825236797332764,
          3.618328809738159,
          -2.4783377647399902,
          -0.03207406401634216,
          -2.489912986755371,
          0.4492213726043701,
          -0.7418681979179382,
          0.022877730429172516,
          3.5003528594970703,
          -1.8241640329360962,
          1.0255869626998901,
          -2.731072187423706,
          -2.335428237915039,
          -2.9459891319274902,
          0.27980417013168335,
          -5.994934558868408,
          -0.6809918284416199,
          -0.9467402696609497,
          -1.3864063024520874,
          0.052019938826560974,
          2.2112226486206055,
          3.4532341957092285,
          1.0562076568603516,
          -3.4623637199401855,
          -2.210465908050537,
          -3.182687520980835,
          0.7179166674613953,
          1.9673064947128296,
          2.6618573665618896,
          -4.053891658782959,
          -5.883147716522217,
          -5.1851019859313965,
          -0.8287518620491028,
          0.22974297404289246,
          -1.6013106107711792,
          -1.2484701871871948,
          -0.0520600825548172,
          -1.4049253463745117,
          -3.3690741062164307,
          3.3931782245635986,
          0.304372102022171,
          0.03618624806404114,
          -1.2285945415496826,
          2.2071855068206787,
          1.3864545822143555,
          -2.2294344902038574,
          -4.237614154815674,
          -15.321452140808105,
          -2.7024290561676025,
          -3.368159532546997,
          -2.536956310272217,
          1.0740629434585571,
          0.05833804979920387,
          -2.1460952758789062,
          -2.771491289138794,
          -2.991868495941162,
          -3.1907191276550293,
          -3.157935857772827,
          0.06916504353284836,
          2.5601627826690674,
          -2.592806339263916,
          -1.414554238319397,
          -2.08147931098938,
          -1.7500048875808716,
          -1.949500560760498,
          -1.536910891532898,
          -2.3740763664245605,
          -2.3300328254699707,
          -1.915534496307373,
          -2.2305898666381836,
          -2.116985559463501,
          -1.9730525016784668,
          -1.621748447418213,
          -2.9169392585754395,
          -1.7963212728500366,
          -3.1851534843444824,
          -1.3785945177078247,
          -1.6963046789169312,
          -2.4757320880889893,
          -2.300579786300659,
          -2.242135763168335,
          -2.4655604362487793,
          -2.0885798931121826,
          -2.137014150619507,
          -3.0876219272613525,
          -1.8806854486465454,
          -2.8844153881073,
          -2.341745615005493,
          -3.1145200729370117,
          -3.387437105178833,
          -2.495732069015503,
          -2.764169216156006,
          -3.3364992141723633,
          -3.7495296001434326,
          -2.7662386894226074,
          -3.2852163314819336,
          -3.123471975326538,
          -4.397645950317383,
          -3.2405946254730225,
          -3.238276958465576,
          -4.434083938598633,
          -2.8712151050567627,
          -3.7567410469055176,
          -3.142186164855957,
          -2.544778823852539,
          -3.6600406169891357,
          -2.121605634689331,
          -3.3043854236602783,
          -3.5255115032196045,
          -2.0879299640655518,
          -3.056161642074585
         ],
         "xaxis": "x",
         "y": [
          8.6826753616333,
          -2.2113559246063232,
          8.529319763183594,
          9.332904815673828,
          7.468193054199219,
          8.698598861694336,
          10.00539493560791,
          8.164609909057617,
          7.120515823364258,
          10.511016845703125,
          8.984354019165039,
          1.746346354484558,
          9.337681770324707,
          6.68436861038208,
          2.0444483757019043,
          7.260959148406982,
          5.350500583648682,
          0.13293124735355377,
          7.533320426940918,
          7.945441246032715,
          2.9129228591918945,
          2.400632619857788,
          2.392923593521118,
          -0.6611244082450867,
          4.691918849945068,
          5.185486316680908,
          9.856520652770996,
          9.076889991760254,
          8.99728012084961,
          10.53447151184082,
          10.725945472717285,
          10.1534423828125,
          10.44848918914795,
          10.950028419494629,
          6.98562479019165,
          11.846251487731934,
          7.667150020599365,
          -1.661218285560608,
          11.940061569213867,
          11.833630561828613,
          10.18723201751709,
          -0.9830234050750732,
          -12.848575592041016,
          3.4303040504455566,
          7.751741886138916,
          8.33829402923584,
          8.790912628173828,
          -12.040294647216797,
          11.698193550109863,
          11.013572692871094,
          11.329832077026367,
          11.818273544311523,
          12.080456733703613,
          1.3709815740585327,
          10.835110664367676,
          11.694961547851562,
          8.76683235168457,
          2.932995557785034,
          10.177722930908203,
          12.553766250610352,
          3.9114038944244385,
          11.15024185180664,
          10.025106430053711,
          -0.47508901357650757,
          12.027754783630371,
          4.015038013458252,
          5.751774311065674,
          3.507542848587036,
          4.581618309020996,
          0.019469430670142174,
          2.6757864952087402,
          9.773829460144043,
          4.228758811950684,
          2.2669007778167725,
          2.9919650554656982,
          9.181463241577148,
          10.117568969726562,
          3.090254545211792,
          10.35975456237793,
          9.02762508392334,
          10.86564826965332,
          11.243762016296387,
          9.509976387023926,
          9.170829772949219,
          7.829858779907227,
          12.271090507507324,
          9.555998802185059,
          9.876813888549805,
          5.6648759841918945,
          8.918523788452148,
          1.6436468362808228,
          11.431562423706055,
          7.70557975769043,
          0.7022519111633301,
          -15.614514350891113,
          1.2623064517974854,
          14.497306823730469,
          10.801239013671875,
          11.978299140930176,
          12.650182723999023,
          12.67353343963623,
          12.575545310974121,
          12.495766639709473,
          8.529698371887207,
          4.836547374725342,
          1.1494097709655762,
          -19.117137908935547,
          -19.032758712768555,
          -19.163524627685547,
          -19.209562301635742,
          -19.288482666015625,
          -18.910533905029297,
          -19.33258819580078,
          -19.117319107055664,
          -19.2154483795166,
          -19.104904174804688,
          -19.26751136779785,
          -19.94789695739746,
          -19.21198081970215,
          -17.63595962524414,
          -17.65134048461914,
          -18.284992218017578,
          -18.043943405151367,
          -17.489696502685547,
          -17.422405242919922,
          -17.38090705871582,
          -17.750782012939453,
          -17.154626846313477,
          -17.923274993896484,
          -16.579660415649414,
          -16.801546096801758,
          -17.30850601196289,
          -16.274429321289062,
          -17.037818908691406,
          -17.0786075592041,
          -16.442298889160156,
          -18.269371032714844,
          -16.908950805664062,
          -16.92219352722168,
          -17.570993423461914,
          -17.472827911376953,
          -17.8795108795166,
          -17.005821228027344,
          -17.396873474121094,
          -17.374116897583008,
          -16.721446990966797,
          -18.032468795776367,
          -16.13713836669922,
          -18.52968406677246,
          -18.151256561279297,
          -17.42363739013672,
          -18.387157440185547,
          -17.405094146728516,
          -18.105520248413086,
          -20.010690689086914,
          -18.269227981567383
         ],
         "yaxis": "y"
        },
        {
         "hovertemplate": "day_of_week=Sunday<br>tSNE1=%{x}<br>tSNE2=%{y}<extra></extra>",
         "legendgroup": "Sunday",
         "marker": {
          "color": "#ab63fa",
          "symbol": "circle"
         },
         "mode": "markers",
         "name": "Sunday",
         "showlegend": true,
         "type": "scattergl",
         "x": [
          5.022948265075684,
          5.355617046356201,
          4.0534515380859375,
          5.434014797210693,
          4.960108280181885,
          -15.34618854522705,
          4.164681434631348,
          3.5213112831115723,
          3.7931785583496094,
          4.189502239227295,
          -1.145509123802185,
          7.890893936157227,
          5.646076679229736,
          4.776115894317627,
          6.042177200317383,
          3.707341194152832,
          6.742285251617432,
          5.63825798034668,
          6.0803656578063965,
          4.154216289520264,
          6.549885272979736,
          6.598074913024902,
          -15.320180892944336,
          3.517122268676758,
          2.8303534984588623,
          8.648237228393555,
          3.558612108230591,
          4.122630596160889,
          3.561776638031006,
          2.116213083267212,
          5.123898506164551,
          3.7397801876068115,
          2.4927334785461426,
          1.6224390268325806,
          1.1688578128814697,
          0.27218636870384216,
          -15.311081886291504,
          -2.654937505722046,
          1.1272815465927124,
          2.054548978805542,
          0.32441988587379456,
          -2.033456325531006,
          -3.5767123699188232,
          2.0984408855438232,
          -15.335322380065918,
          0.2283915877342224,
          -4.463934421539307,
          -3.383084535598755,
          2.156785726547241,
          0.12678807973861694,
          0.4484879672527313,
          0.09264292567968369,
          0.0994490534067154,
          0.7353402972221375,
          -0.052208803594112396,
          -1.578974723815918,
          -0.08823064714670181,
          0.628461480140686,
          -0.45678961277008057,
          -1.4070011377334595,
          1.7901499271392822,
          1.4184006452560425,
          -0.20748212933540344,
          -4.091731548309326,
          0.3321436643600464,
          0.9960834980010986,
          -0.44644811749458313,
          -0.9298463463783264,
          3.5032308101654053,
          -2.9493255615234375,
          1.4603792428970337,
          0.7362417578697205,
          -1.5106748342514038,
          -3.000624418258667,
          -1.2616881132125854,
          -1.2567495107650757,
          -1.1722413301467896,
          2.868283271789551,
          0.8196470737457275,
          0.00889925379306078,
          0.8313841223716736,
          -0.4179602563381195,
          -0.18431010842323303,
          -15.56629467010498,
          -15.237710952758789,
          -1.1057181358337402,
          -2.0950613021850586,
          -1.1428028345108032,
          0.40313589572906494,
          2.1531548500061035,
          -3.6451480388641357,
          -0.6468508839607239,
          -15.333051681518555,
          -4.325152397155762,
          -3.9716672897338867,
          -1.8299996852874756,
          -0.6362980008125305,
          -0.34505122900009155,
          -0.5674260258674622,
          -0.7556653022766113,
          -0.029243500903248787,
          -2.2529101371765137,
          -2.4473531246185303,
          -1.768965721130371,
          -1.9477763175964355,
          -5.646205902099609,
          -3.660496950149536,
          -3.982788562774658,
          -3.821836471557617,
          -3.893369674682617,
          -4.034549713134766,
          -4.029272079467773,
          -3.836984395980835,
          -3.7473397254943848,
          -3.474823474884033,
          -4.514484882354736,
          -4.9941582679748535,
          -4.7592597007751465,
          -5.403979778289795,
          -4.101042747497559,
          -4.449299335479736,
          -4.343227863311768,
          -3.0487093925476074,
          -3.4539668560028076,
          -4.979323387145996,
          -2.830641269683838,
          -4.714870452880859,
          -5.364076614379883,
          -4.560754776000977,
          -5.2816548347473145,
          -5.589041233062744,
          -4.988349914550781,
          -4.896370887756348,
          -4.907963275909424,
          -4.553387641906738,
          -4.544619560241699,
          -4.104007244110107,
          -4.3351335525512695,
          -4.619927883148193,
          -4.369050979614258,
          -4.021004676818848,
          -3.967994213104248,
          -4.37403678894043,
          -4.065094947814941,
          -4.096423149108887,
          -4.296632766723633,
          -4.22827672958374,
          -4.164421558380127,
          -4.023101806640625,
          -4.0519304275512695,
          -3.993499994277954,
          -3.4771316051483154,
          -3.53576397895813,
          -4.523122310638428,
          -5.159847736358643,
          -4.05418586730957
         ],
         "xaxis": "x",
         "y": [
          11.301892280578613,
          11.112634658813477,
          11.16210651397705,
          10.599831581115723,
          11.805448532104492,
          7.775290489196777,
          11.467949867248535,
          11.24760627746582,
          12.05654525756836,
          11.57231616973877,
          14.387225151062012,
          4.738812446594238,
          10.516721725463867,
          10.613021850585938,
          9.206414222717285,
          -3.653514862060547,
          8.694013595581055,
          7.5790534019470215,
          7.747588634490967,
          9.741358757019043,
          8.554656028747559,
          7.637905120849609,
          7.685714244842529,
          4.812474250793457,
          10.060905456542969,
          2.5282232761383057,
          12.80290699005127,
          12.568583488464355,
          13.005895614624023,
          13.483195304870605,
          6.36018180847168,
          12.674708366394043,
          12.823217391967773,
          13.924532890319824,
          14.02107048034668,
          14.223177909851074,
          7.77958869934082,
          1.2688937187194824,
          13.681429862976074,
          13.382290840148926,
          13.606882095336914,
          -13.842632293701172,
          -14.210357666015625,
          11.633806228637695,
          7.749865531921387,
          13.30500316619873,
          -0.24762454628944397,
          10.864913940429688,
          12.810542106628418,
          13.144562721252441,
          13.47566032409668,
          13.354843139648438,
          13.527216911315918,
          13.204645156860352,
          12.772271156311035,
          15.300688743591309,
          13.812743186950684,
          14.982948303222656,
          13.252791404724121,
          15.020271301269531,
          12.761361122131348,
          13.222506523132324,
          13.690834999084473,
          1.2409213781356812,
          11.103079795837402,
          12.854476928710938,
          12.577019691467285,
          13.349669456481934,
          -3.7026331424713135,
          -0.20460069179534912,
          10.843636512756348,
          10.115656852722168,
          13.32961368560791,
          2.002063751220703,
          13.387969017028809,
          12.565389633178711,
          13.133318901062012,
          3.0713415145874023,
          12.535810470581055,
          13.008350372314453,
          14.36444091796875,
          14.629575729370117,
          14.31151294708252,
          7.330530166625977,
          8.186958312988281,
          11.962764739990234,
          10.11995792388916,
          14.083057403564453,
          14.034479141235352,
          11.640375137329102,
          0.1456732302904129,
          13.825977325439453,
          7.741556644439697,
          -14.635957717895508,
          -17.068349838256836,
          12.819122314453125,
          14.201090812683105,
          13.385302543640137,
          13.72052001953125,
          13.535057067871094,
          15.122690200805664,
          14.387399673461914,
          13.520845413208008,
          11.327256202697754,
          13.66397762298584,
          -11.339122772216797,
          -19.443832397460938,
          -20.19005012512207,
          -20.36082649230957,
          -19.840696334838867,
          -19.629911422729492,
          -19.489412307739258,
          -20.03742218017578,
          -19.385576248168945,
          -20.213397979736328,
          -19.793888092041016,
          -20.141550064086914,
          -19.830543518066406,
          -19.669815063476562,
          -19.43385124206543,
          -18.80657958984375,
          -18.96648597717285,
          -18.664613723754883,
          -18.533100128173828,
          -19.240741729736328,
          -20.13793182373047,
          -19.339738845825195,
          -19.157852172851562,
          -19.14630126953125,
          -18.384563446044922,
          -18.724267959594727,
          -18.487600326538086,
          -17.283109664916992,
          -18.849327087402344,
          -18.68598175048828,
          -18.72346305847168,
          -18.777875900268555,
          -18.54837417602539,
          -17.995054244995117,
          -18.20295524597168,
          -18.733137130737305,
          -18.80466651916504,
          -18.92934226989746,
          -19.10993766784668,
          -18.91044807434082,
          -18.680646896362305,
          -18.97870635986328,
          -18.852590560913086,
          -18.777807235717773,
          -18.876262664794922,
          -18.830411911010742,
          -19.604293823242188,
          -19.166379928588867,
          -20.276073455810547,
          -18.019681930541992,
          -18.677797317504883
         ],
         "yaxis": "y"
        },
        {
         "hovertemplate": "day_of_week=Monday<br>tSNE1=%{x}<br>tSNE2=%{y}<extra></extra>",
         "legendgroup": "Monday",
         "marker": {
          "color": "#FFA15A",
          "symbol": "circle"
         },
         "mode": "markers",
         "name": "Monday",
         "showlegend": true,
         "type": "scattergl",
         "x": [
          8.709251403808594,
          8.968022346496582,
          8.380377769470215,
          8.731491088867188,
          7.332528591156006,
          -2.312635660171509,
          8.939542770385742,
          9.639941215515137,
          8.357365608215332,
          5.817173480987549,
          2.3509023189544678,
          2.381148099899292,
          9.131796836853027,
          10.075140953063965,
          11.135339736938477,
          9.47624397277832,
          9.477381706237793,
          9.949974060058594,
          9.867239952087402,
          9.175853729248047,
          9.356607437133789,
          8.287769317626953,
          -15.279419898986816,
          9.813275337219238,
          12.550148963928223,
          2.334820032119751,
          12.536023139953613,
          12.943203926086426,
          12.347188949584961,
          11.63550090789795,
          4.81605863571167,
          9.334518432617188,
          5.667454719543457,
          4.888703346252441,
          -0.3641567826271057,
          0.11941424012184143,
          -2.1883597373962402,
          2.510728597640991,
          -2.0775554180145264,
          -0.2363889217376709,
          -5.895577430725098,
          -0.6511030197143555,
          -1.2670634984970093,
          -1.3650587797164917,
          -4.56848669052124,
          1.944867730140686,
          11.39885425567627,
          -1.5717636346817017,
          -2.2760679721832275,
          -0.2345600128173828,
          -1.4277429580688477,
          -2.150189161300659,
          -1.3419920206069946,
          -0.6520271897315979,
          -0.9069045782089233,
          -0.7494713068008423,
          -1.9592182636260986,
          0.5778759121894836,
          -0.7397372722625732,
          -4.4958271980285645,
          -1.5768882036209106,
          -4.644038677215576,
          1.5931721925735474,
          2.287351369857788,
          2.838188886642456,
          -1.4474525451660156,
          -2.132932186126709,
          -2.3027050495147705,
          0.516984760761261,
          -0.9632338285446167,
          -2.3804008960723877,
          -0.10163085162639618,
          -2.8543105125427246,
          0.5203039050102234,
          0.6552697420120239,
          -0.040279123932123184,
          -0.5853574275970459,
          2.272261381149292,
          -3.5327582359313965,
          -5.7704644203186035,
          -5.6363067626953125,
          -7.181751251220703,
          -4.533513069152832,
          -7.615257263183594,
          -5.764843940734863,
          -0.3673262298107147,
          -5.329627513885498,
          -15.320295333862305,
          -4.0012946128845215,
          -3.467679738998413,
          -3.1109626293182373,
          -5.208971977233887,
          -14.99801254272461,
          -0.3134520649909973,
          -4.396373271942139,
          -2.638532876968384,
          -2.4098398685455322,
          1.9264153242111206,
          -3.3893654346466064,
          -3.429408311843872,
          -3.0357136726379395,
          -0.3142887055873871,
          -3.0802807807922363,
          -5.070361614227295,
          -2.588318109512329,
          -2.3169965744018555,
          3.57519793510437,
          2.490022659301758,
          2.5157437324523926,
          2.236569881439209,
          2.799720287322998,
          2.7208828926086426,
          1.6859427690505981,
          2.264028310775757,
          1.657547950744629,
          -15.320178985595703,
          2.0408217906951904,
          0.7587864995002747,
          -3.491347074508667,
          0.46746698021888733,
          -1.4539860486984253,
          3.338848352432251,
          -0.10945843905210495,
          -1.3251343965530396,
          -1.605230689048767,
          -1.532873272895813,
          -15.35130786895752,
          -4.56601619720459,
          -1.7869728803634644,
          -2.884626626968384,
          -2.6914114952087402,
          -1.061203956604004,
          -1.2782490253448486,
          -1.2552891969680786,
          -1.3643465042114258,
          0.4000849723815918,
          -0.7284628748893738,
          -1.8198130130767822,
          -0.32246527075767517,
          -0.05598621442914009,
          1.3296053409576416,
          -0.5908371806144714,
          -0.8335423469543457,
          -0.8617588877677917,
          -0.4745231866836548,
          -1.4287625551223755,
          -0.648383617401123,
          -1.2507774829864502,
          -0.6236682534217834,
          0.31627699732780457,
          -1.7847378253936768,
          2.797497272491455,
          1.5885984897613525,
          6.096085071563721,
          1.2870255708694458,
          -4.00321102142334
         ],
         "xaxis": "x",
         "y": [
          -3.1510634422302246,
          -1.9198336601257324,
          -2.141465187072754,
          -2.7625293731689453,
          -3.23095965385437,
          -6.954120635986328,
          -3.5931966304779053,
          -4.059549331665039,
          -4.3426361083984375,
          -2.602558135986328,
          0.08226985484361649,
          16.409990310668945,
          -1.6858458518981934,
          -3.7173290252685547,
          -1.782456636428833,
          -0.9393421411514282,
          -2.1491763591766357,
          -0.927062451839447,
          -0.23463505506515503,
          -0.7572907209396362,
          -0.5958283543586731,
          1.3270089626312256,
          7.6091790199279785,
          0.15027360618114471,
          -4.708618640899658,
          16.480045318603516,
          -4.575678825378418,
          -3.4681384563446045,
          -3.7874395847320557,
          -3.9143266677856445,
          5.32251501083374,
          -5.449740886688232,
          -6.023226261138916,
          -6.28828239440918,
          -9.734862327575684,
          1.7370656728744507,
          -11.226263999938965,
          -9.73625659942627,
          -8.431310653686523,
          -10.40993595123291,
          -6.050947666168213,
          10.888778686523438,
          7.630594253540039,
          -8.330989837646484,
          -4.920505046844482,
          15.043327331542969,
          -6.072117805480957,
          -9.053624153137207,
          -9.420934677124023,
          10.060966491699219,
          -7.092583656311035,
          -3.8562939167022705,
          -7.825521469116211,
          -5.628902435302734,
          -5.910745620727539,
          -6.442114353179932,
          -8.299241065979004,
          -5.350490093231201,
          -6.528285026550293,
          -10.347796440124512,
          -6.170689582824707,
          -9.672102928161621,
          -10.4203519821167,
          16.37790870666504,
          -6.940094470977783,
          -5.37436580657959,
          -5.25714111328125,
          -4.655360698699951,
          -8.020329475402832,
          -5.447845935821533,
          -4.92937707901001,
          -5.907763481140137,
          -1.132016897201538,
          2.78501558303833,
          0.13488925993442535,
          -5.547423839569092,
          -2.44189453125,
          16.365243911743164,
          -7.207650184631348,
          -6.908236980438232,
          -8.394099235534668,
          -9.139028549194336,
          -8.121587753295898,
          5.816075801849365,
          -9.201866149902344,
          -7.671579360961914,
          -9.296428680419922,
          7.698315143585205,
          -7.7878546714782715,
          -11.520030975341797,
          -9.964507102966309,
          -6.509587287902832,
          7.113017559051514,
          -6.67318058013916,
          -3.9814200401306152,
          -8.316116333007812,
          -7.958149433135986,
          15.164122581481934,
          -8.319602012634277,
          -8.544536590576172,
          -8.193952560424805,
          11.042328834533691,
          -8.084833145141602,
          -6.4673895835876465,
          -7.0930867195129395,
          -1.16048002243042,
          6.634793281555176,
          5.748132705688477,
          6.161333084106445,
          6.155130863189697,
          6.53387451171875,
          5.749757289886475,
          6.45272970199585,
          6.630334377288818,
          9.132573127746582,
          7.702219009399414,
          9.040351867675781,
          3.8870041370391846,
          3.9033091068267822,
          3.90110182762146,
          5.384112358093262,
          6.172220706939697,
          4.741464614868164,
          5.764130115509033,
          6.000694274902344,
          4.017303466796875,
          7.815386772155762,
          4.310366630554199,
          5.945523738861084,
          5.6580634117126465,
          9.674903869628906,
          4.525996685028076,
          4.2912187576293945,
          3.9972243309020996,
          5.090616226196289,
          5.688264846801758,
          5.987267971038818,
          4.930208683013916,
          4.5159759521484375,
          3.7527761459350586,
          4.51289176940918,
          4.065105438232422,
          5.218827247619629,
          5.456570625305176,
          5.374588966369629,
          5.079841613769531,
          4.215415954589844,
          4.4788689613342285,
          4.262857437133789,
          4.746038913726807,
          4.470711708068848,
          5.318188667297363,
          5.705735683441162,
          5.517457008361816,
          4.815164566040039,
          5.226714134216309
         ],
         "yaxis": "y"
        },
        {
         "hovertemplate": "day_of_week=Tuesday<br>tSNE1=%{x}<br>tSNE2=%{y}<extra></extra>",
         "legendgroup": "Tuesday",
         "marker": {
          "color": "#19d3f3",
          "symbol": "circle"
         },
         "mode": "markers",
         "name": "Tuesday",
         "showlegend": true,
         "type": "scattergl",
         "x": [
          8.539107322692871,
          8.127212524414062,
          7.514461517333984,
          7.260901927947998,
          9.011429786682129,
          10.331803321838379,
          9.43616008758545,
          9.914624214172363,
          10.067941665649414,
          8.10877513885498,
          9.776493072509766,
          10.085077285766602,
          9.877490997314453,
          10.426483154296875,
          11.196891784667969,
          8.990363121032715,
          10.45417594909668,
          9.721436500549316,
          9.779152870178223,
          9.267730712890625,
          9.131094932556152,
          8.297162055969238,
          1.3056939840316772,
          7.37553596496582,
          12.866629600524902,
          12.502163887023926,
          13.083281517028809,
          12.394676208496094,
          12.377388000488281,
          11.710636138916016,
          11.32215690612793,
          10.606643676757812,
          5.942033290863037,
          1.8721414804458618,
          -0.9415051937103271,
          -0.16532187163829803,
          -2.157102346420288,
          0.7679280042648315,
          -0.06790538132190704,
          0.42813044786453247,
          0.010165970772504807,
          2.266392946243286,
          2.171886682510376,
          -2.186936140060425,
          -1.922885775566101,
          -2.0474929809570312,
          -1.2035934925079346,
          -2.7034013271331787,
          -3.8641412258148193,
          -1.3141705989837646,
          -1.515162706375122,
          -1.9348071813583374,
          -1.7118059396743774,
          -1.0438361167907715,
          -1.0183888673782349,
          -0.19883792102336884,
          2.652233600616455,
          -0.804857075214386,
          -1.863820195198059,
          -5.906662464141846,
          -5.814569473266602,
          -1.7315746545791626,
          -2.7755582332611084,
          -2.0983405113220215,
          -2.79622483253479,
          -1.1889331340789795,
          -1.8457673788070679,
          -1.543433427810669,
          0.46578463912010193,
          -0.5708211064338684,
          -2.5020482540130615,
          -0.5731058716773987,
          1.399590253829956,
          -4.700815200805664,
          -6.3611297607421875,
          -0.4417760968208313,
          0.4669235646724701,
          0.5842354893684387,
          2.5231010913848877,
          -1.7126529216766357,
          1.0384670495986938,
          -4.2980570793151855,
          -5.650699138641357,
          0.624438464641571,
          -5.855376720428467,
          -3.4204297065734863,
          -3.611231565475464,
          -4.744710922241211,
          4.184191703796387,
          -2.4946043491363525,
          -3.9776737689971924,
          -6.5275349617004395,
          -15.249855995178223,
          -5.622550010681152,
          -1.518352746963501,
          -6.4386305809021,
          -2.5380280017852783,
          -2.973086357116699,
          -3.250552177429199,
          -3.0222814083099365,
          -2.376051187515259,
          -2.4173920154571533,
          -3.1308257579803467,
          -7.074136257171631,
          -2.8434696197509766,
          1.2067846059799194,
          1.2097244262695312,
          3.7956180572509766,
          2.3092432022094727,
          1.4970566034317017,
          1.4461520910263062,
          1.209527611732483,
          2.5786120891571045,
          1.5150063037872314,
          1.797878623008728,
          -15.317851066589355,
          2.327387809753418,
          1.311090350151062,
          -1.502849817276001,
          1.2493714094161987,
          2.104104995727539,
          1.6468342542648315,
          -0.7982000112533569,
          -0.5650985240936279,
          -1.4988632202148438,
          -1.4225393533706665,
          -15.308866500854492,
          -0.9326605796813965,
          3.868694543838501,
          0.45048677921295166,
          -2.609604835510254,
          -2.8664889335632324,
          -2.395850896835327,
          -1.2909328937530518,
          -2.9629709720611572,
          -1.8533135652542114,
          -1.424325942993164,
          -0.663834273815155,
          1.1269092559814453,
          -1.2108794450759888,
          -2.3698575496673584,
          -1.606001377105713,
          -1.189041018486023,
          -2.7747228145599365,
          0.49606066942214966,
          -1.8839116096496582,
          6.39247989654541,
          -4.126194000244141,
          -3.3935532569885254,
          1.2286415100097656,
          1.192167043685913,
          -4.880805492401123,
          -4.186907768249512,
          5.90172004699707,
          -5.953695774078369,
          -4.441511631011963
         ],
         "xaxis": "x",
         "y": [
          -2.9746556282043457,
          -1.8232907056808472,
          -1.3900145292282104,
          -2.482809066772461,
          -2.6504695415496826,
          -3.0646936893463135,
          -3.171186923980713,
          -3.456407308578491,
          -2.7077107429504395,
          -2.2803947925567627,
          -3.1338117122650146,
          -3.0680079460144043,
          -2.5638763904571533,
          -2.296661138534546,
          -1.7666300535202026,
          0.8305521011352539,
          -1.6548526287078857,
          -1.2340612411499023,
          -0.5168411135673523,
          -0.7700432538986206,
          0.6584396362304688,
          0.5475756525993347,
          -2.4594385623931885,
          -1.1071792840957642,
          -4.759479999542236,
          -4.713898181915283,
          -4.114943981170654,
          -3.5323753356933594,
          -3.8840720653533936,
          -4.142266273498535,
          -3.7767446041107178,
          -4.956494331359863,
          -5.783102512359619,
          -7.618988990783691,
          -3.4903182983398438,
          -8.943678855895996,
          -10.581151962280273,
          -8.222406387329102,
          -10.498750686645508,
          -8.736321449279785,
          -7.965052604675293,
          16.38006019592285,
          16.255979537963867,
          -7.663001537322998,
          -7.071045398712158,
          -10.29842472076416,
          -9.314818382263184,
          -9.452947616577148,
          -1.7399768829345703,
          -8.649325370788574,
          -6.707886695861816,
          -4.40905237197876,
          -7.3373541831970215,
          -6.19575834274292,
          -6.08114767074585,
          -6.27067232131958,
          -5.44369649887085,
          -6.40431022644043,
          -7.029449462890625,
          -10.363459587097168,
          -4.81016731262207,
          -5.987934112548828,
          -5.950184345245361,
          -5.427743911743164,
          -5.3511433601379395,
          -4.438467025756836,
          -5.931450843811035,
          -4.070797920227051,
          -4.239459037780762,
          -4.823144912719727,
          -2.9691662788391113,
          -4.123301982879639,
          0.7443057298660278,
          2.1615586280822754,
          -2.4668920040130615,
          0.3374636769294739,
          -4.833980560302734,
          -11.186885833740234,
          -2.7104809284210205,
          -4.969893455505371,
          -11.653602600097656,
          -9.132757186889648,
          -7.306671619415283,
          -6.063783168792725,
          -3.4812557697296143,
          -7.572219371795654,
          -8.103309631347656,
          -7.350972652435303,
          -7.888056755065918,
          -10.729996681213379,
          -8.675573348999023,
          -5.480498313903809,
          7.4838547706604,
          6.961820125579834,
          7.75053596496582,
          -7.933908462524414,
          -8.136739730834961,
          -8.905852317810059,
          -7.641340255737305,
          -7.928802967071533,
          -7.939633846282959,
          -8.56843090057373,
          -9.224478721618652,
          -9.09030818939209,
          -7.826236248016357,
          7.338082313537598,
          7.577856063842773,
          7.598127365112305,
          7.710054397583008,
          7.706376552581787,
          8.179168701171875,
          8.713614463806152,
          7.346975326538086,
          7.5501604080200195,
          8.688000679016113,
          7.696288585662842,
          8.98114013671875,
          9.135708808898926,
          6.387693405151367,
          5.313929557800293,
          9.597352027893066,
          7.168201446533203,
          8.165329933166504,
          8.55173110961914,
          8.324056625366211,
          3.6270081996917725,
          7.69846248626709,
          7.7646965980529785,
          6.803792476654053,
          6.312950611114502,
          9.26730728149414,
          7.39970064163208,
          7.145864486694336,
          7.169534683227539,
          7.679717063903809,
          6.937244892120361,
          6.670081615447998,
          7.216966152191162,
          6.2371745109558105,
          6.898904323577881,
          7.4299397468566895,
          5.824599742889404,
          6.344240188598633,
          4.738860607147217,
          5.568373680114746,
          5.486969470977783,
          5.265613555908203,
          7.443431854248047,
          6.748558521270752,
          6.766844272613525,
          6.664637088775635,
          7.517086505889893,
          6.511816024780273,
          5.689189910888672,
          6.289003372192383,
          5.813666343688965
         ],
         "yaxis": "y"
        },
        {
         "hovertemplate": "day_of_week=Wednesday<br>tSNE1=%{x}<br>tSNE2=%{y}<extra></extra>",
         "legendgroup": "Wednesday",
         "marker": {
          "color": "#FF6692",
          "symbol": "circle"
         },
         "mode": "markers",
         "name": "Wednesday",
         "showlegend": true,
         "type": "scattergl",
         "x": [
          7.958876132965088,
          7.700708866119385,
          2.00384783744812,
          7.477133750915527,
          9.089584350585938,
          9.115222930908203,
          9.083163261413574,
          9.411460876464844,
          9.414362907409668,
          10.685200691223145,
          10.33016586303711,
          9.9033784866333,
          10.556730270385742,
          10.449901580810547,
          8.558180809020996,
          5.6645379066467285,
          2.544550657272339,
          9.876354217529297,
          9.308115005493164,
          9.26993465423584,
          9.406367301940918,
          8.991293907165527,
          11.146244049072266,
          7.6089582443237305,
          12.501415252685547,
          12.570282936096191,
          13.340874671936035,
          12.302929878234863,
          12.401406288146973,
          11.537620544433594,
          11.229056358337402,
          10.554924011230469,
          5.861116409301758,
          6.7272233963012695,
          1.7622326612472534,
          1.5836310386657715,
          1.2235167026519775,
          3.6654345989227295,
          2.0479142665863037,
          0.4513342082500458,
          -0.6919798254966736,
          -1.3006696701049805,
          -1.9286069869995117,
          -2.613313913345337,
          -0.6240894794464111,
          -2.0599617958068848,
          2.289012908935547,
          -3.057914972305298,
          -0.8977063894271851,
          -1.4587483406066895,
          -0.8479407429695129,
          -0.8584120869636536,
          -0.9694939851760864,
          -1.796448826789856,
          1.0014954805374146,
          -1.152593970298767,
          -3.1591603755950928,
          -1.022628664970398,
          -1.3234940767288208,
          -1.5167533159255981,
          -1.7732694149017334,
          -1.7051500082015991,
          -1.619740605354309,
          -1.8689683675765991,
          -1.0896443128585815,
          -3.202906608581543,
          -1.5914943218231201,
          -2.523796558380127,
          0.31087613105773926,
          0.29286301136016846,
          0.23777782917022705,
          -0.5455780625343323,
          -3.7622132301330566,
          0.6481567621231079,
          -1.273985505104065,
          0.9846436381340027,
          0.38523364067077637,
          -3.208256959915161,
          -5.367101192474365,
          -3.585538864135742,
          -2.8481335639953613,
          -5.000112533569336,
          -3.8236243724823,
          -3.284820318222046,
          -4.539315700531006,
          -3.348292827606201,
          -4.025632858276367,
          -4.644948959350586,
          -4.297829627990723,
          -3.852465867996216,
          -3.1747865676879883,
          -6.7300519943237305,
          -15.296026229858398,
          -15.560154914855957,
          2.0186221599578857,
          -2.7104780673980713,
          -2.2417311668395996,
          -2.6315371990203857,
          -2.551478147506714,
          0.8717647194862366,
          -2.305856227874756,
          -2.1935067176818848,
          -6.467523574829102,
          -2.7173266410827637,
          -2.5016682147979736,
          0.670015811920166,
          3.1411120891571045,
          2.3667242527008057,
          2.324031114578247,
          1.694753885269165,
          2.214320421218872,
          1.096846580505371,
          1.1170471906661987,
          2.5968832969665527,
          1.5696803331375122,
          -15.317580223083496,
          2.7337067127227783,
          1.1121917963027954,
          0.550281286239624,
          0.2692771553993225,
          2.1109731197357178,
          -4.879387855529785,
          -4.237215995788574,
          -1.365234375,
          -1.8769810199737549,
          -1.8943310976028442,
          -7.677337169647217,
          -2.220973014831543,
          0.84847092628479,
          -1.3098291158676147,
          -0.3932327926158905,
          -1.3039376735687256,
          0.07975488901138306,
          -0.8477666974067688,
          -2.5087366104125977,
          -1.6130826473236084,
          -1.6134909391403198,
          -1.520007610321045,
          -2.255596399307251,
          -2.488901138305664,
          -2.7609307765960693,
          4.072758197784424,
          -0.6415573358535767,
          0.08477672189474106,
          -0.498451292514801,
          1.2237770557403564,
          -3.42124605178833,
          -1.7760274410247803,
          -1.8948135375976562,
          -0.9413837790489197,
          -15.322928428649902,
          3.1013526916503906,
          -5.155106544494629,
          -3.7156763076782227,
          -5.800968170166016
         ],
         "xaxis": "x",
         "y": [
          -2.6814701557159424,
          -3.4090733528137207,
          -1.1763098239898682,
          -3.390831708908081,
          -2.7630960941314697,
          -3.0762505531311035,
          -3.2046709060668945,
          -3.0169665813446045,
          -3.6521005630493164,
          -2.644932985305786,
          -3.244929075241089,
          -2.1929116249084473,
          -2.9003384113311768,
          -2.220654249191284,
          -1.601667046546936,
          -0.8960440754890442,
          15.84929084777832,
          -1.3454381227493286,
          -1.6405549049377441,
          -0.3691193759441376,
          0.21402856707572937,
          -0.6914627552032471,
          -0.2107078582048416,
          -0.706818163394928,
          -4.5327887535095215,
          -5.1634202003479,
          -4.041058540344238,
          -3.7498064041137695,
          -3.9193763732910156,
          -4.048394680023193,
          -3.8491220474243164,
          -4.9779133796691895,
          -5.773542404174805,
          -5.366527557373047,
          -8.56233024597168,
          -9.58677864074707,
          -7.7953267097473145,
          -7.9471049308776855,
          -5.1505231857299805,
          -9.64885139465332,
          -7.365005970001221,
          -1.201939582824707,
          -6.227599620819092,
          -6.241637706756592,
          -8.209207534790039,
          -10.062642097473145,
          16.463085174560547,
          -10.7664155960083,
          -8.343423843383789,
          -8.013662338256836,
          -7.314383506774902,
          -7.767265796661377,
          -7.155212879180908,
          -7.269270896911621,
          -6.934265613555908,
          -6.830996990203857,
          -5.230130195617676,
          -5.971134662628174,
          -7.082128524780273,
          -8.128582954406738,
          -7.335842609405518,
          -6.249135494232178,
          -7.84108829498291,
          -9.192895889282227,
          -7.205246925354004,
          -4.43358039855957,
          -4.43010139465332,
          -2.877315044403076,
          -6.211094379425049,
          -1.5199917554855347,
          -3.930392265319824,
          -4.052537441253662,
          -3.275803804397583,
          0.056470923125743866,
          -3.1528961658477783,
          -4.585396766662598,
          -4.169756889343262,
          -9.88193130493164,
          -7.784972190856934,
          -4.287147521972656,
          -6.485677719116211,
          -8.691117286682129,
          -6.1980509757995605,
          -6.194667816162109,
          -8.545165061950684,
          -6.428256988525391,
          -9.606789588928223,
          -6.7769036293029785,
          -7.334444999694824,
          -8.657437324523926,
          -7.134791374206543,
          -5.373752117156982,
          7.59969425201416,
          8.201682090759277,
          15.423519134521484,
          -6.813237190246582,
          -7.3784966468811035,
          -9.0072021484375,
          -7.380401611328125,
          -11.540555000305176,
          -7.436578750610352,
          -7.644753932952881,
          -7.887751579284668,
          -7.102654933929443,
          -7.573810577392578,
          7.8085198402404785,
          7.758332252502441,
          5.852039813995361,
          7.882810115814209,
          6.88455867767334,
          7.542506694793701,
          8.229698181152344,
          7.921560287475586,
          8.238713264465332,
          8.142457962036133,
          7.696300983428955,
          8.278517723083496,
          8.196989059448242,
          4.590977191925049,
          8.144968032836914,
          5.337797164916992,
          9.150646209716797,
          9.100781440734863,
          8.311655044555664,
          8.964866638183594,
          8.48554801940918,
          5.837836265563965,
          5.728923320770264,
          6.96646785736084,
          7.011134147644043,
          5.645115852355957,
          8.691071510314941,
          5.4506025314331055,
          6.594488620758057,
          6.317039489746094,
          7.603997707366943,
          6.934427261352539,
          7.180952548980713,
          4.223348617553711,
          7.675085544586182,
          7.318548202514648,
          6.304633140563965,
          5.455265522003174,
          6.160623550415039,
          5.9937424659729,
          5.2720232009887695,
          6.759749889373779,
          7.542103290557861,
          4.825770378112793,
          7.250555038452148,
          7.686069011688232,
          7.267704963684082,
          6.357502460479736,
          6.360902309417725,
          7.7967095375061035
         ],
         "yaxis": "y"
        }
       ],
       "layout": {
        "legend": {
         "title": {
          "text": "day_of_week"
         },
         "tracegroupgap": 0
        },
        "margin": {
         "t": 60
        },
        "template": {
         "data": {
          "bar": [
           {
            "error_x": {
             "color": "#2a3f5f"
            },
            "error_y": {
             "color": "#2a3f5f"
            },
            "marker": {
             "line": {
              "color": "#E5ECF6",
              "width": 0.5
             },
             "pattern": {
              "fillmode": "overlay",
              "size": 10,
              "solidity": 0.2
             }
            },
            "type": "bar"
           }
          ],
          "barpolar": [
           {
            "marker": {
             "line": {
              "color": "#E5ECF6",
              "width": 0.5
             },
             "pattern": {
              "fillmode": "overlay",
              "size": 10,
              "solidity": 0.2
             }
            },
            "type": "barpolar"
           }
          ],
          "carpet": [
           {
            "aaxis": {
             "endlinecolor": "#2a3f5f",
             "gridcolor": "white",
             "linecolor": "white",
             "minorgridcolor": "white",
             "startlinecolor": "#2a3f5f"
            },
            "baxis": {
             "endlinecolor": "#2a3f5f",
             "gridcolor": "white",
             "linecolor": "white",
             "minorgridcolor": "white",
             "startlinecolor": "#2a3f5f"
            },
            "type": "carpet"
           }
          ],
          "choropleth": [
           {
            "colorbar": {
             "outlinewidth": 0,
             "ticks": ""
            },
            "type": "choropleth"
           }
          ],
          "contour": [
           {
            "colorbar": {
             "outlinewidth": 0,
             "ticks": ""
            },
            "colorscale": [
             [
              0,
              "#0d0887"
             ],
             [
              0.1111111111111111,
              "#46039f"
             ],
             [
              0.2222222222222222,
              "#7201a8"
             ],
             [
              0.3333333333333333,
              "#9c179e"
             ],
             [
              0.4444444444444444,
              "#bd3786"
             ],
             [
              0.5555555555555556,
              "#d8576b"
             ],
             [
              0.6666666666666666,
              "#ed7953"
             ],
             [
              0.7777777777777778,
              "#fb9f3a"
             ],
             [
              0.8888888888888888,
              "#fdca26"
             ],
             [
              1,
              "#f0f921"
             ]
            ],
            "type": "contour"
           }
          ],
          "contourcarpet": [
           {
            "colorbar": {
             "outlinewidth": 0,
             "ticks": ""
            },
            "type": "contourcarpet"
           }
          ],
          "heatmap": [
           {
            "colorbar": {
             "outlinewidth": 0,
             "ticks": ""
            },
            "colorscale": [
             [
              0,
              "#0d0887"
             ],
             [
              0.1111111111111111,
              "#46039f"
             ],
             [
              0.2222222222222222,
              "#7201a8"
             ],
             [
              0.3333333333333333,
              "#9c179e"
             ],
             [
              0.4444444444444444,
              "#bd3786"
             ],
             [
              0.5555555555555556,
              "#d8576b"
             ],
             [
              0.6666666666666666,
              "#ed7953"
             ],
             [
              0.7777777777777778,
              "#fb9f3a"
             ],
             [
              0.8888888888888888,
              "#fdca26"
             ],
             [
              1,
              "#f0f921"
             ]
            ],
            "type": "heatmap"
           }
          ],
          "heatmapgl": [
           {
            "colorbar": {
             "outlinewidth": 0,
             "ticks": ""
            },
            "colorscale": [
             [
              0,
              "#0d0887"
             ],
             [
              0.1111111111111111,
              "#46039f"
             ],
             [
              0.2222222222222222,
              "#7201a8"
             ],
             [
              0.3333333333333333,
              "#9c179e"
             ],
             [
              0.4444444444444444,
              "#bd3786"
             ],
             [
              0.5555555555555556,
              "#d8576b"
             ],
             [
              0.6666666666666666,
              "#ed7953"
             ],
             [
              0.7777777777777778,
              "#fb9f3a"
             ],
             [
              0.8888888888888888,
              "#fdca26"
             ],
             [
              1,
              "#f0f921"
             ]
            ],
            "type": "heatmapgl"
           }
          ],
          "histogram": [
           {
            "marker": {
             "pattern": {
              "fillmode": "overlay",
              "size": 10,
              "solidity": 0.2
             }
            },
            "type": "histogram"
           }
          ],
          "histogram2d": [
           {
            "colorbar": {
             "outlinewidth": 0,
             "ticks": ""
            },
            "colorscale": [
             [
              0,
              "#0d0887"
             ],
             [
              0.1111111111111111,
              "#46039f"
             ],
             [
              0.2222222222222222,
              "#7201a8"
             ],
             [
              0.3333333333333333,
              "#9c179e"
             ],
             [
              0.4444444444444444,
              "#bd3786"
             ],
             [
              0.5555555555555556,
              "#d8576b"
             ],
             [
              0.6666666666666666,
              "#ed7953"
             ],
             [
              0.7777777777777778,
              "#fb9f3a"
             ],
             [
              0.8888888888888888,
              "#fdca26"
             ],
             [
              1,
              "#f0f921"
             ]
            ],
            "type": "histogram2d"
           }
          ],
          "histogram2dcontour": [
           {
            "colorbar": {
             "outlinewidth": 0,
             "ticks": ""
            },
            "colorscale": [
             [
              0,
              "#0d0887"
             ],
             [
              0.1111111111111111,
              "#46039f"
             ],
             [
              0.2222222222222222,
              "#7201a8"
             ],
             [
              0.3333333333333333,
              "#9c179e"
             ],
             [
              0.4444444444444444,
              "#bd3786"
             ],
             [
              0.5555555555555556,
              "#d8576b"
             ],
             [
              0.6666666666666666,
              "#ed7953"
             ],
             [
              0.7777777777777778,
              "#fb9f3a"
             ],
             [
              0.8888888888888888,
              "#fdca26"
             ],
             [
              1,
              "#f0f921"
             ]
            ],
            "type": "histogram2dcontour"
           }
          ],
          "mesh3d": [
           {
            "colorbar": {
             "outlinewidth": 0,
             "ticks": ""
            },
            "type": "mesh3d"
           }
          ],
          "parcoords": [
           {
            "line": {
             "colorbar": {
              "outlinewidth": 0,
              "ticks": ""
             }
            },
            "type": "parcoords"
           }
          ],
          "pie": [
           {
            "automargin": true,
            "type": "pie"
           }
          ],
          "scatter": [
           {
            "marker": {
             "colorbar": {
              "outlinewidth": 0,
              "ticks": ""
             }
            },
            "type": "scatter"
           }
          ],
          "scatter3d": [
           {
            "line": {
             "colorbar": {
              "outlinewidth": 0,
              "ticks": ""
             }
            },
            "marker": {
             "colorbar": {
              "outlinewidth": 0,
              "ticks": ""
             }
            },
            "type": "scatter3d"
           }
          ],
          "scattercarpet": [
           {
            "marker": {
             "colorbar": {
              "outlinewidth": 0,
              "ticks": ""
             }
            },
            "type": "scattercarpet"
           }
          ],
          "scattergeo": [
           {
            "marker": {
             "colorbar": {
              "outlinewidth": 0,
              "ticks": ""
             }
            },
            "type": "scattergeo"
           }
          ],
          "scattergl": [
           {
            "marker": {
             "colorbar": {
              "outlinewidth": 0,
              "ticks": ""
             }
            },
            "type": "scattergl"
           }
          ],
          "scattermapbox": [
           {
            "marker": {
             "colorbar": {
              "outlinewidth": 0,
              "ticks": ""
             }
            },
            "type": "scattermapbox"
           }
          ],
          "scatterpolar": [
           {
            "marker": {
             "colorbar": {
              "outlinewidth": 0,
              "ticks": ""
             }
            },
            "type": "scatterpolar"
           }
          ],
          "scatterpolargl": [
           {
            "marker": {
             "colorbar": {
              "outlinewidth": 0,
              "ticks": ""
             }
            },
            "type": "scatterpolargl"
           }
          ],
          "scatterternary": [
           {
            "marker": {
             "colorbar": {
              "outlinewidth": 0,
              "ticks": ""
             }
            },
            "type": "scatterternary"
           }
          ],
          "surface": [
           {
            "colorbar": {
             "outlinewidth": 0,
             "ticks": ""
            },
            "colorscale": [
             [
              0,
              "#0d0887"
             ],
             [
              0.1111111111111111,
              "#46039f"
             ],
             [
              0.2222222222222222,
              "#7201a8"
             ],
             [
              0.3333333333333333,
              "#9c179e"
             ],
             [
              0.4444444444444444,
              "#bd3786"
             ],
             [
              0.5555555555555556,
              "#d8576b"
             ],
             [
              0.6666666666666666,
              "#ed7953"
             ],
             [
              0.7777777777777778,
              "#fb9f3a"
             ],
             [
              0.8888888888888888,
              "#fdca26"
             ],
             [
              1,
              "#f0f921"
             ]
            ],
            "type": "surface"
           }
          ],
          "table": [
           {
            "cells": {
             "fill": {
              "color": "#EBF0F8"
             },
             "line": {
              "color": "white"
             }
            },
            "header": {
             "fill": {
              "color": "#C8D4E3"
             },
             "line": {
              "color": "white"
             }
            },
            "type": "table"
           }
          ]
         },
         "layout": {
          "annotationdefaults": {
           "arrowcolor": "#2a3f5f",
           "arrowhead": 0,
           "arrowwidth": 1
          },
          "autotypenumbers": "strict",
          "coloraxis": {
           "colorbar": {
            "outlinewidth": 0,
            "ticks": ""
           }
          },
          "colorscale": {
           "diverging": [
            [
             0,
             "#8e0152"
            ],
            [
             0.1,
             "#c51b7d"
            ],
            [
             0.2,
             "#de77ae"
            ],
            [
             0.3,
             "#f1b6da"
            ],
            [
             0.4,
             "#fde0ef"
            ],
            [
             0.5,
             "#f7f7f7"
            ],
            [
             0.6,
             "#e6f5d0"
            ],
            [
             0.7,
             "#b8e186"
            ],
            [
             0.8,
             "#7fbc41"
            ],
            [
             0.9,
             "#4d9221"
            ],
            [
             1,
             "#276419"
            ]
           ],
           "sequential": [
            [
             0,
             "#0d0887"
            ],
            [
             0.1111111111111111,
             "#46039f"
            ],
            [
             0.2222222222222222,
             "#7201a8"
            ],
            [
             0.3333333333333333,
             "#9c179e"
            ],
            [
             0.4444444444444444,
             "#bd3786"
            ],
            [
             0.5555555555555556,
             "#d8576b"
            ],
            [
             0.6666666666666666,
             "#ed7953"
            ],
            [
             0.7777777777777778,
             "#fb9f3a"
            ],
            [
             0.8888888888888888,
             "#fdca26"
            ],
            [
             1,
             "#f0f921"
            ]
           ],
           "sequentialminus": [
            [
             0,
             "#0d0887"
            ],
            [
             0.1111111111111111,
             "#46039f"
            ],
            [
             0.2222222222222222,
             "#7201a8"
            ],
            [
             0.3333333333333333,
             "#9c179e"
            ],
            [
             0.4444444444444444,
             "#bd3786"
            ],
            [
             0.5555555555555556,
             "#d8576b"
            ],
            [
             0.6666666666666666,
             "#ed7953"
            ],
            [
             0.7777777777777778,
             "#fb9f3a"
            ],
            [
             0.8888888888888888,
             "#fdca26"
            ],
            [
             1,
             "#f0f921"
            ]
           ]
          },
          "colorway": [
           "#636efa",
           "#EF553B",
           "#00cc96",
           "#ab63fa",
           "#FFA15A",
           "#19d3f3",
           "#FF6692",
           "#B6E880",
           "#FF97FF",
           "#FECB52"
          ],
          "font": {
           "color": "#2a3f5f"
          },
          "geo": {
           "bgcolor": "white",
           "lakecolor": "white",
           "landcolor": "#E5ECF6",
           "showlakes": true,
           "showland": true,
           "subunitcolor": "white"
          },
          "hoverlabel": {
           "align": "left"
          },
          "hovermode": "closest",
          "mapbox": {
           "style": "light"
          },
          "paper_bgcolor": "white",
          "plot_bgcolor": "#E5ECF6",
          "polar": {
           "angularaxis": {
            "gridcolor": "white",
            "linecolor": "white",
            "ticks": ""
           },
           "bgcolor": "#E5ECF6",
           "radialaxis": {
            "gridcolor": "white",
            "linecolor": "white",
            "ticks": ""
           }
          },
          "scene": {
           "xaxis": {
            "backgroundcolor": "#E5ECF6",
            "gridcolor": "white",
            "gridwidth": 2,
            "linecolor": "white",
            "showbackground": true,
            "ticks": "",
            "zerolinecolor": "white"
           },
           "yaxis": {
            "backgroundcolor": "#E5ECF6",
            "gridcolor": "white",
            "gridwidth": 2,
            "linecolor": "white",
            "showbackground": true,
            "ticks": "",
            "zerolinecolor": "white"
           },
           "zaxis": {
            "backgroundcolor": "#E5ECF6",
            "gridcolor": "white",
            "gridwidth": 2,
            "linecolor": "white",
            "showbackground": true,
            "ticks": "",
            "zerolinecolor": "white"
           }
          },
          "shapedefaults": {
           "line": {
            "color": "#2a3f5f"
           }
          },
          "ternary": {
           "aaxis": {
            "gridcolor": "white",
            "linecolor": "white",
            "ticks": ""
           },
           "baxis": {
            "gridcolor": "white",
            "linecolor": "white",
            "ticks": ""
           },
           "bgcolor": "#E5ECF6",
           "caxis": {
            "gridcolor": "white",
            "linecolor": "white",
            "ticks": ""
           }
          },
          "title": {
           "x": 0.05
          },
          "xaxis": {
           "automargin": true,
           "gridcolor": "white",
           "linecolor": "white",
           "ticks": "",
           "title": {
            "standoff": 15
           },
           "zerolinecolor": "white",
           "zerolinewidth": 2
          },
          "yaxis": {
           "automargin": true,
           "gridcolor": "white",
           "linecolor": "white",
           "ticks": "",
           "title": {
            "standoff": 15
           },
           "zerolinecolor": "white",
           "zerolinewidth": 2
          }
         }
        },
        "xaxis": {
         "anchor": "y",
         "domain": [
          0,
          1
         ],
         "title": {
          "text": "tSNE1"
         }
        },
        "yaxis": {
         "anchor": "x",
         "domain": [
          0,
          1
         ],
         "title": {
          "text": "tSNE2"
         }
        }
       }
      }
     },
     "metadata": {},
     "output_type": "display_data"
    }
   ],
   "source": [
    "from sklearn.manifold import TSNE\n",
    "\n",
    "X_embedded = TSNE(init='random', learning_rate='auto').fit_transform(X)\n",
    "print(X_embedded.shape)\n",
    "\n",
    "tSNE_df = pd.concat([Y, seasons, days, pd.DataFrame(X_embedded, columns=['tSNE1', 'tSNE2'])], axis=1)\n",
    "tSNE_df.head()\n",
    "\n",
    "fig = px.scatter(tSNE_df, x='tSNE1', y='tSNE2', color=tSNE_df['day_of_week'])\n",
    "fig.show()"
   ]
  },
  {
   "cell_type": "code",
   "execution_count": 40,
   "metadata": {},
   "outputs": [],
   "source": [
    "filename = 'maintenance.csv'\n",
    "filepath_2 = cwd + filename\n",
    "\n",
    "maintenance_df = pd.read_csv(filepath_2)"
   ]
  },
  {
   "cell_type": "code",
   "execution_count": 41,
   "metadata": {},
   "outputs": [
    {
     "name": "stdout",
     "output_type": "stream",
     "text": [
      "(1091, 2)\n"
     ]
    },
    {
     "data": {
      "text/html": [
       "<div>\n",
       "<style scoped>\n",
       "    .dataframe tbody tr th:only-of-type {\n",
       "        vertical-align: middle;\n",
       "    }\n",
       "\n",
       "    .dataframe tbody tr th {\n",
       "        vertical-align: top;\n",
       "    }\n",
       "\n",
       "    .dataframe thead th {\n",
       "        text-align: right;\n",
       "    }\n",
       "</style>\n",
       "<table border=\"1\" class=\"dataframe\">\n",
       "  <thead>\n",
       "    <tr style=\"text-align: right;\">\n",
       "      <th></th>\n",
       "      <th>date</th>\n",
       "      <th>maintenance</th>\n",
       "      <th>seasons</th>\n",
       "      <th>day_of_week</th>\n",
       "      <th>tSNE1</th>\n",
       "      <th>tSNE2</th>\n",
       "    </tr>\n",
       "  </thead>\n",
       "  <tbody>\n",
       "    <tr>\n",
       "      <th>0</th>\n",
       "      <td>2018-03-08</td>\n",
       "      <td>False</td>\n",
       "      <td>winter</td>\n",
       "      <td>Thursday</td>\n",
       "      <td>8.829028</td>\n",
       "      <td>2.246745</td>\n",
       "    </tr>\n",
       "    <tr>\n",
       "      <th>1</th>\n",
       "      <td>2018-03-09</td>\n",
       "      <td>False</td>\n",
       "      <td>winter</td>\n",
       "      <td>Friday</td>\n",
       "      <td>8.601071</td>\n",
       "      <td>1.159054</td>\n",
       "    </tr>\n",
       "    <tr>\n",
       "      <th>2</th>\n",
       "      <td>2018-03-10</td>\n",
       "      <td>False</td>\n",
       "      <td>winter</td>\n",
       "      <td>Saturday</td>\n",
       "      <td>4.177790</td>\n",
       "      <td>-9.552353</td>\n",
       "    </tr>\n",
       "    <tr>\n",
       "      <th>3</th>\n",
       "      <td>2018-03-11</td>\n",
       "      <td>False</td>\n",
       "      <td>winter</td>\n",
       "      <td>Sunday</td>\n",
       "      <td>3.534272</td>\n",
       "      <td>-12.103314</td>\n",
       "    </tr>\n",
       "    <tr>\n",
       "      <th>4</th>\n",
       "      <td>2018-03-12</td>\n",
       "      <td>False</td>\n",
       "      <td>winter</td>\n",
       "      <td>Monday</td>\n",
       "      <td>8.650638</td>\n",
       "      <td>2.376979</td>\n",
       "    </tr>\n",
       "  </tbody>\n",
       "</table>\n",
       "</div>"
      ],
      "text/plain": [
       "         date  maintenance seasons day_of_week     tSNE1      tSNE2\n",
       "0  2018-03-08        False  winter    Thursday  8.829028   2.246745\n",
       "1  2018-03-09        False  winter      Friday  8.601071   1.159054\n",
       "2  2018-03-10        False  winter    Saturday  4.177790  -9.552353\n",
       "3  2018-03-11        False  winter      Sunday  3.534272 -12.103314\n",
       "4  2018-03-12        False  winter      Monday  8.650638   2.376979"
      ]
     },
     "execution_count": 41,
     "metadata": {},
     "output_type": "execute_result"
    }
   ],
   "source": [
    "X_embedded_2 = TSNE(init='random', learning_rate='auto').fit_transform(X)\n",
    "print(X_embedded.shape)\n",
    "\n",
    "tSNE_df = pd.concat([maintenance_df, seasons, days, pd.DataFrame(X_embedded_2, columns=['tSNE1', 'tSNE2'])], axis=1)\n",
    "tSNE_df.head()"
   ]
  },
  {
   "cell_type": "code",
   "execution_count": 42,
   "metadata": {},
   "outputs": [
    {
     "data": {
      "application/vnd.plotly.v1+json": {
       "config": {
        "plotlyServerURL": "https://plot.ly"
       },
       "data": [
        {
         "hovertemplate": "maintenance=False<br>tSNE1=%{x}<br>tSNE2=%{y}<extra></extra>",
         "legendgroup": "False",
         "marker": {
          "color": "#636efa",
          "symbol": "circle"
         },
         "mode": "markers",
         "name": "False",
         "showlegend": true,
         "type": "scattergl",
         "x": [
          8.829028129577637,
          8.60107135772705,
          4.17779016494751,
          3.5342724323272705,
          8.65063762664795,
          8.477217674255371,
          7.868462562561035,
          5.767209053039551,
          8.166252136230469,
          6.884354591369629,
          3.922987937927246,
          8.79737377166748,
          7.93447732925415,
          7.714079856872559,
          8.351033210754395,
          8.261314392089844,
          4.198996067047119,
          -4.779746055603027,
          8.278711318969727,
          7.331058979034424,
          1.570594310760498,
          7.986594200134277,
          6.510196685791016,
          3.8485546112060547,
          4.1069560050964355,
          8.644322395324707,
          7.1546783447265625,
          7.440756320953369,
          8.11838150024414,
          7.7607808113098145,
          3.8055317401885986,
          3.4151248931884766,
          7.315120697021484,
          8.843683242797852,
          8.787922859191895,
          7.649644374847412,
          8.54397201538086,
          3.437608480453491,
          -15.965517044067383,
          -1.6816976070404053,
          10.199891090393066,
          9.001768112182617,
          8.186517715454102,
          9.20982837677002,
          4.3421220779418945,
          2.701249837875366,
          9.285600662231445,
          9.3788423538208,
          9.080192565917969,
          9.780268669128418,
          9.404335021972656,
          3.7085695266723633,
          2.2701268196105957,
          9.4620361328125,
          9.788722038269043,
          9.285780906677246,
          8.986679077148438,
          7.991007328033447,
          6.362918853759766,
          2.308976650238037,
          8.496258735656738,
          9.647109985351562,
          9.33707046508789,
          9.31274700164795,
          9.013453483581543,
          4.113702297210693,
          2.7352592945098877,
          5.721696853637695,
          8.017783164978027,
          10.523067474365234,
          9.905210494995117,
          9.161028861999512,
          5.055146217346191,
          -2.704076051712036,
          2.1367764472961426,
          9.650848388671875,
          10.09978199005127,
          9.679106712341309,
          11.287749290466309,
          7.006150722503662,
          5.992361068725586,
          0.5985961556434631,
          9.934553146362305,
          9.823820114135742,
          10.084857940673828,
          10.621603012084961,
          1.21308434009552,
          4.342472076416016,
          8.964117050170898,
          9.75905990600586,
          10.28464126586914,
          8.995573997497559,
          8.647062301635742,
          4.650597095489502,
          3.4242968559265137,
          10.173297882080078,
          10.294632911682129,
          10.272830963134766,
          10.957850456237793,
          9.548898696899414,
          9.578660011291504,
          5.124006748199463,
          10.9422607421875,
          11.002817153930664,
          8.434196472167969,
          5.936405181884766,
          6.358585357666016,
          6.109497547149658,
          3.8557770252227783,
          9.286288261413574,
          7.881818771362305,
          5.537352085113525,
          9.946167945861816,
          8.504592895507812,
          3.675307035446167,
          5.845548152923584,
          9.442185401916504,
          10.318037986755371,
          0.7861689925193787,
          9.745664596557617,
          11.10460376739502,
          5.091489791870117,
          5.055629730224609,
          9.777219772338867,
          9.559501647949219,
          9.725325584411621,
          10.07331371307373,
          10.031271934509277,
          4.7248711585998535,
          5.4433135986328125,
          9.645925521850586,
          9.576092720031738,
          9.159364700317383,
          9.34952449798584,
          10.275076866149902,
          3.7912213802337646,
          -5.3777971267700195,
          9.017716407775879,
          9.085090637207031,
          9.063041687011719,
          8.324319839477539,
          8.349987983703613,
          7.641561031341553,
          5.829316139221191,
          9.156840324401855,
          8.875179290771484,
          9.162808418273926,
          10.446125030517578,
          10.630717277526855,
          -2.1438956260681152,
          5.982066631317139,
          8.212711334228516,
          8.324457168579102,
          8.870318412780762,
          8.318251609802246,
          -15.903109550476074,
          0.5705015659332275,
          10.944664001464844,
          10.231355667114258,
          10.549398422241211,
          7.795437335968018,
          3.4195644855499268,
          9.563218116760254,
          7.169053554534912,
          7.3724541664123535,
          11.11326789855957,
          4.995731353759766,
          4.3761887550354,
          1.9583466053009033,
          12.592604637145996,
          12.90993881225586,
          12.536508560180664,
          12.648920059204102,
          11.740679740905762,
          4.212092399597168,
          8.478778839111328,
          0.5483857989311218,
          12.556867599487305,
          12.662999153137207,
          12.625825881958008,
          12.421785354614258,
          2.5935094356536865,
          1.9183584451675415,
          12.576746940612793,
          13.067076683044434,
          13.317148208618164,
          12.785538673400879,
          11.55616569519043,
          2.662984609603882,
          2.5341382026672363,
          12.874903678894043,
          12.33351993560791,
          12.26658821105957,
          12.513835906982422,
          12.170886039733887,
          4.921963214874268,
          1.8933749198913574,
          12.311957359313965,
          12.355324745178223,
          12.38082218170166,
          11.663337707519531,
          11.706405639648438,
          1.981091022491455,
          0.31999337673187256,
          11.625616073608398,
          11.723160743713379,
          11.54189682006836,
          12.264021873474121,
          8.451696395874023,
          0.599726676940918,
          4.811545372009277,
          4.230680465698242,
          11.300158500671387,
          11.22012710571289,
          9.584319114685059,
          6.564105033874512,
          2.667508602142334,
          2.123666763305664,
          9.40549373626709,
          10.697049140930176,
          10.648406982421875,
          10.970312118530273,
          6.200774192810059,
          1.0757286548614502,
          0.9065647721290588,
          6.031004428863525,
          6.2992072105407715,
          6.212988376617432,
          6.096423625946045,
          6.23684549331665,
          1.353139042854309,
          -0.03183257579803467,
          5.574916839599609,
          2.721975803375244,
          6.971118927001953,
          2.9473581314086914,
          5.461230754852295,
          1.9866943359375,
          -0.504277229309082,
          0.34813639521598816,
          1.6436737775802612,
          1.6586802005767822,
          -1.4821425676345825,
          0.932651698589325,
          -0.11287906765937805,
          -1.5437650680541992,
          -0.222761869430542,
          -1.393550157546997,
          1.679202914237976,
          1.0473558902740479,
          1.3573323488235474,
          -3.540789842605591,
          -15.931560516357422,
          -1.3334550857543945,
          -1.3288328647613525,
          -5.065607070922852,
          0.5073120594024658,
          -1.1402316093444824,
          -2.1568102836608887,
          -3.2523059844970703,
          2.192098379135132,
          -2.082488536834717,
          3.7542455196380615,
          -0.37605658173561096,
          1.7125447988510132,
          -0.2647528350353241,
          -0.5165504813194275,
          -0.9409075379371643,
          -3.7677853107452393,
          1.0415637493133545,
          1.2559046745300293,
          2.062317371368408,
          -0.18314501643180847,
          0.3862130343914032,
          -3.712916612625122,
          0.6684907674789429,
          0.6473829746246338,
          -1.8913190364837646,
          -5.018804550170898,
          0.4960114359855652,
          -1.9614752531051636,
          -0.531879186630249,
          -4.394496440887451,
          -2.253247022628784,
          -7.6043548583984375,
          -2.5272316932678223,
          -2.189612627029419,
          -1.742817997932434,
          -1.2602488994598389,
          0.48770439624786377,
          -2.0985543727874756,
          -2.1727893352508545,
          -3.0201144218444824,
          -0.25775012373924255,
          -1.696606159210205,
          -2.8323545455932617,
          0.40371015667915344,
          -1.8239163160324097,
          -1.227455735206604,
          -1.3026695251464844,
          -3.162019968032837,
          -3.036802291870117,
          -2.108750820159912,
          -1.5824335813522339,
          -1.8118113279342651,
          -1.7308692932128906,
          -2.1202497482299805,
          -15.950028419494629,
          -15.955437660217285,
          -2.5847654342651367,
          -2.0248961448669434,
          -2.494459629058838,
          -2.5967960357666016,
          -2.5628747940063477,
          2.876866102218628,
          -1.846876859664917,
          0.26010218262672424,
          -1.4741647243499756,
          -1.5343457460403442,
          -0.8761996626853943,
          5.87014102935791,
          2.8823354244232178,
          -4.633581638336182,
          11.596776008605957,
          -2.1145787239074707,
          0.5047107338905334,
          0.4919991195201874,
          -1.5531818866729736,
          -0.005824435967952013,
          -4.689236640930176,
          -1.164011001586914,
          -1.3345117568969727,
          -4.078351974487305,
          -3.073899269104004,
          -2.723078489303589,
          -0.8540928959846497,
          0.6547407507896423,
          -1.6715009212493896,
          -0.4082503914833069,
          -2.3670568466186523,
          -3.702864408493042,
          -3.8446741104125977,
          -2.530435562133789,
          -1.428091287612915,
          -0.47214818000793457,
          -1.6035739183425903,
          -2.051332712173462,
          -1.9920742511749268,
          -3.556257963180542,
          -0.33506426215171814,
          -1.4127719402313232,
          -2.182163953781128,
          -2.3656303882598877,
          -2.287714719772339,
          0.7794007658958435,
          -2.9738574028015137,
          -1.4458171129226685,
          -1.6143054962158203,
          -2.9898808002471924,
          -2.9841227531433105,
          -2.2488811016082764,
          -2.5569050312042236,
          -2.931533098220825,
          -1.1355035305023193,
          -1.560592770576477,
          -2.0751492977142334,
          -2.0683865547180176,
          -2.2356224060058594,
          -2.3327083587646484,
          -2.10505747795105,
          -4.93361234664917,
          -1.8705672025680542,
          -3.2781951427459717,
          -2.854246139526367,
          -1.9726206064224243,
          1.4251519441604614,
          2.7447190284729004,
          -3.762486696243286,
          -1.382324457168579,
          -2.9925479888916016,
          -2.793980836868286,
          1.3760695457458496,
          -2.3063385486602783,
          -2.5437722206115723,
          -0.028868958353996277,
          -3.6072919368743896,
          -3.124554395675659,
          -3.0106899738311768,
          -4.030142784118652,
          -2.7665772438049316,
          -0.24694989621639252,
          -4.31727933883667,
          -1.9245775938034058,
          -1.648789405822754,
          2.068300247192383,
          -2.502502918243408,
          -4.485987186431885,
          -3.4471089839935303,
          -3.618501901626587,
          -1.2277368307113647,
          -3.9528238773345947,
          -2.682361602783203,
          -3.2351114749908447,
          -3.846865177154541,
          -5.786583423614502,
          -3.534663200378418,
          -2.645989418029785,
          -3.3488833904266357,
          -3.1334588527679443,
          -3.055154323577881,
          -3.3557586669921875,
          -3.5733630657196045,
          -0.9898442625999451,
          -3.3851537704467773,
          -2.005312204360962,
          -5.655599594116211,
          -2.502882719039917,
          -6.904923439025879,
          -3.1441657543182373,
          -5.90073299407959,
          -2.67948317527771,
          -3.475496292114258,
          -4.11545991897583,
          -2.929258108139038,
          -2.0463430881500244,
          -4.175601482391357,
          -2.301175832748413,
          -0.5395101308822632,
          -2.400712251663208,
          -3.6736390590667725,
          -4.108982563018799,
          -5.711353778839111,
          -1.0477286577224731,
          -1.7738991975784302,
          -2.3876116275787354,
          2.2959773540496826,
          -2.2960238456726074,
          -3.3298535346984863,
          -2.4818310737609863,
          -3.180926561355591,
          -2.4171907901763916,
          -4.358426094055176,
          0.5075160264968872,
          -4.923526763916016,
          -1.5407971143722534,
          -1.9436497688293457,
          -3.7608144283294678,
          -0.9930382966995239,
          -1.933775544166565,
          3.043592929840088,
          -2.8669075965881348,
          -3.6523516178131104,
          -3.6117193698883057,
          -4.617532730102539,
          -6.126808166503906,
          -2.567081928253174,
          -4.498335838317871,
          -4.8329877853393555,
          -2.971926689147949,
          -1.5845913887023926,
          -4.800878524780273,
          3.1557915210723877,
          -1.767762541770935,
          -3.9846363067626953,
          -3.811166524887085,
          -4.359869956970215,
          -1.7021418809890747,
          -1.952830195426941,
          -0.10456458479166031,
          -2.9356296062469482,
          -3.3571767807006836,
          -4.713973045349121,
          -5.784987926483154,
          -5.705864429473877,
          1.9697171449661255,
          -3.839900255203247,
          3.653728485107422,
          -3.3925375938415527,
          -6.290094375610352,
          -4.995794773101807,
          0.5332910418510437,
          0.02050577662885189,
          -3.211022138595581,
          -3.4650912284851074,
          -3.3462116718292236,
          -5.521481513977051,
          -6.151275634765625,
          -4.799408435821533,
          -1.8940736055374146,
          -5.605162143707275,
          -6.002615928649902,
          -3.563952922821045,
          -4.352704048156738,
          0.17547674477100372,
          0.1668352484703064,
          -5.305189609527588,
          -5.30873966217041,
          -5.237584590911865,
          2.197880268096924,
          -4.417829990386963,
          2.608222007751465,
          -3.614701509475708,
          -1.0142260789871216,
          1.4410251379013062,
          -7.106638431549072,
          -4.312019348144531,
          -3.4576377868652344,
          -2.402770519256592,
          -5.224964618682861,
          0.6699806451797485,
          -5.249319553375244,
          0.5406861305236816,
          -5.46199893951416,
          -7.198533058166504,
          2.996917247772217,
          -3.549697160720825,
          0.5366135239601135,
          -5.001053810119629,
          -3.107466697692871,
          -4.229432106018066,
          6.548107624053955,
          1.6907851696014404,
          -2.5702483654022217,
          -0.9789635539054871,
          -0.5785058736801147,
          -6.009071350097656,
          -4.316398620605469,
          4.081750869750977,
          1.5969914197921753,
          -3.2779808044433594,
          -3.5319507122039795,
          -4.756420135498047,
          -6.714267730712891,
          -5.8873162269592285,
          -1.5279277563095093,
          -2.0386223793029785,
          0.49290260672569275,
          1.5126655101776123,
          -0.6850519776344299,
          -1.2282286882400513,
          -1.4606006145477295,
          -1.0598552227020264,
          -0.6074429750442505,
          -0.41571244597435,
          2.9406321048736572,
          -0.1995452642440796,
          -2.124464511871338,
          -4.448176383972168,
          -2.6683270931243896,
          -1.372889518737793,
          1.4609066247940063,
          -4.1023688316345215,
          -3.699024200439453,
          3.5100154876708984,
          0.12428642064332962,
          -0.7414321899414062,
          -0.7760410308837891,
          -1.023622751235962,
          2.3082401752471924,
          -1.7256301641464233,
          -1.0528005361557007,
          0.8072471618652344,
          -5.933140277862549,
          -1.1069386005401611,
          1.007041573524475,
          -1.690396785736084,
          -4.868196964263916,
          -16.17814826965332,
          -7.620938777923584,
          -5.97239875793457,
          -1.4710551500320435,
          -1.2723743915557861,
          -2.125575304031372,
          2.8495028018951416,
          -15.850834846496582,
          3.1484761238098145,
          0.32294654846191406,
          -1.0117685794830322,
          -6.859135150909424,
          -6.686610221862793,
          -0.7784126400947571,
          -2.026496171951294,
          -2.639848232269287,
          -0.391568124294281,
          -1.0436551570892334,
          -1.040235161781311,
          -0.9598212838172913,
          -0.6015708446502686,
          -3.511291980743408,
          0.22344206273555756,
          0.12432076036930084,
          -0.1275499314069748,
          -1.0939487218856812,
          -1.4544119834899902,
          -2.992490530014038,
          -2.674743890762329,
          -15.941459655761719,
          0.3684287667274475,
          -0.6056031584739685,
          0.09904357045888901,
          0.49429479241371155,
          2.0038270950317383,
          -1.2156941890716553,
          0.3424260914325714,
          4.191638946533203,
          -0.14596757292747498,
          0.05461768060922623,
          -0.23812371492385864,
          0.8821543455123901,
          -3.1094319820404053,
          -0.3379747271537781,
          -1.0402910709381104,
          0.4760517179965973,
          0.4934579133987427,
          1.1827994585037231,
          -3.056976079940796,
          -3.9542088508605957,
          -0.4015505015850067,
          0.5596649646759033,
          -0.8275243639945984,
          -0.01778932847082615,
          1.1599457263946533,
          1.8309431076049805,
          -2.2848329544067383,
          0.42621880769729614,
          -0.08367850631475449,
          0.055461347103118896,
          -0.004564359784126282,
          -15.627130508422852,
          -15.87477970123291,
          -15.918574333190918,
          -15.920708656311035,
          -2.459766387939453,
          -3.1424450874328613,
          -0.778573215007782,
          -2.8102657794952393,
          -3.6134204864501953,
          -16.16725730895996,
          -7.919259071350098,
          -0.9416426420211792,
          -0.7174281477928162,
          -0.44960981607437134,
          -1.4578505754470825,
          -2.9236557483673096,
          0.29902681708335876,
          -1.1349290609359741,
          -1.0975825786590576,
          -2.966214895248413,
          -3.0198729038238525,
          -0.6647030711174011,
          0.7673531174659729,
          -1.3954274654388428,
          -1.3622336387634277,
          -1.7950284481048584,
          -0.577540397644043,
          -2.261970043182373,
          -1.0904277563095093,
          -0.6604008674621582,
          -1.3649439811706543,
          -0.27266719937324524,
          11.52553653717041,
          -2.091804265975952,
          -2.079238176345825,
          0.24261704087257385,
          -2.1984612941741943,
          -0.8153885006904602,
          -0.7187821269035339,
          -0.04412465542554855,
          -0.538702130317688,
          -0.937343180179596,
          -4.24268102645874,
          0.01421754527837038,
          -0.5915753245353699,
          1.9679946899414062,
          -0.8669273257255554,
          -0.5210455060005188,
          -1.0757577419281006,
          -0.5603638887405396,
          -6.540165424346924,
          -1.1891535520553589,
          -0.7187375426292419,
          -1.2229104042053223,
          1.502364993095398,
          -0.4808207154273987,
          -0.09607100486755371,
          0.7720550894737244,
          -0.8605467677116394,
          -0.8018515110015869,
          -1.807686448097229,
          0.8238747715950012,
          -5.06818151473999,
          -1.0610992908477783,
          1.2030327320098877,
          -2.5449109077453613,
          -4.7165350914001465,
          -4.006810188293457,
          -1.3612312078475952,
          -1.1656280755996704,
          -1.3470300436019897,
          -1.8131688833236694,
          -1.2974834442138672,
          -3.1081080436706543,
          0.886253833770752,
          -1.2047159671783447,
          0.7314426898956299,
          0.14032436907291412,
          0.45737090706825256,
          0.24298624694347382,
          2.1858701705932617,
          0.19727103412151337,
          3.2295544147491455,
          0.7491046786308289,
          2.4874048233032227,
          0.3893332779407501,
          0.19018472731113434,
          1.549241065979004,
          0.14638423919677734,
          2.0701472759246826,
          3.2736921310424805,
          2.0581324100494385,
          1.1970902681350708,
          2.6645195484161377,
          1.90834379196167,
          0.3544411063194275,
          2.150125741958618,
          1.8858152627944946,
          1.809537649154663,
          1.1544780731201172,
          1.6866787672042847,
          1.7388191223144531,
          0.11438319087028503,
          1.981816053390503,
          1.0062174797058105,
          1.4407916069030762,
          2.5430164337158203,
          2.6416494846343994,
          2.141772508621216,
          -0.08991692960262299,
          2.5281882286071777,
          0.9307932257652283,
          1.782412052154541,
          0.5553582906723022,
          1.9822338819503784,
          1.2379357814788818,
          -0.13532419502735138,
          2.3945834636688232,
          0.7096168994903564,
          0.48306453227996826,
          0.664993941783905,
          0.019243089482188225,
          1.4233498573303223,
          0.22094222903251648,
          1.426450252532959,
          2.1712710857391357,
          0.5780100226402283,
          1.851980447769165,
          0.35579997301101685,
          1.7332241535186768,
          0.10380002111196518,
          1.9799808263778687,
          1.0724306106567383,
          2.196570873260498,
          1.234709620475769,
          2.6713030338287354,
          1.465733528137207,
          0.6218717098236084,
          2.2951548099517822,
          1.1457666158676147,
          1.0329736471176147,
          1.2551205158233643,
          1.2443023920059204,
          1.5377323627471924,
          -0.4691980183124542,
          -15.941460609436035,
          -15.939263343811035,
          -15.9390287399292,
          -15.937067985534668,
          -7.275028705596924,
          1.7427617311477661,
          -0.6934987902641296,
          1.3391612768173218,
          1.5763092041015625,
          2.1794731616973877,
          0.451535165309906,
          2.126319408416748,
          2.2807140350341797,
          -0.7336366772651672,
          0.735897421836853,
          0.7928131222724915,
          0.5633655190467834,
          -0.09221594780683517,
          0.30741533637046814,
          0.829473614692688,
          -1.2980290651321411,
          0.8290361762046814,
          -1.6335643529891968,
          0.3877981901168823,
          -1.6733112335205078,
          -0.3306969404220581,
          0.9373245239257812,
          -0.22030757367610931,
          0.4716426730155945,
          0.8694998621940613,
          -0.2357964664697647,
          -0.815314531326294,
          -0.7986626625061035,
          0.008275110274553299,
          -0.7564240097999573,
          -1.7822258472442627,
          1.3907558917999268,
          1.9880105257034302,
          3.3301005363464355,
          -0.42087504267692566,
          1.9523241519927979,
          -0.5955044627189636,
          3.0004663467407227,
          1.271781086921692,
          -0.510232150554657,
          -1.2647705078125,
          3.034426212310791,
          1.6348168849945068,
          0.5347702503204346,
          -0.35005250573158264,
          -1.4683760404586792,
          -0.021969012916088104,
          -1.7041698694229126,
          2.713796854019165,
          0.704530656337738,
          0.13295654952526093,
          -1.7346699237823486,
          -1.1117244958877563,
          -1.9729732275009155,
          -0.3041134774684906,
          -0.9561810493469238,
          0.8689280152320862,
          -1.0758594274520874,
          -2.058159112930298,
          -2.1227965354919434,
          -2.1835293769836426,
          -2.543548107147217,
          -1.4466732740402222,
          0.9186257719993591,
          1.2074466943740845,
          -2.129521369934082,
          -1.5012966394424438,
          -2.455425500869751,
          -2.4922494888305664,
          0.016352705657482147,
          0.7969124913215637,
          -0.8247439861297607,
          -15.930843353271484,
          -7.677635669708252,
          -1.093377947807312,
          -2.706117868423462,
          1.025153398513794,
          -1.4768555164337158,
          -2.6141762733459473,
          -1.669746994972229,
          -2.4956116676330566,
          -0.7679369449615479,
          -2.38262677192688,
          1.171193242073059,
          -0.7320917844772339,
          -2.1892099380493164,
          3.5055899620056152,
          1.1705065965652466,
          -2.420785903930664,
          -3.716946601867676,
          -0.0729428380727768,
          -1.6498466730117798,
          -3.11832857131958,
          0.757172703742981,
          -1.9407141208648682,
          -3.1296513080596924,
          -0.15740187466144562,
          1.1222869157791138,
          -1.8016178607940674,
          -3.932368516921997,
          -3.7279725074768066,
          -0.5624159574508667,
          -2.3560359477996826,
          -2.9038538932800293,
          0.25724539160728455,
          -1.3463819026947021,
          -1.6088792085647583,
          -3.2567873001098633,
          -2.1359634399414062,
          -0.3613332211971283,
          -2.371762990951538,
          0.5746842622756958,
          -1.5589536428451538,
          -1.8224799633026123,
          -2.6922082901000977,
          -0.27199578285217285,
          -1.1224383115768433,
          -1.390876054763794,
          -0.0165109820663929,
          -1.1488230228424072,
          -1.844198226928711,
          -1.6432335376739502,
          -1.2965588569641113,
          -2.5943069458007812,
          -2.7918102741241455,
          -0.3053225576877594,
          -0.8641742467880249,
          -1.8541502952575684,
          -3.3928821086883545,
          -2.8345937728881836,
          -2.4186036586761475,
          -1.8714650869369507,
          0.45449674129486084,
          -0.8425179719924927,
          -0.01587260328233242,
          -2.239630699157715,
          -1.6390928030014038,
          -2.5848755836486816,
          -2.3771982192993164,
          0.641154944896698,
          -0.42582768201828003,
          -1.0664887428283691,
          -1.669528603553772,
          -2.0584824085235596,
          -2.9252512454986572,
          -0.7644302845001221,
          -0.36882853507995605,
          -0.7098288536071777,
          -2.2443113327026367,
          -0.9185369610786438,
          -2.081122398376465,
          -1.8241276741027832,
          -1.644309163093567,
          -0.4747653007507324,
          -1.2029600143432617,
          -0.746894121170044,
          0.8550978899002075,
          -2.9593446254730225,
          -4.756799221038818,
          -3.1830976009368896,
          0.40440210700035095,
          -0.8775654435157776,
          -0.5552699565887451,
          -1.426259994506836,
          -3.054694175720215,
          -4.377380847930908,
          -1.3790255784988403,
          -0.09324022382497787,
          -0.3672216534614563,
          1.0208581686019897,
          -2.7431681156158447,
          -3.2227182388305664,
          -4.411203384399414,
          -1.5512007474899292,
          0.2234012931585312,
          -0.2840978801250458,
          -1.0691508054733276,
          -1.9316486120224,
          3.818582534790039,
          0.7066635489463806,
          1.0724098682403564,
          -1.1449002027511597,
          -0.6320137977600098,
          -1.0474271774291992,
          -1.4556509256362915,
          -0.9036885499954224,
          -1.1352139711380005,
          -1.0703321695327759,
          -0.047774538397789,
          -0.2893717885017395,
          -1.0976163148880005,
          -0.8430153131484985,
          -0.2815678119659424,
          -4.648010730743408,
          -0.6283721923828125,
          -0.08697057515382767,
          -0.375089555978775,
          -0.759364128112793,
          0.15362954139709473,
          -0.8908576369285583,
          -1.1001306772232056,
          -0.9288327693939209,
          -1.2650017738342285,
          -0.6545780301094055,
          -1.674241542816162,
          -2.321990489959717,
          1.4733619689941406,
          -4.709937572479248,
          0.6289050579071045,
          0.4931820034980774,
          -0.4793095886707306,
          -1.1222641468048096,
          5.993593215942383,
          -3.915126085281372,
          -5.392674446105957,
          0.47125816345214844,
          -1.3099204301834106,
          -0.47110697627067566,
          -1.7947087287902832,
          -4.568385601043701,
          -2.395625114440918,
          -0.09962059557437897,
          -0.3489167094230652,
          0.3871024549007416,
          -0.3400474786758423,
          -1.1099350452423096,
          -3.867279052734375,
          -2.3046555519104004,
          -0.3739854693412781,
          -2.8021597862243652,
          0.8192828297615051,
          -0.3486054837703705,
          0.1166110411286354,
          0.7767732739448547,
          -1.3557378053665161,
          -4.572530746459961,
          -0.350403368473053,
          -0.5646068453788757,
          -0.30231037735939026,
          -2.4143638610839844,
          0.6271814703941345,
          -15.944147109985352,
          -15.925332069396973,
          -15.699421882629395,
          1.3647438287734985,
          0.43424516916275024,
          2.5063326358795166,
          -5.3335137367248535,
          2.9159629344940186,
          -3.7224643230438232,
          0.3542318344116211,
          -0.16321344673633575,
          0.24758848547935486,
          2.984949827194214,
          -4.651154041290283,
          -5.54701042175293,
          -3.4966022968292236,
          0.8352119326591492,
          -0.09436548501253128,
          -0.3320593535900116,
          5.650882244110107,
          5.44121789932251,
          -4.115803241729736,
          1.3603891134262085,
          -3.4178497791290283,
          1.8664096593856812,
          -1.6713162660598755,
          1.5365815162658691,
          -5.9982829093933105,
          -6.057399749755859,
          -4.09001350402832,
          0.38013285398483276,
          0.39174309372901917,
          -0.41089197993278503,
          -4.580974102020264,
          -4.888442516326904
         ],
         "xaxis": "x",
         "y": [
          2.2467451095581055,
          1.1590538024902344,
          -9.552352905273438,
          -12.103314399719238,
          2.376979351043701,
          2.1815338134765625,
          1.9667022228240967,
          1.826592206954956,
          0.6466658115386963,
          1.9670038223266602,
          -11.910421371459961,
          1.0180960893630981,
          1.0069265365600586,
          2.8796160221099854,
          2.290829658508301,
          1.7582811117172241,
          -9.426841735839844,
          -10.276541709899902,
          1.2883663177490234,
          0.6549850106239319,
          0.9711913466453552,
          1.7255587577819824,
          -1.444374442100525,
          -10.198111534118652,
          -11.43126106262207,
          1.928627371788025,
          1.631645679473877,
          2.58101487159729,
          2.7374987602233887,
          1.154819369316101,
          -8.195642471313477,
          -12.54309368133545,
          2.42802095413208,
          1.847593903541565,
          2.210338830947876,
          2.0844974517822266,
          1.2034940719604492,
          -9.331933975219727,
          -7.120251178741455,
          6.615877628326416,
          2.208327293395996,
          2.2409656047821045,
          3.2153842449188232,
          1.6383079290390015,
          -10.904559135437012,
          -12.172080039978027,
          1.7054862976074219,
          2.181039333343506,
          1.6441117525100708,
          2.4663679599761963,
          1.7370755672454834,
          -8.857586860656738,
          -11.76833438873291,
          2.99452805519104,
          2.6502981185913086,
          2.1887643337249756,
          2.7293474674224854,
          -0.5468776822090149,
          -8.152908325195312,
          -12.489018440246582,
          3.4252071380615234,
          3.1417057514190674,
          2.9461350440979004,
          2.3550658226013184,
          3.0570268630981445,
          -11.340681076049805,
          -12.206727027893066,
          1.8161062002182007,
          1.4368878602981567,
          1.6876771450042725,
          2.0845465660095215,
          2.6215667724609375,
          -9.956775665283203,
          -13.248956680297852,
          -0.16839583218097687,
          2.2734758853912354,
          2.7631444931030273,
          0.970277726650238,
          1.0989410877227783,
          -2.4211361408233643,
          -3.2177906036376953,
          -16.321943283081055,
          2.5325400829315186,
          1.2334613800048828,
          2.069404125213623,
          2.838646411895752,
          -9.728042602539062,
          -11.399243354797363,
          0.7566447257995605,
          1.6878199577331543,
          2.250202178955078,
          3.4679062366485596,
          0.16959090530872345,
          -7.45020055770874,
          -11.501628875732422,
          1.9993362426757812,
          1.3554552793502808,
          1.2320221662521362,
          1.0754426717758179,
          0.4866504669189453,
          -2.9500837326049805,
          -10.213842391967773,
          0.8288897275924683,
          0.7929019331932068,
          0.7356675863265991,
          -4.825802803039551,
          -4.341263294219971,
          -8.268561363220215,
          3.87516188621521,
          0.008997990749776363,
          -1.2649905681610107,
          0.18272343277931213,
          0.34388381242752075,
          1.1564258337020874,
          -6.069347858428955,
          -9.775132179260254,
          1.1130191087722778,
          0.6781898736953735,
          -15.778557777404785,
          -1.3313195705413818,
          1.7521418333053589,
          -0.7119872570037842,
          -8.46093463897705,
          -0.030290614813566208,
          0.30070778727531433,
          0.40398094058036804,
          0.02597768045961857,
          0.5049946308135986,
          -8.387788772583008,
          -8.73563289642334,
          -0.7155675292015076,
          -0.4467720687389374,
          0.7341954112052917,
          1.1902291774749756,
          1.0281407833099365,
          -8.74877643585205,
          -11.704319953918457,
          -0.15938295423984528,
          -0.17974470555782318,
          -0.5744391083717346,
          0.3022463619709015,
          -0.44586181640625,
          -3.689988613128662,
          -9.512932777404785,
          -0.33758825063705444,
          -1.5991812944412231,
          -1.196414828300476,
          -0.06690974533557892,
          -0.16348959505558014,
          -1.4481905698776245,
          -8.64715576171875,
          -2.118039608001709,
          -1.4029440879821777,
          -0.1649916023015976,
          -0.6896101236343384,
          -6.961827278137207,
          2.055675506591797,
          -0.7549011707305908,
          -1.0371953248977661,
          -1.171160101890564,
          -0.127776637673378,
          -5.5594706535339355,
          -1.1028494834899902,
          0.38876524567604065,
          -0.006258135661482811,
          0.13662995398044586,
          -2.5036814212799072,
          -6.1986083984375,
          -10.566699981689453,
          3.4647672176361084,
          3.4755780696868896,
          3.2859904766082764,
          3.2115588188171387,
          2.4595272541046143,
          -5.014658451080322,
          -3.2702767848968506,
          -16.389741897583008,
          3.46502685546875,
          3.9055776596069336,
          3.926074504852295,
          3.3970556259155273,
          -10.508220672607422,
          -13.181511878967285,
          3.3292572498321533,
          2.8305680751800537,
          2.731081485748291,
          2.196240186691284,
          3.11226487159729,
          -9.82311725616455,
          -13.067688941955566,
          2.202897787094116,
          2.313859701156616,
          2.5355405807495117,
          2.2091825008392334,
          1.595644235610962,
          -9.985591888427734,
          -13.367247581481934,
          2.573884963989258,
          2.6621978282928467,
          2.698761463165283,
          3.175429105758667,
          2.4661834239959717,
          -11.129939079284668,
          -13.533673286437988,
          2.7524254322052,
          2.9665517807006836,
          2.897885322570801,
          1.7430344820022583,
          4.001526355743408,
          -11.237214088439941,
          -7.210202217102051,
          -5.17030143737793,
          2.6426873207092285,
          2.7175915241241455,
          4.046156883239746,
          -1.0995807647705078,
          -10.803977966308594,
          -13.108757019042969,
          4.489363670349121,
          3.9157063961029053,
          3.9417171478271484,
          3.7887167930603027,
          3.5425286293029785,
          -11.053037643432617,
          -13.017892837524414,
          5.375874042510986,
          5.156698226928711,
          5.137082099914551,
          5.179039001464844,
          4.276209831237793,
          -11.542137145996094,
          -13.74498462677002,
          5.963412761688232,
          9.920975685119629,
          4.647424697875977,
          7.756814479827881,
          4.28480863571167,
          -7.287398338317871,
          -13.697195053100586,
          10.097296714782715,
          5.044698238372803,
          8.87744140625,
          7.974195957183838,
          9.03825569152832,
          -12.068821907043457,
          -14.081363677978516,
          -1.7171130180358887,
          8.172370910644531,
          10.312819480895996,
          8.40113639831543,
          10.004268646240234,
          -7.481241703033447,
          -7.123967170715332,
          11.128924369812012,
          10.536381721496582,
          8.7643461227417,
          -16.3538761138916,
          -9.714764595031738,
          1.7069368362426758,
          -1.1224265098571777,
          8.14038372039795,
          7.558997631072998,
          6.851756572723389,
          10.073357582092285,
          9.038310050964355,
          -12.111089706420898,
          -13.521203994750977,
          8.39690113067627,
          11.153173446655273,
          3.5380074977874756,
          9.912384986877441,
          9.074045181274414,
          -12.027965545654297,
          -13.123758316040039,
          11.033767700195312,
          9.143648147583008,
          8.42686653137207,
          7.503687858581543,
          10.102811813354492,
          -10.600790977478027,
          -14.423592567443848,
          4.328851699829102,
          9.088824272155762,
          7.39267635345459,
          6.537515640258789,
          8.047196388244629,
          1.029661774635315,
          13.37912654876709,
          -10.817092895507812,
          -16.287734985351562,
          1.2824463844299316,
          6.073152542114258,
          10.888611793518066,
          12.93889045715332,
          14.451448440551758,
          -7.925856590270996,
          -16.160873413085938,
          5.931267261505127,
          9.617989540100098,
          9.011857032775879,
          -3.6027724742889404,
          -10.940657615661621,
          8.555928230285645,
          7.383421421051025,
          6.300097942352295,
          5.058347702026367,
          5.342967987060547,
          -7.097452163696289,
          -7.095809459686279,
          4.5551629066467285,
          7.046370506286621,
          8.706158638000488,
          9.585615158081055,
          9.5339994430542,
          -8.945158004760742,
          -13.45987606048584,
          -14.90832233428955,
          10.293251037597656,
          10.134493827819824,
          9.801408767700195,
          -4.982308864593506,
          -9.567025184631348,
          0.5077664256095886,
          4.930047512054443,
          9.233107566833496,
          -16.370792388916016,
          -14.984261512756348,
          10.965423583984375,
          11.009322166442871,
          -9.813165664672852,
          8.993793487548828,
          8.15111255645752,
          8.980101585388184,
          9.172840118408203,
          2.5972723960876465,
          -11.684174537658691,
          -13.055925369262695,
          9.171586036682129,
          1.8846153020858765,
          8.66679859161377,
          10.174041748046875,
          9.863929748535156,
          -10.20803165435791,
          -13.175771713256836,
          -10.216840744018555,
          8.730807304382324,
          8.235715866088867,
          9.749958992004395,
          9.403834342956543,
          -11.410134315490723,
          -13.565877914428711,
          7.063591957092285,
          6.584187030792236,
          7.516852378845215,
          11.438998222351074,
          8.960559844970703,
          -11.739288330078125,
          -13.32826042175293,
          4.116328716278076,
          5.025366306304932,
          7.979201316833496,
          10.10734748840332,
          6.0170578956604,
          -12.063796997070312,
          -13.494162559509277,
          7.919107437133789,
          7.135776519775391,
          6.926464557647705,
          6.78849458694458,
          5.341311454772949,
          -0.3686244785785675,
          -14.167144775390625,
          6.162224292755127,
          6.318979263305664,
          7.2296142578125,
          7.896439075469971,
          5.341220378875732,
          -10.186173439025879,
          -12.828752517700195,
          6.246731758117676,
          6.426031589508057,
          7.624311923980713,
          5.475865840911865,
          4.624540328979492,
          -11.919096946716309,
          -14.88132381439209,
          6.932962894439697,
          6.804685592651367,
          7.243811130523682,
          5.457847595214844,
          -1.2036267518997192,
          -8.421159744262695,
          -13.686216354370117,
          8.353404998779297,
          3.849362850189209,
          5.376932621002197,
          7.9824676513671875,
          8.706169128417969,
          -3.076334238052368,
          -14.921070098876953,
          4.793295383453369,
          6.984076976776123,
          6.803045272827148,
          3.6727683544158936,
          -4.046092510223389,
          -8.7252779006958,
          -14.175802230834961,
          7.360610008239746,
          7.576413154602051,
          7.571354389190674,
          7.842804431915283,
          7.145101070404053,
          -12.6159086227417,
          -14.610464096069336,
          8.354536056518555,
          8.188596725463867,
          8.484553337097168,
          7.643495559692383,
          7.058310508728027,
          -10.293251991271973,
          -14.894113540649414,
          6.833468914031982,
          7.733419418334961,
          7.772489070892334,
          6.597091197967529,
          8.297908782958984,
          -10.863327980041504,
          -13.438007354736328,
          7.501882553100586,
          6.786227226257324,
          7.108405590057373,
          7.942042350769043,
          -2.669395685195923,
          -9.783646583557129,
          -13.95881175994873,
          7.334746837615967,
          6.063474655151367,
          8.198732376098633,
          11.554910659790039,
          8.502141952514648,
          0.32371777296066284,
          -1.6360061168670654,
          -16.286725997924805,
          7.47026252746582,
          9.215376853942871,
          9.564204216003418,
          8.282294273376465,
          -12.096116065979004,
          -11.20805549621582,
          5.86476993560791,
          5.778110504150391,
          7.875807762145996,
          5.517749309539795,
          7.363498210906982,
          -8.73010540008545,
          -14.376276016235352,
          6.720434665679932,
          6.18306827545166,
          5.4307732582092285,
          6.622676849365234,
          8.493245124816895,
          -6.444891452789307,
          -12.370471000671387,
          6.268387794494629,
          6.5126166343688965,
          5.873857498168945,
          6.471231460571289,
          5.657465934753418,
          -3.0313639640808105,
          -13.743453025817871,
          4.467081546783447,
          5.717868804931641,
          3.661292314529419,
          3.1723434925079346,
          -3.388638734817505,
          -4.396234512329102,
          3.943838596343994,
          9.412659645080566,
          6.268455982208252,
          9.471946716308594,
          -15.629480361938477,
          -9.320120811462402,
          0.3211556673049927,
          0.6405199766159058,
          5.87162971496582,
          6.344415664672852,
          2.1638104915618896,
          6.527166366577148,
          4.546600341796875,
          3.6573588848114014,
          5.82057523727417,
          2.0649518966674805,
          2.7789058685302734,
          -10.043484687805176,
          -10.305118560791016,
          7.199599266052246,
          5.086510181427002,
          5.060087203979492,
          5.360583782196045,
          5.294674396514893,
          -4.426268100738525,
          -13.658568382263184,
          1.1518553495407104,
          -1.1064236164093018,
          7.641430854797363,
          9.963929176330566,
          5.375507354736328,
          -1.2244113683700562,
          -9.46917724609375,
          -2.666971206665039,
          -2.217773199081421,
          -0.3855104148387909,
          4.306758403778076,
          3.428708553314209,
          -3.980229139328003,
          -13.413363456726074,
          -0.5185983777046204,
          2.004725217819214,
          3.462714433670044,
          4.807353496551514,
          -0.45040297508239746,
          -4.044469833374023,
          -12.197504997253418,
          4.0955634117126465,
          -0.15809114277362823,
          5.237569808959961,
          4.542686462402344,
          0.9448549747467041,
          -5.061892032623291,
          -13.188714027404785,
          2.3179421424865723,
          4.726883888244629,
          5.699814319610596,
          7.215720176696777,
          -2.952861785888672,
          -2.1700143814086914,
          -16.273805618286133,
          6.682462692260742,
          9.280158996582031,
          12.225054740905762,
          4.088821887969971,
          -10.295526504516602,
          -12.649317741394043,
          6.2500176429748535,
          2.4247488975524902,
          5.776231288909912,
          3.711674451828003,
          4.013405799865723,
          -8.782743453979492,
          -13.01341724395752,
          6.010981559753418,
          6.066425323486328,
          4.285536289215088,
          5.852586269378662,
          9.567229270935059,
          -10.962772369384766,
          -13.855624198913574,
          5.798446178436279,
          6.519772529602051,
          5.978439807891846,
          6.639853477478027,
          6.6440863609313965,
          8.93016242980957,
          4.875524044036865,
          5.793999671936035,
          4.037248134613037,
          -8.591865539550781,
          -6.69552755355835,
          -5.401970863342285,
          9.755197525024414,
          5.217515468597412,
          6.404124736785889,
          3.0770392417907715,
          -8.505833625793457,
          -7.516445636749268,
          8.646957397460938,
          3.776663303375244,
          7.785201549530029,
          8.832415580749512,
          4.620911121368408,
          -12.428582191467285,
          -11.766757011413574,
          10.492440223693848,
          6.878035545349121,
          5.6516876220703125,
          -2.0340116024017334,
          4.885743618011475,
          -9.704937934875488,
          -9.68107795715332,
          8.788874626159668,
          7.1209306716918945,
          9.247973442077637,
          6.030193328857422,
          2.4418485164642334,
          -9.539548873901367,
          -12.669150352478027,
          -7.046278476715088,
          6.046270847320557,
          5.233354568481445,
          6.593161582946777,
          6.510014533996582,
          -9.579133033752441,
          -13.500974655151367,
          6.465810298919678,
          6.755256175994873,
          5.211620807647705,
          5.875680923461914,
          5.017623424530029,
          -9.164267539978027,
          -11.005369186401367,
          11.551586151123047,
          10.645549774169922,
          7.690343856811523,
          -16.312089920043945,
          -14.197157859802246,
          -1.6380138397216797,
          -0.04297308623790741,
          9.38319206237793,
          7.308166027069092,
          6.335748195648193,
          8.393767356872559,
          4.148234844207764,
          -9.522467613220215,
          -13.011394500732422,
          5.302087783813477,
          3.230612277984619,
          2.988536834716797,
          7.819766998291016,
          -6.48203182220459,
          -6.843391418457031,
          -6.952319622039795,
          -6.950363636016846,
          4.421640396118164,
          -0.5030225515365601,
          14.56090259552002,
          7.283491134643555,
          -7.907058238983154,
          -7.537716388702393,
          -5.3633904457092285,
          5.752996921539307,
          15.3704195022583,
          15.938261985778809,
          3.3107104301452637,
          -7.998915672302246,
          -15.310333251953125,
          7.289791107177734,
          7.145225524902344,
          -0.9676999449729919,
          -12.333531379699707,
          7.920950412750244,
          4.858490467071533,
          6.4410014152526855,
          6.742287635803223,
          5.978659152984619,
          -14.305789947509766,
          -12.850879669189453,
          7.624804973602295,
          7.761103630065918,
          7.2254319190979,
          6.052530765533447,
          4.657166481018066,
          -10.892695426940918,
          -13.018928527832031,
          -15.031265258789062,
          11.227869033813477,
          8.521080017089844,
          8.679344177246094,
          7.551128387451172,
          7.1139373779296875,
          6.923989772796631,
          2.941051483154297,
          7.826470851898193,
          7.373210430145264,
          6.579007625579834,
          6.985786437988281,
          7.582286834716797,
          7.66108512878418,
          7.176131248474121,
          0.5793695449829102,
          -10.990716934204102,
          8.32561206817627,
          7.4998297691345215,
          7.611213684082031,
          7.480288982391357,
          8.405433654785156,
          4.838725566864014,
          6.459803581237793,
          3.3085837364196777,
          -10.434621810913086,
          5.467959403991699,
          11.429889678955078,
          6.64281702041626,
          2.6330344676971436,
          3.4905521869659424,
          -3.787266492843628,
          -13.383631706237793,
          6.706714630126953,
          7.527385711669922,
          7.205089092254639,
          6.508302211761475,
          -0.4095432460308075,
          -0.9515029788017273,
          11.79732894897461,
          1.5178332328796387,
          -7.529919147491455,
          -8.024653434753418,
          -8.096139907836914,
          -8.38710880279541,
          18.061750411987305,
          19.047300338745117,
          -7.199877738952637,
          -7.616818904876709,
          -8.174543380737305,
          -7.902463912963867,
          -8.339607238769531,
          18.159330368041992,
          19.848093032836914,
          -6.4415178298950195,
          -8.206429481506348,
          -6.476147174835205,
          -7.7571563720703125,
          -7.393908500671387,
          18.166282653808594,
          19.95899772644043,
          -6.59585428237915,
          -8.090503692626953,
          -8.41990852355957,
          -8.003342628479004,
          -8.106012344360352,
          18.290485382080078,
          19.493743896484375,
          -6.5669426918029785,
          -7.795806407928467,
          -7.43082332611084,
          -7.838446617126465,
          -8.217201232910156,
          18.196720123291016,
          19.346426010131836,
          -7.047083854675293,
          -8.370072364807129,
          -7.7254204750061035,
          -8.142535209655762,
          -7.485586643218994,
          18.137487411499023,
          19.205385208129883,
          -6.300382137298584,
          -8.93479061126709,
          -8.322956085205078,
          -7.987758636474609,
          -8.867718696594238,
          18.48872184753418,
          19.651912689208984,
          -6.702384948730469,
          -7.811099052429199,
          -7.972878456115723,
          -8.612712860107422,
          -8.261441230773926,
          18.198484420776367,
          19.02251434326172,
          -6.96947717666626,
          -7.6966233253479,
          -8.758503913879395,
          -8.716104507446289,
          -6.547707557678223,
          18.376399993896484,
          19.707324981689453,
          -4.934537887573242,
          -8.599249839782715,
          -8.022478103637695,
          -8.434210777282715,
          -8.224882125854492,
          18.23518180847168,
          19.630115509033203,
          -7.050026893615723,
          -7.044419765472412,
          -7.044434547424316,
          -7.040846824645996,
          -5.49212121963501,
          18.35286521911621,
          20.173917770385742,
          -9.280840873718262,
          -9.051421165466309,
          -8.615307807922363,
          -8.943665504455566,
          -6.077834129333496,
          18.861764907836914,
          19.74933624267578,
          -3.618116855621338,
          -9.36632251739502,
          -8.138984680175781,
          -7.561554908752441,
          -6.613406658172607,
          18.592191696166992,
          19.88690757751465,
          -6.136937141418457,
          -6.4829630851745605,
          -4.365609169006348,
          -6.7285614013671875,
          -4.823724269866943,
          17.177230834960938,
          19.17547035217285,
          -3.6203184127807617,
          -5.54634952545166,
          -8.018467903137207,
          -7.959346294403076,
          -7.821017265319824,
          17.230056762695312,
          18.674314498901367,
          -5.200296878814697,
          -9.993303298950195,
          -5.786477088928223,
          -7.751992702484131,
          -9.1163969039917,
          17.23611068725586,
          18.813674926757812,
          -6.806604862213135,
          -7.322147369384766,
          -8.82883071899414,
          -8.116358757019043,
          -7.940766334533691,
          17.028518676757812,
          18.17317771911621,
          -4.36015510559082,
          -8.097502708435059,
          -5.971029758453369,
          -8.755541801452637,
          -6.038137435913086,
          16.841402053833008,
          18.156002044677734,
          -5.562995910644531,
          -8.394489288330078,
          -8.141319274902344,
          -8.441465377807617,
          -6.6982855796813965,
          16.743663787841797,
          19.281726837158203,
          -5.870852470397949,
          -8.124951362609863,
          -8.771566390991211,
          -8.364596366882324,
          -8.50417423248291,
          16.67814064025879,
          19.425079345703125,
          -4.04786491394043,
          -9.049596786499023,
          -8.29214096069336,
          -8.424354553222656,
          -7.1457366943359375,
          17.083467483520508,
          19.27009391784668,
          -7.046506881713867,
          -5.424921989440918,
          -7.064691066741943,
          -3.33105731010437,
          16.45635223388672,
          19.333070755004883,
          -3.4670944213867188,
          -7.643019676208496,
          -5.498305797576904,
          -7.684935569763184,
          -7.690934181213379,
          17.1199951171875,
          19.061294555664062,
          -5.790694713592529,
          -7.374371528625488,
          -5.917365074157715,
          -6.272899627685547,
          -4.958883762359619,
          16.141963958740234,
          18.584205627441406,
          -5.511019229888916,
          -5.399099349975586,
          -6.866550445556641,
          -6.012775897979736,
          -4.021335124969482,
          16.053857803344727,
          19.05542755126953,
          -8.9952392578125,
          -8.660234451293945,
          -5.251331806182861,
          -6.262667179107666,
          -5.167489051818848,
          16.82173728942871,
          18.590526580810547,
          -4.436650276184082,
          -6.969576835632324,
          -8.177766799926758,
          -6.6014790534973145,
          -6.356764793395996,
          15.6959228515625,
          17.421539306640625,
          -4.200085163116455,
          -6.7950825691223145,
          -5.3643364906311035,
          -7.676512718200684,
          -5.799212455749512,
          16.62435531616211,
          18.910503387451172,
          -3.919241189956665,
          -7.011335849761963,
          -6.448594570159912,
          -6.52409029006958,
          -6.626468181610107,
          16.792512893676758,
          18.622127532958984,
          -4.979413986206055,
          -7.138881206512451,
          -6.145069122314453,
          -6.742060661315918,
          -6.154135704040527,
          15.912582397460938,
          18.661117553710938,
          -5.614603519439697,
          -6.761966228485107,
          -7.326406478881836,
          -6.454904556274414,
          -6.780303955078125,
          17.6680965423584,
          18.572383880615234,
          -5.874942302703857,
          -6.482263088226318,
          -6.819082736968994,
          -6.906731605529785,
          -7.000522136688232,
          16.718013763427734,
          18.42469024658203,
          -4.832974910736084,
          -7.179337024688721,
          -7.021613121032715,
          -7.91493034362793,
          -5.9033966064453125,
          16.423274993896484,
          18.02083396911621,
          -4.1346869468688965,
          -6.456415176391602,
          -4.397437572479248,
          -7.067329406738281,
          -4.569338321685791,
          17.035505294799805,
          18.117389678955078,
          -3.5360331535339355,
          -6.756498336791992,
          -7.300788879394531,
          -7.543964385986328,
          -3.559894561767578,
          17.109872817993164,
          18.49689483642578,
          -4.444480895996094,
          -7.038694858551025,
          -6.657715797424316,
          -7.110093593597412,
          -5.493697643280029,
          17.41945457458496,
          18.55341148376465,
          -3.8581175804138184,
          -5.625278949737549,
          -6.929290294647217,
          -14.52047348022461,
          -6.786296844482422,
          17.019855499267578,
          18.791492462158203,
          -4.9587531089782715,
          -6.202422142028809,
          -5.198431015014648,
          -4.7408447265625,
          -5.123748779296875,
          17.005571365356445,
          18.8653507232666,
          -5.3026628494262695,
          -5.689709663391113,
          -6.068193435668945,
          -7.112451553344727,
          -5.110786437988281,
          16.999359130859375,
          18.692806243896484,
          -5.224994659423828,
          -5.491774082183838,
          -5.6850762367248535,
          -6.2218098640441895,
          -6.0515313148498535,
          16.779541015625,
          18.530628204345703,
          -4.899097442626953,
          -5.315305233001709,
          -5.296476364135742,
          -7.2499470710754395,
          -14.38488483428955,
          17.493484497070312,
          18.797609329223633,
          -4.044789791107178,
          -6.13287353515625,
          -6.529971599578857,
          -7.776821613311768,
          -14.389348983764648,
          16.2835693359375,
          18.65725326538086,
          -4.50043249130249,
          -7.1098127365112305,
          -7.375918388366699,
          -6.67967414855957,
          -7.068314075469971,
          18.03771209716797,
          18.546361923217773,
          -4.079802989959717,
          -6.533910751342773,
          -4.685372829437256,
          -6.761384963989258,
          -5.865329265594482,
          17.51972007751465,
          18.64198112487793,
          -4.582753658294678,
          -6.972276210784912,
          -7.135539531707764,
          -5.766855239868164,
          -6.770657539367676,
          17.140155792236328,
          18.587068557739258,
          -4.442838668823242,
          -7.071620941162109,
          -7.034681797027588,
          -7.042356967926025,
          -7.0535969734191895,
          17.55398941040039,
          19.16364860534668,
          -5.873154163360596,
          -7.278001308441162,
          -7.8224897384643555,
          -5.772371292114258,
          -7.104522228240967,
          17.000028610229492,
          18.798887252807617,
          -5.252382755279541,
          -6.209361553192139,
          -6.082013130187988,
          -5.7244367599487305,
          -5.002152919769287,
          17.759078979492188,
          20.062707901000977,
          -6.328231334686279,
          -6.482490539550781,
          -6.117438316345215,
          -7.137326717376709,
          -6.391507625579834,
          19.074983596801758,
          18.200191497802734,
          -4.509511470794678,
          -5.681253433227539,
          -6.942902565002441,
          -5.331109046936035,
          -6.134243965148926,
          17.75694465637207,
          18.45840072631836,
          -4.888560771942139,
          -5.312225818634033
         ],
         "yaxis": "y"
        },
        {
         "hovertemplate": "maintenance=True<br>tSNE1=%{x}<br>tSNE2=%{y}<extra></extra>",
         "legendgroup": "True",
         "marker": {
          "color": "#EF553B",
          "symbol": "circle"
         },
         "mode": "markers",
         "name": "True",
         "showlegend": true,
         "type": "scattergl",
         "x": [
          11.71109390258789,
          -3.374997138977051,
          -15.94151496887207,
          2.308861494064331,
          -4.475174903869629,
          -5.2162981033325195,
          -6.08055305480957,
          1.7185821533203125,
          -1.1320735216140747,
          -2.18601393699646,
          -5.131198883056641,
          0.8220329880714417,
          -0.20611464977264404,
          3.8706674575805664,
          -0.05603327602148056,
          -2.4723472595214844,
          -1.967301845550537,
          -15.922696113586426,
          -15.942671775817871,
          -15.95340633392334,
          -1.3224247694015503,
          -2.685264825820923,
          -2.312441349029541,
          -1.796095371246338,
          -3.8007209300994873,
          -2.4907236099243164,
          -0.693330705165863,
          -4.002207279205322,
          -1.0363355875015259,
          -5.880053997039795,
          -4.206890106201172,
          -3.4713380336761475,
          -0.7298544645309448,
          -4.273237228393555,
          -4.205958366394043,
          -0.5555732846260071,
          -15.967967987060547
         ],
         "xaxis": "x",
         "y": [
          0.1313512623310089,
          -2.510129451751709,
          -7.034297943115234,
          3.4567530155181885,
          -3.042461633682251,
          -12.921150207519531,
          5.923342227935791,
          -2.594008684158325,
          -11.315335273742676,
          -12.882296562194824,
          11.498445510864258,
          7.136364936828613,
          6.53943395614624,
          8.613924026489258,
          4.441209316253662,
          -9.357431411743164,
          -13.362203598022461,
          -6.923484802246094,
          -7.053258895874023,
          -7.087793827056885,
          5.5713629722595215,
          -11.289840698242188,
          -13.076680183410645,
          5.087945461273193,
          -11.728020668029785,
          -13.142006874084473,
          5.176394939422607,
          -11.690937042236328,
          -14.642598152160645,
          -1.0573153495788574,
          -11.522286415100098,
          -12.49007511138916,
          3.24470853805542,
          -11.405003547668457,
          -13.119128227233887,
          -8.636434555053711,
          -7.154393672943115
         ],
         "yaxis": "y"
        }
       ],
       "layout": {
        "legend": {
         "title": {
          "text": "maintenance"
         },
         "tracegroupgap": 0
        },
        "margin": {
         "t": 60
        },
        "template": {
         "data": {
          "bar": [
           {
            "error_x": {
             "color": "#2a3f5f"
            },
            "error_y": {
             "color": "#2a3f5f"
            },
            "marker": {
             "line": {
              "color": "#E5ECF6",
              "width": 0.5
             },
             "pattern": {
              "fillmode": "overlay",
              "size": 10,
              "solidity": 0.2
             }
            },
            "type": "bar"
           }
          ],
          "barpolar": [
           {
            "marker": {
             "line": {
              "color": "#E5ECF6",
              "width": 0.5
             },
             "pattern": {
              "fillmode": "overlay",
              "size": 10,
              "solidity": 0.2
             }
            },
            "type": "barpolar"
           }
          ],
          "carpet": [
           {
            "aaxis": {
             "endlinecolor": "#2a3f5f",
             "gridcolor": "white",
             "linecolor": "white",
             "minorgridcolor": "white",
             "startlinecolor": "#2a3f5f"
            },
            "baxis": {
             "endlinecolor": "#2a3f5f",
             "gridcolor": "white",
             "linecolor": "white",
             "minorgridcolor": "white",
             "startlinecolor": "#2a3f5f"
            },
            "type": "carpet"
           }
          ],
          "choropleth": [
           {
            "colorbar": {
             "outlinewidth": 0,
             "ticks": ""
            },
            "type": "choropleth"
           }
          ],
          "contour": [
           {
            "colorbar": {
             "outlinewidth": 0,
             "ticks": ""
            },
            "colorscale": [
             [
              0,
              "#0d0887"
             ],
             [
              0.1111111111111111,
              "#46039f"
             ],
             [
              0.2222222222222222,
              "#7201a8"
             ],
             [
              0.3333333333333333,
              "#9c179e"
             ],
             [
              0.4444444444444444,
              "#bd3786"
             ],
             [
              0.5555555555555556,
              "#d8576b"
             ],
             [
              0.6666666666666666,
              "#ed7953"
             ],
             [
              0.7777777777777778,
              "#fb9f3a"
             ],
             [
              0.8888888888888888,
              "#fdca26"
             ],
             [
              1,
              "#f0f921"
             ]
            ],
            "type": "contour"
           }
          ],
          "contourcarpet": [
           {
            "colorbar": {
             "outlinewidth": 0,
             "ticks": ""
            },
            "type": "contourcarpet"
           }
          ],
          "heatmap": [
           {
            "colorbar": {
             "outlinewidth": 0,
             "ticks": ""
            },
            "colorscale": [
             [
              0,
              "#0d0887"
             ],
             [
              0.1111111111111111,
              "#46039f"
             ],
             [
              0.2222222222222222,
              "#7201a8"
             ],
             [
              0.3333333333333333,
              "#9c179e"
             ],
             [
              0.4444444444444444,
              "#bd3786"
             ],
             [
              0.5555555555555556,
              "#d8576b"
             ],
             [
              0.6666666666666666,
              "#ed7953"
             ],
             [
              0.7777777777777778,
              "#fb9f3a"
             ],
             [
              0.8888888888888888,
              "#fdca26"
             ],
             [
              1,
              "#f0f921"
             ]
            ],
            "type": "heatmap"
           }
          ],
          "heatmapgl": [
           {
            "colorbar": {
             "outlinewidth": 0,
             "ticks": ""
            },
            "colorscale": [
             [
              0,
              "#0d0887"
             ],
             [
              0.1111111111111111,
              "#46039f"
             ],
             [
              0.2222222222222222,
              "#7201a8"
             ],
             [
              0.3333333333333333,
              "#9c179e"
             ],
             [
              0.4444444444444444,
              "#bd3786"
             ],
             [
              0.5555555555555556,
              "#d8576b"
             ],
             [
              0.6666666666666666,
              "#ed7953"
             ],
             [
              0.7777777777777778,
              "#fb9f3a"
             ],
             [
              0.8888888888888888,
              "#fdca26"
             ],
             [
              1,
              "#f0f921"
             ]
            ],
            "type": "heatmapgl"
           }
          ],
          "histogram": [
           {
            "marker": {
             "pattern": {
              "fillmode": "overlay",
              "size": 10,
              "solidity": 0.2
             }
            },
            "type": "histogram"
           }
          ],
          "histogram2d": [
           {
            "colorbar": {
             "outlinewidth": 0,
             "ticks": ""
            },
            "colorscale": [
             [
              0,
              "#0d0887"
             ],
             [
              0.1111111111111111,
              "#46039f"
             ],
             [
              0.2222222222222222,
              "#7201a8"
             ],
             [
              0.3333333333333333,
              "#9c179e"
             ],
             [
              0.4444444444444444,
              "#bd3786"
             ],
             [
              0.5555555555555556,
              "#d8576b"
             ],
             [
              0.6666666666666666,
              "#ed7953"
             ],
             [
              0.7777777777777778,
              "#fb9f3a"
             ],
             [
              0.8888888888888888,
              "#fdca26"
             ],
             [
              1,
              "#f0f921"
             ]
            ],
            "type": "histogram2d"
           }
          ],
          "histogram2dcontour": [
           {
            "colorbar": {
             "outlinewidth": 0,
             "ticks": ""
            },
            "colorscale": [
             [
              0,
              "#0d0887"
             ],
             [
              0.1111111111111111,
              "#46039f"
             ],
             [
              0.2222222222222222,
              "#7201a8"
             ],
             [
              0.3333333333333333,
              "#9c179e"
             ],
             [
              0.4444444444444444,
              "#bd3786"
             ],
             [
              0.5555555555555556,
              "#d8576b"
             ],
             [
              0.6666666666666666,
              "#ed7953"
             ],
             [
              0.7777777777777778,
              "#fb9f3a"
             ],
             [
              0.8888888888888888,
              "#fdca26"
             ],
             [
              1,
              "#f0f921"
             ]
            ],
            "type": "histogram2dcontour"
           }
          ],
          "mesh3d": [
           {
            "colorbar": {
             "outlinewidth": 0,
             "ticks": ""
            },
            "type": "mesh3d"
           }
          ],
          "parcoords": [
           {
            "line": {
             "colorbar": {
              "outlinewidth": 0,
              "ticks": ""
             }
            },
            "type": "parcoords"
           }
          ],
          "pie": [
           {
            "automargin": true,
            "type": "pie"
           }
          ],
          "scatter": [
           {
            "marker": {
             "colorbar": {
              "outlinewidth": 0,
              "ticks": ""
             }
            },
            "type": "scatter"
           }
          ],
          "scatter3d": [
           {
            "line": {
             "colorbar": {
              "outlinewidth": 0,
              "ticks": ""
             }
            },
            "marker": {
             "colorbar": {
              "outlinewidth": 0,
              "ticks": ""
             }
            },
            "type": "scatter3d"
           }
          ],
          "scattercarpet": [
           {
            "marker": {
             "colorbar": {
              "outlinewidth": 0,
              "ticks": ""
             }
            },
            "type": "scattercarpet"
           }
          ],
          "scattergeo": [
           {
            "marker": {
             "colorbar": {
              "outlinewidth": 0,
              "ticks": ""
             }
            },
            "type": "scattergeo"
           }
          ],
          "scattergl": [
           {
            "marker": {
             "colorbar": {
              "outlinewidth": 0,
              "ticks": ""
             }
            },
            "type": "scattergl"
           }
          ],
          "scattermapbox": [
           {
            "marker": {
             "colorbar": {
              "outlinewidth": 0,
              "ticks": ""
             }
            },
            "type": "scattermapbox"
           }
          ],
          "scatterpolar": [
           {
            "marker": {
             "colorbar": {
              "outlinewidth": 0,
              "ticks": ""
             }
            },
            "type": "scatterpolar"
           }
          ],
          "scatterpolargl": [
           {
            "marker": {
             "colorbar": {
              "outlinewidth": 0,
              "ticks": ""
             }
            },
            "type": "scatterpolargl"
           }
          ],
          "scatterternary": [
           {
            "marker": {
             "colorbar": {
              "outlinewidth": 0,
              "ticks": ""
             }
            },
            "type": "scatterternary"
           }
          ],
          "surface": [
           {
            "colorbar": {
             "outlinewidth": 0,
             "ticks": ""
            },
            "colorscale": [
             [
              0,
              "#0d0887"
             ],
             [
              0.1111111111111111,
              "#46039f"
             ],
             [
              0.2222222222222222,
              "#7201a8"
             ],
             [
              0.3333333333333333,
              "#9c179e"
             ],
             [
              0.4444444444444444,
              "#bd3786"
             ],
             [
              0.5555555555555556,
              "#d8576b"
             ],
             [
              0.6666666666666666,
              "#ed7953"
             ],
             [
              0.7777777777777778,
              "#fb9f3a"
             ],
             [
              0.8888888888888888,
              "#fdca26"
             ],
             [
              1,
              "#f0f921"
             ]
            ],
            "type": "surface"
           }
          ],
          "table": [
           {
            "cells": {
             "fill": {
              "color": "#EBF0F8"
             },
             "line": {
              "color": "white"
             }
            },
            "header": {
             "fill": {
              "color": "#C8D4E3"
             },
             "line": {
              "color": "white"
             }
            },
            "type": "table"
           }
          ]
         },
         "layout": {
          "annotationdefaults": {
           "arrowcolor": "#2a3f5f",
           "arrowhead": 0,
           "arrowwidth": 1
          },
          "autotypenumbers": "strict",
          "coloraxis": {
           "colorbar": {
            "outlinewidth": 0,
            "ticks": ""
           }
          },
          "colorscale": {
           "diverging": [
            [
             0,
             "#8e0152"
            ],
            [
             0.1,
             "#c51b7d"
            ],
            [
             0.2,
             "#de77ae"
            ],
            [
             0.3,
             "#f1b6da"
            ],
            [
             0.4,
             "#fde0ef"
            ],
            [
             0.5,
             "#f7f7f7"
            ],
            [
             0.6,
             "#e6f5d0"
            ],
            [
             0.7,
             "#b8e186"
            ],
            [
             0.8,
             "#7fbc41"
            ],
            [
             0.9,
             "#4d9221"
            ],
            [
             1,
             "#276419"
            ]
           ],
           "sequential": [
            [
             0,
             "#0d0887"
            ],
            [
             0.1111111111111111,
             "#46039f"
            ],
            [
             0.2222222222222222,
             "#7201a8"
            ],
            [
             0.3333333333333333,
             "#9c179e"
            ],
            [
             0.4444444444444444,
             "#bd3786"
            ],
            [
             0.5555555555555556,
             "#d8576b"
            ],
            [
             0.6666666666666666,
             "#ed7953"
            ],
            [
             0.7777777777777778,
             "#fb9f3a"
            ],
            [
             0.8888888888888888,
             "#fdca26"
            ],
            [
             1,
             "#f0f921"
            ]
           ],
           "sequentialminus": [
            [
             0,
             "#0d0887"
            ],
            [
             0.1111111111111111,
             "#46039f"
            ],
            [
             0.2222222222222222,
             "#7201a8"
            ],
            [
             0.3333333333333333,
             "#9c179e"
            ],
            [
             0.4444444444444444,
             "#bd3786"
            ],
            [
             0.5555555555555556,
             "#d8576b"
            ],
            [
             0.6666666666666666,
             "#ed7953"
            ],
            [
             0.7777777777777778,
             "#fb9f3a"
            ],
            [
             0.8888888888888888,
             "#fdca26"
            ],
            [
             1,
             "#f0f921"
            ]
           ]
          },
          "colorway": [
           "#636efa",
           "#EF553B",
           "#00cc96",
           "#ab63fa",
           "#FFA15A",
           "#19d3f3",
           "#FF6692",
           "#B6E880",
           "#FF97FF",
           "#FECB52"
          ],
          "font": {
           "color": "#2a3f5f"
          },
          "geo": {
           "bgcolor": "white",
           "lakecolor": "white",
           "landcolor": "#E5ECF6",
           "showlakes": true,
           "showland": true,
           "subunitcolor": "white"
          },
          "hoverlabel": {
           "align": "left"
          },
          "hovermode": "closest",
          "mapbox": {
           "style": "light"
          },
          "paper_bgcolor": "white",
          "plot_bgcolor": "#E5ECF6",
          "polar": {
           "angularaxis": {
            "gridcolor": "white",
            "linecolor": "white",
            "ticks": ""
           },
           "bgcolor": "#E5ECF6",
           "radialaxis": {
            "gridcolor": "white",
            "linecolor": "white",
            "ticks": ""
           }
          },
          "scene": {
           "xaxis": {
            "backgroundcolor": "#E5ECF6",
            "gridcolor": "white",
            "gridwidth": 2,
            "linecolor": "white",
            "showbackground": true,
            "ticks": "",
            "zerolinecolor": "white"
           },
           "yaxis": {
            "backgroundcolor": "#E5ECF6",
            "gridcolor": "white",
            "gridwidth": 2,
            "linecolor": "white",
            "showbackground": true,
            "ticks": "",
            "zerolinecolor": "white"
           },
           "zaxis": {
            "backgroundcolor": "#E5ECF6",
            "gridcolor": "white",
            "gridwidth": 2,
            "linecolor": "white",
            "showbackground": true,
            "ticks": "",
            "zerolinecolor": "white"
           }
          },
          "shapedefaults": {
           "line": {
            "color": "#2a3f5f"
           }
          },
          "ternary": {
           "aaxis": {
            "gridcolor": "white",
            "linecolor": "white",
            "ticks": ""
           },
           "baxis": {
            "gridcolor": "white",
            "linecolor": "white",
            "ticks": ""
           },
           "bgcolor": "#E5ECF6",
           "caxis": {
            "gridcolor": "white",
            "linecolor": "white",
            "ticks": ""
           }
          },
          "title": {
           "x": 0.05
          },
          "xaxis": {
           "automargin": true,
           "gridcolor": "white",
           "linecolor": "white",
           "ticks": "",
           "title": {
            "standoff": 15
           },
           "zerolinecolor": "white",
           "zerolinewidth": 2
          },
          "yaxis": {
           "automargin": true,
           "gridcolor": "white",
           "linecolor": "white",
           "ticks": "",
           "title": {
            "standoff": 15
           },
           "zerolinecolor": "white",
           "zerolinewidth": 2
          }
         }
        },
        "xaxis": {
         "anchor": "y",
         "domain": [
          0,
          1
         ],
         "title": {
          "text": "tSNE1"
         }
        },
        "yaxis": {
         "anchor": "x",
         "domain": [
          0,
          1
         ],
         "title": {
          "text": "tSNE2"
         }
        }
       }
      }
     },
     "metadata": {},
     "output_type": "display_data"
    }
   ],
   "source": [
    "fig = px.scatter(tSNE_df, x='tSNE1', y='tSNE2', color=tSNE_df['maintenance'])\n",
    "fig.show()"
   ]
  },
  {
   "cell_type": "code",
   "execution_count": 66,
   "metadata": {},
   "outputs": [],
   "source": [
    "# num_runs = 20\n",
    "\n",
    "# tSNE_frames = {}\n",
    "\n",
    "# for run in num_runs:\n",
    "#     X_embedded = TSNE(init='random', learning_rate='auto').fit_transform(X)\n",
    "#     tSNE_df = pd.concat([maintenance_df, seasons, days, pd.DataFrame(X_embedded, columns=['tSNE1', 'tSNE2'])], axis=1)\n",
    "#     tSNE_frames[f'{run}'] = tSNE_df\n",
    "\n",
    "# avg_tSNE_df = #get mean of all dataframes in dictionary 'tSNE1' and 'tSNE2' values"
   ]
  },
  {
   "cell_type": "code",
   "execution_count": 67,
   "metadata": {},
   "outputs": [],
   "source": [
    "# Clustering\n",
    "\n",
    "from sklearn.cluster import KMeans\n",
    "\n",
    "num_max_clusters = 10\n",
    "\n",
    "#Z meazaurement of inertia = distance between data point and center of its cluster\n",
    "def cluster(n_clusters):\n",
    "    kmeans = KMeans(n_clusters=n_clusters)\n",
    "    kmeans.fit(X_embedded)\n",
    "    Z = kmeans.predict(X_embedded)\n",
    "    return kmeans, Z\n",
    "\n",
    "inertias = np.zeros(num_max_clusters)\n",
    "for i in range(1, num_max_clusters):\n",
    "    kmeans, Z = cluster(i)\n",
    "    inertias[i] = kmeans.inertia_"
   ]
  },
  {
   "cell_type": "markdown",
   "metadata": {},
   "source": [
    "https://plotly.com/python/v3/ipython-notebooks/baltimore-vital-signs/"
   ]
  },
  {
   "cell_type": "code",
   "execution_count": 85,
   "metadata": {},
   "outputs": [],
   "source": [
    "# Trying to validate number of clusters\n",
    "# import plotly.graph_objects as pgo\n",
    "\n",
    "# x_values = []\n",
    "# x_values.append(range(1, num_max_clusters))\n",
    "# print(x_values)\n",
    "# data = pgo.Data([pgo.Scatter(x=x_values, y=inertias[1:])])\n",
    "\n",
    "\n",
    "# layout = pgo.Layout(xaxis=pgo.layout.XAxis(title='Number of Clusters', range=[0, num_max_clusters]),\n",
    "#                     yaxis=pgo.layout.YAxis(title='Inertia'))\n",
    "\n",
    "# fig = pgo.Figure(data=data, layout=layout)\n",
    "# fig.show()"
   ]
  },
  {
   "cell_type": "code",
   "execution_count": 90,
   "metadata": {},
   "outputs": [
    {
     "name": "stdout",
     "output_type": "stream",
     "text": [
      "KMeans Cluster Centers:  [[-1.2256452 -6.956295 ]\n",
      " [ 1.7288316  8.775956 ]]\n"
     ]
    },
    {
     "ename": "ValueError",
     "evalue": "\n    Invalid value of type 'builtins.range' received for the 'color' property of scatter.marker\n        Received value: range(0, 2)\n\n    The 'color' property is a color and may be specified as:\n      - A hex string (e.g. '#ff0000')\n      - An rgb/rgba string (e.g. 'rgb(255,0,0)')\n      - An hsl/hsla string (e.g. 'hsl(0,100%,50%)')\n      - An hsv/hsva string (e.g. 'hsv(0,100%,100%)')\n      - A named CSS color:\n            aliceblue, antiquewhite, aqua, aquamarine, azure,\n            beige, bisque, black, blanchedalmond, blue,\n            blueviolet, brown, burlywood, cadetblue,\n            chartreuse, chocolate, coral, cornflowerblue,\n            cornsilk, crimson, cyan, darkblue, darkcyan,\n            darkgoldenrod, darkgray, darkgrey, darkgreen,\n            darkkhaki, darkmagenta, darkolivegreen, darkorange,\n            darkorchid, darkred, darksalmon, darkseagreen,\n            darkslateblue, darkslategray, darkslategrey,\n            darkturquoise, darkviolet, deeppink, deepskyblue,\n            dimgray, dimgrey, dodgerblue, firebrick,\n            floralwhite, forestgreen, fuchsia, gainsboro,\n            ghostwhite, gold, goldenrod, gray, grey, green,\n            greenyellow, honeydew, hotpink, indianred, indigo,\n            ivory, khaki, lavender, lavenderblush, lawngreen,\n            lemonchiffon, lightblue, lightcoral, lightcyan,\n            lightgoldenrodyellow, lightgray, lightgrey,\n            lightgreen, lightpink, lightsalmon, lightseagreen,\n            lightskyblue, lightslategray, lightslategrey,\n            lightsteelblue, lightyellow, lime, limegreen,\n            linen, magenta, maroon, mediumaquamarine,\n            mediumblue, mediumorchid, mediumpurple,\n            mediumseagreen, mediumslateblue, mediumspringgreen,\n            mediumturquoise, mediumvioletred, midnightblue,\n            mintcream, mistyrose, moccasin, navajowhite, navy,\n            oldlace, olive, olivedrab, orange, orangered,\n            orchid, palegoldenrod, palegreen, paleturquoise,\n            palevioletred, papayawhip, peachpuff, peru, pink,\n            plum, powderblue, purple, red, rosybrown,\n            royalblue, rebeccapurple, saddlebrown, salmon,\n            sandybrown, seagreen, seashell, sienna, silver,\n            skyblue, slateblue, slategray, slategrey, snow,\n            springgreen, steelblue, tan, teal, thistle, tomato,\n            turquoise, violet, wheat, white, whitesmoke,\n            yellow, yellowgreen\n      - A number that will be interpreted as a color\n        according to scatter.marker.colorscale\n      - A list or array of any of the above",
     "output_type": "error",
     "traceback": [
      "\u001b[0;31m---------------------------------------------------------------------------\u001b[0m",
      "\u001b[0;31mValueError\u001b[0m                                Traceback (most recent call last)",
      "\u001b[1;32m/Users/madea/Desktop/DS4A/data4all-team6/Subway_Shutdown_Resulting_Behavior.ipynb Cell 27\u001b[0m in \u001b[0;36m<cell line: 7>\u001b[0;34m()\u001b[0m\n\u001b[1;32m      <a href='vscode-notebook-cell:/Users/madea/Desktop/DS4A/data4all-team6/Subway_Shutdown_Resulting_Behavior.ipynb#ch0000024?line=3'>4</a>\u001b[0m kmeans \u001b[39m=\u001b[39m KMeans(n_clusters\u001b[39m=\u001b[39m\u001b[39m2\u001b[39m, random_state\u001b[39m=\u001b[39m\u001b[39m0\u001b[39m)\u001b[39m.\u001b[39mfit(X_embedded)\n\u001b[1;32m      <a href='vscode-notebook-cell:/Users/madea/Desktop/DS4A/data4all-team6/Subway_Shutdown_Resulting_Behavior.ipynb#ch0000024?line=4'>5</a>\u001b[0m \u001b[39mprint\u001b[39m(\u001b[39m'\u001b[39m\u001b[39mKMeans Cluster Centers: \u001b[39m\u001b[39m'\u001b[39m, kmeans\u001b[39m.\u001b[39mcluster_centers_)\n\u001b[1;32m      <a href='vscode-notebook-cell:/Users/madea/Desktop/DS4A/data4all-team6/Subway_Shutdown_Resulting_Behavior.ipynb#ch0000024?line=6'>7</a>\u001b[0m fig3 \u001b[39m=\u001b[39m pgo\u001b[39m.\u001b[39mScatter(x\u001b[39m=\u001b[39mX_embedded[:, \u001b[39m0\u001b[39m], y\u001b[39m=\u001b[39mX_embedded[:, \u001b[39m1\u001b[39m],\n\u001b[1;32m      <a href='vscode-notebook-cell:/Users/madea/Desktop/DS4A/data4all-team6/Subway_Shutdown_Resulting_Behavior.ipynb#ch0000024?line=7'>8</a>\u001b[0m                   mode\u001b[39m=\u001b[39m\u001b[39m'\u001b[39m\u001b[39mmarkers\u001b[39m\u001b[39m'\u001b[39m,\n\u001b[0;32m----> <a href='vscode-notebook-cell:/Users/madea/Desktop/DS4A/data4all-team6/Subway_Shutdown_Resulting_Behavior.ipynb#ch0000024?line=8'>9</a>\u001b[0m                   marker\u001b[39m=\u001b[39mpgo\u001b[39m.\u001b[39;49mscatter\u001b[39m.\u001b[39;49mMarker(symbol\u001b[39m=\u001b[39;49m\u001b[39m'\u001b[39;49m\u001b[39mx\u001b[39;49m\u001b[39m'\u001b[39;49m, size\u001b[39m=\u001b[39;49m\u001b[39m4\u001b[39;49m, color\u001b[39m=\u001b[39;49m\u001b[39mrange\u001b[39;49m(num_clusters)))\n\u001b[1;32m     <a href='vscode-notebook-cell:/Users/madea/Desktop/DS4A/data4all-team6/Subway_Shutdown_Resulting_Behavior.ipynb#ch0000024?line=9'>10</a>\u001b[0m \u001b[39m# fig3 = px.scatter(kmeans.cluster_centers_[:,0], kmeans.cluster_centers_[:,1])\u001b[39;00m\n\u001b[1;32m     <a href='vscode-notebook-cell:/Users/madea/Desktop/DS4A/data4all-team6/Subway_Shutdown_Resulting_Behavior.ipynb#ch0000024?line=11'>12</a>\u001b[0m fig3\u001b[39m.\u001b[39mshow()\n",
      "File \u001b[0;32m~/opt/anaconda3/lib/python3.9/site-packages/plotly/graph_objs/scatter/_marker.py:1426\u001b[0m, in \u001b[0;36mMarker.__init__\u001b[0;34m(self, arg, autocolorscale, cauto, cmax, cmid, cmin, color, coloraxis, colorbar, colorscale, colorsrc, gradient, line, maxdisplayed, opacity, opacitysrc, reversescale, showscale, size, sizemin, sizemode, sizeref, sizesrc, symbol, symbolsrc, **kwargs)\u001b[0m\n\u001b[1;32m   1424\u001b[0m _v \u001b[39m=\u001b[39m color \u001b[39mif\u001b[39;00m color \u001b[39mis\u001b[39;00m \u001b[39mnot\u001b[39;00m \u001b[39mNone\u001b[39;00m \u001b[39melse\u001b[39;00m _v\n\u001b[1;32m   1425\u001b[0m \u001b[39mif\u001b[39;00m _v \u001b[39mis\u001b[39;00m \u001b[39mnot\u001b[39;00m \u001b[39mNone\u001b[39;00m:\n\u001b[0;32m-> 1426\u001b[0m     \u001b[39mself\u001b[39m[\u001b[39m\"\u001b[39m\u001b[39mcolor\u001b[39m\u001b[39m\"\u001b[39m] \u001b[39m=\u001b[39m _v\n\u001b[1;32m   1427\u001b[0m _v \u001b[39m=\u001b[39m arg\u001b[39m.\u001b[39mpop(\u001b[39m\"\u001b[39m\u001b[39mcoloraxis\u001b[39m\u001b[39m\"\u001b[39m, \u001b[39mNone\u001b[39;00m)\n\u001b[1;32m   1428\u001b[0m _v \u001b[39m=\u001b[39m coloraxis \u001b[39mif\u001b[39;00m coloraxis \u001b[39mis\u001b[39;00m \u001b[39mnot\u001b[39;00m \u001b[39mNone\u001b[39;00m \u001b[39melse\u001b[39;00m _v\n",
      "File \u001b[0;32m~/opt/anaconda3/lib/python3.9/site-packages/plotly/basedatatypes.py:4827\u001b[0m, in \u001b[0;36mBasePlotlyType.__setitem__\u001b[0;34m(self, prop, value)\u001b[0m\n\u001b[1;32m   4823\u001b[0m         \u001b[39mself\u001b[39m\u001b[39m.\u001b[39m_set_array_prop(prop, value)\n\u001b[1;32m   4825\u001b[0m     \u001b[39m# ### Handle simple property ###\u001b[39;00m\n\u001b[1;32m   4826\u001b[0m     \u001b[39melse\u001b[39;00m:\n\u001b[0;32m-> 4827\u001b[0m         \u001b[39mself\u001b[39;49m\u001b[39m.\u001b[39;49m_set_prop(prop, value)\n\u001b[1;32m   4828\u001b[0m \u001b[39melse\u001b[39;00m:\n\u001b[1;32m   4829\u001b[0m     \u001b[39m# Make sure properties dict is initialized\u001b[39;00m\n\u001b[1;32m   4830\u001b[0m     \u001b[39mself\u001b[39m\u001b[39m.\u001b[39m_init_props()\n",
      "File \u001b[0;32m~/opt/anaconda3/lib/python3.9/site-packages/plotly/basedatatypes.py:5171\u001b[0m, in \u001b[0;36mBasePlotlyType._set_prop\u001b[0;34m(self, prop, val)\u001b[0m\n\u001b[1;32m   5169\u001b[0m         \u001b[39mreturn\u001b[39;00m\n\u001b[1;32m   5170\u001b[0m     \u001b[39melse\u001b[39;00m:\n\u001b[0;32m-> 5171\u001b[0m         \u001b[39mraise\u001b[39;00m err\n\u001b[1;32m   5173\u001b[0m \u001b[39m# val is None\u001b[39;00m\n\u001b[1;32m   5174\u001b[0m \u001b[39m# -----------\u001b[39;00m\n\u001b[1;32m   5175\u001b[0m \u001b[39mif\u001b[39;00m val \u001b[39mis\u001b[39;00m \u001b[39mNone\u001b[39;00m:\n\u001b[1;32m   5176\u001b[0m     \u001b[39m# Check if we should send null update\u001b[39;00m\n",
      "File \u001b[0;32m~/opt/anaconda3/lib/python3.9/site-packages/plotly/basedatatypes.py:5166\u001b[0m, in \u001b[0;36mBasePlotlyType._set_prop\u001b[0;34m(self, prop, val)\u001b[0m\n\u001b[1;32m   5163\u001b[0m validator \u001b[39m=\u001b[39m \u001b[39mself\u001b[39m\u001b[39m.\u001b[39m_get_validator(prop)\n\u001b[1;32m   5165\u001b[0m \u001b[39mtry\u001b[39;00m:\n\u001b[0;32m-> 5166\u001b[0m     val \u001b[39m=\u001b[39m validator\u001b[39m.\u001b[39;49mvalidate_coerce(val)\n\u001b[1;32m   5167\u001b[0m \u001b[39mexcept\u001b[39;00m \u001b[39mValueError\u001b[39;00m \u001b[39mas\u001b[39;00m err:\n\u001b[1;32m   5168\u001b[0m     \u001b[39mif\u001b[39;00m \u001b[39mself\u001b[39m\u001b[39m.\u001b[39m_skip_invalid:\n",
      "File \u001b[0;32m~/opt/anaconda3/lib/python3.9/site-packages/_plotly_utils/basevalidators.py:1382\u001b[0m, in \u001b[0;36mColorValidator.validate_coerce\u001b[0;34m(self, v, should_raise)\u001b[0m\n\u001b[1;32m   1380\u001b[0m     validated_v \u001b[39m=\u001b[39m \u001b[39mself\u001b[39m\u001b[39m.\u001b[39mvc_scalar(v)\n\u001b[1;32m   1381\u001b[0m     \u001b[39mif\u001b[39;00m validated_v \u001b[39mis\u001b[39;00m \u001b[39mNone\u001b[39;00m \u001b[39mand\u001b[39;00m should_raise:\n\u001b[0;32m-> 1382\u001b[0m         \u001b[39mself\u001b[39;49m\u001b[39m.\u001b[39;49mraise_invalid_val(v)\n\u001b[1;32m   1384\u001b[0m     v \u001b[39m=\u001b[39m validated_v\n\u001b[1;32m   1386\u001b[0m \u001b[39mreturn\u001b[39;00m v\n",
      "File \u001b[0;32m~/opt/anaconda3/lib/python3.9/site-packages/_plotly_utils/basevalidators.py:289\u001b[0m, in \u001b[0;36mBaseValidator.raise_invalid_val\u001b[0;34m(self, v, inds)\u001b[0m\n\u001b[1;32m    286\u001b[0m             \u001b[39mfor\u001b[39;00m i \u001b[39min\u001b[39;00m inds:\n\u001b[1;32m    287\u001b[0m                 name \u001b[39m+\u001b[39m\u001b[39m=\u001b[39m \u001b[39m\"\u001b[39m\u001b[39m[\u001b[39m\u001b[39m\"\u001b[39m \u001b[39m+\u001b[39m \u001b[39mstr\u001b[39m(i) \u001b[39m+\u001b[39m \u001b[39m\"\u001b[39m\u001b[39m]\u001b[39m\u001b[39m\"\u001b[39m\n\u001b[0;32m--> 289\u001b[0m         \u001b[39mraise\u001b[39;00m \u001b[39mValueError\u001b[39;00m(\n\u001b[1;32m    290\u001b[0m             \u001b[39m\"\"\"\u001b[39;00m\n\u001b[1;32m    291\u001b[0m \u001b[39m    Invalid value of type {typ} received for the '{name}' property of {pname}\u001b[39;00m\n\u001b[1;32m    292\u001b[0m \u001b[39m        Received value: {v}\u001b[39;00m\n\u001b[1;32m    293\u001b[0m \n\u001b[1;32m    294\u001b[0m \u001b[39m{valid_clr_desc}\"\"\"\u001b[39;00m\u001b[39m.\u001b[39mformat(\n\u001b[1;32m    295\u001b[0m                 name\u001b[39m=\u001b[39mname,\n\u001b[1;32m    296\u001b[0m                 pname\u001b[39m=\u001b[39m\u001b[39mself\u001b[39m\u001b[39m.\u001b[39mparent_name,\n\u001b[1;32m    297\u001b[0m                 typ\u001b[39m=\u001b[39mtype_str(v),\n\u001b[1;32m    298\u001b[0m                 v\u001b[39m=\u001b[39m\u001b[39mrepr\u001b[39m(v),\n\u001b[1;32m    299\u001b[0m                 valid_clr_desc\u001b[39m=\u001b[39m\u001b[39mself\u001b[39m\u001b[39m.\u001b[39mdescription(),\n\u001b[1;32m    300\u001b[0m             )\n\u001b[1;32m    301\u001b[0m         )\n",
      "\u001b[0;31mValueError\u001b[0m: \n    Invalid value of type 'builtins.range' received for the 'color' property of scatter.marker\n        Received value: range(0, 2)\n\n    The 'color' property is a color and may be specified as:\n      - A hex string (e.g. '#ff0000')\n      - An rgb/rgba string (e.g. 'rgb(255,0,0)')\n      - An hsl/hsla string (e.g. 'hsl(0,100%,50%)')\n      - An hsv/hsva string (e.g. 'hsv(0,100%,100%)')\n      - A named CSS color:\n            aliceblue, antiquewhite, aqua, aquamarine, azure,\n            beige, bisque, black, blanchedalmond, blue,\n            blueviolet, brown, burlywood, cadetblue,\n            chartreuse, chocolate, coral, cornflowerblue,\n            cornsilk, crimson, cyan, darkblue, darkcyan,\n            darkgoldenrod, darkgray, darkgrey, darkgreen,\n            darkkhaki, darkmagenta, darkolivegreen, darkorange,\n            darkorchid, darkred, darksalmon, darkseagreen,\n            darkslateblue, darkslategray, darkslategrey,\n            darkturquoise, darkviolet, deeppink, deepskyblue,\n            dimgray, dimgrey, dodgerblue, firebrick,\n            floralwhite, forestgreen, fuchsia, gainsboro,\n            ghostwhite, gold, goldenrod, gray, grey, green,\n            greenyellow, honeydew, hotpink, indianred, indigo,\n            ivory, khaki, lavender, lavenderblush, lawngreen,\n            lemonchiffon, lightblue, lightcoral, lightcyan,\n            lightgoldenrodyellow, lightgray, lightgrey,\n            lightgreen, lightpink, lightsalmon, lightseagreen,\n            lightskyblue, lightslategray, lightslategrey,\n            lightsteelblue, lightyellow, lime, limegreen,\n            linen, magenta, maroon, mediumaquamarine,\n            mediumblue, mediumorchid, mediumpurple,\n            mediumseagreen, mediumslateblue, mediumspringgreen,\n            mediumturquoise, mediumvioletred, midnightblue,\n            mintcream, mistyrose, moccasin, navajowhite, navy,\n            oldlace, olive, olivedrab, orange, orangered,\n            orchid, palegoldenrod, palegreen, paleturquoise,\n            palevioletred, papayawhip, peachpuff, peru, pink,\n            plum, powderblue, purple, red, rosybrown,\n            royalblue, rebeccapurple, saddlebrown, salmon,\n            sandybrown, seagreen, seashell, sienna, silver,\n            skyblue, slateblue, slategray, slategrey, snow,\n            springgreen, steelblue, tan, teal, thistle, tomato,\n            turquoise, violet, wheat, white, whitesmoke,\n            yellow, yellowgreen\n      - A number that will be interpreted as a color\n        according to scatter.marker.colorscale\n      - A list or array of any of the above"
     ]
    }
   ],
   "source": [
    "import plotly.graph_objects as pgo\n",
    "\n",
    "num_clusters = 2\n",
    "kmeans = KMeans(n_clusters=2, random_state=0).fit(X_embedded)\n",
    "print('KMeans Cluster Centers: ', kmeans.cluster_centers_)\n",
    "\n",
    "fig3 = pgo.Scatter(x=X_embedded[:, 0], y=X_embedded[:, 1],\n",
    "                  mode='markers',\n",
    "                  marker=pgo.scatter.Marker(symbol='x', size=4, color=range(num_clusters)))\n",
    "# fig3 = px.scatter(kmeans.cluster_centers_[:,0], kmeans.cluster_centers_[:,1])\n",
    "\n",
    "fig3.show()"
   ]
  },
  {
   "cell_type": "code",
   "execution_count": null,
   "metadata": {},
   "outputs": [],
   "source": []
  }
 ],
 "metadata": {
  "kernelspec": {
   "display_name": "Python 3.9.12",
   "language": "python",
   "name": "python3"
  },
  "language_info": {
   "codemirror_mode": {
    "name": "ipython",
    "version": 3
   },
   "file_extension": ".py",
   "mimetype": "text/x-python",
   "name": "python",
   "nbconvert_exporter": "python",
   "pygments_lexer": "ipython3",
   "version": "3.9.12"
  },
  "orig_nbformat": 4,
  "vscode": {
   "interpreter": {
    "hash": "81c79486f737ff40ad99feb1c993b628851eb606307649a223d18e7f89d7b63e"
   }
  }
 },
 "nbformat": 4,
 "nbformat_minor": 2
}
