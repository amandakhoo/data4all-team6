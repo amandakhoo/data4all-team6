{
 "cells": [
  {
   "cell_type": "code",
   "execution_count": 37,
   "metadata": {},
   "outputs": [],
   "source": [
    "import math\n",
    "import pandas as pd\n",
    "import numpy as np\n",
    "import matplotlib.pyplot as plt\n",
    "import seaborn as sns"
   ]
  },
  {
   "cell_type": "code",
   "execution_count": 38,
   "metadata": {},
   "outputs": [
    {
     "name": "stdout",
     "output_type": "stream",
     "text": [
      "/Users/madea/Desktop/DS4A/data/merged_RRI_SRI_data.csv\n"
     ]
    }
   ],
   "source": [
    "#Get data from file\n",
    "cwd = \"/Users/madea/Desktop/DS4A/data/\"\n",
    "filename = \"merged_RRI_SRI_data.csv\"\n",
    "filepath = cwd + filename\n",
    "print(filepath)"
   ]
  },
  {
   "cell_type": "code",
   "execution_count": 53,
   "metadata": {},
   "outputs": [],
   "source": [
    "SRI_RRI_df = pd.read_csv(filepath)\n",
    "SRI_RRI_df = SRI_RRI_df[SRI_RRI_df.notna()]"
   ]
  },
  {
   "cell_type": "code",
   "execution_count": 54,
   "metadata": {},
   "outputs": [
    {
     "name": "stdout",
     "output_type": "stream",
     "text": [
      "Number of Features: 1191\n",
      "Number of Samples:  1091\n",
      "         date  segment_1307_max_SRI  segment_873_max_SRI  segment_863_max_SRI  \\\n",
      "0  2018-03-08              3.718594             3.457253             4.562368   \n",
      "1  2018-03-09              4.522901             3.488016             2.997927   \n",
      "2  2018-03-10              6.107322             1.234070             3.085771   \n",
      "3  2018-03-11              3.873077             1.261212             6.840369   \n",
      "4  2018-03-12              5.228657             3.413127             4.470042   \n",
      "\n",
      "   segment_1061_max_SRI  segment_235_max_SRI  segment_225_max_SRI  \\\n",
      "0              0.044862             2.945760             4.199607   \n",
      "1              0.044862             2.187291             5.328785   \n",
      "2              0.044862             2.719971             5.989625   \n",
      "3              0.044862             3.189822             5.489281   \n",
      "4              0.044862             3.863130             4.415463   \n",
      "\n",
      "   segment_460_max_SRI  segment_518_max_SRI  segment_470_max_SRI  ...  \\\n",
      "0             3.028331             3.724648             4.429002  ...   \n",
      "1             3.858570             3.859563             5.073305  ...   \n",
      "2             1.741679             3.162777             4.063662  ...   \n",
      "3             1.741679             4.638495             6.471925  ...   \n",
      "4             4.612428             4.991392             4.664407  ...   \n",
      "\n",
      "   station_40840_max_RRI  station_40850_max_RRI  station_40610_max_RRI  \\\n",
      "0               0.940419               1.093750               0.635217   \n",
      "1               1.289443               2.337111               0.554911   \n",
      "2               3.112223               3.834196               3.938322   \n",
      "3               4.748849               4.101958               4.668180   \n",
      "4               1.214632               0.721219               0.674600   \n",
      "\n",
      "   station_40600_max_RRI  station_41690_max_RRI  station_41680_max_RRI  \\\n",
      "0               0.460772               1.056587               0.156348   \n",
      "1               0.626054               0.820090               1.126202   \n",
      "2               3.936778               1.876850               3.942463   \n",
      "3               4.061820               2.394439               4.565925   \n",
      "4               0.515856               1.015444               0.551766   \n",
      "\n",
      "   station_40280_max_RRI  station_40290_max_RRI  station_41200_max_RRI  \\\n",
      "0               1.037322               1.469957               1.257610   \n",
      "1               0.606894               1.308201               0.732345   \n",
      "2               3.082432               2.434927               1.473967   \n",
      "3               3.578462               3.591185               3.080530   \n",
      "4               1.174367               1.354263               0.579096   \n",
      "\n",
      "   station_41210_max_RRI  \n",
      "0               0.466765  \n",
      "1               0.975567  \n",
      "2               3.281961  \n",
      "3               4.589329  \n",
      "4               0.477413  \n",
      "\n",
      "[5 rows x 1191 columns]\n"
     ]
    }
   ],
   "source": [
    "print(\"Number of Features:\", len(SRI_RRI_df.columns))\n",
    "print(\"Number of Samples: \", len(SRI_RRI_df.index))\n",
    "print(SRI_RRI_df.head(5))"
   ]
  },
  {
   "cell_type": "markdown",
   "metadata": {},
   "source": [
    "Considering each segment of the road and station of the subway as the feature. Sample points are respectively SRI and RRI for given day, date in time."
   ]
  },
  {
   "cell_type": "code",
   "execution_count": 99,
   "metadata": {},
   "outputs": [
    {
     "name": "stdout",
     "output_type": "stream",
     "text": [
      "Index(['date', 'segment_1307_max_SRI', 'segment_873_max_SRI',\n",
      "       'segment_863_max_SRI', 'segment_1061_max_SRI', 'segment_235_max_SRI',\n",
      "       'segment_225_max_SRI', 'segment_460_max_SRI', 'segment_518_max_SRI',\n",
      "       'segment_470_max_SRI',\n",
      "       ...\n",
      "       'station_40840_max_RRI', 'station_40850_max_RRI',\n",
      "       'station_40610_max_RRI', 'station_40600_max_RRI',\n",
      "       'station_41690_max_RRI', 'station_41680_max_RRI',\n",
      "       'station_40280_max_RRI', 'station_40290_max_RRI',\n",
      "       'station_41200_max_RRI', 'station_41210_max_RRI'],\n",
      "      dtype='object', length=1191)\n",
      "[[ 3.71859434  3.45725327  4.56236783 ...  1.46995743  1.25760969\n",
      "   0.46676522]\n",
      " [ 4.52290077  3.4880156   2.99792708 ...  1.30820061  0.73234454\n",
      "   0.97556654]\n",
      " [ 6.10732158  1.23406956  3.08577103 ...  2.43492688  1.47396656\n",
      "   3.28196059]\n",
      " ...\n",
      " [ 5.00027527  1.26121192  3.07582245 ... -1.14913715 -1.13862284\n",
      "  -1.94974363]\n",
      " [ 5.1207392   1.3205983   1.99847392 ...  2.28822288  1.41131448\n",
      "   2.69400324]\n",
      " [ 3.48198141  1.71525511  1.77454611 ...  2.6883569   1.86503962\n",
      "   3.39012931]]\n"
     ]
    }
   ],
   "source": [
    "from sklearn.preprocessing import StandardScaler\n",
    "from sklearn.decomposition import PCA\n",
    "\n",
    "copy_df = SRI_RRI_df.copy(deep=True)\n",
    "copy_df = copy_df.fillna(0)\n",
    "\n",
    "# train_percent = 0.7\n",
    "# total_num_samples = len(copy_df.index)\n",
    "# train_samples = math.ceil(train_percent * total_num_samples)\n",
    "\n",
    "# train_df = copy_df[0:train_samples].copy(deep=True)\n",
    "\n",
    "features = copy_df.columns[copy_df.columns != 'date']\n",
    "\n",
    "# train_df = train_df.dropna()\n",
    "x = copy_df.loc[:, features].values\n",
    "# y = copy_df.loc[:,['date']].values\n",
    "\n",
    "print(copy_df.columns)\n",
    "print(x)\n",
    "\n",
    "X = StandardScaler().fit_transform(x)\n"
   ]
  },
  {
   "cell_type": "code",
   "execution_count": 100,
   "metadata": {},
   "outputs": [
    {
     "name": "stdout",
     "output_type": "stream",
     "text": [
      "PCA Explained Variance Ratio: [0.11049072 0.08191194]\n",
      "PCA Singular Values: [378.26889848 325.69519219]\n"
     ]
    }
   ],
   "source": [
    "num_components = 2\n",
    "pca = PCA(n_components = num_components)\n",
    "principalComponents = pca.fit(X)\n",
    "\n",
    "\n",
    "print(\"PCA Explained Variance Ratio:\", pca.explained_variance_ratio_)\n",
    "print(\"PCA Singular Values:\", pca.singular_values_)"
   ]
  },
  {
   "cell_type": "code",
   "execution_count": 98,
   "metadata": {},
   "outputs": [
    {
     "ename": "ModuleNotFoundError",
     "evalue": "No module named 'plotly'",
     "output_type": "error",
     "traceback": [
      "\u001b[0;31m---------------------------------------------------------------------------\u001b[0m",
      "\u001b[0;31mModuleNotFoundError\u001b[0m                       Traceback (most recent call last)",
      "\u001b[0;32m<ipython-input-98-280d1d033495>\u001b[0m in \u001b[0;36m<module>\u001b[0;34m\u001b[0m\n\u001b[0;32m----> 1\u001b[0;31m \u001b[0;32mimport\u001b[0m \u001b[0mplotly\u001b[0m\u001b[0;34m.\u001b[0m\u001b[0mexpress\u001b[0m \u001b[0;32mas\u001b[0m \u001b[0mpx\u001b[0m\u001b[0;34m\u001b[0m\u001b[0;34m\u001b[0m\u001b[0m\n\u001b[0m\u001b[1;32m      2\u001b[0m \u001b[0;31m# visualize PCA https://plotly.com/python/pca-visualization/\u001b[0m\u001b[0;34m\u001b[0m\u001b[0;34m\u001b[0m\u001b[0;34m\u001b[0m\u001b[0m\n\u001b[1;32m      3\u001b[0m \u001b[0mtotal_variance\u001b[0m \u001b[0;34m=\u001b[0m \u001b[0mpca\u001b[0m\u001b[0;34m.\u001b[0m\u001b[0mexplained_variance_ratio_\u001b[0m\u001b[0;34m.\u001b[0m\u001b[0msum\u001b[0m\u001b[0;34m(\u001b[0m\u001b[0;34m)\u001b[0m \u001b[0;34m*\u001b[0m \u001b[0;36m100\u001b[0m\u001b[0;34m\u001b[0m\u001b[0;34m\u001b[0m\u001b[0m\n\u001b[1;32m      4\u001b[0m \u001b[0mlabels\u001b[0m \u001b[0;34m=\u001b[0m \u001b[0;34m{\u001b[0m\u001b[0mstr\u001b[0m\u001b[0;34m(\u001b[0m\u001b[0mi\u001b[0m\u001b[0;34m)\u001b[0m\u001b[0;34m:\u001b[0m\u001b[0;34mf\"PC {i+1}\"\u001b[0m \u001b[0;32mfor\u001b[0m \u001b[0mi\u001b[0m \u001b[0;32min\u001b[0m \u001b[0mrange\u001b[0m\u001b[0;34m(\u001b[0m\u001b[0mnum_components\u001b[0m\u001b[0;34m)\u001b[0m\u001b[0;34m}\u001b[0m\u001b[0;34m\u001b[0m\u001b[0;34m\u001b[0m\u001b[0m\n\u001b[1;32m      5\u001b[0m \u001b[0mlabels\u001b[0m\u001b[0;34m[\u001b[0m\u001b[0;34m'color'\u001b[0m\u001b[0;34m]\u001b[0m \u001b[0;34m=\u001b[0m \u001b[0;34m'SRI/RRI'\u001b[0m\u001b[0;34m\u001b[0m\u001b[0;34m\u001b[0m\u001b[0m\n",
      "\u001b[0;31mModuleNotFoundError\u001b[0m: No module named 'plotly'"
     ]
    }
   ],
   "source": [
    "import plotly.express as px\n",
    "# visualize PCA https://plotly.com/python/pca-visualization/\n",
    "total_variance = pca.explained_variance_ratio_.sum() * 100\n",
    "labels = {str(i):f\"PC {i+1}\" for i in range(num_components)}\n",
    "labels['color'] = 'SRI/RRI'\n",
    "\n",
    "fig = px.scatter_matrix(\n",
    "    principalComponents,\n",
    "    dimensions=range(num_components),\n",
    "    labels=labels,\n",
    "    title=f'Total Explained Variance: {total_var:.2f}%',\n",
    ")\n",
    "\n",
    "fig.show()"
   ]
  },
  {
   "cell_type": "code",
   "execution_count": 58,
   "metadata": {},
   "outputs": [],
   "source": [
    "from sklearn.cluster import KMeans\n",
    "from sklearn.datasets import make_blobs\n"
   ]
  },
  {
   "cell_type": "code",
   "execution_count": null,
   "metadata": {},
   "outputs": [],
   "source": []
  }
 ],
 "metadata": {
  "kernelspec": {
   "display_name": "Python 3.8.5 ('base')",
   "language": "python",
   "name": "python3"
  },
  "language_info": {
   "codemirror_mode": {
    "name": "ipython",
    "version": 3
   },
   "file_extension": ".py",
   "mimetype": "text/x-python",
   "name": "python",
   "nbconvert_exporter": "python",
   "pygments_lexer": "ipython3",
   "version": "3.8.5"
  },
  "orig_nbformat": 4,
  "vscode": {
   "interpreter": {
    "hash": "70934bc914437f38bafd1eebdfa2d24d5f3b25bf4fff343c62b83b3e2fc1227d"
   }
  }
 },
 "nbformat": 4,
 "nbformat_minor": 2
}
